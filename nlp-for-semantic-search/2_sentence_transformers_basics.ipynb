{
  "nbformat": 4,
  "nbformat_minor": 0,
  "metadata": {
    "colab": {
      "name": "2-sentence-transformers-basics.ipynb",
      "provenance": [],
      "toc_visible": true,
      "authorship_tag": "ABX9TyPxbVQ4WdCq65rFKHtmajMo",
      "include_colab_link": true
    },
    "kernelspec": {
      "name": "python3",
      "display_name": "Python 3"
    },
    "language_info": {
      "name": "python"
    }
  },
  "cells": [
    {
      "cell_type": "markdown",
      "metadata": {
        "id": "view-in-github",
        "colab_type": "text"
      },
      "source": [
        "<a href=\"https://colab.research.google.com/github/rahiakela/nlp-research-and-practice/blob/main/nlp-for-semantic-search/2_sentence_transformers_basics.ipynb\" target=\"_parent\"><img src=\"https://colab.research.google.com/assets/colab-badge.svg\" alt=\"Open In Colab\"/></a>"
      ]
    },
    {
      "cell_type": "markdown",
      "source": [
        "##Sentence Transformers Basics"
      ],
      "metadata": {
        "id": "d8shS4NZwN74"
      }
    },
    {
      "cell_type": "markdown",
      "source": [
        "**Reference**:\n",
        "\n",
        "https://www.pinecone.io/learn/sentence-embeddings/#other-sentence-transformers\n"
      ],
      "metadata": {
        "id": "RYgjfmgYwYiw"
      }
    },
    {
      "cell_type": "markdown",
      "source": [
        "##Setup"
      ],
      "metadata": {
        "id": "PjlWPiY8wdBV"
      }
    },
    {
      "cell_type": "code",
      "source": [
        "%%capture\n",
        "\n",
        "!pip -q install sentence-transformers"
      ],
      "metadata": {
        "id": "x12108EhweAW"
      },
      "execution_count": null,
      "outputs": []
    },
    {
      "cell_type": "code",
      "source": [
        "from sentence_transformers import SentenceTransformer\n",
        "from sentence_transformers.util import cos_sim, dot_score, semantic_search\n",
        "\n",
        "import numpy as np\n",
        "import pandas as pd"
      ],
      "metadata": {
        "id": "csx62X6mwn0f"
      },
      "execution_count": null,
      "outputs": []
    },
    {
      "cell_type": "markdown",
      "source": [
        "##Getting Started with Sentence Transformers"
      ],
      "metadata": {
        "id": "9qTPyp7Yw2A3"
      }
    },
    {
      "cell_type": "markdown",
      "source": [
        "We will start with the original SBERT model `bert-base-nli-mean-tokens`.\n",
        "\n",
        "First, we download and initialize the model."
      ],
      "metadata": {
        "id": "oR8OPpDZw7f3"
      }
    },
    {
      "cell_type": "code",
      "source": [
        "model = SentenceTransformer(\"bert-base-nli-mean-tokens\")"
      ],
      "metadata": {
        "id": "LR8aw0Ldw92N"
      },
      "execution_count": null,
      "outputs": []
    },
    {
      "cell_type": "code",
      "source": [
        "model"
      ],
      "metadata": {
        "colab": {
          "base_uri": "https://localhost:8080/"
        },
        "id": "HDtQAZaUxE57",
        "outputId": "29961dfb-9e26-489b-f32c-716e9e14f00a"
      },
      "execution_count": null,
      "outputs": [
        {
          "output_type": "execute_result",
          "data": {
            "text/plain": [
              "SentenceTransformer(\n",
              "  (0): Transformer({'max_seq_length': 128, 'do_lower_case': False}) with Transformer model: BertModel \n",
              "  (1): Pooling({'word_embedding_dimension': 768, 'pooling_mode_cls_token': False, 'pooling_mode_mean_tokens': True, 'pooling_mode_max_tokens': False, 'pooling_mode_mean_sqrt_len_tokens': False})\n",
              ")"
            ]
          },
          "metadata": {},
          "execution_count": 4
        }
      ]
    },
    {
      "cell_type": "markdown",
      "source": [
        "The output we can see here is the `SentenceTransformer` object which contains three components:\n",
        "\n",
        "- The `transformer` itself, here we can see the max sequence length of 128 tokens and whether to lowercase any input (in this case, the model does not). We can also see the model class, `BertModel`.\n",
        "- The `pooling` operation, here we can see that we are producing a 768-dimensional sentence embedding. We are doing this using the mean pooling method.\n",
        "\n",
        "Once we have the model, building sentence embeddings is quickly done using the `encode` method."
      ],
      "metadata": {
        "id": "GVtZptt0xMLq"
      }
    },
    {
      "cell_type": "code",
      "source": [
        "sentences = [\n",
        "   \"the fifty mannequin heads floating in the pool kind of freaked them out\",\n",
        "    \"she swore she just saw her sushi move\",\n",
        "    \"he embraced his new life as an eggplant\",\n",
        "    \"my dentist tells me that chewing bricks is very bad for your teeth\",\n",
        "    \"the dental specialist recommended an immediate stop to flossing with construction materials\"\n",
        "]"
      ],
      "metadata": {
        "id": "jR0pUY9fxkwQ"
      },
      "execution_count": null,
      "outputs": []
    },
    {
      "cell_type": "code",
      "source": [
        "embeddings = model.encode(sentences)\n",
        "embeddings.shape"
      ],
      "metadata": {
        "colab": {
          "base_uri": "https://localhost:8080/"
        },
        "id": "SNF_lBmsxt_F",
        "outputId": "ae426e7d-2b14-4b3c-a653-602efab030ca"
      },
      "execution_count": null,
      "outputs": [
        {
          "output_type": "execute_result",
          "data": {
            "text/plain": [
              "(5, 768)"
            ]
          },
          "metadata": {},
          "execution_count": 6
        }
      ]
    },
    {
      "cell_type": "markdown",
      "source": [
        "We can put together a fast STS example using nothing more than a cosine similarity function and Numpy."
      ],
      "metadata": {
        "id": "dklSBF34x7Yi"
      }
    },
    {
      "cell_type": "code",
      "source": [
        "sim = np.zeros((len(sentences), len(sentences)))\n",
        "\n",
        "for i in range(len(sentences)):\n",
        "  sim[i:, i] = cos_sim(embeddings[i], embeddings[i:])\n",
        "\n",
        "sim"
      ],
      "metadata": {
        "colab": {
          "base_uri": "https://localhost:8080/"
        },
        "id": "z7r4prw_x7zP",
        "outputId": "76f22bc9-eb66-450c-bc5c-21a6c56adc3e"
      },
      "execution_count": null,
      "outputs": [
        {
          "output_type": "execute_result",
          "data": {
            "text/plain": [
              "array([[1.        , 0.        , 0.        , 0.        , 0.        ],\n",
              "       [0.40914321, 1.        , 0.        , 0.        , 0.        ],\n",
              "       [0.10909033, 0.44547975, 1.00000024, 0.        , 0.        ],\n",
              "       [0.50074875, 0.30693948, 0.20791672, 1.00000024, 0.        ],\n",
              "       [0.29936218, 0.38607219, 0.28499281, 0.63849497, 1.        ]])"
            ]
          },
          "metadata": {},
          "execution_count": 7
        }
      ]
    },
    {
      "cell_type": "markdown",
      "source": [
        "<img src='https://d33wubrfki0l68.cloudfront.net/0c2178d0eadcc9c5755526afda3322b0efbf0b87/8059a/images/sentence-embeddings-9.jpg?raw=1' width='600'/>\n",
        "\n",
        "Here we have calculated the cosine similarity between every combination of our five sentence embeddings. Which are:"
      ],
      "metadata": {
        "id": "DZO9M6Nxy4SN"
      }
    },
    {
      "cell_type": "code",
      "source": [
        "# Creating pandas dataframe from numpy array\n",
        "df = pd.DataFrame({\"Sentence\": sentences[:]})\n",
        "df"
      ],
      "metadata": {
        "colab": {
          "base_uri": "https://localhost:8080/",
          "height": 206
        },
        "id": "zZWMEH2AzXb0",
        "outputId": "508c40eb-36c9-4110-b13f-aaaadb7d20ff"
      },
      "execution_count": null,
      "outputs": [
        {
          "output_type": "execute_result",
          "data": {
            "text/plain": [
              "                                            Sentence\n",
              "0  the fifty mannequin heads floating in the pool...\n",
              "1              she swore she just saw her sushi move\n",
              "2            he embraced his new life as an eggplant\n",
              "3  my dentist tells me that chewing bricks is ver...\n",
              "4  the dental specialist recommended an immediate..."
            ],
            "text/html": [
              "\n",
              "  <div id=\"df-87dd6c34-0542-48c0-9b1a-3723b37c0513\" class=\"colab-df-container\">\n",
              "    <div>\n",
              "<style scoped>\n",
              "    .dataframe tbody tr th:only-of-type {\n",
              "        vertical-align: middle;\n",
              "    }\n",
              "\n",
              "    .dataframe tbody tr th {\n",
              "        vertical-align: top;\n",
              "    }\n",
              "\n",
              "    .dataframe thead th {\n",
              "        text-align: right;\n",
              "    }\n",
              "</style>\n",
              "<table border=\"1\" class=\"dataframe\">\n",
              "  <thead>\n",
              "    <tr style=\"text-align: right;\">\n",
              "      <th></th>\n",
              "      <th>Sentence</th>\n",
              "    </tr>\n",
              "  </thead>\n",
              "  <tbody>\n",
              "    <tr>\n",
              "      <th>0</th>\n",
              "      <td>the fifty mannequin heads floating in the pool...</td>\n",
              "    </tr>\n",
              "    <tr>\n",
              "      <th>1</th>\n",
              "      <td>she swore she just saw her sushi move</td>\n",
              "    </tr>\n",
              "    <tr>\n",
              "      <th>2</th>\n",
              "      <td>he embraced his new life as an eggplant</td>\n",
              "    </tr>\n",
              "    <tr>\n",
              "      <th>3</th>\n",
              "      <td>my dentist tells me that chewing bricks is ver...</td>\n",
              "    </tr>\n",
              "    <tr>\n",
              "      <th>4</th>\n",
              "      <td>the dental specialist recommended an immediate...</td>\n",
              "    </tr>\n",
              "  </tbody>\n",
              "</table>\n",
              "</div>\n",
              "    <div class=\"colab-df-buttons\">\n",
              "\n",
              "  <div class=\"colab-df-container\">\n",
              "    <button class=\"colab-df-convert\" onclick=\"convertToInteractive('df-87dd6c34-0542-48c0-9b1a-3723b37c0513')\"\n",
              "            title=\"Convert this dataframe to an interactive table.\"\n",
              "            style=\"display:none;\">\n",
              "\n",
              "  <svg xmlns=\"http://www.w3.org/2000/svg\" height=\"24px\" viewBox=\"0 -960 960 960\">\n",
              "    <path d=\"M120-120v-720h720v720H120Zm60-500h600v-160H180v160Zm220 220h160v-160H400v160Zm0 220h160v-160H400v160ZM180-400h160v-160H180v160Zm440 0h160v-160H620v160ZM180-180h160v-160H180v160Zm440 0h160v-160H620v160Z\"/>\n",
              "  </svg>\n",
              "    </button>\n",
              "\n",
              "  <style>\n",
              "    .colab-df-container {\n",
              "      display:flex;\n",
              "      gap: 12px;\n",
              "    }\n",
              "\n",
              "    .colab-df-convert {\n",
              "      background-color: #E8F0FE;\n",
              "      border: none;\n",
              "      border-radius: 50%;\n",
              "      cursor: pointer;\n",
              "      display: none;\n",
              "      fill: #1967D2;\n",
              "      height: 32px;\n",
              "      padding: 0 0 0 0;\n",
              "      width: 32px;\n",
              "    }\n",
              "\n",
              "    .colab-df-convert:hover {\n",
              "      background-color: #E2EBFA;\n",
              "      box-shadow: 0px 1px 2px rgba(60, 64, 67, 0.3), 0px 1px 3px 1px rgba(60, 64, 67, 0.15);\n",
              "      fill: #174EA6;\n",
              "    }\n",
              "\n",
              "    .colab-df-buttons div {\n",
              "      margin-bottom: 4px;\n",
              "    }\n",
              "\n",
              "    [theme=dark] .colab-df-convert {\n",
              "      background-color: #3B4455;\n",
              "      fill: #D2E3FC;\n",
              "    }\n",
              "\n",
              "    [theme=dark] .colab-df-convert:hover {\n",
              "      background-color: #434B5C;\n",
              "      box-shadow: 0px 1px 3px 1px rgba(0, 0, 0, 0.15);\n",
              "      filter: drop-shadow(0px 1px 2px rgba(0, 0, 0, 0.3));\n",
              "      fill: #FFFFFF;\n",
              "    }\n",
              "  </style>\n",
              "\n",
              "    <script>\n",
              "      const buttonEl =\n",
              "        document.querySelector('#df-87dd6c34-0542-48c0-9b1a-3723b37c0513 button.colab-df-convert');\n",
              "      buttonEl.style.display =\n",
              "        google.colab.kernel.accessAllowed ? 'block' : 'none';\n",
              "\n",
              "      async function convertToInteractive(key) {\n",
              "        const element = document.querySelector('#df-87dd6c34-0542-48c0-9b1a-3723b37c0513');\n",
              "        const dataTable =\n",
              "          await google.colab.kernel.invokeFunction('convertToInteractive',\n",
              "                                                    [key], {});\n",
              "        if (!dataTable) return;\n",
              "\n",
              "        const docLinkHtml = 'Like what you see? Visit the ' +\n",
              "          '<a target=\"_blank\" href=https://colab.research.google.com/notebooks/data_table.ipynb>data table notebook</a>'\n",
              "          + ' to learn more about interactive tables.';\n",
              "        element.innerHTML = '';\n",
              "        dataTable['output_type'] = 'display_data';\n",
              "        await google.colab.output.renderOutput(dataTable, element);\n",
              "        const docLink = document.createElement('div');\n",
              "        docLink.innerHTML = docLinkHtml;\n",
              "        element.appendChild(docLink);\n",
              "      }\n",
              "    </script>\n",
              "  </div>\n",
              "\n",
              "\n",
              "<div id=\"df-e1799e45-1a2d-49d5-9281-3bf12e92d2f9\">\n",
              "  <button class=\"colab-df-quickchart\" onclick=\"quickchart('df-e1799e45-1a2d-49d5-9281-3bf12e92d2f9')\"\n",
              "            title=\"Suggest charts.\"\n",
              "            style=\"display:none;\">\n",
              "\n",
              "<svg xmlns=\"http://www.w3.org/2000/svg\" height=\"24px\"viewBox=\"0 0 24 24\"\n",
              "     width=\"24px\">\n",
              "    <g>\n",
              "        <path d=\"M19 3H5c-1.1 0-2 .9-2 2v14c0 1.1.9 2 2 2h14c1.1 0 2-.9 2-2V5c0-1.1-.9-2-2-2zM9 17H7v-7h2v7zm4 0h-2V7h2v10zm4 0h-2v-4h2v4z\"/>\n",
              "    </g>\n",
              "</svg>\n",
              "  </button>\n",
              "\n",
              "<style>\n",
              "  .colab-df-quickchart {\n",
              "      --bg-color: #E8F0FE;\n",
              "      --fill-color: #1967D2;\n",
              "      --hover-bg-color: #E2EBFA;\n",
              "      --hover-fill-color: #174EA6;\n",
              "      --disabled-fill-color: #AAA;\n",
              "      --disabled-bg-color: #DDD;\n",
              "  }\n",
              "\n",
              "  [theme=dark] .colab-df-quickchart {\n",
              "      --bg-color: #3B4455;\n",
              "      --fill-color: #D2E3FC;\n",
              "      --hover-bg-color: #434B5C;\n",
              "      --hover-fill-color: #FFFFFF;\n",
              "      --disabled-bg-color: #3B4455;\n",
              "      --disabled-fill-color: #666;\n",
              "  }\n",
              "\n",
              "  .colab-df-quickchart {\n",
              "    background-color: var(--bg-color);\n",
              "    border: none;\n",
              "    border-radius: 50%;\n",
              "    cursor: pointer;\n",
              "    display: none;\n",
              "    fill: var(--fill-color);\n",
              "    height: 32px;\n",
              "    padding: 0;\n",
              "    width: 32px;\n",
              "  }\n",
              "\n",
              "  .colab-df-quickchart:hover {\n",
              "    background-color: var(--hover-bg-color);\n",
              "    box-shadow: 0 1px 2px rgba(60, 64, 67, 0.3), 0 1px 3px 1px rgba(60, 64, 67, 0.15);\n",
              "    fill: var(--button-hover-fill-color);\n",
              "  }\n",
              "\n",
              "  .colab-df-quickchart-complete:disabled,\n",
              "  .colab-df-quickchart-complete:disabled:hover {\n",
              "    background-color: var(--disabled-bg-color);\n",
              "    fill: var(--disabled-fill-color);\n",
              "    box-shadow: none;\n",
              "  }\n",
              "\n",
              "  .colab-df-spinner {\n",
              "    border: 2px solid var(--fill-color);\n",
              "    border-color: transparent;\n",
              "    border-bottom-color: var(--fill-color);\n",
              "    animation:\n",
              "      spin 1s steps(1) infinite;\n",
              "  }\n",
              "\n",
              "  @keyframes spin {\n",
              "    0% {\n",
              "      border-color: transparent;\n",
              "      border-bottom-color: var(--fill-color);\n",
              "      border-left-color: var(--fill-color);\n",
              "    }\n",
              "    20% {\n",
              "      border-color: transparent;\n",
              "      border-left-color: var(--fill-color);\n",
              "      border-top-color: var(--fill-color);\n",
              "    }\n",
              "    30% {\n",
              "      border-color: transparent;\n",
              "      border-left-color: var(--fill-color);\n",
              "      border-top-color: var(--fill-color);\n",
              "      border-right-color: var(--fill-color);\n",
              "    }\n",
              "    40% {\n",
              "      border-color: transparent;\n",
              "      border-right-color: var(--fill-color);\n",
              "      border-top-color: var(--fill-color);\n",
              "    }\n",
              "    60% {\n",
              "      border-color: transparent;\n",
              "      border-right-color: var(--fill-color);\n",
              "    }\n",
              "    80% {\n",
              "      border-color: transparent;\n",
              "      border-right-color: var(--fill-color);\n",
              "      border-bottom-color: var(--fill-color);\n",
              "    }\n",
              "    90% {\n",
              "      border-color: transparent;\n",
              "      border-bottom-color: var(--fill-color);\n",
              "    }\n",
              "  }\n",
              "</style>\n",
              "\n",
              "  <script>\n",
              "    async function quickchart(key) {\n",
              "      const quickchartButtonEl =\n",
              "        document.querySelector('#' + key + ' button');\n",
              "      quickchartButtonEl.disabled = true;  // To prevent multiple clicks.\n",
              "      quickchartButtonEl.classList.add('colab-df-spinner');\n",
              "      try {\n",
              "        const charts = await google.colab.kernel.invokeFunction(\n",
              "            'suggestCharts', [key], {});\n",
              "      } catch (error) {\n",
              "        console.error('Error during call to suggestCharts:', error);\n",
              "      }\n",
              "      quickchartButtonEl.classList.remove('colab-df-spinner');\n",
              "      quickchartButtonEl.classList.add('colab-df-quickchart-complete');\n",
              "    }\n",
              "    (() => {\n",
              "      let quickchartButtonEl =\n",
              "        document.querySelector('#df-e1799e45-1a2d-49d5-9281-3bf12e92d2f9 button');\n",
              "      quickchartButtonEl.style.display =\n",
              "        google.colab.kernel.accessAllowed ? 'block' : 'none';\n",
              "    })();\n",
              "  </script>\n",
              "</div>\n",
              "    </div>\n",
              "  </div>\n"
            ]
          },
          "metadata": {},
          "execution_count": 8
        }
      ]
    },
    {
      "cell_type": "markdown",
      "source": [
        "We can see the highest similarity score in the bottom-right corner with 0.64. As we would hope, this is for sentences 4 and 3, which both describe poor dental practices using construction materials.\n",
        "\n",
        "Let's find similiarity with another sentence."
      ],
      "metadata": {
        "id": "8rKgbOPY1WX4"
      }
    },
    {
      "cell_type": "code",
      "source": [
        "query_sentence = \"Dentist advise me for brushing every morning.\"\n",
        "query_embeddings = model.encode([query_sentence])\n",
        "query_embeddings.shape"
      ],
      "metadata": {
        "id": "gWR0KgiR7vMT",
        "outputId": "51696ae4-61ab-43bf-d07e-d823260d967f",
        "colab": {
          "base_uri": "https://localhost:8080/"
        }
      },
      "execution_count": null,
      "outputs": [
        {
          "output_type": "execute_result",
          "data": {
            "text/plain": [
              "(1, 768)"
            ]
          },
          "metadata": {},
          "execution_count": 10
        }
      ]
    },
    {
      "cell_type": "code",
      "source": [
        "match_scores = cos_sim(query_embeddings, embeddings)\n",
        "match_scores"
      ],
      "metadata": {
        "id": "P9e5fvii8OYV",
        "outputId": "6e40730f-66d8-4e57-c1d4-ddbe70d87bfd",
        "colab": {
          "base_uri": "https://localhost:8080/"
        }
      },
      "execution_count": null,
      "outputs": [
        {
          "output_type": "execute_result",
          "data": {
            "text/plain": [
              "tensor([[0.1861, 0.4667, 0.4662, 0.3910, 0.5217]])"
            ]
          },
          "metadata": {},
          "execution_count": 17
        }
      ]
    },
    {
      "cell_type": "code",
      "source": [
        "max(match_scores[0])"
      ],
      "metadata": {
        "id": "M3byarRo8lgm",
        "outputId": "956703dc-7322-40ac-91a1-38d577ecb943",
        "colab": {
          "base_uri": "https://localhost:8080/"
        }
      },
      "execution_count": null,
      "outputs": [
        {
          "output_type": "execute_result",
          "data": {
            "text/plain": [
              "tensor(0.5217)"
            ]
          },
          "metadata": {},
          "execution_count": 18
        }
      ]
    },
    {
      "cell_type": "code",
      "source": [
        "# get max index value\n",
        "max_idx = np.argmax(match_scores[0])\n",
        "match_scores[0][max_idx]"
      ],
      "metadata": {
        "id": "idXz_9Dz8ueb",
        "outputId": "bcf07c3e-e359-4ab2-c3c9-95665877887f",
        "colab": {
          "base_uri": "https://localhost:8080/"
        }
      },
      "execution_count": null,
      "outputs": [
        {
          "output_type": "execute_result",
          "data": {
            "text/plain": [
              "tensor(0.5217)"
            ]
          },
          "metadata": {},
          "execution_count": 22
        }
      ]
    },
    {
      "cell_type": "code",
      "source": [
        "sentences[max_idx]"
      ],
      "metadata": {
        "id": "DHC5UmLx9ytP",
        "outputId": "9426dbfc-53d9-4c1f-955b-3438f44efa72",
        "colab": {
          "base_uri": "https://localhost:8080/",
          "height": 35
        }
      },
      "execution_count": null,
      "outputs": [
        {
          "output_type": "execute_result",
          "data": {
            "text/plain": [
              "'the dental specialist recommended an immediate stop to flossing with construction materials'"
            ],
            "application/vnd.google.colaboratory.intrinsic+json": {
              "type": "string"
            }
          },
          "metadata": {},
          "execution_count": 23
        }
      ]
    },
    {
      "cell_type": "markdown",
      "source": [
        "##Other sentence-transformers"
      ],
      "metadata": {
        "id": "q7Vubet21oeh"
      }
    },
    {
      "cell_type": "markdown",
      "source": [
        "These newer models can significantly outperform the original SBERT."
      ],
      "metadata": {
        "id": "jemUcufE1pNN"
      }
    },
    {
      "cell_type": "code",
      "source": [
        "models = [\"all-mpnet-base-v2\", \"all-roberta-large-v1\", \"all-MiniLM-L12-v1\"]\n",
        "performances = [63.30, 53.05, 59.80]\n",
        "speed = [2800, 800, 7500]\n",
        "sizes = [418, 1355, 118]\n",
        "df = pd.DataFrame({\"Model\": models[:], \"Avg. Performance\": performances[:], \"Speed\": speed[:], \"Size(MB)\": sizes[:]})\n",
        "df"
      ],
      "metadata": {
        "colab": {
          "base_uri": "https://localhost:8080/",
          "height": 143
        },
        "id": "RE_FZ5O02EJp",
        "outputId": "34faa3d5-e734-46c5-9e1c-a77ce5ae8796"
      },
      "execution_count": null,
      "outputs": [
        {
          "output_type": "execute_result",
          "data": {
            "text/plain": [
              "                  Model  Avg. Performance  Speed  Size(MB)\n",
              "0     all-mpnet-base-v2             63.30   2800       418\n",
              "1  all-roberta-large-v1             53.05    800      1355\n",
              "2     all-MiniLM-L12-v1             59.80   7500       118"
            ],
            "text/html": [
              "\n",
              "  <div id=\"df-8f1a324e-d1ec-431e-b993-f2d23b872611\" class=\"colab-df-container\">\n",
              "    <div>\n",
              "<style scoped>\n",
              "    .dataframe tbody tr th:only-of-type {\n",
              "        vertical-align: middle;\n",
              "    }\n",
              "\n",
              "    .dataframe tbody tr th {\n",
              "        vertical-align: top;\n",
              "    }\n",
              "\n",
              "    .dataframe thead th {\n",
              "        text-align: right;\n",
              "    }\n",
              "</style>\n",
              "<table border=\"1\" class=\"dataframe\">\n",
              "  <thead>\n",
              "    <tr style=\"text-align: right;\">\n",
              "      <th></th>\n",
              "      <th>Model</th>\n",
              "      <th>Avg. Performance</th>\n",
              "      <th>Speed</th>\n",
              "      <th>Size(MB)</th>\n",
              "    </tr>\n",
              "  </thead>\n",
              "  <tbody>\n",
              "    <tr>\n",
              "      <th>0</th>\n",
              "      <td>all-mpnet-base-v2</td>\n",
              "      <td>63.30</td>\n",
              "      <td>2800</td>\n",
              "      <td>418</td>\n",
              "    </tr>\n",
              "    <tr>\n",
              "      <th>1</th>\n",
              "      <td>all-roberta-large-v1</td>\n",
              "      <td>53.05</td>\n",
              "      <td>800</td>\n",
              "      <td>1355</td>\n",
              "    </tr>\n",
              "    <tr>\n",
              "      <th>2</th>\n",
              "      <td>all-MiniLM-L12-v1</td>\n",
              "      <td>59.80</td>\n",
              "      <td>7500</td>\n",
              "      <td>118</td>\n",
              "    </tr>\n",
              "  </tbody>\n",
              "</table>\n",
              "</div>\n",
              "    <div class=\"colab-df-buttons\">\n",
              "\n",
              "  <div class=\"colab-df-container\">\n",
              "    <button class=\"colab-df-convert\" onclick=\"convertToInteractive('df-8f1a324e-d1ec-431e-b993-f2d23b872611')\"\n",
              "            title=\"Convert this dataframe to an interactive table.\"\n",
              "            style=\"display:none;\">\n",
              "\n",
              "  <svg xmlns=\"http://www.w3.org/2000/svg\" height=\"24px\" viewBox=\"0 -960 960 960\">\n",
              "    <path d=\"M120-120v-720h720v720H120Zm60-500h600v-160H180v160Zm220 220h160v-160H400v160Zm0 220h160v-160H400v160ZM180-400h160v-160H180v160Zm440 0h160v-160H620v160ZM180-180h160v-160H180v160Zm440 0h160v-160H620v160Z\"/>\n",
              "  </svg>\n",
              "    </button>\n",
              "\n",
              "  <style>\n",
              "    .colab-df-container {\n",
              "      display:flex;\n",
              "      gap: 12px;\n",
              "    }\n",
              "\n",
              "    .colab-df-convert {\n",
              "      background-color: #E8F0FE;\n",
              "      border: none;\n",
              "      border-radius: 50%;\n",
              "      cursor: pointer;\n",
              "      display: none;\n",
              "      fill: #1967D2;\n",
              "      height: 32px;\n",
              "      padding: 0 0 0 0;\n",
              "      width: 32px;\n",
              "    }\n",
              "\n",
              "    .colab-df-convert:hover {\n",
              "      background-color: #E2EBFA;\n",
              "      box-shadow: 0px 1px 2px rgba(60, 64, 67, 0.3), 0px 1px 3px 1px rgba(60, 64, 67, 0.15);\n",
              "      fill: #174EA6;\n",
              "    }\n",
              "\n",
              "    .colab-df-buttons div {\n",
              "      margin-bottom: 4px;\n",
              "    }\n",
              "\n",
              "    [theme=dark] .colab-df-convert {\n",
              "      background-color: #3B4455;\n",
              "      fill: #D2E3FC;\n",
              "    }\n",
              "\n",
              "    [theme=dark] .colab-df-convert:hover {\n",
              "      background-color: #434B5C;\n",
              "      box-shadow: 0px 1px 3px 1px rgba(0, 0, 0, 0.15);\n",
              "      filter: drop-shadow(0px 1px 2px rgba(0, 0, 0, 0.3));\n",
              "      fill: #FFFFFF;\n",
              "    }\n",
              "  </style>\n",
              "\n",
              "    <script>\n",
              "      const buttonEl =\n",
              "        document.querySelector('#df-8f1a324e-d1ec-431e-b993-f2d23b872611 button.colab-df-convert');\n",
              "      buttonEl.style.display =\n",
              "        google.colab.kernel.accessAllowed ? 'block' : 'none';\n",
              "\n",
              "      async function convertToInteractive(key) {\n",
              "        const element = document.querySelector('#df-8f1a324e-d1ec-431e-b993-f2d23b872611');\n",
              "        const dataTable =\n",
              "          await google.colab.kernel.invokeFunction('convertToInteractive',\n",
              "                                                    [key], {});\n",
              "        if (!dataTable) return;\n",
              "\n",
              "        const docLinkHtml = 'Like what you see? Visit the ' +\n",
              "          '<a target=\"_blank\" href=https://colab.research.google.com/notebooks/data_table.ipynb>data table notebook</a>'\n",
              "          + ' to learn more about interactive tables.';\n",
              "        element.innerHTML = '';\n",
              "        dataTable['output_type'] = 'display_data';\n",
              "        await google.colab.output.renderOutput(dataTable, element);\n",
              "        const docLink = document.createElement('div');\n",
              "        docLink.innerHTML = docLinkHtml;\n",
              "        element.appendChild(docLink);\n",
              "      }\n",
              "    </script>\n",
              "  </div>\n",
              "\n",
              "\n",
              "<div id=\"df-9272e45a-60f8-4b70-a2b8-af065d27ac05\">\n",
              "  <button class=\"colab-df-quickchart\" onclick=\"quickchart('df-9272e45a-60f8-4b70-a2b8-af065d27ac05')\"\n",
              "            title=\"Suggest charts.\"\n",
              "            style=\"display:none;\">\n",
              "\n",
              "<svg xmlns=\"http://www.w3.org/2000/svg\" height=\"24px\"viewBox=\"0 0 24 24\"\n",
              "     width=\"24px\">\n",
              "    <g>\n",
              "        <path d=\"M19 3H5c-1.1 0-2 .9-2 2v14c0 1.1.9 2 2 2h14c1.1 0 2-.9 2-2V5c0-1.1-.9-2-2-2zM9 17H7v-7h2v7zm4 0h-2V7h2v10zm4 0h-2v-4h2v4z\"/>\n",
              "    </g>\n",
              "</svg>\n",
              "  </button>\n",
              "\n",
              "<style>\n",
              "  .colab-df-quickchart {\n",
              "      --bg-color: #E8F0FE;\n",
              "      --fill-color: #1967D2;\n",
              "      --hover-bg-color: #E2EBFA;\n",
              "      --hover-fill-color: #174EA6;\n",
              "      --disabled-fill-color: #AAA;\n",
              "      --disabled-bg-color: #DDD;\n",
              "  }\n",
              "\n",
              "  [theme=dark] .colab-df-quickchart {\n",
              "      --bg-color: #3B4455;\n",
              "      --fill-color: #D2E3FC;\n",
              "      --hover-bg-color: #434B5C;\n",
              "      --hover-fill-color: #FFFFFF;\n",
              "      --disabled-bg-color: #3B4455;\n",
              "      --disabled-fill-color: #666;\n",
              "  }\n",
              "\n",
              "  .colab-df-quickchart {\n",
              "    background-color: var(--bg-color);\n",
              "    border: none;\n",
              "    border-radius: 50%;\n",
              "    cursor: pointer;\n",
              "    display: none;\n",
              "    fill: var(--fill-color);\n",
              "    height: 32px;\n",
              "    padding: 0;\n",
              "    width: 32px;\n",
              "  }\n",
              "\n",
              "  .colab-df-quickchart:hover {\n",
              "    background-color: var(--hover-bg-color);\n",
              "    box-shadow: 0 1px 2px rgba(60, 64, 67, 0.3), 0 1px 3px 1px rgba(60, 64, 67, 0.15);\n",
              "    fill: var(--button-hover-fill-color);\n",
              "  }\n",
              "\n",
              "  .colab-df-quickchart-complete:disabled,\n",
              "  .colab-df-quickchart-complete:disabled:hover {\n",
              "    background-color: var(--disabled-bg-color);\n",
              "    fill: var(--disabled-fill-color);\n",
              "    box-shadow: none;\n",
              "  }\n",
              "\n",
              "  .colab-df-spinner {\n",
              "    border: 2px solid var(--fill-color);\n",
              "    border-color: transparent;\n",
              "    border-bottom-color: var(--fill-color);\n",
              "    animation:\n",
              "      spin 1s steps(1) infinite;\n",
              "  }\n",
              "\n",
              "  @keyframes spin {\n",
              "    0% {\n",
              "      border-color: transparent;\n",
              "      border-bottom-color: var(--fill-color);\n",
              "      border-left-color: var(--fill-color);\n",
              "    }\n",
              "    20% {\n",
              "      border-color: transparent;\n",
              "      border-left-color: var(--fill-color);\n",
              "      border-top-color: var(--fill-color);\n",
              "    }\n",
              "    30% {\n",
              "      border-color: transparent;\n",
              "      border-left-color: var(--fill-color);\n",
              "      border-top-color: var(--fill-color);\n",
              "      border-right-color: var(--fill-color);\n",
              "    }\n",
              "    40% {\n",
              "      border-color: transparent;\n",
              "      border-right-color: var(--fill-color);\n",
              "      border-top-color: var(--fill-color);\n",
              "    }\n",
              "    60% {\n",
              "      border-color: transparent;\n",
              "      border-right-color: var(--fill-color);\n",
              "    }\n",
              "    80% {\n",
              "      border-color: transparent;\n",
              "      border-right-color: var(--fill-color);\n",
              "      border-bottom-color: var(--fill-color);\n",
              "    }\n",
              "    90% {\n",
              "      border-color: transparent;\n",
              "      border-bottom-color: var(--fill-color);\n",
              "    }\n",
              "  }\n",
              "</style>\n",
              "\n",
              "  <script>\n",
              "    async function quickchart(key) {\n",
              "      const quickchartButtonEl =\n",
              "        document.querySelector('#' + key + ' button');\n",
              "      quickchartButtonEl.disabled = true;  // To prevent multiple clicks.\n",
              "      quickchartButtonEl.classList.add('colab-df-spinner');\n",
              "      try {\n",
              "        const charts = await google.colab.kernel.invokeFunction(\n",
              "            'suggestCharts', [key], {});\n",
              "      } catch (error) {\n",
              "        console.error('Error during call to suggestCharts:', error);\n",
              "      }\n",
              "      quickchartButtonEl.classList.remove('colab-df-spinner');\n",
              "      quickchartButtonEl.classList.add('colab-df-quickchart-complete');\n",
              "    }\n",
              "    (() => {\n",
              "      let quickchartButtonEl =\n",
              "        document.querySelector('#df-9272e45a-60f8-4b70-a2b8-af065d27ac05 button');\n",
              "      quickchartButtonEl.style.display =\n",
              "        google.colab.kernel.accessAllowed ? 'block' : 'none';\n",
              "    })();\n",
              "  </script>\n",
              "</div>\n",
              "    </div>\n",
              "  </div>\n"
            ]
          },
          "metadata": {},
          "execution_count": 24
        }
      ]
    },
    {
      "cell_type": "markdown",
      "source": [
        "For now, let’s compare one of the highest performers and run through our STS task."
      ],
      "metadata": {
        "id": "Ujz_bdzV252Q"
      }
    },
    {
      "cell_type": "code",
      "source": [
        "mpnet = SentenceTransformer(\"all-mpnet-base-v2\")"
      ],
      "metadata": {
        "id": "t5-rx_yA26Wh"
      },
      "execution_count": null,
      "outputs": []
    },
    {
      "cell_type": "code",
      "source": [
        "mpnet"
      ],
      "metadata": {
        "colab": {
          "base_uri": "https://localhost:8080/"
        },
        "id": "J4PQowhX2_to",
        "outputId": "12fee4dc-7c5f-4637-8991-ea533303af30"
      },
      "execution_count": null,
      "outputs": [
        {
          "output_type": "execute_result",
          "data": {
            "text/plain": [
              "SentenceTransformer(\n",
              "  (0): Transformer({'max_seq_length': 384, 'do_lower_case': False}) with Transformer model: MPNetModel \n",
              "  (1): Pooling({'word_embedding_dimension': 768, 'pooling_mode_cls_token': False, 'pooling_mode_mean_tokens': True, 'pooling_mode_max_tokens': False, 'pooling_mode_mean_sqrt_len_tokens': False})\n",
              "  (2): Normalize()\n",
              ")"
            ]
          },
          "metadata": {},
          "execution_count": 26
        }
      ]
    },
    {
      "cell_type": "markdown",
      "source": [
        "Let’s compare the STS results of `all-mpnet-base-v2` against SBERT."
      ],
      "metadata": {
        "id": "UtqbCL6Y3KSx"
      }
    },
    {
      "cell_type": "code",
      "source": [
        "embeddings = mpnet.encode(sentences)\n",
        "\n",
        "sim = np.zeros((len(sentences), len(sentences)))\n",
        "\n",
        "for i in range(len(sentences)):\n",
        "  sim[i:, i] = cos_sim(embeddings[i], embeddings[i:])\n",
        "\n",
        "sim"
      ],
      "metadata": {
        "colab": {
          "base_uri": "https://localhost:8080/"
        },
        "id": "OvfTLViL3MBY",
        "outputId": "d2b36b6c-e152-41fb-e426-fa003332c91d"
      },
      "execution_count": null,
      "outputs": [
        {
          "output_type": "execute_result",
          "data": {
            "text/plain": [
              "array([[ 1.        ,  0.        ,  0.        ,  0.        ,  0.        ],\n",
              "       [ 0.26406282,  1.        ,  0.        ,  0.        ,  0.        ],\n",
              "       [ 0.16503504,  0.16126695,  1.        ,  0.        ,  0.        ],\n",
              "       [ 0.0433446 ,  0.04615873,  0.0567013 ,  1.        ,  0.        ],\n",
              "       [ 0.05398502,  0.06101182, -0.01122264,  0.51847196,  0.99999988]])"
            ]
          },
          "metadata": {},
          "execution_count": 27
        }
      ]
    },
    {
      "cell_type": "markdown",
      "source": [
        "<img src='https://d33wubrfki0l68.cloudfront.net/988cdd0f93df1ffebf12f96621ffdabf861684b1/f8cb5/images/sentence-embeddings-10.jpg?raw=1' width='600'/>\n",
        "\n",
        "The semantic representation of later models is apparent. Although SBERT correctly identifies 4 and 3 as the most similar pair, it also assigns reasonably high similarity to other sentence pairs.\n",
        "\n",
        "On the other hand, the MPNet model makes a very clear distinction between similar and dissimilar pairs, with most pairs scoring less than 0.1 and the 4-3 pair scored at 0.52."
      ],
      "metadata": {
        "id": "ZhJvDtYx3gxq"
      }
    },
    {
      "cell_type": "code",
      "source": [
        "query_sentence = \"Dentist advise me for brushing every morning.\"\n",
        "query_embeddings = mpnet.encode([query_sentence])\n",
        "query_embeddings.shape"
      ],
      "metadata": {
        "id": "a114riVs-a5h",
        "outputId": "13cc0f2e-65a6-467a-b248-b0cd3a393d86",
        "colab": {
          "base_uri": "https://localhost:8080/"
        }
      },
      "execution_count": null,
      "outputs": [
        {
          "output_type": "execute_result",
          "data": {
            "text/plain": [
              "(1, 768)"
            ]
          },
          "metadata": {},
          "execution_count": 28
        }
      ]
    },
    {
      "cell_type": "code",
      "source": [
        "match_scores = cos_sim(query_embeddings, embeddings)\n",
        "print(match_scores)\n",
        "\n",
        "# get max index value\n",
        "max_idx = np.argmax(match_scores[0])\n",
        "match_scores[0][max_idx]"
      ],
      "metadata": {
        "id": "ZA3pX-m0-fS1",
        "outputId": "76c7c20f-e042-471e-ae74-4ebc066b6259",
        "colab": {
          "base_uri": "https://localhost:8080/"
        }
      },
      "execution_count": null,
      "outputs": [
        {
          "output_type": "stream",
          "name": "stdout",
          "text": [
            "tensor([[-0.1487, -0.0028, -0.0794,  0.3850,  0.4791]])\n"
          ]
        },
        {
          "output_type": "execute_result",
          "data": {
            "text/plain": [
              "tensor(0.4791)"
            ]
          },
          "metadata": {},
          "execution_count": 29
        }
      ]
    },
    {
      "cell_type": "markdown",
      "source": [
        "###Roberta"
      ],
      "metadata": {
        "id": "xCAkZ0Wf-3sl"
      }
    },
    {
      "cell_type": "code",
      "source": [
        "all_roberta = SentenceTransformer(\"all-roberta-large-v1\")"
      ],
      "metadata": {
        "id": "5-L3EqGk-62I"
      },
      "execution_count": null,
      "outputs": []
    },
    {
      "cell_type": "code",
      "source": [
        "all_roberta"
      ],
      "metadata": {
        "id": "C5SB8p7i_A8o",
        "outputId": "ae1dcda4-1871-435b-a920-376347739141",
        "colab": {
          "base_uri": "https://localhost:8080/"
        }
      },
      "execution_count": null,
      "outputs": [
        {
          "output_type": "execute_result",
          "data": {
            "text/plain": [
              "SentenceTransformer(\n",
              "  (0): Transformer({'max_seq_length': 256, 'do_lower_case': False}) with Transformer model: RobertaModel \n",
              "  (1): Pooling({'word_embedding_dimension': 1024, 'pooling_mode_cls_token': False, 'pooling_mode_mean_tokens': True, 'pooling_mode_max_tokens': False, 'pooling_mode_mean_sqrt_len_tokens': False})\n",
              "  (2): Normalize()\n",
              ")"
            ]
          },
          "metadata": {},
          "execution_count": 31
        }
      ]
    },
    {
      "cell_type": "code",
      "source": [
        "embeddings = all_roberta.encode(sentences)\n",
        "\n",
        "sim = np.zeros((len(sentences), len(sentences)))\n",
        "\n",
        "for i in range(len(sentences)):\n",
        "  sim[i:, i] = cos_sim(embeddings[i], embeddings[i:])\n",
        "\n",
        "sim"
      ],
      "metadata": {
        "id": "maKS7W4P_FKS",
        "outputId": "ac10673a-4a16-4044-b903-b1b8fc1924c7",
        "colab": {
          "base_uri": "https://localhost:8080/"
        }
      },
      "execution_count": null,
      "outputs": [
        {
          "output_type": "execute_result",
          "data": {
            "text/plain": [
              "array([[1.        , 0.        , 0.        , 0.        , 0.        ],\n",
              "       [0.23111157, 1.        , 0.        , 0.        , 0.        ],\n",
              "       [0.23029339, 0.20125577, 1.00000012, 0.        , 0.        ],\n",
              "       [0.01426927, 0.00184732, 0.03006939, 1.        , 0.        ],\n",
              "       [0.09576994, 0.04095338, 0.06597304, 0.57448077, 0.99999994]])"
            ]
          },
          "metadata": {},
          "execution_count": 32
        }
      ]
    },
    {
      "cell_type": "code",
      "source": [
        "query_sentence = \"Dentist advise me for brushing every morning.\"\n",
        "query_embeddings = all_roberta.encode([query_sentence])\n",
        "query_embeddings.shape"
      ],
      "metadata": {
        "id": "ZrmhFei4_H7h",
        "outputId": "1dbbe636-59e8-4461-f4a7-5c4e444e2a69",
        "colab": {
          "base_uri": "https://localhost:8080/"
        }
      },
      "execution_count": null,
      "outputs": [
        {
          "output_type": "execute_result",
          "data": {
            "text/plain": [
              "(1, 1024)"
            ]
          },
          "metadata": {},
          "execution_count": 33
        }
      ]
    },
    {
      "cell_type": "code",
      "source": [
        "match_scores = cos_sim(query_embeddings, embeddings)\n",
        "print(match_scores)\n",
        "\n",
        "# get max index value\n",
        "max_idx = np.argmax(match_scores[0])\n",
        "match_scores[0][max_idx]"
      ],
      "metadata": {
        "id": "juWkGZcz_MEQ",
        "outputId": "596058ff-8999-47bf-fa64-ac840a89f163",
        "colab": {
          "base_uri": "https://localhost:8080/"
        }
      },
      "execution_count": null,
      "outputs": [
        {
          "output_type": "stream",
          "name": "stdout",
          "text": [
            "tensor([[-0.1120, -0.0761, -0.0563,  0.3797,  0.4866]])\n"
          ]
        },
        {
          "output_type": "execute_result",
          "data": {
            "text/plain": [
              "tensor(0.4866)"
            ]
          },
          "metadata": {},
          "execution_count": 34
        }
      ]
    },
    {
      "cell_type": "markdown",
      "source": [
        "###QA-MPNET"
      ],
      "metadata": {
        "id": "-Mc7PfXm_xIo"
      }
    },
    {
      "cell_type": "code",
      "source": [
        "qa_mpnet = SentenceTransformer(\"multi-qa-mpnet-base-dot-v1\")"
      ],
      "metadata": {
        "id": "ATFkfFMU_1UU"
      },
      "execution_count": null,
      "outputs": []
    },
    {
      "cell_type": "code",
      "source": [
        "qa_mpnet"
      ],
      "metadata": {
        "id": "WDBfV_vq_-VR",
        "outputId": "e6313d30-35f3-456a-f701-db6021536da0",
        "colab": {
          "base_uri": "https://localhost:8080/"
        }
      },
      "execution_count": null,
      "outputs": [
        {
          "output_type": "execute_result",
          "data": {
            "text/plain": [
              "SentenceTransformer(\n",
              "  (0): Transformer({'max_seq_length': 512, 'do_lower_case': False}) with Transformer model: MPNetModel \n",
              "  (1): Pooling({'word_embedding_dimension': 768, 'pooling_mode_cls_token': True, 'pooling_mode_mean_tokens': False, 'pooling_mode_max_tokens': False, 'pooling_mode_mean_sqrt_len_tokens': False})\n",
              ")"
            ]
          },
          "metadata": {},
          "execution_count": 36
        }
      ]
    },
    {
      "cell_type": "code",
      "source": [
        "embeddings = qa_mpnet.encode(sentences)\n",
        "\n",
        "sim = np.zeros((len(sentences), len(sentences)))\n",
        "\n",
        "for i in range(len(sentences)):\n",
        "  sim[i:, i] = cos_sim(embeddings[i], embeddings[i:])\n",
        "\n",
        "sim"
      ],
      "metadata": {
        "id": "mLIXDGxeAdST",
        "outputId": "0cbe17b5-a1de-4c05-95cf-5609913665f3",
        "colab": {
          "base_uri": "https://localhost:8080/"
        }
      },
      "execution_count": null,
      "outputs": [
        {
          "output_type": "execute_result",
          "data": {
            "text/plain": [
              "array([[1.        , 0.        , 0.        , 0.        , 0.        ],\n",
              "       [0.36049125, 1.        , 0.        , 0.        , 0.        ],\n",
              "       [0.25880259, 0.32780212, 0.99999994, 0.        , 0.        ],\n",
              "       [0.1674559 , 0.18139821, 0.19321227, 0.99999994, 0.        ],\n",
              "       [0.21915776, 0.21057791, 0.17050785, 0.49836704, 1.        ]])"
            ]
          },
          "metadata": {},
          "execution_count": 37
        }
      ]
    },
    {
      "cell_type": "code",
      "source": [
        "query_sentence = \"Dentist advise me for brushing every morning.\"\n",
        "query_embeddings = qa_mpnet.encode([query_sentence])\n",
        "query_embeddings.shape"
      ],
      "metadata": {
        "id": "GZX6y3NgAfK3",
        "outputId": "3d14445e-861a-4e93-8915-08d4321afb39",
        "colab": {
          "base_uri": "https://localhost:8080/"
        }
      },
      "execution_count": null,
      "outputs": [
        {
          "output_type": "execute_result",
          "data": {
            "text/plain": [
              "(1, 768)"
            ]
          },
          "metadata": {},
          "execution_count": 38
        }
      ]
    },
    {
      "cell_type": "code",
      "source": [
        "match_scores = cos_sim(query_embeddings, embeddings)\n",
        "print(match_scores)\n",
        "\n",
        "# get max index value\n",
        "max_idx = np.argmax(match_scores[0])\n",
        "match_scores[0][max_idx]"
      ],
      "metadata": {
        "id": "q-RA-_8oAj8Z",
        "outputId": "317650e1-1cb3-400c-bed5-32dafd83f3f1",
        "colab": {
          "base_uri": "https://localhost:8080/"
        }
      },
      "execution_count": null,
      "outputs": [
        {
          "output_type": "stream",
          "name": "stdout",
          "text": [
            "tensor([[0.1042, 0.1929, 0.1514, 0.4884, 0.5005]])\n"
          ]
        },
        {
          "output_type": "execute_result",
          "data": {
            "text/plain": [
              "tensor(0.5005)"
            ]
          },
          "metadata": {},
          "execution_count": 39
        }
      ]
    },
    {
      "cell_type": "markdown",
      "source": [
        "###Multi QA Model"
      ],
      "metadata": {
        "id": "jAq1hrMBBOXb"
      }
    },
    {
      "cell_type": "code",
      "source": [
        "model = SentenceTransformer('multi-qa-MiniLM-L6-cos-v1')"
      ],
      "metadata": {
        "id": "XjBMJ-9kBRAQ"
      },
      "execution_count": null,
      "outputs": []
    },
    {
      "cell_type": "code",
      "source": [
        "query_embedding = model.encode('How big is London')\n",
        "passage_embedding = model.encode(['London has 9,787,426 inhabitants at the 2011 census',\n",
        "                                  'London is known for its finacial district'])\n",
        "\n",
        "print(\"Similarity:\", dot_score(query_embedding, passage_embedding))\n",
        "print(\"Similarity:\", semantic_search(query_embedding, passage_embedding))"
      ],
      "metadata": {
        "id": "kJrB2ZulBTHJ",
        "outputId": "2458fd51-ac7b-4bcf-bc7c-60d3cffbe30f",
        "colab": {
          "base_uri": "https://localhost:8080/"
        }
      },
      "execution_count": null,
      "outputs": [
        {
          "output_type": "stream",
          "name": "stdout",
          "text": [
            "Similarity: tensor([[0.5472, 0.6330]])\n",
            "Similarity: [[{'corpus_id': 1, 'score': 0.6329753398895264}, {'corpus_id': 0, 'score': 0.5472491979598999}]]\n"
          ]
        }
      ]
    },
    {
      "cell_type": "code",
      "source": [
        "embeddings = model.encode(sentences)"
      ],
      "metadata": {
        "id": "moIzHzntBwWM"
      },
      "execution_count": null,
      "outputs": []
    },
    {
      "cell_type": "code",
      "source": [
        "query_sentence = \"Dentist advise me for brushing every morning.\"\n",
        "query_embeddings = model.encode([query_sentence])\n",
        "query_embeddings.shape"
      ],
      "metadata": {
        "id": "3LsP9BCHBsuZ",
        "outputId": "aeb4085c-f7de-43bf-9fa5-cdb13fcd5ce5",
        "colab": {
          "base_uri": "https://localhost:8080/"
        }
      },
      "execution_count": null,
      "outputs": [
        {
          "output_type": "execute_result",
          "data": {
            "text/plain": [
              "(1, 384)"
            ]
          },
          "metadata": {},
          "execution_count": 45
        }
      ]
    },
    {
      "cell_type": "code",
      "source": [
        "print(\"Similarity:\", dot_score(query_embeddings, embeddings))\n",
        "print(\"Similarity:\", semantic_search(query_embeddings, embeddings))"
      ],
      "metadata": {
        "id": "mQLI7HiMB7Gy",
        "outputId": "12d68a63-b272-42fa-8204-82498d5a61d6",
        "colab": {
          "base_uri": "https://localhost:8080/"
        }
      },
      "execution_count": null,
      "outputs": [
        {
          "output_type": "stream",
          "name": "stdout",
          "text": [
            "Similarity: tensor([[-0.0323, -0.0472,  0.0586,  0.4577,  0.4823]])\n",
            "Similarity: [[{'corpus_id': 4, 'score': 0.4823361039161682}, {'corpus_id': 3, 'score': 0.457660436630249}, {'corpus_id': 2, 'score': 0.058604899793863297}, {'corpus_id': 0, 'score': -0.032317135483026505}, {'corpus_id': 1, 'score': -0.04716726765036583}]]\n"
          ]
        }
      ]
    }
  ]
}