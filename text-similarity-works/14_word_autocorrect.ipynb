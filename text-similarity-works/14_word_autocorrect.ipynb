{
  "nbformat": 4,
  "nbformat_minor": 0,
  "metadata": {
    "colab": {
      "provenance": [],
      "toc_visible": true,
      "authorship_tag": "ABX9TyNBHXWpGJzrqXmmWjoCWmOj",
      "include_colab_link": true
    },
    "kernelspec": {
      "name": "python3",
      "display_name": "Python 3"
    },
    "language_info": {
      "name": "python"
    }
  },
  "cells": [
    {
      "cell_type": "markdown",
      "metadata": {
        "id": "view-in-github",
        "colab_type": "text"
      },
      "source": [
        "<a href=\"https://colab.research.google.com/github/rahiakela/natural-language-processing-research-and-practice/blob/main/text-similarity-works/14_word_autocorrect.ipynb\" target=\"_parent\"><img src=\"https://colab.research.google.com/assets/colab-badge.svg\" alt=\"Open In Colab\"/></a>"
      ]
    },
    {
      "cell_type": "markdown",
      "source": [
        "##Word Autocorrect"
      ],
      "metadata": {
        "id": "JMIrX1qk8yQy"
      }
    },
    {
      "cell_type": "markdown",
      "source": [
        "**Reference**:\n",
        "\n",
        "https://www.section.io/engineering-education/building-autocorrect-feature-using-nlp-with-python/\n",
        "\n",
        "https://thecleverprogrammer.com/2020/10/04/autocorrect-with-python/\n",
        "\n",
        "https://www.geeksforgeeks.org/spelling-checker-in-python/"
      ],
      "metadata": {
        "id": "vWGtE9kbG0N3"
      }
    },
    {
      "cell_type": "markdown",
      "source": [
        "##Setup"
      ],
      "metadata": {
        "id": "XV7RWjbmH2hC"
      }
    },
    {
      "cell_type": "code",
      "source": [
        "%%shell\n",
        "\n",
        "pip install pattern\n",
        "pip install pyspellchecker\n",
        "pip install autocorrect\n",
        "pip install textblob\n",
        "pip install textdistance"
      ],
      "metadata": {
        "id": "kfzK7DPf9JTd"
      },
      "execution_count": null,
      "outputs": []
    },
    {
      "cell_type": "code",
      "source": [
        "!wget https://github.com/dentex22/Autocorrect_System/raw/main/sample.txt"
      ],
      "metadata": {
        "id": "kO79CWp8H_sC"
      },
      "execution_count": null,
      "outputs": []
    },
    {
      "cell_type": "code",
      "source": [
        "import re  # regular expression\n",
        "from collections import Counter\n",
        "import numpy as np\n",
        "import pandas as pd"
      ],
      "metadata": {
        "id": "ud8YP2DoHr6B"
      },
      "execution_count": 3,
      "outputs": []
    },
    {
      "cell_type": "markdown",
      "source": [
        "##Data Preprocessing"
      ],
      "metadata": {
        "id": "Md64nAdNH4nC"
      }
    },
    {
      "cell_type": "code",
      "source": [
        "\"\"\"\n",
        "Here, we do the followings things:\n",
        "\n",
        "1. Reads in a corpus \n",
        "2. Changes everything to lowercase\n",
        "3. Returns a list of words\n",
        "\"\"\"\n",
        "words = []\n",
        "\n",
        "with open(\"sample.txt\", \"r\", encoding=\"utf8\") as f:\n",
        "  word = f.read()\n",
        "  word = word.lower()\n",
        "  words = re.findall(\"\\w+\", word)\n",
        "\n",
        "# vocabulary\n",
        "vocab = set(words)\n",
        "print(f\"The first 10 words in our dictionary are: \\n{words[0:10]}\")\n",
        "print(f\"The dictionary has {len(vocab)} words.\")"
      ],
      "metadata": {
        "colab": {
          "base_uri": "https://localhost:8080/"
        },
        "id": "4quU9_tOH6pI",
        "outputId": "ab2a6fa6-c3fd-4d71-df45-aed7a8bdf568"
      },
      "execution_count": 5,
      "outputs": [
        {
          "output_type": "stream",
          "name": "stdout",
          "text": [
            "The first 10 words in our dictionary are: \n",
            "['a', 'ability', 'able', 'about', 'above', 'accept', 'according', 'account', 'across', 'act']\n",
            "The dictionary has 1001 words.\n"
          ]
        }
      ]
    },
    {
      "cell_type": "markdown",
      "source": [
        "##Utility functions"
      ],
      "metadata": {
        "id": "M16brRF6OLZb"
      }
    },
    {
      "cell_type": "code",
      "source": [
        "# Let's find the frequency of the words\n",
        "def get_word_count(words):\n",
        "  word_count_dict = {}\n",
        "  for word in words:\n",
        "    if word in word_count_dict:\n",
        "      word_count_dict[word] += 1\n",
        "    else:\n",
        "      word_count_dict[word] = 1\n",
        "  return word_count_dict \n",
        "\n",
        "word_count_dict = get_word_count(words)\n",
        "print(f\"There are {len(word_count_dict)} key values pairs.\")"
      ],
      "metadata": {
        "colab": {
          "base_uri": "https://localhost:8080/"
        },
        "id": "YlebFRuGMbB2",
        "outputId": "ab93c504-3cd4-4e46-b7ab-223843bafca5"
      },
      "execution_count": 7,
      "outputs": [
        {
          "output_type": "stream",
          "name": "stdout",
          "text": [
            "There are 1001 key values pairs.\n"
          ]
        }
      ]
    },
    {
      "cell_type": "code",
      "source": [
        "# Let's calculate the probability that any word will appear if randomly selected from the dictionary\n",
        "def get_probs(word_count_dict):\n",
        "  probs = {}\n",
        "  total_word = sum(word_count_dict.values())\n",
        "  for key in word_count_dict.keys():\n",
        "    probs[key] = word_count_dict[key] / total_word\n",
        "  return probs"
      ],
      "metadata": {
        "id": "frO_C2y3NMiZ"
      },
      "execution_count": 8,
      "outputs": []
    },
    {
      "cell_type": "code",
      "source": [
        "\"\"\"\n",
        "Now we implement 4 edit word functions\n",
        "\n",
        "1. delete_letter:removes a letter from a given word\n",
        "2. SwitchLetter:swap two adjacent letters\n",
        "3. replace_letter: changes one letter to another\n",
        "4. insert_letter: adds additional characters\n",
        "\"\"\"\n",
        "\n",
        "def delete_letter(word):\n",
        "  delete_list = []\n",
        "  split_list = []\n",
        "  for i in range(len(word)):\n",
        "    split_list.append((word[0:i], word[i:]))\n",
        "  for a, b in split_list:\n",
        "    delete_list.append(a + b[1:])\n",
        "  return delete_list"
      ],
      "metadata": {
        "id": "HMcbqS15OVRi"
      },
      "execution_count": 11,
      "outputs": []
    },
    {
      "cell_type": "code",
      "source": [
        "print(delete_letter(word=\"cans\"))"
      ],
      "metadata": {
        "colab": {
          "base_uri": "https://localhost:8080/"
        },
        "id": "PQv5_ZpLRKPw",
        "outputId": "6af4f966-0c79-417d-b4ec-a8bb55b0af49"
      },
      "execution_count": 12,
      "outputs": [
        {
          "output_type": "stream",
          "name": "stdout",
          "text": [
            "['ans', 'cns', 'cas', 'can']\n"
          ]
        }
      ]
    },
    {
      "cell_type": "code",
      "source": [
        "delete_letter(word=\"trash\")"
      ],
      "metadata": {
        "colab": {
          "base_uri": "https://localhost:8080/"
        },
        "id": "q43n2babRMK3",
        "outputId": "b4752169-f6b1-42bd-f01a-9b9fd564ae0b"
      },
      "execution_count": 13,
      "outputs": [
        {
          "output_type": "execute_result",
          "data": {
            "text/plain": [
              "['rash', 'tash', 'trsh', 'trah', 'tras']"
            ]
          },
          "metadata": {},
          "execution_count": 13
        }
      ]
    },
    {
      "cell_type": "code",
      "source": [
        "def switch_letter(word):\n",
        "  split_letter = []\n",
        "  switch_letter = []\n",
        "  for i in range(len(word)):\n",
        "    split_letter.append((word[0:i], word[i:]))\n",
        "  switch_letter = [a + b[1] + b[0] + b[2:] for a, b in split_letter if len(b) >= 2]\n",
        "  return switch_letter"
      ],
      "metadata": {
        "id": "yICfMYpgRUb_"
      },
      "execution_count": 15,
      "outputs": []
    },
    {
      "cell_type": "code",
      "source": [
        "print(switch_letter(\"trash\"))"
      ],
      "metadata": {
        "colab": {
          "base_uri": "https://localhost:8080/"
        },
        "id": "1DD737WCRod9",
        "outputId": "79e65a90-da84-43e3-b817-1d0106f3bab9"
      },
      "execution_count": 16,
      "outputs": [
        {
          "output_type": "stream",
          "name": "stdout",
          "text": [
            "['rtash', 'tarsh', 'trsah', 'trahs']\n"
          ]
        }
      ]
    },
    {
      "cell_type": "code",
      "source": [
        "def replace_letter(word):\n",
        "  split_letter = []\n",
        "  replace_list = []\n",
        "  for i in range(len(word)):\n",
        "    split_letter.append((word[0:i], word[i:]))\n",
        "  alphabets = \"abcdefghijklmnopqrstuvwxyz\"\n",
        "  replace_list = [a + letter + (b[1:] if len(b) > 1 else \"\") for a, b in split_letter if b for letter in alphabets]\n",
        "  return replace_list"
      ],
      "metadata": {
        "id": "kLbKVmm2SWOV"
      },
      "execution_count": 17,
      "outputs": []
    },
    {
      "cell_type": "code",
      "source": [
        "print(replace_letter(\"trash\"))"
      ],
      "metadata": {
        "colab": {
          "base_uri": "https://localhost:8080/"
        },
        "id": "T62ypZB-TPT_",
        "outputId": "45889b25-756f-4ca0-e125-12ac69aadbf0"
      },
      "execution_count": 18,
      "outputs": [
        {
          "output_type": "stream",
          "name": "stdout",
          "text": [
            "['arash', 'brash', 'crash', 'drash', 'erash', 'frash', 'grash', 'hrash', 'irash', 'jrash', 'krash', 'lrash', 'mrash', 'nrash', 'orash', 'prash', 'qrash', 'rrash', 'srash', 'trash', 'urash', 'vrash', 'wrash', 'xrash', 'yrash', 'zrash', 'taash', 'tbash', 'tcash', 'tdash', 'teash', 'tfash', 'tgash', 'thash', 'tiash', 'tjash', 'tkash', 'tlash', 'tmash', 'tnash', 'toash', 'tpash', 'tqash', 'trash', 'tsash', 'ttash', 'tuash', 'tvash', 'twash', 'txash', 'tyash', 'tzash', 'trash', 'trbsh', 'trcsh', 'trdsh', 'tresh', 'trfsh', 'trgsh', 'trhsh', 'trish', 'trjsh', 'trksh', 'trlsh', 'trmsh', 'trnsh', 'trosh', 'trpsh', 'trqsh', 'trrsh', 'trssh', 'trtsh', 'trush', 'trvsh', 'trwsh', 'trxsh', 'trysh', 'trzsh', 'traah', 'trabh', 'trach', 'tradh', 'traeh', 'trafh', 'tragh', 'trahh', 'traih', 'trajh', 'trakh', 'tralh', 'tramh', 'tranh', 'traoh', 'traph', 'traqh', 'trarh', 'trash', 'trath', 'trauh', 'travh', 'trawh', 'traxh', 'trayh', 'trazh', 'trasa', 'trasb', 'trasc', 'trasd', 'trase', 'trasf', 'trasg', 'trash', 'trasi', 'trasj', 'trask', 'trasl', 'trasm', 'trasn', 'traso', 'trasp', 'trasq', 'trasr', 'trass', 'trast', 'trasu', 'trasv', 'trasw', 'trasx', 'trasy', 'trasz']\n"
          ]
        }
      ]
    },
    {
      "cell_type": "code",
      "source": [
        "def insert_letter(word):\n",
        "  split_letter = []\n",
        "  insert_list = []\n",
        "  for i in range(len(word) + 1):\n",
        "    split_letter.append((word[0:i], word[i:]))\n",
        "  alphabets = \"abcdefghijklmnopqrstuvwxyz\"\n",
        "  insert_list = [a + letter + b for a, b in split_letter if b for letter in alphabets]\n",
        "  return insert_list"
      ],
      "metadata": {
        "id": "0pE1-iJGTgdr"
      },
      "execution_count": 19,
      "outputs": []
    },
    {
      "cell_type": "code",
      "source": [
        "print(insert_letter(\"trash\"))"
      ],
      "metadata": {
        "colab": {
          "base_uri": "https://localhost:8080/"
        },
        "id": "BfuU6YEhT--b",
        "outputId": "85df588b-6c6b-42fd-a4fb-517d9e1bc664"
      },
      "execution_count": 20,
      "outputs": [
        {
          "output_type": "stream",
          "name": "stdout",
          "text": [
            "['atrash', 'btrash', 'ctrash', 'dtrash', 'etrash', 'ftrash', 'gtrash', 'htrash', 'itrash', 'jtrash', 'ktrash', 'ltrash', 'mtrash', 'ntrash', 'otrash', 'ptrash', 'qtrash', 'rtrash', 'strash', 'ttrash', 'utrash', 'vtrash', 'wtrash', 'xtrash', 'ytrash', 'ztrash', 'tarash', 'tbrash', 'tcrash', 'tdrash', 'terash', 'tfrash', 'tgrash', 'thrash', 'tirash', 'tjrash', 'tkrash', 'tlrash', 'tmrash', 'tnrash', 'torash', 'tprash', 'tqrash', 'trrash', 'tsrash', 'ttrash', 'turash', 'tvrash', 'twrash', 'txrash', 'tyrash', 'tzrash', 'traash', 'trbash', 'trcash', 'trdash', 'treash', 'trfash', 'trgash', 'trhash', 'triash', 'trjash', 'trkash', 'trlash', 'trmash', 'trnash', 'troash', 'trpash', 'trqash', 'trrash', 'trsash', 'trtash', 'truash', 'trvash', 'trwash', 'trxash', 'tryash', 'trzash', 'traash', 'trabsh', 'tracsh', 'tradsh', 'traesh', 'trafsh', 'tragsh', 'trahsh', 'traish', 'trajsh', 'traksh', 'tralsh', 'tramsh', 'transh', 'traosh', 'trapsh', 'traqsh', 'trarsh', 'trassh', 'tratsh', 'traush', 'travsh', 'trawsh', 'traxsh', 'traysh', 'trazsh', 'trasah', 'trasbh', 'trasch', 'trasdh', 'traseh', 'trasfh', 'trasgh', 'trashh', 'trasih', 'trasjh', 'traskh', 'traslh', 'trasmh', 'trasnh', 'trasoh', 'trasph', 'trasqh', 'trasrh', 'trassh', 'trasth', 'trasuh', 'trasvh', 'traswh', 'trasxh', 'trasyh', 'traszh']\n"
          ]
        }
      ]
    },
    {
      "cell_type": "markdown",
      "source": [
        "We then combine these edit functions to allow the autocorrect features, like delete, replace, insert, and swap the letters."
      ],
      "metadata": {
        "id": "kiST7yw2UQk5"
      }
    },
    {
      "cell_type": "code",
      "source": [
        "def edit_one_letter(word, allow_switches=True):\n",
        "  edit_set = set()\n",
        "  edit_set.update(delete_letter(word))\n",
        "  if allow_switches:\n",
        "    edit_set.update(switch_letter(word))\n",
        "  edit_set.update(replace_letter(word))\n",
        "  edit_set.update(insert_letter(word))\n",
        "  return edit_set\n",
        "\n",
        "def edit_two_letters(word, allow_switches=True):\n",
        "  edit_set2 = set()\n",
        "  edit_one = edit_one_letter(word, allow_switches=allow_switches)\n",
        "  for w in edit_one:\n",
        "    if w:\n",
        "      edit_two = edit_one_letter(w, allow_switches=allow_switches)\n",
        "      edit_set2.update(edit_two)\n",
        "  return edit_set2"
      ],
      "metadata": {
        "id": "_zg077ruUSYq"
      },
      "execution_count": 21,
      "outputs": []
    },
    {
      "cell_type": "markdown",
      "source": [
        "##Autocorrect word"
      ],
      "metadata": {
        "id": "6z7RZm2tl1rL"
      }
    },
    {
      "cell_type": "code",
      "source": [
        "def get_corrections(word, probs, vocabs, n=2):\n",
        "  suggested_word = []\n",
        "  best_suggestion = []\n",
        "\n",
        "  suggested_word = list(\n",
        "    (word in vocabs and word) \n",
        "      or edit_one_letter(word).intersection(vocabs)\n",
        "      or edit_two_letters(word).intersection(vocabs)\n",
        "  )\n",
        "\n",
        "  best_suggestion = [[s, probs[s]] for s in list(reversed(suggested_word))]\n",
        "  return best_suggestion"
      ],
      "metadata": {
        "id": "EsF8lua8ktMH"
      },
      "execution_count": 22,
      "outputs": []
    },
    {
      "cell_type": "code",
      "source": [
        "probs = get_probs(word_count_dict)\n",
        "tmp_corrections = get_corrections(\"daed\", probs, vocab, 2)\n",
        "for i, word_prob in enumerate(tmp_corrections):\n",
        "  print(f\"word {i}: {word_prob[0]}, probability {word_prob[1] * 100:.6f}\")"
      ],
      "metadata": {
        "colab": {
          "base_uri": "https://localhost:8080/"
        },
        "id": "S4GOj3V2nMfy",
        "outputId": "02df54c4-2c4d-40c3-8c33-91590512fc5d"
      },
      "execution_count": 24,
      "outputs": [
        {
          "output_type": "stream",
          "name": "stdout",
          "text": [
            "word 0: dead, probability 0.099900\n"
          ]
        }
      ]
    },
    {
      "cell_type": "code",
      "source": [
        "tmp_corrections = get_corrections(\"correct\", probs, vocab, 2)\n",
        "for i, word_prob in enumerate(tmp_corrections):\n",
        "  print(f\"word {i}: {word_prob[0]}, probability {word_prob[1] * 100 :.6f}\")"
      ],
      "metadata": {
        "colab": {
          "base_uri": "https://localhost:8080/"
        },
        "id": "uwVmM6Q2oOq0",
        "outputId": "8e06c77c-7208-48d0-f584-8339394441b8"
      },
      "execution_count": 30,
      "outputs": [
        {
          "output_type": "stream",
          "name": "stdout",
          "text": [
            "word 0: current, probability 0.099900\n"
          ]
        }
      ]
    }
  ]
}