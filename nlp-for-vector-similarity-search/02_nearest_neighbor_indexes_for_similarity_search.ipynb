{
  "nbformat": 4,
  "nbformat_minor": 0,
  "metadata": {
    "colab": {
      "provenance": [],
      "toc_visible": true,
      "authorship_tag": "ABX9TyMvxZDBcsxhfof4bxZJrSuF",
      "include_colab_link": true
    },
    "kernelspec": {
      "name": "python3",
      "display_name": "Python 3"
    },
    "language_info": {
      "name": "python"
    }
  },
  "cells": [
    {
      "cell_type": "markdown",
      "metadata": {
        "id": "view-in-github",
        "colab_type": "text"
      },
      "source": [
        "<a href=\"https://colab.research.google.com/github/rahiakela/nlp-research-and-practice/blob/main/nlp-for-vector-similarity-search/02_nearest_neighbor_indexes_for_similarity_search.ipynb\" target=\"_parent\"><img src=\"https://colab.research.google.com/assets/colab-badge.svg\" alt=\"Open In Colab\"/></a>"
      ]
    },
    {
      "cell_type": "markdown",
      "source": [
        "##Nearest Neighbor Indexes for Similarity Search"
      ],
      "metadata": {
        "id": "BLPPphUi0c57"
      }
    },
    {
      "cell_type": "markdown",
      "source": [
        "**Reference**\n",
        "\n",
        "[Nearest Neighbor Indexes for Similarity Search](https://www.pinecone.io/learn/vector-indexes/)"
      ],
      "metadata": {
        "id": "275UI25f0iHO"
      }
    },
    {
      "cell_type": "markdown",
      "source": [
        "##Setup"
      ],
      "metadata": {
        "id": "APSRq6kS0oIH"
      }
    },
    {
      "cell_type": "code",
      "source": [
        "!pip install faiss-cpu\n",
        "!pip install -U sentence-transformers"
      ],
      "metadata": {
        "id": "N1Pj5L0k1wi_"
      },
      "execution_count": null,
      "outputs": []
    },
    {
      "cell_type": "code",
      "source": [
        "import shutil\n",
        "import urllib.request as request\n",
        "from contextlib import closing\n",
        "from io import StringIO\n",
        "import pandas as pd\n",
        "import numpy as np\n",
        "import tarfile\n",
        "\n",
        "from sentence_transformers import SentenceTransformer\n",
        "\n",
        "import faiss"
      ],
      "metadata": {
        "id": "yTbeoQNg0pH0"
      },
      "execution_count": null,
      "outputs": []
    },
    {
      "cell_type": "markdown",
      "source": [
        "##Dataset"
      ],
      "metadata": {
        "id": "oNMFeczI2Yxo"
      }
    },
    {
      "cell_type": "code",
      "source": [
        "# first we download the Sift1M dataset\n",
        "with closing(request.urlopen(\"ftp://ftp.irisa.fr/local/texmex/corpus/sift.tar.gz\")) as res:\n",
        "  with open(\"sift.tar.gz\", \"wb\") as f:\n",
        "    shutil.copyfileobj(res, f)"
      ],
      "metadata": {
        "id": "B3tO9mGJ2aQR"
      },
      "execution_count": null,
      "outputs": []
    },
    {
      "cell_type": "code",
      "source": [
        "# download leaves us with a tar.gz file, we unzip it\n",
        "tar = tarfile.open(\"sift.tar.gz\", \"r:gz\")\n",
        "tar.extractall()"
      ],
      "metadata": {
        "id": "uK1ulgEB2q0E"
      },
      "execution_count": null,
      "outputs": []
    },
    {
      "cell_type": "code",
      "source": [
        "# now define a function to read the fvecs file format of Sift1M dataset\n",
        "def read_fvecs(fp):\n",
        "  a = np.fromfile(fp, \"int32\")\n",
        "  d = a[0]\n",
        "  return a.reshape(-1, d + 1)[:, 1:].copy().view(\"float32\")"
      ],
      "metadata": {
        "id": "UstnqIgy2y12"
      },
      "execution_count": null,
      "outputs": []
    },
    {
      "cell_type": "code",
      "source": [
        "#  data we will search through\n",
        "xb = read_fvecs(\"./sift/sift_base.fvecs\")  # 1M samples\n",
        "# also get some query vectors to search with\n",
        "xq = read_fvecs('./sift/sift_query.fvecs')\n",
        "# take just one query (there are many in sift_learn.fvecs)\n",
        "xq = xq[0].reshape(1, xq.shape[1])"
      ],
      "metadata": {
        "id": "3JPsgqZ34KrS"
      },
      "execution_count": null,
      "outputs": []
    },
    {
      "cell_type": "code",
      "source": [
        "xq.shape"
      ],
      "metadata": {
        "colab": {
          "base_uri": "https://localhost:8080/"
        },
        "id": "V-R6isB44xWX",
        "outputId": "b576db8a-b01d-4222-867e-314339e60e55"
      },
      "execution_count": null,
      "outputs": [
        {
          "output_type": "execute_result",
          "data": {
            "text/plain": [
              "(1, 128)"
            ]
          },
          "metadata": {},
          "execution_count": 7
        }
      ]
    },
    {
      "cell_type": "code",
      "source": [
        "xb.shape"
      ],
      "metadata": {
        "colab": {
          "base_uri": "https://localhost:8080/"
        },
        "id": "ADGm57pWtddP",
        "outputId": "19ce5c6b-d80a-40b4-aa0f-de11e3fd95da"
      },
      "execution_count": null,
      "outputs": [
        {
          "output_type": "execute_result",
          "data": {
            "text/plain": [
              "(1000000, 128)"
            ]
          },
          "metadata": {},
          "execution_count": 8
        }
      ]
    },
    {
      "cell_type": "code",
      "source": [
        "xq"
      ],
      "metadata": {
        "colab": {
          "base_uri": "https://localhost:8080/"
        },
        "id": "mBy_F34ntgEc",
        "outputId": "30004bb3-97a3-43fb-fbea-46f684c15aec"
      },
      "execution_count": null,
      "outputs": [
        {
          "output_type": "execute_result",
          "data": {
            "text/plain": [
              "array([[  1.,   3.,  11., 110.,  62.,  22.,   4.,   0.,  43.,  21.,  22.,\n",
              "         18.,   6.,  28.,  64.,   9.,  11.,   1.,   0.,   0.,   1.,  40.,\n",
              "        101.,  21.,  20.,   2.,   4.,   2.,   2.,   9.,  18.,  35.,   1.,\n",
              "          1.,   7.,  25., 108., 116.,  63.,   2.,   0.,   0.,  11.,  74.,\n",
              "         40., 101., 116.,   3.,  33.,   1.,   1.,  11.,  14.,  18., 116.,\n",
              "        116.,  68.,  12.,   5.,   4.,   2.,   2.,   9., 102.,  17.,   3.,\n",
              "         10.,  18.,   8.,  15.,  67.,  63.,  15.,   0.,  14., 116.,  80.,\n",
              "          0.,   2.,  22.,  96.,  37.,  28.,  88.,  43.,   1.,   4.,  18.,\n",
              "        116.,  51.,   5.,  11.,  32.,  14.,   8.,  23.,  44.,  17.,  12.,\n",
              "          9.,   0.,   0.,  19.,  37.,  85.,  18.,  16., 104.,  22.,   6.,\n",
              "          2.,  26.,  12.,  58.,  67.,  82.,  25.,  12.,   2.,   2.,  25.,\n",
              "         18.,   8.,   2.,  19.,  42.,  48.,  11.]], dtype=float32)"
            ]
          },
          "metadata": {},
          "execution_count": 9
        }
      ]
    },
    {
      "cell_type": "markdown",
      "source": [
        "##Flat Index"
      ],
      "metadata": {
        "id": "eg2N1oht6SEL"
      }
    },
    {
      "cell_type": "code",
      "source": [
        "# dimensionality of Sift1M data\n",
        "d = 128\n",
        "# number of nearest neighbors to return\n",
        "k = 10"
      ],
      "metadata": {
        "id": "vAchL50l6SqS"
      },
      "execution_count": null,
      "outputs": []
    },
    {
      "cell_type": "code",
      "source": [
        "# initialize IndexFlatL2 index\n",
        "index = faiss.IndexFlatIP(d)\n",
        "index.add(xb)"
      ],
      "metadata": {
        "id": "6HBEVNIR7eT2"
      },
      "execution_count": null,
      "outputs": []
    },
    {
      "cell_type": "code",
      "source": [
        "%%time\n",
        "\n",
        "# search\n",
        "D, I = index.search(xq, k)\n",
        "print(I)"
      ],
      "metadata": {
        "colab": {
          "base_uri": "https://localhost:8080/"
        },
        "id": "Gf6FqD9WG9AN",
        "outputId": "be19032d-caa2-422c-9cfa-a0a36cb7bd28"
      },
      "execution_count": null,
      "outputs": [
        {
          "output_type": "stream",
          "name": "stdout",
          "text": [
            "[[932085 934876 561813 708177 706771 695756 435345 701258 872728 455537]]\n",
            "CPU times: user 33.7 ms, sys: 136 µs, total: 33.8 ms\n",
            "Wall time: 34.1 ms\n"
          ]
        }
      ]
    },
    {
      "cell_type": "code",
      "source": [
        "# [f'{i}: {sentences[i]}' for i in I[0]]"
      ],
      "metadata": {
        "id": "ZNqTcmj-WMdD"
      },
      "execution_count": null,
      "outputs": []
    },
    {
      "cell_type": "markdown",
      "source": [
        "## Locality Sensitive Hashing"
      ],
      "metadata": {
        "id": "bGs6OE0gH1by"
      }
    },
    {
      "cell_type": "code",
      "source": [
        "# resolution of bucketed vectors\n",
        "nbits = d * 4\n",
        "\n",
        "# initialize index and add vectors\n",
        "index = faiss.IndexLSH(d, nbits)\n",
        "index.add(xb)\n",
        "\n",
        "# search\n",
        "D, I = index.search(xq, k)"
      ],
      "metadata": {
        "id": "DZNlU8ZMHl-9"
      },
      "execution_count": null,
      "outputs": []
    },
    {
      "cell_type": "code",
      "source": [
        "print(I)"
      ],
      "metadata": {
        "id": "x5VYDE1cJ0rZ",
        "colab": {
          "base_uri": "https://localhost:8080/"
        },
        "outputId": "02036a9c-ede7-4eb8-b3bf-4657c061a656"
      },
      "execution_count": null,
      "outputs": [
        {
          "output_type": "stream",
          "name": "stdout",
          "text": [
            "[[435345 931632 708177 813701 934876 455537 932085 561813 248185 361496]]\n"
          ]
        }
      ]
    },
    {
      "cell_type": "markdown",
      "source": [
        "##HNSW Implementation"
      ],
      "metadata": {
        "id": "RZFfNDYiJs0C"
      }
    },
    {
      "cell_type": "code",
      "source": [
        "# set HNSW index parameters\n",
        "M = 64                # number of connections each vertex will have\n",
        "ef_search = 32        # depth of layers explored during search\n",
        "ef_construction = 64  # depth of layers explored during index construction\n",
        "\n",
        "# initialize index (d == 128)\n",
        "index = faiss.IndexHNSWFlat(d, M)\n",
        "# set efConstruction and efSearch parameters\n",
        "index.hnsw.efConstruction = ef_construction\n",
        "index.hnsw.efSearch = ef_search\n",
        "\n",
        "# add data to index\n",
        "index.add(xb)\n",
        "\n",
        "# search as usual\n",
        "D, I = index.search(xq, k)\n",
        "print(I)"
      ],
      "metadata": {
        "id": "mdXMe--TJtf6",
        "outputId": "ea133482-4ff2-4f64-c629-5e9807109999",
        "colab": {
          "base_uri": "https://localhost:8080/"
        }
      },
      "execution_count": null,
      "outputs": [
        {
          "output_type": "stream",
          "name": "stdout",
          "text": [
            "[[932085 934876 561813 708177 706771 695756 435345 701258 455537 872728]]\n"
          ]
        }
      ]
    },
    {
      "cell_type": "markdown",
      "source": [
        "##Inverted File Index"
      ],
      "metadata": {
        "id": "xMl-vX04kv4l"
      }
    },
    {
      "cell_type": "code",
      "source": [],
      "metadata": {
        "id": "o037RBl0kwe8"
      },
      "execution_count": null,
      "outputs": []
    }
  ]
}