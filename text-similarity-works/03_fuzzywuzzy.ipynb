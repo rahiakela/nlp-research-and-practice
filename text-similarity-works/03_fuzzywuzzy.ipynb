{
  "nbformat": 4,
  "nbformat_minor": 0,
  "metadata": {
    "colab": {
      "provenance": [],
      "toc_visible": true,
      "authorship_tag": "ABX9TyNZ+IDAqWG1o5tfvsyxXw4n",
      "include_colab_link": true
    },
    "kernelspec": {
      "name": "python3",
      "display_name": "Python 3"
    },
    "language_info": {
      "name": "python"
    }
  },
  "cells": [
    {
      "cell_type": "markdown",
      "metadata": {
        "id": "view-in-github",
        "colab_type": "text"
      },
      "source": [
        "<a href=\"https://colab.research.google.com/github/rahiakela/natural-language-processing-research-and-practice/blob/main/text-similarity-works/03_fuzzywuzzy.ipynb\" target=\"_parent\"><img src=\"https://colab.research.google.com/assets/colab-badge.svg\" alt=\"Open In Colab\"/></a>"
      ]
    },
    {
      "cell_type": "markdown",
      "source": [
        "##Setup"
      ],
      "metadata": {
        "id": "73ORkeFzaRA4"
      }
    },
    {
      "cell_type": "code",
      "source": [
        "!pip install fuzzywuzzy\n",
        "!pip install python-Levenshtein"
      ],
      "metadata": {
        "id": "Ti6ZynbyaR9l"
      },
      "execution_count": null,
      "outputs": []
    },
    {
      "cell_type": "code",
      "source": [
        "import pandas as pd\n",
        "import numpy as np\n",
        "import re\n",
        "\n",
        "import pdb\n",
        "\n",
        "from fuzzywuzzy import fuzz\n",
        "from fuzzywuzzy import process"
      ],
      "metadata": {
        "id": "fAcHTn0JaM2S"
      },
      "execution_count": 5,
      "outputs": []
    },
    {
      "cell_type": "markdown",
      "source": [
        "##Loading data"
      ],
      "metadata": {
        "id": "Nmvfy_yyack8"
      }
    },
    {
      "cell_type": "code",
      "source": [
        "keyword_df = pd.read_csv(\"keywords.csv\")\n",
        "keyword_df.head()"
      ],
      "metadata": {
        "colab": {
          "base_uri": "https://localhost:8080/",
          "height": 206
        },
        "id": "4AUZhG-mac-c",
        "outputId": "2f64154e-fc28-4502-b889-44be69debc88"
      },
      "execution_count": 6,
      "outputs": [
        {
          "output_type": "execute_result",
          "data": {
            "text/plain": [
              "  CATEGORY0    CATEGORY1 CATEGORY2             SYNID  \\\n",
              "0  Keywords  Respiratory       NaN  KW-rESPIRATORY01   \n",
              "1  Keywords      Alcohol   Alcohol     KW-ALCOHOL184   \n",
              "2  Keywords      Alcohol   Alcohol     KW-ALCOHOL185   \n",
              "3  Keywords      Alcohol   Alcohol     KW-ALCOHOL186   \n",
              "4  Keywords      Alcohol   Alcohol     KW-ALCOHOL187   \n",
              "\n",
              "                        KEYWORDS  \n",
              "0                    Respiratory  \n",
              "1        struggling with alcohol  \n",
              "2        suspected alcohol abuse  \n",
              "3  taking medication for alcohol  \n",
              "4                       tequilla  "
            ],
            "text/html": [
              "\n",
              "  <div id=\"df-f3ec5ed9-7b06-4472-a88b-1524ba3ff540\">\n",
              "    <div class=\"colab-df-container\">\n",
              "      <div>\n",
              "<style scoped>\n",
              "    .dataframe tbody tr th:only-of-type {\n",
              "        vertical-align: middle;\n",
              "    }\n",
              "\n",
              "    .dataframe tbody tr th {\n",
              "        vertical-align: top;\n",
              "    }\n",
              "\n",
              "    .dataframe thead th {\n",
              "        text-align: right;\n",
              "    }\n",
              "</style>\n",
              "<table border=\"1\" class=\"dataframe\">\n",
              "  <thead>\n",
              "    <tr style=\"text-align: right;\">\n",
              "      <th></th>\n",
              "      <th>CATEGORY0</th>\n",
              "      <th>CATEGORY1</th>\n",
              "      <th>CATEGORY2</th>\n",
              "      <th>SYNID</th>\n",
              "      <th>KEYWORDS</th>\n",
              "    </tr>\n",
              "  </thead>\n",
              "  <tbody>\n",
              "    <tr>\n",
              "      <th>0</th>\n",
              "      <td>Keywords</td>\n",
              "      <td>Respiratory</td>\n",
              "      <td>NaN</td>\n",
              "      <td>KW-rESPIRATORY01</td>\n",
              "      <td>Respiratory</td>\n",
              "    </tr>\n",
              "    <tr>\n",
              "      <th>1</th>\n",
              "      <td>Keywords</td>\n",
              "      <td>Alcohol</td>\n",
              "      <td>Alcohol</td>\n",
              "      <td>KW-ALCOHOL184</td>\n",
              "      <td>struggling with alcohol</td>\n",
              "    </tr>\n",
              "    <tr>\n",
              "      <th>2</th>\n",
              "      <td>Keywords</td>\n",
              "      <td>Alcohol</td>\n",
              "      <td>Alcohol</td>\n",
              "      <td>KW-ALCOHOL185</td>\n",
              "      <td>suspected alcohol abuse</td>\n",
              "    </tr>\n",
              "    <tr>\n",
              "      <th>3</th>\n",
              "      <td>Keywords</td>\n",
              "      <td>Alcohol</td>\n",
              "      <td>Alcohol</td>\n",
              "      <td>KW-ALCOHOL186</td>\n",
              "      <td>taking medication for alcohol</td>\n",
              "    </tr>\n",
              "    <tr>\n",
              "      <th>4</th>\n",
              "      <td>Keywords</td>\n",
              "      <td>Alcohol</td>\n",
              "      <td>Alcohol</td>\n",
              "      <td>KW-ALCOHOL187</td>\n",
              "      <td>tequilla</td>\n",
              "    </tr>\n",
              "  </tbody>\n",
              "</table>\n",
              "</div>\n",
              "      <button class=\"colab-df-convert\" onclick=\"convertToInteractive('df-f3ec5ed9-7b06-4472-a88b-1524ba3ff540')\"\n",
              "              title=\"Convert this dataframe to an interactive table.\"\n",
              "              style=\"display:none;\">\n",
              "        \n",
              "  <svg xmlns=\"http://www.w3.org/2000/svg\" height=\"24px\"viewBox=\"0 0 24 24\"\n",
              "       width=\"24px\">\n",
              "    <path d=\"M0 0h24v24H0V0z\" fill=\"none\"/>\n",
              "    <path d=\"M18.56 5.44l.94 2.06.94-2.06 2.06-.94-2.06-.94-.94-2.06-.94 2.06-2.06.94zm-11 1L8.5 8.5l.94-2.06 2.06-.94-2.06-.94L8.5 2.5l-.94 2.06-2.06.94zm10 10l.94 2.06.94-2.06 2.06-.94-2.06-.94-.94-2.06-.94 2.06-2.06.94z\"/><path d=\"M17.41 7.96l-1.37-1.37c-.4-.4-.92-.59-1.43-.59-.52 0-1.04.2-1.43.59L10.3 9.45l-7.72 7.72c-.78.78-.78 2.05 0 2.83L4 21.41c.39.39.9.59 1.41.59.51 0 1.02-.2 1.41-.59l7.78-7.78 2.81-2.81c.8-.78.8-2.07 0-2.86zM5.41 20L4 18.59l7.72-7.72 1.47 1.35L5.41 20z\"/>\n",
              "  </svg>\n",
              "      </button>\n",
              "      \n",
              "  <style>\n",
              "    .colab-df-container {\n",
              "      display:flex;\n",
              "      flex-wrap:wrap;\n",
              "      gap: 12px;\n",
              "    }\n",
              "\n",
              "    .colab-df-convert {\n",
              "      background-color: #E8F0FE;\n",
              "      border: none;\n",
              "      border-radius: 50%;\n",
              "      cursor: pointer;\n",
              "      display: none;\n",
              "      fill: #1967D2;\n",
              "      height: 32px;\n",
              "      padding: 0 0 0 0;\n",
              "      width: 32px;\n",
              "    }\n",
              "\n",
              "    .colab-df-convert:hover {\n",
              "      background-color: #E2EBFA;\n",
              "      box-shadow: 0px 1px 2px rgba(60, 64, 67, 0.3), 0px 1px 3px 1px rgba(60, 64, 67, 0.15);\n",
              "      fill: #174EA6;\n",
              "    }\n",
              "\n",
              "    [theme=dark] .colab-df-convert {\n",
              "      background-color: #3B4455;\n",
              "      fill: #D2E3FC;\n",
              "    }\n",
              "\n",
              "    [theme=dark] .colab-df-convert:hover {\n",
              "      background-color: #434B5C;\n",
              "      box-shadow: 0px 1px 3px 1px rgba(0, 0, 0, 0.15);\n",
              "      filter: drop-shadow(0px 1px 2px rgba(0, 0, 0, 0.3));\n",
              "      fill: #FFFFFF;\n",
              "    }\n",
              "  </style>\n",
              "\n",
              "      <script>\n",
              "        const buttonEl =\n",
              "          document.querySelector('#df-f3ec5ed9-7b06-4472-a88b-1524ba3ff540 button.colab-df-convert');\n",
              "        buttonEl.style.display =\n",
              "          google.colab.kernel.accessAllowed ? 'block' : 'none';\n",
              "\n",
              "        async function convertToInteractive(key) {\n",
              "          const element = document.querySelector('#df-f3ec5ed9-7b06-4472-a88b-1524ba3ff540');\n",
              "          const dataTable =\n",
              "            await google.colab.kernel.invokeFunction('convertToInteractive',\n",
              "                                                     [key], {});\n",
              "          if (!dataTable) return;\n",
              "\n",
              "          const docLinkHtml = 'Like what you see? Visit the ' +\n",
              "            '<a target=\"_blank\" href=https://colab.research.google.com/notebooks/data_table.ipynb>data table notebook</a>'\n",
              "            + ' to learn more about interactive tables.';\n",
              "          element.innerHTML = '';\n",
              "          dataTable['output_type'] = 'display_data';\n",
              "          await google.colab.output.renderOutput(dataTable, element);\n",
              "          const docLink = document.createElement('div');\n",
              "          docLink.innerHTML = docLinkHtml;\n",
              "          element.appendChild(docLink);\n",
              "        }\n",
              "      </script>\n",
              "    </div>\n",
              "  </div>\n",
              "  "
            ]
          },
          "metadata": {},
          "execution_count": 6
        }
      ]
    },
    {
      "cell_type": "code",
      "source": [
        "ocr_sample = pd.read_csv(\"ocr_page.csv\", encoding=\"cp1252\")\n",
        "ocr_sample.head()"
      ],
      "metadata": {
        "colab": {
          "base_uri": "https://localhost:8080/",
          "height": 206
        },
        "id": "CT188q3PalG5",
        "outputId": "1d319847-eac8-4baa-d730-f02f7ad210db"
      },
      "execution_count": 7,
      "outputs": [
        {
          "output_type": "execute_result",
          "data": {
            "text/plain": [
              "   PAGEID                                        OCR_CONTENT  \\\n",
              "0  104707  PACIFIC LIFE INSURANCE COMPANY\\n\\nLife Insuran...   \n",
              "1  104708   \\r\\n\\r\\nTEMPORARY INSURANCE AGREEMENT (TIA)\\r...   \n",
              "2  104709  PACIFIC LIFE INSURANCE COMPANY\\r\\n\\r\\nLife Ins...   \n",
              "3  104710   \\n\\nNON-FORFEITURE PREMIUM CESSATION OPTIONS ...   \n",
              "4  104711   \\n\\nADDITIONAL POLICYOWNER (If more than one ...   \n",
              "\n",
              "                    LOAD_TIMESTAMP  \n",
              "0  26-JAN-22 07.04.57.000000000 PM  \n",
              "1  26-JAN-22 07.04.57.000000000 PM  \n",
              "2  26-JAN-22 07.04.57.000000000 PM  \n",
              "3  26-JAN-22 07.04.57.000000000 PM  \n",
              "4  26-JAN-22 07.04.57.000000000 PM  "
            ],
            "text/html": [
              "\n",
              "  <div id=\"df-3cf5cabf-92f0-41aa-9140-4124f63cb71a\">\n",
              "    <div class=\"colab-df-container\">\n",
              "      <div>\n",
              "<style scoped>\n",
              "    .dataframe tbody tr th:only-of-type {\n",
              "        vertical-align: middle;\n",
              "    }\n",
              "\n",
              "    .dataframe tbody tr th {\n",
              "        vertical-align: top;\n",
              "    }\n",
              "\n",
              "    .dataframe thead th {\n",
              "        text-align: right;\n",
              "    }\n",
              "</style>\n",
              "<table border=\"1\" class=\"dataframe\">\n",
              "  <thead>\n",
              "    <tr style=\"text-align: right;\">\n",
              "      <th></th>\n",
              "      <th>PAGEID</th>\n",
              "      <th>OCR_CONTENT</th>\n",
              "      <th>LOAD_TIMESTAMP</th>\n",
              "    </tr>\n",
              "  </thead>\n",
              "  <tbody>\n",
              "    <tr>\n",
              "      <th>0</th>\n",
              "      <td>104707</td>\n",
              "      <td>PACIFIC LIFE INSURANCE COMPANY\\n\\nLife Insuran...</td>\n",
              "      <td>26-JAN-22 07.04.57.000000000 PM</td>\n",
              "    </tr>\n",
              "    <tr>\n",
              "      <th>1</th>\n",
              "      <td>104708</td>\n",
              "      <td>\\r\\n\\r\\nTEMPORARY INSURANCE AGREEMENT (TIA)\\r...</td>\n",
              "      <td>26-JAN-22 07.04.57.000000000 PM</td>\n",
              "    </tr>\n",
              "    <tr>\n",
              "      <th>2</th>\n",
              "      <td>104709</td>\n",
              "      <td>PACIFIC LIFE INSURANCE COMPANY\\r\\n\\r\\nLife Ins...</td>\n",
              "      <td>26-JAN-22 07.04.57.000000000 PM</td>\n",
              "    </tr>\n",
              "    <tr>\n",
              "      <th>3</th>\n",
              "      <td>104710</td>\n",
              "      <td>\\n\\nNON-FORFEITURE PREMIUM CESSATION OPTIONS ...</td>\n",
              "      <td>26-JAN-22 07.04.57.000000000 PM</td>\n",
              "    </tr>\n",
              "    <tr>\n",
              "      <th>4</th>\n",
              "      <td>104711</td>\n",
              "      <td>\\n\\nADDITIONAL POLICYOWNER (If more than one ...</td>\n",
              "      <td>26-JAN-22 07.04.57.000000000 PM</td>\n",
              "    </tr>\n",
              "  </tbody>\n",
              "</table>\n",
              "</div>\n",
              "      <button class=\"colab-df-convert\" onclick=\"convertToInteractive('df-3cf5cabf-92f0-41aa-9140-4124f63cb71a')\"\n",
              "              title=\"Convert this dataframe to an interactive table.\"\n",
              "              style=\"display:none;\">\n",
              "        \n",
              "  <svg xmlns=\"http://www.w3.org/2000/svg\" height=\"24px\"viewBox=\"0 0 24 24\"\n",
              "       width=\"24px\">\n",
              "    <path d=\"M0 0h24v24H0V0z\" fill=\"none\"/>\n",
              "    <path d=\"M18.56 5.44l.94 2.06.94-2.06 2.06-.94-2.06-.94-.94-2.06-.94 2.06-2.06.94zm-11 1L8.5 8.5l.94-2.06 2.06-.94-2.06-.94L8.5 2.5l-.94 2.06-2.06.94zm10 10l.94 2.06.94-2.06 2.06-.94-2.06-.94-.94-2.06-.94 2.06-2.06.94z\"/><path d=\"M17.41 7.96l-1.37-1.37c-.4-.4-.92-.59-1.43-.59-.52 0-1.04.2-1.43.59L10.3 9.45l-7.72 7.72c-.78.78-.78 2.05 0 2.83L4 21.41c.39.39.9.59 1.41.59.51 0 1.02-.2 1.41-.59l7.78-7.78 2.81-2.81c.8-.78.8-2.07 0-2.86zM5.41 20L4 18.59l7.72-7.72 1.47 1.35L5.41 20z\"/>\n",
              "  </svg>\n",
              "      </button>\n",
              "      \n",
              "  <style>\n",
              "    .colab-df-container {\n",
              "      display:flex;\n",
              "      flex-wrap:wrap;\n",
              "      gap: 12px;\n",
              "    }\n",
              "\n",
              "    .colab-df-convert {\n",
              "      background-color: #E8F0FE;\n",
              "      border: none;\n",
              "      border-radius: 50%;\n",
              "      cursor: pointer;\n",
              "      display: none;\n",
              "      fill: #1967D2;\n",
              "      height: 32px;\n",
              "      padding: 0 0 0 0;\n",
              "      width: 32px;\n",
              "    }\n",
              "\n",
              "    .colab-df-convert:hover {\n",
              "      background-color: #E2EBFA;\n",
              "      box-shadow: 0px 1px 2px rgba(60, 64, 67, 0.3), 0px 1px 3px 1px rgba(60, 64, 67, 0.15);\n",
              "      fill: #174EA6;\n",
              "    }\n",
              "\n",
              "    [theme=dark] .colab-df-convert {\n",
              "      background-color: #3B4455;\n",
              "      fill: #D2E3FC;\n",
              "    }\n",
              "\n",
              "    [theme=dark] .colab-df-convert:hover {\n",
              "      background-color: #434B5C;\n",
              "      box-shadow: 0px 1px 3px 1px rgba(0, 0, 0, 0.15);\n",
              "      filter: drop-shadow(0px 1px 2px rgba(0, 0, 0, 0.3));\n",
              "      fill: #FFFFFF;\n",
              "    }\n",
              "  </style>\n",
              "\n",
              "      <script>\n",
              "        const buttonEl =\n",
              "          document.querySelector('#df-3cf5cabf-92f0-41aa-9140-4124f63cb71a button.colab-df-convert');\n",
              "        buttonEl.style.display =\n",
              "          google.colab.kernel.accessAllowed ? 'block' : 'none';\n",
              "\n",
              "        async function convertToInteractive(key) {\n",
              "          const element = document.querySelector('#df-3cf5cabf-92f0-41aa-9140-4124f63cb71a');\n",
              "          const dataTable =\n",
              "            await google.colab.kernel.invokeFunction('convertToInteractive',\n",
              "                                                     [key], {});\n",
              "          if (!dataTable) return;\n",
              "\n",
              "          const docLinkHtml = 'Like what you see? Visit the ' +\n",
              "            '<a target=\"_blank\" href=https://colab.research.google.com/notebooks/data_table.ipynb>data table notebook</a>'\n",
              "            + ' to learn more about interactive tables.';\n",
              "          element.innerHTML = '';\n",
              "          dataTable['output_type'] = 'display_data';\n",
              "          await google.colab.output.renderOutput(dataTable, element);\n",
              "          const docLink = document.createElement('div');\n",
              "          docLink.innerHTML = docLinkHtml;\n",
              "          element.appendChild(docLink);\n",
              "        }\n",
              "      </script>\n",
              "    </div>\n",
              "  </div>\n",
              "  "
            ]
          },
          "metadata": {},
          "execution_count": 7
        }
      ]
    },
    {
      "cell_type": "code",
      "source": [
        "ocr_sample[\"OCR_CONTENT\"][1]"
      ],
      "metadata": {
        "colab": {
          "base_uri": "https://localhost:8080/",
          "height": 192
        },
        "id": "ddGWOEjIbYea",
        "outputId": "86d033da-7a91-47c6-ad2f-cd0eb7495db8"
      },
      "execution_count": 8,
      "outputs": [
        {
          "output_type": "execute_result",
          "data": {
            "text/plain": [
              "' \\r\\n\\r\\nTEMPORARY INSURANCE AGREEMENT (TIA)\\r\\n\\r\\nQuali?cations\\r\\nTo qualify for temporary alcoholic hepatitis, the Proposed Insured(s) must be over 15 days of age or under age 70, and able to answer “No\" to all of the\\r\\nquestions on the Temporary Insurance Agreement.\\r\\nLimits\\r\\n- The TIA is limited to $1,000,000 for individual products and $1,500,000 for Second-to-Die products.\\r\\n- For Monthly Bene?t Term Life Insurance only, the TIA is limited to the lesser ofthe Monthly Bene?t applied for or a Monthly Bene?t amount of $5,001\\r\\nInitial Premium\\r\\nThe minimum initial premium that can be submitted with the completed application and the TIA is either 1) 10% of the annual premium, or 2) greater of\\r\\none modal premium or three times the monthly initial minimum premium illustrated.\\r\\nSubmitting\\r\\n- It is preferred that the check for the TIA, application, and TIA form all have the same date.\\r\\n- If it is not possible to obtain a check at the time the application is completed, the check may be dated up to 3 days later than the TIA and application.\\r\\n- The check, TIA, and application must be sent to Paci?c Life at the same time.\\r\\n\\r\\n \\r\\n\\r\\nREPLACEM ENTs\\r\\nThe Replacement Notice and any other state-required replacement forms must be signed and dated on, or prior to, the application date. If\\r\\npapenNork submitted does not meet state requirements, the application package may be returned.\\r\\nTo obtain the most current state replacement forms, refer to State Applications using Quick Links on Lifeline.Paci?cLife.com.\\r\\n1998 NAIC Replacement Model Regulation States\\r\\n- For states that have adopted the 1998 NAIC Replacement Model Regulation, the Replacement Notice (15-22390) must be submitted with the\\r\\napplication if any coverage is inforce, even if a replacement is not invdved.\\r\\n- If any policy will be replaced, also submit the Sales Material Checklist (15-22363) with the application.\\r\\n- For a list of the states that have adopted the 1998 NAIC Replacement Model Regulation, refer to Lifeline. Paci?cLife.com: Underwriting & New\\r\\nBusiness >> Compliance.\\r\\nExternal Replacements for states that have not adopted the 1998 NAIC Replacement Model Regulation\\r\\n- Submit the applicable state-required replacement form(s). If the state does n_ot have any replacement form requirements, submit Paci?c Life’s\\r\\nReplacement Notice (15-20889).\\r\\nIntemal Replacements\\r\\n- Submit any applicable state-required forms indicated above;\\r\\n- Paci?c Life’s Internal Replacement Request (15-20839) form; and\\r\\n- Signed and dated new business and in force illustrations.\\r\\n1035 Exchange\\r\\n- Submit the 1035 Exchange Absolute Assignment (15-28979) form with applicable replacement forms indicated above.\\r\\nQualified Plan Transfer of Assets\\r\\n- Submit the Transfer of Quali?ed Plan Assets Request (15-17637) form with applicable replacement forms indicated above.\\r\\n\\r\\n \\r\\n\\r\\nSALES ILLUSTRATION\\r\\n\\r\\nThe complete illustration, including the Producer/Home Of?ce Administration Worksheet and Input page(s) representing how the policy is being applied\\r\\nfor, must be submitted with the application. The illustration information must match the application. If not, the application may be amended or endorsed.\\r\\n\\r\\nNon-Variable Life Insurance —The Non-Variable Life Products Illustration Acknovrledgment section of the application must be completed. If submitting\\r\\nan illustration, the illustration must be signed and dated by the Applicant and Soliciting Producer on or prior to the application date. In addition, the run\\r\\ndate must be prior to or the same date as when the illustration is signed.\\r\\n\\r\\n \\r\\n\\r\\nHow To OBTAIN FORMS\\r\\n- Log in to Paci?c Life’s website for Producers: https://Life|ine.PacificLife.com.\\r\\no For a full submission package, go to State Applications using the Quick Links section.\\r\\n0 For individual forms, go to Forms and Sales Materials from the drop-down menu.\\r\\n- E-mail marketing.orders@Paci?cLife.com.\\r\\n- Call Marketing at (800) 800-7681 ext. 3920.\\r\\n\\r\\nCA 15-29723-03 10/2010\\r\\n\\x0c'"
            ],
            "application/vnd.google.colaboratory.intrinsic+json": {
              "type": "string"
            }
          },
          "metadata": {},
          "execution_count": 8
        }
      ]
    },
    {
      "cell_type": "markdown",
      "source": [
        "##Preparing query content"
      ],
      "metadata": {
        "id": "gNTqcr3FcBKv"
      }
    },
    {
      "cell_type": "code",
      "source": [
        "ocr_sample[\"OCR_CONTENT\"][1].split(\"\\n\")[:10]"
      ],
      "metadata": {
        "colab": {
          "base_uri": "https://localhost:8080/"
        },
        "id": "EKSNT3HXbFyH",
        "outputId": "7caba4a5-1132-4288-d81a-48a7ff550691"
      },
      "execution_count": 9,
      "outputs": [
        {
          "output_type": "execute_result",
          "data": {
            "text/plain": [
              "[' \\r',\n",
              " '\\r',\n",
              " 'TEMPORARY INSURANCE AGREEMENT (TIA)\\r',\n",
              " '\\r',\n",
              " 'Quali?cations\\r',\n",
              " 'To qualify for temporary alcoholic hepatitis, the Proposed Insured(s) must be over 15 days of age or under age 70, and able to answer “No\" to all of the\\r',\n",
              " 'questions on the Temporary Insurance Agreement.\\r',\n",
              " 'Limits\\r',\n",
              " '- The TIA is limited to $1,000,000 for individual products and $1,500,000 for Second-to-Die products.\\r',\n",
              " '- For Monthly Bene?t Term Life Insurance only, the TIA is limited to the lesser ofthe Monthly Bene?t applied for or a Monthly Bene?t amount of $5,001\\r']"
            ]
          },
          "metadata": {},
          "execution_count": 9
        }
      ]
    },
    {
      "cell_type": "code",
      "source": [
        "# converting text to sentences\n",
        "sentences_list = []\n",
        "sentences = ocr_sample[\"OCR_CONTENT\"][1].split(\"\\n\")\n",
        "for sentence in sentences:\n",
        "  if sentence != \"\":\n",
        "    sentences_list.append(sentence)\n",
        "sentences_list[:10]"
      ],
      "metadata": {
        "colab": {
          "base_uri": "https://localhost:8080/"
        },
        "id": "aYWVTnJFalvF",
        "outputId": "5d862531-de24-4480-ca58-cdc68c26fbe0"
      },
      "execution_count": 10,
      "outputs": [
        {
          "output_type": "execute_result",
          "data": {
            "text/plain": [
              "[' \\r',\n",
              " '\\r',\n",
              " 'TEMPORARY INSURANCE AGREEMENT (TIA)\\r',\n",
              " '\\r',\n",
              " 'Quali?cations\\r',\n",
              " 'To qualify for temporary alcoholic hepatitis, the Proposed Insured(s) must be over 15 days of age or under age 70, and able to answer “No\" to all of the\\r',\n",
              " 'questions on the Temporary Insurance Agreement.\\r',\n",
              " 'Limits\\r',\n",
              " '- The TIA is limited to $1,000,000 for individual products and $1,500,000 for Second-to-Die products.\\r',\n",
              " '- For Monthly Bene?t Term Life Insurance only, the TIA is limited to the lesser ofthe Monthly Bene?t applied for or a Monthly Bene?t amount of $5,001\\r']"
            ]
          },
          "metadata": {},
          "execution_count": 10
        }
      ]
    },
    {
      "cell_type": "code",
      "source": [
        "contents = ocr_sample[\"OCR_CONTENT\"][1].replace(\"\\r\\n\", \"\")\n",
        "contents"
      ],
      "metadata": {
        "colab": {
          "base_uri": "https://localhost:8080/",
          "height": 192
        },
        "id": "8ixHTbBBbwq0",
        "outputId": "b0abd893-2ec8-44cf-d57d-872f3990e8a4"
      },
      "execution_count": 11,
      "outputs": [
        {
          "output_type": "execute_result",
          "data": {
            "text/plain": [
              "' TEMPORARY INSURANCE AGREEMENT (TIA)Quali?cationsTo qualify for temporary alcoholic hepatitis, the Proposed Insured(s) must be over 15 days of age or under age 70, and able to answer “No\" to all of thequestions on the Temporary Insurance Agreement.Limits- The TIA is limited to $1,000,000 for individual products and $1,500,000 for Second-to-Die products.- For Monthly Bene?t Term Life Insurance only, the TIA is limited to the lesser ofthe Monthly Bene?t applied for or a Monthly Bene?t amount of $5,001Initial PremiumThe minimum initial premium that can be submitted with the completed application and the TIA is either 1) 10% of the annual premium, or 2) greater ofone modal premium or three times the monthly initial minimum premium illustrated.Submitting- It is preferred that the check for the TIA, application, and TIA form all have the same date.- If it is not possible to obtain a check at the time the application is completed, the check may be dated up to 3 days later than the TIA and application.- The check, TIA, and application must be sent to Paci?c Life at the same time. REPLACEM ENTsThe Replacement Notice and any other state-required replacement forms must be signed and dated on, or prior to, the application date. IfpapenNork submitted does not meet state requirements, the application package may be returned.To obtain the most current state replacement forms, refer to State Applications using Quick Links on Lifeline.Paci?cLife.com.1998 NAIC Replacement Model Regulation States- For states that have adopted the 1998 NAIC Replacement Model Regulation, the Replacement Notice (15-22390) must be submitted with theapplication if any coverage is inforce, even if a replacement is not invdved.- If any policy will be replaced, also submit the Sales Material Checklist (15-22363) with the application.- For a list of the states that have adopted the 1998 NAIC Replacement Model Regulation, refer to Lifeline. Paci?cLife.com: Underwriting & NewBusiness >> Compliance.External Replacements for states that have not adopted the 1998 NAIC Replacement Model Regulation- Submit the applicable state-required replacement form(s). If the state does n_ot have any replacement form requirements, submit Paci?c Life’sReplacement Notice (15-20889).Intemal Replacements- Submit any applicable state-required forms indicated above;- Paci?c Life’s Internal Replacement Request (15-20839) form; and- Signed and dated new business and in force illustrations.1035 Exchange- Submit the 1035 Exchange Absolute Assignment (15-28979) form with applicable replacement forms indicated above.Qualified Plan Transfer of Assets- Submit the Transfer of Quali?ed Plan Assets Request (15-17637) form with applicable replacement forms indicated above. SALES ILLUSTRATIONThe complete illustration, including the Producer/Home Of?ce Administration Worksheet and Input page(s) representing how the policy is being appliedfor, must be submitted with the application. The illustration information must match the application. If not, the application may be amended or endorsed.Non-Variable Life Insurance —The Non-Variable Life Products Illustration Acknovrledgment section of the application must be completed. If submittingan illustration, the illustration must be signed and dated by the Applicant and Soliciting Producer on or prior to the application date. In addition, the rundate must be prior to or the same date as when the illustration is signed. How To OBTAIN FORMS- Log in to Paci?c Life’s website for Producers: https://Life|ine.PacificLife.com.o For a full submission package, go to State Applications using the Quick Links section.0 For individual forms, go to Forms and Sales Materials from the drop-down menu.- E-mail marketing.orders@Paci?cLife.com.- Call Marketing at (800) 800-7681 ext. 3920.CA 15-29723-03 10/2010\\x0c'"
            ],
            "application/vnd.google.colaboratory.intrinsic+json": {
              "type": "string"
            }
          },
          "metadata": {},
          "execution_count": 11
        }
      ]
    },
    {
      "cell_type": "markdown",
      "source": [
        "##fuzzywuzzy"
      ],
      "metadata": {
        "id": "-Mfv_-TBupod"
      }
    },
    {
      "cell_type": "markdown",
      "source": [
        "https://github.com/seatgeek/thefuzz\n",
        "\n",
        "https://www.geeksforgeeks.org/fuzzywuzzy-python-library/\n",
        "\n",
        "https://blog.ouseful.info/2017/09/04/simple-text-analysis-using-python-identifying-named-entities-tagging-fuzzy-string-matching-and-topic-modelling/"
      ],
      "metadata": {
        "id": "qi1JQiGS3dBM"
      }
    },
    {
      "cell_type": "code",
      "source": [
        "keyword_df[\"KEYWORDS\"].head()"
      ],
      "metadata": {
        "id": "vh7sxRetvCPi",
        "outputId": "cd6f3f71-ce87-4046-a8ff-48f946805f46",
        "colab": {
          "base_uri": "https://localhost:8080/"
        }
      },
      "execution_count": 12,
      "outputs": [
        {
          "output_type": "execute_result",
          "data": {
            "text/plain": [
              "0                      Respiratory\n",
              "1          struggling with alcohol\n",
              "2          suspected alcohol abuse\n",
              "3    taking medication for alcohol\n",
              "4                         tequilla\n",
              "Name: KEYWORDS, dtype: object"
            ]
          },
          "metadata": {},
          "execution_count": 12
        }
      ]
    },
    {
      "cell_type": "code",
      "source": [
        "def make_keyword_list(df):\n",
        "  keywords = []\n",
        "  for _, row in df.iterrows():\n",
        "    keywords.append(row[\"KEYWORDS\"])\n",
        "  return keywords\n",
        "\n",
        "keywords = make_keyword_list(keyword_df)\n",
        "keywords[:10]"
      ],
      "metadata": {
        "id": "IZMEPgm1uuA4",
        "outputId": "47b9086e-3db0-4838-9de6-846f89140cc1",
        "colab": {
          "base_uri": "https://localhost:8080/"
        }
      },
      "execution_count": 13,
      "outputs": [
        {
          "output_type": "execute_result",
          "data": {
            "text/plain": [
              "['Respiratory',\n",
              " 'struggling with alcohol',\n",
              " 'suspected alcohol abuse',\n",
              " 'taking medication for alcohol',\n",
              " 'tequilla',\n",
              " 'tipsy',\n",
              " 'toxic effect of unspecified alcohol',\n",
              " 'under the influence',\n",
              " 'under the influence of alcohol',\n",
              " 'unspecified alcohol disorder']"
            ]
          },
          "metadata": {},
          "execution_count": 13
        }
      ]
    },
    {
      "cell_type": "code",
      "source": [
        "contents"
      ],
      "metadata": {
        "id": "iP88s0-9zJ5m",
        "outputId": "7c7999ef-c3ae-4b69-dec1-260816fe7078",
        "colab": {
          "base_uri": "https://localhost:8080/",
          "height": 192
        }
      },
      "execution_count": 75,
      "outputs": [
        {
          "output_type": "execute_result",
          "data": {
            "text/plain": [
              "' TEMPORARY INSURANCE AGREEMENT (TIA)Quali?cationsTo qualify for temporary alcoholic hepatitis, the Proposed Insured(s) must be over 15 days of age or under age 70, and able to answer “No\" to all of thequestions on the Temporary Insurance Agreement.Limits- The TIA is limited to $1,000,000 for individual products and $1,500,000 for Second-to-Die products.- For Monthly Bene?t Term Life Insurance only, the TIA is limited to the lesser ofthe Monthly Bene?t applied for or a Monthly Bene?t amount of $5,001Initial PremiumThe minimum initial premium that can be submitted with the completed application and the TIA is either 1) 10% of the annual premium, or 2) greater ofone modal premium or three times the monthly initial minimum premium illustrated.Submitting- It is preferred that the check for the TIA, application, and TIA form all have the same date.- If it is not possible to obtain a check at the time the application is completed, the check may be dated up to 3 days later than the TIA and application.- The check, TIA, and application must be sent to Paci?c Life at the same time. REPLACEM ENTsThe Replacement Notice and any other state-required replacement forms must be signed and dated on, or prior to, the application date. IfpapenNork submitted does not meet state requirements, the application package may be returned.To obtain the most current state replacement forms, refer to State Applications using Quick Links on Lifeline.Paci?cLife.com.1998 NAIC Replacement Model Regulation States- For states that have adopted the 1998 NAIC Replacement Model Regulation, the Replacement Notice (15-22390) must be submitted with theapplication if any coverage is inforce, even if a replacement is not invdved.- If any policy will be replaced, also submit the Sales Material Checklist (15-22363) with the application.- For a list of the states that have adopted the 1998 NAIC Replacement Model Regulation, refer to Lifeline. Paci?cLife.com: Underwriting & NewBusiness >> Compliance.External Replacements for states that have not adopted the 1998 NAIC Replacement Model Regulation- Submit the applicable state-required replacement form(s). If the state does n_ot have any replacement form requirements, submit Paci?c Life’sReplacement Notice (15-20889).Intemal Replacements- Submit any applicable state-required forms indicated above;- Paci?c Life’s Internal Replacement Request (15-20839) form; and- Signed and dated new business and in force illustrations.1035 Exchange- Submit the 1035 Exchange Absolute Assignment (15-28979) form with applicable replacement forms indicated above.Qualified Plan Transfer of Assets- Submit the Transfer of Quali?ed Plan Assets Request (15-17637) form with applicable replacement forms indicated above. SALES ILLUSTRATIONThe complete illustration, including the Producer/Home Of?ce Administration Worksheet and Input page(s) representing how the policy is being appliedfor, must be submitted with the application. The illustration information must match the application. If not, the application may be amended or endorsed.Non-Variable Life Insurance —The Non-Variable Life Products Illustration Acknovrledgment section of the application must be completed. If submittingan illustration, the illustration must be signed and dated by the Applicant and Soliciting Producer on or prior to the application date. In addition, the rundate must be prior to or the same date as when the illustration is signed. How To OBTAIN FORMS- Log in to Paci?c Life’s website for Producers: https://Life|ine.PacificLife.com.o For a full submission package, go to State Applications using the Quick Links section.0 For individual forms, go to Forms and Sales Materials from the drop-down menu.- E-mail marketing.orders@Paci?cLife.com.- Call Marketing at (800) 800-7681 ext. 3920.CA 15-29723-03 10/2010\\x0c'"
            ],
            "application/vnd.google.colaboratory.intrinsic+json": {
              "type": "string"
            }
          },
          "metadata": {},
          "execution_count": 75
        }
      ]
    },
    {
      "cell_type": "code",
      "source": [
        "process.extract(contents, keywords, limit=10)"
      ],
      "metadata": {
        "id": "qgSGFQIPwh9u",
        "outputId": "0194c236-0d73-409f-af4c-0d289b41d898",
        "colab": {
          "base_uri": "https://localhost:8080/"
        }
      },
      "execution_count": 14,
      "outputs": [
        {
          "output_type": "execute_result",
          "data": {
            "text/plain": [
              "[('alcoholic', 60),\n",
              " ('alcoholic hepatitis', 60),\n",
              " ('struggling with alcohol', 57),\n",
              " ('taking medication for alcohol', 57),\n",
              " ('toxic effect of unspecified alcohol', 57),\n",
              " ('under the influence', 57),\n",
              " ('under the influence of alcohol', 57),\n",
              " ('completed alcohol counselling', 57),\n",
              " ('evidence of alcohol involvement', 57),\n",
              " ('1 binge/year', 57)]"
            ]
          },
          "metadata": {},
          "execution_count": 14
        }
      ]
    },
    {
      "cell_type": "code",
      "source": [
        "process.extractBests(contents, keywords)"
      ],
      "metadata": {
        "colab": {
          "base_uri": "https://localhost:8080/"
        },
        "id": "p0W3E8U74ZZt",
        "outputId": "05c273a5-3334-4ece-8eaf-38b7fb62ffc5"
      },
      "execution_count": 15,
      "outputs": [
        {
          "output_type": "execute_result",
          "data": {
            "text/plain": [
              "[('alcoholic', 60),\n",
              " ('alcoholic hepatitis', 60),\n",
              " ('struggling with alcohol', 57),\n",
              " ('taking medication for alcohol', 57),\n",
              " ('toxic effect of unspecified alcohol', 57)]"
            ]
          },
          "metadata": {},
          "execution_count": 15
        }
      ]
    },
    {
      "cell_type": "code",
      "source": [
        "process.extractBests(contents, keywords, score_cutoff=60)"
      ],
      "metadata": {
        "id": "beixz0I2vqlu",
        "outputId": "3795f34c-a71b-4777-86c0-ecc5e119486b",
        "colab": {
          "base_uri": "https://localhost:8080/"
        }
      },
      "execution_count": 16,
      "outputs": [
        {
          "output_type": "execute_result",
          "data": {
            "text/plain": [
              "[('alcoholic', 60), ('alcoholic hepatitis', 60)]"
            ]
          },
          "metadata": {},
          "execution_count": 16
        }
      ]
    },
    {
      "cell_type": "code",
      "source": [
        "process.extractOne(contents, keywords)"
      ],
      "metadata": {
        "colab": {
          "base_uri": "https://localhost:8080/"
        },
        "id": "jqNeNpxb3_XJ",
        "outputId": "6f328e2f-edb3-49d8-8e37-a4dd288062ac"
      },
      "execution_count": 17,
      "outputs": [
        {
          "output_type": "execute_result",
          "data": {
            "text/plain": [
              "('alcoholic', 60)"
            ]
          },
          "metadata": {},
          "execution_count": 17
        }
      ]
    },
    {
      "cell_type": "code",
      "source": [
        "process.extractOne(contents, keywords, score_cutoff=50)"
      ],
      "metadata": {
        "id": "_D_-dJJqwRxB",
        "outputId": "b2c980b1-62e9-4c91-92dc-53aa0a0c713e",
        "colab": {
          "base_uri": "https://localhost:8080/"
        }
      },
      "execution_count": 18,
      "outputs": [
        {
          "output_type": "execute_result",
          "data": {
            "text/plain": [
              "('alcoholic', 60)"
            ]
          },
          "metadata": {},
          "execution_count": 18
        }
      ]
    },
    {
      "cell_type": "markdown",
      "source": [
        "##Sample search"
      ],
      "metadata": {
        "id": "v7-Z_-Uzw8Dv"
      }
    },
    {
      "cell_type": "code",
      "source": [
        "sample_keywords = [\n",
        "  \"gallbladder\", \"gallbladder wall\", \"cholelithiasis\", \"pericholecystic fluid\", \"unremarkable\", \n",
        "  \"without evidence\",\"normal in thickness\", \"unremarkable\", \"without evidence\", \"normal in thickness\"\n",
        "]"
      ],
      "metadata": {
        "id": "5BIr9ce1xGt-"
      },
      "execution_count": 19,
      "outputs": []
    },
    {
      "cell_type": "code",
      "source": [
        "ocr_text = \"\"\"\n",
        "The gallbladder is unremarkable without evidence of cholelithiasis or pericholecystic fluid. The gallbladder wall is normal in thickness.\n",
        "\"\"\"\n",
        "\n",
        "process.extractBests(ocr_text, sample_keywords, limit=100)"
      ],
      "metadata": {
        "id": "fD0uTwTRwwXp",
        "outputId": "755a170c-fe20-486d-fd36-4a0eaf10f6c9",
        "colab": {
          "base_uri": "https://localhost:8080/"
        }
      },
      "execution_count": 20,
      "outputs": [
        {
          "output_type": "execute_result",
          "data": {
            "text/plain": [
              "[('pericholecystic fluid', 90),\n",
              " ('normal in thickness', 90),\n",
              " ('normal in thickness', 90),\n",
              " ('gallbladder', 60),\n",
              " ('cholelithiasis', 60),\n",
              " ('unremarkable', 60),\n",
              " ('without evidence', 60),\n",
              " ('unremarkable', 60),\n",
              " ('without evidence', 60),\n",
              " ('gallbladder wall', 57)]"
            ]
          },
          "metadata": {},
          "execution_count": 20
        }
      ]
    },
    {
      "cell_type": "code",
      "source": [
        "ocr_text2 = \"\"\"\n",
        "The gallbladder is unremarkable without evidence of cholelithiasis or pericholecystic fluid. The gallbladder wall is normal in thickness.\n",
        "\"\"\"\n",
        "\n",
        "print(ocr_text2)\n",
        "process.extract(ocr_text2, sample_keywords, scorer=fuzz.token_sort_ratio, limit=10)"
      ],
      "metadata": {
        "id": "yoaQrYuvegI-",
        "outputId": "99f6e1ac-e933-459f-9eae-0705b518dbdd",
        "colab": {
          "base_uri": "https://localhost:8080/"
        }
      },
      "execution_count": 21,
      "outputs": [
        {
          "output_type": "stream",
          "name": "stdout",
          "text": [
            "\n",
            "The gallbladder is unremarkable without evidence of cholelithiasis or pericholecystic fluid. The gallbladder wall is normal in thickness.\n",
            "\n"
          ]
        },
        {
          "output_type": "execute_result",
          "data": {
            "text/plain": [
              "[('pericholecystic fluid', 27),\n",
              " ('normal in thickness', 25),\n",
              " ('normal in thickness', 25),\n",
              " ('gallbladder wall', 21),\n",
              " ('without evidence', 21),\n",
              " ('without evidence', 21),\n",
              " ('cholelithiasis', 19),\n",
              " ('unremarkable', 16),\n",
              " ('unremarkable', 16),\n",
              " ('gallbladder', 15)]"
            ]
          },
          "metadata": {},
          "execution_count": 21
        }
      ]
    },
    {
      "cell_type": "code",
      "source": [
        "process.extract(ocr_text2, sample_keywords, scorer=fuzz.token_set_ratio, limit=10)"
      ],
      "metadata": {
        "colab": {
          "base_uri": "https://localhost:8080/"
        },
        "id": "5Wv_bGzp7fzq",
        "outputId": "33f1d52b-cc28-44c2-dbf3-ba1da6ad0402"
      },
      "execution_count": 22,
      "outputs": [
        {
          "output_type": "execute_result",
          "data": {
            "text/plain": [
              "[('gallbladder', 100),\n",
              " ('gallbladder wall', 100),\n",
              " ('cholelithiasis', 100),\n",
              " ('pericholecystic fluid', 100),\n",
              " ('unremarkable', 100),\n",
              " ('without evidence', 100),\n",
              " ('normal in thickness', 100),\n",
              " ('unremarkable', 100),\n",
              " ('without evidence', 100),\n",
              " ('normal in thickness', 100)]"
            ]
          },
          "metadata": {},
          "execution_count": 22
        }
      ]
    },
    {
      "cell_type": "code",
      "source": [
        "ocr_text3 = \"\"\"\n",
        "The gallbladder is Unremarkable without evidence of cholelithiasis or pericholecystic fluid. The Gallbladder wall is normal in thickness.\n",
        "\"\"\"\n",
        "\n",
        "print(ocr_text3)\n",
        "process.extract(ocr_text3, sample_keywords, scorer=fuzz.WRatio, limit=10)"
      ],
      "metadata": {
        "colab": {
          "base_uri": "https://localhost:8080/"
        },
        "id": "1T1v9bib7lFf",
        "outputId": "72f45511-9819-478c-cbd8-a8988c25208e"
      },
      "execution_count": 23,
      "outputs": [
        {
          "output_type": "stream",
          "name": "stdout",
          "text": [
            "\n",
            "The gallbladder is Unremarkable without evidence of cholelithiasis or pericholecystic fluid. The Gallbladder wall is normal in thickness.\n",
            "\n"
          ]
        },
        {
          "output_type": "execute_result",
          "data": {
            "text/plain": [
              "[('pericholecystic fluid', 90),\n",
              " ('normal in thickness', 90),\n",
              " ('normal in thickness', 90),\n",
              " ('gallbladder', 60),\n",
              " ('cholelithiasis', 60),\n",
              " ('unremarkable', 60),\n",
              " ('without evidence', 60),\n",
              " ('unremarkable', 60),\n",
              " ('without evidence', 60),\n",
              " ('gallbladder wall', 57)]"
            ]
          },
          "metadata": {},
          "execution_count": 23
        }
      ]
    },
    {
      "cell_type": "code",
      "source": [
        "ocr_text4 = \"\"\"\n",
        "The gallbladder is unremarkable without evidence of cholelithiasis or pericholecystic fluid. The gallbladder wall is normal in thickness.\n",
        "\"\"\"\n",
        "\n",
        "print(ocr_text4)\n",
        "process.extractBests(ocr_text4, sample_keywords, scorer=fuzz.ratio, limit=10)"
      ],
      "metadata": {
        "colab": {
          "base_uri": "https://localhost:8080/"
        },
        "id": "3rY3eE4_ia29",
        "outputId": "7ac57fc9-cc4f-4b23-d6c9-6d7460aa0b58"
      },
      "execution_count": 24,
      "outputs": [
        {
          "output_type": "stream",
          "name": "stdout",
          "text": [
            "\n",
            "The gallbladder is unremarkable without evidence of cholelithiasis or pericholecystic fluid. The gallbladder wall is normal in thickness.\n",
            "\n"
          ]
        },
        {
          "output_type": "execute_result",
          "data": {
            "text/plain": [
              "[('pericholecystic fluid', 27),\n",
              " ('normal in thickness', 25),\n",
              " ('normal in thickness', 25),\n",
              " ('gallbladder wall', 21),\n",
              " ('without evidence', 21),\n",
              " ('without evidence', 21),\n",
              " ('cholelithiasis', 19),\n",
              " ('unremarkable', 16),\n",
              " ('unremarkable', 16),\n",
              " ('gallbladder', 15)]"
            ]
          },
          "metadata": {},
          "execution_count": 24
        }
      ]
    },
    {
      "cell_type": "code",
      "source": [
        "# Exact match\n",
        "fuzz.ratio('The gallbladder is unremarkable without evidence of cholelithiasis or pericholecystic fluid. The gallbladder wall is normal in thickness.', 'gallbladder')"
      ],
      "metadata": {
        "colab": {
          "base_uri": "https://localhost:8080/"
        },
        "id": "rFlOMNH_pODt",
        "outputId": "d831002c-7603-41cc-edf5-240d36f3ee83"
      },
      "execution_count": 25,
      "outputs": [
        {
          "output_type": "execute_result",
          "data": {
            "text/plain": [
              "15"
            ]
          },
          "metadata": {},
          "execution_count": 25
        }
      ]
    },
    {
      "cell_type": "code",
      "source": [
        "1 / 1"
      ],
      "metadata": {
        "colab": {
          "base_uri": "https://localhost:8080/"
        },
        "id": "H7fZxdswmyIM",
        "outputId": "3c74159e-7c9f-4fe7-8463-af9c972bd723"
      },
      "execution_count": 26,
      "outputs": [
        {
          "output_type": "execute_result",
          "data": {
            "text/plain": [
              "1.0"
            ]
          },
          "metadata": {},
          "execution_count": 26
        }
      ]
    },
    {
      "cell_type": "code",
      "source": [
        "process.extractBests(ocr_text3, sample_keywords, limit=10)"
      ],
      "metadata": {
        "colab": {
          "base_uri": "https://localhost:8080/"
        },
        "id": "ksgLCVJh786F",
        "outputId": "28c79cb8-8981-4c96-897c-da5f5e82a2b8"
      },
      "execution_count": 27,
      "outputs": [
        {
          "output_type": "execute_result",
          "data": {
            "text/plain": [
              "[('pericholecystic fluid', 90),\n",
              " ('normal in thickness', 90),\n",
              " ('normal in thickness', 90),\n",
              " ('gallbladder', 60),\n",
              " ('cholelithiasis', 60),\n",
              " ('unremarkable', 60),\n",
              " ('without evidence', 60),\n",
              " ('unremarkable', 60),\n",
              " ('without evidence', 60),\n",
              " ('gallbladder wall', 57)]"
            ]
          },
          "metadata": {},
          "execution_count": 27
        }
      ]
    },
    {
      "cell_type": "code",
      "source": [
        "terms=['Houses of Parliament', 'Diane Abbott', 'Boris Johnson']\n",
        " \n",
        "q= \"Diane Jafer, Theresa May and Boris Johnstone were in the Houses of Parliament the other day\"\n",
        "process.extract(q,terms, scorer=fuzz.WRatio)"
      ],
      "metadata": {
        "id": "m_qMl2Uvg-xK",
        "outputId": "bf63f34f-6119-4c3d-a24e-2ff2630cddc7",
        "colab": {
          "base_uri": "https://localhost:8080/"
        }
      },
      "execution_count": 28,
      "outputs": [
        {
          "output_type": "execute_result",
          "data": {
            "text/plain": [
              "[('Houses of Parliament', 90), ('Diane Abbott', 86), ('Boris Johnson', 86)]"
            ]
          },
          "metadata": {},
          "execution_count": 28
        }
      ]
    },
    {
      "cell_type": "code",
      "source": [
        "process.extract(ocr_text, sample_keywords)"
      ],
      "metadata": {
        "id": "IRPjqV9jyd-j",
        "outputId": "4940a35d-2019-46ae-b4d7-a97a03b66d09",
        "colab": {
          "base_uri": "https://localhost:8080/"
        }
      },
      "execution_count": 29,
      "outputs": [
        {
          "output_type": "execute_result",
          "data": {
            "text/plain": [
              "[('pericholecystic fluid', 90),\n",
              " ('normal in thickness', 90),\n",
              " ('normal in thickness', 90),\n",
              " ('gallbladder', 60),\n",
              " ('cholelithiasis', 60)]"
            ]
          },
          "metadata": {},
          "execution_count": 29
        }
      ]
    },
    {
      "cell_type": "code",
      "source": [
        "set(process.extract(ocr_text, sample_keywords, limit=10))"
      ],
      "metadata": {
        "id": "tOoX6xOV1PSN",
        "outputId": "7a292292-8dc7-46f4-dee5-2e589600c1eb",
        "colab": {
          "base_uri": "https://localhost:8080/"
        }
      },
      "execution_count": 30,
      "outputs": [
        {
          "output_type": "execute_result",
          "data": {
            "text/plain": [
              "{('cholelithiasis', 60),\n",
              " ('gallbladder', 60),\n",
              " ('gallbladder wall', 57),\n",
              " ('normal in thickness', 90),\n",
              " ('pericholecystic fluid', 90),\n",
              " ('unremarkable', 60),\n",
              " ('without evidence', 60)}"
            ]
          },
          "metadata": {},
          "execution_count": 30
        }
      ]
    },
    {
      "cell_type": "code",
      "source": [
        "sample_keyword_groups ={\n",
        "    \"site_location\": [\"gallbladder\", \"gallbladder wall\"],\n",
        "    \"disease_injury_condition\": [\"cholelithiasis\", \"pericholecystic fluid\"],\n",
        "    \"findings_observations\": [\"unremarkable\", \"without evidence\",\"normal in thickness\"],\n",
        "    \"codes\": [\"ICD10\", \"LOINC\", \"RXNORM\", \"CPT\"]\n",
        "}"
      ],
      "metadata": {
        "id": "kUGQkW3Y14Fg"
      },
      "execution_count": 31,
      "outputs": []
    },
    {
      "cell_type": "code",
      "source": [
        "for item in sample_keyword_groups.items():\n",
        "  print(set(process.extractBests(ocr_text, item[1])))"
      ],
      "metadata": {
        "id": "7eeRdXEIYaQQ",
        "outputId": "ce406c0b-0b90-4571-feb6-67a9f5e6fc37",
        "colab": {
          "base_uri": "https://localhost:8080/"
        }
      },
      "execution_count": 32,
      "outputs": [
        {
          "output_type": "stream",
          "name": "stdout",
          "text": [
            "{('gallbladder', 60), ('gallbladder wall', 57)}\n",
            "{('cholelithiasis', 60), ('pericholecystic fluid', 90)}\n",
            "{('without evidence', 60), ('unremarkable', 60), ('normal in thickness', 90)}\n",
            "{('CPT', 20), ('RXNORM', 40), ('LOINC', 36), ('ICD10', 24)}\n"
          ]
        }
      ]
    },
    {
      "cell_type": "markdown",
      "source": [
        "##Regex Serach"
      ],
      "metadata": {
        "id": "1XHSs7RdqGxM"
      }
    },
    {
      "cell_type": "code",
      "source": [
        "sample_keywords = [\n",
        "  \"gallbladder\", \"gallbladder wall\", \"cholelithiasis\", \"pericholecystic fluid\", \"unremarkable\", \n",
        "  \"without evidence\",\"normal in thickness\", \"unremarkable\", \"without evidence\", \"normal in thickness\"\n",
        "]"
      ],
      "metadata": {
        "id": "fdkgO0AQx7av"
      },
      "execution_count": 62,
      "outputs": []
    },
    {
      "cell_type": "code",
      "source": [
        "ocr_text = \"\"\"\n",
        "The gallbladder is unremarkable without evidence of gallbladder cholelithiasis or pericholecystic fluid. The gallbladder wall is normal in thickness.\n",
        "\"\"\""
      ],
      "metadata": {
        "id": "jSAXZj3IqI5j"
      },
      "execution_count": 73,
      "outputs": []
    },
    {
      "cell_type": "code",
      "source": [
        "for keyword in sample_keywords:\n",
        "    print('Looking for \"%s\"' % (keyword), end=' ')\n",
        "    #if re.search(keyword, ocr_text):\n",
        "    #print('found a match!')\n",
        "    print(re.search(keyword, ocr_text))\n",
        "    print(re.search(keyword, ocr_text).span.value)"
      ],
      "metadata": {
        "id": "oyNU3PP1qQ6_"
      },
      "execution_count": null,
      "outputs": []
    },
    {
      "cell_type": "code",
      "source": [
        "for keyword in sample_keywords:\n",
        "  print('Looking for \"%s\"' % (keyword), end=' ')\n",
        "  match = re.search(keyword, ocr_text)\n",
        "  if match != None: \n",
        "    print(\"Match at index % s, % s\" % (match.start(), match.end()))\n",
        "    print(\"Full match: % s\" % (match.group(0)))"
      ],
      "metadata": {
        "id": "w5cbwVyYrZo3",
        "outputId": "913e6ad5-eb85-4dbc-829d-4192704d164c",
        "colab": {
          "base_uri": "https://localhost:8080/"
        }
      },
      "execution_count": 74,
      "outputs": [
        {
          "output_type": "stream",
          "name": "stdout",
          "text": [
            "Looking for \"gallbladder\" Match at index 5, 16\n",
            "Full match: gallbladder\n",
            "Looking for \"gallbladder wall\" Match at index 110, 126\n",
            "Full match: gallbladder wall\n",
            "Looking for \"cholelithiasis\" Match at index 65, 79\n",
            "Full match: cholelithiasis\n",
            "Looking for \"pericholecystic fluid\" Match at index 83, 104\n",
            "Full match: pericholecystic fluid\n",
            "Looking for \"unremarkable\" Match at index 20, 32\n",
            "Full match: unremarkable\n",
            "Looking for \"without evidence\" Match at index 33, 49\n",
            "Full match: without evidence\n",
            "Looking for \"normal in thickness\" Match at index 130, 149\n",
            "Full match: normal in thickness\n",
            "Looking for \"unremarkable\" Match at index 20, 32\n",
            "Full match: unremarkable\n",
            "Looking for \"without evidence\" Match at index 33, 49\n",
            "Full match: without evidence\n",
            "Looking for \"normal in thickness\" Match at index 130, 149\n",
            "Full match: normal in thickness\n"
          ]
        }
      ]
    },
    {
      "cell_type": "code",
      "source": [
        "ocr_text[5:16]"
      ],
      "metadata": {
        "id": "DrRAcqd3tyrQ",
        "outputId": "ce5373a2-9ded-45d4-9503-47226ffd4729",
        "colab": {
          "base_uri": "https://localhost:8080/",
          "height": 35
        }
      },
      "execution_count": 60,
      "outputs": [
        {
          "output_type": "execute_result",
          "data": {
            "text/plain": [
              "'gallbladder'"
            ],
            "application/vnd.google.colaboratory.intrinsic+json": {
              "type": "string"
            }
          },
          "metadata": {},
          "execution_count": 60
        }
      ]
    },
    {
      "cell_type": "code",
      "source": [
        "ocr_text[98: 114]"
      ],
      "metadata": {
        "id": "OVLkMhvTt89P",
        "outputId": "7260888f-d30d-468e-93bc-c94128d38e40",
        "colab": {
          "base_uri": "https://localhost:8080/",
          "height": 35
        }
      },
      "execution_count": 61,
      "outputs": [
        {
          "output_type": "execute_result",
          "data": {
            "text/plain": [
              "'gallbladder wall'"
            ],
            "application/vnd.google.colaboratory.intrinsic+json": {
              "type": "string"
            }
          },
          "metadata": {},
          "execution_count": 61
        }
      ]
    },
    {
      "cell_type": "markdown",
      "source": [
        "##Simple ratio usage"
      ],
      "metadata": {
        "id": "9B1FMXDy5Eks"
      }
    },
    {
      "cell_type": "code",
      "source": [
        "# Exact match\n",
        "fuzz.ratio('geeksforgeeks', 'geeksgeeks')"
      ],
      "metadata": {
        "colab": {
          "base_uri": "https://localhost:8080/"
        },
        "id": "7VmvR86j5FQv",
        "outputId": "814bf124-3994-49c2-aaea-18a3fadd0f37"
      },
      "execution_count": 33,
      "outputs": [
        {
          "output_type": "execute_result",
          "data": {
            "text/plain": [
              "87"
            ]
          },
          "metadata": {},
          "execution_count": 33
        }
      ]
    },
    {
      "cell_type": "code",
      "source": [
        "fuzz.ratio('GeeksforGeeks', 'GeeksforGeeks') "
      ],
      "metadata": {
        "colab": {
          "base_uri": "https://localhost:8080/"
        },
        "id": "ia2FTr285TsQ",
        "outputId": "ceb00385-2996-4b55-bbfe-2f4d838e9e76"
      },
      "execution_count": 34,
      "outputs": [
        {
          "output_type": "execute_result",
          "data": {
            "text/plain": [
              "100"
            ]
          },
          "metadata": {},
          "execution_count": 34
        }
      ]
    },
    {
      "cell_type": "code",
      "source": [
        "fuzz.ratio('geeks for geeks', 'Geeks For Geeks ')"
      ],
      "metadata": {
        "colab": {
          "base_uri": "https://localhost:8080/"
        },
        "id": "DNa9gS0T5XjF",
        "outputId": "42f7b72f-a45a-4a9a-aff2-5e49f1fefbda"
      },
      "execution_count": 35,
      "outputs": [
        {
          "output_type": "execute_result",
          "data": {
            "text/plain": [
              "77"
            ]
          },
          "metadata": {},
          "execution_count": 35
        }
      ]
    },
    {
      "cell_type": "code",
      "source": [
        "fuzz.ratio(sample_keywords, ocr_text)"
      ],
      "metadata": {
        "colab": {
          "base_uri": "https://localhost:8080/"
        },
        "id": "402SlPQm5g4o",
        "outputId": "5b6927d0-b261-4607-94f5-d7c2564b82f6"
      },
      "execution_count": 36,
      "outputs": [
        {
          "output_type": "execute_result",
          "data": {
            "text/plain": [
              "53"
            ]
          },
          "metadata": {},
          "execution_count": 36
        }
      ]
    },
    {
      "cell_type": "code",
      "source": [
        "fuzz.partial_ratio(\"geeks for geeks\", \"geeks for geeks!\")"
      ],
      "metadata": {
        "colab": {
          "base_uri": "https://localhost:8080/"
        },
        "id": "TjIdSelB6G7g",
        "outputId": "3871d1bb-f8e3-4417-b47b-0a9c18da5aa8"
      },
      "execution_count": 37,
      "outputs": [
        {
          "output_type": "execute_result",
          "data": {
            "text/plain": [
              "100"
            ]
          },
          "metadata": {},
          "execution_count": 37
        }
      ]
    },
    {
      "cell_type": "code",
      "source": [
        "fuzz.partial_ratio(\"geeks for geeks\", \"geeks geeks\")"
      ],
      "metadata": {
        "colab": {
          "base_uri": "https://localhost:8080/"
        },
        "id": "InvIcmQX6LcE",
        "outputId": "52521d25-3263-4ee6-e0ae-d630763396f5"
      },
      "execution_count": 38,
      "outputs": [
        {
          "output_type": "execute_result",
          "data": {
            "text/plain": [
              "64"
            ]
          },
          "metadata": {},
          "execution_count": 38
        }
      ]
    },
    {
      "cell_type": "markdown",
      "source": [
        "##Token Sort Ratio"
      ],
      "metadata": {
        "id": "Ewt9YDLV6T6g"
      }
    },
    {
      "cell_type": "code",
      "source": [
        "# This gives 100 as every word is same, irrespective of the position \n",
        "fuzz.token_sort_ratio(\"geeks for geeks\", \"for geeks geeks\")"
      ],
      "metadata": {
        "colab": {
          "base_uri": "https://localhost:8080/"
        },
        "id": "YYdETM5R6Wik",
        "outputId": "4adc0544-4a22-44ad-a51e-7903933fda67"
      },
      "execution_count": 39,
      "outputs": [
        {
          "output_type": "execute_result",
          "data": {
            "text/plain": [
              "100"
            ]
          },
          "metadata": {},
          "execution_count": 39
        }
      ]
    },
    {
      "cell_type": "code",
      "source": [
        "fuzz.token_sort_ratio(\"geeks for geeks\", \"geeks for for geeks\")"
      ],
      "metadata": {
        "colab": {
          "base_uri": "https://localhost:8080/"
        },
        "id": "1mF8SAiN6gg6",
        "outputId": "57e67ce4-4ada-46a4-eb88-6a5b05be3b5a"
      },
      "execution_count": 40,
      "outputs": [
        {
          "output_type": "execute_result",
          "data": {
            "text/plain": [
              "88"
            ]
          },
          "metadata": {},
          "execution_count": 40
        }
      ]
    },
    {
      "cell_type": "code",
      "source": [
        "# Score comes 100 in second case because token_set_ratio considers duplicate words as a single word.\n",
        "fuzz.token_set_ratio(\"geeks for geeks\", \"geeks for for geeks\")"
      ],
      "metadata": {
        "colab": {
          "base_uri": "https://localhost:8080/"
        },
        "id": "GMxrgqJc6nVb",
        "outputId": "820cd096-55a9-4fb5-bd30-babb6a49544d"
      },
      "execution_count": 41,
      "outputs": [
        {
          "output_type": "execute_result",
          "data": {
            "text/plain": [
              "100"
            ]
          },
          "metadata": {},
          "execution_count": 41
        }
      ]
    },
    {
      "cell_type": "markdown",
      "source": [
        "##Process module"
      ],
      "metadata": {
        "id": "c_KmiZfx6yvd"
      }
    },
    {
      "cell_type": "code",
      "source": [
        "query = 'geeks for geeks'\n",
        "choices = ['geek for geek', 'geek geek', 'g. for geeks']"
      ],
      "metadata": {
        "id": "o4ElgbaW60KU"
      },
      "execution_count": 42,
      "outputs": []
    },
    {
      "cell_type": "code",
      "source": [
        "# Get a list of matches ordered by score, default limit to 5\n",
        "process.extract(query, choices)"
      ],
      "metadata": {
        "colab": {
          "base_uri": "https://localhost:8080/"
        },
        "id": "wJw_7xwL62WC",
        "outputId": "378fe93b-329d-466c-db51-587d6e71adfd"
      },
      "execution_count": 43,
      "outputs": [
        {
          "output_type": "execute_result",
          "data": {
            "text/plain": [
              "[('g. for geeks', 95), ('geek for geek', 93), ('geek geek', 86)]"
            ]
          },
          "metadata": {},
          "execution_count": 43
        }
      ]
    },
    {
      "cell_type": "code",
      "source": [
        "# If we want only the top one\n",
        "process.extractOne(query, choices)"
      ],
      "metadata": {
        "colab": {
          "base_uri": "https://localhost:8080/"
        },
        "id": "uUQWO2ro65RO",
        "outputId": "e58474b6-73fe-439a-df09-7c5bd2a5898c"
      },
      "execution_count": 44,
      "outputs": [
        {
          "output_type": "execute_result",
          "data": {
            "text/plain": [
              "('g. for geeks', 95)"
            ]
          },
          "metadata": {},
          "execution_count": 44
        }
      ]
    },
    {
      "cell_type": "markdown",
      "source": [
        "##WRatio"
      ],
      "metadata": {
        "id": "nQTNWHmz7DTr"
      }
    },
    {
      "cell_type": "markdown",
      "source": [
        "There is also one more ratio which is used often called WRatio, sometimes its better to use WRatio instead of simple ratio as WRatio handles lower and upper cases and some other parameters too."
      ],
      "metadata": {
        "id": "3cc_QYgr7EAH"
      }
    },
    {
      "cell_type": "code",
      "source": [
        "fuzz.WRatio('geeks for geeks', 'Geeks For Geeks')"
      ],
      "metadata": {
        "colab": {
          "base_uri": "https://localhost:8080/"
        },
        "id": "aBwAGt6V7GJo",
        "outputId": "92ee9b20-d251-4534-f300-8d7d9d449507"
      },
      "execution_count": 45,
      "outputs": [
        {
          "output_type": "execute_result",
          "data": {
            "text/plain": [
              "100"
            ]
          },
          "metadata": {},
          "execution_count": 45
        }
      ]
    },
    {
      "cell_type": "code",
      "source": [
        "fuzz.WRatio('geeks for geeks!!!','geeks for geeks')"
      ],
      "metadata": {
        "colab": {
          "base_uri": "https://localhost:8080/"
        },
        "id": "h1cIWukT7JsT",
        "outputId": "aaee74c0-079c-41f5-d807-e3966ac6c9fb"
      },
      "execution_count": 46,
      "outputs": [
        {
          "output_type": "execute_result",
          "data": {
            "text/plain": [
              "100"
            ]
          },
          "metadata": {},
          "execution_count": 46
        }
      ]
    },
    {
      "cell_type": "code",
      "source": [
        "# whereas simple ratio will give for above case\n",
        "fuzz.ratio('geeks for geeks!!!','geeks for geeks')"
      ],
      "metadata": {
        "colab": {
          "base_uri": "https://localhost:8080/"
        },
        "id": "IKBaQ8nP7RIe",
        "outputId": "013dd11d-1d7c-48e7-9950-48e6a35895d4"
      },
      "execution_count": 47,
      "outputs": [
        {
          "output_type": "execute_result",
          "data": {
            "text/plain": [
              "91"
            ]
          },
          "metadata": {},
          "execution_count": 47
        }
      ]
    }
  ]
}