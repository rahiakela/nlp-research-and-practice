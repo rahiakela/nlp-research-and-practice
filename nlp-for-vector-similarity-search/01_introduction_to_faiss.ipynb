{
  "nbformat": 4,
  "nbformat_minor": 0,
  "metadata": {
    "colab": {
      "provenance": [],
      "toc_visible": true,
      "authorship_tag": "ABX9TyPwBIafGIfW8SvtGuz4Kh9A",
      "include_colab_link": true
    },
    "kernelspec": {
      "name": "python3",
      "display_name": "Python 3"
    },
    "language_info": {
      "name": "python"
    }
  },
  "cells": [
    {
      "cell_type": "markdown",
      "metadata": {
        "id": "view-in-github",
        "colab_type": "text"
      },
      "source": [
        "<a href=\"https://colab.research.google.com/github/rahiakela/natural-language-processing-research-and-practice/blob/main/nlp-for-vector-similarity-search/01_introduction_to_faiss.ipynb\" target=\"_parent\"><img src=\"https://colab.research.google.com/assets/colab-badge.svg\" alt=\"Open In Colab\"/></a>"
      ]
    },
    {
      "cell_type": "markdown",
      "source": [
        "##Introduction to Faiss"
      ],
      "metadata": {
        "id": "BLPPphUi0c57"
      }
    },
    {
      "cell_type": "markdown",
      "source": [
        "**Reference**\n",
        "\n",
        "[Introduction to Facebook AI Similarity Search (Faiss)](https://www.pinecone.io/learn/faiss-tutorial/)"
      ],
      "metadata": {
        "id": "275UI25f0iHO"
      }
    },
    {
      "cell_type": "markdown",
      "source": [
        "##Setup"
      ],
      "metadata": {
        "id": "APSRq6kS0oIH"
      }
    },
    {
      "cell_type": "code",
      "source": [
        "!pip install faiss-cpu\n",
        "!pip install -U sentence-transformers"
      ],
      "metadata": {
        "id": "N1Pj5L0k1wi_"
      },
      "execution_count": null,
      "outputs": []
    },
    {
      "cell_type": "code",
      "source": [
        "import requests\n",
        "from io import StringIO\n",
        "import pandas as pd\n",
        "import numpy as np\n",
        "\n",
        "from sentence_transformers import SentenceTransformer\n",
        "\n",
        "import faiss"
      ],
      "metadata": {
        "id": "yTbeoQNg0pH0"
      },
      "execution_count": null,
      "outputs": []
    },
    {
      "cell_type": "markdown",
      "source": [
        "##Building Vectors"
      ],
      "metadata": {
        "id": "oNMFeczI2Yxo"
      }
    },
    {
      "cell_type": "code",
      "source": [
        "response = requests.get('https://raw.githubusercontent.com/brmson/dataset-sts/master/data/sts/sick2014/SICK_train.txt')\n",
        "\n",
        "# create dataframe\n",
        "data = pd.read_csv(StringIO(response.text), sep='\\t')\n",
        "data.head()"
      ],
      "metadata": {
        "colab": {
          "base_uri": "https://localhost:8080/",
          "height": 389
        },
        "id": "B3tO9mGJ2aQR",
        "outputId": "b398f3f0-4f88-440c-bb14-2498e358a497"
      },
      "execution_count": null,
      "outputs": [
        {
          "output_type": "execute_result",
          "data": {
            "text/plain": [
              "   pair_ID                                         sentence_A  \\\n",
              "0        1  A group of kids is playing in a yard and an ol...   \n",
              "1        2  A group of children is playing in the house an...   \n",
              "2        3  The young boys are playing outdoors and the ma...   \n",
              "3        5  The kids are playing outdoors near a man with ...   \n",
              "4        9  The young boys are playing outdoors and the ma...   \n",
              "\n",
              "                                          sentence_B  relatedness_score  \\\n",
              "0  A group of boys in a yard is playing and a man...                4.5   \n",
              "1  A group of kids is playing in a yard and an ol...                3.2   \n",
              "2  The kids are playing outdoors near a man with ...                4.7   \n",
              "3  A group of kids is playing in a yard and an ol...                3.4   \n",
              "4  A group of kids is playing in a yard and an ol...                3.7   \n",
              "\n",
              "  entailment_judgment  \n",
              "0             NEUTRAL  \n",
              "1             NEUTRAL  \n",
              "2          ENTAILMENT  \n",
              "3             NEUTRAL  \n",
              "4             NEUTRAL  "
            ],
            "text/html": [
              "\n",
              "  <div id=\"df-8d92c437-edf3-41ca-8818-0330aaf087b0\">\n",
              "    <div class=\"colab-df-container\">\n",
              "      <div>\n",
              "<style scoped>\n",
              "    .dataframe tbody tr th:only-of-type {\n",
              "        vertical-align: middle;\n",
              "    }\n",
              "\n",
              "    .dataframe tbody tr th {\n",
              "        vertical-align: top;\n",
              "    }\n",
              "\n",
              "    .dataframe thead th {\n",
              "        text-align: right;\n",
              "    }\n",
              "</style>\n",
              "<table border=\"1\" class=\"dataframe\">\n",
              "  <thead>\n",
              "    <tr style=\"text-align: right;\">\n",
              "      <th></th>\n",
              "      <th>pair_ID</th>\n",
              "      <th>sentence_A</th>\n",
              "      <th>sentence_B</th>\n",
              "      <th>relatedness_score</th>\n",
              "      <th>entailment_judgment</th>\n",
              "    </tr>\n",
              "  </thead>\n",
              "  <tbody>\n",
              "    <tr>\n",
              "      <th>0</th>\n",
              "      <td>1</td>\n",
              "      <td>A group of kids is playing in a yard and an ol...</td>\n",
              "      <td>A group of boys in a yard is playing and a man...</td>\n",
              "      <td>4.5</td>\n",
              "      <td>NEUTRAL</td>\n",
              "    </tr>\n",
              "    <tr>\n",
              "      <th>1</th>\n",
              "      <td>2</td>\n",
              "      <td>A group of children is playing in the house an...</td>\n",
              "      <td>A group of kids is playing in a yard and an ol...</td>\n",
              "      <td>3.2</td>\n",
              "      <td>NEUTRAL</td>\n",
              "    </tr>\n",
              "    <tr>\n",
              "      <th>2</th>\n",
              "      <td>3</td>\n",
              "      <td>The young boys are playing outdoors and the ma...</td>\n",
              "      <td>The kids are playing outdoors near a man with ...</td>\n",
              "      <td>4.7</td>\n",
              "      <td>ENTAILMENT</td>\n",
              "    </tr>\n",
              "    <tr>\n",
              "      <th>3</th>\n",
              "      <td>5</td>\n",
              "      <td>The kids are playing outdoors near a man with ...</td>\n",
              "      <td>A group of kids is playing in a yard and an ol...</td>\n",
              "      <td>3.4</td>\n",
              "      <td>NEUTRAL</td>\n",
              "    </tr>\n",
              "    <tr>\n",
              "      <th>4</th>\n",
              "      <td>9</td>\n",
              "      <td>The young boys are playing outdoors and the ma...</td>\n",
              "      <td>A group of kids is playing in a yard and an ol...</td>\n",
              "      <td>3.7</td>\n",
              "      <td>NEUTRAL</td>\n",
              "    </tr>\n",
              "  </tbody>\n",
              "</table>\n",
              "</div>\n",
              "      <button class=\"colab-df-convert\" onclick=\"convertToInteractive('df-8d92c437-edf3-41ca-8818-0330aaf087b0')\"\n",
              "              title=\"Convert this dataframe to an interactive table.\"\n",
              "              style=\"display:none;\">\n",
              "        \n",
              "  <svg xmlns=\"http://www.w3.org/2000/svg\" height=\"24px\"viewBox=\"0 0 24 24\"\n",
              "       width=\"24px\">\n",
              "    <path d=\"M0 0h24v24H0V0z\" fill=\"none\"/>\n",
              "    <path d=\"M18.56 5.44l.94 2.06.94-2.06 2.06-.94-2.06-.94-.94-2.06-.94 2.06-2.06.94zm-11 1L8.5 8.5l.94-2.06 2.06-.94-2.06-.94L8.5 2.5l-.94 2.06-2.06.94zm10 10l.94 2.06.94-2.06 2.06-.94-2.06-.94-.94-2.06-.94 2.06-2.06.94z\"/><path d=\"M17.41 7.96l-1.37-1.37c-.4-.4-.92-.59-1.43-.59-.52 0-1.04.2-1.43.59L10.3 9.45l-7.72 7.72c-.78.78-.78 2.05 0 2.83L4 21.41c.39.39.9.59 1.41.59.51 0 1.02-.2 1.41-.59l7.78-7.78 2.81-2.81c.8-.78.8-2.07 0-2.86zM5.41 20L4 18.59l7.72-7.72 1.47 1.35L5.41 20z\"/>\n",
              "  </svg>\n",
              "      </button>\n",
              "      \n",
              "  <style>\n",
              "    .colab-df-container {\n",
              "      display:flex;\n",
              "      flex-wrap:wrap;\n",
              "      gap: 12px;\n",
              "    }\n",
              "\n",
              "    .colab-df-convert {\n",
              "      background-color: #E8F0FE;\n",
              "      border: none;\n",
              "      border-radius: 50%;\n",
              "      cursor: pointer;\n",
              "      display: none;\n",
              "      fill: #1967D2;\n",
              "      height: 32px;\n",
              "      padding: 0 0 0 0;\n",
              "      width: 32px;\n",
              "    }\n",
              "\n",
              "    .colab-df-convert:hover {\n",
              "      background-color: #E2EBFA;\n",
              "      box-shadow: 0px 1px 2px rgba(60, 64, 67, 0.3), 0px 1px 3px 1px rgba(60, 64, 67, 0.15);\n",
              "      fill: #174EA6;\n",
              "    }\n",
              "\n",
              "    [theme=dark] .colab-df-convert {\n",
              "      background-color: #3B4455;\n",
              "      fill: #D2E3FC;\n",
              "    }\n",
              "\n",
              "    [theme=dark] .colab-df-convert:hover {\n",
              "      background-color: #434B5C;\n",
              "      box-shadow: 0px 1px 3px 1px rgba(0, 0, 0, 0.15);\n",
              "      filter: drop-shadow(0px 1px 2px rgba(0, 0, 0, 0.3));\n",
              "      fill: #FFFFFF;\n",
              "    }\n",
              "  </style>\n",
              "\n",
              "      <script>\n",
              "        const buttonEl =\n",
              "          document.querySelector('#df-8d92c437-edf3-41ca-8818-0330aaf087b0 button.colab-df-convert');\n",
              "        buttonEl.style.display =\n",
              "          google.colab.kernel.accessAllowed ? 'block' : 'none';\n",
              "\n",
              "        async function convertToInteractive(key) {\n",
              "          const element = document.querySelector('#df-8d92c437-edf3-41ca-8818-0330aaf087b0');\n",
              "          const dataTable =\n",
              "            await google.colab.kernel.invokeFunction('convertToInteractive',\n",
              "                                                     [key], {});\n",
              "          if (!dataTable) return;\n",
              "\n",
              "          const docLinkHtml = 'Like what you see? Visit the ' +\n",
              "            '<a target=\"_blank\" href=https://colab.research.google.com/notebooks/data_table.ipynb>data table notebook</a>'\n",
              "            + ' to learn more about interactive tables.';\n",
              "          element.innerHTML = '';\n",
              "          dataTable['output_type'] = 'display_data';\n",
              "          await google.colab.output.renderOutput(dataTable, element);\n",
              "          const docLink = document.createElement('div');\n",
              "          docLink.innerHTML = docLinkHtml;\n",
              "          element.appendChild(docLink);\n",
              "        }\n",
              "      </script>\n",
              "    </div>\n",
              "  </div>\n",
              "  "
            ]
          },
          "metadata": {},
          "execution_count": 3
        }
      ]
    },
    {
      "cell_type": "code",
      "source": [
        "# we take all samples from both sentence A and B\n",
        "sentences = data[\"sentence_A\"].tolist()\n",
        "sentences[:5]"
      ],
      "metadata": {
        "colab": {
          "base_uri": "https://localhost:8080/"
        },
        "id": "uK1ulgEB2q0E",
        "outputId": "b5cb2c23-52fd-4949-ab92-cb81a0a51552"
      },
      "execution_count": null,
      "outputs": [
        {
          "output_type": "execute_result",
          "data": {
            "text/plain": [
              "['A group of kids is playing in a yard and an old man is standing in the background',\n",
              " 'A group of children is playing in the house and there is no man standing in the background',\n",
              " 'The young boys are playing outdoors and the man is smiling nearby',\n",
              " 'The kids are playing outdoors near a man with a smile',\n",
              " 'The young boys are playing outdoors and the man is smiling nearby']"
            ]
          },
          "metadata": {},
          "execution_count": 4
        }
      ]
    },
    {
      "cell_type": "code",
      "source": [
        "sentence_b = data[\"sentence_B\"].tolist()\n",
        "sentences.extend(sentence_b)\n",
        "\n",
        "len(set(sentences))"
      ],
      "metadata": {
        "colab": {
          "base_uri": "https://localhost:8080/"
        },
        "id": "UstnqIgy2y12",
        "outputId": "606a1e4d-c23b-4745-f294-d9d8b09f884f"
      },
      "execution_count": null,
      "outputs": [
        {
          "output_type": "execute_result",
          "data": {
            "text/plain": [
              "4802"
            ]
          },
          "metadata": {},
          "execution_count": 5
        }
      ]
    },
    {
      "cell_type": "code",
      "source": [
        "#  let's pull in a few more similar datasets\n",
        "urls = [\n",
        "  'https://raw.githubusercontent.com/brmson/dataset-sts/master/data/sts/semeval-sts/2012/MSRpar.train.tsv',\n",
        "  'https://raw.githubusercontent.com/brmson/dataset-sts/master/data/sts/semeval-sts/2012/MSRpar.test.tsv',\n",
        "  'https://raw.githubusercontent.com/brmson/dataset-sts/master/data/sts/semeval-sts/2012/OnWN.test.tsv',\n",
        "  'https://raw.githubusercontent.com/brmson/dataset-sts/master/data/sts/semeval-sts/2013/OnWN.test.tsv',\n",
        "  'https://raw.githubusercontent.com/brmson/dataset-sts/master/data/sts/semeval-sts/2014/OnWN.test.tsv',\n",
        "  'https://raw.githubusercontent.com/brmson/dataset-sts/master/data/sts/semeval-sts/2014/images.test.tsv',\n",
        "  'https://raw.githubusercontent.com/brmson/dataset-sts/master/data/sts/semeval-sts/2015/images.test.tsv'\n",
        "]\n",
        "\n",
        "# each of these dataset have the same structure, so we loop through each \n",
        "for url in urls:\n",
        "  response = requests.get(url)\n",
        "\n",
        "  # create dataframe\n",
        "  data = pd.read_csv(StringIO(response.text), sep='\\t', header=None, error_bad_lines=False)\n",
        "  # add to columns 1 and 2 to sentences list\n",
        "  sentences.extend(data[1].tolist())\n",
        "  sentences.extend(data[2].tolist())"
      ],
      "metadata": {
        "id": "3JPsgqZ34KrS"
      },
      "execution_count": null,
      "outputs": []
    },
    {
      "cell_type": "code",
      "source": [
        "len(set(sentences))"
      ],
      "metadata": {
        "colab": {
          "base_uri": "https://localhost:8080/"
        },
        "id": "V-R6isB44xWX",
        "outputId": "891fb6bd-e4cc-4bc2-f1e6-8c28a3c4b6b7"
      },
      "execution_count": null,
      "outputs": [
        {
          "output_type": "execute_result",
          "data": {
            "text/plain": [
              "14505"
            ]
          },
          "metadata": {},
          "execution_count": 7
        }
      ]
    },
    {
      "cell_type": "markdown",
      "source": [
        "##Building Dense Vectors"
      ],
      "metadata": {
        "id": "kYO1X_RT5SnT"
      }
    },
    {
      "cell_type": "code",
      "source": [
        "# remove duplicates and NaN\n",
        "sentences = [word for word in list(set(sentences)) if type(word) is str]"
      ],
      "metadata": {
        "id": "ih0Q7RdL5UFD"
      },
      "execution_count": null,
      "outputs": []
    },
    {
      "cell_type": "code",
      "source": [
        "# initialize sentence transformer model\n",
        "model = SentenceTransformer(\"bert-base-nli-mean-tokens\")"
      ],
      "metadata": {
        "id": "JK3XUEsC5jHW"
      },
      "execution_count": null,
      "outputs": []
    },
    {
      "cell_type": "code",
      "source": [
        "# create sentence embeddings\n",
        "sentence_embeddings = model.encode(sentences)\n",
        "sentence_embeddings.shape"
      ],
      "metadata": {
        "colab": {
          "base_uri": "https://localhost:8080/"
        },
        "id": "llbN9HL85sIk",
        "outputId": "d5602034-19ed-46fc-e0a9-00db07685b80"
      },
      "execution_count": null,
      "outputs": [
        {
          "output_type": "execute_result",
          "data": {
            "text/plain": [
              "(14504, 768)"
            ]
          },
          "metadata": {},
          "execution_count": 10
        }
      ]
    },
    {
      "cell_type": "markdown",
      "source": [
        "##Euclidean(L2) distance "
      ],
      "metadata": {
        "id": "eg2N1oht6SEL"
      }
    },
    {
      "cell_type": "code",
      "source": [
        "# vector dimensionality\n",
        "d = sentence_embeddings.shape[1]\n",
        "d"
      ],
      "metadata": {
        "id": "vAchL50l6SqS",
        "colab": {
          "base_uri": "https://localhost:8080/"
        },
        "outputId": "79a36a57-344f-4cec-e524-efde0394576b"
      },
      "execution_count": null,
      "outputs": [
        {
          "output_type": "execute_result",
          "data": {
            "text/plain": [
              "768"
            ]
          },
          "metadata": {},
          "execution_count": 11
        }
      ]
    },
    {
      "cell_type": "code",
      "source": [
        "# initialize IndexFlatL2 index\n",
        "index = faiss.IndexFlatL2(d)\n",
        "print(index.is_trained)"
      ],
      "metadata": {
        "id": "6HBEVNIR7eT2",
        "colab": {
          "base_uri": "https://localhost:8080/"
        },
        "outputId": "3df3650b-5725-4bb4-839b-6cad3950a77e"
      },
      "execution_count": null,
      "outputs": [
        {
          "output_type": "stream",
          "name": "stdout",
          "text": [
            "True\n"
          ]
        }
      ]
    },
    {
      "cell_type": "markdown",
      "source": [
        "##Query Sentence"
      ],
      "metadata": {
        "id": "HAiz1ezyGjOv"
      }
    },
    {
      "cell_type": "code",
      "source": [
        "# load our embeddings\n",
        "index.add(sentence_embeddings)\n",
        "index.ntotal"
      ],
      "metadata": {
        "colab": {
          "base_uri": "https://localhost:8080/"
        },
        "id": "eacBbDj9GlW9",
        "outputId": "31298fed-dc16-4532-b2f7-f67a82f5aa08"
      },
      "execution_count": null,
      "outputs": [
        {
          "output_type": "execute_result",
          "data": {
            "text/plain": [
              "14504"
            ]
          },
          "metadata": {},
          "execution_count": 13
        }
      ]
    },
    {
      "cell_type": "code",
      "source": [
        "# Then search given a query xq and number of nearest neigbors to return k\n",
        "k = 4\n",
        "xq = model.encode([\"Someone sprints with a football\"])"
      ],
      "metadata": {
        "id": "REp_cTJeG0dY"
      },
      "execution_count": null,
      "outputs": []
    },
    {
      "cell_type": "code",
      "source": [
        "%%time\n",
        "\n",
        "# search\n",
        "D, I = index.search(xq, k)\n",
        "print(I)"
      ],
      "metadata": {
        "colab": {
          "base_uri": "https://localhost:8080/"
        },
        "id": "Gf6FqD9WG9AN",
        "outputId": "db278f70-1db1-4b37-afff-d02e8435e126"
      },
      "execution_count": null,
      "outputs": [
        {
          "output_type": "stream",
          "name": "stdout",
          "text": [
            "[[ 3853  3412 10113  4266]]\n",
            "CPU times: user 7.81 ms, sys: 22 µs, total: 7.83 ms\n",
            "Wall time: 9.2 ms\n"
          ]
        }
      ]
    },
    {
      "cell_type": "code",
      "source": [
        "len(data[1])"
      ],
      "metadata": {
        "colab": {
          "base_uri": "https://localhost:8080/"
        },
        "id": "hUcQQw8NRjky",
        "outputId": "7421cd0e-0f79-4ed6-d634-2455f7e8fb1c"
      },
      "execution_count": null,
      "outputs": [
        {
          "output_type": "execute_result",
          "data": {
            "text/plain": [
              "1500"
            ]
          },
          "metadata": {},
          "execution_count": 16
        }
      ]
    },
    {
      "cell_type": "code",
      "source": [
        "[f'{i}: {sentences[i]}' for i in I[0]]"
      ],
      "metadata": {
        "colab": {
          "base_uri": "https://localhost:8080/"
        },
        "id": "ZNqTcmj-WMdD",
        "outputId": "0c6d0699-f73a-49d2-d39d-7a90cff7b6e7"
      },
      "execution_count": null,
      "outputs": [
        {
          "output_type": "execute_result",
          "data": {
            "text/plain": [
              "['3853: A group of football players is running in the field',\n",
              " '3412: A group of people playing football is running in the field',\n",
              " '10113: Two groups of people are playing football',\n",
              " '4266: A person playing football is running past an official carrying a football']"
            ]
          },
          "metadata": {},
          "execution_count": 17
        }
      ]
    },
    {
      "cell_type": "markdown",
      "source": [
        "## Vector Reconstruction"
      ],
      "metadata": {
        "id": "bGs6OE0gH1by"
      }
    },
    {
      "cell_type": "code",
      "source": [
        "# we have 4 vectors to return (k) - so we initialize a zero array to hold them\n",
        "vecs = np.zeros((k, d))\n",
        "\n",
        "# then iterate through each ID from I and add the reconstructed vector to our zero-array\n",
        "for i, val in enumerate(I[0].tolist()):\n",
        "  vecs[i, :] = index.reconstruct(val)\n",
        "  \n",
        "vecs.shape"
      ],
      "metadata": {
        "id": "DZNlU8ZMHl-9",
        "colab": {
          "base_uri": "https://localhost:8080/"
        },
        "outputId": "a3539d21-0e95-4490-a3a2-6351dffb93d3"
      },
      "execution_count": null,
      "outputs": [
        {
          "output_type": "execute_result",
          "data": {
            "text/plain": [
              "(4, 768)"
            ]
          },
          "metadata": {},
          "execution_count": 18
        }
      ]
    },
    {
      "cell_type": "code",
      "source": [
        "vecs[0][:100]"
      ],
      "metadata": {
        "id": "x5VYDE1cJ0rZ",
        "colab": {
          "base_uri": "https://localhost:8080/"
        },
        "outputId": "aa35162c-f27e-470c-9653-089bba976c65"
      },
      "execution_count": null,
      "outputs": [
        {
          "output_type": "execute_result",
          "data": {
            "text/plain": [
              "array([ 0.01627023,  0.22325909, -0.15037383, -0.30747274, -0.27122426,\n",
              "       -0.105932  , -0.06460915,  0.0473821 , -0.73349071, -0.37657702,\n",
              "       -0.76762801,  0.16902868,  0.53107685,  0.51176631,  1.14415824,\n",
              "       -0.08562893, -0.67240089, -0.96637088,  0.02545471, -0.2155983 ,\n",
              "       -1.25656641, -0.82982188, -0.09824977, -0.21850872,  0.5061025 ,\n",
              "        0.10527933,  0.50396907,  0.65242976, -1.39458668,  0.65847468,\n",
              "       -0.21525355, -0.22487433,  0.81818348,  0.08464285, -0.76141697,\n",
              "       -0.28928307, -0.0982579 , -0.73046142,  0.07855832, -0.84354609,\n",
              "       -0.59242088,  0.7747137 , -1.20920563, -0.22757971, -1.30733621,\n",
              "       -0.23081483, -1.31322527,  0.01629104, -0.97285467,  0.19308169,\n",
              "        0.47424543,  1.1892091 , -1.96741259, -0.70061135, -0.29638749,\n",
              "        0.6053372 ,  0.6240744 , -0.70340365, -0.86754185,  0.17673104,\n",
              "       -0.19170581, -0.02951968,  0.22623521, -0.16695444, -0.80402541,\n",
              "       -0.45918944,  0.69675523, -0.249282  , -1.01478708, -0.92174548,\n",
              "       -0.33842674, -0.39296743, -0.83734846, -0.11479274,  0.46049711,\n",
              "       -1.45211184,  0.60310441,  0.38696304, -0.04061219,  0.00453163,\n",
              "        0.2411785 ,  0.05396252,  0.07506428,  1.05115855,  0.12383974,\n",
              "       -0.71281129,  0.11722916,  0.52238196, -0.04581163,  0.26827079,\n",
              "        0.85985422, -0.35669896, -0.64667118, -0.54357922, -0.04310513,\n",
              "        0.95139217, -0.15605699, -0.49625286, -0.11140189,  0.15610148])"
            ]
          },
          "metadata": {},
          "execution_count": 19
        }
      ]
    },
    {
      "cell_type": "markdown",
      "source": [
        "##Partitioning The Index"
      ],
      "metadata": {
        "id": "RZFfNDYiJs0C"
      }
    },
    {
      "cell_type": "code",
      "source": [
        "# how many cells\n",
        "n_list = 50\n",
        "quantizer = faiss.IndexFlatL2(d)\n",
        "index = faiss.IndexIVFFlat(quantizer, d, n_list)"
      ],
      "metadata": {
        "id": "mdXMe--TJtf6"
      },
      "execution_count": null,
      "outputs": []
    },
    {
      "cell_type": "code",
      "source": [
        "# train index on data before adding any data to the index\n",
        "index.is_trained"
      ],
      "metadata": {
        "colab": {
          "base_uri": "https://localhost:8080/"
        },
        "id": "Ql7moEgBKYVv",
        "outputId": "8ab26dce-acff-4797-d5c5-3d08fba1e4c5"
      },
      "execution_count": null,
      "outputs": [
        {
          "output_type": "execute_result",
          "data": {
            "text/plain": [
              "False"
            ]
          },
          "metadata": {},
          "execution_count": 21
        }
      ]
    },
    {
      "cell_type": "code",
      "source": [
        "index.train(sentence_embeddings)\n",
        "# check if index is now trained\n",
        "index.is_trained"
      ],
      "metadata": {
        "colab": {
          "base_uri": "https://localhost:8080/"
        },
        "id": "oWOkLqArKhB7",
        "outputId": "12356a64-62aa-4682-c25e-3c17b8219b30"
      },
      "execution_count": null,
      "outputs": [
        {
          "output_type": "execute_result",
          "data": {
            "text/plain": [
              "True"
            ]
          },
          "metadata": {},
          "execution_count": 22
        }
      ]
    },
    {
      "cell_type": "code",
      "source": [
        "index.add(sentence_embeddings)\n",
        "# number of embeddings indexed\n",
        "index.ntotal"
      ],
      "metadata": {
        "colab": {
          "base_uri": "https://localhost:8080/"
        },
        "id": "YYhqyYRBKpBT",
        "outputId": "60856bce-0c04-4779-a9ad-0299358f3996"
      },
      "execution_count": null,
      "outputs": [
        {
          "output_type": "execute_result",
          "data": {
            "text/plain": [
              "14504"
            ]
          },
          "metadata": {},
          "execution_count": 23
        }
      ]
    },
    {
      "cell_type": "code",
      "source": [
        "# Let’s search again using the same indexed sentence embeddings and the same query vector\n",
        "%%time\n",
        "\n",
        "# search\n",
        "D, I = index.search(xq, k)\n",
        "print(I)"
      ],
      "metadata": {
        "colab": {
          "base_uri": "https://localhost:8080/"
        },
        "id": "9x3NGNyjWuLJ",
        "outputId": "04a67d4c-2647-492a-bd52-d4246078ecd2"
      },
      "execution_count": null,
      "outputs": [
        {
          "output_type": "stream",
          "name": "stdout",
          "text": [
            "[[ 3853  3412 10113  4266]]\n",
            "CPU times: user 589 µs, sys: 16 µs, total: 605 µs\n",
            "Wall time: 833 µs\n"
          ]
        }
      ]
    },
    {
      "cell_type": "code",
      "source": [
        "[f'{i}: {sentences[i]}' for i in I[0]]"
      ],
      "metadata": {
        "colab": {
          "base_uri": "https://localhost:8080/"
        },
        "id": "XMS9Z7aoW2Lp",
        "outputId": "4e151a9e-20d3-4318-b7bb-57e8bf09393b"
      },
      "execution_count": null,
      "outputs": [
        {
          "output_type": "execute_result",
          "data": {
            "text/plain": [
              "['3853: A group of football players is running in the field',\n",
              " '3412: A group of people playing football is running in the field',\n",
              " '10113: Two groups of people are playing football',\n",
              " '4266: A person playing football is running past an official carrying a football']"
            ]
          },
          "metadata": {},
          "execution_count": 25
        }
      ]
    },
    {
      "cell_type": "code",
      "source": [
        "# We can increase the number of nearby cells to search too with nprobe.\n",
        "index.nprobe = 10"
      ],
      "metadata": {
        "id": "azQkY4pmXV5I"
      },
      "execution_count": null,
      "outputs": []
    },
    {
      "cell_type": "code",
      "source": [
        "%%time\n",
        "\n",
        "# search\n",
        "D, I = index.search(xq, k)\n",
        "print(I)"
      ],
      "metadata": {
        "colab": {
          "base_uri": "https://localhost:8080/"
        },
        "id": "I229sQQ_XbAp",
        "outputId": "bf9f7b8e-9452-483a-efcc-57a81f0a1e6c"
      },
      "execution_count": null,
      "outputs": [
        {
          "output_type": "stream",
          "name": "stdout",
          "text": [
            "[[ 3853  3412 10113  4266]]\n",
            "CPU times: user 1.08 ms, sys: 3 µs, total: 1.08 ms\n",
            "Wall time: 1.09 ms\n"
          ]
        }
      ]
    },
    {
      "cell_type": "code",
      "source": [
        "[f'{i}: {sentences[i]}' for i in I[0]]"
      ],
      "metadata": {
        "colab": {
          "base_uri": "https://localhost:8080/"
        },
        "id": "635Dg0KbXfbE",
        "outputId": "72e6a4f4-9d85-47d9-9731-b8d5f3a48d79"
      },
      "execution_count": null,
      "outputs": [
        {
          "output_type": "execute_result",
          "data": {
            "text/plain": [
              "['3853: A group of football players is running in the field',\n",
              " '3412: A group of people playing football is running in the field',\n",
              " '10113: Two groups of people are playing football',\n",
              " '4266: A person playing football is running past an official carrying a football']"
            ]
          },
          "metadata": {},
          "execution_count": 28
        }
      ]
    },
    {
      "cell_type": "markdown",
      "source": [
        "##Vector Reconstruction"
      ],
      "metadata": {
        "id": "DuxLDIyZXvVP"
      }
    },
    {
      "cell_type": "code",
      "source": [
        "# now, to reconstruct the vectors, we must first create these direct mappings\n",
        "index.make_direct_map()"
      ],
      "metadata": {
        "id": "jslawXypXv-F"
      },
      "execution_count": null,
      "outputs": []
    },
    {
      "cell_type": "code",
      "source": [
        "index.reconstruct(11122)[:100]"
      ],
      "metadata": {
        "colab": {
          "base_uri": "https://localhost:8080/"
        },
        "id": "22Xh0hZ1X-mH",
        "outputId": "5559ebb2-0a24-47b9-9fb1-1dd104c175b9"
      },
      "execution_count": null,
      "outputs": [
        {
          "output_type": "execute_result",
          "data": {
            "text/plain": [
              "array([ 1.2838421 ,  0.21651636,  0.9712451 ,  0.31156752,  0.28217337,\n",
              "        0.91760635,  1.5379874 ,  0.18022525, -0.87787133, -0.02692633,\n",
              "       -1.3939755 , -0.02931822, -0.0910926 ,  0.8252405 ,  1.1967825 ,\n",
              "        0.46976212, -0.4116232 , -0.44104576,  0.00642029,  0.14851105,\n",
              "       -0.43181732,  0.53935724,  0.6806572 , -1.2024508 , -0.5175477 ,\n",
              "       -0.87696105, -0.14817108, -0.24578056, -1.1521579 ,  0.2925653 ,\n",
              "        0.1566306 ,  0.9666366 ,  0.48437908, -0.14077239,  0.6266316 ,\n",
              "       -0.28244448, -0.12196147, -1.0980004 ,  0.39501837, -0.4538445 ,\n",
              "        0.03117619,  0.350108  ,  0.088641  , -0.04181439,  0.49622074,\n",
              "       -0.02361662,  2.3334348 , -0.49966168, -0.1949345 , -0.37520537,\n",
              "        0.02379034, -0.2796866 ,  1.5051224 ,  0.75192493, -0.23107927,\n",
              "       -0.4343509 ,  0.41142032, -0.58381236,  0.6106839 ,  0.5567988 ,\n",
              "        0.39692488, -0.09096396,  0.01875396,  0.06579515, -0.54263747,\n",
              "       -0.29689386, -0.2615427 , -0.36894163,  0.02824443, -0.3786847 ,\n",
              "        0.845188  ,  0.81905144, -0.1144926 ,  0.21777844, -0.22829011,\n",
              "        0.28029504,  0.6587723 ,  0.61966693, -0.5828584 ,  0.35737595,\n",
              "       -0.05345004,  0.6795896 ,  0.4262927 ,  0.04680291, -0.96333283,\n",
              "       -0.03309266, -0.09275591,  0.3464413 , -0.548697  , -0.81553394,\n",
              "       -0.11909889,  0.92148066,  0.11334767, -0.47722873, -0.7277746 ,\n",
              "        0.8113466 , -0.44370335,  0.5163044 ,  0.29103372, -0.1763564 ],\n",
              "      dtype=float32)"
            ]
          },
          "metadata": {},
          "execution_count": 30
        }
      ]
    },
    {
      "cell_type": "markdown",
      "source": [
        "##Quantization"
      ],
      "metadata": {
        "id": "uH8_WWPvYKY1"
      }
    },
    {
      "cell_type": "code",
      "source": [
        "# number of centroid IDs in final compressed vectors\n",
        "m = 8\n",
        "\n",
        "# number of bits in each centroid\n",
        "bits = 8\n",
        "\n",
        "# we keep the same L2 distance flat index\n",
        "quantizer = faiss.IndexFlatL2(d)\n",
        "index = faiss.IndexIVFPQ(quantizer, d, n_list, m, bits)"
      ],
      "metadata": {
        "id": "ycCaz8f7YLAh"
      },
      "execution_count": null,
      "outputs": []
    },
    {
      "cell_type": "code",
      "source": [
        "index.is_trained"
      ],
      "metadata": {
        "colab": {
          "base_uri": "https://localhost:8080/"
        },
        "id": "7j3rILi8UrNo",
        "outputId": "c4678ecc-f749-45e2-9042-18d5a4d7a4e6"
      },
      "execution_count": null,
      "outputs": [
        {
          "output_type": "execute_result",
          "data": {
            "text/plain": [
              "True"
            ]
          },
          "metadata": {},
          "execution_count": 31
        }
      ]
    },
    {
      "cell_type": "code",
      "source": [
        "index.train(sentence_embeddings)"
      ],
      "metadata": {
        "id": "YwQe1o6OUsXn"
      },
      "execution_count": null,
      "outputs": []
    },
    {
      "cell_type": "code",
      "source": [
        "index.add(sentence_embeddings)"
      ],
      "metadata": {
        "id": "epoclDwjUx3J"
      },
      "execution_count": null,
      "outputs": []
    },
    {
      "cell_type": "code",
      "source": [
        "# now we’re ready to begin searching using our new index\n",
        "index.nprobe = 10"
      ],
      "metadata": {
        "id": "CAl-0D9jUzqL"
      },
      "execution_count": null,
      "outputs": []
    },
    {
      "cell_type": "code",
      "source": [
        "%%time\n",
        "\n",
        "D, I = index.search(xq, k)\n",
        "print(I)"
      ],
      "metadata": {
        "colab": {
          "base_uri": "https://localhost:8080/"
        },
        "id": "rIaKzZkbVEf1",
        "outputId": "6a235965-6ec8-4750-a7b0-363ee4f7fdb5"
      },
      "execution_count": null,
      "outputs": [
        {
          "output_type": "stream",
          "name": "stdout",
          "text": [
            "[[ 3853 18357  3412 17916]]\n",
            "CPU times: user 3.63 ms, sys: 46 µs, total: 3.68 ms\n",
            "Wall time: 2.66 ms\n"
          ]
        }
      ]
    },
    {
      "cell_type": "code",
      "source": [
        "[f'{i}: {sentences[i]}' for i in [3853, 3412]]"
      ],
      "metadata": {
        "colab": {
          "base_uri": "https://localhost:8080/"
        },
        "id": "wjouK3zeVMOd",
        "outputId": "a2ad827b-566f-44e0-dd3a-c514a6d64061"
      },
      "execution_count": null,
      "outputs": [
        {
          "output_type": "execute_result",
          "data": {
            "text/plain": [
              "['3853: A group of football players is running in the field',\n",
              " '3412: A group of people playing football is running in the field']"
            ]
          },
          "metadata": {},
          "execution_count": 41
        }
      ]
    }
  ]
}