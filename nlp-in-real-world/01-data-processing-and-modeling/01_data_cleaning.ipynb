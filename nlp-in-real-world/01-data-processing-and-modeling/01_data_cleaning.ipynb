{
  "nbformat": 4,
  "nbformat_minor": 0,
  "metadata": {
    "colab": {
      "provenance": [],
      "toc_visible": true,
      "authorship_tag": "ABX9TyMswgBE6j+U7y8N1tOraZhX",
      "include_colab_link": true
    },
    "kernelspec": {
      "name": "python3",
      "display_name": "Python 3"
    },
    "language_info": {
      "name": "python"
    }
  },
  "cells": [
    {
      "cell_type": "markdown",
      "metadata": {
        "id": "view-in-github",
        "colab_type": "text"
      },
      "source": [
        "<a href=\"https://colab.research.google.com/github/rahiakela/nlp-research-and-practice/blob/main/nlp-in-real-world/01-data-processing-and-modeling/01_data_cleaning.ipynb\" target=\"_parent\"><img src=\"https://colab.research.google.com/assets/colab-badge.svg\" alt=\"Open In Colab\"/></a>"
      ]
    },
    {
      "cell_type": "markdown",
      "source": [
        "##Setup"
      ],
      "metadata": {
        "id": "LCbxNJZpcfKt"
      }
    },
    {
      "cell_type": "code",
      "source": [
        "%%capture\n",
        "\n",
        "!pip -q install spacy\n",
        "!pip install textblob==0.17.1\n",
        "!python -m spacy download en_core_web_sm"
      ],
      "metadata": {
        "id": "3WhrYAcJcgVG"
      },
      "execution_count": 1,
      "outputs": []
    },
    {
      "cell_type": "code",
      "source": [
        "import re\n",
        "import spacy\n",
        "\n",
        "from nltk import sent_tokenize\n",
        "from nltk import word_tokenize\n",
        "from nltk import word_tokenize, pos_tag\n",
        "\n",
        "from textblob import TextBlob"
      ],
      "metadata": {
        "id": "mXUnM_u0c059"
      },
      "execution_count": 11,
      "outputs": []
    },
    {
      "cell_type": "code",
      "source": [
        "import nltk\n",
        "\n",
        "nltk.download('punkt')\n",
        "nltk.download('stopwords')\n",
        "nltk.download('averaged_perceptron_tagger')"
      ],
      "metadata": {
        "id": "8VU8Z3Sgdl2u",
        "outputId": "9623ce9e-3dcc-4dd2-b4a2-a17a512e07c9",
        "colab": {
          "base_uri": "https://localhost:8080/"
        }
      },
      "execution_count": 3,
      "outputs": [
        {
          "output_type": "stream",
          "name": "stderr",
          "text": [
            "[nltk_data] Downloading package punkt to /root/nltk_data...\n",
            "[nltk_data]   Unzipping tokenizers/punkt.zip.\n",
            "[nltk_data] Downloading package stopwords to /root/nltk_data...\n",
            "[nltk_data]   Unzipping corpora/stopwords.zip.\n",
            "[nltk_data] Downloading package averaged_perceptron_tagger to\n",
            "[nltk_data]     /root/nltk_data...\n",
            "[nltk_data]   Unzipping taggers/averaged_perceptron_tagger.zip.\n"
          ]
        },
        {
          "output_type": "execute_result",
          "data": {
            "text/plain": [
              "True"
            ]
          },
          "metadata": {},
          "execution_count": 3
        }
      ]
    },
    {
      "cell_type": "markdown",
      "source": [
        "##Segmentation"
      ],
      "metadata": {
        "id": "JpidC2lIcm26"
      }
    },
    {
      "cell_type": "code",
      "source": [
        "nlp = spacy.load(\"en_core_web_sm\")\n",
        "\n",
        "doc = nlp(u\"Hi!. I like NLP. Do you??\")\n",
        "\n",
        "for sent in doc.sents:\n",
        "  print(sent)"
      ],
      "metadata": {
        "colab": {
          "base_uri": "https://localhost:8080/"
        },
        "id": "sOha62hycnfc",
        "outputId": "3f1c47df-74ad-4f26-c353-0ef1bc8457ee"
      },
      "execution_count": 4,
      "outputs": [
        {
          "output_type": "stream",
          "name": "stdout",
          "text": [
            "Hi!.\n",
            "I like NLP.\n",
            "Do you??\n"
          ]
        }
      ]
    },
    {
      "cell_type": "code",
      "source": [
        "sentences = sent_tokenize(\"I like it. Did you like it too?\")\n",
        "print(sentences)"
      ],
      "metadata": {
        "colab": {
          "base_uri": "https://localhost:8080/"
        },
        "id": "P02brnERdE57",
        "outputId": "892fc63e-f630-4282-cf52-7b8972393159"
      },
      "execution_count": 5,
      "outputs": [
        {
          "output_type": "stream",
          "name": "stdout",
          "text": [
            "['I like it.', 'Did you like it too?']\n"
          ]
        }
      ]
    },
    {
      "cell_type": "markdown",
      "source": [
        "###Word tokenization"
      ],
      "metadata": {
        "id": "8x8aaT80eDOF"
      }
    },
    {
      "cell_type": "code",
      "source": [
        "text = \"Hi! I like NLP. Do you?? Do you live in the U.K.?\"\n",
        "\n",
        "tokens = TextBlob(text).words\n",
        "print(tokens)"
      ],
      "metadata": {
        "colab": {
          "base_uri": "https://localhost:8080/"
        },
        "id": "5RODcNEzeE7I",
        "outputId": "b70e976f-aa74-4563-eee1-e94255a4bbb1"
      },
      "execution_count": 6,
      "outputs": [
        {
          "output_type": "stream",
          "name": "stdout",
          "text": [
            "['Hi', 'I', 'like', 'NLP', 'Do', 'you', 'Do', 'you', 'live', 'in', 'the', 'U.K']\n"
          ]
        }
      ]
    },
    {
      "cell_type": "code",
      "source": [
        "text = \"Hi! I like NLP. Do you?? Do you live in the U.K.?\"\n",
        "\n",
        "tokens = word_tokenize(text)\n",
        "print(tokens)"
      ],
      "metadata": {
        "colab": {
          "base_uri": "https://localhost:8080/"
        },
        "id": "6OVzgg6qfgu7",
        "outputId": "50f0c588-5ac9-4142-db00-df605ece01f1"
      },
      "execution_count": 7,
      "outputs": [
        {
          "output_type": "stream",
          "name": "stdout",
          "text": [
            "['Hi', '!', 'I', 'like', 'NLP', '.', 'Do', 'you', '?', '?', 'Do', 'you', 'live', 'in', 'the', 'U.K.', '?']\n"
          ]
        }
      ]
    },
    {
      "cell_type": "code",
      "source": [
        "text = \"Hi! I like NLP. Do you?? Do you live in the U.K.?\"\n",
        "\n",
        "doc = nlp(text)\n",
        "print([token for token in doc])"
      ],
      "metadata": {
        "colab": {
          "base_uri": "https://localhost:8080/"
        },
        "id": "EmQTvVgUfuK4",
        "outputId": "a6d5e74a-94f7-4012-b59f-b30e0cf85d82"
      },
      "execution_count": 8,
      "outputs": [
        {
          "output_type": "stream",
          "name": "stdout",
          "text": [
            "[Hi, !, I, like, NLP, ., Do, you, ?, ?, Do, you, live, in, the, U.K., ?]\n"
          ]
        }
      ]
    },
    {
      "cell_type": "markdown",
      "source": [
        "###Part-of-speech tagging"
      ],
      "metadata": {
        "id": "GoxrtNQviepG"
      }
    },
    {
      "cell_type": "code",
      "source": [
        "tokens = word_tokenize(\"Can you please buy me an Arizona Ice Tea? It's $0.57.\")\n",
        "\n",
        "pos = pos_tag(tokens)\n",
        "print(pos)"
      ],
      "metadata": {
        "colab": {
          "base_uri": "https://localhost:8080/"
        },
        "id": "qUXhOFH_f8N4",
        "outputId": "9cd3db41-571b-426e-b911-acbba4444860"
      },
      "execution_count": 9,
      "outputs": [
        {
          "output_type": "stream",
          "name": "stdout",
          "text": [
            "[('Can', 'MD'), ('you', 'PRP'), ('please', 'VB'), ('buy', 'VB'), ('me', 'PRP'), ('an', 'DT'), ('Arizona', 'NNP'), ('Ice', 'NNP'), ('Tea', 'NNP'), ('?', '.'), ('It', 'PRP'), (\"'s\", 'VBZ'), ('$', '$'), ('0.57', 'CD'), ('.', '.')]\n"
          ]
        }
      ]
    },
    {
      "cell_type": "markdown",
      "source": [
        "###N-grams"
      ],
      "metadata": {
        "id": "b7zKyhcfjiL3"
      }
    },
    {
      "cell_type": "code",
      "source": [
        "text = \"natural language processing\"\n",
        "TextBlob(text).ngrams(2)"
      ],
      "metadata": {
        "colab": {
          "base_uri": "https://localhost:8080/"
        },
        "id": "mmbSVOdUjRoo",
        "outputId": "415e6f24-4406-4320-aaf0-3fa3a76e6cde"
      },
      "execution_count": 10,
      "outputs": [
        {
          "output_type": "execute_result",
          "data": {
            "text/plain": [
              "[WordList(['natural', 'language']), WordList(['language', 'processing'])]"
            ]
          },
          "metadata": {},
          "execution_count": 10
        }
      ]
    },
    {
      "cell_type": "markdown",
      "source": [
        "##Cleaning"
      ],
      "metadata": {
        "id": "TGtJyNCjkGRT"
      }
    },
    {
      "cell_type": "code",
      "source": [
        "# Punctuation removal\n",
        "text = \"Hi. I like NLP, do you?\"\n",
        "\n",
        "# .sub substitutes all matches with empty string below\n",
        "punc_cleaned = re.sub(r\"[^\\w\\s]\", \"\", text)\n",
        "print(punc_cleaned)"
      ],
      "metadata": {
        "id": "aKJxAGfQj1OO",
        "outputId": "f821e4d8-55d2-4fc3-a14b-72b6eb61658a",
        "colab": {
          "base_uri": "https://localhost:8080/"
        }
      },
      "execution_count": 12,
      "outputs": [
        {
          "output_type": "stream",
          "name": "stdout",
          "text": [
            "Hi I like NLP do you\n"
          ]
        }
      ]
    },
    {
      "cell_type": "code",
      "source": [
        "# URL removal\n",
        "text = \"\"\"\n",
        "Check it out on https://google.com or www.google.com for more information. Reach out to abc@xyz.com for inquiries.\n",
        "\"\"\"\n",
        "\n",
        "url_cleaned = re.sub(r\"https?://\\S+|www\\.\\S+\", \"\", text)\n",
        "print(url_cleaned)"
      ],
      "metadata": {
        "id": "91J0oumAHQMu",
        "outputId": "93c84086-ede1-447e-b8a9-db35d11e1ce9",
        "colab": {
          "base_uri": "https://localhost:8080/"
        }
      },
      "execution_count": 13,
      "outputs": [
        {
          "output_type": "stream",
          "name": "stdout",
          "text": [
            "\n",
            "Check it out on  or  for more information. Reach out to abc@xyz.com for inquiries.\n",
            "\n"
          ]
        }
      ]
    },
    {
      "cell_type": "code",
      "source": [
        "# Emoji removal\n",
        "text = \"What does 😲 emoji mean?\"\n",
        "\n",
        "emoji_cleaned = re.sub(r\"[\\U00010000-\\U0010ffff]\", \"\", text, flags=re.UNICODE)\n",
        "print(emoji_cleaned)"
      ],
      "metadata": {
        "id": "jlNZWJn-IO5H",
        "outputId": "497f975d-abbf-42ea-8be0-166343f19952",
        "colab": {
          "base_uri": "https://localhost:8080/"
        }
      },
      "execution_count": 14,
      "outputs": [
        {
          "output_type": "stream",
          "name": "stdout",
          "text": [
            "What does  emoji mean?\n"
          ]
        }
      ]
    },
    {
      "cell_type": "code",
      "source": [
        "#"
      ],
      "metadata": {
        "id": "dm7a8s9EJjDj"
      },
      "execution_count": null,
      "outputs": []
    }
  ]
}