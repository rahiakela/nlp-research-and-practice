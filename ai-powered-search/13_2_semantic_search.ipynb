{
  "cells": [
    {
      "cell_type": "markdown",
      "metadata": {
        "id": "view-in-github",
        "colab_type": "text"
      },
      "source": [
        "<a href=\"https://colab.research.google.com/github/rahiakela/nlp-research-and-practice/blob/main/ai-powered-search/13_2_semantic_search.ipynb\" target=\"_parent\"><img src=\"https://colab.research.google.com/assets/colab-badge.svg\" alt=\"Open In Colab\"/></a>"
      ]
    },
    {
      "cell_type": "markdown",
      "metadata": {
        "id": "51uM8gPIW0mO"
      },
      "source": [
        "## Setup\n",
        "\n",
        "In this notebook, we\"re going to install a transformer model, analyze the embedding output, and compare some vectors"
      ]
    },
    {
      "cell_type": "code",
      "source": [
        "#outdoors\n",
        "![ ! -d 'outdoors' ] && git clone --depth=1 https://github.com/ai-powered-search/outdoors.git\n",
        "! cd outdoors && git pull\n",
        "! cd outdoors && cat outdoors.tgz.part* > outdoors.tgz\n",
        "! cd outdoors && mkdir -p '../data/outdoors/' && tar -xvf outdoors.tgz -C '../data/outdoors/'"
      ],
      "metadata": {
        "id": "5xShS9pNXKtl",
        "outputId": "c4fd4d5a-ca05-4c4c-8381-de311efe8806",
        "colab": {
          "base_uri": "https://localhost:8080/"
        }
      },
      "execution_count": 1,
      "outputs": [
        {
          "output_type": "stream",
          "name": "stdout",
          "text": [
            "Cloning into 'outdoors'...\n",
            "remote: Enumerating objects: 25, done.\u001b[K\n",
            "remote: Counting objects: 100% (25/25), done.\u001b[K\n",
            "remote: Compressing objects: 100% (24/24), done.\u001b[K\n",
            "remote: Total 25 (delta 0), reused 22 (delta 0), pack-reused 0 (from 0)\u001b[K\n",
            "Receiving objects: 100% (25/25), 491.39 MiB | 16.59 MiB/s, done.\n",
            "Updating files: 100% (23/23), done.\n",
            "Already up to date.\n",
            "README.md\n",
            "concepts.pickle\n",
            "._guesses.csv\n",
            "guesses.csv\n",
            "._guesses_all.json\n",
            "guesses_all.json\n",
            "outdoors_concepts.pickle\n",
            "outdoors_embeddings.pickle\n",
            "._outdoors_golden_answers.csv\n",
            "outdoors_golden_answers.csv\n",
            "._outdoors_golden_answers.xlsx\n",
            "outdoors_golden_answers.xlsx\n",
            "._outdoors_golden_answers_20210130.csv\n",
            "outdoors_golden_answers_20210130.csv\n",
            "outdoors_labels.pickle\n",
            "outdoors_question_answering_contexts.json\n",
            "outdoors_questionanswering_test_set.json\n",
            "outdoors_questionanswering_train_set.json\n",
            "._posts.csv\n",
            "posts.csv\n",
            "predicates.pickle\n",
            "pull_aips_dependency.py\n",
            "._question-answer-seed-contexts.csv\n",
            "question-answer-seed-contexts.csv\n",
            "question-answer-squad2-guesses.csv\n",
            "._roberta-base-squad2-outdoors\n",
            "roberta-base-squad2-outdoors/\n",
            "roberta-base-squad2-outdoors/._tokenizer_config.json\n",
            "roberta-base-squad2-outdoors/tokenizer_config.json\n",
            "roberta-base-squad2-outdoors/._special_tokens_map.json\n",
            "roberta-base-squad2-outdoors/special_tokens_map.json\n",
            "roberta-base-squad2-outdoors/._config.json\n",
            "roberta-base-squad2-outdoors/config.json\n",
            "roberta-base-squad2-outdoors/._merges.txt\n",
            "roberta-base-squad2-outdoors/merges.txt\n",
            "roberta-base-squad2-outdoors/._training_args.bin\n",
            "roberta-base-squad2-outdoors/training_args.bin\n",
            "roberta-base-squad2-outdoors/._pytorch_model.bin\n",
            "roberta-base-squad2-outdoors/pytorch_model.bin\n",
            "roberta-base-squad2-outdoors/._vocab.json\n",
            "roberta-base-squad2-outdoors/vocab.json\n"
          ]
        }
      ]
    },
    {
      "cell_type": "code",
      "source": [
        "%%capture\n",
        "\n",
        "!pip install nmslib"
      ],
      "metadata": {
        "id": "HQRWkAsbmB_i"
      },
      "execution_count": null,
      "outputs": []
    },
    {
      "cell_type": "code",
      "execution_count": 9,
      "metadata": {
        "id": "xA3xmRRHW0mQ"
      },
      "outputs": [],
      "source": [
        "import sys\n",
        "import os\n",
        "sys.path.append(\"../..\")\n",
        "# from aips import *\n",
        "import pandas as pd\n",
        "import numpy as np\n",
        "import pickle\n",
        "import json\n",
        "import tqdm\n",
        "\n",
        "import nmslib\n",
        "import sentence_transformers\n",
        "from IPython.display import display, HTML"
      ]
    },
    {
      "cell_type": "code",
      "execution_count": null,
      "metadata": {
        "id": "7ruXhtGPW0mR"
      },
      "outputs": [],
      "source": [
        "from sentence_transformers import SentenceTransformer\n",
        "transformer = SentenceTransformer(\"roberta-base-nli-stsb-mean-tokens\")"
      ]
    },
    {
      "cell_type": "markdown",
      "source": [
        "## Get embeddings"
      ],
      "metadata": {
        "id": "KzFEJ0VxFGTK"
      }
    },
    {
      "cell_type": "code",
      "source": [
        "def get_embeddings(text, model, cache_name, ignore_cache=False):\n",
        "  cache_file_name = f\"data/outdoors/{cache_name}.pickle\"\n",
        "  if ignore_cache or not os.path.isfile(cache_file_name):\n",
        "    return np.load(cache_file_name)\n",
        "    embeddings = model.encode(texts)\n",
        "    os.makedirs(os.path.dirname(cache_file_name), exist_ok=True)\n",
        "    with open(cache_file_name, \"wb\") as cache_file:\n",
        "      pickle.dump(embeddings, cache_file)\n",
        "  else:\n",
        "    with open(cache_file_name, \"rb\") as cache_file:\n",
        "      embeddings = pickle.load(cache_file)\n",
        "  return embeddings"
      ],
      "metadata": {
        "id": "WipDDFrAFdsl"
      },
      "execution_count": 10,
      "outputs": []
    },
    {
      "cell_type": "code",
      "source": [
        "def normalize_embedding(embedding):\n",
        "  normalized = np.divide(embedding, np.linalg.norm(embedding))\n",
        "  return list(map(float, normalized))"
      ],
      "metadata": {
        "id": "omx47ZZ5JHY_"
      },
      "execution_count": 45,
      "outputs": []
    },
    {
      "cell_type": "code",
      "source": [
        "def rank_similarities(phrases, similarities):\n",
        "  a_phrases = []\n",
        "  b_phrases = []\n",
        "  scores = []\n",
        "  for a in range(len(similarities) - 1):\n",
        "    for b in range(a + 1, len(similarities)):\n",
        "      a_phrases.append(phrases[a])\n",
        "      b_phrases.append(phrases[b])\n",
        "      scores.append(float(similarities[a][b]))\n",
        "  dataframe = pd.DataFrame({\n",
        "      \"score\": scores,\n",
        "      \"phrase a\": a_phrases,\n",
        "      \"phrase b\": b_phrases\n",
        "  })\n",
        "  dataframe[\"idx\"] = range(len(dataframe))\n",
        "  dataframe = dataframe.reindex(columns=[\"idx\", \"score\", \"phrase a\", \"phrase b\"])\n",
        "  return dataframe.sort_values(by=[\"score\"], ascending=False, ignore_index=True)"
      ],
      "metadata": {
        "id": "LruNemFbMFjZ"
      },
      "execution_count": 46,
      "outputs": []
    },
    {
      "cell_type": "code",
      "source": [
        "outdoors_dataframe = pd.read_csv(\"data/outdoors/posts.csv\")\n",
        "# filter NaN title column\n",
        "titles = outdoors_dataframe[outdoors_dataframe['title'].notna()][\"title\"]\n",
        "# titles = list(filter(None, titles))\n",
        "titles.head(10)"
      ],
      "metadata": {
        "colab": {
          "base_uri": "https://localhost:8080/",
          "height": 398
        },
        "id": "Z05FCJIODT-9",
        "outputId": "7a8cde41-b602-49eb-f7ac-67a5ad1034a1"
      },
      "execution_count": 35,
      "outputs": [
        {
          "output_type": "execute_result",
          "data": {
            "text/plain": [
              "0     How do I treat hot spots and blisters when I h...\n",
              "1     Where in the Alps is it safe to drink the wate...\n",
              "2     Is it legal to camp on private property in Rus...\n",
              "3     What are the critical dimensions to a safe bea...\n",
              "4     Can I sail a raft on a European river with com...\n",
              "6               What is the safest way to purify water?\n",
              "8         How can you navigate without a compass or GPS\n",
              "9     What is the fastest method to 'break in' full ...\n",
              "10        How do I know what size ice axe I should get?\n",
              "12          What can I do to prevent altitude sickness?\n",
              "Name: title, dtype: object"
            ],
            "text/html": [
              "<div>\n",
              "<style scoped>\n",
              "    .dataframe tbody tr th:only-of-type {\n",
              "        vertical-align: middle;\n",
              "    }\n",
              "\n",
              "    .dataframe tbody tr th {\n",
              "        vertical-align: top;\n",
              "    }\n",
              "\n",
              "    .dataframe thead th {\n",
              "        text-align: right;\n",
              "    }\n",
              "</style>\n",
              "<table border=\"1\" class=\"dataframe\">\n",
              "  <thead>\n",
              "    <tr style=\"text-align: right;\">\n",
              "      <th></th>\n",
              "      <th>title</th>\n",
              "    </tr>\n",
              "  </thead>\n",
              "  <tbody>\n",
              "    <tr>\n",
              "      <th>0</th>\n",
              "      <td>How do I treat hot spots and blisters when I h...</td>\n",
              "    </tr>\n",
              "    <tr>\n",
              "      <th>1</th>\n",
              "      <td>Where in the Alps is it safe to drink the wate...</td>\n",
              "    </tr>\n",
              "    <tr>\n",
              "      <th>2</th>\n",
              "      <td>Is it legal to camp on private property in Rus...</td>\n",
              "    </tr>\n",
              "    <tr>\n",
              "      <th>3</th>\n",
              "      <td>What are the critical dimensions to a safe bea...</td>\n",
              "    </tr>\n",
              "    <tr>\n",
              "      <th>4</th>\n",
              "      <td>Can I sail a raft on a European river with com...</td>\n",
              "    </tr>\n",
              "    <tr>\n",
              "      <th>6</th>\n",
              "      <td>What is the safest way to purify water?</td>\n",
              "    </tr>\n",
              "    <tr>\n",
              "      <th>8</th>\n",
              "      <td>How can you navigate without a compass or GPS</td>\n",
              "    </tr>\n",
              "    <tr>\n",
              "      <th>9</th>\n",
              "      <td>What is the fastest method to 'break in' full ...</td>\n",
              "    </tr>\n",
              "    <tr>\n",
              "      <th>10</th>\n",
              "      <td>How do I know what size ice axe I should get?</td>\n",
              "    </tr>\n",
              "    <tr>\n",
              "      <th>12</th>\n",
              "      <td>What can I do to prevent altitude sickness?</td>\n",
              "    </tr>\n",
              "  </tbody>\n",
              "</table>\n",
              "</div><br><label><b>dtype:</b> object</label>"
            ]
          },
          "metadata": {},
          "execution_count": 35
        }
      ]
    },
    {
      "cell_type": "code",
      "source": [
        "# Encoding the titles into embeddings\n",
        "outdoors_dataframe = pd.read_csv(\"data/outdoors/posts.csv\")\n",
        "titles = outdoors_dataframe[outdoors_dataframe['title'].notna()][\"title\"]\n",
        "titles = list(filter(None, titles))\n",
        "\n",
        "cache_name = \"outdoors_embeddings\"\n",
        "embeddings = get_embeddings(titles, transformer, cache_name)\n",
        "\n",
        "print(f\"Number of embeddings: {len(embeddings)}\")\n",
        "print(f\"Dimensions per embedding: {len(embeddings[0])}\")"
      ],
      "metadata": {
        "colab": {
          "base_uri": "https://localhost:8080/"
        },
        "id": "d5xeRkFxBmwM",
        "outputId": "fcb225c6-0aa2-4ef2-d7df-5d6aff03d561"
      },
      "execution_count": 42,
      "outputs": [
        {
          "output_type": "stream",
          "name": "stdout",
          "text": [
            "Number of embeddings: 12375\n",
            "Dimensions per embedding: 768\n"
          ]
        }
      ]
    },
    {
      "cell_type": "code",
      "source": [
        "# Explore the top similarities for the titles\n",
        "normalized_embeddings = list(map(normalize_embedding, embeddings))\n",
        "# Find the pairs with the highest dot product scores\n",
        "similarities = sentence_transformers.util.dot_score(\n",
        "    normalized_embeddings[0:100],\n",
        "    normalized_embeddings[0:100]\n",
        ")\n",
        "comparisons = rank_similarities(titles, similarities)\n",
        "display(HTML(comparisons[:10].to_html(index=False)))"
      ],
      "metadata": {
        "colab": {
          "base_uri": "https://localhost:8080/",
          "height": 432
        },
        "id": "NwXK7VFnIC-2",
        "outputId": "efea4b91-1537-43c0-fc65-84009c3cdca7"
      },
      "execution_count": 47,
      "outputs": [
        {
          "output_type": "display_data",
          "data": {
            "text/plain": [
              "<IPython.core.display.HTML object>"
            ],
            "text/html": [
              "<table border=\"1\" class=\"dataframe\">\n",
              "  <thead>\n",
              "    <tr style=\"text-align: right;\">\n",
              "      <th>idx</th>\n",
              "      <th>score</th>\n",
              "      <th>phrase a</th>\n",
              "      <th>phrase b</th>\n",
              "    </tr>\n",
              "  </thead>\n",
              "  <tbody>\n",
              "    <tr>\n",
              "      <td>2632</td>\n",
              "      <td>0.833662</td>\n",
              "      <td>How can I acclimatize to cold?</td>\n",
              "      <td>How do I tie a sleeping bag to my backpack?</td>\n",
              "    </tr>\n",
              "    <tr>\n",
              "      <td>3113</td>\n",
              "      <td>0.815187</td>\n",
              "      <td>How to reduce the annoying sound of falling raindrops on a tent?</td>\n",
              "      <td>Serrated vs flat-edge knives</td>\n",
              "    </tr>\n",
              "    <tr>\n",
              "      <td>427</td>\n",
              "      <td>0.770643</td>\n",
              "      <td>Can I sail a raft on a European river with commercial traffic?</td>\n",
              "      <td>What can I do to prevent getting poison ivy?</td>\n",
              "    </tr>\n",
              "    <tr>\n",
              "      <td>1321</td>\n",
              "      <td>0.686263</td>\n",
              "      <td>How does one dry clothes in humid weather?</td>\n",
              "      <td>What to look for in a durable, 3-season sleeping bag?</td>\n",
              "    </tr>\n",
              "    <tr>\n",
              "      <td>4687</td>\n",
              "      <td>0.666397</td>\n",
              "      <td>How do I desalinate seawater?</td>\n",
              "      <td>In rock-climbing, how do I safely belay another climber?</td>\n",
              "    </tr>\n",
              "    <tr>\n",
              "      <td>435</td>\n",
              "      <td>0.641523</td>\n",
              "      <td>Can I sail a raft on a European river with commercial traffic?</td>\n",
              "      <td>How should I check that the anchor is secure when I anchor a small yacht off unfamiliar land?</td>\n",
              "    </tr>\n",
              "    <tr>\n",
              "      <td>3891</td>\n",
              "      <td>0.623302</td>\n",
              "      <td>When stranded at sea, should I not ask for a tow?</td>\n",
              "      <td>How do I desalinate seawater?</td>\n",
              "    </tr>\n",
              "    <tr>\n",
              "      <td>12</td>\n",
              "      <td>0.585904</td>\n",
              "      <td>How do I treat hot spots and blisters when I have no moleskin?</td>\n",
              "      <td>How should I treat poison ivy?</td>\n",
              "    </tr>\n",
              "    <tr>\n",
              "      <td>3327</td>\n",
              "      <td>0.579908</td>\n",
              "      <td>What can I do to prevent getting poison ivy?</td>\n",
              "      <td>Is drinking urine safe?</td>\n",
              "    </tr>\n",
              "    <tr>\n",
              "      <td>3304</td>\n",
              "      <td>0.579183</td>\n",
              "      <td>What can I do to prevent getting poison ivy?</td>\n",
              "      <td>How should I check that the anchor is secure when I anchor a small yacht off unfamiliar land?</td>\n",
              "    </tr>\n",
              "  </tbody>\n",
              "</table>"
            ]
          },
          "metadata": {}
        }
      ]
    },
    {
      "cell_type": "code",
      "source": [
        "# Fix rendering of this image\n",
        "from plotnine import *\n",
        "{\n",
        "    ggplot(comparisons, aes(\"idx\", \"score\")) +\n",
        "    geom_point(alpha=.05)\n",
        "}"
      ],
      "metadata": {
        "colab": {
          "base_uri": "https://localhost:8080/"
        },
        "id": "ccEMUTUcI3ZS",
        "outputId": "801ef929-9035-42b7-e79d-9da40af18372"
      },
      "execution_count": 48,
      "outputs": [
        {
          "output_type": "execute_result",
          "data": {
            "text/plain": [
              "{<plotnine.ggplot.ggplot at 0x7c6e80fef4f0>}"
            ]
          },
          "metadata": {},
          "execution_count": 48
        }
      ]
    },
    {
      "cell_type": "code",
      "source": [
        "from plotnine import *\n",
        "{\n",
        "    ggplot(comparisons, aes(\"idx\", \"score\")) +\n",
        "    geom_violin(color=\"blue\") +\n",
        "    scale_y_continuous(limits=[-0.4, 1.0], breaks=[-0.4, -0.2, 0, 0.2, 0.4, 0.6, 0.8, 1.0])\n",
        "}"
      ],
      "metadata": {
        "colab": {
          "base_uri": "https://localhost:8080/"
        },
        "id": "unqr839yJe3G",
        "outputId": "ee7f5f12-19c4-4418-c7b5-a089ea3cacb0"
      },
      "execution_count": 49,
      "outputs": [
        {
          "output_type": "execute_result",
          "data": {
            "text/plain": [
              "{<plotnine.ggplot.ggplot at 0x7c6ebcc18130>}"
            ]
          },
          "metadata": {},
          "execution_count": 49
        }
      ]
    },
    {
      "cell_type": "markdown",
      "source": [
        "##Searching ANN Index"
      ],
      "metadata": {
        "id": "Zbjb6yEHPscY"
      }
    },
    {
      "cell_type": "code",
      "source": [
        "# initialize a new index, using a HNSW index on Dot Product\n",
        "concepts_index = nmslib.init(method='hnsw', space='negdotprod')\n",
        "normalized_embeddings = list(map(normalize_embedding, embeddings))\n",
        "\n",
        "# All the embeddings can be added in a single batch\n",
        "concepts_index.addDataPointBatch(normalized_embeddings)\n",
        "# Commits the index to memory. This must be done before you can query for nearest neighbors\n",
        "concepts_index.createIndex(print_progress=True)"
      ],
      "metadata": {
        "id": "sNWZ9u50OifI"
      },
      "execution_count": null,
      "outputs": []
    },
    {
      "cell_type": "code",
      "source": [
        "with open(\"data/outdoors/outdoors_labels.pickle\", \"rb\") as labels:\n",
        "  labels = pickle.load(labels)\n",
        "\n",
        "# Gets the top k nearest neighbors for the term query “bag” (embedding 25) in our embeddings\n",
        "ids, _ = concepts_index.knnQuery(normalized_embeddings[25], k=10)\n",
        "matches = [labels[phrases[i]].lower() for i in ids]\n",
        "print(matches)"
      ],
      "metadata": {
        "id": "8SQBLxE0lxdz",
        "outputId": "2790355e-7422-4bc9-9811-64b65c917f20",
        "colab": {
          "base_uri": "https://localhost:8080/"
        }
      },
      "execution_count": null,
      "outputs": [
        {
          "output_type": "stream",
          "name": "stdout",
          "text": [
            "['bag', 'bag ratings', 'bag cover', 'bag liner', 'garbage bags', 'wag bags', 'bag cooking', 'airbag', 'paper bag', 'tea bags']\n"
          ]
        }
      ]
    },
    {
      "cell_type": "code",
      "source": [
        "# let's do encoding a query and returning the k-nearest-neighbor concepts\n",
        "def print_labels(query, matches):\n",
        "  display(HTML(f\"<h4>Results for: <em>{query}</em></h4>\"))\n",
        "  for (l, d) in matches:\n",
        "    print(str(int(d * 1000) / 1000), \"|\", l)\n",
        "\n",
        "def embedding_search(index, query, phrases, k=20, min_similarity=0.75):\n",
        "  matches = []\n",
        "  # Gets the embeddings for query\n",
        "  query_embedding = transformer.encode(query)\n",
        "  query_embedding = normalize_embedding(query_embedding)\n",
        "  ids, distances = index.knnQuery(query_embedding, k=k)\n",
        "  for i in range(len(ids)):\n",
        "    # Converts negative dot product distance into a positive dot product\n",
        "    similarity = distances[i] * -1\n",
        "    if similarity >= min_similarity:\n",
        "      matches.append((phrases[ids[i]], similarity))\n",
        "  if not len(matches):\n",
        "    # No neighbors found! Returns just the original term\n",
        "    matches.append((phrases[ids[1]], distances[1] * -1))\n",
        "  return matches"
      ],
      "metadata": {
        "id": "GDKLy9PWoxyW"
      },
      "execution_count": null,
      "outputs": []
    },
    {
      "cell_type": "code",
      "source": [
        "def semantic_suggest(query, phrases):\n",
        "  matches = embedding_search(concepts_index, query, phrases)\n",
        "  print_labels(query, matches)"
      ],
      "metadata": {
        "id": "IBC2z6G2q_vW"
      },
      "execution_count": null,
      "outputs": []
    },
    {
      "cell_type": "code",
      "source": [
        "semantic_suggest(\"mountain hike\", phrases)"
      ],
      "metadata": {
        "id": "9MzyzbqTrjl4",
        "outputId": "38009e4b-cbbb-422a-f23c-7be1cbd42c12",
        "colab": {
          "base_uri": "https://localhost:8080/",
          "height": 200
        }
      },
      "execution_count": null,
      "outputs": [
        {
          "output_type": "display_data",
          "data": {
            "text/plain": [
              "<IPython.core.display.HTML object>"
            ],
            "text/html": [
              "<h4>Results for: <em>mountain hike</em></h4>"
            ]
          },
          "metadata": {}
        },
        {
          "output_type": "stream",
          "name": "stdout",
          "text": [
            "1.0 | mountain hike\n",
            "0.975 | mountain hiking\n",
            "0.847 | mountain trail\n",
            "0.787 | mountain guide\n",
            "0.779 | mountain terrain\n",
            "0.775 | mountain climbing\n",
            "0.768 | mountain ridge\n",
            "0.754 | winter hike\n"
          ]
        }
      ]
    },
    {
      "cell_type": "code",
      "source": [
        "semantic_suggest(\"dehyd\", phrases)"
      ],
      "metadata": {
        "id": "GOqBwlcwrnwc",
        "outputId": "e6e179b2-40cf-4df0-94ee-e48dc839fd17",
        "colab": {
          "base_uri": "https://localhost:8080/",
          "height": 236
        }
      },
      "execution_count": null,
      "outputs": [
        {
          "output_type": "display_data",
          "data": {
            "text/plain": [
              "<IPython.core.display.HTML object>"
            ],
            "text/html": [
              "<h4>Results for: <em>dehyd</em></h4>"
            ]
          },
          "metadata": {}
        },
        {
          "output_type": "stream",
          "name": "stdout",
          "text": [
            "0.941 | dehydrate\n",
            "0.931 | dehydration\n",
            "0.852 | rehydration\n",
            "0.851 | dehydrator\n",
            "0.836 | hydration\n",
            "0.835 | hydrating\n",
            "0.822 | rehydrate\n",
            "0.812 | hydrate\n",
            "0.788 | hydration pack\n",
            "0.776 | hydration system\n"
          ]
        }
      ]
    },
    {
      "cell_type": "code",
      "source": [
        "semantic_suggest(\"polar bear\", phrases)"
      ],
      "metadata": {
        "id": "-Tiwj_NIr3wi",
        "outputId": "6af42e87-5c34-4aee-d5a8-06d774faaded",
        "colab": {
          "base_uri": "https://localhost:8080/",
          "height": 111
        }
      },
      "execution_count": null,
      "outputs": [
        {
          "output_type": "display_data",
          "data": {
            "text/plain": [
              "<IPython.core.display.HTML object>"
            ],
            "text/html": [
              "<h4>Results for: <em>polar bear</em></h4>"
            ]
          },
          "metadata": {}
        },
        {
          "output_type": "stream",
          "name": "stdout",
          "text": [
            "1.0 | polar bear\n",
            "0.804 | polar\n",
            "0.774 | polaris\n"
          ]
        }
      ]
    },
    {
      "cell_type": "code",
      "source": [
        "semantic_suggest(\"bear\", phrases)"
      ],
      "metadata": {
        "id": "mpwq95wBr_YE",
        "outputId": "88106def-c81d-4d20-ce92-ee40aff66eeb",
        "colab": {
          "base_uri": "https://localhost:8080/",
          "height": 396
        }
      },
      "execution_count": null,
      "outputs": [
        {
          "output_type": "display_data",
          "data": {
            "text/plain": [
              "<IPython.core.display.HTML object>"
            ],
            "text/html": [
              "<h4>Results for: <em>bear</em></h4>"
            ]
          },
          "metadata": {}
        },
        {
          "output_type": "stream",
          "name": "stdout",
          "text": [
            "1.0 | bear\n",
            "0.906 | bear territory\n",
            "0.897 | bear country\n",
            "0.896 | bear box\n",
            "0.868 | bear attack\n",
            "0.853 | bear population\n",
            "0.851 | bear cub\n",
            "0.84 | bear bag\n",
            "0.834 | bear banger\n",
            "0.817 | bear hang\n",
            "0.816 | bear guard\n",
            "0.81 | bear pole\n",
            "0.805 | bear can\n",
            "0.8 | bear bell\n",
            "0.794 | bear encounter\n",
            "0.789 | bear activity\n",
            "0.778 | bear canister\n",
            "0.771 | bear spray\n",
            "0.765 | fred bear\n"
          ]
        }
      ]
    },
    {
      "cell_type": "markdown",
      "source": [
        "##"
      ],
      "metadata": {
        "id": "R79aUR9r_mBi"
      }
    }
  ],
  "metadata": {
    "kernelspec": {
      "display_name": "Python 3 (ipykernel)",
      "language": "python",
      "name": "python3"
    },
    "colab": {
      "provenance": [],
      "toc_visible": true,
      "include_colab_link": true
    }
  },
  "nbformat": 4,
  "nbformat_minor": 0
}