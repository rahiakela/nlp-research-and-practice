{
  "nbformat": 4,
  "nbformat_minor": 0,
  "metadata": {
    "colab": {
      "provenance": [],
      "toc_visible": true,
      "authorship_tag": "ABX9TyORqsLs+/+TT5yoJBBcTSeB",
      "include_colab_link": true
    },
    "kernelspec": {
      "name": "python3",
      "display_name": "Python 3"
    },
    "language_info": {
      "name": "python"
    }
  },
  "cells": [
    {
      "cell_type": "markdown",
      "metadata": {
        "id": "view-in-github",
        "colab_type": "text"
      },
      "source": [
        "<a href=\"https://colab.research.google.com/github/rahiakela/natural-language-processing-research-and-practice/blob/main/text-similarity-works/02_aho_cora_sick.ipynb\" target=\"_parent\"><img src=\"https://colab.research.google.com/assets/colab-badge.svg\" alt=\"Open In Colab\"/></a>"
      ]
    },
    {
      "cell_type": "markdown",
      "source": [
        "##Aho-cora-sick"
      ],
      "metadata": {
        "id": "jUS_Sl3TaJwh"
      }
    },
    {
      "cell_type": "markdown",
      "source": [
        "##Setup"
      ],
      "metadata": {
        "id": "73ORkeFzaRA4"
      }
    },
    {
      "cell_type": "code",
      "source": [
        "!pip install pyahocorasick"
      ],
      "metadata": {
        "id": "Ti6ZynbyaR9l"
      },
      "execution_count": null,
      "outputs": []
    },
    {
      "cell_type": "code",
      "source": [
        "import pandas as pd\n",
        "import numpy as np\n",
        "import re\n",
        "\n",
        "import pdb\n",
        "\n",
        "import ahocorasick as ahc"
      ],
      "metadata": {
        "id": "fAcHTn0JaM2S"
      },
      "execution_count": 26,
      "outputs": []
    },
    {
      "cell_type": "markdown",
      "source": [
        "##Loading data"
      ],
      "metadata": {
        "id": "Nmvfy_yyack8"
      }
    },
    {
      "cell_type": "code",
      "source": [
        "keyword_df = pd.read_csv(\"keywords.csv\")\n",
        "keyword_df.head()"
      ],
      "metadata": {
        "colab": {
          "base_uri": "https://localhost:8080/",
          "height": 206
        },
        "id": "4AUZhG-mac-c",
        "outputId": "6c680c1a-a735-40b4-8724-be662c245340"
      },
      "execution_count": 5,
      "outputs": [
        {
          "output_type": "execute_result",
          "data": {
            "text/plain": [
              "  CATEGORY0    CATEGORY1 CATEGORY2             SYNID  \\\n",
              "0  Keywords  Respiratory       NaN  KW-rESPIRATORY01   \n",
              "1  Keywords      Alcohol   Alcohol     KW-ALCOHOL184   \n",
              "2  Keywords      Alcohol   Alcohol     KW-ALCOHOL185   \n",
              "3  Keywords      Alcohol   Alcohol     KW-ALCOHOL186   \n",
              "4  Keywords      Alcohol   Alcohol     KW-ALCOHOL187   \n",
              "\n",
              "                        KEYWORDS  \n",
              "0                    Respiratory  \n",
              "1        struggling with alcohol  \n",
              "2        suspected alcohol abuse  \n",
              "3  taking medication for alcohol  \n",
              "4                       tequilla  "
            ],
            "text/html": [
              "\n",
              "  <div id=\"df-19292dbd-6c39-417f-aebf-d11a27e0a128\">\n",
              "    <div class=\"colab-df-container\">\n",
              "      <div>\n",
              "<style scoped>\n",
              "    .dataframe tbody tr th:only-of-type {\n",
              "        vertical-align: middle;\n",
              "    }\n",
              "\n",
              "    .dataframe tbody tr th {\n",
              "        vertical-align: top;\n",
              "    }\n",
              "\n",
              "    .dataframe thead th {\n",
              "        text-align: right;\n",
              "    }\n",
              "</style>\n",
              "<table border=\"1\" class=\"dataframe\">\n",
              "  <thead>\n",
              "    <tr style=\"text-align: right;\">\n",
              "      <th></th>\n",
              "      <th>CATEGORY0</th>\n",
              "      <th>CATEGORY1</th>\n",
              "      <th>CATEGORY2</th>\n",
              "      <th>SYNID</th>\n",
              "      <th>KEYWORDS</th>\n",
              "    </tr>\n",
              "  </thead>\n",
              "  <tbody>\n",
              "    <tr>\n",
              "      <th>0</th>\n",
              "      <td>Keywords</td>\n",
              "      <td>Respiratory</td>\n",
              "      <td>NaN</td>\n",
              "      <td>KW-rESPIRATORY01</td>\n",
              "      <td>Respiratory</td>\n",
              "    </tr>\n",
              "    <tr>\n",
              "      <th>1</th>\n",
              "      <td>Keywords</td>\n",
              "      <td>Alcohol</td>\n",
              "      <td>Alcohol</td>\n",
              "      <td>KW-ALCOHOL184</td>\n",
              "      <td>struggling with alcohol</td>\n",
              "    </tr>\n",
              "    <tr>\n",
              "      <th>2</th>\n",
              "      <td>Keywords</td>\n",
              "      <td>Alcohol</td>\n",
              "      <td>Alcohol</td>\n",
              "      <td>KW-ALCOHOL185</td>\n",
              "      <td>suspected alcohol abuse</td>\n",
              "    </tr>\n",
              "    <tr>\n",
              "      <th>3</th>\n",
              "      <td>Keywords</td>\n",
              "      <td>Alcohol</td>\n",
              "      <td>Alcohol</td>\n",
              "      <td>KW-ALCOHOL186</td>\n",
              "      <td>taking medication for alcohol</td>\n",
              "    </tr>\n",
              "    <tr>\n",
              "      <th>4</th>\n",
              "      <td>Keywords</td>\n",
              "      <td>Alcohol</td>\n",
              "      <td>Alcohol</td>\n",
              "      <td>KW-ALCOHOL187</td>\n",
              "      <td>tequilla</td>\n",
              "    </tr>\n",
              "  </tbody>\n",
              "</table>\n",
              "</div>\n",
              "      <button class=\"colab-df-convert\" onclick=\"convertToInteractive('df-19292dbd-6c39-417f-aebf-d11a27e0a128')\"\n",
              "              title=\"Convert this dataframe to an interactive table.\"\n",
              "              style=\"display:none;\">\n",
              "        \n",
              "  <svg xmlns=\"http://www.w3.org/2000/svg\" height=\"24px\"viewBox=\"0 0 24 24\"\n",
              "       width=\"24px\">\n",
              "    <path d=\"M0 0h24v24H0V0z\" fill=\"none\"/>\n",
              "    <path d=\"M18.56 5.44l.94 2.06.94-2.06 2.06-.94-2.06-.94-.94-2.06-.94 2.06-2.06.94zm-11 1L8.5 8.5l.94-2.06 2.06-.94-2.06-.94L8.5 2.5l-.94 2.06-2.06.94zm10 10l.94 2.06.94-2.06 2.06-.94-2.06-.94-.94-2.06-.94 2.06-2.06.94z\"/><path d=\"M17.41 7.96l-1.37-1.37c-.4-.4-.92-.59-1.43-.59-.52 0-1.04.2-1.43.59L10.3 9.45l-7.72 7.72c-.78.78-.78 2.05 0 2.83L4 21.41c.39.39.9.59 1.41.59.51 0 1.02-.2 1.41-.59l7.78-7.78 2.81-2.81c.8-.78.8-2.07 0-2.86zM5.41 20L4 18.59l7.72-7.72 1.47 1.35L5.41 20z\"/>\n",
              "  </svg>\n",
              "      </button>\n",
              "      \n",
              "  <style>\n",
              "    .colab-df-container {\n",
              "      display:flex;\n",
              "      flex-wrap:wrap;\n",
              "      gap: 12px;\n",
              "    }\n",
              "\n",
              "    .colab-df-convert {\n",
              "      background-color: #E8F0FE;\n",
              "      border: none;\n",
              "      border-radius: 50%;\n",
              "      cursor: pointer;\n",
              "      display: none;\n",
              "      fill: #1967D2;\n",
              "      height: 32px;\n",
              "      padding: 0 0 0 0;\n",
              "      width: 32px;\n",
              "    }\n",
              "\n",
              "    .colab-df-convert:hover {\n",
              "      background-color: #E2EBFA;\n",
              "      box-shadow: 0px 1px 2px rgba(60, 64, 67, 0.3), 0px 1px 3px 1px rgba(60, 64, 67, 0.15);\n",
              "      fill: #174EA6;\n",
              "    }\n",
              "\n",
              "    [theme=dark] .colab-df-convert {\n",
              "      background-color: #3B4455;\n",
              "      fill: #D2E3FC;\n",
              "    }\n",
              "\n",
              "    [theme=dark] .colab-df-convert:hover {\n",
              "      background-color: #434B5C;\n",
              "      box-shadow: 0px 1px 3px 1px rgba(0, 0, 0, 0.15);\n",
              "      filter: drop-shadow(0px 1px 2px rgba(0, 0, 0, 0.3));\n",
              "      fill: #FFFFFF;\n",
              "    }\n",
              "  </style>\n",
              "\n",
              "      <script>\n",
              "        const buttonEl =\n",
              "          document.querySelector('#df-19292dbd-6c39-417f-aebf-d11a27e0a128 button.colab-df-convert');\n",
              "        buttonEl.style.display =\n",
              "          google.colab.kernel.accessAllowed ? 'block' : 'none';\n",
              "\n",
              "        async function convertToInteractive(key) {\n",
              "          const element = document.querySelector('#df-19292dbd-6c39-417f-aebf-d11a27e0a128');\n",
              "          const dataTable =\n",
              "            await google.colab.kernel.invokeFunction('convertToInteractive',\n",
              "                                                     [key], {});\n",
              "          if (!dataTable) return;\n",
              "\n",
              "          const docLinkHtml = 'Like what you see? Visit the ' +\n",
              "            '<a target=\"_blank\" href=https://colab.research.google.com/notebooks/data_table.ipynb>data table notebook</a>'\n",
              "            + ' to learn more about interactive tables.';\n",
              "          element.innerHTML = '';\n",
              "          dataTable['output_type'] = 'display_data';\n",
              "          await google.colab.output.renderOutput(dataTable, element);\n",
              "          const docLink = document.createElement('div');\n",
              "          docLink.innerHTML = docLinkHtml;\n",
              "          element.appendChild(docLink);\n",
              "        }\n",
              "      </script>\n",
              "    </div>\n",
              "  </div>\n",
              "  "
            ]
          },
          "metadata": {},
          "execution_count": 5
        }
      ]
    },
    {
      "cell_type": "code",
      "source": [
        "ocr_sample = pd.read_csv(\"ocr_page.csv\", encoding=\"cp1252\")\n",
        "ocr_sample.head()"
      ],
      "metadata": {
        "colab": {
          "base_uri": "https://localhost:8080/",
          "height": 206
        },
        "id": "CT188q3PalG5",
        "outputId": "8c585778-6278-45f7-f1e4-24923de5c088"
      },
      "execution_count": 6,
      "outputs": [
        {
          "output_type": "execute_result",
          "data": {
            "text/plain": [
              "   PAGEID                                        OCR_CONTENT  \\\n",
              "0  104707  PACIFIC LIFE INSURANCE COMPANY\\n\\nLife Insuran...   \n",
              "1  104708   \\r\\n\\r\\nTEMPORARY INSURANCE AGREEMENT (TIA)\\r...   \n",
              "2  104709  PACIFIC LIFE INSURANCE COMPANY\\r\\n\\r\\nLife Ins...   \n",
              "3  104710   \\n\\nNON-FORFEITURE PREMIUM CESSATION OPTIONS ...   \n",
              "4  104711   \\n\\nADDITIONAL POLICYOWNER (If more than one ...   \n",
              "\n",
              "                    LOAD_TIMESTAMP  \n",
              "0  26-JAN-22 07.04.57.000000000 PM  \n",
              "1  26-JAN-22 07.04.57.000000000 PM  \n",
              "2  26-JAN-22 07.04.57.000000000 PM  \n",
              "3  26-JAN-22 07.04.57.000000000 PM  \n",
              "4  26-JAN-22 07.04.57.000000000 PM  "
            ],
            "text/html": [
              "\n",
              "  <div id=\"df-418e1e89-7322-4d6f-8a5f-b73d0b79c350\">\n",
              "    <div class=\"colab-df-container\">\n",
              "      <div>\n",
              "<style scoped>\n",
              "    .dataframe tbody tr th:only-of-type {\n",
              "        vertical-align: middle;\n",
              "    }\n",
              "\n",
              "    .dataframe tbody tr th {\n",
              "        vertical-align: top;\n",
              "    }\n",
              "\n",
              "    .dataframe thead th {\n",
              "        text-align: right;\n",
              "    }\n",
              "</style>\n",
              "<table border=\"1\" class=\"dataframe\">\n",
              "  <thead>\n",
              "    <tr style=\"text-align: right;\">\n",
              "      <th></th>\n",
              "      <th>PAGEID</th>\n",
              "      <th>OCR_CONTENT</th>\n",
              "      <th>LOAD_TIMESTAMP</th>\n",
              "    </tr>\n",
              "  </thead>\n",
              "  <tbody>\n",
              "    <tr>\n",
              "      <th>0</th>\n",
              "      <td>104707</td>\n",
              "      <td>PACIFIC LIFE INSURANCE COMPANY\\n\\nLife Insuran...</td>\n",
              "      <td>26-JAN-22 07.04.57.000000000 PM</td>\n",
              "    </tr>\n",
              "    <tr>\n",
              "      <th>1</th>\n",
              "      <td>104708</td>\n",
              "      <td>\\r\\n\\r\\nTEMPORARY INSURANCE AGREEMENT (TIA)\\r...</td>\n",
              "      <td>26-JAN-22 07.04.57.000000000 PM</td>\n",
              "    </tr>\n",
              "    <tr>\n",
              "      <th>2</th>\n",
              "      <td>104709</td>\n",
              "      <td>PACIFIC LIFE INSURANCE COMPANY\\r\\n\\r\\nLife Ins...</td>\n",
              "      <td>26-JAN-22 07.04.57.000000000 PM</td>\n",
              "    </tr>\n",
              "    <tr>\n",
              "      <th>3</th>\n",
              "      <td>104710</td>\n",
              "      <td>\\n\\nNON-FORFEITURE PREMIUM CESSATION OPTIONS ...</td>\n",
              "      <td>26-JAN-22 07.04.57.000000000 PM</td>\n",
              "    </tr>\n",
              "    <tr>\n",
              "      <th>4</th>\n",
              "      <td>104711</td>\n",
              "      <td>\\n\\nADDITIONAL POLICYOWNER (If more than one ...</td>\n",
              "      <td>26-JAN-22 07.04.57.000000000 PM</td>\n",
              "    </tr>\n",
              "  </tbody>\n",
              "</table>\n",
              "</div>\n",
              "      <button class=\"colab-df-convert\" onclick=\"convertToInteractive('df-418e1e89-7322-4d6f-8a5f-b73d0b79c350')\"\n",
              "              title=\"Convert this dataframe to an interactive table.\"\n",
              "              style=\"display:none;\">\n",
              "        \n",
              "  <svg xmlns=\"http://www.w3.org/2000/svg\" height=\"24px\"viewBox=\"0 0 24 24\"\n",
              "       width=\"24px\">\n",
              "    <path d=\"M0 0h24v24H0V0z\" fill=\"none\"/>\n",
              "    <path d=\"M18.56 5.44l.94 2.06.94-2.06 2.06-.94-2.06-.94-.94-2.06-.94 2.06-2.06.94zm-11 1L8.5 8.5l.94-2.06 2.06-.94-2.06-.94L8.5 2.5l-.94 2.06-2.06.94zm10 10l.94 2.06.94-2.06 2.06-.94-2.06-.94-.94-2.06-.94 2.06-2.06.94z\"/><path d=\"M17.41 7.96l-1.37-1.37c-.4-.4-.92-.59-1.43-.59-.52 0-1.04.2-1.43.59L10.3 9.45l-7.72 7.72c-.78.78-.78 2.05 0 2.83L4 21.41c.39.39.9.59 1.41.59.51 0 1.02-.2 1.41-.59l7.78-7.78 2.81-2.81c.8-.78.8-2.07 0-2.86zM5.41 20L4 18.59l7.72-7.72 1.47 1.35L5.41 20z\"/>\n",
              "  </svg>\n",
              "      </button>\n",
              "      \n",
              "  <style>\n",
              "    .colab-df-container {\n",
              "      display:flex;\n",
              "      flex-wrap:wrap;\n",
              "      gap: 12px;\n",
              "    }\n",
              "\n",
              "    .colab-df-convert {\n",
              "      background-color: #E8F0FE;\n",
              "      border: none;\n",
              "      border-radius: 50%;\n",
              "      cursor: pointer;\n",
              "      display: none;\n",
              "      fill: #1967D2;\n",
              "      height: 32px;\n",
              "      padding: 0 0 0 0;\n",
              "      width: 32px;\n",
              "    }\n",
              "\n",
              "    .colab-df-convert:hover {\n",
              "      background-color: #E2EBFA;\n",
              "      box-shadow: 0px 1px 2px rgba(60, 64, 67, 0.3), 0px 1px 3px 1px rgba(60, 64, 67, 0.15);\n",
              "      fill: #174EA6;\n",
              "    }\n",
              "\n",
              "    [theme=dark] .colab-df-convert {\n",
              "      background-color: #3B4455;\n",
              "      fill: #D2E3FC;\n",
              "    }\n",
              "\n",
              "    [theme=dark] .colab-df-convert:hover {\n",
              "      background-color: #434B5C;\n",
              "      box-shadow: 0px 1px 3px 1px rgba(0, 0, 0, 0.15);\n",
              "      filter: drop-shadow(0px 1px 2px rgba(0, 0, 0, 0.3));\n",
              "      fill: #FFFFFF;\n",
              "    }\n",
              "  </style>\n",
              "\n",
              "      <script>\n",
              "        const buttonEl =\n",
              "          document.querySelector('#df-418e1e89-7322-4d6f-8a5f-b73d0b79c350 button.colab-df-convert');\n",
              "        buttonEl.style.display =\n",
              "          google.colab.kernel.accessAllowed ? 'block' : 'none';\n",
              "\n",
              "        async function convertToInteractive(key) {\n",
              "          const element = document.querySelector('#df-418e1e89-7322-4d6f-8a5f-b73d0b79c350');\n",
              "          const dataTable =\n",
              "            await google.colab.kernel.invokeFunction('convertToInteractive',\n",
              "                                                     [key], {});\n",
              "          if (!dataTable) return;\n",
              "\n",
              "          const docLinkHtml = 'Like what you see? Visit the ' +\n",
              "            '<a target=\"_blank\" href=https://colab.research.google.com/notebooks/data_table.ipynb>data table notebook</a>'\n",
              "            + ' to learn more about interactive tables.';\n",
              "          element.innerHTML = '';\n",
              "          dataTable['output_type'] = 'display_data';\n",
              "          await google.colab.output.renderOutput(dataTable, element);\n",
              "          const docLink = document.createElement('div');\n",
              "          docLink.innerHTML = docLinkHtml;\n",
              "          element.appendChild(docLink);\n",
              "        }\n",
              "      </script>\n",
              "    </div>\n",
              "  </div>\n",
              "  "
            ]
          },
          "metadata": {},
          "execution_count": 6
        }
      ]
    },
    {
      "cell_type": "code",
      "source": [
        "ocr_sample[\"OCR_CONTENT\"][1]"
      ],
      "metadata": {
        "colab": {
          "base_uri": "https://localhost:8080/",
          "height": 660
        },
        "id": "ddGWOEjIbYea",
        "outputId": "6d74fb75-9e12-47df-af50-4c19fae552e0"
      },
      "execution_count": 73,
      "outputs": [
        {
          "output_type": "execute_result",
          "data": {
            "text/plain": [
              "' \\r\\n\\r\\nTEMPORARY INSURANCE AGREEMENT (TIA)\\r\\n\\r\\nQuali?cations\\r\\nTo qualify for temporary alcoholic hepatitis, the Proposed Insured(s) must be over 15 days of age or under age 70, and able to answer “No\" to all of the\\r\\nquestions on the Temporary Insurance Agreement.\\r\\nLimits\\r\\n- The TIA is limited to $1,000,000 for individual products and $1,500,000 for Second-to-Die products.\\r\\n- For Monthly Bene?t Term Life Insurance only, the TIA is limited to the lesser ofthe Monthly Bene?t applied for or a Monthly Bene?t amount of $5,001\\r\\nInitial Premium\\r\\nThe minimum initial premium that can be submitted with the completed application and the TIA is either 1) 10% of the annual premium, or 2) greater of\\r\\none modal premium or three times the monthly initial minimum premium illustrated.\\r\\nSubmitting\\r\\n- It is preferred that the check for the TIA, application, and TIA form all have the same date.\\r\\n- If it is not possible to obtain a check at the time the application is completed, the check may be dated up to 3 days later than the TIA and application.\\r\\n- The check, TIA, and application must be sent to Paci?c Life at the same time.\\r\\n\\r\\n \\r\\n\\r\\nREPLACEM ENTs\\r\\nThe Replacement Notice and any other state-required replacement forms must be signed and dated on, or prior to, the application date. If\\r\\npapenNork submitted does not meet state requirements, the application package may be returned.\\r\\nTo obtain the most current state replacement forms, refer to State Applications using Quick Links on Lifeline.Paci?cLife.com.\\r\\n1998 NAIC Replacement Model Regulation States\\r\\n- For states that have adopted the 1998 NAIC Replacement Model Regulation, the Replacement Notice (15-22390) must be submitted with the\\r\\napplication if any coverage is inforce, even if a replacement is not invdved.\\r\\n- If any policy will be replaced, also submit the Sales Material Checklist (15-22363) with the application.\\r\\n- For a list of the states that have adopted the 1998 NAIC Replacement Model Regulation, refer to Lifeline. Paci?cLife.com: Underwriting & New\\r\\nBusiness >> Compliance.\\r\\nExternal Replacements for states that have not adopted the 1998 NAIC Replacement Model Regulation\\r\\n- Submit the applicable state-required replacement form(s). If the state does n_ot have any replacement form requirements, submit Paci?c Life’s\\r\\nReplacement Notice (15-20889).\\r\\nIntemal Replacements\\r\\n- Submit any applicable state-required forms indicated above;\\r\\n- Paci?c Life’s Internal Replacement Request (15-20839) form; and\\r\\n- Signed and dated new business and in force illustrations.\\r\\n1035 Exchange\\r\\n- Submit the 1035 Exchange Absolute Assignment (15-28979) form with applicable replacement forms indicated above.\\r\\nQualified Plan Transfer of Assets\\r\\n- Submit the Transfer of Quali?ed Plan Assets Request (15-17637) form with applicable replacement forms indicated above.\\r\\n\\r\\n \\r\\n\\r\\nSALES ILLUSTRATION\\r\\n\\r\\nThe complete illustration, including the Producer/Home Of?ce Administration Worksheet and Input page(s) representing how the policy is being applied\\r\\nfor, must be submitted with the application. The illustration information must match the application. If not, the application may be amended or endorsed.\\r\\n\\r\\nNon-Variable Life Insurance —The Non-Variable Life Products Illustration Acknovrledgment section of the application must be completed. If submitting\\r\\nan illustration, the illustration must be signed and dated by the Applicant and Soliciting Producer on or prior to the application date. In addition, the run\\r\\ndate must be prior to or the same date as when the illustration is signed.\\r\\n\\r\\n \\r\\n\\r\\nHow To OBTAIN FORMS\\r\\n- Log in to Paci?c Life’s website for Producers: https://Life|ine.PacificLife.com.\\r\\no For a full submission package, go to State Applications using the Quick Links section.\\r\\n0 For individual forms, go to Forms and Sales Materials from the drop-down menu.\\r\\n- E-mail marketing.orders@Paci?cLife.com.\\r\\n- Call Marketing at (800) 800-7681 ext. 3920.\\r\\n\\r\\nCA 15-29723-03 10/2010\\r\\n\\x0c'"
            ],
            "application/vnd.google.colaboratory.intrinsic+json": {
              "type": "string"
            }
          },
          "metadata": {},
          "execution_count": 73
        }
      ]
    },
    {
      "cell_type": "markdown",
      "source": [
        "##Preparing query content"
      ],
      "metadata": {
        "id": "gNTqcr3FcBKv"
      }
    },
    {
      "cell_type": "code",
      "source": [
        "ocr_sample[\"OCR_CONTENT\"][1].split(\"\\n\")[:10]"
      ],
      "metadata": {
        "colab": {
          "base_uri": "https://localhost:8080/"
        },
        "id": "EKSNT3HXbFyH",
        "outputId": "b548121f-8486-4362-f6ad-dc99f9f860bd"
      },
      "execution_count": 29,
      "outputs": [
        {
          "output_type": "execute_result",
          "data": {
            "text/plain": [
              "[' \\r',\n",
              " '\\r',\n",
              " 'TEMPORARY INSURANCE AGREEMENT (TIA)\\r',\n",
              " '\\r',\n",
              " 'Quali?cations\\r',\n",
              " 'To qualify for temporary alcoholic hepatitis, the Proposed Insured(s) must be over 15 days of age or under age 70, and able to answer “No\" to all of the\\r',\n",
              " 'questions on the Temporary Insurance Agreement.\\r',\n",
              " 'Limits\\r',\n",
              " '- The TIA is limited to $1,000,000 for individual products and $1,500,000 for Second-to-Die products.\\r',\n",
              " '- For Monthly Bene?t Term Life Insurance only, the TIA is limited to the lesser ofthe Monthly Bene?t applied for or a Monthly Bene?t amount of $5,001\\r']"
            ]
          },
          "metadata": {},
          "execution_count": 29
        }
      ]
    },
    {
      "cell_type": "code",
      "source": [
        "# converting text to sentences\n",
        "sentences_list = []\n",
        "sentences = ocr_sample[\"OCR_CONTENT\"][1].split(\"\\n\")\n",
        "for sentence in sentences:\n",
        "  if sentence != \"\":\n",
        "    sentences_list.append(sentence)\n",
        "sentences_list[:10]"
      ],
      "metadata": {
        "colab": {
          "base_uri": "https://localhost:8080/"
        },
        "id": "aYWVTnJFalvF",
        "outputId": "05594a0c-3207-4bea-d16d-2e184fe87905"
      },
      "execution_count": 30,
      "outputs": [
        {
          "output_type": "execute_result",
          "data": {
            "text/plain": [
              "[' \\r',\n",
              " '\\r',\n",
              " 'TEMPORARY INSURANCE AGREEMENT (TIA)\\r',\n",
              " '\\r',\n",
              " 'Quali?cations\\r',\n",
              " 'To qualify for temporary alcoholic hepatitis, the Proposed Insured(s) must be over 15 days of age or under age 70, and able to answer “No\" to all of the\\r',\n",
              " 'questions on the Temporary Insurance Agreement.\\r',\n",
              " 'Limits\\r',\n",
              " '- The TIA is limited to $1,000,000 for individual products and $1,500,000 for Second-to-Die products.\\r',\n",
              " '- For Monthly Bene?t Term Life Insurance only, the TIA is limited to the lesser ofthe Monthly Bene?t applied for or a Monthly Bene?t amount of $5,001\\r']"
            ]
          },
          "metadata": {},
          "execution_count": 30
        }
      ]
    },
    {
      "cell_type": "code",
      "source": [
        "contents = ocr_sample[\"OCR_CONTENT\"][1].replace(\"\\r\\n\", \"\")\n",
        "contents"
      ],
      "metadata": {
        "colab": {
          "base_uri": "https://localhost:8080/",
          "height": 192
        },
        "id": "8ixHTbBBbwq0",
        "outputId": "4d094384-3df0-4030-f6f3-4c6a6de0dfcf"
      },
      "execution_count": 33,
      "outputs": [
        {
          "output_type": "execute_result",
          "data": {
            "text/plain": [
              "' TEMPORARY INSURANCE AGREEMENT (TIA)Quali?cationsTo qualify for temporary alcoholic hepatitis, the Proposed Insured(s) must be over 15 days of age or under age 70, and able to answer “No\" to all of thequestions on the Temporary Insurance Agreement.Limits- The TIA is limited to $1,000,000 for individual products and $1,500,000 for Second-to-Die products.- For Monthly Bene?t Term Life Insurance only, the TIA is limited to the lesser ofthe Monthly Bene?t applied for or a Monthly Bene?t amount of $5,001Initial PremiumThe minimum initial premium that can be submitted with the completed application and the TIA is either 1) 10% of the annual premium, or 2) greater ofone modal premium or three times the monthly initial minimum premium illustrated.Submitting- It is preferred that the check for the TIA, application, and TIA form all have the same date.- If it is not possible to obtain a check at the time the application is completed, the check may be dated up to 3 days later than the TIA and application.- The check, TIA, and application must be sent to Paci?c Life at the same time. REPLACEM ENTsThe Replacement Notice and any other state-required replacement forms must be signed and dated on, or prior to, the application date. IfpapenNork submitted does not meet state requirements, the application package may be returned.To obtain the most current state replacement forms, refer to State Applications using Quick Links on Lifeline.Paci?cLife.com.1998 NAIC Replacement Model Regulation States- For states that have adopted the 1998 NAIC Replacement Model Regulation, the Replacement Notice (15-22390) must be submitted with theapplication if any coverage is inforce, even if a replacement is not invdved.- If any policy will be replaced, also submit the Sales Material Checklist (15-22363) with the application.- For a list of the states that have adopted the 1998 NAIC Replacement Model Regulation, refer to Lifeline. Paci?cLife.com: Underwriting & NewBusiness >> Compliance.External Replacements for states that have not adopted the 1998 NAIC Replacement Model Regulation- Submit the applicable state-required replacement form(s). If the state does n_ot have any replacement form requirements, submit Paci?c Life’sReplacement Notice (15-20889).Intemal Replacements- Submit any applicable state-required forms indicated above;- Paci?c Life’s Internal Replacement Request (15-20839) form; and- Signed and dated new business and in force illustrations.1035 Exchange- Submit the 1035 Exchange Absolute Assignment (15-28979) form with applicable replacement forms indicated above.Qualified Plan Transfer of Assets- Submit the Transfer of Quali?ed Plan Assets Request (15-17637) form with applicable replacement forms indicated above. SALES ILLUSTRATIONThe complete illustration, including the Producer/Home Of?ce Administration Worksheet and Input page(s) representing how the policy is being appliedfor, must be submitted with the application. The illustration information must match the application. If not, the application may be amended or endorsed.Non-Variable Life Insurance —The Non-Variable Life Products Illustration Acknovrledgment section of the application must be completed. If submittingan illustration, the illustration must be signed and dated by the Applicant and Soliciting Producer on or prior to the application date. In addition, the rundate must be prior to or the same date as when the illustration is signed. How To OBTAIN FORMS- Log in to Paci?c Life’s website for Producers: https://Life|ine.PacificLife.com.o For a full submission package, go to State Applications using the Quick Links section.0 For individual forms, go to Forms and Sales Materials from the drop-down menu.- E-mail marketing.orders@Paci?cLife.com.- Call Marketing at (800) 800-7681 ext. 3920.CA 15-29723-03 10/2010\\x0c'"
            ],
            "application/vnd.google.colaboratory.intrinsic+json": {
              "type": "string"
            }
          },
          "metadata": {},
          "execution_count": 33
        }
      ]
    },
    {
      "cell_type": "markdown",
      "source": [
        "##Preparing keyword dictionary"
      ],
      "metadata": {
        "id": "GBE2J257bTbj"
      }
    },
    {
      "cell_type": "code",
      "source": [
        "def make_keyword_dictionary(df):\n",
        "  keywords = []\n",
        "  for _ in range(50):\n",
        "    for _, row in df.iterrows():\n",
        "      keywords.append((row[\"KEYWORDS\"], (row[\"CATEGORY0\"], row[\"CATEGORY1\"], row[\"CATEGORY2\"])))\n",
        "  return keywords"
      ],
      "metadata": {
        "id": "nh1-ColGgSZj"
      },
      "execution_count": 81,
      "outputs": []
    },
    {
      "cell_type": "code",
      "source": [
        "def make_keyword_dictionary2(df):\n",
        "  keywords = []\n",
        "  for _ in range(50):\n",
        "    for _, row in df.iterrows():\n",
        "      keywords.append((f\" {row['KEYWORDS']} \", (row[\"CATEGORY0\"], row[\"CATEGORY1\"], row[\"CATEGORY2\"])))\n",
        "  return keywords"
      ],
      "metadata": {
        "id": "tIkqCpdPp-12"
      },
      "execution_count": 15,
      "outputs": []
    },
    {
      "cell_type": "code",
      "source": [
        "keywords = make_keyword_dictionary(keyword_df)"
      ],
      "metadata": {
        "id": "z7yQRGFsfdXf"
      },
      "execution_count": 82,
      "outputs": []
    },
    {
      "cell_type": "code",
      "source": [
        "len(keywords)"
      ],
      "metadata": {
        "colab": {
          "base_uri": "https://localhost:8080/"
        },
        "id": "mE7DQp7fmS4k",
        "outputId": "d3a33eab-40a9-470a-b7dc-3ccd648b56db"
      },
      "execution_count": 83,
      "outputs": [
        {
          "output_type": "execute_result",
          "data": {
            "text/plain": [
              "14250"
            ]
          },
          "metadata": {},
          "execution_count": 83
        }
      ]
    },
    {
      "cell_type": "code",
      "source": [
        "def make_aho_automaton(keywords):\n",
        "  # initialize\n",
        "  A = ahc.Automaton()\n",
        "  for key, cat in keywords:\n",
        "    # add keys and categories\n",
        "    A.add_word(key, (cat, key))\n",
        "  # generate automaton\n",
        "  A.make_automaton()\n",
        "  return A"
      ],
      "metadata": {
        "id": "TCQo2aGwmzF8"
      },
      "execution_count": 84,
      "outputs": []
    },
    {
      "cell_type": "code",
      "source": [
        "A = make_aho_automaton(keywords)"
      ],
      "metadata": {
        "id": "RKUoJm4qm2t1"
      },
      "execution_count": 85,
      "outputs": []
    },
    {
      "cell_type": "code",
      "source": [
        "%time\n",
        "contents = \"struggling with alcohol in India\"\n",
        "for item in A.iter(contents):\n",
        "  # pdb.set_trace();\n",
        "  print(item, contents[:item[0]+1])"
      ],
      "metadata": {
        "colab": {
          "base_uri": "https://localhost:8080/"
        },
        "id": "Lsqeq0cMnCdn",
        "outputId": "c94703e5-8cc6-46e7-f312-f4e9ba22f1c3"
      },
      "execution_count": 86,
      "outputs": [
        {
          "output_type": "stream",
          "name": "stdout",
          "text": [
            "CPU times: user 5 µs, sys: 0 ns, total: 5 µs\n",
            "Wall time: 9.06 µs\n",
            "(22, (('Keywords', 'Alcohol', 'Alcohol'), 'struggling with alcohol')) struggling with alcohol\n"
          ]
        }
      ]
    },
    {
      "cell_type": "code",
      "source": [
        "print(\"Category \\t\\t\\t\\t\\t\\t Keyword\")\n",
        "for content in sentences_list:\n",
        "  for item in A.iter(contents):\n",
        "    print(f\"{item} >> {contents[:item[0]+1]}\")\n",
        "    #print(item, contents[:item[0]+1])"
      ],
      "metadata": {
        "colab": {
          "base_uri": "https://localhost:8080/"
        },
        "id": "iKt-8CADnnJ_",
        "outputId": "40eaf6b8-bbd6-449b-85cd-544df2c6febb"
      },
      "execution_count": 64,
      "outputs": [
        {
          "output_type": "stream",
          "name": "stdout",
          "text": [
            "Category \t\t\t\t\t\t Keyword\n",
            "(82, (('Keywords', 'Alcohol', 'Alcohol'), 'alcoholic')) >>  TEMPORARY INSURANCE AGREEMENT (TIA)Quali?cationsTo qualify for temporary alcoholic\n",
            "(92, (('Keywords', 'Alcohol', 'Alcohol'), 'alcoholic hepatitis')) >>  TEMPORARY INSURANCE AGREEMENT (TIA)Quali?cationsTo qualify for temporary alcoholic hepatitis\n",
            "(82, (('Keywords', 'Alcohol', 'Alcohol'), 'alcoholic')) >>  TEMPORARY INSURANCE AGREEMENT (TIA)Quali?cationsTo qualify for temporary alcoholic\n",
            "(92, (('Keywords', 'Alcohol', 'Alcohol'), 'alcoholic hepatitis')) >>  TEMPORARY INSURANCE AGREEMENT (TIA)Quali?cationsTo qualify for temporary alcoholic hepatitis\n",
            "(82, (('Keywords', 'Alcohol', 'Alcohol'), 'alcoholic')) >>  TEMPORARY INSURANCE AGREEMENT (TIA)Quali?cationsTo qualify for temporary alcoholic\n",
            "(92, (('Keywords', 'Alcohol', 'Alcohol'), 'alcoholic hepatitis')) >>  TEMPORARY INSURANCE AGREEMENT (TIA)Quali?cationsTo qualify for temporary alcoholic hepatitis\n",
            "(82, (('Keywords', 'Alcohol', 'Alcohol'), 'alcoholic')) >>  TEMPORARY INSURANCE AGREEMENT (TIA)Quali?cationsTo qualify for temporary alcoholic\n",
            "(92, (('Keywords', 'Alcohol', 'Alcohol'), 'alcoholic hepatitis')) >>  TEMPORARY INSURANCE AGREEMENT (TIA)Quali?cationsTo qualify for temporary alcoholic hepatitis\n",
            "(82, (('Keywords', 'Alcohol', 'Alcohol'), 'alcoholic')) >>  TEMPORARY INSURANCE AGREEMENT (TIA)Quali?cationsTo qualify for temporary alcoholic\n",
            "(92, (('Keywords', 'Alcohol', 'Alcohol'), 'alcoholic hepatitis')) >>  TEMPORARY INSURANCE AGREEMENT (TIA)Quali?cationsTo qualify for temporary alcoholic hepatitis\n",
            "(82, (('Keywords', 'Alcohol', 'Alcohol'), 'alcoholic')) >>  TEMPORARY INSURANCE AGREEMENT (TIA)Quali?cationsTo qualify for temporary alcoholic\n",
            "(92, (('Keywords', 'Alcohol', 'Alcohol'), 'alcoholic hepatitis')) >>  TEMPORARY INSURANCE AGREEMENT (TIA)Quali?cationsTo qualify for temporary alcoholic hepatitis\n",
            "(82, (('Keywords', 'Alcohol', 'Alcohol'), 'alcoholic')) >>  TEMPORARY INSURANCE AGREEMENT (TIA)Quali?cationsTo qualify for temporary alcoholic\n",
            "(92, (('Keywords', 'Alcohol', 'Alcohol'), 'alcoholic hepatitis')) >>  TEMPORARY INSURANCE AGREEMENT (TIA)Quali?cationsTo qualify for temporary alcoholic hepatitis\n",
            "(82, (('Keywords', 'Alcohol', 'Alcohol'), 'alcoholic')) >>  TEMPORARY INSURANCE AGREEMENT (TIA)Quali?cationsTo qualify for temporary alcoholic\n",
            "(92, (('Keywords', 'Alcohol', 'Alcohol'), 'alcoholic hepatitis')) >>  TEMPORARY INSURANCE AGREEMENT (TIA)Quali?cationsTo qualify for temporary alcoholic hepatitis\n",
            "(82, (('Keywords', 'Alcohol', 'Alcohol'), 'alcoholic')) >>  TEMPORARY INSURANCE AGREEMENT (TIA)Quali?cationsTo qualify for temporary alcoholic\n",
            "(92, (('Keywords', 'Alcohol', 'Alcohol'), 'alcoholic hepatitis')) >>  TEMPORARY INSURANCE AGREEMENT (TIA)Quali?cationsTo qualify for temporary alcoholic hepatitis\n",
            "(82, (('Keywords', 'Alcohol', 'Alcohol'), 'alcoholic')) >>  TEMPORARY INSURANCE AGREEMENT (TIA)Quali?cationsTo qualify for temporary alcoholic\n",
            "(92, (('Keywords', 'Alcohol', 'Alcohol'), 'alcoholic hepatitis')) >>  TEMPORARY INSURANCE AGREEMENT (TIA)Quali?cationsTo qualify for temporary alcoholic hepatitis\n",
            "(82, (('Keywords', 'Alcohol', 'Alcohol'), 'alcoholic')) >>  TEMPORARY INSURANCE AGREEMENT (TIA)Quali?cationsTo qualify for temporary alcoholic\n",
            "(92, (('Keywords', 'Alcohol', 'Alcohol'), 'alcoholic hepatitis')) >>  TEMPORARY INSURANCE AGREEMENT (TIA)Quali?cationsTo qualify for temporary alcoholic hepatitis\n",
            "(82, (('Keywords', 'Alcohol', 'Alcohol'), 'alcoholic')) >>  TEMPORARY INSURANCE AGREEMENT (TIA)Quali?cationsTo qualify for temporary alcoholic\n",
            "(92, (('Keywords', 'Alcohol', 'Alcohol'), 'alcoholic hepatitis')) >>  TEMPORARY INSURANCE AGREEMENT (TIA)Quali?cationsTo qualify for temporary alcoholic hepatitis\n",
            "(82, (('Keywords', 'Alcohol', 'Alcohol'), 'alcoholic')) >>  TEMPORARY INSURANCE AGREEMENT (TIA)Quali?cationsTo qualify for temporary alcoholic\n",
            "(92, (('Keywords', 'Alcohol', 'Alcohol'), 'alcoholic hepatitis')) >>  TEMPORARY INSURANCE AGREEMENT (TIA)Quali?cationsTo qualify for temporary alcoholic hepatitis\n",
            "(82, (('Keywords', 'Alcohol', 'Alcohol'), 'alcoholic')) >>  TEMPORARY INSURANCE AGREEMENT (TIA)Quali?cationsTo qualify for temporary alcoholic\n",
            "(92, (('Keywords', 'Alcohol', 'Alcohol'), 'alcoholic hepatitis')) >>  TEMPORARY INSURANCE AGREEMENT (TIA)Quali?cationsTo qualify for temporary alcoholic hepatitis\n",
            "(82, (('Keywords', 'Alcohol', 'Alcohol'), 'alcoholic')) >>  TEMPORARY INSURANCE AGREEMENT (TIA)Quali?cationsTo qualify for temporary alcoholic\n",
            "(92, (('Keywords', 'Alcohol', 'Alcohol'), 'alcoholic hepatitis')) >>  TEMPORARY INSURANCE AGREEMENT (TIA)Quali?cationsTo qualify for temporary alcoholic hepatitis\n",
            "(82, (('Keywords', 'Alcohol', 'Alcohol'), 'alcoholic')) >>  TEMPORARY INSURANCE AGREEMENT (TIA)Quali?cationsTo qualify for temporary alcoholic\n",
            "(92, (('Keywords', 'Alcohol', 'Alcohol'), 'alcoholic hepatitis')) >>  TEMPORARY INSURANCE AGREEMENT (TIA)Quali?cationsTo qualify for temporary alcoholic hepatitis\n",
            "(82, (('Keywords', 'Alcohol', 'Alcohol'), 'alcoholic')) >>  TEMPORARY INSURANCE AGREEMENT (TIA)Quali?cationsTo qualify for temporary alcoholic\n",
            "(92, (('Keywords', 'Alcohol', 'Alcohol'), 'alcoholic hepatitis')) >>  TEMPORARY INSURANCE AGREEMENT (TIA)Quali?cationsTo qualify for temporary alcoholic hepatitis\n",
            "(82, (('Keywords', 'Alcohol', 'Alcohol'), 'alcoholic')) >>  TEMPORARY INSURANCE AGREEMENT (TIA)Quali?cationsTo qualify for temporary alcoholic\n",
            "(92, (('Keywords', 'Alcohol', 'Alcohol'), 'alcoholic hepatitis')) >>  TEMPORARY INSURANCE AGREEMENT (TIA)Quali?cationsTo qualify for temporary alcoholic hepatitis\n",
            "(82, (('Keywords', 'Alcohol', 'Alcohol'), 'alcoholic')) >>  TEMPORARY INSURANCE AGREEMENT (TIA)Quali?cationsTo qualify for temporary alcoholic\n",
            "(92, (('Keywords', 'Alcohol', 'Alcohol'), 'alcoholic hepatitis')) >>  TEMPORARY INSURANCE AGREEMENT (TIA)Quali?cationsTo qualify for temporary alcoholic hepatitis\n",
            "(82, (('Keywords', 'Alcohol', 'Alcohol'), 'alcoholic')) >>  TEMPORARY INSURANCE AGREEMENT (TIA)Quali?cationsTo qualify for temporary alcoholic\n",
            "(92, (('Keywords', 'Alcohol', 'Alcohol'), 'alcoholic hepatitis')) >>  TEMPORARY INSURANCE AGREEMENT (TIA)Quali?cationsTo qualify for temporary alcoholic hepatitis\n",
            "(82, (('Keywords', 'Alcohol', 'Alcohol'), 'alcoholic')) >>  TEMPORARY INSURANCE AGREEMENT (TIA)Quali?cationsTo qualify for temporary alcoholic\n",
            "(92, (('Keywords', 'Alcohol', 'Alcohol'), 'alcoholic hepatitis')) >>  TEMPORARY INSURANCE AGREEMENT (TIA)Quali?cationsTo qualify for temporary alcoholic hepatitis\n",
            "(82, (('Keywords', 'Alcohol', 'Alcohol'), 'alcoholic')) >>  TEMPORARY INSURANCE AGREEMENT (TIA)Quali?cationsTo qualify for temporary alcoholic\n",
            "(92, (('Keywords', 'Alcohol', 'Alcohol'), 'alcoholic hepatitis')) >>  TEMPORARY INSURANCE AGREEMENT (TIA)Quali?cationsTo qualify for temporary alcoholic hepatitis\n",
            "(82, (('Keywords', 'Alcohol', 'Alcohol'), 'alcoholic')) >>  TEMPORARY INSURANCE AGREEMENT (TIA)Quali?cationsTo qualify for temporary alcoholic\n",
            "(92, (('Keywords', 'Alcohol', 'Alcohol'), 'alcoholic hepatitis')) >>  TEMPORARY INSURANCE AGREEMENT (TIA)Quali?cationsTo qualify for temporary alcoholic hepatitis\n",
            "(82, (('Keywords', 'Alcohol', 'Alcohol'), 'alcoholic')) >>  TEMPORARY INSURANCE AGREEMENT (TIA)Quali?cationsTo qualify for temporary alcoholic\n",
            "(92, (('Keywords', 'Alcohol', 'Alcohol'), 'alcoholic hepatitis')) >>  TEMPORARY INSURANCE AGREEMENT (TIA)Quali?cationsTo qualify for temporary alcoholic hepatitis\n",
            "(82, (('Keywords', 'Alcohol', 'Alcohol'), 'alcoholic')) >>  TEMPORARY INSURANCE AGREEMENT (TIA)Quali?cationsTo qualify for temporary alcoholic\n",
            "(92, (('Keywords', 'Alcohol', 'Alcohol'), 'alcoholic hepatitis')) >>  TEMPORARY INSURANCE AGREEMENT (TIA)Quali?cationsTo qualify for temporary alcoholic hepatitis\n",
            "(82, (('Keywords', 'Alcohol', 'Alcohol'), 'alcoholic')) >>  TEMPORARY INSURANCE AGREEMENT (TIA)Quali?cationsTo qualify for temporary alcoholic\n",
            "(92, (('Keywords', 'Alcohol', 'Alcohol'), 'alcoholic hepatitis')) >>  TEMPORARY INSURANCE AGREEMENT (TIA)Quali?cationsTo qualify for temporary alcoholic hepatitis\n",
            "(82, (('Keywords', 'Alcohol', 'Alcohol'), 'alcoholic')) >>  TEMPORARY INSURANCE AGREEMENT (TIA)Quali?cationsTo qualify for temporary alcoholic\n",
            "(92, (('Keywords', 'Alcohol', 'Alcohol'), 'alcoholic hepatitis')) >>  TEMPORARY INSURANCE AGREEMENT (TIA)Quali?cationsTo qualify for temporary alcoholic hepatitis\n",
            "(82, (('Keywords', 'Alcohol', 'Alcohol'), 'alcoholic')) >>  TEMPORARY INSURANCE AGREEMENT (TIA)Quali?cationsTo qualify for temporary alcoholic\n",
            "(92, (('Keywords', 'Alcohol', 'Alcohol'), 'alcoholic hepatitis')) >>  TEMPORARY INSURANCE AGREEMENT (TIA)Quali?cationsTo qualify for temporary alcoholic hepatitis\n",
            "(82, (('Keywords', 'Alcohol', 'Alcohol'), 'alcoholic')) >>  TEMPORARY INSURANCE AGREEMENT (TIA)Quali?cationsTo qualify for temporary alcoholic\n",
            "(92, (('Keywords', 'Alcohol', 'Alcohol'), 'alcoholic hepatitis')) >>  TEMPORARY INSURANCE AGREEMENT (TIA)Quali?cationsTo qualify for temporary alcoholic hepatitis\n",
            "(82, (('Keywords', 'Alcohol', 'Alcohol'), 'alcoholic')) >>  TEMPORARY INSURANCE AGREEMENT (TIA)Quali?cationsTo qualify for temporary alcoholic\n",
            "(92, (('Keywords', 'Alcohol', 'Alcohol'), 'alcoholic hepatitis')) >>  TEMPORARY INSURANCE AGREEMENT (TIA)Quali?cationsTo qualify for temporary alcoholic hepatitis\n",
            "(82, (('Keywords', 'Alcohol', 'Alcohol'), 'alcoholic')) >>  TEMPORARY INSURANCE AGREEMENT (TIA)Quali?cationsTo qualify for temporary alcoholic\n",
            "(92, (('Keywords', 'Alcohol', 'Alcohol'), 'alcoholic hepatitis')) >>  TEMPORARY INSURANCE AGREEMENT (TIA)Quali?cationsTo qualify for temporary alcoholic hepatitis\n",
            "(82, (('Keywords', 'Alcohol', 'Alcohol'), 'alcoholic')) >>  TEMPORARY INSURANCE AGREEMENT (TIA)Quali?cationsTo qualify for temporary alcoholic\n",
            "(92, (('Keywords', 'Alcohol', 'Alcohol'), 'alcoholic hepatitis')) >>  TEMPORARY INSURANCE AGREEMENT (TIA)Quali?cationsTo qualify for temporary alcoholic hepatitis\n",
            "(82, (('Keywords', 'Alcohol', 'Alcohol'), 'alcoholic')) >>  TEMPORARY INSURANCE AGREEMENT (TIA)Quali?cationsTo qualify for temporary alcoholic\n",
            "(92, (('Keywords', 'Alcohol', 'Alcohol'), 'alcoholic hepatitis')) >>  TEMPORARY INSURANCE AGREEMENT (TIA)Quali?cationsTo qualify for temporary alcoholic hepatitis\n",
            "(82, (('Keywords', 'Alcohol', 'Alcohol'), 'alcoholic')) >>  TEMPORARY INSURANCE AGREEMENT (TIA)Quali?cationsTo qualify for temporary alcoholic\n",
            "(92, (('Keywords', 'Alcohol', 'Alcohol'), 'alcoholic hepatitis')) >>  TEMPORARY INSURANCE AGREEMENT (TIA)Quali?cationsTo qualify for temporary alcoholic hepatitis\n",
            "(82, (('Keywords', 'Alcohol', 'Alcohol'), 'alcoholic')) >>  TEMPORARY INSURANCE AGREEMENT (TIA)Quali?cationsTo qualify for temporary alcoholic\n",
            "(92, (('Keywords', 'Alcohol', 'Alcohol'), 'alcoholic hepatitis')) >>  TEMPORARY INSURANCE AGREEMENT (TIA)Quali?cationsTo qualify for temporary alcoholic hepatitis\n",
            "(82, (('Keywords', 'Alcohol', 'Alcohol'), 'alcoholic')) >>  TEMPORARY INSURANCE AGREEMENT (TIA)Quali?cationsTo qualify for temporary alcoholic\n",
            "(92, (('Keywords', 'Alcohol', 'Alcohol'), 'alcoholic hepatitis')) >>  TEMPORARY INSURANCE AGREEMENT (TIA)Quali?cationsTo qualify for temporary alcoholic hepatitis\n",
            "(82, (('Keywords', 'Alcohol', 'Alcohol'), 'alcoholic')) >>  TEMPORARY INSURANCE AGREEMENT (TIA)Quali?cationsTo qualify for temporary alcoholic\n",
            "(92, (('Keywords', 'Alcohol', 'Alcohol'), 'alcoholic hepatitis')) >>  TEMPORARY INSURANCE AGREEMENT (TIA)Quali?cationsTo qualify for temporary alcoholic hepatitis\n",
            "(82, (('Keywords', 'Alcohol', 'Alcohol'), 'alcoholic')) >>  TEMPORARY INSURANCE AGREEMENT (TIA)Quali?cationsTo qualify for temporary alcoholic\n",
            "(92, (('Keywords', 'Alcohol', 'Alcohol'), 'alcoholic hepatitis')) >>  TEMPORARY INSURANCE AGREEMENT (TIA)Quali?cationsTo qualify for temporary alcoholic hepatitis\n",
            "(82, (('Keywords', 'Alcohol', 'Alcohol'), 'alcoholic')) >>  TEMPORARY INSURANCE AGREEMENT (TIA)Quali?cationsTo qualify for temporary alcoholic\n",
            "(92, (('Keywords', 'Alcohol', 'Alcohol'), 'alcoholic hepatitis')) >>  TEMPORARY INSURANCE AGREEMENT (TIA)Quali?cationsTo qualify for temporary alcoholic hepatitis\n",
            "(82, (('Keywords', 'Alcohol', 'Alcohol'), 'alcoholic')) >>  TEMPORARY INSURANCE AGREEMENT (TIA)Quali?cationsTo qualify for temporary alcoholic\n",
            "(92, (('Keywords', 'Alcohol', 'Alcohol'), 'alcoholic hepatitis')) >>  TEMPORARY INSURANCE AGREEMENT (TIA)Quali?cationsTo qualify for temporary alcoholic hepatitis\n",
            "(82, (('Keywords', 'Alcohol', 'Alcohol'), 'alcoholic')) >>  TEMPORARY INSURANCE AGREEMENT (TIA)Quali?cationsTo qualify for temporary alcoholic\n",
            "(92, (('Keywords', 'Alcohol', 'Alcohol'), 'alcoholic hepatitis')) >>  TEMPORARY INSURANCE AGREEMENT (TIA)Quali?cationsTo qualify for temporary alcoholic hepatitis\n",
            "(82, (('Keywords', 'Alcohol', 'Alcohol'), 'alcoholic')) >>  TEMPORARY INSURANCE AGREEMENT (TIA)Quali?cationsTo qualify for temporary alcoholic\n",
            "(92, (('Keywords', 'Alcohol', 'Alcohol'), 'alcoholic hepatitis')) >>  TEMPORARY INSURANCE AGREEMENT (TIA)Quali?cationsTo qualify for temporary alcoholic hepatitis\n",
            "(82, (('Keywords', 'Alcohol', 'Alcohol'), 'alcoholic')) >>  TEMPORARY INSURANCE AGREEMENT (TIA)Quali?cationsTo qualify for temporary alcoholic\n",
            "(92, (('Keywords', 'Alcohol', 'Alcohol'), 'alcoholic hepatitis')) >>  TEMPORARY INSURANCE AGREEMENT (TIA)Quali?cationsTo qualify for temporary alcoholic hepatitis\n",
            "(82, (('Keywords', 'Alcohol', 'Alcohol'), 'alcoholic')) >>  TEMPORARY INSURANCE AGREEMENT (TIA)Quali?cationsTo qualify for temporary alcoholic\n",
            "(92, (('Keywords', 'Alcohol', 'Alcohol'), 'alcoholic hepatitis')) >>  TEMPORARY INSURANCE AGREEMENT (TIA)Quali?cationsTo qualify for temporary alcoholic hepatitis\n",
            "(82, (('Keywords', 'Alcohol', 'Alcohol'), 'alcoholic')) >>  TEMPORARY INSURANCE AGREEMENT (TIA)Quali?cationsTo qualify for temporary alcoholic\n",
            "(92, (('Keywords', 'Alcohol', 'Alcohol'), 'alcoholic hepatitis')) >>  TEMPORARY INSURANCE AGREEMENT (TIA)Quali?cationsTo qualify for temporary alcoholic hepatitis\n",
            "(82, (('Keywords', 'Alcohol', 'Alcohol'), 'alcoholic')) >>  TEMPORARY INSURANCE AGREEMENT (TIA)Quali?cationsTo qualify for temporary alcoholic\n",
            "(92, (('Keywords', 'Alcohol', 'Alcohol'), 'alcoholic hepatitis')) >>  TEMPORARY INSURANCE AGREEMENT (TIA)Quali?cationsTo qualify for temporary alcoholic hepatitis\n",
            "(82, (('Keywords', 'Alcohol', 'Alcohol'), 'alcoholic')) >>  TEMPORARY INSURANCE AGREEMENT (TIA)Quali?cationsTo qualify for temporary alcoholic\n",
            "(92, (('Keywords', 'Alcohol', 'Alcohol'), 'alcoholic hepatitis')) >>  TEMPORARY INSURANCE AGREEMENT (TIA)Quali?cationsTo qualify for temporary alcoholic hepatitis\n",
            "(82, (('Keywords', 'Alcohol', 'Alcohol'), 'alcoholic')) >>  TEMPORARY INSURANCE AGREEMENT (TIA)Quali?cationsTo qualify for temporary alcoholic\n",
            "(92, (('Keywords', 'Alcohol', 'Alcohol'), 'alcoholic hepatitis')) >>  TEMPORARY INSURANCE AGREEMENT (TIA)Quali?cationsTo qualify for temporary alcoholic hepatitis\n",
            "(82, (('Keywords', 'Alcohol', 'Alcohol'), 'alcoholic')) >>  TEMPORARY INSURANCE AGREEMENT (TIA)Quali?cationsTo qualify for temporary alcoholic\n",
            "(92, (('Keywords', 'Alcohol', 'Alcohol'), 'alcoholic hepatitis')) >>  TEMPORARY INSURANCE AGREEMENT (TIA)Quali?cationsTo qualify for temporary alcoholic hepatitis\n",
            "(82, (('Keywords', 'Alcohol', 'Alcohol'), 'alcoholic')) >>  TEMPORARY INSURANCE AGREEMENT (TIA)Quali?cationsTo qualify for temporary alcoholic\n",
            "(92, (('Keywords', 'Alcohol', 'Alcohol'), 'alcoholic hepatitis')) >>  TEMPORARY INSURANCE AGREEMENT (TIA)Quali?cationsTo qualify for temporary alcoholic hepatitis\n",
            "(82, (('Keywords', 'Alcohol', 'Alcohol'), 'alcoholic')) >>  TEMPORARY INSURANCE AGREEMENT (TIA)Quali?cationsTo qualify for temporary alcoholic\n",
            "(92, (('Keywords', 'Alcohol', 'Alcohol'), 'alcoholic hepatitis')) >>  TEMPORARY INSURANCE AGREEMENT (TIA)Quali?cationsTo qualify for temporary alcoholic hepatitis\n",
            "(82, (('Keywords', 'Alcohol', 'Alcohol'), 'alcoholic')) >>  TEMPORARY INSURANCE AGREEMENT (TIA)Quali?cationsTo qualify for temporary alcoholic\n",
            "(92, (('Keywords', 'Alcohol', 'Alcohol'), 'alcoholic hepatitis')) >>  TEMPORARY INSURANCE AGREEMENT (TIA)Quali?cationsTo qualify for temporary alcoholic hepatitis\n",
            "(82, (('Keywords', 'Alcohol', 'Alcohol'), 'alcoholic')) >>  TEMPORARY INSURANCE AGREEMENT (TIA)Quali?cationsTo qualify for temporary alcoholic\n",
            "(92, (('Keywords', 'Alcohol', 'Alcohol'), 'alcoholic hepatitis')) >>  TEMPORARY INSURANCE AGREEMENT (TIA)Quali?cationsTo qualify for temporary alcoholic hepatitis\n",
            "(82, (('Keywords', 'Alcohol', 'Alcohol'), 'alcoholic')) >>  TEMPORARY INSURANCE AGREEMENT (TIA)Quali?cationsTo qualify for temporary alcoholic\n",
            "(92, (('Keywords', 'Alcohol', 'Alcohol'), 'alcoholic hepatitis')) >>  TEMPORARY INSURANCE AGREEMENT (TIA)Quali?cationsTo qualify for temporary alcoholic hepatitis\n",
            "(82, (('Keywords', 'Alcohol', 'Alcohol'), 'alcoholic')) >>  TEMPORARY INSURANCE AGREEMENT (TIA)Quali?cationsTo qualify for temporary alcoholic\n",
            "(92, (('Keywords', 'Alcohol', 'Alcohol'), 'alcoholic hepatitis')) >>  TEMPORARY INSURANCE AGREEMENT (TIA)Quali?cationsTo qualify for temporary alcoholic hepatitis\n",
            "(82, (('Keywords', 'Alcohol', 'Alcohol'), 'alcoholic')) >>  TEMPORARY INSURANCE AGREEMENT (TIA)Quali?cationsTo qualify for temporary alcoholic\n",
            "(92, (('Keywords', 'Alcohol', 'Alcohol'), 'alcoholic hepatitis')) >>  TEMPORARY INSURANCE AGREEMENT (TIA)Quali?cationsTo qualify for temporary alcoholic hepatitis\n",
            "(82, (('Keywords', 'Alcohol', 'Alcohol'), 'alcoholic')) >>  TEMPORARY INSURANCE AGREEMENT (TIA)Quali?cationsTo qualify for temporary alcoholic\n",
            "(92, (('Keywords', 'Alcohol', 'Alcohol'), 'alcoholic hepatitis')) >>  TEMPORARY INSURANCE AGREEMENT (TIA)Quali?cationsTo qualify for temporary alcoholic hepatitis\n",
            "(82, (('Keywords', 'Alcohol', 'Alcohol'), 'alcoholic')) >>  TEMPORARY INSURANCE AGREEMENT (TIA)Quali?cationsTo qualify for temporary alcoholic\n",
            "(92, (('Keywords', 'Alcohol', 'Alcohol'), 'alcoholic hepatitis')) >>  TEMPORARY INSURANCE AGREEMENT (TIA)Quali?cationsTo qualify for temporary alcoholic hepatitis\n",
            "(82, (('Keywords', 'Alcohol', 'Alcohol'), 'alcoholic')) >>  TEMPORARY INSURANCE AGREEMENT (TIA)Quali?cationsTo qualify for temporary alcoholic\n",
            "(92, (('Keywords', 'Alcohol', 'Alcohol'), 'alcoholic hepatitis')) >>  TEMPORARY INSURANCE AGREEMENT (TIA)Quali?cationsTo qualify for temporary alcoholic hepatitis\n",
            "(82, (('Keywords', 'Alcohol', 'Alcohol'), 'alcoholic')) >>  TEMPORARY INSURANCE AGREEMENT (TIA)Quali?cationsTo qualify for temporary alcoholic\n",
            "(92, (('Keywords', 'Alcohol', 'Alcohol'), 'alcoholic hepatitis')) >>  TEMPORARY INSURANCE AGREEMENT (TIA)Quali?cationsTo qualify for temporary alcoholic hepatitis\n",
            "(82, (('Keywords', 'Alcohol', 'Alcohol'), 'alcoholic')) >>  TEMPORARY INSURANCE AGREEMENT (TIA)Quali?cationsTo qualify for temporary alcoholic\n",
            "(92, (('Keywords', 'Alcohol', 'Alcohol'), 'alcoholic hepatitis')) >>  TEMPORARY INSURANCE AGREEMENT (TIA)Quali?cationsTo qualify for temporary alcoholic hepatitis\n",
            "(82, (('Keywords', 'Alcohol', 'Alcohol'), 'alcoholic')) >>  TEMPORARY INSURANCE AGREEMENT (TIA)Quali?cationsTo qualify for temporary alcoholic\n",
            "(92, (('Keywords', 'Alcohol', 'Alcohol'), 'alcoholic hepatitis')) >>  TEMPORARY INSURANCE AGREEMENT (TIA)Quali?cationsTo qualify for temporary alcoholic hepatitis\n",
            "(82, (('Keywords', 'Alcohol', 'Alcohol'), 'alcoholic')) >>  TEMPORARY INSURANCE AGREEMENT (TIA)Quali?cationsTo qualify for temporary alcoholic\n",
            "(92, (('Keywords', 'Alcohol', 'Alcohol'), 'alcoholic hepatitis')) >>  TEMPORARY INSURANCE AGREEMENT (TIA)Quali?cationsTo qualify for temporary alcoholic hepatitis\n",
            "(82, (('Keywords', 'Alcohol', 'Alcohol'), 'alcoholic')) >>  TEMPORARY INSURANCE AGREEMENT (TIA)Quali?cationsTo qualify for temporary alcoholic\n",
            "(92, (('Keywords', 'Alcohol', 'Alcohol'), 'alcoholic hepatitis')) >>  TEMPORARY INSURANCE AGREEMENT (TIA)Quali?cationsTo qualify for temporary alcoholic hepatitis\n"
          ]
        }
      ]
    },
    {
      "cell_type": "code",
      "source": [
        "# let’s  finds keywords in text\n",
        "def find_keywords(line, A):\n",
        "  found_keywords = []\n",
        "  for end_index, (cat, keyw) in A.iter(line):\n",
        "    found_keywords.append(keyw)\n",
        "  return found_keywords"
      ],
      "metadata": {
        "id": "1zBMXyvvTBsy"
      },
      "execution_count": 65,
      "outputs": []
    },
    {
      "cell_type": "code",
      "source": [
        "# Searching for keywords yields a list of the found keywords. \n",
        "for line in sentences_list:\n",
        "  found_keywords = []\n",
        "  for end_index, (cat, keyw) in A.iter(line):\n",
        "    #pdb.set_trace();\n",
        "    found_keywords.append(keyw)"
      ],
      "metadata": {
        "id": "Iyz1UJxPrsKt"
      },
      "execution_count": 36,
      "outputs": []
    },
    {
      "cell_type": "code",
      "source": [
        "# Searching for keywords yields a list of the found keywords. \n",
        "for line in sentences_list:\n",
        "  key_found = find_keywords(line, A)\n",
        "  if key_found != []:\n",
        "    print(f\"{line} : {key_found}\" )"
      ],
      "metadata": {
        "colab": {
          "base_uri": "https://localhost:8080/"
        },
        "id": "JHeyRB43Sgs4",
        "outputId": "e861d8e4-965d-4b75-f171-bdd5a2cc27fb"
      },
      "execution_count": 66,
      "outputs": [
        {
          "output_type": "stream",
          "name": "stdout",
          "text": [
            "To qualify for temporary alcoholic hepatitis, the Proposed Insured(s) must be over 15 days of age or under age 70, and able to answer “No\" to all of the\r : ['alcoholic', 'alcoholic hepatitis']\n"
          ]
        }
      ]
    },
    {
      "cell_type": "code",
      "source": [
        "A=ahc.Automaton()\n",
        "A.add_word(\"Europe\",        ('VOCAB','Europe'))\n",
        "A.add_word(\"European Union\",('VOCAB','European Union'))\n",
        "A.add_word(\"Boris Johnson\", ('PERSON','Boris Johnson'))\n",
        "A.add_word(\"Boris\",         ('PERSON','Boris Johnson'))\n",
        "A.add_word(\"boris johnson\", ('PERSON','Boris Johnson (LC)'))\n",
        " \n",
        "A.make_automaton()\n",
        "\n",
        "q='Boris Johnson went off to Europe to complain about the European Union'\n",
        "for item in A.iter(q):\n",
        "  print(item, q[:item[0]+1])"
      ],
      "metadata": {
        "colab": {
          "base_uri": "https://localhost:8080/"
        },
        "id": "IcdVNtXErFGQ",
        "outputId": "2fa18788-ddf0-41db-cbf4-097873e15fa5"
      },
      "execution_count": 90,
      "outputs": [
        {
          "output_type": "stream",
          "name": "stdout",
          "text": [
            "(4, ('PERSON', 'Boris Johnson')) Boris\n",
            "(12, ('PERSON', 'Boris Johnson')) Boris Johnson\n",
            "(31, ('VOCAB', 'Europe')) Boris Johnson went off to Europe\n",
            "(60, ('VOCAB', 'Europe')) Boris Johnson went off to Europe to complain about the Europe\n",
            "(68, ('VOCAB', 'European Union')) Boris Johnson went off to Europe to complain about the European Union\n"
          ]
        }
      ]
    },
    {
      "cell_type": "code",
      "source": [
        "for item in A.iter(q):\n",
        "  # print(item)\n",
        "  print(q[:item[0]])"
      ],
      "metadata": {
        "colab": {
          "base_uri": "https://localhost:8080/"
        },
        "id": "e0HVupnJrKCr",
        "outputId": "87756a48-f916-436f-b8b6-c033dcb1caf5"
      },
      "execution_count": 96,
      "outputs": [
        {
          "output_type": "stream",
          "name": "stdout",
          "text": [
            "Bori\n",
            "Boris Johnso\n",
            "Boris Johnson went off to Europ\n",
            "Boris Johnson went off to Europe to complain about the Europ\n",
            "Boris Johnson went off to Europe to complain about the European Unio\n"
          ]
        }
      ]
    }
  ]
}