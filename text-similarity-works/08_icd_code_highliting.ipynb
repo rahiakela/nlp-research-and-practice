{
  "nbformat": 4,
  "nbformat_minor": 0,
  "metadata": {
    "colab": {
      "provenance": [],
      "toc_visible": true,
      "authorship_tag": "ABX9TyOWsq9O054GeHLYrPDBp/aj",
      "include_colab_link": true
    },
    "kernelspec": {
      "name": "python3",
      "display_name": "Python 3"
    },
    "language_info": {
      "name": "python"
    }
  },
  "cells": [
    {
      "cell_type": "markdown",
      "metadata": {
        "id": "view-in-github",
        "colab_type": "text"
      },
      "source": [
        "<a href=\"https://colab.research.google.com/github/rahiakela/natural-language-processing-research-and-practice/blob/main/text-similarity-works/08_icd_code_highliting.ipynb\" target=\"_parent\"><img src=\"https://colab.research.google.com/assets/colab-badge.svg\" alt=\"Open In Colab\"/></a>"
      ]
    },
    {
      "cell_type": "markdown",
      "source": [
        "##Setup"
      ],
      "metadata": {
        "id": "73ORkeFzaRA4"
      }
    },
    {
      "cell_type": "markdown",
      "source": [
        "Reference:\n",
        "\n",
        "[Rule-based entity recognition](https://spacy.io/usage/rule-based-matching#entityruler)\n",
        "\n",
        "[PDF-to-TEXT](https://pypi.org/project/pdftotext/)"
      ],
      "metadata": {
        "id": "nAkX90V5vVML"
      }
    },
    {
      "cell_type": "code",
      "source": [
        "!pip -q install spacy\n",
        "!python -m spacy download en_core_web_sm\n",
        "\n",
        "!pip install pillow\n",
        "\n",
        "!sudo apt install build-essential libpoppler-cpp-dev pkg-config python3-dev\n",
        "!pip install -U pdftotext\n",
        "!pip install PyPDF2\n",
        "!pip install fitz\n",
        "!pip install PyMuPDF"
      ],
      "metadata": {
        "id": "Ti6ZynbyaR9l"
      },
      "execution_count": null,
      "outputs": []
    },
    {
      "cell_type": "code",
      "source": [
        "%%shell\n",
        "\n",
        "sudo apt install tesseract-ocr\n",
        "sudo apt-get install poppler-utils\n",
        "pip install tesseract\n",
        "pip install pytesseract\n",
        "#pip install Pillow==9.0.0\n",
        "pip install pdf2image\n",
        "pip install PyPDF2"
      ],
      "metadata": {
        "id": "RFoMThAwwAVS"
      },
      "execution_count": null,
      "outputs": []
    },
    {
      "cell_type": "markdown",
      "source": [
        "Just restart the colab environment."
      ],
      "metadata": {
        "id": "EIvuMvZfuhfY"
      }
    },
    {
      "cell_type": "code",
      "source": [
        "import pandas as pd\n",
        "import numpy as np\n",
        "import re\n",
        "import time\n",
        "import os\n",
        "\n",
        "import pdb\n",
        "\n",
        "import fitz\n",
        "import cv2 \n",
        "import pdftotext\n",
        "from PyPDF2 import PdfFileReader, PdfFileWriter\n",
        "from io import BytesIO\n",
        "from PIL import Image\n",
        "from matplotlib import pyplot as plt\n",
        "\n",
        "#import pytesseract\n",
        "#from pytesseract import Output\n",
        "#from pdf2image import convert_from_path\n",
        "\n",
        "import spacy\n",
        "from spacy.matcher import PhraseMatcher\n",
        "from spacy.lang.en import English\n",
        "\n",
        "import nltk"
      ],
      "metadata": {
        "id": "fAcHTn0JaM2S"
      },
      "execution_count": 3,
      "outputs": []
    },
    {
      "cell_type": "code",
      "source": [
        "pytesseract.pytesseract.tesseract_cmd = (r'/usr/bin/tesseract')"
      ],
      "metadata": {
        "id": "kfmxg5mPwbJp"
      },
      "execution_count": null,
      "outputs": []
    },
    {
      "cell_type": "code",
      "source": [
        "!mkdir pdf-files\n",
        "!mkdir jpg-files\n",
        "!mkdir txt-files"
      ],
      "metadata": {
        "id": "IsoNvC1ibb6l"
      },
      "execution_count": 4,
      "outputs": []
    },
    {
      "cell_type": "code",
      "source": [
        "pdf_files_path = \"pdf-files\"\n",
        "jpg_files_path = \"jpg-files\"\n",
        "txt_files_path = \"txt-files\""
      ],
      "metadata": {
        "id": "YIUA8MJDbcg6"
      },
      "execution_count": 2,
      "outputs": []
    },
    {
      "cell_type": "code",
      "source": [
        "#nlp = spacy.load(\"en_core_web_sm\")\n",
        "nlp = English()"
      ],
      "metadata": {
        "id": "HA55OVXibSfh"
      },
      "execution_count": 5,
      "outputs": []
    },
    {
      "cell_type": "markdown",
      "source": [
        "##Define some functions"
      ],
      "metadata": {
        "id": "v5Qy3RJN2VQu"
      }
    },
    {
      "cell_type": "code",
      "source": [
        "def split_pdf(pdf_path):\n",
        "  pdf_in_file = open(pdf_path, \"rb\")\n",
        "  pdf = PdfFileReader(pdf_in_file)\n",
        "  pdf_list = []\n",
        "  for page in range(pdf.numPages):\n",
        "      inputpdf = PdfFileReader(pdf_in_file)\n",
        "      output = PdfFileWriter()\n",
        "      output.addPage(inputpdf.getPage(page))\n",
        "      with open(f\"{pdf_files_path}/page-{page}.pdf\", \"wb\") as outputStream:\n",
        "          output.write(outputStream)\n",
        "          pdf_list.append(f\"page-{page}.pdf\")\n",
        "  return pdf_list"
      ],
      "metadata": {
        "id": "YfTNt1mrbwy3"
      },
      "execution_count": 6,
      "outputs": []
    },
    {
      "cell_type": "code",
      "source": [
        "def pdf_to_image(pdf_list):\n",
        "  img_list = []\n",
        "  i = 0\n",
        "  for pdf_file in pdf_list:\n",
        "    pages = convert_from_path(os.path.join(pdf_files_path, pdf_file))\n",
        "    for page in pages:\n",
        "      page.save(f\"{jpg_files_path}/page-{str(i)}.jpg\", \"JPEG\")\n",
        "      img_list.append(f\"{jpg_files_path}/page-{str(i)}.jpg\")\n",
        "      i = i + 1\n",
        "  return img_list"
      ],
      "metadata": {
        "id": "1oMALggQwoZm"
      },
      "execution_count": 7,
      "outputs": []
    },
    {
      "cell_type": "code",
      "source": [
        "def extract_text_from_pdf(pdf_list):\n",
        "  txt_file_list = []\n",
        "  i = 0\n",
        "  for pdf_file in pdf_list:\n",
        "    with open(os.path.join(pdf_files_path, pdf_file), \"rb\") as f:\n",
        "      pdf = pdftotext.PDF(f)\n",
        "    \n",
        "    # Read all the text into one string\n",
        "    pdf_text = \"\\n\\n\".join(pdf)\n",
        "\n",
        "    # write text into file\n",
        "    with open(f\"{txt_files_path}/page-{str(i)}.txt\", \"a\") as f:\n",
        "      f.write(pdf_text)\n",
        "    txt_file_list.append(f\"{txt_files_path}/page-{str(i)}.txt\")\n",
        "    i += 1\n",
        "  return txt_file_list"
      ],
      "metadata": {
        "id": "XRSuNufIbxbr"
      },
      "execution_count": 41,
      "outputs": []
    },
    {
      "cell_type": "code",
      "source": [
        "custom_config = r'--oem 3 --psm 12'\n",
        "\n",
        "def extract_text_from_image(img_list):\n",
        "  txt_file_list = []\n",
        "  for index, image_file in enumerate(img_list):\n",
        "    image = cv2.imread(image_file)\n",
        "\n",
        "    # removing noise\n",
        "    # noiseless_image_bw = cv2.fastNlMeansDenoising(image, None, 40, 7, 21)\n",
        "    # font thickness\n",
        "    # image_smoothed = thick_font(noiseless_image_bw) \n",
        "\n",
        "    # extract text from image\n",
        "    txt_data = pytesseract.image_to_string(image, config=custom_config)\n",
        "    # write text into file\n",
        "    with open(f\"{txt_files_path}/page-{str(index)}.txt\", \"a\") as f:\n",
        "      f.write(txt_data)\n",
        "    txt_file_list.append(f\"{txt_files_path}/page-{str(index)}.txt\")\n",
        "  return txt_file_list"
      ],
      "metadata": {
        "id": "Cy19J5ovzAC-"
      },
      "execution_count": null,
      "outputs": []
    },
    {
      "cell_type": "code",
      "source": [
        "def get_opt_pattern(icd_10_code):\n",
        "  # create alternate pattern\n",
        "  code_arr = icd_10_code.split(\".\")\n",
        "  if len(code_arr) > 1:\n",
        "    code1 = f\"{code_arr[0]}. {code_arr[1]}\"\n",
        "    code2 = f\"{code_arr[0]} .{code_arr[1]}\"\n",
        "    code3 = f\"{code_arr[0]} . {code_arr[1]}\"\n",
        "    return [code1, code2, code3]\n",
        "  else:\n",
        "    return icd_10_code"
      ],
      "metadata": {
        "id": "VyvaUtt_dUiF"
      },
      "execution_count": 50,
      "outputs": []
    },
    {
      "cell_type": "code",
      "source": [
        "code = get_opt_pattern(\"G43.109\")\n",
        "code"
      ],
      "metadata": {
        "id": "3pstR7xZgRKL",
        "outputId": "4eda8761-a5ca-47d4-eecf-e56d43b02d8c",
        "colab": {
          "base_uri": "https://localhost:8080/"
        }
      },
      "execution_count": 53,
      "outputs": [
        {
          "output_type": "execute_result",
          "data": {
            "text/plain": [
              "['G43. 109', 'G43 .109', 'G43 . 109']"
            ]
          },
          "metadata": {},
          "execution_count": 53
        }
      ]
    },
    {
      "cell_type": "code",
      "source": [
        "def highlight_icd10_code(pdf_page_dict, pdf_file_name):\n",
        "  pdf_file = fitz.open(pdf_file_name)\n",
        "  for page_num, page in enumerate(pdf_file):\n",
        "    if page_num in pdf_page_dict:\n",
        "      \n",
        "      for code in pdf_page_dict[page_num]:\n",
        "        text_to_be_highlighted = code\n",
        "        highlight = page.search_for(text_to_be_highlighted)\n",
        "        if len(highlight) == 0:\n",
        "          alternate_code_list = get_opt_pattern(code)\n",
        "          for alt_code in alternate_code_list:\n",
        "            text_to_be_highlighted = alt_code\n",
        "            highlight = page.search_for(text_to_be_highlighted)\n",
        "            for inst in highlight:\n",
        "              highlight = page.add_highlight_annot(inst)\n",
        "              highlight.update()\n",
        "              highlight = page.search_for(text_to_be_highlighted)\n",
        "              print(f\"Page-{page_num}: \", code, highlight, end='\\n')\n",
        "              \n",
        "        for inst in highlight:\n",
        "          highlight = page.add_highlight_annot(inst)\n",
        "          highlight.update()\n",
        "          highlight = page.search_for(text_to_be_highlighted)\n",
        "          print(f\"Page-{page_num}: \", code, highlight, end='\\n')\n",
        "  pdf_file.save(f\"{pdf_file_name.split('.')[0]}_output.pdf\", garbage=4, deflate=True, clean=True)"
      ],
      "metadata": {
        "id": "YpIHzxRudwt3"
      },
      "execution_count": 67,
      "outputs": []
    },
    {
      "cell_type": "code",
      "source": [
        "def highlight_icd10_code(pdf_page_dict, pdf_file_name):\n",
        "  pdf_file = fitz.open(pdf_file_name)\n",
        "  for page_num, page in enumerate(pdf_file):\n",
        "    if page_num in pdf_page_dict:\n",
        "      #print(f\"Page dict: {pdf_page_dict[page_num]}\")\n",
        "      for code in pdf_page_dict[page_num]:\n",
        "        text_to_be_highlighted = \"G43.109\"\n",
        "        highlight = page.search_for(text_to_be_highlighted)\n",
        "        if text_to_be_highlighted == \"G43.109\":\n",
        "          print(f\"highlight: {highlight}\")\n",
        "        for inst in highlight:\n",
        "          highlight = page.add_highlight_annot(inst)\n",
        "          highlight.update()\n",
        "          highlight = page.search_for(text_to_be_highlighted)\n",
        "          print(f\"Page-{page_num}: \", code, highlight, end='\\n')\n",
        "  pdf_file.save(f\"{pdf_file_name.split('.')[0]}_output.pdf\", garbage=4, deflate=True, clean=True)"
      ],
      "metadata": {
        "id": "coxRG4U4e8UY"
      },
      "execution_count": 62,
      "outputs": []
    },
    {
      "cell_type": "code",
      "source": [
        "def make_icd_10_code_pattern(icd_10_code_df):\n",
        "  patterns = []\n",
        "  for _, row in icd_10_code_df.iterrows():\n",
        "\n",
        "    # add default pattern\n",
        "    patterns.append({\"label\": \"ICD-10\", \"pattern\": row[\"ICD-10\"]})\n",
        "\n",
        "    # create alternate pattern\n",
        "    code_arr = row[\"ICD-10\"].split(\".\")\n",
        "    if len(code_arr) > 1:\n",
        "      code1 = f\"{code_arr[0]}. {code_arr[1]}\"\n",
        "      patterns.append({\"label\": \"ICD-10\", \"pattern\": code1})\n",
        "  return patterns"
      ],
      "metadata": {
        "id": "WZhD92pFtuut"
      },
      "execution_count": null,
      "outputs": []
    },
    {
      "cell_type": "code",
      "source": [
        "def make_icd_10_code_pattern(icd_10_code_df):\n",
        "  patterns = []\n",
        "  for _, row in icd_10_code_df.iterrows():\n",
        "\n",
        "    # add default pattern\n",
        "    patterns.append({\"label\": \"ICD-10\", \"pattern\": row[\"ICD-10\"]})\n",
        "\n",
        "    # create alternate pattern\n",
        "    code_arr = row[\"ICD-10\"].split(\".\")\n",
        "    if len(code_arr) > 1:\n",
        "      code1 = f\"{code_arr[0]}. {code_arr[1]}\"\n",
        "      code2 = f\"{code_arr[0]} .{code_arr[1]}\"\n",
        "      code3 = f\"{code_arr[0]} . {code_arr[1]}\"\n",
        "\n",
        "    for code_pattern in [code1, code2, code3]:\n",
        "      patterns.append({\"label\": \"ICD-10\", \"pattern\": code_pattern})\n",
        "  return patterns"
      ],
      "metadata": {
        "id": "O3BxOYzGdxaw"
      },
      "execution_count": null,
      "outputs": []
    },
    {
      "cell_type": "code",
      "source": [
        "def make_icd_10_code_pattern(icd_10_code_df):\n",
        "  patterns = []\n",
        "  for _, row in icd_10_code_df.iterrows():\n",
        "    patterns.append({\"label\": \"ICD-10\", \"pattern\": row[\"ICD-10\"]})\n",
        "  return patterns"
      ],
      "metadata": {
        "id": "dEH-fEsDm11l"
      },
      "execution_count": 13,
      "outputs": []
    },
    {
      "cell_type": "markdown",
      "source": [
        "##Spacy entity rule-matcher"
      ],
      "metadata": {
        "id": "kRlokPzlatON"
      }
    },
    {
      "cell_type": "code",
      "source": [
        "code = \"A00.0\"\n",
        "code_arr = code.split(\".\")\n",
        "code_arr"
      ],
      "metadata": {
        "id": "MqyooaZecPHk",
        "outputId": "f56fe85f-ea9e-411a-d862-a23b38959b37",
        "colab": {
          "base_uri": "https://localhost:8080/"
        }
      },
      "execution_count": null,
      "outputs": [
        {
          "output_type": "execute_result",
          "data": {
            "text/plain": [
              "['A00', '0']"
            ]
          },
          "metadata": {},
          "execution_count": 22
        }
      ]
    },
    {
      "cell_type": "code",
      "source": [
        "len(code_arr)"
      ],
      "metadata": {
        "id": "qml048J1fZUb",
        "outputId": "2cfa8404-28aa-4297-fa00-393b852f0f96",
        "colab": {
          "base_uri": "https://localhost:8080/"
        }
      },
      "execution_count": null,
      "outputs": [
        {
          "output_type": "execute_result",
          "data": {
            "text/plain": [
              "2"
            ]
          },
          "metadata": {},
          "execution_count": 23
        }
      ]
    },
    {
      "cell_type": "code",
      "source": [
        "code1 = f\"{code_arr[0]}. {code_arr[1]}\"\n",
        "code1"
      ],
      "metadata": {
        "id": "Wv1AY9xNcgMo",
        "outputId": "df5e70ca-6463-470b-b3d7-02bcb0f41368",
        "colab": {
          "base_uri": "https://localhost:8080/",
          "height": 35
        }
      },
      "execution_count": null,
      "outputs": [
        {
          "output_type": "execute_result",
          "data": {
            "text/plain": [
              "'A00. 0'"
            ],
            "application/vnd.google.colaboratory.intrinsic+json": {
              "type": "string"
            }
          },
          "metadata": {},
          "execution_count": 9
        }
      ]
    },
    {
      "cell_type": "code",
      "source": [
        "code2 = f\"{code_arr[0]} .{code_arr[1]}\"\n",
        "code2"
      ],
      "metadata": {
        "id": "aZ9nM7g5cwJF",
        "outputId": "5288e8ca-c3ed-439e-e98a-3bc5b2ea32b0",
        "colab": {
          "base_uri": "https://localhost:8080/",
          "height": 35
        }
      },
      "execution_count": null,
      "outputs": [
        {
          "output_type": "execute_result",
          "data": {
            "text/plain": [
              "'A00 .0'"
            ],
            "application/vnd.google.colaboratory.intrinsic+json": {
              "type": "string"
            }
          },
          "metadata": {},
          "execution_count": 10
        }
      ]
    },
    {
      "cell_type": "code",
      "source": [
        "code3 = f\"{code_arr[0]} . {code_arr[1]}\"\n",
        "code3"
      ],
      "metadata": {
        "id": "Upqvzz34c28x",
        "outputId": "35792510-5536-4660-8b19-1a90e6ae2b51",
        "colab": {
          "base_uri": "https://localhost:8080/",
          "height": 35
        }
      },
      "execution_count": null,
      "outputs": [
        {
          "output_type": "execute_result",
          "data": {
            "text/plain": [
              "'A00 . 0'"
            ],
            "application/vnd.google.colaboratory.intrinsic+json": {
              "type": "string"
            }
          },
          "metadata": {},
          "execution_count": 11
        }
      ]
    },
    {
      "cell_type": "code",
      "source": [
        "for code in [code1, code2, code3]:\n",
        "  print(code)"
      ],
      "metadata": {
        "id": "AUAqEAvPecP-",
        "outputId": "1f98ab4a-496e-4d25-cac6-409cdc08f5d0",
        "colab": {
          "base_uri": "https://localhost:8080/"
        }
      },
      "execution_count": null,
      "outputs": [
        {
          "output_type": "stream",
          "name": "stdout",
          "text": [
            "A00. 0\n",
            "A00 .0\n",
            "A00 . 0\n"
          ]
        }
      ]
    },
    {
      "cell_type": "code",
      "source": [
        "icd_code_df = pd.read_csv(\"icd_10_codes.csv\")\n",
        "patterns = make_icd_10_code_pattern(icd_code_df)\n",
        "\n",
        "ruler = nlp.add_pipe(\"entity_ruler\")\n",
        "ruler.add_patterns(patterns)\n",
        "# save to json file\n",
        "ruler.to_disk(\"./icd10_code_patterns.jsonl\")"
      ],
      "metadata": {
        "id": "_DO51nssazjk"
      },
      "execution_count": 14,
      "outputs": []
    },
    {
      "cell_type": "code",
      "source": [
        "nlp.remove_pipe(\"entity_ruler\")"
      ],
      "metadata": {
        "id": "pWPRDwDeuEZd",
        "outputId": "9c87c1e9-ea5f-4f7e-8a5e-6ad761acfc2c",
        "colab": {
          "base_uri": "https://localhost:8080/"
        }
      },
      "execution_count": 15,
      "outputs": [
        {
          "output_type": "execute_result",
          "data": {
            "text/plain": [
              "('entity_ruler', <spacy.pipeline.entityruler.EntityRuler at 0x7feda3534050>)"
            ]
          },
          "metadata": {},
          "execution_count": 15
        }
      ]
    },
    {
      "cell_type": "markdown",
      "source": [
        "##Text extraction"
      ],
      "metadata": {
        "id": "E3AMzWcDwfYk"
      }
    },
    {
      "cell_type": "code",
      "source": [
        "# Step-1: spliting pdf file\n",
        "pdf_file_name = \"Redacted_Sample_2.pdf\"\n",
        "pdf_list = split_pdf(pdf_file_name)\n",
        "\n",
        "# Step-2: Extracting text from pdf\n",
        "txt_list = extract_text_from_pdf(pdf_list)\n",
        "\n",
        "# Step-3: loading and updating patterns to Spacy\n",
        "nlp.add_pipe(\"entity_ruler\").from_disk(\"./icd10_code_patterns.jsonl\")"
      ],
      "metadata": {
        "id": "DMQjPBMmmg6L",
        "outputId": "66ed84a1-c9e8-4ef6-a4b3-f02fe2c1ce28",
        "colab": {
          "base_uri": "https://localhost:8080/"
        }
      },
      "execution_count": 18,
      "outputs": [
        {
          "output_type": "execute_result",
          "data": {
            "text/plain": [
              "<spacy.pipeline.entityruler.EntityRuler at 0x7fed90a00050>"
            ]
          },
          "metadata": {},
          "execution_count": 18
        }
      ]
    },
    {
      "cell_type": "code",
      "source": [
        "# Step-2: Extracting text from pdf\n",
        "txt_list = extract_text_from_pdf(pdf_list)"
      ],
      "metadata": {
        "id": "CJBZ8ed4Wcqv"
      },
      "execution_count": 42,
      "outputs": []
    },
    {
      "cell_type": "code",
      "source": [
        "!rm -rf txt-files/*"
      ],
      "metadata": {
        "id": "qXsehGyDWdjy"
      },
      "execution_count": 40,
      "outputs": []
    },
    {
      "cell_type": "markdown",
      "source": [
        "##ICD-10 code searching"
      ],
      "metadata": {
        "id": "E0OR8sdCpAMx"
      }
    },
    {
      "cell_type": "code",
      "source": [
        "with open(f\"{txt_files_path}/page-37.txt\", \"r\") as f:\n",
        "  one_txt = f.read()\n",
        "  print(one_txt)\n",
        "  #doc = nlp(one_txt)\n",
        "  #print([(ent.text, ent.label_) for ent in doc.ents])"
      ],
      "metadata": {
        "id": "TyPoHyTLjL1u",
        "outputId": "eb589e9f-24da-4b3d-be32-7633605296d1",
        "colab": {
          "base_uri": "https://localhost:8080/"
        }
      },
      "execution_count": 37,
      "outputs": [
        {
          "output_type": "stream",
          "name": "stdout",
          "text": [
            "\n"
          ]
        }
      ]
    },
    {
      "cell_type": "code",
      "source": [
        "!cat txt-files/page-37.txt"
      ],
      "metadata": {
        "id": "mIDg8jTkXZid"
      },
      "execution_count": 38,
      "outputs": []
    },
    {
      "cell_type": "code",
      "source": [
        "True if re.search(\"(P[ ][0-9]+)(,\\s)(L[0-9]+)\", one_txt) else False"
      ],
      "metadata": {
        "id": "XVRrjus-jiQx",
        "outputId": "fdb2acc3-99b8-4828-9fc2-e2d43700b482",
        "colab": {
          "base_uri": "https://localhost:8080/"
        }
      },
      "execution_count": null,
      "outputs": [
        {
          "output_type": "execute_result",
          "data": {
            "text/plain": [
              "True"
            ]
          },
          "metadata": {},
          "execution_count": 20
        }
      ]
    },
    {
      "cell_type": "code",
      "source": [
        "%%time\n",
        "\n",
        "pdf_page_dict = {}\n",
        "# Step-4: Searching ICD-10 code\n",
        "for txt_file in txt_list:\n",
        "  with open(txt_file, \"r\") as f:\n",
        "    doc = nlp(f.read())\n",
        "    \n",
        "    #doc.ents = [e for e in doc.ents if not e.text.isspace()]\n",
        "    code_list = [ent.text for ent in doc.ents]\n",
        "    if len(code_list) != 0:\n",
        "      page_number = int(txt_file.split(\"/\")[1].split(\".\")[0].split(\"-\")[1])\n",
        "      pdf_page_dict[page_number] = code_list\n",
        "      print(f\"Page[{txt_file.split('/')[1]}]: {code_list}\")\n",
        "    #print(code_list)"
      ],
      "metadata": {
        "colab": {
          "base_uri": "https://localhost:8080/"
        },
        "id": "ikd7sNa2rPL9",
        "outputId": "612d192f-3db0-4661-86d6-060752d859d4"
      },
      "execution_count": 64,
      "outputs": [
        {
          "output_type": "stream",
          "name": "stdout",
          "text": [
            "Page[page-2.txt]: ['L14']\n",
            "Page[page-3.txt]: ['L14', 'L14', 'L22', 'L22']\n",
            "Page[page-4.txt]: ['L26', 'L26', 'L26', 'L26', 'L26', 'L22', 'L14', 'L22', 'L14']\n",
            "Page[page-6.txt]: ['L14', 'L14']\n",
            "Page[page-7.txt]: ['L14', 'L14', 'L14', 'L14']\n",
            "Page[page-8.txt]: ['L26', 'L26', 'L26']\n",
            "Page[page-9.txt]: ['L26', 'L26', 'L22', 'L26', 'L22', 'L26', 'L22', 'L22', 'L22']\n",
            "Page[page-10.txt]: ['L22', 'L26', 'L14']\n",
            "Page[page-11.txt]: ['L22', 'L22', 'L22']\n",
            "Page[page-12.txt]: ['L14']\n",
            "Page[page-18.txt]: ['M54.40']\n",
            "Page[page-19.txt]: ['G43.109']\n",
            "Page[page-26.txt]: ['D17.1', 'F43.9']\n",
            "Page[page-37.txt]: ['G43.109', 'D72.819', 'R00.2', 'R10.30', 'E88.2']\n",
            "Page[page-39.txt]: ['G43.109', 'D72.819', 'R00.2', 'R10.30']\n",
            "Page[page-42.txt]: ['G43.109', 'R00.2', 'G43.109', 'D72.819', 'R00.2']\n",
            "Page[page-74.txt]: ['M54.2', 'R42']\n",
            "Page[page-82.txt]: ['G43.109', 'R00.2', 'L25.9', 'D72.819']\n",
            "Page[page-84.txt]: ['G43.109']\n",
            "Page[page-85.txt]: ['L25.9', 'D72.819']\n",
            "Page[page-102.txt]: ['G43.109', 'R00.2', 'L25.9', 'Z00.00']\n",
            "Page[page-105.txt]: ['G43.109', 'R00.2', 'L25.9']\n",
            "CPU times: user 330 ms, sys: 12.9 ms, total: 343 ms\n",
            "Wall time: 341 ms\n"
          ]
        }
      ]
    },
    {
      "cell_type": "code",
      "source": [
        "%%time\n",
        "\n",
        "pdf_page_dict = {}\n",
        "# Step-4: Searching ICD-10 code\n",
        "for txt_file in txt_list:\n",
        "  with open(txt_file, \"r\") as f:\n",
        "    page_txt = f.read()\n",
        "    # filter the page that have line number instead of code\n",
        "    if not re.search(\"(P[ ][0-9]+)(,\\s)(L[0-9]+)\", page_txt):\n",
        "      doc = nlp(page_txt)\n",
        "      code_list = [ent.text for ent in doc.ents]\n",
        "      if len(code_list) != 0:\n",
        "        page_number = int(txt_file.split(\"/\")[1].split(\".\")[0].split(\"-\")[1])\n",
        "        pdf_page_dict[page_number] = code_list\n",
        "        print(f\"Page[{txt_file.split('/')[1]}]: {code_list}\")"
      ],
      "metadata": {
        "id": "OW9ULIN3lDG9",
        "outputId": "e7d6e851-5c00-4c79-a2d8-33c0103ab4d7",
        "colab": {
          "base_uri": "https://localhost:8080/"
        }
      },
      "execution_count": 48,
      "outputs": [
        {
          "output_type": "stream",
          "name": "stdout",
          "text": [
            "Page[page-18.txt]: ['M54.40']\n",
            "Page[page-19.txt]: ['G43.109']\n",
            "Page[page-26.txt]: ['D17.1', 'F43.9']\n",
            "Page[page-37.txt]: ['G43.109', 'D72.819', 'R00.2', 'R10.30', 'E88.2']\n",
            "Page[page-39.txt]: ['G43.109', 'D72.819', 'R00.2', 'R10.30']\n",
            "Page[page-42.txt]: ['G43.109', 'R00.2', 'G43.109', 'D72.819', 'R00.2']\n",
            "Page[page-74.txt]: ['M54.2', 'R42']\n",
            "Page[page-82.txt]: ['G43.109', 'R00.2', 'L25.9', 'D72.819']\n",
            "Page[page-84.txt]: ['G43.109']\n",
            "Page[page-85.txt]: ['L25.9', 'D72.819']\n",
            "Page[page-102.txt]: ['G43.109', 'R00.2', 'L25.9', 'Z00.00']\n",
            "Page[page-105.txt]: ['G43.109', 'R00.2', 'L25.9']\n",
            "CPU times: user 273 ms, sys: 4.8 ms, total: 278 ms\n",
            "Wall time: 276 ms\n"
          ]
        }
      ]
    },
    {
      "cell_type": "markdown",
      "source": [
        "##ICD-10 code highlighting"
      ],
      "metadata": {
        "id": "bUvBLqWApIgR"
      }
    },
    {
      "cell_type": "code",
      "source": [
        "0 in pdf_page_dict"
      ],
      "metadata": {
        "colab": {
          "base_uri": "https://localhost:8080/"
        },
        "id": "YPyy8Au7qKrb",
        "outputId": "b5ce9fb4-1e29-4e11-af16-200cee375771"
      },
      "execution_count": null,
      "outputs": [
        {
          "output_type": "execute_result",
          "data": {
            "text/plain": [
              "False"
            ]
          },
          "metadata": {},
          "execution_count": 17
        }
      ]
    },
    {
      "cell_type": "code",
      "source": [
        "pdf_page_dict[2]"
      ],
      "metadata": {
        "colab": {
          "base_uri": "https://localhost:8080/"
        },
        "id": "rS9WmjZZr7w1",
        "outputId": "cd0eae88-e9fb-4b7d-93ce-5893a5a16c3b"
      },
      "execution_count": null,
      "outputs": [
        {
          "output_type": "execute_result",
          "data": {
            "text/plain": [
              "['L14', 'L14']"
            ]
          },
          "metadata": {},
          "execution_count": 18
        }
      ]
    },
    {
      "cell_type": "code",
      "source": [
        "%%time\n",
        "\n",
        "# Step-4: Highlighting ICD-10 code into pdf\n",
        "highlight_icd10_code(pdf_page_dict, pdf_file_name)"
      ],
      "metadata": {
        "id": "7-5lnSdLsiPc"
      },
      "execution_count": null,
      "outputs": []
    },
    {
      "cell_type": "code",
      "source": [
        "True if re.search(\"[0-9],L\", \"3, L14\") else False"
      ],
      "metadata": {
        "colab": {
          "base_uri": "https://localhost:8080/"
        },
        "id": "PqAli6FIHLiS",
        "outputId": "b5820516-0976-41c1-9e9c-5c57262358d3"
      },
      "execution_count": null,
      "outputs": [
        {
          "output_type": "execute_result",
          "data": {
            "text/plain": [
              "False"
            ]
          },
          "metadata": {},
          "execution_count": 36
        }
      ]
    },
    {
      "cell_type": "code",
      "source": [
        "True if re.search(\"(P[ ][0-9]+)(,\\s)(L[0-9]+)\", \"P 13, L17\") else False"
      ],
      "metadata": {
        "id": "GkKlUQW7fHeM",
        "outputId": "6d51d34a-13ea-49c0-ac8f-ebfcc7e1568e",
        "colab": {
          "base_uri": "https://localhost:8080/"
        }
      },
      "execution_count": null,
      "outputs": [
        {
          "output_type": "execute_result",
          "data": {
            "text/plain": [
              "True"
            ]
          },
          "metadata": {},
          "execution_count": 38
        }
      ]
    },
    {
      "cell_type": "code",
      "source": [
        "pattern = re.compile(\"(P[ ][0-9]+)(,\\s)(L[0-9]+)\")\n",
        "\n",
        "for i, line in enumerate(open(\"txt-files/pdf-page-3.txt\")):\n",
        "  for match in re.finditer(pattern, line):\n",
        "    print('Found on line %s: %s' % (i+1, match.group()))"
      ],
      "metadata": {
        "id": "_VXtIAnOZ89O",
        "outputId": "ff2c61c7-036f-4ec1-f82a-c560874570f2",
        "colab": {
          "base_uri": "https://localhost:8080/"
        }
      },
      "execution_count": null,
      "outputs": [
        {
          "output_type": "stream",
          "name": "stdout",
          "text": [
            "Found on line 2: P 60, L23\n",
            "Found on line 3: P 61, L14\n",
            "Found on line 4: P 56, L19\n",
            "Found on line 7: P 54, L19\n",
            "Found on line 8: P 49, L5\n",
            "Found on line 9: P 39, L6\n",
            "Found on line 10: P 37, L9\n",
            "Found on line 11: P 35, L14\n",
            "Found on line 12: P 27, L24\n",
            "Found on line 13: P 21, L23\n",
            "Found on line 15: P 11, L20\n",
            "Found on line 16: P 5, L39\n",
            "Found on line 18: P 3, L24\n",
            "Found on line 22: P 77, L38\n",
            "Found on line 27: P 86, L19\n",
            "Found on line 29: P 66, L19\n",
            "Found on line 30: P 29, L19\n",
            "Found on line 31: P 21, L16\n",
            "Found on line 32: P 12, L18\n",
            "Found on line 33: P 3, L22\n",
            "Found on line 34: P 3, L22\n",
            "Found on line 38: P 3, L17\n",
            "Found on line 41: P 79, L31\n"
          ]
        }
      ]
    },
    {
      "cell_type": "code",
      "source": [
        "# Step-5: Searching ICD-10 code\n",
        "for txt_file in txt_list:\n",
        "  with open(txt_file, \"r\") as f:\n",
        "    #one_txt = f.read()\n",
        "    doc = nlp(f.read())\n",
        "    code_list = [ent.text for ent in doc.ents]\n",
        "    if len(code_list) != 0:\n",
        "      print(f\"Page[{txt_file.split('/')[1]}]: {code_list}\")\n",
        "    #print([f\"Page[{txt_file.split('/')[1]}]: {(ent.text, ent.label_)}\" for ent in doc.ents if ent is not None])"
      ],
      "metadata": {
        "colab": {
          "base_uri": "https://localhost:8080/"
        },
        "id": "tknb4-tM8ELL",
        "outputId": "13e18947-9f6b-4931-d66a-e365a1283834"
      },
      "execution_count": null,
      "outputs": [
        {
          "output_type": "stream",
          "name": "stdout",
          "text": [
            "Page[pdf-page-2.txt]: ['L14']\n",
            "Page[pdf-page-3.txt]: ['L14', 'L14', 'L22', 'L22']\n",
            "Page[pdf-page-4.txt]: ['L26', 'L26', 'L26', 'L26', 'L26', 'L22', 'L14', 'L22', 'L14']\n",
            "Page[pdf-page-6.txt]: ['L14', 'L14']\n",
            "Page[pdf-page-7.txt]: ['L14', 'L14', 'L14', 'L14']\n",
            "Page[pdf-page-8.txt]: ['L26', 'L26', 'L26']\n",
            "Page[pdf-page-9.txt]: ['L26', 'L26', 'L22', 'L26', 'L22', 'L26', 'L22', 'L22', 'L22']\n",
            "Page[pdf-page-10.txt]: ['L22', 'L26', 'L14']\n",
            "Page[pdf-page-11.txt]: ['L22', 'L22', 'L22']\n",
            "Page[pdf-page-12.txt]: ['L14']\n",
            "Page[pdf-page-18.txt]: ['M54.40']\n",
            "Page[pdf-page-19.txt]: ['G43.109']\n",
            "Page[pdf-page-26.txt]: ['D17.1', 'F43.9']\n",
            "Page[pdf-page-37.txt]: ['G43.109', 'D72.819', 'R00.2', 'R10.30', 'E88.2']\n",
            "Page[pdf-page-39.txt]: ['G43.109', 'D72.819', 'R00.2', 'R10.30']\n",
            "Page[pdf-page-42.txt]: ['G43.109', 'R00.2', 'G43.109', 'D72.819', 'R00.2']\n",
            "Page[pdf-page-74.txt]: ['M54.2', 'R42']\n",
            "Page[pdf-page-82.txt]: ['G43.109', 'R00.2', 'L25.9', 'D72.819']\n",
            "Page[pdf-page-84.txt]: ['G43.109']\n",
            "Page[pdf-page-85.txt]: ['L25.9', 'D72.819']\n",
            "Page[pdf-page-102.txt]: ['G43.109', 'R00.2', 'L25.9', 'Z00.00']\n",
            "Page[pdf-page-105.txt]: ['G43.109', 'R00.2', 'L25.9']\n"
          ]
        }
      ]
    },
    {
      "cell_type": "markdown",
      "source": [
        "##Tessrect text extraction"
      ],
      "metadata": {
        "id": "xrn1ysvSx_h0"
      }
    },
    {
      "cell_type": "code",
      "source": [
        "%%time\n",
        "\n",
        "# Step-1: spliting pdf file\n",
        "pdf_file_name = \"Redacted_Sample_2.pdf\"\n",
        "pdf_list = split_pdf(pdf_file_name)\n",
        "\n",
        "# Step-2: converting pdf to image\n",
        "img_list = pdf_to_image(pdf_list)\n",
        "\n",
        "# Step-4: Extracting text from pdf\n",
        "txt_list = extract_text_from_image(img_list)\n",
        "\n",
        "# Step-3: loading and updating patterns to Spacy\n",
        "nlp.add_pipe(\"entity_ruler\").from_disk(\"./icd10_code_patterns.jsonl\")"
      ],
      "metadata": {
        "id": "QtTEZYAEyCpc"
      },
      "execution_count": null,
      "outputs": []
    },
    {
      "cell_type": "code",
      "source": [
        "# Step-4: Extracting text from pdf\n",
        "txt_list = extract_text_from_image(img_list)\n",
        "\n",
        "# Step-3: loading and updating patterns to Spacy\n",
        "nlp.add_pipe(\"entity_ruler\").from_disk(\"./icd10_code_patterns.jsonl\")"
      ],
      "metadata": {
        "id": "J5u7LWuY2Fin",
        "outputId": "1c38b67b-96f7-4e61-d188-2862d48def9c",
        "colab": {
          "base_uri": "https://localhost:8080/"
        }
      },
      "execution_count": null,
      "outputs": [
        {
          "output_type": "execute_result",
          "data": {
            "text/plain": [
              "<spacy.pipeline.entityruler.EntityRuler at 0x7f4ac6e88af0>"
            ]
          },
          "metadata": {},
          "execution_count": 18
        }
      ]
    },
    {
      "cell_type": "code",
      "source": [
        "%%time\n",
        "\n",
        "pdf_page_dict = {}\n",
        "# Step-4: Searching ICD-10 code\n",
        "for txt_file in txt_list:\n",
        "  with open(txt_file, \"r\") as f:\n",
        "    page_txt = f.read()\n",
        "    # filter the page that have line number instead of code\n",
        "    if not re.search(\"(P[ ][0-9]+)(,\\s)(L[0-9]+)\", page_txt):\n",
        "      doc = nlp(page_txt)\n",
        "      code_list = [ent.text for ent in doc.ents]\n",
        "      if len(code_list) != 0:\n",
        "        page_number = int(txt_file.split(\"/\")[1].split(\".\")[0].split(\"-\")[1])\n",
        "        pdf_page_dict[page_number] = code_list\n",
        "        print(f\"Page[{txt_file.split('/')[1]}]: {code_list}\")"
      ],
      "metadata": {
        "id": "79Y-FMlryT0m",
        "outputId": "9a6968bd-cdbc-4c74-c24e-defa4ec3419f",
        "colab": {
          "base_uri": "https://localhost:8080/"
        }
      },
      "execution_count": null,
      "outputs": [
        {
          "output_type": "stream",
          "name": "stdout",
          "text": [
            "Page[page-17.txt]: ['R64']\n",
            "Page[page-18.txt]: ['D17.1']\n",
            "Page[page-19.txt]: ['G43.109']\n",
            "Page[page-24.txt]: ['M50.30']\n",
            "Page[page-26.txt]: ['F43.9']\n",
            "Page[page-37.txt]: ['G43.109', 'D72.819', 'R10.30', 'E88.2']\n",
            "Page[page-39.txt]: ['G43.109', 'D72.819', 'R10.30']\n",
            "Page[page-42.txt]: ['G43.109', 'D72.819']\n",
            "Page[page-74.txt]: ['M50.323', 'M46.92', 'R42']\n",
            "Page[page-82.txt]: ['G43.109', 'L25.9', 'D72.819']\n",
            "Page[page-85.txt]: ['R00.2', 'L25.9', 'D72.819']\n",
            "Page[page-102.txt]: ['G43.109', 'L25.9']\n",
            "Page[page-105.txt]: ['G43.109', 'L25.9']\n",
            "CPU times: user 676 ms, sys: 15.5 ms, total: 691 ms\n",
            "Wall time: 694 ms\n"
          ]
        }
      ]
    },
    {
      "cell_type": "code",
      "source": [
        "%%time\n",
        "\n",
        "# Step-4: Highlighting ICD-10 code into pdf\n",
        "highlight_icd10_code(pdf_page_dict, pdf_file_name)"
      ],
      "metadata": {
        "id": "rTrdHahE8HQ5",
        "outputId": "e571efe9-c92d-4b34-94a1-bc6bd3cf8c74",
        "colab": {
          "base_uri": "https://localhost:8080/"
        }
      },
      "execution_count": null,
      "outputs": [
        {
          "output_type": "stream",
          "name": "stdout",
          "text": [
            "Page dict: ['R64']\n",
            "Page dict: ['D17.1']\n",
            "Page dict: ['G43.109']\n",
            "Page-19:  G43.109 [Rect(227.2899932861328, 145.4748077392578, 256.4548034667969, 156.68040466308594)]\n",
            "Page dict: ['M50.30']\n",
            "Page dict: ['F43.9']\n",
            "Page-26:  F43.9 [Rect(267.1199951171875, 294.4976806640625, 288.10455322265625, 306.6370849609375)]\n",
            "Page dict: ['G43.109', 'D72.819', 'R10.30', 'E88.2']\n",
            "Page-37:  D72.819 [Rect(70.31879425048828, 230.57130432128906, 100.93679809570312, 241.70071411132812)]\n",
            "Page-37:  R10.30 [Rect(70.31879425048828, 248.33460998535156, 96.43319702148438, 259.4640197753906)]\n",
            "Page-37:  E88.2 [Rect(70.31879425048828, 257.4552307128906, 91.48410034179688, 268.5846252441406)]\n",
            "Page dict: ['G43.109', 'D72.819', 'R10.30']\n",
            "Page-39:  G43.109 [Rect(68.39816284179688, 293.9032287597656, 98.70294952392578, 304.7579650878906)]\n",
            "Page-39:  D72.819 [Rect(69.1170654296875, 311.899658203125, 98.97944641113281, 322.75439453125)]\n",
            "Page-39:  R10.30 [Rect(69.1170654296875, 329.643310546875, 94.58699035644531, 340.498046875)]\n",
            "Page dict: ['G43.109', 'D72.819']\n",
            "Page-42:  G43.109 [Rect(97.20299530029297, 207.05567932128906, 128.27459716796875, 218.18508911132812), Rect(97.19490051269531, 304.7204895019531, 128.26651000976562, 315.8498840332031)]\n",
            "Page-42:  G43.109 [Rect(97.20299530029297, 207.05567932128906, 128.27459716796875, 218.18508911132812), Rect(97.19490051269531, 304.7204895019531, 128.26651000976562, 315.8498840332031)]\n",
            "Page-42:  D72.819 [Rect(97.2030029296875, 323.9336853027344, 127.82100677490234, 335.0630798339844)]\n",
            "Page dict: ['M50.323', 'M46.92', 'R42']\n",
            "Page-74:  R42 [Rect(161.75999450683594, 352.906005859375, 176.79879760742188, 364.1973876953125)]\n",
            "Page dict: ['G43.109', 'L25.9', 'D72.819']\n",
            "Page-82:  G43.109 [Rect(132.73585510253906, 281.9337463378906, 163.80746459960938, 293.0631408691406)]\n",
            "Page-82:  L25.9 [Rect(128.6639862060547, 367.1214599609375, 148.93019104003906, 378.2508544921875)]\n",
            "Page-82:  D72.819 [Rect(133.2242889404297, 386.33465576171875, 163.84230041503906, 397.46405029296875)]\n",
            "Page dict: ['R00.2', 'L25.9', 'D72.819']\n",
            "Page-85:  L25.9 [Rect(122.15640258789062, 155.82000732421875, 142.67282104492188, 167.08680725097656)]\n",
            "Page-85:  D72.819 [Rect(122.40240478515625, 174.77838134765625, 153.39842224121094, 186.04518127441406)]\n",
            "Page dict: ['G43.109', 'L25.9']\n",
            "Page-102:  G43.109 [Rect(132.73793029785156, 320.32757568359375, 163.80953979492188, 331.45697021484375)]\n",
            "Page-102:  L25.9 [Rect(128.64808654785156, 386.32318115234375, 148.91429138183594, 397.45257568359375)]\n",
            "Page dict: ['G43.109', 'L25.9']\n",
            "Page-105:  G43.109 [Rect(122.64510345458984, 329.437255859375, 153.71670532226562, 340.566650390625)]\n",
            "Page-105:  L25.9 [Rect(122.64510345458984, 376.96807861328125, 142.9113006591797, 388.09747314453125)]\n",
            "CPU times: user 1.31 s, sys: 48.6 ms, total: 1.35 s\n",
            "Wall time: 1.42 s\n"
          ]
        }
      ]
    },
    {
      "cell_type": "code",
      "source": [
        "with open(f\"{txt_files_path}/page-37.txt\", \"r\") as f:\n",
        "  one_txt = f.read()\n",
        "  print(one_txt)"
      ],
      "metadata": {
        "id": "bVFCabem1f33",
        "outputId": "ffc63ab0-3c95-498c-ebfd-dd6177bd9865",
        "colab": {
          "base_uri": "https://localhost:8080/"
        }
      },
      "execution_count": null,
      "outputs": [
        {
          "output_type": "stream",
          "name": "stdout",
          "text": [
            ", Male,\n",
            "\n",
            "SF0063198200\n",
            "\n",
            "Patient Name (005 - Phone Number:\n",
            "\n",
            "7\n",
            "\n",
            "4of6\n",
            "\n",
            "Office/Outpatient Visit\n",
            "\n",
            "Visit Date: Mon, Jun 24, 2019 9:00 am\n",
            "\n",
            "Provider: Josephs, Barry, MD (Assistant: Coppage, Jasmine, )\n",
            "\n",
            "Location: Barry Josephs, M.D. LLG\n",
            "\n",
            "Electronically signed by Barry Josephs, MD on 06/24/2019 02:46:23 PM\n",
            "\n",
            "Printed on 06/24/2019 at 3:21 pm.\n",
            "\n",
            "Assessment:\n",
            "\n",
            "¥70.0 Preventive Physical Exam (Mild)\n",
            "\n",
            "434.91 Cerebrovascular accident (Severe)\n",
            "\n",
            "G43.109 Migraine with aura, not intractable, without status migrainosus\n",
            "\n",
            "722.91\n",
            "\n",
            "Cervical disc disorder (Mild)\n",
            "\n",
            "D72.819 Decreased white blood cell count, unspecified\n",
            "\n",
            "ROO.2 Palpitations\n",
            "\n",
            "R10.30 Lower abdominal pain, unspecified\n",
            "\n",
            "E88.2 Lipomatosis, not elsewhere classified\n",
            "\n",
            "Plan:\n",
            "\n",
            "Preventive Physical Exam\n",
            "\n",
            "PREVENTION & RECOMMENDATIONS:\n",
            "\n",
            "Overall Health and Lifestyle:\n",
            "\n",
            "Thank you for coming for the Wellness Program. It was a pleasure to update the history and physical as well as discuss\n",
            "\n",
            "your laboratory results\n",
            "\n",
            "Wellness anc Prevention begins with a healthy lifestyle and diet and exercise play an important role.\n",
            "\n",
            "You try to eat healthfully and exercise but with the stress an anxiety of work, you do not enjoy it as much as you did\n",
            "\n",
            "The Body Mass Index (BMI) is an estimate of body fat and is a useful and objective tool to assess whether one is\n",
            "\n",
            "overweight or obese. BMI is calculated from your height and weight. A BMI of 18-25 is considered normal weight. A BMI\n",
            "\n",
            "of 25-30 is overweight. A BM! of over 30 is considered obese.\n",
            "\n",
            "Abdominal obesity, where most of your fat is around your waist and not your hips, has also been found to increase the risk\n",
            "\n",
            "of heart disease and type 2 diabetes. A woman's risk goes up if her waist circumference is greater than 35 inches, anda\n",
            "\n",
            "man's risk goes up if his waist circumference is greater than 40 inches.\n",
            "\n",
            "Men should not consume more than 2 alcoholic drinks a day. Women should not consume more than 1 alcoholic drink a\n",
            "\n",
            "day.\n",
            "\n",
            "Good dentai hygiene includes brushing your teeth twice a day and flossing daily, There is evidence that inflammation\n",
            "\n",
            "around the gums is correlated with inflammation in the vascular system and an increased risk of heart attack and stroke.\n",
            "\n",
            "Cardiovascular Prevention:\n",
            "\n",
            "You have the following traditional cardiovascular risk factors: hyperlipidemia\n",
            "\n",
            "Your LDL is not as low as ideally but your other risk factors are well managed. | think that continued attention to diet and\n",
            "\n",
            "maintaining a regular exercise routine is the best way to go at this time.\n",
            "\n",
            "Cancer Prevention:\n",
            "\n",
            "Skin Cancer Screening: No suspicious lesions were seen today. SPF 30 (or higher) sunscreen and a brimmed hat are\n",
            "\n",
            "recommended during times of sun exposure.\n",
            "\n",
            "Prostate Cancer Screening: | did not fee! any area of concern on digital rectal examination today\n",
            "\n",
            "Advance Directives:\n",
            "\n",
            "Living wills, medical power of attorney and other advance medical directives describe your preferences regarding end-of-\n",
            "\n",
            "life care. Unexpected situations can happen at any age: therefore it is never too early to make your wishes known and to\n",
            "\n",
            "formally draw up such documents. Please send us a copy of your living will and advance directives at your earliest\n",
            "\n",
            "convenience\n",
            "\n",
            "Immunizations:\n",
            "\n",
            "Influenza causes approximately 24,000 deaths per year. The vaccine prevents a major portion of the number of cases\n",
            "\n",
            "and reduces hospitallizations and deaths. The current recommendations are for vaccinations for all adults and children >6\n",
            "\n",
            "months. | recommend that you get vaccinated annually against influenza.\n",
            "\n",
            "The Tetanus/Diphtheria/Pertussis vaccine (Tdap) is recommended once in adulthood to substitute as a Td booster\n",
            "\n",
            "PT a ng nved nademadk stn Pocan Vestal Aeneciton\n",
            "\n",
            "Patient Nene i s Number:\n",
            "\n",
            "APS Page 24 of 114\n",
            "\n",
            "APS.Extract® all Rights Reserved\n",
            "\n",
            "This document contains proprietary, confidential and personal data and is intended for viewing and use only by authorized users. This document may not be printed or distributed for any unauthorized purpose\n",
            "\n",
            "whatsoever. Copyright (c) 2020. All rights reserved. Innodata Synodex, LLC\n",
            "\f\n"
          ]
        }
      ]
    }
  ]
}