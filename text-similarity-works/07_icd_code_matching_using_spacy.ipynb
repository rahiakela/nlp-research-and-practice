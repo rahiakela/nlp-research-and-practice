{
  "nbformat": 4,
  "nbformat_minor": 0,
  "metadata": {
    "colab": {
      "provenance": [],
      "authorship_tag": "ABX9TyO/D9PfN4IYEACuU0agOvhn",
      "include_colab_link": true
    },
    "kernelspec": {
      "name": "python3",
      "display_name": "Python 3"
    },
    "language_info": {
      "name": "python"
    }
  },
  "cells": [
    {
      "cell_type": "markdown",
      "metadata": {
        "id": "view-in-github",
        "colab_type": "text"
      },
      "source": [
        "<a href=\"https://colab.research.google.com/github/rahiakela/natural-language-processing-research-and-practice/blob/main/text-similarity-works/07_icd_code_matching_using_spacy.ipynb\" target=\"_parent\"><img src=\"https://colab.research.google.com/assets/colab-badge.svg\" alt=\"Open In Colab\"/></a>"
      ]
    },
    {
      "cell_type": "markdown",
      "source": [
        "##Setup"
      ],
      "metadata": {
        "id": "73ORkeFzaRA4"
      }
    },
    {
      "cell_type": "markdown",
      "source": [
        "Reference:\n",
        "\n",
        "[Rule-based entity recognition](https://spacy.io/usage/rule-based-matching#entityruler)\n",
        "\n",
        "[PDF-to-TEXT](https://pypi.org/project/pdftotext/)"
      ],
      "metadata": {
        "id": "nAkX90V5vVML"
      }
    },
    {
      "cell_type": "code",
      "source": [
        "!pip -q install spacy\n",
        "!python -m spacy download en_core_web_sm\n",
        "\n",
        "!pip install pillow\n",
        "\n",
        "!sudo apt install build-essential libpoppler-cpp-dev pkg-config python3-dev\n",
        "!pip install -U pdftotext\n",
        "!pip install PyPDF2"
      ],
      "metadata": {
        "id": "Ti6ZynbyaR9l"
      },
      "execution_count": null,
      "outputs": []
    },
    {
      "cell_type": "markdown",
      "source": [
        "Just restart the colab environment."
      ],
      "metadata": {
        "id": "EIvuMvZfuhfY"
      }
    },
    {
      "cell_type": "code",
      "source": [
        "import pandas as pd\n",
        "import numpy as np\n",
        "import re\n",
        "import time\n",
        "import os\n",
        "\n",
        "import pdb\n",
        "\n",
        "import cv2 \n",
        "import pdftotext\n",
        "from PyPDF2 import PdfFileReader, PdfFileWriter\n",
        "from io import BytesIO\n",
        "from PIL import Image\n",
        "from matplotlib import pyplot as plt\n",
        "\n",
        "import spacy\n",
        "from spacy.matcher import PhraseMatcher\n",
        "from spacy.lang.en import English\n",
        "\n",
        "import nltk"
      ],
      "metadata": {
        "id": "fAcHTn0JaM2S"
      },
      "execution_count": 1,
      "outputs": []
    },
    {
      "cell_type": "markdown",
      "source": [
        "##PDF text extraction"
      ],
      "metadata": {
        "id": "JDPjyEajYcLI"
      }
    },
    {
      "cell_type": "code",
      "source": [
        "!mkdir pdf-files\n",
        "!mkdir txt-files"
      ],
      "metadata": {
        "id": "waAMlPatyB86"
      },
      "execution_count": 2,
      "outputs": []
    },
    {
      "cell_type": "code",
      "source": [
        "pdf_files_path = \"pdf-files\"\n",
        "txt_files_path = \"txt-files\"\n",
        "\n",
        "def split_pdf(pdf_path):\n",
        "  pdf_in_file = open(pdf_path, \"rb\")\n",
        "  pdf = PdfFileReader(pdf_in_file)\n",
        "  pdf_list = []\n",
        "  for page in range(pdf.numPages):\n",
        "      inputpdf = PdfFileReader(pdf_in_file)\n",
        "      output = PdfFileWriter()\n",
        "      output.addPage(inputpdf.getPage(page))\n",
        "      with open(f\"{pdf_files_path}/pdf-page-{page}.pdf\", \"wb\") as outputStream:\n",
        "          output.write(outputStream)\n",
        "          pdf_list.append(f\"pdf-page-{page}.pdf\")\n",
        "  return pdf_list"
      ],
      "metadata": {
        "id": "qf_FW3GayDDV"
      },
      "execution_count": 3,
      "outputs": []
    },
    {
      "cell_type": "code",
      "source": [
        "def extract_text_from_pdf(pdf_list):\n",
        "  txt_file_list = []\n",
        "  i = 0\n",
        "  for pdf_file in pdf_list:\n",
        "    with open(os.path.join(pdf_files_path, pdf_file), \"rb\") as f:\n",
        "      pdf = pdftotext.PDF(f)\n",
        "    \n",
        "    # Read all the text into one string\n",
        "    pdf_text = \"\\n\\n\".join(pdf)\n",
        "\n",
        "    # write text into file\n",
        "    with open(f\"{txt_files_path}/pdf-page-{str(i)}.txt\", \"a\") as f:\n",
        "      f.write(pdf_text)\n",
        "    txt_file_list.append(f\"{txt_files_path}/pdf-page-{str(i)}.txt\")\n",
        "    i += 1\n",
        "  return txt_file_list"
      ],
      "metadata": {
        "id": "N_KhNR95yNyF"
      },
      "execution_count": 4,
      "outputs": []
    },
    {
      "cell_type": "code",
      "source": [
        "pdf_list = split_pdf(\"Redacted_Sample_2.pdf\")"
      ],
      "metadata": {
        "id": "c3ZrWlaTGOQI"
      },
      "execution_count": 7,
      "outputs": []
    },
    {
      "cell_type": "code",
      "source": [
        "txt_list = extract_text_from_pdf(pdf_list)"
      ],
      "metadata": {
        "id": "3zgk-i2qG4u8"
      },
      "execution_count": 8,
      "outputs": []
    },
    {
      "cell_type": "code",
      "source": [
        "txt_list[:10]"
      ],
      "metadata": {
        "colab": {
          "base_uri": "https://localhost:8080/"
        },
        "id": "G8Zhw_OuHbQA",
        "outputId": "7e05e989-8a7c-4f86-a4f4-315a9113266f"
      },
      "execution_count": 10,
      "outputs": [
        {
          "output_type": "execute_result",
          "data": {
            "text/plain": [
              "['txt-files/pdf-page-0.txt',\n",
              " 'txt-files/pdf-page-1.txt',\n",
              " 'txt-files/pdf-page-2.txt',\n",
              " 'txt-files/pdf-page-3.txt',\n",
              " 'txt-files/pdf-page-4.txt',\n",
              " 'txt-files/pdf-page-5.txt',\n",
              " 'txt-files/pdf-page-6.txt',\n",
              " 'txt-files/pdf-page-7.txt',\n",
              " 'txt-files/pdf-page-8.txt',\n",
              " 'txt-files/pdf-page-9.txt']"
            ]
          },
          "metadata": {},
          "execution_count": 10
        }
      ]
    },
    {
      "cell_type": "code",
      "source": [
        "txt_list[:10]"
      ],
      "metadata": {
        "colab": {
          "base_uri": "https://localhost:8080/"
        },
        "id": "l0TenW7QHXcO",
        "outputId": "4851df50-625c-4eee-f9fe-e9de88a3a55d"
      },
      "execution_count": 9,
      "outputs": [
        {
          "output_type": "execute_result",
          "data": {
            "text/plain": [
              "['txt-files/pdf-page-0.txt',\n",
              " 'txt-files/pdf-page-1.txt',\n",
              " 'txt-files/pdf-page-2.txt',\n",
              " 'txt-files/pdf-page-3.txt',\n",
              " 'txt-files/pdf-page-4.txt',\n",
              " 'txt-files/pdf-page-5.txt',\n",
              " 'txt-files/pdf-page-6.txt',\n",
              " 'txt-files/pdf-page-7.txt',\n",
              " 'txt-files/pdf-page-8.txt',\n",
              " 'txt-files/pdf-page-9.txt']"
            ]
          },
          "metadata": {},
          "execution_count": 9
        }
      ]
    },
    {
      "cell_type": "markdown",
      "source": [
        "##Spacy entity rule-matcher"
      ],
      "metadata": {
        "id": "VgfMg5wIkc9p"
      }
    },
    {
      "cell_type": "code",
      "source": [
        "nlp = spacy.load(\"en_core_web_sm\")\n",
        "nlp = English()\n",
        "ruler = nlp.add_pipe(\"entity_ruler\")"
      ],
      "metadata": {
        "id": "qifnx1bq4aw0"
      },
      "execution_count": 12,
      "outputs": []
    },
    {
      "cell_type": "code",
      "source": [
        "icd_code_df = pd.read_csv(\"icd_10_codes.csv\")\n",
        "icd_code_df.head()"
      ],
      "metadata": {
        "colab": {
          "base_uri": "https://localhost:8080/",
          "height": 206
        },
        "id": "k65DtokO4w8c",
        "outputId": "c08fbe58-eb87-49d5-8441-a0bdfa76433a"
      },
      "execution_count": 11,
      "outputs": [
        {
          "output_type": "execute_result",
          "data": {
            "text/plain": [
              "   ICD-10\n",
              "0   A00.0\n",
              "1   A00.1\n",
              "2   A00.9\n",
              "3  A01.00\n",
              "4  A01.01"
            ],
            "text/html": [
              "\n",
              "  <div id=\"df-9c2709cc-8f7f-4f67-91f0-27b2d261e6d0\">\n",
              "    <div class=\"colab-df-container\">\n",
              "      <div>\n",
              "<style scoped>\n",
              "    .dataframe tbody tr th:only-of-type {\n",
              "        vertical-align: middle;\n",
              "    }\n",
              "\n",
              "    .dataframe tbody tr th {\n",
              "        vertical-align: top;\n",
              "    }\n",
              "\n",
              "    .dataframe thead th {\n",
              "        text-align: right;\n",
              "    }\n",
              "</style>\n",
              "<table border=\"1\" class=\"dataframe\">\n",
              "  <thead>\n",
              "    <tr style=\"text-align: right;\">\n",
              "      <th></th>\n",
              "      <th>ICD-10</th>\n",
              "    </tr>\n",
              "  </thead>\n",
              "  <tbody>\n",
              "    <tr>\n",
              "      <th>0</th>\n",
              "      <td>A00.0</td>\n",
              "    </tr>\n",
              "    <tr>\n",
              "      <th>1</th>\n",
              "      <td>A00.1</td>\n",
              "    </tr>\n",
              "    <tr>\n",
              "      <th>2</th>\n",
              "      <td>A00.9</td>\n",
              "    </tr>\n",
              "    <tr>\n",
              "      <th>3</th>\n",
              "      <td>A01.00</td>\n",
              "    </tr>\n",
              "    <tr>\n",
              "      <th>4</th>\n",
              "      <td>A01.01</td>\n",
              "    </tr>\n",
              "  </tbody>\n",
              "</table>\n",
              "</div>\n",
              "      <button class=\"colab-df-convert\" onclick=\"convertToInteractive('df-9c2709cc-8f7f-4f67-91f0-27b2d261e6d0')\"\n",
              "              title=\"Convert this dataframe to an interactive table.\"\n",
              "              style=\"display:none;\">\n",
              "        \n",
              "  <svg xmlns=\"http://www.w3.org/2000/svg\" height=\"24px\"viewBox=\"0 0 24 24\"\n",
              "       width=\"24px\">\n",
              "    <path d=\"M0 0h24v24H0V0z\" fill=\"none\"/>\n",
              "    <path d=\"M18.56 5.44l.94 2.06.94-2.06 2.06-.94-2.06-.94-.94-2.06-.94 2.06-2.06.94zm-11 1L8.5 8.5l.94-2.06 2.06-.94-2.06-.94L8.5 2.5l-.94 2.06-2.06.94zm10 10l.94 2.06.94-2.06 2.06-.94-2.06-.94-.94-2.06-.94 2.06-2.06.94z\"/><path d=\"M17.41 7.96l-1.37-1.37c-.4-.4-.92-.59-1.43-.59-.52 0-1.04.2-1.43.59L10.3 9.45l-7.72 7.72c-.78.78-.78 2.05 0 2.83L4 21.41c.39.39.9.59 1.41.59.51 0 1.02-.2 1.41-.59l7.78-7.78 2.81-2.81c.8-.78.8-2.07 0-2.86zM5.41 20L4 18.59l7.72-7.72 1.47 1.35L5.41 20z\"/>\n",
              "  </svg>\n",
              "      </button>\n",
              "      \n",
              "  <style>\n",
              "    .colab-df-container {\n",
              "      display:flex;\n",
              "      flex-wrap:wrap;\n",
              "      gap: 12px;\n",
              "    }\n",
              "\n",
              "    .colab-df-convert {\n",
              "      background-color: #E8F0FE;\n",
              "      border: none;\n",
              "      border-radius: 50%;\n",
              "      cursor: pointer;\n",
              "      display: none;\n",
              "      fill: #1967D2;\n",
              "      height: 32px;\n",
              "      padding: 0 0 0 0;\n",
              "      width: 32px;\n",
              "    }\n",
              "\n",
              "    .colab-df-convert:hover {\n",
              "      background-color: #E2EBFA;\n",
              "      box-shadow: 0px 1px 2px rgba(60, 64, 67, 0.3), 0px 1px 3px 1px rgba(60, 64, 67, 0.15);\n",
              "      fill: #174EA6;\n",
              "    }\n",
              "\n",
              "    [theme=dark] .colab-df-convert {\n",
              "      background-color: #3B4455;\n",
              "      fill: #D2E3FC;\n",
              "    }\n",
              "\n",
              "    [theme=dark] .colab-df-convert:hover {\n",
              "      background-color: #434B5C;\n",
              "      box-shadow: 0px 1px 3px 1px rgba(0, 0, 0, 0.15);\n",
              "      filter: drop-shadow(0px 1px 2px rgba(0, 0, 0, 0.3));\n",
              "      fill: #FFFFFF;\n",
              "    }\n",
              "  </style>\n",
              "\n",
              "      <script>\n",
              "        const buttonEl =\n",
              "          document.querySelector('#df-9c2709cc-8f7f-4f67-91f0-27b2d261e6d0 button.colab-df-convert');\n",
              "        buttonEl.style.display =\n",
              "          google.colab.kernel.accessAllowed ? 'block' : 'none';\n",
              "\n",
              "        async function convertToInteractive(key) {\n",
              "          const element = document.querySelector('#df-9c2709cc-8f7f-4f67-91f0-27b2d261e6d0');\n",
              "          const dataTable =\n",
              "            await google.colab.kernel.invokeFunction('convertToInteractive',\n",
              "                                                     [key], {});\n",
              "          if (!dataTable) return;\n",
              "\n",
              "          const docLinkHtml = 'Like what you see? Visit the ' +\n",
              "            '<a target=\"_blank\" href=https://colab.research.google.com/notebooks/data_table.ipynb>data table notebook</a>'\n",
              "            + ' to learn more about interactive tables.';\n",
              "          element.innerHTML = '';\n",
              "          dataTable['output_type'] = 'display_data';\n",
              "          await google.colab.output.renderOutput(dataTable, element);\n",
              "          const docLink = document.createElement('div');\n",
              "          docLink.innerHTML = docLinkHtml;\n",
              "          element.appendChild(docLink);\n",
              "        }\n",
              "      </script>\n",
              "    </div>\n",
              "  </div>\n",
              "  "
            ]
          },
          "metadata": {},
          "execution_count": 11
        }
      ]
    },
    {
      "cell_type": "code",
      "source": [
        "def make_icd_10_code_pattern(icd_10_code_df):\n",
        "  patterns = []\n",
        "  for _, row in icd_10_code_df.iterrows():\n",
        "    patterns.append({\"label\": \"ICD-10\", \"pattern\": row[\"ICD-10\"]})\n",
        "  return patterns"
      ],
      "metadata": {
        "id": "fC3Pds3yNCJ4"
      },
      "execution_count": 5,
      "outputs": []
    },
    {
      "cell_type": "code",
      "source": [
        "patterns = make_icd_10_code_pattern(icd_code_df)\n",
        "patterns[:10]"
      ],
      "metadata": {
        "colab": {
          "base_uri": "https://localhost:8080/"
        },
        "id": "WvEuBtziN6h2",
        "outputId": "3b19ee3c-3d61-4f08-ab56-2425410bcd5b"
      },
      "execution_count": 15,
      "outputs": [
        {
          "output_type": "execute_result",
          "data": {
            "text/plain": [
              "[{'label': 'ICD-10', 'pattern': 'A00.0'},\n",
              " {'label': 'ICD-10', 'pattern': 'A00.1'},\n",
              " {'label': 'ICD-10', 'pattern': 'A00.9'},\n",
              " {'label': 'ICD-10', 'pattern': 'A01.00'},\n",
              " {'label': 'ICD-10', 'pattern': 'A01.01'},\n",
              " {'label': 'ICD-10', 'pattern': 'A01.02'},\n",
              " {'label': 'ICD-10', 'pattern': 'A01.03'},\n",
              " {'label': 'ICD-10', 'pattern': 'A01.04'},\n",
              " {'label': 'ICD-10', 'pattern': 'A01.05'},\n",
              " {'label': 'ICD-10', 'pattern': 'A01.09'}]"
            ]
          },
          "metadata": {},
          "execution_count": 15
        }
      ]
    },
    {
      "cell_type": "code",
      "source": [
        "ruler.add_patterns(patterns)"
      ],
      "metadata": {
        "id": "4wiQwpl0OSGo"
      },
      "execution_count": 16,
      "outputs": []
    },
    {
      "cell_type": "code",
      "source": [
        "icd_code_df.loc[icd_code_df[\"ICD-10\" == \"Z00.0\"]]"
      ],
      "metadata": {
        "id": "fnOb4NoDRlTZ"
      },
      "execution_count": null,
      "outputs": []
    },
    {
      "cell_type": "code",
      "source": [
        "with open(f\"{txt_files_path}/pdf-page-102.txt\", \"r\") as f:\n",
        "  one_txt = f.read()\n",
        "  print(one_txt)\n",
        "  doc = nlp(one_txt)\n",
        "  print([(ent.text, ent.label_) for ent in doc.ents])"
      ],
      "metadata": {
        "id": "OCg5Qps0PAaq"
      },
      "execution_count": null,
      "outputs": []
    },
    {
      "cell_type": "markdown",
      "source": [
        "##Performance Testing"
      ],
      "metadata": {
        "id": "E3AMzWcDwfYk"
      }
    },
    {
      "cell_type": "code",
      "source": [
        "my_txt = \"txt-files/pdf-page-0.txt\"\n",
        "my_txt = my_txt.split(\"/\")[1]\n",
        "my_txt"
      ],
      "metadata": {
        "colab": {
          "base_uri": "https://localhost:8080/",
          "height": 35
        },
        "id": "Y_qVE0CEym8-",
        "outputId": "17cdd53b-332c-42f6-e8b6-ebae550ce707"
      },
      "execution_count": 8,
      "outputs": [
        {
          "output_type": "execute_result",
          "data": {
            "text/plain": [
              "'pdf-page-0.txt'"
            ],
            "application/vnd.google.colaboratory.intrinsic+json": {
              "type": "string"
            }
          },
          "metadata": {},
          "execution_count": 8
        }
      ]
    },
    {
      "cell_type": "code",
      "source": [
        "nlp = spacy.load(\"en_core_web_sm\")\n",
        "nlp = English()\n",
        "ruler = nlp.add_pipe(\"entity_ruler\")"
      ],
      "metadata": {
        "id": "2xp03NMAxslL"
      },
      "execution_count": 6,
      "outputs": []
    },
    {
      "cell_type": "code",
      "source": [
        "%%time\n",
        "\n",
        "# Step-1: spliting pdf file\n",
        "pdf_list = split_pdf(\"Redacted_Sample_2.pdf\")\n",
        "\n",
        "# Step-2: Extracting text from pdf\n",
        "txt_list = extract_text_from_pdf(pdf_list)\n",
        "\n",
        "# Step-3: Preparing Spacy's patterns\n",
        "patterns = make_icd_10_code_pattern(pd.read_csv(\"icd_10_codes.csv\"))\n",
        "\n",
        "# Step-4: adding patterns to Spacy\n",
        "ruler.add_patterns(patterns)\n",
        "\n",
        "# Step-5: Searching ICD-10 code\n",
        "for txt_file in txt_list:\n",
        "  with open(txt_file, \"r\") as f:\n",
        "    #one_txt = f.read()\n",
        "    doc = nlp(f.read())\n",
        "    print(f\"Page[{txt_file.split('/')[1]}]: \", [(ent.text, ent.label_) for ent in doc.ents])"
      ],
      "metadata": {
        "id": "DMQjPBMmmg6L"
      },
      "execution_count": null,
      "outputs": []
    },
    {
      "cell_type": "code",
      "source": [
        "found_page = {}\n",
        "code_list = []\n",
        "\n",
        "# Step-5: Searching ICD-10 code\n",
        "for txt_file in txt_list:\n",
        "  with open(txt_file, \"r\") as f:\n",
        "    #one_txt = f.read()\n",
        "    doc = nlp(f.read())\n",
        "\n",
        "    code_found = False\n",
        "    for ent in doc.ents:\n",
        "      if ent is not None:\n",
        "        print(ent.text)\n",
        "        code_found = True\n",
        "        code_list.append(ent.text)\n",
        "    if code_found:\n",
        "      found_page[f\"Page[{txt_file.split('/')[1]}]\"] = code_list"
      ],
      "metadata": {
        "id": "VNYcbWpa4qVV"
      },
      "execution_count": null,
      "outputs": []
    },
    {
      "cell_type": "code",
      "source": [
        "True if re.search(\"L[0-9{2,}]\", \"L14\") else False"
      ],
      "metadata": {
        "colab": {
          "base_uri": "https://localhost:8080/"
        },
        "id": "PqAli6FIHLiS",
        "outputId": "fca9a754-1243-4685-dc21-90189331c926"
      },
      "execution_count": 47,
      "outputs": [
        {
          "output_type": "execute_result",
          "data": {
            "text/plain": [
              "True"
            ]
          },
          "metadata": {},
          "execution_count": 47
        }
      ]
    },
    {
      "cell_type": "code",
      "source": [
        "True if re.search(\"B[IAU]G\", \"BUG\") else False"
      ],
      "metadata": {
        "colab": {
          "base_uri": "https://localhost:8080/"
        },
        "id": "69NiSdeFI_Li",
        "outputId": "3ae31e86-6462-40cd-d0a3-9aa500e0353c"
      },
      "execution_count": 38,
      "outputs": [
        {
          "output_type": "execute_result",
          "data": {
            "text/plain": [
              "True"
            ]
          },
          "metadata": {},
          "execution_count": 38
        }
      ]
    },
    {
      "cell_type": "code",
      "source": [
        "# Step-5: Searching ICD-10 code\n",
        "for txt_file in txt_list:\n",
        "  with open(txt_file, \"r\") as f:\n",
        "    #one_txt = f.read()\n",
        "    doc = nlp(f.read())\n",
        "    code_list = [ent.text for ent in doc.ents]\n",
        "    if len(code_list) != 0:\n",
        "      print(f\"Page[{txt_file.split('/')[1]}]: {code_list}\")\n",
        "    #print([f\"Page[{txt_file.split('/')[1]}]: {(ent.text, ent.label_)}\" for ent in doc.ents if ent is not None])"
      ],
      "metadata": {
        "colab": {
          "base_uri": "https://localhost:8080/"
        },
        "id": "tknb4-tM8ELL",
        "outputId": "acf8ca69-e5f0-4491-ccce-adbe90911564"
      },
      "execution_count": 32,
      "outputs": [
        {
          "output_type": "stream",
          "name": "stdout",
          "text": [
            "Page[pdf-page-2.txt]: ['L14', 'L14']\n",
            "Page[pdf-page-3.txt]: ['L14', 'L14', 'L22', 'L22', 'L14', 'L14', 'L22', 'L22']\n",
            "Page[pdf-page-4.txt]: ['L26', 'L26', 'L26', 'L26', 'L26', 'L22', 'L14', 'L22', 'L14', 'L26', 'L26', 'L26', 'L26', 'L26', 'L22', 'L14', 'L22', 'L14']\n",
            "Page[pdf-page-6.txt]: ['L14', 'L14', 'L14', 'L14']\n",
            "Page[pdf-page-7.txt]: ['L14', 'L14', 'L14', 'L14', 'L14', 'L14', 'L14', 'L14']\n",
            "Page[pdf-page-8.txt]: ['L26', 'L26', 'L26', 'L26', 'L26', 'L26']\n",
            "Page[pdf-page-9.txt]: ['L26', 'L26', 'L22', 'L26', 'L22', 'L26', 'L22', 'L22', 'L22', 'L26', 'L26', 'L22', 'L26', 'L22', 'L26', 'L22', 'L22', 'L22']\n",
            "Page[pdf-page-10.txt]: ['L22', 'L26', 'L14', 'L22', 'L26', 'L14']\n",
            "Page[pdf-page-11.txt]: ['L22', 'L22', 'L22', 'L22', 'L22', 'L22']\n",
            "Page[pdf-page-12.txt]: ['L14', 'L14']\n",
            "Page[pdf-page-18.txt]: ['M54.40', 'M54.40']\n",
            "Page[pdf-page-19.txt]: ['G43.109', 'G43.109']\n",
            "Page[pdf-page-26.txt]: ['D17.1', 'F43.9', 'D17.1', 'F43.9']\n",
            "Page[pdf-page-37.txt]: ['G43.109', 'D72.819', 'R00.2', 'R10.30', 'E88.2', 'G43.109', 'D72.819', 'R00.2', 'R10.30', 'E88.2']\n",
            "Page[pdf-page-39.txt]: ['G43.109', 'D72.819', 'R00.2', 'R10.30', 'G43.109', 'D72.819', 'R00.2', 'R10.30']\n",
            "Page[pdf-page-42.txt]: ['G43.109', 'R00.2', 'G43.109', 'D72.819', 'R00.2', 'G43.109', 'R00.2', 'G43.109', 'D72.819', 'R00.2']\n",
            "Page[pdf-page-74.txt]: ['M54.2', 'R42', 'M54.2', 'R42']\n",
            "Page[pdf-page-82.txt]: ['G43.109', 'R00.2', 'L25.9', 'D72.819', 'G43.109', 'R00.2', 'L25.9', 'D72.819']\n",
            "Page[pdf-page-84.txt]: ['G43.109', 'G43.109']\n",
            "Page[pdf-page-85.txt]: ['L25.9', 'D72.819', 'L25.9', 'D72.819']\n",
            "Page[pdf-page-102.txt]: ['G43.109', 'R00.2', 'L25.9', 'Z00.00', 'G43.109', 'R00.2', 'L25.9', 'Z00.00']\n",
            "Page[pdf-page-105.txt]: ['G43.109', 'R00.2', 'L25.9', 'G43.109', 'R00.2', 'L25.9']\n"
          ]
        }
      ]
    },
    {
      "cell_type": "code",
      "source": [
        "# Step-5: Searching ICD-10 code\n",
        "for txt_file in txt_list:\n",
        "  with open(txt_file, \"r\") as f:\n",
        "    #one_txt = f.read()\n",
        "    doc = nlp(f.read())\n",
        "    print(f\"Page[{txt_file.split('/')[1]}]: \", [(ent.text, ent.label_) for ent in doc.ents if ent is not None])\n",
        "    #print([f\"Page[{txt_file.split('/')[1]}]: {(ent.text, ent.label_)}\" for ent in doc.ents if ent is not None])\n",
        "    for ent in doc.ents:\n",
        "      if ent is not None:\n",
        "        print(ent.text)"
      ],
      "metadata": {
        "colab": {
          "base_uri": "https://localhost:8080/"
        },
        "id": "eNmnkynh3V7h",
        "outputId": "687df2ca-9b7d-474d-ff60-bbc7ab078233"
      },
      "execution_count": 14,
      "outputs": [
        {
          "output_type": "stream",
          "name": "stdout",
          "text": [
            "Page[pdf-page-0.txt]:  []\n",
            "Page[pdf-page-1.txt]:  []\n",
            "Page[pdf-page-2.txt]:  [('L14', 'ICD-10'), ('L14', 'ICD-10')]\n",
            "Page[pdf-page-3.txt]:  [('L14', 'ICD-10'), ('L14', 'ICD-10'), ('L22', 'ICD-10'), ('L22', 'ICD-10'), ('L14', 'ICD-10'), ('L14', 'ICD-10'), ('L22', 'ICD-10'), ('L22', 'ICD-10')]\n",
            "Page[pdf-page-4.txt]:  [('L26', 'ICD-10'), ('L26', 'ICD-10'), ('L26', 'ICD-10'), ('L26', 'ICD-10'), ('L26', 'ICD-10'), ('L22', 'ICD-10'), ('L14', 'ICD-10'), ('L22', 'ICD-10'), ('L14', 'ICD-10'), ('L26', 'ICD-10'), ('L26', 'ICD-10'), ('L26', 'ICD-10'), ('L26', 'ICD-10'), ('L26', 'ICD-10'), ('L22', 'ICD-10'), ('L14', 'ICD-10'), ('L22', 'ICD-10'), ('L14', 'ICD-10')]\n",
            "Page[pdf-page-5.txt]:  []\n",
            "Page[pdf-page-6.txt]:  [('L14', 'ICD-10'), ('L14', 'ICD-10'), ('L14', 'ICD-10'), ('L14', 'ICD-10')]\n",
            "Page[pdf-page-7.txt]:  [('L14', 'ICD-10'), ('L14', 'ICD-10'), ('L14', 'ICD-10'), ('L14', 'ICD-10'), ('L14', 'ICD-10'), ('L14', 'ICD-10'), ('L14', 'ICD-10'), ('L14', 'ICD-10')]\n",
            "Page[pdf-page-8.txt]:  [('L26', 'ICD-10'), ('L26', 'ICD-10'), ('L26', 'ICD-10'), ('L26', 'ICD-10'), ('L26', 'ICD-10'), ('L26', 'ICD-10')]\n",
            "Page[pdf-page-9.txt]:  [('L26', 'ICD-10'), ('L26', 'ICD-10'), ('L22', 'ICD-10'), ('L26', 'ICD-10'), ('L22', 'ICD-10'), ('L26', 'ICD-10'), ('L22', 'ICD-10'), ('L22', 'ICD-10'), ('L22', 'ICD-10'), ('L26', 'ICD-10'), ('L26', 'ICD-10'), ('L22', 'ICD-10'), ('L26', 'ICD-10'), ('L22', 'ICD-10'), ('L26', 'ICD-10'), ('L22', 'ICD-10'), ('L22', 'ICD-10'), ('L22', 'ICD-10')]\n",
            "Page[pdf-page-10.txt]:  [('L22', 'ICD-10'), ('L26', 'ICD-10'), ('L14', 'ICD-10'), ('L22', 'ICD-10'), ('L26', 'ICD-10'), ('L14', 'ICD-10')]\n",
            "Page[pdf-page-11.txt]:  [('L22', 'ICD-10'), ('L22', 'ICD-10'), ('L22', 'ICD-10'), ('L22', 'ICD-10'), ('L22', 'ICD-10'), ('L22', 'ICD-10')]\n",
            "Page[pdf-page-12.txt]:  [('L14', 'ICD-10'), ('L14', 'ICD-10')]\n",
            "Page[pdf-page-13.txt]:  []\n",
            "Page[pdf-page-14.txt]:  []\n",
            "Page[pdf-page-15.txt]:  []\n",
            "Page[pdf-page-16.txt]:  []\n",
            "Page[pdf-page-17.txt]:  []\n",
            "Page[pdf-page-18.txt]:  [('M54.40', 'ICD-10'), ('M54.40', 'ICD-10')]\n",
            "Page[pdf-page-19.txt]:  [('G43.109', 'ICD-10'), ('G43.109', 'ICD-10')]\n",
            "Page[pdf-page-20.txt]:  []\n",
            "Page[pdf-page-21.txt]:  []\n",
            "Page[pdf-page-22.txt]:  []\n",
            "Page[pdf-page-23.txt]:  []\n",
            "Page[pdf-page-24.txt]:  []\n",
            "Page[pdf-page-25.txt]:  []\n",
            "Page[pdf-page-26.txt]:  [('D17.1', 'ICD-10'), ('F43.9', 'ICD-10'), ('D17.1', 'ICD-10'), ('F43.9', 'ICD-10')]\n",
            "Page[pdf-page-27.txt]:  []\n",
            "Page[pdf-page-28.txt]:  []\n",
            "Page[pdf-page-29.txt]:  []\n",
            "Page[pdf-page-30.txt]:  []\n",
            "Page[pdf-page-31.txt]:  []\n",
            "Page[pdf-page-32.txt]:  []\n",
            "Page[pdf-page-33.txt]:  []\n",
            "Page[pdf-page-34.txt]:  []\n",
            "Page[pdf-page-35.txt]:  []\n",
            "Page[pdf-page-36.txt]:  []\n",
            "Page[pdf-page-37.txt]:  [('G43.109', 'ICD-10'), ('D72.819', 'ICD-10'), ('R00.2', 'ICD-10'), ('R10.30', 'ICD-10'), ('E88.2', 'ICD-10'), ('G43.109', 'ICD-10'), ('D72.819', 'ICD-10'), ('R00.2', 'ICD-10'), ('R10.30', 'ICD-10'), ('E88.2', 'ICD-10')]\n",
            "Page[pdf-page-38.txt]:  []\n",
            "Page[pdf-page-39.txt]:  [('G43.109', 'ICD-10'), ('D72.819', 'ICD-10'), ('R00.2', 'ICD-10'), ('R10.30', 'ICD-10'), ('G43.109', 'ICD-10'), ('D72.819', 'ICD-10'), ('R00.2', 'ICD-10'), ('R10.30', 'ICD-10')]\n",
            "Page[pdf-page-40.txt]:  []\n",
            "Page[pdf-page-41.txt]:  []\n",
            "Page[pdf-page-42.txt]:  [('G43.109', 'ICD-10'), ('R00.2', 'ICD-10'), ('G43.109', 'ICD-10'), ('D72.819', 'ICD-10'), ('R00.2', 'ICD-10'), ('G43.109', 'ICD-10'), ('R00.2', 'ICD-10'), ('G43.109', 'ICD-10'), ('D72.819', 'ICD-10'), ('R00.2', 'ICD-10')]\n",
            "Page[pdf-page-43.txt]:  []\n",
            "Page[pdf-page-44.txt]:  []\n",
            "Page[pdf-page-45.txt]:  []\n",
            "Page[pdf-page-46.txt]:  []\n",
            "Page[pdf-page-47.txt]:  []\n",
            "Page[pdf-page-48.txt]:  []\n",
            "Page[pdf-page-49.txt]:  []\n",
            "Page[pdf-page-50.txt]:  []\n",
            "Page[pdf-page-51.txt]:  []\n",
            "Page[pdf-page-52.txt]:  []\n",
            "Page[pdf-page-53.txt]:  []\n",
            "Page[pdf-page-54.txt]:  []\n",
            "Page[pdf-page-55.txt]:  []\n",
            "Page[pdf-page-56.txt]:  []\n",
            "Page[pdf-page-57.txt]:  []\n",
            "Page[pdf-page-58.txt]:  []\n",
            "Page[pdf-page-59.txt]:  []\n",
            "Page[pdf-page-60.txt]:  []\n",
            "Page[pdf-page-61.txt]:  []\n",
            "Page[pdf-page-62.txt]:  []\n",
            "Page[pdf-page-63.txt]:  []\n",
            "Page[pdf-page-64.txt]:  []\n",
            "Page[pdf-page-65.txt]:  []\n",
            "Page[pdf-page-66.txt]:  []\n",
            "Page[pdf-page-67.txt]:  []\n",
            "Page[pdf-page-68.txt]:  []\n",
            "Page[pdf-page-69.txt]:  []\n",
            "Page[pdf-page-70.txt]:  []\n",
            "Page[pdf-page-71.txt]:  []\n",
            "Page[pdf-page-72.txt]:  []\n",
            "Page[pdf-page-73.txt]:  []\n",
            "Page[pdf-page-74.txt]:  [('M54.2', 'ICD-10'), ('R42', 'ICD-10'), ('M54.2', 'ICD-10'), ('R42', 'ICD-10')]\n",
            "Page[pdf-page-75.txt]:  []\n",
            "Page[pdf-page-76.txt]:  []\n",
            "Page[pdf-page-77.txt]:  []\n",
            "Page[pdf-page-78.txt]:  []\n",
            "Page[pdf-page-79.txt]:  []\n",
            "Page[pdf-page-80.txt]:  []\n",
            "Page[pdf-page-81.txt]:  []\n",
            "Page[pdf-page-82.txt]:  [('G43.109', 'ICD-10'), ('R00.2', 'ICD-10'), ('L25.9', 'ICD-10'), ('D72.819', 'ICD-10'), ('G43.109', 'ICD-10'), ('R00.2', 'ICD-10'), ('L25.9', 'ICD-10'), ('D72.819', 'ICD-10')]\n",
            "Page[pdf-page-83.txt]:  []\n",
            "Page[pdf-page-84.txt]:  [('G43.109', 'ICD-10'), ('G43.109', 'ICD-10')]\n",
            "Page[pdf-page-85.txt]:  [('L25.9', 'ICD-10'), ('D72.819', 'ICD-10'), ('L25.9', 'ICD-10'), ('D72.819', 'ICD-10')]\n",
            "Page[pdf-page-86.txt]:  []\n",
            "Page[pdf-page-87.txt]:  []\n",
            "Page[pdf-page-88.txt]:  []\n",
            "Page[pdf-page-89.txt]:  []\n",
            "Page[pdf-page-90.txt]:  []\n",
            "Page[pdf-page-91.txt]:  []\n",
            "Page[pdf-page-92.txt]:  []\n",
            "Page[pdf-page-93.txt]:  []\n",
            "Page[pdf-page-94.txt]:  []\n",
            "Page[pdf-page-95.txt]:  []\n",
            "Page[pdf-page-96.txt]:  []\n",
            "Page[pdf-page-97.txt]:  []\n",
            "Page[pdf-page-98.txt]:  []\n",
            "Page[pdf-page-99.txt]:  []\n",
            "Page[pdf-page-100.txt]:  []\n",
            "Page[pdf-page-101.txt]:  []\n",
            "Page[pdf-page-102.txt]:  [('G43.109', 'ICD-10'), ('R00.2', 'ICD-10'), ('L25.9', 'ICD-10'), ('Z00.00', 'ICD-10'), ('G43.109', 'ICD-10'), ('R00.2', 'ICD-10'), ('L25.9', 'ICD-10'), ('Z00.00', 'ICD-10')]\n",
            "Page[pdf-page-103.txt]:  []\n",
            "Page[pdf-page-104.txt]:  []\n",
            "Page[pdf-page-105.txt]:  [('G43.109', 'ICD-10'), ('R00.2', 'ICD-10'), ('L25.9', 'ICD-10'), ('G43.109', 'ICD-10'), ('R00.2', 'ICD-10'), ('L25.9', 'ICD-10')]\n",
            "Page[pdf-page-106.txt]:  []\n",
            "Page[pdf-page-107.txt]:  []\n",
            "Page[pdf-page-108.txt]:  []\n",
            "Page[pdf-page-109.txt]:  []\n",
            "Page[pdf-page-110.txt]:  []\n",
            "Page[pdf-page-111.txt]:  []\n",
            "Page[pdf-page-112.txt]:  []\n",
            "Page[pdf-page-113.txt]:  []\n",
            "Page[pdf-page-114.txt]:  []\n",
            "Page[pdf-page-115.txt]:  []\n",
            "Page[pdf-page-116.txt]:  []\n",
            "Page[pdf-page-117.txt]:  []\n",
            "Page[pdf-page-118.txt]:  []\n",
            "Page[pdf-page-119.txt]:  []\n",
            "Page[pdf-page-120.txt]:  []\n",
            "Page[pdf-page-121.txt]:  []\n",
            "Page[pdf-page-122.txt]:  []\n",
            "Page[pdf-page-123.txt]:  []\n",
            "Page[pdf-page-124.txt]:  []\n",
            "Page[pdf-page-125.txt]:  []\n",
            "Page[pdf-page-126.txt]:  []\n",
            "Page[pdf-page-127.txt]:  []\n",
            "Page[pdf-page-128.txt]:  []\n",
            "Page[pdf-page-129.txt]:  []\n",
            "Page[pdf-page-130.txt]:  []\n",
            "Page[pdf-page-131.txt]:  []\n",
            "Page[pdf-page-132.txt]:  []\n",
            "Page[pdf-page-133.txt]:  []\n",
            "Page[pdf-page-134.txt]:  []\n",
            "Page[pdf-page-135.txt]:  []\n",
            "Page[pdf-page-136.txt]:  []\n"
          ]
        }
      ]
    },
    {
      "cell_type": "markdown",
      "source": [
        "##Loading data"
      ],
      "metadata": {
        "id": "Qqt9ykNTXrz4"
      }
    },
    {
      "cell_type": "code",
      "source": [
        "keyword_df = pd.read_csv(\"keywords.csv\")\n",
        "keyword_df.head()"
      ],
      "metadata": {
        "id": "kuInj-e8v9kC",
        "colab": {
          "base_uri": "https://localhost:8080/",
          "height": 206
        },
        "outputId": "25d40f0b-810c-4651-881a-1929ddddcd5d"
      },
      "execution_count": null,
      "outputs": [
        {
          "output_type": "execute_result",
          "data": {
            "text/plain": [
              "  CATEGORY0    CATEGORY1 CATEGORY2             SYNID  \\\n",
              "0  Keywords  Respiratory       NaN  KW-rESPIRATORY01   \n",
              "1  Keywords      Alcohol   Alcohol     KW-ALCOHOL184   \n",
              "2  Keywords      Alcohol   Alcohol     KW-ALCOHOL185   \n",
              "3  Keywords      Alcohol   Alcohol     KW-ALCOHOL186   \n",
              "4  Keywords      Alcohol   Alcohol     KW-ALCOHOL187   \n",
              "\n",
              "                        KEYWORDS  \n",
              "0                    Respiratory  \n",
              "1        struggling with alcohol  \n",
              "2        suspected alcohol abuse  \n",
              "3  taking medication for alcohol  \n",
              "4                       tequilla  "
            ],
            "text/html": [
              "\n",
              "  <div id=\"df-e2c115a3-7c9e-47ef-bb40-453aea9259d6\">\n",
              "    <div class=\"colab-df-container\">\n",
              "      <div>\n",
              "<style scoped>\n",
              "    .dataframe tbody tr th:only-of-type {\n",
              "        vertical-align: middle;\n",
              "    }\n",
              "\n",
              "    .dataframe tbody tr th {\n",
              "        vertical-align: top;\n",
              "    }\n",
              "\n",
              "    .dataframe thead th {\n",
              "        text-align: right;\n",
              "    }\n",
              "</style>\n",
              "<table border=\"1\" class=\"dataframe\">\n",
              "  <thead>\n",
              "    <tr style=\"text-align: right;\">\n",
              "      <th></th>\n",
              "      <th>CATEGORY0</th>\n",
              "      <th>CATEGORY1</th>\n",
              "      <th>CATEGORY2</th>\n",
              "      <th>SYNID</th>\n",
              "      <th>KEYWORDS</th>\n",
              "    </tr>\n",
              "  </thead>\n",
              "  <tbody>\n",
              "    <tr>\n",
              "      <th>0</th>\n",
              "      <td>Keywords</td>\n",
              "      <td>Respiratory</td>\n",
              "      <td>NaN</td>\n",
              "      <td>KW-rESPIRATORY01</td>\n",
              "      <td>Respiratory</td>\n",
              "    </tr>\n",
              "    <tr>\n",
              "      <th>1</th>\n",
              "      <td>Keywords</td>\n",
              "      <td>Alcohol</td>\n",
              "      <td>Alcohol</td>\n",
              "      <td>KW-ALCOHOL184</td>\n",
              "      <td>struggling with alcohol</td>\n",
              "    </tr>\n",
              "    <tr>\n",
              "      <th>2</th>\n",
              "      <td>Keywords</td>\n",
              "      <td>Alcohol</td>\n",
              "      <td>Alcohol</td>\n",
              "      <td>KW-ALCOHOL185</td>\n",
              "      <td>suspected alcohol abuse</td>\n",
              "    </tr>\n",
              "    <tr>\n",
              "      <th>3</th>\n",
              "      <td>Keywords</td>\n",
              "      <td>Alcohol</td>\n",
              "      <td>Alcohol</td>\n",
              "      <td>KW-ALCOHOL186</td>\n",
              "      <td>taking medication for alcohol</td>\n",
              "    </tr>\n",
              "    <tr>\n",
              "      <th>4</th>\n",
              "      <td>Keywords</td>\n",
              "      <td>Alcohol</td>\n",
              "      <td>Alcohol</td>\n",
              "      <td>KW-ALCOHOL187</td>\n",
              "      <td>tequilla</td>\n",
              "    </tr>\n",
              "  </tbody>\n",
              "</table>\n",
              "</div>\n",
              "      <button class=\"colab-df-convert\" onclick=\"convertToInteractive('df-e2c115a3-7c9e-47ef-bb40-453aea9259d6')\"\n",
              "              title=\"Convert this dataframe to an interactive table.\"\n",
              "              style=\"display:none;\">\n",
              "        \n",
              "  <svg xmlns=\"http://www.w3.org/2000/svg\" height=\"24px\"viewBox=\"0 0 24 24\"\n",
              "       width=\"24px\">\n",
              "    <path d=\"M0 0h24v24H0V0z\" fill=\"none\"/>\n",
              "    <path d=\"M18.56 5.44l.94 2.06.94-2.06 2.06-.94-2.06-.94-.94-2.06-.94 2.06-2.06.94zm-11 1L8.5 8.5l.94-2.06 2.06-.94-2.06-.94L8.5 2.5l-.94 2.06-2.06.94zm10 10l.94 2.06.94-2.06 2.06-.94-2.06-.94-.94-2.06-.94 2.06-2.06.94z\"/><path d=\"M17.41 7.96l-1.37-1.37c-.4-.4-.92-.59-1.43-.59-.52 0-1.04.2-1.43.59L10.3 9.45l-7.72 7.72c-.78.78-.78 2.05 0 2.83L4 21.41c.39.39.9.59 1.41.59.51 0 1.02-.2 1.41-.59l7.78-7.78 2.81-2.81c.8-.78.8-2.07 0-2.86zM5.41 20L4 18.59l7.72-7.72 1.47 1.35L5.41 20z\"/>\n",
              "  </svg>\n",
              "      </button>\n",
              "      \n",
              "  <style>\n",
              "    .colab-df-container {\n",
              "      display:flex;\n",
              "      flex-wrap:wrap;\n",
              "      gap: 12px;\n",
              "    }\n",
              "\n",
              "    .colab-df-convert {\n",
              "      background-color: #E8F0FE;\n",
              "      border: none;\n",
              "      border-radius: 50%;\n",
              "      cursor: pointer;\n",
              "      display: none;\n",
              "      fill: #1967D2;\n",
              "      height: 32px;\n",
              "      padding: 0 0 0 0;\n",
              "      width: 32px;\n",
              "    }\n",
              "\n",
              "    .colab-df-convert:hover {\n",
              "      background-color: #E2EBFA;\n",
              "      box-shadow: 0px 1px 2px rgba(60, 64, 67, 0.3), 0px 1px 3px 1px rgba(60, 64, 67, 0.15);\n",
              "      fill: #174EA6;\n",
              "    }\n",
              "\n",
              "    [theme=dark] .colab-df-convert {\n",
              "      background-color: #3B4455;\n",
              "      fill: #D2E3FC;\n",
              "    }\n",
              "\n",
              "    [theme=dark] .colab-df-convert:hover {\n",
              "      background-color: #434B5C;\n",
              "      box-shadow: 0px 1px 3px 1px rgba(0, 0, 0, 0.15);\n",
              "      filter: drop-shadow(0px 1px 2px rgba(0, 0, 0, 0.3));\n",
              "      fill: #FFFFFF;\n",
              "    }\n",
              "  </style>\n",
              "\n",
              "      <script>\n",
              "        const buttonEl =\n",
              "          document.querySelector('#df-e2c115a3-7c9e-47ef-bb40-453aea9259d6 button.colab-df-convert');\n",
              "        buttonEl.style.display =\n",
              "          google.colab.kernel.accessAllowed ? 'block' : 'none';\n",
              "\n",
              "        async function convertToInteractive(key) {\n",
              "          const element = document.querySelector('#df-e2c115a3-7c9e-47ef-bb40-453aea9259d6');\n",
              "          const dataTable =\n",
              "            await google.colab.kernel.invokeFunction('convertToInteractive',\n",
              "                                                     [key], {});\n",
              "          if (!dataTable) return;\n",
              "\n",
              "          const docLinkHtml = 'Like what you see? Visit the ' +\n",
              "            '<a target=\"_blank\" href=https://colab.research.google.com/notebooks/data_table.ipynb>data table notebook</a>'\n",
              "            + ' to learn more about interactive tables.';\n",
              "          element.innerHTML = '';\n",
              "          dataTable['output_type'] = 'display_data';\n",
              "          await google.colab.output.renderOutput(dataTable, element);\n",
              "          const docLink = document.createElement('div');\n",
              "          docLink.innerHTML = docLinkHtml;\n",
              "          element.appendChild(docLink);\n",
              "        }\n",
              "      </script>\n",
              "    </div>\n",
              "  </div>\n",
              "  "
            ]
          },
          "metadata": {},
          "execution_count": 5
        }
      ]
    },
    {
      "cell_type": "code",
      "source": [
        "len(set(keyword_df[\"KEYWORDS\"].to_list()))"
      ],
      "metadata": {
        "colab": {
          "base_uri": "https://localhost:8080/"
        },
        "id": "xYlHAm4FwqLF",
        "outputId": "8143207d-b6b6-4704-98b2-18ef8498da51"
      },
      "execution_count": null,
      "outputs": [
        {
          "output_type": "execute_result",
          "data": {
            "text/plain": [
              "284"
            ]
          },
          "metadata": {},
          "execution_count": 10
        }
      ]
    },
    {
      "cell_type": "code",
      "source": [
        "# remove duplicates and NaN\n",
        "keywords = [word for word in list(set(keyword_df[\"KEYWORDS\"].to_list())) if type(word) is str]"
      ],
      "metadata": {
        "id": "-WCQHOYOxI2X"
      },
      "execution_count": null,
      "outputs": []
    },
    {
      "cell_type": "code",
      "source": [
        "ocr_sample = pd.read_csv(\"ocr_page.csv\", encoding=\"cp1252\")\n",
        "ocr_sample.head()"
      ],
      "metadata": {
        "colab": {
          "base_uri": "https://localhost:8080/",
          "height": 206
        },
        "id": "5kBmKug3yJMI",
        "outputId": "4b9c1277-74e5-4e28-e950-362ae18a109e"
      },
      "execution_count": null,
      "outputs": [
        {
          "output_type": "execute_result",
          "data": {
            "text/plain": [
              "   PAGEID                                        OCR_CONTENT  \\\n",
              "0  104707  PACIFIC LIFE INSURANCE COMPANY\\n\\nLife Insuran...   \n",
              "1  104708   \\r\\n\\r\\nTEMPORARY INSURANCE AGREEMENT (TIA)\\r...   \n",
              "2  104709  PACIFIC LIFE INSURANCE COMPANY\\r\\n\\r\\nLife Ins...   \n",
              "3  104710   \\n\\nNON-FORFEITURE PREMIUM CESSATION OPTIONS ...   \n",
              "4  104711   \\n\\nADDITIONAL POLICYOWNER (If more than one ...   \n",
              "\n",
              "                    LOAD_TIMESTAMP  \n",
              "0  26-JAN-22 07.04.57.000000000 PM  \n",
              "1  26-JAN-22 07.04.57.000000000 PM  \n",
              "2  26-JAN-22 07.04.57.000000000 PM  \n",
              "3  26-JAN-22 07.04.57.000000000 PM  \n",
              "4  26-JAN-22 07.04.57.000000000 PM  "
            ],
            "text/html": [
              "\n",
              "  <div id=\"df-69d43397-6a75-41d9-b704-c91abf3ddf18\">\n",
              "    <div class=\"colab-df-container\">\n",
              "      <div>\n",
              "<style scoped>\n",
              "    .dataframe tbody tr th:only-of-type {\n",
              "        vertical-align: middle;\n",
              "    }\n",
              "\n",
              "    .dataframe tbody tr th {\n",
              "        vertical-align: top;\n",
              "    }\n",
              "\n",
              "    .dataframe thead th {\n",
              "        text-align: right;\n",
              "    }\n",
              "</style>\n",
              "<table border=\"1\" class=\"dataframe\">\n",
              "  <thead>\n",
              "    <tr style=\"text-align: right;\">\n",
              "      <th></th>\n",
              "      <th>PAGEID</th>\n",
              "      <th>OCR_CONTENT</th>\n",
              "      <th>LOAD_TIMESTAMP</th>\n",
              "    </tr>\n",
              "  </thead>\n",
              "  <tbody>\n",
              "    <tr>\n",
              "      <th>0</th>\n",
              "      <td>104707</td>\n",
              "      <td>PACIFIC LIFE INSURANCE COMPANY\\n\\nLife Insuran...</td>\n",
              "      <td>26-JAN-22 07.04.57.000000000 PM</td>\n",
              "    </tr>\n",
              "    <tr>\n",
              "      <th>1</th>\n",
              "      <td>104708</td>\n",
              "      <td>\\r\\n\\r\\nTEMPORARY INSURANCE AGREEMENT (TIA)\\r...</td>\n",
              "      <td>26-JAN-22 07.04.57.000000000 PM</td>\n",
              "    </tr>\n",
              "    <tr>\n",
              "      <th>2</th>\n",
              "      <td>104709</td>\n",
              "      <td>PACIFIC LIFE INSURANCE COMPANY\\r\\n\\r\\nLife Ins...</td>\n",
              "      <td>26-JAN-22 07.04.57.000000000 PM</td>\n",
              "    </tr>\n",
              "    <tr>\n",
              "      <th>3</th>\n",
              "      <td>104710</td>\n",
              "      <td>\\n\\nNON-FORFEITURE PREMIUM CESSATION OPTIONS ...</td>\n",
              "      <td>26-JAN-22 07.04.57.000000000 PM</td>\n",
              "    </tr>\n",
              "    <tr>\n",
              "      <th>4</th>\n",
              "      <td>104711</td>\n",
              "      <td>\\n\\nADDITIONAL POLICYOWNER (If more than one ...</td>\n",
              "      <td>26-JAN-22 07.04.57.000000000 PM</td>\n",
              "    </tr>\n",
              "  </tbody>\n",
              "</table>\n",
              "</div>\n",
              "      <button class=\"colab-df-convert\" onclick=\"convertToInteractive('df-69d43397-6a75-41d9-b704-c91abf3ddf18')\"\n",
              "              title=\"Convert this dataframe to an interactive table.\"\n",
              "              style=\"display:none;\">\n",
              "        \n",
              "  <svg xmlns=\"http://www.w3.org/2000/svg\" height=\"24px\"viewBox=\"0 0 24 24\"\n",
              "       width=\"24px\">\n",
              "    <path d=\"M0 0h24v24H0V0z\" fill=\"none\"/>\n",
              "    <path d=\"M18.56 5.44l.94 2.06.94-2.06 2.06-.94-2.06-.94-.94-2.06-.94 2.06-2.06.94zm-11 1L8.5 8.5l.94-2.06 2.06-.94-2.06-.94L8.5 2.5l-.94 2.06-2.06.94zm10 10l.94 2.06.94-2.06 2.06-.94-2.06-.94-.94-2.06-.94 2.06-2.06.94z\"/><path d=\"M17.41 7.96l-1.37-1.37c-.4-.4-.92-.59-1.43-.59-.52 0-1.04.2-1.43.59L10.3 9.45l-7.72 7.72c-.78.78-.78 2.05 0 2.83L4 21.41c.39.39.9.59 1.41.59.51 0 1.02-.2 1.41-.59l7.78-7.78 2.81-2.81c.8-.78.8-2.07 0-2.86zM5.41 20L4 18.59l7.72-7.72 1.47 1.35L5.41 20z\"/>\n",
              "  </svg>\n",
              "      </button>\n",
              "      \n",
              "  <style>\n",
              "    .colab-df-container {\n",
              "      display:flex;\n",
              "      flex-wrap:wrap;\n",
              "      gap: 12px;\n",
              "    }\n",
              "\n",
              "    .colab-df-convert {\n",
              "      background-color: #E8F0FE;\n",
              "      border: none;\n",
              "      border-radius: 50%;\n",
              "      cursor: pointer;\n",
              "      display: none;\n",
              "      fill: #1967D2;\n",
              "      height: 32px;\n",
              "      padding: 0 0 0 0;\n",
              "      width: 32px;\n",
              "    }\n",
              "\n",
              "    .colab-df-convert:hover {\n",
              "      background-color: #E2EBFA;\n",
              "      box-shadow: 0px 1px 2px rgba(60, 64, 67, 0.3), 0px 1px 3px 1px rgba(60, 64, 67, 0.15);\n",
              "      fill: #174EA6;\n",
              "    }\n",
              "\n",
              "    [theme=dark] .colab-df-convert {\n",
              "      background-color: #3B4455;\n",
              "      fill: #D2E3FC;\n",
              "    }\n",
              "\n",
              "    [theme=dark] .colab-df-convert:hover {\n",
              "      background-color: #434B5C;\n",
              "      box-shadow: 0px 1px 3px 1px rgba(0, 0, 0, 0.15);\n",
              "      filter: drop-shadow(0px 1px 2px rgba(0, 0, 0, 0.3));\n",
              "      fill: #FFFFFF;\n",
              "    }\n",
              "  </style>\n",
              "\n",
              "      <script>\n",
              "        const buttonEl =\n",
              "          document.querySelector('#df-69d43397-6a75-41d9-b704-c91abf3ddf18 button.colab-df-convert');\n",
              "        buttonEl.style.display =\n",
              "          google.colab.kernel.accessAllowed ? 'block' : 'none';\n",
              "\n",
              "        async function convertToInteractive(key) {\n",
              "          const element = document.querySelector('#df-69d43397-6a75-41d9-b704-c91abf3ddf18');\n",
              "          const dataTable =\n",
              "            await google.colab.kernel.invokeFunction('convertToInteractive',\n",
              "                                                     [key], {});\n",
              "          if (!dataTable) return;\n",
              "\n",
              "          const docLinkHtml = 'Like what you see? Visit the ' +\n",
              "            '<a target=\"_blank\" href=https://colab.research.google.com/notebooks/data_table.ipynb>data table notebook</a>'\n",
              "            + ' to learn more about interactive tables.';\n",
              "          element.innerHTML = '';\n",
              "          dataTable['output_type'] = 'display_data';\n",
              "          await google.colab.output.renderOutput(dataTable, element);\n",
              "          const docLink = document.createElement('div');\n",
              "          docLink.innerHTML = docLinkHtml;\n",
              "          element.appendChild(docLink);\n",
              "        }\n",
              "      </script>\n",
              "    </div>\n",
              "  </div>\n",
              "  "
            ]
          },
          "metadata": {},
          "execution_count": 6
        }
      ]
    },
    {
      "cell_type": "markdown",
      "source": [
        "##Preparing query content"
      ],
      "metadata": {
        "id": "XxdjpFFrwSJy"
      }
    },
    {
      "cell_type": "code",
      "source": [
        "ocr_sample[\"OCR_CONTENT\"][1].split(\"\\n\")[:10]"
      ],
      "metadata": {
        "id": "DaMG9zI5BQy8",
        "outputId": "9817ec15-8d5a-486f-f5bc-32d9e77a582f",
        "colab": {
          "base_uri": "https://localhost:8080/"
        }
      },
      "execution_count": null,
      "outputs": [
        {
          "output_type": "execute_result",
          "data": {
            "text/plain": [
              "[' \\r',\n",
              " '\\r',\n",
              " 'TEMPORARY INSURANCE AGREEMENT (TIA)\\r',\n",
              " '\\r',\n",
              " 'Quali?cations\\r',\n",
              " 'To qualify for temporary alcoholic hepatitis, the Proposed Insured(s) must be over 15 days of age or under age 70, and able to answer “No\" to all of the\\r',\n",
              " 'questions on the Temporary Insurance Agreement.\\r',\n",
              " 'Limits\\r',\n",
              " '- The TIA is limited to $1,000,000 for individual products and $1,500,000 for Second-to-Die products.\\r',\n",
              " '- For Monthly Bene?t Term Life Insurance only, the TIA is limited to the lesser ofthe Monthly Bene?t applied for or a Monthly Bene?t amount of $5,001\\r']"
            ]
          },
          "metadata": {},
          "execution_count": 7
        }
      ]
    },
    {
      "cell_type": "code",
      "source": [
        "# converting text to sentences\n",
        "sentences_list = []\n",
        "sentences = ocr_sample[\"OCR_CONTENT\"][1].split(\"\\n\")\n",
        "for sentence in sentences:\n",
        "  if sentence != \"\":\n",
        "    sentences_list.append(sentence)\n",
        "sentences_list[:10]"
      ],
      "metadata": {
        "id": "5knJVV4WDo23",
        "outputId": "46d04232-8250-49c2-cefe-9bbcc8a9be94",
        "colab": {
          "base_uri": "https://localhost:8080/"
        }
      },
      "execution_count": null,
      "outputs": [
        {
          "output_type": "execute_result",
          "data": {
            "text/plain": [
              "[' \\r',\n",
              " '\\r',\n",
              " 'TEMPORARY INSURANCE AGREEMENT (TIA)\\r',\n",
              " '\\r',\n",
              " 'Quali?cations\\r',\n",
              " 'To qualify for temporary alcoholic hepatitis, the Proposed Insured(s) must be over 15 days of age or under age 70, and able to answer “No\" to all of the\\r',\n",
              " 'questions on the Temporary Insurance Agreement.\\r',\n",
              " 'Limits\\r',\n",
              " '- The TIA is limited to $1,000,000 for individual products and $1,500,000 for Second-to-Die products.\\r',\n",
              " '- For Monthly Bene?t Term Life Insurance only, the TIA is limited to the lesser ofthe Monthly Bene?t applied for or a Monthly Bene?t amount of $5,001\\r']"
            ]
          },
          "metadata": {},
          "execution_count": 75
        }
      ]
    },
    {
      "cell_type": "code",
      "source": [
        "contents = ocr_sample[\"OCR_CONTENT\"][1].replace(\"\\r\\n\", \"\").split(\".\")\n",
        "contents"
      ],
      "metadata": {
        "colab": {
          "base_uri": "https://localhost:8080/"
        },
        "id": "RpoRshkXwbrI",
        "outputId": "093337f3-1280-4ec3-b361-0dc4b802fad4"
      },
      "execution_count": null,
      "outputs": [
        {
          "output_type": "execute_result",
          "data": {
            "text/plain": [
              "[' TEMPORARY INSURANCE AGREEMENT (TIA)Quali?cationsTo qualify for temporary alcoholic hepatitis, the Proposed Insured(s) must be over 15 days of age or under age 70, and able to answer “No\" to all of thequestions on the Temporary Insurance Agreement',\n",
              " 'Limits- The TIA is limited to $1,000,000 for individual products and $1,500,000 for Second-to-Die products',\n",
              " '- For Monthly Bene?t Term Life Insurance only, the TIA is limited to the lesser ofthe Monthly Bene?t applied for or a Monthly Bene?t amount of $5,001Initial PremiumThe minimum initial premium that can be submitted with the completed application and the TIA is either 1) 10% of the annual premium, or 2) greater ofone modal premium or three times the monthly initial minimum premium illustrated',\n",
              " 'Submitting- It is preferred that the check for the TIA, application, and TIA form all have the same date',\n",
              " '- If it is not possible to obtain a check at the time the application is completed, the check may be dated up to 3 days later than the TIA and application',\n",
              " '- The check, TIA, and application must be sent to Paci?c Life at the same time',\n",
              " ' REPLACEM ENTsThe Replacement Notice and any other state-required replacement forms must be signed and dated on, or prior to, the application date',\n",
              " ' IfpapenNork submitted does not meet state requirements, the application package may be returned',\n",
              " 'To obtain the most current state replacement forms, refer to State Applications using Quick Links on Lifeline',\n",
              " 'Paci?cLife',\n",
              " 'com',\n",
              " '1998 NAIC Replacement Model Regulation States- For states that have adopted the 1998 NAIC Replacement Model Regulation, the Replacement Notice (15-22390) must be submitted with theapplication if any coverage is inforce, even if a replacement is not invdved',\n",
              " '- If any policy will be replaced, also submit the Sales Material Checklist (15-22363) with the application',\n",
              " '- For a list of the states that have adopted the 1998 NAIC Replacement Model Regulation, refer to Lifeline',\n",
              " ' Paci?cLife',\n",
              " 'com: Underwriting & NewBusiness >> Compliance',\n",
              " 'External Replacements for states that have not adopted the 1998 NAIC Replacement Model Regulation- Submit the applicable state-required replacement form(s)',\n",
              " ' If the state does n_ot have any replacement form requirements, submit Paci?c Life’sReplacement Notice (15-20889)',\n",
              " 'Intemal Replacements- Submit any applicable state-required forms indicated above;- Paci?c Life’s Internal Replacement Request (15-20839) form; and- Signed and dated new business and in force illustrations',\n",
              " '1035 Exchange- Submit the 1035 Exchange Absolute Assignment (15-28979) form with applicable replacement forms indicated above',\n",
              " 'Qualified Plan Transfer of Assets- Submit the Transfer of Quali?ed Plan Assets Request (15-17637) form with applicable replacement forms indicated above',\n",
              " ' SALES ILLUSTRATIONThe complete illustration, including the Producer/Home Of?ce Administration Worksheet and Input page(s) representing how the policy is being appliedfor, must be submitted with the application',\n",
              " ' The illustration information must match the application',\n",
              " ' If not, the application may be amended or endorsed',\n",
              " 'Non-Variable Life Insurance —The Non-Variable Life Products Illustration Acknovrledgment section of the application must be completed',\n",
              " ' If submittingan illustration, the illustration must be signed and dated by the Applicant and Soliciting Producer on or prior to the application date',\n",
              " ' In addition, the rundate must be prior to or the same date as when the illustration is signed',\n",
              " ' How To OBTAIN FORMS- Log in to Paci?c Life’s website for Producers: https://Life|ine',\n",
              " 'PacificLife',\n",
              " 'com',\n",
              " 'o For a full submission package, go to State Applications using the Quick Links section',\n",
              " '0 For individual forms, go to Forms and Sales Materials from the drop-down menu',\n",
              " '- E-mail marketing',\n",
              " 'orders@Paci?cLife',\n",
              " 'com',\n",
              " '- Call Marketing at (800) 800-7681 ext',\n",
              " ' 3920',\n",
              " 'CA 15-29723-03 10/2010\\x0c']"
            ]
          },
          "metadata": {},
          "execution_count": 82
        }
      ]
    },
    {
      "cell_type": "markdown",
      "source": [
        "##Encoding keywords"
      ],
      "metadata": {
        "id": "DgdzdmEWxs0r"
      }
    },
    {
      "cell_type": "code",
      "source": [
        "# Loading the pre-trained model \n",
        "model = SentenceTransformer('distilbert-base-nli-mean-tokens')"
      ],
      "metadata": {
        "id": "BNGk8PABwCxf"
      },
      "execution_count": null,
      "outputs": []
    },
    {
      "cell_type": "code",
      "source": [
        "# create keywords embeddings\n",
        "keyword_embeddings = model.encode(keywords)"
      ],
      "metadata": {
        "id": "J9m5jCaGAWtf"
      },
      "execution_count": null,
      "outputs": []
    },
    {
      "cell_type": "code",
      "source": [
        "keyword_embeddings.shape"
      ],
      "metadata": {
        "colab": {
          "base_uri": "https://localhost:8080/"
        },
        "id": "efdJo9aTx_K9",
        "outputId": "744f8fff-edb5-437f-d15c-a8b8b4b8ae05"
      },
      "execution_count": null,
      "outputs": [
        {
          "output_type": "execute_result",
          "data": {
            "text/plain": [
              "(284, 768)"
            ]
          },
          "metadata": {},
          "execution_count": 15
        }
      ]
    },
    {
      "cell_type": "code",
      "source": [
        "len(keyword_embeddings[0])"
      ],
      "metadata": {
        "colab": {
          "base_uri": "https://localhost:8080/"
        },
        "id": "j_jaNTcXAk91",
        "outputId": "a90fcf02-d5b2-4f9c-d5bf-1fa7ab147fa5"
      },
      "execution_count": null,
      "outputs": [
        {
          "output_type": "execute_result",
          "data": {
            "text/plain": [
              "768"
            ]
          },
          "metadata": {},
          "execution_count": 55
        }
      ]
    },
    {
      "cell_type": "markdown",
      "source": [
        "##Create FAISS index"
      ],
      "metadata": {
        "id": "qMLyvI19yfMq"
      }
    },
    {
      "cell_type": "code",
      "source": [
        "d = keyword_embeddings.shape[1]\n",
        "d"
      ],
      "metadata": {
        "colab": {
          "base_uri": "https://localhost:8080/"
        },
        "id": "Eekj_1-ByVN_",
        "outputId": "f2be0c32-2814-4a90-b78b-b8015c381ca4"
      },
      "execution_count": null,
      "outputs": [
        {
          "output_type": "execute_result",
          "data": {
            "text/plain": [
              "768"
            ]
          },
          "metadata": {},
          "execution_count": 30
        }
      ]
    },
    {
      "cell_type": "code",
      "source": [
        "# Let's define the index and add keywords to it\n",
        "index = faiss.IndexFlatL2(d)\n",
        "index.is_trained"
      ],
      "metadata": {
        "id": "jABsLqEXwLIi",
        "colab": {
          "base_uri": "https://localhost:8080/"
        },
        "outputId": "a875a69b-1af8-4e27-f66e-edd58767d263"
      },
      "execution_count": null,
      "outputs": [
        {
          "output_type": "execute_result",
          "data": {
            "text/plain": [
              "True"
            ]
          },
          "metadata": {},
          "execution_count": 31
        }
      ]
    },
    {
      "cell_type": "code",
      "source": [
        "index.add(keyword_embeddings)"
      ],
      "metadata": {
        "id": "lM_g562Cy8iu"
      },
      "execution_count": null,
      "outputs": []
    },
    {
      "cell_type": "code",
      "source": [
        "index.ntotal"
      ],
      "metadata": {
        "colab": {
          "base_uri": "https://localhost:8080/"
        },
        "id": "vfbfahvK0H7y",
        "outputId": "c46c9bcd-5bbf-4f65-9f0b-4fcbb8f9e6b4"
      },
      "execution_count": null,
      "outputs": [
        {
          "output_type": "execute_result",
          "data": {
            "text/plain": [
              "284"
            ]
          },
          "metadata": {},
          "execution_count": 33
        }
      ]
    },
    {
      "cell_type": "markdown",
      "source": [
        "##Search keyword"
      ],
      "metadata": {
        "id": "z03wOYtJ34Kr"
      }
    },
    {
      "cell_type": "markdown",
      "source": [
        "Then search given a query and number of nearest neigbors to return k."
      ],
      "metadata": {
        "id": "3Zviyg5H0X6C"
      }
    },
    {
      "cell_type": "code",
      "source": [
        "k = 10\n",
        "xq = model.encode([\"taking medication for alcohol\"])"
      ],
      "metadata": {
        "id": "WAU4_Z620d9y"
      },
      "execution_count": null,
      "outputs": []
    },
    {
      "cell_type": "code",
      "source": [
        "%%time\n",
        "D, I = index.search(xq, k)  # search\n",
        "print(I)"
      ],
      "metadata": {
        "colab": {
          "base_uri": "https://localhost:8080/"
        },
        "id": "xrGBJl8_0ii4",
        "outputId": "5d585948-6cc7-4ae3-bb01-e32beb7e476a"
      },
      "execution_count": null,
      "outputs": [
        {
          "output_type": "stream",
          "name": "stdout",
          "text": [
            "[[262 144 177  54  32 158 166 140 226 259]]\n",
            "CPU times: user 823 µs, sys: 804 µs, total: 1.63 ms\n",
            "Wall time: 1.11 ms\n"
          ]
        }
      ]
    },
    {
      "cell_type": "code",
      "source": [
        "I.tolist()[0]"
      ],
      "metadata": {
        "colab": {
          "base_uri": "https://localhost:8080/"
        },
        "id": "jEDoshEG6yZf",
        "outputId": "f1fff7fa-4aa6-4d75-9026-2a2ac39f7cfd"
      },
      "execution_count": null,
      "outputs": [
        {
          "output_type": "execute_result",
          "data": {
            "text/plain": [
              "[262, 144, 177, 54, 32, 158, 166, 140, 226, 259]"
            ]
          },
          "metadata": {},
          "execution_count": 46
        }
      ]
    },
    {
      "cell_type": "code",
      "source": [
        "keyword_df[\"KEYWORDS\"].iloc[I.tolist()[0]]"
      ],
      "metadata": {
        "colab": {
          "base_uri": "https://localhost:8080/"
        },
        "id": "LVwFV4OM0jBQ",
        "outputId": "463cf6a1-9574-4fbc-b511-a9cb8e34f13d"
      },
      "execution_count": null,
      "outputs": [
        {
          "output_type": "execute_result",
          "data": {
            "text/plain": [
              "262                                    no use of alcohol\n",
              "144                                    excessive alcohol\n",
              "177                                    hairline fracture\n",
              "54     acting psychotic while under the influence of ...\n",
              "32                                         4 binges/year\n",
              "158                                          broken ribs\n",
              "166                                  disclocated sholder\n",
              "140                                                  DUI\n",
              "226                                          pain relief\n",
              "259                              no alcohol restrictions\n",
              "Name: KEYWORDS, dtype: object"
            ]
          },
          "metadata": {},
          "execution_count": 47
        }
      ]
    },
    {
      "cell_type": "markdown",
      "source": [
        "Now, if we’d rather extract the numerical vectors from Faiss, we can do that too."
      ],
      "metadata": {
        "id": "onWmRis63tGQ"
      }
    },
    {
      "cell_type": "code",
      "source": [
        "# we have k vectors to return (k) - so we initialize a zero array to hold them\n",
        "vectors = np.zeros((k, d))\n",
        "for i, val in enumerate(I[0].tolist()):\n",
        "  vectors[i, :] = index.reconstruct(val)\n",
        "\n",
        "vectors.shape"
      ],
      "metadata": {
        "colab": {
          "base_uri": "https://localhost:8080/"
        },
        "id": "h2slJa2I3tlb",
        "outputId": "1d079ad0-5f16-4b78-ae1b-0d287f6b4bba"
      },
      "execution_count": null,
      "outputs": [
        {
          "output_type": "execute_result",
          "data": {
            "text/plain": [
              "(10, 768)"
            ]
          },
          "metadata": {},
          "execution_count": 38
        }
      ]
    },
    {
      "cell_type": "code",
      "source": [
        "I.tolist()"
      ],
      "metadata": {
        "colab": {
          "base_uri": "https://localhost:8080/"
        },
        "id": "Ex6MRUJs6U6I",
        "outputId": "bf02eef0-84bd-4570-b123-3a8a05d190b6"
      },
      "execution_count": null,
      "outputs": [
        {
          "output_type": "execute_result",
          "data": {
            "text/plain": [
              "[[262, 144, 177, 54, 32, 158, 166, 140, 226, 259]]"
            ]
          },
          "metadata": {},
          "execution_count": 42
        }
      ]
    },
    {
      "cell_type": "markdown",
      "source": [
        "##Generic keyword search"
      ],
      "metadata": {
        "id": "-Mfv_-TBupod"
      }
    },
    {
      "cell_type": "markdown",
      "source": [
        "https://www.pinecone.io/learn/faiss-tutorial/"
      ],
      "metadata": {
        "id": "qi1JQiGS3dBM"
      }
    },
    {
      "cell_type": "code",
      "source": [
        "def make_keyword_index(keyword_embeddings):\n",
        "  d = keyword_embeddings.shape[1]\n",
        "\n",
        "  # Let's define the index and add keywords to it\n",
        "  index = faiss.IndexFlatL2(d)\n",
        "  index.add(keyword_embeddings)\n",
        "\n",
        "  return index\n",
        "\n",
        "keyword_index = make_keyword_index(keyword_embeddings)"
      ],
      "metadata": {
        "id": "IZMEPgm1uuA4"
      },
      "execution_count": null,
      "outputs": []
    },
    {
      "cell_type": "code",
      "source": [
        "def search(query, keyword_index):\n",
        "  t=time.time()\n",
        "  query_vector = model.encode([query])\n",
        "  k = 2\n",
        "  D, I = keyword_index.search(query_vector, k)\n",
        "  #print('totaltime: {}'.format(time.time()-t))\n",
        "  return I.tolist()[0]"
      ],
      "metadata": {
        "id": "Fb068QPxG1cP"
      },
      "execution_count": null,
      "outputs": []
    },
    {
      "cell_type": "code",
      "source": [
        "len(ocr_sample[\"OCR_CONTENT\"][0])"
      ],
      "metadata": {
        "colab": {
          "base_uri": "https://localhost:8080/"
        },
        "id": "aVk66GkS-DiW",
        "outputId": "5b74803f-5d73-476c-a4e4-99b1881ab4a5"
      },
      "execution_count": null,
      "outputs": [
        {
          "output_type": "execute_result",
          "data": {
            "text/plain": [
              "3696"
            ]
          },
          "metadata": {},
          "execution_count": 53
        }
      ]
    },
    {
      "cell_type": "code",
      "source": [
        "sentences_list[:10]"
      ],
      "metadata": {
        "colab": {
          "base_uri": "https://localhost:8080/"
        },
        "id": "gkIsiaJyEIrm",
        "outputId": "7cbc529c-6beb-46de-b022-5348d0f59188"
      },
      "execution_count": null,
      "outputs": [
        {
          "output_type": "execute_result",
          "data": {
            "text/plain": [
              "[' \\r',\n",
              " '\\r',\n",
              " 'TEMPORARY INSURANCE AGREEMENT (TIA)\\r',\n",
              " '\\r',\n",
              " 'Quali?cations\\r',\n",
              " 'To qualify for temporary alcoholic hepatitis, the Proposed Insured(s) must be over 15 days of age or under age 70, and able to answer “No\" to all of the\\r',\n",
              " 'questions on the Temporary Insurance Agreement.\\r',\n",
              " 'Limits\\r',\n",
              " '- The TIA is limited to $1,000,000 for individual products and $1,500,000 for Second-to-Die products.\\r',\n",
              " '- For Monthly Bene?t Term Life Insurance only, the TIA is limited to the lesser ofthe Monthly Bene?t applied for or a Monthly Bene?t amount of $5,001\\r']"
            ]
          },
          "metadata": {},
          "execution_count": 72
        }
      ]
    },
    {
      "cell_type": "code",
      "source": [
        "# performing the search\n",
        "result_list = []\n",
        "content_list = []\n",
        "for sentence in contents:\n",
        "  if  sentence not in [\"\\r\", \" \\r\"]: \n",
        "    print(f\"sentence: {sentence}\")\n",
        "    results=search(sentence, keyword_index)\n",
        "    print(f'results :')\n",
        "    for result in keyword_df[\"KEYWORDS\"].iloc[results]:\n",
        "      print('\\t', result)\n",
        "      result_list.append(result)\n",
        "    content_list.append(sentence)"
      ],
      "metadata": {
        "colab": {
          "base_uri": "https://localhost:8080/"
        },
        "id": "Hh2qRMCh9rb3",
        "outputId": "4692e8c2-a1f7-4aa1-acd4-e9b824f29d6e"
      },
      "execution_count": null,
      "outputs": [
        {
          "output_type": "stream",
          "name": "stdout",
          "text": [
            "sentence:  TEMPORARY INSURANCE AGREEMENT (TIA)Quali?cationsTo qualify for temporary alcoholic hepatitis, the Proposed Insured(s) must be over 15 days of age or under age 70, and able to answer “No\" to all of thequestions on the Temporary Insurance Agreement\n",
            "results :\n",
            "\t Blood\n",
            "\t social use of alcohol\n",
            "sentence: Limits- The TIA is limited to $1,000,000 for individual products and $1,500,000 for Second-to-Die products\n",
            "results :\n",
            "\t advised to limit alcohol consumption\n",
            "\t under the influence\n",
            "sentence: - For Monthly Bene?t Term Life Insurance only, the TIA is limited to the lesser ofthe Monthly Bene?t applied for or a Monthly Bene?t amount of $5,001Initial PremiumThe minimum initial premium that can be submitted with the completed application and the TIA is either 1) 10% of the annual premium, or 2) greater ofone modal premium or three times the monthly initial minimum premium illustrated\n",
            "results :\n",
            "\t Blood\n",
            "\t should not drink\n",
            "sentence: Submitting- It is preferred that the check for the TIA, application, and TIA form all have the same date\n",
            "results :\n",
            "\t excessive alcohol use\n",
            "\t alcohol dependence\n",
            "sentence: - If it is not possible to obtain a check at the time the application is completed, the check may be dated up to 3 days later than the TIA and application\n",
            "results :\n",
            "\t knee replacement\n",
            "\t binge\n",
            "sentence: - The check, TIA, and application must be sent to Paci?c Life at the same time\n",
            "results :\n",
            "\t Activities of Daily Living\n",
            "\t broken ribs\n",
            "sentence:  REPLACEM ENTsThe Replacement Notice and any other state-required replacement forms must be signed and dated on, or prior to, the application date\n",
            "results :\n",
            "\t 8 drinks/day\n",
            "\t broken ribs\n",
            "sentence:  IfpapenNork submitted does not meet state requirements, the application package may be returned\n",
            "results :\n",
            "\t broken ribs\n",
            "\t linear fracture\n",
            "sentence: To obtain the most current state replacement forms, refer to State Applications using Quick Links on Lifeline\n",
            "results :\n",
            "\t knee replacement\n",
            "\t NA program\n",
            "sentence: Paci?cLife\n",
            "results :\n",
            "\t sober living program\n",
            "\t closed fracture\n",
            "sentence: com\n",
            "results :\n",
            "\t nondependent alcohol abuse\n",
            "\t advised to seek treatment for alcohol use\n",
            "sentence: 1998 NAIC Replacement Model Regulation States- For states that have adopted the 1998 NAIC Replacement Model Regulation, the Replacement Notice (15-22390) must be submitted with theapplication if any coverage is inforce, even if a replacement is not invdved\n",
            "results :\n",
            "\t 8 drinks/day\n",
            "\t broken ribs\n",
            "sentence: - If any policy will be replaced, also submit the Sales Material Checklist (15-22363) with the application\n",
            "results :\n",
            "\t broken ribs\n",
            "\t social use of alcohol\n",
            "sentence: - For a list of the states that have adopted the 1998 NAIC Replacement Model Regulation, refer to Lifeline\n",
            "results :\n",
            "\t scotch\n",
            "\t social use of alcohol\n",
            "sentence:  Paci?cLife\n",
            "results :\n",
            "\t sober living program\n",
            "\t closed fracture\n",
            "sentence: com: Underwriting & NewBusiness >> Compliance\n",
            "results :\n",
            "\t excessive alcohol use\n",
            "\t arthroplasty\n",
            "sentence: External Replacements for states that have not adopted the 1998 NAIC Replacement Model Regulation- Submit the applicable state-required replacement form(s)\n",
            "results :\n",
            "\t occasional use of alcohol\n",
            "\t low alcohol use\n",
            "sentence:  If the state does n_ot have any replacement form requirements, submit Paci?c Life’sReplacement Notice (15-20889)\n",
            "results :\n",
            "\t broken ribs\n",
            "\t anterior cervical discectomy\n",
            "sentence: Intemal Replacements- Submit any applicable state-required forms indicated above;- Paci?c Life’s Internal Replacement Request (15-20839) form; and- Signed and dated new business and in force illustrations\n",
            "results :\n",
            "\t broken ribs\n",
            "\t social use of alcohol\n",
            "sentence: 1035 Exchange- Submit the 1035 Exchange Absolute Assignment (15-28979) form with applicable replacement forms indicated above\n",
            "results :\n",
            "\t Activities of Daily Living\n",
            "\t drinks per week\n",
            "sentence: Qualified Plan Transfer of Assets- Submit the Transfer of Quali?ed Plan Assets Request (15-17637) form with applicable replacement forms indicated above\n",
            "results :\n",
            "\t broken ribs\n",
            "\t social use of alcohol\n",
            "sentence:  SALES ILLUSTRATIONThe complete illustration, including the Producer/Home Of?ce Administration Worksheet and Input page(s) representing how the policy is being appliedfor, must be submitted with the application\n",
            "results :\n",
            "\t excessive alcohol use\n",
            "\t broken ribs\n",
            "sentence:  The illustration information must match the application\n",
            "results :\n",
            "\t broken ribs\n",
            "\t pathologic fracture\n",
            "sentence:  If not, the application may be amended or endorsed\n",
            "results :\n",
            "\t skull fracture\n",
            "\t broken ribs\n",
            "sentence: Non-Variable Life Insurance —The Non-Variable Life Products Illustration Acknovrledgment section of the application must be completed\n",
            "results :\n",
            "\t 8 drinks/day\n",
            "\t excessive alcohol use\n",
            "sentence:  If submittingan illustration, the illustration must be signed and dated by the Applicant and Soliciting Producer on or prior to the application date\n",
            "results :\n",
            "\t broken ribs\n",
            "\t 8 drinks/day\n",
            "sentence:  In addition, the rundate must be prior to or the same date as when the illustration is signed\n",
            "results :\n",
            "\t Activities of Daily Living\n",
            "\t booze\n",
            "sentence:  How To OBTAIN FORMS- Log in to Paci?c Life’s website for Producers: https://Life|ine\n",
            "results :\n",
            "\t under the influence of alcohol\n",
            "\t social use of alcohol\n",
            "sentence: PacificLife\n",
            "results :\n",
            "\t ankle replacement\n",
            "\t inebriation\n",
            "sentence: com\n",
            "results :\n",
            "\t nondependent alcohol abuse\n",
            "\t advised to seek treatment for alcohol use\n",
            "sentence: o For a full submission package, go to State Applications using the Quick Links section\n",
            "results :\n",
            "\t social use of alcohol\n",
            "\t knee replacement\n",
            "sentence: 0 For individual forms, go to Forms and Sales Materials from the drop-down menu\n",
            "results :\n",
            "\t linear fracture\n",
            "\t social use of alcohol\n",
            "sentence: - E-mail marketing\n",
            "results :\n",
            "\t 12-Step facilitation\n",
            "\t advised to seek treatment for alcohol use\n",
            "sentence: orders@Paci?cLife\n",
            "results :\n",
            "\t open fracture\n",
            "\t closed fracture\n",
            "sentence: com\n",
            "results :\n",
            "\t nondependent alcohol abuse\n",
            "\t advised to seek treatment for alcohol use\n",
            "sentence: - Call Marketing at (800) 800-7681 ext\n",
            "results :\n",
            "\t prior alcoholic\n",
            "\t transverse fracture\n",
            "sentence:  3920\n",
            "results :\n",
            "\t nondependent alcohol abuse\n",
            "\t inebriation\n",
            "sentence: CA 15-29723-03 10/2010\f\n",
            "results :\n",
            "\t continuous drinking behavior\n",
            "\t under the influence\n"
          ]
        }
      ]
    },
    {
      "cell_type": "code",
      "source": [
        "content_list[:10]"
      ],
      "metadata": {
        "colab": {
          "base_uri": "https://localhost:8080/"
        },
        "id": "GyoWyx0bDrmz",
        "outputId": "a272d652-ee5c-4715-feae-282b613dd116"
      },
      "execution_count": null,
      "outputs": [
        {
          "output_type": "execute_result",
          "data": {
            "text/plain": [
              "['TEMPORARY INSURANCE AGREEMENT (TIA)\\r',\n",
              " 'Quali?cations\\r',\n",
              " 'To qualify for temporary alcoholic hepatitis, the Proposed Insured(s) must be over 15 days of age or under age 70, and able to answer “No\" to all of the\\r',\n",
              " 'questions on the Temporary Insurance Agreement.\\r',\n",
              " 'Limits\\r',\n",
              " '- The TIA is limited to $1,000,000 for individual products and $1,500,000 for Second-to-Die products.\\r',\n",
              " '- For Monthly Bene?t Term Life Insurance only, the TIA is limited to the lesser ofthe Monthly Bene?t applied for or a Monthly Bene?t amount of $5,001\\r',\n",
              " 'Initial Premium\\r',\n",
              " 'The minimum initial premium that can be submitted with the completed application and the TIA is either 1) 10% of the annual premium, or 2) greater of\\r',\n",
              " 'one modal premium or three times the monthly initial minimum premium illustrated.\\r']"
            ]
          },
          "metadata": {},
          "execution_count": 81
        }
      ]
    },
    {
      "cell_type": "code",
      "source": [
        "# performing the search\n",
        "results=search(ocr_sample[\"OCR_CONTENT\"][0])\n",
        "print('results :')\n",
        "for result in results:\n",
        "   print('\\t', result)"
      ],
      "metadata": {
        "id": "qgSGFQIPwh9u",
        "outputId": "a90acbbf-a804-4e59-a6e4-fed2f6916ace",
        "colab": {
          "base_uri": "https://localhost:8080/"
        }
      },
      "execution_count": null,
      "outputs": [
        {
          "output_type": "stream",
          "name": "stdout",
          "text": [
            "totaltime: 0.019058704376220703\n",
            "results :\n",
            "\t beckham leads as man u cut down depleted juve\n",
            "\t flight attendant action wont affect bundaberg\n",
            "\t french expedition site to be heritage protected\n",
            "\t opposition urged to help protect recherche bay\n",
            "\t canegrowers hope for late summer rain\n"
          ]
        }
      ]
    },
    {
      "cell_type": "code",
      "source": [
        "results=search(ocr_sample[\"OCR_CONTENT\"][1])\n",
        "print('results :')\n",
        "for result in results:\n",
        "   print('\\t', result)"
      ],
      "metadata": {
        "colab": {
          "base_uri": "https://localhost:8080/"
        },
        "id": "p0W3E8U74ZZt",
        "outputId": "9c8e7128-2795-49ff-d80e-680a48cbdb4e"
      },
      "execution_count": null,
      "outputs": [
        {
          "output_type": "stream",
          "name": "stdout",
          "text": [
            "totaltime: 0.017243385314941406\n",
            "results :\n",
            "\t opposition urged to help protect recherche bay\n",
            "\t orientation begins for uni students\n",
            "\t onesteel to invest 80m in whyalla steelworks\n",
            "\t brigadier dismisses reports troops harassed in\n",
            "\t flight attendant action wont affect bundaberg\n"
          ]
        }
      ]
    },
    {
      "cell_type": "code",
      "source": [
        "results=search(ocr_sample[\"OCR_CONTENT\"][2])\n",
        "print('results :')\n",
        "for result in results:\n",
        "   print('\\t', result)"
      ],
      "metadata": {
        "id": "beixz0I2vqlu",
        "outputId": "563da045-78e4-4a7e-e849-aa3ead30ef4a",
        "colab": {
          "base_uri": "https://localhost:8080/"
        }
      },
      "execution_count": null,
      "outputs": [
        {
          "output_type": "stream",
          "name": "stdout",
          "text": [
            "totaltime: 0.017183780670166016\n",
            "results :\n",
            "\t opposition urged to help protect recherche bay\n",
            "\t beckham leads as man u cut down depleted juve\n",
            "\t orientation begins for uni students\n",
            "\t mp rejects ambulance levy claims\n",
            "\t last minute call hands alinghi big lead\n"
          ]
        }
      ]
    },
    {
      "cell_type": "code",
      "source": [
        "results=search(ocr_sample[\"OCR_CONTENT\"][3])\n",
        "print('results :')\n",
        "for result in results:\n",
        "   print('\\t', result)"
      ],
      "metadata": {
        "colab": {
          "base_uri": "https://localhost:8080/"
        },
        "id": "jqNeNpxb3_XJ",
        "outputId": "efa47d46-1149-47d3-e72f-5324b18abf86"
      },
      "execution_count": null,
      "outputs": [
        {
          "output_type": "stream",
          "name": "stdout",
          "text": [
            "totaltime: 0.021990537643432617\n",
            "results :\n",
            "\t flight attendant action wont affect bundaberg\n",
            "\t last minute call hands alinghi big lead\n",
            "\t french expedition site to be heritage protected\n",
            "\t health minister backs organ and tissue storage\n",
            "\t blizzard buries united states in bills\n"
          ]
        }
      ]
    },
    {
      "cell_type": "code",
      "source": [
        "results=search(ocr_sample[\"OCR_CONTENT\"][4])\n",
        "print('results :')\n",
        "for result in results:\n",
        "   print('\\t', result)"
      ],
      "metadata": {
        "id": "_D_-dJJqwRxB",
        "outputId": "31c92073-bf97-4cd1-90a1-d5e864892e55",
        "colab": {
          "base_uri": "https://localhost:8080/"
        }
      },
      "execution_count": null,
      "outputs": [
        {
          "output_type": "stream",
          "name": "stdout",
          "text": [
            "totaltime: 0.020436525344848633\n",
            "results :\n",
            "\t martin to lobby against losing nt seat in fed\n",
            "\t flight attendant action wont affect bundaberg\n",
            "\t blizzard buries united states in bills\n",
            "\t french expedition site to be heritage protected\n",
            "\t last minute call hands alinghi big lead\n"
          ]
        }
      ]
    },
    {
      "cell_type": "code",
      "source": [
        "query = \"American celebrity public speech\"\n",
        "results=search(\"Each sentence is converted\")\n",
        "print('results :')\n",
        "for result in results:\n",
        "   print('\\t', result)"
      ],
      "metadata": {
        "id": "H2VLkQEELEOe",
        "outputId": "e1028bb9-1073-4746-a5e6-49db1193c044",
        "colab": {
          "base_uri": "https://localhost:8080/"
        }
      },
      "execution_count": null,
      "outputs": [
        {
          "output_type": "stream",
          "name": "stdout",
          "text": [
            "totaltime: 0.013369321823120117\n",
            "results :\n",
            "\t reading go third in first division\n",
            "\t aussie qualifier stosur wastes four memphis match\n",
            "\t police defend aboriginal tent embassy raid\n",
            "\t refshauge wins defamation court case\n",
            "\t code of conduct toughens organ donation regulations\n"
          ]
        }
      ]
    }
  ]
}