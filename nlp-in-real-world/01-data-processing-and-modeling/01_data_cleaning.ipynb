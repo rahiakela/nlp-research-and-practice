{
  "nbformat": 4,
  "nbformat_minor": 0,
  "metadata": {
    "colab": {
      "provenance": [],
      "toc_visible": true,
      "authorship_tag": "ABX9TyNpOpr581ixdPuVIcXN+JfJ",
      "include_colab_link": true
    },
    "kernelspec": {
      "name": "python3",
      "display_name": "Python 3"
    },
    "language_info": {
      "name": "python"
    }
  },
  "cells": [
    {
      "cell_type": "markdown",
      "metadata": {
        "id": "view-in-github",
        "colab_type": "text"
      },
      "source": [
        "<a href=\"https://colab.research.google.com/github/rahiakela/nlp-research-and-practice/blob/main/nlp-in-real-world/01-data-processing-and-modeling/01_data_cleaning.ipynb\" target=\"_parent\"><img src=\"https://colab.research.google.com/assets/colab-badge.svg\" alt=\"Open In Colab\"/></a>"
      ]
    },
    {
      "cell_type": "markdown",
      "source": [
        "##Setup"
      ],
      "metadata": {
        "id": "LCbxNJZpcfKt"
      }
    },
    {
      "cell_type": "code",
      "source": [
        "%%capture\n",
        "\n",
        "!pip -q install spacy\n",
        "!pip install textblob==0.17.1\n",
        "!pip install pyspellchecker==0.7.0\n",
        "!pip install pyenchant==3.2.2\n",
        "!python -m spacy download en_core_web_sm"
      ],
      "metadata": {
        "id": "3WhrYAcJcgVG"
      },
      "execution_count": 1,
      "outputs": []
    },
    {
      "cell_type": "code",
      "source": [
        "import re\n",
        "import spacy\n",
        "\n",
        "from nltk import sent_tokenize\n",
        "from nltk import word_tokenize\n",
        "from nltk import word_tokenize, pos_tag\n",
        "\n",
        "from textblob import TextBlob\n",
        "from spellchecker import SpellChecker"
      ],
      "metadata": {
        "id": "mXUnM_u0c059"
      },
      "execution_count": 16,
      "outputs": []
    },
    {
      "cell_type": "code",
      "source": [
        "import nltk\n",
        "\n",
        "nltk.download('punkt')\n",
        "nltk.download('stopwords')\n",
        "nltk.download('averaged_perceptron_tagger')"
      ],
      "metadata": {
        "id": "8VU8Z3Sgdl2u",
        "outputId": "300358b1-8667-4c08-96d9-38ff1ea19d10",
        "colab": {
          "base_uri": "https://localhost:8080/"
        }
      },
      "execution_count": 3,
      "outputs": [
        {
          "output_type": "stream",
          "name": "stderr",
          "text": [
            "[nltk_data] Downloading package punkt to /root/nltk_data...\n",
            "[nltk_data]   Unzipping tokenizers/punkt.zip.\n",
            "[nltk_data] Downloading package stopwords to /root/nltk_data...\n",
            "[nltk_data]   Unzipping corpora/stopwords.zip.\n",
            "[nltk_data] Downloading package averaged_perceptron_tagger to\n",
            "[nltk_data]     /root/nltk_data...\n",
            "[nltk_data]   Unzipping taggers/averaged_perceptron_tagger.zip.\n"
          ]
        },
        {
          "output_type": "execute_result",
          "data": {
            "text/plain": [
              "True"
            ]
          },
          "metadata": {},
          "execution_count": 3
        }
      ]
    },
    {
      "cell_type": "markdown",
      "source": [
        "##Segmentation"
      ],
      "metadata": {
        "id": "JpidC2lIcm26"
      }
    },
    {
      "cell_type": "code",
      "source": [
        "nlp = spacy.load(\"en_core_web_sm\")\n",
        "\n",
        "doc = nlp(u\"Hi!. I like NLP. Do you??\")\n",
        "\n",
        "for sent in doc.sents:\n",
        "  print(sent)"
      ],
      "metadata": {
        "colab": {
          "base_uri": "https://localhost:8080/"
        },
        "id": "sOha62hycnfc",
        "outputId": "9fd26297-129f-4e20-eda3-5190fa6dc3d8"
      },
      "execution_count": 4,
      "outputs": [
        {
          "output_type": "stream",
          "name": "stdout",
          "text": [
            "Hi!.\n",
            "I like NLP.\n",
            "Do you??\n"
          ]
        }
      ]
    },
    {
      "cell_type": "code",
      "source": [
        "sentences = sent_tokenize(\"I like it. Did you like it too?\")\n",
        "print(sentences)"
      ],
      "metadata": {
        "colab": {
          "base_uri": "https://localhost:8080/"
        },
        "id": "P02brnERdE57",
        "outputId": "b301e206-47d1-4c7a-88c3-bf141f104b23"
      },
      "execution_count": 5,
      "outputs": [
        {
          "output_type": "stream",
          "name": "stdout",
          "text": [
            "['I like it.', 'Did you like it too?']\n"
          ]
        }
      ]
    },
    {
      "cell_type": "markdown",
      "source": [
        "###Word tokenization"
      ],
      "metadata": {
        "id": "8x8aaT80eDOF"
      }
    },
    {
      "cell_type": "code",
      "source": [
        "text = \"Hi! I like NLP. Do you?? Do you live in the U.K.?\"\n",
        "\n",
        "tokens = TextBlob(text).words\n",
        "print(tokens)"
      ],
      "metadata": {
        "colab": {
          "base_uri": "https://localhost:8080/"
        },
        "id": "5RODcNEzeE7I",
        "outputId": "9e210cb4-e8bd-4d8b-a787-f2d8ebddbb45"
      },
      "execution_count": 6,
      "outputs": [
        {
          "output_type": "stream",
          "name": "stdout",
          "text": [
            "['Hi', 'I', 'like', 'NLP', 'Do', 'you', 'Do', 'you', 'live', 'in', 'the', 'U.K']\n"
          ]
        }
      ]
    },
    {
      "cell_type": "code",
      "source": [
        "text = \"Hi! I like NLP. Do you?? Do you live in the U.K.?\"\n",
        "\n",
        "tokens = word_tokenize(text)\n",
        "print(tokens)"
      ],
      "metadata": {
        "colab": {
          "base_uri": "https://localhost:8080/"
        },
        "id": "6OVzgg6qfgu7",
        "outputId": "87c8b993-5781-46e8-badd-6be4af3dc32e"
      },
      "execution_count": 7,
      "outputs": [
        {
          "output_type": "stream",
          "name": "stdout",
          "text": [
            "['Hi', '!', 'I', 'like', 'NLP', '.', 'Do', 'you', '?', '?', 'Do', 'you', 'live', 'in', 'the', 'U.K.', '?']\n"
          ]
        }
      ]
    },
    {
      "cell_type": "code",
      "source": [
        "text = \"Hi! I like NLP. Do you?? Do you live in the U.K.?\"\n",
        "\n",
        "doc = nlp(text)\n",
        "print([token for token in doc])"
      ],
      "metadata": {
        "colab": {
          "base_uri": "https://localhost:8080/"
        },
        "id": "EmQTvVgUfuK4",
        "outputId": "101df2eb-ba4a-4d6e-8610-1d7ec7f15957"
      },
      "execution_count": 8,
      "outputs": [
        {
          "output_type": "stream",
          "name": "stdout",
          "text": [
            "[Hi, !, I, like, NLP, ., Do, you, ?, ?, Do, you, live, in, the, U.K., ?]\n"
          ]
        }
      ]
    },
    {
      "cell_type": "markdown",
      "source": [
        "###Part-of-speech tagging"
      ],
      "metadata": {
        "id": "GoxrtNQviepG"
      }
    },
    {
      "cell_type": "code",
      "source": [
        "tokens = word_tokenize(\"Can you please buy me an Arizona Ice Tea? It's $0.57.\")\n",
        "\n",
        "pos = pos_tag(tokens)\n",
        "print(pos)"
      ],
      "metadata": {
        "colab": {
          "base_uri": "https://localhost:8080/"
        },
        "id": "qUXhOFH_f8N4",
        "outputId": "19ee9112-279a-45da-da38-435b3fe77c13"
      },
      "execution_count": 9,
      "outputs": [
        {
          "output_type": "stream",
          "name": "stdout",
          "text": [
            "[('Can', 'MD'), ('you', 'PRP'), ('please', 'VB'), ('buy', 'VB'), ('me', 'PRP'), ('an', 'DT'), ('Arizona', 'NNP'), ('Ice', 'NNP'), ('Tea', 'NNP'), ('?', '.'), ('It', 'PRP'), (\"'s\", 'VBZ'), ('$', '$'), ('0.57', 'CD'), ('.', '.')]\n"
          ]
        }
      ]
    },
    {
      "cell_type": "markdown",
      "source": [
        "###N-grams"
      ],
      "metadata": {
        "id": "b7zKyhcfjiL3"
      }
    },
    {
      "cell_type": "code",
      "source": [
        "text = \"natural language processing\"\n",
        "TextBlob(text).ngrams(2)"
      ],
      "metadata": {
        "colab": {
          "base_uri": "https://localhost:8080/"
        },
        "id": "mmbSVOdUjRoo",
        "outputId": "300c6fc6-fbb2-459a-a997-e0ece6b99f3c"
      },
      "execution_count": 10,
      "outputs": [
        {
          "output_type": "execute_result",
          "data": {
            "text/plain": [
              "[WordList(['natural', 'language']), WordList(['language', 'processing'])]"
            ]
          },
          "metadata": {},
          "execution_count": 10
        }
      ]
    },
    {
      "cell_type": "markdown",
      "source": [
        "##Cleaning"
      ],
      "metadata": {
        "id": "TGtJyNCjkGRT"
      }
    },
    {
      "cell_type": "code",
      "source": [
        "# Punctuation removal\n",
        "text = \"Hi. I like NLP, do you?\"\n",
        "\n",
        "# .sub substitutes all matches with empty string below\n",
        "punc_cleaned = re.sub(r\"[^\\w\\s]\", \"\", text)\n",
        "print(punc_cleaned)"
      ],
      "metadata": {
        "id": "aKJxAGfQj1OO",
        "outputId": "0d176fc0-1b72-47e1-9e81-a7fb3f66f5d5",
        "colab": {
          "base_uri": "https://localhost:8080/"
        }
      },
      "execution_count": 11,
      "outputs": [
        {
          "output_type": "stream",
          "name": "stdout",
          "text": [
            "Hi I like NLP do you\n"
          ]
        }
      ]
    },
    {
      "cell_type": "code",
      "source": [
        "# URL removal\n",
        "text = \"\"\"\n",
        "Check it out on https://google.com or www.google.com for more information. Reach out to abc@xyz.com for inquiries.\n",
        "\"\"\"\n",
        "\n",
        "url_cleaned = re.sub(r\"https?://\\S+|www\\.\\S+\", \"\", text)\n",
        "print(url_cleaned)"
      ],
      "metadata": {
        "id": "91J0oumAHQMu",
        "outputId": "697c7a79-86c8-4739-a0d6-f4c2bba3ce6a",
        "colab": {
          "base_uri": "https://localhost:8080/"
        }
      },
      "execution_count": 12,
      "outputs": [
        {
          "output_type": "stream",
          "name": "stdout",
          "text": [
            "\n",
            "Check it out on  or  for more information. Reach out to abc@xyz.com for inquiries.\n",
            "\n"
          ]
        }
      ]
    },
    {
      "cell_type": "code",
      "source": [
        "# Emoji removal\n",
        "text = \"What does 😲 emoji mean?\"\n",
        "\n",
        "emoji_cleaned = re.sub(r\"[\\U00010000-\\U0010ffff]\", \"\", text, flags=re.UNICODE)\n",
        "print(emoji_cleaned)"
      ],
      "metadata": {
        "id": "jlNZWJn-IO5H",
        "outputId": "7a35abfe-3af1-4b1b-a59f-f1eec83958e3",
        "colab": {
          "base_uri": "https://localhost:8080/"
        }
      },
      "execution_count": 13,
      "outputs": [
        {
          "output_type": "stream",
          "name": "stdout",
          "text": [
            "What does  emoji mean?\n"
          ]
        }
      ]
    },
    {
      "cell_type": "markdown",
      "source": [
        "##Spelling correction"
      ],
      "metadata": {
        "id": "5a_z4jZWMv6c"
      }
    },
    {
      "cell_type": "code",
      "source": [
        "spell = SpellChecker()\n",
        "\n",
        "# List the words that might be misspelled\n",
        "misspelled = spell.unknown([\"mispell\", \"craazy\", \"craaaazy\"])\n",
        "\n",
        "for word in misspelled:\n",
        "  # Get the one `most likely` answer\n",
        "  print(f\"{word} -> {spell.correction(word)}\")"
      ],
      "metadata": {
        "id": "dm7a8s9EJjDj",
        "outputId": "243ed00d-866a-4166-e986-f23580d939f5",
        "colab": {
          "base_uri": "https://localhost:8080/"
        }
      },
      "execution_count": 18,
      "outputs": [
        {
          "output_type": "stream",
          "name": "stdout",
          "text": [
            "craazy -> crazy\n",
            "mispell -> misspell\n",
            "craaaazy -> None\n"
          ]
        }
      ]
    },
    {
      "cell_type": "code",
      "source": [
        "data = \"Are yu suuree about your decisiion?\"\n",
        "output = TextBlob(data).correct()\n",
        "print(output)\n",
        "\n",
        "data = \"Are yu suuuree about your decisiion?\"\n",
        "output = TextBlob(data).correct()\n",
        "print(output)"
      ],
      "metadata": {
        "id": "cMOntAZyNTjG",
        "outputId": "d7468679-1810-4c8f-c0fc-6821e8e2581e",
        "colab": {
          "base_uri": "https://localhost:8080/"
        }
      },
      "execution_count": 19,
      "outputs": [
        {
          "output_type": "stream",
          "name": "stdout",
          "text": [
            "Are you sure about your decision?\n",
            "Are you suture about your decision?\n"
          ]
        }
      ]
    },
    {
      "cell_type": "code",
      "source": [
        "# from enchant.checker import SpellChecker\n",
        "\n",
        "# # Creating the SpellChecker object\n",
        "# chkr = SpellChecker(\"en_US\")\n",
        "\n",
        "# # Spelling error detection\n",
        "# chkr.set_text(\"This is sme sample txt with erors.\")\n",
        "\n",
        "# for err in chkr:\n",
        "#     corrections = chkr.suggest(err.word)\n",
        "#     if len(corrections) > 0:\n",
        "#         # Get top likely correction\n",
        "#         correction = corrections[0]\n",
        "#         print(\"ERROR:\", err.word, \"Correction:\", correction)"
      ],
      "metadata": {
        "id": "uFnzhKn8Pdjt"
      },
      "execution_count": null,
      "outputs": []
    },
    {
      "cell_type": "markdown",
      "source": [
        "##Stopwords removal"
      ],
      "metadata": {
        "id": "O3PYmr_KTTWR"
      }
    },
    {
      "cell_type": "code",
      "source": [],
      "metadata": {
        "id": "SaEOeKuUPwoq"
      },
      "execution_count": null,
      "outputs": []
    }
  ]
}