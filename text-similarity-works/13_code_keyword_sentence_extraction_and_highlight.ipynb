{
  "nbformat": 4,
  "nbformat_minor": 0,
  "metadata": {
    "colab": {
      "provenance": [],
      "authorship_tag": "ABX9TyNYi8CJgNt4bJYj2IzgCO+s",
      "include_colab_link": true
    },
    "kernelspec": {
      "name": "python3",
      "display_name": "Python 3"
    },
    "language_info": {
      "name": "python"
    }
  },
  "cells": [
    {
      "cell_type": "markdown",
      "metadata": {
        "id": "view-in-github",
        "colab_type": "text"
      },
      "source": [
        "<a href=\"https://colab.research.google.com/github/rahiakela/natural-language-processing-research-and-practice/blob/main/text-similarity-works/13_code_keyword_sentence_extraction_and_highlight.ipynb\" target=\"_parent\"><img src=\"https://colab.research.google.com/assets/colab-badge.svg\" alt=\"Open In Colab\"/></a>"
      ]
    },
    {
      "cell_type": "markdown",
      "source": [
        "##Setup"
      ],
      "metadata": {
        "id": "u6vazPC0Ja4i"
      }
    },
    {
      "cell_type": "code",
      "source": [
        "!pip -q install spacy\n",
        "!python -m spacy download en_core_web_sm\n",
        "\n",
        "!pip install pillow\n",
        "\n",
        "!sudo apt install build-essential libpoppler-cpp-dev pkg-config python3-dev\n",
        "!pip install -U pdftotext\n",
        "!pip install PyPDF2\n",
        "!pip install fitz\n",
        "!pip install PyMuPDF"
      ],
      "metadata": {
        "id": "gdwgVvXuJdz9"
      },
      "execution_count": null,
      "outputs": []
    },
    {
      "cell_type": "code",
      "source": [
        "import pandas as pd\n",
        "import re\n",
        "import os\n",
        "import glob\n",
        "import difflib\n",
        "import pickle\n",
        "\n",
        "import fitz\n",
        "import pdftotext\n",
        "from PyPDF2 import PdfFileReader, PdfFileWriter\n",
        "\n",
        "import spacy\n",
        "from spacy.matcher import PhraseMatcher\n",
        "from spacy.lang.en import English\n",
        "\n",
        "from keyword_extractor import *\n",
        "from concurrent import futures"
      ],
      "metadata": {
        "id": "gKbd7WsfyYX3"
      },
      "execution_count": 3,
      "outputs": []
    },
    {
      "cell_type": "code",
      "source": [
        "import nltk\n",
        "from nltk.corpus import stopwords\n",
        "nltk.download('stopwords')"
      ],
      "metadata": {
        "id": "b58uBfgEaBMK"
      },
      "execution_count": null,
      "outputs": []
    },
    {
      "cell_type": "code",
      "source": [
        "stop_words = set(stopwords.words('english'))"
      ],
      "metadata": {
        "id": "EXXUuXUwaJvl"
      },
      "execution_count": null,
      "outputs": []
    },
    {
      "cell_type": "code",
      "source": [
        "!mkdir -p pdf-files\n",
        "!mkdir -p txt-files\n",
        "!mkdir -p ocr-pdf-files"
      ],
      "metadata": {
        "id": "WyuzUOer0FFK"
      },
      "execution_count": 4,
      "outputs": []
    },
    {
      "cell_type": "code",
      "source": [
        "# define directory path after creating it\n",
        "pdf_files_path = \"pdf-files\"\n",
        "txt_files_path = \"txt-files\"\n",
        "ocr_pdf_files_path = \"ocr-pdf-files\"\n",
        "\n",
        "MAX_WORKERS = 20"
      ],
      "metadata": {
        "id": "6RzBfwkuyfv6"
      },
      "execution_count": 5,
      "outputs": []
    },
    {
      "cell_type": "markdown",
      "source": [
        "##Core Functions"
      ],
      "metadata": {
        "id": "0hK4nU35JVaA"
      }
    },
    {
      "cell_type": "code",
      "source": [
        "def split_pdf(pdf_path):\n",
        "  pdf_in_file = open(pdf_path, \"rb\")\n",
        "  pdf = PdfFileReader(pdf_in_file)\n",
        "  pdf_list = []\n",
        "  for page in range(pdf.numPages):\n",
        "      inputpdf = PdfFileReader(pdf_in_file)\n",
        "      output = PdfFileWriter()\n",
        "      output.addPage(inputpdf.getPage(page))\n",
        "      with open(f\"{pdf_files_path}/page-{page}.pdf\", \"wb\") as outputStream:\n",
        "          output.write(outputStream)\n",
        "          pdf_list.append(f\"page-{page}.pdf\")\n",
        "  return pdf_list\n",
        "\n",
        "\n",
        "def extract_text_from_pdf(pdf_list):\n",
        "    txt_file_list = []\n",
        "    i = 0\n",
        "    for pdf_file in pdf_list:\n",
        "        with open(os.path.join(pdf_files_path, pdf_file), \"rb\") as f:\n",
        "            pdf = pdftotext.PDF(f)\n",
        "\n",
        "        # Read all the text into one string\n",
        "        pdf_text = \"\\n\\n\".join(pdf)\n",
        "\n",
        "        # write text into file\n",
        "        with open(f\"{txt_files_path}/page-{str(i)}.txt\", \"a\") as f:\n",
        "            f.write(pdf_text)\n",
        "        txt_file_list.append(f\"{txt_files_path}/page-{str(i)}.txt\")\n",
        "        i += 1\n",
        "    return txt_file_list\n",
        "\n",
        "\n",
        "def get_opt_pattern(icd_10_code):\n",
        "  # create alternate pattern\n",
        "  code_arr = icd_10_code.split(\".\")\n",
        "  if len(code_arr) > 1:\n",
        "    code1 = f\"{code_arr[0]}. {code_arr[1]}\"\n",
        "    code2 = f\"{code_arr[0]} .{code_arr[1]}\"\n",
        "    code3 = f\"{code_arr[0]} . {code_arr[1]}\"\n",
        "    return [code1, code2, code3]\n",
        "  else:\n",
        "    return icd_10_code\n",
        "\n",
        "\n",
        "def isExactMatch(page, term, clip, fullMatch=False, caseSensitive=False):\n",
        "  # clip is an item from page.search_for(term, quads=True)\n",
        "  termLen = len(term)\n",
        "  termBboxLen = max(clip.height, clip.width)\n",
        "  termfontSize = termBboxLen/termLen\n",
        "  f = termfontSize*2\n",
        "\n",
        "  #clip = clip.rect\n",
        "\n",
        "  validate = page.get_text(\"blocks\", clip = clip + (-f, -f, f, f), flags=0)[0][4]\n",
        "  flag = 0\n",
        "  if not caseSensitive:\n",
        "      flag = re.IGNORECASE\n",
        "\n",
        "  matches = len(re.findall(f'{term}', validate, flags=flag)) > 0\n",
        "  if fullMatch:\n",
        "      matches = len(re.findall(f'\\\\b{term}\\\\b', validate))>0\n",
        "  return matches\n",
        "\n",
        "def highlight_icd_code_and_keyword(icd10_code_dict, icd9_code_dict, icd_keyword_list=None, pdf_file_name=None, cords_file_name=None):\n",
        "  pdf_file = fitz.open(pdf_file_name)\n",
        "\n",
        "  def highlight_pdf(highlight, icd10_code, code_type):\n",
        "    cords_list = []\n",
        "    for inst in highlight:\n",
        "      highlight = page.add_highlight_annot(inst)\n",
        "      if code_type == \"ICD-9\":\n",
        "        highlight.set_colors(stroke=[1, 0.5, 0.8]) # light red color (r, g, b)\n",
        "      highlight.update()\n",
        "      highlight = page.search_for(icd10_code)\n",
        "      cords_list.append(highlight)\n",
        "\n",
        "    if cords_list:\n",
        "      code_cors_output = f\"Page-{page_num}: {icd10_code} : {cords_list}\"\n",
        "      txt_output_file_name.write(\"%s\\n\" % code_cors_output)\n",
        "\n",
        "  # create file to write cordinate \n",
        "  txt_output_file_name = open(cords_file_name, \"a\")\n",
        "\n",
        "  for page_num, page in enumerate(pdf_file):\n",
        "\n",
        "    # highlight ICD-10 code\n",
        "    if page_num in icd10_code_dict:\n",
        "      for code in icd10_code_dict[page_num]:\n",
        "        highlight = page.search_for(code)\n",
        "        if len(highlight) == 0:\n",
        "          alternate_code_list = get_opt_pattern(code)\n",
        "          for alt_code in alternate_code_list:\n",
        "            highlight = page.search_for(alt_code)\n",
        "            # highlight pdf for option pattern\n",
        "            highlight_pdf(highlight, alt_code, code_type=\"ICD-10\")\n",
        "        # highlight pdf for main pattern   \n",
        "        highlight_pdf(highlight, code, code_type=\"ICD-10\")\n",
        "\n",
        "    # highlight ICD-9 code\n",
        "    if page_num in icd9_code_dict:\n",
        "      for code in icd9_code_dict[page_num]:\n",
        "        highlight = page.search_for(code)\n",
        "        if len(highlight) == 0:\n",
        "          alternate_code_list = get_opt_pattern(code)\n",
        "          for alt_code in alternate_code_list:\n",
        "            highlight = page.search_for(alt_code)\n",
        "            # highlight pdf for option pattern\n",
        "            highlight_pdf(highlight, alt_code, code_type=\"ICD-9\")\n",
        "        # highlight pdf for main pattern   \n",
        "        highlight_pdf(highlight, code, code_type=\"ICD-9\")\n",
        "\n",
        "  # highlight ICD key phrase\n",
        "  if icd_keyword_list:\n",
        "    cords_list = []\n",
        "    for key_phrase in icd_keyword_list:\n",
        "      # search key phrase for every page\n",
        "      for page in pdf_file:\n",
        "        coordinates = page.search_for(key_phrase)\n",
        "        #print(f\"Keyword: {keyword}, Length: {len(coordinates)}\")\n",
        "        \n",
        "        for inst in coordinates:\n",
        "          #print(f\"Keyword: {keyword}, inst: {inst}\")\n",
        "          #if isExactMatch(page, keyword, inst, fullMatch=True, caseSensitive=False):\n",
        "          highlight = page.add_highlight_annot(inst)\n",
        "          highlight.set_colors(stroke=[1, 0.8, 0.8])\n",
        "          highlight.update()\n",
        "          highlight = page.search_for(key_phrase)\n",
        "          cords_list.append(highlight)\n",
        "\n",
        "    if cords_list:\n",
        "      keyword_cors_output = f\"Page-{page_num}: {key_phrase} : {cords_list}\"\n",
        "      txt_output_file_name.write(\"%s\\n\" % keyword_cors_output)\n",
        "      #print(f\"Page-{page_num}: \", highlight, end='\\n')\n",
        "\n",
        "  txt_output_file_name.close()\n",
        "\n",
        "  pdf_output_file_name = f\"{pdf_file_name.split('.')[0]}_output.pdf\"\n",
        "  pdf_file.save(pdf_output_file_name, garbage=4, deflate=True, clean=True)\n",
        "\n",
        "  return pdf_output_file_name, cords_file_name\n",
        "\n",
        "\n",
        "def filter_unwanted_code(code_list, page_text):\n",
        "    filtered_code_list = []\n",
        "    # if re.search(\"ICD\", page_text):\n",
        "    # match_list = re.findall(\"(ICD-[0-9][a-zA-z]*\\-.+)[ ]\", page_text)\n",
        "    match_list = re.findall(\"(IC[(A-z)]-[0-9][a-zA-z]*\\-.+)[ ]\", page_text)\n",
        "    # print(\"Match list:\\n\", match_list)\n",
        "    for found_code in match_list:\n",
        "        for code in code_list:\n",
        "            if code in found_code:\n",
        "                filtered_code_list.append(code)\n",
        "    return filtered_code_list\n",
        "\n",
        "\n",
        "def search_icd_code(txt_list, nlp, code_type):\n",
        "    pdf_page_vocab = {}\n",
        "    for txt_file in txt_list:\n",
        "        with open(txt_file, \"r\") as f:\n",
        "            page_txt = f.read()\n",
        "            # filter the page that have line number instead of code\n",
        "            if not re.search(\"(P[ ][0-9]+)(,\\s)(L[0-9]+)\", page_txt):\n",
        "                doc = nlp(page_txt)\n",
        "                code_list = [ent.text for ent in doc.ents]\n",
        "                page_number = 0\n",
        "                if len(code_list) != 0:\n",
        "                    page_number = int(txt_file.split(\"/\")[1].split(\".\")[0].split(\"-\")[1])\n",
        "                    pdf_page_vocab[page_number] = code_list\n",
        "                    # print(f\"Page[{txt_file.split('/')[1]}]: {code_list}\")\n",
        "\n",
        "                # filter the page that dont have ICD string into it\n",
        "                if code_type == \"ICD-9\":\n",
        "                    filtered_code_list = filter_unwanted_code(code_list, page_txt)\n",
        "                    pdf_page_vocab[page_number] = filtered_code_list\n",
        "                    # print(f\"Page[{txt_file.split('/')[1]}]: {filtered_code_list}\")\n",
        "\n",
        "    return pdf_page_vocab\n",
        "\n",
        "\n",
        "def get_json_array_list(text_path):\n",
        "  print(f\"Running '{text_path}'\")\n",
        "  json_arr = call(text_path)\n",
        "  print(f\"Got json for '{text_path}'\")\n",
        "  return json_arr\n",
        "\n",
        "\n",
        "def get_wrong_keyword_dict_with_thread(text_path_list):\n",
        "  wrong_keyword_dict = {}\n",
        "\n",
        "  # take care so that unnecessary thread should not be created\n",
        "  workers = min(MAX_WORKERS, len(text_path_list))\n",
        "  with futures.ThreadPoolExecutor(max_workers=workers) as executor:\n",
        "    json_arr_list = executor.map(get_json_array_list, sorted(text_path_list))\n",
        "\n",
        "  for idx, json_arr in enumerate(json_arr_list):\n",
        "    wrong_keyword_list = [list(element.values())[0] for element in json_arr]\n",
        "    if wrong_keyword_list: \n",
        "      wrong_keyword_dict[idx] = set(wrong_keyword_list)\n",
        "  return dict(sorted(wrong_keyword_dict.items(), key=lambda item: item[0]))\n",
        "\n",
        "def get_wrong_keyword_dict_with_process(text_path_list):\n",
        "  wrong_keyword_dict = {}\n",
        "\n",
        "  # take care so that unnecessary thread should not be created\n",
        "  workers = min(MAX_WORKERS, len(text_path_list))\n",
        "  with futures.ProcessPoolExecutor(max_workers=4) as executor:\n",
        "    json_arr_list = executor.map(get_json_array_list, sorted(text_path_list))\n",
        "\n",
        "  for idx, json_arr in enumerate(json_arr_list):\n",
        "    wrong_keyword_list = [list(element.values())[0] for element in json_arr]\n",
        "    if wrong_keyword_list: \n",
        "      wrong_keyword_dict[idx] = set(wrong_keyword_list)\n",
        "  return dict(sorted(wrong_keyword_dict.items(), key=lambda item: item[0]))\n",
        "\n",
        "\n",
        "def get_wrong_keyword_dict(text_path_list):\n",
        "  wrong_keyword_dict = {}\n",
        "  for idx, file_path in enumerate(text_path_list):\n",
        "    print(idx, file_path)\n",
        "    json_arr = get_json_array_list(file_path)\n",
        "    wrong_keyword_list = [list(element.values())[0] for element in json_arr]\n",
        "    if wrong_keyword_list:\n",
        "      wrong_keyword_dict[idx] = set(wrong_keyword_list)\n",
        "  return wrong_keyword_dict\n",
        "\n",
        "\n",
        "def purge(file_path):\n",
        "  for f in glob.glob(file_path):\n",
        "    os.remove(f)"
      ],
      "metadata": {
        "id": "qB-XpoweygN4"
      },
      "execution_count": 57,
      "outputs": []
    },
    {
      "cell_type": "markdown",
      "source": [
        "##Prepare keyword/phrase"
      ],
      "metadata": {
        "id": "N4dDTs-rJL_h"
      }
    },
    {
      "cell_type": "code",
      "source": [
        "# Step-0: Load prerequisite instance\n",
        "# create nlp instance\n",
        "nlp_keyword = spacy.load('en_core_web_sm')\n",
        "\n",
        "# loading and updating patterns for ICD-10 code\n",
        "nlp_code10 = English()\n",
        "nlp_code10.add_pipe(\"entity_ruler\").from_disk(\"./icd10_code_patterns-v3.jsonl\")\n",
        "\n",
        "# loading and updating patterns for ICD-9 code\n",
        "nlp_code9 = English()\n",
        "nlp_code9.add_pipe(\"entity_ruler\").from_disk(\"./icd9_code_patterns-v1.jsonl\")"
      ],
      "metadata": {
        "id": "y8UcOwHpJnpd",
        "outputId": "5b6a44ed-c6ea-42b5-a0ef-0fde0622a10a",
        "colab": {
          "base_uri": "https://localhost:8080/"
        }
      },
      "execution_count": 7,
      "outputs": [
        {
          "output_type": "execute_result",
          "data": {
            "text/plain": [
              "<spacy.pipeline.entityruler.EntityRuler at 0x7fc3d9b31e00>"
            ]
          },
          "metadata": {},
          "execution_count": 7
        }
      ]
    },
    {
      "cell_type": "code",
      "source": [
        "# Step-1: spliting pdf file\n",
        "pdf_file_name = \"Redacted_Sample.pdf\"\n",
        "pdf_list = split_pdf(pdf_file_name)\n",
        "\n",
        "# Step-2: Extracting text from pdf\n",
        "txt_list = extract_text_from_pdf(pdf_list)"
      ],
      "metadata": {
        "id": "qw22evt02aRh"
      },
      "execution_count": 8,
      "outputs": []
    },
    {
      "cell_type": "code",
      "source": [
        "# Step-3: Searching ICD-10 code\n",
        "page_code10_dict = search_icd_code(txt_list, nlp_code10, code_type=\"ICD-10\")\n",
        "page_code10_dict"
      ],
      "metadata": {
        "id": "flLgpUfg2ghi"
      },
      "execution_count": 9,
      "outputs": []
    },
    {
      "cell_type": "code",
      "source": [
        "# Step-4: Searching ICD-9 code\n",
        "page_code9_dict = search_icd_code(txt_list, nlp_code9, code_type=\"ICD-9\")\n",
        "page_code9_dict"
      ],
      "metadata": {
        "id": "BKal0jMy2tCq"
      },
      "execution_count": null,
      "outputs": []
    },
    {
      "cell_type": "code",
      "source": [
        "icd_code_kerword_df = pd.read_csv(\"icd_10_code_keywords.csv\")\n",
        "icd_code_kerword_df.head()"
      ],
      "metadata": {
        "colab": {
          "base_uri": "https://localhost:8080/",
          "height": 206
        },
        "id": "iS0gZdHA28SA",
        "outputId": "52b25d0c-6293-4478-eaca-7c1a4e6ebcd1"
      },
      "execution_count": 12,
      "outputs": [
        {
          "output_type": "execute_result",
          "data": {
            "text/plain": [
              "     Code                                            Keyword\n",
              "0   A00.0  Cholera due to Vibrio cholerae 01, biovar chol...\n",
              "1   A00.1    Cholera due to Vibrio cholerae 01, biovar eltor\n",
              "2   A00.9                               Cholera, unspecified\n",
              "3  A01.00                         Typhoid fever, unspecified\n",
              "4  A01.01                                 Typhoid meningitis"
            ],
            "text/html": [
              "\n",
              "  <div id=\"df-71bfc1d3-3565-4478-9ca0-d7f5d6f3a34e\">\n",
              "    <div class=\"colab-df-container\">\n",
              "      <div>\n",
              "<style scoped>\n",
              "    .dataframe tbody tr th:only-of-type {\n",
              "        vertical-align: middle;\n",
              "    }\n",
              "\n",
              "    .dataframe tbody tr th {\n",
              "        vertical-align: top;\n",
              "    }\n",
              "\n",
              "    .dataframe thead th {\n",
              "        text-align: right;\n",
              "    }\n",
              "</style>\n",
              "<table border=\"1\" class=\"dataframe\">\n",
              "  <thead>\n",
              "    <tr style=\"text-align: right;\">\n",
              "      <th></th>\n",
              "      <th>Code</th>\n",
              "      <th>Keyword</th>\n",
              "    </tr>\n",
              "  </thead>\n",
              "  <tbody>\n",
              "    <tr>\n",
              "      <th>0</th>\n",
              "      <td>A00.0</td>\n",
              "      <td>Cholera due to Vibrio cholerae 01, biovar chol...</td>\n",
              "    </tr>\n",
              "    <tr>\n",
              "      <th>1</th>\n",
              "      <td>A00.1</td>\n",
              "      <td>Cholera due to Vibrio cholerae 01, biovar eltor</td>\n",
              "    </tr>\n",
              "    <tr>\n",
              "      <th>2</th>\n",
              "      <td>A00.9</td>\n",
              "      <td>Cholera, unspecified</td>\n",
              "    </tr>\n",
              "    <tr>\n",
              "      <th>3</th>\n",
              "      <td>A01.00</td>\n",
              "      <td>Typhoid fever, unspecified</td>\n",
              "    </tr>\n",
              "    <tr>\n",
              "      <th>4</th>\n",
              "      <td>A01.01</td>\n",
              "      <td>Typhoid meningitis</td>\n",
              "    </tr>\n",
              "  </tbody>\n",
              "</table>\n",
              "</div>\n",
              "      <button class=\"colab-df-convert\" onclick=\"convertToInteractive('df-71bfc1d3-3565-4478-9ca0-d7f5d6f3a34e')\"\n",
              "              title=\"Convert this dataframe to an interactive table.\"\n",
              "              style=\"display:none;\">\n",
              "        \n",
              "  <svg xmlns=\"http://www.w3.org/2000/svg\" height=\"24px\"viewBox=\"0 0 24 24\"\n",
              "       width=\"24px\">\n",
              "    <path d=\"M0 0h24v24H0V0z\" fill=\"none\"/>\n",
              "    <path d=\"M18.56 5.44l.94 2.06.94-2.06 2.06-.94-2.06-.94-.94-2.06-.94 2.06-2.06.94zm-11 1L8.5 8.5l.94-2.06 2.06-.94-2.06-.94L8.5 2.5l-.94 2.06-2.06.94zm10 10l.94 2.06.94-2.06 2.06-.94-2.06-.94-.94-2.06-.94 2.06-2.06.94z\"/><path d=\"M17.41 7.96l-1.37-1.37c-.4-.4-.92-.59-1.43-.59-.52 0-1.04.2-1.43.59L10.3 9.45l-7.72 7.72c-.78.78-.78 2.05 0 2.83L4 21.41c.39.39.9.59 1.41.59.51 0 1.02-.2 1.41-.59l7.78-7.78 2.81-2.81c.8-.78.8-2.07 0-2.86zM5.41 20L4 18.59l7.72-7.72 1.47 1.35L5.41 20z\"/>\n",
              "  </svg>\n",
              "      </button>\n",
              "      \n",
              "  <style>\n",
              "    .colab-df-container {\n",
              "      display:flex;\n",
              "      flex-wrap:wrap;\n",
              "      gap: 12px;\n",
              "    }\n",
              "\n",
              "    .colab-df-convert {\n",
              "      background-color: #E8F0FE;\n",
              "      border: none;\n",
              "      border-radius: 50%;\n",
              "      cursor: pointer;\n",
              "      display: none;\n",
              "      fill: #1967D2;\n",
              "      height: 32px;\n",
              "      padding: 0 0 0 0;\n",
              "      width: 32px;\n",
              "    }\n",
              "\n",
              "    .colab-df-convert:hover {\n",
              "      background-color: #E2EBFA;\n",
              "      box-shadow: 0px 1px 2px rgba(60, 64, 67, 0.3), 0px 1px 3px 1px rgba(60, 64, 67, 0.15);\n",
              "      fill: #174EA6;\n",
              "    }\n",
              "\n",
              "    [theme=dark] .colab-df-convert {\n",
              "      background-color: #3B4455;\n",
              "      fill: #D2E3FC;\n",
              "    }\n",
              "\n",
              "    [theme=dark] .colab-df-convert:hover {\n",
              "      background-color: #434B5C;\n",
              "      box-shadow: 0px 1px 3px 1px rgba(0, 0, 0, 0.15);\n",
              "      filter: drop-shadow(0px 1px 2px rgba(0, 0, 0, 0.3));\n",
              "      fill: #FFFFFF;\n",
              "    }\n",
              "  </style>\n",
              "\n",
              "      <script>\n",
              "        const buttonEl =\n",
              "          document.querySelector('#df-71bfc1d3-3565-4478-9ca0-d7f5d6f3a34e button.colab-df-convert');\n",
              "        buttonEl.style.display =\n",
              "          google.colab.kernel.accessAllowed ? 'block' : 'none';\n",
              "\n",
              "        async function convertToInteractive(key) {\n",
              "          const element = document.querySelector('#df-71bfc1d3-3565-4478-9ca0-d7f5d6f3a34e');\n",
              "          const dataTable =\n",
              "            await google.colab.kernel.invokeFunction('convertToInteractive',\n",
              "                                                     [key], {});\n",
              "          if (!dataTable) return;\n",
              "\n",
              "          const docLinkHtml = 'Like what you see? Visit the ' +\n",
              "            '<a target=\"_blank\" href=https://colab.research.google.com/notebooks/data_table.ipynb>data table notebook</a>'\n",
              "            + ' to learn more about interactive tables.';\n",
              "          element.innerHTML = '';\n",
              "          dataTable['output_type'] = 'display_data';\n",
              "          await google.colab.output.renderOutput(dataTable, element);\n",
              "          const docLink = document.createElement('div');\n",
              "          docLink.innerHTML = docLinkHtml;\n",
              "          element.appendChild(docLink);\n",
              "        }\n",
              "      </script>\n",
              "    </div>\n",
              "  </div>\n",
              "  "
            ]
          },
          "metadata": {},
          "execution_count": 12
        }
      ]
    },
    {
      "cell_type": "code",
      "source": [
        "def insert_dot(code, index):\n",
        "  if not \".\" in code:\n",
        "    if len(code) > 3:\n",
        "      return code[:index] + \".\" + code[index:]\n",
        "    else:\n",
        "      return code[:index] + \".\" + code[index:] + \"0\"\n",
        "  else:\n",
        "    return code\n",
        "\n",
        "print(insert_dot(\"G0439\", 3))"
      ],
      "metadata": {
        "colab": {
          "base_uri": "https://localhost:8080/"
        },
        "id": "k4l153DBQwiR",
        "outputId": "b92c0599-767f-400c-8f0b-b7e472a75162"
      },
      "execution_count": 13,
      "outputs": [
        {
          "output_type": "stream",
          "name": "stdout",
          "text": [
            "G04.39\n"
          ]
        }
      ]
    },
    {
      "cell_type": "code",
      "source": [
        "def get_keyword_list(code_dict):\n",
        "  keyword_list = []\n",
        "  icd_kerword_list = []\n",
        "  # get code list\n",
        "  code_list = [value for key, value in page_code10_dict.items()]\n",
        "  code_list = [[insert_dot(code, 3) for code in temp_list] for temp_list in code_list]\n",
        "  for t_list in code_list:\n",
        "    keyword_list.extend(t_list)\n",
        "  #print(len(keyword_list))\n",
        "  #print(list(set(keyword_list)))\n",
        "  # filter dataframe based on code list\n",
        "  icd_kerword_df = icd_code_kerword_df.loc[icd_code_kerword_df['Code'].isin(list(set(keyword_list)))]\n",
        "  # create file to write cordinate \n",
        "  icd_keyword_found_filename = open(\"icd_keyword_found.txt\", \"a\")\n",
        "  for _, row in icd_kerword_df.iterrows():\n",
        "    icd_kerword_list.append(row[\"Keyword\"])\n",
        "    #icd_kerword_list.append(row[\"Keyword\"].lower())\n",
        "    keyword_found_output = f\"{row['Code']}: {row['Keyword']}\"\n",
        "    icd_keyword_found_filename.write(\"%s\\n\" % keyword_found_output)\n",
        "  icd_keyword_found_filename.close()\n",
        "  return icd_kerword_list"
      ],
      "metadata": {
        "id": "tmcZvgsSGjF9"
      },
      "execution_count": 61,
      "outputs": []
    },
    {
      "cell_type": "code",
      "source": [
        "icd_kerword_list = get_keyword_list(page_code10_dict)"
      ],
      "metadata": {
        "id": "H2irST8F8BLS"
      },
      "execution_count": 62,
      "outputs": []
    },
    {
      "cell_type": "code",
      "source": [
        "len(icd_kerword_list)"
      ],
      "metadata": {
        "colab": {
          "base_uri": "https://localhost:8080/"
        },
        "id": "Q29C6C8PG-u6",
        "outputId": "7be4d409-dece-4e33-d0ed-9e5f79eda3ad"
      },
      "execution_count": 64,
      "outputs": [
        {
          "output_type": "execute_result",
          "data": {
            "text/plain": [
              "15"
            ]
          },
          "metadata": {},
          "execution_count": 64
        }
      ]
    },
    {
      "cell_type": "code",
      "source": [
        "icd_kerword_list"
      ],
      "metadata": {
        "colab": {
          "base_uri": "https://localhost:8080/"
        },
        "id": "1x02UQD3SCkB",
        "outputId": "aee105a3-dd8e-4366-c785-c90b0d0078ca"
      },
      "execution_count": 63,
      "outputs": [
        {
          "output_type": "execute_result",
          "data": {
            "text/plain": [
              "['Benign lipomatous neoplasm of skin and subcutaneous tissue of trunk',\n",
              " 'Decreased white blood cell count, unspecified',\n",
              " 'Lipomatosis, not elsewhere classified',\n",
              " 'Reaction to severe stress, unspecified',\n",
              " 'Other acute necrotizing hemorrhagic encephalopathy',\n",
              " 'Migraine with aura, not intractable, without status migrainosus',\n",
              " 'Acute bronchitis due to Mycoplasma pneumoniae',\n",
              " 'Unspecified contact dermatitis, unspecified cause',\n",
              " 'Cervicalgia',\n",
              " 'Lumbago with sciatica, unspecified side',\n",
              " 'Congenital ptosis',\n",
              " 'Palpitations',\n",
              " 'Lower abdominal pain, unspecified',\n",
              " 'Encounter for general adult medical examination without abnormal findings',\n",
              " 'Encounter for examination for admission to educational institution']"
            ]
          },
          "metadata": {},
          "execution_count": 63
        }
      ]
    },
    {
      "cell_type": "markdown",
      "source": [
        "##Extract Sentence"
      ],
      "metadata": {
        "id": "Oi983bTESKct"
      }
    },
    {
      "cell_type": "code",
      "source": [
        "# Load your PDF\n",
        "with open(\"Redacted_Sample.pdf\", \"rb\") as f:\n",
        "  pdf = pdftotext.PDF(f)\n",
        "\n",
        "pdf_text = \"\\n\\n\".join(pdf)\n",
        "# write text into file\n",
        "with open(\"ocr-extracted.txt\", \"a\") as f:\n",
        "  f.write(pdf_text)\n",
        "\n",
        "print(\"File is written\")"
      ],
      "metadata": {
        "colab": {
          "base_uri": "https://localhost:8080/"
        },
        "id": "gcQ62vnxSM29",
        "outputId": "2fa1a729-e122-4d31-9f9a-16ef9b6095d2"
      },
      "execution_count": 18,
      "outputs": [
        {
          "output_type": "stream",
          "name": "stdout",
          "text": [
            "File is written\n"
          ]
        }
      ]
    },
    {
      "cell_type": "code",
      "source": [
        "def extract_sentence(key_phrase_list, sample_text):\n",
        "  match_lists = []\n",
        "\n",
        "  for key_phrase in key_phrase_list:\n",
        "    for word in key_phrase.split():\n",
        "      if not word.lower() in stop_words:\n",
        "        match_list = re.findall(f\"([^.\\n]*?{word}[^.]*\\.)\", sample_text)\n",
        "        match_lists.extend(match_list)\n",
        "  return list(set(match_lists))"
      ],
      "metadata": {
        "id": "yRKqXK-vZx1K"
      },
      "execution_count": 19,
      "outputs": []
    },
    {
      "cell_type": "code",
      "source": [
        "def extract_sentence(key_phrase_list, sample_text):\n",
        "  match_lists = []\n",
        "\n",
        "  for key_phrase in key_phrase_list:\n",
        "    match_list = re.findall(f\"([^\\n]*?(?i){key_phrase}[^.]*\\.)\", sample_text)\n",
        "    match_lists.extend(match_list)\n",
        "  return list(set(match_lists))"
      ],
      "metadata": {
        "id": "5Pl1xdkXbEOV"
      },
      "execution_count": 65,
      "outputs": []
    },
    {
      "cell_type": "code",
      "source": [
        "%%time\n",
        "\n",
        "match_founds = extract_sentence(icd_kerword_list, pdf_text)\n",
        "len(match_founds)"
      ],
      "metadata": {
        "id": "jQT8Jb9kaQRK"
      },
      "execution_count": null,
      "outputs": []
    },
    {
      "cell_type": "code",
      "source": [
        "cleal_found_list = []\n",
        "for found in match_founds:\n",
        "  cleal_found_list.append(found.replace(\"\\n\", \"\"))\n",
        "cleal_found_list"
      ],
      "metadata": {
        "id": "Zs-uIXUncgNO"
      },
      "execution_count": null,
      "outputs": []
    },
    {
      "cell_type": "code",
      "source": [
        "len(cleal_found_list)"
      ],
      "metadata": {
        "id": "meZGRsrzMU7J",
        "outputId": "e492b1fb-dd49-45ab-fd81-94d801a8d907",
        "colab": {
          "base_uri": "https://localhost:8080/"
        }
      },
      "execution_count": 68,
      "outputs": [
        {
          "output_type": "execute_result",
          "data": {
            "text/plain": [
              "47"
            ]
          },
          "metadata": {},
          "execution_count": 68
        }
      ]
    },
    {
      "cell_type": "code",
      "source": [
        "# Step-6: Highlighting ICD-10 code and keyword into pdf\n",
        "pdf_output_file, txt_output_file = highlight_icd_code_and_keyword(page_code10_dict, \n",
        "                                                                  page_code9_dict, \n",
        "                                                                  cleal_found_list,\n",
        "                                                                  \"Redacted_Sample.pdf\", \n",
        "                                                                  \"Redacted_Sample_cords.txt\")\n",
        "print(f\"File[{pdf_output_file}] is saved after highlighting ICD-10 code and keyword\")\n",
        "print(f\"Highlighted coordinates are saved into [{txt_output_file}] file.\")"
      ],
      "metadata": {
        "id": "IsgIgN1hB528",
        "outputId": "6131161e-2ef9-4910-a7ac-b3a32dc59f3b",
        "colab": {
          "base_uri": "https://localhost:8080/"
        }
      },
      "execution_count": 69,
      "outputs": [
        {
          "output_type": "stream",
          "name": "stdout",
          "text": [
            "File[Redacted_Sample_output.pdf] is saved after highlighting ICD-10 code and keyword\n",
            "Highlighted coordinates are saved into [Redacted_Sample_cords.txt] file.\n"
          ]
        }
      ]
    },
    {
      "cell_type": "markdown",
      "source": [
        "##Searching & Highlighting"
      ],
      "metadata": {
        "id": "TycHgKTZJ6a6"
      }
    },
    {
      "cell_type": "code",
      "source": [
        "# Step-0: Load prerequisite instance\n",
        "# create nlp instance\n",
        "nlp_keyword = spacy.load('en_core_web_sm')\n",
        "\n",
        "# loading and updating patterns for ICD-10 code\n",
        "nlp_code10 = English()\n",
        "nlp_code10.add_pipe(\"entity_ruler\").from_disk(\"./icd10_code_patterns-v3.jsonl\")\n",
        "\n",
        "# loading and updating patterns for ICD-9 code\n",
        "nlp_code9 = English()\n",
        "nlp_code9.add_pipe(\"entity_ruler\").from_disk(\"./icd9_code_patterns-v1.jsonl\")"
      ],
      "metadata": {
        "id": "TWMPYgIJJ8xG"
      },
      "execution_count": null,
      "outputs": []
    },
    {
      "cell_type": "code",
      "source": [
        "%%time\n",
        "\n",
        "for pdf_file in os.listdir(ocr_pdf_files_path):\n",
        "  pdf_file_name = f\"{ocr_pdf_files_path}/{pdf_file}\"\n",
        "  cords_file_name = f\"{pdf_file_name.split('.')[0]}_cords.txt\"\n",
        "\n",
        "  # Step-1: splitting pdf file\n",
        "  pdf_list = split_pdf(pdf_file_name)\n",
        "\n",
        "  # Step-2: Extracting text from pdf\n",
        "  txt_list = extract_text_from_pdf(pdf_list)\n",
        "\n",
        "  # Step-3: Searching ICD-10 code\n",
        "  icd10_code_dict = search_icd_code(txt_list, nlp_code10, code_type=\"ICD-10\")\n",
        "\n",
        "  # Step-4: Searching ICD-9 code\n",
        "  page_code9_dict = search_icd_code(txt_list, nlp_code9, code_type=\"ICD-9\")\n",
        "\n",
        "  # Step-5: Searching ICD-10 keyword\n",
        "  wrong_keyword_dict = get_wrong_keyword_dict(txt_list)\n",
        "  # wrong_keyword_dict = get_wrong_keyword_dict_with_thread(txt_list)\n",
        "  # wrong_keyword_dict = get_wrong_keyword_dict_with_process(txt_list)\n",
        "  # print(\"After sorting:\\n\", wrong_keyword_dict)\n",
        "\n",
        "  # Step-6: Highlighting ICD-10 code and keyword into pdf\n",
        "  pdf_output_file, txt_output_file = highlight_icd_code_and_keyword(icd10_code_dict, \n",
        "                                                                    page_code9_dict, \n",
        "                                                                    wrong_keyword_dict,\n",
        "                                                                    pdf_file_name, \n",
        "                                                                    cords_file_name)\n",
        "  print(f\"File[{pdf_output_file}] is saved after highlighting ICD-10 code and keyword\")\n",
        "  print(f\"Highlighted coordinates are saved into [{txt_output_file}] file.\")\n",
        "\n",
        "  # remove all pdf and text files\n",
        "  purge(\"pdf-files/*.pdf\")\n",
        "  purge(\"txt-files/*.txt\")\n",
        "  pdf_list = []\n",
        "  txt_list = []"
      ],
      "metadata": {
        "id": "AA7AygDDy06C"
      },
      "execution_count": null,
      "outputs": []
    },
    {
      "cell_type": "code",
      "source": [
        "!rm -rf ocr-pdf-files\n",
        "!mkdir -p ocr-pdf-files"
      ],
      "metadata": {
        "id": "kbTuptfC1xrl"
      },
      "execution_count": null,
      "outputs": []
    },
    {
      "cell_type": "code",
      "source": [
        "purge(\"ocr-pdf-files/*.txt\")\n",
        "purge(\"ocr-pdf-files/*_output.pdf\")\n",
        "purge(\"pdf-files/*.pdf\")\n",
        "purge(\"txt-files/*.txt\")"
      ],
      "metadata": {
        "id": "l06JNkJQ1yGT"
      },
      "execution_count": null,
      "outputs": []
    },
    {
      "cell_type": "code",
      "source": [
        "!zip output.zip ocr-pdf-files/*_output_cords.txt ocr-pdf-files/*_output_output.pdf"
      ],
      "metadata": {
        "id": "rZI3lkYT1zxq"
      },
      "execution_count": null,
      "outputs": []
    }
  ]
}