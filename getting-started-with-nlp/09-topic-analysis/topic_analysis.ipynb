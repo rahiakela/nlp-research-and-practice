{
  "nbformat": 4,
  "nbformat_minor": 0,
  "metadata": {
    "colab": {
      "name": "topic-analysis.ipynb",
      "provenance": [],
      "toc_visible": true,
      "include_colab_link": true
    },
    "kernelspec": {
      "name": "python3",
      "display_name": "Python 3"
    },
    "language_info": {
      "name": "python"
    }
  },
  "cells": [
    {
      "cell_type": "markdown",
      "metadata": {
        "id": "view-in-github",
        "colab_type": "text"
      },
      "source": [
        "<a href=\"https://colab.research.google.com/github/rahiakela/nlp-research-and-practice/blob/main/getting-started-with-nlp/09-topic-analysis/topic_analysis.ipynb\" target=\"_parent\"><img src=\"https://colab.research.google.com/assets/colab-badge.svg\" alt=\"Open In Colab\"/></a>"
      ]
    },
    {
      "cell_type": "markdown",
      "source": [
        "##Topic Analysis"
      ],
      "metadata": {
        "id": "KNfBwCp922nA"
      }
    },
    {
      "cell_type": "markdown",
      "source": [
        "In this notebook, you will work with one more application of\n",
        "this powerful framework – topic classification.\n",
        "\n",
        "Let’s start with a scenario: suppose you work\n",
        "as a content manager for a large news platform. Your platform hosts texts from a wide\n",
        "variety of authors and mainly specializes in the following set of well-established topics:\n",
        "“Politics”, “Finance”, “Science”, “Sports”, and “Arts”. Your task is to decide, for every\n",
        "incoming article, which topic it belongs to and post it under the relevant tab on the platform.\n",
        "\n",
        "This scenario relates to the task that we can broadly define as topic analysis.\n",
        "\n",
        "Imagine\n",
        "that the content on your platform doesn’t stay the same all the time – new topics may\n",
        "emerge in the data.\n",
        "\n",
        "Unfortunately, if you wanted to train a classification model to cover\n",
        "these topics in a supervised manner, you will need labeled articles for these new topics as\n",
        "well.\n",
        "\n",
        "Data availability is the major bottleneck for supervised machine learning.\n",
        "\n",
        "Therefore, you need to learn about alternative ways of topic discovery and need to apply two unsupervised machine learning algorithms –\n",
        "\n",
        "* Clustering\n",
        "* Latent Dirichlet Allocation\n",
        "\n",
        "\n",
        "<img src='https://github.com/rahiakela/natural-language-processing-research-and-practice/blob/main/getting-started-with-nlp/09-topic-analysis/images/1.png?raw=1' width='600'/>"
      ],
      "metadata": {
        "id": "qbKLnvHa3DKG"
      }
    },
    {
      "cell_type": "markdown",
      "source": [
        "##Setup"
      ],
      "metadata": {
        "id": "TrK8SygW4mos"
      }
    },
    {
      "cell_type": "code",
      "source": [
        "from sklearn.feature_extraction.text import TfidfVectorizer\n",
        "from sklearn.naive_bayes import MultinomialNB\n",
        "\n",
        "from sklearn.decomposition import TruncatedSVD\n",
        "from sklearn.pipeline import make_pipeline\n",
        "from sklearn.preprocessing import Normalizer\n",
        "from sklearn.cluster import KMeans\n",
        "\n",
        "from sklearn import metrics\n",
        "from sklearn.metrics import ConfusionMatrixDisplay\n",
        "\n",
        "from sklearn.datasets import fetch_20newsgroups\n",
        "\n",
        "import random\n",
        "import numpy as np\n",
        "import matplotlib.pyplot as plt"
      ],
      "metadata": {
        "id": "XN5nbKtW4n1X"
      },
      "execution_count": 2,
      "outputs": []
    },
    {
      "cell_type": "markdown",
      "source": [
        "##Dataset"
      ],
      "metadata": {
        "id": "dZaXUkIc5q2C"
      }
    },
    {
      "cell_type": "code",
      "source": [
        "def load_dataset(subsets, cats):\n",
        "  dataset = fetch_20newsgroups(subset=subsets, categories=cats, remove=(\"headers\", \"footers\", \"quotes\"), shuffle=True)\n",
        "  return dataset"
      ],
      "metadata": {
        "id": "j4GtrPgf5r9C"
      },
      "execution_count": 3,
      "outputs": []
    },
    {
      "cell_type": "code",
      "source": [
        "categories = [\"comp.windows.x\", \"misc.forsale\", \"rec.autos\", \"rec.motorcycles\", \"rec.sport.baseball\"]\n",
        "categories += [\"rec.sport.hockey\", \"sci.crypt\", \"sci.med\", \"sci.space\", \"talk.politics.mideast\"]\n",
        "\n",
        "newsgroups_train = load_dataset(\"train\", categories)\n",
        "newsgroups_test = load_dataset(\"test\", categories)"
      ],
      "metadata": {
        "id": "--Qi6MSi6PbA"
      },
      "execution_count": 4,
      "outputs": []
    },
    {
      "cell_type": "code",
      "source": [
        "# Let's check our uploaded data subsets\n",
        "def check_data(dataset):\n",
        "  print(list(dataset.target_names))\n",
        "  print(dataset.filenames.shape)\n",
        "  print(dataset.target.shape)\n",
        "\n",
        "  if dataset.filenames.shape[0] == dataset.target.shape[0]:\n",
        "    print(\"Equal sizes for data and targets\")\n",
        "\n",
        "  print(dataset.filenames[0])\n",
        "  print(dataset.data[0])\n",
        "  print(dataset.target[:10])"
      ],
      "metadata": {
        "id": "_0w5aZyU7Yj0"
      },
      "execution_count": 5,
      "outputs": []
    },
    {
      "cell_type": "code",
      "source": [
        "check_data(newsgroups_train)\n",
        "print(\"\\n***\\n\")\n",
        "check_data(newsgroups_test)"
      ],
      "metadata": {
        "id": "6A8TOcAT8STP",
        "outputId": "d2804ea7-6a3a-440e-c8bd-a615b032ebd3",
        "colab": {
          "base_uri": "https://localhost:8080/"
        }
      },
      "execution_count": 6,
      "outputs": [
        {
          "output_type": "stream",
          "name": "stdout",
          "text": [
            "['comp.windows.x', 'misc.forsale', 'rec.autos', 'rec.motorcycles', 'rec.sport.baseball', 'rec.sport.hockey', 'sci.crypt', 'sci.med', 'sci.space', 'talk.politics.mideast']\n",
            "(5913,)\n",
            "(5913,)\n",
            "Equal sizes for data and targets\n",
            "/root/scikit_learn_data/20news_home/20news-bydate-train/rec.sport.baseball/102665\n",
            "I have posted the logos of the NL East teams to alt.binaries.pictures.misc \n",
            " Hopefully, I'll finish the series up next week with the NL West.\n",
            "\n",
            " Darren\n",
            "\n",
            "[4 3 9 7 4 3 0 5 7 8]\n",
            "\n",
            "***\n",
            "\n",
            "['comp.windows.x', 'misc.forsale', 'rec.autos', 'rec.motorcycles', 'rec.sport.baseball', 'rec.sport.hockey', 'sci.crypt', 'sci.med', 'sci.space', 'talk.politics.mideast']\n",
            "(3937,)\n",
            "(3937,)\n",
            "Equal sizes for data and targets\n",
            "/root/scikit_learn_data/20news_home/20news-bydate-test/misc.forsale/76785\n",
            "As the title says. I would like to sell my Star LV2010 9 pin printer.\n",
            "Its a narrow colum dot matrix, supports both parallel and serial\n",
            "interfacing, prints at 200 characters per second, has a 16K buffer, \n",
            "and is very dependable...\n",
            "\n",
            "Drop some mail if your interested in it. $55 Plus shipping get the\n",
            "printer, and 6 extra srink-wraped ribbons, parallel connection\n",
            "cable, power cord, manual, and ONE sheet of paper (smile)...\n",
            "[1 7 2 5 3 5 7 3 0 2]\n"
          ]
        }
      ]
    },
    {
      "cell_type": "markdown",
      "source": [
        "##Naïve Bayes classifier"
      ],
      "metadata": {
        "id": "MOZUHcvP9whf"
      }
    },
    {
      "cell_type": "markdown",
      "source": [
        "Topic classification\n",
        "task on the basis of word occurrences boils down to recognizing which topic a text may\n",
        "belong to based on which words are used in this text.\n",
        "\n",
        "TF-IDF is a technique that allows you to downweigh terms\n",
        "that occur frequently across many documents and upvalue terms that occur frequently only\n",
        "in some documents but not across the whole collection."
      ],
      "metadata": {
        "id": "ZnquC4b197i6"
      }
    },
    {
      "cell_type": "code",
      "source": [
        "# apply TfidfVectorizer and convert texts into vectors\n",
        "def text2vec(vectorizer, train_set, test_set):\n",
        "  # estimates tf-idf weights on the training data and then applies them to the test data\n",
        "  vectors_train = vectorizer.fit_transform(train_set.data)\n",
        "  vectors_test = vectorizer.transform(test_set.data)\n",
        "  return vectors_train, vectors_test"
      ],
      "metadata": {
        "id": "-N-AXf91sHYR"
      },
      "execution_count": 7,
      "outputs": []
    },
    {
      "cell_type": "code",
      "source": [
        "vectorizer = TfidfVectorizer(stop_words=\"english\")\n",
        "\n",
        "vectors_train, vectors_test = text2vec(vectorizer, newsgroups_train, newsgroups_test)\n",
        "\n",
        "print(vectors_train.shape)\n",
        "print(vectors_test.shape)\n",
        "print(vectors_train[0])\n",
        "print(vectorizer.get_feature_names_out()[33404])"
      ],
      "metadata": {
        "id": "XPYmS0AJsZ7r",
        "outputId": "534786d8-521f-40cf-c0b1-bf4bccfb82d4",
        "colab": {
          "base_uri": "https://localhost:8080/"
        }
      },
      "execution_count": 8,
      "outputs": [
        {
          "output_type": "stream",
          "name": "stdout",
          "text": [
            "(5913, 52746)\n",
            "(3937, 52746)\n",
            "  (0, 36985)\t0.1806134526365663\n",
            "  (0, 29330)\t0.32348469409130415\n",
            "  (0, 33404)\t0.47274197987346267\n",
            "  (0, 17820)\t0.1996672692556469\n",
            "  (0, 46098)\t0.18751137951875305\n",
            "  (0, 6736)\t0.23045715683316248\n",
            "  (0, 9616)\t0.2606508810838842\n",
            "  (0, 36274)\t0.23637098993673133\n",
            "  (0, 31546)\t0.21952696479551445\n",
            "  (0, 24214)\t0.23045715683316248\n",
            "  (0, 29215)\t0.14244326085583361\n",
            "  (0, 20349)\t0.2372918776268056\n",
            "  (0, 42031)\t0.1891577831889085\n",
            "  (0, 50435)\t0.1817612919269656\n",
            "  (0, 50534)\t0.20153071455804605\n",
            "  (0, 15218)\t0.31618146678372416\n",
            "nl\n"
          ]
        }
      ]
    },
    {
      "cell_type": "code",
      "source": [
        "print(vectorizer.get_feature_names_out()[15218])"
      ],
      "metadata": {
        "id": "XKfsG0aytzlG",
        "outputId": "4515518d-ab9d-4c9a-9d79-20405bb3c37f",
        "colab": {
          "base_uri": "https://localhost:8080/"
        }
      },
      "execution_count": 9,
      "outputs": [
        {
          "output_type": "stream",
          "name": "stdout",
          "text": [
            "darren\n"
          ]
        }
      ]
    },
    {
      "cell_type": "code",
      "source": [
        "print(vectorizer.get_feature_names_out()[50534])"
      ],
      "metadata": {
        "id": "cNnb2YdFt3JX",
        "outputId": "ac9cdd9d-2e9d-4c5c-da30-39cd8f2c3e8c",
        "colab": {
          "base_uri": "https://localhost:8080/"
        }
      },
      "execution_count": 10,
      "outputs": [
        {
          "output_type": "stream",
          "name": "stdout",
          "text": [
            "west\n"
          ]
        }
      ]
    },
    {
      "cell_type": "code",
      "source": [
        "# perform topic classification with the Naïve Bayes classifier\n",
        "clf = MultinomialNB(alpha=0.1)  # Initialize the algorithm. Alpha parameter controls smoothing\n",
        "clf.fit(vectors_train, newsgroups_train.target)\n",
        "predictions = clf.predict(vectors_test)"
      ],
      "metadata": {
        "id": "eulK3ivf4um6"
      },
      "execution_count": 11,
      "outputs": []
    },
    {
      "cell_type": "code",
      "source": [
        "# evaluate the results for this approach\n",
        "def show_top(classifier, categories, vectorizer, n):\n",
        "  feature_names = np.asarray(vectorizer.get_feature_names_out())\n",
        "  for i, category in enumerate(categories):\n",
        "    # returns a list of probabilities for the features and sorts this list in the increasing order\n",
        "    top = np.argsort(classifier.feature_log_prob_[i])[-n:]\n",
        "    print(f\"{category}-{' '.join(feature_names[top])}\")"
      ],
      "metadata": {
        "id": "IdIRoVG3BFMz"
      },
      "execution_count": 14,
      "outputs": []
    },
    {
      "cell_type": "code",
      "source": [
        "# print out the full classification_report as well as the top 10 informative features per category\n",
        "full_report = metrics.classification_report(newsgroups_test.target,\n",
        "                                            predictions,\n",
        "                                            target_names=newsgroups_test.target_names)\n",
        "print(full_report)\n",
        "show_top(clf, categories, vectorizer, 10)"
      ],
      "metadata": {
        "id": "8LTfdywjC2qL",
        "outputId": "1ce4233e-0b77-4314-c77f-3c91a20982d7",
        "colab": {
          "base_uri": "https://localhost:8080/"
        }
      },
      "execution_count": 15,
      "outputs": [
        {
          "output_type": "stream",
          "name": "stdout",
          "text": [
            "                       precision    recall  f1-score   support\n",
            "\n",
            "       comp.windows.x       0.92      0.90      0.91       395\n",
            "         misc.forsale       0.88      0.87      0.87       390\n",
            "            rec.autos       0.83      0.78      0.80       396\n",
            "      rec.motorcycles       0.85      0.80      0.83       398\n",
            "   rec.sport.baseball       0.92      0.84      0.88       397\n",
            "     rec.sport.hockey       0.71      0.94      0.81       399\n",
            "            sci.crypt       0.82      0.85      0.83       396\n",
            "              sci.med       0.92      0.82      0.87       396\n",
            "            sci.space       0.86      0.82      0.84       394\n",
            "talk.politics.mideast       0.86      0.90      0.88       376\n",
            "\n",
            "             accuracy                           0.85      3937\n",
            "            macro avg       0.86      0.85      0.85      3937\n",
            "         weighted avg       0.86      0.85      0.85      3937\n",
            "\n",
            "comp.windows.x-program using application windows widget use thanks motif server window\n",
            "misc.forsale-asking email sell price condition new shipping offer 00 sale\n",
            "rec.autos-know don new good dealer engine just like cars car\n",
            "rec.motorcycles-don helmet riding just like motorcycle ride bikes dod bike\n",
            "rec.sport.baseball-braves pitching hit think runs games game baseball team year\n",
            "rec.sport.hockey-think year nhl season games players play hockey team game\n",
            "sci.crypt-escrow people use nsa keys government clipper chip encryption key\n",
            "sci.med-cadre dsl chastity n3jxp skepticism banks pitt geb gordon msg\n",
            "sci.space-lunar just shuttle earth like moon orbit launch nasa space\n",
            "talk.politics.mideast-just said arab turkish armenians people armenian jews israeli israel\n"
          ]
        }
      ]
    },
    {
      "cell_type": "code",
      "source": [
        "# explore the classifier’s errors and confusions\n",
        "classifier = clf.fit(vectors_train, newsgroups_train.target)\n",
        "\n",
        "disp = ConfusionMatrixDisplay.from_estimator(classifier,\n",
        "                             vectors_test,\n",
        "                             newsgroups_test.target,\n",
        "                             values_format=\"0.0f\",\n",
        "                             cmap=plt.cm.Blues)\n",
        "print(disp.confusion_matrix)\n",
        "plt.show()\n",
        "\n",
        "for i, category in enumerate(newsgroups_train.target_names):\n",
        "  print(i, category)"
      ],
      "metadata": {
        "id": "lnFHg5YuKxUG",
        "outputId": "7cded609-5abf-4f5b-d666-951daf651285",
        "colab": {
          "base_uri": "https://localhost:8080/",
          "height": 806
        }
      },
      "execution_count": 16,
      "outputs": [
        {
          "output_type": "stream",
          "name": "stdout",
          "text": [
            "[[355   8   2   2   1   8  12   2   5   0]\n",
            " [  3 339  16   9   4  11   2   1   5   0]\n",
            " [  0   9 308  25   3  27   7   3   9   5]\n",
            " [  2   8  26 320   4  15   9   4   6   4]\n",
            " [  3   7   0   2 333  33   4   5   2   8]\n",
            " [  1   0   0   2   6 374   8   2   2   4]\n",
            " [  9   7   3   3   2  18 335   2   7  10]\n",
            " [  2   4   9   5   3  17   7 324  13  12]\n",
            " [  9   3   7   2   3  18  11   6 324  11]\n",
            " [  2   0   2   7   2   9  13   2   2 337]]\n"
          ]
        },
        {
          "output_type": "display_data",
          "data": {
            "text/plain": [
              "<Figure size 640x480 with 2 Axes>"
            ],
            "image/png": "[encoded data removed]"
          },
          "metadata": {}
        },
        {
          "output_type": "stream",
          "name": "stdout",
          "text": [
            "0 comp.windows.x\n",
            "1 misc.forsale\n",
            "2 rec.autos\n",
            "3 rec.motorcycles\n",
            "4 rec.sport.baseball\n",
            "5 rec.sport.hockey\n",
            "6 sci.crypt\n",
            "7 sci.med\n",
            "8 sci.space\n",
            "9 talk.politics.mideast\n"
          ]
        }
      ]
    },
    {
      "cell_type": "markdown",
      "source": [
        "##Data preparation for unsupervised approach"
      ],
      "metadata": {
        "id": "NKb8On9c9gY_"
      }
    },
    {
      "cell_type": "markdown",
      "source": [
        "By using unsupervised algorithm, we will try to identify such\n",
        "representative object with the averaged values for the features across the group, and cluster\n",
        "other objects from the same group around this central point.\n",
        "\n",
        "Such representative object is\n",
        "technically called centroid, and this particular unsupervised approach is called clustering.\n",
        "\n",
        "How do you actually calculate the distance between the points?\n",
        "\n",
        "Euclidean distance  calculate the sum of squared differences between\n",
        "the relevant coordinates of the points, and then take the square root of this sum."
      ],
      "metadata": {
        "id": "nSK3HNmr9hed"
      }
    },
    {
      "cell_type": "code",
      "source": [
        "# prepare the data for clustering\n",
        "random.seed(42)\n",
        "\n",
        "# Since clustering is an unsupervised technique, we don’t have to separate the data into two sets, so let’s combine them together in one set\n",
        "all_news = list(zip(newsgroups_train.data, newsgroups_train.target))\n",
        "all_news += list(zip(newsgroups_test.data, newsgroups_test.target))\n",
        "random.shuffle(all_news)\n",
        "\n",
        "# Store the contents and labels separately\n",
        "all_news_data = [text for (text, label) in all_news]\n",
        "all_news_labels = [label for (text, label) in all_news]\n",
        "\n",
        "print(\"Data:\")\n",
        "print(f\"{str(len(all_news_data))} posts in  {str(np.unique(all_news_labels).shape[0])} categories\\n\")\n",
        "\n",
        "print(\"Labels:\")\n",
        "print(all_news_labels[:10])\n",
        "num_clusters = np.unique(all_news_labels).shape[0]\n",
        "print(f\"Assumed number of clusters: {str(num_clusters)}\")"
      ],
      "metadata": {
        "id": "AxsA0qAt-V_q",
        "outputId": "149df7c5-d4cd-4e09-e2a2-16f3e2284d85",
        "colab": {
          "base_uri": "https://localhost:8080/"
        }
      },
      "execution_count": null,
      "outputs": [
        {
          "output_type": "stream",
          "name": "stdout",
          "text": [
            "Data:\n",
            "9850 posts in  10 categories\n",
            "\n",
            "Labels:\n",
            "[2, 6, 1, 9, 0, 5, 1, 2, 9, 0]\n",
            "Assumed number of clusters: 10\n"
          ]
        }
      ]
    },
    {
      "cell_type": "markdown",
      "source": [
        "So now, we will approach the task in an unsupervised manner: our algorithm will be working with the `9,850` posts in `all_news_data`, and it will not get access to the labels contained in `all_news_labels`, although you can use them at the very last, evaluation, step."
      ],
      "metadata": {
        "id": "vAXiM0d2A8C-"
      }
    },
    {
      "cell_type": "markdown",
      "source": [
        "##Singular Value Decomposition"
      ],
      "metadata": {
        "id": "vmbOLzBCBe4C"
      }
    },
    {
      "cell_type": "markdown",
      "source": [
        "The goal of the SVD algorithm is to significantly reduce data dimensionality to help\n",
        "expensive algorithms like clustering deal with it more efficiently, while keeping as much of\n",
        "the valuable information in the reduced data as possible.\n",
        "\n",
        "That is, when SVD reduces the data\n",
        "from over 30,000 columns to 300 (thus keeping essentially about 1%), it doesn’t just throw\n",
        "away the other 99% of the data. Instead, it tries to “distil” and “summarize” the information\n",
        "contained in the original huge matrix down to a much smaller number of dimensions.\n",
        "\n",
        "In general, SVD tries to simplify a big matrix representation by decomposing it into 3\n",
        "smaller ones in such a way that when you multiply these 3 smaller matrices you get back the\n",
        "original one.\n",
        "\n",
        "You can think of this as somewhat similar to “decomposing” a number like 24\n",
        "into 4, 3, and 2, as when you multiply these numbers you get the original number back: i.e.,\n",
        "4*3*2 = 24.\n",
        "\n",
        "<img src='https://github.com/rahiakela/natural-language-processing-research-and-practice/blob/main/getting-started-with-nlp/09-topic-analysis/images/3.png?raw=1' width='600'/>\n",
        "\n",
        "You start with a matrix of 9,850 rows (representing posts) and 33,976 columns\n",
        "(representing words occurring in these posts, that you would like to use as features) – that is\n",
        "what the original matrix on the left contains in its m-by-n dimensions (in this case, `9,850-by-33,976`).\n",
        "\n",
        "This is exactly what SVD is trying to achieve: the matrix of m rows by k columns (where the notation `k<<n` means that k is considerably smaller than the original n, as for instance `300<<33,976`) represents the original m (9,850) posts using k (300) concepts, which are also often called latent factors – in other words, factors that are hidden from the naked eye.\n",
        "\n",
        "<img src='https://github.com/rahiakela/natural-language-processing-research-and-practice/blob/main/getting-started-with-nlp/09-topic-analysis/images/4.png?raw=1' width='600'/>\n",
        "\n",
        "The second matrix, `k-by-k (300-by-300)`, encodes how such latent factors correspond to\n",
        "each other; finally, the third one, `k-by-n (300-by-33,976)`, tells you how to interpret the\n",
        "relations between the latent factors (or concepts) and the original n words.\n",
        "\n",
        "The beauty of the\n",
        "algorithm is that you can always get back the original m-by-n matrix by multiplying the 3\n",
        "smaller matrices, and you don’t need to estimate these constituent matrices yourself – the\n",
        "algorithm does it for you.\n",
        "\n",
        "What are these k latent factors then and how to select them?\n",
        "\n",
        "These factors are the most\n",
        "prominent (i.e., salient) concepts that the algorithm finds in the data, ordered by their\n",
        "importance starting with the most prominent one.\n",
        "\n",
        "\n",
        "\n"
      ],
      "metadata": {
        "id": "2WILuDb9xhHl"
      }
    },
    {
      "cell_type": "markdown",
      "source": [
        "Since the original dimensionality of the data is prohibitively large to allow for efficient clustering,\n",
        "\n",
        "let's reduce its dimensionality using `Singular Value Decomposition`:"
      ],
      "metadata": {
        "id": "cwpTvX9X7kGV"
      }
    },
    {
      "cell_type": "code",
      "source": [
        "vectorizer = TfidfVectorizer(min_df=2, max_df=0.5, stop_words=\"english\", use_idf=True)\n",
        "\n",
        "def transform(data, vectorizer, dimensions):\n",
        "  transformed_data = vectorizer.fit_transform(data)\n",
        "  print(f\"Transformed data contains: {str(transformed_data.shape[0])} with {str(transformed_data.shape[1])} features.\")\n",
        "\n",
        "  svd = TruncatedSVD(dimensions)\n",
        "  pipeline = make_pipeline(svd, Normalizer(copy=False))\n",
        "  reduced_data = pipeline.fit_transform(transformed_data)\n",
        "\n",
        "  return reduced_data, svd"
      ],
      "metadata": {
        "id": "C98hMYjO7rb5"
      },
      "execution_count": null,
      "outputs": []
    },
    {
      "cell_type": "code",
      "source": [
        "reduced_data, svd = transform(all_news_data, vectorizer, 300)\n",
        "print(f\"Reduced data contains: {str(reduced_data.shape[0])} with {str(reduced_data.shape[1])} features.\")"
      ],
      "metadata": {
        "id": "NZsri1569LKO",
        "outputId": "cb041f95-5ca1-484e-daba-5c7c70035a8e",
        "colab": {
          "base_uri": "https://localhost:8080/"
        }
      },
      "execution_count": null,
      "outputs": [
        {
          "output_type": "stream",
          "name": "stdout",
          "text": [
            "Transformed data contains: 9850 with 33976 features.\n",
            "Reduced data contains: 9850 with 300 features.\n"
          ]
        }
      ]
    },
    {
      "cell_type": "markdown",
      "source": [
        "Now that the data is ready, let’s apply clustering algorithm."
      ],
      "metadata": {
        "id": "SvQQ6qZt7rt1"
      }
    },
    {
      "cell_type": "code",
      "source": [
        "# run the KMeans clustering algorithm\n",
        "def cluster(data, num_clusters):\n",
        "  km = KMeans(n_clusters=num_clusters, init=\"k-means++\", max_iter=100, random_state=0)\n",
        "  km.fit(data)\n",
        "  return km"
      ],
      "metadata": {
        "id": "Twceppz96YdS"
      },
      "execution_count": null,
      "outputs": []
    },
    {
      "cell_type": "code",
      "source": [
        "km = cluster(reduced_data, num_clusters)"
      ],
      "metadata": {
        "id": "CCWriaSV7QuP"
      },
      "execution_count": null,
      "outputs": []
    },
    {
      "cell_type": "markdown",
      "source": [
        "Note that here you use an\n",
        "insight about the number of clusters you are looking for: you try to cluster the posts into 10\n",
        "clusters because you assume, based on the input data, that there are roughly 10 topics here."
      ],
      "metadata": {
        "id": "OMp8L8JH-Ke5"
      }
    },
    {
      "cell_type": "markdown",
      "source": [
        "##Evaluation of the topic clustering algorithm"
      ],
      "metadata": {
        "id": "0ybwPFSJ-OzG"
      }
    },
    {
      "cell_type": "markdown",
      "source": [
        "Clustering algorithms can be evaluated using homogeneity (an alternative for\n",
        "precision in the unsupervised ML setting), completeness (alternative to recall), and vmeasure\n",
        "(alternative to F-score).\n",
        "\n",
        "In addition, the informative words that helped the\n",
        "clustering algorithm identify each cluster’s centroid can be extracted and analyzed.\n",
        "Based on these words, you can interpret the results: for instance, reason about the\n",
        "clusters identified in the data and how they correspond to the labeled topics.\n",
        "\n",
        "Let’s see what results you get for the clustering algorithm."
      ],
      "metadata": {
        "id": "ML3FfMUp-PpR"
      }
    },
    {
      "cell_type": "code",
      "source": [
        "# evaluate the results obtained with the clustering algorithm\n",
        "def evaluate(km, labels, svd):\n",
        "  print(\"Clustering report:\\n\")\n",
        "  print(f\"* Homogeneity: {str(metrics.homogeneity_score(labels, km.labels_))}\")\n",
        "  print(f\"* Completeness: {str(metrics.completeness_score(labels, km.labels_))}\")\n",
        "  print(f\"* V-measure: {str(metrics.v_measure_score(labels, km.labels_))}\")\n",
        "\n",
        "  print(\"\\nMost discriminative words per cluster:\")\n",
        "  # Get back the centroids\n",
        "  original_space_centroids = svd.inverse_transform(km.cluster_centers_)\n",
        "  # Sort them and return the matrix containing the list of most informative dimensions for the cluster centroids\n",
        "  order_centroids = original_space_centroids.argsort()[:, ::-1]\n",
        "\n",
        "  terms = vectorizer.get_feature_names()\n",
        "  for i in range(num_clusters):\n",
        "    print(f\"Cluster {str(i)} : \")\n",
        "    cl_terms = \"\"\n",
        "    for idx in order_centroids[i, :50]:\n",
        "      cl_terms += terms[idx] + \" \"\n",
        "    # Map them back to words\n",
        "    print(cl_terms + \"\\n\")"
      ],
      "metadata": {
        "id": "bT2Pa62o5_hf"
      },
      "execution_count": null,
      "outputs": []
    },
    {
      "cell_type": "code",
      "source": [
        "evaluate(km, all_news_labels, svd)\n",
        "\n",
        "print(\"\\nCategories:\")\n",
        "for i, category in enumerate(newsgroups_train.target_names):\n",
        "  print(\"*\", category)"
      ],
      "metadata": {
        "id": "bHM848HM9T81",
        "outputId": "1a1921a1-9563-4fa8-9ea5-297dcf161215",
        "colab": {
          "base_uri": "https://localhost:8080/"
        }
      },
      "execution_count": null,
      "outputs": [
        {
          "output_type": "stream",
          "name": "stdout",
          "text": [
            "Clustering report:\n",
            "\n",
            "* Homogeneity: 0.5055255205654755\n",
            "* Completeness: 0.6056584837503299\n",
            "* V-measure: 0.5510803234992664\n",
            "\n",
            "Most discriminative words per cluster:\n",
            "Cluster 0 : \n",
            "just like don know think does people thanks good edu right time new say ve com did make use mail sure got ll really way want actually list let used better need going read problem years thought probably question tell looking heard article post little doesn things cars stuff didn \n",
            "\n",
            "Cluster 1 : \n",
            "doctor disease medical msg patients know pain don cause cancer treatment food like people patient gordon body drug yeast candida good geb skepticism time effects pitt banks n3jxp dsl medicine cadre chastity diet intellect health ve shameful surrender just does edu effect help blood soon chronic think years problem infection \n",
            "\n",
            "Cluster 2 : \n",
            "space orbit launch nasa shuttle moon earth mission lunar solar satellite like hst spacecraft just cost think program time station know data use long don mars low years idea sky science satellites dc project new need people sun sci missions high going power technology money rocket mass things way work \n",
            "\n",
            "Cluster 3 : \n",
            "sale 00 offer shipping condition asking new interested email price drive sell card original mail 10 excellent edu 25 used best 50 brand monitor cd 20 meg box software includes make obo 15 manuals following disks disk modem old like model included power manual great 40 ram 30 hard games \n",
            "\n",
            "Cluster 4 : \n",
            "israel jews israeli armenian arab people jewish armenians arabs turkish war said muslims killed muslim state government just palestinian peace palestinians genocide did world turkey like armenia turks israelis 000 soldiers right don rights population land children anti human know fact think serbs greek time soviet villages say does way \n",
            "\n",
            "Cluster 5 : \n",
            "car cars engine new like ford just good miles dealer don know speed think ve time oil does driving drive power price buy really clutch convertible year used driver rear tires owner problem 000 make small way right auto mileage insurance got manual little looking better want bought need road \n",
            "\n",
            "Cluster 6 : \n",
            "bike ride bikes riding just like dod motorcycle don ve miles road helmet got turn rear good honda left thing advice right really know make engine new rider going work way time dog little buying countersteering gear need passenger ll did insurance want used think sure shaft cover thanks oil \n",
            "\n",
            "Cluster 7 : \n",
            "game team games year hockey players season play think don baseball win good player league teams like time espn nhl did hit just better fans best know really played series years night playing runs playoffs pens detroit going boston toronto great won bad goal pitching ll leafs way lot braves \n",
            "\n",
            "Cluster 8 : \n",
            "key chip clipper encryption government keys nsa escrow algorithm use people security des phone secure law public crypto privacy don secret encrypted just data enforcement bit know think number phones chips message using used like agencies wiretap make scheme way trust time rsa private court serial does fbi right communications \n",
            "\n",
            "Cluster 9 : \n",
            "window server motif use using thanks file windows widget application program display code x11r5 running does sun xterm problem set like hi help color run mit version x11 know ve work files openwindows error source screen manager user unix available want way advance client just xlib need lib appreciated include \n",
            "\n",
            "\n",
            "Categories:\n",
            "* comp.windows.x\n",
            "* misc.forsale\n",
            "* rec.autos\n",
            "* rec.motorcycles\n",
            "* rec.sport.baseball\n",
            "* rec.sport.hockey\n",
            "* sci.crypt\n",
            "* sci.med\n",
            "* sci.space\n",
            "* talk.politics.mideast\n"
          ]
        },
        {
          "output_type": "stream",
          "name": "stderr",
          "text": [
            "/usr/local/lib/python3.7/dist-packages/sklearn/utils/deprecation.py:87: FutureWarning: Function get_feature_names is deprecated; get_feature_names is deprecated in 1.0 and will be removed in 1.2. Please use get_feature_names_out instead.\n",
            "  warnings.warn(msg, category=FutureWarning)\n"
          ]
        }
      ]
    }
  ]
}