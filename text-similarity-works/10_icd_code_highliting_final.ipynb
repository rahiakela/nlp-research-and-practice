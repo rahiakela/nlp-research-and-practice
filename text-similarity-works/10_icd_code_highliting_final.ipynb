{
  "nbformat": 4,
  "nbformat_minor": 0,
  "metadata": {
    "colab": {
      "provenance": [],
      "authorship_tag": "ABX9TyOW/kRld7vchjKQQBsmU9No",
      "include_colab_link": true
    },
    "kernelspec": {
      "name": "python3",
      "display_name": "Python 3"
    },
    "language_info": {
      "name": "python"
    }
  },
  "cells": [
    {
      "cell_type": "markdown",
      "metadata": {
        "id": "view-in-github",
        "colab_type": "text"
      },
      "source": [
        "<a href=\"https://colab.research.google.com/github/rahiakela/natural-language-processing-research-and-practice/blob/main/text-similarity-works/10_icd_code_highliting_final.ipynb\" target=\"_parent\"><img src=\"https://colab.research.google.com/assets/colab-badge.svg\" alt=\"Open In Colab\"/></a>"
      ]
    },
    {
      "cell_type": "markdown",
      "source": [
        "Reference:\n",
        "\n",
        "[Rule-based entity recognition](https://spacy.io/usage/rule-based-matching#entityruler)\n",
        "\n",
        "[PDF-to-TEXT](https://pypi.org/project/pdftotext/)"
      ],
      "metadata": {
        "id": "TJK_fEUIOFzR"
      }
    },
    {
      "cell_type": "code",
      "source": [
        "!pip -q install spacy\n",
        "\n",
        "!pip install pillow\n",
        "\n",
        "!sudo apt install build-essential libpoppler-cpp-dev pkg-config python3-dev\n",
        "!pip install -U pdftotext\n",
        "!pip install PyPDF2\n",
        "!pip install fitz\n",
        "!pip install PyMuPDF"
      ],
      "metadata": {
        "id": "pz5PRAX8OGNv"
      },
      "execution_count": null,
      "outputs": []
    },
    {
      "cell_type": "markdown",
      "source": [
        "Just restart the colab environment."
      ],
      "metadata": {
        "id": "ZITES7Q7OO__"
      }
    },
    {
      "cell_type": "code",
      "source": [
        "import re\n",
        "import os\n",
        "import pandas as pd\n",
        "\n",
        "import fitz\n",
        "import pdftotext\n",
        "from PyPDF2 import PdfFileReader, PdfFileWriter\n",
        "\n",
        "from spacy.lang.en import English"
      ],
      "metadata": {
        "id": "Dw0L7GaHOPY7"
      },
      "execution_count": 1,
      "outputs": []
    },
    {
      "cell_type": "code",
      "source": [
        "!mkdir pdf-files\n",
        "!mkdir txt-files"
      ],
      "metadata": {
        "id": "ra1pZIETQsnZ"
      },
      "execution_count": 2,
      "outputs": []
    },
    {
      "cell_type": "code",
      "source": [
        "# create directory path\n",
        "pdf_files_path = \"pdf-files\"\n",
        "txt_files_path = \"txt-files\"\n",
        "\n",
        "# create nlp instance\n",
        "nlp = English()"
      ],
      "metadata": {
        "id": "pJPMVVKYOUGI"
      },
      "execution_count": 3,
      "outputs": []
    },
    {
      "cell_type": "markdown",
      "source": [
        "##Builing code pattern"
      ],
      "metadata": {
        "id": "1Gnt6chG5uNw"
      }
    },
    {
      "cell_type": "code",
      "source": [
        "def make_icd_10_code_pattern(icd_10_code_df):\n",
        "  patterns = []\n",
        "  for _, row in icd_10_code_df.iterrows():\n",
        "\n",
        "    # add default pattern\n",
        "    patterns.append({\"label\": \"ICD-10\", \"pattern\": row[\"Code\"]})\n",
        "\n",
        "    # create alternate pattern\n",
        "    code1 = code2 = code3 = code4 = \"\"\n",
        "    code_arr = row[\"Code\"].split(\".\")\n",
        "    if len(code_arr) > 1:\n",
        "      code1 = f\"{code_arr[0]}. {code_arr[1]}\"\n",
        "      code2 = f\"{code_arr[0]} .{code_arr[1]}\"\n",
        "      code3 = f\"{code_arr[0]} . {code_arr[1]}\"\n",
        "      code4 = f\"{code_arr[0]} {code_arr[1]}\"\n",
        "\n",
        "    for code_pattern in [code1, code2, code3, code4]:\n",
        "      patterns.append({\"label\": \"ICD-10\", \"pattern\": code_pattern})\n",
        "  return patterns"
      ],
      "metadata": {
        "id": "VQVvl5sY1sjh"
      },
      "execution_count": null,
      "outputs": []
    },
    {
      "cell_type": "code",
      "source": [
        "def make_icd_code_pattern(icd_code_df, code_type=\"ICD-10\"):\n",
        "  patterns = []\n",
        "  for _, row in icd_code_df.iterrows():\n",
        "\n",
        "    # add default pattern\n",
        "    patterns.append({\"label\": code_type, \"pattern\": row[\"Code\"]})\n",
        "\n",
        "    # create alternate pattern\n",
        "    code1 = code2 = code3 = code4 = code5 = \"\"\n",
        "    code_arr = row[\"Code\"].split(\".\")\n",
        "    if len(code_arr) > 1:\n",
        "      code1 = f\"{code_arr[0]}. {code_arr[1]}\"\n",
        "      code2 = f\"{code_arr[0]} .{code_arr[1]}\"\n",
        "      code3 = f\"{code_arr[0]} . {code_arr[1]}\"\n",
        "      code4 = f\"{code_arr[0]} {code_arr[1]}\"\n",
        "    # handle if the \".\" is missing\n",
        "    if code_type == \"ICD-9\":\n",
        "      code_arr = row[\"Code\"].split(\".\")\n",
        "      if len(code_arr) > 1:\n",
        "        code5 = row[\"Code\"].replace(\".\", \"\")\n",
        "    for code_pattern in [code1, code2, code3, code4, code5]:\n",
        "      patterns.append({\"label\": code_type, \"pattern\": code_pattern})\n",
        "  return patterns"
      ],
      "metadata": {
        "id": "a6qbayxkmHqA"
      },
      "execution_count": 6,
      "outputs": []
    },
    {
      "cell_type": "code",
      "source": [
        "icd_code_nodot_df = pd.read_csv(\"icd10codes_noDots.csv\")"
      ],
      "metadata": {
        "id": "Mt735f_V75D-"
      },
      "execution_count": null,
      "outputs": []
    },
    {
      "cell_type": "code",
      "source": [
        "icd_code_withdot_df = pd.read_csv(\"icd10codes_withDots.csv\")"
      ],
      "metadata": {
        "id": "1EYm-oom8HCv"
      },
      "execution_count": null,
      "outputs": []
    },
    {
      "cell_type": "code",
      "source": [
        "len(icd_code_nodot_df[\"Code\"]), len(icd_code_withdot_df[\"Code\"])"
      ],
      "metadata": {
        "id": "rGWU4XUSm08B"
      },
      "execution_count": null,
      "outputs": []
    },
    {
      "cell_type": "code",
      "source": [
        "icd_code_9_df = pd.read_csv(\"icd9_updatedcodes.csv\")"
      ],
      "metadata": {
        "id": "9o-xHaigmpKS"
      },
      "execution_count": null,
      "outputs": []
    },
    {
      "cell_type": "code",
      "source": [
        "len(icd_code_9_df)"
      ],
      "metadata": {
        "id": "LrmYpAEQmys3"
      },
      "execution_count": null,
      "outputs": []
    },
    {
      "cell_type": "code",
      "source": [
        "icd_code_9_df.to_csv(\"icd_9_codes-v1.csv\", index=False)"
      ],
      "metadata": {
        "id": "iQWU5H9Qm5D_"
      },
      "execution_count": null,
      "outputs": []
    },
    {
      "cell_type": "code",
      "source": [
        "icd_code_df = icd_code_withdot_df.append(icd_code_nodot_df)\n",
        "icd_code_df.to_csv(\"icd_10_codes-v2.csv\", index=False)"
      ],
      "metadata": {
        "id": "SmeXPXnB8raZ"
      },
      "execution_count": null,
      "outputs": []
    },
    {
      "cell_type": "code",
      "source": [
        "len(icd_code_df[\"Code\"]), len(icd_code_nodot_df[\"Code\"]) + len(icd_code_withdot_df[\"Code\"])"
      ],
      "metadata": {
        "id": "om-fhklxAzLh"
      },
      "execution_count": null,
      "outputs": []
    },
    {
      "cell_type": "code",
      "source": [
        "icd_code_df = icd_code_df.drop_duplicates()\n",
        "len(icd_code_df)"
      ],
      "metadata": {
        "id": "ia4ngns4-1OT"
      },
      "execution_count": null,
      "outputs": []
    },
    {
      "cell_type": "code",
      "source": [
        "del icd_code_df\n",
        "del icd_code_nodot_df\n",
        "del icd_code_withdot_df"
      ],
      "metadata": {
        "id": "Tyy7ny4RBnzi"
      },
      "execution_count": null,
      "outputs": []
    },
    {
      "cell_type": "code",
      "source": [
        "icd_code_v2_df = pd.read_csv(\"icd_10_codes-v2.csv\")\n",
        "icd_code_v2_df = icd_code_v2_df.drop_duplicates()\n",
        "patterns = make_icd_10_code_pattern(icd_code_v2_df)\n",
        "\n",
        "ruler = nlp.add_pipe(\"entity_ruler\")\n",
        "ruler.add_patterns(patterns)\n",
        "# save to json file\n",
        "ruler.to_disk(\"./icd10_code_patterns-v2.jsonl\")"
      ],
      "metadata": {
        "id": "IImzMP3l2rmS"
      },
      "execution_count": null,
      "outputs": []
    },
    {
      "cell_type": "code",
      "source": [
        "icd9_code_v1_df = pd.read_csv(\"icd_9_codes-v1.csv\")\n",
        "patterns = make_icd_code_pattern(icd9_code_v1_df, \"ICD-9\")\n",
        "\n",
        "ruler = nlp.add_pipe(\"entity_ruler\")\n",
        "ruler.add_patterns(patterns)\n",
        "# save to json file\n",
        "ruler.to_disk(\"./icd9_code_patterns-v1.jsonl\")"
      ],
      "metadata": {
        "id": "dMylF6SLnJdO"
      },
      "execution_count": 7,
      "outputs": []
    },
    {
      "cell_type": "code",
      "source": [
        "nlp.remove_pipe(\"entity_ruler\")"
      ],
      "metadata": {
        "id": "qGX8AhOX3ROx",
        "outputId": "aba61185-18b5-4a13-cdd6-7b594b3219b7",
        "colab": {
          "base_uri": "https://localhost:8080/"
        }
      },
      "execution_count": 8,
      "outputs": [
        {
          "output_type": "execute_result",
          "data": {
            "text/plain": [
              "('entity_ruler', <spacy.pipeline.entityruler.EntityRuler at 0x7fc874372230>)"
            ]
          },
          "metadata": {},
          "execution_count": 8
        }
      ]
    },
    {
      "cell_type": "markdown",
      "source": [
        "##Highlighting code"
      ],
      "metadata": {
        "id": "JtUvHBxcCtsn"
      }
    },
    {
      "cell_type": "code",
      "source": [
        "def split_pdf(pdf_path):\n",
        "  pdf_in_file = open(pdf_path, \"rb\")\n",
        "  pdf = PdfFileReader(pdf_in_file)\n",
        "  pdf_list = []\n",
        "  for page in range(pdf.numPages):\n",
        "    inputpdf = PdfFileReader(pdf_in_file)\n",
        "    output = PdfFileWriter()\n",
        "    output.addPage(inputpdf.getPage(page))\n",
        "    with open(f\"{pdf_files_path}/page-{page}.pdf\", \"wb\") as outputStream:\n",
        "        output.write(outputStream)\n",
        "        pdf_list.append(f\"page-{page}.pdf\")\n",
        "  return pdf_list\n",
        "\n",
        "\n",
        "def extract_text_from_pdf(pdf_list):\n",
        "  txt_file_list = []\n",
        "  i = 0\n",
        "  for pdf_file in pdf_list:\n",
        "    with open(os.path.join(pdf_files_path, pdf_file), \"rb\") as f:\n",
        "      pdf = pdftotext.PDF(f)\n",
        "\n",
        "    # Read all the text into one string\n",
        "    pdf_text = \"\\n\\n\".join(pdf)\n",
        "\n",
        "    # write text into file\n",
        "    with open(f\"{txt_files_path}/page-{str(i)}.txt\", \"a\") as f:\n",
        "      f.write(pdf_text)\n",
        "    txt_file_list.append(f\"{txt_files_path}/page-{str(i)}.txt\")\n",
        "    i += 1\n",
        "  return txt_file_list\n",
        "\n",
        "\n",
        "def get_opt_pattern(icd_10_code):\n",
        "  # create alternate pattern\n",
        "  code_arr = icd_10_code.split(\".\")\n",
        "  if len(code_arr) > 1:\n",
        "    code1 = f\"{code_arr[0]}. {code_arr[1]}\"\n",
        "    code2 = f\"{code_arr[0]} .{code_arr[1]}\"\n",
        "    code3 = f\"{code_arr[0]} . {code_arr[1]}\"\n",
        "    code4 = f\"{code_arr[0]} . {code_arr[1]}\"\n",
        "    return [code1, code2, code3, code4]\n",
        "  else:\n",
        "    return icd_10_code\n",
        "\n",
        "\n",
        "def highlight_icd_code(pdf_page_dict: dict, pdf_file_name: str, code_type=\"ICD-10\"):\n",
        "  pdf_file = fitz.open(pdf_file_name)\n",
        "\n",
        "  def highlight_pdf(highlight):\n",
        "    for inst in highlight:\n",
        "      highlight = page.add_highlight_annot(inst)\n",
        "      if code_type == \"ICD-9\":\n",
        "        highlight.set_colors(stroke=[1, 0.5, 0.8]) # light red color (r, g, b)\n",
        "      highlight.update()\n",
        "      highlight = page.search_for(text_to_be_highlighted)\n",
        "      # print(f\"Page-{page_num}: \", code, highlight, end='\\n')\n",
        "\n",
        "  for page_num, page in enumerate(pdf_file):\n",
        "    if page_num in pdf_page_dict:\n",
        "      for code in pdf_page_dict[page_num]:\n",
        "        text_to_be_highlighted = code\n",
        "        highlight = page.search_for(text_to_be_highlighted)\n",
        "        if len(highlight) == 0:\n",
        "          alternate_code_list = get_opt_pattern(code)\n",
        "          for alt_code in alternate_code_list:\n",
        "            text_to_be_highlighted = alt_code\n",
        "            highlight = page.search_for(text_to_be_highlighted)\n",
        "            # highlight pdf for option pattern\n",
        "            highlight_pdf(highlight)\n",
        "        # highlight pdf for main pattern\n",
        "        highlight_pdf(highlight)\n",
        "\n",
        "  output_pdf_file_name = f\"{pdf_file_name.split('.')[0]}_output.pdf\"\n",
        "  pdf_file.save(output_pdf_file_name, garbage=4, deflate=True, clean=True)\n",
        "  return output_pdf_file_name\n",
        "\n",
        "\n",
        "def search_icd_code(txt_list):\n",
        "  pdf_page_vocab = {}\n",
        "  for txt_file in txt_list:\n",
        "    with open(txt_file, \"r\") as f:\n",
        "      page_txt = f.read()\n",
        "      # filter the page that have line number instead of code\n",
        "      if not re.search(\"(P[ ][0-9]+)(,\\s)(L[0-9]+)\", page_txt):\n",
        "        doc = nlp(page_txt)\n",
        "        code_list = [ent.text for ent in doc.ents]\n",
        "        if len(code_list) != 0:\n",
        "          page_number = int(txt_file.split(\"/\")[1].split(\".\")[0].split(\"-\")[1])\n",
        "          pdf_page_vocab[page_number] = code_list\n",
        "          # print(f\"Page[{txt_file.split('/')[1]}]: {code_list}\")\n",
        "  return pdf_page_vocab"
      ],
      "metadata": {
        "id": "ML5_ULmqOXVW"
      },
      "execution_count": 9,
      "outputs": []
    },
    {
      "cell_type": "code",
      "source": [
        "# Step-1: splitting pdf file\n",
        "pdf_file_name = \"9929_final_output.pdf\"\n",
        "pdf_list = split_pdf(pdf_file_name)\n",
        "\n",
        "# Step-2: Extracting text from pdf\n",
        "txt_list = extract_text_from_pdf(pdf_list)"
      ],
      "metadata": {
        "id": "rfc9ocb1ObsQ"
      },
      "execution_count": 10,
      "outputs": []
    },
    {
      "cell_type": "code",
      "source": [
        "# Step-3: loading and updating patterns to Spacy\n",
        "nlp.add_pipe(\"entity_ruler\").from_disk(\"./icd10_code_patterns-v2.jsonl\")\n",
        "\n",
        "# Step-4: Searching ICD-10 code\n",
        "pdf_page_vocab = search_icd_code(txt_list)\n",
        "\n",
        "# Step-5: Highlighting ICD-10 code into pdf\n",
        "output_file_name = highlight_icd_code(pdf_page_vocab, pdf_file_name)\n",
        "print(f\"File[{output_file_name}] is saved after highlighting ICD-10 code\")"
      ],
      "metadata": {
        "id": "pcUfuT3QpTRy",
        "outputId": "f5005d5d-49b1-4986-c794-4e7afca2a564",
        "colab": {
          "base_uri": "https://localhost:8080/"
        }
      },
      "execution_count": 11,
      "outputs": [
        {
          "output_type": "stream",
          "name": "stdout",
          "text": [
            "File[9929_final_output_output.pdf] is saved after highlighting ICD-10 code\n"
          ]
        }
      ]
    },
    {
      "cell_type": "code",
      "source": [
        "nlp.remove_pipe(\"entity_ruler\")"
      ],
      "metadata": {
        "id": "IS3TNujFpsAJ",
        "outputId": "61f8a390-9a6f-4826-e0ab-b077bc87be7b",
        "colab": {
          "base_uri": "https://localhost:8080/"
        }
      },
      "execution_count": 12,
      "outputs": [
        {
          "output_type": "execute_result",
          "data": {
            "text/plain": [
              "('entity_ruler', <spacy.pipeline.entityruler.EntityRuler at 0x7fc873dd9690>)"
            ]
          },
          "metadata": {},
          "execution_count": 12
        }
      ]
    },
    {
      "cell_type": "code",
      "source": [
        "# Step-6: loading and updating patterns to Spacy\n",
        "nlp.add_pipe(\"entity_ruler\").from_disk(\"./icd9_code_patterns-v1.jsonl\")\n",
        "\n",
        "# Step-7: Searching ICD-9 code\n",
        "pdf_page_vocab = search_icd_code(txt_list)\n",
        "\n",
        "# Step-8: Highlighting ICD-9 code into pdf\n",
        "output_file_name = highlight_icd_code(pdf_page_vocab, output_file_name, code_type=\"ICD-9\")\n",
        "print(f\"File[{output_file_name}] is saved after highlighting ICD-10 code\")"
      ],
      "metadata": {
        "id": "P8KIWBZrpZIx",
        "outputId": "b9f3c6bb-786e-4617-d536-0512322c6d58",
        "colab": {
          "base_uri": "https://localhost:8080/"
        }
      },
      "execution_count": 13,
      "outputs": [
        {
          "output_type": "stream",
          "name": "stdout",
          "text": [
            "File[9929_final_output_output_output.pdf] is saved after highlighting ICD-10 code\n"
          ]
        }
      ]
    }
  ]
}