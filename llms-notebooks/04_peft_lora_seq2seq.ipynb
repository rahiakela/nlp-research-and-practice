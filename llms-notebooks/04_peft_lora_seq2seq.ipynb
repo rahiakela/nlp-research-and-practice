{
  "cells": [
    {
      "cell_type": "markdown",
      "metadata": {
        "id": "view-in-github",
        "colab_type": "text"
      },
      "source": [
        "<a href=\"https://colab.research.google.com/github/rahiakela/nlp-research-and-practice/blob/main/llms-notebooks/04_peft_lora_seq2seq.ipynb\" target=\"_parent\"><img src=\"https://colab.research.google.com/assets/colab-badge.svg\" alt=\"Open In Colab\"/></a>"
      ]
    },
    {
      "cell_type": "markdown",
      "source": [
        "##Setup"
      ],
      "metadata": {
        "id": "8pO5bzyqbjA8"
      },
      "id": "8pO5bzyqbjA8"
    },
    {
      "cell_type": "code",
      "source": [
        "!pip install -q bitsandbytes datasets accelerate loralib\n",
        "!pip install -q git+https://github.com/huggingface/transformers.git@main git+https://github.com/huggingface/peft.git"
      ],
      "metadata": {
        "id": "j07rsXAXbmPY"
      },
      "id": "j07rsXAXbmPY",
      "execution_count": null,
      "outputs": []
    },
    {
      "cell_type": "code",
      "source": [
        "from transformers import AutoModelForSeq2SeqLM\n",
        "from peft import get_peft_config, get_peft_model, get_peft_model_state_dict, LoraConfig, TaskType\n",
        "import torch\n",
        "from datasets import load_dataset\n",
        "import os\n",
        "\n",
        "os.environ[\"TOKENIZERS_PARALLELISM\"] = \"false\"\n",
        "from transformers import AutoTokenizer\n",
        "from torch.utils.data import DataLoader\n",
        "from transformers import default_data_collator, get_linear_schedule_with_warmup\n",
        "from tqdm import tqdm\n",
        "from datasets import load_dataset"
      ],
      "metadata": {
        "id": "eDe6SQ8rbe69"
      },
      "id": "eDe6SQ8rbe69",
      "execution_count": null,
      "outputs": []
    },
    {
      "cell_type": "code",
      "source": [
        "device = \"cuda\"\n",
        "model_name_or_path = \"bigscience/mt0-large\"\n",
        "tokenizer_name_or_path = \"bigscience/mt0-large\"\n",
        "\n",
        "checkpoint_name = \"financial_sentiment_analysis_lora_v1.pt\"\n",
        "text_column = \"sentence\"\n",
        "label_column = \"text_label\"\n",
        "max_length = 128\n",
        "lr = 1e-3\n",
        "num_epochs = 3\n",
        "batch_size = 8"
      ],
      "metadata": {
        "id": "EnqR-7dFbMJj"
      },
      "id": "EnqR-7dFbMJj",
      "execution_count": null,
      "outputs": []
    },
    {
      "cell_type": "markdown",
      "source": [
        "##Load model"
      ],
      "metadata": {
        "id": "C01hlAoMbrTo"
      },
      "id": "C01hlAoMbrTo"
    },
    {
      "cell_type": "code",
      "execution_count": null,
      "id": "8d0850ac",
      "metadata": {
        "id": "8d0850ac"
      },
      "outputs": [],
      "source": [
        "# creating model\n",
        "peft_config = LoraConfig(task_type=TaskType.SEQ_2_SEQ_LM, inference_mode=False, r=8, lora_alpha=32, lora_dropout=0.1)\n",
        "\n",
        "model = AutoModelForSeq2SeqLM.from_pretrained(model_name_or_path)\n",
        "model = get_peft_model(model, peft_config)"
      ]
    },
    {
      "cell_type": "code",
      "source": [
        "model.print_trainable_parameters()"
      ],
      "metadata": {
        "id": "0cbZ4ctqcaHu",
        "outputId": "f5589c0c-07e6-4ec1-f191-025997d7a296",
        "colab": {
          "base_uri": "https://localhost:8080/"
        }
      },
      "id": "0cbZ4ctqcaHu",
      "execution_count": null,
      "outputs": [
        {
          "output_type": "stream",
          "name": "stdout",
          "text": [
            "trainable params: 2,359,296 || all params: 1,231,940,608 || trainable%: 0.19151053100118282\n"
          ]
        }
      ]
    },
    {
      "cell_type": "markdown",
      "source": [
        "##Load dataset"
      ],
      "metadata": {
        "id": "PRyVDaebbvjA"
      },
      "id": "PRyVDaebbvjA"
    },
    {
      "cell_type": "code",
      "execution_count": null,
      "id": "4ee2babf",
      "metadata": {
        "id": "4ee2babf"
      },
      "outputs": [],
      "source": [
        "# loading dataset\n",
        "dataset = load_dataset(\"financial_phrasebank\", \"sentences_allagree\")\n",
        "dataset = dataset[\"train\"].train_test_split(test_size=0.1)\n",
        "dataset[\"validation\"] = dataset[\"test\"]\n",
        "del dataset[\"test\"]\n",
        "\n",
        "classes = dataset[\"train\"].features[\"label\"].names\n",
        "dataset = dataset.map(\n",
        "    lambda x: {\"text_label\": [classes[label] for label in x[\"label\"]]},\n",
        "    batched=True,\n",
        "    num_proc=1,\n",
        ")"
      ]
    },
    {
      "cell_type": "code",
      "source": [
        "dataset[\"train\"][0]"
      ],
      "metadata": {
        "id": "4DepfTIOc1AC",
        "outputId": "b57ed037-b6eb-4f3f-e1c6-98061df5f207",
        "colab": {
          "base_uri": "https://localhost:8080/"
        }
      },
      "id": "4DepfTIOc1AC",
      "execution_count": null,
      "outputs": [
        {
          "output_type": "execute_result",
          "data": {
            "text/plain": [
              "{'sentence': 'One can also apply for jobs directly from the iPad , select which CV to attach and which covering letter is most appropriate for each position .',\n",
              " 'label': 1,\n",
              " 'text_label': 'neutral'}"
            ]
          },
          "metadata": {},
          "execution_count": 9
        }
      ]
    },
    {
      "cell_type": "markdown",
      "source": [
        "##Data preprocessing"
      ],
      "metadata": {
        "id": "yvlJp1F-b3yE"
      },
      "id": "yvlJp1F-b3yE"
    },
    {
      "cell_type": "code",
      "execution_count": null,
      "id": "adf9608c",
      "metadata": {
        "id": "adf9608c"
      },
      "outputs": [],
      "source": [
        "# data preprocessing\n",
        "tokenizer = AutoTokenizer.from_pretrained(model_name_or_path)\n",
        "\n",
        "\n",
        "def preprocess_function(examples):\n",
        "    inputs = examples[text_column]\n",
        "    targets = examples[label_column]\n",
        "    model_inputs = tokenizer(inputs, max_length=max_length, padding=\"max_length\", truncation=True, return_tensors=\"pt\")\n",
        "    labels = tokenizer(targets, max_length=3, padding=\"max_length\", truncation=True, return_tensors=\"pt\")\n",
        "    labels = labels[\"input_ids\"]\n",
        "    labels[labels == tokenizer.pad_token_id] = -100\n",
        "    model_inputs[\"labels\"] = labels\n",
        "    return model_inputs\n",
        "\n",
        "\n",
        "processed_datasets = dataset.map(\n",
        "    preprocess_function,\n",
        "    batched=True,\n",
        "    num_proc=1,\n",
        "    remove_columns=dataset[\"train\"].column_names,\n",
        "    load_from_cache_file=False,\n",
        "    desc=\"Running tokenizer on dataset\",\n",
        ")\n",
        "\n",
        "train_dataset = processed_datasets[\"train\"]\n",
        "eval_dataset = processed_datasets[\"validation\"]\n",
        "\n",
        "train_dataloader = DataLoader(\n",
        "    train_dataset, shuffle=True, collate_fn=default_data_collator, batch_size=batch_size, pin_memory=True\n",
        ")\n",
        "eval_dataloader = DataLoader(eval_dataset, collate_fn=default_data_collator, batch_size=batch_size, pin_memory=True)"
      ]
    },
    {
      "cell_type": "markdown",
      "source": [
        "##Fine-tuning"
      ],
      "metadata": {
        "id": "bedKWZNOb8xe"
      },
      "id": "bedKWZNOb8xe"
    },
    {
      "cell_type": "code",
      "execution_count": null,
      "id": "f733a3c6",
      "metadata": {
        "id": "f733a3c6"
      },
      "outputs": [],
      "source": [
        "# optimizer and lr scheduler\n",
        "optimizer = torch.optim.AdamW(model.parameters(), lr=lr)\n",
        "lr_scheduler = get_linear_schedule_with_warmup(\n",
        "    optimizer=optimizer,\n",
        "    num_warmup_steps=0,\n",
        "    num_training_steps=(len(train_dataloader) * num_epochs),\n",
        ")"
      ]
    },
    {
      "cell_type": "code",
      "execution_count": null,
      "id": "6b3a4090",
      "metadata": {
        "id": "6b3a4090"
      },
      "outputs": [],
      "source": [
        "# training and evaluation\n",
        "model = model.to(device)\n",
        "\n",
        "for epoch in range(num_epochs):\n",
        "    model.train()\n",
        "    total_loss = 0\n",
        "    for step, batch in enumerate(tqdm(train_dataloader)):\n",
        "        batch = {k: v.to(device) for k, v in batch.items()}\n",
        "        outputs = model(**batch)\n",
        "        loss = outputs.loss\n",
        "        total_loss += loss.detach().float()\n",
        "        loss.backward()\n",
        "        optimizer.step()\n",
        "        lr_scheduler.step()\n",
        "        optimizer.zero_grad()\n",
        "\n",
        "    model.eval()\n",
        "    eval_loss = 0\n",
        "    eval_preds = []\n",
        "    for step, batch in enumerate(tqdm(eval_dataloader)):\n",
        "        batch = {k: v.to(device) for k, v in batch.items()}\n",
        "        with torch.no_grad():\n",
        "            outputs = model(**batch)\n",
        "        loss = outputs.loss\n",
        "        eval_loss += loss.detach().float()\n",
        "        eval_preds.extend(\n",
        "            tokenizer.batch_decode(torch.argmax(outputs.logits, -1).detach().cpu().numpy(), skip_special_tokens=True)\n",
        "        )\n",
        "\n",
        "    eval_epoch_loss = eval_loss / len(eval_dataloader)\n",
        "    eval_ppl = torch.exp(eval_epoch_loss)\n",
        "    train_epoch_loss = total_loss / len(train_dataloader)\n",
        "    train_ppl = torch.exp(train_epoch_loss)\n",
        "    print(f\"{epoch=}: {train_ppl=} {train_epoch_loss=} {eval_ppl=} {eval_epoch_loss=}\")"
      ]
    },
    {
      "cell_type": "code",
      "execution_count": null,
      "id": "6cafa67b",
      "metadata": {
        "id": "6cafa67b",
        "outputId": "0b758fc3-a55d-4f8f-8e9f-88ab55bb9d68",
        "colab": {
          "base_uri": "https://localhost:8080/"
        }
      },
      "outputs": [
        {
          "output_type": "stream",
          "name": "stdout",
          "text": [
            "accuracy=97.3568281938326 % on the evaluation dataset\n",
            "eval_preds[:10]=['neutral', 'positive', 'neutral', 'positive', 'negative', 'negative', 'neutral', 'negative', 'negative', 'neutral']\n",
            "dataset['validation']['text_label'][:10]=['neutral', 'positive', 'neutral', 'positive', 'negative', 'negative', 'positive', 'negative', 'negative', 'neutral']\n"
          ]
        }
      ],
      "source": [
        "# print accuracy\n",
        "correct = 0\n",
        "total = 0\n",
        "for pred, true in zip(eval_preds, dataset[\"validation\"][\"text_label\"]):\n",
        "    if pred.strip() == true.strip():\n",
        "        correct += 1\n",
        "    total += 1\n",
        "accuracy = correct / total * 100\n",
        "print(f\"{accuracy=} % on the evaluation dataset\")\n",
        "print(f\"{eval_preds[:10]=}\")\n",
        "print(f\"{dataset['validation']['text_label'][:10]=}\")"
      ]
    },
    {
      "cell_type": "code",
      "execution_count": null,
      "id": "a8de6005",
      "metadata": {
        "id": "a8de6005"
      },
      "outputs": [],
      "source": [
        "# saving model\n",
        "peft_model_id = f\"{model_name_or_path}_{peft_config.peft_type}_{peft_config.task_type}\"\n",
        "model.save_pretrained(peft_model_id)"
      ]
    },
    {
      "cell_type": "code",
      "execution_count": null,
      "id": "bd20cd4c",
      "metadata": {
        "id": "bd20cd4c",
        "outputId": "cd09764a-8785-4b2c-8545-7610d0bbeb77",
        "colab": {
          "base_uri": "https://localhost:8080/"
        }
      },
      "outputs": [
        {
          "output_type": "stream",
          "name": "stdout",
          "text": [
            "9.1M\tbigscience/mt0-large_LORA_SEQ_2_SEQ_LM/adapter_model.safetensors\n"
          ]
        }
      ],
      "source": [
        "ckpt = f\"{peft_model_id}/adapter_model.safetensors\"\n",
        "!du -h $ckpt"
      ]
    },
    {
      "cell_type": "markdown",
      "source": [
        "##Prediction"
      ],
      "metadata": {
        "id": "SZhhz4tacL3k"
      },
      "id": "SZhhz4tacL3k"
    },
    {
      "cell_type": "code",
      "execution_count": null,
      "id": "76c2fc29",
      "metadata": {
        "id": "76c2fc29"
      },
      "outputs": [],
      "source": [
        "from peft import PeftModel, PeftConfig\n",
        "\n",
        "peft_model_id = f\"{model_name_or_path}_{peft_config.peft_type}_{peft_config.task_type}\"\n",
        "\n",
        "config = PeftConfig.from_pretrained(peft_model_id)\n",
        "model = AutoModelForSeq2SeqLM.from_pretrained(config.base_model_name_or_path)\n",
        "model = PeftModel.from_pretrained(model, peft_model_id)"
      ]
    },
    {
      "cell_type": "code",
      "source": [
        "print(peft_config.peft_type)"
      ],
      "metadata": {
        "id": "6_26N9BagfKo",
        "outputId": "ad926caa-6ce1-4b18-b3eb-ea593695eef4",
        "colab": {
          "base_uri": "https://localhost:8080/"
        }
      },
      "id": "6_26N9BagfKo",
      "execution_count": null,
      "outputs": [
        {
          "output_type": "stream",
          "name": "stdout",
          "text": [
            "PeftType.LORA\n"
          ]
        }
      ]
    },
    {
      "cell_type": "code",
      "source": [
        "print(peft_config.task_type)"
      ],
      "metadata": {
        "id": "D02TO3PmgnQb",
        "outputId": "dced774f-bcd1-46b0-a512-b2c8e93a2724",
        "colab": {
          "base_uri": "https://localhost:8080/"
        }
      },
      "id": "D02TO3PmgnQb",
      "execution_count": null,
      "outputs": [
        {
          "output_type": "stream",
          "name": "stdout",
          "text": [
            "TaskType.SEQ_2_SEQ_LM\n"
          ]
        }
      ]
    },
    {
      "cell_type": "code",
      "execution_count": null,
      "id": "37d712ce",
      "metadata": {
        "id": "37d712ce",
        "outputId": "a3e19b6e-99e9-41d6-e310-f7019be5f235",
        "colab": {
          "base_uri": "https://localhost:8080/"
        }
      },
      "outputs": [
        {
          "output_type": "stream",
          "name": "stdout",
          "text": [
            "The contract is for next year .\n",
            "{'input_ids': tensor([[  486, 14291,   339,   332,  6844,  3721,   259,   260,     1]]), 'attention_mask': tensor([[1, 1, 1, 1, 1, 1, 1, 1, 1]])}\n",
            "tensor([[    0, 59006,     1]])\n",
            "['neutral']\n"
          ]
        }
      ],
      "source": [
        "model.eval()\n",
        "i = 13\n",
        "inputs = tokenizer(dataset[\"validation\"][text_column][i], return_tensors=\"pt\")\n",
        "print(dataset[\"validation\"][text_column][i])\n",
        "print(inputs)\n",
        "\n",
        "with torch.no_grad():\n",
        "    outputs = model.generate(input_ids=inputs[\"input_ids\"], max_new_tokens=10)\n",
        "    print(outputs)\n",
        "    print(tokenizer.batch_decode(outputs.detach().cpu().numpy(), skip_special_tokens=True))"
      ]
    },
    {
      "cell_type": "code",
      "source": [
        "i = 16\n",
        "inputs = tokenizer(dataset[\"validation\"][text_column][i], return_tensors=\"pt\")\n",
        "print(dataset[\"validation\"][text_column][i])\n",
        "print(inputs)"
      ],
      "metadata": {
        "id": "j9mlstwFiTm5",
        "outputId": "1ffd04b6-6471-4504-d245-b28e7357ee1c",
        "colab": {
          "base_uri": "https://localhost:8080/"
        }
      },
      "id": "j9mlstwFiTm5",
      "execution_count": null,
      "outputs": [
        {
          "output_type": "stream",
          "name": "stdout",
          "text": [
            "The company 's share is listed in the Mid Cap segment of the NASDAQ OMX Helsinki .\n",
            "{'input_ids': tensor([[   486,   5835,    259,    277,    263,   8364,    339,    259,  45491,\n",
            "            281,    287,  13448,  10242,  23576,    304,    287,    259, 159701,\n",
            "            443,  18514,  41783,    259,    260,      1]]), 'attention_mask': tensor([[1, 1, 1, 1, 1, 1, 1, 1, 1, 1, 1, 1, 1, 1, 1, 1, 1, 1, 1, 1, 1, 1, 1, 1]])}\n"
          ]
        }
      ]
    },
    {
      "cell_type": "code",
      "source": [
        "with torch.no_grad():\n",
        "    outputs = model.generate(input_ids=inputs[\"input_ids\"], max_new_tokens=10)\n",
        "    print(outputs)\n",
        "    print(tokenizer.batch_decode(outputs.detach().cpu().numpy(), skip_special_tokens=True))"
      ],
      "metadata": {
        "id": "w3tNSseDibtL",
        "outputId": "c4115604-36f8-49ce-9baa-96cad114ef1a",
        "colab": {
          "base_uri": "https://localhost:8080/"
        }
      },
      "id": "w3tNSseDibtL",
      "execution_count": null,
      "outputs": [
        {
          "output_type": "stream",
          "name": "stdout",
          "text": [
            "tensor([[    0, 59006,     1]])\n",
            "['neutral']\n"
          ]
        }
      ]
    }
  ],
  "metadata": {
    "kernelspec": {
      "display_name": "Python 3",
      "name": "python3"
    },
    "language_info": {
      "codemirror_mode": {
        "name": "ipython",
        "version": 3
      },
      "file_extension": ".py",
      "mimetype": "text/x-python",
      "name": "python",
      "nbconvert_exporter": "python",
      "pygments_lexer": "ipython3",
      "version": "3.10.5"
    },
    "vscode": {
      "interpreter": {
        "hash": "aee8b7b246df8f9039afb4144a1f6fd8d2ca17a180786b69acc140d282b71a49"
      }
    },
    "colab": {
      "provenance": [],
      "gpuType": "T4",
      "toc_visible": true,
      "include_colab_link": true
    },
    "accelerator": "GPU"
  },
  "nbformat": 4,
  "nbformat_minor": 5
}