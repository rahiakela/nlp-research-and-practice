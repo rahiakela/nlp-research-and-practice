{
  "nbformat": 4,
  "nbformat_minor": 0,
  "metadata": {
    "colab": {
      "provenance": [],
      "toc_visible": true,
      "authorship_tag": "ABX9TyNP+43YmS3vqio3d74fPPmG",
      "include_colab_link": true
    },
    "kernelspec": {
      "name": "python3",
      "display_name": "Python 3"
    },
    "language_info": {
      "name": "python"
    }
  },
  "cells": [
    {
      "cell_type": "markdown",
      "metadata": {
        "id": "view-in-github",
        "colab_type": "text"
      },
      "source": [
        "<a href=\"https://colab.research.google.com/github/rahiakela/nlp-research-and-practice/blob/main/python-regex-works/01-regex_basics.ipynb\" target=\"_parent\"><img src=\"https://colab.research.google.com/assets/colab-badge.svg\" alt=\"Open In Colab\"/></a>"
      ]
    },
    {
      "cell_type": "markdown",
      "source": [
        "##Understanding the essentials of a search pattern"
      ],
      "metadata": {
        "id": "_hO-TIKUI4ky"
      }
    },
    {
      "cell_type": "code",
      "source": [
        "import re"
      ],
      "metadata": {
        "id": "-QxsXGMMG6x9"
      },
      "execution_count": null,
      "outputs": []
    },
    {
      "cell_type": "code",
      "source": [
        "text=\"\"\"\n",
        "Mary had a little lamb.\n",
        "And everywhere that Mary\n",
        "went, the lambMary was sure\n",
        "to go. I am 26 years old.\n",
        "\n",
        "High-Dimensional Data Analysis with Low-Dimensional Models\n",
        "\"\"\""
      ],
      "metadata": {
        "id": "o0FddFNsI7aO"
      },
      "execution_count": null,
      "outputs": []
    },
    {
      "cell_type": "code",
      "source": [
        "re.search(r\"^hi\", \"hi Rahi\")"
      ],
      "metadata": {
        "colab": {
          "base_uri": "https://localhost:8080/"
        },
        "id": "b8IMPVfiG9ot",
        "outputId": "557e21c2-9de3-4db2-eba0-797c1392725a"
      },
      "execution_count": null,
      "outputs": [
        {
          "output_type": "execute_result",
          "data": {
            "text/plain": [
              "<re.Match object; span=(0, 2), match='hi'>"
            ]
          },
          "metadata": {},
          "execution_count": 3
        }
      ]
    },
    {
      "cell_type": "code",
      "source": [
        "re.search(r\"Rahi$\", \"hi Rahi\")"
      ],
      "metadata": {
        "colab": {
          "base_uri": "https://localhost:8080/"
        },
        "id": "kl2W4GMjHF1-",
        "outputId": "650aa97b-2fc6-4225-f59b-e1576c99b594"
      },
      "execution_count": null,
      "outputs": [
        {
          "output_type": "execute_result",
          "data": {
            "text/plain": [
              "<re.Match object; span=(3, 7), match='Rahi'>"
            ]
          },
          "metadata": {},
          "execution_count": 4
        }
      ]
    },
    {
      "cell_type": "code",
      "source": [
        "re.search(r\"^hi Rahi$\", \"hi Rahi\")"
      ],
      "metadata": {
        "colab": {
          "base_uri": "https://localhost:8080/"
        },
        "id": "Lp_b54vmIP9-",
        "outputId": "be326856-4c44-40e3-b317-2e1d1022573e"
      },
      "execution_count": null,
      "outputs": [
        {
          "output_type": "execute_result",
          "data": {
            "text/plain": [
              "<re.Match object; span=(0, 7), match='hi Rahi'>"
            ]
          },
          "metadata": {},
          "execution_count": 5
        }
      ]
    },
    {
      "cell_type": "code",
      "source": [
        "re.search(r\"^hi Rahi$\", \"hi Rahi Akela\")"
      ],
      "metadata": {
        "id": "FjcR5TDMJY0X"
      },
      "execution_count": null,
      "outputs": []
    },
    {
      "cell_type": "code",
      "source": [
        "re.search(r\"^h Rahi$\", \"hi Rahi\")"
      ],
      "metadata": {
        "id": "_Z3tbX7vJhUj"
      },
      "execution_count": null,
      "outputs": []
    },
    {
      "cell_type": "markdown",
      "source": [
        "###Quantifiers"
      ],
      "metadata": {
        "id": "dd2JzrDyI1bZ"
      }
    },
    {
      "cell_type": "code",
      "source": [
        "test_string = \"h hi hii hiii hiiii\"\n",
        "\n",
        "test_patterns = [\n",
        "  r\"hi?\", r\"hi*\", r\"hi+\", r\"hi{3}\", r\"hi{2,3}\", r\"hi{2,}\", r\"hi??\", r\"hi*?\", r\"hi+?\", r\"hi{2,}?\"\n",
        "]\n",
        "\n",
        "for pattern in test_patterns:\n",
        "  print(f\"{pattern: <9} --> {re.findall(pattern, test_string)}\")"
      ],
      "metadata": {
        "colab": {
          "base_uri": "https://localhost:8080/"
        },
        "id": "ZNWShX_yKeBB",
        "outputId": "21ea05c9-59dd-4071-e82d-f5df52b2986b"
      },
      "execution_count": null,
      "outputs": [
        {
          "output_type": "stream",
          "name": "stdout",
          "text": [
            "hi?       --> ['h', 'hi', 'hi', 'hi', 'hi']\n",
            "hi*       --> ['h', 'hi', 'hii', 'hiii', 'hiiii']\n",
            "hi+       --> ['hi', 'hii', 'hiii', 'hiiii']\n",
            "hi{3}     --> ['hiii', 'hiii']\n",
            "hi{2,3}   --> ['hii', 'hiii', 'hiii']\n",
            "hi{2,}    --> ['hii', 'hiii', 'hiiii']\n",
            "hi??      --> ['h', 'h', 'h', 'h', 'h']\n",
            "hi*?      --> ['h', 'h', 'h', 'h', 'h']\n",
            "hi+?      --> ['hi', 'hi', 'hi', 'hi']\n",
            "hi{2,}?   --> ['hii', 'hii', 'hii']\n"
          ]
        }
      ]
    },
    {
      "cell_type": "markdown",
      "source": [
        "###Characters class"
      ],
      "metadata": {
        "id": "HAtvIQy9Iu8O"
      }
    },
    {
      "cell_type": "code",
      "source": [
        "test_text = \"#1$2m_ M\\t\"\n",
        "patterns = [\"\\d\", \"\\D\", \"\\s\", \"\\S\", \"\\w\", \"\\W\", \".\", \"[lmn]\"]\n",
        "for pattern in patterns:\n",
        "  print(f\"{pattern: <9}----> {re.findall(pattern, test_text)}\")"
      ],
      "metadata": {
        "colab": {
          "base_uri": "https://localhost:8080/"
        },
        "id": "LHzx8YInIvHU",
        "outputId": "3067af75-34ab-43b2-86f8-e899993949ef"
      },
      "execution_count": null,
      "outputs": [
        {
          "output_type": "stream",
          "name": "stdout",
          "text": [
            "\\d       ----> ['1', '2']\n",
            "\\D       ----> ['#', '$', 'm', '_', ' ', 'M', '\\t']\n",
            "\\s       ----> [' ', '\\t']\n",
            "\\S       ----> ['#', '1', '$', '2', 'm', '_', 'M']\n",
            "\\w       ----> ['1', '2', 'm', '_', 'M']\n",
            "\\W       ----> ['#', '$', ' ', '\\t']\n",
            ".        ----> ['#', '1', '$', '2', 'm', '_', ' ', 'M', '\\t']\n",
            "[lmn]    ----> ['m']\n"
          ]
        }
      ]
    },
    {
      "cell_type": "markdown",
      "source": [
        "###Logical operations"
      ],
      "metadata": {
        "id": "QByUNrbgJ6Mt"
      }
    },
    {
      "cell_type": "code",
      "source": [
        "re.findall(r\"a|b\", \"a c d d b ab\")"
      ],
      "metadata": {
        "colab": {
          "base_uri": "https://localhost:8080/"
        },
        "id": "BeIa23N8J63K",
        "outputId": "51a09748-3d0e-4053-96ee-f2cf5025c221"
      },
      "execution_count": null,
      "outputs": [
        {
          "output_type": "execute_result",
          "data": {
            "text/plain": [
              "['a', 'b', 'a', 'b']"
            ]
          },
          "metadata": {},
          "execution_count": 10
        }
      ]
    },
    {
      "cell_type": "code",
      "source": [
        "re.findall(r\"a|b\", \"c d d b\")"
      ],
      "metadata": {
        "colab": {
          "base_uri": "https://localhost:8080/"
        },
        "id": "dDB75kVDKWLO",
        "outputId": "d55842b3-31f7-4850-f615-b9ecc19a8690"
      },
      "execution_count": null,
      "outputs": [
        {
          "output_type": "execute_result",
          "data": {
            "text/plain": [
              "['b']"
            ]
          },
          "metadata": {},
          "execution_count": 11
        }
      ]
    },
    {
      "cell_type": "code",
      "source": [
        "re.findall(r\"(abc)\", \"ab bc abc ac\")"
      ],
      "metadata": {
        "colab": {
          "base_uri": "https://localhost:8080/"
        },
        "id": "QH07A68oKfng",
        "outputId": "4e5dec21-d168-4f17-e60b-c1e4f4e84700"
      },
      "execution_count": null,
      "outputs": [
        {
          "output_type": "execute_result",
          "data": {
            "text/plain": [
              "['abc']"
            ]
          },
          "metadata": {},
          "execution_count": 12
        }
      ]
    },
    {
      "cell_type": "code",
      "source": [
        "re.findall(r\"[^a]\", \"abcde\")"
      ],
      "metadata": {
        "colab": {
          "base_uri": "https://localhost:8080/"
        },
        "id": "IdJh71SULS5o",
        "outputId": "285bf24f-6e5c-4711-898f-f06f6c4811ae"
      },
      "execution_count": null,
      "outputs": [
        {
          "output_type": "execute_result",
          "data": {
            "text/plain": [
              "['b', 'c', 'd', 'e']"
            ]
          },
          "metadata": {},
          "execution_count": 13
        }
      ]
    },
    {
      "cell_type": "markdown",
      "source": [
        "##Dissecting the matches"
      ],
      "metadata": {
        "id": "Si0tE6rGckHc"
      }
    },
    {
      "cell_type": "code",
      "source": [
        "matchs = re.search(r\"(\\w\\d)+\", \"xyza2b1c3dd\")\n",
        "print(matchs)"
      ],
      "metadata": {
        "colab": {
          "base_uri": "https://localhost:8080/"
        },
        "id": "gnGRbR4Xckx-",
        "outputId": "05d1b3e1-4093-41dd-a80f-c6a762e1b8f7"
      },
      "execution_count": null,
      "outputs": [
        {
          "output_type": "stream",
          "name": "stdout",
          "text": [
            "<re.Match object; span=(3, 9), match='a2b1c3'>\n"
          ]
        }
      ]
    },
    {
      "cell_type": "code",
      "source": [
        "print(f\"matched: {matchs.group()}\")"
      ],
      "metadata": {
        "colab": {
          "base_uri": "https://localhost:8080/"
        },
        "id": "SXs0AHfAdWTq",
        "outputId": "0f151d52-2700-48c0-fa99-c9baad48c3f4"
      },
      "execution_count": null,
      "outputs": [
        {
          "output_type": "stream",
          "name": "stdout",
          "text": [
            "matched: a2b1c3\n"
          ]
        }
      ]
    },
    {
      "cell_type": "code",
      "source": [
        "print(f\"span: {matchs.span()}\")"
      ],
      "metadata": {
        "colab": {
          "base_uri": "https://localhost:8080/"
        },
        "id": "jXvNvH1qdkIL",
        "outputId": "58192d68-eb3d-428b-daaf-3df1709e14e6"
      },
      "execution_count": null,
      "outputs": [
        {
          "output_type": "stream",
          "name": "stdout",
          "text": [
            "span: (3, 9)\n"
          ]
        }
      ]
    },
    {
      "cell_type": "code",
      "source": [
        "print(f\"start: {matchs.start()} & end: {matchs.end()}\")"
      ],
      "metadata": {
        "colab": {
          "base_uri": "https://localhost:8080/"
        },
        "id": "ierTO5Szdn90",
        "outputId": "338cd96e-5d33-4841-ca5a-0148caa8ccd1"
      },
      "execution_count": null,
      "outputs": [
        {
          "output_type": "stream",
          "name": "stdout",
          "text": [
            "start: 3 & end: 9\n"
          ]
        }
      ]
    },
    {
      "cell_type": "markdown",
      "source": [
        "###Multiple groups"
      ],
      "metadata": {
        "id": "GfbLpmIZfEfX"
      }
    },
    {
      "cell_type": "code",
      "source": [
        "matchs = re.match(r\"(\\w+), (\\w+)\", \"Homework, urgent; today\")\n",
        "print(matchs)"
      ],
      "metadata": {
        "colab": {
          "base_uri": "https://localhost:8080/"
        },
        "id": "J_6K1DE4fGEW",
        "outputId": "dfd334b8-3893-4208-c61d-0f3d3540aac3"
      },
      "execution_count": null,
      "outputs": [
        {
          "output_type": "stream",
          "name": "stdout",
          "text": [
            "<re.Match object; span=(0, 16), match='Homework, urgent'>\n"
          ]
        }
      ]
    },
    {
      "cell_type": "code",
      "source": [
        "matchs.groups()"
      ],
      "metadata": {
        "colab": {
          "base_uri": "https://localhost:8080/"
        },
        "id": "mo9e1m4tfihu",
        "outputId": "e1151833-3ccf-4719-88b3-ab427de68c37"
      },
      "execution_count": null,
      "outputs": [
        {
          "output_type": "execute_result",
          "data": {
            "text/plain": [
              "('Homework', 'urgent')"
            ]
          },
          "metadata": {},
          "execution_count": 22
        }
      ]
    },
    {
      "cell_type": "code",
      "source": [
        "matchs.group(0)"
      ],
      "metadata": {
        "colab": {
          "base_uri": "https://localhost:8080/",
          "height": 35
        },
        "id": "y7wn5ef5foOa",
        "outputId": "d99d225b-12c3-4922-814a-fbdab0d25edb"
      },
      "execution_count": null,
      "outputs": [
        {
          "output_type": "execute_result",
          "data": {
            "text/plain": [
              "'Homework, urgent'"
            ],
            "application/vnd.google.colaboratory.intrinsic+json": {
              "type": "string"
            }
          },
          "metadata": {},
          "execution_count": 25
        }
      ]
    },
    {
      "cell_type": "code",
      "source": [
        "matchs.group(1)"
      ],
      "metadata": {
        "colab": {
          "base_uri": "https://localhost:8080/",
          "height": 35
        },
        "id": "tfe7O1xJfqHp",
        "outputId": "c9078359-8714-4833-dc2c-6247ca7bb9bb"
      },
      "execution_count": null,
      "outputs": [
        {
          "output_type": "execute_result",
          "data": {
            "text/plain": [
              "'Homework'"
            ],
            "application/vnd.google.colaboratory.intrinsic+json": {
              "type": "string"
            }
          },
          "metadata": {},
          "execution_count": 26
        }
      ]
    },
    {
      "cell_type": "code",
      "source": [
        "matchs.group(2)"
      ],
      "metadata": {
        "colab": {
          "base_uri": "https://localhost:8080/",
          "height": 35
        },
        "id": "IwTOBvAbfsZB",
        "outputId": "8bf38568-692a-41c6-c3ea-7007ae5f998a"
      },
      "execution_count": null,
      "outputs": [
        {
          "output_type": "execute_result",
          "data": {
            "text/plain": [
              "'urgent'"
            ],
            "application/vnd.google.colaboratory.intrinsic+json": {
              "type": "string"
            }
          },
          "metadata": {},
          "execution_count": 27
        }
      ]
    },
    {
      "cell_type": "code",
      "source": [
        "matchs.span(0)"
      ],
      "metadata": {
        "colab": {
          "base_uri": "https://localhost:8080/"
        },
        "id": "0HAsyek4gEz1",
        "outputId": "0908c47f-8ea2-4c38-8c38-343bbb5fc819"
      },
      "execution_count": null,
      "outputs": [
        {
          "output_type": "execute_result",
          "data": {
            "text/plain": [
              "(0, 16)"
            ]
          },
          "metadata": {},
          "execution_count": 28
        }
      ]
    },
    {
      "cell_type": "code",
      "source": [
        "matchs.span(1)"
      ],
      "metadata": {
        "colab": {
          "base_uri": "https://localhost:8080/"
        },
        "id": "Ue6qQTRxgHPY",
        "outputId": "89b2f495-3281-4f60-d8cc-fb44be84263c"
      },
      "execution_count": null,
      "outputs": [
        {
          "output_type": "execute_result",
          "data": {
            "text/plain": [
              "(0, 8)"
            ]
          },
          "metadata": {},
          "execution_count": 29
        }
      ]
    },
    {
      "cell_type": "code",
      "source": [
        "matchs.span(2)"
      ],
      "metadata": {
        "colab": {
          "base_uri": "https://localhost:8080/"
        },
        "id": "uTzmSdiQgIzJ",
        "outputId": "59544bbb-4f38-4af9-8319-b71c0af31f91"
      },
      "execution_count": null,
      "outputs": [
        {
          "output_type": "execute_result",
          "data": {
            "text/plain": [
              "(10, 16)"
            ]
          },
          "metadata": {},
          "execution_count": 30
        }
      ]
    },
    {
      "cell_type": "markdown",
      "source": [
        "##Knowing the common methods"
      ],
      "metadata": {
        "id": "jFxNIs_7gYMy"
      }
    }
  ]
}