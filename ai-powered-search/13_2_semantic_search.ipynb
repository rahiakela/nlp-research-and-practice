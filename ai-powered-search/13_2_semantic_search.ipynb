{
  "cells": [
    {
      "cell_type": "markdown",
      "metadata": {
        "id": "view-in-github",
        "colab_type": "text"
      },
      "source": [
        "<a href=\"https://colab.research.google.com/github/rahiakela/nlp-research-and-practice/blob/main/ai-powered-search/13_2_semantic_search.ipynb\" target=\"_parent\"><img src=\"https://colab.research.google.com/assets/colab-badge.svg\" alt=\"Open In Colab\"/></a>"
      ]
    },
    {
      "cell_type": "markdown",
      "metadata": {
        "id": "51uM8gPIW0mO"
      },
      "source": [
        "## Setup\n",
        "\n",
        "In this notebook, we\"re going to install a transformer model, analyze the embedding output, and compare some vectors"
      ]
    },
    {
      "cell_type": "code",
      "source": [
        "#outdoors\n",
        "![ ! -d 'outdoors' ] && git clone --depth=1 https://github.com/ai-powered-search/outdoors.git\n",
        "! cd outdoors && git pull\n",
        "! cd outdoors && cat outdoors.tgz.part* > outdoors.tgz\n",
        "! cd outdoors && mkdir -p '../data/outdoors/' && tar -xvf outdoors.tgz -C '../data/outdoors/'"
      ],
      "metadata": {
        "id": "5xShS9pNXKtl",
        "outputId": "7796a6cf-cbd7-4d73-8518-8e76c8f45790",
        "colab": {
          "base_uri": "https://localhost:8080/"
        }
      },
      "execution_count": 1,
      "outputs": [
        {
          "output_type": "stream",
          "name": "stdout",
          "text": [
            "Cloning into 'outdoors'...\n",
            "remote: Enumerating objects: 25, done.\u001b[K\n",
            "remote: Counting objects: 100% (25/25), done.\u001b[K\n",
            "remote: Compressing objects: 100% (24/24), done.\u001b[K\n",
            "remote: Total 25 (delta 0), reused 22 (delta 0), pack-reused 0 (from 0)\u001b[K\n",
            "Receiving objects: 100% (25/25), 491.39 MiB | 18.04 MiB/s, done.\n",
            "Updating files: 100% (23/23), done.\n",
            "Already up to date.\n",
            "README.md\n",
            "concepts.pickle\n",
            "._guesses.csv\n",
            "guesses.csv\n",
            "._guesses_all.json\n",
            "guesses_all.json\n",
            "outdoors_concepts.pickle\n",
            "outdoors_embeddings.pickle\n",
            "._outdoors_golden_answers.csv\n",
            "outdoors_golden_answers.csv\n",
            "._outdoors_golden_answers.xlsx\n",
            "outdoors_golden_answers.xlsx\n",
            "._outdoors_golden_answers_20210130.csv\n",
            "outdoors_golden_answers_20210130.csv\n",
            "outdoors_labels.pickle\n",
            "outdoors_question_answering_contexts.json\n",
            "outdoors_questionanswering_test_set.json\n",
            "outdoors_questionanswering_train_set.json\n",
            "._posts.csv\n",
            "posts.csv\n",
            "predicates.pickle\n",
            "pull_aips_dependency.py\n",
            "._question-answer-seed-contexts.csv\n",
            "question-answer-seed-contexts.csv\n",
            "question-answer-squad2-guesses.csv\n",
            "._roberta-base-squad2-outdoors\n",
            "roberta-base-squad2-outdoors/\n",
            "roberta-base-squad2-outdoors/._tokenizer_config.json\n",
            "roberta-base-squad2-outdoors/tokenizer_config.json\n",
            "roberta-base-squad2-outdoors/._special_tokens_map.json\n",
            "roberta-base-squad2-outdoors/special_tokens_map.json\n",
            "roberta-base-squad2-outdoors/._config.json\n",
            "roberta-base-squad2-outdoors/config.json\n",
            "roberta-base-squad2-outdoors/._merges.txt\n",
            "roberta-base-squad2-outdoors/merges.txt\n",
            "roberta-base-squad2-outdoors/._training_args.bin\n",
            "roberta-base-squad2-outdoors/training_args.bin\n",
            "roberta-base-squad2-outdoors/._pytorch_model.bin\n",
            "roberta-base-squad2-outdoors/pytorch_model.bin\n",
            "roberta-base-squad2-outdoors/._vocab.json\n",
            "roberta-base-squad2-outdoors/vocab.json\n"
          ]
        }
      ]
    },
    {
      "cell_type": "code",
      "source": [
        "%%capture\n",
        "\n",
        "!pip install nmslib"
      ],
      "metadata": {
        "id": "HQRWkAsbmB_i"
      },
      "execution_count": 2,
      "outputs": []
    },
    {
      "cell_type": "code",
      "execution_count": 3,
      "metadata": {
        "id": "xA3xmRRHW0mQ"
      },
      "outputs": [],
      "source": [
        "import sys\n",
        "import os\n",
        "sys.path.append(\"../..\")\n",
        "# from aips import *\n",
        "import pandas as pd\n",
        "import numpy as np\n",
        "import pickle\n",
        "import json\n",
        "import tqdm\n",
        "\n",
        "import nmslib\n",
        "import sentence_transformers\n",
        "from IPython.display import display, HTML"
      ]
    },
    {
      "cell_type": "code",
      "execution_count": null,
      "metadata": {
        "id": "7ruXhtGPW0mR"
      },
      "outputs": [],
      "source": [
        "from sentence_transformers import SentenceTransformer\n",
        "transformer = SentenceTransformer(\"roberta-base-nli-stsb-mean-tokens\")"
      ]
    },
    {
      "cell_type": "markdown",
      "source": [
        "## Get embeddings"
      ],
      "metadata": {
        "id": "KzFEJ0VxFGTK"
      }
    },
    {
      "cell_type": "code",
      "source": [
        "def get_embeddings(texts, model, cache_name, ignore_cache=False):\n",
        "  cache_file_name = f\"data/outdoors/{cache_name}.pickle\"\n",
        "  if ignore_cache or not os.path.isfile(cache_file_name):\n",
        "    embeddings = model.encode(texts)\n",
        "    os.makedirs(os.path.dirname(cache_file_name), exist_ok=True)\n",
        "    with open(cache_file_name, \"wb\") as cache_file:\n",
        "      pickle.dump(embeddings, cache_file)\n",
        "  else:\n",
        "    with open(cache_file_name, \"rb\") as cache_file:\n",
        "      embeddings = pickle.load(cache_file)\n",
        "  return embeddings"
      ],
      "metadata": {
        "id": "WipDDFrAFdsl"
      },
      "execution_count": 54,
      "outputs": []
    },
    {
      "cell_type": "code",
      "source": [
        "def normalize_embedding(embedding):\n",
        "  normalized = np.divide(embedding, np.linalg.norm(embedding))\n",
        "  return list(map(float, normalized))"
      ],
      "metadata": {
        "id": "omx47ZZ5JHY_"
      },
      "execution_count": 6,
      "outputs": []
    },
    {
      "cell_type": "code",
      "source": [
        "def rank_similarities(phrases, similarities):\n",
        "  a_phrases = []\n",
        "  b_phrases = []\n",
        "  scores = []\n",
        "  for a in range(len(similarities) - 1):\n",
        "    for b in range(a + 1, len(similarities)):\n",
        "      a_phrases.append(phrases[a])\n",
        "      b_phrases.append(phrases[b])\n",
        "      scores.append(float(similarities[a][b]))\n",
        "  dataframe = pd.DataFrame({\n",
        "      \"score\": scores,\n",
        "      \"phrase a\": a_phrases,\n",
        "      \"phrase b\": b_phrases\n",
        "  })\n",
        "  dataframe[\"idx\"] = range(len(dataframe))\n",
        "  dataframe = dataframe.reindex(columns=[\"idx\", \"score\", \"phrase a\", \"phrase b\"])\n",
        "  return dataframe.sort_values(by=[\"score\"], ascending=False, ignore_index=True)"
      ],
      "metadata": {
        "id": "LruNemFbMFjZ"
      },
      "execution_count": 7,
      "outputs": []
    },
    {
      "cell_type": "code",
      "source": [
        "outdoors_dataframe = pd.read_csv(\"data/outdoors/posts.csv\")\n",
        "# filter NaN title column\n",
        "titles = outdoors_dataframe[outdoors_dataframe['title'].notna()][\"title\"]\n",
        "# titles = list(filter(None, titles))\n",
        "titles.head(10)"
      ],
      "metadata": {
        "colab": {
          "base_uri": "https://localhost:8080/",
          "height": 398
        },
        "id": "Z05FCJIODT-9",
        "outputId": "c81ae819-3dd3-4c81-d8fd-a22d4d1ce36f"
      },
      "execution_count": 8,
      "outputs": [
        {
          "output_type": "execute_result",
          "data": {
            "text/plain": [
              "0     How do I treat hot spots and blisters when I h...\n",
              "1     Where in the Alps is it safe to drink the wate...\n",
              "2     Is it legal to camp on private property in Rus...\n",
              "3     What are the critical dimensions to a safe bea...\n",
              "4     Can I sail a raft on a European river with com...\n",
              "6               What is the safest way to purify water?\n",
              "8         How can you navigate without a compass or GPS\n",
              "9     What is the fastest method to 'break in' full ...\n",
              "10        How do I know what size ice axe I should get?\n",
              "12          What can I do to prevent altitude sickness?\n",
              "Name: title, dtype: object"
            ],
            "text/html": [
              "<div>\n",
              "<style scoped>\n",
              "    .dataframe tbody tr th:only-of-type {\n",
              "        vertical-align: middle;\n",
              "    }\n",
              "\n",
              "    .dataframe tbody tr th {\n",
              "        vertical-align: top;\n",
              "    }\n",
              "\n",
              "    .dataframe thead th {\n",
              "        text-align: right;\n",
              "    }\n",
              "</style>\n",
              "<table border=\"1\" class=\"dataframe\">\n",
              "  <thead>\n",
              "    <tr style=\"text-align: right;\">\n",
              "      <th></th>\n",
              "      <th>title</th>\n",
              "    </tr>\n",
              "  </thead>\n",
              "  <tbody>\n",
              "    <tr>\n",
              "      <th>0</th>\n",
              "      <td>How do I treat hot spots and blisters when I h...</td>\n",
              "    </tr>\n",
              "    <tr>\n",
              "      <th>1</th>\n",
              "      <td>Where in the Alps is it safe to drink the wate...</td>\n",
              "    </tr>\n",
              "    <tr>\n",
              "      <th>2</th>\n",
              "      <td>Is it legal to camp on private property in Rus...</td>\n",
              "    </tr>\n",
              "    <tr>\n",
              "      <th>3</th>\n",
              "      <td>What are the critical dimensions to a safe bea...</td>\n",
              "    </tr>\n",
              "    <tr>\n",
              "      <th>4</th>\n",
              "      <td>Can I sail a raft on a European river with com...</td>\n",
              "    </tr>\n",
              "    <tr>\n",
              "      <th>6</th>\n",
              "      <td>What is the safest way to purify water?</td>\n",
              "    </tr>\n",
              "    <tr>\n",
              "      <th>8</th>\n",
              "      <td>How can you navigate without a compass or GPS</td>\n",
              "    </tr>\n",
              "    <tr>\n",
              "      <th>9</th>\n",
              "      <td>What is the fastest method to 'break in' full ...</td>\n",
              "    </tr>\n",
              "    <tr>\n",
              "      <th>10</th>\n",
              "      <td>How do I know what size ice axe I should get?</td>\n",
              "    </tr>\n",
              "    <tr>\n",
              "      <th>12</th>\n",
              "      <td>What can I do to prevent altitude sickness?</td>\n",
              "    </tr>\n",
              "  </tbody>\n",
              "</table>\n",
              "</div><br><label><b>dtype:</b> object</label>"
            ]
          },
          "metadata": {},
          "execution_count": 8
        }
      ]
    },
    {
      "cell_type": "code",
      "source": [
        "# Encoding the titles into embeddings\n",
        "outdoors_dataframe = pd.read_csv(\"data/outdoors/posts.csv\")\n",
        "titles = outdoors_dataframe[outdoors_dataframe['title'].notna()][\"title\"]\n",
        "titles = list(filter(None, titles))\n",
        "\n",
        "cache_name = \"outdoors_semantic_search_embeddings\"\n",
        "embeddings = get_embeddings(titles, transformer, cache_name, ignore_cache=True)\n",
        "\n",
        "print(f\"Number of titles: {len(titles)}\")\n",
        "print(f\"Number of embeddings: {len(embeddings)}\")\n",
        "print(f\"Dimensions per embedding: {len(embeddings[0])}\")"
      ],
      "metadata": {
        "colab": {
          "base_uri": "https://localhost:8080/"
        },
        "id": "d5xeRkFxBmwM",
        "outputId": "3098be61-6b93-4737-8b93-bf4783197e9c"
      },
      "execution_count": 55,
      "outputs": [
        {
          "output_type": "stream",
          "name": "stdout",
          "text": [
            "Number of titles: 5331\n",
            "Number of embeddings: 5331\n",
            "Dimensions per embedding: 768\n"
          ]
        }
      ]
    },
    {
      "cell_type": "code",
      "source": [
        "# Explore the top similarities for the titles\n",
        "normalized_embeddings = list(map(normalize_embedding, embeddings))\n",
        "# Find the pairs with the highest dot product scores\n",
        "similarities = sentence_transformers.util.dot_score(\n",
        "    normalized_embeddings[0:100],\n",
        "    normalized_embeddings[0:100]\n",
        ")\n",
        "comparisons = rank_similarities(titles, similarities)\n",
        "display(HTML(comparisons[:10].to_html(index=False)))"
      ],
      "metadata": {
        "colab": {
          "base_uri": "https://localhost:8080/",
          "height": 450
        },
        "id": "NwXK7VFnIC-2",
        "outputId": "4507c78e-d3e5-4c55-c1ab-7581b46cf7a5"
      },
      "execution_count": 56,
      "outputs": [
        {
          "output_type": "display_data",
          "data": {
            "text/plain": [
              "<IPython.core.display.HTML object>"
            ],
            "text/html": [
              "<table border=\"1\" class=\"dataframe\">\n",
              "  <thead>\n",
              "    <tr style=\"text-align: right;\">\n",
              "      <th>idx</th>\n",
              "      <th>score</th>\n",
              "      <th>phrase a</th>\n",
              "      <th>phrase b</th>\n",
              "    </tr>\n",
              "  </thead>\n",
              "  <tbody>\n",
              "    <tr>\n",
              "      <td>4515</td>\n",
              "      <td>0.846395</td>\n",
              "      <td>How do I recognize if someone is suffering from hypothermia?</td>\n",
              "      <td>How should I treat hypothermia?</td>\n",
              "    </tr>\n",
              "    <tr>\n",
              "      <td>1237</td>\n",
              "      <td>0.811995</td>\n",
              "      <td>How should I treat poison ivy?</td>\n",
              "      <td>What can I do to prevent getting poison ivy?</td>\n",
              "    </tr>\n",
              "    <tr>\n",
              "      <td>4872</td>\n",
              "      <td>0.800817</td>\n",
              "      <td>What is the difference between the different types of snowboards? (all-mountain/freestyle/freeride/etc)</td>\n",
              "      <td>What is the difference between camber and rocker shaped snowboards?</td>\n",
              "    </tr>\n",
              "    <tr>\n",
              "      <td>4204</td>\n",
              "      <td>0.794242</td>\n",
              "      <td>How do I tie a sleeping bag to my backpack?</td>\n",
              "      <td>What is the best way to store my sleeping bag for long periods of time?</td>\n",
              "    </tr>\n",
              "    <tr>\n",
              "      <td>3568</td>\n",
              "      <td>0.790016</td>\n",
              "      <td>What should I look for if I want to buy a winter-proofed tent?</td>\n",
              "      <td>What is the best way to store my tent?</td>\n",
              "    </tr>\n",
              "    <tr>\n",
              "      <td>4864</td>\n",
              "      <td>0.753913</td>\n",
              "      <td>How do I set a top rope anchor?</td>\n",
              "      <td>How do I inspect a climbing rope?</td>\n",
              "    </tr>\n",
              "    <tr>\n",
              "      <td>496</td>\n",
              "      <td>0.745218</td>\n",
              "      <td>What is the safest way to purify water?</td>\n",
              "      <td>What are the different methods to purify water?</td>\n",
              "    </tr>\n",
              "    <tr>\n",
              "      <td>2974</td>\n",
              "      <td>0.710362</td>\n",
              "      <td>What do I need to look for in good, quality hiking boots?</td>\n",
              "      <td>What is the difference between men's and women's hiking boots?</td>\n",
              "    </tr>\n",
              "    <tr>\n",
              "      <td>3292</td>\n",
              "      <td>0.704151</td>\n",
              "      <td>What to look for in a durable, 3-season sleeping bag?</td>\n",
              "      <td>What is the best way to store my sleeping bag for long periods of time?</td>\n",
              "    </tr>\n",
              "    <tr>\n",
              "      <td>3760</td>\n",
              "      <td>0.698881</td>\n",
              "      <td>How should I check that the anchor is secure when I anchor a small yacht off unfamiliar land?</td>\n",
              "      <td>How do I set a top rope anchor?</td>\n",
              "    </tr>\n",
              "  </tbody>\n",
              "</table>"
            ]
          },
          "metadata": {}
        }
      ]
    },
    {
      "cell_type": "code",
      "source": [
        "# Fix rendering of this image\n",
        "from plotnine import *\n",
        "{\n",
        "    ggplot(comparisons, aes(\"idx\", \"score\")) +\n",
        "    geom_point(alpha=.05)\n",
        "}"
      ],
      "metadata": {
        "colab": {
          "base_uri": "https://localhost:8080/"
        },
        "id": "ccEMUTUcI3ZS",
        "outputId": "205cd284-4424-458e-b6e2-e73192c43de6"
      },
      "execution_count": 11,
      "outputs": [
        {
          "output_type": "execute_result",
          "data": {
            "text/plain": [
              "{<plotnine.ggplot.ggplot at 0x7812a34b8640>}"
            ]
          },
          "metadata": {},
          "execution_count": 11
        }
      ]
    },
    {
      "cell_type": "code",
      "source": [
        "from plotnine import *\n",
        "{\n",
        "    ggplot(comparisons, aes(\"idx\", \"score\")) +\n",
        "    geom_violin(color=\"blue\") +\n",
        "    scale_y_continuous(limits=[-0.4, 1.0], breaks=[-0.4, -0.2, 0, 0.2, 0.4, 0.6, 0.8, 1.0])\n",
        "}"
      ],
      "metadata": {
        "colab": {
          "base_uri": "https://localhost:8080/"
        },
        "id": "unqr839yJe3G",
        "outputId": "06cc8058-6e5d-4476-dd05-d2eabe8eb3c8"
      },
      "execution_count": 12,
      "outputs": [
        {
          "output_type": "execute_result",
          "data": {
            "text/plain": [
              "{<plotnine.ggplot.ggplot at 0x7812a363ad40>}"
            ]
          },
          "metadata": {},
          "execution_count": 12
        }
      ]
    },
    {
      "cell_type": "markdown",
      "source": [
        "##Searching ANN Index"
      ],
      "metadata": {
        "id": "Zbjb6yEHPscY"
      }
    },
    {
      "cell_type": "code",
      "source": [
        "# initialize a new index, using a HNSW index on Dot Product\n",
        "titles_index = nmslib.init(method='hnsw', space='negdotprod')\n",
        "normalized_embeddings = list(map(normalize_embedding, embeddings))\n",
        "\n",
        "# All the embeddings can be added in a single batch\n",
        "titles_index.addDataPointBatch(normalized_embeddings)\n",
        "# Commits the index to memory. This must be done before you can query for nearest neighbors\n",
        "titles_index.createIndex(print_progress=True)"
      ],
      "metadata": {
        "id": "sNWZ9u50OifI"
      },
      "execution_count": 57,
      "outputs": []
    },
    {
      "cell_type": "code",
      "source": [
        "# let's do encoding a query and returning the k-nearest-neighbor concepts\n",
        "def print_labels(query, matches):\n",
        "  display(HTML(f\"<h4>Results for: <em>{query}</em></h4>\"))\n",
        "  for (l, d) in matches:\n",
        "    print(str(int(d * 1000) / 1000), \"|\", l)\n",
        "\n",
        "def embedding_search(index, query, phrases, k=20, min_similarity=0.75):\n",
        "  matches = []\n",
        "  # Gets the embeddings for query\n",
        "  query_embedding = transformer.encode(query, convert_to_tensor=True)\n",
        "  query_embedding = normalize_embedding(query_embedding)\n",
        "  ids, distances = index.knnQuery(query_embedding, k=k)\n",
        "  for i in range(len(ids)):\n",
        "    # Converts negative dot product distance into a positive dot product\n",
        "    distance = distances[i] * -1\n",
        "    if distance > min_similarity:\n",
        "      matches.append((phrases[ids[i]], distance))\n",
        "  if not len(matches):\n",
        "    # No neighbors found! Returns just the original term\n",
        "    matches.append((phrases[ids[1]], distances[1] * -1))\n",
        "  return matches"
      ],
      "metadata": {
        "id": "GDKLy9PWoxyW"
      },
      "execution_count": 61,
      "outputs": []
    },
    {
      "cell_type": "code",
      "source": [
        "def semantic_search(query, phrases, log=False):\n",
        "  matches = embedding_search(titles_index, query, phrases, k=5, min_similarity=0.6)\n",
        "  if log:\n",
        "    print_labels(query, matches)"
      ],
      "metadata": {
        "id": "IBC2z6G2q_vW"
      },
      "execution_count": 59,
      "outputs": []
    },
    {
      "cell_type": "code",
      "source": [
        "semantic_search(\"mountain hike\", titles, log=True)"
      ],
      "metadata": {
        "id": "9MzyzbqTrjl4",
        "outputId": "70718473-7ec6-47c3-e7dc-7f69c58efa40",
        "colab": {
          "base_uri": "https://localhost:8080/",
          "height": 146
        }
      },
      "execution_count": 62,
      "outputs": [
        {
          "output_type": "display_data",
          "data": {
            "text/plain": [
              "<IPython.core.display.HTML object>"
            ],
            "text/html": [
              "<h4>Results for: <em>mountain hike</em></h4>"
            ]
          },
          "metadata": {}
        },
        {
          "output_type": "stream",
          "name": "stdout",
          "text": [
            "0.723 | How is elevation gain and change measured for hiking trails?\n",
            "0.715 | How do I Plan a Hiking Trip to Rocky Mountain National Park, CO\n",
            "0.698 | Hints for hiking the west highland way\n",
            "0.694 | New Hampshire A.T. Section Hike in May? Logistics and Trail Conditions\n",
            "0.678 | Long distance hiking trail markings in North America or parts thereof\n"
          ]
        }
      ]
    },
    {
      "cell_type": "code",
      "source": [
        "semantic_search(\"dehyd\", titles, log=True)"
      ],
      "metadata": {
        "id": "GOqBwlcwrnwc",
        "outputId": "b88b9a23-c667-49f3-d988-6d35c9c24079",
        "colab": {
          "base_uri": "https://localhost:8080/",
          "height": 75
        }
      },
      "execution_count": 63,
      "outputs": [
        {
          "output_type": "display_data",
          "data": {
            "text/plain": [
              "<IPython.core.display.HTML object>"
            ],
            "text/html": [
              "<h4>Results for: <em>dehyd</em></h4>"
            ]
          },
          "metadata": {}
        },
        {
          "output_type": "stream",
          "name": "stdout",
          "text": [
            "0.633 | The re-hydration time for deydrated foods\n"
          ]
        }
      ]
    },
    {
      "cell_type": "code",
      "source": [
        "semantic_search(\"polar bear\", titles, log=True)"
      ],
      "metadata": {
        "id": "-Tiwj_NIr3wi",
        "outputId": "9f4997c3-58b6-4ad2-da46-e49471dff8db",
        "colab": {
          "base_uri": "https://localhost:8080/",
          "height": 75
        }
      },
      "execution_count": 64,
      "outputs": [
        {
          "output_type": "display_data",
          "data": {
            "text/plain": [
              "<IPython.core.display.HTML object>"
            ],
            "text/html": [
              "<h4>Results for: <em>polar bear</em></h4>"
            ]
          },
          "metadata": {}
        },
        {
          "output_type": "stream",
          "name": "stdout",
          "text": [
            "0.611 | Bear spray vs. rifles against polar bears?\n"
          ]
        }
      ]
    },
    {
      "cell_type": "code",
      "source": [
        "semantic_search(\"bear\", titles, log=True)"
      ],
      "metadata": {
        "id": "mpwq95wBr_YE",
        "outputId": "f9acfd8f-d31d-47cd-b437-76af4321846b",
        "colab": {
          "base_uri": "https://localhost:8080/",
          "height": 75
        }
      },
      "execution_count": 65,
      "outputs": [
        {
          "output_type": "display_data",
          "data": {
            "text/plain": [
              "<IPython.core.display.HTML object>"
            ],
            "text/html": [
              "<h4>Results for: <em>bear</em></h4>"
            ]
          },
          "metadata": {}
        },
        {
          "output_type": "stream",
          "name": "stdout",
          "text": [
            "0.63 | Running in bear country\n"
          ]
        }
      ]
    }
  ],
  "metadata": {
    "kernelspec": {
      "display_name": "Python 3 (ipykernel)",
      "language": "python",
      "name": "python3"
    },
    "colab": {
      "provenance": [],
      "toc_visible": true,
      "include_colab_link": true
    }
  },
  "nbformat": 4,
  "nbformat_minor": 0
}