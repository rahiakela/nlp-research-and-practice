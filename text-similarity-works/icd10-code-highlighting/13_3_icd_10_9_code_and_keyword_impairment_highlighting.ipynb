{
  "nbformat": 4,
  "nbformat_minor": 0,
  "metadata": {
    "colab": {
      "provenance": [],
      "collapsed_sections": [
        "0hK4nU35JVaA",
        "N4dDTs-rJL_h",
        "TycHgKTZJ6a6"
      ],
      "authorship_tag": "ABX9TyO1JWo558gkPah0OA42UJR3",
      "include_colab_link": true
    },
    "kernelspec": {
      "name": "python3",
      "display_name": "Python 3"
    },
    "language_info": {
      "name": "python"
    }
  },
  "cells": [
    {
      "cell_type": "markdown",
      "metadata": {
        "id": "view-in-github",
        "colab_type": "text"
      },
      "source": [
        "<a href=\"https://colab.research.google.com/github/rahiakela/nlp-research-and-practice/blob/main/text-similarity-works/icd10-code-highlighting/13_3_icd_10_9_code_and_keyword_impairment_highlighting.ipynb\" target=\"_parent\"><img src=\"https://colab.research.google.com/assets/colab-badge.svg\" alt=\"Open In Colab\"/></a>"
      ]
    },
    {
      "cell_type": "markdown",
      "source": [
        "##Setup"
      ],
      "metadata": {
        "id": "u6vazPC0Ja4i"
      }
    },
    {
      "cell_type": "code",
      "source": [
        "%%capture\n",
        "\n",
        "!pip -q install spacy\n",
        "!python -m spacy download en_core_web_sm\n",
        "\n",
        "!pip install pillow\n",
        "\n",
        "!pip install more-itertools\n",
        "!pip install PyPDF2\n",
        "!pip install pymupdf==1.22.0\n",
        "!pip install fuzzywuzzy"
      ],
      "metadata": {
        "id": "gdwgVvXuJdz9"
      },
      "execution_count": 1,
      "outputs": []
    },
    {
      "cell_type": "code",
      "source": [
        "import fitz\n",
        "print(fitz.__doc__)"
      ],
      "metadata": {
        "colab": {
          "base_uri": "https://localhost:8080/"
        },
        "id": "sQxK2S849bPW",
        "outputId": "0eea6cfd-1baf-44c4-c0e4-a17ac19be1a2"
      },
      "execution_count": null,
      "outputs": [
        {
          "output_type": "stream",
          "name": "stdout",
          "text": [
            "\n",
            "PyMuPDF 1.22.0: Python bindings for the MuPDF 1.22.0 library.\n",
            "Version date: 2023-04-14 00:00:01.\n",
            "Built for Python 3.10 on linux (64-bit).\n",
            "\n"
          ]
        }
      ]
    },
    {
      "cell_type": "code",
      "source": [
        "import more_itertools\n",
        "print(more_itertools.__version__)"
      ],
      "metadata": {
        "id": "HvvtcxEO-wJB",
        "outputId": "a1315598-0c21-4b6d-e8e0-7c80cc55b84f",
        "colab": {
          "base_uri": "https://localhost:8080/"
        }
      },
      "execution_count": null,
      "outputs": [
        {
          "output_type": "stream",
          "name": "stdout",
          "text": [
            "10.1.0\n"
          ]
        }
      ]
    },
    {
      "cell_type": "code",
      "source": [
        "#!pip install pikepdf\n",
        "#!apt install ocrmypdf"
      ],
      "metadata": {
        "id": "YBXapnZzigSO"
      },
      "execution_count": null,
      "outputs": []
    },
    {
      "cell_type": "code",
      "source": [
        "import nltk\n",
        "\n",
        "nltk.download('punkt')\n",
        "nltk.download('stopwords')"
      ],
      "metadata": {
        "id": "X7HN48uMv2O-"
      },
      "execution_count": null,
      "outputs": []
    },
    {
      "cell_type": "code",
      "source": [
        "!python --version"
      ],
      "metadata": {
        "id": "4QPcnYT5AKpj",
        "colab": {
          "base_uri": "https://localhost:8080/"
        },
        "outputId": "61655107-21f5-45fb-b387-fe77aaea5043"
      },
      "execution_count": null,
      "outputs": [
        {
          "output_type": "stream",
          "name": "stdout",
          "text": [
            "Python 3.10.12\n"
          ]
        }
      ]
    },
    {
      "cell_type": "code",
      "source": [
        "!rm -rf data\n",
        "!unzip data.zip"
      ],
      "metadata": {
        "id": "YyREdYtyqNMK"
      },
      "execution_count": null,
      "outputs": []
    },
    {
      "cell_type": "markdown",
      "source": [
        "##Import"
      ],
      "metadata": {
        "id": "L0vdWKmkdeL6"
      }
    },
    {
      "cell_type": "code",
      "source": [
        "import re\n",
        "import os\n",
        "import shutil\n",
        "import glob\n",
        "import json\n",
        "import logging\n",
        "import more_itertools\n",
        "from pathlib import Path\n",
        "\n",
        "import numpy as np\n",
        "import pandas as pd\n",
        "\n",
        "import fitz\n",
        "\n",
        "from spacy.lang.en import English\n",
        "\n",
        "from nltk.tokenize import word_tokenize\n",
        "from nltk.corpus import stopwords\n",
        "from fuzzywuzzy import fuzz\n",
        "\n",
        "from dataclasses import dataclass\n",
        "from array import *\n",
        "\n",
        "from concurrent import futures\n",
        "from highlighting import Highlighter\n",
        "from keyword_matcher import KeywordMatcher\n",
        "from sentence_extractor import SentenceExtractor\n",
        "from generic_matcher import GenericMatcher\n",
        "import config as cfg\n",
        "from utils import *"
      ],
      "metadata": {
        "id": "gKbd7WsfyYX3",
        "colab": {
          "base_uri": "https://localhost:8080/"
        },
        "outputId": "7a335193-a607-42cb-b35d-4a101df92416"
      },
      "execution_count": 1,
      "outputs": [
        {
          "output_type": "stream",
          "name": "stderr",
          "text": [
            "/usr/local/lib/python3.10/dist-packages/fuzzywuzzy/fuzz.py:11: UserWarning: Using slow pure-python SequenceMatcher. Install python-Levenshtein to remove this warning\n",
            "  warnings.warn('Using slow pure-python SequenceMatcher. Install python-Levenshtein to remove this warning')\n"
          ]
        }
      ]
    },
    {
      "cell_type": "markdown",
      "source": [
        "##Core Classes"
      ],
      "metadata": {
        "id": "9oNqjgIsRpNm"
      }
    },
    {
      "cell_type": "code",
      "source": [
        "(238/255, 210/255, 2/255)"
      ],
      "metadata": {
        "id": "aQJui1vVhbad",
        "outputId": "b1d90c45-1a40-4bc8-ad87-ec6301cb923e",
        "colab": {
          "base_uri": "https://localhost:8080/"
        }
      },
      "execution_count": null,
      "outputs": [
        {
          "output_type": "execute_result",
          "data": {
            "text/plain": [
              "(0.9333333333333333, 0.8235294117647058, 0.00784313725490196)"
            ]
          },
          "metadata": {},
          "execution_count": 5
        }
      ]
    },
    {
      "cell_type": "code",
      "source": [
        "class Highlighter:\n",
        "    def __init__(self, match_threshold=30):\n",
        "        # loading and updating patterns for ICD-10 code\n",
        "        self.nlp_code10 = English()\n",
        "        self.nlp_code10.add_pipe(\"entity_ruler\").from_disk(cfg.pattern_files[\"icd_10_jsonl\"])\n",
        "\n",
        "        # loading and updating patterns for ICD-9 code\n",
        "        if cfg.load_pattern[\"icd_code9\"]:\n",
        "            self.nlp_code9 = English()\n",
        "            self.nlp_code9.add_pipe(\"entity_ruler\").from_disk(cfg.pattern_files[\"icd_9_jsonl\"])\n",
        "\n",
        "        self.match_threshold = match_threshold\n",
        "        self.impairment_keyword_dict = None\n",
        "        self.page_matched_date_dict = None\n",
        "        self.page_matched_number_dict = None\n",
        "        self.text_list = None\n",
        "\n",
        "        # define icd-10 code dataset\n",
        "        core_df = pd.read_csv(cfg.csv_files[\"CODE_CSV\"])\n",
        "        self.code_df = core_df.where(pd.notnull(core_df), None)\n",
        "        self.synid_df = pd.read_csv(cfg.csv_files[\"IMP_CSV\"])\n",
        "\n",
        "        # define required directory path\n",
        "        self.PDF_FILES_PATH = cfg.file_path[\"TMP_PDF_FILES_PATH\"]\n",
        "        self.TXT_FILES_PATH = cfg.file_path[\"TMP_TXT_FILES_PATH\"]\n",
        "        self.OUTPUT_FILES_PATH = cfg.file_path[\"OUTPUT_PATH\"]\n",
        "\n",
        "        self.logger = logging.getLogger(__name__)\n",
        "\n",
        "    def set_impairment_keyword_dict(self, imp_keyword_dict):\n",
        "        self.impairment_keyword_dict = imp_keyword_dict\n",
        "\n",
        "    def set_page_matched_date_dict(self, matched_date_dict):\n",
        "        self.page_matched_date_dict = matched_date_dict\n",
        "\n",
        "    def set_page_matched_number_dict(self, matched_number_dict):\n",
        "        self.page_matched_number_dict = matched_number_dict\n",
        "\n",
        "    def set_match_threshold(self, match_val):\n",
        "        self.match_threshold = match_val\n",
        "\n",
        "    def set_text_list(self, p_text_list):\n",
        "        self.text_list = p_text_list\n",
        "\n",
        "    def highlight_all(self, icd10_code_dict, pdf_file_name=None, highlight_all=False):\n",
        "        pdf_file = fitz.open(pdf_file_name)\n",
        "        json_data = []\n",
        "        json_imp_data = []\n",
        "        json_date_data = []\n",
        "\n",
        "        for page_num, page in enumerate(pdf_file):\n",
        "            already_done_page_list = []\n",
        "            self.code_y2_coords_list = []\n",
        "            self.already_found_word_list = []\n",
        "            self.highlighted_coord_list = []\n",
        "            code_highlight_dict = {}\n",
        "\n",
        "            # highlight ICD-10 code\n",
        "            if page_num in icd10_code_dict:\n",
        "                num_page = page_num + 1\n",
        "\n",
        "                # let's store code y2 coords\n",
        "                for code in icd10_code_dict[page_num]:\n",
        "                    highlight_list = page.search_for(code)\n",
        "                    #print(f\"Page-{num_page}-{code}, Coordinate: {highlight_list}\")\n",
        "                    if len(highlight_list) > 0:\n",
        "                        code_highlight_dict[code] = highlight_list\n",
        "                        self.code_y2_coords_list.extend([highlight[3] for highlight in highlight_list])\n",
        "                    else:\n",
        "                        for alt_code in get_alternate_code_pattern(code):\n",
        "                            highlight_list = page.search_for(alt_code)\n",
        "                            for highlight in highlight_list:\n",
        "                                if len(highlight) > 0:\n",
        "                                    code_highlight_dict[code] = [highlight]\n",
        "                                    # print(f\"alternate-code:{code}, Coordinate: {highlight}\")\n",
        "                                    self.code_y2_coords_list.extend([highlight[3]])\n",
        "                                    # print(f\"[highlight[3]]: {[highlight[3]]}\")\n",
        "\n",
        "                filtered_code_highlight_dict = filter_duplicate_coordinate(code_highlight_dict)\n",
        "                # now, let highlight every code and its common words\n",
        "                for code, highlight_list in filtered_code_highlight_dict.items():\n",
        "                    prev_highlight = fitz.Rect(0, 0, 0, 0)\n",
        "                    for highlight in highlight_list:\n",
        "                        keyword = get_keyword(code, self.code_df)\n",
        "                        # get match score and common words coordinate\n",
        "                        if not highlight_all:\n",
        "                          all_match_keyword_list, all_match_imp_keyword_list = self.get_best_token_match(page_num,\n",
        "                                                                                                        code,\n",
        "                                                                                                        page,\n",
        "                                                                                                        highlight[3],\n",
        "                                                                                                        self.match_threshold)\n",
        "                        else:\n",
        "                          all_match_keyword_list, all_match_imp_keyword_list = self.get_best_all_token_match(page_num,\n",
        "                                                                                                        code,\n",
        "                                                                                                        page,\n",
        "                                                                                                        highlight[3],\n",
        "                                                                                                        self.match_threshold)\n",
        "\n",
        "                        # Step-1: highlight and set color coding dont have common words\n",
        "                        if not all_match_keyword_list:\n",
        "                            highlight_code(page, highlight)\n",
        "                            # prepare json object\n",
        "                            json_data.append(prepare_json_object(num_page, code, self.code_df, highlight, keyword))\n",
        "\n",
        "                        # Step-2: highlight and set color coding that have common words\n",
        "                        for match_keyword_dict in all_match_keyword_list:\n",
        "                            # highlight ICD-10 code\n",
        "                            if not is_coord_equal(prev_highlight, highlight):\n",
        "                              highlight_code(page, highlight)\n",
        "                              prev_highlight = highlight\n",
        "                            # highlight common words\n",
        "                            highlight_coords_dict = {}\n",
        "                            highlight_coords_dict, highlighted_word_list = self.highlight_common_words(page, match_keyword_dict[\"common_words_coords\"])\n",
        "                            # prepare json object\n",
        "                            json_data.append(prepare_json_object(num_page, code, self.code_df, highlight, keyword, match_keyword_dict, highlight_coords_dict))\n",
        "\n",
        "                        # Step-3: highlight and set color coding for impairment keyword common words\n",
        "                        json_imp_data_list = []\n",
        "                        for match_imp_keyword_dict in all_match_imp_keyword_list:\n",
        "                            json_imp_data_object = {}\n",
        "                            # highlight common words\n",
        "                            highlight_coords_dict = {}\n",
        "                            if \"imp_common_keyword_coords\" in match_imp_keyword_dict:\n",
        "                              if match_imp_keyword_dict[\"imp_common_keyword_coords\"]:\n",
        "                                highlight_coords_list = self.highlight_impairment(page, num_page, match_imp_keyword_dict[\"imp_common_keyword_coords\"])\n",
        "                                already_done_page_list.append(page_num)\n",
        "                                # prepare json object\n",
        "                                if highlight_coords_list:\n",
        "                                  json_imp_data_list.extend(highlight_coords_list)\n",
        "                        if len(json_imp_data_list) > 0:\n",
        "                            json_imp_data.extend(json_imp_data_list)\n",
        "\n",
        "            # highlight impairment key phrase\n",
        "            if page_num in self.impairment_keyword_dict and page_num not in already_done_page_list:\n",
        "              json_imp_data_list = self.highlight_keyword_impairment_data(page, page_num)\n",
        "              if len(json_imp_data_list) > 0:\n",
        "                json_imp_data.extend(json_imp_data_list)\n",
        "\n",
        "            # highlight date and time in PDF\n",
        "            if page_num in self.page_matched_date_dict:\n",
        "                json_date_data_list = self.highlight_date_and_time(page, page_num)\n",
        "                if len(json_date_data_list) > 0:\n",
        "                  json_date_data.extend(json_date_data_list)\n",
        "\n",
        "        # save PDF and JSON output file\n",
        "        pdf_output_file_name, json_data_dump_file = save_output_file(pdf_object=pdf_file, cfg=cfg,\n",
        "                                                                     output_type=2 if highlight_all else 1,\n",
        "                                                                     output_path=self.OUTPUT_FILES_PATH,\n",
        "                                                                     output_file_name=pdf_file_name,\n",
        "                                                                     json_data=json_data,\n",
        "                                                                     json_imp_data=json_imp_data,\n",
        "                                                                     json_date_data=json_date_data)\n",
        "        return pdf_output_file_name, json_data_dump_file\n",
        "\n",
        "    def highlight_icd_code_and_common_words(self, icd10_code_dict, pdf_file_name=None):\n",
        "        pdf_file = fitz.open(pdf_file_name)\n",
        "        json_data = []\n",
        "\n",
        "        for page_num, page in enumerate(pdf_file):\n",
        "            self.code_y2_coords_list = []\n",
        "            self.already_found_word_list = []\n",
        "            code_highlight_dict = {}\n",
        "\n",
        "            # highlight ICD-10 code\n",
        "            if page_num in icd10_code_dict:\n",
        "                num_page = page_num + 1\n",
        "                # let's store code y2 coords\n",
        "                for code in icd10_code_dict[page_num]:\n",
        "                    highlight_list = page.search_for(code)\n",
        "                    #print(f\"Page-{num_page}-{code}, Coordinate: {highlight_list}\")\n",
        "                    if len(highlight_list) > 0:\n",
        "                        code_highlight_dict[code] = highlight_list\n",
        "                        self.code_y2_coords_list.extend([highlight[3] for highlight in highlight_list])\n",
        "                    else:\n",
        "                        for alt_code in get_alternate_code_pattern(code):\n",
        "                            highlight_list = page.search_for(alt_code)\n",
        "                            for highlight in highlight_list:\n",
        "                                if len(highlight) > 0:\n",
        "                                    code_highlight_dict[code] = [highlight]\n",
        "                                    #print(f\"alternate-code:{code}, Coordinate: {highlight}\")\n",
        "                                    self.code_y2_coords_list.extend([highlight[3]])\n",
        "\n",
        "                filtered_code_highlight_dict = filter_duplicate_coordinate(code_highlight_dict)\n",
        "                # now, let highlight every code and its common words\n",
        "                for code, highlight_list in filtered_code_highlight_dict.items():\n",
        "                    prev_highlight = fitz.Rect(0, 0, 0, 0)\n",
        "                    for highlight in highlight_list:\n",
        "                        keyword = get_keyword(code, self.code_df)\n",
        "                        # get match score and common words coordinate\n",
        "                        all_match_keyword_list, all_match_imp_keyword_list = self.get_best_token_match(page_num, code,\n",
        "                                                                                                       page,\n",
        "                                                                                                       highlight[3],\n",
        "                                                                                                       self.match_threshold)\n",
        "\n",
        "                        # Step-1: highlight and set color coding dont have common words\n",
        "                        if not all_match_keyword_list:\n",
        "                            page_highlight = page.add_highlight_annot(highlight)\n",
        "                            page_highlight.set_colors(stroke=[0.92, 0.59, 0.48])  # dark salmon\n",
        "                            page_highlight.update()\n",
        "                            # prepare json object\n",
        "                            json_data.append(prepare_json_object(num_page, code, self.code_df, highlight, keyword))\n",
        "\n",
        "                        # Step-2: highlight and set color coding that have common words\n",
        "                        for match_keyword_dict in all_match_keyword_list:\n",
        "                            # highlight ICD-10 code\n",
        "                            if not self.is_coord_equal(prev_highlight, highlight):\n",
        "                              highlight_code(page, highlight)\n",
        "                              prev_highlight = highlight\n",
        "                            # highlight common words\n",
        "                            highlight_coords_dict = {}\n",
        "                            highlight_coords_dict, highlighted_word_list = self.highlight_common_words(page, match_keyword_dict[\"common_words_coords\"])\n",
        "\n",
        "                            # prepare json object\n",
        "                            json_data.append(prepare_json_object(num_page, code, self.code_df, highlight, keyword, match_keyword_dict, highlight_coords_dict))\n",
        "\n",
        "        # save PDF and JSON output file\n",
        "        pdf_output_file_name, json_data_dump_file = save_output_file(pdf_file, cfg, 3, self.OUTPUT_FILES_PATH, pdf_file_name, json_data)\n",
        "        return pdf_output_file_name, json_data_dump_file\n",
        "\n",
        "    def highlight_icd_code_and_keyword_impairment(self, icd10_code_dict, icd9_code_dict=None, pdf_file_name=None):\n",
        "      pdf_file = fitz.open(pdf_file_name)\n",
        "      json_data = []\n",
        "      json_imp_data = []\n",
        "      json_date_data = []\n",
        "      json_number_data = []\n",
        "\n",
        "      for page_num, page in enumerate(pdf_file):\n",
        "        already_done_page_list = []\n",
        "        self.code_y2_coords_list = []\n",
        "        self.already_found_word_list = []\n",
        "        self.highlighted_coord_list = []\n",
        "        self.highlighted_term_list = []\n",
        "        code_highlight_dict = {}\n",
        "\n",
        "        # highlight ICD-10 code\n",
        "        if page_num in icd10_code_dict:\n",
        "            num_page = page_num + 1\n",
        "\n",
        "            # let's store code y2 coords\n",
        "            for code in icd10_code_dict[page_num]:\n",
        "                highlight_list = page.search_for(code)\n",
        "                # print(f\"Page-{num_page}-{code}, Coordinate: {highlight_list}\")\n",
        "                if len(highlight_list) > 0:\n",
        "                    code_highlight_dict[code] = highlight_list\n",
        "                    self.code_y2_coords_list.extend([highlight[3] for highlight in highlight_list])\n",
        "                else:\n",
        "                    for alt_code in get_alternate_code_pattern(code):\n",
        "                        highlight_list = page.search_for(alt_code)\n",
        "                        for highlight in highlight_list:\n",
        "                            if len(highlight) > 0:\n",
        "                                code_highlight_dict[code] = [highlight]\n",
        "                                # print(f\"alternate-code:{code}, Coordinate: {highlight}\")\n",
        "                                self.code_y2_coords_list.extend([highlight[3]])\n",
        "                                # print(f\"[highlight[3]]: {[highlight[3]]}\")\n",
        "            # print(f\"code_highlight_dict: {code_highlight_dict}\")\n",
        "            filtered_code_highlight_dict = filter_duplicate_coordinate(code_highlight_dict)\n",
        "            # now, let highlight every code and its common words\n",
        "            for code, highlight_list in filtered_code_highlight_dict.items():\n",
        "                # print(f\"code-{code}, Coordinate: {highlight_list}\")\n",
        "                prev_highlight = fitz.Rect(0, 0, 0, 0)\n",
        "                for highlight in highlight_list:\n",
        "                    # Step-1: highlight ICD-10 code\n",
        "                    #print(f\"prev_highlight: {prev_highlight}\")\n",
        "                    if not is_coord_equal(prev_highlight, highlight):\n",
        "                      #print(f\"highlight: {highlight}\")\n",
        "                      highlight_code(page, highlight)\n",
        "                      prev_highlight = highlight\n",
        "                    # prepare json object\n",
        "                    json_data.append(prepare_code_json_object(num_page, code, highlight))\n",
        "\n",
        "        # highlight ICD-9 code\n",
        "        if icd9_code_dict is not None:\n",
        "            if page_num in icd9_code_dict:\n",
        "              num_page = page_num + 1\n",
        "              for code in icd9_code_dict[page_num]:\n",
        "                highlight_list = page.search_for(code)\n",
        "                \"\"\"\n",
        "                if len(highlight_list) == 0:\n",
        "                    alternate_code_list = get_optional_pattern(code)\n",
        "                    for alt_code in alternate_code_list:\n",
        "                        highlights = page.search_for(alt_code)\n",
        "                        # highlight pdf for optional pattern\n",
        "                        for highlight in highlights:\n",
        "                          if is_exact_match(page, alt_code, highlight, full_match=True, case_sensitive=True):\n",
        "                            highlight_code(page, highlight, code_type=\"ICD-9\")\n",
        "                            json_data.append(prepare_code_json_object(num_page, alt_code, highlight, code_type=\"ICD-9\"))\n",
        "                \"\"\"\n",
        "                # highlight pdf for main pattern\n",
        "                for highlight in highlight_list:\n",
        "                    if is_exact_code_match(page, highlight):\n",
        "                      highlight_code(page, highlight, code_type=\"ICD-9\")\n",
        "                      # prepare json object\n",
        "                      json_data.append(prepare_code_json_object(num_page, code, highlight, code_type=\"ICD-9\"))\n",
        "\n",
        "        # highlight keyword impairment phrase\n",
        "        # if page_num in self.impairment_keyword_dict and page_num not in already_done_page_list:\n",
        "        if page_num in self.impairment_keyword_dict:\n",
        "          json_imp_data_list = self.highlight_keyword_impairment_data(page, page_num)\n",
        "          if len(json_imp_data_list) > 0:\n",
        "            json_imp_data.extend(json_imp_data_list)\n",
        "\n",
        "        # highlight date and time in PDF\n",
        "        if page_num in self.page_matched_date_dict:\n",
        "          json_date_data_list = self.highlight_date_and_time(page, page_num)\n",
        "          if len(json_date_data_list) > 0:\n",
        "            json_date_data.extend(json_date_data_list)\n",
        "\n",
        "        # highlight number data in PDF\n",
        "        if page_num in self.page_matched_number_dict:\n",
        "            json_number_data_list = self.highlight_number_data(page, page_num)\n",
        "            if len(json_number_data_list) > 0:\n",
        "                json_number_data.extend(json_number_data_list)\n",
        "\n",
        "      # save PDF and JSON output file\n",
        "      pdf_output_file_name, json_data_dump_file = save_output_file(pdf_object=pdf_file, cfg=cfg,\n",
        "                                                                   output_type=4,\n",
        "                                                                   output_path=self.OUTPUT_FILES_PATH,\n",
        "                                                                   output_file_name=pdf_file_name,\n",
        "                                                                   json_data=json_data,\n",
        "                                                                   json_imp_data=json_imp_data,\n",
        "                                                                   json_date_data=json_date_data,\n",
        "                                                                   json_number_data=json_number_data)\n",
        "      return pdf_output_file_name, json_data_dump_file\n",
        "\n",
        "    def highlight_keyword_impairment(self, pdf_file_name=None):\n",
        "        pdf_file = fitz.open(pdf_file_name)\n",
        "        json_imp_data = []\n",
        "        for page_num, page in enumerate(pdf_file):\n",
        "          self.highlighted_coord_list = []\n",
        "          # highlight ICD key phrase\n",
        "          if page_num in self.impairment_keyword_dict:\n",
        "            json_imp_data_list = []\n",
        "            num_page = page_num + 1\n",
        "            imp_keywords_coord_dict = {}\n",
        "            key_phrase_sents = self.impairment_keyword_dict[page_num]\n",
        "            for key_phrase_sent in key_phrase_sents:\n",
        "              #print(f\"key_phrase_sent: {key_phrase_sent}\")\n",
        "              coordinates = page.search_for(key_phrase_sent)\n",
        "              imp_keywords_coord_dict[key_phrase_sent] = coordinates\n",
        "            highlight_coords_list = self.highlight_impairment(page, num_page, imp_keywords_coord_dict)\n",
        "            if len(highlight_coords_list) > 0:\n",
        "              json_imp_data_list.extend(highlight_coords_list)\n",
        "            if len(json_imp_data_list) > 0:\n",
        "              json_imp_data.extend(json_imp_data_list)\n",
        "\n",
        "        # save PDF and JSON output file\n",
        "        pdf_output_file_name, json_data_dump_file = save_output_file(pdf_file, cfg, 5, self.OUTPUT_FILES_PATH, pdf_file_name, json_imp_data=json_imp_data)\n",
        "        return pdf_output_file_name, json_data_dump_file\n",
        "\n",
        "    def highlight_keyword_impairment_data(self, p_page, page_num):\n",
        "      json_imp_data_list = []\n",
        "      num_page = page_num + 1\n",
        "      # print(f\"num_page: {num_page}\")\n",
        "      imp_keywords_coord_dict = {}\n",
        "\n",
        "      def highlight_multi_key_phrase(p_keyword_impairment, batch_coord):\n",
        "        phrase_coords = []\n",
        "        filter_coords = []\n",
        "        try:\n",
        "            f_coord = batch_coord[0]\n",
        "            l_coord = batch_coord[-1]\n",
        "            # first coord y1,y2 and second coord y1,y2 must be equal if it is same phrase\n",
        "            if f_coord[1] == l_coord[1] and f_coord[3] == l_coord[3]:\n",
        "              # check first coord x2 and second coord x1 is more than 100(means the same line phrase occurrence)\n",
        "              if (l_coord[0] - f_coord[2]) > 100:\n",
        "                  phrase_coords.extend([\n",
        "                      (f_coord[0], f_coord[1], f_coord[2], f_coord[3]),\n",
        "                      (l_coord[0], l_coord[1], l_coord[2], l_coord[3])\n",
        "                  ])\n",
        "              else:\n",
        "                phrase_coords.extend([(f_coord[0], f_coord[1], l_coord[2], l_coord[3])])\n",
        "            for phrase_coord in phrase_coords:\n",
        "                # print(f\"phrase_coord: {phrase_coord}\")\n",
        "                if is_exact_match(p_page, p_keyword_impairment, phrase_coord, full_match=True, case_sensitive=True) \\\n",
        "                  and not is_coord_already_highlighted(self.highlighted_coord_list, phrase_coord):\n",
        "                  p_highlight = p_page.add_highlight_annot(phrase_coord)\n",
        "                  p_highlight.update()\n",
        "                  filter_coords.append(phrase_coord)\n",
        "                  self.highlighted_coord_list.append(phrase_coord)\n",
        "                # print(f\"key_phrase: {p_keyword_impairment}, phrase_coord: {phrase_coord}\")\n",
        "        except ValueError as ve:\n",
        "            #print(f\"ERROR: coordinate not found>>{ve}\")\n",
        "            self.logger.error(f\"ERROR: coordinate not found>>{ve}\")\n",
        "        return filter_coords\n",
        "\n",
        "      def get_json_data(coords, k_impairment):\n",
        "        return {\n",
        "            \"coords\": coords,\n",
        "            \"synid\": get_synid(k_impairment, self.synid_df),\n",
        "            # \"keyword_field\": get_keyword_field(key_phrase_sent, synid_df)\n",
        "          }\n",
        "\n",
        "      keyword_impairment_dict = self.impairment_keyword_dict[page_num]\n",
        "      for keyword_impairment in keyword_impairment_dict.keys():\n",
        "          # print(f\"key_phrase_sent: {keyword_impairment}\")\n",
        "          coordinates = p_page.search_for(keyword_impairment)\n",
        "          # print(f\"coordinates: {coordinates}\")\n",
        "\n",
        "          phrase_len = len(keyword_impairment.split())\n",
        "          if coordinates:\n",
        "            # highlight word phrase that have equal word phrase and coord length(single phrase occurrence)\n",
        "            if phrase_len == len(coordinates) and phrase_len != 1:\n",
        "                imp_keywords_coord_dict[keyword_impairment] = get_json_data(highlight_multi_key_phrase(keyword_impairment, coordinates), keyword_impairment_dict[keyword_impairment])\n",
        "            # highlight word phrase that do not have equal word phrase and coord length(multiple phrase occurrence)\n",
        "            elif int(len(coordinates) / phrase_len) * phrase_len == len(coordinates):\n",
        "                phrase_coord_list = []\n",
        "                # batch coord list by dividing its length with phrase length\n",
        "                for batch_coord in more_itertools.batched(coordinates, phrase_len):\n",
        "                    phrase_coord_list.extend(highlight_multi_key_phrase(keyword_impairment, batch_coord))\n",
        "                imp_keywords_coord_dict[keyword_impairment] = get_json_data(phrase_coord_list, keyword_impairment_dict[keyword_impairment])\n",
        "            else:\n",
        "                coords_list = []\n",
        "                for coord in coordinates:\n",
        "                    if is_exact_match(p_page, keyword_impairment, coord, full_match=True, case_sensitive=True) and not is_coord_already_highlighted(self.highlighted_coord_list, coord):\n",
        "                        page_highlight = p_page.add_highlight_annot(coord)\n",
        "                        page_highlight.update()\n",
        "                        coords_list.extend((coord[0], coord[1], coord[2], coord[3]))\n",
        "                        self.highlighted_coord_list.append(coord)\n",
        "                        # print(f\"key_phrase: {keyword_impairment}, keywords_coord: {coord}\")\n",
        "                # print(f\"coords_list: {coords_list}\")\n",
        "                imp_keywords_coord_dict[keyword_impairment] = get_json_data(coords_list, keyword_impairment_dict[keyword_impairment])\n",
        "      # print(f\"imp_keywords_coord_dict: {imp_keywords_coord_dict}\")\n",
        "      if imp_keywords_coord_dict:\n",
        "        json_imp_data_list.extend(prepare_imp_json_object(num_page, imp_keywords_coord_dict))\n",
        "      return json_imp_data_list\n",
        "\n",
        "    def highlight_date_and_time(self, p_page, page_num):\n",
        "        num_page = page_num + 1\n",
        "        json_date_data_list = []\n",
        "        highlight_coords_list = []\n",
        "        page_date_coord_dict = {}\n",
        "\n",
        "        def highlight_date(p_coordinate, p_date):\n",
        "          page_highlight = p_page.add_highlight_annot(p_coordinate)\n",
        "          page_highlight.set_colors(stroke=[0.529, 0.807, 0.921])  # sky blue\n",
        "          page_highlight.update()\n",
        "          page_date_coord_dict[p_date] = [p_coordinate[0], p_coordinate[1], p_coordinate[2], p_coordinate[3]]\n",
        "          self.highlighted_term_list.append(p_date)\n",
        "\n",
        "        page_date_list = self.page_matched_date_dict[page_num]\n",
        "        for page_date in page_date_list:\n",
        "            coordinates = p_page.search_for(page_date)\n",
        "            for coordinate in coordinates:\n",
        "              if len(re.findall(r\"^\\d+$\", page_date.strip())) > 0:\n",
        "                if is_exact_year_match(p_page, page_date, coordinate, self.highlighted_term_list):\n",
        "                  highlight_date(coordinate, page_date)\n",
        "              else:\n",
        "                highlight_date(coordinate, page_date)\n",
        "\n",
        "        if page_date_coord_dict:\n",
        "            highlight_coords_list.append(prepare_generic_json_object(num_page, page_date_coord_dict))\n",
        "        if len(highlight_coords_list) > 0:\n",
        "            json_date_data_list.extend(highlight_coords_list)\n",
        "        return json_date_data_list\n",
        "\n",
        "    def highlight_number_data(self, p_page, page_num):\n",
        "        num_page = page_num + 1\n",
        "        json_number_data_list = []\n",
        "        highlight_coords_list = []\n",
        "        page_number_coord_dict = {}\n",
        "        # real number regex\n",
        "        real_number_regex = \"^(?:-(?:[1-9](?:\\\\d{0,2}(?:,\\\\d{3})+|\\\\d*))|(?:0|(?:[1-9](?:\\\\d{0,2}(?:,\\\\d{3})+|\\\\d*))))(?:.\\\\d+|)$\"\n",
        "\n",
        "        page_number_list = self.page_matched_number_dict[page_num]\n",
        "        for page_number in page_number_list:\n",
        "            coordinates = p_page.search_for(page_number)\n",
        "            for coordinate in coordinates:\n",
        "                if len(re.findall(rf\"{real_number_regex}\", page_number.strip())) > 0:\n",
        "                    if is_exact_number_match(p_page, page_number, coordinate):\n",
        "                        page_highlight = p_page.add_highlight_annot(coordinate)\n",
        "                        page_highlight.set_colors(stroke=[0.529, 0.907, 0.421])  # sky blue\n",
        "                        page_highlight.update()\n",
        "                        page_number_coord_dict[page_number] = [coordinate[0], coordinate[1], coordinate[2], coordinate[3]]\n",
        "\n",
        "        if page_number_coord_dict:\n",
        "            highlight_coords_list.append(prepare_generic_json_object(num_page, page_number_coord_dict))\n",
        "        if len(highlight_coords_list) > 0:\n",
        "            json_number_data_list.extend(highlight_coords_list)\n",
        "        return json_number_data_list\n",
        "\n",
        "    def highlight_common_words(self, page_obj, common_words_coord_dict):\n",
        "        highlight_coords_dict = {}\n",
        "        highlighted_word_list = []\n",
        "\n",
        "        prev_common_word = \"\"\n",
        "        for common_word, common_word_coord in common_words_coord_dict.items():\n",
        "            highlight = page_obj.add_highlight_annot(common_word_coord)\n",
        "            highlight.update()\n",
        "            if prev_common_word.lower() != common_word.lower():\n",
        "                highlight_coords_dict[common_word] = common_word_coord\n",
        "                highlighted_word_list.append(common_word)\n",
        "                prev_common_word = common_word\n",
        "        return highlight_coords_dict, highlighted_word_list\n",
        "\n",
        "    def get_best_token_match(self, page_num, p_code, page_obj, code_y2_coord, match_threshold):\n",
        "        all_match_keyword_list = []\n",
        "        all_match_imp_keyword_list = []\n",
        "\n",
        "        # Step 1: reverse code pattern\n",
        "        reversed_icd_code = reverse_code_pattern(p_code)\n",
        "        # Step 2: fetch keyword based on code\n",
        "        keyword = get_keyword(reversed_icd_code, self.code_df)\n",
        "        # Step 3: get code paragraph\n",
        "        code_paragraph_list, non_code_paragraph_list = get_paragraph(page_obj, code_y2_coord)\n",
        "        # print(f\"code_paragraph_list: {non_code_paragraph_list}\")\n",
        "\n",
        "        # Step 4: prepare code_paragraph for common words\n",
        "        for code_paragraph in code_paragraph_list:\n",
        "            match_keyword_dict = {}\n",
        "            common_words = get_common_words(keyword, code_paragraph)\n",
        "            if len(common_words) > 0:\n",
        "                match_keyword_dict[\"common_words\"] = common_words\n",
        "                # Step 4: get best token match ratio\n",
        "                clean_paragraph = \" \".join(clean_text(code_paragraph))\n",
        "                match_keyword_dict[\"paragraph\"] = clean_paragraph\n",
        "                # match_score = fuzz.token_set_ratio(keyword, clean_paragraph)\n",
        "                # if fuzz.token_set_ratio(keyword, clean_paragraph) >= match_threshold else 0\n",
        "                match_keyword_dict[\"score\"] = fuzz.token_set_ratio(keyword, clean_paragraph)\n",
        "                # Step 5: build common words coordinate dict\n",
        "                common_words_coord_dict = {}\n",
        "                #print(f\"code_y2_coord: {code_y2_coord}\")\n",
        "                for common_word in common_words:\n",
        "                    highlight_list = page_obj.search_for(common_word)\n",
        "                    #print(f\"highlight_list: {highlight_list}\")\n",
        "                    found_coord = False\n",
        "                    for highlight in highlight_list:\n",
        "                        # get common word y2 coord value\n",
        "                        common_word_y2_coords = highlight[3]\n",
        "                        common_word_y1_coords = highlight[1]\n",
        "                        if (code_y2_coord - 2) <= common_word_y2_coords <= (code_y2_coord + 2):\n",
        "                          common_words_coord_dict[common_word] = highlight\n",
        "                          found_coord = True\n",
        "                        if not found_coord:\n",
        "                          if (code_y2_coord - 20) <= common_word_y2_coords <= (code_y2_coord + 20):\n",
        "                            common_words_coord_dict[common_word] = highlight\n",
        "                            # self.already_found_word_list.append(common_word)\n",
        "                match_keyword_dict[\"common_words_coords\"] = common_words_coord_dict\n",
        "                all_match_keyword_list.append(match_keyword_dict)\n",
        "\n",
        "        def get_keyword_impairment_list(p_paragraph):\n",
        "            keyword_impairments = []\n",
        "            for keyword_impairment in self.impairment_keyword_dict[page_num]:\n",
        "                keyword_impairment_found = get_common_words(keyword_impairment, p_paragraph)\n",
        "                if len(keyword_impairment_found) > 0:\n",
        "                    keyword_impairments.append(keyword_impairment)\n",
        "            return keyword_impairments\n",
        "\n",
        "        # Step 5: prepare non code_paragraph for common words\n",
        "        for non_code_paragraph in non_code_paragraph_list:\n",
        "            match_imp_keyword_dict = {}\n",
        "            imp_common_words_coord_dict = {}\n",
        "            keyword_impairment_list = get_keyword_impairment_list(non_code_paragraph)\n",
        "            for keyword_impairment in keyword_impairment_list:\n",
        "                highlight_list = page_obj.search_for(keyword_impairment)\n",
        "                highlight_list = [highlight for highlight in highlight_list if highlight[3] not in self.code_y2_coords_list]\n",
        "                if keyword_impairment not in self.already_found_word_list and len(highlight_list) > 0:\n",
        "                    self.already_found_word_list.append(keyword_impairment)\n",
        "                    imp_common_words_coord_dict[f\"{keyword_impairment}\"] = highlight_list\n",
        "                    continue\n",
        "            match_imp_keyword_dict[\"imp_common_keyword_coords\"] = imp_common_words_coord_dict\n",
        "            all_match_imp_keyword_list.append(match_imp_keyword_dict)\n",
        "\n",
        "        return all_match_keyword_list, all_match_imp_keyword_list\n",
        "\n",
        "    def get_best_all_token_match(self, page_num, p_code, page_obj, code_y2_coord, match_threshold):\n",
        "        all_match_keyword_list = []\n",
        "        all_match_imp_keyword_list = []\n",
        "\n",
        "        # Step 1: reverse code pattern\n",
        "        reversed_icd_code = reverse_code_pattern(p_code)\n",
        "        # Step 2: fetch keyword based on code\n",
        "        keyword = get_keyword(reversed_icd_code, self.code_df)\n",
        "        # Step 3: get all paragraph\n",
        "        all_paragraph_list = get_all_paragraph(page_obj)\n",
        "        # print(f\"code_paragraph_list: {non_code_paragraph_list}\")\n",
        "\n",
        "        def get_keyword_impairment_list(p_paragraph):\n",
        "          keyword_impairments = []\n",
        "          for keyword_impairment in self.impairment_keyword_dict[page_num]:\n",
        "              keyword_impairment_found = get_common_words(keyword_impairment, p_paragraph)\n",
        "              if len(keyword_impairment_found) > 0:\n",
        "                  keyword_impairments.append(keyword_impairment)\n",
        "          return keyword_impairments\n",
        "\n",
        "        # Step 4: prepare all_paragraph for common words and impairment\n",
        "        for all_paragraph in all_paragraph_list:\n",
        "          match_keyword_dict = {}\n",
        "          common_words = get_common_words(keyword, all_paragraph)\n",
        "          if len(common_words) > 0:\n",
        "              match_keyword_dict[\"common_words\"] = common_words\n",
        "              # Step 4: get best token match ratio\n",
        "              clean_paragraph = \" \".join(clean_text(all_paragraph))\n",
        "              match_keyword_dict[\"paragraph\"] = clean_paragraph\n",
        "              # match_score = fuzz.token_set_ratio(keyword, clean_paragraph)\n",
        "              # if fuzz.token_set_ratio(keyword, clean_paragraph) >= match_threshold else 0\n",
        "              match_keyword_dict[\"score\"] = fuzz.token_set_ratio(keyword, clean_paragraph)\n",
        "              # Step 5: build common words coordinate dict\n",
        "              common_words_coord_dict = {}\n",
        "              for common_word in common_words:\n",
        "                  highlight_list = page_obj.search_for(common_word)\n",
        "                  found_coord = False\n",
        "                  for highlight in highlight_list:\n",
        "                      # get common word y2 coord value\n",
        "                      common_word_y2_coords = highlight[3]\n",
        "                      if (code_y2_coord - 2) <= common_word_y2_coords <= (code_y2_coord + 2):\n",
        "                        common_words_coord_dict[common_word] = highlight\n",
        "                        found_coord = True\n",
        "                      if not found_coord:\n",
        "                        if (code_y2_coord - 20) <= common_word_y2_coords <= (code_y2_coord + 20):\n",
        "                          common_words_coord_dict[common_word] = highlight\n",
        "                          # self.already_found_word_list.append(common_word)\n",
        "              match_keyword_dict[\"common_words_coords\"] = common_words_coord_dict\n",
        "              all_match_keyword_list.append(match_keyword_dict)\n",
        "          else:\n",
        "            # Step 5: prepare non code_paragraph for common words\n",
        "            match_imp_keyword_dict = {}\n",
        "            imp_common_words_coord_dict = {}\n",
        "            keyword_impairment_list = get_keyword_impairment_list(all_paragraph)\n",
        "            for keyword_impairment in keyword_impairment_list:\n",
        "              #print(f\"keyword_impairment11: {keyword_impairment}\")\n",
        "              highlight_list = page_obj.search_for(keyword_impairment)\n",
        "              if keyword_impairment not in self.already_found_word_list and len(highlight_list) > 0:\n",
        "                self.already_found_word_list.append(keyword_impairment)\n",
        "                imp_common_words_coord_dict[f\"{keyword_impairment}\"] = highlight_list\n",
        "                #print(f\"keyword_impairment22: {keyword_impairment}, coords: {highlight_list}\")\n",
        "                #continue\n",
        "            match_imp_keyword_dict[\"imp_common_keyword_coords\"] = imp_common_words_coord_dict\n",
        "            all_match_imp_keyword_list.append(match_imp_keyword_dict)\n",
        "\n",
        "        return all_match_keyword_list, all_match_imp_keyword_list\n",
        "\n",
        "    def search_icd_code(self, txt_list, code_type=\"ICD-10\"):\n",
        "      pdf_page_vocab = {}\n",
        "      for txt_file in txt_list:\n",
        "        with open(txt_file, \"r\") as f:\n",
        "          page_txt = f.read()\n",
        "          # check the page that have line number instead of code\n",
        "          index_page = False\n",
        "          if re.search(\"(P[ ][0-9]+)(,\\s)(L[0-9]+)\", page_txt):\n",
        "            index_page = True\n",
        "\n",
        "          if code_type == \"ICD-9\":\n",
        "            doc = self.nlp_code9(page_txt)\n",
        "          else:\n",
        "            doc = self.nlp_code10(page_txt)\n",
        "\n",
        "          code_list = []\n",
        "          if index_page:\n",
        "            # check the code contain letter \"L\"\n",
        "            code_list = [ent.text for ent in doc.ents if not re.search(\"(L[0-9]+)\", ent.text)]\n",
        "          else:\n",
        "            code_list = [ent.text for ent in doc.ents]\n",
        "\n",
        "          if len(code_list) != 0:\n",
        "            # page_number = int(txt_file.split(\"/\")[1].split(\".\")[0].split(\"-\")[1])\n",
        "            page_number = int(txt_file.split(\"/\")[-1].split(\".\")[0].split(\"-\")[1])\n",
        "            pdf_page_vocab[page_number] = list(set(code_list))\n",
        "            # print(f\"Page[{txt_file.split('/')[1]}]: {code_list}\")\n",
        "      return pdf_page_vocab"
      ],
      "metadata": {
        "id": "jRYlndgDUtds"
      },
      "execution_count": null,
      "outputs": []
    },
    {
      "cell_type": "markdown",
      "source": [
        "##PDF Highlighting"
      ],
      "metadata": {
        "id": "7s7ZxYMUBAol"
      }
    },
    {
      "cell_type": "code",
      "source": [
        "!mkdir -p /home/ocreng\n",
        "!mkdir -p /home/ocreng/ocrhigh\n",
        "!mkdir -p /home/ocreng/ocrhigh/input\n",
        "!mkdir -p /home/ocreng/ocrhigh/output\n",
        "!mkdir -p /home/ocreng/ocrhigh/processed\n",
        "!mkdir -p /home/ocreng/ocrhigh/pdf-files\n",
        "!mkdir -p /home/ocreng/ocrhigh/txt-files"
      ],
      "metadata": {
        "id": "ZWvB_40a8SNJ"
      },
      "execution_count": 2,
      "outputs": []
    },
    {
      "cell_type": "code",
      "source": [
        "def purge(file_path):\n",
        "  for f in glob.glob(file_path):\n",
        "    os.remove(f)"
      ],
      "metadata": {
        "id": "xQe5Xfp9AWLn"
      },
      "execution_count": 3,
      "outputs": []
    },
    {
      "cell_type": "code",
      "source": [
        "%%time\n",
        "# Step-0: create highlighter instance\n",
        "INPUT_PDF_FILES_PATH = cfg.file_path[\"INPUT_PATH\"]\n",
        "\n",
        "highlighter = Highlighter(match_threshold=35)\n",
        "sent_extractor = SentenceExtractor()\n",
        "generic_matcher = GenericMatcher()"
      ],
      "metadata": {
        "id": "MkoXzNA1AWu9",
        "colab": {
          "base_uri": "https://localhost:8080/"
        },
        "outputId": "9150c2a4-fe81-4e2f-f9fc-76773b3a5ff4"
      },
      "execution_count": 4,
      "outputs": [
        {
          "output_type": "stream",
          "name": "stdout",
          "text": [
            "CPU times: user 1min 3s, sys: 4.25 s, total: 1min 8s\n",
            "Wall time: 1min 11s\n"
          ]
        }
      ]
    },
    {
      "cell_type": "markdown",
      "source": [
        "```log\n",
        "CPU times: user 1min 7s, sys: 6.54 s, total: 1min 14s\n",
        "Wall time: 1min 15s\n",
        "```"
      ],
      "metadata": {
        "id": "ftvHz73FCCke"
      }
    },
    {
      "cell_type": "markdown",
      "source": [
        "##Test"
      ],
      "metadata": {
        "id": "S-EA40XdAcCu"
      }
    },
    {
      "cell_type": "code",
      "source": [
        "!rm -rf /home/ocreng/ocrhigh/input\n",
        "!mkdir -p /home/ocreng/ocrhigh/input"
      ],
      "metadata": {
        "id": "wfJwndx9vcTP"
      },
      "execution_count": 13,
      "outputs": []
    },
    {
      "cell_type": "code",
      "source": [
        "!cp Practice_Copy_Test_OCR.pdf /home/ocreng/ocrhigh/input\n",
        "#!cp quinn_ian_michael_5353_1368260963_awp_30a71784-41b8-423d-9d29-8f338f050398.pdf /home/ocreng/ocrhigh/input"
      ],
      "metadata": {
        "id": "j6YcCHZ_9OMw"
      },
      "execution_count": 14,
      "outputs": []
    },
    {
      "cell_type": "code",
      "source": [
        "!rm -rf /home/ocreng/ocrhigh/output\n",
        "!mkdir -p /home/ocreng/ocrhigh/output\n",
        "!rm -rf output*.zip"
      ],
      "metadata": {
        "id": "3ArIraAD0zx3"
      },
      "execution_count": 15,
      "outputs": []
    },
    {
      "cell_type": "code",
      "source": [
        "%%time\n",
        "text_list = None\n",
        "icd10_code_dict1 = None\n",
        "icd9_code_dict1 = None\n",
        "wrong_keyword_dict = None\n",
        "for pdf_file in os.listdir(INPUT_PDF_FILES_PATH):\n",
        "    print(f\"#####################Processing File[{pdf_file}] for highlighting###########################\")\n",
        "    pdf_file_name = f\"{INPUT_PDF_FILES_PATH}/{pdf_file}\"\n",
        "\n",
        "    # Step-1: splitting pdf file\n",
        "    print(\"Step-1: Splitting pdf file............\")\n",
        "    pdf_list = split_pdf(highlighter.PDF_FILES_PATH, pdf_file_name)\n",
        "\n",
        "    # Step-2: Extracting text from pdf\n",
        "    print(\"Step-2: Extracting text from pdf............\")\n",
        "    txt_list = extract_text_from_pdf(highlighter.PDF_FILES_PATH, highlighter.TXT_FILES_PATH, pdf_list)\n",
        "    highlighter.set_text_list(txt_list)\n",
        "\n",
        "    # Step-3: Searching ICD-10 cod\n",
        "    print(\"Step-3: Searching ICD-10 code into text file..........\")\n",
        "    icd10_code_dict = highlighter.search_icd_code(txt_list)\n",
        "\n",
        "    # Step-4: Searching ICD-9 code\n",
        "    icd9_code_dict = None\n",
        "    if cfg.load_pattern[\"icd_code9\"]:\n",
        "        print(\"Step-4: Searching ICD-9 code into text file..........\")\n",
        "        icd9_code_dict = highlighter.search_icd_code(txt_list, code_type=\"ICD-9\")\n",
        "\n",
        "    # Step-5: Get closet match of keyword impairment\n",
        "    print(\"Step-5: Get closet match of keyword impairment..........\")\n",
        "    matched_keyword_dict = sent_extractor.get_matched_keyword_dict(txt_list)\n",
        "    highlighter.set_impairment_keyword_dict(matched_keyword_dict)\n",
        "\n",
        "    # Step-6: Get date time list from text file\n",
        "    print(\"Step-6: Get date time list from text file..........\")\n",
        "    matched_date_dict = generic_matcher.get_match_date_dict(txt_list)\n",
        "    matched_number_dict = generic_matcher.get_match_number_dict(txt_list)\n",
        "    highlighter.set_page_matched_date_dict(matched_date_dict)\n",
        "    highlighter.set_page_matched_number_dict(matched_number_dict)\n",
        "\n",
        "    # Step-7: Highlighting ICD-10 code and all keyword impairment into pdf\n",
        "    print(\"Step-7: Highlighting ICD-10 code and all keyword impairment into pdf............\")\n",
        "    pdf_output_file, json_code_output_file = highlighter.highlight_icd_code_and_keyword_impairment(icd10_code_dict, pdf_file_name=pdf_file_name)\n",
        "    print(f\"File[{pdf_output_file}] is saved after highlighting ICD-10 code and all keyword impairment \")\n",
        "    print(f\"Highlighted code and impairment coordinates are saved into [{json_code_output_file}] file.\")\n",
        "\n",
        "    # Step-8: Clean up: move the current file into processed folder\n",
        "    if Path(f\"{cfg.file_path['PROCESSED_PATH']}/{pdf_file}\").exists():\n",
        "        # take backup of existing file\n",
        "        shutil.move(f\"{cfg.file_path['PROCESSED_PATH']}/{pdf_file}\",\n",
        "                    f\"{cfg.file_path['PROCESSED_PATH']}/{pdf_file}_bkp\")\n",
        "        # then move it\n",
        "        shutil.move(pdf_file_name, cfg.file_path[\"PROCESSED_PATH\"])\n",
        "    else:\n",
        "        shutil.move(pdf_file_name, cfg.file_path[\"PROCESSED_PATH\"])\n",
        "\n",
        "    # remove all pdf and text files\n",
        "    purge(f\"{cfg.file_path['TMP_PDF_FILES_PATH']}/*.pdf\")\n",
        "    purge(f\"{cfg.file_path['TMP_TXT_FILES_PATH']}/*.txt\")\n",
        "    pdf_list = []\n",
        "    txt_list = []"
      ],
      "metadata": {
        "id": "hiOT-aTfedMT",
        "outputId": "965ebff9-c84f-4272-a229-a2c7a619e017",
        "colab": {
          "base_uri": "https://localhost:8080/"
        }
      },
      "execution_count": 16,
      "outputs": [
        {
          "output_type": "stream",
          "name": "stdout",
          "text": [
            "#####################Processing File[Practice_Copy_Test_OCR.pdf] for highlighting###########################\n",
            "Step-1: Splitting pdf file............\n",
            "Step-2: Extracting text from pdf............\n",
            "Step-3: Searching ICD-10 code into text file..........\n",
            "Step-5: Get closet match of keyword impairment..........\n",
            "Step-6: Get date time list from text file..........\n",
            "Step-7: Highlighting ICD-10 code and all keyword impairment into pdf............\n",
            "coords: [(129.47999572753906, 616.4400024414062, 195.20997619628906, 628.4458618164062)]\n",
            "coords: [(82.5602035522461, 254.08001708984375, 111.33020782470703, 262.08392333984375), (129.47999572753906, 575.1199951171875, 159.29995727539062, 585.1248779296875)]\n",
            "coords: [(132.0, 171.79998779296875, 154.001220703125, 181.80487060546875), (168.0, 575.1199951171875, 189.3599853515625, 585.1248779296875)]\n",
            "coords: [(168.0, 589.6400146484375, 184.48800659179688, 599.6448974609375)]\n",
            "coords: [(282.9599914550781, 274.0799865722656, 339.53155517578125, 283.0843811035156)]\n",
            "coords: [(69.0, 387.6000061035156, 104.96401977539062, 396.6044006347656)]\n",
            "coords: [(91.4397964477539, 223.08001708984375, 116.84956359863281, 232.08441162109375), (131.0399932861328, 235.67999267578125, 156.57574462890625, 244.68438720703125)]\n",
            "coords: [(357.9599914550781, 128.03997802734375, 384.0010681152344, 143.04730224609375)]\n",
            "coords: [(372.0, 274.0799865722656, 382.90283203125, 283.0843811035156)]\n",
            "coords: [(113.04000091552734, 451.0799865722656, 119.76030731201172, 460.0843811035156)]\n",
            "coords: [(305.5199890136719, 200.15997314453125, 351.6519775390625, 209.16436767578125)]\n",
            "coords: [(275.5199890136719, 259.44000244140625, 316.2886047363281, 268.44439697265625)]\n",
            "coords: [(285.9599914550781, 172.91998291015625, 322.8861389160156, 181.92437744140625)]\n",
            "coords: [(475.44000244140625, 200.15997314453125, 508.276611328125, 209.16436767578125), (261.4800109863281, 218.6400146484375, 294.2076721191406, 227.6444091796875)]\n",
            "coords: [(471.9599914550781, 209.15997314453125, 505.6694030761719, 218.16436767578125)]\n",
            "coords: [(425.9969787597656, 118.60799407958984, 454.9128112792969, 128.84356689453125)]\n",
            "coords: [(229.9199981689453, 172.91998291015625, 255.74363708496094, 181.92437744140625)]\n",
            "coords: [(260.5199890136719, 237.1199951171875, 290.0883483886719, 246.1243896484375)]\n",
            "coords: [(264.0, 172.91998291015625, 276.6439208984375, 181.92437744140625), (503.5199890136719, 245.760009765625, 516.1599731445312, 254.764404296875)]\n",
            "coords: [(389.0400085449219, 245.760009765625, 397.6818542480469, 254.764404296875)]\n",
            "coords: [(215.52000427246094, 172.91998291015625, 224.1605224609375, 181.92437744140625)]\n",
            "coords: [(289.79998779296875, 697.080078125, 291.3199462890625, 700.08154296875)]\n",
            "coords: [(462.4749755859375, 118.9000473022461, 470.86895751953125, 128.97142028808594)]\n",
            "coords: []\n",
            "coords: [(44.519901275634766, 740.1602172851562, 144.97012329101562, 749.1646118164062)]\n",
            "coords: [(48.065452575683594, 709.919921875, 134.9832000732422, 718.92431640625)]\n",
            "coords: [(226.10997009277344, 254.15997314453125, 347.81561279296875, 263.16436767578125)]\n",
            "coords: [(24.9601993560791, 556.6799926757812, 120.8798599243164, 565.6843872070312)]\n",
            "coords: [(24.9601993560791, 234.1199951171875, 116.54442596435547, 243.1243896484375)]\n",
            "coords: [(44.519901275634766, 689.880126953125, 126.51138305664062, 698.884521484375)]\n",
            "coords: [(44.519901275634766, 679.7999877929688, 116.33157348632812, 688.8043823242188)]\n",
            "coords: [(44.519901275634766, 729.8397827148438, 113.68798828125, 738.8441772460938)]\n",
            "coords: [(44.519901275634766, 699.8397827148438, 110.41998291015625, 708.8441772460938)]\n",
            "coords: [(120.4800033569336, 202.79998779296875, 175.1041259765625, 211.80438232421875)]\n",
            "coords: [(148.55999755859375, 699.8397827148438, 188.92315673828125, 708.8441772460938)]\n",
            "coords: [(20.519899368286133, 43.47998046875, 61.23590850830078, 51.48388671875)]\n",
            "coords: [(20.0398006439209, 477.6400146484375, 56.867794036865234, 488.6453857421875), (69.96019744873047, 500.6400146484375, 101.49590301513672, 509.6444091796875)]\n",
            "coords: [(20.0398006439209, 582.5999755859375, 58.65339660644531, 591.6043701171875), (67.4397964477539, 599.2000122070312, 100.82669830322266, 607.2039184570312)]\n",
            "coords: [(24.480100631713867, 638.6400146484375, 55.84041976928711, 647.6444091796875)]\n",
            "coords: [(44.519901275634766, 750.119873046875, 81.31982421875, 759.124267578125)]\n",
            "coords: [(140.52000427246094, 566.6400146484375, 164.14500427246094, 575.6444091796875)]\n",
            "coords: [(20.519899368286133, 53.0, 49.3948974609375, 63.0048828125), (20.519899368286133, 217.6400146484375, 48.49189376831055, 227.6448974609375)]\n",
            "coords: [(432.9599914550781, 370.20001220703125, 457.4397277832031, 379.20440673828125)]\n",
            "coords: [(189.0, 202.79998779296875, 214.71533203125, 211.80438232421875)]\n",
            "coords: [(24.480100631713867, 619.5999755859375, 43.9468994140625, 627.6038818359375)]\n",
            "coords: [(75.0, 370.20001220703125, 93.94275665283203, 379.20440673828125)]\n",
            "coords: [(27.480100631713867, 519.5999755859375, 47.64010238647461, 528.6043701171875)]\n",
            "coords: [(24.480100631713867, 608.6400146484375, 38.480140686035156, 617.6444091796875)]\n",
            "coords: [(20.519899368286133, 66.55999755859375, 40.10414123535156, 79.56634521484375)]\n",
            "coords: [(296.0400085449219, 66.55999755859375, 311.3997497558594, 79.56634521484375)]\n",
            "coords: [(20.519899368286133, 86.03997802734375, 35.45989990234375, 98.04583740234375)]\n",
            "coords: [(267.4800109863281, 335.6400146484375, 278.0100402832031, 344.6444091796875)]\n",
            "coords: [(90.0, 335.6400146484375, 98.6399917602539, 344.6444091796875)]\n",
            "coords: [(86.5198974609375, 414.6000061035156, 97.76998901367188, 423.6044006347656)]\n",
            "coords: [(443.0400085449219, 335.6400146484375, 454.4158935546875, 344.6444091796875)]\n",
            "coords: [(24.480100631713867, 628.7999877929688, 34.355621337890625, 637.8043823242188)]\n",
            "coords: [(273.4800109863281, 370.20001220703125, 278.8400573730469, 379.20440673828125)]\n",
            "coords: []\n",
            "coords: [(208.97999572753906, 179.6400146484375, 337.5450744628906, 188.6444091796875)]\n",
            "coords: [(209.33999633789062, 144.3599853515625, 339.00079345703125, 153.3643798828125)]\n",
            "coords: [(239.39999389648438, 293.5799865722656, 362.655029296875, 302.5843811035156)]\n",
            "coords: [(209.16000366210938, 73.79998779296875, 309.44549560546875, 82.80438232421875)]\n",
            "coords: [(209.16000366210938, 126.719970703125, 289.21063232421875, 135.724365234375)]\n",
            "coords: [(291.7799987792969, 283.5, 369.5726318359375, 292.50439453125)]\n",
            "coords: [(27.0, 126.719970703125, 113.21989440917969, 135.724365234375)]\n",
            "coords: [(27.0, 144.3599853515625, 108.59957885742188, 153.3643798828125)]\n",
            "coords: [(27.0, 179.6400146484375, 114.82553100585938, 188.6444091796875)]\n",
            "coords: [(110.5199966430664, 313.55999755859375, 188.62680053710938, 322.56439208984375)]\n",
            "coords: [(209.16000366210938, 109.08001708984375, 289.2398376464844, 118.08441162109375)]\n",
            "coords: [(122.76000213623047, 323.2799987792969, 191.54246520996094, 332.2843933105469), (84.23979949951172, 333.3599853515625, 153.39015197753906, 342.3643798828125)]\n",
            "coords: [(92.16020202636719, 572.9400024414062, 165.41998291015625, 581.9443969726562)]\n",
            "coords: [(24.839799880981445, 562.8599853515625, 106.3440170288086, 571.8643798828125)]\n",
            "coords: [(209.16000366210938, 197.46002197265625, 275.099853515625, 206.46441650390625)]\n",
            "coords: [(150.47999572753906, 293.5799865722656, 223.8479766845703, 302.5843811035156)]\n",
            "coords: [(185.0399932861328, 303.29998779296875, 255.105224609375, 312.30438232421875)]\n",
            "coords: [(462.9599914550781, 393.29998779296875, 528.4801025390625, 402.30438232421875)]\n",
            "coords: [(25.38010025024414, 682.739990234375, 80.7804946899414, 691.744384765625)]\n",
            "coords: [(143.10000610351562, 393.29998779296875, 196.66275024414062, 402.30438232421875)]\n",
            "coords: [(21.060199737548828, 42.739990234375, 84.28559875488281, 52.744873046875), (70.73979949951172, 59.219970703125, 124.83001708984375, 68.224365234375)]\n",
            "coords: [(209.33999633789062, 92.44000244140625, 267.4679260253906, 100.44390869140625)]\n",
            "coords: [(127.9800033569336, 253.44000244140625, 190.00796508789062, 262.44439697265625)]\n",
            "coords: [(315.17999267578125, 393.29998779296875, 371.2628479003906, 402.30438232421875)]\n",
            "coords: [(78.83979797363281, 453.05999755859375, 131.84999084472656, 462.06439208984375)]\n",
            "coords: [(25.38010025024414, 722.880126953125, 74.97021484375, 731.884521484375)]\n",
            "coords: [(25.019899368286133, 243.53997802734375, 86.66990661621094, 252.54437255859375)]\n",
            "coords: [(73.9801025390625, 393.29998779296875, 125.22013092041016, 402.30438232421875)]\n",
            "coords: [(205.74000549316406, 253.44000244140625, 258.3005065917969, 262.44439697265625)]\n",
            "coords: [(150.47999572753906, 283.5, 194.5104522705078, 292.50439453125)]\n",
            "coords: [(133.9199981689453, 423.3599853515625, 185.19984436035156, 432.3643798828125)]\n",
            "coords: [(78.83979797363281, 423.3599853515625, 118.30116271972656, 432.3643798828125)]\n",
            "coords: [(91.26020050048828, 383.3999938964844, 136.42401123046875, 392.4043884277344)]\n",
            "coords: [(25.38010025024414, 383.3999938964844, 64.42210388183594, 392.4043884277344)]\n",
            "coords: [(209.16000366210938, 162.0, 243.56015014648438, 171.00439453125)]\n",
            "coords: [(27.0, 126.719970703125, 56.44009017944336, 135.724365234375)]\n",
            "coords: [(273.239990234375, 273.4200134277344, 300.9931640625, 282.4244079589844)]\n",
            "coords: [(25.38010025024414, 343.260009765625, 58.820499420166016, 352.264404296875)]\n",
            "coords: [(97.19999694824219, 413.1000061035156, 131.23655700683594, 422.1044006347656)]\n",
            "coords: [(78.83979797363281, 453.05999755859375, 108.91993713378906, 462.06439208984375)]\n",
            "coords: [(64.26020050048828, 433.260009765625, 97.22034454345703, 442.264404296875)]\n",
            "coords: [(25.38010025024414, 603.0, 58.53620147705078, 612.00439453125)]\n",
            "coords: [(70.9198989868164, 263.52001953125, 98.95487976074219, 272.5244140625), (227.16000366210938, 273.4200134277344, 255.19503784179688, 282.4244079589844), (185.0399932861328, 303.29998779296875, 213.0750274658203, 312.30438232421875)]\n",
            "coords: [(163.6199951171875, 353.5199890136719, 189.92254638671875, 362.5243835449219), (85.31990051269531, 722.880126953125, 111.62239837646484, 731.884521484375)]\n",
            "coords: [(27.0, 73.79998779296875, 51.22278594970703, 82.80438232421875)]\n",
            "coords: [(27.180099487304688, 109.08001708984375, 49.55176544189453, 118.08441162109375)]\n",
            "coords: [(142.1999969482422, 473.0400085449219, 162.48020935058594, 482.0444030761719)]\n",
            "coords: [(25.200000762939453, 732.7800903320312, 52.81722640991211, 741.7844848632812)]\n",
            "coords: [(64.0801010131836, 197.46002197265625, 82.83025360107422, 206.46441650390625)]\n",
            "coords: [(136.25999450683594, 263.52001953125, 157.40997314453125, 272.5244140625), (79.38009643554688, 523.0799560546875, 101.5799560546875, 532.0843505859375), (147.4199981689453, 533.1600341796875, 168.56997680664062, 542.1644287109375)]\n",
            "coords: [(90.9000015258789, 612.9000244140625, 104.2501449584961, 621.9044189453125)]\n",
            "coords: [(211.67999267578125, 283.5, 227.1085205078125, 292.50439453125)]\n",
            "coords: [(79.38009643554688, 443.1600036621094, 91.04409790039062, 452.1643981933594)]\n",
            "coords: [(25.38010025024414, 433.260009765625, 38.91609573364258, 442.264404296875)]\n",
            "coords: [(25.560199737548828, 612.9000244140625, 36.36020278930664, 621.9044189453125)]\n",
            "coords: [(61.43980026245117, 572.6400146484375, 202.32179260253906, 581.6444091796875)]\n",
            "coords: [(24.9601993560791, 228.5999755859375, 129.0477294921875, 237.6043701171875)]\n",
            "coords: [(35.519901275634766, 107.03997802734375, 133.930908203125, 116.04437255859375)]\n",
            "coords: [(60.960201263427734, 413.1600036621094, 169.25999450683594, 422.1643981933594)]\n",
            "coords: [(35.519901275634766, 57.47998046875, 117.54019165039062, 66.484375)]\n",
            "coords: [(61.43980026245117, 463.0799865722656, 142.21469116210938, 472.0843811035156)]\n",
            "coords: [(61.43980026245117, 473.1600036621094, 141.7378387451172, 482.1643981933594)]\n",
            "coords: [(184.44000244140625, 57.47998046875, 235.63992309570312, 66.484375)]\n",
            "coords: [(33.480098724365234, 353.1600036621094, 99.78091430664062, 362.1643981933594), (61.43980026245117, 373.0799865722656, 127.50000762939453, 382.0843811035156), (61.43980026245117, 383.1600036621094, 128.16006469726562, 392.1643981933594)]\n",
            "coords: [(61.43980026245117, 532.6799926757812, 134.2400665283203, 541.6843872070312)]\n",
            "coords: [(35.519901275634766, 77.52001953125, 87.74987030029297, 86.5244140625)]\n",
            "coords: [(60.960201263427734, 443.1600036621094, 127.31205749511719, 452.1643981933594)]\n",
            "coords: [(96.4801025390625, 552.5999755859375, 164.47198486328125, 561.6043701171875)]\n",
            "coords: [(189.47999572753906, 87.47998046875, 244.4217071533203, 96.484375)]\n",
            "coords: [(35.519901275634766, 117.0, 92.23391723632812, 126.00439453125)]\n",
            "coords: [(24.480100631713867, 238.67999267578125, 77.76019287109375, 247.68438720703125)]\n",
            "coords: [(33.480098724365234, 632.1600341796875, 101.3818359375, 641.1644287109375)]\n",
            "coords: [(77.5198974609375, 178.55999755859375, 123.61823272705078, 187.56439208984375)]\n",
            "coords: [(33.480098724365234, 422.6400146484375, 81.97714233398438, 431.6444091796875)]\n",
            "coords: [(61.43980026245117, 453.1199951171875, 121.95650482177734, 462.1243896484375)]\n",
            "coords: [(160.0800018310547, 643.5999755859375, 207.6479949951172, 651.6038818359375)]\n",
            "coords: [(121.44000244140625, 87.47998046875, 161.88002014160156, 96.484375)]\n",
            "coords: [(61.43980026245117, 562.6799926757812, 109.43952178955078, 571.6843872070312)]\n",
            "coords: [(36.0, 97.55999755859375, 69.9296875, 106.56439208984375)]\n",
            "coords: [(77.5198974609375, 158.52001953125, 122.8799057006836, 167.5244140625)]\n",
            "coords: [(77.5198974609375, 188.6400146484375, 116.87995910644531, 197.6444091796875)]\n",
            "coords: [(61.43980026245117, 512.6400146484375, 107.29068756103516, 521.6444091796875)]\n",
            "coords: [(60.960201263427734, 542.6400146484375, 105.7921142578125, 551.6444091796875)]\n",
            "coords: [(61.43980026245117, 522.5999755859375, 100.70353698730469, 531.6043701171875)]\n",
            "coords: [(61.43980026245117, 582.5999755859375, 97.65284729003906, 591.6043701171875)]\n",
            "coords: [(61.43980026245117, 592.6799926757812, 94.94635772705078, 601.6843872070312)]\n",
            "coords: [(33.480098724365234, 622.6799926757812, 58.47031021118164, 631.6843872070312)]\n",
            "coords: [(28.439800262451172, 741.5999755859375, 61.30501174926758, 750.6043701171875)]\n",
            "coords: [(61.43980026245117, 503.1600341796875, 90.3298110961914, 512.1644287109375)]\n",
            "coords: [(29.0398006439209, 697.080078125, 53.38975524902344, 706.08447265625)]\n",
            "coords: [(58.25974655151367, 697.080078125, 82.60968780517578, 706.08447265625), (273.4800109863281, 697.080078125, 295.25140380859375, 706.08447265625)]\n",
            "coords: [(28.91990089416504, 718.919921875, 51.819950103759766, 727.92431640625)]\n",
            "coords: [(29.0398006439209, 678.1199951171875, 48.143924713134766, 687.1243896484375)]\n",
            "coords: [(273.0, 87.47998046875, 287.7601318359375, 96.484375)]\n",
            "coords: [(36.0, 67.55999755859375, 50.22008514404297, 76.56439208984375)]\n",
            "coords: [(57.480098724365234, 198.5999755859375, 69.79209899902344, 207.6043701171875)]\n",
            "coords: [(33.0, 392.8800048828125, 45.31388854980469, 401.8843994140625), (60.960201263427734, 413.1600036621094, 74.460205078125, 422.1643981933594)]\n",
            "coords: [(61.43980026245117, 463.0799865722656, 73.85980224609375, 472.0843811035156)]\n",
            "coords: [(33.480098724365234, 482.6400146484375, 46.3682746887207, 491.6444091796875)]\n",
            "coords: [(61.43980026245117, 473.1600036621094, 74.93980407714844, 482.1643981933594)]\n",
            "coords: []\n",
            "coords: [(86.21990203857422, 308.70001220703125, 216.14987182617188, 317.70440673828125)]\n",
            "coords: [(224.63999938964844, 518.4000244140625, 327.64508056640625, 527.4044189453125)]\n",
            "coords: [(355.5, 398.5199890136719, 467.0099792480469, 407.5243835449219)]\n",
            "coords: [(250.74000549316406, 418.5, 336.82012939453125, 427.50439453125)]\n",
            "coords: [(72.0, 298.79998779296875, 159.25498962402344, 307.80438232421875)]\n",
            "coords: [(118.26000213623047, 388.79998779296875, 207.77993774414062, 397.80438232421875)]\n",
            "coords: [(106.19999694824219, 238.8599853515625, 182.37600708007812, 247.8643798828125)]\n",
            "coords: [(25.200000762939453, 368.6400146484375, 102.36038970947266, 377.6444091796875)]\n",
            "coords: [(231.83999633789062, 639.719970703125, 305.4600830078125, 648.724365234375)]\n",
            "coords: [(161.4600067138672, 140.1400146484375, 233.2799835205078, 148.1439208984375)]\n",
            "coords: [(385.739990234375, 679.6799926757812, 453.23992919921875, 688.6843872070312)]\n",
            "coords: [(194.5800018310547, 699.6602172851562, 264.6719970703125, 708.6646118164062)]\n",
            "coords: [(30.780099868774414, 130.239990234375, 91.74020385742188, 138.243896484375)]\n",
            "coords: [(414.3599853515625, 348.8399963378906, 474.80401611328125, 357.8443908691406)]\n",
            "coords: [(148.32000732421875, 488.70001220703125, 210.13194274902344, 497.70440673828125)]\n",
            "coords: [(372.9599914550781, 79.02001953125, 422.08001708984375, 88.0244140625)]\n",
            "coords: [(207.17999267578125, 238.8599853515625, 259.26568603515625, 247.8643798828125)]\n",
            "coords: [(353.5199890136719, 438.4800109863281, 416.10040283203125, 447.4844055175781)]\n",
            "coords: [(370.44000244140625, 448.55999755859375, 416.25, 457.56439208984375)]\n",
            "coords: [(229.86000061035156, 660.8800048828125, 287.6999816894531, 668.8839111328125)]\n",
            "coords: [(25.38010025024414, 338.760009765625, 83.08341217041016, 347.764404296875)]\n",
            "coords: [(142.02000427246094, 348.8399963378906, 183.83103942871094, 357.8443908691406), (176.94000244140625, 619.9199829101562, 219.14324951171875, 628.9243774414062)]\n",
            "coords: [(125.63999938964844, 428.5799865722656, 170.3358612060547, 437.5843811035156)]\n",
            "coords: [(399.4200134277344, 660.8800048828125, 442.7746276855469, 668.8839111328125)]\n",
            "coords: [(164.6999969482422, 679.6799926757812, 210.0599822998047, 688.6843872070312)]\n",
            "coords: [(210.05999755859375, 119.15997314453125, 256.7552795410156, 128.16436767578125)]\n",
            "coords: [(30.9601993560791, 119.15997314453125, 77.10905456542969, 128.16436767578125)]\n",
            "coords: [(219.9600067138672, 448.55999755859375, 267.885009765625, 457.56439208984375)]\n",
            "coords: [(204.47999572753906, 599.760009765625, 243.85501098632812, 608.764404296875)]\n",
            "coords: [(109.9800033569336, 140.1400146484375, 150.06838989257812, 148.1439208984375)]\n",
            "coords: [(122.58000183105469, 759.5999755859375, 162.8343505859375, 768.6043701171875)]\n",
            "coords: [(31.139799118041992, 219.05999755859375, 70.89009094238281, 228.06439208984375)]\n",
            "coords: [(325.9800109863281, 308.70001220703125, 364.7620544433594, 317.70440673828125)]\n",
            "coords: [(193.32000732421875, 348.8399963378906, 224.90188598632812, 357.8443908691406)]\n",
            "coords: [(87.83979797363281, 478.44000244140625, 128.8800048828125, 487.44439697265625)]\n",
            "coords: [(186.66000366210938, 498.4200134277344, 226.09619140625, 507.4244079589844)]\n",
            "coords: [(236.6999969482422, 619.9199829101562, 273.840087890625, 628.9243774414062)]\n",
            "coords: [(31.139799118041992, 109.260009765625, 76.49980163574219, 118.264404296875)]\n",
            "coords: [(144.5399932861328, 119.15997314453125, 181.79998779296875, 128.16436767578125)]\n",
            "coords: [(419.760009765625, 358.739990234375, 452.1600646972656, 367.744384765625), (234.5399932861328, 740.619873046875, 266.7931213378906, 748.623779296875)]\n",
            "coords: [(142.55999755859375, 398.5199890136719, 177.0598602294922, 407.5243835449219)]\n",
            "coords: [(25.019899368286133, 408.6000061035156, 51.08732604980469, 417.6044006347656)]\n",
            "coords: [(25.559799194335938, 478.44000244140625, 73.42351531982422, 487.44439697265625)]\n",
            "coords: [(288.5400085449219, 740.619873046875, 326.5364990234375, 748.623779296875)]\n",
            "coords: [(345.4200134277344, 498.4200134277344, 378.7920837402344, 507.4244079589844)]\n",
            "coords: [(221.5800018310547, 679.6799926757812, 256.04150390625, 688.6843872070312)]\n",
            "coords: [(287.6400146484375, 140.1400146484375, 318.6720275878906, 148.1439208984375)]\n",
            "coords: [(31.319900512695312, 199.9000244140625, 65.21980285644531, 207.9039306640625)]\n",
            "coords: [(151.02000427246094, 408.6000061035156, 181.10020446777344, 417.6044006347656)]\n",
            "coords: [(31.319900512695312, 209.79998779296875, 60.40791320800781, 217.80389404296875)]\n",
            "coords: [(374.5799865722656, 358.739990234375, 407.9879455566406, 367.744384765625)]\n",
            "coords: [(144.17999267578125, 448.55999755859375, 174.41998291015625, 457.56439208984375)]\n",
            "coords: [(479.5199890136719, 448.55999755859375, 509.2797546386719, 457.56439208984375)]\n",
            "coords: [(59.76020050048828, 518.4000244140625, 97.25994110107422, 527.4044189453125)]\n",
            "coords: [(93.4198989868164, 599.760009765625, 122.10013580322266, 608.764404296875)]\n",
            "coords: [(176.94000244140625, 639.719970703125, 209.48394775390625, 648.724365234375)]\n",
            "coords: [(360.3599853515625, 660.8800048828125, 388.7279052734375, 668.8839111328125)]\n",
            "coords: [(140.5800018310547, 740.619873046875, 174.8519744873047, 748.623779296875)]\n",
            "coords: [(355.5, 398.5199890136719, 392.620361328125, 407.5243835449219), (187.1999969482422, 740.619873046875, 222.1919403076172, 748.623779296875)]\n",
            "coords: [(417.9599914550781, 398.5199890136719, 443.5603332519531, 407.5243835449219), (381.239990234375, 740.619873046875, 406.008056640625, 748.623779296875)]\n",
            "coords: [(30.780099868774414, 150.03997802734375, 59.4800910949707, 158.04388427734375)]\n",
            "coords: [(104.22000122070312, 408.6000061035156, 130.67999267578125, 417.6044006347656)]\n",
            "coords: [(25.38010025024414, 428.5799865722656, 47.43010711669922, 437.5843811035156)]\n",
            "coords: [(471.239990234375, 679.6799926757812, 492.9396057128906, 688.6843872070312)]\n",
            "coords: [(302.94000244140625, 699.6602172851562, 328.56024169921875, 708.6646118164062)]\n",
            "coords: [(180.89999389648438, 759.5999755859375, 206.41502380371094, 768.6043701171875)]\n",
            "coords: [(52.56019973754883, 59.03997802734375, 76.01239776611328, 68.04437255859375)]\n",
            "coords: [(463.1400146484375, 358.739990234375, 485.6400451660156, 367.744384765625)]\n",
            "coords: [(325.44000244140625, 660.8800048828125, 349.065185546875, 668.8839111328125)]\n",
            "coords: [(70.9198989868164, 209.79998779296875, 91.62031555175781, 217.80389404296875)]\n",
            "coords: [(125.81999969482422, 219.05999755859375, 148.4698486328125, 228.06439208984375)]\n",
            "coords: [(403.739990234375, 408.6000061035156, 415.88995361328125, 417.6044006347656)]\n",
            "coords: [(516.4199829101562, 418.5, 538.4698486328125, 427.50439453125)]\n",
            "coords: [(462.4200134277344, 428.5799865722656, 480.2706604003906, 437.5843811035156)]\n",
            "coords: [(166.13999938964844, 560.7999877929688, 182.082763671875, 568.8038940429688)]\n",
            "coords: [(147.05999755859375, 639.719970703125, 166.0886993408203, 648.724365234375)]\n",
            "coords: [(354.7799987792969, 140.1400146484375, 371.1960144042969, 148.1439208984375)]\n",
            "coords: [(25.560199737548828, 268.91998291015625, 41.25619888305664, 277.92437744140625)]\n",
            "coords: [(278.82000732421875, 268.91998291015625, 292.06805419921875, 277.92437744140625)]\n",
            "coords: [(274.32000732421875, 358.739990234375, 287.27996826171875, 367.744384765625), (201.4199981689453, 398.5199890136719, 214.38002014160156, 407.5243835449219)]\n",
            "coords: [(440.6400146484375, 448.55999755859375, 453.2760314941406, 457.56439208984375)]\n",
            "coords: [(238.86000061035156, 488.70001220703125, 253.5749969482422, 497.70440673828125)]\n",
            "coords: [(31.139799118041992, 99.0, 43.235801696777344, 108.00439453125)]\n",
            "coords: [(336.9599914550781, 358.739990234375, 349.48797607421875, 367.744384765625)]\n",
            "coords: [(83.16020202636719, 59.03997802734375, 96.79519653320312, 68.04437255859375), (25.200000762939453, 79.02001953125, 37.512001037597656, 88.0244140625)]\n",
            "coords: [(216.20997619628906, 169.02001953125, 228.17990112304688, 178.0244140625)]\n",
            "coords: [(21.060199737548828, 43.739990234375, 33.3452033996582, 52.744384765625)]\n",
            "coords: [(31.139799118041992, 89.0999755859375, 41.72380065917969, 98.1043701171875)]\n",
            "coords: [(95.76020050048828, 158.94000244140625, 105.26419830322266, 167.94439697265625)]\n",
            "coords: [(122.4000015258789, 298.79998779296875, 130.19993591308594, 307.80438232421875), (259.0199890136719, 308.70001220703125, 266.8199157714844, 317.70440673828125)]\n",
            "coords: [(136.44000244140625, 484.67999267578125, 246.74977111816406, 493.68438720703125)]\n",
            "coords: [(168.0, 714.5999755859375, 269.879638671875, 723.6043701171875)]\n",
            "coords: [(35.039798736572266, 645.1199951171875, 139.549560546875, 654.1243896484375)]\n",
            "coords: [(266.5199890136719, 484.67999267578125, 356.0701599121094, 493.68438720703125)]\n",
            "coords: [(165.0, 524.6400146484375, 245.17698669433594, 533.6444091796875)]\n",
            "coords: [(35.519901275634766, 754.6801147460938, 124.21589660644531, 763.6845092773438)]\n",
            "coords: [(385.55999755859375, 264.1199951171875, 461.7360534667969, 273.1243896484375)]\n",
            "coords: [(183.0, 164.03997802734375, 250.10585021972656, 173.04437255859375)]\n",
            "coords: [(177.9600067138672, 325.1199951171875, 246.48001098632812, 333.1239013671875)]\n",
            "coords: [(245.0399932861328, 72.47998046875, 300.1800231933594, 81.484375)]\n",
            "coords: [(343.55999755859375, 164.03997802734375, 399.10455322265625, 173.04437255859375)]\n",
            "coords: [(261.4800109863281, 164.03997802734375, 314.8195495605469, 173.04437255859375)]\n",
            "coords: [(453.0, 484.67999267578125, 505.91998291015625, 493.68438720703125)]\n",
            "coords: [(20.519899368286133, 126.52001953125, 84.69601440429688, 137.525390625)]\n",
            "coords: [(320.5199890136719, 264.1199951171875, 367.73992919921875, 273.1243896484375)]\n",
            "coords: [(142.9199981689453, 112.55999755859375, 184.34388732910156, 121.56439208984375), (204.0, 112.55999755859375, 244.83984375, 121.56439208984375)]\n",
            "coords: [(244.44000244140625, 184.08001708984375, 292.7038269042969, 193.08441162109375)]\n",
            "coords: [(393.4800109863281, 605.1600341796875, 441.660400390625, 614.1644287109375)]\n",
            "coords: [(142.44000244140625, 474.6000061035156, 184.54022216796875, 483.6044006347656)]\n",
            "coords: [(517.0800170898438, 484.67999267578125, 555.7799682617188, 493.68438720703125)]\n",
            "coords: [(87.96019744873047, 665.1600341796875, 127.84001922607422, 674.1644287109375)]\n",
            "coords: [(388.55999755859375, 665.1600341796875, 423.2880554199219, 674.1644287109375)]\n",
            "coords: [(231.0, 224.15997314453125, 265.3634033203125, 233.16436767578125)]\n",
            "coords: [(77.5198974609375, 714.5999755859375, 114.88762664794922, 723.6043701171875)]\n",
            "coords: [(266.5199890136719, 605.1600341796875, 303.3197937011719, 614.1644287109375)]\n",
            "coords: [(100.44000244140625, 112.55999755859375, 132.0343475341797, 121.56439208984375)]\n",
            "coords: [(126.0, 294.1199951171875, 158.7362060546875, 303.1243896484375)]\n",
            "coords: [(192.07518005371094, 294.1199951171875, 220.81541442871094, 303.1243896484375)]\n",
            "coords: [(269.5199890136719, 524.6400146484375, 299.7067565917969, 533.6444091796875), (401.5199890136719, 675.1199951171875, 431.7067565917969, 684.1243896484375)]\n",
            "coords: [(135.0, 52.55999755859375, 157.9596710205078, 61.56439208984375)]\n",
            "coords: [(24.9601993560791, 144.0, 49.950408935546875, 153.00439453125)]\n",
            "coords: [(242.52000427246094, 294.1199951171875, 267.9298095703125, 303.1243896484375)]\n",
            "coords: [(518.52001953125, 655.2000122070312, 545.1900024414062, 664.2044067382812)]\n",
            "coords: [(209.52000427246094, 92.52001953125, 232.2512664794922, 101.5244140625)]\n",
            "coords: [(122.04000091552734, 144.0, 144.1800079345703, 153.00439453125)]\n",
            "coords: [(306.4800109863281, 224.15997314453125, 335.3700256347656, 233.16436767578125)]\n",
            "coords: [(66.4801025390625, 665.1600341796875, 82.28141784667969, 674.1644287109375)]\n",
            "coords: [(170.52000427246094, 294.1199951171875, 188.48265075683594, 303.1243896484375)]\n",
            "coords: [(482.5199890136719, 383.6400146484375, 503.9485168457031, 392.6444091796875)]\n",
            "coords: [(198.9600067138672, 433.67999267578125, 214.85983276367188, 442.68438720703125)]\n",
            "coords: [(392.0400085449219, 695.1602172851562, 414.9400939941406, 704.1646118164062)]\n",
            "coords: []\n",
            "coords: [(167.52000427246094, 433.67999267578125, 181.1521453857422, 442.68438720703125)]\n",
            "coords: [(134.0399932861328, 685.2000122070312, 144.9998321533203, 694.2044067382812)]\n",
            "coords: [(514.9199829101562, 354.1199951171875, 528.8700561523438, 363.1243896484375)]\n",
            "coords: []\n",
            "coords: [(483.9599914550781, 675.1199951171875, 494.13006591796875, 684.1243896484375)]\n",
            "coords: [(483.9599914550781, 164.03997802734375, 496.56011962890625, 173.04437255859375)]\n",
            "coords: [(489.4800109863281, 294.1199951171875, 502.71002197265625, 303.1243896484375)]\n",
            "coords: [(396.9599914550781, 325.1199951171875, 409.9200134277344, 333.1239013671875)]\n",
            "coords: [(504.0, 655.2000122070312, 511.6800537109375, 664.2044067382812)]\n",
            "coords: [(322.44000244140625, 83.55999755859375, 454.93341064453125, 91.56390380859375)]\n",
            "coords: [(317.0400085449219, 52.55999755859375, 437.81988525390625, 61.56439208984375)]\n",
            "coords: [(72.96019744873047, 172.55999755859375, 183.30838012695312, 181.56439208984375)]\n",
            "coords: [(77.5198974609375, 732.5999755859375, 189.84007263183594, 741.6043701171875)]\n",
            "coords: [(104.5199966430664, 473.1600036621094, 205.080078125, 482.1643981933594)]\n",
            "coords: [(35.519901275634766, 353.1600036621094, 135.20770263671875, 362.1643981933594)]\n",
            "coords: [(40.43980026245117, 642.5999755859375, 148.70021057128906, 651.6043701171875)]\n",
            "coords: [(30.9601993560791, 162.47998046875, 118.25990295410156, 171.484375)]\n",
            "coords: [(86.03980255126953, 213.6400146484375, 173.83531188964844, 221.6439208984375)]\n",
            "coords: [(177.47999572753906, 112.55999755859375, 257.2110900878906, 121.56439208984375), (213.47999572753906, 572.6400146484375, 293.6910705566406, 581.6444091796875)]\n",
            "coords: [(172.55999755859375, 83.55999755859375, 250.38003540039062, 91.56390380859375)]\n",
            "coords: [(72.96019744873047, 132.47998046875, 154.5043487548828, 141.484375)]\n",
            "coords: []\n",
            "coords: [(35.519901275634766, 152.52001953125, 118.78289794921875, 161.5244140625)]\n",
            "coords: [(74.5198974609375, 413.1600036621094, 151.1204376220703, 422.1643981933594)]\n",
            "coords: [(338.0400085449219, 443.1600036621094, 411.2196350097656, 452.1643981933594)]\n",
            "coords: [(35.400001525878906, 493.0799865722656, 110.496337890625, 502.0843811035156)]\n",
            "coords: [(339.4800109863281, 552.5999755859375, 404.2112731933594, 561.6043701171875)]\n",
            "coords: [(35.519901275634766, 532.6799926757812, 106.60018157958984, 541.6843872070312), (77.5198974609375, 582.5999755859375, 143.4200897216797, 591.6043701171875)]\n",
            "coords: [(72.96019744873047, 762.5999755859375, 132.7349853515625, 771.6043701171875)]\n",
            "coords: [(181.44000244140625, 443.1600036621094, 227.54425048828125, 452.1643981933594)]\n",
            "coords: [(90.0, 453.1199951171875, 139.7483673095703, 462.1243896484375)]\n",
            "coords: [(38.519901275634766, 682.6799926757812, 97.57844543457031, 691.6843872070312)]\n",
            "coords: [(73.9198989868164, 692.6397705078125, 127.8963623046875, 701.6441650390625)]\n",
            "coords: [(35.519901275634766, 192.5999755859375, 82.92865753173828, 201.6043701171875), (73.5602035522461, 222.5999755859375, 116.87142181396484, 231.6043701171875)]\n",
            "coords: [(30.9601993560791, 652.6799926757812, 77.22650909423828, 661.6843872070312)]\n",
            "coords: [(175.9199981689453, 282.6000061035156, 214.9705352783203, 291.6044006347656)]\n",
            "coords: [(70.4397964477539, 373.20001220703125, 119.0596923828125, 382.20440673828125)]\n",
            "coords: [(30.9601993560791, 443.1600036621094, 78.86991119384766, 452.1643981933594)]\n",
            "coords: [(216.47999572753906, 473.1600036621094, 258.2796936035156, 482.1643981933594), (120.4800033569336, 622.6799926757812, 162.2797088623047, 631.6843872070312), (138.47999572753906, 692.6397705078125, 180.169921875, 701.6441650390625)]\n",
            "coords: [(74.5198974609375, 512.6400146484375, 115.77023315429688, 521.6444091796875)]\n",
            "coords: [(134.0399932861328, 552.5999755859375, 175.92010498046875, 561.6043701171875), (274.44000244140625, 562.6799926757812, 315.9598693847656, 571.6843872070312)]\n",
            "coords: [(82.5602035522461, 712.6801147460938, 128.4298553466797, 721.6845092773438), (171.9600067138672, 722.6397705078125, 212.57571411132812, 731.6441650390625), (78.0, 752.6397705078125, 123.86964416503906, 761.6441650390625)]\n",
            "coords: [(122.5199966430664, 62.52001953125, 162.0111083984375, 71.5244140625), (43.43980026245117, 72.47998046875, 83.039794921875, 81.484375), (97.44020080566406, 122.52001953125, 137.0402069091797, 131.5244140625), (407.0400085449219, 122.52001953125, 446.5309753417969, 131.5244140625)]\n",
            "coords: [(145.0800018310547, 532.6799926757812, 188.37986755371094, 541.6843872070312)]\n",
            "coords: [(182.8656463623047, 413.1600036621094, 213.550048828125, 422.1643981933594)]\n",
            "coords: [(30.480100631713867, 542.6400146484375, 68.35977935791016, 551.6444091796875)]\n",
            "coords: [(146.52000427246094, 682.6799926757812, 186.04798889160156, 691.6843872070312)]\n",
            "coords: [(219.47999572753906, 52.55999755859375, 252.6719970703125, 61.56439208984375)]\n",
            "coords: [(30.9601993560791, 252.5999755859375, 60.400291442871094, 261.6043701171875)]\n",
            "coords: [(107.5199966430664, 272.6400146484375, 138.13368225097656, 281.6444091796875)]\n",
            "coords: [(129.0, 383.1600036621094, 159.186767578125, 392.1643981933594)]\n",
            "coords: [(116.5199966430664, 403.0799865722656, 146.7067413330078, 412.0843811035156), (159.0, 572.6400146484375, 189.186767578125, 581.6444091796875)]\n",
            "coords: [(290.5199890136719, 443.1600036621094, 320.2797546386719, 452.1643981933594)]\n",
            "coords: [(40.43980026245117, 603.6400146484375, 78.73291015625, 611.6439208984375), (73.4397964477539, 622.6799926757812, 108.2878189086914, 631.6843872070312)]\n",
            "coords: [(129.0, 52.55999755859375, 156.0899658203125, 61.56439208984375)]\n",
            "coords: [(168.9600067138672, 62.52001953125, 194.62681579589844, 71.5244140625), (90.4801025390625, 72.47998046875, 115.7733383178711, 81.484375)]\n",
            "coords: [(230.0399932861328, 312.6000061035156, 257.6548156738281, 321.6044006347656)]\n",
            "coords: [(243.9600067138672, 732.5999755859375, 267.58502197265625, 741.6043701171875), (180.9600067138672, 752.6397705078125, 206.9998016357422, 761.6441650390625)]\n",
            "coords: [(72.96019744873047, 762.5999755859375, 99.21041107177734, 771.6043701171875)]\n",
            "coords: [(39.960201263427734, 752.6397705078125, 70.62039947509766, 761.6441650390625)]\n",
            "coords: [(137.52000427246094, 542.6400146484375, 150.420166015625, 551.6444091796875)]\n",
            "coords: [(35.519901275634766, 242.6400146484375, 50.304019927978516, 251.6444091796875), (84.4801025390625, 292.67999267578125, 98.4959716796875, 301.68438720703125)]\n",
            "coords: []\n",
            "coords: [(321.4800109863281, 282.6000061035156, 336.7440490722656, 291.6044006347656)]\n",
            "coords: [(508.44000244140625, 83.55999755859375, 520.7520141601562, 91.56390380859375), (489.9599914550781, 552.5999755859375, 502.2720031738281, 561.6043701171875)]\n",
            "coords: [(251.52000427246094, 443.1600036621094, 264.40789794921875, 452.1643981933594)]\n",
            "coords: [(30.480100631713867, 272.6400146484375, 44.43019104003906, 281.6444091796875)]\n",
            "coords: [(465.9599914550781, 83.55999755859375, 478.5600280761719, 91.56390380859375), (450.0, 552.5999755859375, 462.6001281738281, 561.6043701171875)]\n",
            "coords: [(153.4199981689453, 582.5999755859375, 163.67999267578125, 591.6043701171875)]\n",
            "coords: [(159.47999572753906, 722.6397705078125, 166.22999572753906, 731.6441650390625)]\n",
            "coords: [(128.52000427246094, 262.67999267578125, 136.92005920410156, 271.68438720703125), (326.5199890136719, 312.6000061035156, 334.5199279785156, 321.6044006347656)]\n",
            "coords: [(70.5602035522461, 272.6400146484375, 78.16016387939453, 281.6444091796875)]\n",
            "coords: [(474.4800109863281, 552.5999755859375, 480.4799499511719, 561.6043701171875)]\n",
            "coords: [(51.480098724365234, 312.6000061035156, 58.980159759521484, 321.6044006347656), (111.95999908447266, 672.5999755859375, 120.67992401123047, 681.6043701171875)]\n",
            "coords: [(513.9600219726562, 552.5999755859375, 522.0000610351562, 561.6043701171875)]\n",
            "coords: [(81.0, 162.47998046875, 88.99992370605469, 171.484375)]\n",
            "coords: []\n",
            "coords: []\n",
            "coords: []\n",
            "coords: [(77.5198974609375, 52.55999755859375, 189.84007263183594, 61.56439208984375)]\n",
            "coords: []\n",
            "coords: [(49.43980026245117, 410.1600036621094, 141.12002563476562, 419.1643981933594)]\n",
            "coords: [(102.4800033569336, 222.5999755859375, 185.87994384765625, 231.6043701171875), (191.0399932861328, 272.6400146484375, 268.1865234375, 281.6444091796875)]\n",
            "coords: [(185.0399932861328, 42.47998046875, 244.7097625732422, 51.484375)]\n",
            "coords: [(49.43980026245117, 390.1199951171875, 102.1200942993164, 399.1243896484375)]\n",
            "coords: [(123.4800033569336, 202.67999267578125, 165.2797088623047, 211.68438720703125)]\n",
            "coords: [(93.5999984741211, 232.67999267578125, 140.23988342285156, 241.68438720703125), (479.0400085449219, 242.6400146484375, 526.2304077148438, 251.6444091796875)]\n",
            "coords: [(360.0, 340.20001220703125, 404.2048034667969, 349.20440673828125)]\n",
            "coords: [(80.5198974609375, 440.1600036621094, 125.31996154785156, 449.1643981933594)]\n",
            "coords: [(72.47969818115234, 202.67999267578125, 112.0796890258789, 211.68438720703125)]\n",
            "coords: [(49.56019973754883, 380.1600036621094, 83.80792999267578, 389.1643981933594)]\n",
            "coords: [(453.4800109863281, 82.55999755859375, 482.9349060058594, 91.56439208984375), (212.0399932861328, 102.47998046875, 241.49488830566406, 111.484375), (102.95999908447266, 122.52001953125, 132.4148406982422, 131.5244140625), (175.44000244140625, 132.47998046875, 205.6797332763672, 141.484375), (116.5199966430664, 370.20001220703125, 145.5819854736328, 379.20440673828125), (192.0, 400.20001220703125, 221.70030212402344, 409.20440673828125), (334.44000244140625, 400.20001220703125, 363.5018615722656, 409.20440673828125)]\n",
            "coords: [(360.4800109863281, 152.52001953125, 401.520263671875, 161.5244140625)]\n",
            "coords: [(206.52000427246094, 242.6400146484375, 242.55282592773438, 251.6444091796875)]\n",
            "coords: [(51.959800720214844, 292.67999267578125, 105.09579467773438, 301.68438720703125)]\n",
            "coords: [(77.5198974609375, 272.6400146484375, 114.88762664794922, 281.6444091796875), (20.519899368286133, 561.6400146484375, 64.26007843017578, 572.6453857421875), (24.480100631713867, 574.0800170898438, 61.84783172607422, 583.0844116210938), (20.519899368286133, 594.1199951171875, 57.88762664794922, 603.1243896484375)]\n",
            "coords: [(49.43980026245117, 350.1600036621094, 97.175537109375, 359.1643981933594)]\n",
            "coords: [(49.43980026245117, 360.1199951171875, 87.67180633544922, 369.1243896484375)]\n",
            "coords: [(103.91999816894531, 360.1199951171875, 143.1240234375, 369.1243896484375)]\n",
            "coords: [(43.080101013183594, 42.47998046875, 74.75989532470703, 51.484375)]\n",
            "coords: [(216.9600067138672, 292.67999267578125, 256.5333557128906, 301.68438720703125)]\n",
            "coords: [(83.5198974609375, 450.1199951171875, 114.13360595703125, 459.1243896484375)]\n",
            "coords: [(243.9600067138672, 52.55999755859375, 267.690185546875, 61.56439208984375)]\n",
            "coords: [(115.55999755859375, 82.55999755859375, 142.64999389648438, 91.56439208984375), (191.0399932861328, 112.55999755859375, 218.1299591064453, 121.56439208984375), (194.52000427246094, 152.52001953125, 220.55979919433594, 161.5244140625), (210.0, 162.47998046875, 237.0899658203125, 171.484375)]\n",
            "coords: [(49.43980026245117, 460.20001220703125, 77.58000183105469, 469.20440673828125)]\n",
            "coords: [(24.9601993560791, 535.6400146484375, 52.01179122924805, 545.6448974609375)]\n",
            "coords: [(84.0, 82.55999755859375, 107.70014190673828, 91.56439208984375), (421.9200134277344, 82.55999755859375, 445.7200622558594, 91.56439208984375), (180.47999572753906, 102.47998046875, 204.18017578125, 111.484375), (126.95999908447266, 192.5999755859375, 150.7600555419922, 201.6043701171875)]\n",
            "coords: [(124.44000244140625, 42.47998046875, 135.48011779785156, 51.484375)]\n",
            "coords: [(187.55999755859375, 450.1199951171875, 198.83990478515625, 459.1243896484375)]\n",
            "coords: [(360.0, 340.20001220703125, 373.8598937988281, 349.20440673828125)]\n",
            "coords: [(49.43980026245117, 390.1199951171875, 60.419891357421875, 399.1243896484375)]\n",
            "coords: [(49.56019973754883, 340.20001220703125, 61.080291748046875, 349.20440673828125)]\n",
            "coords: [(70.5602035522461, 489.6000061035156, 81.00028991699219, 498.6044006347656)]\n",
            "coords: [(207.47999572753906, 380.1600036621094, 215.16004943847656, 389.1643981933594), (173.0399932861328, 460.20001220703125, 181.03990173339844, 469.20440673828125)]\n",
            "coords: []\n",
            "coords: [(208.9199981689453, 711.5999755859375, 337.59014892578125, 720.6043701171875)]\n",
            "coords: [(209.0399932861328, 676.6799926757812, 338.90008544921875, 685.6843872070312)]\n",
            "coords: [(209.0399932861328, 605.6400146484375, 309.497314453125, 614.6444091796875)]\n",
            "coords: [(48.06536102294922, 529.3200073242188, 134.9832000732422, 538.3244018554688)]\n",
            "coords: [(24.9601993560791, 458.1600036621094, 120.8798599243164, 467.1643981933594)]\n",
            "coords: [(24.9601993560791, 234.1199951171875, 116.54442596435547, 243.1243896484375)]\n",
            "coords: [(209.0399932861328, 658.6799926757812, 289.2330017089844, 667.6843872070312)]\n",
            "coords: [(44.519901275634766, 519.47998046875, 126.51138305664062, 528.484375)]\n",
            "coords: [(27.0, 658.6799926757812, 113.08995819091797, 667.6843872070312)]\n",
            "coords: [(27.0, 676.6799926757812, 108.0301284790039, 685.6843872070312)]\n",
            "coords: [(27.0, 711.5999755859375, 114.52975463867188, 720.6043701171875)]\n",
            "coords: [(44.519901275634766, 509.280029296875, 116.22843933105469, 518.284423828125)]\n",
            "coords: [(209.0399932861328, 641.1600341796875, 289.2797546386719, 650.1644287109375)]\n",
            "coords: [(44.519901275634766, 549.47998046875, 113.68798828125, 558.484375)]\n",
            "coords: [(209.0399932861328, 729.5999755859375, 275.133544921875, 738.6043701171875)]\n",
            "coords: [(21.0, 573.6400146484375, 84.12026977539062, 584.6453857421875), (25.08009910583496, 591.1199951171875, 79.53020477294922, 600.1243896484375)]\n",
            "coords: [(209.0399932861328, 623.6400146484375, 267.3918151855469, 632.6444091796875)]\n",
            "coords: [(20.519899368286133, 43.47998046875, 61.23590850830078, 51.48388671875)]\n",
            "coords: [(20.0398006439209, 380.6000061035156, 56.867794036865234, 390.6048889160156), (69.96019744873047, 402.1199951171875, 101.49590301513672, 411.1243896484375)]\n",
            "coords: [(44.519901275634766, 559.3200073242188, 81.31982421875, 568.3244018554688)]\n",
            "coords: [(209.0399932861328, 694.080078125, 243.60003662109375, 703.08447265625)]\n",
            "coords: [(27.0, 658.6799926757812, 56.333526611328125, 667.6843872070312)]\n",
            "coords: [(140.52000427246094, 468.1199951171875, 164.14500427246094, 477.1243896484375)]\n",
            "coords: [(20.519899368286133, 53.0, 49.3948974609375, 63.0048828125), (20.519899368286133, 218.6400146484375, 48.49189376831055, 227.6444091796875)]\n",
            "coords: [(27.0, 605.6400146484375, 51.06834411621094, 614.6444091796875)]\n",
            "coords: [(27.0, 641.1600341796875, 49.31982421875, 650.1644287109375)]\n",
            "coords: [(63.480098724365234, 729.5999755859375, 82.68023681640625, 738.6043701171875)]\n",
            "coords: [(27.480100631713867, 421.67999267578125, 47.543975830078125, 430.68438720703125)]\n",
            "coords: [(20.519899368286133, 66.55999755859375, 40.10414123535156, 79.56634521484375)]\n",
            "coords: [(278.5199890136719, 66.55999755859375, 305.5600280761719, 79.56634521484375)]\n",
            "coords: [(38.039798736572266, 202.67999267578125, 51.19168472290039, 211.68438720703125)]\n",
            "coords: [(20.519899368286133, 87.52001953125, 35.45989990234375, 95.52392578125)]\n",
            "coords: [(267.4800109863281, 325.67999267578125, 278.0100402832031, 334.68438720703125)]\n",
            "coords: [(90.0, 325.67999267578125, 98.6399917602539, 334.68438720703125)]\n",
            "coords: [(443.0400085449219, 325.67999267578125, 454.4158935546875, 334.68438720703125)]\n",
            "coords: [(72.0, 625.6799926757812, 201.88003540039062, 634.6843872070312)]\n",
            "coords: [(141.9600067138672, 88.47998046875, 265.4552307128906, 96.48388671875)]\n",
            "coords: [(355.44000244140625, 735.5999755859375, 466.9800109863281, 744.6043701171875)]\n",
            "coords: [(24.9601993560791, 410.1600036621094, 129.0477294921875, 419.1643981933594)]\n",
            "coords: [(250.55999755859375, 755.6397705078125, 336.81317138671875, 764.6441650390625)]\n",
            "coords: [(35.519901275634766, 328.67999267578125, 133.930908203125, 337.68438720703125)]\n",
            "coords: [(177.0, 97.55999755859375, 254.84767150878906, 106.56439208984375)]\n",
            "coords: [(35.519901275634766, 278.6400146484375, 117.55487823486328, 287.6444091796875)]\n",
            "coords: [(24.480100631713867, 685.6801147460938, 102.20004272460938, 694.6845092773438)]\n",
            "coords: [(24.9601993560791, 88.47998046875, 103.14008331298828, 96.48388671875)]\n",
            "coords: []\n",
            "coords: [(72.4801025390625, 715.6801147460938, 143.7133331298828, 724.6845092773438)]\n",
            "coords: [(414.0, 665.6400146484375, 474.9358825683594, 674.6444091796875)]\n",
            "coords: [(63.0, 77.52001953125, 122.13016510009766, 86.5244140625)]\n",
            "coords: [(24.480100631713867, 117.0, 77.49037170410156, 126.00439453125)]\n",
            "coords: [(24.9601993560791, 147.0, 74.88029479980469, 156.00439453125)]\n",
            "coords: [(24.9601993560791, 197.15997314453125, 77.65694427490234, 206.16436767578125)]\n",
            "coords: [(184.44000244140625, 278.6400146484375, 235.62648010253906, 287.6444091796875)]\n",
            "coords: [(426.0, 705.5999755859375, 472.0079650878906, 714.6043701171875)]\n",
            "coords: [(35.519901275634766, 298.67999267578125, 87.76520538330078, 307.68438720703125)]\n",
            "coords: [(132.9600067138672, 77.52001953125, 185.2974090576172, 86.5244140625)]\n",
            "coords: [(77.03980255126953, 137.03997802734375, 128.14666748046875, 146.04437255859375)]\n",
            "coords: [(189.47999572753906, 308.6400146484375, 244.4217071533203, 317.6444091796875)]\n",
            "coords: [(35.519901275634766, 338.6400146484375, 92.23391723632812, 347.6444091796875)]\n",
            "coords: [(24.480100631713867, 420.1199951171875, 77.76019287109375, 429.1243896484375)]\n",
            "coords: [(24.9601993560791, 655.6799926757812, 83.28020477294922, 664.6843872070312)]\n",
            "coords: [(141.9600067138672, 665.6400146484375, 183.61668395996094, 674.6444091796875)]\n",
            "coords: [(24.9601993560791, 97.55999755859375, 68.9864730834961, 106.56439208984375)]\n",
            "coords: [(473.5199890136719, 655.6799926757812, 514.7703247070312, 664.6843872070312)]\n",
            "coords: [(275.5199890136719, 705.5999755859375, 323.41522216796875, 714.6043701171875)]\n",
            "coords: [(387.0, 715.6801147460938, 435.61981201171875, 724.6845092773438)]\n",
            "coords: [(24.9601993560791, 107.03997802734375, 70.88719940185547, 116.04437255859375)]\n",
            "coords: [(24.9601993560791, 137.03997802734375, 65.46019744873047, 146.04437255859375)]\n",
            "coords: [(121.44000244140625, 308.6400146484375, 161.88037109375, 317.6444091796875)]\n",
            "coords: [(328.44000244140625, 595.6799926757812, 366.84027099609375, 604.6843872070312)]\n",
            "coords: [(288.6000061035156, 625.6799926757812, 327.1092224121094, 634.6843872070312)]\n",
            "coords: [(192.9600067138672, 665.6400146484375, 224.37815856933594, 674.6444091796875)]\n",
            "coords: [(36.0, 318.6000061035156, 69.9296875, 327.6044006347656)]\n",
            "coords: [(112.44000244140625, 575.6400146484375, 160.28424072265625, 584.6444091796875)]\n",
            "coords: [(483.4800109863281, 595.6799926757812, 516.0961303710938, 604.6843872070312)]\n",
            "coords: [(419.5199890136719, 675.5999755859375, 452.2147521972656, 684.6043701171875)]\n",
            "coords: [(142.44000244140625, 735.5999755859375, 177.1599578857422, 744.6043701171875)]\n",
            "coords: [(24.480100631713867, 745.6801147460938, 51.08699035644531, 754.6845092773438)]\n",
            "coords: [(24.9601993560791, 126.96002197265625, 58.512176513671875, 135.96441650390625)]\n",
            "coords: [(374.5199890136719, 675.5999755859375, 408.1203308105469, 684.6043701171875)]\n",
            "coords: [(235.44000244140625, 705.5999755859375, 264.72027587890625, 714.6043701171875)]\n",
            "coords: [(24.480100631713867, 715.6801147460938, 54.66680908203125, 724.6845092773438)]\n",
            "coords: [(228.9600067138672, 725.6397705078125, 258.8263244628906, 734.6441650390625)]\n",
            "coords: [(150.47999572753906, 745.6801147460938, 181.09364318847656, 754.6845092773438)]\n",
            "coords: [(24.9601993560791, 197.15997314453125, 56.10668182373047, 206.16436767578125)]\n",
            "coords: []\n",
            "coords: [(78.96019744873047, 67.55999755859375, 109.62039184570312, 76.56439208984375), (24.480100631713867, 77.52001953125, 55.559898376464844, 86.5244140625)]\n",
            "coords: [(84.96019744873047, 147.0, 111.31497955322266, 156.00439453125)]\n",
            "coords: [(104.04000091552734, 745.6801147460938, 130.2902069091797, 754.6845092773438)]\n",
            "coords: [(52.56019973754883, 556.2000122070312, 76.01185607910156, 565.2044067382812)]\n",
            "coords: [(462.9599914550781, 675.5999755859375, 485.4240417480469, 684.6043701171875)]\n",
            "coords: [(90.96019744873047, 207.1199951171875, 104.36031341552734, 216.1243896484375)]\n",
            "coords: [(320.5199890136719, 715.6801147460938, 333.37689208984375, 724.6845092773438)]\n",
            "coords: [(403.67999267578125, 745.6801147460938, 415.5798645019531, 754.6845092773438)]\n",
            "coords: [(516.0, 755.6397705078125, 538.0999145507812, 764.6441650390625)]\n",
            "coords: [(24.9601993560791, 595.6799926757812, 40.9920768737793, 604.6843872070312)]\n",
            "coords: [(72.98886108398438, 97.55999755859375, 88.9984130859375, 106.56439208984375)]\n",
            "coords: []\n",
            "coords: [(24.9601993560791, 187.08001708984375, 36.960079193115234, 196.08441162109375)]\n",
            "coords: [(25.08009910583496, 207.1199951171875, 36.21597671508789, 216.1243896484375)]\n",
            "coords: [(273.9599914550781, 675.5999755859375, 287.2080383300781, 684.6043701171875), (201.47999572753906, 735.5999755859375, 214.34388732910156, 744.6043701171875)]\n",
            "coords: [(495.9599914550781, 705.5999755859375, 508.9200134277344, 714.6043701171875)]\n",
            "coords: [(273.0, 308.6400146484375, 287.6699523925781, 317.6444091796875)]\n",
            "coords: [(36.0, 288.6000061035156, 50.22008514404297, 297.6044006347656)]\n",
            "coords: [(243.9600067138672, 595.6799926757812, 257.10009765625, 604.6843872070312)]\n",
            "coords: [(57.480098724365234, 380.1600036621094, 69.79209899902344, 389.1643981933594)]\n",
            "coords: [(336.9599914550781, 675.5999755859375, 349.56011962890625, 684.6043701171875)]\n",
            "coords: [(168.0, 595.6799926757812, 180.33009338378906, 604.6843872070312)]\n",
            "coords: [(244.55999755859375, 625.6799926757812, 251.52005004882812, 634.6843872070312)]\n",
            "coords: [(136.6199951171875, 375.6600036621094, 246.8925323486328, 384.6643981933594)]\n",
            "coords: [(266.94000244140625, 375.6600036621094, 356.0850524902344, 384.6643981933594)]\n",
            "coords: [(165.4199981689453, 415.6199951171875, 244.97998046875, 424.6243896484375)]\n",
            "coords: [(146.8800048828125, 173.70001220703125, 220.49998474121094, 182.70440673828125)]\n",
            "coords: [(183.05999755859375, 304.9200134277344, 250.2192840576172, 313.9244079589844)]\n",
            "coords: [(148.32000732421875, 92.34002685546875, 210.13194274902344, 101.34442138671875)]\n",
            "coords: [(353.5199890136719, 52.20001220703125, 416.10040283203125, 61.20440673828125)]\n",
            "coords: [(182.16000366210938, 193.5, 240.0598602294922, 202.50439453125)]\n",
            "coords: [(453.05999755859375, 375.6600036621094, 506.13763427734375, 384.6643981933594)]\n",
            "coords: [(21.060199737548828, 268.6400146484375, 84.9601058959961, 278.6448974609375)]\n",
            "coords: [(125.63999938964844, 42.29998779296875, 170.3358612060547, 51.30438232421875)]\n",
            "coords: [(238.13999938964844, 153.719970703125, 283.34552001953125, 162.724365234375)]\n",
            "coords: [(172.97999572753906, 213.65997314453125, 228.1198272705078, 222.66436767578125)]\n",
            "coords: [(25.019899368286133, 514.6199951171875, 75.19886016845703, 523.6243896484375), (25.019899368286133, 612.280029296875, 75.19812774658203, 620.283935546875)]\n",
            "coords: [(485.1000061035156, 514.6199951171875, 532.4537963867188, 523.6243896484375), (208.0800018310547, 726.4801025390625, 255.60008239746094, 735.4844970703125)]\n",
            "coords: [(252.36000061035156, 213.65997314453125, 294.4905090332031, 222.66436767578125)]\n",
            "coords: [(186.66000366210938, 102.05999755859375, 226.09619140625, 111.06439208984375)]\n",
            "coords: [(176.75999450683594, 153.719970703125, 214.56002807617188, 162.724365234375)]\n",
            "coords: [(298.320556640625, 213.65997314453125, 337.9200439453125, 222.66436767578125)]\n",
            "coords: [(142.55999755859375, 365.5799865722656, 184.70965576171875, 374.5843811035156)]\n",
            "coords: [(25.560199737548828, 72.17999267578125, 73.42391967773438, 81.18438720703125)]\n",
            "coords: []\n",
            "coords: [(345.4200134277344, 102.05999755859375, 378.7920837402344, 111.06439208984375)]\n",
            "coords: [(128.33999633789062, 253.44000244140625, 165.15847778320312, 262.44439697265625)]\n",
            "coords: [(375.6600036621094, 726.4801025390625, 410.5638427734375, 735.4844970703125)]\n",
            "coords: [(269.82000732421875, 415.6199951171875, 299.90008544921875, 424.6243896484375)]\n",
            "coords: [(25.38010025024414, 42.29998779296875, 47.43010711669922, 51.30438232421875)]\n",
            "coords: [(301.32000732421875, 514.6199951171875, 323.8602294921875, 523.6243896484375), (434.3399963378906, 514.6199951171875, 458.1224365234375, 523.6243896484375), (206.10000610351562, 524.7000122070312, 229.88255310058594, 533.7044067382812), (293.5799865722656, 534.5999755859375, 317.3624267578125, 543.6043701171875), (139.67999267578125, 649.7999877929688, 162.08029174804688, 658.8043823242188)]\n",
            "coords: [(25.38010025024414, 284.94000244140625, 49.95009231567383, 293.94439697265625), (25.38010025024414, 573.1199951171875, 49.572105407714844, 582.1243896484375)]\n",
            "coords: [(146.6999969482422, 324.8999938964844, 174.9800567626953, 333.9043884277344)]\n",
            "coords: [(122.22000122070312, 284.94000244140625, 144.22552490234375, 293.94439697265625)]\n",
            "coords: [(462.4200134277344, 42.29998779296875, 480.2706604003906, 51.30438232421875)]\n",
            "coords: [(166.13999938964844, 134.55999755859375, 182.082763671875, 142.56390380859375)]\n",
            "coords: [(539.280029296875, 514.6199951171875, 552.4797973632812, 523.6243896484375), (52.020301818847656, 534.5999755859375, 65.22014617919922, 543.6043701171875), (534.239990234375, 534.5999755859375, 546.840087890625, 543.6043701171875)]\n",
            "coords: [(238.86000061035156, 92.34002685546875, 253.5749969482422, 101.34442138671875)]\n",
            "coords: [(335.1600036621094, 304.9200134277344, 347.5800476074219, 313.9244079589844)]\n",
            "coords: [(322.44000244140625, 122.03997802734375, 454.93341064453125, 131.04437255859375)]\n",
            "coords: [(132.0, 231.5999755859375, 256.66497802734375, 240.6043701171875)]\n",
            "coords: [(317.0400085449219, 92.03997802734375, 437.8201599121094, 101.04437255859375)]\n",
            "coords: [(72.96019744873047, 251.6400146484375, 183.30838012695312, 260.6444091796875)]\n",
            "coords: [(104.5199966430664, 381.6000061035156, 205.080078125, 390.6044006347656)]\n",
            "coords: [(35.519901275634766, 271.67999267578125, 135.20770263671875, 280.68438720703125)]\n",
            "coords: [(86.03980255126953, 202.5999755859375, 173.83531188964844, 210.6038818359375)]\n",
            "coords: [(35.519901275634766, 81.96002197265625, 124.21589660644531, 90.96441650390625), (72.96019744873047, 152.03997802734375, 154.5043487548828, 161.04437255859375)]\n",
            "coords: [(172.55999755859375, 122.03997802734375, 250.37014770507812, 131.04437255859375)]\n",
            "coords: []\n",
            "coords: [(35.519901275634766, 231.5999755859375, 118.78289794921875, 240.6043701171875)]\n",
            "coords: [(74.5198974609375, 321.6000061035156, 151.1204376220703, 330.6044006347656)]\n",
            "coords: [(43.43980026245117, 351.6000061035156, 117.21989440917969, 360.6044006347656)]\n",
            "coords: [(35.519901275634766, 401.6400146484375, 110.59210205078125, 410.6444091796875)]\n",
            "coords: [(388.44000244140625, 341.6400146484375, 434.5679626464844, 350.6444091796875)]\n",
            "coords: [(90.0, 361.67999267578125, 139.7483673095703, 370.68438720703125)]\n",
            "coords: [(30.9601993560791, 191.6400146484375, 79.73130798339844, 200.6444091796875)]\n",
            "coords: [(35.519901275634766, 171.96002197265625, 82.59711456298828, 180.96441650390625), (73.4397964477539, 211.67999267578125, 116.86115264892578, 220.68438720703125)]\n",
            "coords: [(70.4397964477539, 291.6000061035156, 119.0596923828125, 300.6044006347656)]\n",
            "coords: [(216.47999572753906, 381.6000061035156, 258.2796936035156, 390.6044006347656), (120.4800033569336, 481.67999267578125, 162.2797088623047, 490.68438720703125)]\n",
            "coords: [(74.5198974609375, 421.67999267578125, 115.77023315429688, 430.68438720703125)]\n",
            "coords: [(122.5199966430664, 102.0, 162.12005615234375, 111.00439453125), (43.43980026245117, 112.08001708984375, 83.039794921875, 121.08441162109375)]\n",
            "coords: [(426.6000061035156, 231.5999755859375, 465.1092224121094, 240.6043701171875)]\n",
            "coords: [(20.519899368286133, 537.6400146484375, 64.26007843017578, 548.6453857421875), (24.480100631713867, 550.6799926757812, 61.84783172607422, 559.6843872070312), (20.519899368286133, 570.5999755859375, 57.88762664794922, 579.6043701171875)]\n",
            "coords: [(296.5199890136719, 42.47998046875, 333.4560241699219, 51.484375)]\n",
            "coords: [(182.8656463623047, 321.6000061035156, 213.550048828125, 330.6044006347656)]\n",
            "coords: [(219.47999572753906, 92.03997802734375, 252.6719970703125, 101.04437255859375)]\n",
            "coords: [(87.96019744873047, 181.55999755859375, 120.83985900878906, 190.56439208984375)]\n",
            "coords: [(129.0, 301.67999267578125, 159.186767578125, 310.68438720703125)]\n",
            "coords: [(116.5199966430664, 311.6400146484375, 146.7067413330078, 320.6444091796875)]\n",
            "coords: [(497.5199890136719, 341.6400146484375, 527.2797241210938, 350.6444091796875)]\n",
            "coords: [(35.519901275634766, 441.6000061035156, 73.70654296875, 450.6044006347656), (73.44020080566406, 481.67999267578125, 108.28822326660156, 490.68438720703125)]\n",
            "coords: [(148.44000244140625, 42.47998046875, 171.02679443359375, 51.484375)]\n",
            "coords: [(129.0, 92.03997802734375, 156.0899658203125, 101.04437255859375)]\n",
            "coords: [(168.9600067138672, 102.0, 194.62681579589844, 111.00439453125), (90.4801025390625, 112.08001708984375, 115.7733383178711, 121.08441162109375)]\n",
            "coords: [(209.52000427246094, 181.55999755859375, 234.92982482910156, 190.56439208984375)]\n",
            "coords: [(24.9601993560791, 511.760009765625, 52.01179122924805, 521.764892578125)]\n",
            "coords: [(508.44000244140625, 122.03997802734375, 520.8241577148438, 131.04437255859375)]\n",
            "coords: [(458.5199890136719, 341.6400146484375, 471.4078674316406, 350.6444091796875)]\n",
            "coords: [(465.9599914550781, 122.03997802734375, 478.56011962890625, 131.04437255859375)]\n",
            "coords: [(276.4800109863281, 231.5999755859375, 284.1600646972656, 240.6043701171875)]\n",
            "coords: []\n",
            "coords: []\n",
            "coords: [(208.9199981689453, 718.6801147460938, 337.59014892578125, 727.6845092773438)]\n",
            "coords: [(209.0399932861328, 683.1602172851562, 338.90008544921875, 692.1646118164062)]\n",
            "coords: [(209.0399932861328, 612.5999755859375, 309.497314453125, 621.6043701171875)]\n",
            "coords: [(24.9601993560791, 505.0799560546875, 120.8798599243164, 514.0843505859375)]\n",
            "coords: [(209.0399932861328, 665.6400146484375, 289.2330017089844, 674.6444091796875)]\n",
            "coords: [(27.0, 665.6400146484375, 113.08995819091797, 674.6444091796875)]\n",
            "coords: [(27.0, 683.1602172851562, 108.0301284790039, 692.1646118164062)]\n",
            "coords: [(27.0, 718.6801147460938, 114.52975463867188, 727.6845092773438)]\n",
            "coords: [(209.0399932861328, 648.1199951171875, 289.173095703125, 657.1243896484375)]\n",
            "coords: [(44.519901275634766, 556.6799926757812, 113.68798828125, 565.6843872070312)]\n",
            "coords: [(209.0399932861328, 736.2000122070312, 275.133544921875, 745.2044067382812)]\n",
            "coords: [(21.0, 580.5999755859375, 84.01554107666016, 591.6053466796875), (70.5602035522461, 598.2000122070312, 124.53021240234375, 607.2044067382812)]\n",
            "coords: [(209.0399932861328, 630.1199951171875, 267.5039367675781, 639.1243896484375)]\n",
            "coords: [(120.4800033569336, 202.67999267578125, 175.1041259765625, 211.68438720703125)]\n",
            "coords: [(20.519899368286133, 43.47998046875, 61.23590850830078, 51.48388671875)]\n",
            "coords: [(20.0398006439209, 426.6400146484375, 56.867794036865234, 437.6453857421875), (69.96019744873047, 449.1600036621094, 101.49590301513672, 458.1643981933594)]\n",
            "coords: [(44.519901275634766, 567.6400146484375, 81.31989288330078, 575.6439208984375)]\n",
            "coords: [(209.0399932861328, 701.1602172851562, 243.60003662109375, 710.1646118164062)]\n",
            "coords: [(27.0, 665.6400146484375, 56.333526611328125, 674.6444091796875)]\n",
            "coords: [(140.52000427246094, 515.1600341796875, 164.14500427246094, 524.1644287109375)]\n",
            "coords: [(20.519899368286133, 53.0, 49.3948974609375, 63.0048828125), (20.519899368286133, 217.6400146484375, 48.49189376831055, 227.6448974609375)]\n",
            "coords: [(432.9599914550781, 318.6000061035156, 457.4402770996094, 327.6044006347656)]\n",
            "coords: [(189.0, 202.67999267578125, 214.7142333984375, 211.68438720703125)]\n",
            "coords: [(27.0, 612.5999755859375, 51.06834411621094, 621.6043701171875)]\n",
            "coords: [(27.0, 648.1199951171875, 49.31982421875, 657.1243896484375)]\n",
            "coords: [(75.0, 318.6000061035156, 93.94275665283203, 327.6044006347656)]\n",
            "coords: [(63.480098724365234, 736.2000122070312, 82.68023681640625, 745.2044067382812)]\n",
            "coords: [(27.480100631713867, 468.1199951171875, 47.543975830078125, 477.1243896484375)]\n",
            "coords: [(20.519899368286133, 66.55999755859375, 39.81605911254883, 79.56634521484375)]\n",
            "coords: [(296.0400085449219, 66.55999755859375, 311.3997497558594, 79.56634521484375)]\n",
            "coords: [(20.519899368286133, 87.52001953125, 35.45989990234375, 95.52392578125)]\n",
            "coords: [(267.4800109863281, 274.0799865722656, 278.0100402832031, 283.0843811035156)]\n",
            "coords: [(90.0, 274.0799865722656, 98.6399917602539, 283.0843811035156)]\n",
            "coords: [(86.5198974609375, 363.1199951171875, 97.76998901367188, 372.1243896484375)]\n",
            "coords: [(443.0400085449219, 274.0799865722656, 454.4158935546875, 283.0843811035156)]\n",
            "coords: [(273.4800109863281, 318.6000061035156, 278.8400573730469, 327.6044006347656)]\n",
            "coords: []\n",
            "coords: [(141.9600067138672, 88.47998046875, 265.4552307128906, 96.48388671875)]\n",
            "coords: [(24.9601993560791, 420.1199951171875, 128.9520263671875, 429.1243896484375)]\n",
            "coords: [(35.519901275634766, 328.67999267578125, 133.930908203125, 337.68438720703125)]\n",
            "coords: [(177.0, 97.55999755859375, 254.84767150878906, 106.56439208984375)]\n",
            "coords: [(35.519901275634766, 278.6400146484375, 117.55487823486328, 287.6444091796875)]\n",
            "coords: [(161.39999389648438, 710.1602172851562, 233.11990356445312, 719.1646118164062)]\n",
            "coords: [(24.9601993560791, 88.47998046875, 103.14008331298828, 96.48388671875)]\n",
            "coords: []\n",
            "coords: [(30.480100631713867, 700.2000122070312, 91.7733383178711, 709.2044067382812)]\n",
            "coords: [(63.0, 77.52001953125, 122.13016510009766, 86.5244140625)]\n",
            "coords: [(24.480100631713867, 117.0, 77.49037170410156, 126.00439453125)]\n",
            "coords: [(24.9601993560791, 147.0, 74.88029479980469, 156.00439453125)]\n",
            "coords: [(24.9601993560791, 197.15997314453125, 77.65694427490234, 206.16436767578125)]\n",
            "coords: [(184.44000244140625, 278.6400146484375, 235.62648010253906, 287.6444091796875)]\n",
            "coords: [(372.4800109863281, 660.1199951171875, 422.17315673828125, 669.1243896484375)]\n",
            "coords: [(35.519901275634766, 298.67999267578125, 87.76520538330078, 307.68438720703125)]\n",
            "coords: [(132.9600067138672, 77.52001953125, 185.2974090576172, 86.5244140625)]\n",
            "coords: [(77.03980255126953, 137.03997802734375, 128.14666748046875, 146.04437255859375)]\n",
            "coords: [(189.47999572753906, 308.6400146484375, 244.4217071533203, 317.6444091796875)]\n",
            "coords: [(35.519901275634766, 338.6400146484375, 92.23391723632812, 347.6444091796875)]\n",
            "coords: [(24.480100631713867, 431.0799865722656, 77.76019287109375, 439.0838928222656)]\n",
            "coords: [(24.9601993560791, 97.55999755859375, 68.9864730834961, 106.56439208984375)]\n",
            "coords: [(24.9601993560791, 107.03997802734375, 70.88719940185547, 116.04437255859375)]\n",
            "coords: [(24.9601993560791, 137.03997802734375, 65.46019744873047, 146.04437255859375)]\n",
            "coords: [(121.44000244140625, 308.6400146484375, 161.88037109375, 317.6444091796875)]\n",
            "coords: [(109.55999755859375, 710.1602172851562, 150.1885223388672, 719.1646118164062)]\n",
            "coords: [(36.0, 318.6000061035156, 69.9296875, 327.6044006347656)]\n",
            "coords: [(77.5198974609375, 380.1600036621094, 116.87995910644531, 389.1643981933594)]\n",
            "coords: [(30.9601993560791, 690.119873046875, 76.41819763183594, 699.124267578125)]\n",
            "coords: [(287.5199890136719, 710.1602172851562, 318.5760498046875, 719.1646118164062)]\n",
            "coords: [(24.9601993560791, 126.96002197265625, 58.512176513671875, 135.96441650390625)]\n",
            "coords: []\n",
            "coords: [(78.96019744873047, 67.55999755859375, 109.62039184570312, 76.56439208984375), (24.480100631713867, 77.52001953125, 55.559898376464844, 86.5244140625), (30.480100631713867, 720.119873046875, 59.320228576660156, 729.124267578125)]\n",
            "coords: [(84.96019744873047, 147.0, 111.31497955322266, 156.00439453125)]\n",
            "coords: [(28.439800262451172, 602.1600341796875, 61.30501174926758, 611.1644287109375)]\n",
            "coords: [(52.56019973754883, 640.0800170898438, 76.01185607910156, 649.0844116210938)]\n",
            "coords: [(90.96019744873047, 207.1199951171875, 104.36031341552734, 216.1243896484375)]\n",
            "coords: [(29.0398006439209, 556.6400146484375, 53.38979721069336, 566.6448974609375)]\n",
            "coords: [(58.259796142578125, 556.6400146484375, 82.60980224609375, 566.6448974609375)]\n",
            "coords: [(28.91990089416504, 579.5999755859375, 51.61969757080078, 588.6043701171875)]\n",
            "coords: [(354.4800109863281, 710.1602172851562, 370.8960266113281, 719.1646118164062)]\n",
            "coords: [(72.98886108398438, 97.55999755859375, 88.9984130859375, 106.56439208984375)]\n",
            "coords: [(24.9601993560791, 187.08001708984375, 36.960079193115234, 196.08441162109375)]\n",
            "coords: [(25.08009910583496, 207.1199951171875, 36.21597671508789, 216.1243896484375)]\n",
            "coords: [(29.0398006439209, 538.2000122070312, 48.143924713134766, 547.2044067382812)]\n",
            "coords: [(273.0, 308.6400146484375, 287.6699523925781, 317.6444091796875)]\n",
            "coords: [(36.0, 288.6000061035156, 50.22008514404297, 297.6044006347656)]\n",
            "coords: [(57.480098724365234, 390.1199951171875, 69.79209899902344, 399.1243896484375), (30.9601993560791, 680.1600341796875, 43.27220153808594, 689.1644287109375)]\n",
            "coords: [(98.5198974609375, 640.0800170898438, 111.92999267578125, 649.0844116210938), (24.9601993560791, 660.1199951171875, 37.27219772338867, 669.1243896484375)]\n",
            "coords: [(216.03994750976562, 740.1602172851562, 228.03981018066406, 749.1646118164062)]\n",
            "coords: [(20.519899368286133, 624.0800170898438, 32.93989944458008, 634.0848999023438)]\n",
            "coords: [(77.5198974609375, 380.1600036621094, 89.1299057006836, 389.1643981933594), (30.9601993560791, 670.0800170898438, 41.760196685791016, 679.0844116210938)]\n",
            "coords: [(95.5198974609375, 730.2000122070312, 105.09599304199219, 739.2044067382812)]\n",
            "coords: [(326.8800048828125, 122.03997802734375, 438.3899841308594, 131.04437255859375)]\n",
            "coords: [(250.74000549316406, 142.02001953125, 336.82012939453125, 151.0244140625)]\n",
            "coords: [(58.5, 102.05999755859375, 135.66058349609375, 111.06439208984375)]\n",
            "coords: [(231.83999633789062, 303.29998779296875, 305.4600830078125, 312.30438232421875)]\n",
            "coords: [(385.9200134277344, 664.3800048828125, 461.8080139160156, 673.3843994140625)]\n",
            "coords: [(385.739990234375, 343.260009765625, 453.23992919921875, 352.264404296875)]\n",
            "coords: [(194.5800018310547, 363.239990234375, 264.6719970703125, 372.244384765625)]\n",
            "coords: [(183.05999755859375, 554.4000244140625, 250.2192840576172, 563.4044189453125)]\n",
            "coords: [(353.5199890136719, 403.20001220703125, 425.0289306640625, 412.20440673828125)]\n",
            "coords: [(178.02000427246094, 725.3198852539062, 246.59999084472656, 733.3237915039062)]\n",
            "coords: [(424.6199951171875, 82.08001708984375, 485.06402587890625, 91.08441162109375)]\n",
            "coords: [(149.94000244140625, 182.15997314453125, 211.5719451904297, 191.16436767578125)]\n",
            "coords: [(229.86000061035156, 324.4599914550781, 287.6999816894531, 332.4638977050781)]\n",
            "coords: [(245.16000366210938, 463.1400146484375, 300.0600280761719, 472.1444091796875)]\n",
            "coords: [(343.79998779296875, 554.4000244140625, 399.0826416015625, 563.4044189453125)]\n",
            "coords: [(261.3599853515625, 554.4000244140625, 314.91015625, 563.4044189453125)]\n",
            "coords: [(21.060199737548828, 518.1199951171875, 84.9601058959961, 528.1248779296875)]\n",
            "coords: [(25.38010025024414, 82.08001708984375, 83.08341217041016, 91.08441162109375)]\n",
            "coords: [(152.4600067138672, 82.08001708984375, 194.11668395996094, 91.08441162109375), (238.13999938964844, 283.5, 283.34552001953125, 292.50439453125)]\n",
            "coords: [(125.63999938964844, 152.0999755859375, 170.3358612060547, 161.1043701171875)]\n",
            "coords: [(399.4200134277344, 324.4599914550781, 442.7746276855469, 332.4638977050781)]\n",
            "coords: [(164.6999969482422, 343.260009765625, 210.0599822998047, 352.264404296875)]\n",
            "coords: [(321.1199951171875, 664.3800048828125, 367.8300476074219, 673.3843994140625)]\n",
            "coords: [(204.47999572753906, 263.34002685546875, 243.85501098632812, 272.34442138671875)]\n",
            "coords: [(143.4600067138672, 503.0999755859375, 184.50001525878906, 512.1043701171875), (204.3000030517578, 503.0999755859375, 244.91986083984375, 512.1043701171875)]\n",
            "coords: [(244.8000030517578, 574.3800048828125, 293.0039367675781, 583.3843994140625)]\n",
            "coords: [(122.58000183105469, 423.17999267578125, 161.57965087890625, 432.18438720703125)]\n",
            "coords: [(31.139799118041992, 62.280029296875, 70.89009094238281, 71.284423828125)]\n",
            "coords: [(203.5800018310547, 82.08001708984375, 235.16188049316406, 91.08441162109375)]\n",
            "coords: [(186.66000366210938, 192.05999755859375, 226.09619140625, 201.06439208984375)]\n",
            "coords: [(176.75999450683594, 283.5, 214.56002807617188, 292.50439453125)]\n",
            "coords: [(446.94000244140625, 92.34002685546875, 479.19256591796875, 101.34442138671875), (245.16000366210938, 403.20001220703125, 278.8559265136719, 412.20440673828125)]\n",
            "coords: [(113.94000244140625, 122.03997802734375, 148.4398651123047, 131.04437255859375)]\n",
            "coords: [(513.3599853515625, 122.03997802734375, 539.42724609375, 131.04437255859375)]\n",
            "coords: [(25.560199737548828, 182.15997314453125, 73.42391967773438, 191.16436767578125)]\n",
            "coords: []\n",
            "coords: [(345.4200134277344, 192.05999755859375, 378.7920837402344, 201.06439208984375)]\n",
            "coords: [(221.5800018310547, 343.260009765625, 256.04150390625, 352.264404296875)]\n",
            "coords: [(231.1199951171875, 614.3399658203125, 265.1399841308594, 623.3443603515625), (482.3999938964844, 635.3200073242188, 518.0399780273438, 643.3239135742188)]\n",
            "coords: [(31.319900512695312, 43.29998779296875, 65.21980285644531, 51.30389404296875)]\n",
            "coords: [(115.73999786376953, 132.29998779296875, 145.82017517089844, 141.30438232421875)]\n",
            "coords: [(31.319900512695312, 53.20001220703125, 60.40791320800781, 61.20391845703125)]\n",
            "coords: [(401.5799865722656, 92.34002685546875, 434.9879455566406, 101.34442138671875)]\n",
            "coords: [(93.4198989868164, 263.34002685546875, 122.10013580322266, 272.34442138671875)]\n",
            "coords: [(176.94000244140625, 303.29998779296875, 209.48394775390625, 312.30438232421875), (126.0, 695.2601928710938, 158.5439453125, 703.2640991210938)]\n",
            "coords: [(360.3599853515625, 324.4599914550781, 388.7279052734375, 332.4638977050781)]\n",
            "coords: [(140.5800018310547, 403.20001220703125, 174.8519744873047, 412.20440673828125)]\n",
            "coords: [(326.8800048828125, 122.03997802734375, 364.0003662109375, 131.04437255859375), (187.1999969482422, 403.20001220703125, 222.1919403076172, 412.20440673828125)]\n",
            "coords: [(389.3399963378906, 122.03997802734375, 414.9403381347656, 131.04437255859375), (480.05999755859375, 403.20001220703125, 504.82879638671875, 412.20440673828125)]\n",
            "coords: [(218.16000366210938, 423.17999267578125, 248.68795776367188, 432.18438720703125)]\n",
            "coords: [(100.9800033569336, 503.0999755859375, 132.14564514160156, 512.1043701171875)]\n",
            "coords: [(313.20001220703125, 644.5800170898438, 346.96002197265625, 653.5844116210938)]\n",
            "coords: [(192.1722869873047, 695.2601928710938, 220.8820037841797, 703.2640991210938)]\n",
            "coords: [(68.9397964477539, 132.29998779296875, 95.39978790283203, 141.30438232421875)]\n",
            "coords: [(25.37969970703125, 152.0999755859375, 47.42970657348633, 161.1043701171875)]\n",
            "coords: [(471.239990234375, 343.260009765625, 492.9396057128906, 352.264404296875)]\n",
            "coords: [(289.6199951171875, 363.239990234375, 317.4798583984375, 372.244384765625)]\n",
            "coords: [(172.8000030517578, 423.17999267578125, 196.739990234375, 432.18438720703125)]\n",
            "coords: [(135.0, 444.1600036621094, 157.81996154785156, 452.1639099121094)]\n",
            "coords: [(25.38010025024414, 534.5999755859375, 49.95009231567383, 543.6043701171875)]\n",
            "coords: [(242.82000732421875, 695.2601928710938, 268.1773376464844, 703.2640991210938)]\n",
            "coords: [(490.32000732421875, 92.34002685546875, 512.6400146484375, 101.34442138671875)]\n",
            "coords: [(325.44000244140625, 324.4599914550781, 349.065185546875, 332.4638977050781)]\n",
            "coords: [(209.6999969482422, 483.1199951171875, 232.53443908691406, 492.1243896484375)]\n",
            "coords: [(122.22000122070312, 534.5999755859375, 144.22552490234375, 543.6043701171875)]\n",
            "coords: [(306.7200012207031, 614.3399658203125, 335.3399353027344, 623.3443603515625)]\n",
            "coords: [(70.9198989868164, 53.20001220703125, 91.62031555175781, 61.20391845703125)]\n",
            "coords: [(125.81999969482422, 62.280029296875, 148.4698486328125, 71.284423828125)]\n",
            "coords: [(368.4599914550781, 132.29998779296875, 380.6099548339844, 141.30438232421875)]\n",
            "coords: [(516.4199829101562, 142.02001953125, 538.4698486328125, 151.0244140625)]\n",
            "coords: [(462.4200134277344, 152.0999755859375, 480.2706604003906, 161.1043701171875)]\n",
            "coords: [(166.13999938964844, 223.55999755859375, 182.08306884765625, 232.56439208984375)]\n",
            "coords: [(147.05999755859375, 303.29998779296875, 166.0886993408203, 312.30438232421875)]\n",
            "coords: [(170.63999938964844, 695.2601928710938, 188.5835723876953, 703.2640991210938)]\n",
            "coords: [(301.32000732421875, 92.34002685546875, 314.42401123046875, 101.34442138671875), (172.8000030517578, 122.03997802734375, 185.76002502441406, 131.04437255859375)]\n",
            "coords: [(515.1599731445312, 754.380126953125, 533.8799438476562, 763.384521484375)]\n",
            "coords: [(240.47999572753906, 182.15997314453125, 255.05999755859375, 191.16436767578125)]\n",
            "coords: []\n",
            "coords: [(364.1400146484375, 92.34002685546875, 376.6679992675781, 101.34442138671875)]\n",
            "coords: [(484.0199890136719, 554.4000244140625, 496.4400329589844, 563.4044189453125)]\n",
            "coords: [(489.239990234375, 695.2601928710938, 503.0099792480469, 703.2640991210938)]\n",
            "coords: [(397.260009765625, 725.3198852539062, 409.8960266113281, 733.3237915039062)]\n",
            "coords: []\n",
            "coords: []\n",
            "coords: [(51.960201263427734, 363.7200012207031, 221.66412353515625, 372.7243957519531)]\n",
            "coords: [(77.5198974609375, 634.2000122070312, 189.84007263183594, 643.2044067382812)]\n",
            "coords: [(168.0, 264.1199951171875, 269.9896240234375, 273.1243896484375)]\n",
            "coords: [(35.039798736572266, 194.15997314453125, 139.54051208496094, 203.16436767578125)]\n",
            "coords: [(86.03980255126953, 423.6000061035156, 173.83477783203125, 432.6044006347656)]\n",
            "coords: [(51.960201263427734, 373.32000732421875, 145.0647735595703, 382.32440185546875)]\n",
            "coords: [(51.960201263427734, 353.6400146484375, 148.71424865722656, 362.6444091796875)]\n",
            "coords: [(35.519901275634766, 453.6000061035156, 110.4959716796875, 462.6044006347656)]\n",
            "coords: [(75.0, 314.1600036621094, 141.35984802246094, 323.1643981933594)]\n",
            "coords: [(30.9601993560791, 413.6400146484375, 79.73130798339844, 422.6444091796875)]\n",
            "coords: [(261.9599914550781, 463.67999267578125, 313.1054382324219, 472.68438720703125)]\n",
            "coords: [(35.519901275634766, 403.67999267578125, 82.92865753173828, 412.68438720703125), (73.4397964477539, 433.67999267578125, 116.86115264892578, 442.68438720703125)]\n",
            "coords: [(393.4800109863281, 154.08001708984375, 441.55029296875, 163.08441162109375)]\n",
            "coords: [(110.04000091552734, 334.20001220703125, 151.72991943359375, 343.20440673828125), (120.4800033569336, 594.1199951171875, 162.2797088623047, 603.1243896484375)]\n",
            "coords: [(480.4800109863281, 463.67999267578125, 526.5299682617188, 472.68438720703125)]\n",
            "coords: [(74.5198974609375, 483.6000061035156, 115.6603775024414, 492.6044006347656)]\n",
            "coords: [(77.5198974609375, 614.1600341796875, 123.38954162597656, 623.1644287109375), (171.9600067138672, 624.1199951171875, 212.57571411132812, 633.1243896484375)]\n",
            "coords: [(87.96019744873047, 214.20001220703125, 127.75992584228516, 223.20440673828125)]\n",
            "coords: [(388.55999755859375, 214.20001220703125, 423.1918640136719, 223.20440673828125)]\n",
            "coords: [(72.0, 304.20001220703125, 109.05567169189453, 313.20440673828125)]\n",
            "coords: [(406.55999755859375, 453.6000061035156, 442.75994873046875, 462.6044006347656)]\n",
            "coords: [(260.5199890136719, 584.1600341796875, 300.1199035644531, 593.1644287109375)]\n",
            "coords: [(194.0399932861328, 709.6801147460938, 232.3404541015625, 718.6845092773438)]\n",
            "coords: [(77.5198974609375, 264.1199951171875, 114.88762664794922, 273.1243896484375)]\n",
            "coords: [(105.0, 564.1199951171875, 138.08688354492188, 573.1243896484375)]\n",
            "coords: [(115.44000244140625, 574.0800170898438, 150.21571350097656, 583.0844116210938)]\n",
            "coords: [(158.0399932861328, 574.0800170898438, 192.76812744140625, 583.0844116210938)]\n",
            "coords: [(276.0, 654.1199951171875, 321.85089111328125, 663.1243896484375), (177.9600067138672, 674.1600341796875, 225.69573974609375, 683.1644287109375)]\n",
            "coords: [(266.5199890136719, 154.08001708984375, 303.4264831542969, 163.08441162109375)]\n",
            "coords: [(401.5199890136719, 224.15997314453125, 431.7067565917969, 233.16436767578125), (294.0, 314.1600036621094, 324.186767578125, 323.1643981933594), (410.0400085449219, 314.1600036621094, 440.6537780761719, 323.1643981933594)]\n",
            "coords: [(35.519901275634766, 544.2000122070312, 73.70654296875, 553.2044067382812), (73.4397964477539, 594.1199951171875, 108.2878189086914, 603.1243896484375)]\n",
            "coords: [(518.52001953125, 204.1199951171875, 545.1900024414062, 213.1243896484375)]\n",
            "coords: [(243.9600067138672, 634.2000122070312, 267.690185546875, 643.2044067382812)]\n",
            "coords: [(294.4800109863281, 684.119873046875, 322.0948486328125, 693.124267578125), (406.55999755859375, 684.119873046875, 434.1748352050781, 693.124267578125), (123.0, 694.080078125, 150.6148223876953, 703.08447265625)]\n",
            "coords: [(88.9198989868164, 709.6801147460938, 115.05294036865234, 718.6845092773438)]\n",
            "coords: [(45.960201263427734, 510.1600341796875, 68.28020477294922, 518.1639404296875)]\n",
            "coords: [(126.0, 510.1600341796875, 150.48001098632812, 518.1639404296875)]\n",
            "coords: [(66.4801025390625, 214.20001220703125, 82.28004455566406, 223.20440673828125)]\n",
            "coords: [(482.5199890136719, 63.52001953125, 503.9483642578125, 71.52392578125)]\n",
            "coords: [(198.9600067138672, 112.55999755859375, 214.85983276367188, 121.56439208984375)]\n",
            "coords: [(392.0400085449219, 244.20001220703125, 414.9400939941406, 253.20440673828125)]\n",
            "coords: [(372.6000061035156, 314.1600036621094, 384.6001281738281, 323.1643981933594)]\n",
            "coords: [(526.5599975585938, 453.6000061035156, 544.4600830078125, 462.6044006347656)]\n",
            "coords: [(167.52000427246094, 112.55999755859375, 181.1521453857422, 121.56439208984375)]\n",
            "coords: [(134.0399932861328, 234.1199951171875, 144.9998321533203, 243.1243896484375)]\n",
            "coords: [(79.5602035522461, 334.20001220703125, 93.48031616210938, 343.20440673828125)]\n",
            "coords: [(144.47999572753906, 453.6000061035156, 157.1199493408203, 462.6044006347656), (148.44000244140625, 463.67999267578125, 161.68798828125, 472.68438720703125)]\n",
            "coords: [(51.480098724365234, 344.1600036621094, 65.79010009765625, 353.1643981933594)]\n",
            "coords: [(483.9599914550781, 224.15997314453125, 494.13006591796875, 233.16436767578125)]\n",
            "coords: [(206.0399932861328, 383.3999938964844, 219.1800994873047, 392.4043884277344)]\n",
            "coords: [(51.960201263427734, 493.67999267578125, 63.04829025268555, 502.68438720703125)]\n",
            "coords: [(159.47999572753906, 624.1199951171875, 166.22999572753906, 633.1243896484375)]\n",
            "coords: [(245.0399932861328, 383.3999938964844, 252.0000457763672, 392.4043884277344)]\n",
            "coords: [(504.0, 204.1199951171875, 511.6800537109375, 213.1243896484375), (236.0399932861328, 544.2000122070312, 244.03990173339844, 553.2044067382812), (360.9599914550781, 544.2000122070312, 368.7200012207031, 553.2044067382812)]\n",
            "coords: [(77.5198974609375, 132.47998046875, 231.03302001953125, 141.484375)]\n",
            "coords: [(51.960201263427734, 72.3599853515625, 216.12014770507812, 81.3643798828125)]\n",
            "coords: [(168.0, 62.52001953125, 269.879638671875, 71.5244140625)]\n",
            "coords: []\n",
            "coords: [(49.43980026245117, 250.20001220703125, 141.12002563476562, 259.20440673828125)]\n",
            "coords: [(35.519901275634766, 112.55999755859375, 126.26370239257812, 121.56439208984375)]\n",
            "coords: [(49.43980026245117, 230.15997314453125, 102.1200942993164, 239.16436767578125)]\n",
            "coords: [(51.960201263427734, 82.20001220703125, 102.52008819580078, 91.20440673828125)]\n",
            "coords: [(360.0, 180.0, 404.2048034667969, 189.00439453125)]\n",
            "coords: [(80.5198974609375, 280.0799865722656, 125.31996154785156, 289.0843811035156)]\n",
            "coords: [(49.55979919433594, 220.08001708984375, 83.80792999267578, 229.08441162109375)]\n",
            "coords: [(72.4801025390625, 52.55999755859375, 109.84783172607422, 61.56439208984375), (77.5198974609375, 62.52001953125, 114.88762664794922, 71.5244140625), (20.519899368286133, 411.6400146484375, 64.36798858642578, 422.6453857421875), (24.480100631713867, 424.67999267578125, 61.84783172607422, 433.68438720703125), (20.519899368286133, 444.6000061035156, 57.88762664794922, 453.6044006347656)]\n",
            "coords: [(49.43980026245117, 190.08001708984375, 97.175537109375, 199.08441162109375)]\n",
            "coords: [(49.43980026245117, 200.15997314453125, 87.67180633544922, 209.16436767578125)]\n",
            "coords: [(103.91999816894531, 200.15997314453125, 143.1240234375, 209.16436767578125)]\n",
            "coords: [(116.5199966430664, 210.1199951171875, 145.5819854736328, 219.1243896484375), (192.0, 240.1199951171875, 221.70030212402344, 249.1243896484375), (334.44000244140625, 240.1199951171875, 363.5018615722656, 249.1243896484375)]\n",
            "coords: [(83.5198974609375, 290.1600036621094, 114.13360595703125, 299.1643981933594)]\n",
            "coords: [(49.43980026245117, 300.1199951171875, 77.47479248046875, 309.1243896484375)]\n",
            "coords: [(25.08009910583496, 375.1600036621094, 52.02855682373047, 386.1653747558594)]\n",
            "coords: [(182.52000427246094, 112.55999755859375, 205.4200897216797, 121.56439208984375)]\n",
            "coords: [(187.55999755859375, 290.1600036621094, 198.83990478515625, 299.1643981933594)]\n",
            "coords: [(51.960201263427734, 92.15997314453125, 66.18029022216797, 101.16436767578125)]\n",
            "coords: [(360.0, 180.0, 373.8598937988281, 189.00439453125)]\n",
            "coords: [(49.43980026245117, 230.15997314453125, 60.3297119140625, 239.16436767578125)]\n",
            "coords: [(49.56019973754883, 180.0, 61.080291748046875, 189.00439453125)]\n",
            "coords: [(70.55979919433594, 330.1199951171875, 80.9998779296875, 339.1243896484375)]\n",
            "coords: [(207.47999572753906, 220.08001708984375, 215.16004943847656, 229.08441162109375), (173.0399932861328, 300.1199951171875, 181.03990173339844, 309.1243896484375)]\n",
            "coords: [(106.44000244140625, 92.96002197265625, 196.04579162597656, 102.96490478515625)]\n",
            "coords: [(22.91990089416504, 274.1199951171875, 113.67996215820312, 285.1253662109375)]\n",
            "coords: [(324.0, 66.47998046875, 340.114501953125, 75.484375)]\n",
            "coords: [(18.480100631713867, 62.47998046875, 38.73046112060547, 75.486328125), (22.91990089416504, 274.1199951171875, 34.26034927368164, 285.1253662109375), (159.0, 309.9200134277344, 168.7217559814453, 316.9234313964844)]\n",
            "coords: [(171.47999572753906, 62.47998046875, 182.11997985839844, 75.486328125)]\n",
            "coords: [(190.9199981689453, 93.08001708984375, 334.9198913574219, 103.08489990234375)]\n",
            "coords: [(395.0400085449219, 93.08001708984375, 468.1282653808594, 103.08489990234375)]\n",
            "coords: [(23.399999618530273, 335.67999267578125, 92.10784149169922, 346.68536376953125)]\n",
            "coords: [(23.399999618530273, 427.1199951171875, 92.81106567382812, 435.1239013671875)]\n",
            "coords: [(22.91990089416504, 289.6000061035156, 81.08515930175781, 300.6053771972656)]\n",
            "coords: [(19.439800262451172, 62.47998046875, 91.90319061279297, 75.486328125)]\n",
            "coords: [(190.9199981689453, 93.08001708984375, 228.10105895996094, 103.08489990234375)]\n",
            "coords: [(247.55999755859375, 396.9200134277344, 293.43048095703125, 403.9234313964844)]\n",
            "coords: [(23.0398006439209, 312.8800048828125, 76.172119140625, 323.8853759765625)]\n",
            "coords: [(303.0, 396.9200134277344, 339.82781982421875, 403.9234313964844)]\n",
            "coords: [(52.919898986816406, 93.08001708984375, 76.01990509033203, 103.08489990234375)]\n",
            "coords: [(312.0, 371.1199951171875, 331.1999816894531, 378.1234130859375), (307.44000244140625, 379.6400146484375, 326.64105224609375, 386.6434326171875), (224.52000427246094, 459.67999267578125, 244.02027893066406, 466.68341064453125), (224.52000427246094, 468.0799865722656, 243.71998596191406, 475.0834045410156)]\n",
            "coords: [(23.399999618530273, 427.1199951171875, 34.74024200439453, 435.1239013671875)]\n",
            "coords: [(23.399999618530273, 335.67999267578125, 33.66035842895508, 346.68536376953125)]\n",
            "coords: [(312.0, 371.1199951171875, 319.67999267578125, 378.1234130859375), (307.44000244140625, 379.6400146484375, 315.12042236328125, 386.6434326171875), (312.0, 388.1600036621094, 318.18463134765625, 395.1634216308594), (224.52000427246094, 459.67999267578125, 232.3201141357422, 466.68341064453125), (224.52000427246094, 468.0799865722656, 232.1999969482422, 475.0834045410156)]\n",
            "coords: [(18.9601993560791, 62.719970703125, 265.1802978515625, 75.726318359375)]\n",
            "coords: [(23.042200088500977, 446.32000732421875, 142.1303253173828, 454.32391357421875)]\n",
            "coords: [(22.922300338745117, 689.6801147460938, 114.77230072021484, 697.6840209960938)]\n",
            "coords: [(23.042200088500977, 354.1600036621094, 86.6119155883789, 362.1639099121094)]\n",
            "coords: [(52.44219970703125, 400.1199951171875, 111.162109375, 408.1239013671875)]\n",
            "coords: [(23.042200088500977, 712.5999755859375, 79.39756774902344, 720.6038818359375)]\n",
            "coords: [(23.042200088500977, 423.3999938964844, 65.26300048828125, 431.4039001464844)]\n",
            "coords: [(23.521900177001953, 308.20001220703125, 63.58989715576172, 316.20391845703125)]\n",
            "coords: [(22.802000045776367, 377.20001220703125, 61.532344818115234, 385.20391845703125)]\n",
            "coords: [(23.042200088500977, 331.3599853515625, 58.137874603271484, 339.3638916015625)]\n",
            "coords: [(52.80590057373047, 101.4420166015625, 75.8163070678711, 111.4468994140625)]\n",
            "coords: [(23.042200088500977, 534.8800048828125, 55.80276107788086, 542.8839111328125)]\n",
            "coords: [(195.48199462890625, 567.2000122070312, 223.51788330078125, 574.2034301757812)]\n",
            "coords: [(23.042200088500977, 597.8800048828125, 53.28388214111328, 605.8839111328125)]\n",
            "coords: [(22.922300338745117, 735.6401977539062, 52.7423095703125, 743.6441040039062)]\n",
            "coords: [(23.042200088500977, 285.2799987792969, 49.168601989746094, 293.2839050292969)]\n",
            "coords: [(219.0019989013672, 470.3599853515625, 233.0193328857422, 477.3634033203125)]\n",
            "coords: [(315.00201416015625, 643.5999755859375, 323.28204345703125, 651.6038818359375), (315.00201416015625, 666.6400146484375, 323.2839660644531, 674.6439208984375), (315.00201416015625, 689.6801147460938, 323.2825012207031, 697.6840209960938)]\n",
            "coords: [(145.14208984375, 666.6400146484375, 154.68234252929688, 674.6439208984375)]\n",
            "coords: [(145.40208435058594, 643.5999755859375, 155.36233520507812, 651.6038818359375)]\n",
            "key_phrase: PLATELET COUNT, keywords_coord: Rect(23.399999618530273, 435.6400146484375, 86.48001098632812, 446.6453857421875)\n",
            "coords: []\n",
            "coords: [(23.519899368286133, 389.67999267578125, 155.4327850341797, 400.68536376953125)]\n",
            "coords: []\n",
            "coords: []\n",
            "coords: [(22.91990089416504, 274.1199951171875, 101.94086456298828, 285.1253662109375)]\n",
            "coords: [(23.519899368286133, 297.1600036621094, 93.16026306152344, 308.1653747558594)]\n",
            "coords: [(23.399999618530273, 435.6400146484375, 86.48001098632812, 446.6453857421875)]\n",
            "coords: [(23.519899368286133, 320.67999267578125, 69.88380432128906, 331.68536376953125)]\n",
            "coords: [(23.399999618530273, 343.6000061035156, 69.32830047607422, 354.6053771972656)]\n",
            "coords: [(23.520299911499023, 483.6000061035156, 40.708499908447266, 492.6044006347656), (23.520299911499023, 504.6400146484375, 40.708457946777344, 515.6453857421875)]\n",
            "coords: [(23.399999618530273, 458.67999267578125, 37.35041809082031, 469.68536376953125)]\n",
            "coords: [(18.9601993560791, 61.719970703125, 40.38019943237305, 75.726806640625)]\n",
            "coords: [(108.95999908447266, 412.6000061035156, 121.02017211914062, 423.6053771972656)]\n",
            "coords: []\n",
            "coords: [(277.777099609375, 426.67999267578125, 363.870849609375, 433.68341064453125)]\n",
            "coords: [(252.47999572753906, 461.2799987792969, 321.26220703125, 467.2829284667969)]\n",
            "coords: [(368.0400085449219, 350.7200012207031, 412.9201965332031, 357.7234191894531), (317.0400085449219, 587.239990234375, 362.3260498046875, 594.243408203125), (141.96099853515625, 612.9199829101562, 187.83148193359375, 619.9234008789062)]\n",
            "coords: [(183.47999572753906, 316.6400146484375, 220.7892608642578, 323.6434326171875), (303.4800109863281, 350.7200012207031, 340.3531799316406, 357.7234191894531), (197.39999389648438, 409.8800048828125, 234.38165283203125, 416.8834228515625), (303.4800109863281, 612.9199829101562, 340.3525695800781, 619.9234008789062), (423.0, 620.8399658203125, 460.30926513671875, 627.8433837890625)]\n",
            "coords: [(141.9600067138672, 477.20001220703125, 183.30552673339844, 484.20343017578125)]\n",
            "coords: [(294.0, 291.67999267578125, 330.9363098144531, 298.68341064453125), (408.6000061035156, 392.9599914550781, 445.8606872558594, 399.9634094238281), (178.55999755859375, 494.239990234375, 215.49630737304688, 501.243408203125), (141.83999633789062, 519.9200439453125, 178.88397216796875, 526.9234619140625), (173.52000427246094, 528.3200073242188, 210.88780212402344, 535.3234252929688), (252.0, 587.239990234375, 289.3677978515625, 594.243408203125), (275.3999938964844, 596.6400146484375, 312.4439697265625, 602.6429443359375), (178.56100463867188, 637.6400146484375, 215.3889617919922, 644.6434326171875), (404.0400085449219, 654.9199829101562, 441.4083557128906, 661.9234008789062)]\n",
            "coords: [(347.5580139160156, 663.3200073242188, 385.9835205078125, 670.3234252929688)]\n",
            "coords: [(18.9601993560791, 61.719970703125, 98.23436737060547, 75.726806640625), (23.399999618530273, 269.15997314453125, 67.57200622558594, 275.16290283203125), (141.83999633789062, 375.79998779296875, 178.88658142089844, 382.80340576171875)]\n",
            "coords: [(197.63999938964844, 612.9199829101562, 236.06423950195312, 619.9234008789062)]\n",
            "coords: [(267.0, 61.719970703125, 325.2412109375, 75.726806640625)]\n",
            "coords: [(141.9600067138672, 269.15997314453125, 168.2020721435547, 275.16290283203125), (213.47999572753906, 269.15997314453125, 239.72010803222656, 275.16290283203125)]\n",
            "coords: [(141.47999572753906, 291.67999267578125, 173.79981994628906, 298.68341064453125)]\n",
            "coords: [(252.47999572753906, 291.67999267578125, 284.587646484375, 298.68341064453125), (141.83999633789062, 316.6400146484375, 173.62722778320312, 323.6434326171875), (474.4560241699219, 316.6400146484375, 505.9443054199219, 323.6434326171875), (147.41998291015625, 333.67999267578125, 178.61981201171875, 340.68341064453125), (206.39999389648438, 367.6400146484375, 238.08029174804688, 374.6434326171875), (367.9200134277344, 392.9599914550781, 399.9207458496094, 399.9634094238281), (413.6409912109375, 596.6400146484375, 445.5340576171875, 602.6429443359375), (261.84100341796875, 612.9199829101562, 293.62835693359375, 619.9234008789062)]\n",
            "coords: [(339.9599914550781, 300.7200012207031, 367.9950256347656, 306.7229309082031), (349.44000244140625, 326.1600036621094, 377.0550537109375, 332.1629333496094), (220.44000244140625, 554.1600341796875, 248.0550537109375, 560.1629638671875), (354.0, 562.6799926757812, 381.61505126953125, 568.6829223632812), (266.5199890136719, 620.8399658203125, 294.03057861328125, 627.8433837890625)]\n",
            "coords: [(357.96099853515625, 637.6400146484375, 385.89093017578125, 644.6434326171875)]\n",
            "coords: [(183.47999572753906, 401.1199951171875, 206.6232452392578, 408.1234130859375), (238.0800018310547, 418.1600036621094, 262.0460510253906, 425.1634216308594), (422.6400146484375, 418.1600036621094, 446.09161376953125, 425.1634216308594), (339.9599914550781, 444.6000061035156, 363.1028747558594, 450.6029357910156), (141.47999572753906, 461.2799987792969, 165.03623962402344, 467.2829284667969), (312.4800109863281, 629.1199951171875, 335.6232604980469, 636.1234130859375)]\n",
            "coords: [(225.0, 300.7200012207031, 248.14370727539062, 306.7229309082031), (330.9599914550781, 316.6400146484375, 354.1028747558594, 323.6434326171875), (141.9600067138672, 350.7200012207031, 165.10289001464844, 357.7234191894531), (414.0, 375.79998779296875, 437.14324951171875, 382.80340576171875), (270.9599914550781, 392.9599914550781, 293.5500793457031, 399.9634094238281), (196.21481323242188, 426.67999267578125, 223.4022216796875, 433.68341064453125), (246.0583953857422, 426.67999267578125, 273.245849609375, 433.68341064453125), (349.44000244140625, 494.239990234375, 372.27545166015625, 501.243408203125), (464.5199890136719, 502.8800048828125, 487.3545227050781, 509.8834228515625), (464.5199890136719, 544.6400146484375, 487.6648864746094, 551.6434326171875), (459.96099853515625, 578.5999755859375, 483.1046142578125, 585.6033935546875), (285.0, 604.280029296875, 307.73162841796875, 611.283447265625), (325.0553283691406, 620.8399658203125, 349.0725402832031, 627.8433837890625)]\n",
            "coords: [(390.4800109863281, 604.280029296875, 409.2799072265625, 611.283447265625)]\n",
            "coords: [(174.0, 502.8800048828125, 183.64801025390625, 509.8834228515625)]\n",
            "coords: [(478.44000244140625, 350.7200012207031, 483.15997314453125, 357.7234191894531), (427.44000244140625, 587.239990234375, 432.47998046875, 594.243408203125)]\n",
            "coords: []\n",
            "coords: []\n",
            "coords: []\n",
            "coords: []\n",
            "coords: [(19.439800262451172, 61.47998046875, 99.00015258789062, 75.48681640625)]\n",
            "coords: []\n",
            "coords: [(234.91595458984375, 329.9309997558594, 271.0538635253906, 337.4749450683594)]\n",
            "coords: [(220.94793701171875, 94.04303741455078, 248.70945739746094, 103.46195220947266)]\n",
            "coords: [(52.91983413696289, 91.52301788330078, 75.96041870117188, 100.87091827392578)]\n",
            "coords: [(18.394804000854492, 379.6719665527344, 38.84025573730469, 392.98211669921875), (22.77292823791504, 592.695068359375, 34.26327133178711, 602.8699951171875), (159.0, 627.3200073242188, 168.72047424316406, 634.3234252929688)]\n",
            "coords: [(253.3999481201172, 321.2980041503906, 263.5850524902344, 328.4526672363281), (216.4339599609375, 329.9259948730469, 226.44070434570312, 337.0779113769531)]\n",
            "coords: [(171.4119110107422, 379.71795654296875, 182.0070343017578, 392.8803405761719), (107.86392211914062, 592.718994140625, 113.69397735595703, 602.80908203125)]\n",
            "key_phrase: HDL CHOLESTEROL, keywords_coord: Rect(23.519899368286133, 417.6400146484375, 92.81019592285156, 425.6439208984375)\n",
            "coords: [(329.0400085449219, 93.20001220703125, 402.1201477050781, 103.20489501953125)]\n",
            "coords: [(23.519899368286133, 327.6809997558594, 92.10850524902344, 337.6858825683594)]\n",
            "coords: [(23.519899368286133, 417.6400146484375, 92.81019592285156, 425.6439208984375)]\n",
            "coords: [(23.040199279785156, 281.60101318359375, 80.53790283203125, 291.60589599609375)]\n",
            "coords: [(19.439800262451172, 62.47998046875, 91.90319061279297, 75.486328125)]\n",
            "coords: [(194.0399932861328, 93.20001220703125, 231.1099395751953, 103.20489501953125)]\n",
            "coords: [(247.55999755859375, 387.79998779296875, 293.32037353515625, 394.80340576171875)]\n",
            "coords: [(23.040199279785156, 304.6409912109375, 76.06019592285156, 314.6458740234375)]\n",
            "coords: [(303.0, 387.79998779296875, 339.9363098144531, 394.80340576171875)]\n",
            "coords: [(52.919898986816406, 93.20001220703125, 76.01990509033203, 103.20489501953125)]\n",
            "coords: [(312.0, 362.1199951171875, 331.2002868652344, 369.1234130859375), (307.44000244140625, 370.6400146484375, 326.64105224609375, 377.6434326171875), (224.52000427246094, 450.0799865722656, 243.7202911376953, 457.0834045410156), (224.63999938964844, 458.6000061035156, 243.73988342285156, 465.6034240722656)]\n",
            "coords: [(227.0249786376953, 62.47998046875, 254.5498504638672, 75.486328125)]\n",
            "coords: [(212.52000427246094, 104.91998291015625, 225.0264129638672, 112.92388916015625)]\n",
            "coords: [(23.519899368286133, 417.6400146484375, 35.040138244628906, 425.6439208984375)]\n",
            "coords: [(23.519899368286133, 327.6809997558594, 33.69020080566406, 337.6858825683594)]\n",
            "coords: [(312.0, 362.1199951171875, 319.68011474609375, 369.1234130859375), (307.44000244140625, 370.6400146484375, 315.12042236328125, 377.6434326171875), (312.0, 379.1600036621094, 318.240234375, 386.1634216308594), (224.52000427246094, 450.0799865722656, 232.2001190185547, 457.0834045410156), (224.63999938964844, 458.6000061035156, 232.2799530029297, 465.6034240722656)]\n",
            "coords: [(23.0398006439209, 445.8800048828125, 142.12808227539062, 452.8834228515625)]\n",
            "coords: [(19.439800262451172, 63.47998046875, 182.3831787109375, 75.48583984375)]\n",
            "coords: [(23.0398006439209, 353.8399963378906, 85.63481140136719, 360.8434143066406)]\n",
            "coords: [(52.43980026245117, 399.67999267578125, 111.15974426269531, 406.68341064453125)]\n",
            "coords: [(23.0398006439209, 422.8399963378906, 65.25960540771484, 429.8434143066406)]\n",
            "coords: [(23.399999618530273, 307.6400146484375, 63.576351165771484, 314.6434326171875)]\n",
            "coords: [(22.91990089416504, 376.6400146484375, 61.530216217041016, 383.6434326171875)]\n",
            "coords: [(23.0398006439209, 330.79998779296875, 58.134437561035156, 337.80340576171875)]\n",
            "coords: [(276.0, 502.6400146484375, 303.615478515625, 509.6434326171875)]\n",
            "coords: [(52.919898986816406, 93.08001708984375, 75.80989074707031, 103.08489990234375)]\n",
            "coords: [(23.0398006439209, 551.3599853515625, 55.80119323730469, 558.3634033203125)]\n",
            "coords: [(23.0398006439209, 574.280029296875, 53.280147552490234, 581.283447265625)]\n",
            "coords: [(23.399999618530273, 284.6000061035156, 49.21697998046875, 291.6034240722656)]\n",
            "coords: [(242.46006774902344, 512.1600341796875, 255.00013732910156, 518.1629638671875)]\n",
            "coords: [(216.47999572753906, 298.0400085449219, 294.615478515625, 305.0434265136719)]\n",
            "coords: [(122.12694549560547, 382.1600036621094, 160.96456909179688, 389.1634216308594)]\n",
            "coords: [(119.04000091552734, 349.32000732421875, 151.4683380126953, 355.32293701171875)]\n",
            "coords: [(91.9198989868164, 245.08001708984375, 125.7330093383789, 256.08538818359375), (198.0006103515625, 245.08001708984375, 231.813720703125, 256.08538818359375)]\n",
            "coords: [(234.9600067138672, 289.3999938964844, 266.6397705078125, 296.4034118652344)]\n",
            "coords: [(22.91990089416504, 245.08001708984375, 50.15996170043945, 256.08538818359375), (91.4397964477539, 272.239990234375, 120.32994079589844, 279.243408203125)]\n",
            "coords: [(21.0, 476.7200012207031, 63.419654846191406, 489.7263488769531)]\n",
            "coords: [(158.52000427246094, 19.0, 174.36119079589844, 24.00244140625)]\n",
            "coords: [(137.52000427246094, 408.1199951171875, 147.69000244140625, 414.1229248046875)]\n",
            "coords: [(18.480100631713867, 63.47998046875, 40.17082214355469, 75.48583984375), (22.91990089416504, 245.08001708984375, 34.97975158691406, 256.08538818359375), (91.4397964477539, 272.239990234375, 101.9698257446289, 279.243408203125), (276.0, 289.3999938964844, 286.1703186035156, 296.4034118652344), (147.0, 298.0400085449219, 159.91204833984375, 305.0434265136719), (216.0, 356.7200012207031, 226.1700897216797, 363.7234191894531)]\n",
            "coords: [(65.16020202636719, 18.0, 65.96017456054688, 21.00146484375)]\n",
            "coords: [(109.44000244140625, 602.8800048828125, 267.46539306640625, 611.8843994140625)]\n",
            "coords: [(73.4397964477539, 346.0799865722656, 197.13987731933594, 355.0843811035156)]\n",
            "coords: [(178.0800018310547, 232.44000244140625, 306.74993896484375, 241.44439697265625)]\n",
            "coords: [(110.5199966430664, 380.8800048828125, 199.9096221923828, 389.8843994140625)]\n",
            "coords: [(443.0400085449219, 380.8800048828125, 484.8480529785156, 389.8843994140625), (477.4800109863281, 446.6400146484375, 519.4801635742188, 455.6444091796875)]\n",
            "coords: []\n",
            "coords: [(73.44020080566406, 433.0799865722656, 126.34186553955078, 442.0843811035156)]\n",
            "coords: [(113.04000091552734, 242.6400146484375, 170.7489013671875, 251.6444091796875)]\n",
            "coords: [(110.5199966430664, 380.8800048828125, 148.15621948242188, 389.8843994140625)]\n",
            "coords: [(348.0, 390.1199951171875, 386.18145751953125, 399.1243896484375)]\n",
            "coords: [(363.4800109863281, 446.6400146484375, 403.5804138183594, 455.6444091796875)]\n",
            "coords: [(369.0, 423.6000061035156, 399.99993896484375, 432.6044006347656)]\n",
            "coords: [(73.44020080566406, 518.4000244140625, 118.89984130859375, 527.4044189453125), (185.0399932861328, 613.0800170898438, 233.5322723388672, 622.0844116210938)]\n",
            "coords: [(303.7200012207031, 413.6400146484375, 339.1330871582031, 422.6444091796875)]\n",
            "coords: [(73.44020080566406, 471.1199951171875, 111.63996124267578, 480.1243896484375)]\n",
            "coords: [(71.03980255126953, 592.6799926757812, 101.74662017822266, 601.6843872070312)]\n",
            "coords: [(396.0, 109.4000244140625, 445.4548034667969, 125.4078369140625)]\n",
            "coords: [(251.52000427246094, 413.6400146484375, 274.199951171875, 422.6444091796875), (375.9599914550781, 485.6400146484375, 398.9197692871094, 494.6444091796875), (88.44020080566406, 495.3599853515625, 112.06520080566406, 504.3643798828125), (91.5602035522461, 509.0400390625, 114.99620056152344, 518.04443359375), (321.9599914550781, 537.719970703125, 344.6399230957031, 546.724365234375)]\n",
            "coords: [(120.0, 471.1199951171875, 143.5542449951172, 480.1243896484375), (133.44000244140625, 592.6799926757812, 157.097412109375, 601.6843872070312)]\n",
            "coords: [(73.4397964477539, 232.44000244140625, 91.84046173095703, 241.44439697265625)]\n",
            "coords: [(70.4397964477539, 166.08001708984375, 88.8718032836914, 175.08441162109375), (382.44000244140625, 204.719970703125, 399.80023193359375, 213.724365234375)]\n",
            "coords: [(205.44000244140625, 400.20001220703125, 217.92010498046875, 409.20440673828125)]\n",
            "coords: [(318.0, 48.52001953125, 337.8917541503906, 59.525390625), (459.9605712890625, 232.44000244140625, 474.6305236816406, 241.44439697265625)]\n",
            "coords: [(435.0, 703.2000122070312, 441.320068359375, 709.2029418945312)]\n",
            "coords: [(198.47999572753906, 311.1600036621094, 207.1199951171875, 320.1643981933594), (441.0, 311.1600036621094, 449.71990966796875, 320.1643981933594)]\n",
            "coords: [(278.2799987792969, 377.3800048828125, 377.5949401855469, 385.3839111328125)]\n",
            "coords: [(19.26020050048828, 358.3999938964844, 112.94256591796875, 365.4034118652344)]\n",
            "coords: []\n",
            "coords: []\n",
            "coords: [(51.29999923706055, 43.79998779296875, 127.1477279663086, 55.80584716796875)]\n",
            "coords: [(85.31990051269531, 117.82000732421875, 135.06553649902344, 125.82391357421875), (90.9000015258789, 397.5400085449219, 140.6456298828125, 405.5439147949219)]\n",
            "coords: []\n",
            "coords: [(101.87999725341797, 607.0599975585938, 151.29837036132812, 615.0639038085938)]\n",
            "coords: [(217.97999572753906, 707.7800903320312, 261.8821716308594, 714.7835083007812)]\n",
            "coords: [(195.66000366210938, 377.3800048828125, 228.89259338378906, 385.3839111328125)]\n",
            "coords: [(46.980098724365234, 437.1400146484375, 79.74009704589844, 445.1439208984375), (52.38010025024414, 447.2200012207031, 85.14009857177734, 455.2239074707031), (46.980098724365234, 677.9000244140625, 79.74003601074219, 684.9034423828125)]\n",
            "coords: [(157.67999267578125, 377.3800048828125, 184.67999267578125, 385.3839111328125)]\n",
            "coords: [(41.21989822387695, 457.29998779296875, 68.68260955810547, 465.30389404296875)]\n",
            "coords: [(24.480100631713867, 566.9199829101562, 52.09785461425781, 574.9238891601562), (90.71990203857422, 707.7800903320312, 118.3370132446289, 714.7835083007812)]\n",
            "coords: [(146.33999633789062, 417.1600036621094, 163.62002563476562, 425.1639099121094)]\n",
            "coords: [(37.519901275634766, 207.82000732421875, 51.619903564453125, 215.82391357421875)]\n",
            "coords: [(19.26020050048828, 238.52001953125, 31.032800674438477, 245.5234375)]\n",
            "coords: [(46.43980026245117, 657.9199829101562, 54.50379943847656, 664.9234008789062)]\n",
            "coords: [(19.799999237060547, 43.79998779296875, 31.560001373291016, 55.80584716796875), (51.29999923706055, 43.79998779296875, 62.939998626708984, 55.80584716796875), (55.44021987915039, 238.52001953125, 63.72024154663086, 245.5234375), (96.4801025390625, 298.6400146484375, 103.08012390136719, 305.6434326171875), (273.05999755859375, 707.7800903320312, 279.77996826171875, 714.7835083007812)]\n",
            "coords: [(19.26020050048828, 327.3399963378906, 26.370281219482422, 335.3439025878906)]\n",
            "coords: []\n",
            "coords: []\n",
            "coords: [(217.97999572753906, 102.52001953125, 289.3502502441406, 110.52392578125)]\n",
            "coords: [(102.41999816894531, 102.52001953125, 151.02000427246094, 110.52392578125)]\n",
            "coords: [(85.31990051269531, 548.739990234375, 135.06553649902344, 556.743896484375)]\n",
            "coords: [(179.27999877929688, 122.32000732421875, 229.025634765625, 130.32391357421875)]\n",
            "coords: []\n",
            "coords: [(51.29999923706055, 474.7200012207031, 127.1477279663086, 486.7258605957031)]\n",
            "coords: [(124.55999755859375, 122.32000732421875, 167.97604370117188, 130.32391357421875), (19.61989974975586, 142.47998046875, 63.19789123535156, 150.48388671875), (135.5399932861328, 192.15997314453125, 179.11795043945312, 200.16387939453125), (367.3800048828125, 202.239990234375, 410.9580993652344, 210.243896484375), (361.9800109863281, 242.20001220703125, 405.39605712890625, 250.20391845703125)]\n",
            "coords: []\n",
            "coords: []\n",
            "coords: [(34.8120002746582, 162.280029296875, 68.4540023803711, 170.283935546875), (24.839799880981445, 192.15997314453125, 57.59980010986328, 200.16387939453125)]\n",
            "coords: [(130.13999938964844, 162.280029296875, 162.8999481201172, 170.283935546875)]\n",
            "coords: [(124.0199966430664, 202.239990234375, 151.4827117919922, 210.243896484375), (124.0199966430664, 222.219970703125, 151.48316955566406, 230.223876953125)]\n",
            "coords: [(37.519901275634766, 638.5599975585938, 51.619903564453125, 646.5639038085938)]\n",
            "coords: [(19.26020050048828, 669.4400024414062, 31.032800674438477, 676.4434204101562)]\n",
            "coords: [(19.26020050048828, 411.94000244140625, 28.054439544677734, 419.94390869140625)]\n",
            "coords: [(19.799999237060547, 474.7200012207031, 31.560001373291016, 486.7258605957031), (51.29999923706055, 474.7200012207031, 62.939998626708984, 486.7258605957031), (55.44021987915039, 669.4400024414062, 63.72024154663086, 676.4434204101562), (96.4801025390625, 729.380126953125, 103.08012390136719, 736.383544921875)]\n",
            "coords: [(19.26020050048828, 431.9200134277344, 26.370281219482422, 439.9239196777344)]\n",
            "coords: [(223.9199981689453, 431.9200134277344, 339.054443359375, 439.9239196777344)]\n",
            "coords: [(256.1400146484375, 62.3800048828125, 355.63494873046875, 70.3839111328125)]\n",
            "coords: [(372.6000061035156, 62.3800048828125, 444.1372375488281, 70.3839111328125)]\n",
            "coords: [(19.439800262451172, 212.1400146484375, 85.29801940917969, 220.1439208984375)]\n",
            "coords: [(52.20000076293945, 421.8399963378906, 117.72000885009766, 429.8439025878906)]\n",
            "coords: [(217.8000030517578, 242.3800048828125, 266.39996337890625, 250.3839111328125), (234.36000061035156, 292.05999755859375, 282.9599304199219, 300.06390380859375), (328.32000732421875, 451.8999938964844, 376.77032470703125, 459.9039001464844)]\n",
            "coords: [(406.0799865722656, 262.17999267578125, 454.6798400878906, 270.18389892578125), (80.46019744873047, 322.1199951171875, 129.06019592285156, 330.1239013671875), (74.88009643554688, 491.67999267578125, 123.4801025390625, 499.68389892578125), (58.31990051269531, 571.780029296875, 106.91990661621094, 579.783935546875)]\n",
            "coords: [(24.299999237060547, 511.8399658203125, 73.35040283203125, 519.8438720703125)]\n",
            "coords: [(399.9599914550781, 571.780029296875, 449.7054748535156, 579.783935546875)]\n",
            "coords: [(141.1199951171875, 282.1600036621094, 184.53604125976562, 290.1639099121094), (234.89999389648438, 332.0199890136719, 278.47802734375, 340.0238952636719), (130.13999938964844, 431.9200134277344, 173.55604553222656, 439.9239196777344), (229.5, 491.67999267578125, 272.9160461425781, 499.68389892578125), (284.5799865722656, 571.780029296875, 327.4365539550781, 579.783935546875)]\n",
            "coords: [(173.52000427246094, 62.3800048828125, 206.75259399414062, 70.3839111328125)]\n",
            "coords: [(218.16000366210938, 102.34002685546875, 251.077392578125, 110.34393310546875)]\n",
            "coords: [(46.980098724365234, 371.9800109863281, 79.89801788330078, 379.9839172363281)]\n",
            "coords: []\n",
            "coords: [(135.5399932861328, 62.3800048828125, 162.69407653808594, 70.3839111328125)]\n",
            "coords: [(19.08009910583496, 262.17999267578125, 46.350337982177734, 270.18389892578125), (90.9000015258789, 312.0400085449219, 118.17025756835938, 320.0439147949219), (157.13999938964844, 412.1199951171875, 184.41026306152344, 420.1239013671875), (19.08009910583496, 431.9200134277344, 46.6973762512207, 439.9239196777344), (79.9198989868164, 471.8800048828125, 107.38260650634766, 479.8839111328125), (135.0, 491.67999267578125, 162.61724853515625, 499.68389892578125), (289.6199951171875, 551.6199951171875, 317.08270263671875, 559.6239013671875), (339.29998779296875, 591.760009765625, 366.57025146484375, 599.763916015625)]\n",
            "coords: [(63.0, 72.46002197265625, 74.745849609375, 80.46392822265625), (90.53980255126953, 142.29998779296875, 102.28491973876953, 150.30389404296875)]\n",
            "coords: []\n",
            "coords: []\n",
            "coords: [(53.460201263427734, 95.280029296875, 184.98001098632812, 107.285888671875)]\n",
            "coords: []\n",
            "coords: [(107.81999969482422, 418.7799987792969, 162.43545532226562, 426.7839050292969)]\n",
            "coords: [(135.17999267578125, 718.4801025390625, 189.2489471435547, 726.4840087890625)]\n",
            "coords: []\n",
            "coords: [(251.27999877929688, 548.5599975585938, 289.0080261230469, 556.5639038085938)]\n",
            "coords: [(406.0799865722656, 698.5, 443.3758850097656, 706.50390625), (19.61989974975586, 718.4801025390625, 57.203887939453125, 726.4840087890625), (406.0799865722656, 758.4398193359375, 447.5199279785156, 766.4437255859375)]\n",
            "coords: [(19.08009910583496, 618.4000244140625, 46.85193634033203, 626.4039306640625)]\n",
            "coords: [(37.519901275634766, 259.29998779296875, 51.619903564453125, 267.30389404296875)]\n",
            "coords: [(19.26020050048828, 290.0, 31.03217124938965, 297.00341796875)]\n",
            "coords: [(24.299999237060547, 418.7799987792969, 36.179996490478516, 426.7839050292969)]\n",
            "coords: [(55.8001594543457, 290.0, 68.76009368896484, 297.00341796875)]\n",
            "coords: [(19.26020050048828, 42.4000244140625, 28.054439544677734, 50.4039306640625)]\n",
            "coords: [(19.26020050048828, 62.3800048828125, 26.370281219482422, 70.3839111328125)]\n",
            "coords: [(46.43980026245117, 312.2200012207031, 173.33995056152344, 320.2239074707031)]\n",
            "coords: [(19.26020050048828, 321.94000244140625, 111.960205078125, 329.94390869140625)]\n",
            "coords: [(135.17999267578125, 52.65997314453125, 189.2489471435547, 60.66387939453125), (267.6600036621094, 282.1600036621094, 321.7291259765625, 290.1639099121094)]\n",
            "coords: [(41.76020050048828, 162.46002197265625, 90.3602066040039, 170.46392822265625)]\n",
            "coords: [(19.61989974975586, 52.65997314453125, 57.203887939453125, 60.66387939453125), (406.0799865722656, 62.55999755859375, 443.3758850097656, 70.56390380859375), (389.5199890136719, 122.5, 426.8158874511719, 130.50390625), (74.88009643554688, 301.9599914550781, 112.32009887695312, 309.9638977050781)]\n",
            "coords: [(140.5800018310547, 182.44000244140625, 168.04270935058594, 190.44390869140625), (19.08009910583496, 202.41998291015625, 46.6973762512207, 210.42388916015625)]\n",
            "coords: [(46.79999923706055, 272.260009765625, 74.41728210449219, 280.263916015625)]\n",
            "coords: [(267.6600036621094, 162.46002197265625, 289.8600158691406, 170.46392822265625)]\n",
            "coords: [(84.96019744873047, 222.219970703125, 96.84019470214844, 230.223876953125)]\n",
            "coords: [(19.26020050048828, 481.7799987792969, 28.054439544677734, 489.7839050292969)]\n",
            "coords: [(19.26020050048828, 501.760009765625, 26.370281219482422, 509.763916015625)]\n",
            "coords: [(100.08000183105469, 198.1199951171875, 131.47500610351562, 208.1248779296875)]\n",
            "coords: [(141.0, 198.1199951171875, 163.0, 208.1248779296875), (147.9600067138672, 232.8800048828125, 170.2803192138672, 243.8853759765625)]\n",
            "File[/home/ocreng/ocrhigh/output/Practice_Copy_Test_OCR_output.pdf] is saved after highlighting ICD-10 code and all keyword impairment \n",
            "Highlighted code and impairment coordinates are saved into [/home/ocreng/ocrhigh/output/Practice_Copy_Test_OCR_output.json] file.\n",
            "CPU times: user 33.4 s, sys: 402 ms, total: 33.8 s\n",
            "Wall time: 34.1 s\n"
          ]
        }
      ]
    },
    {
      "cell_type": "code",
      "source": [
        "!zip output.zip /home/ocreng/ocrhigh/output/*.*"
      ],
      "metadata": {
        "colab": {
          "base_uri": "https://localhost:8080/"
        },
        "id": "o_Ev-Kf9d0oD",
        "outputId": "3631e6a7-ee34-4b29-b233-01ac0d0c58b4"
      },
      "execution_count": 17,
      "outputs": [
        {
          "output_type": "stream",
          "name": "stdout",
          "text": [
            "  adding: home/ocreng/ocrhigh/output/Practice_Copy_Test_OCR_output.json (deflated 80%)\n",
            "  adding: home/ocreng/ocrhigh/output/Practice_Copy_Test_OCR_output.pdf (deflated 3%)\n"
          ]
        }
      ]
    },
    {
      "cell_type": "code",
      "source": [
        "#matched_date_dict"
      ],
      "metadata": {
        "id": "Bq9v0BAnd1K-"
      },
      "execution_count": 18,
      "outputs": []
    },
    {
      "cell_type": "code",
      "source": [
        "#matched_number_dict[6]"
      ],
      "metadata": {
        "id": "jyWfaCClj4hb"
      },
      "execution_count": 19,
      "outputs": []
    },
    {
      "cell_type": "code",
      "source": [
        "#matched_keyword_dict[0]"
      ],
      "metadata": {
        "id": "lE-licttaQKe"
      },
      "execution_count": 20,
      "outputs": []
    },
    {
      "cell_type": "markdown",
      "source": [
        "##Impairment Comparihension"
      ],
      "metadata": {
        "id": "mB2GXHtraRgj"
      }
    },
    {
      "cell_type": "code",
      "source": [
        "json_arr_list = list(map(sent_extractor.get_json_array_list, text_list))\n",
        "tmp_wrong_keyword_dict = {\n",
        "    idx: set([list(element.keys())[0] for element in json_arr if json_arr is not None])\n",
        "    for idx, json_arr in enumerate(json_arr_list)\n",
        "}"
      ],
      "metadata": {
        "id": "XmDVHUwupYwF"
      },
      "execution_count": null,
      "outputs": []
    },
    {
      "cell_type": "code",
      "source": [
        "json_arr_list"
      ],
      "metadata": {
        "id": "veV0_fcKsA7_"
      },
      "execution_count": null,
      "outputs": []
    },
    {
      "cell_type": "code",
      "source": [
        "doc_keyword_dict = {\n",
        "    idx:  {{k : v for k, v in page_keyword_dict.items()} for page_keyword_dict in json_arr}\n",
        "    for idx, json_arr in enumerate(json_arr_list) if json_arr is not None\n",
        "}"
      ],
      "metadata": {
        "id": "sJrAgoAV0OpX"
      },
      "execution_count": null,
      "outputs": []
    },
    {
      "cell_type": "code",
      "source": [
        "doc_keyword_dict[5]"
      ],
      "metadata": {
        "id": "8A2iLjwK24tY",
        "outputId": "8ec456e1-f40d-4036-eb0d-412dadcfebd1",
        "colab": {
          "base_uri": "https://localhost:8080/"
        }
      },
      "execution_count": null,
      "outputs": [
        {
          "output_type": "execute_result",
          "data": {
            "text/plain": [
              "[{'O2Sat': 'O2Sat'},\n",
              " {'BP:': 'BP:'},\n",
              " {'T:': 'T:'},\n",
              " {'BMI': 'BMI'},\n",
              " {'Ht:': 'Ht:'},\n",
              " {'tdap': 'tdap'},\n",
              " {'Ht': 'Ht'},\n",
              " {'%': '%'},\n",
              " {'O2Sat:': 'O2Sat:'},\n",
              " {'DOB': 'DOB'},\n",
              " {'NKDA': 'NKDA'},\n",
              " {'BP': 'BP'},\n",
              " {'covid': 'covid'},\n",
              " {'No medications reported by patient': 'no medications reported by patient'},\n",
              " {'diopathic osteoarthritis': 'idiopathic osteoarthritis'},\n",
              " {'Sleep pattern disturbance': 'sleep pattern disturbance'},\n",
              " {'OBSTETRICS & GYNECOLOGY': 'Obstetrics & Gynecology'},\n",
              " {'No medications reported': 'no medications reported'},\n",
              " {'Primary Care Provider': 'primary care provider'},\n",
              " {'Mixed hyperlipidemia': 'mixed hyperlipidemia'},\n",
              " {'Multinodular goiter': 'multinodular goiter'},\n",
              " {'Chronic neck pain': 'chronic neck pain'},\n",
              " {'Body mass index': 'body mass index'},\n",
              " {'Physical Exam': 'physical exam'},\n",
              " {'overweight': 'overweight'},\n",
              " {'Encounter': 'encounter'},\n",
              " {'Allergies': 'allergies'},\n",
              " {'Vaccines': 'vaccines'},\n",
              " {'shingles': 'shingles'},\n",
              " {'Headache': 'headache'},\n",
              " {'Patient': 'patient'},\n",
              " {'patient': 'patient'},\n",
              " {'Female': 'female'},\n",
              " {'Pulse': 'pulse'},\n",
              " {'Name': 'Name'},\n",
              " {'Appt': 'Appt'},\n",
              " {'flu': 'flu'},\n",
              " {'Wt': 'Wt'}]"
            ]
          },
          "metadata": {},
          "execution_count": 116
        }
      ]
    },
    {
      "cell_type": "code",
      "source": [
        "doc_keyword_dict = {}\n",
        "for idx, json_arr in enumerate(json_arr_list):\n",
        "  if json_arr is not None:\n",
        "    page_keyword_dict = {}\n",
        "    for element in json_arr:\n",
        "      for k, v in element.items():\n",
        "        page_keyword_dict[k] = v\n",
        "    doc_keyword_dict[idx] = page_keyword_dict\n",
        "doc_keyword_dict[0]"
      ],
      "metadata": {
        "id": "np4A_8CmwDL5",
        "outputId": "bc395a24-f7c5-4261-fa1e-20f3a7c72b50",
        "colab": {
          "base_uri": "https://localhost:8080/"
        }
      },
      "execution_count": null,
      "outputs": [
        {
          "output_type": "execute_result",
          "data": {
            "text/plain": [
              "{'DOB': 'DOB',\n",
              " 'Policy Number': 'Policy Number',\n",
              " 'Patient': 'patient',\n",
              " 'Name': 'Name'}"
            ]
          },
          "metadata": {},
          "execution_count": 43
        }
      ]
    },
    {
      "cell_type": "code",
      "source": [
        "doc_keyword_dict[5]"
      ],
      "metadata": {
        "id": "p_3rKRy9R_fb",
        "outputId": "fb36bbd5-a208-405d-dfed-476f65a2fc05",
        "colab": {
          "base_uri": "https://localhost:8080/"
        }
      },
      "execution_count": null,
      "outputs": [
        {
          "output_type": "execute_result",
          "data": {
            "text/plain": [
              "{'BMI': 'BMI',\n",
              " 'O2Sat:': 'O2Sat:',\n",
              " 'NKDA': 'NKDA',\n",
              " 'tdap': 'tdap',\n",
              " 'Ht:': 'Ht:',\n",
              " '%': '%',\n",
              " 'BP:': 'BP:',\n",
              " 'BP': 'BP',\n",
              " 'O2Sat': 'O2Sat',\n",
              " 'T:': 'T:',\n",
              " 'Ht': 'Ht',\n",
              " 'DOB': 'DOB',\n",
              " 'covid': 'covid',\n",
              " 'No medications reported by patient': 'no medications reported by patient',\n",
              " 'diopathic osteoarthritis': 'idiopathic osteoarthritis',\n",
              " 'Sleep pattern disturbance': 'sleep pattern disturbance',\n",
              " 'OBSTETRICS & GYNECOLOGY': 'Obstetrics & Gynecology',\n",
              " 'No medications reported': 'no medications reported',\n",
              " 'Primary Care Provider': 'primary care provider',\n",
              " 'Mixed hyperlipidemia': 'mixed hyperlipidemia',\n",
              " 'Multinodular goiter': 'multinodular goiter',\n",
              " 'Chronic neck pain': 'chronic neck pain',\n",
              " 'Body mass index': 'body mass index',\n",
              " 'Physical Exam': 'physical exam',\n",
              " 'overweight': 'overweight',\n",
              " 'Encounter': 'encounter',\n",
              " 'Allergies': 'allergies',\n",
              " 'Vaccines': 'vaccines',\n",
              " 'shingles': 'shingles',\n",
              " 'Headache': 'headache',\n",
              " 'Patient': 'patient',\n",
              " 'patient': 'patient',\n",
              " 'Female': 'female',\n",
              " 'Pulse': 'pulse',\n",
              " 'Name': 'Name',\n",
              " 'Appt': 'Appt',\n",
              " 'flu': 'flu',\n",
              " 'Wt': 'Wt'}"
            ]
          },
          "metadata": {},
          "execution_count": 37
        }
      ]
    },
    {
      "cell_type": "code",
      "source": [
        "keyword_dict = doc_keyword_dict[5]\n",
        "for keyword in keyword_dict.keys():\n",
        "  print(keyword_dict[keyword])"
      ],
      "metadata": {
        "id": "5wwz20WHziIC",
        "outputId": "5496fbae-3699-4ea8-cf1d-8e0e79e1d96e",
        "colab": {
          "base_uri": "https://localhost:8080/"
        }
      },
      "execution_count": null,
      "outputs": [
        {
          "output_type": "stream",
          "name": "stdout",
          "text": [
            "BMI\n",
            "O2Sat:\n",
            "NKDA\n",
            "tdap\n",
            "Ht:\n",
            "%\n",
            "BP:\n",
            "BP\n",
            "O2Sat\n",
            "T:\n",
            "Ht\n",
            "DOB\n",
            "covid\n",
            "no medications reported by patient\n",
            "idiopathic osteoarthritis\n",
            "sleep pattern disturbance\n",
            "Obstetrics & Gynecology\n",
            "no medications reported\n",
            "primary care provider\n",
            "mixed hyperlipidemia\n",
            "multinodular goiter\n",
            "chronic neck pain\n",
            "body mass index\n",
            "physical exam\n",
            "overweight\n",
            "encounter\n",
            "allergies\n",
            "vaccines\n",
            "shingles\n",
            "headache\n",
            "patient\n",
            "patient\n",
            "female\n",
            "pulse\n",
            "Name\n",
            "Appt\n",
            "flu\n",
            "Wt\n"
          ]
        }
      ]
    },
    {
      "cell_type": "code",
      "source": [
        "doc_keyword_dict[\"BMI\"]"
      ],
      "metadata": {
        "id": "a0WYwUj8SQe_",
        "outputId": "02ed30ea-32e8-4d08-a939-663fe23f440a",
        "colab": {
          "base_uri": "https://localhost:8080/",
          "height": 35
        }
      },
      "execution_count": null,
      "outputs": [
        {
          "output_type": "execute_result",
          "data": {
            "text/plain": [
              "'BMI'"
            ],
            "application/vnd.google.colaboratory.intrinsic+json": {
              "type": "string"
            }
          },
          "metadata": {},
          "execution_count": 41
        }
      ]
    },
    {
      "cell_type": "code",
      "source": [
        "json_arr_list[:3]"
      ],
      "metadata": {
        "id": "zFd-ESdJqUMU",
        "outputId": "1527210e-b49b-41b2-e19c-977889e3efda",
        "colab": {
          "base_uri": "https://localhost:8080/"
        }
      },
      "execution_count": null,
      "outputs": [
        {
          "output_type": "execute_result",
          "data": {
            "text/plain": [
              "[[{'DOB': 'DOB'},\n",
              "  {'Policy Number': 'Policy Number'},\n",
              "  {'Patient': 'patient'},\n",
              "  {'Name': 'Name'}],\n",
              " [],\n",
              " [{'US': 'US'},\n",
              "  {'EKG': 'EKG'},\n",
              "  {'progress notes': 'progress notes'},\n",
              "  {'discharge': 'discharge'},\n",
              "  {'Patient': 'patient'},\n",
              "  {'patient': 'patient'}]]"
            ]
          },
          "metadata": {},
          "execution_count": 81
        }
      ]
    },
    {
      "cell_type": "code",
      "source": [
        "wrong_keyword_dict[5]"
      ],
      "metadata": {
        "id": "OVYxrwiid5QZ",
        "outputId": "0a8b2562-6a27-4ffc-cad4-432d67c2f4e4",
        "colab": {
          "base_uri": "https://localhost:8080/"
        }
      },
      "execution_count": null,
      "outputs": [
        {
          "output_type": "execute_result",
          "data": {
            "text/plain": [
              "{'O2Sat': 'O2Sat',\n",
              " 'BP:': 'BP:',\n",
              " 'covid': 'covid',\n",
              " 'Ht:': 'Ht:',\n",
              " 'NKDA': 'NKDA',\n",
              " 'tdap': 'tdap',\n",
              " 'T:': 'T:',\n",
              " 'BP': 'BP',\n",
              " 'O2Sat:': 'O2Sat:',\n",
              " 'Ht': 'Ht',\n",
              " 'DOB': 'DOB',\n",
              " '%': '%',\n",
              " 'BMI': 'BMI',\n",
              " 'No medications reported by patient': 'no medications reported by patient',\n",
              " 'diopathic osteoarthritis': 'idiopathic osteoarthritis',\n",
              " 'Sleep pattern disturbance': 'sleep pattern disturbance',\n",
              " 'OBSTETRICS & GYNECOLOGY': 'Obstetrics & Gynecology',\n",
              " 'No medications reported': 'no medications reported',\n",
              " 'Primary Care Provider': 'primary care provider',\n",
              " 'Mixed hyperlipidemia': 'mixed hyperlipidemia',\n",
              " 'Multinodular goiter': 'multinodular goiter',\n",
              " 'Chronic neck pain': 'chronic neck pain',\n",
              " 'Body mass index': 'body mass index',\n",
              " 'hyperlipidemia': 'hyperlipidemia',\n",
              " 'osteoarthritis': 'osteoarthritis',\n",
              " 'Physical Exam': 'physical exam',\n",
              " 'overweight': 'overweight',\n",
              " 'Encounter': 'encounter',\n",
              " 'Allergies': 'allergies',\n",
              " 'neck pain': 'neck pain',\n",
              " 'Vaccines': 'vaccines',\n",
              " 'shingles': 'shingles',\n",
              " 'Headache': 'headache',\n",
              " 'patient': 'patient',\n",
              " 'Patient': 'patient',\n",
              " 'Female': 'female',\n",
              " 'Pulse': 'pulse',\n",
              " 'Name': 'Name',\n",
              " 'Appt': 'Appt',\n",
              " 'Exam': 'exam',\n",
              " 'mass': 'mass',\n",
              " 'flu': 'flu',\n",
              " 'Wt': 'wt'}"
            ]
          },
          "metadata": {},
          "execution_count": 22
        }
      ]
    },
    {
      "cell_type": "code",
      "source": [
        "#icd9_code_dict1[19]"
      ],
      "metadata": {
        "id": "sM8BT17WGvyL"
      },
      "execution_count": null,
      "outputs": []
    },
    {
      "cell_type": "markdown",
      "source": [
        "##Split TXT/PDF"
      ],
      "metadata": {
        "id": "A0j2GTO4z99I"
      }
    },
    {
      "cell_type": "code",
      "source": [
        "!cp Practice_Copy_Test_OCR.pdf /home/ocreng/ocrhigh/input"
      ],
      "metadata": {
        "id": "zGGyUfAqthHZ"
      },
      "execution_count": null,
      "outputs": []
    },
    {
      "cell_type": "code",
      "source": [
        "INPUT_PDF_FILES_PATH = \"/home/ocreng/ocrhigh/input\"\n",
        "for pdf_file in os.listdir(INPUT_PDF_FILES_PATH):\n",
        "  pdf_file_name = f\"{INPUT_PDF_FILES_PATH}/{pdf_file}\"\n",
        "\n",
        "  # Step-1: splitting pdf file\n",
        "  print(\"Step-1: Splitting pdf file............\")\n",
        "  pdf_list = split_pdf(highlighter.PDF_FILES_PATH, pdf_file_name)\n",
        "\n",
        "  # Step-2: Extracting text from pdf\n",
        "  print(\"Step-2: Extracting text from pdf............\")\n",
        "  txt_list = extract_text_from_pdf(highlighter.PDF_FILES_PATH, highlighter.TXT_FILES_PATH, pdf_list)"
      ],
      "metadata": {
        "colab": {
          "base_uri": "https://localhost:8080/"
        },
        "id": "o2IbHJR4zqpf",
        "outputId": "55fc8719-d729-4ed2-8212-a923c2c9b029"
      },
      "execution_count": null,
      "outputs": [
        {
          "output_type": "stream",
          "name": "stdout",
          "text": [
            "Step-1: Splitting pdf file............\n",
            "Step-2: Extracting text from pdf............\n"
          ]
        }
      ]
    },
    {
      "cell_type": "code",
      "source": [
        "!zip text_files.zip /home/ocreng/ocrhigh/txt-files/*.*\n",
        "!zip pdf_files.zip /home/ocreng/ocrhigh/pdf-files/*.*"
      ],
      "metadata": {
        "id": "z6rYYKDWeAZo"
      },
      "execution_count": null,
      "outputs": []
    },
    {
      "cell_type": "code",
      "source": [
        "#!unzip pdf_files.zip"
      ],
      "metadata": {
        "id": "XfVJARIFvC5N"
      },
      "execution_count": null,
      "outputs": []
    },
    {
      "cell_type": "code",
      "source": [
        "#!cp /home/ocreng/ocrhigh/pdf-files/page-38.pdf ."
      ],
      "metadata": {
        "id": "gjfjb_7PvcYX"
      },
      "execution_count": null,
      "outputs": []
    },
    {
      "cell_type": "markdown",
      "source": [
        "##Split List"
      ],
      "metadata": {
        "id": "HQBBtc_dYJ0k"
      }
    },
    {
      "cell_type": "code",
      "source": [
        "def split_list(a_list, divider):\n",
        "  half = len(a_list)//divider\n",
        "  return a_list[:half], a_list[half:]\n",
        "\n",
        "A = [1,2,3,4,5,6]\n",
        "B, C = split_list(A, 3)\n",
        "B, C"
      ],
      "metadata": {
        "colab": {
          "base_uri": "https://localhost:8080/"
        },
        "id": "VkFlsIHRVsuw",
        "outputId": "a60ae61d-b01a-4d2c-b0d5-a625769838df"
      },
      "execution_count": null,
      "outputs": [
        {
          "output_type": "execute_result",
          "data": {
            "text/plain": [
              "([1, 2], [3, 4, 5, 6])"
            ]
          },
          "metadata": {},
          "execution_count": 26
        }
      ]
    },
    {
      "cell_type": "code",
      "source": [
        "6 // 3"
      ],
      "metadata": {
        "colab": {
          "base_uri": "https://localhost:8080/"
        },
        "id": "EalXDscJXBZB",
        "outputId": "e612778d-db65-4749-f751-b6efb5722607"
      },
      "execution_count": null,
      "outputs": [
        {
          "output_type": "execute_result",
          "data": {
            "text/plain": [
              "2"
            ]
          },
          "metadata": {},
          "execution_count": 29
        }
      ]
    },
    {
      "cell_type": "code",
      "source": [
        "int(4 / 2)"
      ],
      "metadata": {
        "colab": {
          "base_uri": "https://localhost:8080/"
        },
        "id": "INWhqkgNr1Z-",
        "outputId": "8ff3d32c-be22-47a2-9c25-034b6ba47bd4"
      },
      "execution_count": null,
      "outputs": [
        {
          "output_type": "execute_result",
          "data": {
            "text/plain": [
              "2"
            ]
          },
          "metadata": {},
          "execution_count": 27
        }
      ]
    },
    {
      "cell_type": "code",
      "source": [
        "!pip install more-itertools"
      ],
      "metadata": {
        "colab": {
          "base_uri": "https://localhost:8080/"
        },
        "id": "XIoOMq6GXw0O",
        "outputId": "9c8d984e-9281-4a0f-a361-0ebb5ab4ef8b"
      },
      "execution_count": null,
      "outputs": [
        {
          "output_type": "stream",
          "name": "stdout",
          "text": [
            "Requirement already satisfied: more-itertools in /usr/local/lib/python3.10/dist-packages (10.1.0)\n"
          ]
        }
      ]
    },
    {
      "cell_type": "code",
      "source": [
        "import more_itertools"
      ],
      "metadata": {
        "id": "2-pQgsgUXxX1"
      },
      "execution_count": null,
      "outputs": []
    },
    {
      "cell_type": "code",
      "source": [
        "for batch in more_itertools.batched([1,2,3,4,5,6], 3):\n",
        "  print(batch)"
      ],
      "metadata": {
        "colab": {
          "base_uri": "https://localhost:8080/"
        },
        "id": "fN1bIbkfYR1q",
        "outputId": "affc4fc1-4f8a-4d27-ac99-10b9c13ff7a1"
      },
      "execution_count": null,
      "outputs": [
        {
          "output_type": "stream",
          "name": "stdout",
          "text": [
            "(1, 2, 3)\n",
            "(4, 5, 6)\n"
          ]
        }
      ]
    },
    {
      "cell_type": "code",
      "source": [
        "for batch in more_itertools.batched(\"ABCDEFGHIJ\", 4):\n",
        "  print(batch)"
      ],
      "metadata": {
        "id": "Y9dkrNWlYaTd"
      },
      "execution_count": null,
      "outputs": []
    },
    {
      "cell_type": "code",
      "source": [
        "def split_list(a_list, divider):\n",
        "  half = len(a_list) // divider\n",
        "  return a_list[:half], a_list[half:]"
      ],
      "metadata": {
        "id": "LGUDZSlTV3hT"
      },
      "execution_count": null,
      "outputs": []
    },
    {
      "cell_type": "code",
      "source": [
        "L =np.array([\n",
        "(63.5, 166.5, 81.5, 175.50439453125),\n",
        "(84.5, 166.5, 133.59002685546875, 175.50439453125),\n",
        "(130.0, 264.0, 147.49998474121094, 273.00439453125),\n",
        "(150.5, 264.0, 199.59002685546875, 273.00439453125),\n",
        "(150.5, 264.0, 199.59002685546875, 273.00439453125),\n",
        "(150.5, 264.0, 199.59002685546875, 273.00439453125)\n",
        "])"
      ],
      "metadata": {
        "id": "a2joGq7oUwQe"
      },
      "execution_count": null,
      "outputs": []
    },
    {
      "cell_type": "code",
      "source": [
        "(63.5, 166.5, 133.59002685546875, 175.50439453125)\n",
        "(130.0, 264.0, 199.59002685546875, 273.00439453125)"
      ],
      "metadata": {
        "id": "ZQfuyU5XkDph"
      },
      "execution_count": null,
      "outputs": []
    },
    {
      "cell_type": "code",
      "source": [
        "np.split(L, 3)"
      ],
      "metadata": {
        "id": "Wo1xtnpPBha8",
        "outputId": "6e4f56cf-2a34-4b6a-92dc-08f94853b03a",
        "colab": {
          "base_uri": "https://localhost:8080/"
        }
      },
      "execution_count": null,
      "outputs": [
        {
          "output_type": "execute_result",
          "data": {
            "text/plain": [
              "[array([[ 63.5       , 166.5       ,  81.5       , 175.50439453],\n",
              "        [ 84.5       , 166.5       , 133.59002686, 175.50439453]]),\n",
              " array([[130.        , 264.        , 147.49998474, 273.00439453],\n",
              "        [150.5       , 264.        , 199.59002686, 273.00439453]]),\n",
              " array([[150.5       , 264.        , 199.59002686, 273.00439453],\n",
              "        [150.5       , 264.        , 199.59002686, 273.00439453]])]"
            ]
          },
          "metadata": {},
          "execution_count": 28
        }
      ]
    },
    {
      "cell_type": "code",
      "source": [
        "LL= [\n",
        "(23.5, 443.0, 77.00015258789062, 454.00537109375),\n",
        "(79.5, 443.0, 122.99948120117188, 454.00537109375),\n",
        "(126.5, 443.0, 142.1002197265625, 454.00537109375),\n",
        "(384.5, 478.5, 430.0002136230469, 485.50341796875),\n",
        "(195.49978637695312, 487.0, 240.9998321533203, 494.00341796875),\n",
        "(246.5, 487.0, 260.5, 494.00341796875)]"
      ],
      "metadata": {
        "id": "e8jOWwcSGqyD"
      },
      "execution_count": null,
      "outputs": []
    },
    {
      "cell_type": "code",
      "source": [
        "len(LL) // 3"
      ],
      "metadata": {
        "colab": {
          "base_uri": "https://localhost:8080/"
        },
        "id": "6YtP_ibNnMkl",
        "outputId": "7c106988-be98-4d30-e273-98965dc57b58"
      },
      "execution_count": null,
      "outputs": [
        {
          "output_type": "execute_result",
          "data": {
            "text/plain": [
              "2"
            ]
          },
          "metadata": {},
          "execution_count": 44
        }
      ]
    },
    {
      "cell_type": "code",
      "source": [
        "for batch_coord in more_itertools.batched(LL, 2):\n",
        "  f_coord = batch_coord[0]\n",
        "  l_coord = batch_coord[-1]\n",
        "  print(f\"f_coord: {f_coord}\")\n",
        "  print(f\"l_coord: {l_coord}\")\n",
        "  phrase_coord = (f_coord[0], f_coord[1], l_coord[2], l_coord[3])\n",
        "  print(f\"key_phrase: CTA DISSECTION, phrase_coord: {phrase_coord}\")"
      ],
      "metadata": {
        "colab": {
          "base_uri": "https://localhost:8080/"
        },
        "id": "h3eFBmhrYmcv",
        "outputId": "d907861c-4602-49b4-91b8-817b68e220cb"
      },
      "execution_count": null,
      "outputs": [
        {
          "output_type": "stream",
          "name": "stdout",
          "text": [
            "f_coord: (23.5, 443.0, 77.00015258789062, 454.00537109375)\n",
            "l_coord: (79.5, 443.0, 122.99948120117188, 454.00537109375)\n",
            "key_phrase: CTA DISSECTION, phrase_coord: (23.5, 443.0, 122.99948120117188, 454.00537109375)\n",
            "f_coord: (126.5, 443.0, 142.1002197265625, 454.00537109375)\n",
            "l_coord: (384.5, 478.5, 430.0002136230469, 485.50341796875)\n",
            "key_phrase: CTA DISSECTION, phrase_coord: (126.5, 443.0, 430.0002136230469, 485.50341796875)\n",
            "f_coord: (195.49978637695312, 487.0, 240.9998321533203, 494.00341796875)\n",
            "l_coord: (246.5, 487.0, 260.5, 494.00341796875)\n",
            "key_phrase: CTA DISSECTION, phrase_coord: (195.49978637695312, 487.0, 260.5, 494.00341796875)\n"
          ]
        }
      ]
    },
    {
      "cell_type": "code",
      "source": [
        "key_phrase_sent = \"plan of care\"\n",
        "coordinates = [\n",
        "    (303.35198974609375, 578.380859375, 350.51043701171875, 589.455078125),\n",
        "    (432.93896484375, 647.3748779296875, 480.2064514160156, 658.4490966796875)]\n",
        "\n",
        "phrase_len = len(key_phrase_sent.split())\n",
        "print((len(coordinates) // phrase_len) )\n",
        "for batch_coord in more_itertools.batched(coordinates, 3):\n",
        "  f_coord = batch_coord[0]\n",
        "  l_coord = batch_coord[-1]\n",
        "  print(f\"f_coord: {f_coord}\")\n",
        "  print(f\"l_coord: {l_coord}\")\n",
        "  phrase_coord = (f_coord[0], f_coord[1], l_coord[2], l_coord[3])\n",
        "  print(f\"key_phrase: {key_phrase_sent}, phrase_coord: {phrase_coord}\")"
      ],
      "metadata": {
        "colab": {
          "base_uri": "https://localhost:8080/"
        },
        "id": "klqIUKJ0b8K_",
        "outputId": "da9085de-c6af-4286-b458-535f43a7ef14"
      },
      "execution_count": null,
      "outputs": [
        {
          "output_type": "stream",
          "name": "stdout",
          "text": [
            "0\n",
            "f_coord: (303.35198974609375, 578.380859375, 350.51043701171875, 589.455078125)\n",
            "l_coord: (432.93896484375, 647.3748779296875, 480.2064514160156, 658.4490966796875)\n",
            "key_phrase: plan of care, phrase_coord: (303.35198974609375, 578.380859375, 480.2064514160156, 658.4490966796875)\n"
          ]
        }
      ]
    },
    {
      "cell_type": "code",
      "source": [
        "LL= np.array([\n",
        "(23.5, 443.0, 77.00015258789062, 454.00537109375),\n",
        "(79.5, 443.0, 122.99948120117188, 454.00537109375),\n",
        "(126.5, 443.0, 142.1002197265625, 454.00537109375),\n",
        "(384.5, 478.5, 430.0002136230469, 485.50341796875),\n",
        "(195.49978637695312, 487.0, 240.9998321533203, 494.00341796875),\n",
        "(246.5, 487.0, 260.5, 494.00341796875)])\n",
        "\n",
        "for batch_coord in np.split(LL, 3):\n",
        "  f_coord = batch_coord[0]\n",
        "  l_coord = batch_coord[-1]\n",
        "  print(f\"f_coord: {f_coord}\")\n",
        "  print(f\"l_coord: {l_coord}\")\n",
        "  phrase_coord = (f_coord[0], f_coord[1], l_coord[2], l_coord[3])\n",
        "  print(f\"key_phrase: CTA DISSECTION, phrase_coord: {phrase_coord}\")"
      ],
      "metadata": {
        "id": "c_56oxCoG8Vo",
        "outputId": "32adbc68-58e1-4aef-fbf2-cf03f19b882a",
        "colab": {
          "base_uri": "https://localhost:8080/"
        }
      },
      "execution_count": null,
      "outputs": [
        {
          "output_type": "stream",
          "name": "stdout",
          "text": [
            "f_coord: [ 23.5        443.          77.00015259 454.00537109]\n",
            "l_coord: [ 79.5        443.         122.9994812  454.00537109]\n",
            "key_phrase: CTA DISSECTION, phrase_coord: (23.5, 443.0, 122.99948120117188, 454.00537109375)\n",
            "f_coord: [126.5        443.         142.10021973 454.00537109]\n",
            "l_coord: [384.5        478.5        430.00021362 485.50341797]\n",
            "key_phrase: CTA DISSECTION, phrase_coord: (126.5, 443.0, 430.0002136230469, 485.50341796875)\n",
            "f_coord: [195.49978638 487.         240.99983215 494.00341797]\n",
            "l_coord: [246.5        487.         260.5        494.00341797]\n",
            "key_phrase: CTA DISSECTION, phrase_coord: (195.49978637695312, 487.0, 260.5, 494.00341796875)\n"
          ]
        }
      ]
    },
    {
      "cell_type": "markdown",
      "source": [
        "```log\n",
        "f_coord: (63.5, 166.5, 81.5, 175.50439453125)\n",
        "l_coord: (84.5, 166.5, 133.59002685546875, 175.50439453125)\n",
        "key_phrase: CTA DISSECTION, phrase_coord: (63.5, 166.5, 133.59002685546875, 175.50439453125)\n",
        "f_coord: (130.0, 264.0, 147.49998474121094, 273.00439453125)\n",
        "l_coord: (150.5, 264.0, 199.59002685546875, 273.00439453125)\n",
        "key_phrase: CTA DISSECTION, phrase_coord: (130.0, 264.0, 199.59002685546875, 273.00439453125)\n",
        "```"
      ],
      "metadata": {
        "id": "x0AI0G1K4ui4"
      }
    },
    {
      "cell_type": "markdown",
      "source": [
        "##PDF OCRing"
      ],
      "metadata": {
        "id": "jxVd7v4y4kTc"
      }
    },
    {
      "cell_type": "code",
      "source": [
        "import pikepdf\n",
        "\n",
        "def remove_password_from_pdf(input_file, output_file, password=None):\n",
        "    pdf = pikepdf.open(input_file, password=password)\n",
        "    pdf.save(output_file)"
      ],
      "metadata": {
        "id": "JXMHrfp84nVg"
      },
      "execution_count": null,
      "outputs": []
    },
    {
      "cell_type": "code",
      "source": [
        "remove_password_from_pdf(\"Keyword_Sample_File#4_Redacted_Redacted.pdf\",\n",
        "                         \"Keyword_Sample_File#4_Redacted_Redacted_pw_removed.pdf\", \"synodex\")"
      ],
      "metadata": {
        "id": "a9iOS4i74qqf"
      },
      "execution_count": null,
      "outputs": []
    },
    {
      "cell_type": "code",
      "source": [
        "!ocrmypdf --skip-text Sample_File_No3_Redacted_pw_removed.pdf Sample_File_No3_Redacted.pdf"
      ],
      "metadata": {
        "colab": {
          "base_uri": "https://localhost:8080/"
        },
        "id": "0hWihi2ainu8",
        "outputId": "9f1e17bb-c488-4c92-d95f-1c9dd20a52d4"
      },
      "execution_count": null,
      "outputs": [
        {
          "output_type": "stream",
          "name": "stdout",
          "text": [
            "\rScanning contents:   0% 0/50 [00:00<?, ?page/s]\rScanning contents:  46% 23/50 [00:00<00:00, 222.44page/s]\rScanning contents: 100% 50/50 [00:00<00:00, 326.07page/s]\n",
            "Start processing 2 pages concurrently\n",
            "    1 skipping all processing on this page\n",
            "    2 \u001b[33m[tesseract] lots of diacritics - possibly poor OCR\u001b[0m\n",
            "   12 \u001b[33m[tesseract] lots of diacritics - possibly poor OCR\u001b[0m\n",
            "   20 \u001b[33m[tesseract] lots of diacritics - possibly poor OCR\u001b[0m\n",
            "   19 \u001b[33m[tesseract] lots of diacritics - possibly poor OCR\u001b[0m\n",
            "   21 \u001b[33m[tesseract] lots of diacritics - possibly poor OCR\u001b[0m\n",
            "   36 \u001b[33m[tesseract] lots of diacritics - possibly poor OCR\u001b[0m\n",
            "   46 \u001b[33m[tesseract] lots of diacritics - possibly poor OCR\u001b[0m\n",
            "OCR: 100% 50.0/50.0 [01:42<00:00,  2.05s/page]\n",
            "Postprocessing...\n",
            "PDF/A conversion: 100% 50/50 [00:17<00:00,  2.80page/s]\n",
            "Recompressing JPEGs: 0image [00:00, ?image/s]\n",
            "Deflating JPEGs: 0image [00:00, ?image/s]\n",
            "JBIG2: 0item [00:00, ?item/s]\n",
            "Optimize ratio: 1.00 savings: -0.2%\n",
            "Image optimization did not improve the file - optimizations will not be used\n",
            "Output file is a PDF/A-2B (as expected)\n"
          ]
        }
      ]
    },
    {
      "cell_type": "code",
      "source": [
        "!rm -rf Keyword_Sample_File4_Redacted_Redacted_pw_removed.pdf"
      ],
      "metadata": {
        "id": "Z-Z0qdq0mPW8"
      },
      "execution_count": null,
      "outputs": []
    },
    {
      "cell_type": "markdown",
      "source": [
        "##Exact Match"
      ],
      "metadata": {
        "id": "vIep4k_1UBSG"
      }
    },
    {
      "cell_type": "code",
      "source": [
        "mytext = \"\"\"\n",
        "  Encounter #16\n",
        "History & Physical Report\n",
        "1/25/2021: Lab Orders - Hypertriglyceridemia,                 sporadic (E78.3) (Marina Dobricic)\n",
        "   ppointment:    1/25/2021   9:00 AM\n",
        "                                  / Race: White\n",
        "Male\n",
        " The patient is a 41 year old male.\n",
        " Assessment & Plan (Angela Sabbagh; 1/23/2021            11:36 AM)\n",
        " Hypertriglyceridemia, sporadic (E78.3)\n",
        " Impression: stopped will restart and check labs\n",
        "Current Plans\n",
        "       @   Comprehensive Metabolic Panel (CMP) (80053)\n",
        "       @   Complete Blood Count with Differential (CBC) (85025)\n",
        "       @   Lipid Panel (LP) (80061)\n",
        "Signed by Marina Dobricic (1/27/2021        9:54 AM)\n",
        " Comprehensive Metabolic Panel (CMP) (80053) Final, Reviewed (Collected: 01/25/2021)\n",
        " Diagnosis: Hypertriglyceridemia, sporadic (E78.3)\n",
        " Note: Testing done at Silver Pine Medical         Group unless otherwise specified. 43455 Schoenherr Road, Suite 19, Sterling Heights, MI 48313\n",
        "      Sodium                                  141 mmol/L              (Normal Range: 135-145 mmol/L)         Result Note:\n",
        "                                                                    Resutt Annotation:\n",
        "      Potassium                               4.1  mmol/L             (Normal Range: 3.5-5.2 mmol/L)        Result    Note:\n",
        "                                                                    Result Annotation:\n",
        "      Chloride                                103   mmol/L            (Normal Range: 98-107 mmol/L)         Result    Note:\n",
        "                                                                    Result Annotation:\n",
        "      Carbon    Dioxide (CO2)                 30 mmol/L               (Normal Range: 21-31    mmol/L)     Result     Note:\n",
        "                                                                    Resutt Annotation:\n",
        "      Anion Gap                               8                       (Normal Range: 5-17)      Result     Note:\n",
        "                                                                    Resutt Annotation:\n",
        "      Glucose                                 89 mg/dL                (Normal Range: 60-99 mg/dL)        Result     Note:\n",
        "                                                                    Resutt Annotation:\n",
        "      Blood Urea Nitrogen (BUN)               17 mg/dLl               (Normal Range: 8-23 mg/dL)        Result    Note:\n",
        "                                                                    Resutt Annotation:\n",
        "      Creatinine                              1.03   mg/dL            (Normal Range: 0.80-1.40 mg/dL)        Result     Note:\n",
        "                                                                    Resutt Annotation:\n",
        "      GFR                                     79 mL/min/1.73m2        (Normal Range: >59 mL/min/1.73m2)          Reeult      Note:\n",
        "                                                                    Resutt Annotation:\n",
        "      GFR   African American                  96 mL/min/1.73m2        (Normal Range: >59 mL/min/1.73m2)          Result      Note:\n",
        "                                                                    Result Annotation:\n",
        "      Calcium                                 9.0 mg/dL               (Normal Range: 8.5-11.0 mg/dL)        Result     Note;:\n",
        "                                                                    Result Annotation:\n",
        "      Protein Total                           7.8 g/dL                (Normal Range: 6.4-8.2 g/dL)      Result     Note:\n",
        "                                                                    Resutt Annotation:\n",
        "      Albumin                                 4.4 g/dL                (Normal Range: 3.4-5.0 g/dL)      Result     Note:\n",
        "                                                                    Resutt Annotation:\n",
        "      Globulin                                3.40                    (Normal Range: 2.20-4.00)       Result    Wote:\n",
        "                                                                    Resutt Annotation:\n",
        "      Album   in/Globulin Ratio               1.3                         Result Note:\n",
        "                                                                    Resutt Annotation:\n",
        "      Alkaline Phosphatase (ALP)              64 U/L                  (Normal Range: 50-116 U/L)       Result    Note:\n",
        "                                                                    Resutt Annotation:\n",
        "      Aspartate Aminotransferase (AST)        25  U/L                 (Normal Range: 15-37 U/L)      Result    Note:\n",
        "                                                                    Resutt Annotation:\n",
        "      Alanine Aminotransferase (ALT)          33 U/L                  (Normal Range: 16-63 U/L)      Reeult    Note:\n",
        "                                                                    Resutt Annotation:\n",
        "      Bilirubin Total                         0.5 mg/dL               (Normal Range:   0.3-1.2 mg/dL)     Result     Note:\n",
        "                                                                    Resutt Annotation:\n",
        " Complete Blood Count with Differential (CBC) (85025) Final, Reviewed (Collected: 01/25/2021)\n",
        " Diagnosis: Hypertriglyceridemia, sporadic (E78.3)\n",
        " Note: Testina done at Silver Pine Medical Group unless otherwise specified. 43455 Schoenherr Road. Suite 19. Sterlina Heiahts. Ml 48313\n",
        "06/28/2022 12:27 pm                                              s                                                                          Page 11/144\n",
        "\"\"\""
      ],
      "metadata": {
        "id": "T6du52kDm4mY"
      },
      "execution_count": null,
      "outputs": []
    },
    {
      "cell_type": "code",
      "source": [
        "term = \"MI\"\n",
        "#matches = len(re.findall(r'(?i)\\bAlbumin\\b', mytext)) > 0\n",
        "# matches = len(re.findall(f'(?i)\\\\b{term}\\\\b', mytext)) > 0\n",
        "#if len(re.findall(f'(?i)\\\\b{term}\\\\b', mytext)) > 0:\n",
        "matches = re.findall(r'\\bMI\\b', \"mi mister miss\")\n",
        "matches"
      ],
      "metadata": {
        "id": "4CxtWaFymzks",
        "outputId": "64302d54-1514-4ffe-fb7b-d4efa0824974",
        "colab": {
          "base_uri": "https://localhost:8080/"
        }
      },
      "execution_count": null,
      "outputs": [
        {
          "output_type": "execute_result",
          "data": {
            "text/plain": [
              "[]"
            ]
          },
          "metadata": {},
          "execution_count": 17
        }
      ]
    },
    {
      "cell_type": "code",
      "source": [
        "with open(\"page-30.txt\", \"r\") as f:\n",
        "  mytext = f.read()\n",
        "if len(re.findall(f'(?i)\\\\b{term}\\\\b', mytext)) > 0:\n",
        "  print(\"Found\")"
      ],
      "metadata": {
        "id": "reFqGUwgvkJX",
        "outputId": "f503bc29-dcf0-48ef-ec5c-16c3ef2a9a16",
        "colab": {
          "base_uri": "https://localhost:8080/",
          "height": 218
        }
      },
      "execution_count": null,
      "outputs": [
        {
          "output_type": "error",
          "ename": "FileNotFoundError",
          "evalue": "ignored",
          "traceback": [
            "\u001b[0;31m---------------------------------------------------------------------------\u001b[0m",
            "\u001b[0;31mFileNotFoundError\u001b[0m                         Traceback (most recent call last)",
            "\u001b[0;32m<ipython-input-18-29aebb679170>\u001b[0m in \u001b[0;36m<cell line: 1>\u001b[0;34m()\u001b[0m\n\u001b[0;32m----> 1\u001b[0;31m \u001b[0;32mwith\u001b[0m \u001b[0mopen\u001b[0m\u001b[0;34m(\u001b[0m\u001b[0;34m\"page-30.txt\"\u001b[0m\u001b[0;34m,\u001b[0m \u001b[0;34m\"r\"\u001b[0m\u001b[0;34m)\u001b[0m \u001b[0;32mas\u001b[0m \u001b[0mf\u001b[0m\u001b[0;34m:\u001b[0m\u001b[0;34m\u001b[0m\u001b[0;34m\u001b[0m\u001b[0m\n\u001b[0m\u001b[1;32m      2\u001b[0m   \u001b[0mmytext\u001b[0m \u001b[0;34m=\u001b[0m \u001b[0mf\u001b[0m\u001b[0;34m.\u001b[0m\u001b[0mread\u001b[0m\u001b[0;34m(\u001b[0m\u001b[0;34m)\u001b[0m\u001b[0;34m\u001b[0m\u001b[0;34m\u001b[0m\u001b[0m\n\u001b[1;32m      3\u001b[0m \u001b[0;32mif\u001b[0m \u001b[0mlen\u001b[0m\u001b[0;34m(\u001b[0m\u001b[0mre\u001b[0m\u001b[0;34m.\u001b[0m\u001b[0mfindall\u001b[0m\u001b[0;34m(\u001b[0m\u001b[0;34mf'(?i)\\\\b{term}\\\\b'\u001b[0m\u001b[0;34m,\u001b[0m \u001b[0mmytext\u001b[0m\u001b[0;34m)\u001b[0m\u001b[0;34m)\u001b[0m \u001b[0;34m>\u001b[0m \u001b[0;36m0\u001b[0m\u001b[0;34m:\u001b[0m\u001b[0;34m\u001b[0m\u001b[0;34m\u001b[0m\u001b[0m\n\u001b[1;32m      4\u001b[0m   \u001b[0mprint\u001b[0m\u001b[0;34m(\u001b[0m\u001b[0;34m\"Found\"\u001b[0m\u001b[0;34m)\u001b[0m\u001b[0;34m\u001b[0m\u001b[0;34m\u001b[0m\u001b[0m\n",
            "\u001b[0;31mFileNotFoundError\u001b[0m: [Errno 2] No such file or directory: 'page-30.txt'"
          ]
        }
      ]
    },
    {
      "cell_type": "code",
      "source": [
        "wrong_keyword_dict1[0]"
      ],
      "metadata": {
        "id": "oy3VrsX1vpuQ"
      },
      "execution_count": null,
      "outputs": []
    },
    {
      "cell_type": "code",
      "source": [
        "icd10_code_dict1"
      ],
      "metadata": {
        "id": "-PfeXsii2ZGv"
      },
      "execution_count": null,
      "outputs": []
    },
    {
      "cell_type": "code",
      "source": [
        "%%time\n",
        "\n",
        "text_list = split_pdf(highlighter.PDF_FILES_PATH, \"APS_38600000R_final.pdf\")\n",
        "len(text_list)"
      ],
      "metadata": {
        "id": "CJw-u86V4uF_"
      },
      "execution_count": null,
      "outputs": []
    },
    {
      "cell_type": "markdown",
      "source": [
        "##Highlight Test"
      ],
      "metadata": {
        "id": "4HjWgUOqYgot"
      }
    },
    {
      "cell_type": "code",
      "source": [
        "pdf_file_name = \"page-30.pdf\"\n",
        "pdf_file = fitz.open(pdf_file_name)\n",
        "for page_num, page in enumerate(pdf_file):\n",
        "  for keyword_impairment in wrong_keyword_dict1[0]:\n",
        "    # print(f\"keyword_impairment11: {keyword_impairment}\")\n",
        "    highlight = page.search_for(keyword_impairment)\n",
        "    print(f\"keyword_impairment: {keyword_impairment}, coords: {highlight}\")\n",
        "    highlight = page.add_highlight_annot(highlight)\n",
        "    highlight.update()\n",
        "output_pdf_file_name = f\"{pdf_file_name.split('.')[0]}_output.pdf\"\n",
        "pdf_file.save(output_pdf_file_name, garbage=4, deflate=True, clean=True)"
      ],
      "metadata": {
        "id": "AZKQdR3oAzOx",
        "outputId": "1d508899-4a61-4ec1-ecee-953a755bfba7",
        "colab": {
          "base_uri": "https://localhost:8080/"
        }
      },
      "execution_count": null,
      "outputs": [
        {
          "output_type": "stream",
          "name": "stdout",
          "text": [
            "keyword_impairment: Urea, coords: [Rect(70.31328582763672, 435.0400390625, 83.75199890136719, 443.0439453125)]\n",
            "keyword_impairment: Comprehensive Metabolic Panel, coords: [Rect(60.47419357299805, 207.52001953125, 118.06912994384766, 215.52392578125), Rect(121.66831970214844, 207.52001953125, 156.94491577148438, 215.52392578125), Rect(159.82464599609375, 207.52001953125, 176.2230682373047, 215.52392578125), Rect(29.997119903564453, 282.8800048828125, 95.99125671386719, 290.8839111328125), Rect(99.83040618896484, 282.8800048828125, 141.58639526367188, 290.8839111328125), Rect(144.46612548828125, 282.8800048828125, 163.6642608642578, 290.8839111328125)]\n",
            "keyword_impairment: ALT, coords: [Rect(148.30589294433594, 665.4400634765625, 158.38491821289062, 673.4439697265625)]\n",
            "keyword_impairment: GFR, coords: [Rect(45.355674743652344, 477.0400390625, 57.77448272705078, 485.0439453125), Rect(45.35564422607422, 498.1600341796875, 53.8148307800293, 506.1639404296875)]\n",
            "keyword_impairment: CBC, coords: [Rect(214.13943481445312, 216.1600341796875, 225.17835998535156, 224.1639404296875), Rect(206.74017333984375, 717.280029296875, 218.61904907226562, 725.283935546875)]\n",
            "keyword_impairment: Encounter, coords: [Rect(31.916934967041016, 27.03997802734375, 74.24887084960938, 35.04388427734375)]\n",
            "keyword_impairment: Anion Gap, coords: [Rect(44.87572479248047, 393.5200500488281, 65.99369812011719, 401.5239562988281), Rect(69.83332824707031, 393.5200500488281, 81.1722412109375, 401.5239562988281)]\n",
            "keyword_impairment: Sodium, coords: [Rect(45.35564422607422, 310.0, 69.01065063476562, 318.00390625)]\n",
            "keyword_impairment: CO2, coords: [Rect(109.46951293945312, 372.6400451660156, 120.38845825195312, 380.6439514160156)]\n",
            "keyword_impairment: CMP, coords: [Rect(186.74208068847656, 207.52001953125, 198.38096618652344, 215.52392578125), Rect(174.7432098388672, 282.8800048828125, 187.82196044921875, 290.8839111328125)]\n",
            "keyword_impairment: Alkaline Phosphatase, coords: [Rect(44.875816345214844, 623.6800537109375, 74.8731689453125, 631.6839599609375), Rect(77.99263000488281, 623.6800537109375, 120.8885269165039, 631.6839599609375)]\n",
            "keyword_impairment: BUN, coords: [Rect(129.18763732910156, 435.0400390625, 140.2265625, 443.0439453125)]\n",
            "keyword_impairment: Complete Blood Count, coords: [Rect(60.47420883178711, 216.1600341796875, 95.99054718017578, 224.1639404296875), Rect(99.35047149658203, 216.1600341796875, 119.26856231689453, 224.1639404296875), Rect(123.10819244384766, 216.1600341796875, 140.70652770996094, 224.1639404296875), Rect(29.997119903564453, 717.280029296875, 70.07352447509766, 725.283935546875), Rect(73.91290283203125, 717.280029296875, 97.67060852050781, 725.283935546875), Rect(101.0302963256836, 717.280029296875, 121.4283447265625, 725.283935546875)]\n",
            "keyword_impairment: Blood Urea Nitrogen, coords: [Rect(45.59565734863281, 435.0400390625, 65.99370574951172, 443.0439453125), Rect(70.31328582763672, 435.0400390625, 87.11167907714844, 443.0439453125), Rect(90.47135162353516, 435.0400390625, 118.41556549072266, 443.0439453125)]\n",
            "keyword_impairment: Glucose, coords: [Rect(45.355674743652344, 414.4000549316406, 71.18318176269531, 422.4039611816406)]\n",
            "keyword_impairment: Lipid Panel, coords: [Rect(60.95414733886719, 223.56005859375, 77.51274108886719, 232.564453125), Rect(81.1122055053711, 223.56005859375, 97.51043701171875, 232.564453125)]\n",
            "keyword_impairment: MI, coords: [Rect(210.2085723876953, 61.5999755859375, 218.56410217285156, 69.6038818359375), Rect(90.52633666992188, 171.280029296875, 97.7038803100586, 179.283935546875), Rect(136.0669708251953, 291.52001953125, 143.2662811279297, 299.52392578125), Rect(521.4700317382812, 299.9200134277344, 526.5894775390625, 307.9239196777344), Rect(207.80300903320312, 477.0400390625, 216.27084350585938, 485.0439453125), Rect(360.8774108886719, 477.0400390625, 369.1646423339844, 485.0439453125), Rect(207.802978515625, 498.1600341796875, 216.27081298828125, 506.1639404296875), Rect(361.0693054199219, 498.1600341796875, 369.3244934082031, 506.1639404296875), Rect(60.2342529296875, 561.0400390625, 67.91350555419922, 569.0439453125), Rect(88.38217163085938, 644.56005859375, 96.2025375366211, 652.56396484375), Rect(79.72894287109375, 665.4400634765625, 87.52114868164062, 673.4439697265625), Rect(136.0669403076172, 725.6799926757812, 143.26625061035156, 733.6838989257812)]\n",
            "keyword_impairment: Albumin, coords: [Rect(44.87572479248047, 561.0400390625, 71.75313568115234, 569.0439453125)]\n",
            "keyword_impairment: Aspartate, coords: [Rect(44.87578582763672, 644.56005859375, 77.48865509033203, 652.56396484375)]\n",
            "keyword_impairment: Urea Nitrogen, coords: [Rect(70.31328582763672, 435.0400390625, 87.11167907714844, 443.0439453125), Rect(90.47135162353516, 435.0400390625, 118.41556549072266, 443.0439453125)]\n",
            "keyword_impairment: Creatinine, coords: [Rect(45.355674743652344, 456.1600341796875, 80.04353332519531, 464.1639404296875)]\n",
            "keyword_impairment: Hypertriglyceridemia, coords: [Rect(139.1866455078125, 61.5999755859375, 222.74185180664062, 69.6038818359375), Rect(29.517169952392578, 171.280029296875, 101.29265594482422, 179.283935546875), Rect(74.87284851074219, 291.52001953125, 146.86593627929688, 299.52392578125), Rect(74.87281799316406, 725.6799926757812, 146.86590576171875, 733.6838989257812)]\n",
            "keyword_impairment: Calcium, coords: [Rect(44.395713806152344, 519.0400390625, 70.8531723022461, 527.0439453125)]\n",
            "keyword_impairment: ppointment, coords: [Rect(34.07672882080078, 79.1199951171875, 70.67321014404297, 87.1239013671875)]\n",
            "keyword_impairment: Chloride, coords: [Rect(45.355674743652344, 351.52001953125, 72.8730239868164, 359.52392578125)]\n",
            "keyword_impairment: AST, coords: [Rect(156.6650390625, 644.56005859375, 167.34400939941406, 652.56396484375)]\n",
            "keyword_impairment: Potassium, coords: [Rect(45.59565734863281, 330.6400146484375, 79.2884292602539, 338.6439208984375)]\n",
            "keyword_impairment: ALP, coords: [Rect(131.42750549316406, 623.6800537109375, 141.98651123046875, 631.6839599609375)]\n",
            "keyword_impairment: Bilirubin Total, coords: [Rect(45.59574890136719, 686.56005859375, 75.59286499023438, 694.56396484375), Rect(78.95254516601562, 686.56005859375, 94.35107421875, 694.56396484375)]\n"
          ]
        }
      ]
    },
    {
      "cell_type": "markdown",
      "source": [
        "##ICD 10 Code"
      ],
      "metadata": {
        "id": "RIRH21XK258d"
      }
    },
    {
      "cell_type": "code",
      "source": [
        "!mkdir -p pdf-files\n",
        "!mkdir -p txt-files"
      ],
      "metadata": {
        "id": "Ebs7E8X23lri"
      },
      "execution_count": null,
      "outputs": []
    },
    {
      "cell_type": "code",
      "source": [
        "# define directory path after creating it\n",
        "pdf_files_path = \"pdf-files\"\n",
        "txt_files_path = \"txt-files\"\n",
        "\n",
        "# create nlp instance\n",
        "nlp = English()\n",
        "\n",
        "\n",
        "def split_pdf(pdf_path):\n",
        "  pdf_in_file = open(pdf_path, \"rb\")\n",
        "  pdf = PdfReader(pdf_in_file)\n",
        "  pdf_list = []\n",
        "  for page in range(len(pdf.pages)):\n",
        "      inputpdf = PdfReader(pdf_in_file)\n",
        "      output = PdfWriter()\n",
        "      output.add_page(inputpdf.pages[page])\n",
        "      with open(f\"{pdf_files_path}/page-{page}.pdf\", \"wb\") as outputStream:\n",
        "          output.write(outputStream)\n",
        "          pdf_list.append(f\"page-{page}.pdf\")\n",
        "  return pdf_list\n",
        "\n",
        "\n",
        "def extract_text_from_pdf(pdf_list):\n",
        "    txt_file_list = []\n",
        "    i = 0\n",
        "    for pdf_file in pdf_list:\n",
        "        with open(os.path.join(pdf_files_path, pdf_file), \"rb\") as f:\n",
        "            pdf = pdftotext.PDF(f)\n",
        "\n",
        "        # Read all the text into one string\n",
        "        pdf_text = \"\\n\\n\".join(pdf)\n",
        "\n",
        "        # write text into file\n",
        "        with open(f\"{txt_files_path}/page-{str(i)}.txt\", \"a\") as f:\n",
        "            f.write(pdf_text)\n",
        "        txt_file_list.append(f\"{txt_files_path}/page-{str(i)}.txt\")\n",
        "        i += 1\n",
        "    return txt_file_list\n",
        "\n",
        "\n",
        "def get_opt_pattern(icd_10_code):\n",
        "  # create alternate pattern\n",
        "  code_arr = icd_10_code.split(\".\")\n",
        "  if len(code_arr) > 1:\n",
        "    code1 = f\"{code_arr[0]}. {code_arr[1]}\"\n",
        "    code2 = f\"{code_arr[0]} .{code_arr[1]}\"\n",
        "    code3 = f\"{code_arr[0]} . {code_arr[1]}\"\n",
        "    return [code1, code2, code3]\n",
        "  else:\n",
        "    return icd_10_code\n",
        "\n",
        "\n",
        "def highlight_icd10_code(pdf_page_dict: dict, pdf_file_name: str):\n",
        "    pdf_file = fitz.open(pdf_file_name)\n",
        "\n",
        "    def highlight_pdf(highlight):\n",
        "        for inst in highlight:\n",
        "          highlight = page.add_highlight_annot(inst)\n",
        "          highlight.update()\n",
        "          highlight = page.search_for(text_to_be_highlighted)\n",
        "          print(f\"Page-{page_num}: \", code, highlight, end='\\n')\n",
        "\n",
        "    for page_num, page in enumerate(pdf_file):\n",
        "        if page_num in pdf_page_dict:\n",
        "          for code in pdf_page_dict[page_num]:\n",
        "            text_to_be_highlighted = code\n",
        "            highlight = page.search_for(text_to_be_highlighted)\n",
        "            print(f\"Page-{page_num}: \", code, highlight, end='\\n')\n",
        "            if len(highlight) == 0:\n",
        "                alternate_code_list = get_opt_pattern(code)\n",
        "                for alt_code in alternate_code_list:\n",
        "                  text_to_be_highlighted = alt_code\n",
        "                  highlight = page.search_for(text_to_be_highlighted)\n",
        "                  # highlight pdf for option pattern\n",
        "                  highlight_pdf(highlight)\n",
        "            # highlight pdf for main pattern\n",
        "            highlight_pdf(highlight)\n",
        "\n",
        "    output_pdf_file_name = f\"{pdf_file_name.split('.')[0]}_output.pdf\"\n",
        "    pdf_file.save(output_pdf_file_name, garbage=4, deflate=True, clean=True)\n",
        "    return output_pdf_file_name\n",
        "\n",
        "\n",
        "def search_icd_10_code(txt_list):\n",
        "  pdf_page_vocab = {}\n",
        "  for txt_file in txt_list:\n",
        "    with open(txt_file, \"r\") as f:\n",
        "      page_txt = f.read()\n",
        "      # filter the page that have line number instead of code\n",
        "      if not re.search(\"(P[ ][0-9]+)(,\\s)(L[0-9]+)\", page_txt):\n",
        "        doc = nlp(page_txt)\n",
        "        code_list = [ent.text for ent in doc.ents]\n",
        "        if len(code_list) != 0:\n",
        "          #print(txt_file)\n",
        "          page_number = int(txt_file.split(\"/\")[1].split(\".\")[0].split(\"-\")[1])\n",
        "          pdf_page_vocab[page_number] = code_list\n",
        "          # print(f\"Page[{txt_file.split('/')[1]}]: {code_list}\")\n",
        "  return pdf_page_vocab"
      ],
      "metadata": {
        "id": "snzCZDEN29Oq"
      },
      "execution_count": null,
      "outputs": []
    },
    {
      "cell_type": "code",
      "source": [
        "# Step-1: splitting pdf file\n",
        "pdf_file_name = \"28page.pdf\"\n",
        "pdf_list = split_pdf(pdf_file_name)\n",
        "\n",
        "# Step-2: Extracting text from pdf\n",
        "txt_list = extract_text_from_pdf(pdf_list)\n",
        "\n",
        "# Step-3: loading and updating patterns to Spacy\n",
        "nlp.add_pipe(\"entity_ruler\").from_disk(\"./icd10_code_patterns-v1.jsonl\")\n",
        "\n",
        "# Step-4: Searching ICD-10 code\n",
        "#print (txt_list)\n",
        "pdf_page_vocab = search_icd_10_code(txt_list)\n",
        "\n",
        "# Step-5: Highlighting ICD-10 code into pdf\n",
        "output_file_name = highlight_icd10_code(pdf_page_vocab, pdf_file_name)\n",
        "print(f\"File[{output_file_name}] is saved after highlighting ICD-10 code\")"
      ],
      "metadata": {
        "id": "JPlZD1rj3D0Z"
      },
      "execution_count": null,
      "outputs": []
    },
    {
      "cell_type": "markdown",
      "source": [
        "##Phrase matching"
      ],
      "metadata": {
        "id": "3T0ApWNLUV1F"
      }
    },
    {
      "cell_type": "code",
      "source": [
        "import spacy\n",
        "from spacy.matcher import PhraseMatcher"
      ],
      "metadata": {
        "id": "ftahgHKBUYC1"
      },
      "execution_count": null,
      "outputs": []
    },
    {
      "cell_type": "code",
      "source": [
        "synid_df = pd.read_csv(cfg.csv_files[\"IMP_CSV\"])\n",
        "synid_df.head()"
      ],
      "metadata": {
        "colab": {
          "base_uri": "https://localhost:8080/",
          "height": 206
        },
        "id": "-Wmq-wtxVDUU",
        "outputId": "8a90f772-8cfc-40cc-9ae9-40a06a6f54c5"
      },
      "execution_count": null,
      "outputs": [
        {
          "output_type": "execute_result",
          "data": {
            "text/plain": [
              "     SynId                          Short_Description\n",
              "0  KW20262                                 US thyroid\n",
              "1  KW20261          no graphic evidence of malignancy\n",
              "2  KW20260                  no evidence of malignancy\n",
              "3  KW20259  scattered areas of fibroglandular density\n",
              "4  KW20258  scattered areas of fibroglandular density"
            ],
            "text/html": [
              "\n",
              "\n",
              "  <div id=\"df-9fb8b197-cd4b-4965-8cbe-09f68f09f80a\">\n",
              "    <div class=\"colab-df-container\">\n",
              "      <div>\n",
              "<style scoped>\n",
              "    .dataframe tbody tr th:only-of-type {\n",
              "        vertical-align: middle;\n",
              "    }\n",
              "\n",
              "    .dataframe tbody tr th {\n",
              "        vertical-align: top;\n",
              "    }\n",
              "\n",
              "    .dataframe thead th {\n",
              "        text-align: right;\n",
              "    }\n",
              "</style>\n",
              "<table border=\"1\" class=\"dataframe\">\n",
              "  <thead>\n",
              "    <tr style=\"text-align: right;\">\n",
              "      <th></th>\n",
              "      <th>SynId</th>\n",
              "      <th>Short_Description</th>\n",
              "    </tr>\n",
              "  </thead>\n",
              "  <tbody>\n",
              "    <tr>\n",
              "      <th>0</th>\n",
              "      <td>KW20262</td>\n",
              "      <td>US thyroid</td>\n",
              "    </tr>\n",
              "    <tr>\n",
              "      <th>1</th>\n",
              "      <td>KW20261</td>\n",
              "      <td>no graphic evidence of malignancy</td>\n",
              "    </tr>\n",
              "    <tr>\n",
              "      <th>2</th>\n",
              "      <td>KW20260</td>\n",
              "      <td>no evidence of malignancy</td>\n",
              "    </tr>\n",
              "    <tr>\n",
              "      <th>3</th>\n",
              "      <td>KW20259</td>\n",
              "      <td>scattered areas of fibroglandular density</td>\n",
              "    </tr>\n",
              "    <tr>\n",
              "      <th>4</th>\n",
              "      <td>KW20258</td>\n",
              "      <td>scattered areas of fibroglandular density</td>\n",
              "    </tr>\n",
              "  </tbody>\n",
              "</table>\n",
              "</div>\n",
              "      <button class=\"colab-df-convert\" onclick=\"convertToInteractive('df-9fb8b197-cd4b-4965-8cbe-09f68f09f80a')\"\n",
              "              title=\"Convert this dataframe to an interactive table.\"\n",
              "              style=\"display:none;\">\n",
              "\n",
              "  <svg xmlns=\"http://www.w3.org/2000/svg\" height=\"24px\"viewBox=\"0 0 24 24\"\n",
              "       width=\"24px\">\n",
              "    <path d=\"M0 0h24v24H0V0z\" fill=\"none\"/>\n",
              "    <path d=\"M18.56 5.44l.94 2.06.94-2.06 2.06-.94-2.06-.94-.94-2.06-.94 2.06-2.06.94zm-11 1L8.5 8.5l.94-2.06 2.06-.94-2.06-.94L8.5 2.5l-.94 2.06-2.06.94zm10 10l.94 2.06.94-2.06 2.06-.94-2.06-.94-.94-2.06-.94 2.06-2.06.94z\"/><path d=\"M17.41 7.96l-1.37-1.37c-.4-.4-.92-.59-1.43-.59-.52 0-1.04.2-1.43.59L10.3 9.45l-7.72 7.72c-.78.78-.78 2.05 0 2.83L4 21.41c.39.39.9.59 1.41.59.51 0 1.02-.2 1.41-.59l7.78-7.78 2.81-2.81c.8-.78.8-2.07 0-2.86zM5.41 20L4 18.59l7.72-7.72 1.47 1.35L5.41 20z\"/>\n",
              "  </svg>\n",
              "      </button>\n",
              "\n",
              "\n",
              "\n",
              "    <div id=\"df-2a7ea9b6-8911-4b0e-b56b-5a6b6e654afc\">\n",
              "      <button class=\"colab-df-quickchart\" onclick=\"quickchart('df-2a7ea9b6-8911-4b0e-b56b-5a6b6e654afc')\"\n",
              "              title=\"Suggest charts.\"\n",
              "              style=\"display:none;\">\n",
              "\n",
              "<svg xmlns=\"http://www.w3.org/2000/svg\" height=\"24px\"viewBox=\"0 0 24 24\"\n",
              "     width=\"24px\">\n",
              "    <g>\n",
              "        <path d=\"M19 3H5c-1.1 0-2 .9-2 2v14c0 1.1.9 2 2 2h14c1.1 0 2-.9 2-2V5c0-1.1-.9-2-2-2zM9 17H7v-7h2v7zm4 0h-2V7h2v10zm4 0h-2v-4h2v4z\"/>\n",
              "    </g>\n",
              "</svg>\n",
              "      </button>\n",
              "    </div>\n",
              "\n",
              "<style>\n",
              "  .colab-df-quickchart {\n",
              "    background-color: #E8F0FE;\n",
              "    border: none;\n",
              "    border-radius: 50%;\n",
              "    cursor: pointer;\n",
              "    display: none;\n",
              "    fill: #1967D2;\n",
              "    height: 32px;\n",
              "    padding: 0 0 0 0;\n",
              "    width: 32px;\n",
              "  }\n",
              "\n",
              "  .colab-df-quickchart:hover {\n",
              "    background-color: #E2EBFA;\n",
              "    box-shadow: 0px 1px 2px rgba(60, 64, 67, 0.3), 0px 1px 3px 1px rgba(60, 64, 67, 0.15);\n",
              "    fill: #174EA6;\n",
              "  }\n",
              "\n",
              "  [theme=dark] .colab-df-quickchart {\n",
              "    background-color: #3B4455;\n",
              "    fill: #D2E3FC;\n",
              "  }\n",
              "\n",
              "  [theme=dark] .colab-df-quickchart:hover {\n",
              "    background-color: #434B5C;\n",
              "    box-shadow: 0px 1px 3px 1px rgba(0, 0, 0, 0.15);\n",
              "    filter: drop-shadow(0px 1px 2px rgba(0, 0, 0, 0.3));\n",
              "    fill: #FFFFFF;\n",
              "  }\n",
              "</style>\n",
              "\n",
              "    <script>\n",
              "      async function quickchart(key) {\n",
              "        const containerElement = document.querySelector('#' + key);\n",
              "        const charts = await google.colab.kernel.invokeFunction(\n",
              "            'suggestCharts', [key], {});\n",
              "      }\n",
              "    </script>\n",
              "\n",
              "      <script>\n",
              "\n",
              "function displayQuickchartButton(domScope) {\n",
              "  let quickchartButtonEl =\n",
              "    domScope.querySelector('#df-2a7ea9b6-8911-4b0e-b56b-5a6b6e654afc button.colab-df-quickchart');\n",
              "  quickchartButtonEl.style.display =\n",
              "    google.colab.kernel.accessAllowed ? 'block' : 'none';\n",
              "}\n",
              "\n",
              "        displayQuickchartButton(document);\n",
              "      </script>\n",
              "      <style>\n",
              "    .colab-df-container {\n",
              "      display:flex;\n",
              "      flex-wrap:wrap;\n",
              "      gap: 12px;\n",
              "    }\n",
              "\n",
              "    .colab-df-convert {\n",
              "      background-color: #E8F0FE;\n",
              "      border: none;\n",
              "      border-radius: 50%;\n",
              "      cursor: pointer;\n",
              "      display: none;\n",
              "      fill: #1967D2;\n",
              "      height: 32px;\n",
              "      padding: 0 0 0 0;\n",
              "      width: 32px;\n",
              "    }\n",
              "\n",
              "    .colab-df-convert:hover {\n",
              "      background-color: #E2EBFA;\n",
              "      box-shadow: 0px 1px 2px rgba(60, 64, 67, 0.3), 0px 1px 3px 1px rgba(60, 64, 67, 0.15);\n",
              "      fill: #174EA6;\n",
              "    }\n",
              "\n",
              "    [theme=dark] .colab-df-convert {\n",
              "      background-color: #3B4455;\n",
              "      fill: #D2E3FC;\n",
              "    }\n",
              "\n",
              "    [theme=dark] .colab-df-convert:hover {\n",
              "      background-color: #434B5C;\n",
              "      box-shadow: 0px 1px 3px 1px rgba(0, 0, 0, 0.15);\n",
              "      filter: drop-shadow(0px 1px 2px rgba(0, 0, 0, 0.3));\n",
              "      fill: #FFFFFF;\n",
              "    }\n",
              "  </style>\n",
              "\n",
              "      <script>\n",
              "        const buttonEl =\n",
              "          document.querySelector('#df-9fb8b197-cd4b-4965-8cbe-09f68f09f80a button.colab-df-convert');\n",
              "        buttonEl.style.display =\n",
              "          google.colab.kernel.accessAllowed ? 'block' : 'none';\n",
              "\n",
              "        async function convertToInteractive(key) {\n",
              "          const element = document.querySelector('#df-9fb8b197-cd4b-4965-8cbe-09f68f09f80a');\n",
              "          const dataTable =\n",
              "            await google.colab.kernel.invokeFunction('convertToInteractive',\n",
              "                                                     [key], {});\n",
              "          if (!dataTable) return;\n",
              "\n",
              "          const docLinkHtml = 'Like what you see? Visit the ' +\n",
              "            '<a target=\"_blank\" href=https://colab.research.google.com/notebooks/data_table.ipynb>data table notebook</a>'\n",
              "            + ' to learn more about interactive tables.';\n",
              "          element.innerHTML = '';\n",
              "          dataTable['output_type'] = 'display_data';\n",
              "          await google.colab.output.renderOutput(dataTable, element);\n",
              "          const docLink = document.createElement('div');\n",
              "          docLink.innerHTML = docLinkHtml;\n",
              "          element.appendChild(docLink);\n",
              "        }\n",
              "      </script>\n",
              "    </div>\n",
              "  </div>\n"
            ]
          },
          "metadata": {},
          "execution_count": 17
        }
      ]
    },
    {
      "cell_type": "code",
      "source": [
        "def make_icd_10_keyword_pattern(synid_df):\n",
        "  patterns = []\n",
        "  for _, row in synid_df.iterrows():\n",
        "    patterns.append(row[\"Short_Description\"])\n",
        "  return patterns"
      ],
      "metadata": {
        "id": "S25-C5AZWucL"
      },
      "execution_count": null,
      "outputs": []
    },
    {
      "cell_type": "code",
      "source": [
        "keywords = make_icd_10_keyword_pattern(synid_df)\n",
        "keywords[:10]"
      ],
      "metadata": {
        "colab": {
          "base_uri": "https://localhost:8080/"
        },
        "id": "STbmzWgwW8hG",
        "outputId": "59d7699f-89a1-40dc-c345-1b90c12c5d82"
      },
      "execution_count": null,
      "outputs": [
        {
          "output_type": "execute_result",
          "data": {
            "text/plain": [
              "['US thyroid',\n",
              " 'no graphic evidence of malignancy',\n",
              " 'no evidence of malignancy',\n",
              " 'scattered areas of fibroglandular density',\n",
              " 'scattered areas of fibroglandular density',\n",
              " 'BI-RADS 6',\n",
              " 'BI-RADS 5',\n",
              " 'BI-RADS 4C',\n",
              " 'BI-RADS 4B',\n",
              " 'BI-RADS 4A']"
            ]
          },
          "metadata": {},
          "execution_count": 19
        }
      ]
    },
    {
      "cell_type": "code",
      "source": [
        "nlp = spacy.load('en_core_web_sm')\n",
        "phrase_matcher = PhraseMatcher(nlp.vocab)\n",
        "patterns = list(nlp.tokenizer.pipe(keywords))\n",
        "phrase_matcher.add('keywords', patterns)"
      ],
      "metadata": {
        "id": "W0a69f63Y-5z"
      },
      "execution_count": null,
      "outputs": []
    },
    {
      "cell_type": "code",
      "source": [
        "with open(\"page-2.txt\", \"r\") as f:\n",
        "  page_txt = f.read()\n",
        "  # filter the page that have line number instead of code\n",
        "  #if not re.search(\"(P[ ][0-9]+)(,\\s)(L[0-9]+)\", page_txt):\n",
        "  doc = nlp(page_txt)\n",
        "  matches = phrase_matcher(doc)\n",
        "\n",
        "  keyword_list = []\n",
        "  for match_id, start, end in matches:\n",
        "    span = doc[start: end]\n",
        "    keyword_list.append(f\"{span}\")"
      ],
      "metadata": {
        "id": "W21nm7_VXbg2"
      },
      "execution_count": null,
      "outputs": []
    },
    {
      "cell_type": "code",
      "source": [
        "keyword_list"
      ],
      "metadata": {
        "colab": {
          "base_uri": "https://localhost:8080/"
        },
        "id": "L-HCX2ysX3H8",
        "outputId": "0dcb864c-fa0f-49fc-86ad-84a2a89045a0"
      },
      "execution_count": null,
      "outputs": [
        {
          "output_type": "execute_result",
          "data": {
            "text/plain": [
              "['T', 'HHS', 'US']"
            ]
          },
          "metadata": {},
          "execution_count": 22
        }
      ]
    },
    {
      "cell_type": "code",
      "source": [
        "with open(\"page-25.txt\", \"r\") as f:\n",
        "  page_txt = f.read()\n",
        "  # filter the page that have line number instead of code\n",
        "  #if not re.search(\"(P[ ][0-9]+)(,\\s)(L[0-9]+)\", page_txt):\n",
        "  doc = nlp(page_txt)\n",
        "  matches = phrase_matcher(doc)\n",
        "\n",
        "  keyword_list = []\n",
        "  for match_id, start, end in matches:\n",
        "    span = doc[start: end]\n",
        "    keyword_list.append(f\"{span}\")"
      ],
      "metadata": {
        "id": "Ga99oXcsYeZF"
      },
      "execution_count": null,
      "outputs": []
    },
    {
      "cell_type": "code",
      "source": [
        "keyword_list"
      ],
      "metadata": {
        "colab": {
          "base_uri": "https://localhost:8080/"
        },
        "id": "eB-D0G4FZ6sS",
        "outputId": "2e42c010-58c1-4973-82e0-97b5d832ac5a"
      },
      "execution_count": null,
      "outputs": [
        {
          "output_type": "execute_result",
          "data": {
            "text/plain": [
              "['Hypertriglyceridemia',\n",
              " 'Hypertriglyceridemia',\n",
              " 'EKG',\n",
              " 'Hypertension',\n",
              " 'Atrial Fibrillation',\n",
              " 'Headache']"
            ]
          },
          "metadata": {},
          "execution_count": 32
        }
      ]
    },
    {
      "cell_type": "code",
      "source": [
        "with open(\"page-36.txt\", \"r\") as f:\n",
        "  page_txt = f.read()\n",
        "  # filter the page that have line number instead of code\n",
        "  #if not re.search(\"(P[ ][0-9]+)(,\\s)(L[0-9]+)\", page_txt):\n",
        "  doc = nlp(page_txt)\n",
        "  matches = phrase_matcher(doc)\n",
        "\n",
        "  keyword_list = []\n",
        "  for match_id, start, end in matches:\n",
        "    span = doc[start: end]\n",
        "    keyword_list.append(f\"{span}\")"
      ],
      "metadata": {
        "id": "-W4RdswabV3G"
      },
      "execution_count": null,
      "outputs": []
    },
    {
      "cell_type": "code",
      "source": [
        "keyword_list"
      ],
      "metadata": {
        "colab": {
          "base_uri": "https://localhost:8080/"
        },
        "id": "mJgGec4AbYER",
        "outputId": "7e40ee89-461f-487c-fd2e-2efe2c9a78b6"
      },
      "execution_count": null,
      "outputs": [
        {
          "output_type": "execute_result",
          "data": {
            "text/plain": [
              "['Hypertriglyceridemia',\n",
              " 'Hypertriglyceridemia',\n",
              " 'EKG',\n",
              " 'Hypertension',\n",
              " 'Atrial Fibrillation',\n",
              " 'Diplopia',\n",
              " 'Headache',\n",
              " 'Visual Loss',\n",
              " 'Gynecomastia',\n",
              " 'Dysphagia',\n",
              " 'Hematuria']"
            ]
          },
          "metadata": {},
          "execution_count": 34
        }
      ]
    },
    {
      "cell_type": "code",
      "source": [
        "synid_df = pd.read_csv(\"synid_and_keywords_impairment.csv\")\n",
        "keywords = make_icd_10_keyword_pattern(synid_df)"
      ],
      "metadata": {
        "id": "xEqoN5-yidiK"
      },
      "execution_count": null,
      "outputs": []
    },
    {
      "cell_type": "code",
      "source": [
        "phrase_matcher = PhraseMatcher(nlp.vocab)\n",
        "patterns = list(nlp.tokenizer.pipe(keywords))\n",
        "phrase_matcher.add('keywords', patterns)"
      ],
      "metadata": {
        "id": "-G151LL_ij0V"
      },
      "execution_count": null,
      "outputs": []
    },
    {
      "cell_type": "code",
      "source": [
        "with open(\"page-36.txt\", \"r\") as f:\n",
        "  page_txt = f.read()\n",
        "  # filter the page that have line number instead of code\n",
        "  #if not re.search(\"(P[ ][0-9]+)(,\\s)(L[0-9]+)\", page_txt):\n",
        "  doc = nlp(page_txt)\n",
        "  matches = phrase_matcher(doc)\n",
        "\n",
        "  keyword_list = []\n",
        "  for match_id, start, end in matches:\n",
        "    span = doc[start: end]\n",
        "    keyword_list.append(f\"{span}\")"
      ],
      "metadata": {
        "id": "xmNbJ187irjc"
      },
      "execution_count": null,
      "outputs": []
    },
    {
      "cell_type": "code",
      "source": [
        "keyword_list"
      ],
      "metadata": {
        "colab": {
          "base_uri": "https://localhost:8080/"
        },
        "id": "e4toMzolitCG",
        "outputId": "7cdc57c5-fb3e-439a-8fe1-23be3ac2a46f"
      },
      "execution_count": null,
      "outputs": [
        {
          "output_type": "execute_result",
          "data": {
            "text/plain": [
              "['Hypertriglyceridemia',\n",
              " 'Hypertriglyceridemia',\n",
              " 'EKG',\n",
              " 'Hypertension',\n",
              " 'Atrial Fibrillation',\n",
              " 'Diplopia',\n",
              " 'Headache',\n",
              " 'Visual Loss',\n",
              " 'Gynecomastia',\n",
              " 'Dysphagia',\n",
              " 'Hematuria',\n",
              " 'Headaches']"
            ]
          },
          "metadata": {},
          "execution_count": 38
        }
      ]
    },
    {
      "cell_type": "code",
      "source": [
        "wrong_keyword_dict1[30]"
      ],
      "metadata": {
        "colab": {
          "base_uri": "https://localhost:8080/"
        },
        "id": "t3bdIYhJgbNz",
        "outputId": "a0c6ff4c-9446-4837-a735-1753ea56e093"
      },
      "execution_count": null,
      "outputs": [
        {
          "output_type": "execute_result",
          "data": {
            "text/plain": [
              "{'ALP',\n",
              " 'ALT',\n",
              " 'AST',\n",
              " 'Albumin',\n",
              " 'Alkaline Phosphatase',\n",
              " 'Anion Gap',\n",
              " 'Aspartate',\n",
              " 'BUN',\n",
              " 'Bilirubin Total',\n",
              " 'Blood Urea Nitrogen',\n",
              " 'CBC',\n",
              " 'CMP',\n",
              " 'CO2',\n",
              " 'Calcium',\n",
              " 'Chloride',\n",
              " 'Complete Blood Count',\n",
              " 'Comprehensive Metabolic Panel',\n",
              " 'Creatinine',\n",
              " 'Encounter',\n",
              " 'GFR',\n",
              " 'Glucose',\n",
              " 'Hypertriglyceridemia',\n",
              " 'Lipid Panel',\n",
              " 'MI',\n",
              " 'Potassium',\n",
              " 'Sodium',\n",
              " 'Urea',\n",
              " 'Urea Nitrogen',\n",
              " 'ppointment'}"
            ]
          },
          "metadata": {},
          "execution_count": 21
        }
      ]
    },
    {
      "cell_type": "code",
      "source": [
        "keywords = [keyword for keyword in wrong_keyword_dict1[30]]\n",
        "len(keywords)"
      ],
      "metadata": {
        "colab": {
          "base_uri": "https://localhost:8080/"
        },
        "id": "9Jiz1Nlji4t6",
        "outputId": "54ef3417-8146-46fe-d8cd-679a8c13005c"
      },
      "execution_count": null,
      "outputs": [
        {
          "output_type": "execute_result",
          "data": {
            "text/plain": [
              "29"
            ]
          },
          "metadata": {},
          "execution_count": 33
        }
      ]
    },
    {
      "cell_type": "code",
      "source": [
        "len(list(set(keywords)))"
      ],
      "metadata": {
        "colab": {
          "base_uri": "https://localhost:8080/"
        },
        "id": "ACLV0LxtkWji",
        "outputId": "be133bd8-2894-441a-8c07-2ae2281bcca4"
      },
      "execution_count": null,
      "outputs": [
        {
          "output_type": "execute_result",
          "data": {
            "text/plain": [
              "29"
            ]
          },
          "metadata": {},
          "execution_count": 37
        }
      ]
    },
    {
      "cell_type": "code",
      "source": [
        "nlp = spacy.load('en_core_web_sm')"
      ],
      "metadata": {
        "id": "fisKIpBvjLdg"
      },
      "execution_count": null,
      "outputs": []
    },
    {
      "cell_type": "code",
      "source": [
        "phrase_matcher = PhraseMatcher(nlp.vocab)\n",
        "patterns = list(nlp.tokenizer.pipe(keywords))\n",
        "phrase_matcher.add('keywords', patterns)"
      ],
      "metadata": {
        "id": "LLFgaNg-jJF4"
      },
      "execution_count": null,
      "outputs": []
    },
    {
      "cell_type": "code",
      "source": [
        "with open(\"page-30.txt\", \"r\") as f:\n",
        "  page_txt = f.read()\n",
        "  # filter the page that have line number instead of code\n",
        "  #if not re.search(\"(P[ ][0-9]+)(,\\s)(L[0-9]+)\", page_txt):\n",
        "  doc = nlp(page_txt)\n",
        "  matches = phrase_matcher(doc)\n",
        "\n",
        "  keyword_list = []\n",
        "  for match_id, start, end in matches:\n",
        "    span = doc[start: end]\n",
        "    keyword_list.append(f\"{span}\")\n",
        "\n",
        "print(len(keyword_list))\n",
        "len(list(set(keyword_list)))"
      ],
      "metadata": {
        "colab": {
          "base_uri": "https://localhost:8080/"
        },
        "id": "NJcvrEv1jVtm",
        "outputId": "99084aaa-5ce1-4fd3-9d4c-f30f916dadfc"
      },
      "execution_count": null,
      "outputs": [
        {
          "output_type": "stream",
          "name": "stdout",
          "text": [
            "37\n"
          ]
        },
        {
          "output_type": "execute_result",
          "data": {
            "text/plain": [
              "29"
            ]
          },
          "metadata": {},
          "execution_count": 38
        }
      ]
    },
    {
      "cell_type": "code",
      "source": [
        "\n",
        "phrase_matcher = PhraseMatcher(nlp.vocab)\n",
        "\n",
        "keywords = [keyword for keyword in wrong_keyword_dict1[30]]\n",
        "pattern1 = [{'ORTH': keywords}]\n",
        "phrase_matcher.add('keywords', None, pattern1)"
      ],
      "metadata": {
        "colab": {
          "base_uri": "https://localhost:8080/",
          "height": 253
        },
        "id": "9fDJwzw3gg2W",
        "outputId": "80526fd2-bf26-4ca9-87cb-5933bf18ae87"
      },
      "execution_count": null,
      "outputs": [
        {
          "output_type": "error",
          "ename": "TypeError",
          "evalue": "ignored",
          "traceback": [
            "\u001b[0;31m---------------------------------------------------------------------------\u001b[0m",
            "\u001b[0;31mTypeError\u001b[0m                                 Traceback (most recent call last)",
            "\u001b[0;32m<ipython-input-27-13a45877d65f>\u001b[0m in \u001b[0;36m<cell line: 6>\u001b[0;34m()\u001b[0m\n\u001b[1;32m      4\u001b[0m \u001b[0mkeywords\u001b[0m \u001b[0;34m=\u001b[0m \u001b[0;34m[\u001b[0m\u001b[0mkeyword\u001b[0m \u001b[0;32mfor\u001b[0m \u001b[0mkeyword\u001b[0m \u001b[0;32min\u001b[0m \u001b[0mwrong_keyword_dict1\u001b[0m\u001b[0;34m[\u001b[0m\u001b[0;36m30\u001b[0m\u001b[0;34m]\u001b[0m\u001b[0;34m]\u001b[0m\u001b[0;34m\u001b[0m\u001b[0;34m\u001b[0m\u001b[0m\n\u001b[1;32m      5\u001b[0m \u001b[0mpattern1\u001b[0m \u001b[0;34m=\u001b[0m \u001b[0;34m[\u001b[0m\u001b[0;34m{\u001b[0m\u001b[0;34m'ORTH'\u001b[0m\u001b[0;34m:\u001b[0m \u001b[0mkeywords\u001b[0m\u001b[0;34m}\u001b[0m\u001b[0;34m]\u001b[0m\u001b[0;34m\u001b[0m\u001b[0;34m\u001b[0m\u001b[0m\n\u001b[0;32m----> 6\u001b[0;31m \u001b[0mphrase_matcher\u001b[0m\u001b[0;34m.\u001b[0m\u001b[0madd\u001b[0m\u001b[0;34m(\u001b[0m\u001b[0;34m'keywords'\u001b[0m\u001b[0;34m,\u001b[0m \u001b[0;32mNone\u001b[0m\u001b[0;34m,\u001b[0m \u001b[0mpattern1\u001b[0m\u001b[0;34m)\u001b[0m\u001b[0;34m\u001b[0m\u001b[0;34m\u001b[0m\u001b[0m\n\u001b[0m",
            "\u001b[0;32m/usr/local/lib/python3.10/dist-packages/spacy/matcher/phrasematcher.pyx\u001b[0m in \u001b[0;36mspacy.matcher.phrasematcher.PhraseMatcher.add\u001b[0;34m()\u001b[0m\n",
            "\u001b[0;31mTypeError\u001b[0m: unhashable type: 'dict'"
          ]
        }
      ]
    }
  ]
}