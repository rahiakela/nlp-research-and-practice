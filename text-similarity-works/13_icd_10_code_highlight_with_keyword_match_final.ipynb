{
  "nbformat": 4,
  "nbformat_minor": 0,
  "metadata": {
    "colab": {
      "provenance": [],
      "collapsed_sections": [
        "0hK4nU35JVaA",
        "N4dDTs-rJL_h",
        "TycHgKTZJ6a6"
      ],
      "authorship_tag": "ABX9TyOn4rLbxO37Dm+ZBFH4u2tx",
      "include_colab_link": true
    },
    "kernelspec": {
      "name": "python3",
      "display_name": "Python 3"
    },
    "language_info": {
      "name": "python"
    }
  },
  "cells": [
    {
      "cell_type": "markdown",
      "metadata": {
        "id": "view-in-github",
        "colab_type": "text"
      },
      "source": [
        "<a href=\"https://colab.research.google.com/github/rahiakela/nlp-research-and-practice/blob/main/text-similarity-works/13_icd_10_code_highlight_with_keyword_match_final.ipynb\" target=\"_parent\"><img src=\"https://colab.research.google.com/assets/colab-badge.svg\" alt=\"Open In Colab\"/></a>"
      ]
    },
    {
      "cell_type": "markdown",
      "source": [
        "##Setup"
      ],
      "metadata": {
        "id": "u6vazPC0Ja4i"
      }
    },
    {
      "cell_type": "code",
      "source": [
        "!pip -q install spacy\n",
        "!python -m spacy download en_core_web_sm\n",
        "\n",
        "!pip install pillow\n",
        "\n",
        "!sudo apt install build-essential libpoppler-cpp-dev pkg-config python3-dev\n",
        "!pip install -U pdftotext\n",
        "!pip install PyPDF2\n",
        "!pip install fitz\n",
        "!pip install PyMuPDF"
      ],
      "metadata": {
        "id": "gdwgVvXuJdz9"
      },
      "execution_count": null,
      "outputs": []
    },
    {
      "cell_type": "code",
      "source": [
        "!pip install fuzzywuzzy"
      ],
      "metadata": {
        "id": "4QPcnYT5AKpj"
      },
      "execution_count": null,
      "outputs": []
    },
    {
      "cell_type": "code",
      "source": [
        "import numpy as np\n",
        "import pandas as pd\n",
        "import re\n",
        "import os\n",
        "import sys\n",
        "import glob\n",
        "import difflib\n",
        "import pickle\n",
        "from pathlib import Path\n",
        "from difflib import SequenceMatcher\n",
        "\n",
        "import fitz\n",
        "import pdftotext\n",
        "from PyPDF2 import PdfFileReader, PdfReader, PdfFileWriter, PdfWriter\n",
        "\n",
        "import spacy\n",
        "from spacy.matcher import PhraseMatcher\n",
        "from spacy.lang.en import English\n",
        "\n",
        "import nltk\n",
        "from nltk.tokenize import sent_tokenize\n",
        "from nltk.tokenize import word_tokenize\n",
        "from nltk.corpus import stopwords\n",
        "from string import punctuation\n",
        "from fuzzywuzzy import fuzz\n",
        "from fuzzywuzzy import process"
      ],
      "metadata": {
        "id": "gKbd7WsfyYX3"
      },
      "execution_count": null,
      "outputs": []
    },
    {
      "cell_type": "code",
      "source": [
        "nltk.download('punkt')\n",
        "nltk.download('stopwords')"
      ],
      "metadata": {
        "id": "Imv6fB5gPBe2"
      },
      "execution_count": null,
      "outputs": []
    },
    {
      "cell_type": "code",
      "source": [
        "stop_words = set(stopwords.words('english'))"
      ],
      "metadata": {
        "id": "vcyPFuUZgdRV"
      },
      "execution_count": 2,
      "outputs": []
    },
    {
      "cell_type": "code",
      "source": [
        "!mkdir -p input_files"
      ],
      "metadata": {
        "id": "2dfljcHuOVw3"
      },
      "execution_count": 5,
      "outputs": []
    },
    {
      "cell_type": "markdown",
      "source": [
        "##Core Classes"
      ],
      "metadata": {
        "id": "9oNqjgIsRpNm"
      }
    },
    {
      "cell_type": "code",
      "source": [
        "class Highlighter:\n",
        "  def __init__(self, code_df):\n",
        "    # loading and updating patterns for ICD-10 code\n",
        "    self.nlp_code10 = English()\n",
        "    self.nlp_code10.add_pipe(\"entity_ruler\").from_disk(\"icd10_code_patterns-v5.jsonl\")\n",
        "\n",
        "    # define icd-10 code dataset\n",
        "    self.code_df = code_df\n",
        "    self.text_list = None\n",
        "\n",
        "    # define required directory path\n",
        "    self.PDF_FILES_PATH = \"pdf-files\"\n",
        "    self.TXT_FILES_PATH = \"txt-files\"\n",
        "    self.OUTPUT_FILES_PATH = \"output\"\n",
        "    create_directory(self.PDF_FILES_PATH)\n",
        "    create_directory(self.TXT_FILES_PATH)\n",
        "    create_directory(self.OUTPUT_FILES_PATH)\n",
        "\n",
        "  def split_pdf(self, pdf_path):\n",
        "      pdf_in_file = open(pdf_path, \"rb\")\n",
        "      pdf = PdfReader(pdf_in_file)\n",
        "      pdf_list = []\n",
        "      for page in range(len(pdf.pages)):\n",
        "          input_pdf = PdfReader(pdf_in_file)\n",
        "          output = PdfWriter()\n",
        "          #output.addPage(input_pdf.getPage(page))\n",
        "          output.add_page(input_pdf.pages[page])\n",
        "          with open(f\"{self.PDF_FILES_PATH}/page-{page}.pdf\", \"wb\") as outputStream:\n",
        "              output.write(outputStream)\n",
        "              pdf_list.append(f\"page-{page}.pdf\")\n",
        "      return pdf_list\n",
        "\n",
        "  def extract_text_from_pdf(self, pdf_list):\n",
        "    txt_file_list = []\n",
        "    i = 0\n",
        "    for pdf_file in pdf_list:\n",
        "      with open(os.path.join(self.PDF_FILES_PATH, pdf_file), \"rb\") as f:\n",
        "        pdf = pdftotext.PDF(f)\n",
        "\n",
        "      # Read all the text into one string\n",
        "      pdf_text = \"\\n\\n\".join(pdf)\n",
        "\n",
        "      # write text into file\n",
        "      with open(f\"{self.TXT_FILES_PATH}/page-{str(i)}.txt\", \"a\") as f:\n",
        "        f.write(pdf_text)\n",
        "      txt_file_list.append(f\"{self.TXT_FILES_PATH}/page-{str(i)}.txt\")\n",
        "      i += 1\n",
        "    self.text_list = txt_file_list\n",
        "    return txt_file_list\n",
        "\n",
        "  def highlight_icd_code(self, icd10_code_dict, w_ratio=False, match_threshold=30, coordinate=False, pdf_file_name=None, cords_file_name=None):\n",
        "      pdf_file = fitz.open(pdf_file_name)\n",
        "      # create file to write coordinate\n",
        "      txt_output_file_name = open(f\"{self.OUTPUT_FILES_PATH}/{cords_file_name}\", \"a\")\n",
        "      # add file header \n",
        "      txt_output_file_name.write(\"| Page | Found Code | Actual ICD10-Code | Code Line # | ICD 10 description | Matched Line | Common Words | Matched Line # | confidence |\\n \")\n",
        "\n",
        "      def highlight_code(p_highlight, icd10_code, num_page):\n",
        "        match_list = []\n",
        "        sentence_list = []\n",
        "        line_list = []\n",
        "        keyword = \"\"\n",
        "        # do the color coding\n",
        "        keyword = self.get_keyword(icd10_code)\n",
        "        if len(keyword) > 0:\n",
        "          match_list, sentence_list, line_list = self.get_best_token_match(icd10_code, num_page, w_ratio, match_threshold)\n",
        "          # highlight code if threshold is more than 30\n",
        "          if match_list and match_list[0][1] >= match_threshold:\n",
        "            page_highlight = page.add_highlight_annot(p_highlight)\n",
        "            page_highlight.set_colors(stroke=[0.66, 1, 0.07])  # light green\n",
        "            page_highlight.update()\n",
        "        return match_list, sentence_list, line_list, keyword\n",
        "\n",
        "      def highlight_common_words(page_obj, y_coords_array, curr_y_coord, common_word_list):\n",
        "        highlight_coords_dict = {}\n",
        "        #get rect for all words\n",
        "        page_content = page_obj.get_text(\"words\", sort=False)  \n",
        "        # find closet y coordinate value\n",
        "        closet_y_coords = find_nearest(y_coords_array, value=curr_y_coord)\n",
        "        for content in page_content:\n",
        "          for common_word in common_word_list:\n",
        "            curr_word = clean_text(content[4])[0] if len(clean_text(content[4])) > 0 else \"\"\n",
        "            if curr_word == common_word and (closet_y_coords-10) <= content[1] <= (closet_y_coords + 10):\n",
        "              #if content[4].replace(\"(\", \"\").replace(\")\", \"\") == common_word and (closet_y_coords-10) <= content[1] <= (closet_y_coords + 10):\n",
        "              rect_comp = fitz.Rect(content[0], content[1], content[2], content[3])\n",
        "              #print(f\"Line #{content[6]}-{content[4]} > {rect_comp}\")\n",
        "              highlight = page_obj.add_highlight_annot(rect_comp)\n",
        "              highlight.set_colors(stroke=[1, 1, 0])\n",
        "              highlight.update()\n",
        "              highlight_coords_dict[common_word] = rect_comp\n",
        "        return highlight_coords_dict\n",
        "              \n",
        "      for page_num, page in enumerate(pdf_file):\n",
        "        # highlight ICD-10 code\n",
        "        if page_num in icd10_code_dict:\n",
        "          for code in icd10_code_dict[page_num]:\n",
        "            highlight_list = page.search_for(code)\n",
        "            #print(f\"Code: {code}, Coordinate: {highlight_list}\")\n",
        "            # prepare list for y0 coord value\n",
        "            y_coords_list = [highlight[1] for highlight in highlight_list]\n",
        "            for highlight in highlight_list:\n",
        "              # highlight ICD-10 code  \n",
        "              match_list, sentence_list, line_list, keyword = highlight_code(highlight, code, page_num)\n",
        "              # write all info into text file\n",
        "              curr_match_score = 0.0\n",
        "              num_page = page_num + 1\n",
        "              for idx, match_found in enumerate(match_list):\n",
        "                # match_found: ('Diagnosis: Encntr for general adult medical exam w/o abnormal findings (Z00.00)', 100)\n",
        "                max_match_score = match_found[1]\n",
        "                max_match_sent = match_found[0]\n",
        "                if max_match_score >= match_threshold:\n",
        "                  curr_match_score = max_match_score\n",
        "                  common_words = get_common_words(keyword, max_match_sent)\n",
        "                  highlight_coords_dict = highlight_common_words(page, y_coords_list, highlight[1], common_words)\n",
        "                  # | Page | Found Code | Actual ICD10-Code | Code Line # | ICD 10 description | Matched Line| Common Words | Matched Line # | confidence | \n",
        "                  code_cors_output = f\"|Page-{num_page} | {code} | {reverse_code_pattern(code)} | {line_list} | {keyword if keyword else 'Not available'} | {max_match_sent} | {common_words} | {sentence_list.index(max_match_sent) + 1} | {max_match_score} |\"\n",
        "                  txt_output_file_name.write(\"%s\\n\" % code_cors_output)\n",
        "                  txt_output_file_name.write(\"%s\\n\" % f\"{highlight_coords_dict}\")\n",
        "              if coordinate and curr_match_score >= match_threshold:\n",
        "                txt_output_file_name.write(\"%s\\n\" % f\"|{highlight}|\")\n",
        "              txt_output_file_name.write(\"\\n\") # add extra line on every match code\n",
        "\n",
        "      txt_output_file_name.close()\n",
        "      pdf_output_file_name = f\"{self.OUTPUT_FILES_PATH}/{pdf_file_name.split('/')[1].split('.')[0]}_output.pdf\"\n",
        "      pdf_file.save(pdf_output_file_name, garbage=4, deflate=True, clean=True)\n",
        "\n",
        "      return pdf_output_file_name, cords_file_name\n",
        "\n",
        "  def get_opt_pattern(self, icd_10_code):\n",
        "    # create alternate pattern\n",
        "    code_arr = icd_10_code.split(\".\")\n",
        "    if len(code_arr) > 1:\n",
        "      code1 = f\"{code_arr[0]}. {code_arr[1]}\"\n",
        "      code2 = f\"{code_arr[0]} .{code_arr[1]}\"\n",
        "      code3 = f\"{code_arr[0]} . {code_arr[1]}\"\n",
        "      return [code1, code2, code3]\n",
        "    else:\n",
        "      return icd_10_code\n",
        "\n",
        "  def search_icd_code(self, txt_list):\n",
        "    pdf_page_vocab = {}\n",
        "    for txt_file in txt_list:\n",
        "      with open(txt_file, \"r\") as f:\n",
        "        page_txt = f.read()\n",
        "\n",
        "        # check the page that have line number instead of code\n",
        "        index_page = False\n",
        "        if re.search(\"(P[ ][0-9]+)(,\\s)(L[0-9]+)\", page_txt):\n",
        "          index_page = True\n",
        "\n",
        "        doc = self.nlp_code10(page_txt)\n",
        "        code_list = []\n",
        "        for ent in doc.ents:\n",
        "          if index_page:\n",
        "            # check the code contain letter \"L\"\n",
        "            if re.search(\"(L[0-9]+)\", ent.text):\n",
        "              continue\n",
        "            else:\n",
        "              code_list.append(ent.text)\n",
        "          else:\n",
        "            code_list.append(ent.text)\n",
        "\n",
        "        #code_list = [ent.text for ent in doc.ents if not re.search(\"(P[ ][0-9]+)(,\\s)(L[0-9]+)\", ent.text)]\n",
        "        if len(code_list) != 0:\n",
        "          page_number = int(txt_file.split(\"/\")[1].split(\".\")[0].split(\"-\")[1])\n",
        "          pdf_page_vocab[page_number] = list(set(code_list)) \n",
        "          # print(f\"Page[{txt_file.split('/')[1]}]: {code_list}\")\n",
        "    return pdf_page_vocab\n",
        "\n",
        "  def get_keyword(self, p_code):\n",
        "    keyword = \"\"\n",
        "    # reverse code if required\n",
        "    code = reverse_code_pattern(p_code)\n",
        "    # get keyword from dataset\n",
        "    keyword_list = list(self.code_df.loc[self.code_df[\"Code\"] == code][\"Keyword\"])\n",
        "    if len(keyword_list) > 0:\n",
        "      keyword = keyword_list[0]\n",
        "    return keyword\n",
        "\n",
        "  def get_best_token_match(self, p_code, num_page, w_ratio, match_threshold):\n",
        "    # Step 1: reverse code pattern\n",
        "    reversed_icd_code = reverse_code_pattern(p_code)\n",
        "    # Step 2: fetch keyword based on code \n",
        "    keyword = self.get_keyword(reversed_icd_code)\n",
        "    # Step 3: prepare sentence list \n",
        "    sentence_list = get_sentence_list(self.text_list, num_page)\n",
        "    # Step 4: get best match token ratio or wratio\n",
        "    if w_ratio:\n",
        "      match_list = [\n",
        "        (sentence, fuzz.WRatio(keyword, sentence)) \n",
        "        for sentence in sentence_list if fuzz.WRatio(keyword, sentence) > match_threshold\n",
        "      ]\n",
        "    else:\n",
        "      match_list = [\n",
        "        (sentence, fuzz.token_set_ratio(keyword, sentence)) \n",
        "        for sentence in sentence_list if fuzz.token_set_ratio(keyword, sentence) > match_threshold\n",
        "      ]\n",
        "    # Step 5: get sentence line\n",
        "    line_list = get_sentence_line(p_code, sentence_list)\n",
        "    return sort_tuple(match_list), sentence_list, line_list\n",
        "\n",
        "  def get_match_sentence_and_line_data(self, p_code, num_page):\n",
        "    # Step 1: reverse code pattern\n",
        "    reversed_icd_code = reverse_code_pattern(p_code)\n",
        "    # Step 2: fetch keyword based on code \n",
        "    keyword = self.get_keyword(reversed_icd_code)\n",
        "    # Step 3: prepare sentence list \n",
        "    sentence_list = get_sentence_list(self.text_list, num_page)\n",
        "    # Step 4: get best 3 match ratio \n",
        "    match_list = process.extract(keyword, sentence_list, scorer = fuzz.ratio, limit = 3)\n",
        "    # Step 5: get sentence line\n",
        "    line_list = get_sentence_line(p_code, sentence_list)\n",
        "    return match_list, sentence_list, line_list\n",
        "\n",
        "def find_nearest(array, value):\n",
        "  array = np.asarray(array)\n",
        "  idx = (np.abs(array - value)).argmin()\n",
        "  return array[idx]\n",
        "\n",
        "def get_common_words(sent1, sent2):\n",
        "  clean_token1 = clean_text(sent1)\n",
        "  clean_token2 = clean_text(sent2)\n",
        "  token_set1 = set(clean_token1)\n",
        "  token_set2 = set(clean_token2)\n",
        "  return list(token_set1 & token_set2)\n",
        "  \n",
        "def clean_text(sent):\n",
        "  # tokenize sentence\n",
        "  sent1 = word_tokenize(sent)\n",
        "  # filter stop words\n",
        "  filtered_sent = [w for w in sent1 if not w.lower() in stop_words]\n",
        "  filtered_sent = [w for w in filtered_sent if re.sub(re.compile('\\W'), '', w)]\n",
        "  return filtered_sent\n",
        "\n",
        "def get_sentence_line(p_code, sentence_list):\n",
        "  line_list = [(line + 1) for line, sent in enumerate(sentence_list) if p_code in sent]\n",
        "  return line_list\n",
        "\n",
        "def get_sentence_list(text_list, num_page):\n",
        "  with open(f\"{text_list[num_page]}\", \"r\") as f:\n",
        "    lines = [line.rstrip('\\n') for line in f]\n",
        "    sentence_list = [\" \".join(line.split()) for line in lines] # Remove extra spaces, tabs, and line breaks\n",
        "  return sentence_list\n",
        "\n",
        "def reverse_code_pattern(p_code):\n",
        "  orig_code = p_code\n",
        "\n",
        "  # check for code contains space(\" \")\n",
        "  tmp_code = orig_code.split(\" \")\n",
        "  if len(tmp_code) > 1:\n",
        "    orig_code = f\"{tmp_code[0].strip()}.{tmp_code[1].strip()}\"\n",
        "\n",
        "  # check for code contains dot(\".\")\n",
        "  tmp_code = p_code.split(\".\")\n",
        "  if len(tmp_code) > 1:\n",
        "    orig_code = f\"{tmp_code[0].strip()}.{tmp_code[1].strip()}\"\n",
        "  \n",
        "  # check for code contains comma(\",\")\n",
        "  tmp_code = p_code.split(\",\")\n",
        "  if len(tmp_code) == 2:\n",
        "    orig_code = f\"{tmp_code[0].strip()}.{tmp_code[1].strip()}\"\n",
        "  elif len(tmp_code) == 2:\n",
        "    orig_code = f\"{tmp_code[0].strip()}.{tmp_code[2].strip()}\"\n",
        "\n",
        "  # handle if the first char of code is missing\n",
        "  alphabats = {\"Z\": \"2\", \"B\": \"8\", \"O\": \"0\", \"S\": \"5\", \"l\": \"1\", \"G\": \"6\", \"o\": \"9\", \"i\": \"1\"}\n",
        "  for key, val in alphabats.items():\n",
        "    # replcae char on 0 index\n",
        "    if orig_code.find(val) == 0:\n",
        "      #orig_code = orig_code.replace(val, key)\n",
        "      orig_code = replacer(orig_code, key, 0)\n",
        "    # replcae char on 1 index\n",
        "    if orig_code.find(key) == 1:\n",
        "      orig_code = replacer(orig_code, val, 1)\n",
        "      # replcae char on 2 index\n",
        "      if orig_code.find(key) == 2:\n",
        "        orig_code = replacer(orig_code, val, 2)\n",
        "      break\n",
        "\n",
        "  return orig_code\n",
        "\n",
        "def replacer(s, newstring, index, nofail=False):\n",
        "  # raise an error if index is outside of the string\n",
        "  if not nofail and index not in range(len(s)):\n",
        "      raise ValueError(\"index outside given string\")\n",
        "\n",
        "  # if not erroring, but the index is still not in the correct range..\n",
        "  if index < 0:  # add it to the beginning\n",
        "      return newstring + s\n",
        "  if index > len(s):  # add it to the end\n",
        "      return s + newstring\n",
        "\n",
        "  # insert the new string between \"slices\" of the original\n",
        "  return s[:index] + newstring + s[index + 1:]\n",
        "\n",
        "def sort_tuple(p_tup):\n",
        "  return (sorted(p_tup, key = lambda x: x[1], reverse=True)) \n",
        "\n",
        "def create_directory(dir_name):\n",
        "  if not os.path.exists(dir_name):\n",
        "    os.makedirs(dir_name)"
      ],
      "metadata": {
        "id": "jRYlndgDUtds"
      },
      "execution_count": 3,
      "outputs": []
    },
    {
      "cell_type": "markdown",
      "source": [
        "##Keyword Matching & Highlighting "
      ],
      "metadata": {
        "id": "7s7ZxYMUBAol"
      }
    },
    {
      "cell_type": "markdown",
      "source": [
        "- Step 1 - Z87.5\n",
        "- Step 2 - Personal history of complications of pregnancy, childbirth and the puerperium\n",
        "- Step 3 - Page keyword\n",
        "- Step 4 - calculate cosine similirity\n",
        "- Step 5 - \"Green\" > 60% otherwise \"Yellow\""
      ],
      "metadata": {
        "id": "9KDyJlx9bIH5"
      }
    },
    {
      "cell_type": "code",
      "source": [
        "!rm -rf input_files\n",
        "!mkdir -p input_files\n",
        "!rm -rf output\n",
        "!mkdir -p output"
      ],
      "metadata": {
        "id": "wfJwndx9vcTP"
      },
      "execution_count": 4,
      "outputs": []
    },
    {
      "cell_type": "code",
      "source": [
        "def purge(file_path):\n",
        "  for f in glob.glob(file_path):\n",
        "    os.remove(f)"
      ],
      "metadata": {
        "id": "32V_ohLAgvLg"
      },
      "execution_count": 5,
      "outputs": []
    },
    {
      "cell_type": "code",
      "source": [
        "# Step-0: create highlighter instance\n",
        "INPUT_PDF_FILES_PATH = \"input_files\"\n",
        "code_df = pd.read_csv(\"icd_10_code_and_keywords_v2.csv\")\n",
        "\n",
        "highlighter = Highlighter(code_df)"
      ],
      "metadata": {
        "id": "leBmw505CQUl"
      },
      "execution_count": 6,
      "outputs": []
    },
    {
      "cell_type": "code",
      "source": [
        "%%time\n",
        "\n",
        "for pdf_file in os.listdir(INPUT_PDF_FILES_PATH):\n",
        "  pdf_file_name = f\"{INPUT_PDF_FILES_PATH}/{pdf_file}\"\n",
        "  cords_file_name = f\"{pdf_file_name.split('/')[1].split('.')[0]}_cords.txt\"\n",
        "\n",
        "  # Step-1: splitting pdf file\n",
        "  pdf_list = highlighter.split_pdf(pdf_file_name)\n",
        "\n",
        "  # Step-2: Extracting text from pdf\n",
        "  txt_list = highlighter.extract_text_from_pdf(pdf_list)\n",
        "\n",
        "  # Step-3: Searching ICD-10 code\n",
        "  icd10_code_dict = highlighter.search_icd_code(txt_list)\n",
        "\n",
        "  # Step-4: Highlighting ICD-10 code into pdf\n",
        "  pdf_output_file, txt_output_file = highlighter.highlight_icd_code(icd10_code_dict,\n",
        "                                                                    w_ratio=False,\n",
        "                                                                    match_threshold=45,\n",
        "                                                                    coordinate=True,\n",
        "                                                                    pdf_file_name=pdf_file_name,\n",
        "                                                                    cords_file_name=cords_file_name)\n",
        "  print(f\"File[{pdf_output_file}] is saved after highlighting ICD-10 code\")\n",
        "  print(f\"Highlighted coordinates are saved into [{txt_output_file}] file.\")\n",
        "\n",
        "  # remove all pdf and text files\n",
        "  purge(\"pdf-files/*.pdf\")\n",
        "  purge(\"txt-files/*.txt\")\n",
        "  pdf_list = []\n",
        "  txt_list = []"
      ],
      "metadata": {
        "id": "hiOT-aTfedMT",
        "outputId": "adaefd98-445d-463f-de94-35ea23a03114",
        "colab": {
          "base_uri": "https://localhost:8080/"
        }
      },
      "execution_count": 8,
      "outputs": [
        {
          "output_type": "stream",
          "name": "stdout",
          "text": [
            "Code: E78.3, Coordinate: [Rect(226.35824584960938, 520.47998046875, 243.45660400390625, 528.48388671875)]\n",
            "Code: Z20.822, Coordinate: [Rect(311.13006591796875, 114.6400146484375, 337.1675720214844, 122.6439208984375)]\n",
            "Code: R05.9, Coordinate: [Rect(135.0170440673828, 307.5999450683594, 152.56533813476562, 315.6038513183594)]\n",
            "Code: E78.3, Coordinate: [Rect(226.3582305908203, 610.0399780273438, 243.45651245117188, 617.0433959960938)]\n",
            "Code: E78.3, Coordinate: [Rect(226.35824584960938, 492.6400146484375, 243.45660400390625, 500.6439208984375)]\n",
            "Code: Z12.5, Coordinate: [Rect(127.9977035522461, 609.760009765625, 145.24603271484375, 617.763916015625)]\n",
            "Code: 200.00, Coordinate: [Rect(344.1510009765625, 599.4400024414062, 364.45306396484375, 607.4439086914062)]\n",
            "Code: R05.9, Coordinate: [Rect(135.01699829101562, 426.8800048828125, 152.56529235839844, 434.8839111328125)]\n",
            "Code: Z00.00, Coordinate: [Rect(344.9269104003906, 74.320068359375, 365.5649108886719, 82.323974609375), Rect(344.9268798828125, 237.0400390625, 365.56488037109375, 245.0439453125), Rect(343.8603820800781, 409.8399658203125, 365.29852294921875, 417.8438720703125), Rect(343.8603210449219, 572.5599975585938, 365.2984619140625, 580.5639038085938)]\n",
            "Code: C02, Coordinate: [Rect(129.1076202392578, 112.64007568359375, 139.90660095214844, 122.64495849609375)]\n",
            "Code: Z00.00, Coordinate: [Rect(340.9806213378906, 344.5599670410156, 362.41876220703125, 352.5638732910156)]\n",
            "Code: R10.32, Coordinate: [Rect(204.4337158203125, 689.6400146484375, 225.87184143066406, 698.6444091796875)]\n",
            "Code: J01.00, Coordinate: [Rect(224.81040954589844, 273.5199890136719, 244.68048095703125, 281.5238952636719), Rect(170.98358154296875, 529.1199951171875, 190.42173767089844, 537.1239013671875), Rect(224.81040954589844, 588.8800048828125, 244.68048095703125, 596.8839111328125)]\n",
            "Code: Z00.00, Coordinate: [Rect(309.3782653808594, 324.6399841308594, 329.82427978515625, 332.6438903808594), Rect(312.761962890625, 435.0400085449219, 333.3520202636719, 443.0439147949219)]\n",
            "Code: K46.9, Coordinate: [Rect(321.94244384765625, 554.7999877929688, 338.2076721191406, 562.8038940429688)]\n",
            "Code: R05, Coordinate: [Rect(400.841552734375, 162.6400146484375, 411.1605529785156, 170.6439208984375), Rect(285.6754150390625, 188.32000732421875, 295.3431091308594, 196.32391357421875), Rect(103.75003814697266, 248.08001708984375, 114.06904602050781, 256.08392333984375)]\n",
            "Code: Z68.25, Coordinate: [Rect(454.49237060546875, 103.1199951171875, 474.5064392089844, 111.1239013671875), Rect(521.5899047851562, 400.9599914550781, 542.4678344726562, 408.9638977050781), Rect(103.02224731445312, 562.9600219726562, 123.61276245117188, 570.9639282226562), Rect(103.02202606201172, 647.6400146484375, 123.61186218261719, 656.6444091796875)]\n",
            "Code: 287.5, Coordinate: [Rect(251.34584045410156, 460.9599914550781, 268.59423828125, 468.9638977050781)]\n",
            "Code: R10.32, Coordinate: [Rect(172.39942932128906, 554.7999877929688, 193.13340759277344, 562.8038940429688)]\n",
            "Code: S93.411A, Coordinate: [Rect(328.74658203125, 614.5599975585938, 359.2887878417969, 622.5639038085938)]\n",
            "Code: 278.9, Coordinate: [Rect(540.9680786132812, 103.1199951171875, 558.0663452148438, 111.1239013671875)]\n",
            "Code: E78.3, Coordinate: [Rect(286.745849609375, 128.55999755859375, 303.4111022949219, 136.56390380859375), Rect(194.2013397216797, 222.4000244140625, 211.29969787597656, 230.4039306640625), Rect(380.8734130859375, 273.5199890136719, 397.8218688964844, 281.5238952636719), Rect(465.8253173828125, 324.6399841308594, 482.77374267578125, 332.6438903808594), Rect(194.5679473876953, 495.0400085449219, 211.0995635986328, 503.0439147949219)]\n",
            "Code: 268.25, Coordinate: [Rect(113.31713104248047, 196.47998046875, 133.76315307617188, 204.48388671875), Rect(137.31488037109375, 469.6000061035156, 157.7609405517578, 477.6039123535156), Rect(518.2542724609375, 495.0400085449219, 539.2763671875, 503.0439147949219), Rect(379.8569030761719, 529.1199951171875, 401.2950134277344, 537.1239013671875)]\n",
            "Code: M54.5, Coordinate: [Rect(254.88217163085938, 640.0, 271.8136901855469, 648.00390625)]\n",
            "Code: 212.5, Coordinate: [Rect(465.8252258300781, 435.0400085449219, 482.7736511230469, 443.0439147949219)]\n",
            "Code: R50.9, Coordinate: [Rect(100.55033874511719, 350.0799865722656, 117.3487319946289, 358.0838928222656), Rect(100.64032745361328, 375.5199890136719, 117.88866424560547, 383.5238952636719)]\n",
            "Code: Z78.9, Coordinate: [Rect(199.7208251953125, 196.47998046875, 216.81918334960938, 204.48388671875), Rect(197.50103759765625, 400.9599914550781, 214.29942321777344, 408.9638977050781), Rect(365.6715087890625, 460.9599914550781, 382.2031555175781, 468.9638977050781), Rect(260.1349792480469, 554.7999877929688, 276.9333190917969, 562.8038940429688), Rect(310.86016845703125, 588.8800048828125, 328.1085510253906, 596.8839111328125), Rect(338.2874755859375, 640.0, 354.6859130859375, 648.00390625)]\n",
            "Code: R53.83, Coordinate: [Rect(343.0710144042969, 188.32000732421875, 364.0929870605469, 196.32391357421875)]\n",
            "Code: L73.9, Coordinate: [Rect(116.20220947265625, 400.9599914550781, 132.06748962402344, 408.9638977050781)]\n",
            "Code: R03, Coordinate: [Rect(31.517051696777344, 135.96002197265625, 41.116249084472656, 144.96441650390625)]\n",
            "Code: D69.6, Coordinate: [Rect(282.7194519042969, 460.9599914550781, 299.6510009765625, 468.9638977050781)]\n",
            "Code: 220.822, Coordinate: [Rect(281.5649719238281, 276.6400146484375, 307.2665100097656, 284.6439208984375)]\n",
            "Code: Z20.822, Coordinate: [Rect(235.48939514160156, 164.79998779296875, 261.1909484863281, 172.80389404296875)]\n",
            "Code: R03.0, Coordinate: [Rect(287.4623718261719, 223.84002685546875, 305.3106994628906, 231.84393310546875)]\n",
            "Code: 278.9, Coordinate: [Rect(131.68734741210938, 64.0, 150.5855255126953, 72.00390625)]\n",
            "Code: E78.3, Coordinate: [Rect(149.98558044433594, 215.44000244140625, 166.78396606445312, 223.44390869140625)]\n",
            "Code: Z68.25, Coordinate: [Rect(204.43373107910156, 164.08001708984375, 225.87185668945312, 172.08392333984375)]\n",
            "Code: 278.9, Coordinate: [Rect(80.9322280883789, 220.0, 98.03057861328125, 228.00390625)]\n",
            "Code: Z20.822, Coordinate: [Rect(235.48936462402344, 40.0, 261.19091796875, 48.00390625)]\n",
            "Code: R03.0, Coordinate: [Rect(183.37237548828125, 70.47998046875, 202.7205047607422, 78.48388671875), Rect(287.46240234375, 213.0400390625, 305.31072998046875, 221.0439453125)]\n",
            "Code: E78. 3, Coordinate: [Rect(149.62564086914062, 221.4400634765625, 164.62420654296875, 229.4439697265625), Rect(166.78399658203125, 221.4400634765625, 169.02378845214844, 229.4439697265625)]\n",
            "Code: E78.3, Coordinate: [Rect(384.09649658203125, 61.5999755859375, 402.76153564453125, 69.6038818359375)]\n",
            "Code: R03.0, Coordinate: [Rect(288.3623046875, 426.8800048828125, 305.91064453125, 434.8839111328125)]\n",
            "Code: E78.3, Coordinate: [Rect(150.7355194091797, 382.0, 167.68389892578125, 390.00390625)]\n",
            "Code: J01.10, Coordinate: [Rect(122.4682388305664, 223.8399658203125, 143.10626220703125, 231.8438720703125)]\n",
            "Code: R05, Coordinate: [Rect(512.4308471679688, 54.60003662109375, 524.1898193359375, 63.60443115234375), Rect(59.274314880371094, 182.08001708984375, 69.35334777832031, 190.08392333984375), Rect(105.37989044189453, 293.44000244140625, 115.54890441894531, 301.44390869140625)]\n",
            "Code: R05.9, Coordinate: [Rect(105.37989044189453, 293.44000244140625, 122.32825469970703, 301.44390869140625)]\n",
            "Code: E78.3, Coordinate: []\n",
            "Code: R53.83, Coordinate: [Rect(447.8690185546875, 54.60003662109375, 471.3388671875, 63.60443115234375)]\n",
            "Code: 278.9, Coordinate: [Rect(360.775390625, 64.00006103515625, 380.4234619140625, 72.00396728515625)]\n",
            "Code: R03.0, Coordinate: [Rect(287.4623718261719, 223.8399658203125, 305.3106994628906, 231.8438720703125)]\n",
            "Code: 268.25, Coordinate: [Rect(261.45489501953125, 64.00006103515625, 285.21258544921875, 72.00396728515625)]\n",
            "Code: Z68.25, Coordinate: [Rect(204.4337615966797, 364.4800109863281, 225.87188720703125, 372.4839172363281)]\n",
            "Code: Z78.9, Coordinate: [Rect(80.9322280883789, 412.0, 98.03057861328125, 420.00390625)]\n",
            "Code: R53.83, Coordinate: [Rect(63.62053298950195, 339.0400085449219, 85.37828063964844, 347.0439147949219)]\n",
            "Code: R05, Coordinate: [Rect(59.27430725097656, 322.0, 69.35334014892578, 330.00390625)]\n",
            "Code: E66.3, Coordinate: [Rect(148.33578491210938, 356.08001708984375, 165.28416442871094, 364.08392333984375)]\n",
            "Code: Z20.828, Coordinate: [Rect(212.66758728027344, 223.8399658203125, 238.2010955810547, 231.8438720703125)]\n",
            "Code: E78.3, Coordinate: [Rect(278.8232727050781, 61.5999755859375, 297.8714294433594, 69.6038818359375), Rect(150.7355194091797, 171.280029296875, 167.68389892578125, 179.283935546875), Rect(199.54087829589844, 291.52001953125, 214.53944396972656, 299.52392578125), Rect(196.3911590576172, 725.6799926757812, 213.63949584960938, 733.6838989257812)]\n",
            "Code: E78.3, Coordinate: [Rect(207.73007202148438, 336.1600036621094, 216.8791961669922, 344.1639099121094)]\n",
            "Code: R05, Coordinate: [Rect(59.27429962158203, 164.79998779296875, 69.35333251953125, 172.80389404296875), Rect(105.37987518310547, 276.6399841308594, 115.54888916015625, 284.6438903808594)]\n",
            "Code: R05.9, Coordinate: [Rect(105.37987518310547, 276.6399841308594, 122.32823944091797, 284.6438903808594)]\n",
            "Code: R03.0, Coordinate: [Rect(287.4624328613281, 258.1600341796875, 305.3107604980469, 266.1639404296875)]\n",
            "Code: J01.00, Coordinate: [Rect(324.160888671875, 53.5999755859375, 346.91064453125, 63.6048583984375)]\n",
            "Code: E78.3, Coordinate: [Rect(501.7618103027344, 53.5999755859375, 520.8099975585938, 63.6048583984375)]\n",
            "Code: J01.00, Coordinate: [Rect(180.75601196289062, 351.52001953125, 201.2342071533203, 359.52392578125)]\n",
            "Code: E78.3, Coordinate: [Rect(150.73550415039062, 509.44000244140625, 167.6838836669922, 517.4439086914062)]\n",
            "Code: Z23, Coordinate: [Rect(131.86734008789062, 171.280029296875, 141.58641052246094, 179.283935546875)]\n",
            "Code: Z00.00, Coordinate: [Rect(403.2812805175781, 54.60003662109375, 427.0389709472656, 63.60443115234375)]\n",
            "Code: E78. 3, Coordinate: [Rect(152.42535400390625, 206.79998779296875, 164.62417602539062, 214.80389404296875), Rect(166.5439910888672, 206.79998779296875, 168.86376953125, 214.80389404296875)]\n",
            "Code: R03.0, Coordinate: [Rect(287.4623718261719, 198.6400146484375, 305.3106994628906, 206.6439208984375)]\n",
            "Code: Z00.00, Coordinate: [Rect(265.6011047363281, 120.63995361328125, 286.87884521484375, 128.64385986328125), Rect(311.0101318359375, 360.1600036621094, 332.60809326171875, 368.1639099121094)]\n",
            "Code: E78.3, Coordinate: [Rect(150.73556518554688, 217.11993408203125, 167.68394470214844, 225.12384033203125)]\n",
            "Code: R03.0, Coordinate: [Rect(287.4623718261719, 232.47998046875, 305.3106994628906, 240.48388671875)]\n",
            "Code: R50.9, Coordinate: [Rect(163.58432006835938, 54.60003662109375, 182.3826446533203, 63.60443115234375)]\n",
            "Code: E78.3, Coordinate: [Rect(160.694580078125, 223.8399658203125, 169.8437042236328, 231.8438720703125)]\n",
            "Code: J01.00, Coordinate: [Rect(131.98733520507812, 428.08001708984375, 152.14541625976562, 436.08392333984375)]\n",
            "Code: R50.9, Coordinate: [Rect(55.91464614868164, 351.52001953125, 73.91291809082031, 359.52392578125)]\n",
            "Code: R50.9, Coordinate: [Rect(169.03375244140625, 61.5999755859375, 188.6818389892578, 69.6038818359375), Rect(55.91463088989258, 633.0399780273438, 73.91290283203125, 641.0438842773438)]\n",
            "Code: E78. 3, Coordinate: [Rect(149.62559509277344, 221.44000244140625, 164.62416076660156, 229.44390869140625), Rect(166.78395080566406, 221.44000244140625, 169.02374267578125, 229.44390869140625)]\n",
            "Code: R03.0, Coordinate: [Rect(287.4623718261719, 230.08001708984375, 305.3106994628906, 238.08392333984375)]\n",
            "Code: L73.9, Coordinate: [Rect(183.58238220214844, 61.5999755859375, 201.58067321777344, 69.6038818359375)]\n",
            "Code: Z68.25, Coordinate: [Rect(89.39141082763672, 70.47998046875, 113.14912414550781, 78.48388671875)]\n",
            "Code: E78. 3, Coordinate: [Rect(149.62562561035156, 221.4400634765625, 164.6241912841797, 229.4439697265625), Rect(166.7839813232422, 221.4400634765625, 169.02377319335938, 229.4439697265625)]\n",
            "Code: 278.9, Coordinate: [Rect(277.01336669921875, 61.5999755859375, 295.4115905761719, 69.6038818359375)]\n",
            "Code: 271.3, Coordinate: [Rect(169.2137451171875, 565.5999755859375, 186.16212463378906, 573.6038818359375)]\n",
            "Code: Z68.25, Coordinate: [Rect(204.43373107910156, 556.9600219726562, 225.87185668945312, 564.9639282226562)]\n",
            "Code: Z78.9, Coordinate: [Rect(80.9322280883789, 501.2799987792969, 98.03057861328125, 509.2839050292969)]\n",
            "Code: L73.9, Coordinate: [Rect(75.352783203125, 418.9200134277344, 89.75138854980469, 427.9244079589844)]\n",
            "Code: E66.3, Coordinate: [Rect(148.33578491210938, 547.3200073242188, 165.28431701660156, 556.3244018554688)]\n",
            "Code: Z12.5, Coordinate: [Rect(147.5858154296875, 244.0001220703125, 164.38421630859375, 252.0040283203125)]\n",
            "Code: Z00.00, Coordinate: [Rect(414.5604553222656, 54.60003662109375, 440.2381896972656, 63.60443115234375), Rect(268.13421630859375, 173.44000244140625, 290.2120666503906, 181.44390869140625)]\n",
            "Code: Z68.25, Coordinate: [Rect(307.79443359375, 70.47998046875, 331.6961975097656, 78.48388671875)]\n",
            "Code: Z78.9, Coordinate: [Rect(478.6474304199219, 61.5999755859375, 497.3124694824219, 69.6038818359375)]\n",
            "Code: 287.5, Coordinate: [Rect(349.1064758300781, 61.5999755859375, 368.0046691894531, 69.6038818359375)]\n",
            "Code: E78. 3, Coordinate: [Rect(149.6256561279297, 238.48004150390625, 164.6242218017578, 246.48394775390625), Rect(166.54403686523438, 238.48004150390625, 168.8638153076172, 246.48394775390625)]\n",
            "Code: D69.6, Coordinate: [Rect(384.1497802734375, 61.5999755859375, 403.08123779296875, 69.6038818359375)]\n",
            "Code: J01.00, Coordinate: [Rect(131.98733520507812, 394.0, 152.14541625976562, 402.00390625)]\n",
            "Code: 271.3, Coordinate: [Rect(169.2137451171875, 565.5999755859375, 186.16212463378906, 573.6038818359375)]\n",
            "Code: Z68.25, Coordinate: [Rect(204.43373107910156, 556.9600219726562, 225.87185668945312, 564.9639282226562)]\n",
            "Code: Z78.9, Coordinate: [Rect(80.93224334716797, 501.280029296875, 98.03059387207031, 509.283935546875)]\n",
            "Code: E66.3, Coordinate: [Rect(148.33578491210938, 547.3200073242188, 165.28431701660156, 556.3244018554688)]\n",
            "Code: D69.6, Coordinate: [Rect(106.03981018066406, 475.6000061035156, 123.88809967041016, 483.6039123535156)]\n",
            "Code: 268.25, Coordinate: [Rect(112.86117553710938, 64.00006103515625, 136.3309326171875, 72.00396728515625)]\n",
            "Code: E78.3, Coordinate: [Rect(283.9993896484375, 54.60003662109375, 302.53094482421875, 63.60443115234375), Rect(149.985595703125, 257.9200439453125, 166.7839813232422, 265.9239501953125)]\n",
            "Code: M65.3, Coordinate: [Rect(518.5902709960938, 64.00006103515625, 537.78857421875, 72.00396728515625)]\n",
            "Code: M65.30, Coordinate: [Rect(109.5894775390625, 484.9599914550781, 132.14732360839844, 492.9638977050781)]\n",
            "Code: Z68.25, Coordinate: [Rect(204.43373107910156, 329.6400146484375, 225.87185668945312, 338.6444091796875)]\n",
            "Code: E78.3, Coordinate: [Rect(150.73550415039062, 266.55999755859375, 167.6838836669922, 274.56390380859375)]\n",
            "Code: Z71.3, Coordinate: [Rect(169.2137451171875, 339.0400085449219, 186.16212463378906, 347.0439147949219)]\n",
            "Code: E66.3, Coordinate: [Rect(148.33578491210938, 321.0, 165.28431701660156, 330.00439453125)]\n",
            "Code: J01.00, Coordinate: [Rect(251.2318878173828, 54.60003662109375, 274.1257019042969, 63.60443115234375)]\n",
            "Code: Z68.25, Coordinate: [Rect(488.2998046875, 54.60003662109375, 512.4577026367188, 63.60443115234375)]\n",
            "Code: E78.3, Coordinate: [Rect(149.98561096191406, 198.6400146484375, 166.78399658203125, 206.6439208984375)]\n",
            "Code: J01.00, Coordinate: [Rect(126.46784973144531, 394.0, 146.62591552734375, 402.00390625)]\n",
            "Code: Z68.25, Coordinate: [Rect(204.4337921142578, 464.8000183105469, 225.87191772460938, 472.8039245605469)]\n",
            "Code: 268.25, Coordinate: [Rect(255.45538330078125, 70.47998046875, 279.21307373046875, 78.48388671875)]\n",
            "Code: Z78.9, Coordinate: [Rect(357.6456604003906, 60.5999755859375, 376.0439758300781, 69.6043701171875)]\n",
            "Code: K46.9, Coordinate: [Rect(426.5722961425781, 60.5999755859375, 445.2369079589844, 69.6043701171875)]\n",
            "Code: E78.3, Coordinate: []\n",
            "Code: 271.3, Coordinate: [Rect(169.2137451171875, 403.60003662109375, 186.16212463378906, 411.60394287109375)]\n",
            "Code: Z78.9, Coordinate: [Rect(80.9322280883789, 314.0799865722656, 98.03057861328125, 322.0838928222656)]\n",
            "Code: K46.9, Coordinate: [Rect(59.90424728393555, 361.1199951171875, 77.45256805419922, 369.1239013671875)]\n",
            "Code: R10.32, Coordinate: [Rect(129.13424682617188, 223.8399658203125, 150.8919677734375, 231.8438720703125)]\n",
            "Code: E66.3, Coordinate: [Rect(148.33578491210938, 385.32000732421875, 165.28431701660156, 394.32440185546875)]\n",
            "Code: 268.25, Coordinate: [Rect(204.43373107910156, 394.96002197265625, 225.87185668945312, 402.96392822265625)]\n",
            "Code: J01.00, Coordinate: [Rect(315.66571044921875, 55.5999755859375, 337.83966064453125, 63.6038818359375)]\n",
            "Code: Z78.9, Coordinate: [Rect(412.8203430175781, 55.5999755859375, 432.3184509277344, 63.6038818359375)]\n",
            "Code: E78.3, Coordinate: [Rect(149.985595703125, 198.6400146484375, 166.7839813232422, 206.6439208984375)]\n",
            "Code: J01.00, Coordinate: [Rect(180.75601196289062, 394.0, 201.2342071533203, 402.00390625)]\n",
            "Code: 278.9, Coordinate: [Rect(80.9322280883789, 458.55999755859375, 98.03057861328125, 466.56390380859375)]\n",
            "Code: E78.3, Coordinate: []\n",
            "Code: S93.411A, Coordinate: [Rect(431.93670654296875, 61.5999755859375, 466.31866455078125, 69.6038818359375)]\n",
            "Code: S93.411A, Coordinate: [Rect(284.1327209472656, 32.55999755859375, 314.8497314453125, 40.56390380859375)]\n",
            "Code: M54.5, Coordinate: [Rect(346.87335205078125, 54.60003662109375, 366.6048889160156, 63.60443115234375)]\n",
            "Code: Z78.9, Coordinate: [Rect(442.197509765625, 54.60003662109375, 460.99578857421875, 63.60443115234375)]\n",
            "Code: 268.25, Coordinate: [Rect(255.4553985595703, 64.00006103515625, 279.2131042480469, 72.00396728515625)]\n",
            "Code: E78.3, Coordinate: [Rect(160.69461059570312, 223.84002685546875, 169.84373474121094, 231.84393310546875)]\n",
            "Code: 271.3, Coordinate: [Rect(169.2139129638672, 437.44000244140625, 186.16311645507812, 445.44390869140625)]\n",
            "Code: Z78.9, Coordinate: [Rect(80.9322280883789, 373.1199951171875, 98.03057861328125, 381.1239013671875)]\n",
            "Code: 268.25, Coordinate: [Rect(204.43373107910156, 429.0400085449219, 225.87185668945312, 437.0439147949219)]\n",
            "Code: E66.3, Coordinate: [Rect(148.33578491210938, 419.6400146484375, 165.28431701660156, 428.6444091796875)]\n",
            "Code: M54.5, Coordinate: [Rect(210.03985595703125, 258.1600341796875, 228.33811950683594, 266.1639404296875)]\n",
            "Code: B96, Coordinate: [Rect(101.27234649658203, 270.4361877441406, 112.79691314697266, 283.4425354003906)]\n",
            "Code: R10.84, Coordinate: [Rect(373.6452331542969, 405.3171691894531, 387.6324462890625, 412.3205871582031)]\n",
            "Code: S10, Coordinate: [Rect(339.0885925292969, 394.3171691894531, 347.727783203125, 406.3230285644531)]\n",
            "Code: C43, Coordinate: [Rect(134.147216796875, 470.0351257324219, 141.7064971923828, 479.0395202636719)]\n",
            "Code: 201.84, Coordinate: [Rect(366.4449157714844, 491.3130798339844, 380.0205078125, 502.3184509277344)]\n",
            "Code: M72, Coordinate: [Rect(282.9349365234375, 486.2630920410156, 292.00604248046875, 496.2679748535156)]\n",
            "Code: M18.9, Coordinate: [Rect(341.4862060546875, 359.1199951171875, 351.0853576660156, 369.1248779296875)]\n",
            "Code: R73.01, Coordinate: [Rect(356.1247863769531, 386.1600036621094, 367.6437683105469, 392.1629333496094)]\n",
            "Code: G62, Coordinate: [Rect(403.40130615234375, 648.6400146484375, 409.5207214355469, 656.6439208984375)]\n",
            "Code: R78.8, Coordinate: [Rect(251.49581909179688, 662.4400024414062, 260.6949157714844, 667.4424438476562)]\n",
            "Code: RS3.83, Coordinate: [Rect(233.49757385253906, 648.6400146484375, 247.69027709960938, 656.6439208984375)]\n",
            "Code: 201.84, Coordinate: [Rect(361.40325927734375, 424.9989929199219, 373.9508056640625, 432.0024108886719)]\n",
            "Code: R94.5, Coordinate: [Rect(245.97637939453125, 644.1600341796875, 255.57545471191406, 650.1629638671875)]\n",
            "Code: E13.9, Coordinate: [Rect(356.8446960449219, 398.6400146484375, 367.4436340332031, 404.6429443359375)]\n",
            "Code: 201.81, Coordinate: [Rect(234.69747924804688, 702.239013671875, 249.09605407714844, 708.241943359375)]\n",
            "Code: R10.84, Coordinate: [Rect(370.0434875488281, 342.84002685546875, 382.20745849609375, 351.84442138671875)]\n",
            "Code: J05, Coordinate: [Rect(283.1749572753906, 471.881103515625, 291.8151550292969, 482.886474609375)]\n",
            "Code: K77, Coordinate: [Rect(286.0526428222656, 231.760009765625, 296.86505126953125, 239.763916015625)]\n",
            "Code: G65, Coordinate: [Rect(246.69647216796875, 477.2861328125, 259.65631103515625, 489.2919921875)]\n",
            "Code: B85, Coordinate: [Rect(283.1749267578125, 429.5211181640625, 293.973876953125, 437.5250244140625)]\n",
            "Code: 212.5, Coordinate: [Rect(363.5670166015625, 479.6011047363281, 375.5673522949219, 489.6059875488281)]\n",
            "Code: M10.9, Coordinate: [Rect(339.0893859863281, 448.3211364746094, 350.8881530761719, 454.3240661621094)]\n",
            "Code: R10.84, Coordinate: [Rect(379.8854675292969, 402.5611267089844, 394.69561767578125, 412.5660095214844)]\n",
            "Code: 201.818, Coordinate: [Rect(344.60882568359375, 493.0411071777344, 362.0370788574219, 503.0459899902344)]\n",
            "Code: R53.83, Coordinate: [Rect(344.8488464355469, 441.60113525390625, 359.0433044433594, 447.60406494140625)]\n",
            "Code: E03.9, Coordinate: [Rect(365.00689697265625, 466.08111572265625, 377.0057373046875, 478.08697509765625)]\n",
            "Code: Z79.899, Coordinate: [Rect(366.6867370605469, 474.9211120605469, 384.32647705078125, 481.9245300292969)]\n",
            "Code: E55, Coordinate: [Rect(347.728515625, 487.881103515625, 353.63189697265625, 494.884521484375)]\n",
            "Code: 201.84, Coordinate: [Rect(372.4461669921875, 499.2810974121094, 384.99334716796875, 509.2859802246094)]\n",
            "Code: R94.5, Coordinate: [Rect(363.3270263671875, 432.6411437988281, 374.52587890625, 440.6450500488281)]\n",
            "Code: R73, Coordinate: [Rect(373.6460876464844, 455.0011291503906, 374.3661193847656, 462.0045471191406)]\n",
            "Code: M13.0, Coordinate: [Rect(347.0085754394531, 422.2011413574219, 358.6075134277344, 433.2065124511719)]\n",
            "Code: T78.40XA, Coordinate: [Rect(382.7621154785156, 467.19805908203125, 405.5875549316406, 475.20196533203125)]\n",
            "Code: M10.9, Coordinate: [Rect(344.3708190917969, 505.56903076171875, 356.3713073730469, 513.5729370117188)]\n",
            "Code: R10.84, Coordinate: [Rect(388.0415954589844, 456.758056640625, 403.88140869140625, 467.763427734375)]\n",
            "Code: 201.818, Coordinate: [Rect(349.17431640625, 556.6400756835938, 367.4424743652344, 566.6449584960938)]\n",
            "Code: S10, Coordinate: [Rect(69.6011962890625, 545.7600708007812, 73.74079132080078, 557.7659301757812)]\n",
            "Code: R53.83, Coordinate: [Rect(350.1312561035156, 495.76605224609375, 365.3524475097656, 505.77093505859375)]\n",
            "Code: R74.0, Coordinate: [Rect(368.3664855957031, 488.7210693359375, 381.3652648925781, 498.7259521484375)]\n",
            "Code: G12, Coordinate: []\n",
            "Code: 212.5, Coordinate: [Rect(303.6000061035156, 339.12725830078125, 320.2000427246094, 350.1315612792969)]\n",
            "Code: M10.9, Coordinate: [Rect(267.1199951171875, 285.0924377441406, 284.9201354980469, 297.0971374511719)]\n",
            "Code: R10.84, Coordinate: [Rect(174.00003051757812, 316.5294189453125, 195.18890380859375, 328.53411865234375)]\n",
            "Code: R79.9, Coordinate: [Rect(302.1600341796875, 295.41143798828125, 319.1645812988281, 307.4161376953125)]\n",
            "Code: E78.2, Coordinate: [Rect(110.4000015258789, 295.41143798828125, 126.7998046875, 307.4161376953125)]\n",
            "Code: R53.83, Coordinate: [Rect(277.1999816894531, 276.4932556152344, 297.3597106933594, 287.49755859375)]\n",
            "Code: 201.818, Coordinate: [Rect(275.0400085449219, 362.7249450683594, 299.6100769042969, 371.7284851074219)]\n",
            "Code: E03.9, Coordinate: [Rect(304.08001708984375, 316.5294189453125, 321.079833984375, 328.53411865234375)]\n",
            "Code: 279.899, Coordinate: [Rect(305.280029296875, 327.6883239746094, 330.2702941894531, 336.6918640136719)]\n",
            "Code: E29.1, Coordinate: [Rect(303.1200256347656, 307.2502746582031, 318.5249938964844, 317.25421142578125)]\n",
            "Code: E55.9, Coordinate: [Rect(282.2400207519531, 347.6864318847656, 297.0398254394531, 360.6915283203125)]\n",
            "Code: R74.0, Coordinate: [Rect(300.9599914550781, 265.2543029785156, 317.760986328125, 275.25823974609375)]\n",
            "Code: R73.01, Coordinate: [Rect(366.63421630859375, 453.5895080566406, 380.0880432128906, 465.6889343261719)]\n",
            "Code: 201.818, Coordinate: [Rect(346.5020446777344, 495.9088134765625, 363.3843994140625, 508.0323791503906)]\n",
            "Code: 212.5, Coordinate: [Rect(366.6524353027344, 485.42523193359375, 378.12823486328125, 496.5104064941406)]\n",
            "Code: E55.9, Coordinate: [Rect(350.0973205566406, 491.83453369140625, 361.54510498046875, 498.9177551269531)]\n",
            "Code: R73.01, Coordinate: [Rect(366.68902587890625, 453.35406494140625, 379.8550720214844, 465.35992431640625)]\n",
            "Code: M13.0, Coordinate: [Rect(349.1717224121094, 425.8341064453125, 365.7701416015625, 435.8389892578125)]\n",
            "Code: Z01.84, Coordinate: [Rect(371.24957275390625, 503.5950927734375, 386.0597229003906, 513.5999755859375)]\n",
            "Code: R10.84, Coordinate: [Rect(381.56866455078125, 406.39410400390625, 396.3788146972656, 416.39898681640625)]\n",
            "Code: S73, Coordinate: [Rect(168.4638214111328, 468.9200439453125, 177.5349578857422, 475.9234619140625)]\n",
            "Code: D84.8, Coordinate: [Rect(352.2850646972656, 418.04095458984375, 363.48394775390625, 425.04437255859375)]\n",
            "Code: E22, Coordinate: [Rect(168.7038116455078, 424.8000183105469, 177.63204956054688, 430.8029479980469)]\n",
            "Code: I25.10, Coordinate: [Rect(339.80731201171875, 399.5600891113281, 352.3548583984375, 406.5635070800781)]\n",
            "Code: S00, Coordinate: []\n",
            "Code: O08, Coordinate: [Rect(102.95513916015625, 259.760009765625, 114.29405212402344, 269.764892578125)]\n",
            "Code: C85, Coordinate: [Rect(135.83489990234375, 512.0379638671875, 143.03428649902344, 521.0423583984375)]\n",
            "Code: 212.5, Coordinate: [Rect(251.73687744140625, 693.8399658203125, 261.1358337402344, 699.8428955078125)]\n",
            "Code: B38, Coordinate: [Rect(251.7368621826172, 679.7999877929688, 260.1959533691406, 688.8043823242188)]\n",
            "Code: R53.83, Coordinate: [Rect(232.53858947753906, 652.239990234375, 246.31997680664062, 660.243896484375)]\n",
            "Code: B59, Coordinate: [Rect(237.57823181152344, 698.3199462890625, 246.0374298095703, 706.3238525390625)]\n",
            "Code: 201.84, Coordinate: [Rect(256.7763366699219, 712.0799560546875, 268.70672607421875, 718.0828857421875)]\n",
            "Code: M13.0, Coordinate: [Rect(344.84295654296875, 369.6370849609375, 354.6421203613281, 375.6400146484375), Rect(146.86203002929688, 700.18798828125, 157.4609832763672, 708.19189453125)]\n",
            "Code: Z01.84, Coordinate: [Rect(258.9302673339844, 713.4409790039062, 270.655029296875, 721.4448852539062)]\n",
            "Code: 201.818, Coordinate: [Rect(236.8523712158203, 707.6809692382812, 251.3410186767578, 715.6848754882812)]\n",
            "Code: R53.83, Coordinate: [Rect(236.37538146972656, 658.0780029296875, 249.3341522216797, 664.0809326171875)]\n",
            "Code: Z79.899, Coordinate: [Rect(361.1663513183594, 409.44012451171875, 376.074951171875, 415.44305419921875)]\n",
            "Code: Z12.5, Coordinate: [Rect(253.4117889404297, 695.4409790039062, 263.8107604980469, 703.4448852539062)]\n",
            "Code: R99, Coordinate: [Rect(252.4528350830078, 668.7990112304688, 261.8119201660156, 676.8029174804688)]\n",
            "Code: R10.84, Coordinate: [Rect(175.41622924804688, 680.9710083007812, 187.96368408203125, 688.9749145507812)]\n",
            "Code: R73.01, Coordinate: [Rect(370.2874755859375, 507.400146484375, 384.27484130859375, 518.405517578125)]\n",
            "Code: R10.84, Coordinate: [Rect(385.8840637207031, 454.72015380859375, 402.3398132324219, 462.72406005859375)]\n",
            "Code: Z79.890, Coordinate: [Rect(372.207275390625, 526.8401489257812, 391.1051025390625, 537.8455200195312)]\n",
            "Code: R53.83, Coordinate: [Rect(349.6495056152344, 490.0401916503906, 364.45947265625, 503.0465393066406)]\n",
            "Code: E03,9, Coordinate: [Rect(370.43133544921875, 521.16015625, 382.9100036621094, 530.16455078125)]\n",
            "Code: E29.1, Coordinate: [Rect(368.607666015625, 515.0802001953125, 380.6064758300781, 526.0855712890625)]\n",
            "Code: C23, Coordinate: [Rect(42.95693588256836, 211.60101318359375, 75.1783447265625, 225.60784912109375)]\n",
            "Code: D64.9, Coordinate: [Rect(361.64642333984375, 468.7651672363281, 374.0466613769531, 479.7705383300781)]\n",
            "Code: R74.0, Coordinate: [Rect(368.60772705078125, 484.2001953125, 380.6080627441406, 493.20458984375)]\n",
            "Code: M13.0, Coordinate: [Rect(352.04931640625, 474.76019287109375, 363.44805908203125, 485.76556396484375)]\n",
            "Code: 212.5, Coordinate: [Rect(303.5999755859375, 331.9678955078125, 320.200927734375, 341.9718322753906)]\n",
            "Code: Z00.0, Coordinate: [Rect(117.36000061035156, 261.1747131347656, 133.760986328125, 271.17864990234375)]\n",
            "Code: R10.84, Coordinate: [Rect(174.48001098632812, 310.1300048828125, 195.25799560546875, 320.1339416503906)]\n",
            "Code: R79.9, Coordinate: [Rect(301.9200134277344, 289.971923828125, 318.91998291015625, 299.9758605957031)]\n",
            "Code: E78.2, Coordinate: [Rect(111.3600082397461, 290.6918640136719, 127.76499938964844, 300.69580078125)]\n",
            "Code: R53.83, Coordinate: [Rect(275.0400085449219, 268.8539733886719, 296.0226135253906, 278.85791015625)]\n",
            "Code: 201.818, Coordinate: [Rect(275.0400085449219, 354.3257751464844, 300.0302734375, 363.3293151855469)]\n",
            "Code: E03.9, Coordinate: [Rect(303.8399963378906, 311.08990478515625, 320.239990234375, 321.0938415527344)]\n",
            "Code: 279.899, Coordinate: [Rect(305.03997802734375, 321.408935546875, 330.033447265625, 331.4128723144531)]\n",
            "Code: E29.1, Coordinate: [Rect(302.1600036621094, 301.53082275390625, 317.96002197265625, 310.53436279296875)]\n",
            "Code: E55.9, Coordinate: [Rect(280.55999755859375, 342.766845703125, 296.7610168457031, 352.7707824707031)]\n",
            "Code: D64.9, Coordinate: [Rect(141.36000061035156, 329.80810546875, 158.5600128173828, 339.8120422363281)]\n",
            "Code: E11.9, Coordinate: [Rect(113.52000427246094, 281.0927734375, 129.3200225830078, 291.0967102050781)]\n",
            "Code: R74.0, Coordinate: [Rect(300.0, 258.0550231933594, 316.7999267578125, 268.0589599609375)]\n",
            "Code: H27, Coordinate: [Rect(134.86309814453125, 204.01800537109375, 146.9233856201172, 213.02239990234375)]\n",
            "Code: G83, Coordinate: [Rect(395.2418518066406, 718.5599975585938, 401.0013427734375, 724.5629272460938)]\n",
            "Code: P10, Coordinate: [Rect(229.42193603515625, 257.75885009765625, 239.93292236328125, 263.76177978515625)]\n",
            "Code: S97, Coordinate: [Rect(116.39087677001953, 227.55694580078125, 126.10993957519531, 232.55938720703125)]\n",
            "Code: R10.84, Coordinate: [Rect(363.3290100097656, 360.5188903808594, 375.2593688964844, 371.5242614746094)]\n",
            "Code: R79.9, Coordinate: [Rect(241.1768035888672, 675.760009765625, 251.9757843017578, 683.763916015625)]\n",
            "Code: R53.83, Coordinate: [Rect(226.29824829101562, 660.7200317382812, 238.22860717773438, 666.7229614257812)]\n",
            "Code: T62, Coordinate: [Rect(396.201904296875, 643.760009765625, 402.5013122558594, 653.764892578125)]\n",
            "Code: C88, Coordinate: [Rect(145.66981506347656, 443.1588439941406, 151.78932189941406, 452.1632385253906)]\n",
            "Code: 279.899, Coordinate: [Rect(243.3365478515625, 693.0400390625, 258.455078125, 701.0439453125)]\n",
            "Code: E29.1, Coordinate: [Rect(241.41676330566406, 679.0400390625, 251.41778564453125, 689.044921875)]\n",
            "Code: H25, Coordinate: [Rect(347.97039794921875, 427.5988464355469, 357.3312072753906, 435.6027526855469)]\n",
            "Code: R74.0, Coordinate: [Rect(240.45687866210938, 654.47998046875, 250.85595703125, 660.48291015625), Rect(347.970458984375, 389.03887939453125, 357.3694152832031, 395.04180908203125)]\n",
            "Code: Z01.818, Coordinate: [Rect(331.8919677734375, 439.11883544921875, 346.590576171875, 447.12274169921875)]\n",
            "Code: M13.0, Coordinate: [Rect(334.2917785644531, 379.79888916015625, 343.8907775878906, 388.80328369140625)]\n",
            "Code: M19, Coordinate: [Rect(142.7380828857422, 696.6985473632812, 148.60324096679688, 704.7774047851562)]\n",
            "Code: M10.9, Coordinate: [Rect(331.2975769042969, 395.57086181640625, 342.0006103515625, 403.7125549316406)]\n",
            "Code: R10.84, Coordinate: [Rect(365.8757019042969, 360.0603942871094, 378.52716064453125, 368.2274475097656), Rect(170.58920288085938, 675.3790283203125, 183.65200805664062, 683.5513916015625)]\n",
            "Code: R79.9, Coordinate: [Rect(248.11520385742188, 665.8111572265625, 257.8183288574219, 673.9398803710938)]\n",
            "Code: R74.0, Coordinate: [Rect(352.42303466796875, 383.57745361328125, 361.7261962890625, 391.70098876953125), Rect(247.64785766601562, 646.6048583984375, 256.9510192871094, 654.7283935546875)]\n",
            "Code: B86, Coordinate: [Rect(112.4074935913086, 571.087158203125, 118.527587890625, 576.0891723632812)]\n",
            "Code: D64.2, Coordinate: [Rect(348.16864013671875, 375.5059814453125, 358.427734375, 381.61083984375)]\n",
            "Code: R10.84, Coordinate: [Rect(367.29815673828125, 356.7160949707031, 380.5925598144531, 369.8540954589844)]\n",
            "Code: R23.0, Coordinate: [Rect(354.63067626953125, 402.2950744628906, 366.3111572265625, 410.4149475097656)]\n",
            "Code: 201.818, Coordinate: [Rect(338.3174133300781, 437.5518493652344, 352.8877868652344, 445.7005920410156)]\n",
            "Code: E55, Coordinate: [Rect(342.1566467285156, 431.162353515625, 347.4592590332031, 439.2185363769531)]\n",
            "Code: Z00.0, Coordinate: [Rect(332.3291015625, 334.1522216796875, 342.5881652832031, 340.257080078125)]\n",
            "Code: R74.0, Coordinate: [Rect(353.42926025390625, 385.26934814453125, 363.30828857421875, 393.3712158203125)]\n",
            "Code: J00, Coordinate: [Rect(288.92510986328125, 408.0206298828125, 297.5643005371094, 414.0235595703125)]\n",
            "Code: R55, Coordinate: [Rect(340.0382080078125, 389.85968017578125, 345.7976989746094, 395.86260986328125)]\n",
            "Code: R27, Coordinate: [Rect(356.8385925292969, 407.5326232910156, 363.13800048828125, 413.5355529785156)]\n",
            "Code: J93, Coordinate: [Rect(113.98001861572266, 199.47784423828125, 126.93952941894531, 204.48028564453125)]\n",
            "Code: I25 1, Coordinate: [Rect(141.58639526367188, 675.8400268554688, 148.07032775878906, 681.8429565429688), Rect(149.98558044433594, 675.8400268554688, 151.1854705810547, 681.8429565429688)]\n",
            "Code: B60, Coordinate: [Rect(123.81694793701172, 397.0016784667969, 132.63790893554688, 402.0041198730469)]\n",
            "Code: V74.0, Coordinate: [Rect(251.73582458496094, 648.719970703125, 261.7347717285156, 654.722900390625)]\n",
            "Code: B07, Coordinate: [Rect(184.53004455566406, 361.229736328125, 191.7293243408203, 367.232666015625)]\n",
            "Code: J09, Coordinate: [Rect(288.4421691894531, 409.59259033203125, 295.6429138183594, 418.59698486328125)]\n",
            "Code: 200.0, Coordinate: [Rect(337.8868103027344, 413.9199523925781, 350.48553466796875, 421.9238586425781)]\n",
            "Code: T78.40XA, Coordinate: [Rect(387.80499267578125, 458.3179931640625, 401.24560546875, 466.3218994140625)]\n",
            "Code: M10.9, Coordinate: [Rect(337.4099426269531, 495.99798583984375, 351.20867919921875, 504.00189208984375)]\n",
            "Code: M13.0, Coordinate: [Rect(347.9688415527344, 471.6780090332031, 359.5677490234375, 481.6828918457031)]\n",
            "Code: J90, Coordinate: [Rect(276.9326477050781, 426.7999572753906, 289.5364990234375, 436.8048400878906)]\n",
            "Code: R73.01, Coordinate: [Rect(365.48724365234375, 502.35797119140625, 380.5028381347656, 513.3633422851562)]\n",
            "Code: 201.818, Coordinate: [Rect(343.88934326171875, 545.3579711914062, 362.99755859375, 555.3628540039062)]\n",
            "Code: 064.9, Coordinate: [Rect(358.0478210449219, 465.197998046875, 369.8466491699219, 475.202880859375)]\n",
            "Code: I25.10, Coordinate: [Rect(336.4429016113281, 441.720947265625, 351.8713684082031, 450.725341796875)]\n",
            "Code: C85, Coordinate: [Rect(102.9525146484375, 539.6019897460938, 109.43190002441406, 549.6068725585938)]\n",
            "Code: R74.0, Coordinate: [Rect(364.287353515625, 481.63800048828125, 376.68634033203125, 488.64141845703125)]\n",
            "Code: R10.84, Coordinate: [Rect(381.8055725097656, 448.3580017089844, 398.2625732421875, 458.3628845214844)]\n",
            "Code: R10.84, Coordinate: [Rect(363.8079833984375, 360.1100158691406, 376.7667541503906, 368.1139221191406)]\n",
            "Code: R74.01, Coordinate: [Rect(350.8482360839844, 401.4779968261719, 362.5726318359375, 408.4814147949219)]\n",
            "Code: 201.818, Coordinate: [Rect(334.2898254394531, 435.76300048828125, 348.3585205078125, 443.76690673828125)]\n",
            "Code: R53.83, Coordinate: [Rect(333.8068542480469, 389.4089660644531, 346.5616455078125, 397.4128723144531)]\n",
            "Code: E03.9, Coordinate: [Rect(351.3281555175781, 413.0039978027344, 361.3270568847656, 420.0074157714844)]\n",
            "Code: Q23, Coordinate: [Rect(283.8927307128906, 279.4670104980469, 294.51171875, 285.4699401855469)]\n",
            "Code: E23.1, Coordinate: [Rect(350.1282958984375, 408.2040100097656, 359.5274353027344, 415.2074279785156)]\n",
            "Code: E55, Coordinate: [Rect(337.64947509765625, 430.2430114746094, 342.6889953613281, 438.2469177246094)]\n",
            "Code: R74.0, Coordinate: [Rect(349.8883361816406, 385.6419982910156, 359.28729248046875, 391.6449279785156), Rect(350.8482360839844, 401.4779968261719, 360.6185607910156, 408.4814147949219)]\n",
            "File[output/APS_38600000R_final_output.pdf] is saved after highlighting ICD-10 code\n",
            "Highlighted coordinates are saved into [APS_38600000R_final_cords.txt] file.\n",
            "Code: R00.9, Coordinate: [Rect(365.13800048828125, 351.8531494140625, 386.48199462890625, 362.84515380859375)]\n",
            "Code: F41.9, Coordinate: [Rect(365.58599853515625, 511.8531188964844, 386.0419921875, 522.8451538085938)]\n",
            "Code: G43.909, Coordinate: [Rect(360.46600341796875, 383.8531494140625, 391.15399169921875, 394.84515380859375)]\n",
            "Code: G47.33, Coordinate: [Rect(362.69000244140625, 463.8531494140625, 388.92999267578125, 474.84515380859375)]\n",
            "Code: K57.92, Coordinate: [Rect(363.13800048828125, 431.8531494140625, 388.489990234375, 442.84515380859375)]\n",
            "Code: G56.00, Coordinate: [Rect(362.69000244140625, 367.8531494140625, 388.92999267578125, 378.84515380859375)]\n",
            "Code: Z91.81, Coordinate: [Rect(363.36199951171875, 415.8531494140625, 388.2659912109375, 426.84515380859375)]\n",
            "Code: G25.81, Coordinate: [Rect(362.69000244140625, 447.8531494140625, 388.92999267578125, 458.84515380859375)]\n",
            "Code: E66.9, Coordinate: [Rect(365.36199951171875, 495.8531494140625, 386.2659912109375, 506.84515380859375)]\n",
            "Code: Z87.891, Coordinate: [Rect(361.13800048828125, 335.8531494140625, 390.489990234375, 346.84515380859375)]\n",
            "Code: G64, Coordinate: [Rect(368.25, 399.8531494140625, 383.3699951171875, 410.84515380859375)]\n",
            "Code: G47.9, Coordinate: [Rect(364.91400146484375, 479.8531494140625, 386.70599365234375, 490.84515380859375)]\n",
            "Code: G47.34, Coordinate: [Rect(356.2000732421875, 539.9200439453125, 374.44049072265625, 547.9239501953125)]\n",
            "Code: G47.31, Coordinate: [Rect(131.78009033203125, 570.1610107421875, 149.18060302734375, 578.1649169921875)]\n",
            "Code: G47.33, Coordinate: [Rect(144.94007873535156, 539.9200439453125, 162.4605255126953, 547.9239501953125)]\n",
            "Code: RO6.3, Coordinate: [Rect(151.5601043701172, 580.2410278320312, 165.0604705810547, 588.2449340820312)]\n",
            "Code: R06.83, Coordinate: [Rect(119.25902557373047, 551.7020263671875, 136.0590362548828, 558.7054443359375)]\n",
            "Code: G47.10, Coordinate: [Rect(344.2001037597656, 570.1610107421875, 362.8005065917969, 578.1649169921875)]\n",
            "Code: G47,39, Coordinate: [Rect(364.7200622558594, 550.093017578125, 382.2403259277344, 557.096435546875)]\n",
            "Code: G47.8, Coordinate: [Rect(144.78759765625, 560.7210083007812, 158.6255645751953, 567.7244262695312)]\n",
            "Code: O41, Coordinate: [Rect(392.39984130859375, 321.8952941894531, 398.8148498535156, 331.944580078125)]\n",
            "Code: O68, Coordinate: [Rect(367.91259765625, 334.0444030761719, 374.86065673828125, 343.0969543457031)]\n",
            "Code: O80, Coordinate: [Rect(418.31292724609375, 334.06817626953125, 425.3973083496094, 343.1217346191406)]\n",
            "Code: O00, Coordinate: [Rect(418.3200378417969, 321.90771484375, 425.14007568359375, 331.9598388671875)]\n",
            "File[output/01_final_output.pdf] is saved after highlighting ICD-10 code\n",
            "Highlighted coordinates are saved into [01_final_cords.txt] file.\n",
            "CPU times: user 2min 37s, sys: 1.45 s, total: 2min 38s\n",
            "Wall time: 2min 41s\n"
          ]
        }
      ]
    },
    {
      "cell_type": "code",
      "source": [
        "purge(\"pdf-files/*.pdf\")\n",
        "purge(\"txt-files/*.txt\")"
      ],
      "metadata": {
        "id": "JlOdZaO9IL5o"
      },
      "execution_count": null,
      "outputs": []
    },
    {
      "cell_type": "code",
      "source": [
        "!zip output.zip output/*.*"
      ],
      "metadata": {
        "id": "MeS8LHhjjfzU",
        "outputId": "83392405-0ba6-411e-d695-b24b6d24c7a7",
        "colab": {
          "base_uri": "https://localhost:8080/"
        }
      },
      "execution_count": 9,
      "outputs": [
        {
          "output_type": "stream",
          "name": "stdout",
          "text": [
            "  adding: output/01_final_cords.txt (deflated 72%)\n",
            "  adding: output/01_final_output.pdf (deflated 9%)\n",
            "  adding: output/APS_38600000R_final_cords.txt (deflated 92%)\n",
            "  adding: output/APS_38600000R_final_output.pdf (deflated 2%)\n"
          ]
        }
      ]
    },
    {
      "cell_type": "code",
      "source": [
        "!zip pdf_text_output.zip pdf-files/*.* txt-files/*.*"
      ],
      "metadata": {
        "id": "AsPhCIH-h1Pg"
      },
      "execution_count": null,
      "outputs": []
    },
    {
      "cell_type": "code",
      "source": [
        "# Step-1: spliting pdf file\n",
        "pdf_file_name = \"APS_38600000R_final.pdf\"\n",
        "pdf_list = highlighter.split_pdf(pdf_file_name)\n",
        "\n",
        "# Step-2: Extracting text from pdf\n",
        "txt_list = highlighter.extract_text_from_pdf(pdf_list)"
      ],
      "metadata": {
        "id": "GJrJ862VBKhE"
      },
      "execution_count": 7,
      "outputs": []
    },
    {
      "cell_type": "code",
      "source": [
        "# Step-3: Searching ICD-10 code\n",
        "page_code10_dict = highlighter.search_icd_code(txt_list)"
      ],
      "metadata": {
        "id": "wTFQkZtHBiLO"
      },
      "execution_count": 8,
      "outputs": []
    },
    {
      "cell_type": "code",
      "source": [
        "code_df = pd.read_csv(\"icd_10_code_and_keywords_v2.csv\")"
      ],
      "metadata": {
        "id": "1cqncdV0Lpj7"
      },
      "execution_count": 9,
      "outputs": []
    },
    {
      "cell_type": "markdown",
      "source": [
        "##Text clean up"
      ],
      "metadata": {
        "id": "tCMut1zqMm76"
      }
    },
    {
      "cell_type": "code",
      "source": [
        "with open(f\"{txt_list[7]}\", \"r\") as f:\n",
        "  my_text = f.read()"
      ],
      "metadata": {
        "id": "qaQ1wb0PMyMz"
      },
      "execution_count": null,
      "outputs": []
    },
    {
      "cell_type": "code",
      "source": [
        "nlp = spacy.load(\"en_core_web_sm\")\n",
        "doc = nlp(my_text)\n",
        "sentences = [sentence.text for sentence in doc.sents]"
      ],
      "metadata": {
        "id": "nwcAI5BnMuzN"
      },
      "execution_count": null,
      "outputs": []
    },
    {
      "cell_type": "code",
      "source": [
        "sentences"
      ],
      "metadata": {
        "id": "E5SUHuvrPRn9"
      },
      "execution_count": null,
      "outputs": []
    },
    {
      "cell_type": "code",
      "source": [
        "def text_preprocess(text_file):\n",
        "  sentence_list = []\n",
        "  stopwords = [\"is\", \"a\"]\n",
        "  doc = nlp(my_text)\n",
        "  sentences = [sentence.text for sentence in doc.sents]\n",
        "  for sent in sentences:\n",
        "    clean_text = \" \".join(sent.split())  # Remove extra spaces, tabs, and line breaks\n",
        "    clean_text = re.sub(f\"[{re.escape(punctuation)}]\", \"\", clean_text) # Remove punctuation\n",
        "    clean_text = re.sub(r\"\\b[0-9]+\\b\\s*\", \"\", clean_text)     # Remove numbers\n",
        "    clean_text = \" \".join([w for w in clean_text.split() if not w.isdigit()]) # Remove digits= Side effect: removes extra spaces\n",
        "    clean_text = \" \".join([w for w in clean_text.split() if w.isalpha()]) # Remove non-alphabetic characters= Side effect: removes extra spaces\n",
        "    clean_text = re.sub(r\"[^A-Za-z0-9\\s]+\", \"\", clean_text) # Remove all special characters and punctuation\n",
        "    # Remove stopwords from a list\n",
        "    tokens = clean_text.split()\n",
        "    clean_tokens = [t for t in tokens if not t in stopwords]\n",
        "    clean_text = \" \".join(clean_tokens)\n",
        "    # Remove short tokens\n",
        "    tokens = clean_text.split()\n",
        "    clean_tokens = [t for t in tokens if len(t) > 3]\n",
        "    clean_text = \" \".join(clean_tokens)\n",
        "    # Remove repeated characters\n",
        "    clean_text = re.sub(r'(.)\\1{3,}',r'\\1', clean_text)\n",
        "    if len(clean_text) > 0:\n",
        "      sentence_list.append(clean_text)\n",
        "  return sentence_list"
      ],
      "metadata": {
        "id": "QnlOii79PXSY"
      },
      "execution_count": null,
      "outputs": []
    },
    {
      "cell_type": "code",
      "source": [
        "sentence_list = text_preprocess(my_text)\n",
        "sentence_list"
      ],
      "metadata": {
        "id": "anIOSkxxQzwx"
      },
      "execution_count": null,
      "outputs": []
    },
    {
      "cell_type": "code",
      "source": [
        "with open(f\"{txt_list[7]}\", \"r\") as f:\n",
        "  lines = [line.rstrip('\\n') for line in f]\n",
        "  sentence_list = [\" \".join(line.split()) for line in lines] # Remove extra spaces, tabs, and line breaks\n",
        "sentence_list"
      ],
      "metadata": {
        "id": "7jG4M79MLz5O"
      },
      "execution_count": null,
      "outputs": []
    },
    {
      "cell_type": "code",
      "source": [
        "def get_best_match(sentence_list, keyword):\n",
        "  print(\"#\"*10)\n",
        "  print(f\"Matching for : {keyword}\")\n",
        "  print()\n",
        "  ratios = [fuzz.ratio(keyword, sentence) for sentence in sentence_list]\n",
        "  best_match = sentence_list[ratios.index(max(ratios))]\n",
        "  print(f\"Best match: {fuzz.ratio(keyword, best_match)} | {best_match}\")\n",
        "  print(f\"Before Match: {fuzz.ratio(keyword, sentence_list[sentence_list.index(best_match) - 1])} | {sentence_list[sentence_list.index(best_match) - 1]}\")\n",
        "  print(f\"After Match: {fuzz.ratio(keyword, sentence_list[sentence_list.index(best_match) + 1])} | {sentence_list[sentence_list.index(best_match) + 1]}\")\n",
        "  print()\n",
        "\n",
        "  p_ratios = [fuzz.partial_ratio(keyword, sentence) for sentence in sentence_list]\n",
        "  p_best_match = sentence_list[p_ratios.index(max(p_ratios))]\n",
        "  print(f\"Partial Best match: {fuzz.partial_ratio(keyword, p_best_match)} | {p_best_match}\")\n",
        "  print(f\"Partial Before Match: {fuzz.partial_ratio(keyword, sentence_list[sentence_list.index(p_best_match) - 1])} | {sentence_list[sentence_list.index(p_best_match) - 1]}\")\n",
        "  print(f\"Partial After Match: {fuzz.partial_ratio(keyword, sentence_list[sentence_list.index(p_best_match) + 1])} | {sentence_list[sentence_list.index(p_best_match) + 1]}\")\n",
        "  print()"
      ],
      "metadata": {
        "id": "yRK1ILJFSZYa"
      },
      "execution_count": null,
      "outputs": []
    },
    {
      "cell_type": "code",
      "source": [
        "keyword_list = [get_keyword(code) for code in clean_icd10_code]\n",
        "keyword_list"
      ],
      "metadata": {
        "id": "lpyTbAmGEkg5"
      },
      "execution_count": null,
      "outputs": []
    },
    {
      "cell_type": "code",
      "source": [
        "[get_best_match(sentence_list, keyword) for keyword in keyword_list]"
      ],
      "metadata": {
        "id": "zpQ1gCbVXNFx"
      },
      "execution_count": null,
      "outputs": []
    },
    {
      "cell_type": "code",
      "source": [
        "def get_best_match(sentence_list, keyword_list):\n",
        "  for keyword in keyword_list:\n",
        "    #for sentence in sentence_list:\n",
        "    print(\"#\"*10)\n",
        "    print(f\"Matching for : {keyword}\")\n",
        "    match_list = process.extract(keyword, sentence_list, scorer = fuzz.ratio, limit = 3)\n",
        "    for match_found in match_list:\n",
        "      print(f\"{match_found[0]} | {match_found[1]}\")\n",
        "    print()"
      ],
      "metadata": {
        "id": "Tj28h6fOPXSd"
      },
      "execution_count": null,
      "outputs": []
    },
    {
      "cell_type": "code",
      "source": [
        "get_best_match(sentence_list, keyword_list)\n",
        "#process.extract(query, choices, scorer = fuzz.partial_ratio, limit = 2)"
      ],
      "metadata": {
        "id": "Lpb7D5IOOk5f"
      },
      "execution_count": null,
      "outputs": []
    },
    {
      "cell_type": "code",
      "source": [
        "sentence_list.index(\"Moderate Obstructive Sleep Apnea .\")"
      ],
      "metadata": {
        "id": "7PF541tZWM00",
        "outputId": "5961f3d1-1f3b-4b1b-e55e-05c4f65d34c6",
        "colab": {
          "base_uri": "https://localhost:8080/"
        }
      },
      "execution_count": null,
      "outputs": [
        {
          "output_type": "execute_result",
          "data": {
            "text/plain": [
              "25"
            ]
          },
          "metadata": {},
          "execution_count": 42
        }
      ]
    },
    {
      "cell_type": "code",
      "source": [
        "for idx, sent in enumerate(sentence_list):\n",
        "  print(f\"{idx}>{sent}\")"
      ],
      "metadata": {
        "id": "_EsIKRI9WXpn"
      },
      "execution_count": null,
      "outputs": []
    },
    {
      "cell_type": "markdown",
      "source": [
        "##All Together"
      ],
      "metadata": {
        "id": "xnOyuVdwJf7z"
      }
    },
    {
      "cell_type": "code",
      "source": [
        "def get_keyword(p_code):\n",
        "  keyword = \"\"\n",
        "   # reverse code if required\n",
        "  code = reverse_code_pattern(p_code)\n",
        "  # get keyword from dataset\n",
        "  keyword_list = list(code_df.loc[code_df[\"Code\"] == code][\"Keyword\"])\n",
        "  if len(keyword_list) > 0:\n",
        "    keyword = keyword_list[0]\n",
        "  return keyword\n",
        "\n",
        "def get_best_match(code10_dict, txt_list, num_page):\n",
        "  # Step 1: reverse code pattern\n",
        "  clean_icd10_code = [reverse_code_pattern(code) for code in page_code10_dict[num_page]]\n",
        "  # Step 2: fetch keyword based on code \n",
        "  keyword_list = [get_keyword(code) for code in clean_icd10_code]\n",
        "  # Step 3: prepare sentence list \n",
        "  with open(f\"{txt_list[num_page]}\", \"r\") as f:\n",
        "    lines = [line.rstrip('\\n') for line in f]\n",
        "    sentence_list = [\" \".join(line.split()) for line in lines] # Remove extra spaces, tabs, and line breaks\n",
        "\n",
        "  # Step 4: get best match \n",
        "  for keyword in keyword_list:\n",
        "    #for sentence in sentence_list:\n",
        "    print(\"#\"*10)\n",
        "    print(f\"Matching for : {keyword}\")\n",
        "    match_list = process.extract(keyword, sentence_list, scorer = fuzz.ratio, limit = 3)\n",
        "    print(match_list[0][1])\n",
        "    for idx, match_found in enumerate(match_list):\n",
        "      if match_found[1] > 40:\n",
        "        print(f\"{idx}> {match_found[0]} | {match_found[1]}\")\n",
        "    print()"
      ],
      "metadata": {
        "id": "DmuQsrthJh24"
      },
      "execution_count": 10,
      "outputs": []
    },
    {
      "cell_type": "code",
      "source": [
        "def get_best_match(p_code, num_page):\n",
        "    # Step 1: reverse code pattern\n",
        "    reversed_icd_code = reverse_code_pattern(p_code)\n",
        "    # Step 2: fetch keyword based on code \n",
        "    keyword = get_keyword(reversed_icd_code)\n",
        "    # Step 3: prepare sentence list \n",
        "    with open(f\"{txt_list[num_page]}\", \"r\") as f:\n",
        "      lines = [line.rstrip('\\n') for line in f]\n",
        "      sentence_list = [\" \".join(line.split()) for line in lines] # Remove extra spaces, tabs, and line breaks\n",
        "    # Step 4: get best 3 match ratio \n",
        "    match_list = process.extract(keyword, sentence_list, scorer = fuzz.ratio, limit = 3)\n",
        "    return match_list, sentence_list"
      ],
      "metadata": {
        "id": "enKktNs2TkPd"
      },
      "execution_count": null,
      "outputs": []
    },
    {
      "cell_type": "code",
      "source": [
        "clean_icd10_code = [reverse_code_pattern(code) for code in page_code10_dict[7]]\n",
        "clean_icd10_code"
      ],
      "metadata": {
        "id": "XK9QcFYaUJvi",
        "outputId": "9717c3de-5613-444e-d3fd-20f54d05eac9",
        "colab": {
          "base_uri": "https://localhost:8080/"
        }
      },
      "execution_count": null,
      "outputs": [
        {
          "output_type": "execute_result",
          "data": {
            "text/plain": [
              "['G47.10', 'G47.31', 'R06.83', 'G47.39', 'G47.33', 'G47.8', 'G47.34', 'R06.3']"
            ]
          },
          "metadata": {},
          "execution_count": 11
        }
      ]
    },
    {
      "cell_type": "code",
      "source": [
        "match_list, sentence_list = get_best_match(\"G47.10\", 7)\n",
        "match_list"
      ],
      "metadata": {
        "id": "OKm64hdlLVow",
        "outputId": "b92d2816-c743-401c-8d58-cffa55eafa01",
        "colab": {
          "base_uri": "https://localhost:8080/"
        }
      },
      "execution_count": null,
      "outputs": [
        {
          "output_type": "execute_result",
          "data": {
            "text/plain": [
              "[('(central sleep apnea (G47.31) CoHypersomnia, unspecified (G47.10)', 55),\n",
              " ('Diplomate in ABPN - Sleep Medicine', 45),\n",
              " ('Hypoxemia', 42)]"
            ]
          },
          "metadata": {},
          "execution_count": 31
        }
      ]
    },
    {
      "cell_type": "markdown",
      "source": [
        "Finding for `Hypersomnia, unspecified`:\n",
        "44 > Hypoxemia\n",
        "65 > (central sleep apnea (G47.31) CoHypersomnia, unspecified (G47.10)"
      ],
      "metadata": {
        "id": "n_z8v-H0ra7P"
      }
    },
    {
      "cell_type": "code",
      "source": [
        "with open(f\"{txt_list[21]}\", \"r\") as f:\n",
        "  lines = [line.rstrip('\\n') for line in f]\n",
        "  sentence_list = [\" \".join(line.split()) for line in lines] # Remove extra spaces, tabs, and line breaks"
      ],
      "metadata": {
        "id": "6OgZL7IBOPbf"
      },
      "execution_count": 11,
      "outputs": []
    },
    {
      "cell_type": "code",
      "source": [
        "def sort_tuple(tup):\n",
        "  return(sorted(tup, key = lambda x: x[1], reverse=True)) \n",
        "\n",
        "def get_best_token_match(p_code, num_page):\n",
        "  # Step 1: reverse code pattern\n",
        "  reversed_icd_code = reverse_code_pattern(p_code)\n",
        "  # Step 2: fetch keyword based on code \n",
        "  keyword = get_keyword(reversed_icd_code)\n",
        "  # Step 3: prepare sentence list \n",
        "  with open(f\"{txt_list[num_page]}\", \"r\") as f:\n",
        "    lines = [line.rstrip('\\n') for line in f]\n",
        "    sentence_list = [\" \".join(line.split()) for line in lines] # Remove extra spaces, tabs, and line breaks\n",
        "  # Step 4: get best token match ratio \n",
        "  #match_list = [fuzz.token_set_ratio(keyword, sentence) for sentence in sentence_list]\n",
        "  print(f\"Finding for `{keyword}`:\")\n",
        "  match_list = []\n",
        "  for sentence in sentence_list:\n",
        "    token_ratio = fuzz.token_set_ratio(keyword, sentence)\n",
        "    if token_ratio >= 45:\n",
        "      print(f\"{p_code}: {token_ratio} > {sentence}\")\n",
        "      match_list.extend((sentence, token_ratio))\n",
        "  print()\n",
        "  #return match_list"
      ],
      "metadata": {
        "id": "LZA1Oh-DVsvz"
      },
      "execution_count": 12,
      "outputs": []
    },
    {
      "cell_type": "code",
      "source": [
        "[code for code in page_code10_dict[21]]"
      ],
      "metadata": {
        "id": "ptMIwrFBdfyV",
        "outputId": "6eef9bf3-decb-4558-dec8-8b17fb3970f8",
        "colab": {
          "base_uri": "https://localhost:8080/"
        }
      },
      "execution_count": 13,
      "outputs": [
        {
          "output_type": "execute_result",
          "data": {
            "text/plain": [
              "['L73.9',\n",
              " 'Z00.00',\n",
              " 'D69.6',\n",
              " 'M54.5',\n",
              " 'Z68.25',\n",
              " '212.5',\n",
              " 'R10.32',\n",
              " 'S93.411A',\n",
              " 'K46.9',\n",
              " 'R05',\n",
              " 'R03',\n",
              " '278.9',\n",
              " 'J01.00',\n",
              " 'R50.9',\n",
              " 'Z78.9',\n",
              " 'R53.83',\n",
              " 'E78.3',\n",
              " '268.25',\n",
              " '287.5']"
            ]
          },
          "metadata": {},
          "execution_count": 13
        }
      ]
    },
    {
      "cell_type": "code",
      "source": [
        "[(code, get_keyword(code)) for code in page_code10_dict[21]]"
      ],
      "metadata": {
        "id": "Jl8ONBJOjpqI",
        "outputId": "a306069c-3603-4f37-b9d2-d35698de8f65",
        "colab": {
          "base_uri": "https://localhost:8080/"
        }
      },
      "execution_count": 14,
      "outputs": [
        {
          "output_type": "execute_result",
          "data": {
            "text/plain": [
              "[('L73.9', 'Follicular disorder, unspecified'),\n",
              " ('Z00.00', 'Encntr for general adult medical exam w/o abnormal findings'),\n",
              " ('D69.6', 'Thrombocytopenia, unspecified'),\n",
              " ('M54.5', 'Low back pain'),\n",
              " ('Z68.25', 'Body mass index [BMI] 25.0-25.9, adult'),\n",
              " ('212.5', 'Encounter for screening for malignant neoplasm of prostate'),\n",
              " ('R10.32', 'Left lower quadrant pain'),\n",
              " ('S93.411A', 'Sprain of calcaneofibular ligament of right ankle, init'),\n",
              " ('K46.9', 'Unspecified abdominal hernia without obstruction or gangrene'),\n",
              " ('R05', 'Cough'),\n",
              " ('R03', 'Abnormal blood-pressure reading, without diagnosis'),\n",
              " ('278.9', 'Other specified health status'),\n",
              " ('J01.00', 'Acute maxillary sinusitis, unspecified'),\n",
              " ('R50.9', 'Fever, unspecified'),\n",
              " ('Z78.9', 'Other specified health status'),\n",
              " ('R53.83', 'Other fatigue'),\n",
              " ('E78.3', 'Hyperchylomicronemia'),\n",
              " ('268.25', 'Body mass index [BMI] 25.0-25.9, adult'),\n",
              " ('287.5', 'Personal history of comp of preg, chldbrth and the puerp')]"
            ]
          },
          "metadata": {},
          "execution_count": 14
        }
      ]
    },
    {
      "cell_type": "code",
      "source": [
        "[get_best_token_match(code, 21) for code in page_code10_dict[21]]"
      ],
      "metadata": {
        "id": "GlI7J8Ym313a"
      },
      "execution_count": null,
      "outputs": []
    },
    {
      "cell_type": "code",
      "source": [
        "def get_best_token_match(p_code, num_page):\n",
        "  # Step 1: reverse code pattern\n",
        "  reversed_icd_code = reverse_code_pattern(p_code)\n",
        "  # Step 2: fetch keyword based on code \n",
        "  keyword = get_keyword(reversed_icd_code)\n",
        "  # Step 3: prepare sentence list \n",
        "  with open(f\"{txt_list[num_page]}\", \"r\") as f:\n",
        "    lines = [line.rstrip('\\n') for line in f]\n",
        "    sentence_list = [\" \".join(line.split()) for line in lines] # Remove extra spaces, tabs, and line breaks\n",
        "  # Step 4: get best token match ratio \n",
        "  match_list = [(sentence, fuzz.WRatio(keyword, sentence)) for sentence in sentence_list if fuzz.token_set_ratio(keyword, sentence) > 40]\n",
        "  return sort_tuple(match_list)"
      ],
      "metadata": {
        "id": "jCgz8N-1ySsS"
      },
      "execution_count": 16,
      "outputs": []
    },
    {
      "cell_type": "code",
      "source": [
        "match_list = [get_best_token_match(code, 21) for code in page_code10_dict[21]]"
      ],
      "metadata": {
        "id": "a8n55LWtWSFt"
      },
      "execution_count": 17,
      "outputs": []
    },
    {
      "cell_type": "code",
      "source": [
        "match_list"
      ],
      "metadata": {
        "id": "e3eWcMCedToP"
      },
      "execution_count": null,
      "outputs": []
    },
    {
      "cell_type": "code",
      "source": [
        "match_list = get_best_token_match(\"R50.9\", 21)\n",
        "match_list"
      ],
      "metadata": {
        "id": "mVVptrS379Pw",
        "outputId": "799a5909-ec43-44a0-d771-e56137f2e8bb",
        "colab": {
          "base_uri": "https://localhost:8080/"
        }
      },
      "execution_count": 19,
      "outputs": [
        {
          "output_type": "execute_result",
          "data": {
            "text/plain": [
              "[('Diagnosis Fever (R50.9), Sinusitis, acute, maxillary', 86),\n",
              " ('Diagnosis Fever (R50.9)', 45)]"
            ]
          },
          "metadata": {},
          "execution_count": 19
        }
      ]
    },
    {
      "cell_type": "code",
      "source": [
        "match_list[0]"
      ],
      "metadata": {
        "id": "zeVA6qkMz-xH",
        "outputId": "d2ff0bb4-b52a-4be6-8af5-57222d8fecfc",
        "colab": {
          "base_uri": "https://localhost:8080/"
        }
      },
      "execution_count": 20,
      "outputs": [
        {
          "output_type": "execute_result",
          "data": {
            "text/plain": [
              "('Diagnosis Fever (R50.9), Sinusitis, acute, maxillary', 86)"
            ]
          },
          "metadata": {},
          "execution_count": 20
        }
      ]
    },
    {
      "cell_type": "code",
      "source": [
        "match_list[0][1]"
      ],
      "metadata": {
        "id": "J_NcK_vK0I3G",
        "outputId": "617737ca-a466-419e-9f90-560867421c19",
        "colab": {
          "base_uri": "https://localhost:8080/"
        }
      },
      "execution_count": 23,
      "outputs": [
        {
          "output_type": "execute_result",
          "data": {
            "text/plain": [
              "86"
            ]
          },
          "metadata": {},
          "execution_count": 23
        }
      ]
    },
    {
      "cell_type": "code",
      "source": [
        "fuzz.token_set_ratio(get_keyword(\"E78.3\"), \"Diagnosis Hypertriglyceridemia, sporadic (E78.3)\")"
      ],
      "metadata": {
        "id": "WzPXfOvFW9ym",
        "outputId": "e17b29b9-0a70-4950-c50e-f34ae62e0eba",
        "colab": {
          "base_uri": "https://localhost:8080/"
        }
      },
      "execution_count": null,
      "outputs": [
        {
          "output_type": "execute_result",
          "data": {
            "text/plain": [
              "34"
            ]
          },
          "metadata": {},
          "execution_count": 16
        }
      ]
    },
    {
      "cell_type": "code",
      "source": [
        "fuzz.token_set_ratio(get_keyword(\"R50.9\"), \"Diagnosis Fever (R50.9), Sinusitis, acute, maxillary\")"
      ],
      "metadata": {
        "id": "hsrQ6WMfXPBN",
        "outputId": "8319eb98-8512-4cea-df3a-85f059e4c3cb",
        "colab": {
          "base_uri": "https://localhost:8080/"
        }
      },
      "execution_count": null,
      "outputs": [
        {
          "output_type": "execute_result",
          "data": {
            "text/plain": [
              "45"
            ]
          },
          "metadata": {},
          "execution_count": 17
        }
      ]
    },
    {
      "cell_type": "code",
      "source": [
        "fuzz.token_set_ratio(\"Fever, unspecified\", \"Diagnosis Fever (R50.9), Sinusitis, acute, maxillary\")"
      ],
      "metadata": {
        "id": "LZqInagFj_NX",
        "outputId": "eb7f6d8a-bbd3-4854-bdca-6ba9b54767d2",
        "colab": {
          "base_uri": "https://localhost:8080/"
        }
      },
      "execution_count": null,
      "outputs": [
        {
          "output_type": "execute_result",
          "data": {
            "text/plain": [
              "45"
            ]
          },
          "metadata": {},
          "execution_count": 18
        }
      ]
    },
    {
      "cell_type": "code",
      "source": [
        "fuzz.token_set_ratio(get_keyword(\"R50.9\"), \"Diagnosis Fever (R50.9)\")"
      ],
      "metadata": {
        "id": "MYDpgQjEXkiO",
        "outputId": "fd3bd2d9-2119-451a-83d1-46b489c3eb3f",
        "colab": {
          "base_uri": "https://localhost:8080/"
        }
      },
      "execution_count": null,
      "outputs": [
        {
          "output_type": "execute_result",
          "data": {
            "text/plain": [
              "47"
            ]
          },
          "metadata": {},
          "execution_count": 19
        }
      ]
    },
    {
      "cell_type": "code",
      "source": [
        "fuzz.WRatio(get_keyword(\"E78.3\"), \"Diagnosis Hypertriglyceridemia, sporadic (E78.3)\")"
      ],
      "metadata": {
        "id": "qhwxfW86vNQi",
        "outputId": "634ea3e4-f7c4-458b-9375-63f1215a07af",
        "colab": {
          "base_uri": "https://localhost:8080/"
        }
      },
      "execution_count": null,
      "outputs": [
        {
          "output_type": "execute_result",
          "data": {
            "text/plain": [
              "50"
            ]
          },
          "metadata": {},
          "execution_count": 20
        }
      ]
    },
    {
      "cell_type": "code",
      "source": [
        "def get_common_words(sent1, sent2):\n",
        "  sent1 = set(sent1.replace(\",\", \"\").lower().split())\n",
        "  sent2 = set(sent2.replace(\",\", \"\").lower().split())\n",
        "\n",
        "  return list(sent1 & sent2)"
      ],
      "metadata": {
        "id": "m2rTAnaEFHit"
      },
      "execution_count": null,
      "outputs": []
    },
    {
      "cell_type": "code",
      "source": [
        "def get_common_words(sent1, sent2):\n",
        "  clean_token1 = clean_text(sent1)\n",
        "  clean_token2 = clean_text(sent2)\n",
        "  token_set1 = set(clean_token1)\n",
        "  token_set2 = set(clean_token2)\n",
        "  return list(token_set1 & token_set2)"
      ],
      "metadata": {
        "id": "jI53XqgHjwmS"
      },
      "execution_count": 14,
      "outputs": []
    },
    {
      "cell_type": "code",
      "source": [
        "get_common_words(\n",
        "  \"Collected Date: \\nReported Date: \\nLab [Canceled, order Expired]: Comprehensive Metabolic Panel (CMP) \\nDiagnosis: Enentr for general adult medical exam w/o abnormal findings (Z00.00) \\n\",\n",
        "  \"Collected Date: \\nReported Date: \\nLab [Canceled, order Expired]: Comprehensive Metabolic Panel (CMP) \\nDiagnosis: Enentr for general adult medical exam w/o abnormal findings (Z00.00) \\n\"\n",
        ")"
      ],
      "metadata": {
        "id": "ieIzT5npsPLo",
        "outputId": "12afa65d-a063-4fc6-8b3a-c13c7317697d",
        "colab": {
          "base_uri": "https://localhost:8080/"
        }
      },
      "execution_count": 15,
      "outputs": [
        {
          "output_type": "execute_result",
          "data": {
            "text/plain": [
              "['general',\n",
              " 'Comprehensive',\n",
              " 'order',\n",
              " 'Reported',\n",
              " 'CMP',\n",
              " 'exam',\n",
              " 'Canceled',\n",
              " 'medical',\n",
              " 'findings',\n",
              " 'Collected',\n",
              " 'adult',\n",
              " 'Metabolic',\n",
              " 'Z00.00',\n",
              " 'abnormal',\n",
              " 'Diagnosis',\n",
              " 'w/o',\n",
              " 'Enentr',\n",
              " 'Date',\n",
              " 'Panel',\n",
              " 'Lab',\n",
              " 'Expired']"
            ]
          },
          "metadata": {},
          "execution_count": 15
        }
      ]
    },
    {
      "cell_type": "code",
      "source": [
        "def clean_text(sent):\n",
        "  # tokenize sentence\n",
        "  sent1 = word_tokenize(sent)\n",
        "  # filter stop words\n",
        "  filtered_sent = [w for w in sent1 if not w.lower() in stop_words]\n",
        "  filtered_sent = [w for w in filtered_sent if re.sub(re.compile('\\W'), '', w)]\n",
        "  return filtered_sent"
      ],
      "metadata": {
        "id": "8jNbjPTOsCPN"
      },
      "execution_count": 8,
      "outputs": []
    },
    {
      "cell_type": "code",
      "source": [
        "# Diagnosis Sprain of calcaneofibular (ligament) of right ankle, initial encounter (S93.411A)\n",
        "clean_text(\n",
        "  \"Diagnosis Left lower quadrant pain (R10.32), Non-smoker (Z78.9), Hernia (K46.9), Overweight (BMI 25.0 - 29.9), Body mass index (BMI) of 25.0-25.9 in adult (Z68.25), Dietary counseling and surveillance\"\n",
        ")"
      ],
      "metadata": {
        "id": "wdEqtIMDCifG",
        "outputId": "27335260-5d94-4420-8422-f90a520025ab",
        "colab": {
          "base_uri": "https://localhost:8080/"
        }
      },
      "execution_count": 17,
      "outputs": [
        {
          "output_type": "execute_result",
          "data": {
            "text/plain": [
              "['Diagnosis',\n",
              " 'Left',\n",
              " 'lower',\n",
              " 'quadrant',\n",
              " 'pain',\n",
              " 'R10.32',\n",
              " 'Non-smoker',\n",
              " 'Z78.9',\n",
              " 'Hernia',\n",
              " 'K46.9',\n",
              " 'Overweight',\n",
              " 'BMI',\n",
              " '25.0',\n",
              " '29.9',\n",
              " 'Body',\n",
              " 'mass',\n",
              " 'index',\n",
              " 'BMI',\n",
              " '25.0-25.9',\n",
              " 'adult',\n",
              " 'Z68.25',\n",
              " 'Dietary',\n",
              " 'counseling',\n",
              " 'surveillance']"
            ]
          },
          "metadata": {},
          "execution_count": 17
        }
      ]
    },
    {
      "cell_type": "code",
      "source": [
        "def find_nearest(array, value):\n",
        "  array = np.asarray(array)\n",
        "  idx = (np.abs(array - value)).argmin()\n",
        "  return array[idx]"
      ],
      "metadata": {
        "id": "1J1L0ncbDYWG"
      },
      "execution_count": null,
      "outputs": []
    },
    {
      "cell_type": "code",
      "source": [
        "array = np.random.random(10)\n",
        "print(array)"
      ],
      "metadata": {
        "id": "coA4aXDBX8qA",
        "outputId": "c63f3377-0d7a-4eac-cf55-78c7a5f896f8",
        "colab": {
          "base_uri": "https://localhost:8080/"
        }
      },
      "execution_count": null,
      "outputs": [
        {
          "output_type": "stream",
          "name": "stdout",
          "text": [
            "[0.93361323 0.10674056 0.81360362 0.26873547 0.7892294  0.36625687\n",
            " 0.48473053 0.43495106 0.68754387 0.28034082]\n"
          ]
        }
      ]
    },
    {
      "cell_type": "code",
      "source": [
        "print(find_nearest(array, value=0.35))"
      ],
      "metadata": {
        "id": "cL-TT9m-YBJB",
        "outputId": "df4917ab-8aba-4b18-d5aa-917e69a62918",
        "colab": {
          "base_uri": "https://localhost:8080/"
        }
      },
      "execution_count": null,
      "outputs": [
        {
          "output_type": "stream",
          "name": "stdout",
          "text": [
            "0.3662568679192558\n"
          ]
        }
      ]
    },
    {
      "cell_type": "markdown",
      "source": [
        "##Fitz"
      ],
      "metadata": {
        "id": "lUbkfe9gA8uh"
      }
    },
    {
      "cell_type": "code",
      "source": [
        "def find_nearest(array, value):\n",
        "  array = np.asarray(array)\n",
        "  idx = (np.abs(array - value)).argmin()\n",
        "  return array[idx]"
      ],
      "metadata": {
        "id": "rcCQw9qgYXZa"
      },
      "execution_count": 7,
      "outputs": []
    },
    {
      "cell_type": "code",
      "source": [
        "pdf_file = fitz.open(\"page-11.pdf\")  #Create pdf file object\n",
        "pdf_page_count = pdf_file.page_count   #var to hold page count\n",
        "for page in range(pdf_page_count):  #notice that page starts with index 0\n",
        "  page_obj = pdf_file[page] #Create page object\n",
        "  #content_of_page = pdf_file.get_page_text(page) #Get page content\n",
        "  match_word = \"Z00.00\" \n",
        "  content_of_page = page_obj.get_text(\"blocks\", sort=False)  #get rect for all words\n",
        "\n",
        "  coords_array = []\n",
        "  y_coords_array = []\n",
        "  for content in content_of_page:\n",
        "    print(content)\n",
        "    if content[4].replace(\"(\", \"\").replace(\")\", \"\") == match_word:\n",
        "      rect_comp = fitz.Rect(content[0],content[1],content[2],content[3])\n",
        "      print(f\"Line #{content[6]}-{content[4]} > {rect_comp}\")\n",
        "      coords_array.append(rect_comp)\n",
        "      y_coords_array.append(content[1])\n",
        "      \n",
        "      #coord = fitz.Rect(content[1]).rect\n",
        "      print(rect_comp[1])\n",
        "\n",
        "      highlight = page_obj.add_highlight_annot(rect_comp)\n",
        "      highlight.set_colors(stroke=[0.2, 1, 0.8])\n",
        "      highlight.update()\n",
        "\n",
        "  # find closet y coordinate value\n",
        "  closet_y_coords = find_nearest(y_coords_array, value=74.320068359375)\n",
        "  match_word = \"Comprehensive\" \n",
        "  for content in content_of_page:\n",
        "    # print(word)\n",
        "    if content[4].replace(\"(\", \"\").replace(\")\", \"\") == match_word and (closet_y_coords-20) <= content[1] <= (closet_y_coords + 20):\n",
        "      rect_comp = fitz.Rect(content[0],content[1],content[2],content[3])\n",
        "      print(f\"Line #{content[6]}-{content[4]} > {rect_comp}\")\n",
        "      highlight = page_obj.add_highlight_annot(rect_comp)\n",
        "      highlight.set_colors(stroke=[1, 1, 0])\n",
        "      highlight.update()\n",
        "\n",
        "pdf_output_file_name = f\"page_11_output.pdf\"\n",
        "pdf_file.save(pdf_output_file_name, garbage=4, deflate=True, clean=True)"
      ],
      "metadata": {
        "id": "uK6DLGv7bSar",
        "outputId": "2beb3c7f-e5ad-43fb-c359-18c55662ddb0",
        "colab": {
          "base_uri": "https://localhost:8080/",
          "height": 828
        }
      },
      "execution_count": 10,
      "outputs": [
        {
          "output_type": "stream",
          "name": "stdout",
          "text": [
            "(62.63398361206055, 34.760009765625, 191.74160766601562, 41.763427734375, '= = . vap \\n. sun , \\n', 0, 0)\n",
            "(62.63398361206055, 44.08001708984375, 372.44427490234375, 82.323974609375, 'Collected Date: \\nReported Date: \\nLab [Canceled, order Expired]: Comprehensive Metabolic Panel (CMP) \\nDiagnosis: Enentr for general adult medical exam w/o abnormal findings (Z00.00) \\n', 1, 0)\n",
            "(65.51370239257812, 113.96002197265625, 402.4411315917969, 120.96343994140625, 'Test Name \\nResult \\nUnits \\n', 2, 0)\n",
            "(484.9934387207031, 20.32000732421875, 537.5484619140625, 34.32684326171875, '   \\n', 3, 0)\n",
            "(430.5186462402344, 24.44000244140625, 523.3900146484375, 41.763916015625, 'Patient DOB: \\nOrdered by: Nicole Khalil \\n', 5, 0)\n",
            "(430.5186462402344, 44.08001708984375, 505.8713684082031, 52.08392333984375, 'Site: Silver Pine Lab \\n', 6, 0)\n",
            "(64.07384490966797, 112.96002197265625, 586.503662109375, 134.8839111328125, 'Normal Range \\nStatus \\n  \\nNo Results Available \\n', 8, 0)\n",
            "(62.63398361206055, 196.47998046875, 372.4442443847656, 245.0439453125, 'Order Date: 12/18/2019 10:00 AM \\nCollected Date: \\nReported Date: \\nLab [Canceled, order Expired]: Lipid Panel \\n( LP) \\nDiagnosis: Encntr for general adult medical exam w/o abnormal findings (Z00.00) \\n', 9, 0)\n",
            "(65.51370239257812, 276.9200134277344, 402.4411315917969, 283.9234313964844, 'Test Name \\nResult \\nUnits \\n', 10, 0)\n",
            "(430.5186462402344, 186.6400146484375, 523.3900146484375, 204.48394775390625, 'Patient DOB: \\nOrdered by: Nicole Khalil \\n', 11, 0)\n",
            "(430.5186462402344, 206.800048828125, 505.8713684082031, 214.803955078125, 'Site: Silver Pine Lab \\n', 12, 0)\n",
            "(64.07384490966797, 273.9200134277344, 586.503662109375, 298.0838928222656, 'Normal Range \\nStatus \\n  \\nNo Results Available \\n', 13, 0)\n",
            "(62.63398361206055, 357.9599914550781, 372.4445495605469, 417.8438720703125, 'Order Date: 12/18/2019 10:00 AM \\nCollected Date: \\nReported Date: \\nLab [Canceled, order Expired]: Thyroid Stimulating Hormone (TSH) \\nLOINC: 11679-0 \\nDiagnosis: Enentr for general adult medical exam w/o abnormal findings (Z00.00) \\n', 14, 0)\n",
            "(65.51370239257812, 448.4800109863281, 402.4413146972656, 456.4839172363281, 'Test Name \\nResult \\nUnits \\n', 15, 0)\n",
            "(424.2792663574219, 368.20001220703125, 527.46923828125, 379.20538330078125, '   \\n', 16, 0)\n",
            "(484.9934387207031, 346.9599914550781, 536.5884399414062, 354.9638977050781, '    \\n', 17, 0)\n",
            "(430.5186462402344, 348.3599853515625, 523.3900146484375, 366.9638977050781, 'Patient DOB: \\nOrdered by: Nicole Khalil \\n', 19, 0)\n",
            "(64.07384490966797, 448.4800109863281, 586.503662109375, 469.9239196777344, 'Normal Range \\nStatus \\n  \\nNo Results Available \\n', 20, 0)\n",
            "(62.63398361206055, 542.0800170898438, 377.96368408203125, 580.5639038085938, 'Collected Date: \\nReported Date: \\nLab [Canceled, order Expired]: Prostate Specific Antigen (PSA)- Screening (84153) \\nDiagnosis: Encntr for general adult medical exam w/o abnormal findings (Z00.00) \\n', 21, 0)\n",
            "(65.51370239257812, 611.2000122070312, 402.4413146972656, 619.2039184570312, 'Test Name \\nResult \\nUnits \\n', 22, 0)\n",
            "(430.5186462402344, 522.4000244140625, 523.3900146484375, 540.00390625, 'Patient DOB: \\nOrdered by: Nicole Khalil \\n', 23, 0)\n",
            "(430.5186462402344, 543.0800170898438, 505.8713684082031, 550.0834350585938, 'Site: Slver Pine Lab \\n', 24, 0)\n",
            "(64.07384490966797, 609.2000122070312, 586.503662109375, 633.6038818359375, 'Normal Range \\nStatus” \\n  \\nNo Results Available \\n', 25, 0)\n",
            "(62.39400863647461, 753.0399780273438, 587.463623046875, 755.0409545898438, '  \\n', 26, 0)\n",
            "(66.47361755371094, 752.2000122070312, 582.9055786132812, 763.4434204101562, 'Tuesday, June 28, 2022 \\nPage 5/13\\n', 27, 0)\n",
            "(0.0, 0.0, 612.0, 792.0, '<image: Indexed(231,DeviceRGB), width: 1224, height: 1584, bpc: 8>', 28, 1)\n"
          ]
        },
        {
          "output_type": "error",
          "ename": "ValueError",
          "evalue": "ignored",
          "traceback": [
            "\u001b[0;31m---------------------------------------------------------------------------\u001b[0m",
            "\u001b[0;31mValueError\u001b[0m                                Traceback (most recent call last)",
            "\u001b[0;32m<ipython-input-10-b80edbf78a51>\u001b[0m in \u001b[0;36m<module>\u001b[0;34m\u001b[0m\n\u001b[1;32m     25\u001b[0m \u001b[0;34m\u001b[0m\u001b[0m\n\u001b[1;32m     26\u001b[0m   \u001b[0;31m# find closet y coordinate value\u001b[0m\u001b[0;34m\u001b[0m\u001b[0;34m\u001b[0m\u001b[0;34m\u001b[0m\u001b[0m\n\u001b[0;32m---> 27\u001b[0;31m   \u001b[0mcloset_y_coords\u001b[0m \u001b[0;34m=\u001b[0m \u001b[0mfind_nearest\u001b[0m\u001b[0;34m(\u001b[0m\u001b[0my_coords_array\u001b[0m\u001b[0;34m,\u001b[0m \u001b[0mvalue\u001b[0m\u001b[0;34m=\u001b[0m\u001b[0;36m74.320068359375\u001b[0m\u001b[0;34m)\u001b[0m\u001b[0;34m\u001b[0m\u001b[0;34m\u001b[0m\u001b[0m\n\u001b[0m\u001b[1;32m     28\u001b[0m   \u001b[0mmatch_word\u001b[0m \u001b[0;34m=\u001b[0m \u001b[0;34m\"Comprehensive\"\u001b[0m\u001b[0;34m\u001b[0m\u001b[0;34m\u001b[0m\u001b[0m\n\u001b[1;32m     29\u001b[0m   \u001b[0;32mfor\u001b[0m \u001b[0mcontent\u001b[0m \u001b[0;32min\u001b[0m \u001b[0mcontent_of_page\u001b[0m\u001b[0;34m:\u001b[0m\u001b[0;34m\u001b[0m\u001b[0;34m\u001b[0m\u001b[0m\n",
            "\u001b[0;32m<ipython-input-3-64e1c1ebb45e>\u001b[0m in \u001b[0;36mfind_nearest\u001b[0;34m(array, value)\u001b[0m\n\u001b[1;32m    213\u001b[0m \u001b[0;32mdef\u001b[0m \u001b[0mfind_nearest\u001b[0m\u001b[0;34m(\u001b[0m\u001b[0marray\u001b[0m\u001b[0;34m,\u001b[0m \u001b[0mvalue\u001b[0m\u001b[0;34m)\u001b[0m\u001b[0;34m:\u001b[0m\u001b[0;34m\u001b[0m\u001b[0;34m\u001b[0m\u001b[0m\n\u001b[1;32m    214\u001b[0m   \u001b[0marray\u001b[0m \u001b[0;34m=\u001b[0m \u001b[0mnp\u001b[0m\u001b[0;34m.\u001b[0m\u001b[0masarray\u001b[0m\u001b[0;34m(\u001b[0m\u001b[0marray\u001b[0m\u001b[0;34m)\u001b[0m\u001b[0;34m\u001b[0m\u001b[0;34m\u001b[0m\u001b[0m\n\u001b[0;32m--> 215\u001b[0;31m   \u001b[0midx\u001b[0m \u001b[0;34m=\u001b[0m \u001b[0;34m(\u001b[0m\u001b[0mnp\u001b[0m\u001b[0;34m.\u001b[0m\u001b[0mabs\u001b[0m\u001b[0;34m(\u001b[0m\u001b[0marray\u001b[0m \u001b[0;34m-\u001b[0m \u001b[0mvalue\u001b[0m\u001b[0;34m)\u001b[0m\u001b[0;34m)\u001b[0m\u001b[0;34m.\u001b[0m\u001b[0margmin\u001b[0m\u001b[0;34m(\u001b[0m\u001b[0;34m)\u001b[0m\u001b[0;34m\u001b[0m\u001b[0;34m\u001b[0m\u001b[0m\n\u001b[0m\u001b[1;32m    216\u001b[0m   \u001b[0;32mreturn\u001b[0m \u001b[0marray\u001b[0m\u001b[0;34m[\u001b[0m\u001b[0midx\u001b[0m\u001b[0;34m]\u001b[0m\u001b[0;34m\u001b[0m\u001b[0;34m\u001b[0m\u001b[0m\n\u001b[1;32m    217\u001b[0m \u001b[0;34m\u001b[0m\u001b[0m\n",
            "\u001b[0;31mValueError\u001b[0m: attempt to get argmin of an empty sequence"
          ]
        }
      ]
    },
    {
      "cell_type": "code",
      "source": [
        "list1 = [74.320068359375, 237.0400390625, 409.8399658203125, 572.5599975585938]\n",
        "curr_value = 74.320068359375 + 20\n",
        "find_nearest(list1, value=curr_value)"
      ],
      "metadata": {
        "id": "XT0I4MwTe6AR",
        "outputId": "499fecb6-9b44-4c56-96ac-7f4ad63f7d1d",
        "colab": {
          "base_uri": "https://localhost:8080/"
        }
      },
      "execution_count": null,
      "outputs": [
        {
          "output_type": "execute_result",
          "data": {
            "text/plain": [
              "74.320068359375"
            ]
          },
          "metadata": {},
          "execution_count": 20
        }
      ]
    },
    {
      "cell_type": "code",
      "source": [
        "curr_value = 74.320068359375 - 20\n",
        "find_nearest(list1, value=curr_value)"
      ],
      "metadata": {
        "id": "BQ1lu6yjsj_z",
        "outputId": "826e7082-f6d2-4f6e-c852-0c514d02a1b9",
        "colab": {
          "base_uri": "https://localhost:8080/"
        }
      },
      "execution_count": null,
      "outputs": [
        {
          "output_type": "execute_result",
          "data": {
            "text/plain": [
              "74.320068359375"
            ]
          },
          "metadata": {},
          "execution_count": 21
        }
      ]
    },
    {
      "cell_type": "code",
      "source": [
        "def get_word_coordinate(page_obj, common_words):\n",
        "  word_coords = {}\n",
        "  content_of_page = page_obj.get_text(\"words\", sort=False)  #get rect for all words\n",
        "  for content in content_of_page:\n",
        "    # print(word)\n",
        "    for idx, common_word in enumerate(common_words):\n",
        "      word_coord = {}\n",
        "      curr_word = content[4].replace(\"(\", \"\").replace(\")\", \"\")\n",
        "      if curr_word == match_word:\n",
        "        rect_comp = fitz.Rect(content[0],content[1],content[2],content[3])\n",
        "        word_coord[common_word] = rect_comp\n",
        "        word_coord[\"Line#\"] = content[6]\n",
        "        word_coords[idx] = word_coord\n",
        "  return word_coords"
      ],
      "metadata": {
        "id": "kS5_-wkwkvZs"
      },
      "execution_count": null,
      "outputs": []
    },
    {
      "cell_type": "code",
      "source": [
        "pdf_file = fitz.open(\"pdf-files/page-11.pdf\")  #Create pdf file object\n",
        "pdf_page_count = pdf_file.page_count   #var to hold page count\n",
        "for page in range(pdf_page_count):  #notice that page starts with index 0\n",
        "  page_obj = pdf_file[page] #Create page object\n",
        "  print(get_word_coordinate(page_obj, [\"general\", \"adult\", \"medical\", \"exam\"]))"
      ],
      "metadata": {
        "id": "2qs3rb4umbmS",
        "outputId": "b42ff6a5-0721-4c17-d1da-c1a22151bcbc",
        "colab": {
          "base_uri": "https://localhost:8080/"
        }
      },
      "execution_count": null,
      "outputs": [
        {
          "output_type": "stream",
          "name": "stdout",
          "text": [
            "{0: {'general': Rect(242.856689453125, 65.00006103515625, 274.8216857910156, 72.00347900390625), 'Line#': 2}, 1: {'adult': Rect(242.856689453125, 65.00006103515625, 274.8216857910156, 72.00347900390625), 'Line#': 2}, 2: {'medical': Rect(242.856689453125, 65.00006103515625, 274.8216857910156, 72.00347900390625), 'Line#': 2}, 3: {'exam': Rect(242.856689453125, 65.00006103515625, 274.8216857910156, 72.00347900390625), 'Line#': 2}}\n"
          ]
        }
      ]
    },
    {
      "cell_type": "code",
      "source": [
        "def highlight_common_words(page_obj, y_coords_array, curr_y_coord, common_word_list):\n",
        "  page_content = page_obj.get_text(\"words\", sort=False)  #get rect for all words\n",
        "\n",
        "  # find closet y coordinate value\n",
        "  closet_y_coords = find_nearest(y_coords_array, value=curr_y_coord)\n",
        "  match_word = \"Comprehensive\" \n",
        "  for content in page_content:\n",
        "    for common_word in common_word_list:\n",
        "      if content[4].replace(\"(\", \"\").replace(\")\", \"\") == common_word and (closet_y_coords-20) <= content[1] <= (closet_y_coords + 20):\n",
        "        rect_comp = fitz.Rect(content[0],content[1],content[2],content[3])\n",
        "        print(f\"Line #{content[6]}-{content[4]} > {rect_comp}\")\n",
        "        highlight = page_obj.add_highlight_annot(rect_comp)\n",
        "        highlight.set_colors(stroke=[1, 1, 0])\n",
        "        highlight.update()"
      ],
      "metadata": {
        "id": "7rvJixWFeJlA"
      },
      "execution_count": null,
      "outputs": []
    }
  ]
}