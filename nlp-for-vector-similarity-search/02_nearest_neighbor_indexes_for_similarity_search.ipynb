{
  "nbformat": 4,
  "nbformat_minor": 0,
  "metadata": {
    "colab": {
      "provenance": [],
      "toc_visible": true,
      "authorship_tag": "ABX9TyMDBFrlaiFWiUqnx3/hg2NF",
      "include_colab_link": true
    },
    "kernelspec": {
      "name": "python3",
      "display_name": "Python 3"
    },
    "language_info": {
      "name": "python"
    }
  },
  "cells": [
    {
      "cell_type": "markdown",
      "metadata": {
        "id": "view-in-github",
        "colab_type": "text"
      },
      "source": [
        "<a href=\"https://colab.research.google.com/github/rahiakela/natural-language-processing-research-and-practice/blob/main/nlp-for-vector-similarity-search/02_nearest_neighbor_indexes_for_similarity_search.ipynb\" target=\"_parent\"><img src=\"https://colab.research.google.com/assets/colab-badge.svg\" alt=\"Open In Colab\"/></a>"
      ]
    },
    {
      "cell_type": "markdown",
      "source": [
        "##Nearest Neighbor Indexes for Similarity Search"
      ],
      "metadata": {
        "id": "BLPPphUi0c57"
      }
    },
    {
      "cell_type": "markdown",
      "source": [
        "**Reference**\n",
        "\n",
        "[Nearest Neighbor Indexes for Similarity Search](https://www.pinecone.io/learn/vector-indexes/)"
      ],
      "metadata": {
        "id": "275UI25f0iHO"
      }
    },
    {
      "cell_type": "markdown",
      "source": [
        "##Setup"
      ],
      "metadata": {
        "id": "APSRq6kS0oIH"
      }
    },
    {
      "cell_type": "code",
      "source": [
        "!pip install faiss-cpu\n",
        "!pip install -U sentence-transformers"
      ],
      "metadata": {
        "id": "N1Pj5L0k1wi_"
      },
      "execution_count": null,
      "outputs": []
    },
    {
      "cell_type": "code",
      "source": [
        "import shutil\n",
        "import urllib.request as request\n",
        "from contextlib import closing\n",
        "from io import StringIO\n",
        "import pandas as pd\n",
        "import numpy as np\n",
        "import tarfile\n",
        "\n",
        "from sentence_transformers import SentenceTransformer\n",
        "\n",
        "import faiss"
      ],
      "metadata": {
        "id": "yTbeoQNg0pH0"
      },
      "execution_count": 4,
      "outputs": []
    },
    {
      "cell_type": "markdown",
      "source": [
        "##Dataset"
      ],
      "metadata": {
        "id": "oNMFeczI2Yxo"
      }
    },
    {
      "cell_type": "code",
      "source": [
        "# first we download the Sift1M dataset\n",
        "with closing(request.urlopen(\"ftp://ftp.irisa.fr/local/texmex/corpus/sift.tar.gz\")) as res:\n",
        "  with open(\"sift.tar.gz\", \"wb\") as f:\n",
        "    shutil.copyfileobj(res, f)"
      ],
      "metadata": {
        "id": "B3tO9mGJ2aQR"
      },
      "execution_count": 5,
      "outputs": []
    },
    {
      "cell_type": "code",
      "source": [
        "# download leaves us with a tar.gz file, we unzip it\n",
        "tar = tarfile.open(\"sift.tar.gz\", \"r:gz\")\n",
        "tar.extractall()"
      ],
      "metadata": {
        "id": "uK1ulgEB2q0E"
      },
      "execution_count": 6,
      "outputs": []
    },
    {
      "cell_type": "code",
      "source": [
        "# now define a function to read the fvecs file format of Sift1M dataset\n",
        "def read_fvecs(fp):\n",
        "  a = np.fromfile(fp, \"int32\")\n",
        "  d = a[0]\n",
        "  return a.reshape(-1, d + 1)[:, 1:].copy().view(\"float32\")"
      ],
      "metadata": {
        "id": "UstnqIgy2y12"
      },
      "execution_count": 7,
      "outputs": []
    },
    {
      "cell_type": "code",
      "source": [
        "#  data we will search through\n",
        "xb = read_fvecs(\"./sift/sift_base.fvecs\")  # 1M samples\n",
        "# also get some query vectors to search with\n",
        "xq = read_fvecs('./sift/sift_query.fvecs')\n",
        "# take just one query (there are many in sift_learn.fvecs)\n",
        "xq = xq[0].reshape(1, xq.shape[1])"
      ],
      "metadata": {
        "id": "3JPsgqZ34KrS"
      },
      "execution_count": 9,
      "outputs": []
    },
    {
      "cell_type": "code",
      "source": [
        "xq.shape"
      ],
      "metadata": {
        "colab": {
          "base_uri": "https://localhost:8080/"
        },
        "id": "V-R6isB44xWX",
        "outputId": "d54ad970-aad7-45e6-9fc1-a71f3a52e5b6"
      },
      "execution_count": 10,
      "outputs": [
        {
          "output_type": "execute_result",
          "data": {
            "text/plain": [
              "(1, 128)"
            ]
          },
          "metadata": {},
          "execution_count": 10
        }
      ]
    },
    {
      "cell_type": "code",
      "source": [
        "xb.shape"
      ],
      "metadata": {
        "colab": {
          "base_uri": "https://localhost:8080/"
        },
        "id": "ADGm57pWtddP",
        "outputId": "9879d296-2789-454b-ef4d-37a13a7bf01f"
      },
      "execution_count": 11,
      "outputs": [
        {
          "output_type": "execute_result",
          "data": {
            "text/plain": [
              "(1000000, 128)"
            ]
          },
          "metadata": {},
          "execution_count": 11
        }
      ]
    },
    {
      "cell_type": "code",
      "source": [
        "xq"
      ],
      "metadata": {
        "colab": {
          "base_uri": "https://localhost:8080/"
        },
        "id": "mBy_F34ntgEc",
        "outputId": "ecad3001-6fa1-46ba-bdc8-e28dcf3b65ce"
      },
      "execution_count": 12,
      "outputs": [
        {
          "output_type": "execute_result",
          "data": {
            "text/plain": [
              "array([[  1.,   3.,  11., 110.,  62.,  22.,   4.,   0.,  43.,  21.,  22.,\n",
              "         18.,   6.,  28.,  64.,   9.,  11.,   1.,   0.,   0.,   1.,  40.,\n",
              "        101.,  21.,  20.,   2.,   4.,   2.,   2.,   9.,  18.,  35.,   1.,\n",
              "          1.,   7.,  25., 108., 116.,  63.,   2.,   0.,   0.,  11.,  74.,\n",
              "         40., 101., 116.,   3.,  33.,   1.,   1.,  11.,  14.,  18., 116.,\n",
              "        116.,  68.,  12.,   5.,   4.,   2.,   2.,   9., 102.,  17.,   3.,\n",
              "         10.,  18.,   8.,  15.,  67.,  63.,  15.,   0.,  14., 116.,  80.,\n",
              "          0.,   2.,  22.,  96.,  37.,  28.,  88.,  43.,   1.,   4.,  18.,\n",
              "        116.,  51.,   5.,  11.,  32.,  14.,   8.,  23.,  44.,  17.,  12.,\n",
              "          9.,   0.,   0.,  19.,  37.,  85.,  18.,  16., 104.,  22.,   6.,\n",
              "          2.,  26.,  12.,  58.,  67.,  82.,  25.,  12.,   2.,   2.,  25.,\n",
              "         18.,   8.,   2.,  19.,  42.,  48.,  11.]], dtype=float32)"
            ]
          },
          "metadata": {},
          "execution_count": 12
        }
      ]
    },
    {
      "cell_type": "markdown",
      "source": [
        "##Flat Index"
      ],
      "metadata": {
        "id": "eg2N1oht6SEL"
      }
    },
    {
      "cell_type": "code",
      "source": [
        "# dimensionality of Sift1M data\n",
        "d = 128\n",
        "# number of nearest neighbors to return\n",
        "k = 10"
      ],
      "metadata": {
        "id": "vAchL50l6SqS"
      },
      "execution_count": 13,
      "outputs": []
    },
    {
      "cell_type": "code",
      "source": [
        "# initialize IndexFlatL2 index\n",
        "index = faiss.IndexFlatIP(d)\n",
        "index.add(xb)"
      ],
      "metadata": {
        "id": "6HBEVNIR7eT2"
      },
      "execution_count": 14,
      "outputs": []
    },
    {
      "cell_type": "code",
      "source": [
        "%%time\n",
        "\n",
        "# search\n",
        "D, I = index.search(xq, k)\n",
        "print(I)"
      ],
      "metadata": {
        "colab": {
          "base_uri": "https://localhost:8080/"
        },
        "id": "Gf6FqD9WG9AN",
        "outputId": "a0d8351d-70cd-493c-d661-e7823c13d3dd"
      },
      "execution_count": 15,
      "outputs": [
        {
          "output_type": "stream",
          "name": "stdout",
          "text": [
            "[[932085 934876 561813 708177 706771 695756 435345 701258 872728 455537]]\n",
            "CPU times: user 54.7 ms, sys: 0 ns, total: 54.7 ms\n",
            "Wall time: 61.1 ms\n"
          ]
        }
      ]
    },
    {
      "cell_type": "code",
      "source": [
        "# [f'{i}: {sentences[i]}' for i in I[0]]"
      ],
      "metadata": {
        "colab": {
          "base_uri": "https://localhost:8080/"
        },
        "id": "ZNqTcmj-WMdD",
        "outputId": "0c6d0699-f73a-49d2-d39d-7a90cff7b6e7"
      },
      "execution_count": null,
      "outputs": [
        {
          "output_type": "execute_result",
          "data": {
            "text/plain": [
              "['3853: A group of football players is running in the field',\n",
              " '3412: A group of people playing football is running in the field',\n",
              " '10113: Two groups of people are playing football',\n",
              " '4266: A person playing football is running past an official carrying a football']"
            ]
          },
          "metadata": {},
          "execution_count": 17
        }
      ]
    },
    {
      "cell_type": "markdown",
      "source": [
        "## Locality Sensitive Hashing"
      ],
      "metadata": {
        "id": "bGs6OE0gH1by"
      }
    },
    {
      "cell_type": "code",
      "source": [
        "# we have 4 vectors to return (k) - so we initialize a zero array to hold them\n",
        "vecs = np.zeros((k, d))\n",
        "\n",
        "# then iterate through each ID from I and add the reconstructed vector to our zero-array\n",
        "for i, val in enumerate(I[0].tolist()):\n",
        "  vecs[i, :] = index.reconstruct(val)\n",
        "  \n",
        "vecs.shape"
      ],
      "metadata": {
        "id": "DZNlU8ZMHl-9",
        "colab": {
          "base_uri": "https://localhost:8080/"
        },
        "outputId": "a3539d21-0e95-4490-a3a2-6351dffb93d3"
      },
      "execution_count": null,
      "outputs": [
        {
          "output_type": "execute_result",
          "data": {
            "text/plain": [
              "(4, 768)"
            ]
          },
          "metadata": {},
          "execution_count": 18
        }
      ]
    },
    {
      "cell_type": "code",
      "source": [
        "vecs[0][:100]"
      ],
      "metadata": {
        "id": "x5VYDE1cJ0rZ",
        "colab": {
          "base_uri": "https://localhost:8080/"
        },
        "outputId": "aa35162c-f27e-470c-9653-089bba976c65"
      },
      "execution_count": null,
      "outputs": [
        {
          "output_type": "execute_result",
          "data": {
            "text/plain": [
              "array([ 0.01627023,  0.22325909, -0.15037383, -0.30747274, -0.27122426,\n",
              "       -0.105932  , -0.06460915,  0.0473821 , -0.73349071, -0.37657702,\n",
              "       -0.76762801,  0.16902868,  0.53107685,  0.51176631,  1.14415824,\n",
              "       -0.08562893, -0.67240089, -0.96637088,  0.02545471, -0.2155983 ,\n",
              "       -1.25656641, -0.82982188, -0.09824977, -0.21850872,  0.5061025 ,\n",
              "        0.10527933,  0.50396907,  0.65242976, -1.39458668,  0.65847468,\n",
              "       -0.21525355, -0.22487433,  0.81818348,  0.08464285, -0.76141697,\n",
              "       -0.28928307, -0.0982579 , -0.73046142,  0.07855832, -0.84354609,\n",
              "       -0.59242088,  0.7747137 , -1.20920563, -0.22757971, -1.30733621,\n",
              "       -0.23081483, -1.31322527,  0.01629104, -0.97285467,  0.19308169,\n",
              "        0.47424543,  1.1892091 , -1.96741259, -0.70061135, -0.29638749,\n",
              "        0.6053372 ,  0.6240744 , -0.70340365, -0.86754185,  0.17673104,\n",
              "       -0.19170581, -0.02951968,  0.22623521, -0.16695444, -0.80402541,\n",
              "       -0.45918944,  0.69675523, -0.249282  , -1.01478708, -0.92174548,\n",
              "       -0.33842674, -0.39296743, -0.83734846, -0.11479274,  0.46049711,\n",
              "       -1.45211184,  0.60310441,  0.38696304, -0.04061219,  0.00453163,\n",
              "        0.2411785 ,  0.05396252,  0.07506428,  1.05115855,  0.12383974,\n",
              "       -0.71281129,  0.11722916,  0.52238196, -0.04581163,  0.26827079,\n",
              "        0.85985422, -0.35669896, -0.64667118, -0.54357922, -0.04310513,\n",
              "        0.95139217, -0.15605699, -0.49625286, -0.11140189,  0.15610148])"
            ]
          },
          "metadata": {},
          "execution_count": 19
        }
      ]
    },
    {
      "cell_type": "markdown",
      "source": [
        "##Partitioning The Index"
      ],
      "metadata": {
        "id": "RZFfNDYiJs0C"
      }
    },
    {
      "cell_type": "code",
      "source": [
        "# how many cells\n",
        "n_list = 50\n",
        "quantizer = faiss.IndexFlatL2(d)\n",
        "index = faiss.IndexIVFFlat(quantizer, d, n_list)"
      ],
      "metadata": {
        "id": "mdXMe--TJtf6"
      },
      "execution_count": null,
      "outputs": []
    },
    {
      "cell_type": "code",
      "source": [
        "# train index on data before adding any data to the index\n",
        "index.is_trained"
      ],
      "metadata": {
        "colab": {
          "base_uri": "https://localhost:8080/"
        },
        "id": "Ql7moEgBKYVv",
        "outputId": "8ab26dce-acff-4797-d5c5-3d08fba1e4c5"
      },
      "execution_count": null,
      "outputs": [
        {
          "output_type": "execute_result",
          "data": {
            "text/plain": [
              "False"
            ]
          },
          "metadata": {},
          "execution_count": 21
        }
      ]
    },
    {
      "cell_type": "code",
      "source": [
        "index.train(sentence_embeddings)\n",
        "# check if index is now trained\n",
        "index.is_trained"
      ],
      "metadata": {
        "colab": {
          "base_uri": "https://localhost:8080/"
        },
        "id": "oWOkLqArKhB7",
        "outputId": "12356a64-62aa-4682-c25e-3c17b8219b30"
      },
      "execution_count": null,
      "outputs": [
        {
          "output_type": "execute_result",
          "data": {
            "text/plain": [
              "True"
            ]
          },
          "metadata": {},
          "execution_count": 22
        }
      ]
    },
    {
      "cell_type": "code",
      "source": [
        "index.add(sentence_embeddings)\n",
        "# number of embeddings indexed\n",
        "index.ntotal"
      ],
      "metadata": {
        "colab": {
          "base_uri": "https://localhost:8080/"
        },
        "id": "YYhqyYRBKpBT",
        "outputId": "60856bce-0c04-4779-a9ad-0299358f3996"
      },
      "execution_count": null,
      "outputs": [
        {
          "output_type": "execute_result",
          "data": {
            "text/plain": [
              "14504"
            ]
          },
          "metadata": {},
          "execution_count": 23
        }
      ]
    },
    {
      "cell_type": "code",
      "source": [
        "# Let’s search again using the same indexed sentence embeddings and the same query vector\n",
        "%%time\n",
        "\n",
        "# search\n",
        "D, I = index.search(xq, k)\n",
        "print(I)"
      ],
      "metadata": {
        "colab": {
          "base_uri": "https://localhost:8080/"
        },
        "id": "9x3NGNyjWuLJ",
        "outputId": "04a67d4c-2647-492a-bd52-d4246078ecd2"
      },
      "execution_count": null,
      "outputs": [
        {
          "output_type": "stream",
          "name": "stdout",
          "text": [
            "[[ 3853  3412 10113  4266]]\n",
            "CPU times: user 589 µs, sys: 16 µs, total: 605 µs\n",
            "Wall time: 833 µs\n"
          ]
        }
      ]
    },
    {
      "cell_type": "code",
      "source": [
        "[f'{i}: {sentences[i]}' for i in I[0]]"
      ],
      "metadata": {
        "colab": {
          "base_uri": "https://localhost:8080/"
        },
        "id": "XMS9Z7aoW2Lp",
        "outputId": "4e151a9e-20d3-4318-b7bb-57e8bf09393b"
      },
      "execution_count": null,
      "outputs": [
        {
          "output_type": "execute_result",
          "data": {
            "text/plain": [
              "['3853: A group of football players is running in the field',\n",
              " '3412: A group of people playing football is running in the field',\n",
              " '10113: Two groups of people are playing football',\n",
              " '4266: A person playing football is running past an official carrying a football']"
            ]
          },
          "metadata": {},
          "execution_count": 25
        }
      ]
    },
    {
      "cell_type": "code",
      "source": [
        "# We can increase the number of nearby cells to search too with nprobe.\n",
        "index.nprobe = 10"
      ],
      "metadata": {
        "id": "azQkY4pmXV5I"
      },
      "execution_count": null,
      "outputs": []
    },
    {
      "cell_type": "code",
      "source": [
        "%%time\n",
        "\n",
        "# search\n",
        "D, I = index.search(xq, k)\n",
        "print(I)"
      ],
      "metadata": {
        "colab": {
          "base_uri": "https://localhost:8080/"
        },
        "id": "I229sQQ_XbAp",
        "outputId": "bf9f7b8e-9452-483a-efcc-57a81f0a1e6c"
      },
      "execution_count": null,
      "outputs": [
        {
          "output_type": "stream",
          "name": "stdout",
          "text": [
            "[[ 3853  3412 10113  4266]]\n",
            "CPU times: user 1.08 ms, sys: 3 µs, total: 1.08 ms\n",
            "Wall time: 1.09 ms\n"
          ]
        }
      ]
    },
    {
      "cell_type": "code",
      "source": [
        "[f'{i}: {sentences[i]}' for i in I[0]]"
      ],
      "metadata": {
        "colab": {
          "base_uri": "https://localhost:8080/"
        },
        "id": "635Dg0KbXfbE",
        "outputId": "72e6a4f4-9d85-47d9-9731-b8d5f3a48d79"
      },
      "execution_count": null,
      "outputs": [
        {
          "output_type": "execute_result",
          "data": {
            "text/plain": [
              "['3853: A group of football players is running in the field',\n",
              " '3412: A group of people playing football is running in the field',\n",
              " '10113: Two groups of people are playing football',\n",
              " '4266: A person playing football is running past an official carrying a football']"
            ]
          },
          "metadata": {},
          "execution_count": 28
        }
      ]
    },
    {
      "cell_type": "markdown",
      "source": [
        "##Vector Reconstruction"
      ],
      "metadata": {
        "id": "DuxLDIyZXvVP"
      }
    },
    {
      "cell_type": "code",
      "source": [
        "# now, to reconstruct the vectors, we must first create these direct mappings\n",
        "index.make_direct_map()"
      ],
      "metadata": {
        "id": "jslawXypXv-F"
      },
      "execution_count": null,
      "outputs": []
    },
    {
      "cell_type": "code",
      "source": [
        "index.reconstruct(11122)[:100]"
      ],
      "metadata": {
        "colab": {
          "base_uri": "https://localhost:8080/"
        },
        "id": "22Xh0hZ1X-mH",
        "outputId": "5559ebb2-0a24-47b9-9fb1-1dd104c175b9"
      },
      "execution_count": null,
      "outputs": [
        {
          "output_type": "execute_result",
          "data": {
            "text/plain": [
              "array([ 1.2838421 ,  0.21651636,  0.9712451 ,  0.31156752,  0.28217337,\n",
              "        0.91760635,  1.5379874 ,  0.18022525, -0.87787133, -0.02692633,\n",
              "       -1.3939755 , -0.02931822, -0.0910926 ,  0.8252405 ,  1.1967825 ,\n",
              "        0.46976212, -0.4116232 , -0.44104576,  0.00642029,  0.14851105,\n",
              "       -0.43181732,  0.53935724,  0.6806572 , -1.2024508 , -0.5175477 ,\n",
              "       -0.87696105, -0.14817108, -0.24578056, -1.1521579 ,  0.2925653 ,\n",
              "        0.1566306 ,  0.9666366 ,  0.48437908, -0.14077239,  0.6266316 ,\n",
              "       -0.28244448, -0.12196147, -1.0980004 ,  0.39501837, -0.4538445 ,\n",
              "        0.03117619,  0.350108  ,  0.088641  , -0.04181439,  0.49622074,\n",
              "       -0.02361662,  2.3334348 , -0.49966168, -0.1949345 , -0.37520537,\n",
              "        0.02379034, -0.2796866 ,  1.5051224 ,  0.75192493, -0.23107927,\n",
              "       -0.4343509 ,  0.41142032, -0.58381236,  0.6106839 ,  0.5567988 ,\n",
              "        0.39692488, -0.09096396,  0.01875396,  0.06579515, -0.54263747,\n",
              "       -0.29689386, -0.2615427 , -0.36894163,  0.02824443, -0.3786847 ,\n",
              "        0.845188  ,  0.81905144, -0.1144926 ,  0.21777844, -0.22829011,\n",
              "        0.28029504,  0.6587723 ,  0.61966693, -0.5828584 ,  0.35737595,\n",
              "       -0.05345004,  0.6795896 ,  0.4262927 ,  0.04680291, -0.96333283,\n",
              "       -0.03309266, -0.09275591,  0.3464413 , -0.548697  , -0.81553394,\n",
              "       -0.11909889,  0.92148066,  0.11334767, -0.47722873, -0.7277746 ,\n",
              "        0.8113466 , -0.44370335,  0.5163044 ,  0.29103372, -0.1763564 ],\n",
              "      dtype=float32)"
            ]
          },
          "metadata": {},
          "execution_count": 30
        }
      ]
    },
    {
      "cell_type": "markdown",
      "source": [
        "##Quantization"
      ],
      "metadata": {
        "id": "uH8_WWPvYKY1"
      }
    },
    {
      "cell_type": "code",
      "source": [
        "# number of centroid IDs in final compressed vectors\n",
        "m = 8\n",
        "\n",
        "# number of bits in each centroid\n",
        "bits = 8\n",
        "\n",
        "# we keep the same L2 distance flat index\n",
        "quantizer = faiss.IndexFlatL2(d)\n",
        "index = faiss.IndexIVFPQ(quantizer, d, n_list, m, bits)"
      ],
      "metadata": {
        "id": "ycCaz8f7YLAh"
      },
      "execution_count": null,
      "outputs": []
    },
    {
      "cell_type": "code",
      "source": [
        "index.is_trained"
      ],
      "metadata": {
        "colab": {
          "base_uri": "https://localhost:8080/"
        },
        "id": "7j3rILi8UrNo",
        "outputId": "c4678ecc-f749-45e2-9042-18d5a4d7a4e6"
      },
      "execution_count": null,
      "outputs": [
        {
          "output_type": "execute_result",
          "data": {
            "text/plain": [
              "True"
            ]
          },
          "metadata": {},
          "execution_count": 31
        }
      ]
    },
    {
      "cell_type": "code",
      "source": [
        "index.train(sentence_embeddings)"
      ],
      "metadata": {
        "id": "YwQe1o6OUsXn"
      },
      "execution_count": null,
      "outputs": []
    },
    {
      "cell_type": "code",
      "source": [
        "index.add(sentence_embeddings)"
      ],
      "metadata": {
        "id": "epoclDwjUx3J"
      },
      "execution_count": null,
      "outputs": []
    },
    {
      "cell_type": "code",
      "source": [
        "# now we’re ready to begin searching using our new index\n",
        "index.nprobe = 10"
      ],
      "metadata": {
        "id": "CAl-0D9jUzqL"
      },
      "execution_count": null,
      "outputs": []
    },
    {
      "cell_type": "code",
      "source": [
        "%%time\n",
        "\n",
        "D, I = index.search(xq, k)\n",
        "print(I)"
      ],
      "metadata": {
        "colab": {
          "base_uri": "https://localhost:8080/"
        },
        "id": "rIaKzZkbVEf1",
        "outputId": "6a235965-6ec8-4750-a7b0-363ee4f7fdb5"
      },
      "execution_count": null,
      "outputs": [
        {
          "output_type": "stream",
          "name": "stdout",
          "text": [
            "[[ 3853 18357  3412 17916]]\n",
            "CPU times: user 3.63 ms, sys: 46 µs, total: 3.68 ms\n",
            "Wall time: 2.66 ms\n"
          ]
        }
      ]
    },
    {
      "cell_type": "code",
      "source": [
        "[f'{i}: {sentences[i]}' for i in [3853, 3412]]"
      ],
      "metadata": {
        "colab": {
          "base_uri": "https://localhost:8080/"
        },
        "id": "wjouK3zeVMOd",
        "outputId": "a2ad827b-566f-44e0-dd3a-c514a6d64061"
      },
      "execution_count": null,
      "outputs": [
        {
          "output_type": "execute_result",
          "data": {
            "text/plain": [
              "['3853: A group of football players is running in the field',\n",
              " '3412: A group of people playing football is running in the field']"
            ]
          },
          "metadata": {},
          "execution_count": 41
        }
      ]
    }
  ]
}