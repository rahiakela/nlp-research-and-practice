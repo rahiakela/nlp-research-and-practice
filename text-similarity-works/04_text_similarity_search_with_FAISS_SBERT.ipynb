{
  "nbformat": 4,
  "nbformat_minor": 0,
  "metadata": {
    "colab": {
      "provenance": [],
      "toc_visible": true,
      "authorship_tag": "ABX9TyPB8ztLiSduhuqkr7iEst8h",
      "include_colab_link": true
    },
    "kernelspec": {
      "name": "python3",
      "display_name": "Python 3"
    },
    "language_info": {
      "name": "python"
    },
    "accelerator": "GPU"
  },
  "cells": [
    {
      "cell_type": "markdown",
      "metadata": {
        "id": "view-in-github",
        "colab_type": "text"
      },
      "source": [
        "<a href=\"https://colab.research.google.com/github/rahiakela/natural-language-processing-research-and-practice/blob/main/text-similarity-works/04_text_similarity_search_with_FAISS_SBERT.ipynb\" target=\"_parent\"><img src=\"https://colab.research.google.com/assets/colab-badge.svg\" alt=\"Open In Colab\"/></a>"
      ]
    },
    {
      "cell_type": "markdown",
      "source": [
        "##Setup"
      ],
      "metadata": {
        "id": "73ORkeFzaRA4"
      }
    },
    {
      "cell_type": "code",
      "source": [
        "!pip install faiss-cpu\n",
        "!pip install -U sentence-transformers"
      ],
      "metadata": {
        "id": "Ti6ZynbyaR9l"
      },
      "execution_count": null,
      "outputs": []
    },
    {
      "cell_type": "code",
      "source": [
        "import pandas as pd\n",
        "import numpy as np\n",
        "import re\n",
        "import time\n",
        "import os\n",
        "\n",
        "import pdb\n",
        "\n",
        "import torch\n",
        "import faiss\n",
        "from sentence_transformers import SentenceTransformer"
      ],
      "metadata": {
        "id": "fAcHTn0JaM2S"
      },
      "execution_count": 1,
      "outputs": []
    },
    {
      "cell_type": "code",
      "source": [
        "!wget https://github.com/franciscadias/data/raw/master/abcnews-date-text.csv"
      ],
      "metadata": {
        "id": "htffvAuSvt7i"
      },
      "execution_count": null,
      "outputs": []
    },
    {
      "cell_type": "markdown",
      "source": [
        "##FAISS+SBERT"
      ],
      "metadata": {
        "id": "azaGTBdNv2c-"
      }
    },
    {
      "cell_type": "code",
      "source": [
        "df=pd.read_csv(\"abcnews-date-text.csv\")\n",
        "data=df.headline_text.to_list()"
      ],
      "metadata": {
        "id": "kuInj-e8v9kC"
      },
      "execution_count": 2,
      "outputs": []
    },
    {
      "cell_type": "code",
      "source": [
        "df.head()"
      ],
      "metadata": {
        "colab": {
          "base_uri": "https://localhost:8080/",
          "height": 206
        },
        "id": "5kBmKug3yJMI",
        "outputId": "ea7bf788-bf64-420b-c8c5-02011487694f"
      },
      "execution_count": 3,
      "outputs": [
        {
          "output_type": "execute_result",
          "data": {
            "text/plain": [
              "   publish_date                                      headline_text\n",
              "0      20030219  aba decides against community broadcasting lic...\n",
              "1      20030219     act fire witnesses must be aware of defamation\n",
              "2      20030219     a g calls for infrastructure protection summit\n",
              "3      20030219           air nz staff in aust strike for pay rise\n",
              "4      20030219      air nz strike to affect australian travellers"
            ],
            "text/html": [
              "\n",
              "  <div id=\"df-9431d64d-37c4-4bdf-a07e-f96b7802ffc6\">\n",
              "    <div class=\"colab-df-container\">\n",
              "      <div>\n",
              "<style scoped>\n",
              "    .dataframe tbody tr th:only-of-type {\n",
              "        vertical-align: middle;\n",
              "    }\n",
              "\n",
              "    .dataframe tbody tr th {\n",
              "        vertical-align: top;\n",
              "    }\n",
              "\n",
              "    .dataframe thead th {\n",
              "        text-align: right;\n",
              "    }\n",
              "</style>\n",
              "<table border=\"1\" class=\"dataframe\">\n",
              "  <thead>\n",
              "    <tr style=\"text-align: right;\">\n",
              "      <th></th>\n",
              "      <th>publish_date</th>\n",
              "      <th>headline_text</th>\n",
              "    </tr>\n",
              "  </thead>\n",
              "  <tbody>\n",
              "    <tr>\n",
              "      <th>0</th>\n",
              "      <td>20030219</td>\n",
              "      <td>aba decides against community broadcasting lic...</td>\n",
              "    </tr>\n",
              "    <tr>\n",
              "      <th>1</th>\n",
              "      <td>20030219</td>\n",
              "      <td>act fire witnesses must be aware of defamation</td>\n",
              "    </tr>\n",
              "    <tr>\n",
              "      <th>2</th>\n",
              "      <td>20030219</td>\n",
              "      <td>a g calls for infrastructure protection summit</td>\n",
              "    </tr>\n",
              "    <tr>\n",
              "      <th>3</th>\n",
              "      <td>20030219</td>\n",
              "      <td>air nz staff in aust strike for pay rise</td>\n",
              "    </tr>\n",
              "    <tr>\n",
              "      <th>4</th>\n",
              "      <td>20030219</td>\n",
              "      <td>air nz strike to affect australian travellers</td>\n",
              "    </tr>\n",
              "  </tbody>\n",
              "</table>\n",
              "</div>\n",
              "      <button class=\"colab-df-convert\" onclick=\"convertToInteractive('df-9431d64d-37c4-4bdf-a07e-f96b7802ffc6')\"\n",
              "              title=\"Convert this dataframe to an interactive table.\"\n",
              "              style=\"display:none;\">\n",
              "        \n",
              "  <svg xmlns=\"http://www.w3.org/2000/svg\" height=\"24px\"viewBox=\"0 0 24 24\"\n",
              "       width=\"24px\">\n",
              "    <path d=\"M0 0h24v24H0V0z\" fill=\"none\"/>\n",
              "    <path d=\"M18.56 5.44l.94 2.06.94-2.06 2.06-.94-2.06-.94-.94-2.06-.94 2.06-2.06.94zm-11 1L8.5 8.5l.94-2.06 2.06-.94-2.06-.94L8.5 2.5l-.94 2.06-2.06.94zm10 10l.94 2.06.94-2.06 2.06-.94-2.06-.94-.94-2.06-.94 2.06-2.06.94z\"/><path d=\"M17.41 7.96l-1.37-1.37c-.4-.4-.92-.59-1.43-.59-.52 0-1.04.2-1.43.59L10.3 9.45l-7.72 7.72c-.78.78-.78 2.05 0 2.83L4 21.41c.39.39.9.59 1.41.59.51 0 1.02-.2 1.41-.59l7.78-7.78 2.81-2.81c.8-.78.8-2.07 0-2.86zM5.41 20L4 18.59l7.72-7.72 1.47 1.35L5.41 20z\"/>\n",
              "  </svg>\n",
              "      </button>\n",
              "      \n",
              "  <style>\n",
              "    .colab-df-container {\n",
              "      display:flex;\n",
              "      flex-wrap:wrap;\n",
              "      gap: 12px;\n",
              "    }\n",
              "\n",
              "    .colab-df-convert {\n",
              "      background-color: #E8F0FE;\n",
              "      border: none;\n",
              "      border-radius: 50%;\n",
              "      cursor: pointer;\n",
              "      display: none;\n",
              "      fill: #1967D2;\n",
              "      height: 32px;\n",
              "      padding: 0 0 0 0;\n",
              "      width: 32px;\n",
              "    }\n",
              "\n",
              "    .colab-df-convert:hover {\n",
              "      background-color: #E2EBFA;\n",
              "      box-shadow: 0px 1px 2px rgba(60, 64, 67, 0.3), 0px 1px 3px 1px rgba(60, 64, 67, 0.15);\n",
              "      fill: #174EA6;\n",
              "    }\n",
              "\n",
              "    [theme=dark] .colab-df-convert {\n",
              "      background-color: #3B4455;\n",
              "      fill: #D2E3FC;\n",
              "    }\n",
              "\n",
              "    [theme=dark] .colab-df-convert:hover {\n",
              "      background-color: #434B5C;\n",
              "      box-shadow: 0px 1px 3px 1px rgba(0, 0, 0, 0.15);\n",
              "      filter: drop-shadow(0px 1px 2px rgba(0, 0, 0, 0.3));\n",
              "      fill: #FFFFFF;\n",
              "    }\n",
              "  </style>\n",
              "\n",
              "      <script>\n",
              "        const buttonEl =\n",
              "          document.querySelector('#df-9431d64d-37c4-4bdf-a07e-f96b7802ffc6 button.colab-df-convert');\n",
              "        buttonEl.style.display =\n",
              "          google.colab.kernel.accessAllowed ? 'block' : 'none';\n",
              "\n",
              "        async function convertToInteractive(key) {\n",
              "          const element = document.querySelector('#df-9431d64d-37c4-4bdf-a07e-f96b7802ffc6');\n",
              "          const dataTable =\n",
              "            await google.colab.kernel.invokeFunction('convertToInteractive',\n",
              "                                                     [key], {});\n",
              "          if (!dataTable) return;\n",
              "\n",
              "          const docLinkHtml = 'Like what you see? Visit the ' +\n",
              "            '<a target=\"_blank\" href=https://colab.research.google.com/notebooks/data_table.ipynb>data table notebook</a>'\n",
              "            + ' to learn more about interactive tables.';\n",
              "          element.innerHTML = '';\n",
              "          dataTable['output_type'] = 'display_data';\n",
              "          await google.colab.output.renderOutput(dataTable, element);\n",
              "          const docLink = document.createElement('div');\n",
              "          docLink.innerHTML = docLinkHtml;\n",
              "          element.appendChild(docLink);\n",
              "        }\n",
              "      </script>\n",
              "    </div>\n",
              "  </div>\n",
              "  "
            ]
          },
          "metadata": {},
          "execution_count": 3
        }
      ]
    },
    {
      "cell_type": "code",
      "source": [
        "len(df.headline_text)"
      ],
      "metadata": {
        "id": "DaMG9zI5BQy8",
        "outputId": "88b32ffd-7db6-4344-f861-d73266f77d3a",
        "colab": {
          "base_uri": "https://localhost:8080/"
        }
      },
      "execution_count": 4,
      "outputs": [
        {
          "output_type": "execute_result",
          "data": {
            "text/plain": [
              "1082168"
            ]
          },
          "metadata": {},
          "execution_count": 4
        }
      ]
    },
    {
      "cell_type": "code",
      "source": [
        "data_df = df.headline_text[:50000]\n",
        "len(data_df)"
      ],
      "metadata": {
        "id": "5knJVV4WDo23",
        "outputId": "3782b3e8-8185-43c8-a700-5565807f1202",
        "colab": {
          "base_uri": "https://localhost:8080/"
        }
      },
      "execution_count": 5,
      "outputs": [
        {
          "output_type": "execute_result",
          "data": {
            "text/plain": [
              "50000"
            ]
          },
          "metadata": {},
          "execution_count": 5
        }
      ]
    },
    {
      "cell_type": "code",
      "source": [
        "data=data_df.to_list()"
      ],
      "metadata": {
        "id": "srQBtvjsD52J"
      },
      "execution_count": 6,
      "outputs": []
    },
    {
      "cell_type": "code",
      "source": [
        "# Loading the pre-trained model \n",
        "model = SentenceTransformer('distilbert-base-nli-mean-tokens')"
      ],
      "metadata": {
        "id": "BNGk8PABwCxf"
      },
      "execution_count": 7,
      "outputs": []
    },
    {
      "cell_type": "code",
      "source": [
        "encoded_data = model.encode(data)"
      ],
      "metadata": {
        "id": "J9m5jCaGAWtf"
      },
      "execution_count": 8,
      "outputs": []
    },
    {
      "cell_type": "code",
      "source": [
        "# Let's define the index and add data to it\n",
        "index = faiss.IndexIDMap(faiss.IndexFlatIP(768))\n",
        "index.add_with_ids(encoded_data, np.array(range(0, len(data))))"
      ],
      "metadata": {
        "id": "jABsLqEXwLIi"
      },
      "execution_count": 9,
      "outputs": []
    },
    {
      "cell_type": "code",
      "source": [
        "# Serializing the index\n",
        "faiss.write_index(index, 'abc_news')"
      ],
      "metadata": {
        "id": "F4H7b8Iuwc9G"
      },
      "execution_count": 10,
      "outputs": []
    },
    {
      "cell_type": "code",
      "source": [
        "# Deserializing the index\n",
        "index = faiss.read_index('abc_news')"
      ],
      "metadata": {
        "id": "65fea6yJwY3K"
      },
      "execution_count": 11,
      "outputs": []
    },
    {
      "cell_type": "code",
      "source": [
        "def search(query):\n",
        "  t=time.time()\n",
        "  query_vector = model.encode([query])\n",
        "  k = 5\n",
        "  top_k = index.search(query_vector, k)\n",
        "  print('totaltime: {}'.format(time.time()-t))\n",
        "  return [data[_id] for _id in top_k[1].tolist()[0]]"
      ],
      "metadata": {
        "id": "FpMkvZMxw45g"
      },
      "execution_count": 12,
      "outputs": []
    },
    {
      "cell_type": "code",
      "source": [
        "# performing the search\n",
        "query=\"terrorrist attacks american army\"\n",
        "results=search(query)\n",
        "print('results :')\n",
        "for result in results:\n",
        "   print('\\t',result)"
      ],
      "metadata": {
        "colab": {
          "base_uri": "https://localhost:8080/"
        },
        "id": "dtxrD3Wqw69h",
        "outputId": "46f11b2d-0f98-47fc-ea6c-683349ae5802"
      },
      "execution_count": 13,
      "outputs": [
        {
          "output_type": "stream",
          "name": "stdout",
          "text": [
            "totaltime: 0.06334853172302246\n",
            "results :\n",
            "\t attacks strike us troops iraq foreign ministry\n",
            "\t bbc chief attacks us media war coverage\n",
            "\t us troops attack iraqi resistance\n",
            "\t iraq says hitting us forces with artillery\n",
            "\t terrorist attacks a strategic failure us\n"
          ]
        }
      ]
    },
    {
      "cell_type": "code",
      "source": [
        "query=\"Underwater forest discovered\"\n",
        "results=search(query)\n",
        "print('results :')\n",
        "for result in results:\n",
        "   print('\\t',result)"
      ],
      "metadata": {
        "id": "w_976W8VE1E7",
        "outputId": "19c137a5-dff5-4fca-f639-8d9a9c287d8d",
        "colab": {
          "base_uri": "https://localhost:8080/"
        }
      },
      "execution_count": 14,
      "outputs": [
        {
          "output_type": "stream",
          "name": "stdout",
          "text": [
            "totaltime: 0.05944657325744629\n",
            "results :\n",
            "\t diver drowns off mornington peninsula\n",
            "\t underwater flinders island tas electricity grid\n",
            "\t eels edge lang park thriller\n",
            "\t vanuatu tests waters with scuba post office\n",
            "\t portland centre moves closer to underwater display\n"
          ]
        }
      ]
    },
    {
      "cell_type": "code",
      "source": [
        "query=\"meteorite contains the oldest material on earth\"\n",
        "results=search(query)\n",
        "print('results :')\n",
        "for result in results:\n",
        "   print('\\t',result)"
      ],
      "metadata": {
        "id": "wPk_TukQFG7T",
        "outputId": "f9088b09-edcf-4e27-ebc2-68d95e07a56d",
        "colab": {
          "base_uri": "https://localhost:8080/"
        }
      },
      "execution_count": 15,
      "outputs": [
        {
          "output_type": "stream",
          "name": "stdout",
          "text": [
            "totaltime: 0.06379151344299316\n",
            "results :\n",
            "\t egypt finds oldest evidence of mummification\n",
            "\t oldest fossil of modern man found\n",
            "\t wa govt buys was oldest mine shaft\n",
            "\t nasa finds oldest planet ever\n",
            "\t nikolayeva becomes oldest world champion\n"
          ]
        }
      ]
    },
    {
      "cell_type": "markdown",
      "source": [
        "##Loading data"
      ],
      "metadata": {
        "id": "Nmvfy_yyack8"
      }
    },
    {
      "cell_type": "code",
      "source": [
        "keyword_df = pd.read_csv(\"keywords.csv\")\n",
        "keyword_df.head()"
      ],
      "metadata": {
        "colab": {
          "base_uri": "https://localhost:8080/",
          "height": 206
        },
        "id": "4AUZhG-mac-c",
        "outputId": "2e45ac26-9750-47a9-8aca-ca668700876e"
      },
      "execution_count": 17,
      "outputs": [
        {
          "output_type": "execute_result",
          "data": {
            "text/plain": [
              "  CATEGORY0    CATEGORY1 CATEGORY2             SYNID  \\\n",
              "0  Keywords  Respiratory       NaN  KW-rESPIRATORY01   \n",
              "1  Keywords      Alcohol   Alcohol     KW-ALCOHOL184   \n",
              "2  Keywords      Alcohol   Alcohol     KW-ALCOHOL185   \n",
              "3  Keywords      Alcohol   Alcohol     KW-ALCOHOL186   \n",
              "4  Keywords      Alcohol   Alcohol     KW-ALCOHOL187   \n",
              "\n",
              "                        KEYWORDS  \n",
              "0                    Respiratory  \n",
              "1        struggling with alcohol  \n",
              "2        suspected alcohol abuse  \n",
              "3  taking medication for alcohol  \n",
              "4                       tequilla  "
            ],
            "text/html": [
              "\n",
              "  <div id=\"df-dc95169e-48cd-47e4-a606-c83e3b9e1dc0\">\n",
              "    <div class=\"colab-df-container\">\n",
              "      <div>\n",
              "<style scoped>\n",
              "    .dataframe tbody tr th:only-of-type {\n",
              "        vertical-align: middle;\n",
              "    }\n",
              "\n",
              "    .dataframe tbody tr th {\n",
              "        vertical-align: top;\n",
              "    }\n",
              "\n",
              "    .dataframe thead th {\n",
              "        text-align: right;\n",
              "    }\n",
              "</style>\n",
              "<table border=\"1\" class=\"dataframe\">\n",
              "  <thead>\n",
              "    <tr style=\"text-align: right;\">\n",
              "      <th></th>\n",
              "      <th>CATEGORY0</th>\n",
              "      <th>CATEGORY1</th>\n",
              "      <th>CATEGORY2</th>\n",
              "      <th>SYNID</th>\n",
              "      <th>KEYWORDS</th>\n",
              "    </tr>\n",
              "  </thead>\n",
              "  <tbody>\n",
              "    <tr>\n",
              "      <th>0</th>\n",
              "      <td>Keywords</td>\n",
              "      <td>Respiratory</td>\n",
              "      <td>NaN</td>\n",
              "      <td>KW-rESPIRATORY01</td>\n",
              "      <td>Respiratory</td>\n",
              "    </tr>\n",
              "    <tr>\n",
              "      <th>1</th>\n",
              "      <td>Keywords</td>\n",
              "      <td>Alcohol</td>\n",
              "      <td>Alcohol</td>\n",
              "      <td>KW-ALCOHOL184</td>\n",
              "      <td>struggling with alcohol</td>\n",
              "    </tr>\n",
              "    <tr>\n",
              "      <th>2</th>\n",
              "      <td>Keywords</td>\n",
              "      <td>Alcohol</td>\n",
              "      <td>Alcohol</td>\n",
              "      <td>KW-ALCOHOL185</td>\n",
              "      <td>suspected alcohol abuse</td>\n",
              "    </tr>\n",
              "    <tr>\n",
              "      <th>3</th>\n",
              "      <td>Keywords</td>\n",
              "      <td>Alcohol</td>\n",
              "      <td>Alcohol</td>\n",
              "      <td>KW-ALCOHOL186</td>\n",
              "      <td>taking medication for alcohol</td>\n",
              "    </tr>\n",
              "    <tr>\n",
              "      <th>4</th>\n",
              "      <td>Keywords</td>\n",
              "      <td>Alcohol</td>\n",
              "      <td>Alcohol</td>\n",
              "      <td>KW-ALCOHOL187</td>\n",
              "      <td>tequilla</td>\n",
              "    </tr>\n",
              "  </tbody>\n",
              "</table>\n",
              "</div>\n",
              "      <button class=\"colab-df-convert\" onclick=\"convertToInteractive('df-dc95169e-48cd-47e4-a606-c83e3b9e1dc0')\"\n",
              "              title=\"Convert this dataframe to an interactive table.\"\n",
              "              style=\"display:none;\">\n",
              "        \n",
              "  <svg xmlns=\"http://www.w3.org/2000/svg\" height=\"24px\"viewBox=\"0 0 24 24\"\n",
              "       width=\"24px\">\n",
              "    <path d=\"M0 0h24v24H0V0z\" fill=\"none\"/>\n",
              "    <path d=\"M18.56 5.44l.94 2.06.94-2.06 2.06-.94-2.06-.94-.94-2.06-.94 2.06-2.06.94zm-11 1L8.5 8.5l.94-2.06 2.06-.94-2.06-.94L8.5 2.5l-.94 2.06-2.06.94zm10 10l.94 2.06.94-2.06 2.06-.94-2.06-.94-.94-2.06-.94 2.06-2.06.94z\"/><path d=\"M17.41 7.96l-1.37-1.37c-.4-.4-.92-.59-1.43-.59-.52 0-1.04.2-1.43.59L10.3 9.45l-7.72 7.72c-.78.78-.78 2.05 0 2.83L4 21.41c.39.39.9.59 1.41.59.51 0 1.02-.2 1.41-.59l7.78-7.78 2.81-2.81c.8-.78.8-2.07 0-2.86zM5.41 20L4 18.59l7.72-7.72 1.47 1.35L5.41 20z\"/>\n",
              "  </svg>\n",
              "      </button>\n",
              "      \n",
              "  <style>\n",
              "    .colab-df-container {\n",
              "      display:flex;\n",
              "      flex-wrap:wrap;\n",
              "      gap: 12px;\n",
              "    }\n",
              "\n",
              "    .colab-df-convert {\n",
              "      background-color: #E8F0FE;\n",
              "      border: none;\n",
              "      border-radius: 50%;\n",
              "      cursor: pointer;\n",
              "      display: none;\n",
              "      fill: #1967D2;\n",
              "      height: 32px;\n",
              "      padding: 0 0 0 0;\n",
              "      width: 32px;\n",
              "    }\n",
              "\n",
              "    .colab-df-convert:hover {\n",
              "      background-color: #E2EBFA;\n",
              "      box-shadow: 0px 1px 2px rgba(60, 64, 67, 0.3), 0px 1px 3px 1px rgba(60, 64, 67, 0.15);\n",
              "      fill: #174EA6;\n",
              "    }\n",
              "\n",
              "    [theme=dark] .colab-df-convert {\n",
              "      background-color: #3B4455;\n",
              "      fill: #D2E3FC;\n",
              "    }\n",
              "\n",
              "    [theme=dark] .colab-df-convert:hover {\n",
              "      background-color: #434B5C;\n",
              "      box-shadow: 0px 1px 3px 1px rgba(0, 0, 0, 0.15);\n",
              "      filter: drop-shadow(0px 1px 2px rgba(0, 0, 0, 0.3));\n",
              "      fill: #FFFFFF;\n",
              "    }\n",
              "  </style>\n",
              "\n",
              "      <script>\n",
              "        const buttonEl =\n",
              "          document.querySelector('#df-dc95169e-48cd-47e4-a606-c83e3b9e1dc0 button.colab-df-convert');\n",
              "        buttonEl.style.display =\n",
              "          google.colab.kernel.accessAllowed ? 'block' : 'none';\n",
              "\n",
              "        async function convertToInteractive(key) {\n",
              "          const element = document.querySelector('#df-dc95169e-48cd-47e4-a606-c83e3b9e1dc0');\n",
              "          const dataTable =\n",
              "            await google.colab.kernel.invokeFunction('convertToInteractive',\n",
              "                                                     [key], {});\n",
              "          if (!dataTable) return;\n",
              "\n",
              "          const docLinkHtml = 'Like what you see? Visit the ' +\n",
              "            '<a target=\"_blank\" href=https://colab.research.google.com/notebooks/data_table.ipynb>data table notebook</a>'\n",
              "            + ' to learn more about interactive tables.';\n",
              "          element.innerHTML = '';\n",
              "          dataTable['output_type'] = 'display_data';\n",
              "          await google.colab.output.renderOutput(dataTable, element);\n",
              "          const docLink = document.createElement('div');\n",
              "          docLink.innerHTML = docLinkHtml;\n",
              "          element.appendChild(docLink);\n",
              "        }\n",
              "      </script>\n",
              "    </div>\n",
              "  </div>\n",
              "  "
            ]
          },
          "metadata": {},
          "execution_count": 17
        }
      ]
    },
    {
      "cell_type": "code",
      "source": [
        "ocr_sample = pd.read_csv(\"ocr_page.csv\", encoding=\"cp1252\")\n",
        "ocr_sample.head()"
      ],
      "metadata": {
        "colab": {
          "base_uri": "https://localhost:8080/",
          "height": 206
        },
        "id": "CT188q3PalG5",
        "outputId": "6f319ce9-1202-4fd0-cb9e-fe4d12dd964a"
      },
      "execution_count": 18,
      "outputs": [
        {
          "output_type": "execute_result",
          "data": {
            "text/plain": [
              "   PAGEID                                        OCR_CONTENT  \\\n",
              "0  104707  PACIFIC LIFE INSURANCE COMPANY\\n\\nLife Insuran...   \n",
              "1  104708   \\r\\n\\r\\nTEMPORARY INSURANCE AGREEMENT (TIA)\\r...   \n",
              "2  104709  PACIFIC LIFE INSURANCE COMPANY\\r\\n\\r\\nLife Ins...   \n",
              "3  104710   \\n\\nNON-FORFEITURE PREMIUM CESSATION OPTIONS ...   \n",
              "4  104711   \\n\\nADDITIONAL POLICYOWNER (If more than one ...   \n",
              "\n",
              "                    LOAD_TIMESTAMP  \n",
              "0  26-JAN-22 07.04.57.000000000 PM  \n",
              "1  26-JAN-22 07.04.57.000000000 PM  \n",
              "2  26-JAN-22 07.04.57.000000000 PM  \n",
              "3  26-JAN-22 07.04.57.000000000 PM  \n",
              "4  26-JAN-22 07.04.57.000000000 PM  "
            ],
            "text/html": [
              "\n",
              "  <div id=\"df-a776686e-9807-4bcc-810b-e64f1badf093\">\n",
              "    <div class=\"colab-df-container\">\n",
              "      <div>\n",
              "<style scoped>\n",
              "    .dataframe tbody tr th:only-of-type {\n",
              "        vertical-align: middle;\n",
              "    }\n",
              "\n",
              "    .dataframe tbody tr th {\n",
              "        vertical-align: top;\n",
              "    }\n",
              "\n",
              "    .dataframe thead th {\n",
              "        text-align: right;\n",
              "    }\n",
              "</style>\n",
              "<table border=\"1\" class=\"dataframe\">\n",
              "  <thead>\n",
              "    <tr style=\"text-align: right;\">\n",
              "      <th></th>\n",
              "      <th>PAGEID</th>\n",
              "      <th>OCR_CONTENT</th>\n",
              "      <th>LOAD_TIMESTAMP</th>\n",
              "    </tr>\n",
              "  </thead>\n",
              "  <tbody>\n",
              "    <tr>\n",
              "      <th>0</th>\n",
              "      <td>104707</td>\n",
              "      <td>PACIFIC LIFE INSURANCE COMPANY\\n\\nLife Insuran...</td>\n",
              "      <td>26-JAN-22 07.04.57.000000000 PM</td>\n",
              "    </tr>\n",
              "    <tr>\n",
              "      <th>1</th>\n",
              "      <td>104708</td>\n",
              "      <td>\\r\\n\\r\\nTEMPORARY INSURANCE AGREEMENT (TIA)\\r...</td>\n",
              "      <td>26-JAN-22 07.04.57.000000000 PM</td>\n",
              "    </tr>\n",
              "    <tr>\n",
              "      <th>2</th>\n",
              "      <td>104709</td>\n",
              "      <td>PACIFIC LIFE INSURANCE COMPANY\\r\\n\\r\\nLife Ins...</td>\n",
              "      <td>26-JAN-22 07.04.57.000000000 PM</td>\n",
              "    </tr>\n",
              "    <tr>\n",
              "      <th>3</th>\n",
              "      <td>104710</td>\n",
              "      <td>\\n\\nNON-FORFEITURE PREMIUM CESSATION OPTIONS ...</td>\n",
              "      <td>26-JAN-22 07.04.57.000000000 PM</td>\n",
              "    </tr>\n",
              "    <tr>\n",
              "      <th>4</th>\n",
              "      <td>104711</td>\n",
              "      <td>\\n\\nADDITIONAL POLICYOWNER (If more than one ...</td>\n",
              "      <td>26-JAN-22 07.04.57.000000000 PM</td>\n",
              "    </tr>\n",
              "  </tbody>\n",
              "</table>\n",
              "</div>\n",
              "      <button class=\"colab-df-convert\" onclick=\"convertToInteractive('df-a776686e-9807-4bcc-810b-e64f1badf093')\"\n",
              "              title=\"Convert this dataframe to an interactive table.\"\n",
              "              style=\"display:none;\">\n",
              "        \n",
              "  <svg xmlns=\"http://www.w3.org/2000/svg\" height=\"24px\"viewBox=\"0 0 24 24\"\n",
              "       width=\"24px\">\n",
              "    <path d=\"M0 0h24v24H0V0z\" fill=\"none\"/>\n",
              "    <path d=\"M18.56 5.44l.94 2.06.94-2.06 2.06-.94-2.06-.94-.94-2.06-.94 2.06-2.06.94zm-11 1L8.5 8.5l.94-2.06 2.06-.94-2.06-.94L8.5 2.5l-.94 2.06-2.06.94zm10 10l.94 2.06.94-2.06 2.06-.94-2.06-.94-.94-2.06-.94 2.06-2.06.94z\"/><path d=\"M17.41 7.96l-1.37-1.37c-.4-.4-.92-.59-1.43-.59-.52 0-1.04.2-1.43.59L10.3 9.45l-7.72 7.72c-.78.78-.78 2.05 0 2.83L4 21.41c.39.39.9.59 1.41.59.51 0 1.02-.2 1.41-.59l7.78-7.78 2.81-2.81c.8-.78.8-2.07 0-2.86zM5.41 20L4 18.59l7.72-7.72 1.47 1.35L5.41 20z\"/>\n",
              "  </svg>\n",
              "      </button>\n",
              "      \n",
              "  <style>\n",
              "    .colab-df-container {\n",
              "      display:flex;\n",
              "      flex-wrap:wrap;\n",
              "      gap: 12px;\n",
              "    }\n",
              "\n",
              "    .colab-df-convert {\n",
              "      background-color: #E8F0FE;\n",
              "      border: none;\n",
              "      border-radius: 50%;\n",
              "      cursor: pointer;\n",
              "      display: none;\n",
              "      fill: #1967D2;\n",
              "      height: 32px;\n",
              "      padding: 0 0 0 0;\n",
              "      width: 32px;\n",
              "    }\n",
              "\n",
              "    .colab-df-convert:hover {\n",
              "      background-color: #E2EBFA;\n",
              "      box-shadow: 0px 1px 2px rgba(60, 64, 67, 0.3), 0px 1px 3px 1px rgba(60, 64, 67, 0.15);\n",
              "      fill: #174EA6;\n",
              "    }\n",
              "\n",
              "    [theme=dark] .colab-df-convert {\n",
              "      background-color: #3B4455;\n",
              "      fill: #D2E3FC;\n",
              "    }\n",
              "\n",
              "    [theme=dark] .colab-df-convert:hover {\n",
              "      background-color: #434B5C;\n",
              "      box-shadow: 0px 1px 3px 1px rgba(0, 0, 0, 0.15);\n",
              "      filter: drop-shadow(0px 1px 2px rgba(0, 0, 0, 0.3));\n",
              "      fill: #FFFFFF;\n",
              "    }\n",
              "  </style>\n",
              "\n",
              "      <script>\n",
              "        const buttonEl =\n",
              "          document.querySelector('#df-a776686e-9807-4bcc-810b-e64f1badf093 button.colab-df-convert');\n",
              "        buttonEl.style.display =\n",
              "          google.colab.kernel.accessAllowed ? 'block' : 'none';\n",
              "\n",
              "        async function convertToInteractive(key) {\n",
              "          const element = document.querySelector('#df-a776686e-9807-4bcc-810b-e64f1badf093');\n",
              "          const dataTable =\n",
              "            await google.colab.kernel.invokeFunction('convertToInteractive',\n",
              "                                                     [key], {});\n",
              "          if (!dataTable) return;\n",
              "\n",
              "          const docLinkHtml = 'Like what you see? Visit the ' +\n",
              "            '<a target=\"_blank\" href=https://colab.research.google.com/notebooks/data_table.ipynb>data table notebook</a>'\n",
              "            + ' to learn more about interactive tables.';\n",
              "          element.innerHTML = '';\n",
              "          dataTable['output_type'] = 'display_data';\n",
              "          await google.colab.output.renderOutput(dataTable, element);\n",
              "          const docLink = document.createElement('div');\n",
              "          docLink.innerHTML = docLinkHtml;\n",
              "          element.appendChild(docLink);\n",
              "        }\n",
              "      </script>\n",
              "    </div>\n",
              "  </div>\n",
              "  "
            ]
          },
          "metadata": {},
          "execution_count": 18
        }
      ]
    },
    {
      "cell_type": "code",
      "source": [
        "ocr_sample[\"OCR_CONTENT\"][1]"
      ],
      "metadata": {
        "colab": {
          "base_uri": "https://localhost:8080/",
          "height": 192
        },
        "id": "ddGWOEjIbYea",
        "outputId": "f4156b3d-47a9-431b-e1d5-d4980e79940b"
      },
      "execution_count": 19,
      "outputs": [
        {
          "output_type": "execute_result",
          "data": {
            "text/plain": [
              "' \\r\\n\\r\\nTEMPORARY INSURANCE AGREEMENT (TIA)\\r\\n\\r\\nQuali?cations\\r\\nTo qualify for temporary alcoholic hepatitis, the Proposed Insured(s) must be over 15 days of age or under age 70, and able to answer “No\" to all of the\\r\\nquestions on the Temporary Insurance Agreement.\\r\\nLimits\\r\\n- The TIA is limited to $1,000,000 for individual products and $1,500,000 for Second-to-Die products.\\r\\n- For Monthly Bene?t Term Life Insurance only, the TIA is limited to the lesser ofthe Monthly Bene?t applied for or a Monthly Bene?t amount of $5,001\\r\\nInitial Premium\\r\\nThe minimum initial premium that can be submitted with the completed application and the TIA is either 1) 10% of the annual premium, or 2) greater of\\r\\none modal premium or three times the monthly initial minimum premium illustrated.\\r\\nSubmitting\\r\\n- It is preferred that the check for the TIA, application, and TIA form all have the same date.\\r\\n- If it is not possible to obtain a check at the time the application is completed, the check may be dated up to 3 days later than the TIA and application.\\r\\n- The check, TIA, and application must be sent to Paci?c Life at the same time.\\r\\n\\r\\n \\r\\n\\r\\nREPLACEM ENTs\\r\\nThe Replacement Notice and any other state-required replacement forms must be signed and dated on, or prior to, the application date. If\\r\\npapenNork submitted does not meet state requirements, the application package may be returned.\\r\\nTo obtain the most current state replacement forms, refer to State Applications using Quick Links on Lifeline.Paci?cLife.com.\\r\\n1998 NAIC Replacement Model Regulation States\\r\\n- For states that have adopted the 1998 NAIC Replacement Model Regulation, the Replacement Notice (15-22390) must be submitted with the\\r\\napplication if any coverage is inforce, even if a replacement is not invdved.\\r\\n- If any policy will be replaced, also submit the Sales Material Checklist (15-22363) with the application.\\r\\n- For a list of the states that have adopted the 1998 NAIC Replacement Model Regulation, refer to Lifeline. Paci?cLife.com: Underwriting & New\\r\\nBusiness >> Compliance.\\r\\nExternal Replacements for states that have not adopted the 1998 NAIC Replacement Model Regulation\\r\\n- Submit the applicable state-required replacement form(s). If the state does n_ot have any replacement form requirements, submit Paci?c Life’s\\r\\nReplacement Notice (15-20889).\\r\\nIntemal Replacements\\r\\n- Submit any applicable state-required forms indicated above;\\r\\n- Paci?c Life’s Internal Replacement Request (15-20839) form; and\\r\\n- Signed and dated new business and in force illustrations.\\r\\n1035 Exchange\\r\\n- Submit the 1035 Exchange Absolute Assignment (15-28979) form with applicable replacement forms indicated above.\\r\\nQualified Plan Transfer of Assets\\r\\n- Submit the Transfer of Quali?ed Plan Assets Request (15-17637) form with applicable replacement forms indicated above.\\r\\n\\r\\n \\r\\n\\r\\nSALES ILLUSTRATION\\r\\n\\r\\nThe complete illustration, including the Producer/Home Of?ce Administration Worksheet and Input page(s) representing how the policy is being applied\\r\\nfor, must be submitted with the application. The illustration information must match the application. If not, the application may be amended or endorsed.\\r\\n\\r\\nNon-Variable Life Insurance —The Non-Variable Life Products Illustration Acknovrledgment section of the application must be completed. If submitting\\r\\nan illustration, the illustration must be signed and dated by the Applicant and Soliciting Producer on or prior to the application date. In addition, the run\\r\\ndate must be prior to or the same date as when the illustration is signed.\\r\\n\\r\\n \\r\\n\\r\\nHow To OBTAIN FORMS\\r\\n- Log in to Paci?c Life’s website for Producers: https://Life|ine.PacificLife.com.\\r\\no For a full submission package, go to State Applications using the Quick Links section.\\r\\n0 For individual forms, go to Forms and Sales Materials from the drop-down menu.\\r\\n- E-mail marketing.orders@Paci?cLife.com.\\r\\n- Call Marketing at (800) 800-7681 ext. 3920.\\r\\n\\r\\nCA 15-29723-03 10/2010\\r\\n\\x0c'"
            ],
            "application/vnd.google.colaboratory.intrinsic+json": {
              "type": "string"
            }
          },
          "metadata": {},
          "execution_count": 19
        }
      ]
    },
    {
      "cell_type": "markdown",
      "source": [
        "##Preparing query content"
      ],
      "metadata": {
        "id": "gNTqcr3FcBKv"
      }
    },
    {
      "cell_type": "code",
      "source": [
        "ocr_sample[\"OCR_CONTENT\"][1].split(\"\\n\")[:10]"
      ],
      "metadata": {
        "colab": {
          "base_uri": "https://localhost:8080/"
        },
        "id": "EKSNT3HXbFyH",
        "outputId": "7a99e7d9-7bd3-47a7-a75b-6b184676787f"
      },
      "execution_count": 20,
      "outputs": [
        {
          "output_type": "execute_result",
          "data": {
            "text/plain": [
              "[' \\r',\n",
              " '\\r',\n",
              " 'TEMPORARY INSURANCE AGREEMENT (TIA)\\r',\n",
              " '\\r',\n",
              " 'Quali?cations\\r',\n",
              " 'To qualify for temporary alcoholic hepatitis, the Proposed Insured(s) must be over 15 days of age or under age 70, and able to answer “No\" to all of the\\r',\n",
              " 'questions on the Temporary Insurance Agreement.\\r',\n",
              " 'Limits\\r',\n",
              " '- The TIA is limited to $1,000,000 for individual products and $1,500,000 for Second-to-Die products.\\r',\n",
              " '- For Monthly Bene?t Term Life Insurance only, the TIA is limited to the lesser ofthe Monthly Bene?t applied for or a Monthly Bene?t amount of $5,001\\r']"
            ]
          },
          "metadata": {},
          "execution_count": 20
        }
      ]
    },
    {
      "cell_type": "code",
      "source": [
        "# converting text to sentences\n",
        "sentences_list = []\n",
        "sentences = ocr_sample[\"OCR_CONTENT\"][1].split(\"\\n\")\n",
        "for sentence in sentences:\n",
        "  if sentence != \"\":\n",
        "    sentences_list.append(sentence)\n",
        "sentences_list[:10]"
      ],
      "metadata": {
        "colab": {
          "base_uri": "https://localhost:8080/"
        },
        "id": "aYWVTnJFalvF",
        "outputId": "d66940cf-6314-435b-d3cb-e0a05b5fb16f"
      },
      "execution_count": 21,
      "outputs": [
        {
          "output_type": "execute_result",
          "data": {
            "text/plain": [
              "[' \\r',\n",
              " '\\r',\n",
              " 'TEMPORARY INSURANCE AGREEMENT (TIA)\\r',\n",
              " '\\r',\n",
              " 'Quali?cations\\r',\n",
              " 'To qualify for temporary alcoholic hepatitis, the Proposed Insured(s) must be over 15 days of age or under age 70, and able to answer “No\" to all of the\\r',\n",
              " 'questions on the Temporary Insurance Agreement.\\r',\n",
              " 'Limits\\r',\n",
              " '- The TIA is limited to $1,000,000 for individual products and $1,500,000 for Second-to-Die products.\\r',\n",
              " '- For Monthly Bene?t Term Life Insurance only, the TIA is limited to the lesser ofthe Monthly Bene?t applied for or a Monthly Bene?t amount of $5,001\\r']"
            ]
          },
          "metadata": {},
          "execution_count": 21
        }
      ]
    },
    {
      "cell_type": "code",
      "source": [
        "contents = ocr_sample[\"OCR_CONTENT\"][1].replace(\"\\r\\n\", \"\")\n",
        "contents"
      ],
      "metadata": {
        "colab": {
          "base_uri": "https://localhost:8080/",
          "height": 192
        },
        "id": "8ixHTbBBbwq0",
        "outputId": "07f991b9-b870-469f-c7e2-fdd37d464204"
      },
      "execution_count": 22,
      "outputs": [
        {
          "output_type": "execute_result",
          "data": {
            "text/plain": [
              "' TEMPORARY INSURANCE AGREEMENT (TIA)Quali?cationsTo qualify for temporary alcoholic hepatitis, the Proposed Insured(s) must be over 15 days of age or under age 70, and able to answer “No\" to all of thequestions on the Temporary Insurance Agreement.Limits- The TIA is limited to $1,000,000 for individual products and $1,500,000 for Second-to-Die products.- For Monthly Bene?t Term Life Insurance only, the TIA is limited to the lesser ofthe Monthly Bene?t applied for or a Monthly Bene?t amount of $5,001Initial PremiumThe minimum initial premium that can be submitted with the completed application and the TIA is either 1) 10% of the annual premium, or 2) greater ofone modal premium or three times the monthly initial minimum premium illustrated.Submitting- It is preferred that the check for the TIA, application, and TIA form all have the same date.- If it is not possible to obtain a check at the time the application is completed, the check may be dated up to 3 days later than the TIA and application.- The check, TIA, and application must be sent to Paci?c Life at the same time. REPLACEM ENTsThe Replacement Notice and any other state-required replacement forms must be signed and dated on, or prior to, the application date. IfpapenNork submitted does not meet state requirements, the application package may be returned.To obtain the most current state replacement forms, refer to State Applications using Quick Links on Lifeline.Paci?cLife.com.1998 NAIC Replacement Model Regulation States- For states that have adopted the 1998 NAIC Replacement Model Regulation, the Replacement Notice (15-22390) must be submitted with theapplication if any coverage is inforce, even if a replacement is not invdved.- If any policy will be replaced, also submit the Sales Material Checklist (15-22363) with the application.- For a list of the states that have adopted the 1998 NAIC Replacement Model Regulation, refer to Lifeline. Paci?cLife.com: Underwriting & NewBusiness >> Compliance.External Replacements for states that have not adopted the 1998 NAIC Replacement Model Regulation- Submit the applicable state-required replacement form(s). If the state does n_ot have any replacement form requirements, submit Paci?c Life’sReplacement Notice (15-20889).Intemal Replacements- Submit any applicable state-required forms indicated above;- Paci?c Life’s Internal Replacement Request (15-20839) form; and- Signed and dated new business and in force illustrations.1035 Exchange- Submit the 1035 Exchange Absolute Assignment (15-28979) form with applicable replacement forms indicated above.Qualified Plan Transfer of Assets- Submit the Transfer of Quali?ed Plan Assets Request (15-17637) form with applicable replacement forms indicated above. SALES ILLUSTRATIONThe complete illustration, including the Producer/Home Of?ce Administration Worksheet and Input page(s) representing how the policy is being appliedfor, must be submitted with the application. The illustration information must match the application. If not, the application may be amended or endorsed.Non-Variable Life Insurance —The Non-Variable Life Products Illustration Acknovrledgment section of the application must be completed. If submittingan illustration, the illustration must be signed and dated by the Applicant and Soliciting Producer on or prior to the application date. In addition, the rundate must be prior to or the same date as when the illustration is signed. How To OBTAIN FORMS- Log in to Paci?c Life’s website for Producers: https://Life|ine.PacificLife.com.o For a full submission package, go to State Applications using the Quick Links section.0 For individual forms, go to Forms and Sales Materials from the drop-down menu.- E-mail marketing.orders@Paci?cLife.com.- Call Marketing at (800) 800-7681 ext. 3920.CA 15-29723-03 10/2010\\x0c'"
            ],
            "application/vnd.google.colaboratory.intrinsic+json": {
              "type": "string"
            }
          },
          "metadata": {},
          "execution_count": 22
        }
      ]
    },
    {
      "cell_type": "markdown",
      "source": [
        "##Keyword Search"
      ],
      "metadata": {
        "id": "-Mfv_-TBupod"
      }
    },
    {
      "cell_type": "markdown",
      "source": [
        "https://towardsdatascience.com/billion-scale-semantic-similarity-search-with-faiss-sbert-c845614962e2"
      ],
      "metadata": {
        "id": "qi1JQiGS3dBM"
      }
    },
    {
      "cell_type": "code",
      "source": [
        "keyword_df[\"KEYWORDS\"].head()"
      ],
      "metadata": {
        "id": "vh7sxRetvCPi",
        "outputId": "eca92180-cd5f-4b87-a35c-5d984cc08e90",
        "colab": {
          "base_uri": "https://localhost:8080/"
        }
      },
      "execution_count": 23,
      "outputs": [
        {
          "output_type": "execute_result",
          "data": {
            "text/plain": [
              "0                      Respiratory\n",
              "1          struggling with alcohol\n",
              "2          suspected alcohol abuse\n",
              "3    taking medication for alcohol\n",
              "4                         tequilla\n",
              "Name: KEYWORDS, dtype: object"
            ]
          },
          "metadata": {},
          "execution_count": 23
        }
      ]
    },
    {
      "cell_type": "code",
      "source": [
        "def make_keyword_index(data_df):\n",
        "  data=data_df[\"KEYWORDS\"].to_list()\n",
        "  # Encoding keywords\n",
        "  encoded_data = model.encode(data)\n",
        "  # Let's define the index and add data to it\n",
        "  index = faiss.IndexIDMap(faiss.IndexFlatIP(768))\n",
        "  index.add_with_ids(encoded_data, np.array(range(0, len(data))))\n",
        "  # Serializing the index\n",
        "  faiss.write_index(index, 'abc_news')\n",
        "  # Deserializing the index\n",
        "  index = faiss.read_index('abc_news')\n",
        "  return index\n",
        "\n",
        "keyword_index = make_keyword_index(keyword_df)"
      ],
      "metadata": {
        "id": "IZMEPgm1uuA4"
      },
      "execution_count": 24,
      "outputs": []
    },
    {
      "cell_type": "code",
      "source": [
        "def search(query):\n",
        "  t=time.time()\n",
        "  query_vector = model.encode([query])\n",
        "  k = 5\n",
        "  top_k = keyword_index.search(query_vector, k)\n",
        "  print('totaltime: {}'.format(time.time()-t))\n",
        "  return [data[_id] for _id in top_k[1].tolist()[0]]"
      ],
      "metadata": {
        "id": "Fb068QPxG1cP"
      },
      "execution_count": 25,
      "outputs": []
    },
    {
      "cell_type": "code",
      "source": [
        "# performing the search\n",
        "results=search(ocr_sample[\"OCR_CONTENT\"][0])\n",
        "print('results :')\n",
        "for result in results:\n",
        "   print('\\t', result)"
      ],
      "metadata": {
        "id": "qgSGFQIPwh9u",
        "outputId": "a90acbbf-a804-4e59-a6e4-fed2f6916ace",
        "colab": {
          "base_uri": "https://localhost:8080/"
        }
      },
      "execution_count": 28,
      "outputs": [
        {
          "output_type": "stream",
          "name": "stdout",
          "text": [
            "totaltime: 0.019058704376220703\n",
            "results :\n",
            "\t beckham leads as man u cut down depleted juve\n",
            "\t flight attendant action wont affect bundaberg\n",
            "\t french expedition site to be heritage protected\n",
            "\t opposition urged to help protect recherche bay\n",
            "\t canegrowers hope for late summer rain\n"
          ]
        }
      ]
    },
    {
      "cell_type": "code",
      "source": [
        "results=search(ocr_sample[\"OCR_CONTENT\"][1])\n",
        "print('results :')\n",
        "for result in results:\n",
        "   print('\\t', result)"
      ],
      "metadata": {
        "colab": {
          "base_uri": "https://localhost:8080/"
        },
        "id": "p0W3E8U74ZZt",
        "outputId": "9c8e7128-2795-49ff-d80e-680a48cbdb4e"
      },
      "execution_count": 29,
      "outputs": [
        {
          "output_type": "stream",
          "name": "stdout",
          "text": [
            "totaltime: 0.017243385314941406\n",
            "results :\n",
            "\t opposition urged to help protect recherche bay\n",
            "\t orientation begins for uni students\n",
            "\t onesteel to invest 80m in whyalla steelworks\n",
            "\t brigadier dismisses reports troops harassed in\n",
            "\t flight attendant action wont affect bundaberg\n"
          ]
        }
      ]
    },
    {
      "cell_type": "code",
      "source": [
        "results=search(ocr_sample[\"OCR_CONTENT\"][2])\n",
        "print('results :')\n",
        "for result in results:\n",
        "   print('\\t', result)"
      ],
      "metadata": {
        "id": "beixz0I2vqlu",
        "outputId": "563da045-78e4-4a7e-e849-aa3ead30ef4a",
        "colab": {
          "base_uri": "https://localhost:8080/"
        }
      },
      "execution_count": 30,
      "outputs": [
        {
          "output_type": "stream",
          "name": "stdout",
          "text": [
            "totaltime: 0.017183780670166016\n",
            "results :\n",
            "\t opposition urged to help protect recherche bay\n",
            "\t beckham leads as man u cut down depleted juve\n",
            "\t orientation begins for uni students\n",
            "\t mp rejects ambulance levy claims\n",
            "\t last minute call hands alinghi big lead\n"
          ]
        }
      ]
    },
    {
      "cell_type": "code",
      "source": [
        "results=search(ocr_sample[\"OCR_CONTENT\"][3])\n",
        "print('results :')\n",
        "for result in results:\n",
        "   print('\\t', result)"
      ],
      "metadata": {
        "colab": {
          "base_uri": "https://localhost:8080/"
        },
        "id": "jqNeNpxb3_XJ",
        "outputId": "efa47d46-1149-47d3-e72f-5324b18abf86"
      },
      "execution_count": 31,
      "outputs": [
        {
          "output_type": "stream",
          "name": "stdout",
          "text": [
            "totaltime: 0.021990537643432617\n",
            "results :\n",
            "\t flight attendant action wont affect bundaberg\n",
            "\t last minute call hands alinghi big lead\n",
            "\t french expedition site to be heritage protected\n",
            "\t health minister backs organ and tissue storage\n",
            "\t blizzard buries united states in bills\n"
          ]
        }
      ]
    },
    {
      "cell_type": "code",
      "source": [
        "results=search(ocr_sample[\"OCR_CONTENT\"][4])\n",
        "print('results :')\n",
        "for result in results:\n",
        "   print('\\t', result)"
      ],
      "metadata": {
        "id": "_D_-dJJqwRxB",
        "outputId": "31c92073-bf97-4cd1-90a1-d5e864892e55",
        "colab": {
          "base_uri": "https://localhost:8080/"
        }
      },
      "execution_count": 32,
      "outputs": [
        {
          "output_type": "stream",
          "name": "stdout",
          "text": [
            "totaltime: 0.020436525344848633\n",
            "results :\n",
            "\t martin to lobby against losing nt seat in fed\n",
            "\t flight attendant action wont affect bundaberg\n",
            "\t blizzard buries united states in bills\n",
            "\t french expedition site to be heritage protected\n",
            "\t last minute call hands alinghi big lead\n"
          ]
        }
      ]
    },
    {
      "cell_type": "code",
      "source": [
        "query = \"American celebrity public speech\"\n",
        "results=search(\"Each sentence is converted\")\n",
        "print('results :')\n",
        "for result in results:\n",
        "   print('\\t', result)"
      ],
      "metadata": {
        "id": "H2VLkQEELEOe",
        "outputId": "e1028bb9-1073-4746-a5e6-49db1193c044",
        "colab": {
          "base_uri": "https://localhost:8080/"
        }
      },
      "execution_count": 36,
      "outputs": [
        {
          "output_type": "stream",
          "name": "stdout",
          "text": [
            "totaltime: 0.013369321823120117\n",
            "results :\n",
            "\t reading go third in first division\n",
            "\t aussie qualifier stosur wastes four memphis match\n",
            "\t police defend aboriginal tent embassy raid\n",
            "\t refshauge wins defamation court case\n",
            "\t code of conduct toughens organ donation regulations\n"
          ]
        }
      ]
    }
  ]
}