{
  "nbformat": 4,
  "nbformat_minor": 0,
  "metadata": {
    "colab": {
      "provenance": [],
      "authorship_tag": "ABX9TyOqEyAzf2lOkBVJx4zZmF/d",
      "include_colab_link": true
    },
    "kernelspec": {
      "name": "python3",
      "display_name": "Python 3"
    },
    "language_info": {
      "name": "python"
    }
  },
  "cells": [
    {
      "cell_type": "markdown",
      "metadata": {
        "id": "view-in-github",
        "colab_type": "text"
      },
      "source": [
        "<a href=\"https://colab.research.google.com/github/rahiakela/natural-language-processing-research-and-practice/blob/main/text-similarity-works/building_keyword_pickle.ipynb\" target=\"_parent\"><img src=\"https://colab.research.google.com/assets/colab-badge.svg\" alt=\"Open In Colab\"/></a>"
      ]
    },
    {
      "cell_type": "code",
      "execution_count": 1,
      "metadata": {
        "id": "tFKnyoXz2lHD"
      },
      "outputs": [],
      "source": [
        "import pickle \n",
        "import sys"
      ]
    },
    {
      "cell_type": "code",
      "source": [
        "%%writefile properties.txt\n",
        "{\"keyword_filename\" : \"icd_10_keywords_v3.txt\"}\n",
        "{\"keyword_dict_pickle\" : \"icd_10_keywords_dict_index.pickle\"}"
      ],
      "metadata": {
        "colab": {
          "base_uri": "https://localhost:8080/"
        },
        "id": "IQZTKGlZ9jMu",
        "outputId": "6d316444-2381-4eb5-f108-4fe77a521905"
      },
      "execution_count": 2,
      "outputs": [
        {
          "output_type": "stream",
          "name": "stdout",
          "text": [
            "Writing properties.txt\n"
          ]
        }
      ]
    },
    {
      "cell_type": "code",
      "source": [
        "with open(\"properties.txt\") as f:\n",
        "  prop = f.readlines()\n",
        "\n",
        "\n",
        "prop_dict = {}\n",
        "for x in prop:\n",
        "    prop_dict.update(eval(x))\n",
        "\n",
        "\n",
        "if \"keyword_filename\" in prop_dict:\n",
        "    keyword_filename = prop_dict.get(\"keyword_filename\")\n",
        "else:\n",
        "    print('keyword_filename not received in properties file')\n",
        "\n",
        "try:\n",
        "    with open(keyword_filename) as f:\n",
        "        keywords = f.readlines()\n",
        "except:\n",
        "    print(f'Cant find {keyword_filename}')\n",
        "    sys.exit()\n",
        "\n",
        "first_words = []\n",
        "for key in keywords:\n",
        "    k_split = key.split()\n",
        "    if len(k_split[0]) == 1 and len(k_split) >1:\n",
        "        first_words.append(k_split[1].lower().replace(',', ''))\n",
        "    else:\n",
        "        first_words.append(k_split[0].lower().replace(',', ''))\n",
        "\n",
        "def get_index(keyname):\n",
        "    res = []\n",
        "    for i, fw in enumerate(first_words):\n",
        "        if fw == keyname:\n",
        "            res.append(i)\n",
        "    return res    \n",
        "\n",
        "set_key = list(set(first_words))\n",
        "\n",
        "dict_index= {}\n",
        "for sk in set_key:\n",
        "    dict_index[sk] = get_index(sk)\n",
        "    \n",
        "with open(f'{keyword_filename[:-4]}_dict_index.pickle', 'wb') as f:\n",
        "    pickle.dump(dict_index, f)"
      ],
      "metadata": {
        "id": "AIxER7YZ7w2u"
      },
      "execution_count": 3,
      "outputs": []
    }
  ]
}