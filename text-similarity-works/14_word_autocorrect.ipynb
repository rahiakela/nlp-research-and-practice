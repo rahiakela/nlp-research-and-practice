{
  "nbformat": 4,
  "nbformat_minor": 0,
  "metadata": {
    "colab": {
      "provenance": [],
      "toc_visible": true,
      "authorship_tag": "ABX9TyOIQHusN4gQ9cj4ZAPLcsun",
      "include_colab_link": true
    },
    "kernelspec": {
      "name": "python3",
      "display_name": "Python 3"
    },
    "language_info": {
      "name": "python"
    }
  },
  "cells": [
    {
      "cell_type": "markdown",
      "metadata": {
        "id": "view-in-github",
        "colab_type": "text"
      },
      "source": [
        "<a href=\"https://colab.research.google.com/github/rahiakela/natural-language-processing-research-and-practice/blob/main/text-similarity-works/14_word_autocorrect.ipynb\" target=\"_parent\"><img src=\"https://colab.research.google.com/assets/colab-badge.svg\" alt=\"Open In Colab\"/></a>"
      ]
    },
    {
      "cell_type": "markdown",
      "source": [
        "##Word Autocorrect"
      ],
      "metadata": {
        "id": "JMIrX1qk8yQy"
      }
    },
    {
      "cell_type": "markdown",
      "source": [
        "**Reference**:\n",
        "\n",
        "https://www.section.io/engineering-education/building-autocorrect-feature-using-nlp-with-python/\n",
        "\n",
        "https://thecleverprogrammer.com/2020/10/04/autocorrect-with-python/\n",
        "\n",
        "https://www.geeksforgeeks.org/spelling-checker-in-python/"
      ],
      "metadata": {
        "id": "vWGtE9kbG0N3"
      }
    },
    {
      "cell_type": "markdown",
      "source": [
        "##Setup"
      ],
      "metadata": {
        "id": "XV7RWjbmH2hC"
      }
    },
    {
      "cell_type": "code",
      "source": [
        "%%shell\n",
        "\n",
        "pip install pattern\n",
        "pip install pyspellchecker\n",
        "pip install autocorrect\n",
        "pip install textblob\n",
        "pip install textdistance"
      ],
      "metadata": {
        "id": "kfzK7DPf9JTd"
      },
      "execution_count": null,
      "outputs": []
    },
    {
      "cell_type": "code",
      "source": [
        "!wget https://github.com/dentex22/Autocorrect_System/raw/main/sample.txt\n",
        "!wget https://github.com/amankharwal/Website-data/raw/master/book.txt"
      ],
      "metadata": {
        "id": "kO79CWp8H_sC"
      },
      "execution_count": null,
      "outputs": []
    },
    {
      "cell_type": "code",
      "source": [
        "import re  # regular expression\n",
        "from collections import Counter\n",
        "import numpy as np\n",
        "import pandas as pd\n",
        "import textdistance"
      ],
      "metadata": {
        "id": "ud8YP2DoHr6B"
      },
      "execution_count": 3,
      "outputs": []
    },
    {
      "cell_type": "markdown",
      "source": [
        "##Edit Distance Autocorrect"
      ],
      "metadata": {
        "id": "Md64nAdNH4nC"
      }
    },
    {
      "cell_type": "code",
      "source": [
        "\"\"\"\n",
        "Here, we do the followings things:\n",
        "\n",
        "1. Reads in a corpus \n",
        "2. Changes everything to lowercase\n",
        "3. Returns a list of words\n",
        "\"\"\"\n",
        "words = []\n",
        "\n",
        "with open(\"sample.txt\", \"r\", encoding=\"utf8\") as f:\n",
        "  word = f.read()\n",
        "  word = word.lower()\n",
        "  words = re.findall(\"\\w+\", word)\n",
        "\n",
        "# vocabulary\n",
        "vocab = set(words)\n",
        "print(f\"The first 10 words in our dictionary are: \\n{words[0:10]}\")\n",
        "print(f\"The dictionary has {len(vocab)} words.\")"
      ],
      "metadata": {
        "colab": {
          "base_uri": "https://localhost:8080/"
        },
        "id": "4quU9_tOH6pI",
        "outputId": "33372b7a-4989-49c8-875c-b59b7b760388"
      },
      "execution_count": 4,
      "outputs": [
        {
          "output_type": "stream",
          "name": "stdout",
          "text": [
            "The first 10 words in our dictionary are: \n",
            "['a', 'ability', 'able', 'about', 'above', 'accept', 'according', 'account', 'across', 'act']\n",
            "The dictionary has 1001 words.\n"
          ]
        }
      ]
    },
    {
      "cell_type": "markdown",
      "source": [
        "###Utility functions"
      ],
      "metadata": {
        "id": "M16brRF6OLZb"
      }
    },
    {
      "cell_type": "code",
      "source": [
        "# Let's find the frequency of the words\n",
        "def get_word_count(words):\n",
        "  word_count_dict = {}\n",
        "  for word in words:\n",
        "    if word in word_count_dict:\n",
        "      word_count_dict[word] += 1\n",
        "    else:\n",
        "      word_count_dict[word] = 1\n",
        "  return word_count_dict \n",
        "\n",
        "word_count_dict = get_word_count(words)\n",
        "print(f\"There are {len(word_count_dict)} key values pairs.\")"
      ],
      "metadata": {
        "colab": {
          "base_uri": "https://localhost:8080/"
        },
        "id": "YlebFRuGMbB2",
        "outputId": "7ea2bdc3-b7de-4671-e84e-5c3a14864977"
      },
      "execution_count": 5,
      "outputs": [
        {
          "output_type": "stream",
          "name": "stdout",
          "text": [
            "There are 1001 key values pairs.\n"
          ]
        }
      ]
    },
    {
      "cell_type": "code",
      "source": [
        "# Let's calculate the probability that any word will appear if randomly selected from the dictionary\n",
        "def get_probs(word_count_dict):\n",
        "  probs = {}\n",
        "  total_word = sum(word_count_dict.values())\n",
        "  for key in word_count_dict.keys():\n",
        "    probs[key] = word_count_dict[key] / total_word\n",
        "  return probs"
      ],
      "metadata": {
        "id": "frO_C2y3NMiZ"
      },
      "execution_count": 6,
      "outputs": []
    },
    {
      "cell_type": "code",
      "source": [
        "\"\"\"\n",
        "Now we implement 4 edit word functions\n",
        "\n",
        "1. delete_letter:removes a letter from a given word\n",
        "2. SwitchLetter:swap two adjacent letters\n",
        "3. replace_letter: changes one letter to another\n",
        "4. insert_letter: adds additional characters\n",
        "\"\"\"\n",
        "\n",
        "def delete_letter(word):\n",
        "  delete_list = []\n",
        "  split_list = []\n",
        "  for i in range(len(word)):\n",
        "    split_list.append((word[0:i], word[i:]))\n",
        "  for a, b in split_list:\n",
        "    delete_list.append(a + b[1:])\n",
        "  return delete_list"
      ],
      "metadata": {
        "id": "HMcbqS15OVRi"
      },
      "execution_count": 7,
      "outputs": []
    },
    {
      "cell_type": "code",
      "source": [
        "print(delete_letter(word=\"cans\"))"
      ],
      "metadata": {
        "colab": {
          "base_uri": "https://localhost:8080/"
        },
        "id": "PQv5_ZpLRKPw",
        "outputId": "721cd23b-a1ec-47d3-be40-965a290d5213"
      },
      "execution_count": 8,
      "outputs": [
        {
          "output_type": "stream",
          "name": "stdout",
          "text": [
            "['ans', 'cns', 'cas', 'can']\n"
          ]
        }
      ]
    },
    {
      "cell_type": "code",
      "source": [
        "delete_letter(word=\"trash\")"
      ],
      "metadata": {
        "colab": {
          "base_uri": "https://localhost:8080/"
        },
        "id": "q43n2babRMK3",
        "outputId": "b43a685b-7ac5-406a-87c2-509d94111eaa"
      },
      "execution_count": 9,
      "outputs": [
        {
          "output_type": "execute_result",
          "data": {
            "text/plain": [
              "['rash', 'tash', 'trsh', 'trah', 'tras']"
            ]
          },
          "metadata": {},
          "execution_count": 9
        }
      ]
    },
    {
      "cell_type": "code",
      "source": [
        "def switch_letter(word):\n",
        "  split_letter = []\n",
        "  switch_letter = []\n",
        "  for i in range(len(word)):\n",
        "    split_letter.append((word[0:i], word[i:]))\n",
        "  switch_letter = [a + b[1] + b[0] + b[2:] for a, b in split_letter if len(b) >= 2]\n",
        "  return switch_letter"
      ],
      "metadata": {
        "id": "yICfMYpgRUb_"
      },
      "execution_count": 10,
      "outputs": []
    },
    {
      "cell_type": "code",
      "source": [
        "print(switch_letter(\"trash\"))"
      ],
      "metadata": {
        "colab": {
          "base_uri": "https://localhost:8080/"
        },
        "id": "1DD737WCRod9",
        "outputId": "811e490e-153c-4a4a-ff0c-c76b71c265e5"
      },
      "execution_count": 11,
      "outputs": [
        {
          "output_type": "stream",
          "name": "stdout",
          "text": [
            "['rtash', 'tarsh', 'trsah', 'trahs']\n"
          ]
        }
      ]
    },
    {
      "cell_type": "code",
      "source": [
        "def replace_letter(word):\n",
        "  split_letter = []\n",
        "  replace_list = []\n",
        "  for i in range(len(word)):\n",
        "    split_letter.append((word[0:i], word[i:]))\n",
        "  alphabets = \"abcdefghijklmnopqrstuvwxyz\"\n",
        "  replace_list = [a + letter + (b[1:] if len(b) > 1 else \"\") for a, b in split_letter if b for letter in alphabets]\n",
        "  return replace_list"
      ],
      "metadata": {
        "id": "kLbKVmm2SWOV"
      },
      "execution_count": 12,
      "outputs": []
    },
    {
      "cell_type": "code",
      "source": [
        "print(replace_letter(\"trash\"))"
      ],
      "metadata": {
        "colab": {
          "base_uri": "https://localhost:8080/"
        },
        "id": "T62ypZB-TPT_",
        "outputId": "aecc004a-8e57-4d95-d27b-7d3812025a35"
      },
      "execution_count": 13,
      "outputs": [
        {
          "output_type": "stream",
          "name": "stdout",
          "text": [
            "['arash', 'brash', 'crash', 'drash', 'erash', 'frash', 'grash', 'hrash', 'irash', 'jrash', 'krash', 'lrash', 'mrash', 'nrash', 'orash', 'prash', 'qrash', 'rrash', 'srash', 'trash', 'urash', 'vrash', 'wrash', 'xrash', 'yrash', 'zrash', 'taash', 'tbash', 'tcash', 'tdash', 'teash', 'tfash', 'tgash', 'thash', 'tiash', 'tjash', 'tkash', 'tlash', 'tmash', 'tnash', 'toash', 'tpash', 'tqash', 'trash', 'tsash', 'ttash', 'tuash', 'tvash', 'twash', 'txash', 'tyash', 'tzash', 'trash', 'trbsh', 'trcsh', 'trdsh', 'tresh', 'trfsh', 'trgsh', 'trhsh', 'trish', 'trjsh', 'trksh', 'trlsh', 'trmsh', 'trnsh', 'trosh', 'trpsh', 'trqsh', 'trrsh', 'trssh', 'trtsh', 'trush', 'trvsh', 'trwsh', 'trxsh', 'trysh', 'trzsh', 'traah', 'trabh', 'trach', 'tradh', 'traeh', 'trafh', 'tragh', 'trahh', 'traih', 'trajh', 'trakh', 'tralh', 'tramh', 'tranh', 'traoh', 'traph', 'traqh', 'trarh', 'trash', 'trath', 'trauh', 'travh', 'trawh', 'traxh', 'trayh', 'trazh', 'trasa', 'trasb', 'trasc', 'trasd', 'trase', 'trasf', 'trasg', 'trash', 'trasi', 'trasj', 'trask', 'trasl', 'trasm', 'trasn', 'traso', 'trasp', 'trasq', 'trasr', 'trass', 'trast', 'trasu', 'trasv', 'trasw', 'trasx', 'trasy', 'trasz']\n"
          ]
        }
      ]
    },
    {
      "cell_type": "code",
      "source": [
        "def insert_letter(word):\n",
        "  split_letter = []\n",
        "  insert_list = []\n",
        "  for i in range(len(word) + 1):\n",
        "    split_letter.append((word[0:i], word[i:]))\n",
        "  alphabets = \"abcdefghijklmnopqrstuvwxyz\"\n",
        "  insert_list = [a + letter + b for a, b in split_letter if b for letter in alphabets]\n",
        "  return insert_list"
      ],
      "metadata": {
        "id": "0pE1-iJGTgdr"
      },
      "execution_count": 14,
      "outputs": []
    },
    {
      "cell_type": "code",
      "source": [
        "print(insert_letter(\"trash\"))"
      ],
      "metadata": {
        "colab": {
          "base_uri": "https://localhost:8080/"
        },
        "id": "BfuU6YEhT--b",
        "outputId": "5d928b2c-5414-4209-ab1b-7d861b976110"
      },
      "execution_count": 15,
      "outputs": [
        {
          "output_type": "stream",
          "name": "stdout",
          "text": [
            "['atrash', 'btrash', 'ctrash', 'dtrash', 'etrash', 'ftrash', 'gtrash', 'htrash', 'itrash', 'jtrash', 'ktrash', 'ltrash', 'mtrash', 'ntrash', 'otrash', 'ptrash', 'qtrash', 'rtrash', 'strash', 'ttrash', 'utrash', 'vtrash', 'wtrash', 'xtrash', 'ytrash', 'ztrash', 'tarash', 'tbrash', 'tcrash', 'tdrash', 'terash', 'tfrash', 'tgrash', 'thrash', 'tirash', 'tjrash', 'tkrash', 'tlrash', 'tmrash', 'tnrash', 'torash', 'tprash', 'tqrash', 'trrash', 'tsrash', 'ttrash', 'turash', 'tvrash', 'twrash', 'txrash', 'tyrash', 'tzrash', 'traash', 'trbash', 'trcash', 'trdash', 'treash', 'trfash', 'trgash', 'trhash', 'triash', 'trjash', 'trkash', 'trlash', 'trmash', 'trnash', 'troash', 'trpash', 'trqash', 'trrash', 'trsash', 'trtash', 'truash', 'trvash', 'trwash', 'trxash', 'tryash', 'trzash', 'traash', 'trabsh', 'tracsh', 'tradsh', 'traesh', 'trafsh', 'tragsh', 'trahsh', 'traish', 'trajsh', 'traksh', 'tralsh', 'tramsh', 'transh', 'traosh', 'trapsh', 'traqsh', 'trarsh', 'trassh', 'tratsh', 'traush', 'travsh', 'trawsh', 'traxsh', 'traysh', 'trazsh', 'trasah', 'trasbh', 'trasch', 'trasdh', 'traseh', 'trasfh', 'trasgh', 'trashh', 'trasih', 'trasjh', 'traskh', 'traslh', 'trasmh', 'trasnh', 'trasoh', 'trasph', 'trasqh', 'trasrh', 'trassh', 'trasth', 'trasuh', 'trasvh', 'traswh', 'trasxh', 'trasyh', 'traszh']\n"
          ]
        }
      ]
    },
    {
      "cell_type": "markdown",
      "source": [
        "We then combine these edit functions to allow the autocorrect features, like delete, replace, insert, and swap the letters."
      ],
      "metadata": {
        "id": "kiST7yw2UQk5"
      }
    },
    {
      "cell_type": "code",
      "source": [
        "def edit_one_letter(word, allow_switches=True):\n",
        "  edit_set = set()\n",
        "  edit_set.update(delete_letter(word))\n",
        "  if allow_switches:\n",
        "    edit_set.update(switch_letter(word))\n",
        "  edit_set.update(replace_letter(word))\n",
        "  edit_set.update(insert_letter(word))\n",
        "  return edit_set\n",
        "\n",
        "def edit_two_letters(word, allow_switches=True):\n",
        "  edit_set2 = set()\n",
        "  edit_one = edit_one_letter(word, allow_switches=allow_switches)\n",
        "  for w in edit_one:\n",
        "    if w:\n",
        "      edit_two = edit_one_letter(w, allow_switches=allow_switches)\n",
        "      edit_set2.update(edit_two)\n",
        "  return edit_set2"
      ],
      "metadata": {
        "id": "_zg077ruUSYq"
      },
      "execution_count": 16,
      "outputs": []
    },
    {
      "cell_type": "markdown",
      "source": [
        "###Autocorrect word"
      ],
      "metadata": {
        "id": "6z7RZm2tl1rL"
      }
    },
    {
      "cell_type": "code",
      "source": [
        "def get_corrections(word, probs, vocabs, n=2):\n",
        "  suggested_word = []\n",
        "  best_suggestion = []\n",
        "\n",
        "  suggested_word = list(\n",
        "    (word in vocabs and word) \n",
        "      or edit_one_letter(word).intersection(vocabs)\n",
        "      or edit_two_letters(word).intersection(vocabs)\n",
        "  )\n",
        "\n",
        "  best_suggestion = [[s, probs[s]] for s in list(reversed(suggested_word))]\n",
        "  return best_suggestion"
      ],
      "metadata": {
        "id": "EsF8lua8ktMH"
      },
      "execution_count": 17,
      "outputs": []
    },
    {
      "cell_type": "code",
      "source": [
        "probs = get_probs(word_count_dict)\n",
        "tmp_corrections = get_corrections(\"daed\", probs, vocab, 2)\n",
        "for i, word_prob in enumerate(tmp_corrections):\n",
        "  print(f\"word {i}: {word_prob[0]}, probability {word_prob[1] * 100:.6f}\")"
      ],
      "metadata": {
        "colab": {
          "base_uri": "https://localhost:8080/"
        },
        "id": "S4GOj3V2nMfy",
        "outputId": "83d53252-8795-40e9-c1f9-60ed43eaefa8"
      },
      "execution_count": 18,
      "outputs": [
        {
          "output_type": "stream",
          "name": "stdout",
          "text": [
            "word 0: dead, probability 0.099900\n"
          ]
        }
      ]
    },
    {
      "cell_type": "code",
      "source": [
        "tmp_corrections = get_corrections(\"correct\", probs, vocab, 2)\n",
        "for i, word_prob in enumerate(tmp_corrections):\n",
        "  print(f\"word {i}: {word_prob[0]}, probability {word_prob[1] * 100 :.6f}\")"
      ],
      "metadata": {
        "colab": {
          "base_uri": "https://localhost:8080/"
        },
        "id": "uwVmM6Q2oOq0",
        "outputId": "b4591659-9b0c-4741-d957-83a288193a87"
      },
      "execution_count": 19,
      "outputs": [
        {
          "output_type": "stream",
          "name": "stdout",
          "text": [
            "word 0: current, probability 0.099900\n"
          ]
        }
      ]
    },
    {
      "cell_type": "markdown",
      "source": [
        "##Text Distance Autocorrect"
      ],
      "metadata": {
        "id": "qj1_sxxNDIjx"
      }
    },
    {
      "cell_type": "code",
      "source": [
        "words = []\n",
        "\n",
        "with open(\"book.txt\", \"r\", encoding=\"utf8\") as f:\n",
        "  word = f.read()\n",
        "  word = word.lower()\n",
        "  words = re.findall(\"\\w+\", word)\n",
        "\n",
        "# vocabulary\n",
        "vocab = set(words)\n",
        "print(f\"The first 10 words in our dictionary are: \\n{words[0:10]}\")\n",
        "print(f\"The dictionary has {len(vocab)} words.\")"
      ],
      "metadata": {
        "id": "5K14uwCXDYrf",
        "outputId": "eb3ab829-cd1e-4578-9046-7de4f7c938a8",
        "colab": {
          "base_uri": "https://localhost:8080/"
        }
      },
      "execution_count": 20,
      "outputs": [
        {
          "output_type": "stream",
          "name": "stdout",
          "text": [
            "The first 10 words in our dictionary are: \n",
            "['the', 'project', 'gutenberg', 'ebook', 'of', 'moby', 'dick', 'or', 'the', 'whale']\n",
            "The dictionary has 17647 words.\n"
          ]
        }
      ]
    },
    {
      "cell_type": "code",
      "source": [
        "# Let's calculate the frequency of those words\n",
        "word_freq_dict = {}\n",
        "word_freq_dict = Counter(words)\n",
        "print(word_freq_dict.most_common()[0:10])"
      ],
      "metadata": {
        "id": "OwG9lNx0D0CA",
        "outputId": "efb9225d-5088-47dd-8c69-b1b880c7e476",
        "colab": {
          "base_uri": "https://localhost:8080/"
        }
      },
      "execution_count": 21,
      "outputs": [
        {
          "output_type": "stream",
          "name": "stdout",
          "text": [
            "[('the', 14703), ('of', 6742), ('and', 6517), ('a', 4799), ('to', 4707), ('in', 4238), ('that', 3081), ('it', 2534), ('his', 2530), ('i', 2120)]\n"
          ]
        }
      ]
    },
    {
      "cell_type": "markdown",
      "source": [
        "###Relative Frequency of words"
      ],
      "metadata": {
        "id": "8zDoIG68EJpX"
      }
    },
    {
      "cell_type": "code",
      "source": [
        "# get the probability of occurrence of each word \n",
        "probs = {}\n",
        "total = sum(word_freq_dict.values())\n",
        "for k in word_freq_dict.keys():\n",
        "  probs[k] = word_freq_dict[k] / total"
      ],
      "metadata": {
        "id": "sjrTHG-wEKai"
      },
      "execution_count": 22,
      "outputs": []
    },
    {
      "cell_type": "markdown",
      "source": [
        "###Finding Similar Words"
      ],
      "metadata": {
        "id": "1dJQYVsEElnS"
      }
    },
    {
      "cell_type": "markdown",
      "source": [
        "Now we will sort similar words according to the Jaccard distance by calculating the 2 grams Q of the words. \n",
        "\n",
        "Next, we will return the 5 most similar words ordered by similarity and probability:"
      ],
      "metadata": {
        "id": "ZSp78lwoF5pd"
      }
    },
    {
      "cell_type": "code",
      "source": [
        "def get_autocorrect(word):\n",
        "  input_word = word.lower()\n",
        "  if input_word in vocab:\n",
        "    print(\"Your word seems to be correct\")\n",
        "  else:\n",
        "    similarities = [1 - (textdistance.Jaccard(qval=1).distance(v, input_word)) for v in word_freq_dict.keys()]\n",
        "    df = pd.DataFrame.from_dict(probs, orient=\"index\").reset_index()\n",
        "    df = df.rename(columns={\"index\": \"word\", 0: \"Prob\"})\n",
        "    df[\"Similarity\"] = similarities\n",
        "    output = df.sort_values([\"Similarity\", \"Prob\"], ascending=False).head()\n",
        "    return output"
      ],
      "metadata": {
        "id": "KaKEkeCDEmPc"
      },
      "execution_count": 46,
      "outputs": []
    },
    {
      "cell_type": "code",
      "source": [
        "get_autocorrect(\"neverteless\")"
      ],
      "metadata": {
        "id": "G4Mh1KMxHjW4",
        "outputId": "5c9d2675-1dbd-4ae5-d9ef-4c19a468387f",
        "colab": {
          "base_uri": "https://localhost:8080/",
          "height": 206
        }
      },
      "execution_count": 47,
      "outputs": [
        {
          "output_type": "execute_result",
          "data": {
            "text/plain": [
              "              word      Prob  Similarity\n",
              "2571  nevertheless  0.000225    0.983333\n",
              "1105         never  0.000925    0.890909\n",
              "6043           net  0.000022    0.806061\n",
              "9214         nerve  0.000004    0.801212\n",
              "8078    sereneness  0.000004    0.800758"
            ],
            "text/html": [
              "\n",
              "  <div id=\"df-d32bdbca-5132-48d0-acce-ed0bad54283e\">\n",
              "    <div class=\"colab-df-container\">\n",
              "      <div>\n",
              "<style scoped>\n",
              "    .dataframe tbody tr th:only-of-type {\n",
              "        vertical-align: middle;\n",
              "    }\n",
              "\n",
              "    .dataframe tbody tr th {\n",
              "        vertical-align: top;\n",
              "    }\n",
              "\n",
              "    .dataframe thead th {\n",
              "        text-align: right;\n",
              "    }\n",
              "</style>\n",
              "<table border=\"1\" class=\"dataframe\">\n",
              "  <thead>\n",
              "    <tr style=\"text-align: right;\">\n",
              "      <th></th>\n",
              "      <th>word</th>\n",
              "      <th>Prob</th>\n",
              "      <th>Similarity</th>\n",
              "    </tr>\n",
              "  </thead>\n",
              "  <tbody>\n",
              "    <tr>\n",
              "      <th>2571</th>\n",
              "      <td>nevertheless</td>\n",
              "      <td>0.000225</td>\n",
              "      <td>0.983333</td>\n",
              "    </tr>\n",
              "    <tr>\n",
              "      <th>1105</th>\n",
              "      <td>never</td>\n",
              "      <td>0.000925</td>\n",
              "      <td>0.890909</td>\n",
              "    </tr>\n",
              "    <tr>\n",
              "      <th>6043</th>\n",
              "      <td>net</td>\n",
              "      <td>0.000022</td>\n",
              "      <td>0.806061</td>\n",
              "    </tr>\n",
              "    <tr>\n",
              "      <th>9214</th>\n",
              "      <td>nerve</td>\n",
              "      <td>0.000004</td>\n",
              "      <td>0.801212</td>\n",
              "    </tr>\n",
              "    <tr>\n",
              "      <th>8078</th>\n",
              "      <td>sereneness</td>\n",
              "      <td>0.000004</td>\n",
              "      <td>0.800758</td>\n",
              "    </tr>\n",
              "  </tbody>\n",
              "</table>\n",
              "</div>\n",
              "      <button class=\"colab-df-convert\" onclick=\"convertToInteractive('df-d32bdbca-5132-48d0-acce-ed0bad54283e')\"\n",
              "              title=\"Convert this dataframe to an interactive table.\"\n",
              "              style=\"display:none;\">\n",
              "        \n",
              "  <svg xmlns=\"http://www.w3.org/2000/svg\" height=\"24px\"viewBox=\"0 0 24 24\"\n",
              "       width=\"24px\">\n",
              "    <path d=\"M0 0h24v24H0V0z\" fill=\"none\"/>\n",
              "    <path d=\"M18.56 5.44l.94 2.06.94-2.06 2.06-.94-2.06-.94-.94-2.06-.94 2.06-2.06.94zm-11 1L8.5 8.5l.94-2.06 2.06-.94-2.06-.94L8.5 2.5l-.94 2.06-2.06.94zm10 10l.94 2.06.94-2.06 2.06-.94-2.06-.94-.94-2.06-.94 2.06-2.06.94z\"/><path d=\"M17.41 7.96l-1.37-1.37c-.4-.4-.92-.59-1.43-.59-.52 0-1.04.2-1.43.59L10.3 9.45l-7.72 7.72c-.78.78-.78 2.05 0 2.83L4 21.41c.39.39.9.59 1.41.59.51 0 1.02-.2 1.41-.59l7.78-7.78 2.81-2.81c.8-.78.8-2.07 0-2.86zM5.41 20L4 18.59l7.72-7.72 1.47 1.35L5.41 20z\"/>\n",
              "  </svg>\n",
              "      </button>\n",
              "      \n",
              "  <style>\n",
              "    .colab-df-container {\n",
              "      display:flex;\n",
              "      flex-wrap:wrap;\n",
              "      gap: 12px;\n",
              "    }\n",
              "\n",
              "    .colab-df-convert {\n",
              "      background-color: #E8F0FE;\n",
              "      border: none;\n",
              "      border-radius: 50%;\n",
              "      cursor: pointer;\n",
              "      display: none;\n",
              "      fill: #1967D2;\n",
              "      height: 32px;\n",
              "      padding: 0 0 0 0;\n",
              "      width: 32px;\n",
              "    }\n",
              "\n",
              "    .colab-df-convert:hover {\n",
              "      background-color: #E2EBFA;\n",
              "      box-shadow: 0px 1px 2px rgba(60, 64, 67, 0.3), 0px 1px 3px 1px rgba(60, 64, 67, 0.15);\n",
              "      fill: #174EA6;\n",
              "    }\n",
              "\n",
              "    [theme=dark] .colab-df-convert {\n",
              "      background-color: #3B4455;\n",
              "      fill: #D2E3FC;\n",
              "    }\n",
              "\n",
              "    [theme=dark] .colab-df-convert:hover {\n",
              "      background-color: #434B5C;\n",
              "      box-shadow: 0px 1px 3px 1px rgba(0, 0, 0, 0.15);\n",
              "      filter: drop-shadow(0px 1px 2px rgba(0, 0, 0, 0.3));\n",
              "      fill: #FFFFFF;\n",
              "    }\n",
              "  </style>\n",
              "\n",
              "      <script>\n",
              "        const buttonEl =\n",
              "          document.querySelector('#df-d32bdbca-5132-48d0-acce-ed0bad54283e button.colab-df-convert');\n",
              "        buttonEl.style.display =\n",
              "          google.colab.kernel.accessAllowed ? 'block' : 'none';\n",
              "\n",
              "        async function convertToInteractive(key) {\n",
              "          const element = document.querySelector('#df-d32bdbca-5132-48d0-acce-ed0bad54283e');\n",
              "          const dataTable =\n",
              "            await google.colab.kernel.invokeFunction('convertToInteractive',\n",
              "                                                     [key], {});\n",
              "          if (!dataTable) return;\n",
              "\n",
              "          const docLinkHtml = 'Like what you see? Visit the ' +\n",
              "            '<a target=\"_blank\" href=https://colab.research.google.com/notebooks/data_table.ipynb>data table notebook</a>'\n",
              "            + ' to learn more about interactive tables.';\n",
              "          element.innerHTML = '';\n",
              "          dataTable['output_type'] = 'display_data';\n",
              "          await google.colab.output.renderOutput(dataTable, element);\n",
              "          const docLink = document.createElement('div');\n",
              "          docLink.innerHTML = docLinkHtml;\n",
              "          element.appendChild(docLink);\n",
              "        }\n",
              "      </script>\n",
              "    </div>\n",
              "  </div>\n",
              "  "
            ]
          },
          "metadata": {},
          "execution_count": 47
        }
      ]
    },
    {
      "cell_type": "code",
      "source": [
        "def get_autocorrect(word):\n",
        "  input_word = word.lower()\n",
        "  if input_word in vocab:\n",
        "    print(\"Your word seems to be correct\")\n",
        "  else:\n",
        "    similarities = [1 - (textdistance.Levenshtein(qval=1).distance(v, input_word)) for v in word_freq_dict.keys()]\n",
        "    df = pd.DataFrame.from_dict(probs, orient=\"index\").reset_index()\n",
        "    df = df.rename(columns={\"index\": \"word\", 0: \"Prob\"})\n",
        "    df[\"Similarity\"] = similarities\n",
        "    output = df.sort_values([\"Similarity\", \"Prob\"], ascending=False).head()\n",
        "    return output"
      ],
      "metadata": {
        "id": "jPHN7a4PHsMd"
      },
      "execution_count": 48,
      "outputs": []
    },
    {
      "cell_type": "code",
      "source": [
        "get_autocorrect(\"neverteless\")"
      ],
      "metadata": {
        "id": "odSb2pn0dwnm",
        "outputId": "fdf53cd8-661b-4e09-ab08-09a3ea06b0ae",
        "colab": {
          "base_uri": "https://localhost:8080/",
          "height": 206
        }
      },
      "execution_count": 49,
      "outputs": [
        {
          "output_type": "execute_result",
          "data": {
            "text/plain": [
              "               word      Prob  Similarity\n",
              "2571   nevertheless  0.000225           0\n",
              "2449    remorseless  0.000027          -3\n",
              "10481     heartless  0.000018          -3\n",
              "2296       nameless  0.000081          -4\n",
              "1930        needles  0.000049          -4"
            ],
            "text/html": [
              "\n",
              "  <div id=\"df-6c700877-6fbc-4231-a724-cfc16f4ce12d\">\n",
              "    <div class=\"colab-df-container\">\n",
              "      <div>\n",
              "<style scoped>\n",
              "    .dataframe tbody tr th:only-of-type {\n",
              "        vertical-align: middle;\n",
              "    }\n",
              "\n",
              "    .dataframe tbody tr th {\n",
              "        vertical-align: top;\n",
              "    }\n",
              "\n",
              "    .dataframe thead th {\n",
              "        text-align: right;\n",
              "    }\n",
              "</style>\n",
              "<table border=\"1\" class=\"dataframe\">\n",
              "  <thead>\n",
              "    <tr style=\"text-align: right;\">\n",
              "      <th></th>\n",
              "      <th>word</th>\n",
              "      <th>Prob</th>\n",
              "      <th>Similarity</th>\n",
              "    </tr>\n",
              "  </thead>\n",
              "  <tbody>\n",
              "    <tr>\n",
              "      <th>2571</th>\n",
              "      <td>nevertheless</td>\n",
              "      <td>0.000225</td>\n",
              "      <td>0</td>\n",
              "    </tr>\n",
              "    <tr>\n",
              "      <th>2449</th>\n",
              "      <td>remorseless</td>\n",
              "      <td>0.000027</td>\n",
              "      <td>-3</td>\n",
              "    </tr>\n",
              "    <tr>\n",
              "      <th>10481</th>\n",
              "      <td>heartless</td>\n",
              "      <td>0.000018</td>\n",
              "      <td>-3</td>\n",
              "    </tr>\n",
              "    <tr>\n",
              "      <th>2296</th>\n",
              "      <td>nameless</td>\n",
              "      <td>0.000081</td>\n",
              "      <td>-4</td>\n",
              "    </tr>\n",
              "    <tr>\n",
              "      <th>1930</th>\n",
              "      <td>needles</td>\n",
              "      <td>0.000049</td>\n",
              "      <td>-4</td>\n",
              "    </tr>\n",
              "  </tbody>\n",
              "</table>\n",
              "</div>\n",
              "      <button class=\"colab-df-convert\" onclick=\"convertToInteractive('df-6c700877-6fbc-4231-a724-cfc16f4ce12d')\"\n",
              "              title=\"Convert this dataframe to an interactive table.\"\n",
              "              style=\"display:none;\">\n",
              "        \n",
              "  <svg xmlns=\"http://www.w3.org/2000/svg\" height=\"24px\"viewBox=\"0 0 24 24\"\n",
              "       width=\"24px\">\n",
              "    <path d=\"M0 0h24v24H0V0z\" fill=\"none\"/>\n",
              "    <path d=\"M18.56 5.44l.94 2.06.94-2.06 2.06-.94-2.06-.94-.94-2.06-.94 2.06-2.06.94zm-11 1L8.5 8.5l.94-2.06 2.06-.94-2.06-.94L8.5 2.5l-.94 2.06-2.06.94zm10 10l.94 2.06.94-2.06 2.06-.94-2.06-.94-.94-2.06-.94 2.06-2.06.94z\"/><path d=\"M17.41 7.96l-1.37-1.37c-.4-.4-.92-.59-1.43-.59-.52 0-1.04.2-1.43.59L10.3 9.45l-7.72 7.72c-.78.78-.78 2.05 0 2.83L4 21.41c.39.39.9.59 1.41.59.51 0 1.02-.2 1.41-.59l7.78-7.78 2.81-2.81c.8-.78.8-2.07 0-2.86zM5.41 20L4 18.59l7.72-7.72 1.47 1.35L5.41 20z\"/>\n",
              "  </svg>\n",
              "      </button>\n",
              "      \n",
              "  <style>\n",
              "    .colab-df-container {\n",
              "      display:flex;\n",
              "      flex-wrap:wrap;\n",
              "      gap: 12px;\n",
              "    }\n",
              "\n",
              "    .colab-df-convert {\n",
              "      background-color: #E8F0FE;\n",
              "      border: none;\n",
              "      border-radius: 50%;\n",
              "      cursor: pointer;\n",
              "      display: none;\n",
              "      fill: #1967D2;\n",
              "      height: 32px;\n",
              "      padding: 0 0 0 0;\n",
              "      width: 32px;\n",
              "    }\n",
              "\n",
              "    .colab-df-convert:hover {\n",
              "      background-color: #E2EBFA;\n",
              "      box-shadow: 0px 1px 2px rgba(60, 64, 67, 0.3), 0px 1px 3px 1px rgba(60, 64, 67, 0.15);\n",
              "      fill: #174EA6;\n",
              "    }\n",
              "\n",
              "    [theme=dark] .colab-df-convert {\n",
              "      background-color: #3B4455;\n",
              "      fill: #D2E3FC;\n",
              "    }\n",
              "\n",
              "    [theme=dark] .colab-df-convert:hover {\n",
              "      background-color: #434B5C;\n",
              "      box-shadow: 0px 1px 3px 1px rgba(0, 0, 0, 0.15);\n",
              "      filter: drop-shadow(0px 1px 2px rgba(0, 0, 0, 0.3));\n",
              "      fill: #FFFFFF;\n",
              "    }\n",
              "  </style>\n",
              "\n",
              "      <script>\n",
              "        const buttonEl =\n",
              "          document.querySelector('#df-6c700877-6fbc-4231-a724-cfc16f4ce12d button.colab-df-convert');\n",
              "        buttonEl.style.display =\n",
              "          google.colab.kernel.accessAllowed ? 'block' : 'none';\n",
              "\n",
              "        async function convertToInteractive(key) {\n",
              "          const element = document.querySelector('#df-6c700877-6fbc-4231-a724-cfc16f4ce12d');\n",
              "          const dataTable =\n",
              "            await google.colab.kernel.invokeFunction('convertToInteractive',\n",
              "                                                     [key], {});\n",
              "          if (!dataTable) return;\n",
              "\n",
              "          const docLinkHtml = 'Like what you see? Visit the ' +\n",
              "            '<a target=\"_blank\" href=https://colab.research.google.com/notebooks/data_table.ipynb>data table notebook</a>'\n",
              "            + ' to learn more about interactive tables.';\n",
              "          element.innerHTML = '';\n",
              "          dataTable['output_type'] = 'display_data';\n",
              "          await google.colab.output.renderOutput(dataTable, element);\n",
              "          const docLink = document.createElement('div');\n",
              "          docLink.innerHTML = docLinkHtml;\n",
              "          element.appendChild(docLink);\n",
              "        }\n",
              "      </script>\n",
              "    </div>\n",
              "  </div>\n",
              "  "
            ]
          },
          "metadata": {},
          "execution_count": 49
        }
      ]
    },
    {
      "cell_type": "code",
      "source": [
        "def get_autocorrect(word):\n",
        "  input_word = word.lower()\n",
        "  if input_word in vocab:\n",
        "    print(\"Your word seems to be correct\")\n",
        "  else:\n",
        "    similarities = [1 - (textdistance.JaroWinkler(qval=1).distance(v, input_word)) for v in word_freq_dict.keys()]\n",
        "    df = pd.DataFrame.from_dict(probs, orient=\"index\").reset_index()\n",
        "    df = df.rename(columns={\"index\": \"word\", 0: \"Prob\"})\n",
        "    df[\"Similarity\"] = similarities\n",
        "    output = df.sort_values([\"Similarity\", \"Prob\"], ascending=False).head()\n",
        "    print(max(df[\"Similarity\"]))\n",
        "    return output"
      ],
      "metadata": {
        "id": "TCgs14L5d2fl"
      },
      "execution_count": 65,
      "outputs": []
    },
    {
      "cell_type": "code",
      "source": [
        "get_autocorrect(\"neverteless\")"
      ],
      "metadata": {
        "id": "OynLL1bEd6cX",
        "outputId": "6176fee1-d1b3-45ce-c605-762a1b19cdb4",
        "colab": {
          "base_uri": "https://localhost:8080/",
          "height": 223
        }
      },
      "execution_count": 66,
      "outputs": [
        {
          "output_type": "stream",
          "name": "stdout",
          "text": [
            "0.9833333333333333\n"
          ]
        },
        {
          "output_type": "execute_result",
          "data": {
            "text/plain": [
              "              word      Prob  Similarity\n",
              "2571  nevertheless  0.000225    0.983333\n",
              "1105         never  0.000925    0.890909\n",
              "6043           net  0.000022    0.806061\n",
              "9214         nerve  0.000004    0.801212\n",
              "8078    sereneness  0.000004    0.800758"
            ],
            "text/html": [
              "\n",
              "  <div id=\"df-799300b2-1690-44de-a5e6-e89dc754b1f0\">\n",
              "    <div class=\"colab-df-container\">\n",
              "      <div>\n",
              "<style scoped>\n",
              "    .dataframe tbody tr th:only-of-type {\n",
              "        vertical-align: middle;\n",
              "    }\n",
              "\n",
              "    .dataframe tbody tr th {\n",
              "        vertical-align: top;\n",
              "    }\n",
              "\n",
              "    .dataframe thead th {\n",
              "        text-align: right;\n",
              "    }\n",
              "</style>\n",
              "<table border=\"1\" class=\"dataframe\">\n",
              "  <thead>\n",
              "    <tr style=\"text-align: right;\">\n",
              "      <th></th>\n",
              "      <th>word</th>\n",
              "      <th>Prob</th>\n",
              "      <th>Similarity</th>\n",
              "    </tr>\n",
              "  </thead>\n",
              "  <tbody>\n",
              "    <tr>\n",
              "      <th>2571</th>\n",
              "      <td>nevertheless</td>\n",
              "      <td>0.000225</td>\n",
              "      <td>0.983333</td>\n",
              "    </tr>\n",
              "    <tr>\n",
              "      <th>1105</th>\n",
              "      <td>never</td>\n",
              "      <td>0.000925</td>\n",
              "      <td>0.890909</td>\n",
              "    </tr>\n",
              "    <tr>\n",
              "      <th>6043</th>\n",
              "      <td>net</td>\n",
              "      <td>0.000022</td>\n",
              "      <td>0.806061</td>\n",
              "    </tr>\n",
              "    <tr>\n",
              "      <th>9214</th>\n",
              "      <td>nerve</td>\n",
              "      <td>0.000004</td>\n",
              "      <td>0.801212</td>\n",
              "    </tr>\n",
              "    <tr>\n",
              "      <th>8078</th>\n",
              "      <td>sereneness</td>\n",
              "      <td>0.000004</td>\n",
              "      <td>0.800758</td>\n",
              "    </tr>\n",
              "  </tbody>\n",
              "</table>\n",
              "</div>\n",
              "      <button class=\"colab-df-convert\" onclick=\"convertToInteractive('df-799300b2-1690-44de-a5e6-e89dc754b1f0')\"\n",
              "              title=\"Convert this dataframe to an interactive table.\"\n",
              "              style=\"display:none;\">\n",
              "        \n",
              "  <svg xmlns=\"http://www.w3.org/2000/svg\" height=\"24px\"viewBox=\"0 0 24 24\"\n",
              "       width=\"24px\">\n",
              "    <path d=\"M0 0h24v24H0V0z\" fill=\"none\"/>\n",
              "    <path d=\"M18.56 5.44l.94 2.06.94-2.06 2.06-.94-2.06-.94-.94-2.06-.94 2.06-2.06.94zm-11 1L8.5 8.5l.94-2.06 2.06-.94-2.06-.94L8.5 2.5l-.94 2.06-2.06.94zm10 10l.94 2.06.94-2.06 2.06-.94-2.06-.94-.94-2.06-.94 2.06-2.06.94z\"/><path d=\"M17.41 7.96l-1.37-1.37c-.4-.4-.92-.59-1.43-.59-.52 0-1.04.2-1.43.59L10.3 9.45l-7.72 7.72c-.78.78-.78 2.05 0 2.83L4 21.41c.39.39.9.59 1.41.59.51 0 1.02-.2 1.41-.59l7.78-7.78 2.81-2.81c.8-.78.8-2.07 0-2.86zM5.41 20L4 18.59l7.72-7.72 1.47 1.35L5.41 20z\"/>\n",
              "  </svg>\n",
              "      </button>\n",
              "      \n",
              "  <style>\n",
              "    .colab-df-container {\n",
              "      display:flex;\n",
              "      flex-wrap:wrap;\n",
              "      gap: 12px;\n",
              "    }\n",
              "\n",
              "    .colab-df-convert {\n",
              "      background-color: #E8F0FE;\n",
              "      border: none;\n",
              "      border-radius: 50%;\n",
              "      cursor: pointer;\n",
              "      display: none;\n",
              "      fill: #1967D2;\n",
              "      height: 32px;\n",
              "      padding: 0 0 0 0;\n",
              "      width: 32px;\n",
              "    }\n",
              "\n",
              "    .colab-df-convert:hover {\n",
              "      background-color: #E2EBFA;\n",
              "      box-shadow: 0px 1px 2px rgba(60, 64, 67, 0.3), 0px 1px 3px 1px rgba(60, 64, 67, 0.15);\n",
              "      fill: #174EA6;\n",
              "    }\n",
              "\n",
              "    [theme=dark] .colab-df-convert {\n",
              "      background-color: #3B4455;\n",
              "      fill: #D2E3FC;\n",
              "    }\n",
              "\n",
              "    [theme=dark] .colab-df-convert:hover {\n",
              "      background-color: #434B5C;\n",
              "      box-shadow: 0px 1px 3px 1px rgba(0, 0, 0, 0.15);\n",
              "      filter: drop-shadow(0px 1px 2px rgba(0, 0, 0, 0.3));\n",
              "      fill: #FFFFFF;\n",
              "    }\n",
              "  </style>\n",
              "\n",
              "      <script>\n",
              "        const buttonEl =\n",
              "          document.querySelector('#df-799300b2-1690-44de-a5e6-e89dc754b1f0 button.colab-df-convert');\n",
              "        buttonEl.style.display =\n",
              "          google.colab.kernel.accessAllowed ? 'block' : 'none';\n",
              "\n",
              "        async function convertToInteractive(key) {\n",
              "          const element = document.querySelector('#df-799300b2-1690-44de-a5e6-e89dc754b1f0');\n",
              "          const dataTable =\n",
              "            await google.colab.kernel.invokeFunction('convertToInteractive',\n",
              "                                                     [key], {});\n",
              "          if (!dataTable) return;\n",
              "\n",
              "          const docLinkHtml = 'Like what you see? Visit the ' +\n",
              "            '<a target=\"_blank\" href=https://colab.research.google.com/notebooks/data_table.ipynb>data table notebook</a>'\n",
              "            + ' to learn more about interactive tables.';\n",
              "          element.innerHTML = '';\n",
              "          dataTable['output_type'] = 'display_data';\n",
              "          await google.colab.output.renderOutput(dataTable, element);\n",
              "          const docLink = document.createElement('div');\n",
              "          docLink.innerHTML = docLinkHtml;\n",
              "          element.appendChild(docLink);\n",
              "        }\n",
              "      </script>\n",
              "    </div>\n",
              "  </div>\n",
              "  "
            ]
          },
          "metadata": {},
          "execution_count": 66
        }
      ]
    },
    {
      "cell_type": "code",
      "source": [
        "def get_autocorrect(word):\n",
        "  input_word = word.lower()\n",
        "  if input_word in vocab:\n",
        "    print(\"Your word seems to be correct\")\n",
        "  else:\n",
        "    similarities = [1 - (textdistance.NeedlemanWunsch(qval=1).distance(v, input_word)) for v in word_freq_dict.keys()]\n",
        "    df = pd.DataFrame.from_dict(probs, orient=\"index\").reset_index()\n",
        "    df = df.rename(columns={\"index\": \"word\", 0: \"Prob\"})\n",
        "    df[\"Similarity\"] = similarities\n",
        "    output = df.sort_values([\"Similarity\", \"Prob\"], ascending=False).head()\n",
        "    print(max(df[\"Similarity\"]))\n",
        "    return output"
      ],
      "metadata": {
        "id": "ft7mBs2SeIr8"
      },
      "execution_count": 63,
      "outputs": []
    },
    {
      "cell_type": "code",
      "source": [
        "get_autocorrect(\"neverteless\")"
      ],
      "metadata": {
        "id": "UjTFE1M9eJF8",
        "outputId": "b216fc4d-1764-4c25-84e6-61938f00cc4d",
        "colab": {
          "base_uri": "https://localhost:8080/",
          "height": 223
        }
      },
      "execution_count": 68,
      "outputs": [
        {
          "output_type": "stream",
          "name": "stdout",
          "text": [
            "0.9833333333333333\n"
          ]
        },
        {
          "output_type": "execute_result",
          "data": {
            "text/plain": [
              "              word      Prob  Similarity\n",
              "2571  nevertheless  0.000225    0.983333\n",
              "1105         never  0.000925    0.890909\n",
              "6043           net  0.000022    0.806061\n",
              "9214         nerve  0.000004    0.801212\n",
              "8078    sereneness  0.000004    0.800758"
            ],
            "text/html": [
              "\n",
              "  <div id=\"df-c3cd33a5-e1f8-4af3-90a3-6930a081f76b\">\n",
              "    <div class=\"colab-df-container\">\n",
              "      <div>\n",
              "<style scoped>\n",
              "    .dataframe tbody tr th:only-of-type {\n",
              "        vertical-align: middle;\n",
              "    }\n",
              "\n",
              "    .dataframe tbody tr th {\n",
              "        vertical-align: top;\n",
              "    }\n",
              "\n",
              "    .dataframe thead th {\n",
              "        text-align: right;\n",
              "    }\n",
              "</style>\n",
              "<table border=\"1\" class=\"dataframe\">\n",
              "  <thead>\n",
              "    <tr style=\"text-align: right;\">\n",
              "      <th></th>\n",
              "      <th>word</th>\n",
              "      <th>Prob</th>\n",
              "      <th>Similarity</th>\n",
              "    </tr>\n",
              "  </thead>\n",
              "  <tbody>\n",
              "    <tr>\n",
              "      <th>2571</th>\n",
              "      <td>nevertheless</td>\n",
              "      <td>0.000225</td>\n",
              "      <td>0.983333</td>\n",
              "    </tr>\n",
              "    <tr>\n",
              "      <th>1105</th>\n",
              "      <td>never</td>\n",
              "      <td>0.000925</td>\n",
              "      <td>0.890909</td>\n",
              "    </tr>\n",
              "    <tr>\n",
              "      <th>6043</th>\n",
              "      <td>net</td>\n",
              "      <td>0.000022</td>\n",
              "      <td>0.806061</td>\n",
              "    </tr>\n",
              "    <tr>\n",
              "      <th>9214</th>\n",
              "      <td>nerve</td>\n",
              "      <td>0.000004</td>\n",
              "      <td>0.801212</td>\n",
              "    </tr>\n",
              "    <tr>\n",
              "      <th>8078</th>\n",
              "      <td>sereneness</td>\n",
              "      <td>0.000004</td>\n",
              "      <td>0.800758</td>\n",
              "    </tr>\n",
              "  </tbody>\n",
              "</table>\n",
              "</div>\n",
              "      <button class=\"colab-df-convert\" onclick=\"convertToInteractive('df-c3cd33a5-e1f8-4af3-90a3-6930a081f76b')\"\n",
              "              title=\"Convert this dataframe to an interactive table.\"\n",
              "              style=\"display:none;\">\n",
              "        \n",
              "  <svg xmlns=\"http://www.w3.org/2000/svg\" height=\"24px\"viewBox=\"0 0 24 24\"\n",
              "       width=\"24px\">\n",
              "    <path d=\"M0 0h24v24H0V0z\" fill=\"none\"/>\n",
              "    <path d=\"M18.56 5.44l.94 2.06.94-2.06 2.06-.94-2.06-.94-.94-2.06-.94 2.06-2.06.94zm-11 1L8.5 8.5l.94-2.06 2.06-.94-2.06-.94L8.5 2.5l-.94 2.06-2.06.94zm10 10l.94 2.06.94-2.06 2.06-.94-2.06-.94-.94-2.06-.94 2.06-2.06.94z\"/><path d=\"M17.41 7.96l-1.37-1.37c-.4-.4-.92-.59-1.43-.59-.52 0-1.04.2-1.43.59L10.3 9.45l-7.72 7.72c-.78.78-.78 2.05 0 2.83L4 21.41c.39.39.9.59 1.41.59.51 0 1.02-.2 1.41-.59l7.78-7.78 2.81-2.81c.8-.78.8-2.07 0-2.86zM5.41 20L4 18.59l7.72-7.72 1.47 1.35L5.41 20z\"/>\n",
              "  </svg>\n",
              "      </button>\n",
              "      \n",
              "  <style>\n",
              "    .colab-df-container {\n",
              "      display:flex;\n",
              "      flex-wrap:wrap;\n",
              "      gap: 12px;\n",
              "    }\n",
              "\n",
              "    .colab-df-convert {\n",
              "      background-color: #E8F0FE;\n",
              "      border: none;\n",
              "      border-radius: 50%;\n",
              "      cursor: pointer;\n",
              "      display: none;\n",
              "      fill: #1967D2;\n",
              "      height: 32px;\n",
              "      padding: 0 0 0 0;\n",
              "      width: 32px;\n",
              "    }\n",
              "\n",
              "    .colab-df-convert:hover {\n",
              "      background-color: #E2EBFA;\n",
              "      box-shadow: 0px 1px 2px rgba(60, 64, 67, 0.3), 0px 1px 3px 1px rgba(60, 64, 67, 0.15);\n",
              "      fill: #174EA6;\n",
              "    }\n",
              "\n",
              "    [theme=dark] .colab-df-convert {\n",
              "      background-color: #3B4455;\n",
              "      fill: #D2E3FC;\n",
              "    }\n",
              "\n",
              "    [theme=dark] .colab-df-convert:hover {\n",
              "      background-color: #434B5C;\n",
              "      box-shadow: 0px 1px 3px 1px rgba(0, 0, 0, 0.15);\n",
              "      filter: drop-shadow(0px 1px 2px rgba(0, 0, 0, 0.3));\n",
              "      fill: #FFFFFF;\n",
              "    }\n",
              "  </style>\n",
              "\n",
              "      <script>\n",
              "        const buttonEl =\n",
              "          document.querySelector('#df-c3cd33a5-e1f8-4af3-90a3-6930a081f76b button.colab-df-convert');\n",
              "        buttonEl.style.display =\n",
              "          google.colab.kernel.accessAllowed ? 'block' : 'none';\n",
              "\n",
              "        async function convertToInteractive(key) {\n",
              "          const element = document.querySelector('#df-c3cd33a5-e1f8-4af3-90a3-6930a081f76b');\n",
              "          const dataTable =\n",
              "            await google.colab.kernel.invokeFunction('convertToInteractive',\n",
              "                                                     [key], {});\n",
              "          if (!dataTable) return;\n",
              "\n",
              "          const docLinkHtml = 'Like what you see? Visit the ' +\n",
              "            '<a target=\"_blank\" href=https://colab.research.google.com/notebooks/data_table.ipynb>data table notebook</a>'\n",
              "            + ' to learn more about interactive tables.';\n",
              "          element.innerHTML = '';\n",
              "          dataTable['output_type'] = 'display_data';\n",
              "          await google.colab.output.renderOutput(dataTable, element);\n",
              "          const docLink = document.createElement('div');\n",
              "          docLink.innerHTML = docLinkHtml;\n",
              "          element.appendChild(docLink);\n",
              "        }\n",
              "      </script>\n",
              "    </div>\n",
              "  </div>\n",
              "  "
            ]
          },
          "metadata": {},
          "execution_count": 68
        }
      ]
    },
    {
      "cell_type": "code",
      "source": [
        "(1 - (textdistance.Levenshtein(qval=1).distance(\"nevertheless\", \"neverteless\")))"
      ],
      "metadata": {
        "id": "VoF5eXdHMqqk",
        "outputId": "14996b7b-6705-43e4-be19-71ceb62fdf51",
        "colab": {
          "base_uri": "https://localhost:8080/"
        }
      },
      "execution_count": 41,
      "outputs": [
        {
          "output_type": "execute_result",
          "data": {
            "text/plain": [
              "0"
            ]
          },
          "metadata": {},
          "execution_count": 41
        }
      ]
    },
    {
      "cell_type": "code",
      "source": [
        "1- textdistance.JaroWinkler(qval=1).distance(\"nevertheless\", \"neverteless\")"
      ],
      "metadata": {
        "id": "kfD7L1C2MwPX",
        "outputId": "651972c6-b483-41ed-dd2b-6af62cd65c0f",
        "colab": {
          "base_uri": "https://localhost:8080/"
        }
      },
      "execution_count": 45,
      "outputs": [
        {
          "output_type": "execute_result",
          "data": {
            "text/plain": [
              "0.9833333333333333"
            ]
          },
          "metadata": {},
          "execution_count": 45
        }
      ]
    }
  ]
}