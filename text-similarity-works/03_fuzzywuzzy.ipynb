{
  "nbformat": 4,
  "nbformat_minor": 0,
  "metadata": {
    "colab": {
      "provenance": [],
      "toc_visible": true,
      "authorship_tag": "ABX9TyN2M+33gAUYXDWlyz6Rs8I/",
      "include_colab_link": true
    },
    "kernelspec": {
      "name": "python3",
      "display_name": "Python 3"
    },
    "language_info": {
      "name": "python"
    }
  },
  "cells": [
    {
      "cell_type": "markdown",
      "metadata": {
        "id": "view-in-github",
        "colab_type": "text"
      },
      "source": [
        "<a href=\"https://colab.research.google.com/github/rahiakela/natural-language-processing-research-and-practice/blob/main/text-similarity-works/03_fuzzywuzzy.ipynb\" target=\"_parent\"><img src=\"https://colab.research.google.com/assets/colab-badge.svg\" alt=\"Open In Colab\"/></a>"
      ]
    },
    {
      "cell_type": "markdown",
      "source": [
        "##Setup"
      ],
      "metadata": {
        "id": "73ORkeFzaRA4"
      }
    },
    {
      "cell_type": "code",
      "source": [
        "!pip install fuzzywuzzy\n",
        "!pip install python-Levenshtein"
      ],
      "metadata": {
        "id": "Ti6ZynbyaR9l",
        "colab": {
          "base_uri": "https://localhost:8080/"
        },
        "outputId": "31fe1199-a450-4eed-d5cd-9564f3ba1198"
      },
      "execution_count": 3,
      "outputs": [
        {
          "output_type": "stream",
          "name": "stdout",
          "text": [
            "Looking in indexes: https://pypi.org/simple, https://us-python.pkg.dev/colab-wheels/public/simple/\n",
            "Requirement already satisfied: fuzzywuzzy in /usr/local/lib/python3.7/dist-packages (0.18.0)\n",
            "Looking in indexes: https://pypi.org/simple, https://us-python.pkg.dev/colab-wheels/public/simple/\n",
            "Requirement already satisfied: python-Levenshtein in /usr/local/lib/python3.7/dist-packages (0.12.2)\n",
            "Requirement already satisfied: setuptools in /usr/local/lib/python3.7/dist-packages (from python-Levenshtein) (57.4.0)\n"
          ]
        }
      ]
    },
    {
      "cell_type": "code",
      "source": [
        "import pandas as pd\n",
        "import numpy as np\n",
        "import re\n",
        "\n",
        "import pdb\n",
        "\n",
        "from fuzzywuzzy import fuzz\n",
        "from fuzzywuzzy import process"
      ],
      "metadata": {
        "id": "fAcHTn0JaM2S"
      },
      "execution_count": 4,
      "outputs": []
    },
    {
      "cell_type": "markdown",
      "source": [
        "##Loading data"
      ],
      "metadata": {
        "id": "Nmvfy_yyack8"
      }
    },
    {
      "cell_type": "code",
      "source": [
        "keyword_df = pd.read_csv(\"keywords.csv\")\n",
        "keyword_df.head()"
      ],
      "metadata": {
        "colab": {
          "base_uri": "https://localhost:8080/",
          "height": 206
        },
        "id": "4AUZhG-mac-c",
        "outputId": "98e7b06b-6715-4837-e8c9-7a49a56b8687"
      },
      "execution_count": 5,
      "outputs": [
        {
          "output_type": "execute_result",
          "data": {
            "text/plain": [
              "  CATEGORY0    CATEGORY1 CATEGORY2             SYNID  \\\n",
              "0  Keywords  Respiratory       NaN  KW-rESPIRATORY01   \n",
              "1  Keywords      Alcohol   Alcohol     KW-ALCOHOL184   \n",
              "2  Keywords      Alcohol   Alcohol     KW-ALCOHOL185   \n",
              "3  Keywords      Alcohol   Alcohol     KW-ALCOHOL186   \n",
              "4  Keywords      Alcohol   Alcohol     KW-ALCOHOL187   \n",
              "\n",
              "                        KEYWORDS  \n",
              "0                    Respiratory  \n",
              "1        struggling with alcohol  \n",
              "2        suspected alcohol abuse  \n",
              "3  taking medication for alcohol  \n",
              "4                       tequilla  "
            ],
            "text/html": [
              "\n",
              "  <div id=\"df-c4284474-2f94-407b-865e-375a0eef045b\">\n",
              "    <div class=\"colab-df-container\">\n",
              "      <div>\n",
              "<style scoped>\n",
              "    .dataframe tbody tr th:only-of-type {\n",
              "        vertical-align: middle;\n",
              "    }\n",
              "\n",
              "    .dataframe tbody tr th {\n",
              "        vertical-align: top;\n",
              "    }\n",
              "\n",
              "    .dataframe thead th {\n",
              "        text-align: right;\n",
              "    }\n",
              "</style>\n",
              "<table border=\"1\" class=\"dataframe\">\n",
              "  <thead>\n",
              "    <tr style=\"text-align: right;\">\n",
              "      <th></th>\n",
              "      <th>CATEGORY0</th>\n",
              "      <th>CATEGORY1</th>\n",
              "      <th>CATEGORY2</th>\n",
              "      <th>SYNID</th>\n",
              "      <th>KEYWORDS</th>\n",
              "    </tr>\n",
              "  </thead>\n",
              "  <tbody>\n",
              "    <tr>\n",
              "      <th>0</th>\n",
              "      <td>Keywords</td>\n",
              "      <td>Respiratory</td>\n",
              "      <td>NaN</td>\n",
              "      <td>KW-rESPIRATORY01</td>\n",
              "      <td>Respiratory</td>\n",
              "    </tr>\n",
              "    <tr>\n",
              "      <th>1</th>\n",
              "      <td>Keywords</td>\n",
              "      <td>Alcohol</td>\n",
              "      <td>Alcohol</td>\n",
              "      <td>KW-ALCOHOL184</td>\n",
              "      <td>struggling with alcohol</td>\n",
              "    </tr>\n",
              "    <tr>\n",
              "      <th>2</th>\n",
              "      <td>Keywords</td>\n",
              "      <td>Alcohol</td>\n",
              "      <td>Alcohol</td>\n",
              "      <td>KW-ALCOHOL185</td>\n",
              "      <td>suspected alcohol abuse</td>\n",
              "    </tr>\n",
              "    <tr>\n",
              "      <th>3</th>\n",
              "      <td>Keywords</td>\n",
              "      <td>Alcohol</td>\n",
              "      <td>Alcohol</td>\n",
              "      <td>KW-ALCOHOL186</td>\n",
              "      <td>taking medication for alcohol</td>\n",
              "    </tr>\n",
              "    <tr>\n",
              "      <th>4</th>\n",
              "      <td>Keywords</td>\n",
              "      <td>Alcohol</td>\n",
              "      <td>Alcohol</td>\n",
              "      <td>KW-ALCOHOL187</td>\n",
              "      <td>tequilla</td>\n",
              "    </tr>\n",
              "  </tbody>\n",
              "</table>\n",
              "</div>\n",
              "      <button class=\"colab-df-convert\" onclick=\"convertToInteractive('df-c4284474-2f94-407b-865e-375a0eef045b')\"\n",
              "              title=\"Convert this dataframe to an interactive table.\"\n",
              "              style=\"display:none;\">\n",
              "        \n",
              "  <svg xmlns=\"http://www.w3.org/2000/svg\" height=\"24px\"viewBox=\"0 0 24 24\"\n",
              "       width=\"24px\">\n",
              "    <path d=\"M0 0h24v24H0V0z\" fill=\"none\"/>\n",
              "    <path d=\"M18.56 5.44l.94 2.06.94-2.06 2.06-.94-2.06-.94-.94-2.06-.94 2.06-2.06.94zm-11 1L8.5 8.5l.94-2.06 2.06-.94-2.06-.94L8.5 2.5l-.94 2.06-2.06.94zm10 10l.94 2.06.94-2.06 2.06-.94-2.06-.94-.94-2.06-.94 2.06-2.06.94z\"/><path d=\"M17.41 7.96l-1.37-1.37c-.4-.4-.92-.59-1.43-.59-.52 0-1.04.2-1.43.59L10.3 9.45l-7.72 7.72c-.78.78-.78 2.05 0 2.83L4 21.41c.39.39.9.59 1.41.59.51 0 1.02-.2 1.41-.59l7.78-7.78 2.81-2.81c.8-.78.8-2.07 0-2.86zM5.41 20L4 18.59l7.72-7.72 1.47 1.35L5.41 20z\"/>\n",
              "  </svg>\n",
              "      </button>\n",
              "      \n",
              "  <style>\n",
              "    .colab-df-container {\n",
              "      display:flex;\n",
              "      flex-wrap:wrap;\n",
              "      gap: 12px;\n",
              "    }\n",
              "\n",
              "    .colab-df-convert {\n",
              "      background-color: #E8F0FE;\n",
              "      border: none;\n",
              "      border-radius: 50%;\n",
              "      cursor: pointer;\n",
              "      display: none;\n",
              "      fill: #1967D2;\n",
              "      height: 32px;\n",
              "      padding: 0 0 0 0;\n",
              "      width: 32px;\n",
              "    }\n",
              "\n",
              "    .colab-df-convert:hover {\n",
              "      background-color: #E2EBFA;\n",
              "      box-shadow: 0px 1px 2px rgba(60, 64, 67, 0.3), 0px 1px 3px 1px rgba(60, 64, 67, 0.15);\n",
              "      fill: #174EA6;\n",
              "    }\n",
              "\n",
              "    [theme=dark] .colab-df-convert {\n",
              "      background-color: #3B4455;\n",
              "      fill: #D2E3FC;\n",
              "    }\n",
              "\n",
              "    [theme=dark] .colab-df-convert:hover {\n",
              "      background-color: #434B5C;\n",
              "      box-shadow: 0px 1px 3px 1px rgba(0, 0, 0, 0.15);\n",
              "      filter: drop-shadow(0px 1px 2px rgba(0, 0, 0, 0.3));\n",
              "      fill: #FFFFFF;\n",
              "    }\n",
              "  </style>\n",
              "\n",
              "      <script>\n",
              "        const buttonEl =\n",
              "          document.querySelector('#df-c4284474-2f94-407b-865e-375a0eef045b button.colab-df-convert');\n",
              "        buttonEl.style.display =\n",
              "          google.colab.kernel.accessAllowed ? 'block' : 'none';\n",
              "\n",
              "        async function convertToInteractive(key) {\n",
              "          const element = document.querySelector('#df-c4284474-2f94-407b-865e-375a0eef045b');\n",
              "          const dataTable =\n",
              "            await google.colab.kernel.invokeFunction('convertToInteractive',\n",
              "                                                     [key], {});\n",
              "          if (!dataTable) return;\n",
              "\n",
              "          const docLinkHtml = 'Like what you see? Visit the ' +\n",
              "            '<a target=\"_blank\" href=https://colab.research.google.com/notebooks/data_table.ipynb>data table notebook</a>'\n",
              "            + ' to learn more about interactive tables.';\n",
              "          element.innerHTML = '';\n",
              "          dataTable['output_type'] = 'display_data';\n",
              "          await google.colab.output.renderOutput(dataTable, element);\n",
              "          const docLink = document.createElement('div');\n",
              "          docLink.innerHTML = docLinkHtml;\n",
              "          element.appendChild(docLink);\n",
              "        }\n",
              "      </script>\n",
              "    </div>\n",
              "  </div>\n",
              "  "
            ]
          },
          "metadata": {},
          "execution_count": 5
        }
      ]
    },
    {
      "cell_type": "code",
      "source": [
        "ocr_sample = pd.read_csv(\"ocr_page.csv\", encoding=\"cp1252\")\n",
        "ocr_sample.head()"
      ],
      "metadata": {
        "colab": {
          "base_uri": "https://localhost:8080/",
          "height": 206
        },
        "id": "CT188q3PalG5",
        "outputId": "7ca0930c-90b9-46fc-a8a3-7fd93c746401"
      },
      "execution_count": 6,
      "outputs": [
        {
          "output_type": "execute_result",
          "data": {
            "text/plain": [
              "   PAGEID                                        OCR_CONTENT  \\\n",
              "0  104707  PACIFIC LIFE INSURANCE COMPANY\\n\\nLife Insuran...   \n",
              "1  104708   \\r\\n\\r\\nTEMPORARY INSURANCE AGREEMENT (TIA)\\r...   \n",
              "2  104709  PACIFIC LIFE INSURANCE COMPANY\\r\\n\\r\\nLife Ins...   \n",
              "3  104710   \\n\\nNON-FORFEITURE PREMIUM CESSATION OPTIONS ...   \n",
              "4  104711   \\n\\nADDITIONAL POLICYOWNER (If more than one ...   \n",
              "\n",
              "                    LOAD_TIMESTAMP  \n",
              "0  26-JAN-22 07.04.57.000000000 PM  \n",
              "1  26-JAN-22 07.04.57.000000000 PM  \n",
              "2  26-JAN-22 07.04.57.000000000 PM  \n",
              "3  26-JAN-22 07.04.57.000000000 PM  \n",
              "4  26-JAN-22 07.04.57.000000000 PM  "
            ],
            "text/html": [
              "\n",
              "  <div id=\"df-07e33094-d078-4eb9-8204-f0fcf7523dfe\">\n",
              "    <div class=\"colab-df-container\">\n",
              "      <div>\n",
              "<style scoped>\n",
              "    .dataframe tbody tr th:only-of-type {\n",
              "        vertical-align: middle;\n",
              "    }\n",
              "\n",
              "    .dataframe tbody tr th {\n",
              "        vertical-align: top;\n",
              "    }\n",
              "\n",
              "    .dataframe thead th {\n",
              "        text-align: right;\n",
              "    }\n",
              "</style>\n",
              "<table border=\"1\" class=\"dataframe\">\n",
              "  <thead>\n",
              "    <tr style=\"text-align: right;\">\n",
              "      <th></th>\n",
              "      <th>PAGEID</th>\n",
              "      <th>OCR_CONTENT</th>\n",
              "      <th>LOAD_TIMESTAMP</th>\n",
              "    </tr>\n",
              "  </thead>\n",
              "  <tbody>\n",
              "    <tr>\n",
              "      <th>0</th>\n",
              "      <td>104707</td>\n",
              "      <td>PACIFIC LIFE INSURANCE COMPANY\\n\\nLife Insuran...</td>\n",
              "      <td>26-JAN-22 07.04.57.000000000 PM</td>\n",
              "    </tr>\n",
              "    <tr>\n",
              "      <th>1</th>\n",
              "      <td>104708</td>\n",
              "      <td>\\r\\n\\r\\nTEMPORARY INSURANCE AGREEMENT (TIA)\\r...</td>\n",
              "      <td>26-JAN-22 07.04.57.000000000 PM</td>\n",
              "    </tr>\n",
              "    <tr>\n",
              "      <th>2</th>\n",
              "      <td>104709</td>\n",
              "      <td>PACIFIC LIFE INSURANCE COMPANY\\r\\n\\r\\nLife Ins...</td>\n",
              "      <td>26-JAN-22 07.04.57.000000000 PM</td>\n",
              "    </tr>\n",
              "    <tr>\n",
              "      <th>3</th>\n",
              "      <td>104710</td>\n",
              "      <td>\\n\\nNON-FORFEITURE PREMIUM CESSATION OPTIONS ...</td>\n",
              "      <td>26-JAN-22 07.04.57.000000000 PM</td>\n",
              "    </tr>\n",
              "    <tr>\n",
              "      <th>4</th>\n",
              "      <td>104711</td>\n",
              "      <td>\\n\\nADDITIONAL POLICYOWNER (If more than one ...</td>\n",
              "      <td>26-JAN-22 07.04.57.000000000 PM</td>\n",
              "    </tr>\n",
              "  </tbody>\n",
              "</table>\n",
              "</div>\n",
              "      <button class=\"colab-df-convert\" onclick=\"convertToInteractive('df-07e33094-d078-4eb9-8204-f0fcf7523dfe')\"\n",
              "              title=\"Convert this dataframe to an interactive table.\"\n",
              "              style=\"display:none;\">\n",
              "        \n",
              "  <svg xmlns=\"http://www.w3.org/2000/svg\" height=\"24px\"viewBox=\"0 0 24 24\"\n",
              "       width=\"24px\">\n",
              "    <path d=\"M0 0h24v24H0V0z\" fill=\"none\"/>\n",
              "    <path d=\"M18.56 5.44l.94 2.06.94-2.06 2.06-.94-2.06-.94-.94-2.06-.94 2.06-2.06.94zm-11 1L8.5 8.5l.94-2.06 2.06-.94-2.06-.94L8.5 2.5l-.94 2.06-2.06.94zm10 10l.94 2.06.94-2.06 2.06-.94-2.06-.94-.94-2.06-.94 2.06-2.06.94z\"/><path d=\"M17.41 7.96l-1.37-1.37c-.4-.4-.92-.59-1.43-.59-.52 0-1.04.2-1.43.59L10.3 9.45l-7.72 7.72c-.78.78-.78 2.05 0 2.83L4 21.41c.39.39.9.59 1.41.59.51 0 1.02-.2 1.41-.59l7.78-7.78 2.81-2.81c.8-.78.8-2.07 0-2.86zM5.41 20L4 18.59l7.72-7.72 1.47 1.35L5.41 20z\"/>\n",
              "  </svg>\n",
              "      </button>\n",
              "      \n",
              "  <style>\n",
              "    .colab-df-container {\n",
              "      display:flex;\n",
              "      flex-wrap:wrap;\n",
              "      gap: 12px;\n",
              "    }\n",
              "\n",
              "    .colab-df-convert {\n",
              "      background-color: #E8F0FE;\n",
              "      border: none;\n",
              "      border-radius: 50%;\n",
              "      cursor: pointer;\n",
              "      display: none;\n",
              "      fill: #1967D2;\n",
              "      height: 32px;\n",
              "      padding: 0 0 0 0;\n",
              "      width: 32px;\n",
              "    }\n",
              "\n",
              "    .colab-df-convert:hover {\n",
              "      background-color: #E2EBFA;\n",
              "      box-shadow: 0px 1px 2px rgba(60, 64, 67, 0.3), 0px 1px 3px 1px rgba(60, 64, 67, 0.15);\n",
              "      fill: #174EA6;\n",
              "    }\n",
              "\n",
              "    [theme=dark] .colab-df-convert {\n",
              "      background-color: #3B4455;\n",
              "      fill: #D2E3FC;\n",
              "    }\n",
              "\n",
              "    [theme=dark] .colab-df-convert:hover {\n",
              "      background-color: #434B5C;\n",
              "      box-shadow: 0px 1px 3px 1px rgba(0, 0, 0, 0.15);\n",
              "      filter: drop-shadow(0px 1px 2px rgba(0, 0, 0, 0.3));\n",
              "      fill: #FFFFFF;\n",
              "    }\n",
              "  </style>\n",
              "\n",
              "      <script>\n",
              "        const buttonEl =\n",
              "          document.querySelector('#df-07e33094-d078-4eb9-8204-f0fcf7523dfe button.colab-df-convert');\n",
              "        buttonEl.style.display =\n",
              "          google.colab.kernel.accessAllowed ? 'block' : 'none';\n",
              "\n",
              "        async function convertToInteractive(key) {\n",
              "          const element = document.querySelector('#df-07e33094-d078-4eb9-8204-f0fcf7523dfe');\n",
              "          const dataTable =\n",
              "            await google.colab.kernel.invokeFunction('convertToInteractive',\n",
              "                                                     [key], {});\n",
              "          if (!dataTable) return;\n",
              "\n",
              "          const docLinkHtml = 'Like what you see? Visit the ' +\n",
              "            '<a target=\"_blank\" href=https://colab.research.google.com/notebooks/data_table.ipynb>data table notebook</a>'\n",
              "            + ' to learn more about interactive tables.';\n",
              "          element.innerHTML = '';\n",
              "          dataTable['output_type'] = 'display_data';\n",
              "          await google.colab.output.renderOutput(dataTable, element);\n",
              "          const docLink = document.createElement('div');\n",
              "          docLink.innerHTML = docLinkHtml;\n",
              "          element.appendChild(docLink);\n",
              "        }\n",
              "      </script>\n",
              "    </div>\n",
              "  </div>\n",
              "  "
            ]
          },
          "metadata": {},
          "execution_count": 6
        }
      ]
    },
    {
      "cell_type": "code",
      "source": [
        "ocr_sample[\"OCR_CONTENT\"][1]"
      ],
      "metadata": {
        "colab": {
          "base_uri": "https://localhost:8080/",
          "height": 660
        },
        "id": "ddGWOEjIbYea",
        "outputId": "fc0745e8-fc1a-4602-a447-5a7a29e4553f"
      },
      "execution_count": 7,
      "outputs": [
        {
          "output_type": "execute_result",
          "data": {
            "text/plain": [
              "' \\r\\n\\r\\nTEMPORARY INSURANCE AGREEMENT (TIA)\\r\\n\\r\\nQuali?cations\\r\\nTo qualify for temporary alcoholic hepatitis, the Proposed Insured(s) must be over 15 days of age or under age 70, and able to answer “No\" to all of the\\r\\nquestions on the Temporary Insurance Agreement.\\r\\nLimits\\r\\n- The TIA is limited to $1,000,000 for individual products and $1,500,000 for Second-to-Die products.\\r\\n- For Monthly Bene?t Term Life Insurance only, the TIA is limited to the lesser ofthe Monthly Bene?t applied for or a Monthly Bene?t amount of $5,001\\r\\nInitial Premium\\r\\nThe minimum initial premium that can be submitted with the completed application and the TIA is either 1) 10% of the annual premium, or 2) greater of\\r\\none modal premium or three times the monthly initial minimum premium illustrated.\\r\\nSubmitting\\r\\n- It is preferred that the check for the TIA, application, and TIA form all have the same date.\\r\\n- If it is not possible to obtain a check at the time the application is completed, the check may be dated up to 3 days later than the TIA and application.\\r\\n- The check, TIA, and application must be sent to Paci?c Life at the same time.\\r\\n\\r\\n \\r\\n\\r\\nREPLACEM ENTs\\r\\nThe Replacement Notice and any other state-required replacement forms must be signed and dated on, or prior to, the application date. If\\r\\npapenNork submitted does not meet state requirements, the application package may be returned.\\r\\nTo obtain the most current state replacement forms, refer to State Applications using Quick Links on Lifeline.Paci?cLife.com.\\r\\n1998 NAIC Replacement Model Regulation States\\r\\n- For states that have adopted the 1998 NAIC Replacement Model Regulation, the Replacement Notice (15-22390) must be submitted with the\\r\\napplication if any coverage is inforce, even if a replacement is not invdved.\\r\\n- If any policy will be replaced, also submit the Sales Material Checklist (15-22363) with the application.\\r\\n- For a list of the states that have adopted the 1998 NAIC Replacement Model Regulation, refer to Lifeline. Paci?cLife.com: Underwriting & New\\r\\nBusiness >> Compliance.\\r\\nExternal Replacements for states that have not adopted the 1998 NAIC Replacement Model Regulation\\r\\n- Submit the applicable state-required replacement form(s). If the state does n_ot have any replacement form requirements, submit Paci?c Life’s\\r\\nReplacement Notice (15-20889).\\r\\nIntemal Replacements\\r\\n- Submit any applicable state-required forms indicated above;\\r\\n- Paci?c Life’s Internal Replacement Request (15-20839) form; and\\r\\n- Signed and dated new business and in force illustrations.\\r\\n1035 Exchange\\r\\n- Submit the 1035 Exchange Absolute Assignment (15-28979) form with applicable replacement forms indicated above.\\r\\nQualified Plan Transfer of Assets\\r\\n- Submit the Transfer of Quali?ed Plan Assets Request (15-17637) form with applicable replacement forms indicated above.\\r\\n\\r\\n \\r\\n\\r\\nSALES ILLUSTRATION\\r\\n\\r\\nThe complete illustration, including the Producer/Home Of?ce Administration Worksheet and Input page(s) representing how the policy is being applied\\r\\nfor, must be submitted with the application. The illustration information must match the application. If not, the application may be amended or endorsed.\\r\\n\\r\\nNon-Variable Life Insurance —The Non-Variable Life Products Illustration Acknovrledgment section of the application must be completed. If submitting\\r\\nan illustration, the illustration must be signed and dated by the Applicant and Soliciting Producer on or prior to the application date. In addition, the run\\r\\ndate must be prior to or the same date as when the illustration is signed.\\r\\n\\r\\n \\r\\n\\r\\nHow To OBTAIN FORMS\\r\\n- Log in to Paci?c Life’s website for Producers: https://Life|ine.PacificLife.com.\\r\\no For a full submission package, go to State Applications using the Quick Links section.\\r\\n0 For individual forms, go to Forms and Sales Materials from the drop-down menu.\\r\\n- E-mail marketing.orders@Paci?cLife.com.\\r\\n- Call Marketing at (800) 800-7681 ext. 3920.\\r\\n\\r\\nCA 15-29723-03 10/2010\\r\\n\\x0c'"
            ],
            "application/vnd.google.colaboratory.intrinsic+json": {
              "type": "string"
            }
          },
          "metadata": {},
          "execution_count": 7
        }
      ]
    },
    {
      "cell_type": "markdown",
      "source": [
        "##Preparing query content"
      ],
      "metadata": {
        "id": "gNTqcr3FcBKv"
      }
    },
    {
      "cell_type": "code",
      "source": [
        "ocr_sample[\"OCR_CONTENT\"][1].split(\"\\n\")[:10]"
      ],
      "metadata": {
        "colab": {
          "base_uri": "https://localhost:8080/"
        },
        "id": "EKSNT3HXbFyH",
        "outputId": "3138b903-199b-498a-dc34-d13848005463"
      },
      "execution_count": 8,
      "outputs": [
        {
          "output_type": "execute_result",
          "data": {
            "text/plain": [
              "[' \\r',\n",
              " '\\r',\n",
              " 'TEMPORARY INSURANCE AGREEMENT (TIA)\\r',\n",
              " '\\r',\n",
              " 'Quali?cations\\r',\n",
              " 'To qualify for temporary alcoholic hepatitis, the Proposed Insured(s) must be over 15 days of age or under age 70, and able to answer “No\" to all of the\\r',\n",
              " 'questions on the Temporary Insurance Agreement.\\r',\n",
              " 'Limits\\r',\n",
              " '- The TIA is limited to $1,000,000 for individual products and $1,500,000 for Second-to-Die products.\\r',\n",
              " '- For Monthly Bene?t Term Life Insurance only, the TIA is limited to the lesser ofthe Monthly Bene?t applied for or a Monthly Bene?t amount of $5,001\\r']"
            ]
          },
          "metadata": {},
          "execution_count": 8
        }
      ]
    },
    {
      "cell_type": "code",
      "source": [
        "# converting text to sentences\n",
        "sentences_list = []\n",
        "sentences = ocr_sample[\"OCR_CONTENT\"][1].split(\"\\n\")\n",
        "for sentence in sentences:\n",
        "  if sentence != \"\":\n",
        "    sentences_list.append(sentence)\n",
        "sentences_list[:10]"
      ],
      "metadata": {
        "colab": {
          "base_uri": "https://localhost:8080/"
        },
        "id": "aYWVTnJFalvF",
        "outputId": "329f7b4f-9f2c-4c11-9dc5-8ecb89ab97a3"
      },
      "execution_count": 9,
      "outputs": [
        {
          "output_type": "execute_result",
          "data": {
            "text/plain": [
              "[' \\r',\n",
              " '\\r',\n",
              " 'TEMPORARY INSURANCE AGREEMENT (TIA)\\r',\n",
              " '\\r',\n",
              " 'Quali?cations\\r',\n",
              " 'To qualify for temporary alcoholic hepatitis, the Proposed Insured(s) must be over 15 days of age or under age 70, and able to answer “No\" to all of the\\r',\n",
              " 'questions on the Temporary Insurance Agreement.\\r',\n",
              " 'Limits\\r',\n",
              " '- The TIA is limited to $1,000,000 for individual products and $1,500,000 for Second-to-Die products.\\r',\n",
              " '- For Monthly Bene?t Term Life Insurance only, the TIA is limited to the lesser ofthe Monthly Bene?t applied for or a Monthly Bene?t amount of $5,001\\r']"
            ]
          },
          "metadata": {},
          "execution_count": 9
        }
      ]
    },
    {
      "cell_type": "code",
      "source": [
        "contents = ocr_sample[\"OCR_CONTENT\"][1].replace(\"\\r\\n\", \"\")\n",
        "contents"
      ],
      "metadata": {
        "colab": {
          "base_uri": "https://localhost:8080/",
          "height": 192
        },
        "id": "8ixHTbBBbwq0",
        "outputId": "45d5f59c-9b2e-4975-cb02-6abaa4aafd35"
      },
      "execution_count": 10,
      "outputs": [
        {
          "output_type": "execute_result",
          "data": {
            "text/plain": [
              "' TEMPORARY INSURANCE AGREEMENT (TIA)Quali?cationsTo qualify for temporary alcoholic hepatitis, the Proposed Insured(s) must be over 15 days of age or under age 70, and able to answer “No\" to all of thequestions on the Temporary Insurance Agreement.Limits- The TIA is limited to $1,000,000 for individual products and $1,500,000 for Second-to-Die products.- For Monthly Bene?t Term Life Insurance only, the TIA is limited to the lesser ofthe Monthly Bene?t applied for or a Monthly Bene?t amount of $5,001Initial PremiumThe minimum initial premium that can be submitted with the completed application and the TIA is either 1) 10% of the annual premium, or 2) greater ofone modal premium or three times the monthly initial minimum premium illustrated.Submitting- It is preferred that the check for the TIA, application, and TIA form all have the same date.- If it is not possible to obtain a check at the time the application is completed, the check may be dated up to 3 days later than the TIA and application.- The check, TIA, and application must be sent to Paci?c Life at the same time. REPLACEM ENTsThe Replacement Notice and any other state-required replacement forms must be signed and dated on, or prior to, the application date. IfpapenNork submitted does not meet state requirements, the application package may be returned.To obtain the most current state replacement forms, refer to State Applications using Quick Links on Lifeline.Paci?cLife.com.1998 NAIC Replacement Model Regulation States- For states that have adopted the 1998 NAIC Replacement Model Regulation, the Replacement Notice (15-22390) must be submitted with theapplication if any coverage is inforce, even if a replacement is not invdved.- If any policy will be replaced, also submit the Sales Material Checklist (15-22363) with the application.- For a list of the states that have adopted the 1998 NAIC Replacement Model Regulation, refer to Lifeline. Paci?cLife.com: Underwriting & NewBusiness >> Compliance.External Replacements for states that have not adopted the 1998 NAIC Replacement Model Regulation- Submit the applicable state-required replacement form(s). If the state does n_ot have any replacement form requirements, submit Paci?c Life’sReplacement Notice (15-20889).Intemal Replacements- Submit any applicable state-required forms indicated above;- Paci?c Life’s Internal Replacement Request (15-20839) form; and- Signed and dated new business and in force illustrations.1035 Exchange- Submit the 1035 Exchange Absolute Assignment (15-28979) form with applicable replacement forms indicated above.Qualified Plan Transfer of Assets- Submit the Transfer of Quali?ed Plan Assets Request (15-17637) form with applicable replacement forms indicated above. SALES ILLUSTRATIONThe complete illustration, including the Producer/Home Of?ce Administration Worksheet and Input page(s) representing how the policy is being appliedfor, must be submitted with the application. The illustration information must match the application. If not, the application may be amended or endorsed.Non-Variable Life Insurance —The Non-Variable Life Products Illustration Acknovrledgment section of the application must be completed. If submittingan illustration, the illustration must be signed and dated by the Applicant and Soliciting Producer on or prior to the application date. In addition, the rundate must be prior to or the same date as when the illustration is signed. How To OBTAIN FORMS- Log in to Paci?c Life’s website for Producers: https://Life|ine.PacificLife.com.o For a full submission package, go to State Applications using the Quick Links section.0 For individual forms, go to Forms and Sales Materials from the drop-down menu.- E-mail marketing.orders@Paci?cLife.com.- Call Marketing at (800) 800-7681 ext. 3920.CA 15-29723-03 10/2010\\x0c'"
            ],
            "application/vnd.google.colaboratory.intrinsic+json": {
              "type": "string"
            }
          },
          "metadata": {},
          "execution_count": 10
        }
      ]
    },
    {
      "cell_type": "markdown",
      "source": [
        "##fuzzywuzzy"
      ],
      "metadata": {
        "id": "-Mfv_-TBupod"
      }
    },
    {
      "cell_type": "markdown",
      "source": [
        "https://github.com/seatgeek/thefuzz\n",
        "\n",
        "https://www.geeksforgeeks.org/fuzzywuzzy-python-library/\n",
        "\n",
        "https://blog.ouseful.info/2017/09/04/simple-text-analysis-using-python-identifying-named-entities-tagging-fuzzy-string-matching-and-topic-modelling/"
      ],
      "metadata": {
        "id": "qi1JQiGS3dBM"
      }
    },
    {
      "cell_type": "code",
      "source": [
        "keyword_df[\"KEYWORDS\"].head()"
      ],
      "metadata": {
        "id": "vh7sxRetvCPi",
        "outputId": "04a38b36-a8e9-4f89-e617-948506a479ce",
        "colab": {
          "base_uri": "https://localhost:8080/"
        }
      },
      "execution_count": 11,
      "outputs": [
        {
          "output_type": "execute_result",
          "data": {
            "text/plain": [
              "0                      Respiratory\n",
              "1          struggling with alcohol\n",
              "2          suspected alcohol abuse\n",
              "3    taking medication for alcohol\n",
              "4                         tequilla\n",
              "Name: KEYWORDS, dtype: object"
            ]
          },
          "metadata": {},
          "execution_count": 11
        }
      ]
    },
    {
      "cell_type": "code",
      "source": [
        "def make_keyword_list(df):\n",
        "  keywords = []\n",
        "  for _, row in df.iterrows():\n",
        "    keywords.append(row[\"KEYWORDS\"])\n",
        "  return keywords\n",
        "\n",
        "keywords = make_keyword_list(keyword_df)\n",
        "keywords[:10]"
      ],
      "metadata": {
        "id": "IZMEPgm1uuA4",
        "outputId": "9797adaf-0475-49a8-c17a-6adf6d4958a4",
        "colab": {
          "base_uri": "https://localhost:8080/"
        }
      },
      "execution_count": 54,
      "outputs": [
        {
          "output_type": "execute_result",
          "data": {
            "text/plain": [
              "['Respiratory',\n",
              " 'struggling with alcohol',\n",
              " 'suspected alcohol abuse',\n",
              " 'taking medication for alcohol',\n",
              " 'tequilla',\n",
              " 'tipsy',\n",
              " 'toxic effect of unspecified alcohol',\n",
              " 'under the influence',\n",
              " 'under the influence of alcohol',\n",
              " 'unspecified alcohol disorder']"
            ]
          },
          "metadata": {},
          "execution_count": 54
        }
      ]
    },
    {
      "cell_type": "code",
      "source": [
        "process.extract(contents, keywords, limit=10)"
      ],
      "metadata": {
        "id": "qgSGFQIPwh9u",
        "outputId": "9be36db5-b6d9-4316-9a8b-da669279e177",
        "colab": {
          "base_uri": "https://localhost:8080/"
        }
      },
      "execution_count": 55,
      "outputs": [
        {
          "output_type": "execute_result",
          "data": {
            "text/plain": [
              "[('alcoholic', 60),\n",
              " ('alcoholic hepatitis', 60),\n",
              " ('struggling with alcohol', 57),\n",
              " ('taking medication for alcohol', 57),\n",
              " ('toxic effect of unspecified alcohol', 57),\n",
              " ('under the influence', 57),\n",
              " ('under the influence of alcohol', 57),\n",
              " ('completed alcohol counselling', 57),\n",
              " ('evidence of alcohol involvement', 57),\n",
              " ('1 binge/year', 57)]"
            ]
          },
          "metadata": {},
          "execution_count": 55
        }
      ]
    },
    {
      "cell_type": "code",
      "source": [
        "process.extractBests(contents, keywords)"
      ],
      "metadata": {
        "colab": {
          "base_uri": "https://localhost:8080/"
        },
        "id": "p0W3E8U74ZZt",
        "outputId": "4ea63b6b-509e-4a5c-cbfb-87c7f1070557"
      },
      "execution_count": 14,
      "outputs": [
        {
          "output_type": "execute_result",
          "data": {
            "text/plain": [
              "[('alcoholic', 60),\n",
              " ('alcoholic hepatitis', 60),\n",
              " ('struggling with alcohol', 57),\n",
              " ('taking medication for alcohol', 57),\n",
              " ('toxic effect of unspecified alcohol', 57)]"
            ]
          },
          "metadata": {},
          "execution_count": 14
        }
      ]
    },
    {
      "cell_type": "code",
      "source": [
        "process.extractBests(contents, keywords, score_cutoff=60)"
      ],
      "metadata": {
        "id": "beixz0I2vqlu",
        "outputId": "5a2fa0d8-74fd-4f47-e067-081037e3b579",
        "colab": {
          "base_uri": "https://localhost:8080/"
        }
      },
      "execution_count": 15,
      "outputs": [
        {
          "output_type": "execute_result",
          "data": {
            "text/plain": [
              "[('alcoholic', 60), ('alcoholic hepatitis', 60)]"
            ]
          },
          "metadata": {},
          "execution_count": 15
        }
      ]
    },
    {
      "cell_type": "code",
      "source": [
        "process.extractOne(contents, keywords)"
      ],
      "metadata": {
        "colab": {
          "base_uri": "https://localhost:8080/"
        },
        "id": "jqNeNpxb3_XJ",
        "outputId": "8f8d6050-c80b-4273-bdb4-8c3d7974c08a"
      },
      "execution_count": 16,
      "outputs": [
        {
          "output_type": "execute_result",
          "data": {
            "text/plain": [
              "('alcoholic', 60)"
            ]
          },
          "metadata": {},
          "execution_count": 16
        }
      ]
    },
    {
      "cell_type": "code",
      "source": [
        "process.extractOne(contents, keywords, score_cutoff=50)"
      ],
      "metadata": {
        "id": "_D_-dJJqwRxB",
        "outputId": "c5bc4dd7-1be0-4eb4-bb2d-dbef58a49355",
        "colab": {
          "base_uri": "https://localhost:8080/"
        }
      },
      "execution_count": 17,
      "outputs": [
        {
          "output_type": "execute_result",
          "data": {
            "text/plain": [
              "('alcoholic', 60)"
            ]
          },
          "metadata": {},
          "execution_count": 17
        }
      ]
    },
    {
      "cell_type": "markdown",
      "source": [
        "##Sample search"
      ],
      "metadata": {
        "id": "v7-Z_-Uzw8Dv"
      }
    },
    {
      "cell_type": "code",
      "source": [
        "sample_keywords = [\n",
        "  \"gallbladder\", \"gallbladder wall\", \"cholelithiasis\", \"pericholecystic fluid\", \"unremarkable\", \n",
        "  \"without evidence\",\"normal in thickness\", \"unremarkable\", \"without evidence\", \"normal in thickness\"\n",
        "]"
      ],
      "metadata": {
        "id": "5BIr9ce1xGt-"
      },
      "execution_count": 18,
      "outputs": []
    },
    {
      "cell_type": "code",
      "source": [
        "ocr_text = \"\"\"\n",
        "The gallbladder is unremarkable without evidence of cholelithiasis or pericholecystic fluid. The gallbladder wall is normal in thickness.\n",
        "\"\"\"\n",
        "\n",
        "process.extractBests(ocr_text, sample_keywords, limit=100)"
      ],
      "metadata": {
        "id": "fD0uTwTRwwXp",
        "outputId": "4d706a1c-c540-4f6e-86f7-ae145a311c72",
        "colab": {
          "base_uri": "https://localhost:8080/"
        }
      },
      "execution_count": 19,
      "outputs": [
        {
          "output_type": "execute_result",
          "data": {
            "text/plain": [
              "[('pericholecystic fluid', 90),\n",
              " ('normal in thickness', 90),\n",
              " ('normal in thickness', 90),\n",
              " ('gallbladder', 60),\n",
              " ('cholelithiasis', 60),\n",
              " ('unremarkable', 60),\n",
              " ('without evidence', 60),\n",
              " ('unremarkable', 60),\n",
              " ('without evidence', 60),\n",
              " ('gallbladder wall', 57)]"
            ]
          },
          "metadata": {},
          "execution_count": 19
        }
      ]
    },
    {
      "cell_type": "code",
      "source": [
        "ocr_text2 = \"\"\"\n",
        "The gallbladder is unremarkable without evidence of cholelithiasis or pericholecystic fluid. The gallbladder wall is normal in thickness.\n",
        "\"\"\"\n",
        "\n",
        "print(ocr_text2)\n",
        "process.extract(ocr_text2, sample_keywords, scorer=fuzz.token_sort_ratio, limit=10)"
      ],
      "metadata": {
        "id": "yoaQrYuvegI-",
        "outputId": "f24ab712-b2af-41b0-f1c3-8c41f426fc8b",
        "colab": {
          "base_uri": "https://localhost:8080/"
        }
      },
      "execution_count": 20,
      "outputs": [
        {
          "output_type": "stream",
          "name": "stdout",
          "text": [
            "\n",
            "The gallbladder is unremarkable without evidence of cholelithiasis or pericholecystic fluid. The gallbladder wall is normal in thickness.\n",
            "\n"
          ]
        },
        {
          "output_type": "execute_result",
          "data": {
            "text/plain": [
              "[('pericholecystic fluid', 27),\n",
              " ('normal in thickness', 25),\n",
              " ('normal in thickness', 25),\n",
              " ('gallbladder wall', 21),\n",
              " ('without evidence', 21),\n",
              " ('without evidence', 21),\n",
              " ('cholelithiasis', 19),\n",
              " ('unremarkable', 16),\n",
              " ('unremarkable', 16),\n",
              " ('gallbladder', 15)]"
            ]
          },
          "metadata": {},
          "execution_count": 20
        }
      ]
    },
    {
      "cell_type": "code",
      "source": [
        "process.extract(ocr_text2, sample_keywords, scorer=fuzz.token_set_ratio, limit=10)"
      ],
      "metadata": {
        "colab": {
          "base_uri": "https://localhost:8080/"
        },
        "id": "5Wv_bGzp7fzq",
        "outputId": "1a36915f-0ec3-4b73-a9a4-ac31f348bba5"
      },
      "execution_count": 21,
      "outputs": [
        {
          "output_type": "execute_result",
          "data": {
            "text/plain": [
              "[('gallbladder', 100),\n",
              " ('gallbladder wall', 100),\n",
              " ('cholelithiasis', 100),\n",
              " ('pericholecystic fluid', 100),\n",
              " ('unremarkable', 100),\n",
              " ('without evidence', 100),\n",
              " ('normal in thickness', 100),\n",
              " ('unremarkable', 100),\n",
              " ('without evidence', 100),\n",
              " ('normal in thickness', 100)]"
            ]
          },
          "metadata": {},
          "execution_count": 21
        }
      ]
    },
    {
      "cell_type": "code",
      "source": [
        "ocr_text3 = \"\"\"\n",
        "The gallbladder is Unremarkable without evidence of cholelithiasis or pericholecystic fluid. The Gallbladder wall is normal in thickness.\n",
        "\"\"\"\n",
        "\n",
        "print(ocr_text3)\n",
        "process.extract(ocr_text3, sample_keywords, scorer=fuzz.WRatio, limit=10)"
      ],
      "metadata": {
        "colab": {
          "base_uri": "https://localhost:8080/"
        },
        "id": "1T1v9bib7lFf",
        "outputId": "98abeeef-cd8c-49c8-c0b2-7571d123d59e"
      },
      "execution_count": 22,
      "outputs": [
        {
          "output_type": "stream",
          "name": "stdout",
          "text": [
            "\n",
            "The gallbladder is Unremarkable without evidence of cholelithiasis or pericholecystic fluid. The Gallbladder wall is normal in thickness.\n",
            "\n"
          ]
        },
        {
          "output_type": "execute_result",
          "data": {
            "text/plain": [
              "[('pericholecystic fluid', 90),\n",
              " ('normal in thickness', 90),\n",
              " ('normal in thickness', 90),\n",
              " ('gallbladder', 60),\n",
              " ('cholelithiasis', 60),\n",
              " ('unremarkable', 60),\n",
              " ('without evidence', 60),\n",
              " ('unremarkable', 60),\n",
              " ('without evidence', 60),\n",
              " ('gallbladder wall', 57)]"
            ]
          },
          "metadata": {},
          "execution_count": 22
        }
      ]
    },
    {
      "cell_type": "code",
      "source": [
        "ocr_text4 = \"\"\"\n",
        "The gallbladder is unremarkable without evidence of cholelithiasis or pericholecystic fluid. The gallbladder wall is normal in thickness.\n",
        "\"\"\"\n",
        "\n",
        "print(ocr_text4)\n",
        "process.extractBests(ocr_text4, sample_keywords, scorer=fuzz.ratio, limit=10)"
      ],
      "metadata": {
        "colab": {
          "base_uri": "https://localhost:8080/"
        },
        "id": "3rY3eE4_ia29",
        "outputId": "e9f23837-0586-4c4e-92c5-7653590fe63b"
      },
      "execution_count": 83,
      "outputs": [
        {
          "output_type": "stream",
          "name": "stdout",
          "text": [
            "\n",
            "The gallbladder is unremarkable without evidence of cholelithiasis or pericholecystic fluid.\n",
            "\n"
          ]
        },
        {
          "output_type": "execute_result",
          "data": {
            "text/plain": [
              "[('pericholecystic fluid', 38),\n",
              " ('gallbladder wall', 30),\n",
              " ('without evidence', 30),\n",
              " ('without evidence', 30),\n",
              " ('cholelithiasis', 27),\n",
              " ('normal in thickness', 27),\n",
              " ('normal in thickness', 27),\n",
              " ('unremarkable', 23),\n",
              " ('unremarkable', 23),\n",
              " ('gallbladder', 22)]"
            ]
          },
          "metadata": {},
          "execution_count": 83
        }
      ]
    },
    {
      "cell_type": "code",
      "source": [
        "# Exact match\n",
        "fuzz.ratio('The gallbladder is unremarkable without evidence of cholelithiasis or pericholecystic fluid. The gallbladder wall is normal in thickness.', 'gallbladder')"
      ],
      "metadata": {
        "colab": {
          "base_uri": "https://localhost:8080/"
        },
        "id": "rFlOMNH_pODt",
        "outputId": "3c59b6af-0d61-4968-d9f2-02f04e98759f"
      },
      "execution_count": 85,
      "outputs": [
        {
          "output_type": "execute_result",
          "data": {
            "text/plain": [
              "15"
            ]
          },
          "metadata": {},
          "execution_count": 85
        }
      ]
    },
    {
      "cell_type": "code",
      "source": [
        "1 / 1"
      ],
      "metadata": {
        "colab": {
          "base_uri": "https://localhost:8080/"
        },
        "id": "H7fZxdswmyIM",
        "outputId": "ee82ee33-64b9-40a0-c3ab-c581ba7f6e49"
      },
      "execution_count": 80,
      "outputs": [
        {
          "output_type": "execute_result",
          "data": {
            "text/plain": [
              "1.0"
            ]
          },
          "metadata": {},
          "execution_count": 80
        }
      ]
    },
    {
      "cell_type": "code",
      "source": [
        "process.extractBests(ocr_text3, sample_keywords, limit=10)"
      ],
      "metadata": {
        "colab": {
          "base_uri": "https://localhost:8080/"
        },
        "id": "ksgLCVJh786F",
        "outputId": "b3c748c4-ab76-4567-ea4e-9b19d61ca023"
      },
      "execution_count": 23,
      "outputs": [
        {
          "output_type": "execute_result",
          "data": {
            "text/plain": [
              "[('pericholecystic fluid', 90),\n",
              " ('normal in thickness', 90),\n",
              " ('normal in thickness', 90),\n",
              " ('gallbladder', 60),\n",
              " ('cholelithiasis', 60),\n",
              " ('unremarkable', 60),\n",
              " ('without evidence', 60),\n",
              " ('unremarkable', 60),\n",
              " ('without evidence', 60),\n",
              " ('gallbladder wall', 57)]"
            ]
          },
          "metadata": {},
          "execution_count": 23
        }
      ]
    },
    {
      "cell_type": "code",
      "source": [
        "terms=['Houses of Parliament', 'Diane Abbott', 'Boris Johnson']\n",
        " \n",
        "q= \"Diane Jafer, Theresa May and Boris Johnstone were in the Houses of Parliament the other day\"\n",
        "process.extract(q,terms, scorer=fuzz.WRatio)"
      ],
      "metadata": {
        "id": "m_qMl2Uvg-xK",
        "outputId": "b6d474af-c8e3-4178-d5f8-8f61b1a3ce89",
        "colab": {
          "base_uri": "https://localhost:8080/"
        }
      },
      "execution_count": 24,
      "outputs": [
        {
          "output_type": "execute_result",
          "data": {
            "text/plain": [
              "[('Houses of Parliament', 90), ('Diane Abbott', 86), ('Boris Johnson', 86)]"
            ]
          },
          "metadata": {},
          "execution_count": 24
        }
      ]
    },
    {
      "cell_type": "code",
      "source": [
        "process.extract(ocr_text, sample_keywords)"
      ],
      "metadata": {
        "id": "IRPjqV9jyd-j",
        "outputId": "1ca1998e-1bf5-4169-f299-fb8d40ea9349",
        "colab": {
          "base_uri": "https://localhost:8080/"
        }
      },
      "execution_count": 25,
      "outputs": [
        {
          "output_type": "execute_result",
          "data": {
            "text/plain": [
              "[('pericholecystic fluid', 90),\n",
              " ('normal in thickness', 90),\n",
              " ('normal in thickness', 90),\n",
              " ('gallbladder', 60),\n",
              " ('cholelithiasis', 60)]"
            ]
          },
          "metadata": {},
          "execution_count": 25
        }
      ]
    },
    {
      "cell_type": "code",
      "source": [
        "set(process.extract(ocr_text, sample_keywords, limit=10))"
      ],
      "metadata": {
        "id": "tOoX6xOV1PSN",
        "outputId": "ce4e75cf-33a7-4bce-fa69-0ef8821b6417",
        "colab": {
          "base_uri": "https://localhost:8080/"
        }
      },
      "execution_count": 26,
      "outputs": [
        {
          "output_type": "execute_result",
          "data": {
            "text/plain": [
              "{('cholelithiasis', 60),\n",
              " ('gallbladder', 60),\n",
              " ('gallbladder wall', 57),\n",
              " ('normal in thickness', 90),\n",
              " ('pericholecystic fluid', 90),\n",
              " ('unremarkable', 60),\n",
              " ('without evidence', 60)}"
            ]
          },
          "metadata": {},
          "execution_count": 26
        }
      ]
    },
    {
      "cell_type": "code",
      "source": [
        "sample_keyword_groups ={\n",
        "    \"site_location\": [\"gallbladder\", \"gallbladder wall\"],\n",
        "    \"disease_injury_condition\": [\"cholelithiasis\", \"pericholecystic fluid\"],\n",
        "    \"findings_observations\": [\"unremarkable\", \"without evidence\",\"normal in thickness\"],\n",
        "    \"codes\": [\"ICD10\", \"LOINC\", \"RXNORM\", \"CPT\"]\n",
        "}"
      ],
      "metadata": {
        "id": "kUGQkW3Y14Fg"
      },
      "execution_count": 27,
      "outputs": []
    },
    {
      "cell_type": "code",
      "source": [
        "for item in sample_keyword_groups.items():\n",
        "  print(set(process.extractBests(ocr_text, item[1])))"
      ],
      "metadata": {
        "id": "7eeRdXEIYaQQ",
        "outputId": "20ab094b-7d69-4811-9d58-76d60a5a801b",
        "colab": {
          "base_uri": "https://localhost:8080/"
        }
      },
      "execution_count": 28,
      "outputs": [
        {
          "output_type": "stream",
          "name": "stdout",
          "text": [
            "{('gallbladder wall', 57), ('gallbladder', 60)}\n",
            "{('pericholecystic fluid', 90), ('cholelithiasis', 60)}\n",
            "{('unremarkable', 60), ('without evidence', 60), ('normal in thickness', 90)}\n",
            "{('ICD10', 24), ('LOINC', 36), ('RXNORM', 40), ('CPT', 20)}\n"
          ]
        }
      ]
    },
    {
      "cell_type": "markdown",
      "source": [
        "##Simple ratio usage"
      ],
      "metadata": {
        "id": "9B1FMXDy5Eks"
      }
    },
    {
      "cell_type": "code",
      "source": [
        "# Exact match\n",
        "fuzz.ratio('geeksforgeeks', 'geeksgeeks')"
      ],
      "metadata": {
        "colab": {
          "base_uri": "https://localhost:8080/"
        },
        "id": "7VmvR86j5FQv",
        "outputId": "07b06296-85cb-44eb-e104-19581a502738"
      },
      "execution_count": 29,
      "outputs": [
        {
          "output_type": "execute_result",
          "data": {
            "text/plain": [
              "87"
            ]
          },
          "metadata": {},
          "execution_count": 29
        }
      ]
    },
    {
      "cell_type": "code",
      "source": [
        "fuzz.ratio('GeeksforGeeks', 'GeeksforGeeks') "
      ],
      "metadata": {
        "colab": {
          "base_uri": "https://localhost:8080/"
        },
        "id": "ia2FTr285TsQ",
        "outputId": "74b257d0-ff8a-4727-fe53-a46bbffc3afb"
      },
      "execution_count": 30,
      "outputs": [
        {
          "output_type": "execute_result",
          "data": {
            "text/plain": [
              "100"
            ]
          },
          "metadata": {},
          "execution_count": 30
        }
      ]
    },
    {
      "cell_type": "code",
      "source": [
        "fuzz.ratio('geeks for geeks', 'Geeks For Geeks ')"
      ],
      "metadata": {
        "colab": {
          "base_uri": "https://localhost:8080/"
        },
        "id": "DNa9gS0T5XjF",
        "outputId": "918c4bc2-9478-4266-ddd5-e158d0636bdb"
      },
      "execution_count": 31,
      "outputs": [
        {
          "output_type": "execute_result",
          "data": {
            "text/plain": [
              "77"
            ]
          },
          "metadata": {},
          "execution_count": 31
        }
      ]
    },
    {
      "cell_type": "code",
      "source": [
        "fuzz.ratio(sample_keywords, ocr_text)"
      ],
      "metadata": {
        "colab": {
          "base_uri": "https://localhost:8080/"
        },
        "id": "402SlPQm5g4o",
        "outputId": "03ea6cb3-67f7-4625-afab-c125cca9a63f"
      },
      "execution_count": 32,
      "outputs": [
        {
          "output_type": "execute_result",
          "data": {
            "text/plain": [
              "53"
            ]
          },
          "metadata": {},
          "execution_count": 32
        }
      ]
    },
    {
      "cell_type": "code",
      "source": [
        "fuzz.partial_ratio(\"geeks for geeks\", \"geeks for geeks!\")"
      ],
      "metadata": {
        "colab": {
          "base_uri": "https://localhost:8080/"
        },
        "id": "TjIdSelB6G7g",
        "outputId": "2ceccc9a-de62-4dac-b193-8aeb71f4eb72"
      },
      "execution_count": 33,
      "outputs": [
        {
          "output_type": "execute_result",
          "data": {
            "text/plain": [
              "100"
            ]
          },
          "metadata": {},
          "execution_count": 33
        }
      ]
    },
    {
      "cell_type": "code",
      "source": [
        "fuzz.partial_ratio(\"geeks for geeks\", \"geeks geeks\")"
      ],
      "metadata": {
        "colab": {
          "base_uri": "https://localhost:8080/"
        },
        "id": "InvIcmQX6LcE",
        "outputId": "0c3a4dff-03f6-493a-c116-5608dee23888"
      },
      "execution_count": 34,
      "outputs": [
        {
          "output_type": "execute_result",
          "data": {
            "text/plain": [
              "64"
            ]
          },
          "metadata": {},
          "execution_count": 34
        }
      ]
    },
    {
      "cell_type": "markdown",
      "source": [
        "##Token Sort Ratio"
      ],
      "metadata": {
        "id": "Ewt9YDLV6T6g"
      }
    },
    {
      "cell_type": "code",
      "source": [
        "# This gives 100 as every word is same, irrespective of the position \n",
        "fuzz.token_sort_ratio(\"geeks for geeks\", \"for geeks geeks\")"
      ],
      "metadata": {
        "colab": {
          "base_uri": "https://localhost:8080/"
        },
        "id": "YYdETM5R6Wik",
        "outputId": "fa7f3e9a-f9ad-4775-e945-51f9041ceb08"
      },
      "execution_count": 35,
      "outputs": [
        {
          "output_type": "execute_result",
          "data": {
            "text/plain": [
              "100"
            ]
          },
          "metadata": {},
          "execution_count": 35
        }
      ]
    },
    {
      "cell_type": "code",
      "source": [
        "fuzz.token_sort_ratio(\"geeks for geeks\", \"geeks for for geeks\")"
      ],
      "metadata": {
        "colab": {
          "base_uri": "https://localhost:8080/"
        },
        "id": "1mF8SAiN6gg6",
        "outputId": "04fbdcac-a2a6-4ac7-be83-dc8a5fdafb5d"
      },
      "execution_count": 36,
      "outputs": [
        {
          "output_type": "execute_result",
          "data": {
            "text/plain": [
              "88"
            ]
          },
          "metadata": {},
          "execution_count": 36
        }
      ]
    },
    {
      "cell_type": "code",
      "source": [
        "# Score comes 100 in second case because token_set_ratio considers duplicate words as a single word.\n",
        "fuzz.token_set_ratio(\"geeks for geeks\", \"geeks for for geeks\")"
      ],
      "metadata": {
        "colab": {
          "base_uri": "https://localhost:8080/"
        },
        "id": "GMxrgqJc6nVb",
        "outputId": "d5c65aaa-f866-4303-b387-34a6ec688da4"
      },
      "execution_count": 37,
      "outputs": [
        {
          "output_type": "execute_result",
          "data": {
            "text/plain": [
              "100"
            ]
          },
          "metadata": {},
          "execution_count": 37
        }
      ]
    },
    {
      "cell_type": "markdown",
      "source": [
        "##Process module"
      ],
      "metadata": {
        "id": "c_KmiZfx6yvd"
      }
    },
    {
      "cell_type": "code",
      "source": [
        "query = 'geeks for geeks'\n",
        "choices = ['geek for geek', 'geek geek', 'g. for geeks']"
      ],
      "metadata": {
        "id": "o4ElgbaW60KU"
      },
      "execution_count": 38,
      "outputs": []
    },
    {
      "cell_type": "code",
      "source": [
        "# Get a list of matches ordered by score, default limit to 5\n",
        "process.extract(query, choices)"
      ],
      "metadata": {
        "colab": {
          "base_uri": "https://localhost:8080/"
        },
        "id": "wJw_7xwL62WC",
        "outputId": "3bb8be65-43e0-4e21-e6ab-8fd8ba0bbeeb"
      },
      "execution_count": 39,
      "outputs": [
        {
          "output_type": "execute_result",
          "data": {
            "text/plain": [
              "[('g. for geeks', 95), ('geek for geek', 93), ('geek geek', 86)]"
            ]
          },
          "metadata": {},
          "execution_count": 39
        }
      ]
    },
    {
      "cell_type": "code",
      "source": [
        "# If we want only the top one\n",
        "process.extractOne(query, choices)"
      ],
      "metadata": {
        "colab": {
          "base_uri": "https://localhost:8080/"
        },
        "id": "uUQWO2ro65RO",
        "outputId": "88d8d88d-394a-47cc-e544-751528460e56"
      },
      "execution_count": 40,
      "outputs": [
        {
          "output_type": "execute_result",
          "data": {
            "text/plain": [
              "('g. for geeks', 95)"
            ]
          },
          "metadata": {},
          "execution_count": 40
        }
      ]
    },
    {
      "cell_type": "markdown",
      "source": [
        "##WRatio"
      ],
      "metadata": {
        "id": "nQTNWHmz7DTr"
      }
    },
    {
      "cell_type": "markdown",
      "source": [
        "There is also one more ratio which is used often called WRatio, sometimes its better to use WRatio instead of simple ratio as WRatio handles lower and upper cases and some other parameters too."
      ],
      "metadata": {
        "id": "3cc_QYgr7EAH"
      }
    },
    {
      "cell_type": "code",
      "source": [
        "fuzz.WRatio('geeks for geeks', 'Geeks For Geeks')"
      ],
      "metadata": {
        "colab": {
          "base_uri": "https://localhost:8080/"
        },
        "id": "aBwAGt6V7GJo",
        "outputId": "3d8cf8e9-eef0-4e42-8fa7-5e4e3f974718"
      },
      "execution_count": 41,
      "outputs": [
        {
          "output_type": "execute_result",
          "data": {
            "text/plain": [
              "100"
            ]
          },
          "metadata": {},
          "execution_count": 41
        }
      ]
    },
    {
      "cell_type": "code",
      "source": [
        "fuzz.WRatio('geeks for geeks!!!','geeks for geeks')"
      ],
      "metadata": {
        "colab": {
          "base_uri": "https://localhost:8080/"
        },
        "id": "h1cIWukT7JsT",
        "outputId": "407f3122-e268-4721-9679-9b4d5efd5ba4"
      },
      "execution_count": 42,
      "outputs": [
        {
          "output_type": "execute_result",
          "data": {
            "text/plain": [
              "100"
            ]
          },
          "metadata": {},
          "execution_count": 42
        }
      ]
    },
    {
      "cell_type": "code",
      "source": [
        "# whereas simple ratio will give for above case\n",
        "fuzz.ratio('geeks for geeks!!!','geeks for geeks')"
      ],
      "metadata": {
        "colab": {
          "base_uri": "https://localhost:8080/"
        },
        "id": "IKBaQ8nP7RIe",
        "outputId": "812f17ae-c13f-4f43-f7dd-3e4d0329efc5"
      },
      "execution_count": 43,
      "outputs": [
        {
          "output_type": "execute_result",
          "data": {
            "text/plain": [
              "91"
            ]
          },
          "metadata": {},
          "execution_count": 43
        }
      ]
    }
  ]
}