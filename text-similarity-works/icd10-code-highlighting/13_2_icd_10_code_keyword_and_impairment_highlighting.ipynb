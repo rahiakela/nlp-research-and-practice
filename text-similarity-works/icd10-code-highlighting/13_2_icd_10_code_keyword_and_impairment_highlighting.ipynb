{
  "nbformat": 4,
  "nbformat_minor": 0,
  "metadata": {
    "colab": {
      "provenance": [],
      "collapsed_sections": [
        "0hK4nU35JVaA",
        "N4dDTs-rJL_h",
        "TycHgKTZJ6a6"
      ],
      "authorship_tag": "ABX9TyNbkMNGcBLmNgVIfkOpZ3Ts",
      "include_colab_link": true
    },
    "kernelspec": {
      "name": "python3",
      "display_name": "Python 3"
    },
    "language_info": {
      "name": "python"
    }
  },
  "cells": [
    {
      "cell_type": "markdown",
      "metadata": {
        "id": "view-in-github",
        "colab_type": "text"
      },
      "source": [
        "<a href=\"https://colab.research.google.com/github/rahiakela/nlp-research-and-practice/blob/main/text-similarity-works/icd10-code-highlighting/13_2_icd_10_code_keyword_and_impairment_highlighting.ipynb\" target=\"_parent\"><img src=\"https://colab.research.google.com/assets/colab-badge.svg\" alt=\"Open In Colab\"/></a>"
      ]
    },
    {
      "cell_type": "markdown",
      "source": [
        "##Setup"
      ],
      "metadata": {
        "id": "u6vazPC0Ja4i"
      }
    },
    {
      "cell_type": "code",
      "source": [
        "!pip -q install spacy\n",
        "!python -m spacy download en_core_web_sm\n",
        "\n",
        "!pip install pillow\n",
        "\n",
        "#!sudo apt install build-essential libpoppler-cpp-dev pkg-config python3-dev\n",
        "!pip install more-itertools\n",
        "!pip install PyPDF2\n",
        "#!pip install fitz\n",
        "!pip install pymupdf==1.22.0\n",
        "!pip install fuzzywuzzy\n",
        "#!pip install pikepdf"
      ],
      "metadata": {
        "id": "gdwgVvXuJdz9"
      },
      "execution_count": null,
      "outputs": []
    },
    {
      "cell_type": "code",
      "source": [
        "import fitz\n",
        "print(fitz.__doc__)"
      ],
      "metadata": {
        "colab": {
          "base_uri": "https://localhost:8080/"
        },
        "id": "sQxK2S849bPW",
        "outputId": "fe709f4e-6bea-40c7-b3ff-2f220b4d709f"
      },
      "execution_count": 2,
      "outputs": [
        {
          "output_type": "stream",
          "name": "stdout",
          "text": [
            "\n",
            "PyMuPDF 1.22.0: Python bindings for the MuPDF 1.22.0 library.\n",
            "Version date: 2023-04-14 00:00:01.\n",
            "Built for Python 3.10 on linux (64-bit).\n",
            "\n"
          ]
        }
      ]
    },
    {
      "cell_type": "code",
      "source": [
        "import nltk\n",
        "\n",
        "nltk.download('punkt')\n",
        "nltk.download('stopwords')"
      ],
      "metadata": {
        "colab": {
          "base_uri": "https://localhost:8080/"
        },
        "id": "X7HN48uMv2O-",
        "outputId": "4c136c70-080f-4461-a4c6-402442177e83"
      },
      "execution_count": 3,
      "outputs": [
        {
          "output_type": "stream",
          "name": "stderr",
          "text": [
            "[nltk_data] Downloading package punkt to /root/nltk_data...\n",
            "[nltk_data]   Unzipping tokenizers/punkt.zip.\n",
            "[nltk_data] Downloading package stopwords to /root/nltk_data...\n",
            "[nltk_data]   Unzipping corpora/stopwords.zip.\n"
          ]
        },
        {
          "output_type": "execute_result",
          "data": {
            "text/plain": [
              "True"
            ]
          },
          "metadata": {},
          "execution_count": 3
        }
      ]
    },
    {
      "cell_type": "code",
      "source": [
        "!python --version"
      ],
      "metadata": {
        "id": "4QPcnYT5AKpj",
        "colab": {
          "base_uri": "https://localhost:8080/"
        },
        "outputId": "19ab4adf-c2e8-4561-db62-44095c285fc1"
      },
      "execution_count": 6,
      "outputs": [
        {
          "output_type": "stream",
          "name": "stdout",
          "text": [
            "Python 3.10.12\n"
          ]
        }
      ]
    },
    {
      "cell_type": "code",
      "source": [
        "!rm -rf data\n",
        "!unzip data.zip"
      ],
      "metadata": {
        "id": "YyREdYtyqNMK",
        "outputId": "45024bdf-9fac-431d-9bd2-a78d65432d03",
        "colab": {
          "base_uri": "https://localhost:8080/"
        }
      },
      "execution_count": 4,
      "outputs": [
        {
          "output_type": "stream",
          "name": "stdout",
          "text": [
            "Archive:  data.zip\n",
            "   creating: data/csv_files/\n",
            "  inflating: data/csv_files/icd_10_code_and_keywords_v2.csv  \n",
            "  inflating: data/csv_files/icd_10_code_and_keywords_v3.csv  \n",
            "  inflating: data/csv_files/synid_and_keywords_impairment_v1.csv  \n",
            "  inflating: data/csv_files/synid_and_keywords_impairment_v2.csv  \n",
            "  inflating: data/csv_files/synid_and_keywords_impairment_v3.csv  \n",
            "  inflating: data/csv_files/synid_and_keywords_impairment_v4.csv  \n",
            "  inflating: data/csv_files/synid_and_keywords_impairment_v5.csv  \n",
            "  inflating: data/csv_files/synid_and_keywords_impairment_v6.csv  \n",
            "  inflating: data/csv_files/synid_and_keywords_impairment_v7.csv  \n",
            "  inflating: data/csv_files/synid_and_keywords_impairment_v8.csv  \n",
            "  inflating: data/csv_files/synid_and_keywords_impairment_v9.csv  \n",
            "   creating: data/pattern_files/\n",
            "  inflating: data/pattern_files/date_regex-v1.json  \n",
            "  inflating: data/pattern_files/generic_matcher_config-v0.json  \n",
            "  inflating: data/pattern_files/icd10_code_patterns-v6.jsonl  \n",
            "   creating: data/pkl_files/\n",
            "  inflating: data/pkl_files/dict_words.pkl  \n",
            "  inflating: data/pkl_files/knocaps_dict_index_v0.pickle  \n",
            "  inflating: data/pkl_files/knocaps_dict_index_v1.pickle  \n",
            "  inflating: data/pkl_files/knocaps_dict_index_v2.pickle  \n",
            "  inflating: data/pkl_files/knocaps_dict_index_v3.pickle  \n",
            "  inflating: data/pkl_files/knocaps_dict_index_v4.pickle  \n",
            "  inflating: data/pkl_files/knocaps_dict_index_v5.pickle  \n",
            "  inflating: data/pkl_files/knocaps_dict_index_v6.pickle  \n",
            "  inflating: data/pkl_files/knocaps_dict_index_v7.pickle  \n",
            "  inflating: data/pkl_files/knocaps_dict_index_v8.pickle  \n",
            "  inflating: data/pkl_files/knocaps_dict_index_v9.pickle  \n",
            "   creating: data/txt_files/\n",
            "  inflating: data/txt_files/kcaps_v1.txt  \n",
            "  inflating: data/txt_files/kcaps_v2.txt  \n",
            "  inflating: data/txt_files/kcaps_v3.txt  \n",
            "  inflating: data/txt_files/kcaps_v4.txt  \n",
            "  inflating: data/txt_files/kcaps_v5.txt  \n",
            "  inflating: data/txt_files/kcaps_v6.txt  \n",
            "  inflating: data/txt_files/kcaps_v7.txt  \n",
            "  inflating: data/txt_files/kcaps_v8.txt  \n",
            "  inflating: data/txt_files/kcaps_v9.txt  \n",
            "  inflating: data/txt_files/knocaps_v0.txt  \n",
            "  inflating: data/txt_files/knocaps_v1.txt  \n",
            "  inflating: data/txt_files/knocaps_v2.txt  \n",
            "  inflating: data/txt_files/knocaps_v3.txt  \n",
            "  inflating: data/txt_files/knocaps_v4.txt  \n",
            "  inflating: data/txt_files/knocaps_v5.txt  \n",
            "  inflating: data/txt_files/knocaps_v6.txt  \n",
            "  inflating: data/txt_files/knocaps_v7.txt  \n",
            "  inflating: data/txt_files/knocaps_v8.txt  \n",
            "  inflating: data/txt_files/knocaps_v9.txt  \n"
          ]
        }
      ]
    },
    {
      "cell_type": "markdown",
      "source": [
        "##Import"
      ],
      "metadata": {
        "id": "L0vdWKmkdeL6"
      }
    },
    {
      "cell_type": "code",
      "source": [
        "import re\n",
        "import os\n",
        "import shutil\n",
        "import glob\n",
        "import json\n",
        "import logging\n",
        "import more_itertools\n",
        "from pathlib import Path\n",
        "\n",
        "import numpy as np\n",
        "import pandas as pd\n",
        "\n",
        "import fitz\n",
        "\n",
        "from spacy.lang.en import English\n",
        "\n",
        "from nltk.tokenize import word_tokenize\n",
        "from nltk.corpus import stopwords\n",
        "from fuzzywuzzy import fuzz\n",
        "\n",
        "from dataclasses import dataclass\n",
        "from array import *\n",
        "\n",
        "from concurrent import futures\n",
        "from keyword_matcher import KeywordMatcher\n",
        "from sentence_extractor import SentenceExtractor\n",
        "from generic_matcher import GenericMatcher\n",
        "import config as cfg\n",
        "from utils import *"
      ],
      "metadata": {
        "id": "gKbd7WsfyYX3",
        "outputId": "d1945228-9293-410f-8bdd-a094839d94f1",
        "colab": {
          "base_uri": "https://localhost:8080/"
        }
      },
      "execution_count": 1,
      "outputs": [
        {
          "output_type": "stream",
          "name": "stderr",
          "text": [
            "/usr/local/lib/python3.10/dist-packages/fuzzywuzzy/fuzz.py:11: UserWarning: Using slow pure-python SequenceMatcher. Install python-Levenshtein to remove this warning\n",
            "  warnings.warn('Using slow pure-python SequenceMatcher. Install python-Levenshtein to remove this warning')\n"
          ]
        }
      ]
    },
    {
      "cell_type": "markdown",
      "source": [
        "##Core Classes"
      ],
      "metadata": {
        "id": "9oNqjgIsRpNm"
      }
    },
    {
      "cell_type": "code",
      "source": [
        "(238/255, 210/255, 2/255)"
      ],
      "metadata": {
        "id": "aQJui1vVhbad",
        "outputId": "b8e76971-f9be-456a-8fb5-b2bb3195db3b",
        "colab": {
          "base_uri": "https://localhost:8080/"
        }
      },
      "execution_count": 2,
      "outputs": [
        {
          "output_type": "execute_result",
          "data": {
            "text/plain": [
              "(0.9333333333333333, 0.8235294117647058, 0.00784313725490196)"
            ]
          },
          "metadata": {},
          "execution_count": 2
        }
      ]
    },
    {
      "cell_type": "code",
      "source": [
        "class Highlighter:\n",
        "    def __init__(self, match_threshold=30):\n",
        "        # loading and updating patterns for ICD-10 code\n",
        "        self.nlp_code10 = English()\n",
        "        self.nlp_code10.add_pipe(\"entity_ruler\").from_disk(cfg.pattern_files[\"jsonl\"])\n",
        "\n",
        "        self.match_threshold = match_threshold\n",
        "        self.text_list = None\n",
        "\n",
        "        # define icd-10 code dataset\n",
        "        core_df = pd.read_csv(cfg.csv_files[\"CODE_CSV\"])\n",
        "        self.code_df = core_df.where(pd.notnull(core_df), None)\n",
        "        self.synid_df = pd.read_csv(cfg.csv_files[\"IMP_CSV\"])\n",
        "\n",
        "        # define required directory path\n",
        "        self.PDF_FILES_PATH = cfg.file_path[\"TMP_PDF_FILES_PATH\"]\n",
        "        self.TXT_FILES_PATH = cfg.file_path[\"TMP_TXT_FILES_PATH\"]\n",
        "        self.OUTPUT_FILES_PATH = cfg.file_path[\"OUTPUT_PATH\"]\n",
        "\n",
        "        self.logger = logging.getLogger(__name__)\n",
        "\n",
        "    def set_impairment_keyword_dict(self, imp_keyword_dict):\n",
        "        self.impairment_keyword_dict = imp_keyword_dict\n",
        "\n",
        "    def set_page_matched_date_dict(self, matched_date_dict):\n",
        "        self.page_matched_date_dict = matched_date_dict\n",
        "\n",
        "    def set_match_threshold(self, match_val):\n",
        "        self.match_threshold = match_val\n",
        "\n",
        "    def set_text_list(self, p_text_list):\n",
        "        self.text_list = p_text_list\n",
        "\n",
        "    def highlight_all(self, icd10_code_dict, pdf_file_name=None, highlight_all=False):\n",
        "        pdf_file = fitz.open(pdf_file_name)\n",
        "        json_data = []\n",
        "        json_imp_data = []\n",
        "        json_date_data = []\n",
        "\n",
        "        for page_num, page in enumerate(pdf_file):\n",
        "            already_done_page_list = []\n",
        "            self.code_y2_coords_list = []\n",
        "            self.already_found_word_list = []\n",
        "            self.highlighted_coord_list = []\n",
        "            code_highlight_dict = {}\n",
        "\n",
        "            # highlight ICD-10 code\n",
        "            if page_num in icd10_code_dict:\n",
        "                num_page = page_num + 1\n",
        "\n",
        "                # let's store code y2 coords\n",
        "                for code in icd10_code_dict[page_num]:\n",
        "                    highlight_list = page.search_for(code)\n",
        "                    #print(f\"Page-{num_page}-{code}, Coordinate: {highlight_list}\")\n",
        "                    if len(highlight_list) > 0:\n",
        "                        code_highlight_dict[code] = highlight_list\n",
        "                        self.code_y2_coords_list.extend([highlight[3] for highlight in highlight_list])\n",
        "                    else:\n",
        "                        for alt_code in get_alternate_code_pattern(code):\n",
        "                            highlight_list = page.search_for(alt_code)\n",
        "                            for highlight in highlight_list:\n",
        "                                if len(highlight) > 0:\n",
        "                                    code_highlight_dict[code] = [highlight]\n",
        "                                    # print(f\"alternate-code:{code}, Coordinate: {highlight}\")\n",
        "                                    self.code_y2_coords_list.extend([highlight[3]])\n",
        "                                    # print(f\"[highlight[3]]: {[highlight[3]]}\")\n",
        "\n",
        "                filtered_code_highlight_dict = filter_duplicate_coordinate(code_highlight_dict)\n",
        "                # now, let highlight every code and its common words\n",
        "                for code, highlight_list in filtered_code_highlight_dict.items():\n",
        "                    prev_highlight = fitz.Rect(0, 0, 0, 0)\n",
        "                    for highlight in highlight_list:\n",
        "                        keyword = get_keyword(code, self.code_df)\n",
        "                        # get match score and common words coordinate\n",
        "                        if not highlight_all:\n",
        "                          all_match_keyword_list, all_match_imp_keyword_list = self.get_best_token_match(page_num,\n",
        "                                                                                                        code,\n",
        "                                                                                                        page,\n",
        "                                                                                                        highlight[3],\n",
        "                                                                                                        self.match_threshold)\n",
        "                        else:\n",
        "                          all_match_keyword_list, all_match_imp_keyword_list = self.get_best_all_token_match(page_num,\n",
        "                                                                                                        code,\n",
        "                                                                                                        page,\n",
        "                                                                                                        highlight[3],\n",
        "                                                                                                        self.match_threshold)\n",
        "\n",
        "                        # Step-1: highlight and set color coding dont have common words\n",
        "                        if not all_match_keyword_list:\n",
        "                            highlight_code(page, highlight)\n",
        "                            # prepare json object\n",
        "                            json_data.append(prepare_json_object(num_page, code, self.code_df, highlight, keyword))\n",
        "\n",
        "                        # Step-2: highlight and set color coding that have common words\n",
        "                        for match_keyword_dict in all_match_keyword_list:\n",
        "                            # highlight ICD-10 code\n",
        "                            if not is_coord_equal(prev_highlight, highlight):\n",
        "                              highlight_code(page, highlight)\n",
        "                              prev_highlight = highlight\n",
        "                            # highlight common words\n",
        "                            highlight_coords_dict = {}\n",
        "                            highlight_coords_dict, highlighted_word_list = self.highlight_common_words(page, match_keyword_dict[\"common_words_coords\"])\n",
        "                            # prepare json object\n",
        "                            json_data.append(prepare_json_object(num_page, code, self.code_df, highlight, keyword, match_keyword_dict, highlight_coords_dict))\n",
        "\n",
        "                        # Step-3: highlight and set color coding for impairment keyword common words\n",
        "                        json_imp_data_list = []\n",
        "                        for match_imp_keyword_dict in all_match_imp_keyword_list:\n",
        "                            json_imp_data_object = {}\n",
        "                            # highlight common words\n",
        "                            highlight_coords_dict = {}\n",
        "                            if \"imp_common_keyword_coords\" in match_imp_keyword_dict:\n",
        "                              if match_imp_keyword_dict[\"imp_common_keyword_coords\"]:\n",
        "                                highlight_coords_list = self.highlight_impairment(page, num_page, match_imp_keyword_dict[\"imp_common_keyword_coords\"])\n",
        "                                already_done_page_list.append(page_num)\n",
        "                                # prepare json object\n",
        "                                if highlight_coords_list:\n",
        "                                  json_imp_data_list.extend(highlight_coords_list)\n",
        "                        if len(json_imp_data_list) > 0:\n",
        "                            json_imp_data.extend(json_imp_data_list)\n",
        "\n",
        "            # highlight impairment key phrase\n",
        "            if page_num in self.impairment_keyword_dict and page_num not in already_done_page_list:\n",
        "              json_imp_data_list = self.highlight_keyword_impairment_data(page, page_num)\n",
        "              if len(json_imp_data_list) > 0:\n",
        "                json_imp_data.extend(json_imp_data_list)\n",
        "\n",
        "            # highlight date and time in PDF\n",
        "            if page_num in self.page_matched_date_dict:\n",
        "                json_date_data_list = self.highlight_date_and_time(page, page_num)\n",
        "                if len(json_date_data_list) > 0:\n",
        "                  json_date_data.extend(json_date_data_list)\n",
        "\n",
        "        # save PDF and JSON output file\n",
        "        pdf_output_file_name, json_data_dump_file = save_output_file(pdf_object=pdf_file, cfg=cfg,\n",
        "                                                                     output_type=2 if highlight_all else 1,\n",
        "                                                                     output_path=self.OUTPUT_FILES_PATH,\n",
        "                                                                     output_file_name=pdf_file_name,\n",
        "                                                                     json_data=json_data,\n",
        "                                                                     json_imp_data=json_imp_data,\n",
        "                                                                     json_date_data=json_date_data)\n",
        "        return pdf_output_file_name, json_data_dump_file\n",
        "\n",
        "    def highlight_icd_code_and_common_words(self, icd10_code_dict, pdf_file_name=None):\n",
        "        pdf_file = fitz.open(pdf_file_name)\n",
        "        json_data = []\n",
        "\n",
        "        for page_num, page in enumerate(pdf_file):\n",
        "            self.code_y2_coords_list = []\n",
        "            self.already_found_word_list = []\n",
        "            code_highlight_dict = {}\n",
        "\n",
        "            # highlight ICD-10 code\n",
        "            if page_num in icd10_code_dict:\n",
        "                num_page = page_num + 1\n",
        "                # let's store code y2 coords\n",
        "                for code in icd10_code_dict[page_num]:\n",
        "                    highlight_list = page.search_for(code)\n",
        "                    #print(f\"Page-{num_page}-{code}, Coordinate: {highlight_list}\")\n",
        "                    if len(highlight_list) > 0:\n",
        "                        code_highlight_dict[code] = highlight_list\n",
        "                        self.code_y2_coords_list.extend([highlight[3] for highlight in highlight_list])\n",
        "                    else:\n",
        "                        for alt_code in get_alternate_code_pattern(code):\n",
        "                            highlight_list = page.search_for(alt_code)\n",
        "                            for highlight in highlight_list:\n",
        "                                if len(highlight) > 0:\n",
        "                                    code_highlight_dict[code] = [highlight]\n",
        "                                    #print(f\"alternate-code:{code}, Coordinate: {highlight}\")\n",
        "                                    self.code_y2_coords_list.extend([highlight[3]])\n",
        "\n",
        "                filtered_code_highlight_dict = filter_duplicate_coordinate(code_highlight_dict)\n",
        "                # now, let highlight every code and its common words\n",
        "                for code, highlight_list in filtered_code_highlight_dict.items():\n",
        "                    prev_highlight = fitz.Rect(0, 0, 0, 0)\n",
        "                    for highlight in highlight_list:\n",
        "                        keyword = get_keyword(code, self.code_df)\n",
        "                        # get match score and common words coordinate\n",
        "                        all_match_keyword_list, all_match_imp_keyword_list = self.get_best_token_match(page_num, code,\n",
        "                                                                                                       page,\n",
        "                                                                                                       highlight[3],\n",
        "                                                                                                       self.match_threshold)\n",
        "\n",
        "                        # Step-1: highlight and set color coding dont have common words\n",
        "                        if not all_match_keyword_list:\n",
        "                            page_highlight = page.add_highlight_annot(highlight)\n",
        "                            page_highlight.set_colors(stroke=[0.92, 0.59, 0.48])  # dark salmon\n",
        "                            page_highlight.update()\n",
        "                            # prepare json object\n",
        "                            json_data.append(prepare_json_object(num_page, code, self.code_df, highlight, keyword))\n",
        "\n",
        "                        # Step-2: highlight and set color coding that have common words\n",
        "                        for match_keyword_dict in all_match_keyword_list:\n",
        "                            # highlight ICD-10 code\n",
        "                            if not self.is_coord_equal(prev_highlight, highlight):\n",
        "                              highlight_code(page, highlight)\n",
        "                              prev_highlight = highlight\n",
        "                            # highlight common words\n",
        "                            highlight_coords_dict = {}\n",
        "                            highlight_coords_dict, highlighted_word_list = self.highlight_common_words(page, match_keyword_dict[\"common_words_coords\"])\n",
        "\n",
        "                            # prepare json object\n",
        "                            json_data.append(prepare_json_object(num_page, code, self.code_df, highlight, keyword, match_keyword_dict, highlight_coords_dict))\n",
        "\n",
        "        # save PDF and JSON output file\n",
        "        pdf_output_file_name, json_data_dump_file = save_output_file(pdf_file, cfg, 3, self.OUTPUT_FILES_PATH, pdf_file_name, json_data)\n",
        "        return pdf_output_file_name, json_data_dump_file\n",
        "\n",
        "    def highlight_icd_code_and_keyword_impairment(self, icd10_code_dict, pdf_file_name=None):\n",
        "      pdf_file = fitz.open(pdf_file_name)\n",
        "      json_data = []\n",
        "      json_imp_data = []\n",
        "      json_date_data = []\n",
        "\n",
        "      for page_num, page in enumerate(pdf_file):\n",
        "        already_done_page_list = []\n",
        "        self.code_y2_coords_list = []\n",
        "        self.already_found_word_list = []\n",
        "        self.highlighted_coord_list = []\n",
        "        self.highlighted_term_list = []\n",
        "        code_highlight_dict = {}\n",
        "\n",
        "        # highlight ICD-10 code\n",
        "        if page_num in icd10_code_dict:\n",
        "            num_page = page_num + 1\n",
        "\n",
        "            # let's store code y2 coords\n",
        "            for code in icd10_code_dict[page_num]:\n",
        "                highlight_list = page.search_for(code)\n",
        "                # print(f\"Page-{num_page}-{code}, Coordinate: {highlight_list}\")\n",
        "                if len(highlight_list) > 0:\n",
        "                    code_highlight_dict[code] = highlight_list\n",
        "                    self.code_y2_coords_list.extend([highlight[3] for highlight in highlight_list])\n",
        "                else:\n",
        "                    for alt_code in get_alternate_code_pattern(code):\n",
        "                        highlight_list = page.search_for(alt_code)\n",
        "                        for highlight in highlight_list:\n",
        "                            if len(highlight) > 0:\n",
        "                                code_highlight_dict[code] = [highlight]\n",
        "                                # print(f\"alternate-code:{code}, Coordinate: {highlight}\")\n",
        "                                self.code_y2_coords_list.extend([highlight[3]])\n",
        "                                # print(f\"[highlight[3]]: {[highlight[3]]}\")\n",
        "            # print(f\"code_highlight_dict: {code_highlight_dict}\")\n",
        "            filtered_code_highlight_dict = filter_duplicate_coordinate(code_highlight_dict)\n",
        "            # now, let highlight every code and its common words\n",
        "            for code, highlight_list in filtered_code_highlight_dict.items():\n",
        "                # print(f\"code-{code}, Coordinate: {highlight_list}\")\n",
        "                prev_highlight = fitz.Rect(0, 0, 0, 0)\n",
        "                for highlight in highlight_list:\n",
        "                    # Step-1: highlight ICD-10 code\n",
        "                    #print(f\"prev_highlight: {prev_highlight}\")\n",
        "                    if not is_coord_equal(prev_highlight, highlight):\n",
        "                      #print(f\"highlight: {highlight}\")\n",
        "                      highlight_code(page, highlight)\n",
        "                      prev_highlight = highlight\n",
        "                    # prepare json object\n",
        "                    json_data.append(prepare_code_json_object(num_page, code, highlight))\n",
        "\n",
        "        # highlight ICD key phrase\n",
        "        # if page_num in self.impairment_keyword_dict and page_num not in already_done_page_list:\n",
        "        if page_num in self.impairment_keyword_dict:\n",
        "          json_imp_data_list = self.highlight_keyword_impairment_data(page, page_num)\n",
        "          if len(json_imp_data_list) > 0:\n",
        "            json_imp_data.extend(json_imp_data_list)\n",
        "\n",
        "        # highlight date and time in PDF\n",
        "        if page_num in self.page_matched_date_dict:\n",
        "          json_date_data_list = self.highlight_date_and_time(page, page_num)\n",
        "          if len(json_date_data_list) > 0:\n",
        "            json_date_data.extend(json_date_data_list)\n",
        "\n",
        "      # save PDF and JSON output file\n",
        "      pdf_output_file_name, json_data_dump_file = save_output_file(pdf_object=pdf_file, cfg=cfg,\n",
        "                                                                   output_type=4,\n",
        "                                                                   output_path=self.OUTPUT_FILES_PATH,\n",
        "                                                                   output_file_name=pdf_file_name,\n",
        "                                                                   json_data=json_data,\n",
        "                                                                   json_imp_data=json_imp_data,\n",
        "                                                                   json_date_data=json_date_data)\n",
        "      return pdf_output_file_name, json_data_dump_file\n",
        "\n",
        "    def highlight_keyword_impairment(self, pdf_file_name=None):\n",
        "        pdf_file = fitz.open(pdf_file_name)\n",
        "        json_imp_data = []\n",
        "        for page_num, page in enumerate(pdf_file):\n",
        "          self.highlighted_coord_list = []\n",
        "          # highlight ICD key phrase\n",
        "          if page_num in self.impairment_keyword_dict:\n",
        "            json_imp_data_list = []\n",
        "            num_page = page_num + 1\n",
        "            imp_keywords_coord_dict = {}\n",
        "            key_phrase_sents = self.impairment_keyword_dict[page_num]\n",
        "            for key_phrase_sent in key_phrase_sents:\n",
        "              #print(f\"key_phrase_sent: {key_phrase_sent}\")\n",
        "              coordinates = page.search_for(key_phrase_sent)\n",
        "              imp_keywords_coord_dict[key_phrase_sent] = coordinates\n",
        "            highlight_coords_list = self.highlight_impairment(page, num_page, imp_keywords_coord_dict)\n",
        "            if len(highlight_coords_list) > 0:\n",
        "              json_imp_data_list.extend(highlight_coords_list)\n",
        "            if len(json_imp_data_list) > 0:\n",
        "              json_imp_data.extend(json_imp_data_list)\n",
        "\n",
        "        # save PDF and JSON output file\n",
        "        pdf_output_file_name, json_data_dump_file = save_output_file(pdf_file, cfg, 5, self.OUTPUT_FILES_PATH, pdf_file_name, json_imp_data=json_imp_data)\n",
        "        return pdf_output_file_name, json_data_dump_file\n",
        "\n",
        "    def highlight_keyword_impairment_data(self, p_page, page_num):\n",
        "      json_imp_data_list = []\n",
        "      num_page = page_num + 1\n",
        "      # print(f\"num_page: {num_page}\")\n",
        "      imp_keywords_coord_dict = {}\n",
        "\n",
        "      def highlight_multi_key_phrase(p_keyword_impairment, batch_coord):\n",
        "        phrase_coords = []\n",
        "        try:\n",
        "            f_coord = batch_coord[0]\n",
        "            l_coord = batch_coord[-1]\n",
        "            # first coord y1,y2 and second coord y1,y2 must be equal if it is same phrase\n",
        "            if f_coord[1] == l_coord[1] and f_coord[3] == l_coord[3]:\n",
        "              # check first coord x2 and second coord x1 is more than 100(means the same line phrase occurrence)\n",
        "              if (l_coord[0] - f_coord[2]) > 100:\n",
        "                  phrase_coords.extend([\n",
        "                      (f_coord[0], f_coord[1], f_coord[2], f_coord[3]),\n",
        "                      (l_coord[0], l_coord[1], l_coord[2], l_coord[3])\n",
        "                  ])\n",
        "              else:\n",
        "                phrase_coords.extend([(f_coord[0], f_coord[1], l_coord[2], l_coord[3])])\n",
        "            for phrase_coord in phrase_coords:\n",
        "                # print(f\"phrase_coord: {phrase_coord}\")\n",
        "                if is_exact_match(p_page, p_keyword_impairment, phrase_coord, full_match=True, case_sensitive=True) \\\n",
        "                  and not is_coord_already_highlighted(self.highlighted_coord_list, phrase_coord):\n",
        "                  p_highlight = p_page.add_highlight_annot(phrase_coord)\n",
        "                  p_highlight.update()\n",
        "                  self.highlighted_coord_list.append(phrase_coord)\n",
        "                # print(f\"key_phrase: {p_keyword_impairment}, phrase_coord: {phrase_coord}\")\n",
        "        except ValueError as ve:\n",
        "            #print(f\"ERROR: coordinate not found>>{ve}\")\n",
        "            self.logger.error(f\"ERROR: coordinate not found>>{ve}\")\n",
        "        return phrase_coords\n",
        "\n",
        "      keyword_impairments = self.impairment_keyword_dict[page_num]\n",
        "      for keyword_impairment in keyword_impairments:\n",
        "          # print(f\"key_phrase_sent: {keyword_impairment}\")\n",
        "          coordinates = p_page.search_for(keyword_impairment)\n",
        "          # print(f\"coordinates: {coordinates}\")\n",
        "\n",
        "          phrase_len = len(keyword_impairment.split())\n",
        "          if coordinates:\n",
        "            # highlight word phrase that have equal word phrase and coord length(single phrase occurrence)\n",
        "            if phrase_len == len(coordinates) and phrase_len != 1:\n",
        "                imp_keywords_coord_dict[keyword_impairment] = highlight_multi_key_phrase(keyword_impairment, coordinates)\n",
        "            # highlight word phrase that do not have equal word phrase and coord length(multiple phrase occurrence)\n",
        "            elif int(len(coordinates) / phrase_len) * phrase_len == len(coordinates):\n",
        "                phrase_coord_list = []\n",
        "                # batch coord list by dividing its length with phrase length\n",
        "                for batch_coord in more_itertools.batched(coordinates, phrase_len):\n",
        "                    phrase_coord_list.extend(highlight_multi_key_phrase(keyword_impairment, batch_coord))\n",
        "                imp_keywords_coord_dict[keyword_impairment] = phrase_coord_list\n",
        "            else:\n",
        "                coords_list = []\n",
        "                for coord in coordinates:\n",
        "                    if is_exact_match(p_page, keyword_impairment, coord, full_match=True, case_sensitive=True) and not is_coord_already_highlighted(self.highlighted_coord_list, coord):\n",
        "                        page_highlight = p_page.add_highlight_annot(coord)\n",
        "                        page_highlight.update()\n",
        "                        coords_list.extend((coord[0], coord[1], coord[2], coord[3]))\n",
        "                        self.highlighted_coord_list.append(coord)\n",
        "                        # print(f\"key_phrase: {keyword_impairment}, keywords_coord: {coord}\")\n",
        "                # print(f\"coords_list: {coords_list}\")\n",
        "                imp_keywords_coord_dict[keyword_impairment] = coords_list\n",
        "      # print(f\"imp_keywords_coord_dict: {imp_keywords_coord_dict}\")\n",
        "      if imp_keywords_coord_dict:\n",
        "        json_imp_data_list.append(prepare_imp_json_object(num_page, self.synid_df, keyword_impairment, imp_keywords_coord_dict))\n",
        "      return json_imp_data_list\n",
        "\n",
        "    def highlight_date_and_time(self, p_page, page_num):\n",
        "        num_page = page_num + 1\n",
        "        json_date_data_list = []\n",
        "        highlight_coords_list = []\n",
        "        page_date_coord_dict = {}\n",
        "\n",
        "        def highlight_date(p_coordinate, p_date):\n",
        "          page_highlight = p_page.add_highlight_annot(p_coordinate)\n",
        "          page_highlight.set_colors(stroke=[0.529, 0.807, 0.921])  # sky blue\n",
        "          page_highlight.update()\n",
        "          page_date_coord_dict[p_date] = [p_coordinate[0], p_coordinate[1], p_coordinate[2], p_coordinate[3]]\n",
        "          self.highlighted_term_list.append(p_date)\n",
        "\n",
        "        page_date_list = self.page_matched_date_dict[page_num]\n",
        "        for page_date in page_date_list:\n",
        "            coordinates = p_page.search_for(page_date)\n",
        "            for coordinate in coordinates:\n",
        "              if len(re.findall(r\"^\\d+$\", page_date.strip())) > 0:\n",
        "                if is_exact_year_match(p_page, page_date, coordinate, self.highlighted_term_list):\n",
        "                  highlight_date(coordinate, page_date)\n",
        "              else:\n",
        "                highlight_date(coordinate, page_date)\n",
        "\n",
        "        if page_date_coord_dict:\n",
        "            highlight_coords_list.append(prepare_page_date_json_object(num_page, page_date_coord_dict))\n",
        "        if len(highlight_coords_list) > 0:\n",
        "            json_date_data_list.extend(highlight_coords_list)\n",
        "        return json_date_data_list\n",
        "\n",
        "    def highlight_common_words(self, page_obj, common_words_coord_dict):\n",
        "        highlight_coords_dict = {}\n",
        "        highlighted_word_list = []\n",
        "\n",
        "        prev_common_word = \"\"\n",
        "        for common_word, common_word_coord in common_words_coord_dict.items():\n",
        "            highlight = page_obj.add_highlight_annot(common_word_coord)\n",
        "            highlight.update()\n",
        "            if prev_common_word.lower() != common_word.lower():\n",
        "                highlight_coords_dict[common_word] = common_word_coord\n",
        "                highlighted_word_list.append(common_word)\n",
        "                prev_common_word = common_word\n",
        "        return highlight_coords_dict, highlighted_word_list\n",
        "\n",
        "    def get_best_token_match(self, page_num, p_code, page_obj, code_y2_coord, match_threshold):\n",
        "        all_match_keyword_list = []\n",
        "        all_match_imp_keyword_list = []\n",
        "\n",
        "        # Step 1: reverse code pattern\n",
        "        reversed_icd_code = reverse_code_pattern(p_code)\n",
        "        # Step 2: fetch keyword based on code\n",
        "        keyword = get_keyword(reversed_icd_code, self.code_df)\n",
        "        # Step 3: get code paragraph\n",
        "        code_paragraph_list, non_code_paragraph_list = get_paragraph(page_obj, code_y2_coord)\n",
        "        # print(f\"code_paragraph_list: {non_code_paragraph_list}\")\n",
        "\n",
        "        # Step 4: prepare code_paragraph for common words\n",
        "        for code_paragraph in code_paragraph_list:\n",
        "            match_keyword_dict = {}\n",
        "            common_words = get_common_words(keyword, code_paragraph)\n",
        "            if len(common_words) > 0:\n",
        "                match_keyword_dict[\"common_words\"] = common_words\n",
        "                # Step 4: get best token match ratio\n",
        "                clean_paragraph = \" \".join(clean_text(code_paragraph))\n",
        "                match_keyword_dict[\"paragraph\"] = clean_paragraph\n",
        "                # match_score = fuzz.token_set_ratio(keyword, clean_paragraph)\n",
        "                # if fuzz.token_set_ratio(keyword, clean_paragraph) >= match_threshold else 0\n",
        "                match_keyword_dict[\"score\"] = fuzz.token_set_ratio(keyword, clean_paragraph)\n",
        "                # Step 5: build common words coordinate dict\n",
        "                common_words_coord_dict = {}\n",
        "                #print(f\"code_y2_coord: {code_y2_coord}\")\n",
        "                for common_word in common_words:\n",
        "                    highlight_list = page_obj.search_for(common_word)\n",
        "                    #print(f\"highlight_list: {highlight_list}\")\n",
        "                    found_coord = False\n",
        "                    for highlight in highlight_list:\n",
        "                        # get common word y2 coord value\n",
        "                        common_word_y2_coords = highlight[3]\n",
        "                        common_word_y1_coords = highlight[1]\n",
        "                        if (code_y2_coord - 2) <= common_word_y2_coords <= (code_y2_coord + 2):\n",
        "                          common_words_coord_dict[common_word] = highlight\n",
        "                          found_coord = True\n",
        "                        if not found_coord:\n",
        "                          if (code_y2_coord - 20) <= common_word_y2_coords <= (code_y2_coord + 20):\n",
        "                            common_words_coord_dict[common_word] = highlight\n",
        "                            # self.already_found_word_list.append(common_word)\n",
        "                match_keyword_dict[\"common_words_coords\"] = common_words_coord_dict\n",
        "                all_match_keyword_list.append(match_keyword_dict)\n",
        "\n",
        "        def get_keyword_impairment_list(p_paragraph):\n",
        "            keyword_impairments = []\n",
        "            for keyword_impairment in self.impairment_keyword_dict[page_num]:\n",
        "                keyword_impairment_found = get_common_words(keyword_impairment, p_paragraph)\n",
        "                if len(keyword_impairment_found) > 0:\n",
        "                    keyword_impairments.append(keyword_impairment)\n",
        "            return keyword_impairments\n",
        "\n",
        "        # Step 5: prepare non code_paragraph for common words\n",
        "        for non_code_paragraph in non_code_paragraph_list:\n",
        "            match_imp_keyword_dict = {}\n",
        "            imp_common_words_coord_dict = {}\n",
        "            keyword_impairment_list = get_keyword_impairment_list(non_code_paragraph)\n",
        "            for keyword_impairment in keyword_impairment_list:\n",
        "                highlight_list = page_obj.search_for(keyword_impairment)\n",
        "                highlight_list = [highlight for highlight in highlight_list if highlight[3] not in self.code_y2_coords_list]\n",
        "                if keyword_impairment not in self.already_found_word_list and len(highlight_list) > 0:\n",
        "                    self.already_found_word_list.append(keyword_impairment)\n",
        "                    imp_common_words_coord_dict[f\"{keyword_impairment}\"] = highlight_list\n",
        "                    continue\n",
        "            match_imp_keyword_dict[\"imp_common_keyword_coords\"] = imp_common_words_coord_dict\n",
        "            all_match_imp_keyword_list.append(match_imp_keyword_dict)\n",
        "\n",
        "        return all_match_keyword_list, all_match_imp_keyword_list\n",
        "\n",
        "    def get_best_all_token_match(self, page_num, p_code, page_obj, code_y2_coord, match_threshold):\n",
        "        all_match_keyword_list = []\n",
        "        all_match_imp_keyword_list = []\n",
        "\n",
        "        # Step 1: reverse code pattern\n",
        "        reversed_icd_code = reverse_code_pattern(p_code)\n",
        "        # Step 2: fetch keyword based on code\n",
        "        keyword = get_keyword(reversed_icd_code, self.code_df)\n",
        "        # Step 3: get all paragraph\n",
        "        all_paragraph_list = get_all_paragraph(page_obj)\n",
        "        # print(f\"code_paragraph_list: {non_code_paragraph_list}\")\n",
        "\n",
        "        def get_keyword_impairment_list(p_paragraph):\n",
        "          keyword_impairments = []\n",
        "          for keyword_impairment in self.impairment_keyword_dict[page_num]:\n",
        "              keyword_impairment_found = get_common_words(keyword_impairment, p_paragraph)\n",
        "              if len(keyword_impairment_found) > 0:\n",
        "                  keyword_impairments.append(keyword_impairment)\n",
        "          return keyword_impairments\n",
        "\n",
        "        # Step 4: prepare all_paragraph for common words and impairment\n",
        "        for all_paragraph in all_paragraph_list:\n",
        "          match_keyword_dict = {}\n",
        "          common_words = get_common_words(keyword, all_paragraph)\n",
        "          if len(common_words) > 0:\n",
        "              match_keyword_dict[\"common_words\"] = common_words\n",
        "              # Step 4: get best token match ratio\n",
        "              clean_paragraph = \" \".join(clean_text(all_paragraph))\n",
        "              match_keyword_dict[\"paragraph\"] = clean_paragraph\n",
        "              # match_score = fuzz.token_set_ratio(keyword, clean_paragraph)\n",
        "              # if fuzz.token_set_ratio(keyword, clean_paragraph) >= match_threshold else 0\n",
        "              match_keyword_dict[\"score\"] = fuzz.token_set_ratio(keyword, clean_paragraph)\n",
        "              # Step 5: build common words coordinate dict\n",
        "              common_words_coord_dict = {}\n",
        "              for common_word in common_words:\n",
        "                  highlight_list = page_obj.search_for(common_word)\n",
        "                  found_coord = False\n",
        "                  for highlight in highlight_list:\n",
        "                      # get common word y2 coord value\n",
        "                      common_word_y2_coords = highlight[3]\n",
        "                      if (code_y2_coord - 2) <= common_word_y2_coords <= (code_y2_coord + 2):\n",
        "                        common_words_coord_dict[common_word] = highlight\n",
        "                        found_coord = True\n",
        "                      if not found_coord:\n",
        "                        if (code_y2_coord - 20) <= common_word_y2_coords <= (code_y2_coord + 20):\n",
        "                          common_words_coord_dict[common_word] = highlight\n",
        "                          # self.already_found_word_list.append(common_word)\n",
        "              match_keyword_dict[\"common_words_coords\"] = common_words_coord_dict\n",
        "              all_match_keyword_list.append(match_keyword_dict)\n",
        "          else:\n",
        "            # Step 5: prepare non code_paragraph for common words\n",
        "            match_imp_keyword_dict = {}\n",
        "            imp_common_words_coord_dict = {}\n",
        "            keyword_impairment_list = get_keyword_impairment_list(all_paragraph)\n",
        "            for keyword_impairment in keyword_impairment_list:\n",
        "              #print(f\"keyword_impairment11: {keyword_impairment}\")\n",
        "              highlight_list = page_obj.search_for(keyword_impairment)\n",
        "              if keyword_impairment not in self.already_found_word_list and len(highlight_list) > 0:\n",
        "                self.already_found_word_list.append(keyword_impairment)\n",
        "                imp_common_words_coord_dict[f\"{keyword_impairment}\"] = highlight_list\n",
        "                #print(f\"keyword_impairment22: {keyword_impairment}, coords: {highlight_list}\")\n",
        "                #continue\n",
        "            match_imp_keyword_dict[\"imp_common_keyword_coords\"] = imp_common_words_coord_dict\n",
        "            all_match_imp_keyword_list.append(match_imp_keyword_dict)\n",
        "\n",
        "        return all_match_keyword_list, all_match_imp_keyword_list\n",
        "\n",
        "    def search_icd_code(self, txt_list):\n",
        "      pdf_page_vocab = {}\n",
        "      for txt_file in txt_list:\n",
        "        with open(txt_file, \"r\") as f:\n",
        "          page_txt = f.read()\n",
        "          # check the page that have line number instead of code\n",
        "          index_page = False\n",
        "          if re.search(\"(P[ ][0-9]+)(,\\s)(L[0-9]+)\", page_txt):\n",
        "            index_page = True\n",
        "\n",
        "          doc = self.nlp_code10(page_txt)\n",
        "          code_list = []\n",
        "          if index_page:\n",
        "            # check the code contain letter \"L\"\n",
        "            code_list = [ent.text for ent in doc.ents if not re.search(\"(L[0-9]+)\", ent.text)]\n",
        "          else:\n",
        "            code_list = [ent.text for ent in doc.ents]\n",
        "\n",
        "          if len(code_list) != 0:\n",
        "            # page_number = int(txt_file.split(\"/\")[1].split(\".\")[0].split(\"-\")[1])\n",
        "            page_number = int(txt_file.split(\"/\")[-1].split(\".\")[0].split(\"-\")[1])\n",
        "            pdf_page_vocab[page_number] = list(set(code_list))\n",
        "            # print(f\"Page[{txt_file.split('/')[1]}]: {code_list}\")\n",
        "      return pdf_page_vocab"
      ],
      "metadata": {
        "id": "jRYlndgDUtds"
      },
      "execution_count": 3,
      "outputs": []
    },
    {
      "cell_type": "markdown",
      "source": [
        "##PDF Highlighting"
      ],
      "metadata": {
        "id": "7s7ZxYMUBAol"
      }
    },
    {
      "cell_type": "code",
      "source": [
        "!mkdir -p /home/ocreng\n",
        "!mkdir -p /home/ocreng/ocrhigh\n",
        "!mkdir -p /home/ocreng/ocrhigh/input\n",
        "!mkdir -p /home/ocreng/ocrhigh/output\n",
        "!mkdir -p /home/ocreng/ocrhigh/processed\n",
        "!mkdir -p /home/ocreng/ocrhigh/pdf-files\n",
        "!mkdir -p /home/ocreng/ocrhigh/txt-files"
      ],
      "metadata": {
        "id": "ZWvB_40a8SNJ"
      },
      "execution_count": 4,
      "outputs": []
    },
    {
      "cell_type": "code",
      "source": [
        "def purge(file_path):\n",
        "  for f in glob.glob(file_path):\n",
        "    os.remove(f)"
      ],
      "metadata": {
        "id": "xQe5Xfp9AWLn"
      },
      "execution_count": 5,
      "outputs": []
    },
    {
      "cell_type": "code",
      "source": [
        "%%time\n",
        "# Step-0: create highlighter instance\n",
        "INPUT_PDF_FILES_PATH = cfg.file_path[\"INPUT_PATH\"]\n",
        "\n",
        "highlighter = Highlighter(match_threshold=35)\n",
        "sent_extractor = SentenceExtractor()\n",
        "generic_matcher = GenericMatcher()"
      ],
      "metadata": {
        "id": "MkoXzNA1AWu9",
        "colab": {
          "base_uri": "https://localhost:8080/"
        },
        "outputId": "90b7e7ad-0338-42e3-bbb8-f2628f897da1"
      },
      "execution_count": 6,
      "outputs": [
        {
          "output_type": "stream",
          "name": "stdout",
          "text": [
            "CPU times: user 1min 9s, sys: 7.53 s, total: 1min 17s\n",
            "Wall time: 1min 24s\n"
          ]
        }
      ]
    },
    {
      "cell_type": "markdown",
      "source": [
        "```log\n",
        "CPU times: user 1min 7s, sys: 6.54 s, total: 1min 14s\n",
        "Wall time: 1min 15s\n",
        "```"
      ],
      "metadata": {
        "id": "ftvHz73FCCke"
      }
    },
    {
      "cell_type": "markdown",
      "source": [
        "###Test"
      ],
      "metadata": {
        "id": "S-EA40XdAcCu"
      }
    },
    {
      "cell_type": "code",
      "source": [
        "!rm -rf /home/ocreng/ocrhigh/input\n",
        "!mkdir -p /home/ocreng/ocrhigh/input"
      ],
      "metadata": {
        "id": "wfJwndx9vcTP"
      },
      "execution_count": 34,
      "outputs": []
    },
    {
      "cell_type": "code",
      "source": [
        "!cp APS_38600000R_final.pdf /home/ocreng/ocrhigh/input"
      ],
      "metadata": {
        "id": "j6YcCHZ_9OMw"
      },
      "execution_count": 35,
      "outputs": []
    },
    {
      "cell_type": "code",
      "source": [
        "!rm -rf /home/ocreng/ocrhigh/output\n",
        "!mkdir -p /home/ocreng/ocrhigh/output\n",
        "!rm -rf output*.zip"
      ],
      "metadata": {
        "id": "3ArIraAD0zx3"
      },
      "execution_count": 36,
      "outputs": []
    },
    {
      "cell_type": "code",
      "source": [
        "output_type = 4"
      ],
      "metadata": {
        "id": "uyQTNjI_gXJJ"
      },
      "execution_count": 37,
      "outputs": []
    },
    {
      "cell_type": "code",
      "source": [
        "%%time\n",
        "txt_list = None\n",
        "icd10_code_dict1 = None\n",
        "wrong_keyword_dict = None\n",
        "for pdf_file in os.listdir(INPUT_PDF_FILES_PATH):\n",
        "  pdf_file_name = f\"{INPUT_PDF_FILES_PATH}/{pdf_file}\"\n",
        "\n",
        "  # Step-1: splitting pdf file\n",
        "  print(\"Step-1: Splitting pdf file............\")\n",
        "  pdf_list = split_pdf(highlighter.PDF_FILES_PATH, pdf_file_name)\n",
        "\n",
        "  # Step-2: Extracting text from pdf\n",
        "  print(\"Step-2: Extracting text from pdf............\")\n",
        "  txt_list = extract_text_from_pdf(highlighter.PDF_FILES_PATH, highlighter.TXT_FILES_PATH, pdf_list)\n",
        "  highlighter.set_text_list(txt_list)\n",
        "\n",
        "  # Step-3: Searching ICD-10 code\n",
        "  print(\"Step-3: Searching ICD-10 code into text file..........\")\n",
        "  icd10_code_dict = highlighter.search_icd_code(txt_list)\n",
        "  icd10_code_dict1 = icd10_code_dict\n",
        "\n",
        "  # Step-4: Get closet match of keyword impairment\n",
        "  print(\"Step-4: Get closet match of keyword impairment..........\")\n",
        "  matched_keyword_dict = sent_extractor.get_matched_keyword_dict(txt_list)\n",
        "  highlighter.set_impairment_keyword_dict(matched_keyword_dict)\n",
        "  wrong_keyword_dict = matched_keyword_dict\n",
        "\n",
        "  # Step-5: Get date time list from text file\n",
        "  print(\"Step-5: Get date time list from text file..........\")\n",
        "  matched_date_dict = generic_matcher.get_match_date_dict(txt_list)\n",
        "  highlighter.set_page_matched_date_dict(matched_date_dict)\n",
        "\n",
        "  if output_type == 1:\n",
        "    # Step-6: Highlighting ICD-10 code, its description and keyword impairment into PDF file\n",
        "    print(\"Step-6: Highlighting ICD-10 code, its description and keyword impairment into PDF file............\")\n",
        "    pdf_output_file, json_code_output_file = highlighter.highlight_all(icd10_code_dict, pdf_file_name=pdf_file_name)\n",
        "    print(f\"File[{pdf_output_file}] is saved after highlighting ICD-10 code\")\n",
        "    print(f\"Highlighted code and impairment coordinates are saved into [{json_code_output_file}] file.\")\n",
        "  elif output_type == 2:\n",
        "    # Step-7: Highlighting ICD-10 code, its description and all keyword impairment into pdf\n",
        "    print(\"Step-7: Highlighting ICD-10 code, its description and all keyword impairment into pdf............\")\n",
        "    pdf_output_file, json_code_output_file = highlighter.highlight_all(icd10_code_dict, pdf_file_name=pdf_file_name, highlight_all=True)\n",
        "    print(f\"File[{pdf_output_file}] is saved after highlighting ICD-10 code\")\n",
        "    print(f\"Highlighted code and impairment coordinates are saved into [{json_code_output_file}] file.\")\n",
        "  elif output_type == 3:\n",
        "    # Step-8: Highlighting ICD-10 code and its description into pdf\n",
        "    print(\"Step-8: Highlighting ICD-10 code and its description into pdf............\")\n",
        "    pdf_output_file, json_output_file = highlighter.highlight_icd_code_and_common_words(icd10_code_dict, pdf_file_name=pdf_file_name)\n",
        "    print(f\"File[{pdf_output_file}] is saved after highlighting ICD-10 code\")\n",
        "    print(f\"Highlighted coordinates are saved into [{json_output_file}] file.\")\n",
        "  elif output_type == 4:\n",
        "    # Step-9: Highlighting ICD-10 code and all keyword impairment into pdf\n",
        "    print(\"Step-9: Highlighting ICD-10 code and all keyword impairment into pdf............\")\n",
        "    pdf_output_file, json_code_output_file = highlighter.highlight_icd_code_and_keyword_impairment(icd10_code_dict, pdf_file_name=pdf_file_name)\n",
        "    print(f\"File[{pdf_output_file}] is saved after highlighting ICD-10 code and all keyword impairment \")\n",
        "    print(f\"Highlighted code and impairment coordinates are saved into [{json_code_output_file}] file.\")\n",
        "  elif output_type == 5:\n",
        "    # Step-10: Highlighting keyword impairment into pdf\n",
        "    print(\"Step-10: Highlighting keyword impairment into pdf............\")\n",
        "    pdf_output_file, json_output_file = highlighter.highlight_keyword_impairment(pdf_file_name=pdf_file_name)\n",
        "    print(f\"File[{pdf_output_file}] is saved after highlighting keyword impairment.\")\n",
        "    print(f\"Highlighted coordinates are saved into [{json_output_file}] file.\")\n",
        "  else:\n",
        "    print(\"Please pass value 1, 2 and 3 for output type.\")\n",
        "\n",
        "  # Step-11: Clean up: move the current file into processed folder\n",
        "  if output_type in [1, 2, 3, 4, 5]:\n",
        "    if Path(f\"{cfg.file_path['PROCESSED_PATH']}/{pdf_file}\").exists():\n",
        "      # take backup of existing file\n",
        "      shutil.move(f\"{cfg.file_path['PROCESSED_PATH']}/{pdf_file}\", f\"{cfg.file_path['PROCESSED_PATH']}/{pdf_file}_bkp\")\n",
        "      # then move it\n",
        "      shutil.move(pdf_file_name, cfg.file_path[\"PROCESSED_PATH\"])\n",
        "    else:\n",
        "      shutil.move(pdf_file_name, cfg.file_path[\"PROCESSED_PATH\"])\n",
        "\n",
        "  # remove all pdf and text files\n",
        "  purge(f\"{cfg.file_path['TMP_PDF_FILES_PATH']}/*.pdf\")\n",
        "  purge(f\"{cfg.file_path['TMP_TXT_FILES_PATH']}/*.txt\")\n",
        "  pdf_list = []\n",
        "  txt_list = []"
      ],
      "metadata": {
        "id": "hiOT-aTfedMT",
        "colab": {
          "base_uri": "https://localhost:8080/"
        },
        "outputId": "e1b15818-e2b7-4f29-ca5e-a407bb2a801c"
      },
      "execution_count": 38,
      "outputs": [
        {
          "output_type": "stream",
          "name": "stdout",
          "text": [
            "Step-1: Splitting pdf file............\n",
            "Step-2: Extracting text from pdf............\n",
            "Step-3: Searching ICD-10 code into text file..........\n",
            "Step-4: Get closet match of keyword impairment..........\n",
            "Step-5: Get date time list from text file..........\n",
            "Step-9: Highlighting ICD-10 code and all keyword impairment into pdf............\n",
            "Page-1-A267, Coordinate: [Rect(229.89797973632812, 353.3199462890625, 248.7770233154297, 364.3253173828125), Rect(161.2646026611328, 369.1599426269531, 181.80755615234375, 380.1653137207031)]\n",
            "code_highlight_dict: {'A267': [Rect(229.89797973632812, 353.3199462890625, 248.7770233154297, 364.3253173828125), Rect(161.2646026611328, 369.1599426269531, 181.80755615234375, 380.1653137207031)]}\n",
            "code-A267, Coordinate: [Rect(229.89797973632812, 353.3199462890625, 248.7770233154297, 364.3253173828125), Rect(161.2646026611328, 369.1599426269531, 181.80755615234375, 380.1653137207031)]\n",
            "num_page: 1\n",
            "num_page: 2\n",
            "num_page: 3\n",
            "num_page: 4\n",
            "num_page: 5\n",
            "num_page: 6\n",
            "num_page: 7\n",
            "Page-8-R05.9, Coordinate: [Rect(135.0170440673828, 307.5999450683594, 152.56533813476562, 315.6038513183594)]\n",
            "Page-8-Z20.822, Coordinate: [Rect(311.13006591796875, 114.6400146484375, 337.1675720214844, 122.6439208984375)]\n",
            "Page-8-E78.3, Coordinate: [Rect(226.35824584960938, 520.47998046875, 243.45660400390625, 528.48388671875)]\n",
            "code_highlight_dict: {'R05.9': [Rect(135.0170440673828, 307.5999450683594, 152.56533813476562, 315.6038513183594)], 'Z20.822': [Rect(311.13006591796875, 114.6400146484375, 337.1675720214844, 122.6439208984375)], 'E78.3': [Rect(226.35824584960938, 520.47998046875, 243.45660400390625, 528.48388671875)]}\n",
            "code-R05.9, Coordinate: [Rect(135.0170440673828, 307.5999450683594, 152.56533813476562, 315.6038513183594)]\n",
            "code-Z20.822, Coordinate: [Rect(311.13006591796875, 114.6400146484375, 337.1675720214844, 122.6439208984375)]\n",
            "code-E78.3, Coordinate: [Rect(226.35824584960938, 520.47998046875, 243.45660400390625, 528.48388671875)]\n",
            "num_page: 8\n",
            "Page-9-E78.3, Coordinate: [Rect(226.3582305908203, 610.0399780273438, 243.45651245117188, 617.0433959960938)]\n",
            "code_highlight_dict: {'E78.3': [Rect(226.3582305908203, 610.0399780273438, 243.45651245117188, 617.0433959960938)]}\n",
            "code-E78.3, Coordinate: [Rect(226.3582305908203, 610.0399780273438, 243.45651245117188, 617.0433959960938)]\n",
            "num_page: 9\n",
            "Page-10-E78.3, Coordinate: [Rect(226.35824584960938, 492.6400146484375, 243.45660400390625, 500.6439208984375)]\n",
            "code_highlight_dict: {'E78.3': [Rect(226.35824584960938, 492.6400146484375, 243.45660400390625, 500.6439208984375)]}\n",
            "code-E78.3, Coordinate: [Rect(226.35824584960938, 492.6400146484375, 243.45660400390625, 500.6439208984375)]\n",
            "num_page: 10\n",
            "Page-11-R05.9, Coordinate: [Rect(135.01699829101562, 426.8800048828125, 152.56529235839844, 434.8839111328125)]\n",
            "Page-11-200.00, Coordinate: [Rect(344.1510009765625, 599.4400024414062, 364.45306396484375, 607.4439086914062)]\n",
            "Page-11-Z12.5, Coordinate: [Rect(127.9977035522461, 609.760009765625, 145.24603271484375, 617.763916015625)]\n",
            "code_highlight_dict: {'R05.9': [Rect(135.01699829101562, 426.8800048828125, 152.56529235839844, 434.8839111328125)], '200.00': [Rect(344.1510009765625, 599.4400024414062, 364.45306396484375, 607.4439086914062)], 'Z12.5': [Rect(127.9977035522461, 609.760009765625, 145.24603271484375, 617.763916015625)]}\n",
            "code-R05.9, Coordinate: [Rect(135.01699829101562, 426.8800048828125, 152.56529235839844, 434.8839111328125)]\n",
            "code-200.00, Coordinate: [Rect(344.1510009765625, 599.4400024414062, 364.45306396484375, 607.4439086914062)]\n",
            "code-Z12.5, Coordinate: [Rect(127.9977035522461, 609.760009765625, 145.24603271484375, 617.763916015625)]\n",
            "num_page: 11\n",
            "Page-12-Z00.00, Coordinate: [Rect(344.9269104003906, 74.320068359375, 365.5649108886719, 82.323974609375), Rect(344.9268798828125, 237.0400390625, 365.56488037109375, 245.0439453125), Rect(343.8603820800781, 409.8399658203125, 365.29852294921875, 417.8438720703125), Rect(343.8603210449219, 572.5599975585938, 365.2984619140625, 580.5639038085938)]\n",
            "code_highlight_dict: {'Z00.00': [Rect(344.9269104003906, 74.320068359375, 365.5649108886719, 82.323974609375), Rect(344.9268798828125, 237.0400390625, 365.56488037109375, 245.0439453125), Rect(343.8603820800781, 409.8399658203125, 365.29852294921875, 417.8438720703125), Rect(343.8603210449219, 572.5599975585938, 365.2984619140625, 580.5639038085938)]}\n",
            "code-Z00.00, Coordinate: [Rect(344.9269104003906, 74.320068359375, 365.5649108886719, 82.323974609375), Rect(344.9268798828125, 237.0400390625, 365.56488037109375, 245.0439453125), Rect(343.8603820800781, 409.8399658203125, 365.29852294921875, 417.8438720703125), Rect(343.8603210449219, 572.5599975585938, 365.2984619140625, 580.5639038085938)]\n",
            "num_page: 12\n",
            "num_page: 13\n",
            "Page-14-C02, Coordinate: [Rect(129.1076202392578, 112.64007568359375, 139.90660095214844, 122.64495849609375)]\n",
            "code_highlight_dict: {'C02': [Rect(129.1076202392578, 112.64007568359375, 139.90660095214844, 122.64495849609375)]}\n",
            "code-C02, Coordinate: [Rect(129.1076202392578, 112.64007568359375, 139.90660095214844, 122.64495849609375)]\n",
            "num_page: 14\n",
            "num_page: 15\n",
            "Page-16-Z00.00, Coordinate: [Rect(340.9806213378906, 344.5599670410156, 362.41876220703125, 352.5638732910156)]\n",
            "code_highlight_dict: {'Z00.00': [Rect(340.9806213378906, 344.5599670410156, 362.41876220703125, 352.5638732910156)]}\n",
            "code-Z00.00, Coordinate: [Rect(340.9806213378906, 344.5599670410156, 362.41876220703125, 352.5638732910156)]\n",
            "num_page: 16\n",
            "num_page: 17\n",
            "num_page: 18\n",
            "Page-19-R10.32, Coordinate: [Rect(204.4337158203125, 689.6400146484375, 225.87184143066406, 698.6444091796875)]\n",
            "code_highlight_dict: {'R10.32': [Rect(204.4337158203125, 689.6400146484375, 225.87184143066406, 698.6444091796875)]}\n",
            "code-R10.32, Coordinate: [Rect(204.4337158203125, 689.6400146484375, 225.87184143066406, 698.6444091796875)]\n",
            "num_page: 19\n",
            "num_page: 20\n",
            "num_page: 21\n",
            "Page-22-Z00.00, Coordinate: [Rect(309.3782653808594, 324.6399841308594, 329.82427978515625, 332.6438903808594), Rect(312.761962890625, 435.0400085449219, 333.3520202636719, 443.0439147949219)]\n",
            "Page-22-R05, Coordinate: [Rect(400.841552734375, 162.6400146484375, 411.1605529785156, 170.6439208984375), Rect(285.6754150390625, 188.32000732421875, 295.3431091308594, 196.32391357421875), Rect(103.75003814697266, 248.08001708984375, 114.06904602050781, 256.08392333984375)]\n",
            "Page-22-Z78.9, Coordinate: [Rect(199.7208251953125, 196.47998046875, 216.81918334960938, 204.48388671875), Rect(197.50103759765625, 400.9599914550781, 214.29942321777344, 408.9638977050781), Rect(365.6715087890625, 460.9599914550781, 382.2031555175781, 468.9638977050781), Rect(260.1349792480469, 554.7999877929688, 276.9333190917969, 562.8038940429688), Rect(310.86016845703125, 588.8800048828125, 328.1085510253906, 596.8839111328125), Rect(338.2874755859375, 640.0, 354.6859130859375, 648.00390625)]\n",
            "Page-22-Z68.25, Coordinate: [Rect(454.49237060546875, 103.1199951171875, 474.5064392089844, 111.1239013671875), Rect(521.5899047851562, 400.9599914550781, 542.4678344726562, 408.9638977050781), Rect(103.02224731445312, 562.9600219726562, 123.61276245117188, 570.9639282226562), Rect(103.02202606201172, 647.6400146484375, 123.61186218261719, 656.6444091796875)]\n",
            "Page-22-L73.9, Coordinate: [Rect(116.20220947265625, 400.9599914550781, 132.06748962402344, 408.9638977050781)]\n",
            "Page-22-R53.83, Coordinate: [Rect(343.0710144042969, 188.32000732421875, 364.0929870605469, 196.32391357421875)]\n",
            "Page-22-M54.5, Coordinate: [Rect(254.88217163085938, 640.0, 271.8136901855469, 648.00390625)]\n",
            "Page-22-212.5, Coordinate: [Rect(465.8252258300781, 435.0400085449219, 482.7736511230469, 443.0439147949219)]\n",
            "Page-22-K46.9, Coordinate: [Rect(321.94244384765625, 554.7999877929688, 338.2076721191406, 562.8038940429688)]\n",
            "Page-22-R03, Coordinate: [Rect(31.517051696777344, 135.96002197265625, 41.116249084472656, 144.96441650390625)]\n",
            "Page-22-D69.6, Coordinate: [Rect(282.7194519042969, 460.9599914550781, 299.6510009765625, 468.9638977050781)]\n",
            "Page-22-E78.3, Coordinate: [Rect(286.745849609375, 128.55999755859375, 303.4111022949219, 136.56390380859375), Rect(194.2013397216797, 222.4000244140625, 211.29969787597656, 230.4039306640625), Rect(380.8734130859375, 273.5199890136719, 397.8218688964844, 281.5238952636719), Rect(465.8253173828125, 324.6399841308594, 482.77374267578125, 332.6438903808594), Rect(194.5679473876953, 495.0400085449219, 211.0995635986328, 503.0439147949219)]\n",
            "Page-22-278.9, Coordinate: [Rect(540.9680786132812, 103.1199951171875, 558.0663452148438, 111.1239013671875)]\n",
            "Page-22-268.25, Coordinate: [Rect(113.31713104248047, 196.47998046875, 133.76315307617188, 204.48388671875), Rect(137.31488037109375, 469.6000061035156, 157.7609405517578, 477.6039123535156), Rect(518.2542724609375, 495.0400085449219, 539.2763671875, 503.0439147949219), Rect(379.8569030761719, 529.1199951171875, 401.2950134277344, 537.1239013671875)]\n",
            "Page-22-R50.9, Coordinate: [Rect(100.55033874511719, 350.0799865722656, 117.3487319946289, 358.0838928222656), Rect(100.64032745361328, 375.5199890136719, 117.88866424560547, 383.5238952636719)]\n",
            "Page-22-R10.32, Coordinate: [Rect(172.39942932128906, 554.7999877929688, 193.13340759277344, 562.8038940429688)]\n",
            "Page-22-J01.00, Coordinate: [Rect(224.81040954589844, 273.5199890136719, 244.68048095703125, 281.5238952636719), Rect(170.98358154296875, 529.1199951171875, 190.42173767089844, 537.1239013671875), Rect(224.81040954589844, 588.8800048828125, 244.68048095703125, 596.8839111328125)]\n",
            "Page-22-S93.411A, Coordinate: [Rect(328.74658203125, 614.5599975585938, 359.2887878417969, 622.5639038085938)]\n",
            "Page-22-287.5, Coordinate: [Rect(251.34584045410156, 460.9599914550781, 268.59423828125, 468.9638977050781)]\n",
            "code_highlight_dict: {'Z00.00': [Rect(309.3782653808594, 324.6399841308594, 329.82427978515625, 332.6438903808594), Rect(312.761962890625, 435.0400085449219, 333.3520202636719, 443.0439147949219)], 'R05': [Rect(400.841552734375, 162.6400146484375, 411.1605529785156, 170.6439208984375), Rect(285.6754150390625, 188.32000732421875, 295.3431091308594, 196.32391357421875), Rect(103.75003814697266, 248.08001708984375, 114.06904602050781, 256.08392333984375)], 'Z78.9': [Rect(199.7208251953125, 196.47998046875, 216.81918334960938, 204.48388671875), Rect(197.50103759765625, 400.9599914550781, 214.29942321777344, 408.9638977050781), Rect(365.6715087890625, 460.9599914550781, 382.2031555175781, 468.9638977050781), Rect(260.1349792480469, 554.7999877929688, 276.9333190917969, 562.8038940429688), Rect(310.86016845703125, 588.8800048828125, 328.1085510253906, 596.8839111328125), Rect(338.2874755859375, 640.0, 354.6859130859375, 648.00390625)], 'Z68.25': [Rect(454.49237060546875, 103.1199951171875, 474.5064392089844, 111.1239013671875), Rect(521.5899047851562, 400.9599914550781, 542.4678344726562, 408.9638977050781), Rect(103.02224731445312, 562.9600219726562, 123.61276245117188, 570.9639282226562), Rect(103.02202606201172, 647.6400146484375, 123.61186218261719, 656.6444091796875)], 'L73.9': [Rect(116.20220947265625, 400.9599914550781, 132.06748962402344, 408.9638977050781)], 'R53.83': [Rect(343.0710144042969, 188.32000732421875, 364.0929870605469, 196.32391357421875)], 'M54.5': [Rect(254.88217163085938, 640.0, 271.8136901855469, 648.00390625)], '212.5': [Rect(465.8252258300781, 435.0400085449219, 482.7736511230469, 443.0439147949219)], 'K46.9': [Rect(321.94244384765625, 554.7999877929688, 338.2076721191406, 562.8038940429688)], 'R03': [Rect(31.517051696777344, 135.96002197265625, 41.116249084472656, 144.96441650390625)], 'D69.6': [Rect(282.7194519042969, 460.9599914550781, 299.6510009765625, 468.9638977050781)], 'E78.3': [Rect(286.745849609375, 128.55999755859375, 303.4111022949219, 136.56390380859375), Rect(194.2013397216797, 222.4000244140625, 211.29969787597656, 230.4039306640625), Rect(380.8734130859375, 273.5199890136719, 397.8218688964844, 281.5238952636719), Rect(465.8253173828125, 324.6399841308594, 482.77374267578125, 332.6438903808594), Rect(194.5679473876953, 495.0400085449219, 211.0995635986328, 503.0439147949219)], '278.9': [Rect(540.9680786132812, 103.1199951171875, 558.0663452148438, 111.1239013671875)], '268.25': [Rect(113.31713104248047, 196.47998046875, 133.76315307617188, 204.48388671875), Rect(137.31488037109375, 469.6000061035156, 157.7609405517578, 477.6039123535156), Rect(518.2542724609375, 495.0400085449219, 539.2763671875, 503.0439147949219), Rect(379.8569030761719, 529.1199951171875, 401.2950134277344, 537.1239013671875)], 'R50.9': [Rect(100.55033874511719, 350.0799865722656, 117.3487319946289, 358.0838928222656), Rect(100.64032745361328, 375.5199890136719, 117.88866424560547, 383.5238952636719)], 'R10.32': [Rect(172.39942932128906, 554.7999877929688, 193.13340759277344, 562.8038940429688)], 'J01.00': [Rect(224.81040954589844, 273.5199890136719, 244.68048095703125, 281.5238952636719), Rect(170.98358154296875, 529.1199951171875, 190.42173767089844, 537.1239013671875), Rect(224.81040954589844, 588.8800048828125, 244.68048095703125, 596.8839111328125)], 'S93.411A': [Rect(328.74658203125, 614.5599975585938, 359.2887878417969, 622.5639038085938)], '287.5': [Rect(251.34584045410156, 460.9599914550781, 268.59423828125, 468.9638977050781)]}\n",
            "code-Z00.00, Coordinate: [Rect(309.3782653808594, 324.6399841308594, 329.82427978515625, 332.6438903808594), Rect(312.761962890625, 435.0400085449219, 333.3520202636719, 443.0439147949219)]\n",
            "code-R05, Coordinate: [Rect(400.841552734375, 162.6400146484375, 411.1605529785156, 170.6439208984375), Rect(285.6754150390625, 188.32000732421875, 295.3431091308594, 196.32391357421875), Rect(103.75003814697266, 248.08001708984375, 114.06904602050781, 256.08392333984375)]\n",
            "code-Z78.9, Coordinate: [Rect(199.7208251953125, 196.47998046875, 216.81918334960938, 204.48388671875), Rect(197.50103759765625, 400.9599914550781, 214.29942321777344, 408.9638977050781), Rect(365.6715087890625, 460.9599914550781, 382.2031555175781, 468.9638977050781), Rect(260.1349792480469, 554.7999877929688, 276.9333190917969, 562.8038940429688), Rect(310.86016845703125, 588.8800048828125, 328.1085510253906, 596.8839111328125), Rect(338.2874755859375, 640.0, 354.6859130859375, 648.00390625)]\n",
            "code-Z68.25, Coordinate: [Rect(454.49237060546875, 103.1199951171875, 474.5064392089844, 111.1239013671875), Rect(521.5899047851562, 400.9599914550781, 542.4678344726562, 408.9638977050781), Rect(103.02224731445312, 562.9600219726562, 123.61276245117188, 570.9639282226562), Rect(103.02202606201172, 647.6400146484375, 123.61186218261719, 656.6444091796875)]\n",
            "code-L73.9, Coordinate: [Rect(116.20220947265625, 400.9599914550781, 132.06748962402344, 408.9638977050781)]\n",
            "code-R53.83, Coordinate: [Rect(343.0710144042969, 188.32000732421875, 364.0929870605469, 196.32391357421875)]\n",
            "code-M54.5, Coordinate: [Rect(254.88217163085938, 640.0, 271.8136901855469, 648.00390625)]\n",
            "code-212.5, Coordinate: [Rect(465.8252258300781, 435.0400085449219, 482.7736511230469, 443.0439147949219)]\n",
            "code-K46.9, Coordinate: [Rect(321.94244384765625, 554.7999877929688, 338.2076721191406, 562.8038940429688)]\n",
            "code-R03, Coordinate: [Rect(31.517051696777344, 135.96002197265625, 41.116249084472656, 144.96441650390625)]\n",
            "code-D69.6, Coordinate: [Rect(282.7194519042969, 460.9599914550781, 299.6510009765625, 468.9638977050781)]\n",
            "code-E78.3, Coordinate: [Rect(286.745849609375, 128.55999755859375, 303.4111022949219, 136.56390380859375), Rect(194.2013397216797, 222.4000244140625, 211.29969787597656, 230.4039306640625), Rect(380.8734130859375, 273.5199890136719, 397.8218688964844, 281.5238952636719), Rect(465.8253173828125, 324.6399841308594, 482.77374267578125, 332.6438903808594), Rect(194.5679473876953, 495.0400085449219, 211.0995635986328, 503.0439147949219)]\n",
            "code-278.9, Coordinate: [Rect(540.9680786132812, 103.1199951171875, 558.0663452148438, 111.1239013671875)]\n",
            "code-268.25, Coordinate: [Rect(113.31713104248047, 196.47998046875, 133.76315307617188, 204.48388671875), Rect(137.31488037109375, 469.6000061035156, 157.7609405517578, 477.6039123535156), Rect(518.2542724609375, 495.0400085449219, 539.2763671875, 503.0439147949219), Rect(379.8569030761719, 529.1199951171875, 401.2950134277344, 537.1239013671875)]\n",
            "code-R50.9, Coordinate: [Rect(100.55033874511719, 350.0799865722656, 117.3487319946289, 358.0838928222656), Rect(100.64032745361328, 375.5199890136719, 117.88866424560547, 383.5238952636719)]\n",
            "code-R10.32, Coordinate: [Rect(172.39942932128906, 554.7999877929688, 193.13340759277344, 562.8038940429688)]\n",
            "code-J01.00, Coordinate: [Rect(224.81040954589844, 273.5199890136719, 244.68048095703125, 281.5238952636719), Rect(224.81040954589844, 588.8800048828125, 244.68048095703125, 596.8839111328125), Rect(170.98358154296875, 529.1199951171875, 190.42173767089844, 537.1239013671875)]\n",
            "code-S93.411A, Coordinate: [Rect(328.74658203125, 614.5599975585938, 359.2887878417969, 622.5639038085938)]\n",
            "code-287.5, Coordinate: [Rect(251.34584045410156, 460.9599914550781, 268.59423828125, 468.9638977050781)]\n",
            "num_page: 22\n",
            "Page-23-220.822, Coordinate: [Rect(281.5649719238281, 276.6400146484375, 307.2665100097656, 284.6439208984375)]\n",
            "Page-23-Z20.822, Coordinate: [Rect(235.48939514160156, 164.79998779296875, 261.1909484863281, 172.80389404296875)]\n",
            "code_highlight_dict: {'220.822': [Rect(281.5649719238281, 276.6400146484375, 307.2665100097656, 284.6439208984375)], 'Z20.822': [Rect(235.48939514160156, 164.79998779296875, 261.1909484863281, 172.80389404296875)]}\n",
            "code-220.822, Coordinate: [Rect(281.5649719238281, 276.6400146484375, 307.2665100097656, 284.6439208984375)]\n",
            "code-Z20.822, Coordinate: [Rect(235.48939514160156, 164.79998779296875, 261.1909484863281, 172.80389404296875)]\n",
            "num_page: 23\n",
            "Page-24-278.9, Coordinate: [Rect(131.68734741210938, 64.0, 150.5855255126953, 72.00390625)]\n",
            "Page-24-R03.0, Coordinate: [Rect(287.4623718261719, 223.84002685546875, 305.3106994628906, 231.84393310546875)]\n",
            "Page-24-E78.3, Coordinate: [Rect(149.98558044433594, 215.44000244140625, 166.78396606445312, 223.44390869140625)]\n",
            "code_highlight_dict: {'278.9': [Rect(131.68734741210938, 64.0, 150.5855255126953, 72.00390625)], 'R03.0': [Rect(287.4623718261719, 223.84002685546875, 305.3106994628906, 231.84393310546875)], 'E78.3': [Rect(149.98558044433594, 215.44000244140625, 166.78396606445312, 223.44390869140625)]}\n",
            "code-278.9, Coordinate: [Rect(131.68734741210938, 64.0, 150.5855255126953, 72.00390625)]\n",
            "code-R03.0, Coordinate: [Rect(287.4623718261719, 223.84002685546875, 305.3106994628906, 231.84393310546875)]\n",
            "code-E78.3, Coordinate: [Rect(149.98558044433594, 215.44000244140625, 166.78396606445312, 223.44390869140625)]\n",
            "num_page: 24\n",
            "Page-25-Z68.25, Coordinate: [Rect(204.43373107910156, 164.08001708984375, 225.87185668945312, 172.08392333984375)]\n",
            "Page-25-278.9, Coordinate: [Rect(80.9322280883789, 220.0, 98.03057861328125, 228.00390625)]\n",
            "Page-25-Z20.822, Coordinate: [Rect(235.48936462402344, 40.0, 261.19091796875, 48.00390625)]\n",
            "code_highlight_dict: {'Z68.25': [Rect(204.43373107910156, 164.08001708984375, 225.87185668945312, 172.08392333984375)], '278.9': [Rect(80.9322280883789, 220.0, 98.03057861328125, 228.00390625)], 'Z20.822': [Rect(235.48936462402344, 40.0, 261.19091796875, 48.00390625)]}\n",
            "code-Z68.25, Coordinate: [Rect(204.43373107910156, 164.08001708984375, 225.87185668945312, 172.08392333984375)]\n",
            "code-278.9, Coordinate: [Rect(80.9322280883789, 220.0, 98.03057861328125, 228.00390625)]\n",
            "code-Z20.822, Coordinate: [Rect(235.48936462402344, 40.0, 261.19091796875, 48.00390625)]\n",
            "num_page: 25\n",
            "Page-26-E78. 3, Coordinate: [Rect(149.62564086914062, 221.4400634765625, 164.62420654296875, 229.4439697265625), Rect(166.78399658203125, 221.4400634765625, 169.02378845214844, 229.4439697265625)]\n",
            "Page-26-R03.0, Coordinate: [Rect(183.37237548828125, 70.47998046875, 202.7205047607422, 78.48388671875), Rect(287.46240234375, 213.0400390625, 305.31072998046875, 221.0439453125)]\n",
            "Page-26-E78.3, Coordinate: [Rect(384.09649658203125, 61.5999755859375, 402.76153564453125, 69.6038818359375)]\n",
            "code_highlight_dict: {'E78. 3': [Rect(149.62564086914062, 221.4400634765625, 164.62420654296875, 229.4439697265625), Rect(166.78399658203125, 221.4400634765625, 169.02378845214844, 229.4439697265625)], 'R03.0': [Rect(183.37237548828125, 70.47998046875, 202.7205047607422, 78.48388671875), Rect(287.46240234375, 213.0400390625, 305.31072998046875, 221.0439453125)], 'E78.3': [Rect(384.09649658203125, 61.5999755859375, 402.76153564453125, 69.6038818359375)]}\n",
            "code-E78. 3, Coordinate: [Rect(149.62564086914062, 221.4400634765625, 164.62420654296875, 229.4439697265625), Rect(166.78399658203125, 221.4400634765625, 169.02378845214844, 229.4439697265625)]\n",
            "code-R03.0, Coordinate: [Rect(183.37237548828125, 70.47998046875, 202.7205047607422, 78.48388671875), Rect(287.46240234375, 213.0400390625, 305.31072998046875, 221.0439453125)]\n",
            "code-E78.3, Coordinate: [Rect(384.09649658203125, 61.5999755859375, 402.76153564453125, 69.6038818359375)]\n",
            "num_page: 26\n",
            "Page-27-J01.10, Coordinate: [Rect(122.4682388305664, 223.8399658203125, 143.10626220703125, 231.8438720703125)]\n",
            "Page-27-R03.0, Coordinate: [Rect(288.3623046875, 426.8800048828125, 305.91064453125, 434.8839111328125)]\n",
            "Page-27-E78.3, Coordinate: [Rect(150.7355194091797, 382.0, 167.68389892578125, 390.00390625)]\n",
            "code_highlight_dict: {'J01.10': [Rect(122.4682388305664, 223.8399658203125, 143.10626220703125, 231.8438720703125)], 'R03.0': [Rect(288.3623046875, 426.8800048828125, 305.91064453125, 434.8839111328125)], 'E78.3': [Rect(150.7355194091797, 382.0, 167.68389892578125, 390.00390625)]}\n",
            "code-J01.10, Coordinate: [Rect(122.4682388305664, 223.8399658203125, 143.10626220703125, 231.8438720703125)]\n",
            "code-R03.0, Coordinate: [Rect(288.3623046875, 426.8800048828125, 305.91064453125, 434.8839111328125)]\n",
            "code-E78.3, Coordinate: [Rect(150.7355194091797, 382.0, 167.68389892578125, 390.00390625)]\n",
            "num_page: 27\n",
            "Page-28-R05.9, Coordinate: [Rect(105.37989044189453, 293.44000244140625, 122.32825469970703, 301.44390869140625)]\n",
            "Page-28-R05, Coordinate: [Rect(512.4308471679688, 54.60003662109375, 524.1898193359375, 63.60443115234375), Rect(59.274314880371094, 182.08001708984375, 69.35334777832031, 190.08392333984375), Rect(105.37989044189453, 293.44000244140625, 115.54890441894531, 301.44390869140625)]\n",
            "code_highlight_dict: {'R05.9': [Rect(105.37989044189453, 293.44000244140625, 122.32825469970703, 301.44390869140625)], 'R05': [Rect(512.4308471679688, 54.60003662109375, 524.1898193359375, 63.60443115234375), Rect(59.274314880371094, 182.08001708984375, 69.35334777832031, 190.08392333984375), Rect(105.37989044189453, 293.44000244140625, 115.54890441894531, 301.44390869140625)]}\n",
            "code-R05.9, Coordinate: [Rect(105.37989044189453, 293.44000244140625, 122.32825469970703, 301.44390869140625)]\n",
            "code-R05, Coordinate: [Rect(512.4308471679688, 54.60003662109375, 524.1898193359375, 63.60443115234375), Rect(59.274314880371094, 182.08001708984375, 69.35334777832031, 190.08392333984375)]\n",
            "num_page: 28\n",
            "Page-29-R53.83, Coordinate: [Rect(447.8690185546875, 54.60003662109375, 471.3388671875, 63.60443115234375)]\n",
            "Page-29-R03.0, Coordinate: [Rect(287.4623718261719, 223.8399658203125, 305.3106994628906, 231.8438720703125)]\n",
            "Page-29-278.9, Coordinate: [Rect(360.775390625, 64.00006103515625, 380.4234619140625, 72.00396728515625)]\n",
            "Page-29-E78. 3, Coordinate: [Rect(151.10546875, 232.47998046875, 173.5032958984375, 240.48388671875)]\n",
            "Page-29-268.25, Coordinate: [Rect(261.45489501953125, 64.00006103515625, 285.21258544921875, 72.00396728515625)]\n",
            "code_highlight_dict: {'R53.83': [Rect(447.8690185546875, 54.60003662109375, 471.3388671875, 63.60443115234375)], 'R03.0': [Rect(287.4623718261719, 223.8399658203125, 305.3106994628906, 231.8438720703125)], '278.9': [Rect(360.775390625, 64.00006103515625, 380.4234619140625, 72.00396728515625)], 'E78. 3': [Rect(151.10546875, 232.47998046875, 173.5032958984375, 240.48388671875)], '268.25': [Rect(261.45489501953125, 64.00006103515625, 285.21258544921875, 72.00396728515625)]}\n",
            "code-R53.83, Coordinate: [Rect(447.8690185546875, 54.60003662109375, 471.3388671875, 63.60443115234375)]\n",
            "code-R03.0, Coordinate: [Rect(287.4623718261719, 223.8399658203125, 305.3106994628906, 231.8438720703125)]\n",
            "code-278.9, Coordinate: [Rect(360.775390625, 64.00006103515625, 380.4234619140625, 72.00396728515625)]\n",
            "code-E78. 3, Coordinate: [Rect(151.10546875, 232.47998046875, 173.5032958984375, 240.48388671875)]\n",
            "code-268.25, Coordinate: [Rect(261.45489501953125, 64.00006103515625, 285.21258544921875, 72.00396728515625)]\n",
            "num_page: 29\n",
            "Page-30-R53.83, Coordinate: [Rect(63.62053298950195, 339.0400085449219, 85.37828063964844, 347.0439147949219)]\n",
            "Page-30-E66.3, Coordinate: [Rect(148.33578491210938, 356.08001708984375, 165.28416442871094, 364.08392333984375)]\n",
            "Page-30-Z20.828, Coordinate: [Rect(212.66758728027344, 223.8399658203125, 238.2010955810547, 231.8438720703125)]\n",
            "Page-30-R05, Coordinate: [Rect(59.27430725097656, 322.0, 69.35334014892578, 330.00390625)]\n",
            "Page-30-Z78.9, Coordinate: [Rect(80.9322280883789, 412.0, 98.03057861328125, 420.00390625)]\n",
            "Page-30-Z68.25, Coordinate: [Rect(204.4337615966797, 364.4800109863281, 225.87188720703125, 372.4839172363281)]\n",
            "code_highlight_dict: {'R53.83': [Rect(63.62053298950195, 339.0400085449219, 85.37828063964844, 347.0439147949219)], 'E66.3': [Rect(148.33578491210938, 356.08001708984375, 165.28416442871094, 364.08392333984375)], 'Z20.828': [Rect(212.66758728027344, 223.8399658203125, 238.2010955810547, 231.8438720703125)], 'R05': [Rect(59.27430725097656, 322.0, 69.35334014892578, 330.00390625)], 'Z78.9': [Rect(80.9322280883789, 412.0, 98.03057861328125, 420.00390625)], 'Z68.25': [Rect(204.4337615966797, 364.4800109863281, 225.87188720703125, 372.4839172363281)]}\n",
            "code-R53.83, Coordinate: [Rect(63.62053298950195, 339.0400085449219, 85.37828063964844, 347.0439147949219)]\n",
            "code-E66.3, Coordinate: [Rect(148.33578491210938, 356.08001708984375, 165.28416442871094, 364.08392333984375)]\n",
            "code-Z20.828, Coordinate: [Rect(212.66758728027344, 223.8399658203125, 238.2010955810547, 231.8438720703125)]\n",
            "code-R05, Coordinate: [Rect(59.27430725097656, 322.0, 69.35334014892578, 330.00390625)]\n",
            "code-Z78.9, Coordinate: [Rect(80.9322280883789, 412.0, 98.03057861328125, 420.00390625)]\n",
            "code-Z68.25, Coordinate: [Rect(204.4337615966797, 364.4800109863281, 225.87188720703125, 372.4839172363281)]\n",
            "num_page: 30\n",
            "Page-31-E78.3, Coordinate: [Rect(278.8232727050781, 61.5999755859375, 297.8714294433594, 69.6038818359375), Rect(150.7355194091797, 171.280029296875, 167.68389892578125, 179.283935546875), Rect(199.54087829589844, 291.52001953125, 214.53944396972656, 299.52392578125), Rect(196.3911590576172, 725.6799926757812, 213.63949584960938, 733.6838989257812)]\n",
            "code_highlight_dict: {'E78.3': [Rect(278.8232727050781, 61.5999755859375, 297.8714294433594, 69.6038818359375), Rect(150.7355194091797, 171.280029296875, 167.68389892578125, 179.283935546875), Rect(199.54087829589844, 291.52001953125, 214.53944396972656, 299.52392578125), Rect(196.3911590576172, 725.6799926757812, 213.63949584960938, 733.6838989257812)]}\n",
            "code-E78.3, Coordinate: [Rect(278.8232727050781, 61.5999755859375, 297.8714294433594, 69.6038818359375), Rect(150.7355194091797, 171.280029296875, 167.68389892578125, 179.283935546875), Rect(199.54087829589844, 291.52001953125, 214.53944396972656, 299.52392578125), Rect(196.3911590576172, 725.6799926757812, 213.63949584960938, 733.6838989257812)]\n",
            "num_page: 31\n",
            "Page-32-E78.3, Coordinate: [Rect(207.73007202148438, 336.1600036621094, 216.8791961669922, 344.1639099121094)]\n",
            "code_highlight_dict: {'E78.3': [Rect(207.73007202148438, 336.1600036621094, 216.8791961669922, 344.1639099121094)]}\n",
            "code-E78.3, Coordinate: [Rect(207.73007202148438, 336.1600036621094, 216.8791961669922, 344.1639099121094)]\n",
            "num_page: 32\n",
            "Page-33-R05.9, Coordinate: [Rect(105.37987518310547, 276.6399841308594, 122.32823944091797, 284.6438903808594)]\n",
            "Page-33-R05, Coordinate: [Rect(59.27429962158203, 164.79998779296875, 69.35333251953125, 172.80389404296875), Rect(105.37987518310547, 276.6399841308594, 115.54888916015625, 284.6438903808594)]\n",
            "code_highlight_dict: {'R05.9': [Rect(105.37987518310547, 276.6399841308594, 122.32823944091797, 284.6438903808594)], 'R05': [Rect(59.27429962158203, 164.79998779296875, 69.35333251953125, 172.80389404296875), Rect(105.37987518310547, 276.6399841308594, 115.54888916015625, 284.6438903808594)]}\n",
            "code-R05.9, Coordinate: [Rect(105.37987518310547, 276.6399841308594, 122.32823944091797, 284.6438903808594)]\n",
            "code-R05, Coordinate: [Rect(59.27429962158203, 164.79998779296875, 69.35333251953125, 172.80389404296875)]\n",
            "num_page: 33\n",
            "Page-34-J01.00, Coordinate: [Rect(324.160888671875, 53.5999755859375, 346.91064453125, 63.6048583984375)]\n",
            "Page-34-R03.0, Coordinate: [Rect(287.4624328613281, 258.1600341796875, 305.3107604980469, 266.1639404296875)]\n",
            "Page-34-E78.3, Coordinate: [Rect(501.7618103027344, 53.5999755859375, 520.8099975585938, 63.6048583984375)]\n",
            "Page-34-E78. 3, Coordinate: [Rect(153.90525817871094, 266.56005859375, 173.5033721923828, 274.56396484375)]\n",
            "code_highlight_dict: {'J01.00': [Rect(324.160888671875, 53.5999755859375, 346.91064453125, 63.6048583984375)], 'R03.0': [Rect(287.4624328613281, 258.1600341796875, 305.3107604980469, 266.1639404296875)], 'E78.3': [Rect(501.7618103027344, 53.5999755859375, 520.8099975585938, 63.6048583984375)], 'E78. 3': [Rect(153.90525817871094, 266.56005859375, 173.5033721923828, 274.56396484375)]}\n",
            "code-J01.00, Coordinate: [Rect(324.160888671875, 53.5999755859375, 346.91064453125, 63.6048583984375)]\n",
            "code-R03.0, Coordinate: [Rect(287.4624328613281, 258.1600341796875, 305.3107604980469, 266.1639404296875)]\n",
            "code-E78.3, Coordinate: [Rect(501.7618103027344, 53.5999755859375, 520.8099975585938, 63.6048583984375)]\n",
            "code-E78. 3, Coordinate: [Rect(153.90525817871094, 266.56005859375, 173.5033721923828, 274.56396484375)]\n",
            "num_page: 34\n",
            "Page-35-J01.00, Coordinate: [Rect(180.75601196289062, 351.52001953125, 201.2342071533203, 359.52392578125)]\n",
            "Page-35-E78.3, Coordinate: [Rect(150.73550415039062, 509.44000244140625, 167.6838836669922, 517.4439086914062)]\n",
            "code_highlight_dict: {'J01.00': [Rect(180.75601196289062, 351.52001953125, 201.2342071533203, 359.52392578125)], 'E78.3': [Rect(150.73550415039062, 509.44000244140625, 167.6838836669922, 517.4439086914062)]}\n",
            "code-J01.00, Coordinate: [Rect(180.75601196289062, 351.52001953125, 201.2342071533203, 359.52392578125)]\n",
            "code-E78.3, Coordinate: [Rect(150.73550415039062, 509.44000244140625, 167.6838836669922, 517.4439086914062)]\n",
            "num_page: 35\n",
            "Page-36-Z23, Coordinate: [Rect(131.86734008789062, 171.280029296875, 141.58641052246094, 179.283935546875)]\n",
            "code_highlight_dict: {'Z23': [Rect(131.86734008789062, 171.280029296875, 141.58641052246094, 179.283935546875)]}\n",
            "code-Z23, Coordinate: [Rect(131.86734008789062, 171.280029296875, 141.58641052246094, 179.283935546875)]\n",
            "num_page: 36\n",
            "Page-37-Z00.00, Coordinate: [Rect(403.2812805175781, 54.60003662109375, 427.0389709472656, 63.60443115234375)]\n",
            "Page-37-E78. 3, Coordinate: [Rect(152.42535400390625, 206.79998779296875, 164.62417602539062, 214.80389404296875), Rect(166.5439910888672, 206.79998779296875, 168.86376953125, 214.80389404296875)]\n",
            "Page-37-R03.0, Coordinate: [Rect(287.4623718261719, 198.6400146484375, 305.3106994628906, 206.6439208984375)]\n",
            "code_highlight_dict: {'Z00.00': [Rect(403.2812805175781, 54.60003662109375, 427.0389709472656, 63.60443115234375)], 'E78. 3': [Rect(152.42535400390625, 206.79998779296875, 164.62417602539062, 214.80389404296875), Rect(166.5439910888672, 206.79998779296875, 168.86376953125, 214.80389404296875)], 'R03.0': [Rect(287.4623718261719, 198.6400146484375, 305.3106994628906, 206.6439208984375)]}\n",
            "code-Z00.00, Coordinate: [Rect(403.2812805175781, 54.60003662109375, 427.0389709472656, 63.60443115234375)]\n",
            "code-E78. 3, Coordinate: [Rect(152.42535400390625, 206.79998779296875, 164.62417602539062, 214.80389404296875), Rect(166.5439910888672, 206.79998779296875, 168.86376953125, 214.80389404296875)]\n",
            "code-R03.0, Coordinate: [Rect(287.4623718261719, 198.6400146484375, 305.3106994628906, 206.6439208984375)]\n",
            "num_page: 37\n",
            "num_page: 38\n",
            "Page-39-Z00.00, Coordinate: [Rect(265.6011047363281, 120.63995361328125, 286.87884521484375, 128.64385986328125), Rect(311.0101318359375, 360.1600036621094, 332.60809326171875, 368.1639099121094)]\n",
            "Page-39-E78.3, Coordinate: [Rect(150.73556518554688, 217.11993408203125, 167.68394470214844, 225.12384033203125)]\n",
            "code_highlight_dict: {'Z00.00': [Rect(265.6011047363281, 120.63995361328125, 286.87884521484375, 128.64385986328125), Rect(311.0101318359375, 360.1600036621094, 332.60809326171875, 368.1639099121094)], 'E78.3': [Rect(150.73556518554688, 217.11993408203125, 167.68394470214844, 225.12384033203125)]}\n",
            "code-Z00.00, Coordinate: [Rect(265.6011047363281, 120.63995361328125, 286.87884521484375, 128.64385986328125), Rect(311.0101318359375, 360.1600036621094, 332.60809326171875, 368.1639099121094)]\n",
            "code-E78.3, Coordinate: [Rect(150.73556518554688, 217.11993408203125, 167.68394470214844, 225.12384033203125)]\n",
            "num_page: 39\n",
            "Page-40-R50.9, Coordinate: [Rect(163.58432006835938, 54.60003662109375, 182.3826446533203, 63.60443115234375)]\n",
            "Page-40-R03.0, Coordinate: [Rect(287.4623718261719, 232.47998046875, 305.3106994628906, 240.48388671875)]\n",
            "Page-40-E78.3, Coordinate: [Rect(160.694580078125, 223.8399658203125, 169.8437042236328, 231.8438720703125)]\n",
            "code_highlight_dict: {'R50.9': [Rect(163.58432006835938, 54.60003662109375, 182.3826446533203, 63.60443115234375)], 'R03.0': [Rect(287.4623718261719, 232.47998046875, 305.3106994628906, 240.48388671875)], 'E78.3': [Rect(160.694580078125, 223.8399658203125, 169.8437042236328, 231.8438720703125)]}\n",
            "code-R50.9, Coordinate: [Rect(163.58432006835938, 54.60003662109375, 182.3826446533203, 63.60443115234375)]\n",
            "code-R03.0, Coordinate: [Rect(287.4623718261719, 232.47998046875, 305.3106994628906, 240.48388671875)]\n",
            "code-E78.3, Coordinate: [Rect(160.694580078125, 223.8399658203125, 169.8437042236328, 231.8438720703125)]\n",
            "num_page: 40\n",
            "Page-41-R50.9, Coordinate: [Rect(55.91464614868164, 351.52001953125, 73.91291809082031, 359.52392578125)]\n",
            "Page-41-J01.00, Coordinate: [Rect(131.98733520507812, 428.08001708984375, 152.14541625976562, 436.08392333984375)]\n",
            "code_highlight_dict: {'R50.9': [Rect(55.91464614868164, 351.52001953125, 73.91291809082031, 359.52392578125)], 'J01.00': [Rect(131.98733520507812, 428.08001708984375, 152.14541625976562, 436.08392333984375)]}\n",
            "code-R50.9, Coordinate: [Rect(55.91464614868164, 351.52001953125, 73.91291809082031, 359.52392578125)]\n",
            "code-J01.00, Coordinate: [Rect(131.98733520507812, 428.08001708984375, 152.14541625976562, 436.08392333984375)]\n",
            "num_page: 41\n",
            "Page-42-R50.9, Coordinate: [Rect(169.03375244140625, 61.5999755859375, 188.6818389892578, 69.6038818359375), Rect(55.91463088989258, 633.0399780273438, 73.91290283203125, 641.0438842773438)]\n",
            "Page-42-R03.0, Coordinate: [Rect(287.4623718261719, 230.08001708984375, 305.3106994628906, 238.08392333984375)]\n",
            "Page-42-E78. 3, Coordinate: [Rect(149.62559509277344, 221.44000244140625, 164.62416076660156, 229.44390869140625), Rect(166.78395080566406, 221.44000244140625, 169.02374267578125, 229.44390869140625)]\n",
            "code_highlight_dict: {'R50.9': [Rect(169.03375244140625, 61.5999755859375, 188.6818389892578, 69.6038818359375), Rect(55.91463088989258, 633.0399780273438, 73.91290283203125, 641.0438842773438)], 'R03.0': [Rect(287.4623718261719, 230.08001708984375, 305.3106994628906, 238.08392333984375)], 'E78. 3': [Rect(149.62559509277344, 221.44000244140625, 164.62416076660156, 229.44390869140625), Rect(166.78395080566406, 221.44000244140625, 169.02374267578125, 229.44390869140625)]}\n",
            "code-R50.9, Coordinate: [Rect(169.03375244140625, 61.5999755859375, 188.6818389892578, 69.6038818359375), Rect(55.91463088989258, 633.0399780273438, 73.91290283203125, 641.0438842773438)]\n",
            "code-R03.0, Coordinate: [Rect(287.4623718261719, 230.08001708984375, 305.3106994628906, 238.08392333984375)]\n",
            "code-E78. 3, Coordinate: [Rect(149.62559509277344, 221.44000244140625, 164.62416076660156, 229.44390869140625), Rect(166.78395080566406, 221.44000244140625, 169.02374267578125, 229.44390869140625)]\n",
            "num_page: 42\n",
            "num_page: 43\n",
            "Page-44-Z68.25, Coordinate: [Rect(89.39141082763672, 70.47998046875, 113.14912414550781, 78.48388671875)]\n",
            "Page-44-278.9, Coordinate: [Rect(277.01336669921875, 61.5999755859375, 295.4115905761719, 69.6038818359375)]\n",
            "Page-44-L73.9, Coordinate: [Rect(183.58238220214844, 61.5999755859375, 201.58067321777344, 69.6038818359375)]\n",
            "Page-44-E78. 3, Coordinate: [Rect(149.62562561035156, 221.4400634765625, 164.6241912841797, 229.4439697265625), Rect(166.7839813232422, 221.4400634765625, 169.02377319335938, 229.4439697265625)]\n",
            "code_highlight_dict: {'Z68.25': [Rect(89.39141082763672, 70.47998046875, 113.14912414550781, 78.48388671875)], '278.9': [Rect(277.01336669921875, 61.5999755859375, 295.4115905761719, 69.6038818359375)], 'L73.9': [Rect(183.58238220214844, 61.5999755859375, 201.58067321777344, 69.6038818359375)], 'E78. 3': [Rect(149.62562561035156, 221.4400634765625, 164.6241912841797, 229.4439697265625), Rect(166.7839813232422, 221.4400634765625, 169.02377319335938, 229.4439697265625)]}\n",
            "code-Z68.25, Coordinate: [Rect(89.39141082763672, 70.47998046875, 113.14912414550781, 78.48388671875)]\n",
            "code-278.9, Coordinate: [Rect(277.01336669921875, 61.5999755859375, 295.4115905761719, 69.6038818359375)]\n",
            "code-L73.9, Coordinate: [Rect(183.58238220214844, 61.5999755859375, 201.58067321777344, 69.6038818359375)]\n",
            "code-E78. 3, Coordinate: [Rect(149.62562561035156, 221.4400634765625, 164.6241912841797, 229.4439697265625), Rect(166.7839813232422, 221.4400634765625, 169.02377319335938, 229.4439697265625)]\n",
            "num_page: 44\n",
            "Page-45-E66.3, Coordinate: [Rect(148.33578491210938, 547.3200073242188, 165.28431701660156, 556.3244018554688)]\n",
            "Page-45-271.3, Coordinate: [Rect(169.2137451171875, 565.5999755859375, 186.16212463378906, 573.6038818359375)]\n",
            "Page-45-Z78.9, Coordinate: [Rect(80.9322280883789, 501.2799987792969, 98.03057861328125, 509.2839050292969)]\n",
            "Page-45-Z68.25, Coordinate: [Rect(204.43373107910156, 556.9600219726562, 225.87185668945312, 564.9639282226562)]\n",
            "Page-45-L73.9, Coordinate: [Rect(75.352783203125, 418.9200134277344, 89.75138854980469, 427.9244079589844)]\n",
            "code_highlight_dict: {'E66.3': [Rect(148.33578491210938, 547.3200073242188, 165.28431701660156, 556.3244018554688)], '271.3': [Rect(169.2137451171875, 565.5999755859375, 186.16212463378906, 573.6038818359375)], 'Z78.9': [Rect(80.9322280883789, 501.2799987792969, 98.03057861328125, 509.2839050292969)], 'Z68.25': [Rect(204.43373107910156, 556.9600219726562, 225.87185668945312, 564.9639282226562)], 'L73.9': [Rect(75.352783203125, 418.9200134277344, 89.75138854980469, 427.9244079589844)]}\n",
            "code-E66.3, Coordinate: [Rect(148.33578491210938, 547.3200073242188, 165.28431701660156, 556.3244018554688)]\n",
            "code-271.3, Coordinate: [Rect(169.2137451171875, 565.5999755859375, 186.16212463378906, 573.6038818359375)]\n",
            "code-Z78.9, Coordinate: [Rect(80.9322280883789, 501.2799987792969, 98.03057861328125, 509.2839050292969)]\n",
            "code-Z68.25, Coordinate: [Rect(204.43373107910156, 556.9600219726562, 225.87185668945312, 564.9639282226562)]\n",
            "code-L73.9, Coordinate: [Rect(75.352783203125, 418.9200134277344, 89.75138854980469, 427.9244079589844)]\n",
            "num_page: 45\n",
            "num_page: 46\n",
            "Page-47-Z00.00, Coordinate: [Rect(414.5604553222656, 54.60003662109375, 440.2381896972656, 63.60443115234375), Rect(268.13421630859375, 173.44000244140625, 290.2120666503906, 181.44390869140625)]\n",
            "Page-47-Z12.5, Coordinate: [Rect(147.5858154296875, 244.0001220703125, 164.38421630859375, 252.0040283203125)]\n",
            "code_highlight_dict: {'Z00.00': [Rect(414.5604553222656, 54.60003662109375, 440.2381896972656, 63.60443115234375), Rect(268.13421630859375, 173.44000244140625, 290.2120666503906, 181.44390869140625)], 'Z12.5': [Rect(147.5858154296875, 244.0001220703125, 164.38421630859375, 252.0040283203125)]}\n",
            "code-Z00.00, Coordinate: [Rect(414.5604553222656, 54.60003662109375, 440.2381896972656, 63.60443115234375), Rect(268.13421630859375, 173.44000244140625, 290.2120666503906, 181.44390869140625)]\n",
            "code-Z12.5, Coordinate: [Rect(147.5858154296875, 244.0001220703125, 164.38421630859375, 252.0040283203125)]\n",
            "num_page: 47\n",
            "Page-48-Z78.9, Coordinate: [Rect(478.6474304199219, 61.5999755859375, 497.3124694824219, 69.6038818359375)]\n",
            "Page-48-D69.6, Coordinate: [Rect(384.1497802734375, 61.5999755859375, 403.08123779296875, 69.6038818359375)]\n",
            "Page-48-Z68.25, Coordinate: [Rect(307.79443359375, 70.47998046875, 331.6961975097656, 78.48388671875)]\n",
            "Page-48-E78. 3, Coordinate: [Rect(149.6256561279297, 238.48004150390625, 164.6242218017578, 246.48394775390625), Rect(166.54403686523438, 238.48004150390625, 168.8638153076172, 246.48394775390625)]\n",
            "Page-48-287.5, Coordinate: [Rect(349.1064758300781, 61.5999755859375, 368.0046691894531, 69.6038818359375)]\n",
            "code_highlight_dict: {'Z78.9': [Rect(478.6474304199219, 61.5999755859375, 497.3124694824219, 69.6038818359375)], 'D69.6': [Rect(384.1497802734375, 61.5999755859375, 403.08123779296875, 69.6038818359375)], 'Z68.25': [Rect(307.79443359375, 70.47998046875, 331.6961975097656, 78.48388671875)], 'E78. 3': [Rect(149.6256561279297, 238.48004150390625, 164.6242218017578, 246.48394775390625), Rect(166.54403686523438, 238.48004150390625, 168.8638153076172, 246.48394775390625)], '287.5': [Rect(349.1064758300781, 61.5999755859375, 368.0046691894531, 69.6038818359375)]}\n",
            "code-Z78.9, Coordinate: [Rect(478.6474304199219, 61.5999755859375, 497.3124694824219, 69.6038818359375)]\n",
            "code-D69.6, Coordinate: [Rect(384.1497802734375, 61.5999755859375, 403.08123779296875, 69.6038818359375)]\n",
            "code-Z68.25, Coordinate: [Rect(307.79443359375, 70.47998046875, 331.6961975097656, 78.48388671875)]\n",
            "code-E78. 3, Coordinate: [Rect(149.6256561279297, 238.48004150390625, 164.6242218017578, 246.48394775390625), Rect(166.54403686523438, 238.48004150390625, 168.8638153076172, 246.48394775390625)]\n",
            "code-287.5, Coordinate: [Rect(349.1064758300781, 61.5999755859375, 368.0046691894531, 69.6038818359375)]\n",
            "num_page: 48\n",
            "Page-49-E66.3, Coordinate: [Rect(148.33578491210938, 547.3200073242188, 165.28431701660156, 556.3244018554688)]\n",
            "Page-49-271.3, Coordinate: [Rect(169.2137451171875, 565.5999755859375, 186.16212463378906, 573.6038818359375)]\n",
            "Page-49-Z78.9, Coordinate: [Rect(80.93224334716797, 501.280029296875, 98.03059387207031, 509.283935546875)]\n",
            "Page-49-D69.6, Coordinate: [Rect(106.03981018066406, 475.6000061035156, 123.88809967041016, 483.6039123535156)]\n",
            "Page-49-J01.00, Coordinate: [Rect(131.98733520507812, 394.0, 152.14541625976562, 402.00390625)]\n",
            "Page-49-Z68.25, Coordinate: [Rect(204.43373107910156, 556.9600219726562, 225.87185668945312, 564.9639282226562)]\n",
            "code_highlight_dict: {'E66.3': [Rect(148.33578491210938, 547.3200073242188, 165.28431701660156, 556.3244018554688)], '271.3': [Rect(169.2137451171875, 565.5999755859375, 186.16212463378906, 573.6038818359375)], 'Z78.9': [Rect(80.93224334716797, 501.280029296875, 98.03059387207031, 509.283935546875)], 'D69.6': [Rect(106.03981018066406, 475.6000061035156, 123.88809967041016, 483.6039123535156)], 'J01.00': [Rect(131.98733520507812, 394.0, 152.14541625976562, 402.00390625)], 'Z68.25': [Rect(204.43373107910156, 556.9600219726562, 225.87185668945312, 564.9639282226562)]}\n",
            "code-E66.3, Coordinate: [Rect(148.33578491210938, 547.3200073242188, 165.28431701660156, 556.3244018554688)]\n",
            "code-271.3, Coordinate: [Rect(169.2137451171875, 565.5999755859375, 186.16212463378906, 573.6038818359375)]\n",
            "code-Z78.9, Coordinate: [Rect(80.93224334716797, 501.280029296875, 98.03059387207031, 509.283935546875)]\n",
            "code-D69.6, Coordinate: [Rect(106.03981018066406, 475.6000061035156, 123.88809967041016, 483.6039123535156)]\n",
            "code-J01.00, Coordinate: [Rect(131.98733520507812, 394.0, 152.14541625976562, 402.00390625)]\n",
            "code-Z68.25, Coordinate: [Rect(204.43373107910156, 556.9600219726562, 225.87185668945312, 564.9639282226562)]\n",
            "num_page: 49\n",
            "num_page: 50\n",
            "Page-51-268.25, Coordinate: [Rect(112.86117553710938, 64.00006103515625, 136.3309326171875, 72.00396728515625)]\n",
            "Page-51-M65.3, Coordinate: [Rect(518.5902709960938, 64.00006103515625, 537.78857421875, 72.00396728515625)]\n",
            "Page-51-E78.3, Coordinate: [Rect(283.9993896484375, 54.60003662109375, 302.53094482421875, 63.60443115234375), Rect(149.985595703125, 257.9200439453125, 166.7839813232422, 265.9239501953125)]\n",
            "code_highlight_dict: {'268.25': [Rect(112.86117553710938, 64.00006103515625, 136.3309326171875, 72.00396728515625)], 'M65.3': [Rect(518.5902709960938, 64.00006103515625, 537.78857421875, 72.00396728515625)], 'E78.3': [Rect(283.9993896484375, 54.60003662109375, 302.53094482421875, 63.60443115234375), Rect(149.985595703125, 257.9200439453125, 166.7839813232422, 265.9239501953125)]}\n",
            "code-268.25, Coordinate: [Rect(112.86117553710938, 64.00006103515625, 136.3309326171875, 72.00396728515625)]\n",
            "code-M65.3, Coordinate: [Rect(518.5902709960938, 64.00006103515625, 537.78857421875, 72.00396728515625)]\n",
            "code-E78.3, Coordinate: [Rect(283.9993896484375, 54.60003662109375, 302.53094482421875, 63.60443115234375), Rect(149.985595703125, 257.9200439453125, 166.7839813232422, 265.9239501953125)]\n",
            "num_page: 51\n",
            "Page-52-E66.3, Coordinate: [Rect(148.33578491210938, 321.0, 165.28431701660156, 330.00439453125)]\n",
            "Page-52-Z71.3, Coordinate: [Rect(169.2137451171875, 339.0400085449219, 186.16212463378906, 347.0439147949219)]\n",
            "Page-52-E78.3, Coordinate: [Rect(150.73550415039062, 266.55999755859375, 167.6838836669922, 274.56390380859375)]\n",
            "Page-52-Z68.25, Coordinate: [Rect(204.43373107910156, 329.6400146484375, 225.87185668945312, 338.6444091796875)]\n",
            "Page-52-M65.30, Coordinate: [Rect(109.5894775390625, 484.9599914550781, 132.14732360839844, 492.9638977050781)]\n",
            "code_highlight_dict: {'E66.3': [Rect(148.33578491210938, 321.0, 165.28431701660156, 330.00439453125)], 'Z71.3': [Rect(169.2137451171875, 339.0400085449219, 186.16212463378906, 347.0439147949219)], 'E78.3': [Rect(150.73550415039062, 266.55999755859375, 167.6838836669922, 274.56390380859375)], 'Z68.25': [Rect(204.43373107910156, 329.6400146484375, 225.87185668945312, 338.6444091796875)], 'M65.30': [Rect(109.5894775390625, 484.9599914550781, 132.14732360839844, 492.9638977050781)]}\n",
            "code-E66.3, Coordinate: [Rect(148.33578491210938, 321.0, 165.28431701660156, 330.00439453125)]\n",
            "code-Z71.3, Coordinate: [Rect(169.2137451171875, 339.0400085449219, 186.16212463378906, 347.0439147949219)]\n",
            "code-E78.3, Coordinate: [Rect(150.73550415039062, 266.55999755859375, 167.6838836669922, 274.56390380859375)]\n",
            "code-Z68.25, Coordinate: [Rect(204.43373107910156, 329.6400146484375, 225.87185668945312, 338.6444091796875)]\n",
            "code-M65.30, Coordinate: [Rect(109.5894775390625, 484.9599914550781, 132.14732360839844, 492.9638977050781)]\n",
            "num_page: 52\n",
            "Page-53-Z68.25, Coordinate: [Rect(488.2998046875, 54.60003662109375, 512.4577026367188, 63.60443115234375)]\n",
            "Page-53-J01.00, Coordinate: [Rect(251.2318878173828, 54.60003662109375, 274.1257019042969, 63.60443115234375)]\n",
            "Page-53-E78.3, Coordinate: [Rect(149.98561096191406, 198.6400146484375, 166.78399658203125, 206.6439208984375)]\n",
            "code_highlight_dict: {'Z68.25': [Rect(488.2998046875, 54.60003662109375, 512.4577026367188, 63.60443115234375)], 'J01.00': [Rect(251.2318878173828, 54.60003662109375, 274.1257019042969, 63.60443115234375)], 'E78.3': [Rect(149.98561096191406, 198.6400146484375, 166.78399658203125, 206.6439208984375)]}\n",
            "code-Z68.25, Coordinate: [Rect(488.2998046875, 54.60003662109375, 512.4577026367188, 63.60443115234375)]\n",
            "code-J01.00, Coordinate: [Rect(251.2318878173828, 54.60003662109375, 274.1257019042969, 63.60443115234375)]\n",
            "code-E78.3, Coordinate: [Rect(149.98561096191406, 198.6400146484375, 166.78399658203125, 206.6439208984375)]\n",
            "num_page: 53\n",
            "Page-54-Z68.25, Coordinate: [Rect(204.4337921142578, 464.8000183105469, 225.87191772460938, 472.8039245605469)]\n",
            "Page-54-J01.00, Coordinate: [Rect(126.46784973144531, 394.0, 146.62591552734375, 402.00390625)]\n",
            "code_highlight_dict: {'Z68.25': [Rect(204.4337921142578, 464.8000183105469, 225.87191772460938, 472.8039245605469)], 'J01.00': [Rect(126.46784973144531, 394.0, 146.62591552734375, 402.00390625)]}\n",
            "code-Z68.25, Coordinate: [Rect(204.4337921142578, 464.8000183105469, 225.87191772460938, 472.8039245605469)]\n",
            "code-J01.00, Coordinate: [Rect(126.46784973144531, 394.0, 146.62591552734375, 402.00390625)]\n",
            "num_page: 54\n",
            "Page-55-268.25, Coordinate: [Rect(255.45538330078125, 70.47998046875, 279.21307373046875, 78.48388671875)]\n",
            "Page-55-E78. 3, Coordinate: [Rect(151.10548400878906, 213.0400390625, 173.50331115722656, 221.0439453125)]\n",
            "Page-55-K46.9, Coordinate: [Rect(426.5722961425781, 60.5999755859375, 445.2369079589844, 69.6043701171875)]\n",
            "Page-55-Z78.9, Coordinate: [Rect(357.6456604003906, 60.5999755859375, 376.0439758300781, 69.6043701171875)]\n",
            "code_highlight_dict: {'268.25': [Rect(255.45538330078125, 70.47998046875, 279.21307373046875, 78.48388671875)], 'E78. 3': [Rect(151.10548400878906, 213.0400390625, 173.50331115722656, 221.0439453125)], 'K46.9': [Rect(426.5722961425781, 60.5999755859375, 445.2369079589844, 69.6043701171875)], 'Z78.9': [Rect(357.6456604003906, 60.5999755859375, 376.0439758300781, 69.6043701171875)]}\n",
            "code-268.25, Coordinate: [Rect(255.45538330078125, 70.47998046875, 279.21307373046875, 78.48388671875)]\n",
            "code-E78. 3, Coordinate: [Rect(151.10548400878906, 213.0400390625, 173.50331115722656, 221.0439453125)]\n",
            "code-K46.9, Coordinate: [Rect(426.5722961425781, 60.5999755859375, 445.2369079589844, 69.6043701171875)]\n",
            "code-Z78.9, Coordinate: [Rect(357.6456604003906, 60.5999755859375, 376.0439758300781, 69.6043701171875)]\n",
            "num_page: 55\n",
            "Page-56-E66.3, Coordinate: [Rect(148.33578491210938, 385.32000732421875, 165.28431701660156, 394.32440185546875)]\n",
            "Page-56-K46.9, Coordinate: [Rect(59.90424728393555, 361.1199951171875, 77.45256805419922, 369.1239013671875)]\n",
            "Page-56-271.3, Coordinate: [Rect(169.2137451171875, 403.60003662109375, 186.16212463378906, 411.60394287109375)]\n",
            "Page-56-Z78.9, Coordinate: [Rect(80.9322280883789, 314.0799865722656, 98.03057861328125, 322.0838928222656)]\n",
            "Page-56-268.25, Coordinate: [Rect(204.43373107910156, 394.96002197265625, 225.87185668945312, 402.96392822265625)]\n",
            "Page-56-R10.32, Coordinate: [Rect(129.13424682617188, 223.8399658203125, 150.8919677734375, 231.8438720703125)]\n",
            "code_highlight_dict: {'E66.3': [Rect(148.33578491210938, 385.32000732421875, 165.28431701660156, 394.32440185546875)], 'K46.9': [Rect(59.90424728393555, 361.1199951171875, 77.45256805419922, 369.1239013671875)], '271.3': [Rect(169.2137451171875, 403.60003662109375, 186.16212463378906, 411.60394287109375)], 'Z78.9': [Rect(80.9322280883789, 314.0799865722656, 98.03057861328125, 322.0838928222656)], '268.25': [Rect(204.43373107910156, 394.96002197265625, 225.87185668945312, 402.96392822265625)], 'R10.32': [Rect(129.13424682617188, 223.8399658203125, 150.8919677734375, 231.8438720703125)]}\n",
            "code-E66.3, Coordinate: [Rect(148.33578491210938, 385.32000732421875, 165.28431701660156, 394.32440185546875)]\n",
            "code-K46.9, Coordinate: [Rect(59.90424728393555, 361.1199951171875, 77.45256805419922, 369.1239013671875)]\n",
            "code-271.3, Coordinate: [Rect(169.2137451171875, 403.60003662109375, 186.16212463378906, 411.60394287109375)]\n",
            "code-Z78.9, Coordinate: [Rect(80.9322280883789, 314.0799865722656, 98.03057861328125, 322.0838928222656)]\n",
            "code-268.25, Coordinate: [Rect(204.43373107910156, 394.96002197265625, 225.87185668945312, 402.96392822265625)]\n",
            "code-R10.32, Coordinate: [Rect(129.13424682617188, 223.8399658203125, 150.8919677734375, 231.8438720703125)]\n",
            "num_page: 56\n",
            "Page-57-J01.00, Coordinate: [Rect(315.66571044921875, 55.5999755859375, 337.83966064453125, 63.6038818359375)]\n",
            "Page-57-E78.3, Coordinate: [Rect(149.985595703125, 198.6400146484375, 166.7839813232422, 206.6439208984375)]\n",
            "Page-57-Z78.9, Coordinate: [Rect(412.8203430175781, 55.5999755859375, 432.3184509277344, 63.6038818359375)]\n",
            "code_highlight_dict: {'J01.00': [Rect(315.66571044921875, 55.5999755859375, 337.83966064453125, 63.6038818359375)], 'E78.3': [Rect(149.985595703125, 198.6400146484375, 166.7839813232422, 206.6439208984375)], 'Z78.9': [Rect(412.8203430175781, 55.5999755859375, 432.3184509277344, 63.6038818359375)]}\n",
            "code-J01.00, Coordinate: [Rect(315.66571044921875, 55.5999755859375, 337.83966064453125, 63.6038818359375)]\n",
            "code-E78.3, Coordinate: [Rect(149.985595703125, 198.6400146484375, 166.7839813232422, 206.6439208984375)]\n",
            "code-Z78.9, Coordinate: [Rect(412.8203430175781, 55.5999755859375, 432.3184509277344, 63.6038818359375)]\n",
            "num_page: 57\n",
            "Page-58-278.9, Coordinate: [Rect(80.9322280883789, 458.55999755859375, 98.03057861328125, 466.56390380859375)]\n",
            "Page-58-J01.00, Coordinate: [Rect(180.75601196289062, 394.0, 201.2342071533203, 402.00390625)]\n",
            "code_highlight_dict: {'278.9': [Rect(80.9322280883789, 458.55999755859375, 98.03057861328125, 466.56390380859375)], 'J01.00': [Rect(180.75601196289062, 394.0, 201.2342071533203, 402.00390625)]}\n",
            "code-278.9, Coordinate: [Rect(80.9322280883789, 458.55999755859375, 98.03057861328125, 466.56390380859375)]\n",
            "code-J01.00, Coordinate: [Rect(180.75601196289062, 394.0, 201.2342071533203, 402.00390625)]\n",
            "num_page: 58\n",
            "Page-59-S93.411A, Coordinate: [Rect(431.93670654296875, 61.5999755859375, 466.31866455078125, 69.6038818359375)]\n",
            "Page-59-E78. 3, Coordinate: [Rect(151.10548400878906, 213.0400390625, 173.50331115722656, 221.0439453125)]\n",
            "code_highlight_dict: {'S93.411A': [Rect(431.93670654296875, 61.5999755859375, 466.31866455078125, 69.6038818359375)], 'E78. 3': [Rect(151.10548400878906, 213.0400390625, 173.50331115722656, 221.0439453125)]}\n",
            "code-S93.411A, Coordinate: [Rect(431.93670654296875, 61.5999755859375, 466.31866455078125, 69.6038818359375)]\n",
            "code-E78. 3, Coordinate: [Rect(151.10548400878906, 213.0400390625, 173.50331115722656, 221.0439453125)]\n",
            "num_page: 59\n",
            "Page-60-S93.411A, Coordinate: [Rect(284.1327209472656, 32.55999755859375, 314.8497314453125, 40.56390380859375)]\n",
            "code_highlight_dict: {'S93.411A': [Rect(284.1327209472656, 32.55999755859375, 314.8497314453125, 40.56390380859375)]}\n",
            "code-S93.411A, Coordinate: [Rect(284.1327209472656, 32.55999755859375, 314.8497314453125, 40.56390380859375)]\n",
            "num_page: 60\n",
            "Page-61-Z78.9, Coordinate: [Rect(442.197509765625, 54.60003662109375, 460.99578857421875, 63.60443115234375)]\n",
            "Page-61-268.25, Coordinate: [Rect(255.4553985595703, 64.00006103515625, 279.2131042480469, 72.00396728515625)]\n",
            "Page-61-E78.3, Coordinate: [Rect(160.69461059570312, 223.84002685546875, 169.84373474121094, 231.84393310546875)]\n",
            "Page-61-M54.5, Coordinate: [Rect(346.87335205078125, 54.60003662109375, 366.6048889160156, 63.60443115234375)]\n",
            "code_highlight_dict: {'Z78.9': [Rect(442.197509765625, 54.60003662109375, 460.99578857421875, 63.60443115234375)], '268.25': [Rect(255.4553985595703, 64.00006103515625, 279.2131042480469, 72.00396728515625)], 'E78.3': [Rect(160.69461059570312, 223.84002685546875, 169.84373474121094, 231.84393310546875)], 'M54.5': [Rect(346.87335205078125, 54.60003662109375, 366.6048889160156, 63.60443115234375)]}\n",
            "code-Z78.9, Coordinate: [Rect(442.197509765625, 54.60003662109375, 460.99578857421875, 63.60443115234375)]\n",
            "code-268.25, Coordinate: [Rect(255.4553985595703, 64.00006103515625, 279.2131042480469, 72.00396728515625)]\n",
            "code-E78.3, Coordinate: [Rect(160.69461059570312, 223.84002685546875, 169.84373474121094, 231.84393310546875)]\n",
            "code-M54.5, Coordinate: [Rect(346.87335205078125, 54.60003662109375, 366.6048889160156, 63.60443115234375)]\n",
            "num_page: 61\n",
            "Page-62-E66.3, Coordinate: [Rect(148.33578491210938, 419.6400146484375, 165.28431701660156, 428.6444091796875)]\n",
            "Page-62-271.3, Coordinate: [Rect(169.2139129638672, 437.44000244140625, 186.16311645507812, 445.44390869140625)]\n",
            "Page-62-Z78.9, Coordinate: [Rect(80.9322280883789, 373.1199951171875, 98.03057861328125, 381.1239013671875)]\n",
            "Page-62-M54.5, Coordinate: [Rect(210.03985595703125, 258.1600341796875, 228.33811950683594, 266.1639404296875)]\n",
            "Page-62-268.25, Coordinate: [Rect(204.43373107910156, 429.0400085449219, 225.87185668945312, 437.0439147949219)]\n",
            "code_highlight_dict: {'E66.3': [Rect(148.33578491210938, 419.6400146484375, 165.28431701660156, 428.6444091796875)], '271.3': [Rect(169.2139129638672, 437.44000244140625, 186.16311645507812, 445.44390869140625)], 'Z78.9': [Rect(80.9322280883789, 373.1199951171875, 98.03057861328125, 381.1239013671875)], 'M54.5': [Rect(210.03985595703125, 258.1600341796875, 228.33811950683594, 266.1639404296875)], '268.25': [Rect(204.43373107910156, 429.0400085449219, 225.87185668945312, 437.0439147949219)]}\n",
            "code-E66.3, Coordinate: [Rect(148.33578491210938, 419.6400146484375, 165.28431701660156, 428.6444091796875)]\n",
            "code-271.3, Coordinate: [Rect(169.2139129638672, 437.44000244140625, 186.16311645507812, 445.44390869140625)]\n",
            "code-Z78.9, Coordinate: [Rect(80.9322280883789, 373.1199951171875, 98.03057861328125, 381.1239013671875)]\n",
            "code-M54.5, Coordinate: [Rect(210.03985595703125, 258.1600341796875, 228.33811950683594, 266.1639404296875)]\n",
            "code-268.25, Coordinate: [Rect(204.43373107910156, 429.0400085449219, 225.87185668945312, 437.0439147949219)]\n",
            "num_page: 62\n",
            "num_page: 63\n",
            "num_page: 64\n",
            "num_page: 65\n",
            "num_page: 66\n",
            "num_page: 67\n",
            "num_page: 68\n",
            "num_page: 69\n",
            "num_page: 70\n",
            "num_page: 71\n",
            "num_page: 72\n",
            "num_page: 73\n",
            "num_page: 74\n",
            "num_page: 75\n",
            "num_page: 76\n",
            "num_page: 77\n",
            "num_page: 78\n",
            "num_page: 79\n",
            "num_page: 80\n",
            "num_page: 81\n",
            "num_page: 82\n",
            "num_page: 83\n",
            "num_page: 84\n",
            "num_page: 85\n",
            "num_page: 86\n",
            "num_page: 87\n",
            "num_page: 88\n",
            "num_page: 89\n",
            "num_page: 90\n",
            "num_page: 91\n",
            "num_page: 92\n",
            "num_page: 93\n",
            "num_page: 94\n",
            "num_page: 95\n",
            "num_page: 96\n",
            "num_page: 97\n",
            "num_page: 98\n",
            "num_page: 99\n",
            "num_page: 100\n",
            "num_page: 101\n",
            "num_page: 102\n",
            "num_page: 103\n",
            "num_page: 104\n",
            "num_page: 105\n",
            "num_page: 106\n",
            "num_page: 107\n",
            "num_page: 108\n",
            "num_page: 109\n",
            "num_page: 110\n",
            "num_page: 111\n",
            "num_page: 112\n",
            "num_page: 113\n",
            "num_page: 114\n",
            "num_page: 115\n",
            "num_page: 116\n",
            "num_page: 117\n",
            "num_page: 118\n",
            "num_page: 119\n",
            "num_page: 120\n",
            "num_page: 121\n",
            "Page-122-R10.84, Coordinate: [Rect(373.6452331542969, 405.3171691894531, 387.6324462890625, 412.3205871582031)]\n",
            "Page-122-B96, Coordinate: [Rect(101.27234649658203, 270.4361877441406, 112.79691314697266, 283.4425354003906)]\n",
            "Page-122-S10 1, Coordinate: [Rect(339.0885925292969, 394.3171691894531, 350.6075134277344, 406.3230285644531), Rect(425.48028564453125, 394.3171691894531, 428.0000305175781, 406.3230285644531)]\n",
            "Page-122-M72, Coordinate: [Rect(282.9349365234375, 486.2630920410156, 292.00604248046875, 496.2679748535156)]\n",
            "Page-122-201.84, Coordinate: [Rect(366.4449157714844, 491.3130798339844, 380.0205078125, 502.3184509277344)]\n",
            "Page-122-C43, Coordinate: [Rect(134.147216796875, 470.0351257324219, 141.7064971923828, 479.0395202636719)]\n",
            "code_highlight_dict: {'R10.84': [Rect(373.6452331542969, 405.3171691894531, 387.6324462890625, 412.3205871582031)], 'B96': [Rect(101.27234649658203, 270.4361877441406, 112.79691314697266, 283.4425354003906)], 'S10 1': [Rect(339.0885925292969, 394.3171691894531, 350.6075134277344, 406.3230285644531), Rect(425.48028564453125, 394.3171691894531, 428.0000305175781, 406.3230285644531)], 'M72': [Rect(282.9349365234375, 486.2630920410156, 292.00604248046875, 496.2679748535156)], '201.84': [Rect(366.4449157714844, 491.3130798339844, 380.0205078125, 502.3184509277344)], 'C43': [Rect(134.147216796875, 470.0351257324219, 141.7064971923828, 479.0395202636719)]}\n",
            "code-R10.84, Coordinate: [Rect(373.6452331542969, 405.3171691894531, 387.6324462890625, 412.3205871582031)]\n",
            "code-B96, Coordinate: [Rect(101.27234649658203, 270.4361877441406, 112.79691314697266, 283.4425354003906)]\n",
            "code-S10 1, Coordinate: [Rect(339.0885925292969, 394.3171691894531, 350.6075134277344, 406.3230285644531), Rect(425.48028564453125, 394.3171691894531, 428.0000305175781, 406.3230285644531)]\n",
            "code-M72, Coordinate: [Rect(282.9349365234375, 486.2630920410156, 292.00604248046875, 496.2679748535156)]\n",
            "code-201.84, Coordinate: [Rect(366.4449157714844, 491.3130798339844, 380.0205078125, 502.3184509277344)]\n",
            "code-C43, Coordinate: [Rect(134.147216796875, 470.0351257324219, 141.7064971923828, 479.0395202636719)]\n",
            "num_page: 122\n",
            "Page-123-R10.84, Coordinate: [Rect(370.0434875488281, 342.84002685546875, 382.20745849609375, 351.84442138671875)]\n",
            "Page-123-M18.9, Coordinate: [Rect(341.4862060546875, 359.1199951171875, 351.0853576660156, 369.1248779296875)]\n",
            "Page-123-E13.9, Coordinate: [Rect(356.8446960449219, 398.6400146484375, 367.4436340332031, 404.6429443359375)]\n",
            "Page-123-R94.5, Coordinate: [Rect(245.97637939453125, 644.1600341796875, 255.57545471191406, 650.1629638671875)]\n",
            "Page-123-G62, Coordinate: [Rect(403.40130615234375, 648.6400146484375, 409.5207214355469, 656.6439208984375)]\n",
            "Page-123-R78.8, Coordinate: [Rect(251.49581909179688, 662.4400024414062, 260.6949157714844, 667.4424438476562)]\n",
            "Page-123-R73.01, Coordinate: [Rect(356.1247863769531, 386.1600036621094, 367.6437683105469, 392.1629333496094)]\n",
            "Page-123-201.81, Coordinate: [Rect(234.69747924804688, 702.239013671875, 249.09605407714844, 708.241943359375)]\n",
            "Page-123-201.84, Coordinate: [Rect(361.40325927734375, 424.9989929199219, 373.9508056640625, 432.0024108886719)]\n",
            "Page-123-RS3.83, Coordinate: [Rect(233.49757385253906, 648.6400146484375, 247.69027709960938, 656.6439208984375)]\n",
            "code_highlight_dict: {'R10.84': [Rect(370.0434875488281, 342.84002685546875, 382.20745849609375, 351.84442138671875)], 'M18.9': [Rect(341.4862060546875, 359.1199951171875, 351.0853576660156, 369.1248779296875)], 'E13.9': [Rect(356.8446960449219, 398.6400146484375, 367.4436340332031, 404.6429443359375)], 'R94.5': [Rect(245.97637939453125, 644.1600341796875, 255.57545471191406, 650.1629638671875)], 'G62': [Rect(403.40130615234375, 648.6400146484375, 409.5207214355469, 656.6439208984375)], 'R78.8': [Rect(251.49581909179688, 662.4400024414062, 260.6949157714844, 667.4424438476562)], 'R73.01': [Rect(356.1247863769531, 386.1600036621094, 367.6437683105469, 392.1629333496094)], '201.81': [Rect(234.69747924804688, 702.239013671875, 249.09605407714844, 708.241943359375)], '201.84': [Rect(361.40325927734375, 424.9989929199219, 373.9508056640625, 432.0024108886719)], 'RS3.83': [Rect(233.49757385253906, 648.6400146484375, 247.69027709960938, 656.6439208984375)]}\n",
            "code-R10.84, Coordinate: [Rect(370.0434875488281, 342.84002685546875, 382.20745849609375, 351.84442138671875)]\n",
            "code-M18.9, Coordinate: [Rect(341.4862060546875, 359.1199951171875, 351.0853576660156, 369.1248779296875)]\n",
            "code-E13.9, Coordinate: [Rect(356.8446960449219, 398.6400146484375, 367.4436340332031, 404.6429443359375)]\n",
            "code-R94.5, Coordinate: [Rect(245.97637939453125, 644.1600341796875, 255.57545471191406, 650.1629638671875)]\n",
            "code-G62, Coordinate: [Rect(403.40130615234375, 648.6400146484375, 409.5207214355469, 656.6439208984375)]\n",
            "code-R78.8, Coordinate: [Rect(251.49581909179688, 662.4400024414062, 260.6949157714844, 667.4424438476562)]\n",
            "code-R73.01, Coordinate: [Rect(356.1247863769531, 386.1600036621094, 367.6437683105469, 392.1629333496094)]\n",
            "code-201.81, Coordinate: [Rect(234.69747924804688, 702.239013671875, 249.09605407714844, 708.241943359375)]\n",
            "code-201.84, Coordinate: [Rect(361.40325927734375, 424.9989929199219, 373.9508056640625, 432.0024108886719)]\n",
            "code-RS3.83, Coordinate: [Rect(233.49757385253906, 648.6400146484375, 247.69027709960938, 656.6439208984375)]\n",
            "num_page: 123\n",
            "Page-124-G65, Coordinate: [Rect(246.69647216796875, 477.2861328125, 259.65631103515625, 489.2919921875)]\n",
            "Page-124-J05, Coordinate: [Rect(283.1749572753906, 471.881103515625, 291.8151550292969, 482.886474609375)]\n",
            "Page-124-K77, Coordinate: [Rect(286.0526428222656, 231.760009765625, 296.86505126953125, 239.763916015625)]\n",
            "Page-124-B85, Coordinate: [Rect(283.1749267578125, 429.5211181640625, 293.973876953125, 437.5250244140625)]\n",
            "code_highlight_dict: {'G65': [Rect(246.69647216796875, 477.2861328125, 259.65631103515625, 489.2919921875)], 'J05': [Rect(283.1749572753906, 471.881103515625, 291.8151550292969, 482.886474609375)], 'K77': [Rect(286.0526428222656, 231.760009765625, 296.86505126953125, 239.763916015625)], 'B85': [Rect(283.1749267578125, 429.5211181640625, 293.973876953125, 437.5250244140625)]}\n",
            "code-G65, Coordinate: [Rect(246.69647216796875, 477.2861328125, 259.65631103515625, 489.2919921875)]\n",
            "code-J05, Coordinate: [Rect(283.1749572753906, 471.881103515625, 291.8151550292969, 482.886474609375)]\n",
            "code-K77, Coordinate: [Rect(286.0526428222656, 231.760009765625, 296.86505126953125, 239.763916015625)]\n",
            "code-B85, Coordinate: [Rect(283.1749267578125, 429.5211181640625, 293.973876953125, 437.5250244140625)]\n",
            "num_page: 124\n",
            "num_page: 125\n",
            "Page-126-R10.84, Coordinate: [Rect(379.8854675292969, 402.5611267089844, 394.69561767578125, 412.5660095214844)]\n",
            "Page-126-R53.83, Coordinate: [Rect(344.8488464355469, 441.60113525390625, 359.0433044433594, 447.60406494140625)]\n",
            "Page-126-M13.0, Coordinate: [Rect(347.0085754394531, 422.2011413574219, 358.6075134277344, 433.2065124511719)]\n",
            "Page-126-R94.5, Coordinate: [Rect(363.3270263671875, 432.6411437988281, 374.52587890625, 440.6450500488281)]\n",
            "Page-126-R73, Coordinate: [Rect(373.6460876464844, 455.0011291503906, 374.3661193847656, 462.0045471191406)]\n",
            "Page-126-S620, Coordinate: [Rect(158.3847198486328, 178.27996826171875, 171.63150024414062, 191.28631591796875)]\n",
            "Page-126-E55, Coordinate: [Rect(347.728515625, 487.881103515625, 353.63189697265625, 494.884521484375)]\n",
            "Page-126-E03.9, Coordinate: [Rect(365.00689697265625, 466.08111572265625, 377.0057373046875, 478.08697509765625)]\n",
            "Page-126-201.818, Coordinate: [Rect(344.60882568359375, 493.0411071777344, 362.0370788574219, 503.0459899902344)]\n",
            "Page-126-201.84, Coordinate: [Rect(372.4461669921875, 499.2810974121094, 384.99334716796875, 509.2859802246094)]\n",
            "Page-126-212.5, Coordinate: [Rect(363.5670166015625, 479.6011047363281, 375.5673522949219, 489.6059875488281)]\n",
            "Page-126-M10.9, Coordinate: [Rect(339.0893859863281, 448.3211364746094, 350.8881530761719, 454.3240661621094)]\n",
            "Page-126-Z79.899, Coordinate: [Rect(366.6867370605469, 474.9211120605469, 384.32647705078125, 481.9245300292969)]\n",
            "code_highlight_dict: {'R10.84': [Rect(379.8854675292969, 402.5611267089844, 394.69561767578125, 412.5660095214844)], 'R53.83': [Rect(344.8488464355469, 441.60113525390625, 359.0433044433594, 447.60406494140625)], 'M13.0': [Rect(347.0085754394531, 422.2011413574219, 358.6075134277344, 433.2065124511719)], 'R94.5': [Rect(363.3270263671875, 432.6411437988281, 374.52587890625, 440.6450500488281)], 'R73': [Rect(373.6460876464844, 455.0011291503906, 374.3661193847656, 462.0045471191406)], 'S620': [Rect(158.3847198486328, 178.27996826171875, 171.63150024414062, 191.28631591796875)], 'E55': [Rect(347.728515625, 487.881103515625, 353.63189697265625, 494.884521484375)], 'E03.9': [Rect(365.00689697265625, 466.08111572265625, 377.0057373046875, 478.08697509765625)], '201.818': [Rect(344.60882568359375, 493.0411071777344, 362.0370788574219, 503.0459899902344)], '201.84': [Rect(372.4461669921875, 499.2810974121094, 384.99334716796875, 509.2859802246094)], '212.5': [Rect(363.5670166015625, 479.6011047363281, 375.5673522949219, 489.6059875488281)], 'M10.9': [Rect(339.0893859863281, 448.3211364746094, 350.8881530761719, 454.3240661621094)], 'Z79.899': [Rect(366.6867370605469, 474.9211120605469, 384.32647705078125, 481.9245300292969)]}\n",
            "code-R10.84, Coordinate: [Rect(379.8854675292969, 402.5611267089844, 394.69561767578125, 412.5660095214844)]\n",
            "code-R53.83, Coordinate: [Rect(344.8488464355469, 441.60113525390625, 359.0433044433594, 447.60406494140625)]\n",
            "code-M13.0, Coordinate: [Rect(347.0085754394531, 422.2011413574219, 358.6075134277344, 433.2065124511719)]\n",
            "code-R94.5, Coordinate: [Rect(363.3270263671875, 432.6411437988281, 374.52587890625, 440.6450500488281)]\n",
            "code-R73, Coordinate: [Rect(373.6460876464844, 455.0011291503906, 374.3661193847656, 462.0045471191406)]\n",
            "code-S620, Coordinate: [Rect(158.3847198486328, 178.27996826171875, 171.63150024414062, 191.28631591796875)]\n",
            "code-E55, Coordinate: [Rect(347.728515625, 487.881103515625, 353.63189697265625, 494.884521484375)]\n",
            "code-E03.9, Coordinate: [Rect(365.00689697265625, 466.08111572265625, 377.0057373046875, 478.08697509765625)]\n",
            "code-201.818, Coordinate: [Rect(344.60882568359375, 493.0411071777344, 362.0370788574219, 503.0459899902344)]\n",
            "code-201.84, Coordinate: [Rect(372.4461669921875, 499.2810974121094, 384.99334716796875, 509.2859802246094)]\n",
            "code-212.5, Coordinate: [Rect(363.5670166015625, 479.6011047363281, 375.5673522949219, 489.6059875488281)]\n",
            "code-M10.9, Coordinate: [Rect(339.0893859863281, 448.3211364746094, 350.8881530761719, 454.3240661621094)]\n",
            "code-Z79.899, Coordinate: [Rect(366.6867370605469, 474.9211120605469, 384.32647705078125, 481.9245300292969)]\n",
            "num_page: 126\n",
            "num_page: 127\n",
            "Page-128-R10.84, Coordinate: [Rect(388.0415954589844, 456.758056640625, 403.88140869140625, 467.763427734375)]\n",
            "Page-128-R53.83, Coordinate: [Rect(350.1312561035156, 495.76605224609375, 365.3524475097656, 505.77093505859375)]\n",
            "Page-128-M13.0, Coordinate: [Rect(353.0059814453125, 481.1270751953125, 364.6048889160156, 491.1319580078125)]\n",
            "Page-128-T78.40XA, Coordinate: [Rect(382.7621154785156, 467.19805908203125, 405.5875549316406, 475.20196533203125)]\n",
            "Page-128-R74.0, Coordinate: [Rect(368.3664855957031, 488.7210693359375, 381.3652648925781, 498.7259521484375)]\n",
            "Page-128-200.0, Coordinate: [Rect(342.4458923339844, 423.07806396484375, 355.6445617675781, 430.08148193359375)]\n",
            "Page-128-064.9, Coordinate: [Rect(362.8460388183594, 474.1560974121094, 375.24505615234375, 486.1619567871094)]\n",
            "Page-128-201.818, Coordinate: [Rect(349.17431640625, 556.6400756835938, 367.4424743652344, 566.6449584960938)]\n",
            "Page-128-M10.9, Coordinate: [Rect(344.3708190917969, 505.56903076171875, 356.3713073730469, 513.5729370117188)]\n",
            "Page-128-S10, Coordinate: [Rect(69.6011962890625, 545.7600708007812, 73.74079132080078, 557.7659301757812)]\n",
            "code_highlight_dict: {'R10.84': [Rect(388.0415954589844, 456.758056640625, 403.88140869140625, 467.763427734375)], 'R53.83': [Rect(350.1312561035156, 495.76605224609375, 365.3524475097656, 505.77093505859375)], 'M13.0': [Rect(353.0059814453125, 481.1270751953125, 364.6048889160156, 491.1319580078125)], 'T78.40XA': [Rect(382.7621154785156, 467.19805908203125, 405.5875549316406, 475.20196533203125)], 'R74.0': [Rect(368.3664855957031, 488.7210693359375, 381.3652648925781, 498.7259521484375)], '200.0': [Rect(342.4458923339844, 423.07806396484375, 355.6445617675781, 430.08148193359375)], '064.9': [Rect(362.8460388183594, 474.1560974121094, 375.24505615234375, 486.1619567871094)], '201.818': [Rect(349.17431640625, 556.6400756835938, 367.4424743652344, 566.6449584960938)], 'M10.9': [Rect(344.3708190917969, 505.56903076171875, 356.3713073730469, 513.5729370117188)], 'S10': [Rect(69.6011962890625, 545.7600708007812, 73.74079132080078, 557.7659301757812)]}\n",
            "code-R10.84, Coordinate: [Rect(388.0415954589844, 456.758056640625, 403.88140869140625, 467.763427734375)]\n",
            "code-R53.83, Coordinate: [Rect(350.1312561035156, 495.76605224609375, 365.3524475097656, 505.77093505859375)]\n",
            "code-M13.0, Coordinate: [Rect(353.0059814453125, 481.1270751953125, 364.6048889160156, 491.1319580078125)]\n",
            "code-T78.40XA, Coordinate: [Rect(382.7621154785156, 467.19805908203125, 405.5875549316406, 475.20196533203125)]\n",
            "code-R74.0, Coordinate: [Rect(368.3664855957031, 488.7210693359375, 381.3652648925781, 498.7259521484375)]\n",
            "code-200.0, Coordinate: [Rect(342.4458923339844, 423.07806396484375, 355.6445617675781, 430.08148193359375)]\n",
            "code-064.9, Coordinate: [Rect(362.8460388183594, 474.1560974121094, 375.24505615234375, 486.1619567871094)]\n",
            "code-201.818, Coordinate: [Rect(349.17431640625, 556.6400756835938, 367.4424743652344, 566.6449584960938)]\n",
            "code-M10.9, Coordinate: [Rect(344.3708190917969, 505.56903076171875, 356.3713073730469, 513.5729370117188)]\n",
            "code-S10, Coordinate: [Rect(69.6011962890625, 545.7600708007812, 73.74079132080078, 557.7659301757812)]\n",
            "num_page: 128\n",
            "Page-129-R10.84, Coordinate: [Rect(174.00003051757812, 316.5294189453125, 195.18890380859375, 328.53411865234375)]\n",
            "Page-129-R53.83, Coordinate: [Rect(277.1999816894531, 276.4932556152344, 297.3597106933594, 287.49755859375)]\n",
            "Page-129-E29.1, Coordinate: [Rect(303.1200256347656, 307.2502746582031, 318.5249938964844, 317.25421142578125)]\n",
            "Page-129-E78.2, Coordinate: [Rect(110.4000015258789, 295.41143798828125, 126.7998046875, 307.4161376953125)]\n",
            "Page-129-E55.9, Coordinate: [Rect(282.2400207519531, 347.6864318847656, 297.0398254394531, 360.6915283203125)]\n",
            "Page-129-R74.0, Coordinate: [Rect(300.9599914550781, 265.2543029785156, 317.760986328125, 275.25823974609375)]\n",
            "Page-129-E03.9, Coordinate: [Rect(304.08001708984375, 316.5294189453125, 321.079833984375, 328.53411865234375)]\n",
            "Page-129-279.899, Coordinate: [Rect(305.280029296875, 327.6883239746094, 330.2702941894531, 336.6918640136719)]\n",
            "Page-129-212.5, Coordinate: [Rect(303.6000061035156, 339.12725830078125, 320.2000427246094, 350.1315612792969)]\n",
            "Page-129-M10.9, Coordinate: [Rect(267.1199951171875, 285.0924377441406, 284.9201354980469, 297.0971374511719)]\n",
            "Page-129-R79.9, Coordinate: [Rect(302.1600341796875, 295.41143798828125, 319.1645812988281, 307.4161376953125)]\n",
            "Page-129-201.818, Coordinate: [Rect(275.0400085449219, 362.7249450683594, 299.6100769042969, 371.7284851074219)]\n",
            "code_highlight_dict: {'R10.84': [Rect(174.00003051757812, 316.5294189453125, 195.18890380859375, 328.53411865234375)], 'R53.83': [Rect(277.1999816894531, 276.4932556152344, 297.3597106933594, 287.49755859375)], 'E29.1': [Rect(303.1200256347656, 307.2502746582031, 318.5249938964844, 317.25421142578125)], 'E78.2': [Rect(110.4000015258789, 295.41143798828125, 126.7998046875, 307.4161376953125)], 'E55.9': [Rect(282.2400207519531, 347.6864318847656, 297.0398254394531, 360.6915283203125)], 'R74.0': [Rect(300.9599914550781, 265.2543029785156, 317.760986328125, 275.25823974609375)], 'E03.9': [Rect(304.08001708984375, 316.5294189453125, 321.079833984375, 328.53411865234375)], '279.899': [Rect(305.280029296875, 327.6883239746094, 330.2702941894531, 336.6918640136719)], '212.5': [Rect(303.6000061035156, 339.12725830078125, 320.2000427246094, 350.1315612792969)], 'M10.9': [Rect(267.1199951171875, 285.0924377441406, 284.9201354980469, 297.0971374511719)], 'R79.9': [Rect(302.1600341796875, 295.41143798828125, 319.1645812988281, 307.4161376953125)], '201.818': [Rect(275.0400085449219, 362.7249450683594, 299.6100769042969, 371.7284851074219)]}\n",
            "code-R10.84, Coordinate: [Rect(174.00003051757812, 316.5294189453125, 195.18890380859375, 328.53411865234375)]\n",
            "code-R53.83, Coordinate: [Rect(277.1999816894531, 276.4932556152344, 297.3597106933594, 287.49755859375)]\n",
            "code-E29.1, Coordinate: [Rect(303.1200256347656, 307.2502746582031, 318.5249938964844, 317.25421142578125)]\n",
            "code-E78.2, Coordinate: [Rect(110.4000015258789, 295.41143798828125, 126.7998046875, 307.4161376953125)]\n",
            "code-E55.9, Coordinate: [Rect(282.2400207519531, 347.6864318847656, 297.0398254394531, 360.6915283203125)]\n",
            "code-R74.0, Coordinate: [Rect(300.9599914550781, 265.2543029785156, 317.760986328125, 275.25823974609375)]\n",
            "code-E03.9, Coordinate: [Rect(304.08001708984375, 316.5294189453125, 321.079833984375, 328.53411865234375)]\n",
            "code-279.899, Coordinate: [Rect(305.280029296875, 327.6883239746094, 330.2702941894531, 336.6918640136719)]\n",
            "code-212.5, Coordinate: [Rect(303.6000061035156, 339.12725830078125, 320.2000427246094, 350.1315612792969)]\n",
            "code-M10.9, Coordinate: [Rect(267.1199951171875, 285.0924377441406, 284.9201354980469, 297.0971374511719)]\n",
            "code-R79.9, Coordinate: [Rect(302.1600341796875, 295.41143798828125, 319.1645812988281, 307.4161376953125)]\n",
            "code-201.818, Coordinate: [Rect(275.0400085449219, 362.7249450683594, 299.6100769042969, 371.7284851074219)]\n",
            "num_page: 129\n",
            "num_page: 130\n",
            "num_page: 131\n",
            "Page-132-J1100, Coordinate: [Rect(282.140380859375, 416.421875, 295.39520263671875, 424.51824951171875)]\n",
            "Page-132-E55.9, Coordinate: [Rect(350.0973205566406, 491.83453369140625, 361.54510498046875, 498.9177551269531)]\n",
            "Page-132-R73.01, Coordinate: [Rect(366.63421630859375, 453.5895080566406, 380.0880432128906, 465.6889343261719)]\n",
            "Page-132-R945, Coordinate: [Rect(364.464111328125, 435.6252136230469, 375.46307373046875, 443.7057800292969)]\n",
            "Page-132-212.5, Coordinate: [Rect(366.6524353027344, 485.42523193359375, 378.12823486328125, 496.5104064941406)]\n",
            "Page-132-201.818, Coordinate: [Rect(346.5020446777344, 495.9088134765625, 363.3843994140625, 508.0323791503906)]\n",
            "code_highlight_dict: {'J1100': [Rect(282.140380859375, 416.421875, 295.39520263671875, 424.51824951171875)], 'E55.9': [Rect(350.0973205566406, 491.83453369140625, 361.54510498046875, 498.9177551269531)], 'R73.01': [Rect(366.63421630859375, 453.5895080566406, 380.0880432128906, 465.6889343261719)], 'R945': [Rect(364.464111328125, 435.6252136230469, 375.46307373046875, 443.7057800292969)], '212.5': [Rect(366.6524353027344, 485.42523193359375, 378.12823486328125, 496.5104064941406)], '201.818': [Rect(346.5020446777344, 495.9088134765625, 363.3843994140625, 508.0323791503906)]}\n",
            "code-J1100, Coordinate: [Rect(282.140380859375, 416.421875, 295.39520263671875, 424.51824951171875)]\n",
            "code-E55.9, Coordinate: [Rect(350.0973205566406, 491.83453369140625, 361.54510498046875, 498.9177551269531)]\n",
            "code-R73.01, Coordinate: [Rect(366.63421630859375, 453.5895080566406, 380.0880432128906, 465.6889343261719)]\n",
            "code-R945, Coordinate: [Rect(364.464111328125, 435.6252136230469, 375.46307373046875, 443.7057800292969)]\n",
            "code-212.5, Coordinate: [Rect(366.6524353027344, 485.42523193359375, 378.12823486328125, 496.5104064941406)]\n",
            "code-201.818, Coordinate: [Rect(346.5020446777344, 495.9088134765625, 363.3843994140625, 508.0323791503906)]\n",
            "num_page: 132\n",
            "Page-133-R10.84, Coordinate: [Rect(381.56866455078125, 406.39410400390625, 396.3788146972656, 416.39898681640625)]\n",
            "Page-133-Z01.84, Coordinate: [Rect(371.24957275390625, 503.5950927734375, 386.0597229003906, 513.5999755859375)]\n",
            "Page-133-R73.01, Coordinate: [Rect(366.68902587890625, 453.35406494140625, 379.8550720214844, 465.35992431640625)]\n",
            "Page-133-M13.0, Coordinate: [Rect(349.1717224121094, 425.8341064453125, 365.7701416015625, 435.8389892578125)]\n",
            "code_highlight_dict: {'R10.84': [Rect(381.56866455078125, 406.39410400390625, 396.3788146972656, 416.39898681640625)], 'Z01.84': [Rect(371.24957275390625, 503.5950927734375, 386.0597229003906, 513.5999755859375)], 'R73.01': [Rect(366.68902587890625, 453.35406494140625, 379.8550720214844, 465.35992431640625)], 'M13.0': [Rect(349.1717224121094, 425.8341064453125, 365.7701416015625, 435.8389892578125)]}\n",
            "code-R10.84, Coordinate: [Rect(381.56866455078125, 406.39410400390625, 396.3788146972656, 416.39898681640625)]\n",
            "code-Z01.84, Coordinate: [Rect(371.24957275390625, 503.5950927734375, 386.0597229003906, 513.5999755859375)]\n",
            "code-R73.01, Coordinate: [Rect(366.68902587890625, 453.35406494140625, 379.8550720214844, 465.35992431640625)]\n",
            "code-M13.0, Coordinate: [Rect(349.1717224121094, 425.8341064453125, 365.7701416015625, 435.8389892578125)]\n",
            "num_page: 133\n",
            "Page-134-E22, Coordinate: [Rect(168.7038116455078, 424.8000183105469, 177.63204956054688, 430.8029479980469)]\n",
            "Page-134-S73, Coordinate: [Rect(168.4638214111328, 468.9200439453125, 177.5349578857422, 475.9234619140625)]\n",
            "Page-134-D84.8, Coordinate: [Rect(352.2850646972656, 418.04095458984375, 363.48394775390625, 425.04437255859375)]\n",
            "code_highlight_dict: {'E22': [Rect(168.7038116455078, 424.8000183105469, 177.63204956054688, 430.8029479980469)], 'S73': [Rect(168.4638214111328, 468.9200439453125, 177.5349578857422, 475.9234619140625)], 'D84.8': [Rect(352.2850646972656, 418.04095458984375, 363.48394775390625, 425.04437255859375)]}\n",
            "code-E22, Coordinate: [Rect(168.7038116455078, 424.8000183105469, 177.63204956054688, 430.8029479980469)]\n",
            "code-S73, Coordinate: [Rect(168.4638214111328, 468.9200439453125, 177.5349578857422, 475.9234619140625)]\n",
            "code-D84.8, Coordinate: [Rect(352.2850646972656, 418.04095458984375, 363.48394775390625, 425.04437255859375)]\n",
            "num_page: 134\n",
            "num_page: 135\n",
            "num_page: 136\n",
            "num_page: 137\n",
            "Page-138-I25.10, Coordinate: [Rect(339.80731201171875, 399.5600891113281, 352.3548583984375, 406.5635070800781)]\n",
            "code_highlight_dict: {'I25.10': [Rect(339.80731201171875, 399.5600891113281, 352.3548583984375, 406.5635070800781)]}\n",
            "code-I25.10, Coordinate: [Rect(339.80731201171875, 399.5600891113281, 352.3548583984375, 406.5635070800781)]\n",
            "num_page: 138\n",
            "num_page: 139\n",
            "num_page: 140\n",
            "Page-141-C85, Coordinate: [Rect(135.83489990234375, 512.0379638671875, 143.03428649902344, 521.0423583984375)]\n",
            "Page-141-S039, Coordinate: [Rect(102.95712280273438, 306.1980285644531, 114.66812896728516, 313.2014465332031)]\n",
            "Page-141-O08, Coordinate: [Rect(102.95513916015625, 259.760009765625, 114.29405212402344, 269.764892578125)]\n",
            "code_highlight_dict: {'C85': [Rect(135.83489990234375, 512.0379638671875, 143.03428649902344, 521.0423583984375)], 'S039': [Rect(102.95712280273438, 306.1980285644531, 114.66812896728516, 313.2014465332031)], 'O08': [Rect(102.95513916015625, 259.760009765625, 114.29405212402344, 269.764892578125)]}\n",
            "code-C85, Coordinate: [Rect(135.83489990234375, 512.0379638671875, 143.03428649902344, 521.0423583984375)]\n",
            "code-S039, Coordinate: [Rect(102.95712280273438, 306.1980285644531, 114.66812896728516, 313.2014465332031)]\n",
            "code-O08, Coordinate: [Rect(102.95513916015625, 259.760009765625, 114.29405212402344, 269.764892578125)]\n",
            "num_page: 141\n",
            "Page-142-R53.83, Coordinate: [Rect(232.53858947753906, 652.239990234375, 246.31997680664062, 660.243896484375)]\n",
            "Page-142-B59, Coordinate: [Rect(237.57823181152344, 698.3199462890625, 246.0374298095703, 706.3238525390625)]\n",
            "Page-142-B38, Coordinate: [Rect(251.7368621826172, 679.7999877929688, 260.1959533691406, 688.8043823242188)]\n",
            "Page-142-201.84, Coordinate: [Rect(256.7763366699219, 712.0799560546875, 268.70672607421875, 718.0828857421875)]\n",
            "Page-142-212.5, Coordinate: [Rect(251.73687744140625, 693.8399658203125, 261.1358337402344, 699.8428955078125)]\n",
            "code_highlight_dict: {'R53.83': [Rect(232.53858947753906, 652.239990234375, 246.31997680664062, 660.243896484375)], 'B59': [Rect(237.57823181152344, 698.3199462890625, 246.0374298095703, 706.3238525390625)], 'B38': [Rect(251.7368621826172, 679.7999877929688, 260.1959533691406, 688.8043823242188)], '201.84': [Rect(256.7763366699219, 712.0799560546875, 268.70672607421875, 718.0828857421875)], '212.5': [Rect(251.73687744140625, 693.8399658203125, 261.1358337402344, 699.8428955078125)]}\n",
            "code-R53.83, Coordinate: [Rect(232.53858947753906, 652.239990234375, 246.31997680664062, 660.243896484375)]\n",
            "code-B59, Coordinate: [Rect(237.57823181152344, 698.3199462890625, 246.0374298095703, 706.3238525390625)]\n",
            "code-B38, Coordinate: [Rect(251.7368621826172, 679.7999877929688, 260.1959533691406, 688.8043823242188)]\n",
            "code-201.84, Coordinate: [Rect(256.7763366699219, 712.0799560546875, 268.70672607421875, 718.0828857421875)]\n",
            "code-212.5, Coordinate: [Rect(251.73687744140625, 693.8399658203125, 261.1358337402344, 699.8428955078125)]\n",
            "num_page: 142\n",
            "Page-143-R10.84, Coordinate: [Rect(175.41622924804688, 680.9710083007812, 187.96368408203125, 688.9749145507812)]\n",
            "Page-143-R53.83, Coordinate: [Rect(236.37538146972656, 658.0780029296875, 249.3341522216797, 664.0809326171875)]\n",
            "Page-143-M13.0, Coordinate: [Rect(344.84295654296875, 369.6370849609375, 354.6421203613281, 375.6400146484375), Rect(146.86203002929688, 700.18798828125, 157.4609832763672, 708.19189453125)]\n",
            "Page-143-R99, Coordinate: [Rect(252.4528350830078, 668.7990112304688, 261.8119201660156, 676.8029174804688)]\n",
            "Page-143-S655, Coordinate: [Rect(292.9809875488281, 264.3021240234375, 303.78594970703125, 270.4017639160156)]\n",
            "Page-143-Z01.84, Coordinate: [Rect(258.9302673339844, 713.4409790039062, 270.655029296875, 721.4448852539062)]\n",
            "Page-143-201.818, Coordinate: [Rect(236.8523712158203, 707.6809692382812, 251.3410186767578, 715.6848754882812)]\n",
            "Page-143-Z79.899, Coordinate: [Rect(361.1663513183594, 409.44012451171875, 376.074951171875, 415.44305419921875)]\n",
            "Page-143-Z12.5, Coordinate: [Rect(253.4117889404297, 695.4409790039062, 263.8107604980469, 703.4448852539062)]\n",
            "code_highlight_dict: {'R10.84': [Rect(175.41622924804688, 680.9710083007812, 187.96368408203125, 688.9749145507812)], 'R53.83': [Rect(236.37538146972656, 658.0780029296875, 249.3341522216797, 664.0809326171875)], 'M13.0': [Rect(344.84295654296875, 369.6370849609375, 354.6421203613281, 375.6400146484375), Rect(146.86203002929688, 700.18798828125, 157.4609832763672, 708.19189453125)], 'R99': [Rect(252.4528350830078, 668.7990112304688, 261.8119201660156, 676.8029174804688)], 'S655': [Rect(292.9809875488281, 264.3021240234375, 303.78594970703125, 270.4017639160156)], 'Z01.84': [Rect(258.9302673339844, 713.4409790039062, 270.655029296875, 721.4448852539062)], '201.818': [Rect(236.8523712158203, 707.6809692382812, 251.3410186767578, 715.6848754882812)], 'Z79.899': [Rect(361.1663513183594, 409.44012451171875, 376.074951171875, 415.44305419921875)], 'Z12.5': [Rect(253.4117889404297, 695.4409790039062, 263.8107604980469, 703.4448852539062)]}\n",
            "code-R10.84, Coordinate: [Rect(175.41622924804688, 680.9710083007812, 187.96368408203125, 688.9749145507812)]\n",
            "code-R53.83, Coordinate: [Rect(236.37538146972656, 658.0780029296875, 249.3341522216797, 664.0809326171875)]\n",
            "code-M13.0, Coordinate: [Rect(344.84295654296875, 369.6370849609375, 354.6421203613281, 375.6400146484375), Rect(146.86203002929688, 700.18798828125, 157.4609832763672, 708.19189453125)]\n",
            "code-R99, Coordinate: [Rect(252.4528350830078, 668.7990112304688, 261.8119201660156, 676.8029174804688)]\n",
            "code-S655, Coordinate: [Rect(292.9809875488281, 264.3021240234375, 303.78594970703125, 270.4017639160156)]\n",
            "code-Z01.84, Coordinate: [Rect(258.9302673339844, 713.4409790039062, 270.655029296875, 721.4448852539062)]\n",
            "code-201.818, Coordinate: [Rect(236.8523712158203, 707.6809692382812, 251.3410186767578, 715.6848754882812)]\n",
            "code-Z79.899, Coordinate: [Rect(361.1663513183594, 409.44012451171875, 376.074951171875, 415.44305419921875)]\n",
            "code-Z12.5, Coordinate: [Rect(253.4117889404297, 695.4409790039062, 263.8107604980469, 703.4448852539062)]\n",
            "num_page: 143\n",
            "Page-144-G0402, Coordinate: [Rect(70.55442810058594, 303.5610046386719, 84.1530532836914, 310.5644226074219)]\n",
            "Page-144-R10.84, Coordinate: [Rect(385.8840637207031, 454.72015380859375, 402.3398132324219, 462.72406005859375)]\n",
            "Page-144-R53.83, Coordinate: [Rect(349.6495056152344, 490.0401916503906, 364.45947265625, 503.0465393066406)]\n",
            "Page-144-E29.1, Coordinate: [Rect(368.607666015625, 515.0802001953125, 380.6064758300781, 526.0855712890625)]\n",
            "Page-144-M13.0, Coordinate: [Rect(352.04931640625, 474.76019287109375, 363.44805908203125, 485.76556396484375)]\n",
            "Page-144-D64.9, Coordinate: [Rect(361.64642333984375, 468.7651672363281, 374.0466613769531, 479.7705383300781)]\n",
            "Page-144-Z79.890, Coordinate: [Rect(372.207275390625, 526.8401489257812, 391.1051025390625, 537.8455200195312)]\n",
            "Page-144-C23, Coordinate: [Rect(42.95693588256836, 211.60101318359375, 75.1783447265625, 225.60784912109375)]\n",
            "Page-144-R74.0, Coordinate: [Rect(368.60772705078125, 484.2001953125, 380.6080627441406, 493.20458984375)]\n",
            "Page-144-R73.01, Coordinate: [Rect(370.2874755859375, 507.400146484375, 384.27484130859375, 518.405517578125)]\n",
            "Page-144-E03,9, Coordinate: [Rect(370.43133544921875, 521.16015625, 382.9100036621094, 530.16455078125)]\n",
            "code_highlight_dict: {'G0402': [Rect(70.55442810058594, 303.5610046386719, 84.1530532836914, 310.5644226074219)], 'R10.84': [Rect(385.8840637207031, 454.72015380859375, 402.3398132324219, 462.72406005859375)], 'R53.83': [Rect(349.6495056152344, 490.0401916503906, 364.45947265625, 503.0465393066406)], 'E29.1': [Rect(368.607666015625, 515.0802001953125, 380.6064758300781, 526.0855712890625)], 'M13.0': [Rect(352.04931640625, 474.76019287109375, 363.44805908203125, 485.76556396484375)], 'D64.9': [Rect(361.64642333984375, 468.7651672363281, 374.0466613769531, 479.7705383300781)], 'Z79.890': [Rect(372.207275390625, 526.8401489257812, 391.1051025390625, 537.8455200195312)], 'C23': [Rect(42.95693588256836, 211.60101318359375, 75.1783447265625, 225.60784912109375)], 'R74.0': [Rect(368.60772705078125, 484.2001953125, 380.6080627441406, 493.20458984375)], 'R73.01': [Rect(370.2874755859375, 507.400146484375, 384.27484130859375, 518.405517578125)], 'E03,9': [Rect(370.43133544921875, 521.16015625, 382.9100036621094, 530.16455078125)]}\n",
            "code-G0402, Coordinate: [Rect(70.55442810058594, 303.5610046386719, 84.1530532836914, 310.5644226074219)]\n",
            "code-R10.84, Coordinate: [Rect(385.8840637207031, 454.72015380859375, 402.3398132324219, 462.72406005859375)]\n",
            "code-R53.83, Coordinate: [Rect(349.6495056152344, 490.0401916503906, 364.45947265625, 503.0465393066406)]\n",
            "code-E29.1, Coordinate: [Rect(368.607666015625, 515.0802001953125, 380.6064758300781, 526.0855712890625)]\n",
            "code-M13.0, Coordinate: [Rect(352.04931640625, 474.76019287109375, 363.44805908203125, 485.76556396484375)]\n",
            "code-D64.9, Coordinate: [Rect(361.64642333984375, 468.7651672363281, 374.0466613769531, 479.7705383300781)]\n",
            "code-Z79.890, Coordinate: [Rect(372.207275390625, 526.8401489257812, 391.1051025390625, 537.8455200195312)]\n",
            "code-C23, Coordinate: [Rect(42.95693588256836, 211.60101318359375, 75.1783447265625, 225.60784912109375)]\n",
            "code-R74.0, Coordinate: [Rect(368.60772705078125, 484.2001953125, 380.6080627441406, 493.20458984375)]\n",
            "code-R73.01, Coordinate: [Rect(370.2874755859375, 507.400146484375, 384.27484130859375, 518.405517578125)]\n",
            "code-E03,9, Coordinate: [Rect(370.43133544921875, 521.16015625, 382.9100036621094, 530.16455078125)]\n",
            "num_page: 144\n",
            "num_page: 145\n",
            "Page-146-R10.84, Coordinate: [Rect(174.48001098632812, 310.1300048828125, 195.25799560546875, 320.1339416503906)]\n",
            "Page-146-R53.83, Coordinate: [Rect(275.0400085449219, 268.8539733886719, 296.0226135253906, 278.85791015625)]\n",
            "Page-146-E29.1, Coordinate: [Rect(302.1600036621094, 301.53082275390625, 317.96002197265625, 310.53436279296875)]\n",
            "Page-146-E78.2, Coordinate: [Rect(111.3600082397461, 290.6918640136719, 127.76499938964844, 300.69580078125)]\n",
            "Page-146-D64.9, Coordinate: [Rect(141.36000061035156, 329.80810546875, 158.5600128173828, 339.8120422363281)]\n",
            "Page-146-E11.9, Coordinate: [Rect(113.52000427246094, 281.0927734375, 129.3200225830078, 291.0967102050781)]\n",
            "Page-146-E55.9, Coordinate: [Rect(280.55999755859375, 342.766845703125, 296.7610168457031, 352.7707824707031)]\n",
            "Page-146-R74.0, Coordinate: [Rect(300.0, 258.0550231933594, 316.7999267578125, 268.0589599609375)]\n",
            "Page-146-Z00.0, Coordinate: [Rect(117.36000061035156, 261.1747131347656, 133.760986328125, 271.17864990234375)]\n",
            "Page-146-E03.9, Coordinate: [Rect(303.8399963378906, 311.08990478515625, 320.239990234375, 321.0938415527344)]\n",
            "Page-146-279.899, Coordinate: [Rect(305.03997802734375, 321.408935546875, 330.033447265625, 331.4128723144531)]\n",
            "Page-146-212.5, Coordinate: [Rect(303.5999755859375, 331.9678955078125, 320.200927734375, 341.9718322753906)]\n",
            "Page-146-R79.9, Coordinate: [Rect(301.9200134277344, 289.971923828125, 318.91998291015625, 299.9758605957031)]\n",
            "Page-146-201.818, Coordinate: [Rect(275.0400085449219, 354.3257751464844, 300.0302734375, 363.3293151855469)]\n",
            "code_highlight_dict: {'R10.84': [Rect(174.48001098632812, 310.1300048828125, 195.25799560546875, 320.1339416503906)], 'R53.83': [Rect(275.0400085449219, 268.8539733886719, 296.0226135253906, 278.85791015625)], 'E29.1': [Rect(302.1600036621094, 301.53082275390625, 317.96002197265625, 310.53436279296875)], 'E78.2': [Rect(111.3600082397461, 290.6918640136719, 127.76499938964844, 300.69580078125)], 'D64.9': [Rect(141.36000061035156, 329.80810546875, 158.5600128173828, 339.8120422363281)], 'E11.9': [Rect(113.52000427246094, 281.0927734375, 129.3200225830078, 291.0967102050781)], 'E55.9': [Rect(280.55999755859375, 342.766845703125, 296.7610168457031, 352.7707824707031)], 'R74.0': [Rect(300.0, 258.0550231933594, 316.7999267578125, 268.0589599609375)], 'Z00.0': [Rect(117.36000061035156, 261.1747131347656, 133.760986328125, 271.17864990234375)], 'E03.9': [Rect(303.8399963378906, 311.08990478515625, 320.239990234375, 321.0938415527344)], '279.899': [Rect(305.03997802734375, 321.408935546875, 330.033447265625, 331.4128723144531)], '212.5': [Rect(303.5999755859375, 331.9678955078125, 320.200927734375, 341.9718322753906)], 'R79.9': [Rect(301.9200134277344, 289.971923828125, 318.91998291015625, 299.9758605957031)], '201.818': [Rect(275.0400085449219, 354.3257751464844, 300.0302734375, 363.3293151855469)]}\n",
            "code-R10.84, Coordinate: [Rect(174.48001098632812, 310.1300048828125, 195.25799560546875, 320.1339416503906)]\n",
            "code-R53.83, Coordinate: [Rect(275.0400085449219, 268.8539733886719, 296.0226135253906, 278.85791015625)]\n",
            "code-201.818, Coordinate: [Rect(275.0400085449219, 354.3257751464844, 300.0302734375, 363.3293151855469)]\n",
            "code-E29.1, Coordinate: [Rect(302.1600036621094, 301.53082275390625, 317.96002197265625, 310.53436279296875)]\n",
            "code-E78.2, Coordinate: [Rect(111.3600082397461, 290.6918640136719, 127.76499938964844, 300.69580078125)]\n",
            "code-D64.9, Coordinate: [Rect(141.36000061035156, 329.80810546875, 158.5600128173828, 339.8120422363281)]\n",
            "code-E11.9, Coordinate: [Rect(113.52000427246094, 281.0927734375, 129.3200225830078, 291.0967102050781)]\n",
            "code-E55.9, Coordinate: [Rect(280.55999755859375, 342.766845703125, 296.7610168457031, 352.7707824707031)]\n",
            "code-R74.0, Coordinate: [Rect(300.0, 258.0550231933594, 316.7999267578125, 268.0589599609375)]\n",
            "code-Z00.0, Coordinate: [Rect(117.36000061035156, 261.1747131347656, 133.760986328125, 271.17864990234375)]\n",
            "code-E03.9, Coordinate: [Rect(303.8399963378906, 311.08990478515625, 320.239990234375, 321.0938415527344)]\n",
            "code-279.899, Coordinate: [Rect(305.03997802734375, 321.408935546875, 330.033447265625, 331.4128723144531)]\n",
            "code-212.5, Coordinate: [Rect(303.5999755859375, 331.9678955078125, 320.200927734375, 341.9718322753906)]\n",
            "code-R79.9, Coordinate: [Rect(301.9200134277344, 289.971923828125, 318.91998291015625, 299.9758605957031)]\n",
            "num_page: 146\n",
            "Page-147-R10.84, Coordinate: [Rect(363.3290100097656, 360.5188903808594, 375.2593688964844, 371.5242614746094)]\n",
            "Page-147-E29.1, Coordinate: [Rect(241.41676330566406, 679.0400390625, 251.41778564453125, 689.044921875)]\n",
            "Page-147-R53.83, Coordinate: [Rect(226.29824829101562, 660.7200317382812, 238.22860717773438, 666.7229614257812)]\n",
            "Page-147-M13.0, Coordinate: [Rect(334.2917785644531, 379.79888916015625, 343.8907775878906, 388.80328369140625)]\n",
            "Page-147-D64.9, Coordinate: [Rect(342.2110290527344, 377.2789001464844, 352.2099304199219, 383.2818298339844)]\n",
            "Page-147-C88, Coordinate: [Rect(145.66981506347656, 443.1588439941406, 151.78932189941406, 452.1632385253906)]\n",
            "Page-147-G83, Coordinate: [Rect(395.2418518066406, 718.5599975585938, 401.0013427734375, 724.5629272460938)]\n",
            "Page-147-R74.0, Coordinate: [Rect(240.45687866210938, 654.47998046875, 250.85595703125, 660.48291015625), Rect(347.970458984375, 389.03887939453125, 357.3694152832031, 395.04180908203125)]\n",
            "Page-147-T62, Coordinate: [Rect(396.201904296875, 643.760009765625, 402.5013122558594, 653.764892578125)]\n",
            "Page-147-H27, Coordinate: [Rect(134.86309814453125, 204.01800537109375, 146.9233856201172, 213.02239990234375)]\n",
            "Page-147-P10, Coordinate: [Rect(229.42193603515625, 257.75885009765625, 239.93292236328125, 263.76177978515625)]\n",
            "Page-147-H25, Coordinate: [Rect(347.97039794921875, 427.5988464355469, 357.3312072753906, 435.6027526855469)]\n",
            "Page-147-S97, Coordinate: [Rect(116.39087677001953, 227.55694580078125, 126.10993957519531, 232.55938720703125)]\n",
            "Page-147-279.899, Coordinate: [Rect(243.3365478515625, 693.0400390625, 258.455078125, 701.0439453125)]\n",
            "Page-147-R79.9, Coordinate: [Rect(241.1768035888672, 675.760009765625, 251.9757843017578, 683.763916015625)]\n",
            "Page-147-Z01.818, Coordinate: [Rect(331.8919677734375, 439.11883544921875, 346.590576171875, 447.12274169921875)]\n",
            "code_highlight_dict: {'R10.84': [Rect(363.3290100097656, 360.5188903808594, 375.2593688964844, 371.5242614746094)], 'E29.1': [Rect(241.41676330566406, 679.0400390625, 251.41778564453125, 689.044921875)], 'R53.83': [Rect(226.29824829101562, 660.7200317382812, 238.22860717773438, 666.7229614257812)], 'M13.0': [Rect(334.2917785644531, 379.79888916015625, 343.8907775878906, 388.80328369140625)], 'D64.9': [Rect(342.2110290527344, 377.2789001464844, 352.2099304199219, 383.2818298339844)], 'C88': [Rect(145.66981506347656, 443.1588439941406, 151.78932189941406, 452.1632385253906)], 'G83': [Rect(395.2418518066406, 718.5599975585938, 401.0013427734375, 724.5629272460938)], 'R74.0': [Rect(240.45687866210938, 654.47998046875, 250.85595703125, 660.48291015625), Rect(347.970458984375, 389.03887939453125, 357.3694152832031, 395.04180908203125)], 'T62': [Rect(396.201904296875, 643.760009765625, 402.5013122558594, 653.764892578125)], 'H27': [Rect(134.86309814453125, 204.01800537109375, 146.9233856201172, 213.02239990234375)], 'P10': [Rect(229.42193603515625, 257.75885009765625, 239.93292236328125, 263.76177978515625)], 'H25': [Rect(347.97039794921875, 427.5988464355469, 357.3312072753906, 435.6027526855469)], 'S97': [Rect(116.39087677001953, 227.55694580078125, 126.10993957519531, 232.55938720703125)], '279.899': [Rect(243.3365478515625, 693.0400390625, 258.455078125, 701.0439453125)], 'R79.9': [Rect(241.1768035888672, 675.760009765625, 251.9757843017578, 683.763916015625)], 'Z01.818': [Rect(331.8919677734375, 439.11883544921875, 346.590576171875, 447.12274169921875)]}\n",
            "code-R10.84, Coordinate: [Rect(363.3290100097656, 360.5188903808594, 375.2593688964844, 371.5242614746094)]\n",
            "code-E29.1, Coordinate: [Rect(241.41676330566406, 679.0400390625, 251.41778564453125, 689.044921875)]\n",
            "code-R53.83, Coordinate: [Rect(226.29824829101562, 660.7200317382812, 238.22860717773438, 666.7229614257812)]\n",
            "code-M13.0, Coordinate: [Rect(334.2917785644531, 379.79888916015625, 343.8907775878906, 388.80328369140625)]\n",
            "code-D64.9, Coordinate: [Rect(342.2110290527344, 377.2789001464844, 352.2099304199219, 383.2818298339844)]\n",
            "code-C88, Coordinate: [Rect(145.66981506347656, 443.1588439941406, 151.78932189941406, 452.1632385253906)]\n",
            "code-G83, Coordinate: [Rect(395.2418518066406, 718.5599975585938, 401.0013427734375, 724.5629272460938)]\n",
            "code-R74.0, Coordinate: [Rect(240.45687866210938, 654.47998046875, 250.85595703125, 660.48291015625), Rect(347.970458984375, 389.03887939453125, 357.3694152832031, 395.04180908203125)]\n",
            "code-T62, Coordinate: [Rect(396.201904296875, 643.760009765625, 402.5013122558594, 653.764892578125)]\n",
            "code-H27, Coordinate: [Rect(134.86309814453125, 204.01800537109375, 146.9233856201172, 213.02239990234375)]\n",
            "code-P10, Coordinate: [Rect(229.42193603515625, 257.75885009765625, 239.93292236328125, 263.76177978515625)]\n",
            "code-H25, Coordinate: [Rect(347.97039794921875, 427.5988464355469, 357.3312072753906, 435.6027526855469)]\n",
            "code-S97, Coordinate: [Rect(116.39087677001953, 227.55694580078125, 126.10993957519531, 232.55938720703125)]\n",
            "code-279.899, Coordinate: [Rect(243.3365478515625, 693.0400390625, 258.455078125, 701.0439453125)]\n",
            "code-R79.9, Coordinate: [Rect(241.1768035888672, 675.760009765625, 251.9757843017578, 683.763916015625)]\n",
            "code-Z01.818, Coordinate: [Rect(331.8919677734375, 439.11883544921875, 346.590576171875, 447.12274169921875)]\n",
            "num_page: 147\n",
            "Page-148-R10.84, Coordinate: [Rect(365.8757019042969, 360.0603942871094, 378.52716064453125, 368.2274475097656), Rect(170.58920288085938, 675.3790283203125, 183.65200805664062, 683.5513916015625)]\n",
            "Page-148-M19, Coordinate: [Rect(142.7380828857422, 696.6985473632812, 148.60324096679688, 704.7774047851562)]\n",
            "Page-148-C438, Coordinate: [Rect(123.05860137939453, 249.6090087890625, 133.50363159179688, 255.7467041015625)]\n",
            "Page-148-R74.0, Coordinate: [Rect(352.42303466796875, 383.57745361328125, 361.7261962890625, 391.70098876953125), Rect(247.64785766601562, 646.6048583984375, 256.9510192871094, 654.7283935546875)]\n",
            "Page-148-M10.9, Coordinate: [Rect(331.2975769042969, 395.57086181640625, 342.0006103515625, 403.7125549316406)]\n",
            "Page-148-R79.9, Coordinate: [Rect(248.11520385742188, 665.8111572265625, 257.8183288574219, 673.9398803710938)]\n",
            "code_highlight_dict: {'R10.84': [Rect(365.8757019042969, 360.0603942871094, 378.52716064453125, 368.2274475097656), Rect(170.58920288085938, 675.3790283203125, 183.65200805664062, 683.5513916015625)], 'M19': [Rect(142.7380828857422, 696.6985473632812, 148.60324096679688, 704.7774047851562)], 'C438': [Rect(123.05860137939453, 249.6090087890625, 133.50363159179688, 255.7467041015625)], 'R74.0': [Rect(352.42303466796875, 383.57745361328125, 361.7261962890625, 391.70098876953125), Rect(247.64785766601562, 646.6048583984375, 256.9510192871094, 654.7283935546875)], 'M10.9': [Rect(331.2975769042969, 395.57086181640625, 342.0006103515625, 403.7125549316406)], 'R79.9': [Rect(248.11520385742188, 665.8111572265625, 257.8183288574219, 673.9398803710938)]}\n",
            "code-R10.84, Coordinate: [Rect(365.8757019042969, 360.0603942871094, 378.52716064453125, 368.2274475097656), Rect(170.58920288085938, 675.3790283203125, 183.65200805664062, 683.5513916015625)]\n",
            "code-M19, Coordinate: [Rect(142.7380828857422, 696.6985473632812, 148.60324096679688, 704.7774047851562)]\n",
            "code-C438, Coordinate: [Rect(123.05860137939453, 249.6090087890625, 133.50363159179688, 255.7467041015625)]\n",
            "code-R74.0, Coordinate: [Rect(352.42303466796875, 383.57745361328125, 361.7261962890625, 391.70098876953125), Rect(247.64785766601562, 646.6048583984375, 256.9510192871094, 654.7283935546875)]\n",
            "code-M10.9, Coordinate: [Rect(331.2975769042969, 395.57086181640625, 342.0006103515625, 403.7125549316406)]\n",
            "code-R79.9, Coordinate: [Rect(248.11520385742188, 665.8111572265625, 257.8183288574219, 673.9398803710938)]\n",
            "num_page: 148\n",
            "num_page: 149\n",
            "num_page: 150\n",
            "Page-151-B86, Coordinate: [Rect(112.4074935913086, 571.087158203125, 118.527587890625, 576.0891723632812)]\n",
            "code_highlight_dict: {'B86': [Rect(112.4074935913086, 571.087158203125, 118.527587890625, 576.0891723632812)]}\n",
            "code-B86, Coordinate: [Rect(112.4074935913086, 571.087158203125, 118.527587890625, 576.0891723632812)]\n",
            "num_page: 151\n",
            "Page-152-R10.84, Coordinate: [Rect(367.29815673828125, 356.7160949707031, 380.5925598144531, 369.8540954589844)]\n",
            "Page-152-R74.0, Coordinate: [Rect(353.42926025390625, 385.26934814453125, 363.30828857421875, 393.3712158203125)]\n",
            "Page-152-R23.0, Coordinate: [Rect(354.63067626953125, 402.2950744628906, 366.3111572265625, 410.4149475097656)]\n",
            "Page-152-Z00.0, Coordinate: [Rect(332.3291015625, 334.1522216796875, 342.5881652832031, 340.257080078125)]\n",
            "Page-152-E55, Coordinate: [Rect(342.1566467285156, 431.162353515625, 347.4592590332031, 439.2185363769531)]\n",
            "Page-152-D64.2, Coordinate: [Rect(348.16864013671875, 375.5059814453125, 358.427734375, 381.61083984375)]\n",
            "Page-152-201.818, Coordinate: [Rect(338.3174133300781, 437.5518493652344, 352.8877868652344, 445.7005920410156)]\n",
            "code_highlight_dict: {'R10.84': [Rect(367.29815673828125, 356.7160949707031, 380.5925598144531, 369.8540954589844)], 'R74.0': [Rect(353.42926025390625, 385.26934814453125, 363.30828857421875, 393.3712158203125)], 'R23.0': [Rect(354.63067626953125, 402.2950744628906, 366.3111572265625, 410.4149475097656)], 'Z00.0': [Rect(332.3291015625, 334.1522216796875, 342.5881652832031, 340.257080078125)], 'E55': [Rect(342.1566467285156, 431.162353515625, 347.4592590332031, 439.2185363769531)], 'D64.2': [Rect(348.16864013671875, 375.5059814453125, 358.427734375, 381.61083984375)], '201.818': [Rect(338.3174133300781, 437.5518493652344, 352.8877868652344, 445.7005920410156)]}\n",
            "code-R10.84, Coordinate: [Rect(367.29815673828125, 356.7160949707031, 380.5925598144531, 369.8540954589844)]\n",
            "code-R74.0, Coordinate: [Rect(353.42926025390625, 385.26934814453125, 363.30828857421875, 393.3712158203125)]\n",
            "code-R23.0, Coordinate: [Rect(354.63067626953125, 402.2950744628906, 366.3111572265625, 410.4149475097656)]\n",
            "code-Z00.0, Coordinate: [Rect(332.3291015625, 334.1522216796875, 342.5881652832031, 340.257080078125)]\n",
            "code-E55, Coordinate: [Rect(342.1566467285156, 431.162353515625, 347.4592590332031, 439.2185363769531)]\n",
            "code-D64.2, Coordinate: [Rect(348.16864013671875, 375.5059814453125, 358.427734375, 381.61083984375)]\n",
            "code-201.818, Coordinate: [Rect(338.3174133300781, 437.5518493652344, 352.8877868652344, 445.7005920410156)]\n",
            "num_page: 152\n",
            "Page-153-R55, Coordinate: [Rect(340.0382080078125, 389.85968017578125, 345.7976989746094, 395.86260986328125)]\n",
            "Page-153-B60, Coordinate: [Rect(123.81694793701172, 397.0016784667969, 132.63790893554688, 402.0041198730469)]\n",
            "Page-153-J93, Coordinate: [Rect(113.98001861572266, 199.47784423828125, 126.93952941894531, 204.48028564453125)]\n",
            "Page-153-I25 1, Coordinate: [Rect(141.58639526367188, 675.8400268554688, 148.07032775878906, 681.8429565429688), Rect(149.98558044433594, 675.8400268554688, 151.1854705810547, 681.8429565429688)]\n",
            "Page-153-J00, Coordinate: [Rect(288.92510986328125, 408.0206298828125, 297.5643005371094, 414.0235595703125)]\n",
            "Page-153-B07, Coordinate: [Rect(184.53004455566406, 361.229736328125, 191.7293243408203, 367.232666015625)]\n",
            "Page-153-J09, Coordinate: [Rect(288.4421691894531, 409.59259033203125, 295.6429138183594, 418.59698486328125)]\n",
            "Page-153-V74.0, Coordinate: [Rect(251.73582458496094, 648.719970703125, 261.7347717285156, 654.722900390625)]\n",
            "Page-153-S50, Coordinate: [Rect(239.60824584960938, 201.87786865234375, 247.8883514404297, 206.88031005859375)]\n",
            "Page-153-R27, Coordinate: [Rect(356.8385925292969, 407.5326232910156, 363.13800048828125, 413.5355529785156)]\n",
            "code_highlight_dict: {'R55': [Rect(340.0382080078125, 389.85968017578125, 345.7976989746094, 395.86260986328125)], 'B60': [Rect(123.81694793701172, 397.0016784667969, 132.63790893554688, 402.0041198730469)], 'J93': [Rect(113.98001861572266, 199.47784423828125, 126.93952941894531, 204.48028564453125)], 'I25 1': [Rect(141.58639526367188, 675.8400268554688, 148.07032775878906, 681.8429565429688), Rect(149.98558044433594, 675.8400268554688, 151.1854705810547, 681.8429565429688)], 'J00': [Rect(288.92510986328125, 408.0206298828125, 297.5643005371094, 414.0235595703125)], 'B07': [Rect(184.53004455566406, 361.229736328125, 191.7293243408203, 367.232666015625)], 'J09': [Rect(288.4421691894531, 409.59259033203125, 295.6429138183594, 418.59698486328125)], 'V74.0': [Rect(251.73582458496094, 648.719970703125, 261.7347717285156, 654.722900390625)], 'S50': [Rect(239.60824584960938, 201.87786865234375, 247.8883514404297, 206.88031005859375)], 'R27': [Rect(356.8385925292969, 407.5326232910156, 363.13800048828125, 413.5355529785156)]}\n",
            "code-R55, Coordinate: [Rect(340.0382080078125, 389.85968017578125, 345.7976989746094, 395.86260986328125)]\n",
            "code-B60, Coordinate: [Rect(123.81694793701172, 397.0016784667969, 132.63790893554688, 402.0041198730469)]\n",
            "code-J93, Coordinate: [Rect(113.98001861572266, 199.47784423828125, 126.93952941894531, 204.48028564453125)]\n",
            "code-I25 1, Coordinate: [Rect(141.58639526367188, 675.8400268554688, 148.07032775878906, 681.8429565429688), Rect(149.98558044433594, 675.8400268554688, 151.1854705810547, 681.8429565429688)]\n",
            "code-J00, Coordinate: [Rect(288.92510986328125, 408.0206298828125, 297.5643005371094, 414.0235595703125)]\n",
            "code-B07, Coordinate: [Rect(184.53004455566406, 361.229736328125, 191.7293243408203, 367.232666015625)]\n",
            "code-J09, Coordinate: [Rect(288.4421691894531, 409.59259033203125, 295.6429138183594, 418.59698486328125)]\n",
            "code-V74.0, Coordinate: [Rect(251.73582458496094, 648.719970703125, 261.7347717285156, 654.722900390625)]\n",
            "code-S50, Coordinate: [Rect(239.60824584960938, 201.87786865234375, 247.8883514404297, 206.88031005859375)]\n",
            "code-R27, Coordinate: [Rect(356.8385925292969, 407.5326232910156, 363.13800048828125, 413.5355529785156)]\n",
            "num_page: 153\n",
            "num_page: 154\n",
            "num_page: 155\n",
            "num_page: 156\n",
            "num_page: 157\n",
            "num_page: 158\n",
            "num_page: 159\n",
            "Page-160-R10.84, Coordinate: [Rect(381.8055725097656, 448.3580017089844, 398.2625732421875, 458.3628845214844)]\n",
            "Page-160-E559, Coordinate: [Rect(348.6839294433594, 537.9349365234375, 357.70904541015625, 547.9398193359375)]\n",
            "Page-160-T78.40XA, Coordinate: [Rect(387.80499267578125, 458.3179931640625, 401.24560546875, 466.3218994140625)]\n",
            "Page-160-M13.0, Coordinate: [Rect(347.9688415527344, 471.6780090332031, 359.5677490234375, 481.6828918457031)]\n",
            "Page-160-R74.0, Coordinate: [Rect(364.287353515625, 481.63800048828125, 376.68634033203125, 488.64141845703125)]\n",
            "Page-160-200.0, Coordinate: [Rect(337.8868103027344, 413.9199523925781, 350.48553466796875, 421.9238586425781)]\n",
            "Page-160-C85, Coordinate: [Rect(102.9525146484375, 539.6019897460938, 109.43190002441406, 549.6068725585938)]\n",
            "Page-160-I25.10, Coordinate: [Rect(336.4429016113281, 441.720947265625, 351.8713684082031, 450.725341796875)]\n",
            "Page-160-R73.01, Coordinate: [Rect(365.48724365234375, 502.35797119140625, 380.5028381347656, 513.3633422851562)]\n",
            "Page-160-064.9, Coordinate: [Rect(358.0478210449219, 465.197998046875, 369.8466491699219, 475.202880859375)]\n",
            "Page-160-201.818, Coordinate: [Rect(343.88934326171875, 545.3579711914062, 362.99755859375, 555.3628540039062)]\n",
            "Page-160-M10.9, Coordinate: [Rect(337.4099426269531, 495.99798583984375, 351.20867919921875, 504.00189208984375)]\n",
            "Page-160-J90, Coordinate: [Rect(276.9326477050781, 426.7999572753906, 289.5364990234375, 436.8048400878906)]\n",
            "code_highlight_dict: {'R10.84': [Rect(381.8055725097656, 448.3580017089844, 398.2625732421875, 458.3628845214844)], 'E559': [Rect(348.6839294433594, 537.9349365234375, 357.70904541015625, 547.9398193359375)], 'T78.40XA': [Rect(387.80499267578125, 458.3179931640625, 401.24560546875, 466.3218994140625)], 'M13.0': [Rect(347.9688415527344, 471.6780090332031, 359.5677490234375, 481.6828918457031)], 'R74.0': [Rect(364.287353515625, 481.63800048828125, 376.68634033203125, 488.64141845703125)], '200.0': [Rect(337.8868103027344, 413.9199523925781, 350.48553466796875, 421.9238586425781)], 'C85': [Rect(102.9525146484375, 539.6019897460938, 109.43190002441406, 549.6068725585938)], 'I25.10': [Rect(336.4429016113281, 441.720947265625, 351.8713684082031, 450.725341796875)], 'R73.01': [Rect(365.48724365234375, 502.35797119140625, 380.5028381347656, 513.3633422851562)], '064.9': [Rect(358.0478210449219, 465.197998046875, 369.8466491699219, 475.202880859375)], '201.818': [Rect(343.88934326171875, 545.3579711914062, 362.99755859375, 555.3628540039062)], 'M10.9': [Rect(337.4099426269531, 495.99798583984375, 351.20867919921875, 504.00189208984375)], 'J90': [Rect(276.9326477050781, 426.7999572753906, 289.5364990234375, 436.8048400878906)]}\n",
            "code-R10.84, Coordinate: [Rect(381.8055725097656, 448.3580017089844, 398.2625732421875, 458.3628845214844)]\n",
            "code-E559, Coordinate: [Rect(348.6839294433594, 537.9349365234375, 357.70904541015625, 547.9398193359375)]\n",
            "code-T78.40XA, Coordinate: [Rect(387.80499267578125, 458.3179931640625, 401.24560546875, 466.3218994140625)]\n",
            "code-M13.0, Coordinate: [Rect(347.9688415527344, 471.6780090332031, 359.5677490234375, 481.6828918457031)]\n",
            "code-R74.0, Coordinate: [Rect(364.287353515625, 481.63800048828125, 376.68634033203125, 488.64141845703125)]\n",
            "code-200.0, Coordinate: [Rect(337.8868103027344, 413.9199523925781, 350.48553466796875, 421.9238586425781)]\n",
            "code-C85, Coordinate: [Rect(102.9525146484375, 539.6019897460938, 109.43190002441406, 549.6068725585938)]\n",
            "code-I25.10, Coordinate: [Rect(336.4429016113281, 441.720947265625, 351.8713684082031, 450.725341796875)]\n",
            "code-R73.01, Coordinate: [Rect(365.48724365234375, 502.35797119140625, 380.5028381347656, 513.3633422851562)]\n",
            "code-064.9, Coordinate: [Rect(358.0478210449219, 465.197998046875, 369.8466491699219, 475.202880859375)]\n",
            "code-201.818, Coordinate: [Rect(343.88934326171875, 545.3579711914062, 362.99755859375, 555.3628540039062)]\n",
            "code-M10.9, Coordinate: [Rect(337.4099426269531, 495.99798583984375, 351.20867919921875, 504.00189208984375)]\n",
            "code-J90, Coordinate: [Rect(276.9326477050781, 426.7999572753906, 289.5364990234375, 436.8048400878906)]\n",
            "num_page: 160\n",
            "num_page: 161\n",
            "num_page: 162\n",
            "num_page: 163\n",
            "Page-164-R10.84, Coordinate: [Rect(363.8079833984375, 360.1100158691406, 376.7667541503906, 368.1139221191406)]\n",
            "Page-164-R53.83, Coordinate: [Rect(333.8068542480469, 389.4089660644531, 346.5616455078125, 397.4128723144531)]\n",
            "Page-164-R74.01, Coordinate: [Rect(350.8482360839844, 401.4779968261719, 362.5726318359375, 408.4814147949219)]\n",
            "Page-164-R74.0, Coordinate: [Rect(349.8883361816406, 385.6419982910156, 359.28729248046875, 391.6449279785156), Rect(350.8482360839844, 401.4779968261719, 360.6185607910156, 408.4814147949219)]\n",
            "Page-164-E23.1, Coordinate: [Rect(350.1282958984375, 408.2040100097656, 359.5274353027344, 415.2074279785156)]\n",
            "Page-164-M130, Coordinate: [Rect(336.4525451660156, 377.3650207519531, 345.6676330566406, 385.3689270019531)]\n",
            "Page-164-Q23, Coordinate: [Rect(283.8927307128906, 279.4670104980469, 294.51171875, 285.4699401855469)]\n",
            "Page-164-E55, Coordinate: [Rect(337.64947509765625, 430.2430114746094, 342.6889953613281, 438.2469177246094)]\n",
            "Page-164-E03.9, Coordinate: [Rect(351.3281555175781, 413.0039978027344, 361.3270568847656, 420.0074157714844)]\n",
            "Page-164-201.818, Coordinate: [Rect(334.2898254394531, 435.76300048828125, 348.3585205078125, 443.76690673828125)]\n",
            "Page-164-S055, Coordinate: [Rect(366.65179443359375, 297.2850036621094, 375.1549987792969, 305.2889099121094)]\n",
            "code_highlight_dict: {'R10.84': [Rect(363.8079833984375, 360.1100158691406, 376.7667541503906, 368.1139221191406)], 'R53.83': [Rect(333.8068542480469, 389.4089660644531, 346.5616455078125, 397.4128723144531)], 'R74.01': [Rect(350.8482360839844, 401.4779968261719, 362.5726318359375, 408.4814147949219)], 'R74.0': [Rect(349.8883361816406, 385.6419982910156, 359.28729248046875, 391.6449279785156), Rect(350.8482360839844, 401.4779968261719, 360.6185607910156, 408.4814147949219)], 'E23.1': [Rect(350.1282958984375, 408.2040100097656, 359.5274353027344, 415.2074279785156)], 'M130': [Rect(336.4525451660156, 377.3650207519531, 345.6676330566406, 385.3689270019531)], 'Q23': [Rect(283.8927307128906, 279.4670104980469, 294.51171875, 285.4699401855469)], 'E55': [Rect(337.64947509765625, 430.2430114746094, 342.6889953613281, 438.2469177246094)], 'E03.9': [Rect(351.3281555175781, 413.0039978027344, 361.3270568847656, 420.0074157714844)], '201.818': [Rect(334.2898254394531, 435.76300048828125, 348.3585205078125, 443.76690673828125)], 'S055': [Rect(366.65179443359375, 297.2850036621094, 375.1549987792969, 305.2889099121094)]}\n",
            "code-R10.84, Coordinate: [Rect(363.8079833984375, 360.1100158691406, 376.7667541503906, 368.1139221191406)]\n",
            "code-R53.83, Coordinate: [Rect(333.8068542480469, 389.4089660644531, 346.5616455078125, 397.4128723144531)]\n",
            "code-R74.01, Coordinate: [Rect(350.8482360839844, 401.4779968261719, 362.5726318359375, 408.4814147949219)]\n",
            "code-R74.0, Coordinate: [Rect(349.8883361816406, 385.6419982910156, 359.28729248046875, 391.6449279785156)]\n",
            "code-E23.1, Coordinate: [Rect(350.1282958984375, 408.2040100097656, 359.5274353027344, 415.2074279785156)]\n",
            "code-M130, Coordinate: [Rect(336.4525451660156, 377.3650207519531, 345.6676330566406, 385.3689270019531)]\n",
            "code-Q23, Coordinate: [Rect(283.8927307128906, 279.4670104980469, 294.51171875, 285.4699401855469)]\n",
            "code-E55, Coordinate: [Rect(337.64947509765625, 430.2430114746094, 342.6889953613281, 438.2469177246094)]\n",
            "code-E03.9, Coordinate: [Rect(351.3281555175781, 413.0039978027344, 361.3270568847656, 420.0074157714844)]\n",
            "code-201.818, Coordinate: [Rect(334.2898254394531, 435.76300048828125, 348.3585205078125, 443.76690673828125)]\n",
            "code-S055, Coordinate: [Rect(366.65179443359375, 297.2850036621094, 375.1549987792969, 305.2889099121094)]\n",
            "num_page: 164\n",
            "File[/home/ocreng/ocrhigh/output/APS_38600000R_final_output_4.pdf] is saved after highlighting ICD-10 code and all keyword impairment \n",
            "Highlighted code and impairment coordinates are saved into [/home/ocreng/ocrhigh/output/APS_38600000R_final_output_4.json] file.\n",
            "CPU times: user 6min 17s, sys: 3.16 s, total: 6min 21s\n",
            "Wall time: 6min 24s\n"
          ]
        }
      ]
    },
    {
      "cell_type": "code",
      "source": [
        "!zip output{output_type}.zip /home/ocreng/ocrhigh/output/*.*"
      ],
      "metadata": {
        "colab": {
          "base_uri": "https://localhost:8080/"
        },
        "id": "o_Ev-Kf9d0oD",
        "outputId": "68ad708d-9eba-4d8a-bdd9-feccfe703d38"
      },
      "execution_count": 39,
      "outputs": [
        {
          "output_type": "stream",
          "name": "stdout",
          "text": [
            "  adding: home/ocreng/ocrhigh/output/APS_38600000R_final_output_4.json (deflated 78%)\n",
            "  adding: home/ocreng/ocrhigh/output/APS_38600000R_final_output_4.pdf (deflated 5%)\n"
          ]
        }
      ]
    },
    {
      "cell_type": "code",
      "source": [
        "#matched_date_dict[13]"
      ],
      "metadata": {
        "id": "Bq9v0BAnd1K-"
      },
      "execution_count": 40,
      "outputs": []
    },
    {
      "cell_type": "code",
      "source": [
        "wrong_keyword_dict[0]"
      ],
      "metadata": {
        "colab": {
          "base_uri": "https://localhost:8080/"
        },
        "id": "OVYxrwiid5QZ",
        "outputId": "a783a9b9-7c8c-4d17-b8ba-fea120f53bd9"
      },
      "execution_count": 41,
      "outputs": [
        {
          "output_type": "execute_result",
          "data": {
            "text/plain": [
              "{'Date of Birth', 'MI', 'Mass'}"
            ]
          },
          "metadata": {},
          "execution_count": 41
        }
      ]
    },
    {
      "cell_type": "code",
      "source": [
        "if not \"T?\".find(\"?\") > -1 or not \"T)\".find(\")\") > -1:\n",
        "  print(\"yes\")"
      ],
      "metadata": {
        "id": "sM8BT17WGvyL"
      },
      "execution_count": 42,
      "outputs": []
    },
    {
      "cell_type": "markdown",
      "source": [
        "###Split TXT/PDF"
      ],
      "metadata": {
        "id": "A0j2GTO4z99I"
      }
    },
    {
      "cell_type": "code",
      "source": [
        "for pdf_file in os.listdir(INPUT_PDF_FILES_PATH):\n",
        "  pdf_file_name = f\"{INPUT_PDF_FILES_PATH}/{pdf_file}\"\n",
        "\n",
        "  # Step-1: splitting pdf file\n",
        "  print(\"Step-1: Splitting pdf file............\")\n",
        "  pdf_list = split_pdf(highlighter.PDF_FILES_PATH, pdf_file_name)\n",
        "\n",
        "  # Step-2: Extracting text from pdf\n",
        "  print(\"Step-2: Extracting text from pdf............\")\n",
        "  txt_list = extract_text_from_pdf(highlighter.PDF_FILES_PATH, highlighter.TXT_FILES_PATH, pdf_list)"
      ],
      "metadata": {
        "colab": {
          "base_uri": "https://localhost:8080/"
        },
        "id": "o2IbHJR4zqpf",
        "outputId": "37fdc1c7-e15b-4476-f70b-394c47f9bbc9"
      },
      "execution_count": null,
      "outputs": [
        {
          "output_type": "stream",
          "name": "stdout",
          "text": [
            "Step-1: Splitting pdf file............\n",
            "Step-2: Extracting text from pdf............\n"
          ]
        }
      ]
    },
    {
      "cell_type": "code",
      "source": [
        "!zip text_files.zip /home/ocreng/ocrhigh/txt-files/*.*\n",
        "!zip pdf_files.zip /home/ocreng/ocrhigh/pdf-files/*.*"
      ],
      "metadata": {
        "id": "z6rYYKDWeAZo"
      },
      "execution_count": null,
      "outputs": []
    },
    {
      "cell_type": "markdown",
      "source": [
        "###Split List"
      ],
      "metadata": {
        "id": "HQBBtc_dYJ0k"
      }
    },
    {
      "cell_type": "code",
      "source": [
        "def split_list(a_list, divider):\n",
        "  half = len(a_list)//divider\n",
        "  return a_list[:half], a_list[half:]\n",
        "\n",
        "A = [1,2,3,4,5,6]\n",
        "B, C = split_list(A, 3)\n",
        "B, C"
      ],
      "metadata": {
        "colab": {
          "base_uri": "https://localhost:8080/"
        },
        "id": "VkFlsIHRVsuw",
        "outputId": "a60ae61d-b01a-4d2c-b0d5-a625769838df"
      },
      "execution_count": null,
      "outputs": [
        {
          "output_type": "execute_result",
          "data": {
            "text/plain": [
              "([1, 2], [3, 4, 5, 6])"
            ]
          },
          "metadata": {},
          "execution_count": 26
        }
      ]
    },
    {
      "cell_type": "code",
      "source": [
        "6 // 3"
      ],
      "metadata": {
        "colab": {
          "base_uri": "https://localhost:8080/"
        },
        "id": "EalXDscJXBZB",
        "outputId": "e612778d-db65-4749-f751-b6efb5722607"
      },
      "execution_count": null,
      "outputs": [
        {
          "output_type": "execute_result",
          "data": {
            "text/plain": [
              "2"
            ]
          },
          "metadata": {},
          "execution_count": 29
        }
      ]
    },
    {
      "cell_type": "code",
      "source": [
        "int(4 / 2)"
      ],
      "metadata": {
        "colab": {
          "base_uri": "https://localhost:8080/"
        },
        "id": "INWhqkgNr1Z-",
        "outputId": "8ff3d32c-be22-47a2-9c25-034b6ba47bd4"
      },
      "execution_count": null,
      "outputs": [
        {
          "output_type": "execute_result",
          "data": {
            "text/plain": [
              "2"
            ]
          },
          "metadata": {},
          "execution_count": 27
        }
      ]
    },
    {
      "cell_type": "code",
      "source": [
        "!pip install more-itertools"
      ],
      "metadata": {
        "colab": {
          "base_uri": "https://localhost:8080/"
        },
        "id": "XIoOMq6GXw0O",
        "outputId": "9c8d984e-9281-4a0f-a361-0ebb5ab4ef8b"
      },
      "execution_count": null,
      "outputs": [
        {
          "output_type": "stream",
          "name": "stdout",
          "text": [
            "Requirement already satisfied: more-itertools in /usr/local/lib/python3.10/dist-packages (10.1.0)\n"
          ]
        }
      ]
    },
    {
      "cell_type": "code",
      "source": [
        "import more_itertools"
      ],
      "metadata": {
        "id": "2-pQgsgUXxX1"
      },
      "execution_count": null,
      "outputs": []
    },
    {
      "cell_type": "code",
      "source": [
        "for batch in more_itertools.batched([1,2,3,4,5,6], 3):\n",
        "  print(batch)"
      ],
      "metadata": {
        "colab": {
          "base_uri": "https://localhost:8080/"
        },
        "id": "fN1bIbkfYR1q",
        "outputId": "affc4fc1-4f8a-4d27-ac99-10b9c13ff7a1"
      },
      "execution_count": null,
      "outputs": [
        {
          "output_type": "stream",
          "name": "stdout",
          "text": [
            "(1, 2, 3)\n",
            "(4, 5, 6)\n"
          ]
        }
      ]
    },
    {
      "cell_type": "code",
      "source": [
        "for batch in more_itertools.batched(\"ABCDEFGHIJ\", 4):\n",
        "  print(batch)"
      ],
      "metadata": {
        "id": "Y9dkrNWlYaTd"
      },
      "execution_count": null,
      "outputs": []
    },
    {
      "cell_type": "code",
      "source": [
        "def split_list(a_list, divider):\n",
        "  half = len(a_list) // divider\n",
        "  return a_list[:half], a_list[half:]"
      ],
      "metadata": {
        "id": "LGUDZSlTV3hT"
      },
      "execution_count": null,
      "outputs": []
    },
    {
      "cell_type": "code",
      "source": [
        "L =np.array([\n",
        "(63.5, 166.5, 81.5, 175.50439453125),\n",
        "(84.5, 166.5, 133.59002685546875, 175.50439453125),\n",
        "(130.0, 264.0, 147.49998474121094, 273.00439453125),\n",
        "(150.5, 264.0, 199.59002685546875, 273.00439453125),\n",
        "(150.5, 264.0, 199.59002685546875, 273.00439453125),\n",
        "(150.5, 264.0, 199.59002685546875, 273.00439453125)\n",
        "])"
      ],
      "metadata": {
        "id": "a2joGq7oUwQe"
      },
      "execution_count": null,
      "outputs": []
    },
    {
      "cell_type": "code",
      "source": [
        "(63.5, 166.5, 133.59002685546875, 175.50439453125)\n",
        "(130.0, 264.0, 199.59002685546875, 273.00439453125)"
      ],
      "metadata": {
        "id": "ZQfuyU5XkDph"
      },
      "execution_count": null,
      "outputs": []
    },
    {
      "cell_type": "code",
      "source": [
        "np.split(L, 3)"
      ],
      "metadata": {
        "id": "Wo1xtnpPBha8",
        "outputId": "6e4f56cf-2a34-4b6a-92dc-08f94853b03a",
        "colab": {
          "base_uri": "https://localhost:8080/"
        }
      },
      "execution_count": null,
      "outputs": [
        {
          "output_type": "execute_result",
          "data": {
            "text/plain": [
              "[array([[ 63.5       , 166.5       ,  81.5       , 175.50439453],\n",
              "        [ 84.5       , 166.5       , 133.59002686, 175.50439453]]),\n",
              " array([[130.        , 264.        , 147.49998474, 273.00439453],\n",
              "        [150.5       , 264.        , 199.59002686, 273.00439453]]),\n",
              " array([[150.5       , 264.        , 199.59002686, 273.00439453],\n",
              "        [150.5       , 264.        , 199.59002686, 273.00439453]])]"
            ]
          },
          "metadata": {},
          "execution_count": 28
        }
      ]
    },
    {
      "cell_type": "code",
      "source": [
        "LL= [\n",
        "(23.5, 443.0, 77.00015258789062, 454.00537109375),\n",
        "(79.5, 443.0, 122.99948120117188, 454.00537109375),\n",
        "(126.5, 443.0, 142.1002197265625, 454.00537109375),\n",
        "(384.5, 478.5, 430.0002136230469, 485.50341796875),\n",
        "(195.49978637695312, 487.0, 240.9998321533203, 494.00341796875),\n",
        "(246.5, 487.0, 260.5, 494.00341796875)]"
      ],
      "metadata": {
        "id": "e8jOWwcSGqyD"
      },
      "execution_count": null,
      "outputs": []
    },
    {
      "cell_type": "code",
      "source": [
        "len(LL) // 3"
      ],
      "metadata": {
        "colab": {
          "base_uri": "https://localhost:8080/"
        },
        "id": "6YtP_ibNnMkl",
        "outputId": "7c106988-be98-4d30-e273-98965dc57b58"
      },
      "execution_count": null,
      "outputs": [
        {
          "output_type": "execute_result",
          "data": {
            "text/plain": [
              "2"
            ]
          },
          "metadata": {},
          "execution_count": 44
        }
      ]
    },
    {
      "cell_type": "code",
      "source": [
        "for batch_coord in more_itertools.batched(LL, 2):\n",
        "  f_coord = batch_coord[0]\n",
        "  l_coord = batch_coord[-1]\n",
        "  print(f\"f_coord: {f_coord}\")\n",
        "  print(f\"l_coord: {l_coord}\")\n",
        "  phrase_coord = (f_coord[0], f_coord[1], l_coord[2], l_coord[3])\n",
        "  print(f\"key_phrase: CTA DISSECTION, phrase_coord: {phrase_coord}\")"
      ],
      "metadata": {
        "colab": {
          "base_uri": "https://localhost:8080/"
        },
        "id": "h3eFBmhrYmcv",
        "outputId": "d907861c-4602-49b4-91b8-817b68e220cb"
      },
      "execution_count": null,
      "outputs": [
        {
          "output_type": "stream",
          "name": "stdout",
          "text": [
            "f_coord: (23.5, 443.0, 77.00015258789062, 454.00537109375)\n",
            "l_coord: (79.5, 443.0, 122.99948120117188, 454.00537109375)\n",
            "key_phrase: CTA DISSECTION, phrase_coord: (23.5, 443.0, 122.99948120117188, 454.00537109375)\n",
            "f_coord: (126.5, 443.0, 142.1002197265625, 454.00537109375)\n",
            "l_coord: (384.5, 478.5, 430.0002136230469, 485.50341796875)\n",
            "key_phrase: CTA DISSECTION, phrase_coord: (126.5, 443.0, 430.0002136230469, 485.50341796875)\n",
            "f_coord: (195.49978637695312, 487.0, 240.9998321533203, 494.00341796875)\n",
            "l_coord: (246.5, 487.0, 260.5, 494.00341796875)\n",
            "key_phrase: CTA DISSECTION, phrase_coord: (195.49978637695312, 487.0, 260.5, 494.00341796875)\n"
          ]
        }
      ]
    },
    {
      "cell_type": "code",
      "source": [
        "key_phrase_sent = \"plan of care\"\n",
        "coordinates = [\n",
        "    (303.35198974609375, 578.380859375, 350.51043701171875, 589.455078125),\n",
        "    (432.93896484375, 647.3748779296875, 480.2064514160156, 658.4490966796875)]\n",
        "\n",
        "phrase_len = len(key_phrase_sent.split())\n",
        "print((len(coordinates) // phrase_len) )\n",
        "for batch_coord in more_itertools.batched(coordinates, 3):\n",
        "  f_coord = batch_coord[0]\n",
        "  l_coord = batch_coord[-1]\n",
        "  print(f\"f_coord: {f_coord}\")\n",
        "  print(f\"l_coord: {l_coord}\")\n",
        "  phrase_coord = (f_coord[0], f_coord[1], l_coord[2], l_coord[3])\n",
        "  print(f\"key_phrase: {key_phrase_sent}, phrase_coord: {phrase_coord}\")"
      ],
      "metadata": {
        "colab": {
          "base_uri": "https://localhost:8080/"
        },
        "id": "klqIUKJ0b8K_",
        "outputId": "da9085de-c6af-4286-b458-535f43a7ef14"
      },
      "execution_count": null,
      "outputs": [
        {
          "output_type": "stream",
          "name": "stdout",
          "text": [
            "0\n",
            "f_coord: (303.35198974609375, 578.380859375, 350.51043701171875, 589.455078125)\n",
            "l_coord: (432.93896484375, 647.3748779296875, 480.2064514160156, 658.4490966796875)\n",
            "key_phrase: plan of care, phrase_coord: (303.35198974609375, 578.380859375, 480.2064514160156, 658.4490966796875)\n"
          ]
        }
      ]
    },
    {
      "cell_type": "code",
      "source": [
        "LL= np.array([\n",
        "(23.5, 443.0, 77.00015258789062, 454.00537109375),\n",
        "(79.5, 443.0, 122.99948120117188, 454.00537109375),\n",
        "(126.5, 443.0, 142.1002197265625, 454.00537109375),\n",
        "(384.5, 478.5, 430.0002136230469, 485.50341796875),\n",
        "(195.49978637695312, 487.0, 240.9998321533203, 494.00341796875),\n",
        "(246.5, 487.0, 260.5, 494.00341796875)])\n",
        "\n",
        "for batch_coord in np.split(LL, 3):\n",
        "  f_coord = batch_coord[0]\n",
        "  l_coord = batch_coord[-1]\n",
        "  print(f\"f_coord: {f_coord}\")\n",
        "  print(f\"l_coord: {l_coord}\")\n",
        "  phrase_coord = (f_coord[0], f_coord[1], l_coord[2], l_coord[3])\n",
        "  print(f\"key_phrase: CTA DISSECTION, phrase_coord: {phrase_coord}\")"
      ],
      "metadata": {
        "id": "c_56oxCoG8Vo",
        "outputId": "32adbc68-58e1-4aef-fbf2-cf03f19b882a",
        "colab": {
          "base_uri": "https://localhost:8080/"
        }
      },
      "execution_count": null,
      "outputs": [
        {
          "output_type": "stream",
          "name": "stdout",
          "text": [
            "f_coord: [ 23.5        443.          77.00015259 454.00537109]\n",
            "l_coord: [ 79.5        443.         122.9994812  454.00537109]\n",
            "key_phrase: CTA DISSECTION, phrase_coord: (23.5, 443.0, 122.99948120117188, 454.00537109375)\n",
            "f_coord: [126.5        443.         142.10021973 454.00537109]\n",
            "l_coord: [384.5        478.5        430.00021362 485.50341797]\n",
            "key_phrase: CTA DISSECTION, phrase_coord: (126.5, 443.0, 430.0002136230469, 485.50341796875)\n",
            "f_coord: [195.49978638 487.         240.99983215 494.00341797]\n",
            "l_coord: [246.5        487.         260.5        494.00341797]\n",
            "key_phrase: CTA DISSECTION, phrase_coord: (195.49978637695312, 487.0, 260.5, 494.00341796875)\n"
          ]
        }
      ]
    },
    {
      "cell_type": "markdown",
      "source": [
        "```log\n",
        "f_coord: (63.5, 166.5, 81.5, 175.50439453125)\n",
        "l_coord: (84.5, 166.5, 133.59002685546875, 175.50439453125)\n",
        "key_phrase: CTA DISSECTION, phrase_coord: (63.5, 166.5, 133.59002685546875, 175.50439453125)\n",
        "f_coord: (130.0, 264.0, 147.49998474121094, 273.00439453125)\n",
        "l_coord: (150.5, 264.0, 199.59002685546875, 273.00439453125)\n",
        "key_phrase: CTA DISSECTION, phrase_coord: (130.0, 264.0, 199.59002685546875, 273.00439453125)\n",
        "```"
      ],
      "metadata": {
        "id": "x0AI0G1K4ui4"
      }
    },
    {
      "cell_type": "markdown",
      "source": [
        "###Remove Password"
      ],
      "metadata": {
        "id": "jxVd7v4y4kTc"
      }
    },
    {
      "cell_type": "code",
      "source": [
        "import pikepdf\n",
        "\n",
        "def remove_password_from_pdf(input_file, output_file, password=None):\n",
        "    pdf = pikepdf.open(input_file, password=password)\n",
        "    pdf.save(output_file)"
      ],
      "metadata": {
        "id": "JXMHrfp84nVg"
      },
      "execution_count": null,
      "outputs": []
    },
    {
      "cell_type": "code",
      "source": [
        "remove_password_from_pdf(\"quinn_ian_michael_5353_1368260963_awp_30a71784-41b8-423d-9d29-8f338f050398_PW.pdf\",\n",
        "                         \"quinn_ian_michael_5353_1368260963_awp_30a71784-41b8-423d-9d29-8f338f050398.pdf\", \"praful\")"
      ],
      "metadata": {
        "id": "a9iOS4i74qqf"
      },
      "execution_count": null,
      "outputs": []
    },
    {
      "cell_type": "markdown",
      "source": [
        "##Exact Match"
      ],
      "metadata": {
        "id": "vIep4k_1UBSG"
      }
    },
    {
      "cell_type": "code",
      "source": [
        "mytext = \"\"\"\n",
        "  Encounter #16\n",
        "History & Physical Report\n",
        "1/25/2021: Lab Orders - Hypertriglyceridemia,                 sporadic (E78.3) (Marina Dobricic)\n",
        "   ppointment:    1/25/2021   9:00 AM\n",
        "                                  / Race: White\n",
        "Male\n",
        " The patient is a 41 year old male.\n",
        " Assessment & Plan (Angela Sabbagh; 1/23/2021            11:36 AM)\n",
        " Hypertriglyceridemia, sporadic (E78.3)\n",
        " Impression: stopped will restart and check labs\n",
        "Current Plans\n",
        "       @   Comprehensive Metabolic Panel (CMP) (80053)\n",
        "       @   Complete Blood Count with Differential (CBC) (85025)\n",
        "       @   Lipid Panel (LP) (80061)\n",
        "Signed by Marina Dobricic (1/27/2021        9:54 AM)\n",
        " Comprehensive Metabolic Panel (CMP) (80053) Final, Reviewed (Collected: 01/25/2021)\n",
        " Diagnosis: Hypertriglyceridemia, sporadic (E78.3)\n",
        " Note: Testing done at Silver Pine Medical         Group unless otherwise specified. 43455 Schoenherr Road, Suite 19, Sterling Heights, MI 48313\n",
        "      Sodium                                  141 mmol/L              (Normal Range: 135-145 mmol/L)         Result Note:\n",
        "                                                                    Resutt Annotation:\n",
        "      Potassium                               4.1  mmol/L             (Normal Range: 3.5-5.2 mmol/L)        Result    Note:\n",
        "                                                                    Result Annotation:\n",
        "      Chloride                                103   mmol/L            (Normal Range: 98-107 mmol/L)         Result    Note:\n",
        "                                                                    Result Annotation:\n",
        "      Carbon    Dioxide (CO2)                 30 mmol/L               (Normal Range: 21-31    mmol/L)     Result     Note:\n",
        "                                                                    Resutt Annotation:\n",
        "      Anion Gap                               8                       (Normal Range: 5-17)      Result     Note:\n",
        "                                                                    Resutt Annotation:\n",
        "      Glucose                                 89 mg/dL                (Normal Range: 60-99 mg/dL)        Result     Note:\n",
        "                                                                    Resutt Annotation:\n",
        "      Blood Urea Nitrogen (BUN)               17 mg/dLl               (Normal Range: 8-23 mg/dL)        Result    Note:\n",
        "                                                                    Resutt Annotation:\n",
        "      Creatinine                              1.03   mg/dL            (Normal Range: 0.80-1.40 mg/dL)        Result     Note:\n",
        "                                                                    Resutt Annotation:\n",
        "      GFR                                     79 mL/min/1.73m2        (Normal Range: >59 mL/min/1.73m2)          Reeult      Note:\n",
        "                                                                    Resutt Annotation:\n",
        "      GFR   African American                  96 mL/min/1.73m2        (Normal Range: >59 mL/min/1.73m2)          Result      Note:\n",
        "                                                                    Result Annotation:\n",
        "      Calcium                                 9.0 mg/dL               (Normal Range: 8.5-11.0 mg/dL)        Result     Note;:\n",
        "                                                                    Result Annotation:\n",
        "      Protein Total                           7.8 g/dL                (Normal Range: 6.4-8.2 g/dL)      Result     Note:\n",
        "                                                                    Resutt Annotation:\n",
        "      Albumin                                 4.4 g/dL                (Normal Range: 3.4-5.0 g/dL)      Result     Note:\n",
        "                                                                    Resutt Annotation:\n",
        "      Globulin                                3.40                    (Normal Range: 2.20-4.00)       Result    Wote:\n",
        "                                                                    Resutt Annotation:\n",
        "      Album   in/Globulin Ratio               1.3                         Result Note:\n",
        "                                                                    Resutt Annotation:\n",
        "      Alkaline Phosphatase (ALP)              64 U/L                  (Normal Range: 50-116 U/L)       Result    Note:\n",
        "                                                                    Resutt Annotation:\n",
        "      Aspartate Aminotransferase (AST)        25  U/L                 (Normal Range: 15-37 U/L)      Result    Note:\n",
        "                                                                    Resutt Annotation:\n",
        "      Alanine Aminotransferase (ALT)          33 U/L                  (Normal Range: 16-63 U/L)      Reeult    Note:\n",
        "                                                                    Resutt Annotation:\n",
        "      Bilirubin Total                         0.5 mg/dL               (Normal Range:   0.3-1.2 mg/dL)     Result     Note:\n",
        "                                                                    Resutt Annotation:\n",
        " Complete Blood Count with Differential (CBC) (85025) Final, Reviewed (Collected: 01/25/2021)\n",
        " Diagnosis: Hypertriglyceridemia, sporadic (E78.3)\n",
        " Note: Testina done at Silver Pine Medical Group unless otherwise specified. 43455 Schoenherr Road. Suite 19. Sterlina Heiahts. Ml 48313\n",
        "06/28/2022 12:27 pm                                              s                                                                          Page 11/144\n",
        "\"\"\""
      ],
      "metadata": {
        "id": "T6du52kDm4mY"
      },
      "execution_count": null,
      "outputs": []
    },
    {
      "cell_type": "code",
      "source": [
        "term = \"MI\"\n",
        "#matches = len(re.findall(r'(?i)\\bAlbumin\\b', mytext)) > 0\n",
        "# matches = len(re.findall(f'(?i)\\\\b{term}\\\\b', mytext)) > 0\n",
        "#if len(re.findall(f'(?i)\\\\b{term}\\\\b', mytext)) > 0:\n",
        "matches = re.findall(r'\\bMI\\b', \"mi mister miss\")\n",
        "matches"
      ],
      "metadata": {
        "id": "4CxtWaFymzks",
        "outputId": "64302d54-1514-4ffe-fb7b-d4efa0824974",
        "colab": {
          "base_uri": "https://localhost:8080/"
        }
      },
      "execution_count": null,
      "outputs": [
        {
          "output_type": "execute_result",
          "data": {
            "text/plain": [
              "[]"
            ]
          },
          "metadata": {},
          "execution_count": 17
        }
      ]
    },
    {
      "cell_type": "code",
      "source": [
        "with open(\"page-30.txt\", \"r\") as f:\n",
        "  mytext = f.read()\n",
        "if len(re.findall(f'(?i)\\\\b{term}\\\\b', mytext)) > 0:\n",
        "  print(\"Found\")"
      ],
      "metadata": {
        "id": "reFqGUwgvkJX",
        "outputId": "f503bc29-dcf0-48ef-ec5c-16c3ef2a9a16",
        "colab": {
          "base_uri": "https://localhost:8080/",
          "height": 218
        }
      },
      "execution_count": null,
      "outputs": [
        {
          "output_type": "error",
          "ename": "FileNotFoundError",
          "evalue": "ignored",
          "traceback": [
            "\u001b[0;31m---------------------------------------------------------------------------\u001b[0m",
            "\u001b[0;31mFileNotFoundError\u001b[0m                         Traceback (most recent call last)",
            "\u001b[0;32m<ipython-input-18-29aebb679170>\u001b[0m in \u001b[0;36m<cell line: 1>\u001b[0;34m()\u001b[0m\n\u001b[0;32m----> 1\u001b[0;31m \u001b[0;32mwith\u001b[0m \u001b[0mopen\u001b[0m\u001b[0;34m(\u001b[0m\u001b[0;34m\"page-30.txt\"\u001b[0m\u001b[0;34m,\u001b[0m \u001b[0;34m\"r\"\u001b[0m\u001b[0;34m)\u001b[0m \u001b[0;32mas\u001b[0m \u001b[0mf\u001b[0m\u001b[0;34m:\u001b[0m\u001b[0;34m\u001b[0m\u001b[0;34m\u001b[0m\u001b[0m\n\u001b[0m\u001b[1;32m      2\u001b[0m   \u001b[0mmytext\u001b[0m \u001b[0;34m=\u001b[0m \u001b[0mf\u001b[0m\u001b[0;34m.\u001b[0m\u001b[0mread\u001b[0m\u001b[0;34m(\u001b[0m\u001b[0;34m)\u001b[0m\u001b[0;34m\u001b[0m\u001b[0;34m\u001b[0m\u001b[0m\n\u001b[1;32m      3\u001b[0m \u001b[0;32mif\u001b[0m \u001b[0mlen\u001b[0m\u001b[0;34m(\u001b[0m\u001b[0mre\u001b[0m\u001b[0;34m.\u001b[0m\u001b[0mfindall\u001b[0m\u001b[0;34m(\u001b[0m\u001b[0;34mf'(?i)\\\\b{term}\\\\b'\u001b[0m\u001b[0;34m,\u001b[0m \u001b[0mmytext\u001b[0m\u001b[0;34m)\u001b[0m\u001b[0;34m)\u001b[0m \u001b[0;34m>\u001b[0m \u001b[0;36m0\u001b[0m\u001b[0;34m:\u001b[0m\u001b[0;34m\u001b[0m\u001b[0;34m\u001b[0m\u001b[0m\n\u001b[1;32m      4\u001b[0m   \u001b[0mprint\u001b[0m\u001b[0;34m(\u001b[0m\u001b[0;34m\"Found\"\u001b[0m\u001b[0;34m)\u001b[0m\u001b[0;34m\u001b[0m\u001b[0;34m\u001b[0m\u001b[0m\n",
            "\u001b[0;31mFileNotFoundError\u001b[0m: [Errno 2] No such file or directory: 'page-30.txt'"
          ]
        }
      ]
    },
    {
      "cell_type": "code",
      "source": [
        "wrong_keyword_dict1[0]"
      ],
      "metadata": {
        "id": "oy3VrsX1vpuQ"
      },
      "execution_count": null,
      "outputs": []
    },
    {
      "cell_type": "code",
      "source": [
        "icd10_code_dict1"
      ],
      "metadata": {
        "id": "-PfeXsii2ZGv"
      },
      "execution_count": null,
      "outputs": []
    },
    {
      "cell_type": "code",
      "source": [
        "%%time\n",
        "\n",
        "text_list = split_pdf(highlighter.PDF_FILES_PATH, \"APS_38600000R_final.pdf\")\n",
        "len(text_list)"
      ],
      "metadata": {
        "id": "CJw-u86V4uF_"
      },
      "execution_count": null,
      "outputs": []
    },
    {
      "cell_type": "markdown",
      "source": [
        "##Highlight Test"
      ],
      "metadata": {
        "id": "4HjWgUOqYgot"
      }
    },
    {
      "cell_type": "code",
      "source": [
        "pdf_file_name = \"page-30.pdf\"\n",
        "pdf_file = fitz.open(pdf_file_name)\n",
        "for page_num, page in enumerate(pdf_file):\n",
        "  for keyword_impairment in wrong_keyword_dict1[0]:\n",
        "    # print(f\"keyword_impairment11: {keyword_impairment}\")\n",
        "    highlight = page.search_for(keyword_impairment)\n",
        "    print(f\"keyword_impairment: {keyword_impairment}, coords: {highlight}\")\n",
        "    highlight = page.add_highlight_annot(highlight)\n",
        "    highlight.update()\n",
        "output_pdf_file_name = f\"{pdf_file_name.split('.')[0]}_output.pdf\"\n",
        "pdf_file.save(output_pdf_file_name, garbage=4, deflate=True, clean=True)"
      ],
      "metadata": {
        "id": "AZKQdR3oAzOx",
        "outputId": "1d508899-4a61-4ec1-ecee-953a755bfba7",
        "colab": {
          "base_uri": "https://localhost:8080/"
        }
      },
      "execution_count": null,
      "outputs": [
        {
          "output_type": "stream",
          "name": "stdout",
          "text": [
            "keyword_impairment: Urea, coords: [Rect(70.31328582763672, 435.0400390625, 83.75199890136719, 443.0439453125)]\n",
            "keyword_impairment: Comprehensive Metabolic Panel, coords: [Rect(60.47419357299805, 207.52001953125, 118.06912994384766, 215.52392578125), Rect(121.66831970214844, 207.52001953125, 156.94491577148438, 215.52392578125), Rect(159.82464599609375, 207.52001953125, 176.2230682373047, 215.52392578125), Rect(29.997119903564453, 282.8800048828125, 95.99125671386719, 290.8839111328125), Rect(99.83040618896484, 282.8800048828125, 141.58639526367188, 290.8839111328125), Rect(144.46612548828125, 282.8800048828125, 163.6642608642578, 290.8839111328125)]\n",
            "keyword_impairment: ALT, coords: [Rect(148.30589294433594, 665.4400634765625, 158.38491821289062, 673.4439697265625)]\n",
            "keyword_impairment: GFR, coords: [Rect(45.355674743652344, 477.0400390625, 57.77448272705078, 485.0439453125), Rect(45.35564422607422, 498.1600341796875, 53.8148307800293, 506.1639404296875)]\n",
            "keyword_impairment: CBC, coords: [Rect(214.13943481445312, 216.1600341796875, 225.17835998535156, 224.1639404296875), Rect(206.74017333984375, 717.280029296875, 218.61904907226562, 725.283935546875)]\n",
            "keyword_impairment: Encounter, coords: [Rect(31.916934967041016, 27.03997802734375, 74.24887084960938, 35.04388427734375)]\n",
            "keyword_impairment: Anion Gap, coords: [Rect(44.87572479248047, 393.5200500488281, 65.99369812011719, 401.5239562988281), Rect(69.83332824707031, 393.5200500488281, 81.1722412109375, 401.5239562988281)]\n",
            "keyword_impairment: Sodium, coords: [Rect(45.35564422607422, 310.0, 69.01065063476562, 318.00390625)]\n",
            "keyword_impairment: CO2, coords: [Rect(109.46951293945312, 372.6400451660156, 120.38845825195312, 380.6439514160156)]\n",
            "keyword_impairment: CMP, coords: [Rect(186.74208068847656, 207.52001953125, 198.38096618652344, 215.52392578125), Rect(174.7432098388672, 282.8800048828125, 187.82196044921875, 290.8839111328125)]\n",
            "keyword_impairment: Alkaline Phosphatase, coords: [Rect(44.875816345214844, 623.6800537109375, 74.8731689453125, 631.6839599609375), Rect(77.99263000488281, 623.6800537109375, 120.8885269165039, 631.6839599609375)]\n",
            "keyword_impairment: BUN, coords: [Rect(129.18763732910156, 435.0400390625, 140.2265625, 443.0439453125)]\n",
            "keyword_impairment: Complete Blood Count, coords: [Rect(60.47420883178711, 216.1600341796875, 95.99054718017578, 224.1639404296875), Rect(99.35047149658203, 216.1600341796875, 119.26856231689453, 224.1639404296875), Rect(123.10819244384766, 216.1600341796875, 140.70652770996094, 224.1639404296875), Rect(29.997119903564453, 717.280029296875, 70.07352447509766, 725.283935546875), Rect(73.91290283203125, 717.280029296875, 97.67060852050781, 725.283935546875), Rect(101.0302963256836, 717.280029296875, 121.4283447265625, 725.283935546875)]\n",
            "keyword_impairment: Blood Urea Nitrogen, coords: [Rect(45.59565734863281, 435.0400390625, 65.99370574951172, 443.0439453125), Rect(70.31328582763672, 435.0400390625, 87.11167907714844, 443.0439453125), Rect(90.47135162353516, 435.0400390625, 118.41556549072266, 443.0439453125)]\n",
            "keyword_impairment: Glucose, coords: [Rect(45.355674743652344, 414.4000549316406, 71.18318176269531, 422.4039611816406)]\n",
            "keyword_impairment: Lipid Panel, coords: [Rect(60.95414733886719, 223.56005859375, 77.51274108886719, 232.564453125), Rect(81.1122055053711, 223.56005859375, 97.51043701171875, 232.564453125)]\n",
            "keyword_impairment: MI, coords: [Rect(210.2085723876953, 61.5999755859375, 218.56410217285156, 69.6038818359375), Rect(90.52633666992188, 171.280029296875, 97.7038803100586, 179.283935546875), Rect(136.0669708251953, 291.52001953125, 143.2662811279297, 299.52392578125), Rect(521.4700317382812, 299.9200134277344, 526.5894775390625, 307.9239196777344), Rect(207.80300903320312, 477.0400390625, 216.27084350585938, 485.0439453125), Rect(360.8774108886719, 477.0400390625, 369.1646423339844, 485.0439453125), Rect(207.802978515625, 498.1600341796875, 216.27081298828125, 506.1639404296875), Rect(361.0693054199219, 498.1600341796875, 369.3244934082031, 506.1639404296875), Rect(60.2342529296875, 561.0400390625, 67.91350555419922, 569.0439453125), Rect(88.38217163085938, 644.56005859375, 96.2025375366211, 652.56396484375), Rect(79.72894287109375, 665.4400634765625, 87.52114868164062, 673.4439697265625), Rect(136.0669403076172, 725.6799926757812, 143.26625061035156, 733.6838989257812)]\n",
            "keyword_impairment: Albumin, coords: [Rect(44.87572479248047, 561.0400390625, 71.75313568115234, 569.0439453125)]\n",
            "keyword_impairment: Aspartate, coords: [Rect(44.87578582763672, 644.56005859375, 77.48865509033203, 652.56396484375)]\n",
            "keyword_impairment: Urea Nitrogen, coords: [Rect(70.31328582763672, 435.0400390625, 87.11167907714844, 443.0439453125), Rect(90.47135162353516, 435.0400390625, 118.41556549072266, 443.0439453125)]\n",
            "keyword_impairment: Creatinine, coords: [Rect(45.355674743652344, 456.1600341796875, 80.04353332519531, 464.1639404296875)]\n",
            "keyword_impairment: Hypertriglyceridemia, coords: [Rect(139.1866455078125, 61.5999755859375, 222.74185180664062, 69.6038818359375), Rect(29.517169952392578, 171.280029296875, 101.29265594482422, 179.283935546875), Rect(74.87284851074219, 291.52001953125, 146.86593627929688, 299.52392578125), Rect(74.87281799316406, 725.6799926757812, 146.86590576171875, 733.6838989257812)]\n",
            "keyword_impairment: Calcium, coords: [Rect(44.395713806152344, 519.0400390625, 70.8531723022461, 527.0439453125)]\n",
            "keyword_impairment: ppointment, coords: [Rect(34.07672882080078, 79.1199951171875, 70.67321014404297, 87.1239013671875)]\n",
            "keyword_impairment: Chloride, coords: [Rect(45.355674743652344, 351.52001953125, 72.8730239868164, 359.52392578125)]\n",
            "keyword_impairment: AST, coords: [Rect(156.6650390625, 644.56005859375, 167.34400939941406, 652.56396484375)]\n",
            "keyword_impairment: Potassium, coords: [Rect(45.59565734863281, 330.6400146484375, 79.2884292602539, 338.6439208984375)]\n",
            "keyword_impairment: ALP, coords: [Rect(131.42750549316406, 623.6800537109375, 141.98651123046875, 631.6839599609375)]\n",
            "keyword_impairment: Bilirubin Total, coords: [Rect(45.59574890136719, 686.56005859375, 75.59286499023438, 694.56396484375), Rect(78.95254516601562, 686.56005859375, 94.35107421875, 694.56396484375)]\n"
          ]
        }
      ]
    },
    {
      "cell_type": "markdown",
      "source": [
        "##ICD 10 Code"
      ],
      "metadata": {
        "id": "RIRH21XK258d"
      }
    },
    {
      "cell_type": "code",
      "source": [
        "!mkdir -p pdf-files\n",
        "!mkdir -p txt-files"
      ],
      "metadata": {
        "id": "Ebs7E8X23lri"
      },
      "execution_count": null,
      "outputs": []
    },
    {
      "cell_type": "code",
      "source": [
        "# define directory path after creating it\n",
        "pdf_files_path = \"pdf-files\"\n",
        "txt_files_path = \"txt-files\"\n",
        "\n",
        "# create nlp instance\n",
        "nlp = English()\n",
        "\n",
        "\n",
        "def split_pdf(pdf_path):\n",
        "  pdf_in_file = open(pdf_path, \"rb\")\n",
        "  pdf = PdfReader(pdf_in_file)\n",
        "  pdf_list = []\n",
        "  for page in range(len(pdf.pages)):\n",
        "      inputpdf = PdfReader(pdf_in_file)\n",
        "      output = PdfWriter()\n",
        "      output.add_page(inputpdf.pages[page])\n",
        "      with open(f\"{pdf_files_path}/page-{page}.pdf\", \"wb\") as outputStream:\n",
        "          output.write(outputStream)\n",
        "          pdf_list.append(f\"page-{page}.pdf\")\n",
        "  return pdf_list\n",
        "\n",
        "\n",
        "def extract_text_from_pdf(pdf_list):\n",
        "    txt_file_list = []\n",
        "    i = 0\n",
        "    for pdf_file in pdf_list:\n",
        "        with open(os.path.join(pdf_files_path, pdf_file), \"rb\") as f:\n",
        "            pdf = pdftotext.PDF(f)\n",
        "\n",
        "        # Read all the text into one string\n",
        "        pdf_text = \"\\n\\n\".join(pdf)\n",
        "\n",
        "        # write text into file\n",
        "        with open(f\"{txt_files_path}/page-{str(i)}.txt\", \"a\") as f:\n",
        "            f.write(pdf_text)\n",
        "        txt_file_list.append(f\"{txt_files_path}/page-{str(i)}.txt\")\n",
        "        i += 1\n",
        "    return txt_file_list\n",
        "\n",
        "\n",
        "def get_opt_pattern(icd_10_code):\n",
        "  # create alternate pattern\n",
        "  code_arr = icd_10_code.split(\".\")\n",
        "  if len(code_arr) > 1:\n",
        "    code1 = f\"{code_arr[0]}. {code_arr[1]}\"\n",
        "    code2 = f\"{code_arr[0]} .{code_arr[1]}\"\n",
        "    code3 = f\"{code_arr[0]} . {code_arr[1]}\"\n",
        "    return [code1, code2, code3]\n",
        "  else:\n",
        "    return icd_10_code\n",
        "\n",
        "\n",
        "def highlight_icd10_code(pdf_page_dict: dict, pdf_file_name: str):\n",
        "    pdf_file = fitz.open(pdf_file_name)\n",
        "\n",
        "    def highlight_pdf(highlight):\n",
        "        for inst in highlight:\n",
        "          highlight = page.add_highlight_annot(inst)\n",
        "          highlight.update()\n",
        "          highlight = page.search_for(text_to_be_highlighted)\n",
        "          print(f\"Page-{page_num}: \", code, highlight, end='\\n')\n",
        "\n",
        "    for page_num, page in enumerate(pdf_file):\n",
        "        if page_num in pdf_page_dict:\n",
        "          for code in pdf_page_dict[page_num]:\n",
        "            text_to_be_highlighted = code\n",
        "            highlight = page.search_for(text_to_be_highlighted)\n",
        "            print(f\"Page-{page_num}: \", code, highlight, end='\\n')\n",
        "            if len(highlight) == 0:\n",
        "                alternate_code_list = get_opt_pattern(code)\n",
        "                for alt_code in alternate_code_list:\n",
        "                  text_to_be_highlighted = alt_code\n",
        "                  highlight = page.search_for(text_to_be_highlighted)\n",
        "                  # highlight pdf for option pattern\n",
        "                  highlight_pdf(highlight)\n",
        "            # highlight pdf for main pattern\n",
        "            highlight_pdf(highlight)\n",
        "\n",
        "    output_pdf_file_name = f\"{pdf_file_name.split('.')[0]}_output.pdf\"\n",
        "    pdf_file.save(output_pdf_file_name, garbage=4, deflate=True, clean=True)\n",
        "    return output_pdf_file_name\n",
        "\n",
        "\n",
        "def search_icd_10_code(txt_list):\n",
        "  pdf_page_vocab = {}\n",
        "  for txt_file in txt_list:\n",
        "    with open(txt_file, \"r\") as f:\n",
        "      page_txt = f.read()\n",
        "      # filter the page that have line number instead of code\n",
        "      if not re.search(\"(P[ ][0-9]+)(,\\s)(L[0-9]+)\", page_txt):\n",
        "        doc = nlp(page_txt)\n",
        "        code_list = [ent.text for ent in doc.ents]\n",
        "        if len(code_list) != 0:\n",
        "          #print(txt_file)\n",
        "          page_number = int(txt_file.split(\"/\")[1].split(\".\")[0].split(\"-\")[1])\n",
        "          pdf_page_vocab[page_number] = code_list\n",
        "          # print(f\"Page[{txt_file.split('/')[1]}]: {code_list}\")\n",
        "  return pdf_page_vocab"
      ],
      "metadata": {
        "id": "snzCZDEN29Oq"
      },
      "execution_count": null,
      "outputs": []
    },
    {
      "cell_type": "code",
      "source": [
        "# Step-1: splitting pdf file\n",
        "pdf_file_name = \"28page.pdf\"\n",
        "pdf_list = split_pdf(pdf_file_name)\n",
        "\n",
        "# Step-2: Extracting text from pdf\n",
        "txt_list = extract_text_from_pdf(pdf_list)\n",
        "\n",
        "# Step-3: loading and updating patterns to Spacy\n",
        "nlp.add_pipe(\"entity_ruler\").from_disk(\"./icd10_code_patterns-v1.jsonl\")\n",
        "\n",
        "# Step-4: Searching ICD-10 code\n",
        "#print (txt_list)\n",
        "pdf_page_vocab = search_icd_10_code(txt_list)\n",
        "\n",
        "# Step-5: Highlighting ICD-10 code into pdf\n",
        "output_file_name = highlight_icd10_code(pdf_page_vocab, pdf_file_name)\n",
        "print(f\"File[{output_file_name}] is saved after highlighting ICD-10 code\")"
      ],
      "metadata": {
        "id": "JPlZD1rj3D0Z"
      },
      "execution_count": null,
      "outputs": []
    },
    {
      "cell_type": "markdown",
      "source": [
        "##Phrase matching"
      ],
      "metadata": {
        "id": "3T0ApWNLUV1F"
      }
    },
    {
      "cell_type": "code",
      "source": [
        "import spacy\n",
        "from spacy.matcher import PhraseMatcher"
      ],
      "metadata": {
        "id": "ftahgHKBUYC1"
      },
      "execution_count": null,
      "outputs": []
    },
    {
      "cell_type": "code",
      "source": [
        "synid_df = pd.read_csv(cfg.csv_files[\"IMP_CSV\"])\n",
        "synid_df.head()"
      ],
      "metadata": {
        "colab": {
          "base_uri": "https://localhost:8080/",
          "height": 206
        },
        "id": "-Wmq-wtxVDUU",
        "outputId": "8a90f772-8cfc-40cc-9ae9-40a06a6f54c5"
      },
      "execution_count": null,
      "outputs": [
        {
          "output_type": "execute_result",
          "data": {
            "text/plain": [
              "     SynId                          Short_Description\n",
              "0  KW20262                                 US thyroid\n",
              "1  KW20261          no graphic evidence of malignancy\n",
              "2  KW20260                  no evidence of malignancy\n",
              "3  KW20259  scattered areas of fibroglandular density\n",
              "4  KW20258  scattered areas of fibroglandular density"
            ],
            "text/html": [
              "\n",
              "\n",
              "  <div id=\"df-9fb8b197-cd4b-4965-8cbe-09f68f09f80a\">\n",
              "    <div class=\"colab-df-container\">\n",
              "      <div>\n",
              "<style scoped>\n",
              "    .dataframe tbody tr th:only-of-type {\n",
              "        vertical-align: middle;\n",
              "    }\n",
              "\n",
              "    .dataframe tbody tr th {\n",
              "        vertical-align: top;\n",
              "    }\n",
              "\n",
              "    .dataframe thead th {\n",
              "        text-align: right;\n",
              "    }\n",
              "</style>\n",
              "<table border=\"1\" class=\"dataframe\">\n",
              "  <thead>\n",
              "    <tr style=\"text-align: right;\">\n",
              "      <th></th>\n",
              "      <th>SynId</th>\n",
              "      <th>Short_Description</th>\n",
              "    </tr>\n",
              "  </thead>\n",
              "  <tbody>\n",
              "    <tr>\n",
              "      <th>0</th>\n",
              "      <td>KW20262</td>\n",
              "      <td>US thyroid</td>\n",
              "    </tr>\n",
              "    <tr>\n",
              "      <th>1</th>\n",
              "      <td>KW20261</td>\n",
              "      <td>no graphic evidence of malignancy</td>\n",
              "    </tr>\n",
              "    <tr>\n",
              "      <th>2</th>\n",
              "      <td>KW20260</td>\n",
              "      <td>no evidence of malignancy</td>\n",
              "    </tr>\n",
              "    <tr>\n",
              "      <th>3</th>\n",
              "      <td>KW20259</td>\n",
              "      <td>scattered areas of fibroglandular density</td>\n",
              "    </tr>\n",
              "    <tr>\n",
              "      <th>4</th>\n",
              "      <td>KW20258</td>\n",
              "      <td>scattered areas of fibroglandular density</td>\n",
              "    </tr>\n",
              "  </tbody>\n",
              "</table>\n",
              "</div>\n",
              "      <button class=\"colab-df-convert\" onclick=\"convertToInteractive('df-9fb8b197-cd4b-4965-8cbe-09f68f09f80a')\"\n",
              "              title=\"Convert this dataframe to an interactive table.\"\n",
              "              style=\"display:none;\">\n",
              "\n",
              "  <svg xmlns=\"http://www.w3.org/2000/svg\" height=\"24px\"viewBox=\"0 0 24 24\"\n",
              "       width=\"24px\">\n",
              "    <path d=\"M0 0h24v24H0V0z\" fill=\"none\"/>\n",
              "    <path d=\"M18.56 5.44l.94 2.06.94-2.06 2.06-.94-2.06-.94-.94-2.06-.94 2.06-2.06.94zm-11 1L8.5 8.5l.94-2.06 2.06-.94-2.06-.94L8.5 2.5l-.94 2.06-2.06.94zm10 10l.94 2.06.94-2.06 2.06-.94-2.06-.94-.94-2.06-.94 2.06-2.06.94z\"/><path d=\"M17.41 7.96l-1.37-1.37c-.4-.4-.92-.59-1.43-.59-.52 0-1.04.2-1.43.59L10.3 9.45l-7.72 7.72c-.78.78-.78 2.05 0 2.83L4 21.41c.39.39.9.59 1.41.59.51 0 1.02-.2 1.41-.59l7.78-7.78 2.81-2.81c.8-.78.8-2.07 0-2.86zM5.41 20L4 18.59l7.72-7.72 1.47 1.35L5.41 20z\"/>\n",
              "  </svg>\n",
              "      </button>\n",
              "\n",
              "\n",
              "\n",
              "    <div id=\"df-2a7ea9b6-8911-4b0e-b56b-5a6b6e654afc\">\n",
              "      <button class=\"colab-df-quickchart\" onclick=\"quickchart('df-2a7ea9b6-8911-4b0e-b56b-5a6b6e654afc')\"\n",
              "              title=\"Suggest charts.\"\n",
              "              style=\"display:none;\">\n",
              "\n",
              "<svg xmlns=\"http://www.w3.org/2000/svg\" height=\"24px\"viewBox=\"0 0 24 24\"\n",
              "     width=\"24px\">\n",
              "    <g>\n",
              "        <path d=\"M19 3H5c-1.1 0-2 .9-2 2v14c0 1.1.9 2 2 2h14c1.1 0 2-.9 2-2V5c0-1.1-.9-2-2-2zM9 17H7v-7h2v7zm4 0h-2V7h2v10zm4 0h-2v-4h2v4z\"/>\n",
              "    </g>\n",
              "</svg>\n",
              "      </button>\n",
              "    </div>\n",
              "\n",
              "<style>\n",
              "  .colab-df-quickchart {\n",
              "    background-color: #E8F0FE;\n",
              "    border: none;\n",
              "    border-radius: 50%;\n",
              "    cursor: pointer;\n",
              "    display: none;\n",
              "    fill: #1967D2;\n",
              "    height: 32px;\n",
              "    padding: 0 0 0 0;\n",
              "    width: 32px;\n",
              "  }\n",
              "\n",
              "  .colab-df-quickchart:hover {\n",
              "    background-color: #E2EBFA;\n",
              "    box-shadow: 0px 1px 2px rgba(60, 64, 67, 0.3), 0px 1px 3px 1px rgba(60, 64, 67, 0.15);\n",
              "    fill: #174EA6;\n",
              "  }\n",
              "\n",
              "  [theme=dark] .colab-df-quickchart {\n",
              "    background-color: #3B4455;\n",
              "    fill: #D2E3FC;\n",
              "  }\n",
              "\n",
              "  [theme=dark] .colab-df-quickchart:hover {\n",
              "    background-color: #434B5C;\n",
              "    box-shadow: 0px 1px 3px 1px rgba(0, 0, 0, 0.15);\n",
              "    filter: drop-shadow(0px 1px 2px rgba(0, 0, 0, 0.3));\n",
              "    fill: #FFFFFF;\n",
              "  }\n",
              "</style>\n",
              "\n",
              "    <script>\n",
              "      async function quickchart(key) {\n",
              "        const containerElement = document.querySelector('#' + key);\n",
              "        const charts = await google.colab.kernel.invokeFunction(\n",
              "            'suggestCharts', [key], {});\n",
              "      }\n",
              "    </script>\n",
              "\n",
              "      <script>\n",
              "\n",
              "function displayQuickchartButton(domScope) {\n",
              "  let quickchartButtonEl =\n",
              "    domScope.querySelector('#df-2a7ea9b6-8911-4b0e-b56b-5a6b6e654afc button.colab-df-quickchart');\n",
              "  quickchartButtonEl.style.display =\n",
              "    google.colab.kernel.accessAllowed ? 'block' : 'none';\n",
              "}\n",
              "\n",
              "        displayQuickchartButton(document);\n",
              "      </script>\n",
              "      <style>\n",
              "    .colab-df-container {\n",
              "      display:flex;\n",
              "      flex-wrap:wrap;\n",
              "      gap: 12px;\n",
              "    }\n",
              "\n",
              "    .colab-df-convert {\n",
              "      background-color: #E8F0FE;\n",
              "      border: none;\n",
              "      border-radius: 50%;\n",
              "      cursor: pointer;\n",
              "      display: none;\n",
              "      fill: #1967D2;\n",
              "      height: 32px;\n",
              "      padding: 0 0 0 0;\n",
              "      width: 32px;\n",
              "    }\n",
              "\n",
              "    .colab-df-convert:hover {\n",
              "      background-color: #E2EBFA;\n",
              "      box-shadow: 0px 1px 2px rgba(60, 64, 67, 0.3), 0px 1px 3px 1px rgba(60, 64, 67, 0.15);\n",
              "      fill: #174EA6;\n",
              "    }\n",
              "\n",
              "    [theme=dark] .colab-df-convert {\n",
              "      background-color: #3B4455;\n",
              "      fill: #D2E3FC;\n",
              "    }\n",
              "\n",
              "    [theme=dark] .colab-df-convert:hover {\n",
              "      background-color: #434B5C;\n",
              "      box-shadow: 0px 1px 3px 1px rgba(0, 0, 0, 0.15);\n",
              "      filter: drop-shadow(0px 1px 2px rgba(0, 0, 0, 0.3));\n",
              "      fill: #FFFFFF;\n",
              "    }\n",
              "  </style>\n",
              "\n",
              "      <script>\n",
              "        const buttonEl =\n",
              "          document.querySelector('#df-9fb8b197-cd4b-4965-8cbe-09f68f09f80a button.colab-df-convert');\n",
              "        buttonEl.style.display =\n",
              "          google.colab.kernel.accessAllowed ? 'block' : 'none';\n",
              "\n",
              "        async function convertToInteractive(key) {\n",
              "          const element = document.querySelector('#df-9fb8b197-cd4b-4965-8cbe-09f68f09f80a');\n",
              "          const dataTable =\n",
              "            await google.colab.kernel.invokeFunction('convertToInteractive',\n",
              "                                                     [key], {});\n",
              "          if (!dataTable) return;\n",
              "\n",
              "          const docLinkHtml = 'Like what you see? Visit the ' +\n",
              "            '<a target=\"_blank\" href=https://colab.research.google.com/notebooks/data_table.ipynb>data table notebook</a>'\n",
              "            + ' to learn more about interactive tables.';\n",
              "          element.innerHTML = '';\n",
              "          dataTable['output_type'] = 'display_data';\n",
              "          await google.colab.output.renderOutput(dataTable, element);\n",
              "          const docLink = document.createElement('div');\n",
              "          docLink.innerHTML = docLinkHtml;\n",
              "          element.appendChild(docLink);\n",
              "        }\n",
              "      </script>\n",
              "    </div>\n",
              "  </div>\n"
            ]
          },
          "metadata": {},
          "execution_count": 17
        }
      ]
    },
    {
      "cell_type": "code",
      "source": [
        "def make_icd_10_keyword_pattern(synid_df):\n",
        "  patterns = []\n",
        "  for _, row in synid_df.iterrows():\n",
        "    patterns.append(row[\"Short_Description\"])\n",
        "  return patterns"
      ],
      "metadata": {
        "id": "S25-C5AZWucL"
      },
      "execution_count": null,
      "outputs": []
    },
    {
      "cell_type": "code",
      "source": [
        "keywords = make_icd_10_keyword_pattern(synid_df)\n",
        "keywords[:10]"
      ],
      "metadata": {
        "colab": {
          "base_uri": "https://localhost:8080/"
        },
        "id": "STbmzWgwW8hG",
        "outputId": "59d7699f-89a1-40dc-c345-1b90c12c5d82"
      },
      "execution_count": null,
      "outputs": [
        {
          "output_type": "execute_result",
          "data": {
            "text/plain": [
              "['US thyroid',\n",
              " 'no graphic evidence of malignancy',\n",
              " 'no evidence of malignancy',\n",
              " 'scattered areas of fibroglandular density',\n",
              " 'scattered areas of fibroglandular density',\n",
              " 'BI-RADS 6',\n",
              " 'BI-RADS 5',\n",
              " 'BI-RADS 4C',\n",
              " 'BI-RADS 4B',\n",
              " 'BI-RADS 4A']"
            ]
          },
          "metadata": {},
          "execution_count": 19
        }
      ]
    },
    {
      "cell_type": "code",
      "source": [
        "nlp = spacy.load('en_core_web_sm')\n",
        "phrase_matcher = PhraseMatcher(nlp.vocab)\n",
        "patterns = list(nlp.tokenizer.pipe(keywords))\n",
        "phrase_matcher.add('keywords', patterns)"
      ],
      "metadata": {
        "id": "W0a69f63Y-5z"
      },
      "execution_count": null,
      "outputs": []
    },
    {
      "cell_type": "code",
      "source": [
        "with open(\"page-2.txt\", \"r\") as f:\n",
        "  page_txt = f.read()\n",
        "  # filter the page that have line number instead of code\n",
        "  #if not re.search(\"(P[ ][0-9]+)(,\\s)(L[0-9]+)\", page_txt):\n",
        "  doc = nlp(page_txt)\n",
        "  matches = phrase_matcher(doc)\n",
        "\n",
        "  keyword_list = []\n",
        "  for match_id, start, end in matches:\n",
        "    span = doc[start: end]\n",
        "    keyword_list.append(f\"{span}\")"
      ],
      "metadata": {
        "id": "W21nm7_VXbg2"
      },
      "execution_count": null,
      "outputs": []
    },
    {
      "cell_type": "code",
      "source": [
        "keyword_list"
      ],
      "metadata": {
        "colab": {
          "base_uri": "https://localhost:8080/"
        },
        "id": "L-HCX2ysX3H8",
        "outputId": "0dcb864c-fa0f-49fc-86ad-84a2a89045a0"
      },
      "execution_count": null,
      "outputs": [
        {
          "output_type": "execute_result",
          "data": {
            "text/plain": [
              "['T', 'HHS', 'US']"
            ]
          },
          "metadata": {},
          "execution_count": 22
        }
      ]
    },
    {
      "cell_type": "code",
      "source": [
        "with open(\"page-25.txt\", \"r\") as f:\n",
        "  page_txt = f.read()\n",
        "  # filter the page that have line number instead of code\n",
        "  #if not re.search(\"(P[ ][0-9]+)(,\\s)(L[0-9]+)\", page_txt):\n",
        "  doc = nlp(page_txt)\n",
        "  matches = phrase_matcher(doc)\n",
        "\n",
        "  keyword_list = []\n",
        "  for match_id, start, end in matches:\n",
        "    span = doc[start: end]\n",
        "    keyword_list.append(f\"{span}\")"
      ],
      "metadata": {
        "id": "Ga99oXcsYeZF"
      },
      "execution_count": null,
      "outputs": []
    },
    {
      "cell_type": "code",
      "source": [
        "keyword_list"
      ],
      "metadata": {
        "colab": {
          "base_uri": "https://localhost:8080/"
        },
        "id": "eB-D0G4FZ6sS",
        "outputId": "2e42c010-58c1-4973-82e0-97b5d832ac5a"
      },
      "execution_count": null,
      "outputs": [
        {
          "output_type": "execute_result",
          "data": {
            "text/plain": [
              "['Hypertriglyceridemia',\n",
              " 'Hypertriglyceridemia',\n",
              " 'EKG',\n",
              " 'Hypertension',\n",
              " 'Atrial Fibrillation',\n",
              " 'Headache']"
            ]
          },
          "metadata": {},
          "execution_count": 32
        }
      ]
    },
    {
      "cell_type": "code",
      "source": [
        "with open(\"page-36.txt\", \"r\") as f:\n",
        "  page_txt = f.read()\n",
        "  # filter the page that have line number instead of code\n",
        "  #if not re.search(\"(P[ ][0-9]+)(,\\s)(L[0-9]+)\", page_txt):\n",
        "  doc = nlp(page_txt)\n",
        "  matches = phrase_matcher(doc)\n",
        "\n",
        "  keyword_list = []\n",
        "  for match_id, start, end in matches:\n",
        "    span = doc[start: end]\n",
        "    keyword_list.append(f\"{span}\")"
      ],
      "metadata": {
        "id": "-W4RdswabV3G"
      },
      "execution_count": null,
      "outputs": []
    },
    {
      "cell_type": "code",
      "source": [
        "keyword_list"
      ],
      "metadata": {
        "colab": {
          "base_uri": "https://localhost:8080/"
        },
        "id": "mJgGec4AbYER",
        "outputId": "7e40ee89-461f-487c-fd2e-2efe2c9a78b6"
      },
      "execution_count": null,
      "outputs": [
        {
          "output_type": "execute_result",
          "data": {
            "text/plain": [
              "['Hypertriglyceridemia',\n",
              " 'Hypertriglyceridemia',\n",
              " 'EKG',\n",
              " 'Hypertension',\n",
              " 'Atrial Fibrillation',\n",
              " 'Diplopia',\n",
              " 'Headache',\n",
              " 'Visual Loss',\n",
              " 'Gynecomastia',\n",
              " 'Dysphagia',\n",
              " 'Hematuria']"
            ]
          },
          "metadata": {},
          "execution_count": 34
        }
      ]
    },
    {
      "cell_type": "code",
      "source": [
        "synid_df = pd.read_csv(\"synid_and_keywords_impairment.csv\")\n",
        "keywords = make_icd_10_keyword_pattern(synid_df)"
      ],
      "metadata": {
        "id": "xEqoN5-yidiK"
      },
      "execution_count": null,
      "outputs": []
    },
    {
      "cell_type": "code",
      "source": [
        "phrase_matcher = PhraseMatcher(nlp.vocab)\n",
        "patterns = list(nlp.tokenizer.pipe(keywords))\n",
        "phrase_matcher.add('keywords', patterns)"
      ],
      "metadata": {
        "id": "-G151LL_ij0V"
      },
      "execution_count": null,
      "outputs": []
    },
    {
      "cell_type": "code",
      "source": [
        "with open(\"page-36.txt\", \"r\") as f:\n",
        "  page_txt = f.read()\n",
        "  # filter the page that have line number instead of code\n",
        "  #if not re.search(\"(P[ ][0-9]+)(,\\s)(L[0-9]+)\", page_txt):\n",
        "  doc = nlp(page_txt)\n",
        "  matches = phrase_matcher(doc)\n",
        "\n",
        "  keyword_list = []\n",
        "  for match_id, start, end in matches:\n",
        "    span = doc[start: end]\n",
        "    keyword_list.append(f\"{span}\")"
      ],
      "metadata": {
        "id": "xmNbJ187irjc"
      },
      "execution_count": null,
      "outputs": []
    },
    {
      "cell_type": "code",
      "source": [
        "keyword_list"
      ],
      "metadata": {
        "colab": {
          "base_uri": "https://localhost:8080/"
        },
        "id": "e4toMzolitCG",
        "outputId": "7cdc57c5-fb3e-439a-8fe1-23be3ac2a46f"
      },
      "execution_count": null,
      "outputs": [
        {
          "output_type": "execute_result",
          "data": {
            "text/plain": [
              "['Hypertriglyceridemia',\n",
              " 'Hypertriglyceridemia',\n",
              " 'EKG',\n",
              " 'Hypertension',\n",
              " 'Atrial Fibrillation',\n",
              " 'Diplopia',\n",
              " 'Headache',\n",
              " 'Visual Loss',\n",
              " 'Gynecomastia',\n",
              " 'Dysphagia',\n",
              " 'Hematuria',\n",
              " 'Headaches']"
            ]
          },
          "metadata": {},
          "execution_count": 38
        }
      ]
    },
    {
      "cell_type": "code",
      "source": [
        "wrong_keyword_dict1[30]"
      ],
      "metadata": {
        "colab": {
          "base_uri": "https://localhost:8080/"
        },
        "id": "t3bdIYhJgbNz",
        "outputId": "a0c6ff4c-9446-4837-a735-1753ea56e093"
      },
      "execution_count": null,
      "outputs": [
        {
          "output_type": "execute_result",
          "data": {
            "text/plain": [
              "{'ALP',\n",
              " 'ALT',\n",
              " 'AST',\n",
              " 'Albumin',\n",
              " 'Alkaline Phosphatase',\n",
              " 'Anion Gap',\n",
              " 'Aspartate',\n",
              " 'BUN',\n",
              " 'Bilirubin Total',\n",
              " 'Blood Urea Nitrogen',\n",
              " 'CBC',\n",
              " 'CMP',\n",
              " 'CO2',\n",
              " 'Calcium',\n",
              " 'Chloride',\n",
              " 'Complete Blood Count',\n",
              " 'Comprehensive Metabolic Panel',\n",
              " 'Creatinine',\n",
              " 'Encounter',\n",
              " 'GFR',\n",
              " 'Glucose',\n",
              " 'Hypertriglyceridemia',\n",
              " 'Lipid Panel',\n",
              " 'MI',\n",
              " 'Potassium',\n",
              " 'Sodium',\n",
              " 'Urea',\n",
              " 'Urea Nitrogen',\n",
              " 'ppointment'}"
            ]
          },
          "metadata": {},
          "execution_count": 21
        }
      ]
    },
    {
      "cell_type": "code",
      "source": [
        "keywords = [keyword for keyword in wrong_keyword_dict1[30]]\n",
        "len(keywords)"
      ],
      "metadata": {
        "colab": {
          "base_uri": "https://localhost:8080/"
        },
        "id": "9Jiz1Nlji4t6",
        "outputId": "54ef3417-8146-46fe-d8cd-679a8c13005c"
      },
      "execution_count": null,
      "outputs": [
        {
          "output_type": "execute_result",
          "data": {
            "text/plain": [
              "29"
            ]
          },
          "metadata": {},
          "execution_count": 33
        }
      ]
    },
    {
      "cell_type": "code",
      "source": [
        "len(list(set(keywords)))"
      ],
      "metadata": {
        "colab": {
          "base_uri": "https://localhost:8080/"
        },
        "id": "ACLV0LxtkWji",
        "outputId": "be133bd8-2894-441a-8c07-2ae2281bcca4"
      },
      "execution_count": null,
      "outputs": [
        {
          "output_type": "execute_result",
          "data": {
            "text/plain": [
              "29"
            ]
          },
          "metadata": {},
          "execution_count": 37
        }
      ]
    },
    {
      "cell_type": "code",
      "source": [
        "nlp = spacy.load('en_core_web_sm')"
      ],
      "metadata": {
        "id": "fisKIpBvjLdg"
      },
      "execution_count": null,
      "outputs": []
    },
    {
      "cell_type": "code",
      "source": [
        "phrase_matcher = PhraseMatcher(nlp.vocab)\n",
        "patterns = list(nlp.tokenizer.pipe(keywords))\n",
        "phrase_matcher.add('keywords', patterns)"
      ],
      "metadata": {
        "id": "LLFgaNg-jJF4"
      },
      "execution_count": null,
      "outputs": []
    },
    {
      "cell_type": "code",
      "source": [
        "with open(\"page-30.txt\", \"r\") as f:\n",
        "  page_txt = f.read()\n",
        "  # filter the page that have line number instead of code\n",
        "  #if not re.search(\"(P[ ][0-9]+)(,\\s)(L[0-9]+)\", page_txt):\n",
        "  doc = nlp(page_txt)\n",
        "  matches = phrase_matcher(doc)\n",
        "\n",
        "  keyword_list = []\n",
        "  for match_id, start, end in matches:\n",
        "    span = doc[start: end]\n",
        "    keyword_list.append(f\"{span}\")\n",
        "\n",
        "print(len(keyword_list))\n",
        "len(list(set(keyword_list)))"
      ],
      "metadata": {
        "colab": {
          "base_uri": "https://localhost:8080/"
        },
        "id": "NJcvrEv1jVtm",
        "outputId": "99084aaa-5ce1-4fd3-9d4c-f30f916dadfc"
      },
      "execution_count": null,
      "outputs": [
        {
          "output_type": "stream",
          "name": "stdout",
          "text": [
            "37\n"
          ]
        },
        {
          "output_type": "execute_result",
          "data": {
            "text/plain": [
              "29"
            ]
          },
          "metadata": {},
          "execution_count": 38
        }
      ]
    },
    {
      "cell_type": "code",
      "source": [
        "\n",
        "phrase_matcher = PhraseMatcher(nlp.vocab)\n",
        "\n",
        "keywords = [keyword for keyword in wrong_keyword_dict1[30]]\n",
        "pattern1 = [{'ORTH': keywords}]\n",
        "phrase_matcher.add('keywords', None, pattern1)"
      ],
      "metadata": {
        "colab": {
          "base_uri": "https://localhost:8080/",
          "height": 253
        },
        "id": "9fDJwzw3gg2W",
        "outputId": "80526fd2-bf26-4ca9-87cb-5933bf18ae87"
      },
      "execution_count": null,
      "outputs": [
        {
          "output_type": "error",
          "ename": "TypeError",
          "evalue": "ignored",
          "traceback": [
            "\u001b[0;31m---------------------------------------------------------------------------\u001b[0m",
            "\u001b[0;31mTypeError\u001b[0m                                 Traceback (most recent call last)",
            "\u001b[0;32m<ipython-input-27-13a45877d65f>\u001b[0m in \u001b[0;36m<cell line: 6>\u001b[0;34m()\u001b[0m\n\u001b[1;32m      4\u001b[0m \u001b[0mkeywords\u001b[0m \u001b[0;34m=\u001b[0m \u001b[0;34m[\u001b[0m\u001b[0mkeyword\u001b[0m \u001b[0;32mfor\u001b[0m \u001b[0mkeyword\u001b[0m \u001b[0;32min\u001b[0m \u001b[0mwrong_keyword_dict1\u001b[0m\u001b[0;34m[\u001b[0m\u001b[0;36m30\u001b[0m\u001b[0;34m]\u001b[0m\u001b[0;34m]\u001b[0m\u001b[0;34m\u001b[0m\u001b[0;34m\u001b[0m\u001b[0m\n\u001b[1;32m      5\u001b[0m \u001b[0mpattern1\u001b[0m \u001b[0;34m=\u001b[0m \u001b[0;34m[\u001b[0m\u001b[0;34m{\u001b[0m\u001b[0;34m'ORTH'\u001b[0m\u001b[0;34m:\u001b[0m \u001b[0mkeywords\u001b[0m\u001b[0;34m}\u001b[0m\u001b[0;34m]\u001b[0m\u001b[0;34m\u001b[0m\u001b[0;34m\u001b[0m\u001b[0m\n\u001b[0;32m----> 6\u001b[0;31m \u001b[0mphrase_matcher\u001b[0m\u001b[0;34m.\u001b[0m\u001b[0madd\u001b[0m\u001b[0;34m(\u001b[0m\u001b[0;34m'keywords'\u001b[0m\u001b[0;34m,\u001b[0m \u001b[0;32mNone\u001b[0m\u001b[0;34m,\u001b[0m \u001b[0mpattern1\u001b[0m\u001b[0;34m)\u001b[0m\u001b[0;34m\u001b[0m\u001b[0;34m\u001b[0m\u001b[0m\n\u001b[0m",
            "\u001b[0;32m/usr/local/lib/python3.10/dist-packages/spacy/matcher/phrasematcher.pyx\u001b[0m in \u001b[0;36mspacy.matcher.phrasematcher.PhraseMatcher.add\u001b[0;34m()\u001b[0m\n",
            "\u001b[0;31mTypeError\u001b[0m: unhashable type: 'dict'"
          ]
        }
      ]
    }
  ]
}