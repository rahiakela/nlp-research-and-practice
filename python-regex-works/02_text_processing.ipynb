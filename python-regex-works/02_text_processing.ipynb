{
  "nbformat": 4,
  "nbformat_minor": 0,
  "metadata": {
    "colab": {
      "provenance": [],
      "toc_visible": true,
      "authorship_tag": "ABX9TyOMgIunKaiaBek/cknvnofX",
      "include_colab_link": true
    },
    "kernelspec": {
      "name": "python3",
      "display_name": "Python 3"
    },
    "language_info": {
      "name": "python"
    }
  },
  "cells": [
    {
      "cell_type": "markdown",
      "metadata": {
        "id": "view-in-github",
        "colab_type": "text"
      },
      "source": [
        "<a href=\"https://colab.research.google.com/github/rahiakela/nlp-research-and-practice/blob/main/python-regex-works/02_text_processing.ipynb\" target=\"_parent\"><img src=\"https://colab.research.google.com/assets/colab-badge.svg\" alt=\"Open In Colab\"/></a>"
      ]
    },
    {
      "cell_type": "markdown",
      "source": [
        "##Text processing"
      ],
      "metadata": {
        "id": "_hO-TIKUI4ky"
      }
    },
    {
      "cell_type": "code",
      "source": [
        "import re"
      ],
      "metadata": {
        "id": "-QxsXGMMG6x9"
      },
      "execution_count": 1,
      "outputs": []
    },
    {
      "cell_type": "code",
      "source": [
        "text_data =\"\"\"101, Homework; Complete physics and math\n",
        "some random nonsense\n",
        "102, Laundry; Wash all the clothes today\n",
        "54, random; record\n",
        "103, Museum; All about Egypt\n",
        "1234, random; record\n",
        "Another random record\n",
        "\"\"\""
      ],
      "metadata": {
        "id": "o0FddFNsI7aO"
      },
      "execution_count": 5,
      "outputs": []
    },
    {
      "cell_type": "code",
      "source": [
        "regex = re.compile(r\"(\\d{3}), (\\w+); (.+)\")\n",
        "\n",
        "for line in text_data.split(\"\\n\"):\n",
        "  matchs = regex.match(line)\n",
        "  if matchs:\n",
        "    print(f\"{'Matched:':<12}{matchs.group()}\")\n",
        "  else:\n",
        "    print(f\"{'No Match:':<12}{line}\")"
      ],
      "metadata": {
        "colab": {
          "base_uri": "https://localhost:8080/"
        },
        "id": "b8IMPVfiG9ot",
        "outputId": "f9ae9c49-a351-4303-eb34-39ae2bd12134"
      },
      "execution_count": 6,
      "outputs": [
        {
          "output_type": "stream",
          "name": "stdout",
          "text": [
            "Matched:    101, Homework; Complete physics and math\n",
            "No Match:   some random nonsense\n",
            "Matched:    102, Laundry; Wash all the clothes today\n",
            "No Match:   54, random; record\n",
            "Matched:    103, Museum; All about Egypt\n",
            "No Match:   1234, random; record\n",
            "No Match:   Another random record\n",
            "No Match:   \n"
          ]
        }
      ]
    },
    {
      "cell_type": "code",
      "source": [
        "# Extracting data from individual groups\n",
        "tasks = []\n",
        "for line in text_data.split(\"\\n\"):\n",
        "  matchs = regex.match(line)\n",
        "  if matchs:\n",
        "    task = (matchs.group(1), matchs.group(2), matchs.group(3))\n",
        "    tasks.append(task)\n",
        "\n",
        "tasks"
      ],
      "metadata": {
        "colab": {
          "base_uri": "https://localhost:8080/"
        },
        "id": "kl2W4GMjHF1-",
        "outputId": "55eb04f6-77ba-4859-8278-8f07914c806c"
      },
      "execution_count": 8,
      "outputs": [
        {
          "output_type": "execute_result",
          "data": {
            "text/plain": [
              "[('101', 'Homework', 'Complete physics and math'),\n",
              " ('102', 'Laundry', 'Wash all the clothes today'),\n",
              " ('103', 'Museum', 'All about Egypt')]"
            ]
          },
          "metadata": {},
          "execution_count": 8
        }
      ]
    },
    {
      "cell_type": "code",
      "source": [
        "# Using named groups to extract data\n",
        "regex = re.compile(r\"(?P<task_id>\\d{3}), (?P<task_title>\\w+); (?P<task_desc>.+)\")\n",
        "\n",
        "tasks = []\n",
        "for line in text_data.split(\"\\n\"):\n",
        "  matchs = regex.match(line)\n",
        "  if matchs:\n",
        "    task = (matchs.group(\"task_id\"), matchs.group(\"task_title\"), matchs.group(\"task_desc\"))\n",
        "    tasks.append(task)\n",
        "\n",
        "tasks"
      ],
      "metadata": {
        "colab": {
          "base_uri": "https://localhost:8080/"
        },
        "id": "Lp_b54vmIP9-",
        "outputId": "5d647571-59ce-4184-c5bf-f73ddc6502c7"
      },
      "execution_count": 9,
      "outputs": [
        {
          "output_type": "execute_result",
          "data": {
            "text/plain": [
              "[('101', 'Homework', 'Complete physics and math'),\n",
              " ('102', 'Laundry', 'Wash all the clothes today'),\n",
              " ('103', 'Museum', 'All about Egypt')]"
            ]
          },
          "metadata": {},
          "execution_count": 9
        }
      ]
    }
  ]
}