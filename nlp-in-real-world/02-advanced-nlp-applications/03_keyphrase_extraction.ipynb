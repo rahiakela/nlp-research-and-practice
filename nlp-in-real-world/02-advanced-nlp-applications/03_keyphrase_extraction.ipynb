{
  "nbformat": 4,
  "nbformat_minor": 0,
  "metadata": {
    "colab": {
      "provenance": [],
      "toc_visible": true,
      "authorship_tag": "ABX9TyMVOQCJA6mY3Z583pMrMh1k",
      "include_colab_link": true
    },
    "kernelspec": {
      "name": "python3",
      "display_name": "Python 3"
    },
    "language_info": {
      "name": "python"
    }
  },
  "cells": [
    {
      "cell_type": "markdown",
      "metadata": {
        "id": "view-in-github",
        "colab_type": "text"
      },
      "source": [
        "<a href=\"https://colab.research.google.com/github/rahiakela/nlp-research-and-practice/blob/main/nlp-in-real-world/02-advanced-nlp-applications/03_keyphrase_extraction.ipynb\" target=\"_parent\"><img src=\"https://colab.research.google.com/assets/colab-badge.svg\" alt=\"Open In Colab\"/></a>"
      ]
    },
    {
      "cell_type": "markdown",
      "source": [
        "##Setup"
      ],
      "metadata": {
        "id": "LCbxNJZpcfKt"
      }
    },
    {
      "cell_type": "code",
      "source": [
        "%%capture\n",
        "\n",
        "!pip -q install spacy==3.2.3\n",
        "!pip install textacy==0.9.1\n",
        "!pip install keybert==0.5.1\n",
        "!pip install rake-nltk\n",
        "\n",
        "!python -m spacy download en_core_web_sm"
      ],
      "metadata": {
        "id": "3WhrYAcJcgVG"
      },
      "execution_count": 1,
      "outputs": []
    },
    {
      "cell_type": "code",
      "source": [
        "import re\n",
        "import random\n",
        "import numpy as np\n",
        "\n",
        "#from textacy import load_spacy_lang, make_spacy_doc\n",
        "#from textacy.ke import sgrank, textrank\n",
        "\n",
        "from keybert import KeyBERT\n",
        "\n",
        "from rake_nltk import Rake\n",
        "\n",
        "import nltk"
      ],
      "metadata": {
        "id": "mXUnM_u0c059"
      },
      "execution_count": 5,
      "outputs": []
    },
    {
      "cell_type": "code",
      "source": [
        "nltk.download('stopwords')\n",
        "nltk.download('punkt')"
      ],
      "metadata": {
        "id": "lyeaY-m8csuU"
      },
      "execution_count": null,
      "outputs": []
    },
    {
      "cell_type": "code",
      "source": [
        "text = \"\"\"Natural language processing (NLP) is a subfield of linguistics, computer science, and artificial intelligence concerned\n",
        "  with the interactions between computers and human language, in particular how to program computers to process and analyze large\n",
        "  amounts of natural language data. The goal is a computer capable of \"understanding\" the contents of documents,\n",
        "  including the contextual nuances of the language within them. The technology can then accurately extract information\n",
        "  and insights contained in the documents as well as categorize and organize the documents themselves.\"\"\""
      ],
      "metadata": {
        "id": "H4qMPoWamTde"
      },
      "execution_count": 3,
      "outputs": []
    },
    {
      "cell_type": "markdown",
      "source": [
        "##textacy"
      ],
      "metadata": {
        "id": "FPsTtORjXiPJ"
      }
    },
    {
      "cell_type": "code",
      "source": [
        "en = load_spacy_lang(\n",
        "    \"en_core_web_sm\",\n",
        "    disable=(\"parser\",)\n",
        ")\n",
        "doc = make_spacy_doc(text, lang=en)\n",
        "\n",
        "# TextRank\n",
        "textrank = textrank(\n",
        "    doc, normalize=\"lemma\", topn=5\n",
        ")\n",
        "\n",
        "# SGRank\n",
        "sg = sgrank(doc, topn=5)\n",
        "print(\n",
        "    \"\\n\\n TextRank keyphrases \\n \",\n",
        "    [kp for kp, _ in textrank]\n",
        ")\n",
        "\n",
        "print(\n",
        "    \"\\n\\n SGRank keyphrases \\n \",\n",
        "    [kp for kp, _ in sg]\n",
        ")"
      ],
      "metadata": {
        "id": "sOha62hycnfc",
        "outputId": "91a086fd-2a55-42d7-96c1-6da94bd7f58b",
        "colab": {
          "base_uri": "https://localhost:8080/"
        }
      },
      "execution_count": null,
      "outputs": [
        {
          "output_type": "stream",
          "name": "stdout",
          "text": [
            "Created a blank en model\n",
            "pipe_names ['ner']\n"
          ]
        }
      ]
    },
    {
      "cell_type": "markdown",
      "source": [
        "##Rake-NLTK"
      ],
      "metadata": {
        "id": "SocN2Ugna8Wb"
      }
    },
    {
      "cell_type": "code",
      "source": [
        "# Considers nltk english stopwords and punctuations\n",
        "r = Rake()\n",
        "\n",
        "r.extract_keywords_from_text(text)\n",
        "\n",
        "# top 5 keyphrases\n",
        "print(r.get_ranked_phrases()[0:5])"
      ],
      "metadata": {
        "id": "ho85PyOlbGJr",
        "colab": {
          "base_uri": "https://localhost:8080/"
        },
        "outputId": "6bffa8a4-29ad-47f1-96ae-fefaf9070c44"
      },
      "execution_count": 9,
      "outputs": [
        {
          "output_type": "stream",
          "name": "stdout",
          "text": [
            "['artificial intelligence concerned', 'analyze large amounts', 'accurately extract information', 'natural language processing', 'natural language data']\n"
          ]
        }
      ]
    },
    {
      "cell_type": "markdown",
      "source": [
        "##KeyBERT"
      ],
      "metadata": {
        "id": "R6fvJCyec9Nu"
      }
    },
    {
      "cell_type": "code",
      "source": [
        "kw_model = KeyBERT()\n",
        "keywords = kw_model.extract_keywords(\n",
        "    text,\n",
        "    keyphrase_ngram_range=(1, 3),\n",
        "    stop_words=None,\n",
        "    highlight=True\n",
        "  )"
      ],
      "metadata": {
        "id": "jEJdxB8Hc92Y"
      },
      "execution_count": null,
      "outputs": []
    },
    {
      "cell_type": "code",
      "source": [
        "print(keywords)"
      ],
      "metadata": {
        "id": "ASa7irqrdUaN"
      },
      "execution_count": null,
      "outputs": []
    }
  ]
}