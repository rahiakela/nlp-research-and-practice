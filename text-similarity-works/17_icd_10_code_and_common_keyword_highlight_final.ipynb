{
  "nbformat": 4,
  "nbformat_minor": 0,
  "metadata": {
    "colab": {
      "provenance": [],
      "collapsed_sections": [
        "0hK4nU35JVaA",
        "N4dDTs-rJL_h",
        "TycHgKTZJ6a6"
      ],
      "authorship_tag": "ABX9TyM/7ut+FfgIATFqm/pIAtPf",
      "include_colab_link": true
    },
    "kernelspec": {
      "name": "python3",
      "display_name": "Python 3"
    },
    "language_info": {
      "name": "python"
    }
  },
  "cells": [
    {
      "cell_type": "markdown",
      "metadata": {
        "id": "view-in-github",
        "colab_type": "text"
      },
      "source": [
        "<a href=\"https://colab.research.google.com/github/rahiakela/nlp-research-and-practice/blob/main/text-similarity-works/17_icd_10_code_and_common_keyword_highlight_final.ipynb\" target=\"_parent\"><img src=\"https://colab.research.google.com/assets/colab-badge.svg\" alt=\"Open In Colab\"/></a>"
      ]
    },
    {
      "cell_type": "markdown",
      "source": [
        "##Setup"
      ],
      "metadata": {
        "id": "u6vazPC0Ja4i"
      }
    },
    {
      "cell_type": "code",
      "source": [
        "!pip -q install spacy\n",
        "!python -m spacy download en_core_web_sm\n",
        "\n",
        "!pip install pillow\n",
        "\n",
        "!sudo apt install build-essential libpoppler-cpp-dev pkg-config python3-dev\n",
        "!pip install -U pdftotext\n",
        "!pip install PyPDF2\n",
        "!pip install fitz\n",
        "!pip install PyMuPDF"
      ],
      "metadata": {
        "id": "gdwgVvXuJdz9"
      },
      "execution_count": null,
      "outputs": []
    },
    {
      "cell_type": "code",
      "source": [
        "!pip install fuzzywuzzy"
      ],
      "metadata": {
        "id": "4QPcnYT5AKpj"
      },
      "execution_count": null,
      "outputs": []
    },
    {
      "cell_type": "code",
      "source": [
        "import numpy as np\n",
        "import pandas as pd\n",
        "import re\n",
        "import os\n",
        "import sys\n",
        "import glob\n",
        "import difflib\n",
        "import pickle\n",
        "from pathlib import Path\n",
        "from difflib import SequenceMatcher\n",
        "\n",
        "import fitz\n",
        "import pdftotext\n",
        "from PyPDF2 import PdfFileReader, PdfReader, PdfFileWriter, PdfWriter\n",
        "\n",
        "import spacy\n",
        "from spacy.matcher import PhraseMatcher\n",
        "from spacy.lang.en import English\n",
        "\n",
        "import nltk\n",
        "from nltk.tokenize import sent_tokenize\n",
        "from nltk.tokenize import word_tokenize\n",
        "from nltk.corpus import stopwords\n",
        "from string import punctuation\n",
        "from fuzzywuzzy import fuzz\n",
        "from fuzzywuzzy import process"
      ],
      "metadata": {
        "id": "gKbd7WsfyYX3",
        "outputId": "585f913a-cbf5-4109-a6c7-f61d040ae531",
        "colab": {
          "base_uri": "https://localhost:8080/"
        }
      },
      "execution_count": 1,
      "outputs": [
        {
          "output_type": "stream",
          "name": "stderr",
          "text": [
            "/usr/local/lib/python3.8/dist-packages/torch/cuda/__init__.py:497: UserWarning: Can't initialize NVML\n",
            "  warnings.warn(\"Can't initialize NVML\")\n",
            "/usr/local/lib/python3.8/dist-packages/fuzzywuzzy/fuzz.py:11: UserWarning: Using slow pure-python SequenceMatcher. Install python-Levenshtein to remove this warning\n",
            "  warnings.warn('Using slow pure-python SequenceMatcher. Install python-Levenshtein to remove this warning')\n"
          ]
        }
      ]
    },
    {
      "cell_type": "code",
      "source": [
        "nltk.download('punkt')\n",
        "nltk.download('stopwords')"
      ],
      "metadata": {
        "id": "Imv6fB5gPBe2",
        "outputId": "e68f725c-840e-4959-89ec-70bcf5773a33",
        "colab": {
          "base_uri": "https://localhost:8080/"
        }
      },
      "execution_count": 8,
      "outputs": [
        {
          "output_type": "stream",
          "name": "stderr",
          "text": [
            "[nltk_data] Downloading package punkt to /root/nltk_data...\n",
            "[nltk_data]   Unzipping tokenizers/punkt.zip.\n",
            "[nltk_data] Downloading package stopwords to /root/nltk_data...\n",
            "[nltk_data]   Unzipping corpora/stopwords.zip.\n"
          ]
        },
        {
          "output_type": "execute_result",
          "data": {
            "text/plain": [
              "True"
            ]
          },
          "metadata": {},
          "execution_count": 8
        }
      ]
    },
    {
      "cell_type": "code",
      "source": [
        "stop_words = set(stopwords.words('english'))"
      ],
      "metadata": {
        "id": "vcyPFuUZgdRV"
      },
      "execution_count": 2,
      "outputs": []
    },
    {
      "cell_type": "code",
      "source": [
        "!mkdir -p input_files"
      ],
      "metadata": {
        "id": "2dfljcHuOVw3"
      },
      "execution_count": 10,
      "outputs": []
    },
    {
      "cell_type": "code",
      "source": [
        "(233/255,150/255,122/255)"
      ],
      "metadata": {
        "colab": {
          "base_uri": "https://localhost:8080/"
        },
        "id": "WkJRL5RWXE00",
        "outputId": "00cda66f-819f-4ab1-9909-0cbcb5658590"
      },
      "execution_count": null,
      "outputs": [
        {
          "output_type": "execute_result",
          "data": {
            "text/plain": [
              "(0.9137254901960784, 0.5882352941176471, 0.47843137254901963)"
            ]
          },
          "metadata": {},
          "execution_count": 20
        }
      ]
    },
    {
      "cell_type": "markdown",
      "source": [
        "##Core Classes"
      ],
      "metadata": {
        "id": "9oNqjgIsRpNm"
      }
    },
    {
      "cell_type": "code",
      "source": [
        "class Highlighter:\n",
        "  def __init__(self, code_df):\n",
        "    # loading and updating patterns for ICD-10 code\n",
        "    self.nlp_code10 = English()\n",
        "    self.nlp_code10.add_pipe(\"entity_ruler\").from_disk(\"icd10_code_patterns-v5.jsonl\")\n",
        "\n",
        "    # define icd-10 code dataset\n",
        "    self.code_df = code_df\n",
        "    self.text_list = None\n",
        "\n",
        "    # define required directory path\n",
        "    self.PDF_FILES_PATH = \"pdf-files\"\n",
        "    self.TXT_FILES_PATH = \"txt-files\"\n",
        "    self.OUTPUT_FILES_PATH = \"output\"\n",
        "    create_directory(self.PDF_FILES_PATH)\n",
        "    create_directory(self.TXT_FILES_PATH)\n",
        "    create_directory(self.OUTPUT_FILES_PATH)\n",
        "\n",
        "  def split_pdf(self, pdf_path):\n",
        "      pdf_in_file = open(pdf_path, \"rb\")\n",
        "      pdf = PdfReader(pdf_in_file)\n",
        "      pdf_list = []\n",
        "      for page in range(len(pdf.pages)):\n",
        "          input_pdf = PdfReader(pdf_in_file)\n",
        "          output = PdfWriter()\n",
        "          #output.addPage(input_pdf.getPage(page))\n",
        "          output.add_page(input_pdf.pages[page])\n",
        "          with open(f\"{self.PDF_FILES_PATH}/page-{page}.pdf\", \"wb\") as outputStream:\n",
        "              output.write(outputStream)\n",
        "              pdf_list.append(f\"page-{page}.pdf\")\n",
        "      return pdf_list\n",
        "\n",
        "  def extract_text_from_pdf(self, pdf_list):\n",
        "    txt_file_list = []\n",
        "    i = 0\n",
        "    for pdf_file in pdf_list:\n",
        "      with open(os.path.join(self.PDF_FILES_PATH, pdf_file), \"rb\") as f:\n",
        "        pdf = pdftotext.PDF(f)\n",
        "\n",
        "      # Read all the text into one string\n",
        "      pdf_text = \"\\n\\n\".join(pdf)\n",
        "\n",
        "      # write text into file\n",
        "      with open(f\"{self.TXT_FILES_PATH}/page-{str(i)}.txt\", \"a\") as f:\n",
        "        f.write(pdf_text)\n",
        "      txt_file_list.append(f\"{self.TXT_FILES_PATH}/page-{str(i)}.txt\")\n",
        "      i += 1\n",
        "    self.text_list = txt_file_list\n",
        "    return txt_file_list\n",
        "\n",
        "  def highlight_icd_code(self, icd10_code_dict, match_threshold=30, coordinate=False, pdf_file_name=None, cords_file_name=None):\n",
        "      pdf_file = fitz.open(pdf_file_name)\n",
        "      # create file to write coordinate\n",
        "      txt_output_file_name = open(f\"{self.OUTPUT_FILES_PATH}/{cords_file_name}\", \"a\")\n",
        "      # add file header \n",
        "      txt_output_file_name.write(\"| Page | Found Code | Actual ICD10-Code | ICD 10 description | Common Words | Matched paragraph | confidence |\\n \")\n",
        "\n",
        "      def highlight_code(page_obj, p_highlight, match_score, keyword, curr_paragraph):\n",
        "        # highlight code that dont have common words\n",
        "        common_words = self.get_common_words(keyword, curr_paragraph)\n",
        "        # highlight code if threshold is more than match threshold and common words exists\n",
        "        if match_score >= match_threshold:\n",
        "          page_highlight = page_obj.add_highlight_annot(p_highlight)\n",
        "          page_highlight.set_colors(stroke=[0.66, 1, 0.07])  # light green\n",
        "          page_highlight.update()\n",
        "        elif len(common_words) < 1: # set color coding dont have common words\n",
        "          page_highlight = page_obj.add_highlight_annot(p_highlight)\n",
        "          page_highlight.set_colors(stroke=[0.92, 0.59, 0.48]) # dark salmon\n",
        "          page_highlight.update()\n",
        "\n",
        "      def highlight_common_words(page_obj, common_words_coord_dict):\n",
        "        highlight_coords_dict = {}\n",
        "        highlighted_word_list = []\n",
        "        for common_word, common_word_coord in common_words_coord_dict.items():\n",
        "          highlight = page_obj.add_highlight_annot(common_word_coord)\n",
        "          highlight.update()\n",
        "          highlight_coords_dict[common_word] = common_word_coord\n",
        "          highlighted_word_list.append(common_word)\n",
        "        return highlight_coords_dict, highlighted_word_list\n",
        "              \n",
        "      for page_num, page in enumerate(pdf_file):\n",
        "        # highlight ICD-10 code\n",
        "        if page_num in icd10_code_dict:\n",
        "          for code in icd10_code_dict[page_num]:\n",
        "            highlight_list = page.search_for(code)\n",
        "            print(f\"Page-{page_num}, Code: {code}, Coordinate: {highlight_list}\")\n",
        "            for highlight in highlight_list:\n",
        "              keyword = self.get_keyword(code)\n",
        "              # get match score and common words coordinate\n",
        "              all_match_keyword_list = self.get_best_token_match(code, page, highlight[3], match_threshold)\n",
        "              for match_keyword_dict in all_match_keyword_list:\n",
        "                # highlight ICD-10 code  \n",
        "                highlight_code(page, highlight, match_keyword_dict[\"score\"], keyword, match_keyword_dict['paragraph'])\n",
        "                # highlight common words\n",
        "                highlight_coords_dict, highlighted_word_list = highlight_common_words(page, match_keyword_dict[\"common_words_coords\"])\n",
        "                # write all info into text file\n",
        "                num_page = page_num + 1\n",
        "                if match_keyword_dict[\"score\"] >= match_threshold:\n",
        "                  #| Page | Found Code | Actual ICD10-Code | ICD 10 description | Common Words | confidence | \n",
        "                  code_cors_output = (f\"|Page-{num_page} | {code} | {reverse_code_pattern(code)}\" \n",
        "                  f\" | {keyword if keyword else 'No keyword found'}\" \n",
        "                  f\" | {match_keyword_dict['common_words']} | {match_keyword_dict['paragraph']} | {match_keyword_dict['score']} |\")\n",
        "                  txt_output_file_name.write(\"%s\\n\" % code_cors_output)\n",
        "                else:\n",
        "                  code_cors_output = (f\"|Page-{num_page} | {code} | {reverse_code_pattern(code)} | {keyword if keyword else 'No keyword found'}\"\n",
        "                  f\" | {match_keyword_dict['common_words']} | {match_keyword_dict['paragraph']} | {match_keyword_dict['score']} |\")\n",
        "                  txt_output_file_name.write(\"%s\\n\" % code_cors_output)\n",
        "                if coordinate:\n",
        "                  txt_output_file_name.write(\"%s\\n\" % f\"|{code}:{highlight}|\")\n",
        "                  txt_output_file_name.write(\"%s\\n\" % f\"|{highlight_coords_dict}|\")\n",
        "\n",
        "              txt_output_file_name.write(\"\\n\") # add extra line on every match code\n",
        "\n",
        "      txt_output_file_name.close()\n",
        "      pdf_output_file_name = f\"{self.OUTPUT_FILES_PATH}/{pdf_file_name.split('/')[1].split('.')[0]}_output.pdf\"\n",
        "      pdf_file.save(pdf_output_file_name, garbage=4, deflate=True, clean=True)\n",
        "\n",
        "      return pdf_output_file_name, cords_file_name\n",
        "\n",
        "  def search_icd_code(self, txt_list):\n",
        "    pdf_page_vocab = {}\n",
        "    for txt_file in txt_list:\n",
        "      with open(txt_file, \"r\") as f:\n",
        "        page_txt = f.read()\n",
        "\n",
        "        # check the page that have line number instead of code\n",
        "        index_page = False\n",
        "        if re.search(\"(P[ ][0-9]+)(,\\s)(L[0-9]+)\", page_txt):\n",
        "          index_page = True\n",
        "\n",
        "        doc = self.nlp_code10(page_txt)\n",
        "        code_list = []\n",
        "        for ent in doc.ents:\n",
        "          if index_page:\n",
        "            # check the code contain letter \"L\"\n",
        "            if re.search(\"(L[0-9]+)\", ent.text):\n",
        "              continue\n",
        "            else:\n",
        "              code_list.append(ent.text)\n",
        "          else:\n",
        "            code_list.append(ent.text)\n",
        "\n",
        "        #code_list = [ent.text for ent in doc.ents if not re.search(\"(P[ ][0-9]+)(,\\s)(L[0-9]+)\", ent.text)]\n",
        "        if len(code_list) != 0:\n",
        "          page_number = int(txt_file.split(\"/\")[1].split(\".\")[0].split(\"-\")[1])\n",
        "          pdf_page_vocab[page_number] = list(set(code_list)) \n",
        "          # print(f\"Page[{txt_file.split('/')[1]}]: {code_list}\")\n",
        "    return pdf_page_vocab\n",
        "    \n",
        "  def get_best_token_match(self, p_code, page_obj, code_y2_coord, match_threshold):\n",
        "    all_match_keyword_list = []\n",
        "    # Step 1: reverse code pattern\n",
        "    reversed_icd_code = reverse_code_pattern(p_code)\n",
        "    # Step 2: fetch keyword based on code \n",
        "    keyword = self.get_keyword(reversed_icd_code)\n",
        "    print(f\"keyword: {keyword}\")\n",
        "    # Step 3: get code paragraph  \n",
        "    code_paragraph_list = self.get_paragraph(page_obj, code_y2_coord)\n",
        "    #print(f\"code_paragraph-2: {code_paragraph}\")\n",
        "    # Step 4: get common words \n",
        "    for code_paragraph in code_paragraph_list:\n",
        "      match_keyword_dict = {}\n",
        "      common_words = self.get_common_words(keyword, code_paragraph)\n",
        "      if len(common_words) > 0:\n",
        "        # Step 4: get best token match ratio \n",
        "        clean_paragraph = \" \".join(self.clean_text(code_paragraph))\n",
        "        match_score = fuzz.token_set_ratio(keyword, clean_paragraph) if fuzz.token_set_ratio(keyword, clean_paragraph) > match_threshold else 0\n",
        "        # Step 5: build common words coordinate dict\n",
        "        common_words_coord_dict = {}\n",
        "        for common_word in common_words:\n",
        "          highlight_list = page_obj.search_for(common_word)\n",
        "          for highlight in highlight_list:\n",
        "            # get common word y2 coord value\n",
        "            common_word_y2_coords = highlight[3]\n",
        "            if (code_y2_coord-20) <= common_word_y2_coords <= (code_y2_coord + 20):\n",
        "              common_words_coord_dict[common_word] = highlight\n",
        "        match_keyword_dict[\"score\"] = match_score  \n",
        "        match_keyword_dict[\"paragraph\"] = clean_paragraph \n",
        "        match_keyword_dict[\"common_words\"] = common_words \n",
        "        match_keyword_dict[\"common_words_coords\"] = common_words_coord_dict\n",
        "        all_match_keyword_list.append(match_keyword_dict)\n",
        "    return all_match_keyword_list\n",
        "  \n",
        "  def get_keyword(self, p_code):\n",
        "    keyword = \"\"\n",
        "    # reverse code if required\n",
        "    code = reverse_code_pattern(p_code)\n",
        "    # get keyword from dataset\n",
        "    keyword_list = list(self.code_df.loc[self.code_df[\"Code\"] == code][\"Keyword\"])\n",
        "    if len(keyword_list) > 0:\n",
        "      keyword = keyword_list[0]\n",
        "    return keyword\n",
        "\n",
        "  def get_paragraph(self, page_obj, code_y2_coord):\n",
        "    code_paragraph_list = []\n",
        "    page_content = page_obj.get_text(\"blocks\", sort=False)\n",
        "    y_coord_list = [content[3] for content in page_content]\n",
        "    closed_coord = find_nearest(y_coord_list, code_y2_coord)\n",
        "    print(f\"closet_y_coords: {closed_coord}\")\n",
        "    for content in page_content:\n",
        "      if (closed_coord-20) <= content[3] <= (closed_coord + 20):\n",
        "        if len(clean_text(content[4])) > 0:\n",
        "          code_paragraph = content[4]\n",
        "          code_paragraph_list.append(code_paragraph)\n",
        "          print(f\"paragraph_coord: {content[0], content[1], content[2], content[3]}\")\n",
        "          print(f\"code_paragraph: {code_paragraph}\")\n",
        "    return code_paragraph_list\n",
        "\n",
        "  def get_paragraph3(self, page_obj, code_y2_coord):\n",
        "    code_paragraph = None\n",
        "    page_content = page_obj.get_text(\"blocks\", sort=False)\n",
        "    y_coord_list = [content[3] for content in page_content]\n",
        "    closed_coord = find_nearest(y_coord_list, code_y2_coord)\n",
        "    print(f\"closet_y_coords: {closed_coord}\")\n",
        "    for content in page_content:\n",
        "      if (closed_coord-20) <= content[3] <= (closed_coord + 20):\n",
        "        if len(clean_text(content[4])) > 0:\n",
        "          code_paragraph = content[4]\n",
        "          print(f\"paragraph_coord: {content[0], content[1], content[2], content[3]}\")\n",
        "          print(f\"code_paragraph: {code_paragraph}\")\n",
        "    return code_paragraph\n",
        "    \n",
        "  def get_paragraph2(self, page_obj, code_coords, y_coords_list):\n",
        "    code_paragraph = None\n",
        "    # find closet y coordinate value\n",
        "    closet_y_coords = find_nearest(y_coords_list, value=code_coords)\n",
        "    page_content = page_obj.get_text(\"blocks\", sort=False)\n",
        "    for content in page_content:\n",
        "      print(f\"closet_y_coords: {closet_y_coords}\")\n",
        "      if (closet_y_coords-10) <= content[1] <= (closet_y_coords + 10):\n",
        "        print(f\"content[1]: {content[1]}\")\n",
        "        print(f\"content[4]: {content[4]}\")\n",
        "        if len(self.clean_text(content[4])) > 0:\n",
        "          code_paragraph = content[4]\n",
        "          print(f\"code_paragraph-1: {code_paragraph}\")\n",
        "          print(f\"paragraph_coord: {content[0], content[1], content[2], content[3]}\")\n",
        "    return code_paragraph\n",
        "\n",
        "  def get_common_words(self, sent1, sent2):\n",
        "    clean_token1 = self.clean_text(sent1)\n",
        "    clean_token2 = self.clean_text(sent2)\n",
        "    token_set1 = set(clean_token1)\n",
        "    token_set2 = set(clean_token2)\n",
        "\n",
        "    common_word_set = set()\n",
        "    def get_common(token_set1, token_set2):\n",
        "      for w1 in token_set1:\n",
        "        for w2 in token_set2:\n",
        "          if w1.lower() == w2.lower():\n",
        "            common_word_set.add(w1)\n",
        "    get_common(token_set1, token_set2)\n",
        "    get_common(token_set2, token_set1)\n",
        "    return list(common_word_set)\n",
        "\n",
        "  def clean_text(self, sent):\n",
        "    # tokenize sentence\n",
        "    sent1 = word_tokenize(sent)\n",
        "    # filter stop words\n",
        "    filtered_sent = [w for w in sent1 if not w.lower() in stop_words]\n",
        "    filtered_sent = [w for w in filtered_sent if re.sub(re.compile('\\W'), '', w)]\n",
        "    clean_tokens = []\n",
        "    for token in filtered_sent:\n",
        "      if token.find(\"-\"):\n",
        "        tokens = token.split(\"-\")\n",
        "        clean_tokens.extend(tokens)\n",
        "      else:\n",
        "        clean_tokens.append(token)\n",
        "    return clean_tokens\n",
        "\n",
        "  def get_best_token_match2(self, p_code, num_page, match_threshold):\n",
        "    # Step 1: reverse code pattern\n",
        "    reversed_icd_code = reverse_code_pattern(p_code)\n",
        "    # Step 2: fetch keyword based on code \n",
        "    keyword = self.get_keyword(reversed_icd_code)\n",
        "    # Step 3: prepare sentence list \n",
        "    sentence_list = get_sentence_list(self.text_list, num_page)\n",
        "    # Step 4: get best match token ratio or wratio\n",
        "    match_list = [\n",
        "      (sentence, fuzz.token_set_ratio(keyword, sentence)) \n",
        "      for sentence in sentence_list if fuzz.token_set_ratio(keyword, sentence) > match_threshold\n",
        "    ]\n",
        "    match_found = sort_tuple(match_list)[0] if len(sort_tuple(match_list)) > 0 else (\"NA\", 0)\n",
        "    return match_found, sentence_list,\n",
        "\n",
        "def is_common_word_coords_nearby(page_obj, code_coord, keyword, match_sent):\n",
        "  is_closest_coord = False\n",
        "  # get common word list\n",
        "  common_words = get_common_words(keyword, match_sent)\n",
        "  if len(common_words) > 0:\n",
        "    # get common word coordinate\n",
        "    highlight_list = page_obj.search_for(common_words[0])\n",
        "    #y_coords_list = [highlight[1] for highlight in highlight_list]\n",
        "    # find closet y coordinate value\n",
        "    #closet_y_coords = find_nearest(y_coords_array, value=code_coord)\n",
        "    # check, common word coordinate within range of code coordinate\n",
        "    # if (code_coord-10) <= closet_y_coords <= (code_coord + 10):\n",
        "    if (code_coord-10) <= highlight_list[0][1] <= (code_coord + 10):\n",
        "      is_closest_coord = True\n",
        "  return is_closest_coord\n",
        "\n",
        "def find_nearest(array, value):\n",
        "  array = np.asarray(array)\n",
        "  idx = (np.abs(array - value)).argmin()\n",
        "  return array[idx]\n",
        "\n",
        "def get_common_words(sent1, sent2):\n",
        "  clean_token1 = clean_text(sent1)\n",
        "  clean_token2 = clean_text(sent2)\n",
        "  token_set1 = set(clean_token1)\n",
        "  token_set2 = set(clean_token2)\n",
        "\n",
        "  common_word_set = set()\n",
        "  def get_common(token_set1, token_set2):\n",
        "    for w1 in token_set1:\n",
        "      for w2 in token_set2:\n",
        "        if w1.lower() == w2.lower():\n",
        "          common_word_set.add(w1)\n",
        "  get_common(token_set1, token_set2)\n",
        "  get_common(token_set2, token_set1)\n",
        "  return list(common_word_set)\n",
        "\n",
        "def clean_text(sent):\n",
        "  # tokenize sentence\n",
        "  sent1 = word_tokenize(sent)\n",
        "  # filter stop words\n",
        "  filtered_sent = [w for w in sent1 if not w.lower() in stop_words]\n",
        "  filtered_sent = [w for w in filtered_sent if re.sub(re.compile('\\W'), '', w)]\n",
        "  clean_tokens = []\n",
        "  for token in filtered_sent:\n",
        "    if token.find(\"-\"):\n",
        "      tokens = token.split(\"-\")\n",
        "      clean_tokens.extend(tokens)\n",
        "    else:\n",
        "      clean_tokens.append(token)\n",
        "  return clean_tokens\n",
        "\n",
        "def get_sentence_line(p_code, sentence_list):\n",
        "  line_list = [(line + 1) for line, sent in enumerate(sentence_list) if p_code in sent]\n",
        "  return line_list\n",
        "\n",
        "def get_sentence_list(text_list, num_page):\n",
        "  with open(f\"{text_list[num_page]}\", \"r\") as f:\n",
        "    lines = [line.rstrip('\\n') for line in f]\n",
        "    sentence_list = [\" \".join(line.split()) for line in lines] # Remove extra spaces, tabs, and line breaks\n",
        "  return sentence_list\n",
        "\n",
        "def reverse_code_pattern(p_code):\n",
        "  orig_code = p_code\n",
        "\n",
        "  # check for code contains space(\" \")\n",
        "  tmp_code = orig_code.split(\" \")\n",
        "  if len(tmp_code) > 1:\n",
        "    orig_code = f\"{tmp_code[0].strip()}.{tmp_code[1].strip()}\"\n",
        "\n",
        "  # check for code contains dot(\".\")\n",
        "  tmp_code = p_code.split(\".\")\n",
        "  if len(tmp_code) > 1:\n",
        "    orig_code = f\"{tmp_code[0].strip()}.{tmp_code[1].strip()}\"\n",
        "  \n",
        "  # check for code contains comma(\",\")\n",
        "  tmp_code = p_code.split(\",\")\n",
        "  if len(tmp_code) == 2:\n",
        "    orig_code = f\"{tmp_code[0].strip()}.{tmp_code[1].strip()}\"\n",
        "  elif len(tmp_code) == 2:\n",
        "    orig_code = f\"{tmp_code[0].strip()}.{tmp_code[2].strip()}\"\n",
        "\n",
        "  # handle if the first char of code is missing\n",
        "  alphabats = {\"Z\": \"2\", \"B\": \"8\", \"O\": \"0\", \"S\": \"5\", \"l\": \"1\", \"G\": \"6\", \"o\": \"9\", \"i\": \"1\"}\n",
        "  for key, val in alphabats.items():\n",
        "    # replcae char on 0 index\n",
        "    if orig_code.find(val) == 0:\n",
        "      #orig_code = orig_code.replace(val, key)\n",
        "      orig_code = replacer(orig_code, key, 0)\n",
        "    # replcae char on 1 index\n",
        "    if orig_code.find(key) == 1:\n",
        "      orig_code = replacer(orig_code, val, 1)\n",
        "      # replcae char on 2 index\n",
        "      if orig_code.find(key) == 2:\n",
        "        orig_code = replacer(orig_code, val, 2)\n",
        "      break\n",
        "\n",
        "  return orig_code\n",
        "\n",
        "def replacer(s, newstring, index, nofail=False):\n",
        "  # raise an error if index is outside of the string\n",
        "  if not nofail and index not in range(len(s)):\n",
        "      raise ValueError(\"index outside given string\")\n",
        "\n",
        "  # if not erroring, but the index is still not in the correct range..\n",
        "  if index < 0:  # add it to the beginning\n",
        "      return newstring + s\n",
        "  if index > len(s):  # add it to the end\n",
        "      return s + newstring\n",
        "\n",
        "  # insert the new string between \"slices\" of the original\n",
        "  return s[:index] + newstring + s[index + 1:]\n",
        "\n",
        "def sort_tuple(p_tup):\n",
        "  return (sorted(p_tup, key = lambda x: x[1], reverse=True)) \n",
        "\n",
        "def create_directory(dir_name):\n",
        "  if not os.path.exists(dir_name):\n",
        "    os.makedirs(dir_name)"
      ],
      "metadata": {
        "id": "jRYlndgDUtds"
      },
      "execution_count": 3,
      "outputs": []
    },
    {
      "cell_type": "code",
      "source": [
        "(352.5638732910156-20) <= 352.5638732910156 <= (352.5638732910156 + 20)"
      ],
      "metadata": {
        "id": "meVEu0aQTGcQ",
        "outputId": "3f6e9a7b-22a7-4bef-a498-81f4ddfba49d",
        "colab": {
          "base_uri": "https://localhost:8080/"
        }
      },
      "execution_count": 13,
      "outputs": [
        {
          "output_type": "execute_result",
          "data": {
            "text/plain": [
              "True"
            ]
          },
          "metadata": {},
          "execution_count": 13
        }
      ]
    },
    {
      "cell_type": "code",
      "source": [
        "(352.5638732910156-20) <= 485.04388427734375 <= (352.5638732910156 + 20)"
      ],
      "metadata": {
        "id": "DCcSw_ZyTPIm",
        "outputId": "80b2e8e8-55ac-490c-c2b9-cf841de101b1",
        "colab": {
          "base_uri": "https://localhost:8080/"
        }
      },
      "execution_count": 14,
      "outputs": [
        {
          "output_type": "execute_result",
          "data": {
            "text/plain": [
              "False"
            ]
          },
          "metadata": {},
          "execution_count": 14
        }
      ]
    },
    {
      "cell_type": "markdown",
      "source": [
        "##Keyword Matching & Highlighting "
      ],
      "metadata": {
        "id": "7s7ZxYMUBAol"
      }
    },
    {
      "cell_type": "markdown",
      "source": [
        "- Step 1 - Z87.5\n",
        "- Step 2 - Personal history of complications of pregnancy, childbirth and the puerperium\n",
        "- Step 3 - Page keyword\n",
        "- Step 4 - calculate cosine similirity\n",
        "- Step 5 - \"Green\" > 60% otherwise \"Yellow\""
      ],
      "metadata": {
        "id": "9KDyJlx9bIH5"
      }
    },
    {
      "cell_type": "code",
      "source": [
        "!rm -rf input_files\n",
        "!mkdir -p input_files\n",
        "!rm -rf output\n",
        "!mkdir -p output"
      ],
      "metadata": {
        "id": "wfJwndx9vcTP"
      },
      "execution_count": 4,
      "outputs": []
    },
    {
      "cell_type": "code",
      "source": [
        "def purge(file_path):\n",
        "  for f in glob.glob(file_path):\n",
        "    os.remove(f)"
      ],
      "metadata": {
        "id": "32V_ohLAgvLg"
      },
      "execution_count": 5,
      "outputs": []
    },
    {
      "cell_type": "code",
      "source": [
        "# Step-0: create highlighter instance\n",
        "INPUT_PDF_FILES_PATH = \"input_files\"\n",
        "code_df = pd.read_csv(\"icd_10_code_and_keywords_v2.csv\")\n",
        "\n",
        "highlighter = Highlighter(code_df)"
      ],
      "metadata": {
        "id": "leBmw505CQUl"
      },
      "execution_count": 6,
      "outputs": []
    },
    {
      "cell_type": "code",
      "source": [
        "%%time\n",
        "\n",
        "for pdf_file in os.listdir(INPUT_PDF_FILES_PATH):\n",
        "  pdf_file_name = f\"{INPUT_PDF_FILES_PATH}/{pdf_file}\"\n",
        "  cords_file_name = f\"{pdf_file_name.split('/')[1].split('.')[0]}_cords.txt\"\n",
        "\n",
        "  # Step-1: splitting pdf file\n",
        "  pdf_list = highlighter.split_pdf(pdf_file_name)\n",
        "\n",
        "  # Step-2: Extracting text from pdf\n",
        "  txt_list = highlighter.extract_text_from_pdf(pdf_list)\n",
        "\n",
        "  # Step-3: Searching ICD-10 code\n",
        "  icd10_code_dict = highlighter.search_icd_code(txt_list)\n",
        "\n",
        "  # Step-4: Highlighting ICD-10 code into pdf\n",
        "  pdf_output_file, txt_output_file = highlighter.highlight_icd_code(icd10_code_dict,\n",
        "                                                                    match_threshold=35,\n",
        "                                                                    coordinate=False,\n",
        "                                                                    pdf_file_name=pdf_file_name,\n",
        "                                                                    cords_file_name=cords_file_name)\n",
        "  print(f\"File[{pdf_output_file}] is saved after highlighting ICD-10 code\")\n",
        "  print(f\"Highlighted coordinates are saved into [{txt_output_file}] file.\")\n",
        "\n",
        "  # remove all pdf and text files\n",
        "  purge(\"pdf-files/*.pdf\")\n",
        "  purge(\"txt-files/*.txt\")\n",
        "  pdf_list = []\n",
        "  txt_list = []"
      ],
      "metadata": {
        "id": "hiOT-aTfedMT"
      },
      "execution_count": null,
      "outputs": []
    },
    {
      "cell_type": "code",
      "source": [
        "purge(\"pdf-files/*.pdf\")\n",
        "purge(\"txt-files/*.txt\")"
      ],
      "metadata": {
        "id": "JlOdZaO9IL5o"
      },
      "execution_count": null,
      "outputs": []
    },
    {
      "cell_type": "code",
      "source": [
        "!zip output.zip output/*.*"
      ],
      "metadata": {
        "id": "MeS8LHhjjfzU",
        "outputId": "2787c85a-aa85-4ed5-a4e4-423be06ba313",
        "colab": {
          "base_uri": "https://localhost:8080/"
        }
      },
      "execution_count": 10,
      "outputs": [
        {
          "output_type": "stream",
          "name": "stdout",
          "text": [
            "  adding: output/01_final_cords.txt (deflated 81%)\n",
            "  adding: output/01_final_output.pdf (deflated 10%)\n",
            "  adding: output/APS_38600000R_final_cords.txt (deflated 80%)\n",
            "  adding: output/APS_38600000R_final_output.pdf (deflated 2%)\n"
          ]
        }
      ]
    },
    {
      "cell_type": "code",
      "source": [
        "!zip pdf_text_output.zip pdf-files/*.* txt-files/*.*"
      ],
      "metadata": {
        "id": "AsPhCIH-h1Pg"
      },
      "execution_count": null,
      "outputs": []
    },
    {
      "cell_type": "code",
      "source": [
        "# Step-1: spliting pdf file\n",
        "pdf_file_name = \"22page.pdf\"\n",
        "pdf_list = highlighter.split_pdf(pdf_file_name)\n",
        "\n",
        "# Step-2: Extracting text from pdf\n",
        "txt_list = highlighter.extract_text_from_pdf(pdf_list)"
      ],
      "metadata": {
        "id": "GJrJ862VBKhE"
      },
      "execution_count": 9,
      "outputs": []
    },
    {
      "cell_type": "code",
      "source": [
        "# Step-3: Searching ICD-10 code\n",
        "page_code10_dict = highlighter.search_icd_code(txt_list)"
      ],
      "metadata": {
        "id": "wTFQkZtHBiLO"
      },
      "execution_count": 10,
      "outputs": []
    },
    {
      "cell_type": "code",
      "source": [
        "code_df = pd.read_csv(\"icd_10_code_and_keywords_v2.csv\")"
      ],
      "metadata": {
        "id": "1cqncdV0Lpj7"
      },
      "execution_count": 11,
      "outputs": []
    },
    {
      "cell_type": "markdown",
      "source": [
        "##Text clean up"
      ],
      "metadata": {
        "id": "tCMut1zqMm76"
      }
    },
    {
      "cell_type": "code",
      "source": [
        "with open(f\"{txt_list[7]}\", \"r\") as f:\n",
        "  my_text = f.read()"
      ],
      "metadata": {
        "id": "qaQ1wb0PMyMz"
      },
      "execution_count": null,
      "outputs": []
    },
    {
      "cell_type": "code",
      "source": [
        "nlp = spacy.load(\"en_core_web_sm\")\n",
        "doc = nlp(my_text)\n",
        "sentences = [sentence.text for sentence in doc.sents]"
      ],
      "metadata": {
        "id": "nwcAI5BnMuzN"
      },
      "execution_count": null,
      "outputs": []
    },
    {
      "cell_type": "code",
      "source": [
        "sentences"
      ],
      "metadata": {
        "id": "E5SUHuvrPRn9"
      },
      "execution_count": null,
      "outputs": []
    },
    {
      "cell_type": "code",
      "source": [
        "def text_preprocess(text_file):\n",
        "  sentence_list = []\n",
        "  stopwords = [\"is\", \"a\"]\n",
        "  doc = nlp(my_text)\n",
        "  sentences = [sentence.text for sentence in doc.sents]\n",
        "  for sent in sentences:\n",
        "    clean_text = \" \".join(sent.split())  # Remove extra spaces, tabs, and line breaks\n",
        "    clean_text = re.sub(f\"[{re.escape(punctuation)}]\", \"\", clean_text) # Remove punctuation\n",
        "    clean_text = re.sub(r\"\\b[0-9]+\\b\\s*\", \"\", clean_text)     # Remove numbers\n",
        "    clean_text = \" \".join([w for w in clean_text.split() if not w.isdigit()]) # Remove digits= Side effect: removes extra spaces\n",
        "    clean_text = \" \".join([w for w in clean_text.split() if w.isalpha()]) # Remove non-alphabetic characters= Side effect: removes extra spaces\n",
        "    clean_text = re.sub(r\"[^A-Za-z0-9\\s]+\", \"\", clean_text) # Remove all special characters and punctuation\n",
        "    # Remove stopwords from a list\n",
        "    tokens = clean_text.split()\n",
        "    clean_tokens = [t for t in tokens if not t in stopwords]\n",
        "    clean_text = \" \".join(clean_tokens)\n",
        "    # Remove short tokens\n",
        "    tokens = clean_text.split()\n",
        "    clean_tokens = [t for t in tokens if len(t) > 3]\n",
        "    clean_text = \" \".join(clean_tokens)\n",
        "    # Remove repeated characters\n",
        "    clean_text = re.sub(r'(.)\\1{3,}',r'\\1', clean_text)\n",
        "    if len(clean_text) > 0:\n",
        "      sentence_list.append(clean_text)\n",
        "  return sentence_list"
      ],
      "metadata": {
        "id": "QnlOii79PXSY"
      },
      "execution_count": null,
      "outputs": []
    },
    {
      "cell_type": "code",
      "source": [
        "sentence_list = text_preprocess(my_text)\n",
        "sentence_list"
      ],
      "metadata": {
        "id": "anIOSkxxQzwx"
      },
      "execution_count": null,
      "outputs": []
    },
    {
      "cell_type": "code",
      "source": [
        "with open(f\"{txt_list[7]}\", \"r\") as f:\n",
        "  lines = [line.rstrip('\\n') for line in f]\n",
        "  sentence_list = [\" \".join(line.split()) for line in lines] # Remove extra spaces, tabs, and line breaks\n",
        "sentence_list"
      ],
      "metadata": {
        "id": "7jG4M79MLz5O"
      },
      "execution_count": null,
      "outputs": []
    },
    {
      "cell_type": "code",
      "source": [
        "def get_best_match(sentence_list, keyword):\n",
        "  print(\"#\"*10)\n",
        "  print(f\"Matching for : {keyword}\")\n",
        "  print()\n",
        "  ratios = [fuzz.ratio(keyword, sentence) for sentence in sentence_list]\n",
        "  best_match = sentence_list[ratios.index(max(ratios))]\n",
        "  print(f\"Best match: {fuzz.ratio(keyword, best_match)} | {best_match}\")\n",
        "  print(f\"Before Match: {fuzz.ratio(keyword, sentence_list[sentence_list.index(best_match) - 1])} | {sentence_list[sentence_list.index(best_match) - 1]}\")\n",
        "  print(f\"After Match: {fuzz.ratio(keyword, sentence_list[sentence_list.index(best_match) + 1])} | {sentence_list[sentence_list.index(best_match) + 1]}\")\n",
        "  print()\n",
        "\n",
        "  p_ratios = [fuzz.partial_ratio(keyword, sentence) for sentence in sentence_list]\n",
        "  p_best_match = sentence_list[p_ratios.index(max(p_ratios))]\n",
        "  print(f\"Partial Best match: {fuzz.partial_ratio(keyword, p_best_match)} | {p_best_match}\")\n",
        "  print(f\"Partial Before Match: {fuzz.partial_ratio(keyword, sentence_list[sentence_list.index(p_best_match) - 1])} | {sentence_list[sentence_list.index(p_best_match) - 1]}\")\n",
        "  print(f\"Partial After Match: {fuzz.partial_ratio(keyword, sentence_list[sentence_list.index(p_best_match) + 1])} | {sentence_list[sentence_list.index(p_best_match) + 1]}\")\n",
        "  print()"
      ],
      "metadata": {
        "id": "yRK1ILJFSZYa"
      },
      "execution_count": null,
      "outputs": []
    },
    {
      "cell_type": "code",
      "source": [
        "keyword_list = [get_keyword(code) for code in clean_icd10_code]\n",
        "keyword_list"
      ],
      "metadata": {
        "id": "lpyTbAmGEkg5"
      },
      "execution_count": null,
      "outputs": []
    },
    {
      "cell_type": "code",
      "source": [
        "[get_best_match(sentence_list, keyword) for keyword in keyword_list]"
      ],
      "metadata": {
        "id": "zpQ1gCbVXNFx"
      },
      "execution_count": null,
      "outputs": []
    },
    {
      "cell_type": "code",
      "source": [
        "def get_best_match(sentence_list, keyword_list):\n",
        "  for keyword in keyword_list:\n",
        "    #for sentence in sentence_list:\n",
        "    print(\"#\"*10)\n",
        "    print(f\"Matching for : {keyword}\")\n",
        "    match_list = process.extract(keyword, sentence_list, scorer = fuzz.ratio, limit = 3)\n",
        "    for match_found in match_list:\n",
        "      print(f\"{match_found[0]} | {match_found[1]}\")\n",
        "    print()"
      ],
      "metadata": {
        "id": "Tj28h6fOPXSd"
      },
      "execution_count": null,
      "outputs": []
    },
    {
      "cell_type": "code",
      "source": [
        "get_best_match(sentence_list, keyword_list)\n",
        "#process.extract(query, choices, scorer = fuzz.partial_ratio, limit = 2)"
      ],
      "metadata": {
        "id": "Lpb7D5IOOk5f"
      },
      "execution_count": null,
      "outputs": []
    },
    {
      "cell_type": "code",
      "source": [
        "sentence_list.index(\"Moderate Obstructive Sleep Apnea .\")"
      ],
      "metadata": {
        "id": "7PF541tZWM00",
        "outputId": "5961f3d1-1f3b-4b1b-e55e-05c4f65d34c6",
        "colab": {
          "base_uri": "https://localhost:8080/"
        }
      },
      "execution_count": null,
      "outputs": [
        {
          "output_type": "execute_result",
          "data": {
            "text/plain": [
              "25"
            ]
          },
          "metadata": {},
          "execution_count": 42
        }
      ]
    },
    {
      "cell_type": "code",
      "source": [
        "for idx, sent in enumerate(sentence_list):\n",
        "  print(f\"{idx}>{sent}\")"
      ],
      "metadata": {
        "id": "_EsIKRI9WXpn"
      },
      "execution_count": null,
      "outputs": []
    },
    {
      "cell_type": "markdown",
      "source": [
        "##All Together"
      ],
      "metadata": {
        "id": "xnOyuVdwJf7z"
      }
    },
    {
      "cell_type": "code",
      "source": [
        "def get_keyword(p_code):\n",
        "  keyword = \"\"\n",
        "   # reverse code if required\n",
        "  code = reverse_code_pattern(p_code)\n",
        "  # get keyword from dataset\n",
        "  keyword_list = list(code_df.loc[code_df[\"Code\"] == code][\"Keyword\"])\n",
        "  if len(keyword_list) > 0:\n",
        "    keyword = keyword_list[0]\n",
        "  return keyword"
      ],
      "metadata": {
        "id": "DmuQsrthJh24"
      },
      "execution_count": null,
      "outputs": []
    },
    {
      "cell_type": "code",
      "source": [
        "# Diagnosis: Hypertriglyceridemia, sporadic (E78.3)\n",
        "get_keyword(\"E78.3\")"
      ],
      "metadata": {
        "colab": {
          "base_uri": "https://localhost:8080/",
          "height": 35
        },
        "id": "2-9eyUV5a_1e",
        "outputId": "492ae939-6ea4-41b0-9e53-756f3d40e279"
      },
      "execution_count": null,
      "outputs": [
        {
          "output_type": "execute_result",
          "data": {
            "text/plain": [
              "'Hyperchylomicronemia'"
            ],
            "application/vnd.google.colaboratory.intrinsic+json": {
              "type": "string"
            }
          },
          "metadata": {},
          "execution_count": 13
        }
      ]
    },
    {
      "cell_type": "code",
      "source": [
        "get_keyword(\"R03.0\")\n",
        "# Hypertriglyceridemia"
      ],
      "metadata": {
        "colab": {
          "base_uri": "https://localhost:8080/",
          "height": 35
        },
        "id": "wN7PWTqmcsFK",
        "outputId": "15f909d1-661a-45a2-ff99-3cfcd7295e87"
      },
      "execution_count": null,
      "outputs": [
        {
          "output_type": "execute_result",
          "data": {
            "text/plain": [
              "'Elevated blood-pressure reading, w/o diagnosis of htn'"
            ],
            "application/vnd.google.colaboratory.intrinsic+json": {
              "type": "string"
            }
          },
          "metadata": {},
          "execution_count": 52
        }
      ]
    },
    {
      "cell_type": "code",
      "source": [
        "clean_icd10_code = [reverse_code_pattern(code) for code in page_code10_dict[7]]\n",
        "clean_icd10_code"
      ],
      "metadata": {
        "id": "XK9QcFYaUJvi",
        "outputId": "54aca573-1c94-45e8-e5c2-279a348c9e34",
        "colab": {
          "base_uri": "https://localhost:8080/"
        }
      },
      "execution_count": null,
      "outputs": [
        {
          "output_type": "execute_result",
          "data": {
            "text/plain": [
              "['Z20.822', 'E78.3', 'R05.9']"
            ]
          },
          "metadata": {},
          "execution_count": 17
        }
      ]
    },
    {
      "cell_type": "markdown",
      "source": [
        "Finding for `Hypersomnia, unspecified`:\n",
        "44 > Hypoxemia\n",
        "65 > (central sleep apnea (G47.31) CoHypersomnia, unspecified (G47.10)"
      ],
      "metadata": {
        "id": "n_z8v-H0ra7P"
      }
    },
    {
      "cell_type": "code",
      "source": [
        "with open(f\"{txt_list[15]}\", \"r\") as f:\n",
        "  lines = [line.rstrip('\\n') for line in f]\n",
        "  sentence_list = [\" \".join(line.split()) for line in lines] # Remove extra spaces, tabs, and line breaks"
      ],
      "metadata": {
        "id": "6OgZL7IBOPbf"
      },
      "execution_count": null,
      "outputs": []
    },
    {
      "cell_type": "code",
      "source": [
        "def sort_tuple(tup):\n",
        "  return(sorted(tup, key = lambda x: x[1], reverse=True)) "
      ],
      "metadata": {
        "id": "LZA1Oh-DVsvz"
      },
      "execution_count": null,
      "outputs": []
    },
    {
      "cell_type": "code",
      "source": [
        "[code for code in page_code10_dict[21]]"
      ],
      "metadata": {
        "id": "ptMIwrFBdfyV"
      },
      "execution_count": null,
      "outputs": []
    },
    {
      "cell_type": "code",
      "source": [
        "[(code, get_keyword(code)) for code in page_code10_dict[15]]"
      ],
      "metadata": {
        "id": "Jl8ONBJOjpqI",
        "outputId": "a21606cc-2d03-4faf-ce0c-01e9131d05b2",
        "colab": {
          "base_uri": "https://localhost:8080/"
        }
      },
      "execution_count": null,
      "outputs": [
        {
          "output_type": "execute_result",
          "data": {
            "text/plain": [
              "[('Z00.00', 'Encntr for general adult medical exam w/o abnormal findings')]"
            ]
          },
          "metadata": {},
          "execution_count": 18
        }
      ]
    },
    {
      "cell_type": "code",
      "source": [
        "def get_best_token_match(p_code, num_page):\n",
        "  # Step 1: reverse code pattern\n",
        "  reversed_icd_code = reverse_code_pattern(p_code)\n",
        "  # Step 2: fetch keyword based on code \n",
        "  keyword = get_keyword(reversed_icd_code)\n",
        "  # Step 3: prepare sentence list \n",
        "  with open(f\"{txt_list[num_page]}\", \"r\") as f:\n",
        "    lines = [line.rstrip('\\n') for line in f]\n",
        "    sentence_list = [\" \".join(line.split()) for line in lines] # Remove extra spaces, tabs, and line breaks\n",
        "  # Step 4: get best token match ratio \n",
        "  match_list = [(sentence, fuzz.token_set_ratio(keyword, sentence)) for sentence in sentence_list if fuzz.token_set_ratio(keyword, sentence) > 40]\n",
        "  return sort_tuple(match_list)"
      ],
      "metadata": {
        "id": "jCgz8N-1ySsS"
      },
      "execution_count": null,
      "outputs": []
    },
    {
      "cell_type": "code",
      "source": [
        "match_list = [get_best_token_match(code, 15) for code in page_code10_dict[15]]"
      ],
      "metadata": {
        "id": "a8n55LWtWSFt"
      },
      "execution_count": null,
      "outputs": []
    },
    {
      "cell_type": "code",
      "source": [
        "match_list"
      ],
      "metadata": {
        "id": "e3eWcMCedToP",
        "colab": {
          "base_uri": "https://localhost:8080/"
        },
        "outputId": "3fbdf4c7-a84a-43ef-ea15-7bd0fdaf3f6c"
      },
      "execution_count": null,
      "outputs": [
        {
          "output_type": "execute_result",
          "data": {
            "text/plain": [
              "[[('Diagnosis: Routine general medical examination at a health care facility (Z00.00)',\n",
              "   42)]]"
            ]
          },
          "metadata": {},
          "execution_count": 17
        }
      ]
    },
    {
      "cell_type": "code",
      "source": [
        "match_list = get_best_token_match(\"E78.3\", 7)\n",
        "match_list"
      ],
      "metadata": {
        "id": "mVVptrS379Pw",
        "outputId": "fadae444-65b8-492e-fca0-6d2710841f4e",
        "colab": {
          "base_uri": "https://localhost:8080/"
        }
      },
      "execution_count": null,
      "outputs": [
        {
          "output_type": "execute_result",
          "data": {
            "text/plain": [
              "[]"
            ]
          },
          "metadata": {},
          "execution_count": 22
        }
      ]
    },
    {
      "cell_type": "code",
      "source": [
        "match_list[0]"
      ],
      "metadata": {
        "id": "zeVA6qkMz-xH",
        "outputId": "11389003-7ae5-48ed-cb52-93a3d15e27cf",
        "colab": {
          "base_uri": "https://localhost:8080/",
          "height": 35
        }
      },
      "execution_count": null,
      "outputs": [
        {
          "output_type": "execute_result",
          "data": {
            "text/plain": [
              "'Diagnosis Fever (R50.9)'"
            ],
            "application/vnd.google.colaboratory.intrinsic+json": {
              "type": "string"
            }
          },
          "metadata": {},
          "execution_count": 25
        }
      ]
    },
    {
      "cell_type": "code",
      "source": [
        "match_list[1]"
      ],
      "metadata": {
        "id": "J_NcK_vK0I3G",
        "outputId": "3e1836f1-2cad-4c8d-88a2-41f6d11dc50a",
        "colab": {
          "base_uri": "https://localhost:8080/"
        }
      },
      "execution_count": null,
      "outputs": [
        {
          "output_type": "execute_result",
          "data": {
            "text/plain": [
              "47"
            ]
          },
          "metadata": {},
          "execution_count": 26
        }
      ]
    },
    {
      "cell_type": "code",
      "source": [
        "def clean_text(sent):\n",
        "  # tokenize sentence\n",
        "  sent1 = word_tokenize(sent)\n",
        "  # filter stop words\n",
        "  filtered_sent = [w for w in sent1 if not w.lower() in stop_words]\n",
        "  filtered_sent = [w for w in filtered_sent if re.sub(re.compile('\\W'), '', w)]\n",
        "  return filtered_sent"
      ],
      "metadata": {
        "id": "m2rTAnaEFHit"
      },
      "execution_count": null,
      "outputs": []
    },
    {
      "cell_type": "code",
      "source": [
        "def clean_text(sent):\n",
        "  # tokenize sentence\n",
        "  sent1 = word_tokenize(sent)\n",
        "  # filter stop words\n",
        "  filtered_sent = [w for w in sent1 if not w.lower() in stop_words]\n",
        "  filtered_sent = [w for w in filtered_sent if re.sub(re.compile('\\W'), '', w)]\n",
        "  clean_tokens = []\n",
        "  for token in filtered_sent:\n",
        "    if token.find(\"-\"):\n",
        "      tokens = token.split(\"-\")\n",
        "      clean_tokens.extend(tokens)\n",
        "    else:\n",
        "      clean_tokens.append(token)\n",
        "  return clean_tokens"
      ],
      "metadata": {
        "id": "mxtSsDGXs_hX"
      },
      "execution_count": null,
      "outputs": []
    },
    {
      "cell_type": "code",
      "source": [
        "# Diagnosis Sprain of calcaneofibular (ligament) of right ankle, initial encounter (S93.411A)\n",
        "clean_token = clean_text(\"Overweight (BMI 25.0 - 29.9) (E66.3)\")\n",
        "clean_token"
      ],
      "metadata": {
        "colab": {
          "base_uri": "https://localhost:8080/"
        },
        "id": "vTBi9Rx9s6VP",
        "outputId": "9a227a7f-c16f-49b5-9526-fa1bf0c40df7"
      },
      "execution_count": null,
      "outputs": [
        {
          "output_type": "execute_result",
          "data": {
            "text/plain": [
              "['Overweight', 'BMI', '25.0', '29.9', 'E66.3']"
            ]
          },
          "metadata": {},
          "execution_count": 5
        }
      ]
    },
    {
      "cell_type": "code",
      "source": [
        "def get_common_words(sent1, sent2):\n",
        "  clean_token1 = clean_text(sent1)\n",
        "  clean_token2 = clean_text(sent2)\n",
        "  token_set1 = set(clean_token1)\n",
        "  token_set2 = set(clean_token2)\n",
        "\n",
        "  common_word_set = set()\n",
        "  def get_common(token_set1, token_set2):\n",
        "    for w1 in token_set1:\n",
        "      for w2 in token_set2:\n",
        "        if w1.lower() == w2.lower():\n",
        "          common_word_set.add(w1)\n",
        "  get_common(token_set1, token_set2)\n",
        "  get_common(token_set2, token_set1)\n",
        "  \n",
        "  return list(common_word_set)"
      ],
      "metadata": {
        "id": "jI53XqgHjwmS"
      },
      "execution_count": null,
      "outputs": []
    },
    {
      "cell_type": "code",
      "source": [
        "get_common_words(\n",
        "  \"Encntr for general adult medical exam w/o abnormal findings\",\n",
        "  \"5/8/2020: Office Visit - Routine general medical examination at a health care facility (Z00.00), Hypertriglyceridemia, sporadic\"\n",
        ")"
      ],
      "metadata": {
        "id": "ieIzT5npsPLo",
        "outputId": "9d2fd1cd-c23f-4f19-e081-4ae785f0ab22",
        "colab": {
          "base_uri": "https://localhost:8080/"
        }
      },
      "execution_count": null,
      "outputs": [
        {
          "output_type": "execute_result",
          "data": {
            "text/plain": [
              "['general', 'medical']"
            ]
          },
          "metadata": {},
          "execution_count": 7
        }
      ]
    },
    {
      "cell_type": "code",
      "source": [
        "def get_common_words(sent1, sent2):\n",
        "  clean_token1 = clean_text(sent1)\n",
        "  clean_token2 = clean_text(sent2)\n",
        "  token_set1 = set(clean_token1)\n",
        "  token_set2 = set(clean_token2)\n",
        "  for token in token_set1\n",
        "  return list(token_set1 & token_set2)"
      ],
      "metadata": {
        "id": "0xdSCjqrvMg5"
      },
      "execution_count": null,
      "outputs": []
    },
    {
      "cell_type": "code",
      "source": [
        "clean_tokens = []\n",
        "for token in clean_token:\n",
        "  if token.find(\"-\"):\n",
        "    tokens = token.split(\"-\")\n",
        "    clean_tokens.extend(tokens)\n",
        "  else:\n",
        "    clean_tokens.append(token)\n",
        "clean_tokens"
      ],
      "metadata": {
        "colab": {
          "base_uri": "https://localhost:8080/"
        },
        "id": "0tzQ-KezpAZN",
        "outputId": "a6b017de-caaf-48c9-833b-b2f6a51404a6"
      },
      "execution_count": null,
      "outputs": [
        {
          "output_type": "execute_result",
          "data": {
            "text/plain": [
              "['Elevated', 'blood', 'pressure', 'reading', 'w/o', 'diagnosis', 'htn']"
            ]
          },
          "metadata": {},
          "execution_count": 70
        }
      ]
    },
    {
      "cell_type": "code",
      "source": [
        "def find_nearest(array, value):\n",
        "  array = np.asarray(array)\n",
        "  idx = (np.abs(array - value)).argmin()\n",
        "  return array[idx]"
      ],
      "metadata": {
        "id": "1J1L0ncbDYWG"
      },
      "execution_count": null,
      "outputs": []
    },
    {
      "cell_type": "code",
      "source": [
        "array = np.random.random(10)\n",
        "print(array)"
      ],
      "metadata": {
        "id": "coA4aXDBX8qA",
        "outputId": "c63f3377-0d7a-4eac-cf55-78c7a5f896f8",
        "colab": {
          "base_uri": "https://localhost:8080/"
        }
      },
      "execution_count": null,
      "outputs": [
        {
          "output_type": "stream",
          "name": "stdout",
          "text": [
            "[0.93361323 0.10674056 0.81360362 0.26873547 0.7892294  0.36625687\n",
            " 0.48473053 0.43495106 0.68754387 0.28034082]\n"
          ]
        }
      ]
    },
    {
      "cell_type": "code",
      "source": [
        "print(find_nearest(array, value=0.35))"
      ],
      "metadata": {
        "id": "cL-TT9m-YBJB",
        "outputId": "df4917ab-8aba-4b18-d5aa-917e69a62918",
        "colab": {
          "base_uri": "https://localhost:8080/"
        }
      },
      "execution_count": null,
      "outputs": [
        {
          "output_type": "stream",
          "name": "stdout",
          "text": [
            "0.3662568679192558\n"
          ]
        }
      ]
    },
    {
      "cell_type": "markdown",
      "source": [
        "##Fitz"
      ],
      "metadata": {
        "id": "lUbkfe9gA8uh"
      }
    },
    {
      "cell_type": "code",
      "source": [
        "def find_nearest(array, value):\n",
        "  array = np.asarray(array)\n",
        "  idx = (np.abs(array - value)).argmin()\n",
        "  return array[idx]"
      ],
      "metadata": {
        "id": "rcCQw9qgYXZa"
      },
      "execution_count": 1,
      "outputs": []
    },
    {
      "cell_type": "code",
      "source": [
        "pdf_file = fitz.open(\"page-11.pdf\")  #Create pdf file object\n",
        "pdf_page_count = pdf_file.page_count   #var to hold page count\n",
        "for page in range(pdf_page_count):  #notice that page starts with index 0\n",
        "  page_obj = pdf_file[page] #Create page object\n",
        "  #content_of_page = pdf_file.get_page_text(page) #Get page content\n",
        "  match_word = \"Z00.00\" \n",
        "  content_of_page = page_obj.get_text(\"blocks\", sort=False)  #get rect for all words\n",
        "\n",
        "  coords_array = []\n",
        "  y_coords_array = []\n",
        "  for content in content_of_page:\n",
        "    print(content)\n",
        "    if content[4].replace(\"(\", \"\").replace(\")\", \"\") == match_word:\n",
        "      rect_comp = fitz.Rect(content[0],content[1],content[2],content[3])\n",
        "      print(f\"Line #{content[6]}-{content[4]} > {rect_comp}\")\n",
        "      coords_array.append(rect_comp)\n",
        "      y_coords_array.append(content[1])\n",
        "      \n",
        "      #coord = fitz.Rect(content[1]).rect\n",
        "      print(rect_comp[1])\n",
        "\n",
        "      highlight = page_obj.add_highlight_annot(rect_comp)\n",
        "      highlight.set_colors(stroke=[0.2, 1, 0.8])\n",
        "      highlight.update()\n",
        "\n",
        "  # find closet y coordinate value\n",
        "  closet_y_coords = find_nearest(y_coords_array, value=74.320068359375)\n",
        "  match_word = \"Comprehensive\" \n",
        "  for content in content_of_page:\n",
        "    # print(word)\n",
        "    if content[4].replace(\"(\", \"\").replace(\")\", \"\") == match_word and (closet_y_coords-20) <= content[1] <= (closet_y_coords + 20):\n",
        "      rect_comp = fitz.Rect(content[0],content[1],content[2],content[3])\n",
        "      print(f\"Line #{content[6]}-{content[4]} > {rect_comp}\")\n",
        "      highlight = page_obj.add_highlight_annot(rect_comp)\n",
        "      highlight.set_colors(stroke=[1, 1, 0])\n",
        "      highlight.update()\n",
        "\n",
        "pdf_output_file_name = f\"page_11_output.pdf\"\n",
        "pdf_file.save(pdf_output_file_name, garbage=4, deflate=True, clean=True)"
      ],
      "metadata": {
        "id": "uK6DLGv7bSar"
      },
      "execution_count": null,
      "outputs": []
    },
    {
      "cell_type": "code",
      "source": [
        "list1 = [74.320068359375, 237.0400390625, 409.8399658203125, 572.5599975585938]\n",
        "curr_value = 74.320068359375 + 20\n",
        "find_nearest(list1, value=curr_value)"
      ],
      "metadata": {
        "id": "XT0I4MwTe6AR",
        "outputId": "499fecb6-9b44-4c56-96ac-7f4ad63f7d1d",
        "colab": {
          "base_uri": "https://localhost:8080/"
        }
      },
      "execution_count": null,
      "outputs": [
        {
          "output_type": "execute_result",
          "data": {
            "text/plain": [
              "74.320068359375"
            ]
          },
          "metadata": {},
          "execution_count": 20
        }
      ]
    },
    {
      "cell_type": "code",
      "source": [
        "curr_value = 74.320068359375 - 20\n",
        "find_nearest(list1, value=curr_value)"
      ],
      "metadata": {
        "id": "BQ1lu6yjsj_z",
        "outputId": "826e7082-f6d2-4f6e-c852-0c514d02a1b9",
        "colab": {
          "base_uri": "https://localhost:8080/"
        }
      },
      "execution_count": null,
      "outputs": [
        {
          "output_type": "execute_result",
          "data": {
            "text/plain": [
              "74.320068359375"
            ]
          },
          "metadata": {},
          "execution_count": 21
        }
      ]
    },
    {
      "cell_type": "code",
      "source": [
        "def get_word_coordinate(page_obj, common_words):\n",
        "  word_coords = {}\n",
        "  content_of_page = page_obj.get_text(\"words\", sort=False)  #get rect for all words\n",
        "  for content in content_of_page:\n",
        "    # print(word)\n",
        "    for idx, common_word in enumerate(common_words):\n",
        "      word_coord = {}\n",
        "      curr_word = content[4].replace(\"(\", \"\").replace(\")\", \"\")\n",
        "      if curr_word == match_word:\n",
        "        rect_comp = fitz.Rect(content[0],content[1],content[2],content[3])\n",
        "        word_coord[common_word] = rect_comp\n",
        "        word_coord[\"Line#\"] = content[6]\n",
        "        word_coords[idx] = word_coord\n",
        "  return word_coords"
      ],
      "metadata": {
        "id": "kS5_-wkwkvZs"
      },
      "execution_count": null,
      "outputs": []
    },
    {
      "cell_type": "code",
      "source": [
        "pdf_file = fitz.open(\"pdf-files/page-11.pdf\")  #Create pdf file object\n",
        "pdf_page_count = pdf_file.page_count   #var to hold page count\n",
        "for page in range(pdf_page_count):  #notice that page starts with index 0\n",
        "  page_obj = pdf_file[page] #Create page object\n",
        "  print(get_word_coordinate(page_obj, [\"general\", \"adult\", \"medical\", \"exam\"]))"
      ],
      "metadata": {
        "id": "2qs3rb4umbmS",
        "outputId": "b42ff6a5-0721-4c17-d1da-c1a22151bcbc",
        "colab": {
          "base_uri": "https://localhost:8080/"
        }
      },
      "execution_count": null,
      "outputs": [
        {
          "output_type": "stream",
          "name": "stdout",
          "text": [
            "{0: {'general': Rect(242.856689453125, 65.00006103515625, 274.8216857910156, 72.00347900390625), 'Line#': 2}, 1: {'adult': Rect(242.856689453125, 65.00006103515625, 274.8216857910156, 72.00347900390625), 'Line#': 2}, 2: {'medical': Rect(242.856689453125, 65.00006103515625, 274.8216857910156, 72.00347900390625), 'Line#': 2}, 3: {'exam': Rect(242.856689453125, 65.00006103515625, 274.8216857910156, 72.00347900390625), 'Line#': 2}}\n"
          ]
        }
      ]
    },
    {
      "cell_type": "code",
      "source": [
        "def highlight_common_words(page_obj, y_coords_array, curr_y_coord, common_word_list):\n",
        "  page_content = page_obj.get_text(\"words\", sort=False)  #get rect for all words\n",
        "\n",
        "  # find closet y coordinate value\n",
        "  closet_y_coords = find_nearest(y_coords_array, value=curr_y_coord)\n",
        "  match_word = \"Comprehensive\" \n",
        "  for content in page_content:\n",
        "    for common_word in common_word_list:\n",
        "      if content[4].replace(\"(\", \"\").replace(\")\", \"\") == common_word and (closet_y_coords-20) <= content[1] <= (closet_y_coords + 20):\n",
        "        rect_comp = fitz.Rect(content[0],content[1],content[2],content[3])\n",
        "        print(f\"Line #{content[6]}-{content[4]} > {rect_comp}\")\n",
        "        highlight = page_obj.add_highlight_annot(rect_comp)\n",
        "        highlight.set_colors(stroke=[1, 1, 0])\n",
        "        highlight.update()"
      ],
      "metadata": {
        "id": "7rvJixWFeJlA"
      },
      "execution_count": null,
      "outputs": []
    },
    {
      "cell_type": "code",
      "source": [
        "def get_keyword(p_code):\n",
        "  keyword = \"\"\n",
        "   # reverse code if required\n",
        "  code = reverse_code_pattern(p_code)\n",
        "  # get keyword from dataset\n",
        "  keyword_list = list(code_df.loc[code_df[\"Code\"] == code][\"Keyword\"])\n",
        "  if len(keyword_list) > 0:\n",
        "    keyword = keyword_list[0]\n",
        "  return keyword"
      ],
      "metadata": {
        "id": "-F_M7dH1sTOu"
      },
      "execution_count": 2,
      "outputs": []
    },
    {
      "cell_type": "code",
      "source": [
        "def clean_text(sent):\n",
        "  # tokenize sentence\n",
        "  sent1 = word_tokenize(sent)\n",
        "  # filter stop words\n",
        "  filtered_sent = [w for w in sent1 if not w.lower() in stop_words]\n",
        "  filtered_sent = [w for w in filtered_sent if re.sub(re.compile('\\W'), '', w)]\n",
        "  clean_tokens = []\n",
        "  for token in filtered_sent:\n",
        "    if token.find(\"-\"):\n",
        "      tokens = token.split(\"-\")\n",
        "      clean_tokens.extend(tokens)\n",
        "    else:\n",
        "      clean_tokens.append(token)\n",
        "  return clean_tokens"
      ],
      "metadata": {
        "id": "3Z3DuZ1XYdUL"
      },
      "execution_count": 3,
      "outputs": []
    },
    {
      "cell_type": "code",
      "source": [
        "def get_common_words(sent1, sent2):\n",
        "  clean_token1 = clean_text(sent1)\n",
        "  clean_token2 = clean_text(sent2)\n",
        "  token_set1 = set(clean_token1)\n",
        "  token_set2 = set(clean_token2)\n",
        "\n",
        "  common_word_set = set()\n",
        "  def get_common(token_set1, token_set2):\n",
        "    for w1 in token_set1:\n",
        "      for w2 in token_set2:\n",
        "        if w1.lower() == w2.lower():\n",
        "          common_word_set.add(w1)\n",
        "  get_common(token_set1, token_set2)\n",
        "  get_common(token_set2, token_set1)\n",
        "  \n",
        "  return list(common_word_set)"
      ],
      "metadata": {
        "id": "yxEHC4NTYdwG"
      },
      "execution_count": 4,
      "outputs": []
    },
    {
      "cell_type": "code",
      "source": [
        "def get_paragraph(page_obj, code_coords):\n",
        "  code_paragraph = None\n",
        "  page_content = page_obj.get_text(\"blocks\", sort=False)\n",
        "  y_coord_list = [content[1] for content in page_content]\n",
        "  closed_coord = find_nearest(y_coord_list, code_coords)\n",
        "  print(f\"closed_coord: {closed_coord}\")\n",
        "  for content in page_content:\n",
        "    print(f\"1-content[1]:{content[1]}\")\n",
        "    if (code_coords-50) <= content[1] <= (code_coords + 50):\n",
        "      print(f\"2-content[1]:{content[1]}\")\n",
        "      if len(clean_text(content[4])) > 0:\n",
        "        code_paragraph = content[4]\n",
        "        print(f\"code_paragraph: {code_paragraph}\")\n",
        "  return code_paragraph"
      ],
      "metadata": {
        "id": "lS20pcBIuGUm"
      },
      "execution_count": 10,
      "outputs": []
    },
    {
      "cell_type": "code",
      "source": [
        "flags = fitz.TEXT_PRESERVE_LIGATURES | fitz.TEXT_PRESERVE_WHITESPACE  # omits images\n",
        "def get_paragraph(page_obj, code_coords, p_code):\n",
        "  code_paragraph = None\n",
        "  page_content = page_obj.get_text(\"blocks\", sort=False)\n",
        "  y_coord_list = [content[3] for content in page_content]\n",
        "  print(f\"Page coord: {page_obj.search_for(p_code)}\")\n",
        "  closed_coord = find_nearest(y_coord_list, code_coords)\n",
        "  print(f\"closed_coord: {closed_coord}\")\n",
        "  for content in page_content:\n",
        "    print(f\"1-content[1]:{content[1]}\")\n",
        "    if (closed_coord-20) <= content[3] <= (closed_coord + 20):\n",
        "      print(f\"2-content[1]:{content[1]}\")\n",
        "      if len(clean_text(content[4])) > 0:\n",
        "        code_paragraph = content[4]\n",
        "        print(f\"paragraph coord: {content[0], content[1], content[2], content[3]}\")\n",
        "        print(f\"code_paragraph: {code_paragraph}\")\n",
        "  return code_paragraph"
      ],
      "metadata": {
        "id": "qfjhZvmaYiIQ"
      },
      "execution_count": null,
      "outputs": []
    },
    {
      "cell_type": "code",
      "source": [
        "def get_paragraph(page_obj, code_coords):\n",
        "  code_paragraph = None\n",
        "  page_content = page_obj.get_text(\"blocks\", sort=False)\n",
        "  print(f\"Code coord: {page_obj.search_for('R05.9')}\")\n",
        "  for content in page_content:\n",
        "    print(f\"Para coord:{content[0], content[1], content[2], content[3]}\")\n",
        "    print(f\"content[4]:{content[4]}\")\n",
        "    print(clean_text(content[4]))\n",
        "    print(\"#\" * 10)\n",
        "  #return code_paragraph"
      ],
      "metadata": {
        "id": "6R9KupYL6C7j"
      },
      "execution_count": 5,
      "outputs": []
    },
    {
      "cell_type": "code",
      "source": [
        "def get_paragraph(page_obj, code_y2_coord):\n",
        "  code_paragraph = None\n",
        "  page_content = page_obj.get_text(\"blocks\", sort=False)\n",
        "  y_coord_list = [content[3] for content in page_content]\n",
        "  closed_coord = find_nearest(y_coord_list, code_y2_coord)\n",
        "  for content in page_content:\n",
        "    if (closed_coord-20) <= content[3] <= (closed_coord + 20):\n",
        "      if len(clean_text(content[4])) > 0:\n",
        "        code_paragraph = content[4]\n",
        "  return code_paragraph"
      ],
      "metadata": {
        "id": "YoCzyd4mAAJt"
      },
      "execution_count": 16,
      "outputs": []
    },
    {
      "cell_type": "code",
      "source": [
        "p_code = \"R05.9\"\n",
        "code_coords = 182.6453857421875\n",
        "pdf_file = fitz.open(\"15page.pdf\")  #Create pdf file object\n",
        "pdf_page_count = pdf_file.page_count   #var to hold page count\n",
        "for page in range(pdf_page_count):  #notice that page starts with index 0\n",
        "  page_obj = pdf_file[page] #Create page object\n",
        "  get_paragraph(page_obj, code_coords)\n",
        "  \"\"\"\n",
        "  paragraph = get_paragraph(page_obj, code_coords)\n",
        "  print(paragraph)\n",
        "  print(\"--\" * 10)\n",
        "  print(clean_text(paragraph))\n",
        "  \"\"\"\n",
        "  #common_words = get_common_words(\"Contact with and (suspected) exposure to COVID-19\", paragraph)\n",
        "  #print(common_words)"
      ],
      "metadata": {
        "id": "hOfISre8YkDC",
        "outputId": "21a85189-76e4-43b4-e2f8-16da4fd0be48",
        "colab": {
          "base_uri": "https://localhost:8080/"
        }
      },
      "execution_count": 12,
      "outputs": [
        {
          "output_type": "stream",
          "name": "stdout",
          "text": [
            "Code coord: []\n",
            "Para coord:(63.83386993408203, 56.91998291015625, 586.5037231445312, 61.92242431640625)\n",
            "content[4]:  \n",
            "\n",
            "[]\n",
            "##########\n",
            "Para coord:(114.2290267944336, 90.79998779296875, 364.0450134277344, 100.80487060546875)\n",
            "content[4]:  \n",
            "   \n",
            "\n",
            "[]\n",
            "##########\n",
            "Para coord:(65.51370239257812, 46.47998046875, 553.3866577148438, 54.48388671875)\n",
            "content[4]:Test Name \n",
            "Result \n",
            "Units \n",
            "Normal Range \n",
            "Status \n",
            "\n",
            "['Test', 'Name', 'Result', 'Units', 'Normal', 'Range', 'Status']\n",
            "##########\n",
            "Para coord:(65.51366424560547, 58.91998291015625, 585.5438842773438, 78.48388671875)\n",
            "content[4]:; \n",
            "; \n",
            "Final \n",
            "SARSCoV-2 IgG Antibody \n",
            "(COVID-19 \n",
            "Negative \n",
            "Negative \n",
            "a \n",
            "g \n",
            "¥( \n",
            ") \n",
            "a \n",
            "g \n",
            "Reviewed( Note) \n",
            "\n",
            "['Final', 'SARSCoV', '2', 'IgG', 'Antibody', 'COVID', '19', 'Negative', 'Negative', 'g', 'g', 'Reviewed', 'Note']\n",
            "##########\n",
            "Para coord:(76.3126449584961, 84.39996337890625, 430.99853515625, 115.44390869140625)\n",
            "content[4]:No \n",
            "serologica. evidence \n",
            "of \n",
            "exposure \n",
            "to SARS-CoV-2 \n",
            "(COVID-19}. \n",
            "However, \n",
            "a \n",
            "negative result \n",
            "does \n",
            "not \n",
            "rule \n",
            "out \n",
            "a \n",
            "recent infection \n",
            "with \n",
            "the virus. \n",
            "\n",
            "['serologica', 'evidence', 'exposure', 'SARS', 'CoV', '2', 'COVID', '19', 'However', 'negative', 'result', 'rule', 'recent', 'infection', 'virus']\n",
            "##########\n",
            "Para coord:(76.3126449584961, 130.96002197265625, 453.0765075683594, 161.76397705078125)\n",
            "content[4]:A \n",
            "serological \n",
            "test \n",
            "result \n",
            "should always \n",
            "be \n",
            "interpreted \n",
            "together \n",
            "with clinical history \n",
            "and \n",
            "other \n",
            "results \n",
            "such \n",
            "as \n",
            "direct \n",
            "vira \n",
            "detection \n",
            "of SARS-CoV-2 \n",
            "(COVID-19). \n",
            "The performance \n",
            "¢ \n",
            "$ \n",
            "\n",
            "['serological', 'test', 'result', 'always', 'interpreted', 'together', 'clinical', 'history', 'results', 'direct', 'vira', 'detection', 'SARS', 'CoV', '2', 'COVID', '19', 'performance']\n",
            "##########\n",
            "Para coord:(75.35276794433594, 164.96002197265625, 367.1644592285156, 176.16534423828125)\n",
            "content[4]:  \n",
            "   \n",
            "  \n",
            "  \n",
            "  \n",
            "this test were determined \n",
            "by Beaumont Laboratory. \n",
            "\n",
            "['test', 'determined', 'Beaumont', 'Laboratory']\n",
            "##########\n",
            "Para coord:(93.11102294921875, 177.52001953125, 355.1656494140625, 185.52392578125)\n",
            "content[4]:n cleared by \n",
            "the \n",
            "US Food \n",
            "and \n",
            "Drug Administratic \n",
            "\n",
            "['n', 'cleared', 'US', 'Food', 'Drug', 'Administratic']\n",
            "##########\n",
            "Para coord:(65.5136947631836, 189.03997802734375, 231.81771850585938, 208.56390380859375)\n",
            "content[4]:Emergency Use Authorization, \n",
            "Test \n",
            "Performed \n",
            "By: \n",
            "\n",
            "['Emergency', 'Use', 'Authorization', 'Test', 'Performed']\n",
            "##########\n",
            "Para coord:(64.79377746582031, 208.32000732421875, 176.8668670654297, 232.33172607421875)\n",
            "content[4]:Labo \n",
            "   \n",
            "\n",
            "['Labo']\n",
            "##########\n",
            "Para coord:(62.63398361206055, 295.3999938964844, 369.5647888183594, 352.5638732910156)\n",
            "content[4]:= c . . var . s ; \n",
            "Collected Date: \n",
            "Reported Date: \n",
            "Lab [ Ordered]: Urinalysis (81002) \n",
            "LOINC: 24356-8 \n",
            "Diagnosis: Routine general medical examination at a health care facility (Z00.00) \n",
            "\n",
            "['c', 'var', 'Collected', 'Date', 'Reported', 'Date', 'Lab', 'Ordered', 'Urinalysis', '81002', 'LOINC', '24356', '8', 'Diagnosis', 'Routine', 'general', 'medical', 'examination', 'health', 'care', 'facility', 'Z00.00']\n",
            "##########\n",
            "Para coord:(65.51370239257812, 383.44000244140625, 402.4413146972656, 391.44390869140625)\n",
            "content[4]:Test Name \n",
            "Result \n",
            "Units \n",
            "\n",
            "['Test', 'Name', 'Result', 'Units']\n",
            "##########\n",
            "Para coord:(430.0387268066406, 280.55999755859375, 553.3869018554688, 332.6438903808594)\n",
            "content[4]:Patient poe \n",
            "Ordered by: Lyndsey \n",
            "Rose, CMA \n",
            "Site: LABORATORY \n",
            "Requisition: \n",
            "Accession: \n",
            "\n",
            "['Patient', 'poe', 'Ordered', 'Lyndsey', 'Rose', 'CMA', 'Site', 'LABORATORY', 'Requisition', 'Accession']\n",
            "##########\n",
            "Para coord:(63.83386993408203, 383.44000244140625, 586.5037231445312, 405.1239013671875)\n",
            "content[4]:Normal Range \n",
            "Status \n",
            "  \n",
            "No Results Available \n",
            "\n",
            "['Normal', 'Range', 'Status', 'Results', 'Available']\n",
            "##########\n",
            "Para coord:(62.63398361206055, 467.9599914550781, 285.81280517578125, 535.683837890625)\n",
            "content[4]:scars = 1 : nay \n",
            "Order Date: 2/5/2020 7:30 AM \n",
            "Collected Date: 2/5/2020 7:30 AM \n",
            "Reported Date: 2/5/2020 8:34 AM \n",
            "Lab [Reviewed]: Complete Blood Count with Differential \n",
            "Reviewed: 2/6/2020 1:32 PM by Brenda Bierenga, FNP-BC \n",
            "Notify: Tristan Guevara, DO \n",
            "\n",
            "['scars', '1', 'nay', 'Order', 'Date', '2/5/2020', '7:30', 'Collected', 'Date', '2/5/2020', '7:30', 'Reported', 'Date', '2/5/2020', '8:34', 'Lab', 'Reviewed', 'Complete', 'Blood', 'Count', 'Differential', 'Reviewed', '2/6/2020', '1:32', 'PM', 'Brenda', 'Bierenga', 'FNP', 'BC', 'Notify', 'Tristan', 'Guevara']\n",
            "##########\n",
            "Para coord:(62.87396240234375, 565.1600341796875, 115.4287338256836, 572.1634521484375)\n",
            "content[4]:Result Note: \n",
            "\n",
            "['Result', 'Note']\n",
            "##########\n",
            "Para coord:(430.5187072753906, 456.8800048828125, 581.464111328125, 485.04388427734375)\n",
            "content[4]:Patient DOB: \n",
            "Reviewed by: Brenda Bierenga, FNP-BC \n",
            "Ordered by: Tristan Guevara, DO \n",
            "\n",
            "['Patient', 'DOB', 'Reviewed', 'Brenda', 'Bierenga', 'FNP', 'BC', 'Ordered', 'Tristan', 'Guevara']\n",
            "##########\n",
            "Para coord:(430.5186767578125, 487.1199645996094, 506.1114501953125, 505.203857421875)\n",
            "content[4]:Site: Silver Pine Lab \n",
            "Requisition: \n",
            "\n",
            "['Site', 'Silver', 'Pine', 'Lab', 'Requisition']\n",
            "##########\n",
            "Para coord:(62.39400863647461, 584.0800170898438, 443.95733642578125, 592.0839233398438)\n",
            "content[4]:Testing done at Silver Pine Medical Group unless otherw ise specified. 43455 Schoenherr Road, Suite \n",
            "\n",
            "['Testing', 'done', 'Silver', 'Pine', 'Medical', 'Group', 'unless', 'otherw', 'ise', 'specified', '43455', 'Schoenherr', 'Road', 'Suite']\n",
            "##########\n",
            "Para coord:(63.59389114379883, 594.4000244140625, 178.54283142089844, 602.4039306640625)\n",
            "content[4]:19, Sterling Heights, MI 48313 \n",
            "\n",
            "['19', 'Sterling', 'Heights', 'MI', '48313']\n",
            "##########\n",
            "Para coord:(62.39400863647461, 752.2000122070312, 587.463623046875, 763.4434204101562)\n",
            "content[4]:  \n",
            "Tuesday, June 28, 2022 \n",
            "Page 9/13\n",
            "\n",
            "['Tuesday', 'June', '28', '2022', 'Page', '9/13']\n",
            "##########\n",
            "Para coord:(0.0, 0.0, 612.0, 792.0)\n",
            "content[4]:<image: Indexed(231,DeviceRGB), width: 1224, height: 1584, bpc: 8>\n",
            "['image', 'Indexed', '231', 'DeviceRGB', 'width', '1224', 'height', '1584', 'bpc', '8']\n",
            "##########\n"
          ]
        }
      ]
    },
    {
      "cell_type": "code",
      "source": [
        "my_text = \"\"\"\n",
        "History & Physical Report \n",
        "5/8/2020: Office Visit \n",
        "- Routine general medical examination at a health care facility (Z00.00), Hypertriglyceridemia, sporadic \n",
        "— _ \n",
        "Guevara, DO) \n",
        "\"\"\"\n",
        "text_tokens = clean_text(my_text)\n",
        "print(text_tokens)\n",
        "clean_tokens = [t for t in text_tokens if len(t) > 2]\n",
        "c_text = \" \".join(text_tokens)\n",
        "c_text"
      ],
      "metadata": {
        "id": "--hHtKjJcAMo",
        "outputId": "10b2e67b-90e6-487c-d6fd-554efead9461",
        "colab": {
          "base_uri": "https://localhost:8080/",
          "height": 90
        }
      },
      "execution_count": null,
      "outputs": [
        {
          "output_type": "stream",
          "name": "stdout",
          "text": [
            "['History', 'Physical', 'Report', '5/8/2020', 'Office', 'Visit', 'Routine', 'general', 'medical', 'examination', 'health', 'care', 'facility', 'Z00.00', 'Hypertriglyceridemia', 'sporadic', '_', 'Guevara']\n"
          ]
        },
        {
          "output_type": "execute_result",
          "data": {
            "text/plain": [
              "'History Physical Report 5/8/2020 Office Visit Routine general medical examination health care facility Z00.00 Hypertriglyceridemia sporadic _ Guevara'"
            ],
            "application/vnd.google.colaboratory.intrinsic+json": {
              "type": "string"
            }
          },
          "metadata": {},
          "execution_count": 26
        }
      ]
    },
    {
      "cell_type": "code",
      "source": [
        "def get_best_token_match(p_code, page_obj, code_coords, match_threshold):\n",
        "  # Step 1: reverse code pattern\n",
        "  reversed_icd_code = reverse_code_pattern(p_code)\n",
        "  # Step 2: fetch keyword based on code \n",
        "  keyword = get_keyword(reversed_icd_code)\n",
        "  # Step 3: get code paragraph  \n",
        "  code_paragraph = get_paragraph(page_obj, code_coords)\n",
        "  # Step 4: get common words \n",
        "  common_words = get_common_words(keyword, code_paragraph)\n",
        "  # Step 4: get best token match ratio \n",
        "  clean_paragraph = \" \".join(clean_text(code_paragraph))\n",
        "  match_score = fuzz.token_set_ratio(keyword, clean_paragraph) if fuzz.token_set_ratio(keyword, clean_paragraph) > match_threshold else 0\n",
        "  # Step 5: build common words coordinate dict\n",
        "  common_words_coord_dict = {}\n",
        "  for common_word in common_words:\n",
        "    highlight_list = page_obj.search_for(common_word)\n",
        "    #print(highlight_list)\n",
        "    for highlight in highlight_list:\n",
        "      # get y0 coord value\n",
        "      y_coords = highlight[3]\n",
        "      if (code_coords-30) <= y_coords <= (code_coords + 30):\n",
        "        common_words_coord_dict[common_word] = highlight\n",
        "  print(common_words_coord_dict)\n",
        "  print(\"#\" * 10)\n",
        "  #print(f\"Page-{num_page}, Code: ({p_code})-{code_coords}, closet_y_coords:{closet_y_coords} Keyword: {keyword}, Match: {match_f}\")\n",
        "  return match_score, common_words, common_words_coord_dict"
      ],
      "metadata": {
        "id": "Ozb0yuq_afZp"
      },
      "execution_count": 19,
      "outputs": []
    },
    {
      "cell_type": "code",
      "source": [
        "pdf_file = fitz.open(\"22page.pdf\")  #Create pdf file object\n",
        "pdf_page_count = pdf_file.page_count   #var to hold page count\n",
        "for page in range(pdf_page_count):  #notice that page starts with index 0\n",
        "  page_obj = pdf_file[page] #Create page object\n",
        "  match_score, common_words, common_words_coord_dict = get_best_token_match(\"220.822\", page_obj, 314.4043884277344, 40)\n",
        "  #match_score, common_words, common_words_coord_dict = get_best_token_match(\"Z20.822\", page_obj, 182.6453857421875, 40)\n",
        "  print(match_score, common_words, common_words_coord_dict)"
      ],
      "metadata": {
        "id": "8in1n07XqgFe",
        "outputId": "b5f17284-a6db-434a-d147-8d05d3c246ef",
        "colab": {
          "base_uri": "https://localhost:8080/"
        }
      },
      "execution_count": 21,
      "outputs": [
        {
          "output_type": "stream",
          "name": "stdout",
          "text": [
            "{'Contact': Rect(74.6328353881836, 276.6400146484375, 99.41045379638672, 284.6439208984375), 'COVID': Rect(45.35565948486328, 286.96002197265625, 66.5536117553711, 294.96392822265625), '19': Rect(70.79320526123047, 286.96002197265625, 79.27239227294922, 294.96392822265625), 'suspected': Rect(145.42604064941406, 276.6400146484375, 177.82298278808594, 284.6439208984375), 'exposure': Rect(188.62188720703125, 276.6400146484375, 219.12579345703125, 284.6439208984375)}\n",
            "##########\n",
            "85 ['Contact', 'COVID', '19', 'suspected', 'exposure'] {'Contact': Rect(74.6328353881836, 276.6400146484375, 99.41045379638672, 284.6439208984375), 'COVID': Rect(45.35565948486328, 286.96002197265625, 66.5536117553711, 294.96392822265625), '19': Rect(70.79320526123047, 286.96002197265625, 79.27239227294922, 294.96392822265625), 'suspected': Rect(145.42604064941406, 276.6400146484375, 177.82298278808594, 284.6439208984375), 'exposure': Rect(188.62188720703125, 276.6400146484375, 219.12579345703125, 284.6439208984375)}\n"
          ]
        }
      ]
    },
    {
      "cell_type": "code",
      "source": [
        "pdf_file = fitz.open(\"38page.pdf\")  #Create pdf file object\n",
        "pdf_page_count = pdf_file.page_count   #var to hold page count\n",
        "for page in range(pdf_page_count):  #notice that page starts with index 0\n",
        "  page_obj = pdf_file[page] #Create page object\n",
        "  match_score, common_words, common_words_coord_dict = get_best_token_match(\"Z00.00\", page_obj, 360.1600036621094, 40)\n",
        "  print(match_score, common_words, common_words_coord_dict)"
      ],
      "metadata": {
        "id": "SnuUrjCHt2mU",
        "outputId": "10eca4cc-bc44-4a88-8df4-c7409013cdb7",
        "colab": {
          "base_uri": "https://localhost:8080/"
        }
      },
      "execution_count": null,
      "outputs": [
        {
          "output_type": "stream",
          "name": "stdout",
          "text": [
            "{'general': Rect(106.54977416992188, 360.1600036621094, 130.4874725341797, 368.1639099121094), 'medical': Rect(137.50680541992188, 360.1600036621094, 161.8644256591797, 368.1639099121094)}\n",
            "##########\n",
            "41 ['general', 'medical'] {'general': Rect(106.54977416992188, 360.1600036621094, 130.4874725341797, 368.1639099121094), 'medical': Rect(137.50680541992188, 360.1600036621094, 161.8644256591797, 368.1639099121094)}\n"
          ]
        }
      ]
    },
    {
      "cell_type": "code",
      "source": [
        "pdf_file = fitz.open(\"38page.pdf\")  #Create pdf file object\n",
        "pdf_page_count = pdf_file.page_count   #var to hold page count\n",
        "for page in range(pdf_page_count):  #notice that page starts with index 0\n",
        "  page_obj = pdf_file[page] #Create page object\n",
        "  match_score, common_words, common_words_coord_dict = get_best_token_match(\"Z00.00\", page_obj, 120.63995361328125, 40)\n",
        "  print(match_score, common_words, common_words_coord_dict)"
      ],
      "metadata": {
        "id": "8IEh7r21wBVe",
        "outputId": "4b2238f6-0cfa-4246-b805-a6f0fd88bc57",
        "colab": {
          "base_uri": "https://localhost:8080/"
        }
      },
      "execution_count": null,
      "outputs": [
        {
          "output_type": "stream",
          "name": "stdout",
          "text": [
            "{'general': Rect(60.47419738769531, 120.63995361328125, 84.62186431884766, 128.64385986328125), 'medical': Rect(91.91117858886719, 120.63995361328125, 116.8987808227539, 128.64385986328125)}\n",
            "##########\n",
            "41 ['general', 'medical'] {'general': Rect(60.47419738769531, 120.63995361328125, 84.62186431884766, 128.64385986328125), 'medical': Rect(91.91117858886719, 120.63995361328125, 116.8987808227539, 128.64385986328125)}\n"
          ]
        }
      ]
    },
    {
      "cell_type": "code",
      "source": [
        "def get_best_token_match(p_code, num_page, page_obj, code_coords, match_threshold):\n",
        "    # Step 1: reverse code pattern\n",
        "    reversed_icd_code = reverse_code_pattern(p_code)\n",
        "    # Step 2: fetch keyword based on code \n",
        "    keyword = get_keyword(reversed_icd_code)\n",
        "    # Step 3: prepare sentence list \n",
        "    sentence_list = get_sentence_list(txt_list, num_page)\n",
        "    # Step 4: get best token match ratio \n",
        "    match_list = [\n",
        "      (sentence, fuzz.token_set_ratio(keyword, sentence)) \n",
        "      for sentence in sentence_list if fuzz.token_set_ratio(keyword, sentence) > match_threshold\n",
        "    ]\n",
        "\n",
        "    match_found_list = []\n",
        "    num_page = num_page + 1\n",
        "    for match_f in match_list:\n",
        "      highlight_list = page_obj.search_for(match_f[0])\n",
        "      # prepare list for y0 coord value\n",
        "      y_coords_list = [highlight[1] for highlight in highlight_list]\n",
        "      #print(y_coords_list)\n",
        "      # find closet y coordinate value\n",
        "      if len(y_coords_list) > 0:\n",
        "        closet_y_coords = find_nearest(y_coords_list, value=code_coords)\n",
        "        # print(f\"Code: {code_coords}, Y: {y_coords}\")\n",
        "        if (closet_y_coords-20) <= code_coords <= (closet_y_coords + 20):\n",
        "          paragraph = get_paragraph(page_obj, code_coords)\n",
        "          print(paragraph)\n",
        "          print(\"#\" * 10)\n",
        "          match_found_list.append(match_f)\n",
        "          #print(f\"Page-{num_page}, Code: ({p_code})-{code_coords}, closet_y_coords:{closet_y_coords} Keyword: {keyword}, Match: {match_f}\")\n",
        "    return match_found_list, sentence_list"
      ],
      "metadata": {
        "id": "7bQwDHgzZWz7"
      },
      "execution_count": null,
      "outputs": []
    },
    {
      "cell_type": "code",
      "source": [
        "pdf_file = fitz.open(\"36page.pdf\")  #Create pdf file object\n",
        "pdf_page_count = pdf_file.page_count   #var to hold page count\n",
        "for page in range(pdf_page_count):  #notice that page starts with index 0\n",
        "  page_obj = pdf_file[page] #Create page object\n",
        "  match_found_list, sentence_list = get_best_token_match(\"Z00.00\", 0, page_obj, 54.60003662109375, 40)\n",
        "  #print(match_found_list)"
      ],
      "metadata": {
        "id": "wOPCF6rIZZfy"
      },
      "execution_count": null,
      "outputs": []
    }
  ]
}