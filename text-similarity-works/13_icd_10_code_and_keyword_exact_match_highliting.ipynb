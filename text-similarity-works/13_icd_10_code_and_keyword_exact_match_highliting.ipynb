{
  "nbformat": 4,
  "nbformat_minor": 0,
  "metadata": {
    "colab": {
      "provenance": [],
      "authorship_tag": "ABX9TyNyRQTEqYFhLNAafdq6U2bU",
      "include_colab_link": true
    },
    "kernelspec": {
      "name": "python3",
      "display_name": "Python 3"
    },
    "language_info": {
      "name": "python"
    }
  },
  "cells": [
    {
      "cell_type": "markdown",
      "metadata": {
        "id": "view-in-github",
        "colab_type": "text"
      },
      "source": [
        "<a href=\"https://colab.research.google.com/github/rahiakela/natural-language-processing-research-and-practice/blob/main/text-similarity-works/13_icd_10_code_and_keyword_exact_match_highliting.ipynb\" target=\"_parent\"><img src=\"https://colab.research.google.com/assets/colab-badge.svg\" alt=\"Open In Colab\"/></a>"
      ]
    },
    {
      "cell_type": "markdown",
      "source": [
        "##Setup"
      ],
      "metadata": {
        "id": "73ORkeFzaRA4"
      }
    },
    {
      "cell_type": "markdown",
      "source": [
        "Reference:\n",
        "\n",
        "[Rule-based entity recognition](https://spacy.io/usage/rule-based-matching#entityruler)\n",
        "\n",
        "[PDF-to-TEXT](https://pypi.org/project/pdftotext/)"
      ],
      "metadata": {
        "id": "nAkX90V5vVML"
      }
    },
    {
      "cell_type": "code",
      "source": [
        "!pip -q install spacy\n",
        "!python -m spacy download en_core_web_sm\n",
        "\n",
        "!pip install pillow\n",
        "\n",
        "!sudo apt install build-essential libpoppler-cpp-dev pkg-config python3-dev\n",
        "!pip install -U pdftotext\n",
        "!pip install PyPDF2\n",
        "!pip install fitz\n",
        "!pip install PyMuPDF"
      ],
      "metadata": {
        "id": "Ti6ZynbyaR9l"
      },
      "execution_count": null,
      "outputs": []
    },
    {
      "cell_type": "markdown",
      "source": [
        "Just restart the colab environment."
      ],
      "metadata": {
        "id": "EIvuMvZfuhfY"
      }
    },
    {
      "cell_type": "code",
      "source": [
        "import pandas as pd\n",
        "import numpy as np\n",
        "import re\n",
        "import time\n",
        "import os\n",
        "\n",
        "import pdb\n",
        "\n",
        "import fitz\n",
        "import cv2 \n",
        "import pdftotext\n",
        "from PyPDF2 import PdfFileReader, PdfFileWriter\n",
        "from io import BytesIO\n",
        "from PIL import Image\n",
        "from matplotlib import pyplot as plt\n",
        "\n",
        "import spacy\n",
        "from spacy.matcher import PhraseMatcher\n",
        "from spacy.lang.en import English\n",
        "\n",
        "import nltk"
      ],
      "metadata": {
        "id": "fAcHTn0JaM2S"
      },
      "execution_count": 1,
      "outputs": []
    },
    {
      "cell_type": "code",
      "source": [
        "!mkdir pdf-files\n",
        "!mkdir txt-files"
      ],
      "metadata": {
        "id": "IsoNvC1ibb6l"
      },
      "execution_count": 2,
      "outputs": []
    },
    {
      "cell_type": "code",
      "source": [
        "pdf_files_path = \"pdf-files\"\n",
        "txt_files_path = \"txt-files\""
      ],
      "metadata": {
        "id": "YIUA8MJDbcg6"
      },
      "execution_count": 3,
      "outputs": []
    },
    {
      "cell_type": "markdown",
      "source": [
        "##Define some functions"
      ],
      "metadata": {
        "id": "v5Qy3RJN2VQu"
      }
    },
    {
      "cell_type": "code",
      "source": [
        "def split_pdf(pdf_path):\n",
        "  pdf_in_file = open(pdf_path, \"rb\")\n",
        "  pdf = PdfFileReader(pdf_in_file)\n",
        "  pdf_list = []\n",
        "  for page in range(pdf.numPages):\n",
        "      inputpdf = PdfFileReader(pdf_in_file)\n",
        "      output = PdfFileWriter()\n",
        "      output.addPage(inputpdf.getPage(page))\n",
        "      with open(f\"{pdf_files_path}/page-{page}.pdf\", \"wb\") as outputStream:\n",
        "          output.write(outputStream)\n",
        "          pdf_list.append(f\"page-{page}.pdf\")\n",
        "  return pdf_list"
      ],
      "metadata": {
        "id": "YfTNt1mrbwy3"
      },
      "execution_count": 4,
      "outputs": []
    },
    {
      "cell_type": "code",
      "source": [
        "def extract_text_from_pdf(pdf_list):\n",
        "  txt_file_list = []\n",
        "  i = 0\n",
        "  for pdf_file in pdf_list:\n",
        "    with open(os.path.join(pdf_files_path, pdf_file), \"rb\") as f:\n",
        "      pdf = pdftotext.PDF(f)\n",
        "    \n",
        "    # Read all the text into one string\n",
        "    pdf_text = \"\\n\\n\".join(pdf)\n",
        "\n",
        "    # write text into file\n",
        "    with open(f\"{txt_files_path}/page-{str(i)}.txt\", \"a\") as f:\n",
        "      f.write(pdf_text)\n",
        "    txt_file_list.append(f\"{txt_files_path}/page-{str(i)}.txt\")\n",
        "    i += 1\n",
        "  return txt_file_list"
      ],
      "metadata": {
        "id": "XRSuNufIbxbr"
      },
      "execution_count": 5,
      "outputs": []
    },
    {
      "cell_type": "code",
      "source": [
        "def get_opt_pattern(icd_10_code):\n",
        "  # create alternate pattern\n",
        "  code_arr = icd_10_code.split(\".\")\n",
        "  if len(code_arr) > 1:\n",
        "    code1 = f\"{code_arr[0]}. {code_arr[1]}\"\n",
        "    code2 = f\"{code_arr[0]} .{code_arr[1]}\"\n",
        "    code3 = f\"{code_arr[0]} . {code_arr[1]}\"\n",
        "    return [code1, code2, code3]\n",
        "  else:\n",
        "    return icd_10_code"
      ],
      "metadata": {
        "id": "VyvaUtt_dUiF"
      },
      "execution_count": 6,
      "outputs": []
    },
    {
      "cell_type": "code",
      "source": [
        "def highlight_icd10_code_and_keyword(pdf_code_dict, page_keyword_dict, pdf_file_name):\n",
        "  pdf_file = fitz.open(pdf_file_name)\n",
        "\n",
        "  def highlight_pdf(highlight, icd10_code):\n",
        "    for inst in highlight:\n",
        "      highlight = page.add_highlight_annot(inst)\n",
        "      highlight.update()\n",
        "      highlight = page.search_for(icd10_code)\n",
        "      if len(highlight) > 0:\n",
        "        code_cors_output = f\"Page-{page_num}: {icd10_code} : {highlight}\"\n",
        "        txt_output_file_name.write(\"%s\\n\" % code_cors_output)\n",
        "\n",
        "  # create file to write cordinate \n",
        "  txt_file_name = f\"{pdf_file_name.split('.')[0]}_cords.txt\"\n",
        "  txt_output_file_name = open(txt_file_name, \"w\")\n",
        "\n",
        "  for page_num, page in enumerate(pdf_file):\n",
        "\n",
        "    # highlight code\n",
        "    if page_num in pdf_code_dict:\n",
        "      for code in pdf_code_dict[page_num]:\n",
        "        highlight = page.search_for(code)\n",
        "        if len(highlight) == 0:\n",
        "          alternate_code_list = get_opt_pattern(code)\n",
        "          for alt_code in alternate_code_list:\n",
        "            highlight = page.search_for(alt_code)\n",
        "            # highlight pdf for option pattern\n",
        "            highlight_pdf(highlight, alt_code)\n",
        "        # highlight pdf for main pattern   \n",
        "        highlight_pdf(highlight, code)\n",
        "\n",
        "    # highlight keyword\n",
        "    if page_num in page_keyword_dict:\n",
        "      for keyword in page_keyword_dict[page_num]:\n",
        "        highlight = page.search_for(keyword)\n",
        "        for inst in highlight:\n",
        "          highlight = page.add_highlight_annot(inst)\n",
        "          highlight.set_colors(stroke=[1, 0.8, 0.8])\n",
        "          highlight.update()\n",
        "          highlight = page.search_for(keyword)\n",
        "          keyword_cors_output = f\"Page-{page_num}: {keyword} : {highlight}\"\n",
        "          txt_output_file_name.write(\"%s\\n\" % keyword_cors_output)\n",
        "          #print(f\"Page-{page_num}: \", highlight, end='\\n')\n",
        "\n",
        "  txt_output_file_name.close()\n",
        "  pdf_output_file_name = f\"{pdf_file_name.split('.')[0]}_output.pdf\"\n",
        "  pdf_file.save(pdf_output_file_name, garbage=4, deflate=True, clean=True)\n",
        "  return pdf_output_file_name, txt_file_name"
      ],
      "metadata": {
        "id": "xYpz6MiaAF4k"
      },
      "execution_count": 7,
      "outputs": []
    },
    {
      "cell_type": "code",
      "source": [
        "def make_icd_10_code_pattern(icd_10_code_df):\n",
        "  patterns = []\n",
        "  for _, row in icd_10_code_df.iterrows():\n",
        "    patterns.append({\"label\": \"ICD-10\", \"pattern\": row[\"ICD-10\"]})\n",
        "  return patterns"
      ],
      "metadata": {
        "id": "dEH-fEsDm11l"
      },
      "execution_count": 8,
      "outputs": []
    },
    {
      "cell_type": "code",
      "source": [
        "def make_icd_10_keyword_pattern(icd_10_keyword_df, nlp=None):\n",
        "  keywords = []\n",
        "  for _, row in icd_10_keyword_df.iterrows():\n",
        "    keywords.append(row[\"Keyword\"])\n",
        "  \n",
        "  phrase_matcher = PhraseMatcher(nlp.vocab, attr=\"LOWER\")\n",
        "  patterns = list(nlp.tokenizer.pipe(keywords))\n",
        "  phrase_matcher.add('keywords', patterns)\n",
        "  return phrase_matcher"
      ],
      "metadata": {
        "id": "QA_x9dTobXma"
      },
      "execution_count": 9,
      "outputs": []
    },
    {
      "cell_type": "code",
      "source": [
        "def search_icd_10_code(txt_list, nlp=None):\n",
        "  pdf_page_vocab = {}\n",
        "  for txt_file in txt_list:\n",
        "    with open(txt_file, \"r\") as f:\n",
        "      page_txt = f.read()\n",
        "      # filter the page that have line number instead of code\n",
        "      if not re.search(\"(P[ ][0-9]+)(,\\s)(L[0-9]+)\", page_txt):\n",
        "        doc = nlp(page_txt)\n",
        "        code_list = [ent.text for ent in doc.ents]\n",
        "        if len(code_list) != 0:\n",
        "          page_number = int(txt_file.split(\"/\")[1].split(\".\")[0].split(\"-\")[1])\n",
        "          pdf_page_vocab[page_number] = code_list\n",
        "          # print(f\"Page[{txt_file.split('/')[1]}]: {code_list}\")\n",
        "  return pdf_page_vocab"
      ],
      "metadata": {
        "id": "TP8ku9QXFju1"
      },
      "execution_count": 10,
      "outputs": []
    },
    {
      "cell_type": "code",
      "source": [
        "def search_icd_10_keyword(txt_list, phrase_matcher, nlp=None):\n",
        "  page_keyword_dict = {}\n",
        "  # Step-4: Searching ICD-10 code\n",
        "  for txt_file in txt_list:\n",
        "    with open(txt_file, \"r\") as f:\n",
        "      page_txt = f.read()\n",
        "      doc = nlp(page_txt)\n",
        "      matches = phrase_matcher(doc)\n",
        "\n",
        "      keyword_list = []\n",
        "      for match_id, start, end in matches:\n",
        "        span = doc[start: end]\n",
        "        keyword_list.append(f\"{span}\")\n",
        "\n",
        "      if len(keyword_list) != 0:\n",
        "        page_number = int(txt_file.split(\"/\")[1].split(\".\")[0].split(\"-\")[1])\n",
        "        page_keyword_dict[page_number] = set(keyword_list)\n",
        "        # print(f\"Page[{txt_file.split('/')[1]}]: {set(keyword_list)}\")\n",
        "  return page_keyword_dict"
      ],
      "metadata": {
        "id": "r9rDVhCfGPiF"
      },
      "execution_count": 11,
      "outputs": []
    },
    {
      "cell_type": "markdown",
      "source": [
        "##Data preprocessing"
      ],
      "metadata": {
        "id": "kRlokPzlatON"
      }
    },
    {
      "cell_type": "code",
      "source": [
        "columns = []\n",
        "with open(\"icd_10_keywords.txt\", \"r\") as f:\n",
        "  txt_lines = f.readlines()\n",
        "  for line in txt_lines:\n",
        "    columns.append(line.strip(\"\\n\"))\n",
        "print(columns[:10])"
      ],
      "metadata": {
        "id": "ux519TA42C41",
        "outputId": "346ccea1-48c2-4c83-a254-6179a18dcdbb",
        "colab": {
          "base_uri": "https://localhost:8080/"
        }
      },
      "execution_count": null,
      "outputs": [
        {
          "output_type": "stream",
          "name": "stdout",
          "text": [
            "['Cholera due to Vibrio cholerae 01, biovar cholerae', 'Cholera due to Vibrio cholerae 01, biovar eltor', 'Cholera, unspecified', 'Typhoid fever, unspecified', 'Typhoid meningitis', 'Typhoid fever with heart involvement', 'Typhoid pneumonia', 'Typhoid arthritis', 'Typhoid osteomyelitis', 'Typhoid fever with other complications']\n"
          ]
        }
      ]
    },
    {
      "cell_type": "code",
      "source": [
        "data_keyword_df = pd.DataFrame(columns, columns=[\"Keyword\"])\n",
        "data_keyword_df.head()"
      ],
      "metadata": {
        "id": "RQPgHDgt26eV",
        "outputId": "ab159751-15a3-4203-d798-6879ea7a0156",
        "colab": {
          "base_uri": "https://localhost:8080/",
          "height": 206
        }
      },
      "execution_count": null,
      "outputs": [
        {
          "output_type": "execute_result",
          "data": {
            "text/plain": [
              "                                             Keyword\n",
              "0  Cholera due to Vibrio cholerae 01, biovar chol...\n",
              "1    Cholera due to Vibrio cholerae 01, biovar eltor\n",
              "2                               Cholera, unspecified\n",
              "3                         Typhoid fever, unspecified\n",
              "4                                 Typhoid meningitis"
            ],
            "text/html": [
              "\n",
              "  <div id=\"df-6e245a20-fc23-4fe0-b16a-fcb92730ba11\">\n",
              "    <div class=\"colab-df-container\">\n",
              "      <div>\n",
              "<style scoped>\n",
              "    .dataframe tbody tr th:only-of-type {\n",
              "        vertical-align: middle;\n",
              "    }\n",
              "\n",
              "    .dataframe tbody tr th {\n",
              "        vertical-align: top;\n",
              "    }\n",
              "\n",
              "    .dataframe thead th {\n",
              "        text-align: right;\n",
              "    }\n",
              "</style>\n",
              "<table border=\"1\" class=\"dataframe\">\n",
              "  <thead>\n",
              "    <tr style=\"text-align: right;\">\n",
              "      <th></th>\n",
              "      <th>Keyword</th>\n",
              "    </tr>\n",
              "  </thead>\n",
              "  <tbody>\n",
              "    <tr>\n",
              "      <th>0</th>\n",
              "      <td>Cholera due to Vibrio cholerae 01, biovar chol...</td>\n",
              "    </tr>\n",
              "    <tr>\n",
              "      <th>1</th>\n",
              "      <td>Cholera due to Vibrio cholerae 01, biovar eltor</td>\n",
              "    </tr>\n",
              "    <tr>\n",
              "      <th>2</th>\n",
              "      <td>Cholera, unspecified</td>\n",
              "    </tr>\n",
              "    <tr>\n",
              "      <th>3</th>\n",
              "      <td>Typhoid fever, unspecified</td>\n",
              "    </tr>\n",
              "    <tr>\n",
              "      <th>4</th>\n",
              "      <td>Typhoid meningitis</td>\n",
              "    </tr>\n",
              "  </tbody>\n",
              "</table>\n",
              "</div>\n",
              "      <button class=\"colab-df-convert\" onclick=\"convertToInteractive('df-6e245a20-fc23-4fe0-b16a-fcb92730ba11')\"\n",
              "              title=\"Convert this dataframe to an interactive table.\"\n",
              "              style=\"display:none;\">\n",
              "        \n",
              "  <svg xmlns=\"http://www.w3.org/2000/svg\" height=\"24px\"viewBox=\"0 0 24 24\"\n",
              "       width=\"24px\">\n",
              "    <path d=\"M0 0h24v24H0V0z\" fill=\"none\"/>\n",
              "    <path d=\"M18.56 5.44l.94 2.06.94-2.06 2.06-.94-2.06-.94-.94-2.06-.94 2.06-2.06.94zm-11 1L8.5 8.5l.94-2.06 2.06-.94-2.06-.94L8.5 2.5l-.94 2.06-2.06.94zm10 10l.94 2.06.94-2.06 2.06-.94-2.06-.94-.94-2.06-.94 2.06-2.06.94z\"/><path d=\"M17.41 7.96l-1.37-1.37c-.4-.4-.92-.59-1.43-.59-.52 0-1.04.2-1.43.59L10.3 9.45l-7.72 7.72c-.78.78-.78 2.05 0 2.83L4 21.41c.39.39.9.59 1.41.59.51 0 1.02-.2 1.41-.59l7.78-7.78 2.81-2.81c.8-.78.8-2.07 0-2.86zM5.41 20L4 18.59l7.72-7.72 1.47 1.35L5.41 20z\"/>\n",
              "  </svg>\n",
              "      </button>\n",
              "      \n",
              "  <style>\n",
              "    .colab-df-container {\n",
              "      display:flex;\n",
              "      flex-wrap:wrap;\n",
              "      gap: 12px;\n",
              "    }\n",
              "\n",
              "    .colab-df-convert {\n",
              "      background-color: #E8F0FE;\n",
              "      border: none;\n",
              "      border-radius: 50%;\n",
              "      cursor: pointer;\n",
              "      display: none;\n",
              "      fill: #1967D2;\n",
              "      height: 32px;\n",
              "      padding: 0 0 0 0;\n",
              "      width: 32px;\n",
              "    }\n",
              "\n",
              "    .colab-df-convert:hover {\n",
              "      background-color: #E2EBFA;\n",
              "      box-shadow: 0px 1px 2px rgba(60, 64, 67, 0.3), 0px 1px 3px 1px rgba(60, 64, 67, 0.15);\n",
              "      fill: #174EA6;\n",
              "    }\n",
              "\n",
              "    [theme=dark] .colab-df-convert {\n",
              "      background-color: #3B4455;\n",
              "      fill: #D2E3FC;\n",
              "    }\n",
              "\n",
              "    [theme=dark] .colab-df-convert:hover {\n",
              "      background-color: #434B5C;\n",
              "      box-shadow: 0px 1px 3px 1px rgba(0, 0, 0, 0.15);\n",
              "      filter: drop-shadow(0px 1px 2px rgba(0, 0, 0, 0.3));\n",
              "      fill: #FFFFFF;\n",
              "    }\n",
              "  </style>\n",
              "\n",
              "      <script>\n",
              "        const buttonEl =\n",
              "          document.querySelector('#df-6e245a20-fc23-4fe0-b16a-fcb92730ba11 button.colab-df-convert');\n",
              "        buttonEl.style.display =\n",
              "          google.colab.kernel.accessAllowed ? 'block' : 'none';\n",
              "\n",
              "        async function convertToInteractive(key) {\n",
              "          const element = document.querySelector('#df-6e245a20-fc23-4fe0-b16a-fcb92730ba11');\n",
              "          const dataTable =\n",
              "            await google.colab.kernel.invokeFunction('convertToInteractive',\n",
              "                                                     [key], {});\n",
              "          if (!dataTable) return;\n",
              "\n",
              "          const docLinkHtml = 'Like what you see? Visit the ' +\n",
              "            '<a target=\"_blank\" href=https://colab.research.google.com/notebooks/data_table.ipynb>data table notebook</a>'\n",
              "            + ' to learn more about interactive tables.';\n",
              "          element.innerHTML = '';\n",
              "          dataTable['output_type'] = 'display_data';\n",
              "          await google.colab.output.renderOutput(dataTable, element);\n",
              "          const docLink = document.createElement('div');\n",
              "          docLink.innerHTML = docLinkHtml;\n",
              "          element.appendChild(docLink);\n",
              "        }\n",
              "      </script>\n",
              "    </div>\n",
              "  </div>\n",
              "  "
            ]
          },
          "metadata": {},
          "execution_count": 14
        }
      ]
    },
    {
      "cell_type": "code",
      "source": [
        "data_keyword_df.to_csv(\"icd_10_keywords.csv\", index=False)"
      ],
      "metadata": {
        "id": "-m47_CVP3HVc"
      },
      "execution_count": null,
      "outputs": []
    },
    {
      "cell_type": "code",
      "source": [
        "data_code_df = pd.read_csv(\"icd_10_codes.csv\")\n",
        "data_code_df.head()"
      ],
      "metadata": {
        "id": "AUAqEAvPecP-",
        "outputId": "48206952-3c22-49cf-eb5c-d020addd2d0a",
        "colab": {
          "base_uri": "https://localhost:8080/",
          "height": 206
        }
      },
      "execution_count": null,
      "outputs": [
        {
          "output_type": "execute_result",
          "data": {
            "text/plain": [
              "   ICD-10\n",
              "0   A00.0\n",
              "1   A00.1\n",
              "2   A00.9\n",
              "3  A01.00\n",
              "4  A01.01"
            ],
            "text/html": [
              "\n",
              "  <div id=\"df-39ae47b0-3992-48e6-8a94-2bb35002be06\">\n",
              "    <div class=\"colab-df-container\">\n",
              "      <div>\n",
              "<style scoped>\n",
              "    .dataframe tbody tr th:only-of-type {\n",
              "        vertical-align: middle;\n",
              "    }\n",
              "\n",
              "    .dataframe tbody tr th {\n",
              "        vertical-align: top;\n",
              "    }\n",
              "\n",
              "    .dataframe thead th {\n",
              "        text-align: right;\n",
              "    }\n",
              "</style>\n",
              "<table border=\"1\" class=\"dataframe\">\n",
              "  <thead>\n",
              "    <tr style=\"text-align: right;\">\n",
              "      <th></th>\n",
              "      <th>ICD-10</th>\n",
              "    </tr>\n",
              "  </thead>\n",
              "  <tbody>\n",
              "    <tr>\n",
              "      <th>0</th>\n",
              "      <td>A00.0</td>\n",
              "    </tr>\n",
              "    <tr>\n",
              "      <th>1</th>\n",
              "      <td>A00.1</td>\n",
              "    </tr>\n",
              "    <tr>\n",
              "      <th>2</th>\n",
              "      <td>A00.9</td>\n",
              "    </tr>\n",
              "    <tr>\n",
              "      <th>3</th>\n",
              "      <td>A01.00</td>\n",
              "    </tr>\n",
              "    <tr>\n",
              "      <th>4</th>\n",
              "      <td>A01.01</td>\n",
              "    </tr>\n",
              "  </tbody>\n",
              "</table>\n",
              "</div>\n",
              "      <button class=\"colab-df-convert\" onclick=\"convertToInteractive('df-39ae47b0-3992-48e6-8a94-2bb35002be06')\"\n",
              "              title=\"Convert this dataframe to an interactive table.\"\n",
              "              style=\"display:none;\">\n",
              "        \n",
              "  <svg xmlns=\"http://www.w3.org/2000/svg\" height=\"24px\"viewBox=\"0 0 24 24\"\n",
              "       width=\"24px\">\n",
              "    <path d=\"M0 0h24v24H0V0z\" fill=\"none\"/>\n",
              "    <path d=\"M18.56 5.44l.94 2.06.94-2.06 2.06-.94-2.06-.94-.94-2.06-.94 2.06-2.06.94zm-11 1L8.5 8.5l.94-2.06 2.06-.94-2.06-.94L8.5 2.5l-.94 2.06-2.06.94zm10 10l.94 2.06.94-2.06 2.06-.94-2.06-.94-.94-2.06-.94 2.06-2.06.94z\"/><path d=\"M17.41 7.96l-1.37-1.37c-.4-.4-.92-.59-1.43-.59-.52 0-1.04.2-1.43.59L10.3 9.45l-7.72 7.72c-.78.78-.78 2.05 0 2.83L4 21.41c.39.39.9.59 1.41.59.51 0 1.02-.2 1.41-.59l7.78-7.78 2.81-2.81c.8-.78.8-2.07 0-2.86zM5.41 20L4 18.59l7.72-7.72 1.47 1.35L5.41 20z\"/>\n",
              "  </svg>\n",
              "      </button>\n",
              "      \n",
              "  <style>\n",
              "    .colab-df-container {\n",
              "      display:flex;\n",
              "      flex-wrap:wrap;\n",
              "      gap: 12px;\n",
              "    }\n",
              "\n",
              "    .colab-df-convert {\n",
              "      background-color: #E8F0FE;\n",
              "      border: none;\n",
              "      border-radius: 50%;\n",
              "      cursor: pointer;\n",
              "      display: none;\n",
              "      fill: #1967D2;\n",
              "      height: 32px;\n",
              "      padding: 0 0 0 0;\n",
              "      width: 32px;\n",
              "    }\n",
              "\n",
              "    .colab-df-convert:hover {\n",
              "      background-color: #E2EBFA;\n",
              "      box-shadow: 0px 1px 2px rgba(60, 64, 67, 0.3), 0px 1px 3px 1px rgba(60, 64, 67, 0.15);\n",
              "      fill: #174EA6;\n",
              "    }\n",
              "\n",
              "    [theme=dark] .colab-df-convert {\n",
              "      background-color: #3B4455;\n",
              "      fill: #D2E3FC;\n",
              "    }\n",
              "\n",
              "    [theme=dark] .colab-df-convert:hover {\n",
              "      background-color: #434B5C;\n",
              "      box-shadow: 0px 1px 3px 1px rgba(0, 0, 0, 0.15);\n",
              "      filter: drop-shadow(0px 1px 2px rgba(0, 0, 0, 0.3));\n",
              "      fill: #FFFFFF;\n",
              "    }\n",
              "  </style>\n",
              "\n",
              "      <script>\n",
              "        const buttonEl =\n",
              "          document.querySelector('#df-39ae47b0-3992-48e6-8a94-2bb35002be06 button.colab-df-convert');\n",
              "        buttonEl.style.display =\n",
              "          google.colab.kernel.accessAllowed ? 'block' : 'none';\n",
              "\n",
              "        async function convertToInteractive(key) {\n",
              "          const element = document.querySelector('#df-39ae47b0-3992-48e6-8a94-2bb35002be06');\n",
              "          const dataTable =\n",
              "            await google.colab.kernel.invokeFunction('convertToInteractive',\n",
              "                                                     [key], {});\n",
              "          if (!dataTable) return;\n",
              "\n",
              "          const docLinkHtml = 'Like what you see? Visit the ' +\n",
              "            '<a target=\"_blank\" href=https://colab.research.google.com/notebooks/data_table.ipynb>data table notebook</a>'\n",
              "            + ' to learn more about interactive tables.';\n",
              "          element.innerHTML = '';\n",
              "          dataTable['output_type'] = 'display_data';\n",
              "          await google.colab.output.renderOutput(dataTable, element);\n",
              "          const docLink = document.createElement('div');\n",
              "          docLink.innerHTML = docLinkHtml;\n",
              "          element.appendChild(docLink);\n",
              "        }\n",
              "      </script>\n",
              "    </div>\n",
              "  </div>\n",
              "  "
            ]
          },
          "metadata": {},
          "execution_count": 16
        }
      ]
    },
    {
      "cell_type": "code",
      "source": [
        "data_code_df[\"ICD-10\"].head()"
      ],
      "metadata": {
        "id": "grJmbceU8K3U",
        "outputId": "c27c0c48-b139-44a6-bbd3-0d89c5442500",
        "colab": {
          "base_uri": "https://localhost:8080/"
        }
      },
      "execution_count": null,
      "outputs": [
        {
          "output_type": "execute_result",
          "data": {
            "text/plain": [
              "0     A00.0\n",
              "1     A00.1\n",
              "2     A00.9\n",
              "3    A01.00\n",
              "4    A01.01\n",
              "Name: ICD-10, dtype: object"
            ]
          },
          "metadata": {},
          "execution_count": 17
        }
      ]
    },
    {
      "cell_type": "code",
      "source": [
        "data_keyword_df[\"Keyword\"].head()"
      ],
      "metadata": {
        "id": "06UIvEOc8P0o",
        "outputId": "b0bddab4-2cb7-4380-94fa-e085f78a4151",
        "colab": {
          "base_uri": "https://localhost:8080/"
        }
      },
      "execution_count": null,
      "outputs": [
        {
          "output_type": "execute_result",
          "data": {
            "text/plain": [
              "0    Cholera due to Vibrio cholerae 01, biovar chol...\n",
              "1      Cholera due to Vibrio cholerae 01, biovar eltor\n",
              "2                                 Cholera, unspecified\n",
              "3                           Typhoid fever, unspecified\n",
              "4                                   Typhoid meningitis\n",
              "Name: Keyword, dtype: object"
            ]
          },
          "metadata": {},
          "execution_count": 18
        }
      ]
    },
    {
      "cell_type": "code",
      "source": [
        "icd_code_kerword_df = pd.DataFrame().assign(Code=data_code_df['ICD-10'], Keyword=data_keyword_df['Keyword'])\n",
        "icd_code_kerword_df.head()"
      ],
      "metadata": {
        "id": "B1oG5Eex87Px",
        "outputId": "526d56e4-0005-470c-994c-ccb9aff50090",
        "colab": {
          "base_uri": "https://localhost:8080/",
          "height": 206
        }
      },
      "execution_count": null,
      "outputs": [
        {
          "output_type": "execute_result",
          "data": {
            "text/plain": [
              "     Code                                            Keyword\n",
              "0   A00.0  Cholera due to Vibrio cholerae 01, biovar chol...\n",
              "1   A00.1    Cholera due to Vibrio cholerae 01, biovar eltor\n",
              "2   A00.9                               Cholera, unspecified\n",
              "3  A01.00                         Typhoid fever, unspecified\n",
              "4  A01.01                                 Typhoid meningitis"
            ],
            "text/html": [
              "\n",
              "  <div id=\"df-9a751550-b1f0-4466-9955-041a61f08a58\">\n",
              "    <div class=\"colab-df-container\">\n",
              "      <div>\n",
              "<style scoped>\n",
              "    .dataframe tbody tr th:only-of-type {\n",
              "        vertical-align: middle;\n",
              "    }\n",
              "\n",
              "    .dataframe tbody tr th {\n",
              "        vertical-align: top;\n",
              "    }\n",
              "\n",
              "    .dataframe thead th {\n",
              "        text-align: right;\n",
              "    }\n",
              "</style>\n",
              "<table border=\"1\" class=\"dataframe\">\n",
              "  <thead>\n",
              "    <tr style=\"text-align: right;\">\n",
              "      <th></th>\n",
              "      <th>Code</th>\n",
              "      <th>Keyword</th>\n",
              "    </tr>\n",
              "  </thead>\n",
              "  <tbody>\n",
              "    <tr>\n",
              "      <th>0</th>\n",
              "      <td>A00.0</td>\n",
              "      <td>Cholera due to Vibrio cholerae 01, biovar chol...</td>\n",
              "    </tr>\n",
              "    <tr>\n",
              "      <th>1</th>\n",
              "      <td>A00.1</td>\n",
              "      <td>Cholera due to Vibrio cholerae 01, biovar eltor</td>\n",
              "    </tr>\n",
              "    <tr>\n",
              "      <th>2</th>\n",
              "      <td>A00.9</td>\n",
              "      <td>Cholera, unspecified</td>\n",
              "    </tr>\n",
              "    <tr>\n",
              "      <th>3</th>\n",
              "      <td>A01.00</td>\n",
              "      <td>Typhoid fever, unspecified</td>\n",
              "    </tr>\n",
              "    <tr>\n",
              "      <th>4</th>\n",
              "      <td>A01.01</td>\n",
              "      <td>Typhoid meningitis</td>\n",
              "    </tr>\n",
              "  </tbody>\n",
              "</table>\n",
              "</div>\n",
              "      <button class=\"colab-df-convert\" onclick=\"convertToInteractive('df-9a751550-b1f0-4466-9955-041a61f08a58')\"\n",
              "              title=\"Convert this dataframe to an interactive table.\"\n",
              "              style=\"display:none;\">\n",
              "        \n",
              "  <svg xmlns=\"http://www.w3.org/2000/svg\" height=\"24px\"viewBox=\"0 0 24 24\"\n",
              "       width=\"24px\">\n",
              "    <path d=\"M0 0h24v24H0V0z\" fill=\"none\"/>\n",
              "    <path d=\"M18.56 5.44l.94 2.06.94-2.06 2.06-.94-2.06-.94-.94-2.06-.94 2.06-2.06.94zm-11 1L8.5 8.5l.94-2.06 2.06-.94-2.06-.94L8.5 2.5l-.94 2.06-2.06.94zm10 10l.94 2.06.94-2.06 2.06-.94-2.06-.94-.94-2.06-.94 2.06-2.06.94z\"/><path d=\"M17.41 7.96l-1.37-1.37c-.4-.4-.92-.59-1.43-.59-.52 0-1.04.2-1.43.59L10.3 9.45l-7.72 7.72c-.78.78-.78 2.05 0 2.83L4 21.41c.39.39.9.59 1.41.59.51 0 1.02-.2 1.41-.59l7.78-7.78 2.81-2.81c.8-.78.8-2.07 0-2.86zM5.41 20L4 18.59l7.72-7.72 1.47 1.35L5.41 20z\"/>\n",
              "  </svg>\n",
              "      </button>\n",
              "      \n",
              "  <style>\n",
              "    .colab-df-container {\n",
              "      display:flex;\n",
              "      flex-wrap:wrap;\n",
              "      gap: 12px;\n",
              "    }\n",
              "\n",
              "    .colab-df-convert {\n",
              "      background-color: #E8F0FE;\n",
              "      border: none;\n",
              "      border-radius: 50%;\n",
              "      cursor: pointer;\n",
              "      display: none;\n",
              "      fill: #1967D2;\n",
              "      height: 32px;\n",
              "      padding: 0 0 0 0;\n",
              "      width: 32px;\n",
              "    }\n",
              "\n",
              "    .colab-df-convert:hover {\n",
              "      background-color: #E2EBFA;\n",
              "      box-shadow: 0px 1px 2px rgba(60, 64, 67, 0.3), 0px 1px 3px 1px rgba(60, 64, 67, 0.15);\n",
              "      fill: #174EA6;\n",
              "    }\n",
              "\n",
              "    [theme=dark] .colab-df-convert {\n",
              "      background-color: #3B4455;\n",
              "      fill: #D2E3FC;\n",
              "    }\n",
              "\n",
              "    [theme=dark] .colab-df-convert:hover {\n",
              "      background-color: #434B5C;\n",
              "      box-shadow: 0px 1px 3px 1px rgba(0, 0, 0, 0.15);\n",
              "      filter: drop-shadow(0px 1px 2px rgba(0, 0, 0, 0.3));\n",
              "      fill: #FFFFFF;\n",
              "    }\n",
              "  </style>\n",
              "\n",
              "      <script>\n",
              "        const buttonEl =\n",
              "          document.querySelector('#df-9a751550-b1f0-4466-9955-041a61f08a58 button.colab-df-convert');\n",
              "        buttonEl.style.display =\n",
              "          google.colab.kernel.accessAllowed ? 'block' : 'none';\n",
              "\n",
              "        async function convertToInteractive(key) {\n",
              "          const element = document.querySelector('#df-9a751550-b1f0-4466-9955-041a61f08a58');\n",
              "          const dataTable =\n",
              "            await google.colab.kernel.invokeFunction('convertToInteractive',\n",
              "                                                     [key], {});\n",
              "          if (!dataTable) return;\n",
              "\n",
              "          const docLinkHtml = 'Like what you see? Visit the ' +\n",
              "            '<a target=\"_blank\" href=https://colab.research.google.com/notebooks/data_table.ipynb>data table notebook</a>'\n",
              "            + ' to learn more about interactive tables.';\n",
              "          element.innerHTML = '';\n",
              "          dataTable['output_type'] = 'display_data';\n",
              "          await google.colab.output.renderOutput(dataTable, element);\n",
              "          const docLink = document.createElement('div');\n",
              "          docLink.innerHTML = docLinkHtml;\n",
              "          element.appendChild(docLink);\n",
              "        }\n",
              "      </script>\n",
              "    </div>\n",
              "  </div>\n",
              "  "
            ]
          },
          "metadata": {},
          "execution_count": 19
        }
      ]
    },
    {
      "cell_type": "code",
      "source": [
        "icd_code_kerword_df.to_csv(\"icd_10_code_keywords.csv\", index=False)"
      ],
      "metadata": {
        "id": "HqxszJQl5VSx"
      },
      "execution_count": null,
      "outputs": []
    },
    {
      "cell_type": "code",
      "source": [
        "icd_code_kerword_df = pd.read_csv(\"icd_10_code_keywords.csv\")\n",
        "icd_code_kerword_df.head()"
      ],
      "metadata": {
        "id": "srh23ng57YkA",
        "outputId": "dac4e717-144a-4ba4-fbf0-1ea20d1e733c",
        "colab": {
          "base_uri": "https://localhost:8080/",
          "height": 206
        }
      },
      "execution_count": null,
      "outputs": [
        {
          "output_type": "execute_result",
          "data": {
            "text/plain": [
              "     Code                                            Keyword\n",
              "0   A00.0  Cholera due to Vibrio cholerae 01, biovar chol...\n",
              "1   A00.1    Cholera due to Vibrio cholerae 01, biovar eltor\n",
              "2   A00.9                               Cholera, unspecified\n",
              "3  A01.00                         Typhoid fever, unspecified\n",
              "4  A01.01                                 Typhoid meningitis"
            ],
            "text/html": [
              "\n",
              "  <div id=\"df-285db3b1-9f33-4536-97af-4ae0059dc733\">\n",
              "    <div class=\"colab-df-container\">\n",
              "      <div>\n",
              "<style scoped>\n",
              "    .dataframe tbody tr th:only-of-type {\n",
              "        vertical-align: middle;\n",
              "    }\n",
              "\n",
              "    .dataframe tbody tr th {\n",
              "        vertical-align: top;\n",
              "    }\n",
              "\n",
              "    .dataframe thead th {\n",
              "        text-align: right;\n",
              "    }\n",
              "</style>\n",
              "<table border=\"1\" class=\"dataframe\">\n",
              "  <thead>\n",
              "    <tr style=\"text-align: right;\">\n",
              "      <th></th>\n",
              "      <th>Code</th>\n",
              "      <th>Keyword</th>\n",
              "    </tr>\n",
              "  </thead>\n",
              "  <tbody>\n",
              "    <tr>\n",
              "      <th>0</th>\n",
              "      <td>A00.0</td>\n",
              "      <td>Cholera due to Vibrio cholerae 01, biovar chol...</td>\n",
              "    </tr>\n",
              "    <tr>\n",
              "      <th>1</th>\n",
              "      <td>A00.1</td>\n",
              "      <td>Cholera due to Vibrio cholerae 01, biovar eltor</td>\n",
              "    </tr>\n",
              "    <tr>\n",
              "      <th>2</th>\n",
              "      <td>A00.9</td>\n",
              "      <td>Cholera, unspecified</td>\n",
              "    </tr>\n",
              "    <tr>\n",
              "      <th>3</th>\n",
              "      <td>A01.00</td>\n",
              "      <td>Typhoid fever, unspecified</td>\n",
              "    </tr>\n",
              "    <tr>\n",
              "      <th>4</th>\n",
              "      <td>A01.01</td>\n",
              "      <td>Typhoid meningitis</td>\n",
              "    </tr>\n",
              "  </tbody>\n",
              "</table>\n",
              "</div>\n",
              "      <button class=\"colab-df-convert\" onclick=\"convertToInteractive('df-285db3b1-9f33-4536-97af-4ae0059dc733')\"\n",
              "              title=\"Convert this dataframe to an interactive table.\"\n",
              "              style=\"display:none;\">\n",
              "        \n",
              "  <svg xmlns=\"http://www.w3.org/2000/svg\" height=\"24px\"viewBox=\"0 0 24 24\"\n",
              "       width=\"24px\">\n",
              "    <path d=\"M0 0h24v24H0V0z\" fill=\"none\"/>\n",
              "    <path d=\"M18.56 5.44l.94 2.06.94-2.06 2.06-.94-2.06-.94-.94-2.06-.94 2.06-2.06.94zm-11 1L8.5 8.5l.94-2.06 2.06-.94-2.06-.94L8.5 2.5l-.94 2.06-2.06.94zm10 10l.94 2.06.94-2.06 2.06-.94-2.06-.94-.94-2.06-.94 2.06-2.06.94z\"/><path d=\"M17.41 7.96l-1.37-1.37c-.4-.4-.92-.59-1.43-.59-.52 0-1.04.2-1.43.59L10.3 9.45l-7.72 7.72c-.78.78-.78 2.05 0 2.83L4 21.41c.39.39.9.59 1.41.59.51 0 1.02-.2 1.41-.59l7.78-7.78 2.81-2.81c.8-.78.8-2.07 0-2.86zM5.41 20L4 18.59l7.72-7.72 1.47 1.35L5.41 20z\"/>\n",
              "  </svg>\n",
              "      </button>\n",
              "      \n",
              "  <style>\n",
              "    .colab-df-container {\n",
              "      display:flex;\n",
              "      flex-wrap:wrap;\n",
              "      gap: 12px;\n",
              "    }\n",
              "\n",
              "    .colab-df-convert {\n",
              "      background-color: #E8F0FE;\n",
              "      border: none;\n",
              "      border-radius: 50%;\n",
              "      cursor: pointer;\n",
              "      display: none;\n",
              "      fill: #1967D2;\n",
              "      height: 32px;\n",
              "      padding: 0 0 0 0;\n",
              "      width: 32px;\n",
              "    }\n",
              "\n",
              "    .colab-df-convert:hover {\n",
              "      background-color: #E2EBFA;\n",
              "      box-shadow: 0px 1px 2px rgba(60, 64, 67, 0.3), 0px 1px 3px 1px rgba(60, 64, 67, 0.15);\n",
              "      fill: #174EA6;\n",
              "    }\n",
              "\n",
              "    [theme=dark] .colab-df-convert {\n",
              "      background-color: #3B4455;\n",
              "      fill: #D2E3FC;\n",
              "    }\n",
              "\n",
              "    [theme=dark] .colab-df-convert:hover {\n",
              "      background-color: #434B5C;\n",
              "      box-shadow: 0px 1px 3px 1px rgba(0, 0, 0, 0.15);\n",
              "      filter: drop-shadow(0px 1px 2px rgba(0, 0, 0, 0.3));\n",
              "      fill: #FFFFFF;\n",
              "    }\n",
              "  </style>\n",
              "\n",
              "      <script>\n",
              "        const buttonEl =\n",
              "          document.querySelector('#df-285db3b1-9f33-4536-97af-4ae0059dc733 button.colab-df-convert');\n",
              "        buttonEl.style.display =\n",
              "          google.colab.kernel.accessAllowed ? 'block' : 'none';\n",
              "\n",
              "        async function convertToInteractive(key) {\n",
              "          const element = document.querySelector('#df-285db3b1-9f33-4536-97af-4ae0059dc733');\n",
              "          const dataTable =\n",
              "            await google.colab.kernel.invokeFunction('convertToInteractive',\n",
              "                                                     [key], {});\n",
              "          if (!dataTable) return;\n",
              "\n",
              "          const docLinkHtml = 'Like what you see? Visit the ' +\n",
              "            '<a target=\"_blank\" href=https://colab.research.google.com/notebooks/data_table.ipynb>data table notebook</a>'\n",
              "            + ' to learn more about interactive tables.';\n",
              "          element.innerHTML = '';\n",
              "          dataTable['output_type'] = 'display_data';\n",
              "          await google.colab.output.renderOutput(dataTable, element);\n",
              "          const docLink = document.createElement('div');\n",
              "          docLink.innerHTML = docLinkHtml;\n",
              "          element.appendChild(docLink);\n",
              "        }\n",
              "      </script>\n",
              "    </div>\n",
              "  </div>\n",
              "  "
            ]
          },
          "metadata": {},
          "execution_count": 21
        }
      ]
    },
    {
      "cell_type": "markdown",
      "source": [
        "##All Steps Together"
      ],
      "metadata": {
        "id": "E3AMzWcDwfYk"
      }
    },
    {
      "cell_type": "code",
      "source": [
        "# Step-1: spliting pdf file\n",
        "pdf_file_name = \"Redacted_Sample.pdf\"\n",
        "pdf_list = split_pdf(pdf_file_name)\n",
        "\n",
        "# Step-2: Extracting text from pdf\n",
        "txt_list = extract_text_from_pdf(pdf_list)"
      ],
      "metadata": {
        "id": "DMQjPBMmmg6L"
      },
      "execution_count": null,
      "outputs": []
    },
    {
      "cell_type": "code",
      "source": [
        "nlp_code = English()\n",
        "# Step-3: loading and updating patterns to Spacy\n",
        "nlp_code.add_pipe(\"entity_ruler\").from_disk(\"./icd10_code_patterns.jsonl\")"
      ],
      "metadata": {
        "colab": {
          "base_uri": "https://localhost:8080/"
        },
        "id": "6YIqjoZJFuN_",
        "outputId": "f0631962-f1e3-4a0c-9a44-58ed587d1827"
      },
      "execution_count": null,
      "outputs": [
        {
          "output_type": "execute_result",
          "data": {
            "text/plain": [
              "<spacy.pipeline.entityruler.EntityRuler at 0x7f2ec57080f0>"
            ]
          },
          "metadata": {},
          "execution_count": 35
        }
      ]
    },
    {
      "cell_type": "code",
      "source": [
        "# Step-4: Searching ICD-10 code\n",
        "page_code_dict = search_icd_10_code(txt_list, nlp_code)"
      ],
      "metadata": {
        "colab": {
          "base_uri": "https://localhost:8080/"
        },
        "id": "kesXasexFyTK",
        "outputId": "3257ac59-42c2-4cb8-dfd5-671b54f63f76"
      },
      "execution_count": null,
      "outputs": [
        {
          "output_type": "stream",
          "name": "stdout",
          "text": [
            "Page[page-18.txt]: ['M54.40']\n",
            "Page[page-19.txt]: ['G43.109']\n",
            "Page[page-26.txt]: ['D17.1', 'F43.9']\n",
            "Page[page-37.txt]: ['G43.109', 'D72.819', 'R00.2', 'R10.30', 'E88.2']\n",
            "Page[page-39.txt]: ['G43.109', 'D72.819', 'R00.2', 'R10.30']\n",
            "Page[page-42.txt]: ['G43.109', 'R00.2', 'G43.109', 'D72.819', 'R00.2']\n",
            "Page[page-74.txt]: ['M54.2', 'R42']\n",
            "Page[page-82.txt]: ['G43.109', 'R00.2', 'L25.9', 'D72.819']\n",
            "Page[page-84.txt]: ['G43.109']\n",
            "Page[page-85.txt]: ['L25.9', 'D72.819']\n",
            "Page[page-102.txt]: ['G43.109', 'R00.2', 'L25.9', 'Z00.00']\n",
            "Page[page-105.txt]: ['G43.109', 'R00.2', 'L25.9']\n"
          ]
        }
      ]
    },
    {
      "cell_type": "code",
      "source": [
        "# Step-5: Creating ICD-10 keyword pattern\n",
        "nlp_keyword = spacy.load('en_core_web_sm')\n",
        "icd_code_kerword_df = pd.read_csv(\"icd_10_code_keywords.csv\")\n",
        "phrase_matcher = make_icd_10_keyword_pattern(icd_code_kerword_df, nlp_keyword)"
      ],
      "metadata": {
        "id": "04ubQxu5H-af"
      },
      "execution_count": null,
      "outputs": []
    },
    {
      "cell_type": "code",
      "source": [
        "# Step-6: Searching ICD-10 keyword\n",
        "page_keyword_dict = search_icd_10_keyword(txt_list, phrase_matcher, nlp_keyword)"
      ],
      "metadata": {
        "colab": {
          "base_uri": "https://localhost:8080/"
        },
        "id": "pwcPyMofGq_C",
        "outputId": "7a50eaba-6b82-4e50-dd1a-7fe39b3a32d6"
      },
      "execution_count": null,
      "outputs": [
        {
          "output_type": "stream",
          "name": "stdout",
          "text": [
            "Page[page-0.txt]: {'Headache', 'Palpitations', 'Anxiety Disorder', 'Alcohol Use', 'Cerebrovascular Disease', 'alcohol use', 'Cerebral Infarction', 'Aphasia', 'Spleen', 'Migraine', 'Insomnia'}\n",
            "Page[page-1.txt]: {'Migraine', 'Insomnia'}\n",
            "Page[page-2.txt]: {'Lipomatosis', 'Unspecified', 'Spleen', 'chronic', 'Chronic', 'Moderate'}\n",
            "Page[page-3.txt]: {'depression', 'Palpitations', 'palpitations', 'Radiculopathy', 'Sciatica', 'Low back pain', 'Multiple sites', 'Incomplete'}\n",
            "Page[page-4.txt]: {'Headache', 'wrestling', 'Tobacco Use', 'Lower Abdominal Pain', 'left upper extremity', 'Alcohol Use', 'Wrestling', 'Unspecified', 'Overweight', 'Cervicogenic Headache', 'Aphasia', 'Alcohol use', 'Lifting', 'Insomnia', 'Migraine', 'Surgical Procedure', 'Constipation'}\n",
            "Page[page-5.txt]: {'Minimal', 'right ear', 'Anxiety Disorder'}\n",
            "Page[page-6.txt]: {'headache', 'Headache', 'wrestling', 'migraine', 'Multiple Sclerosis', 'not intractable', 'left upper extremity', 'Acute', 'Occipital Neuralgia', 'Cerebrovascular Disease', 'head and neck', 'Cerebral Infarction', 'Aphasia', 'intractable', 'Migraine', 'Bilateral', 'atypical', 'Migraine with Aura'}\n",
            "Page[page-7.txt]: {'lower back', 'Antibodies', 'symptomatic', 'Insomnia'}\n",
            "Page[page-10.txt]: {'Headache', \"Schmorl's nodes\", 'Atypical', 'moderate', 'bradycardia', 'sinus', 'Migraine', 'Pelvis', 'osteophyte'}\n",
            "Page[page-11.txt]: {'Headache', 'Low Back Pain', 'sinus', 'acute', 'hemorrhage', 'Aphasia', 'Migraine', 'Moderate', 'subcortical', 'cortical', 'radiculopathy'}\n",
            "Page[page-12.txt]: {'depression', 'right ear', 'Minimal', 'Depression', 'Actinic Keratosis'}\n",
            "Page[page-16.txt]: {'oriented', 'Illness', 'cyanosis', 'midline', 'acute', 'edema', 'Insomnia'}\n",
            "Page[page-18.txt]: {'oriented', 'sciatica', 'Illness', 'acute', 'multiple sites', 'sexual dysfunction', 'Migraine', 'weakness', 'Insomnia'}\n",
            "Page[page-19.txt]: {'not intractable', 'Migraine with aura', 'without status migrainosus', 'multiple sites', 'intractable', 'chronic', 'Migraine'}\n",
            "Page[page-20.txt]: {'Illness'}\n",
            "Page[page-22.txt]: {'headache', 'acute'}\n",
            "Page[page-23.txt]: {'headache'}\n",
            "Page[page-24.txt]: {'headache', 'Migraine', 'Cervicogenic headache'}\n",
            "Page[page-25.txt]: {'headache', 'migraine', 'acute', 'Migraine', 'ileus', 'insomnia', 'Insomnia'}\n",
            "Page[page-26.txt]: {'headache', 'cyanosis', 'edema'}\n",
            "Page[page-28.txt]: {'AND PELVIS', 'spleen', 'PELVIS', 'right lower quadrant pain', 'effusion'}\n",
            "Page[page-29.txt]: {\"Schmorl's nodes\", 'moderate', 'PELVIS', 'ileus', 'osteophyte'}\n",
            "Page[page-32.txt]: {'LATERAL'}\n",
            "Page[page-34.txt]: {'migraine', 'cough', 'polyphagia', 'dyspnea', 'chronic cough', 'tinnitus', 'aphasia', 'ENDOCRINE', 'chronic', 'atypical', 'nausea', 'hematemesis', 'ataxia', 'wheezing', 'heartburn', 'anorexia', 'orthopnea', 'tremor', 'depression', 'melena', 'hematuria', 'Migraine', 'weakness', 'headache', 'chest pain', 'palpitations', 'diarrhea', 'constipation', 'dysphagia', 'fever', 'edema', 'recurrent', 'insomnia'}\n",
            "Page[page-35.txt]: {'lifting', 'unspecified', 'Tobacco Use', 'Insomnia'}\n",
            "Page[page-36.txt]: {'depression', 'wrestling', 'oriented', 'dermatitis', 'Cauliflower ear', 'cyanosis', 'Depression', 'edema'}\n",
            "Page[page-37.txt]: {'Palpitations', 'overweight', 'Diphtheria', 'lipomatosis', 'hyperlipidemia', 'not intractable', 'unspecified', 'lower abdominal pain', 'not elsewhere classified', 'obesity', 'Migraine with aura', 'without status migrainosus', 'Cervical disc disorder', 'intractable', 'heart disease', 'Migraine', 'Decreased white blood cell count'}\n",
            "Page[page-38.txt]: {'headache', 'migraine', 'palpitations', 'pelvis', 'lower back', 'Lipomatosis', 'not intractable', 'Migraine with aura', 'intractable', 'Migraine', 'Decreased white blood cell count', 'Lower abdominal pain', 'insomnia', 'symptomatic'}\n",
            "Page[page-39.txt]: {'Palpitations', 'Lipomatosis', 'not intractable', 'unspecified', 'not elsewhere classified', 'Migraine with aura', 'without status migrainosus', 'Cervical disc disorder', 'intractable', 'Migraine', 'Decreased white blood cell count', 'Lower abdominal pain'}\n",
            "Page[page-40.txt]: {'tachycardia', 'migraine', 'cough', 'polyphagia', 'dermatitis', 'dyspnea', 'chronic cough', 'tinnitus', 'aphasia', 'ENDOCRINE', 'chronic', 'atypical', 'hematemesis', 'nausea', 'ataxia', 'wheezing', 'dysuria', 'heartburn', 'insomnia', 'hypersomnia', 'anorexia', 'orthopnea', 'tremor', 'nocturia', 'depression', 'polydipsia', 'epistaxis', 'melena', 'hematuria', 'Migraine', 'weakness', 'headache', 'chest pain', 'palpitations', 'diarrhea', 'constipation', 'nasal congestion', 'edema', 'dysphagia', 'recurrent', 'hemoptysis'}\n",
            "Page[page-41.txt]: {'lifting', 'unspecified', 'Insomnia'}\n",
            "Page[page-42.txt]: {'Palpitations', 'not intractable', 'unspecified', 'Migraine with aura', 'without status migrainosus', 'Cervical disc disorder', 'intractable', 'Migraine', 'Decreased white blood cell count'}\n",
            "Page[page-47.txt]: {'right side', 'moderate', 'left side', 'chronic', 'Endocrine'}\n",
            "Page[page-49.txt]: {'insomnia'}\n",
            "Page[page-51.txt]: {'weakness', 'cough'}\n",
            "Page[page-53.txt]: {'migraine'}\n",
            "Page[page-54.txt]: {'headache', 'Headache', 'edema'}\n",
            "Page[page-55.txt]: {'Headache', 'Migraine', 'Migraine with aura'}\n",
            "Page[page-56.txt]: {'headache', 'migraine'}\n",
            "Page[page-57.txt]: {'edema', 'spinal stenosis', 'suspected'}\n",
            "Page[page-58.txt]: {'headache', 'Headache'}\n",
            "Page[page-59.txt]: {'Headache', 'walking', 'Occipital Neuralgia', 'Chronic', 'Migraine'}\n",
            "Page[page-60.txt]: {'Headache', 'headache', 'migraine', 'ILLNESS', 'aphasia', 'acute', 'head and neck'}\n",
            "Page[page-61.txt]: {'headache', 'depression', 'wrestling', 'migraine', 'lower back', 'moderate'}\n",
            "Page[page-62.txt]: {'headache', 'cervicalgia', 'migraine', 'aphasia', 'acute', 'intractable', 'chronic', 'Spontaneous'}\n",
            "Page[page-63.txt]: {'migraine'}\n",
            "Page[page-65.txt]: {'or bladder', 'cervical region', 'left thumb', 'Migraine', 'sneezing', 'weakness', 'radiculopathy'}\n",
            "Page[page-67.txt]: {'acute', 'oriented'}\n",
            "Page[page-68.txt]: {'headache', 'weakness', 'minimal'}\n",
            "Page[page-69.txt]: {'headache', 'depression', 'oriented', 'upper arm', 'left thigh', 'Cervical disc disorder', 'right upper arm'}\n",
            "Page[page-70.txt]: {'trunk', 'right leg', 'bilateral'}\n",
            "Page[page-71.txt]: {'headache', 'Minimal', 'moderate', 'sinus', 'spondylosis', 'Moderate', 'osteophyte'}\n",
            "Page[page-73.txt]: {'oriented', 'Scoliosis', 'ataxia'}\n",
            "Page[page-74.txt]: {'moderate'}\n",
            "Page[page-75.txt]: {'oriented'}\n",
            "Page[page-79.txt]: {'tachycardia', 'migraine', 'cough', 'polyphagia', 'dyspnea', 'chronic cough', 'tinnitus', 'aphasia', 'ENDOCRINE', 'chronic', 'atypical', 'hematemesis', 'nausea', 'ataxia', 'wheezing', 'dysuria', 'heartburn', 'insomnia', 'hypersomnia', 'anorexia', 'orthopnea', 'tremor', 'nocturia', 'depression', 'polydipsia', 'Palpitations', 'epistaxis', 'melena', 'hematuria', 'Migraine', 'weakness', 'headache', 'chest pain', 'palpitations', 'diarrhea', 'constipation', 'nasal congestion', 'fever', 'edema', 'dysphagia', 'recurrent', 'hemoptysis'}\n",
            "Page[page-80.txt]: {'lifting', 'unspecified'}\n",
            "Page[page-81.txt]: {'urethral discharge', 'wrestling', 'oriented', 'dermatitis', 'Cauliflower ear', 'midline', 'cyanosis', 'edema'}\n",
            "Page[page-82.txt]: {'Palpitations', 'migraine', 'Dermatitis', 'unspecified', 'Depression', 'Migraine with aura', 'intractable', 'Migraine'}\n",
            "Page[page-83.txt]: {'right side', 'migraine', 'Diphtheria', 'lower back', 'Neck and back', 'Migraine with aura', 'Cervical disc disorder', 'Intractable', 'Migraine'}\n",
            "Page[page-84.txt]: {'Palpitations', 'migraine', 'Dermatitis', 'palpitations', 'transient', 'Encounter for general adult medical examination without abnormal findings', 'not intractable', 'unspecified', 'Migraine with aura', 'without status migrainosus', 'Cervical disc disorder', 'intractable', 'Migraine', 'incomplete'}\n",
            "Page[page-85.txt]: {'Palpitations', 'Dermatitis', 'dermatitis', 'unspecified cause', 'unspecified', 'Unspecified', 'Unspecified contact dermatitis', 'Decreased white blood cell count'}\n",
            "Page[page-87.txt]: {'heart disease'}\n",
            "Page[page-90.txt]: {'migraine'}\n",
            "Page[page-91.txt]: {'headache', 'migraine'}\n",
            "Page[page-92.txt]: {'headache', 'head and neck', 'a flood', 'worries'}\n",
            "Page[page-99.txt]: {'tachycardia', 'migraine', 'cough', 'polyphagia', 'dermatitis', 'dyspnea', 'chronic cough', 'tinnitus', 'aphasia', 'ENDOCRINE', 'chronic', 'atypical', 'hematemesis', 'nausea', 'ataxia', 'wheezing', 'wrestling', 'dysuria', 'heartburn', 'insomnia', 'hypersomnia', 'left upper extremity', 'anorexia', 'orthopnea', 'tremor', 'nocturia', 'depression', 'polydipsia', 'Palpitations', 'epistaxis', 'melena', 'hematuria', 'Migraine', 'headache', 'chest pain', 'palpitations', 'diarrhea', 'constipation', 'nasal congestion', 'fever', 'edema', 'dysphagia', 'recurrent', 'hemoptysis'}\n",
            "Page[page-100.txt]: {'lifting', 'Tobacco Use'}\n",
            "Page[page-101.txt]: {'urethral discharge', 'wrestling', 'sleeping', 'oriented', 'Cauliflower ear', 'cyanosis', 'gout', 'edema'}\n",
            "Page[page-102.txt]: {'Palpitations', 'right ear', 'minimal', 'migraine', 'Dermatitis', 'unspecified', 'Depression', 'Migraine with aura', 'intractable', 'Migraine'}\n",
            "Page[page-103.txt]: {'headache', 'low risk', 'cough', 'migraine', 'whooping cough', 'Migraine with aura', 'unstable', 'Intractable', 'Migraine'}\n",
            "Page[page-104.txt]: {'Palpitations', 'sleeping', 'wrestling', 'Dermatitis', 'palpitations', 'unspecified', 'Depression', 'single', 'Cervical disc disorder', 'and skin'}\n",
            "Page[page-105.txt]: {'Palpitations', 'migraine', 'Dermatitis', 'dermatitis', 'Encounter for general adult medical examination without abnormal findings', 'not intractable', 'unspecified', 'unspecified cause', 'Unspecified', 'Unspecified contact dermatitis', 'Migraine with aura', 'without status migrainosus', 'Depression', 'intractable', 'Migraine', 'Encounter for other general examination'}\n",
            "Page[page-107.txt]: {'cortical', 'aphasia', 'bilateral'}\n",
            "Page[page-110.txt]: {'symptomatic'}\n",
            "Page[page-116.txt]: {'antiphospholipid syndrome', 'suspected', 'transient'}\n",
            "Page[page-117.txt]: {'Headache', 'illness', 'migraine'}\n",
            "Page[page-118.txt]: {'acute', 'migraine', 'atypical'}\n",
            "Page[page-119.txt]: {'headache', 'Headache', 'bilateral', 'acute', 'Migraine'}\n",
            "Page[page-120.txt]: {'migraine', 'Acute'}\n",
            "Page[page-121.txt]: {'headache'}\n",
            "Page[page-122.txt]: {'acute', 'central', 'cortical'}\n",
            "Page[page-124.txt]: {'sinus', 'cortical'}\n",
            "Page[page-127.txt]: {'acute', 'Atypical'}\n"
          ]
        }
      ]
    },
    {
      "cell_type": "code",
      "source": [
        "# Step-7: Highlighting ICD-10 code and keyword into pdf\n",
        "output_file_name = highlight_icd10_code_and_keyword(page_code_dict, page_keyword_dict, pdf_file_name)\n",
        "print(f\"File[{output_file_name}] is saved after highlighting ICD-10 code and keyword\")"
      ],
      "metadata": {
        "id": "opP1NnZjG5c9"
      },
      "execution_count": null,
      "outputs": []
    },
    {
      "cell_type": "markdown",
      "source": [
        "##Highlight Multiple Files"
      ],
      "metadata": {
        "id": "F0XJd6rx0v_I"
      }
    },
    {
      "cell_type": "code",
      "source": [
        "!mkdir synodex_ocr_pdf_files"
      ],
      "metadata": {
        "id": "eFSaGC1w8aWE"
      },
      "execution_count": 12,
      "outputs": []
    },
    {
      "cell_type": "code",
      "source": [
        "# Step-0: Load prerequisite instance\n",
        "nlp_code = English()\n",
        "nlp_keyword = spacy.load('en_core_web_sm')\n",
        "\n",
        "# Load icd_10_code_keywords.csv file\n",
        "icd_code_kerword_df = pd.read_csv(\"icd_10_code_keywords.csv\")\n",
        "\n",
        "# loading and updating patterns to Spacy\n",
        "nlp_code.add_pipe(\"entity_ruler\").from_disk(\"./icd10_code_patterns.jsonl\")\n",
        "\n",
        "# Creating ICD-10 keyword pattern\n",
        "phrase_matcher = make_icd_10_keyword_pattern(icd_code_kerword_df, nlp_keyword)"
      ],
      "metadata": {
        "id": "TyPoHyTLjL1u"
      },
      "execution_count": 13,
      "outputs": []
    },
    {
      "cell_type": "code",
      "source": [
        "%%time\n",
        "\n",
        "ocr_pdf_files_path = \"synodex_ocr_pdf_files\"\n",
        "for pdf_file in os.listdir(ocr_pdf_files_path):\n",
        "  pdf_file_name = f\"{ocr_pdf_files_path}/{pdf_file}\"\n",
        "  # Step-1: splitting pdf file\n",
        "  pdf_list = split_pdf(pdf_file_name)\n",
        "\n",
        "  # Step-2: Extracting text from pdf\n",
        "  txt_list = extract_text_from_pdf(pdf_list)\n",
        "\n",
        "  # Step-3: Searching ICD-10 code\n",
        "  page_code_dict = search_icd_10_code(txt_list, nlp_code)\n",
        "\n",
        "  # Step-4: Searching ICD-10 keyword\n",
        "  page_keyword_dict = search_icd_10_keyword(txt_list, phrase_matcher, nlp_keyword)\n",
        "\n",
        "  # Step-7: Highlighting ICD-10 code and keyword into pdf\n",
        "  pdf_output, txt_output = highlight_icd10_code_and_keyword(page_code_dict, page_keyword_dict, pdf_file_name)\n",
        "  print(f\"File[{pdf_output}] is saved after highlighting ICD-10 code and keyword\")\n",
        "  print(f\"Highlighted coordinates are saved into [{txt_output}] file.\")"
      ],
      "metadata": {
        "id": "F8gaJ6o59dQl",
        "colab": {
          "base_uri": "https://localhost:8080/"
        },
        "outputId": "6f6c5a1b-0ca5-47aa-d20b-fd95f16121ce"
      },
      "execution_count": 15,
      "outputs": [
        {
          "output_type": "stream",
          "name": "stdout",
          "text": [
            "File[synodex_ocr_pdf_files/Redacted_Sample_output.pdf] is saved after highlighting ICD-10 code and keyword\n",
            "Highlighted coordinates are saved into [synodex_ocr_pdf_files/Redacted_Sample_cords.txt] file.\n",
            "File[synodex_ocr_pdf_files/Report_equitable_SampleAPSforSummarization1_Redactedv5_output.pdf] is saved after highlighting ICD-10 code and keyword\n",
            "Highlighted coordinates are saved into [synodex_ocr_pdf_files/Report_equitable_SampleAPSforSummarization1_Redactedv5_cords.txt] file.\n",
            "CPU times: user 1min 40s, sys: 1.74 s, total: 1min 42s\n",
            "Wall time: 1min 44s\n"
          ]
        }
      ]
    }
  ]
}