{
  "nbformat": 4,
  "nbformat_minor": 0,
  "metadata": {
    "colab": {
      "provenance": [],
      "authorship_tag": "ABX9TyNaL1lmNDP8/4OGt6ouDUNc",
      "include_colab_link": true
    },
    "kernelspec": {
      "name": "python3",
      "display_name": "Python 3"
    },
    "language_info": {
      "name": "python"
    }
  },
  "cells": [
    {
      "cell_type": "markdown",
      "metadata": {
        "id": "view-in-github",
        "colab_type": "text"
      },
      "source": [
        "<a href=\"https://colab.research.google.com/github/rahiakela/natural-language-processing-research-and-practice/blob/main/text-similarity-works/12_icd_10_code_and_keyword_highliting.ipynb\" target=\"_parent\"><img src=\"https://colab.research.google.com/assets/colab-badge.svg\" alt=\"Open In Colab\"/></a>"
      ]
    },
    {
      "cell_type": "markdown",
      "source": [
        "##Setup"
      ],
      "metadata": {
        "id": "73ORkeFzaRA4"
      }
    },
    {
      "cell_type": "markdown",
      "source": [
        "Reference:\n",
        "\n",
        "[Rule-based entity recognition](https://spacy.io/usage/rule-based-matching#entityruler)\n",
        "\n",
        "[PDF-to-TEXT](https://pypi.org/project/pdftotext/)"
      ],
      "metadata": {
        "id": "nAkX90V5vVML"
      }
    },
    {
      "cell_type": "code",
      "source": [
        "!pip -q install spacy\n",
        "!python -m spacy download en_core_web_sm\n",
        "\n",
        "!pip install pillow\n",
        "\n",
        "!sudo apt install build-essential libpoppler-cpp-dev pkg-config python3-dev\n",
        "!pip install -U pdftotext\n",
        "!pip install PyPDF2\n",
        "!pip install fitz\n",
        "!pip install PyMuPDF"
      ],
      "metadata": {
        "id": "Ti6ZynbyaR9l"
      },
      "execution_count": null,
      "outputs": []
    },
    {
      "cell_type": "markdown",
      "source": [
        "Just restart the colab environment."
      ],
      "metadata": {
        "id": "EIvuMvZfuhfY"
      }
    },
    {
      "cell_type": "code",
      "source": [
        "import pandas as pd\n",
        "import numpy as np\n",
        "import re\n",
        "import time\n",
        "import os\n",
        "\n",
        "import pdb\n",
        "\n",
        "import fitz\n",
        "import cv2 \n",
        "import pdftotext\n",
        "from PyPDF2 import PdfFileReader, PdfFileWriter\n",
        "from io import BytesIO\n",
        "from PIL import Image\n",
        "from matplotlib import pyplot as plt\n",
        "\n",
        "import spacy\n",
        "from spacy.matcher import PhraseMatcher\n",
        "from spacy.lang.en import English\n",
        "\n",
        "import nltk"
      ],
      "metadata": {
        "id": "fAcHTn0JaM2S"
      },
      "execution_count": 1,
      "outputs": []
    },
    {
      "cell_type": "code",
      "source": [
        "!mkdir pdf-files\n",
        "!mkdir txt-files"
      ],
      "metadata": {
        "id": "IsoNvC1ibb6l"
      },
      "execution_count": 2,
      "outputs": []
    },
    {
      "cell_type": "code",
      "source": [
        "pdf_files_path = \"pdf-files\"\n",
        "txt_files_path = \"txt-files\""
      ],
      "metadata": {
        "id": "YIUA8MJDbcg6"
      },
      "execution_count": 3,
      "outputs": []
    },
    {
      "cell_type": "markdown",
      "source": [
        "##Define some functions"
      ],
      "metadata": {
        "id": "v5Qy3RJN2VQu"
      }
    },
    {
      "cell_type": "code",
      "source": [
        "def split_pdf(pdf_path):\n",
        "  pdf_in_file = open(pdf_path, \"rb\")\n",
        "  pdf = PdfFileReader(pdf_in_file)\n",
        "  pdf_list = []\n",
        "  for page in range(pdf.numPages):\n",
        "      inputpdf = PdfFileReader(pdf_in_file)\n",
        "      output = PdfFileWriter()\n",
        "      output.addPage(inputpdf.getPage(page))\n",
        "      with open(f\"{pdf_files_path}/page-{page}.pdf\", \"wb\") as outputStream:\n",
        "          output.write(outputStream)\n",
        "          pdf_list.append(f\"page-{page}.pdf\")\n",
        "  return pdf_list"
      ],
      "metadata": {
        "id": "YfTNt1mrbwy3"
      },
      "execution_count": 4,
      "outputs": []
    },
    {
      "cell_type": "code",
      "source": [
        "def extract_text_from_pdf(pdf_list):\n",
        "  txt_file_list = []\n",
        "  i = 0\n",
        "  for pdf_file in pdf_list:\n",
        "    with open(os.path.join(pdf_files_path, pdf_file), \"rb\") as f:\n",
        "      pdf = pdftotext.PDF(f)\n",
        "    \n",
        "    # Read all the text into one string\n",
        "    pdf_text = \"\\n\\n\".join(pdf)\n",
        "\n",
        "    # write text into file\n",
        "    with open(f\"{txt_files_path}/page-{str(i)}.txt\", \"a\") as f:\n",
        "      f.write(pdf_text)\n",
        "    txt_file_list.append(f\"{txt_files_path}/page-{str(i)}.txt\")\n",
        "    i += 1\n",
        "  return txt_file_list"
      ],
      "metadata": {
        "id": "XRSuNufIbxbr"
      },
      "execution_count": 5,
      "outputs": []
    },
    {
      "cell_type": "code",
      "source": [
        "def get_opt_pattern(icd_10_code):\n",
        "  # create alternate pattern\n",
        "  code_arr = icd_10_code.split(\".\")\n",
        "  if len(code_arr) > 1:\n",
        "    code1 = f\"{code_arr[0]}. {code_arr[1]}\"\n",
        "    code2 = f\"{code_arr[0]} .{code_arr[1]}\"\n",
        "    code3 = f\"{code_arr[0]} . {code_arr[1]}\"\n",
        "    return [code1, code2, code3]\n",
        "  else:\n",
        "    return icd_10_code"
      ],
      "metadata": {
        "id": "VyvaUtt_dUiF"
      },
      "execution_count": 6,
      "outputs": []
    },
    {
      "cell_type": "code",
      "source": [
        "def highlight_icd10_code_and_keyword(pdf_code_dict, page_keyword_dict, pdf_file_name):\n",
        "  pdf_file = fitz.open(pdf_file_name)\n",
        "\n",
        "  def highlight_pdf(highlight):\n",
        "    for inst in highlight:\n",
        "      highlight = page.add_highlight_annot(inst)\n",
        "      highlight.update()\n",
        "      highlight = page.search_for(text_to_be_highlighted)\n",
        "      print(f\"Page-{page_num}: \", code, highlight, end='\\n')\n",
        "\n",
        "  for page_num, page in enumerate(pdf_file):\n",
        "\n",
        "    # highlight code\n",
        "    if page_num in pdf_code_dict:\n",
        "      for code in pdf_code_dict[page_num]:\n",
        "        text_to_be_highlighted = code\n",
        "        highlight = page.search_for(text_to_be_highlighted)\n",
        "        if len(highlight) == 0:\n",
        "          alternate_code_list = get_opt_pattern(code)\n",
        "          for alt_code in alternate_code_list:\n",
        "            text_to_be_highlighted = alt_code\n",
        "            highlight = page.search_for(text_to_be_highlighted)\n",
        "            # highlight pdf for option pattern\n",
        "            highlight_pdf(highlight)\n",
        "        # highlight pdf for main pattern   \n",
        "        highlight_pdf(highlight)\n",
        "\n",
        "    # highlight keyword\n",
        "    if page_num in page_keyword_dict:\n",
        "      for keyword in page_keyword_dict[page_num]:\n",
        "        text_to_be_highlighted = keyword\n",
        "        highlight = page.search_for(text_to_be_highlighted)\n",
        "        for inst in highlight:\n",
        "          highlight = page.add_highlight_annot(inst)\n",
        "          highlight.set_colors(stroke=[1, 0.8, 0.8])\n",
        "          highlight.update()\n",
        "          highlight = page.search_for(text_to_be_highlighted)\n",
        "          print(f\"Page-{page_num}: \", keyword, highlight, end='\\n')\n",
        "\n",
        "  pdf_file.save(f\"{pdf_file_name.split('.')[0]}_output.pdf\", garbage=4, deflate=True, clean=True)"
      ],
      "metadata": {
        "id": "xYpz6MiaAF4k"
      },
      "execution_count": 7,
      "outputs": []
    },
    {
      "cell_type": "code",
      "source": [
        "def make_icd_10_code_pattern(icd_10_code_df):\n",
        "  patterns = []\n",
        "  for _, row in icd_10_code_df.iterrows():\n",
        "    patterns.append({\"label\": \"ICD-10\", \"pattern\": row[\"ICD-10\"]})\n",
        "  return patterns"
      ],
      "metadata": {
        "id": "dEH-fEsDm11l"
      },
      "execution_count": null,
      "outputs": []
    },
    {
      "cell_type": "code",
      "source": [
        "def make_icd_10_keyword_pattern(icd_10_keyword_df):\n",
        "  keywords = []\n",
        "  for _, row in icd_10_keyword_df.iterrows():\n",
        "    keywords.append(row[\"Keyword\"])\n",
        "  \n",
        "  phrase_matcher = PhraseMatcher(nlp.vocab, attr=\"LOWER\")\n",
        "  patterns = list(nlp.tokenizer.pipe(keywords))\n",
        "  phrase_matcher.add('keywords', patterns)\n",
        "  return phrase_matcher"
      ],
      "metadata": {
        "id": "QA_x9dTobXma"
      },
      "execution_count": 8,
      "outputs": []
    },
    {
      "cell_type": "code",
      "source": [
        "def search_icd_10_code(txt_list):\n",
        "  pdf_page_vocab = {}\n",
        "  for txt_file in txt_list:\n",
        "    with open(txt_file, \"r\") as f:\n",
        "      page_txt = f.read()\n",
        "      # filter the page that have line number instead of code\n",
        "      if not re.search(\"(P[ ][0-9]+)(,\\s)(L[0-9]+)\", page_txt):\n",
        "        doc = nlp(page_txt)\n",
        "        code_list = [ent.text for ent in doc.ents]\n",
        "        if len(code_list) != 0:\n",
        "          page_number = int(txt_file.split(\"/\")[1].split(\".\")[0].split(\"-\")[1])\n",
        "          pdf_page_vocab[page_number] = code_list\n",
        "          # print(f\"Page[{txt_file.split('/')[1]}]: {code_list}\")\n",
        "  return pdf_page_vocab"
      ],
      "metadata": {
        "id": "TP8ku9QXFju1"
      },
      "execution_count": 9,
      "outputs": []
    },
    {
      "cell_type": "code",
      "source": [
        "def search_icd_10_keyword(txt_list, phrase_matcher):\n",
        "  page_keyword_dict = {}\n",
        "  # Step-4: Searching ICD-10 code\n",
        "  for txt_file in txt_list:\n",
        "    with open(txt_file, \"r\") as f:\n",
        "      page_txt = f.read()\n",
        "      doc = nlp(page_txt)\n",
        "      matches = phrase_matcher(doc)\n",
        "\n",
        "      keyword_list = []\n",
        "      for match_id, start, end in matches:\n",
        "        span = doc[start: end]\n",
        "        keyword_list.append(f\"{span}\")\n",
        "\n",
        "      if len(keyword_list) != 0:\n",
        "        page_number = int(txt_file.split(\"/\")[1].split(\".\")[0].split(\"-\")[1])\n",
        "        page_keyword_dict[page_number] = keyword_list\n",
        "        print(f\"Page[{txt_file.split('/')[1]}]: {keyword_list}\")\n",
        "  return page_keyword_dict"
      ],
      "metadata": {
        "id": "r9rDVhCfGPiF"
      },
      "execution_count": 10,
      "outputs": []
    },
    {
      "cell_type": "markdown",
      "source": [
        "##Data preprocessing"
      ],
      "metadata": {
        "id": "kRlokPzlatON"
      }
    },
    {
      "cell_type": "code",
      "source": [
        "columns = []\n",
        "with open(\"icd_10_keywords.txt\", \"r\") as f:\n",
        "  txt_lines = f.readlines()\n",
        "  for line in txt_lines:\n",
        "    columns.append(line.strip(\"\\n\"))\n",
        "print(columns[:10])"
      ],
      "metadata": {
        "id": "ux519TA42C41",
        "outputId": "6136e248-7542-43bb-8269-d03c2128db15",
        "colab": {
          "base_uri": "https://localhost:8080/"
        }
      },
      "execution_count": null,
      "outputs": [
        {
          "output_type": "stream",
          "name": "stdout",
          "text": [
            "['Cholera due to Vibrio cholerae 01, biovar cholerae', 'Cholera due to Vibrio cholerae 01, biovar eltor', 'Cholera, unspecified', 'Typhoid fever, unspecified', 'Typhoid meningitis', 'Typhoid fever with heart involvement', 'Typhoid pneumonia', 'Typhoid arthritis', 'Typhoid osteomyelitis', 'Typhoid fever with other complications']\n"
          ]
        }
      ]
    },
    {
      "cell_type": "code",
      "source": [
        "data_keyword_df = pd.DataFrame(columns, columns=[\"Keyword\"])\n",
        "data_keyword_df.head()"
      ],
      "metadata": {
        "id": "RQPgHDgt26eV",
        "outputId": "5546b261-0a68-4788-d6b9-4584d83760be",
        "colab": {
          "base_uri": "https://localhost:8080/",
          "height": 206
        }
      },
      "execution_count": null,
      "outputs": [
        {
          "output_type": "execute_result",
          "data": {
            "text/plain": [
              "                                             Keyword\n",
              "0  Cholera due to Vibrio cholerae 01, biovar chol...\n",
              "1    Cholera due to Vibrio cholerae 01, biovar eltor\n",
              "2                               Cholera, unspecified\n",
              "3                         Typhoid fever, unspecified\n",
              "4                                 Typhoid meningitis"
            ],
            "text/html": [
              "\n",
              "  <div id=\"df-cbcdf2cd-1078-40da-8628-b3c1ad62d25d\">\n",
              "    <div class=\"colab-df-container\">\n",
              "      <div>\n",
              "<style scoped>\n",
              "    .dataframe tbody tr th:only-of-type {\n",
              "        vertical-align: middle;\n",
              "    }\n",
              "\n",
              "    .dataframe tbody tr th {\n",
              "        vertical-align: top;\n",
              "    }\n",
              "\n",
              "    .dataframe thead th {\n",
              "        text-align: right;\n",
              "    }\n",
              "</style>\n",
              "<table border=\"1\" class=\"dataframe\">\n",
              "  <thead>\n",
              "    <tr style=\"text-align: right;\">\n",
              "      <th></th>\n",
              "      <th>Keyword</th>\n",
              "    </tr>\n",
              "  </thead>\n",
              "  <tbody>\n",
              "    <tr>\n",
              "      <th>0</th>\n",
              "      <td>Cholera due to Vibrio cholerae 01, biovar chol...</td>\n",
              "    </tr>\n",
              "    <tr>\n",
              "      <th>1</th>\n",
              "      <td>Cholera due to Vibrio cholerae 01, biovar eltor</td>\n",
              "    </tr>\n",
              "    <tr>\n",
              "      <th>2</th>\n",
              "      <td>Cholera, unspecified</td>\n",
              "    </tr>\n",
              "    <tr>\n",
              "      <th>3</th>\n",
              "      <td>Typhoid fever, unspecified</td>\n",
              "    </tr>\n",
              "    <tr>\n",
              "      <th>4</th>\n",
              "      <td>Typhoid meningitis</td>\n",
              "    </tr>\n",
              "  </tbody>\n",
              "</table>\n",
              "</div>\n",
              "      <button class=\"colab-df-convert\" onclick=\"convertToInteractive('df-cbcdf2cd-1078-40da-8628-b3c1ad62d25d')\"\n",
              "              title=\"Convert this dataframe to an interactive table.\"\n",
              "              style=\"display:none;\">\n",
              "        \n",
              "  <svg xmlns=\"http://www.w3.org/2000/svg\" height=\"24px\"viewBox=\"0 0 24 24\"\n",
              "       width=\"24px\">\n",
              "    <path d=\"M0 0h24v24H0V0z\" fill=\"none\"/>\n",
              "    <path d=\"M18.56 5.44l.94 2.06.94-2.06 2.06-.94-2.06-.94-.94-2.06-.94 2.06-2.06.94zm-11 1L8.5 8.5l.94-2.06 2.06-.94-2.06-.94L8.5 2.5l-.94 2.06-2.06.94zm10 10l.94 2.06.94-2.06 2.06-.94-2.06-.94-.94-2.06-.94 2.06-2.06.94z\"/><path d=\"M17.41 7.96l-1.37-1.37c-.4-.4-.92-.59-1.43-.59-.52 0-1.04.2-1.43.59L10.3 9.45l-7.72 7.72c-.78.78-.78 2.05 0 2.83L4 21.41c.39.39.9.59 1.41.59.51 0 1.02-.2 1.41-.59l7.78-7.78 2.81-2.81c.8-.78.8-2.07 0-2.86zM5.41 20L4 18.59l7.72-7.72 1.47 1.35L5.41 20z\"/>\n",
              "  </svg>\n",
              "      </button>\n",
              "      \n",
              "  <style>\n",
              "    .colab-df-container {\n",
              "      display:flex;\n",
              "      flex-wrap:wrap;\n",
              "      gap: 12px;\n",
              "    }\n",
              "\n",
              "    .colab-df-convert {\n",
              "      background-color: #E8F0FE;\n",
              "      border: none;\n",
              "      border-radius: 50%;\n",
              "      cursor: pointer;\n",
              "      display: none;\n",
              "      fill: #1967D2;\n",
              "      height: 32px;\n",
              "      padding: 0 0 0 0;\n",
              "      width: 32px;\n",
              "    }\n",
              "\n",
              "    .colab-df-convert:hover {\n",
              "      background-color: #E2EBFA;\n",
              "      box-shadow: 0px 1px 2px rgba(60, 64, 67, 0.3), 0px 1px 3px 1px rgba(60, 64, 67, 0.15);\n",
              "      fill: #174EA6;\n",
              "    }\n",
              "\n",
              "    [theme=dark] .colab-df-convert {\n",
              "      background-color: #3B4455;\n",
              "      fill: #D2E3FC;\n",
              "    }\n",
              "\n",
              "    [theme=dark] .colab-df-convert:hover {\n",
              "      background-color: #434B5C;\n",
              "      box-shadow: 0px 1px 3px 1px rgba(0, 0, 0, 0.15);\n",
              "      filter: drop-shadow(0px 1px 2px rgba(0, 0, 0, 0.3));\n",
              "      fill: #FFFFFF;\n",
              "    }\n",
              "  </style>\n",
              "\n",
              "      <script>\n",
              "        const buttonEl =\n",
              "          document.querySelector('#df-cbcdf2cd-1078-40da-8628-b3c1ad62d25d button.colab-df-convert');\n",
              "        buttonEl.style.display =\n",
              "          google.colab.kernel.accessAllowed ? 'block' : 'none';\n",
              "\n",
              "        async function convertToInteractive(key) {\n",
              "          const element = document.querySelector('#df-cbcdf2cd-1078-40da-8628-b3c1ad62d25d');\n",
              "          const dataTable =\n",
              "            await google.colab.kernel.invokeFunction('convertToInteractive',\n",
              "                                                     [key], {});\n",
              "          if (!dataTable) return;\n",
              "\n",
              "          const docLinkHtml = 'Like what you see? Visit the ' +\n",
              "            '<a target=\"_blank\" href=https://colab.research.google.com/notebooks/data_table.ipynb>data table notebook</a>'\n",
              "            + ' to learn more about interactive tables.';\n",
              "          element.innerHTML = '';\n",
              "          dataTable['output_type'] = 'display_data';\n",
              "          await google.colab.output.renderOutput(dataTable, element);\n",
              "          const docLink = document.createElement('div');\n",
              "          docLink.innerHTML = docLinkHtml;\n",
              "          element.appendChild(docLink);\n",
              "        }\n",
              "      </script>\n",
              "    </div>\n",
              "  </div>\n",
              "  "
            ]
          },
          "metadata": {},
          "execution_count": 9
        }
      ]
    },
    {
      "cell_type": "code",
      "source": [
        "data_keyword_df.to_csv(\"icd_10_keywords.csv\", index=False)"
      ],
      "metadata": {
        "id": "-m47_CVP3HVc"
      },
      "execution_count": null,
      "outputs": []
    },
    {
      "cell_type": "code",
      "source": [
        "data_code_df = pd.read_csv(\"icd_10_codes.csv\")\n",
        "data_code_df.head()"
      ],
      "metadata": {
        "id": "AUAqEAvPecP-",
        "outputId": "08b0d7e5-a9a9-42bd-d45d-de72d528f3ff",
        "colab": {
          "base_uri": "https://localhost:8080/",
          "height": 206
        }
      },
      "execution_count": null,
      "outputs": [
        {
          "output_type": "execute_result",
          "data": {
            "text/plain": [
              "   ICD-10\n",
              "0   A00.0\n",
              "1   A00.1\n",
              "2   A00.9\n",
              "3  A01.00\n",
              "4  A01.01"
            ],
            "text/html": [
              "\n",
              "  <div id=\"df-25bd9c5e-2489-46b4-8a08-b3e1c1302b2f\">\n",
              "    <div class=\"colab-df-container\">\n",
              "      <div>\n",
              "<style scoped>\n",
              "    .dataframe tbody tr th:only-of-type {\n",
              "        vertical-align: middle;\n",
              "    }\n",
              "\n",
              "    .dataframe tbody tr th {\n",
              "        vertical-align: top;\n",
              "    }\n",
              "\n",
              "    .dataframe thead th {\n",
              "        text-align: right;\n",
              "    }\n",
              "</style>\n",
              "<table border=\"1\" class=\"dataframe\">\n",
              "  <thead>\n",
              "    <tr style=\"text-align: right;\">\n",
              "      <th></th>\n",
              "      <th>ICD-10</th>\n",
              "    </tr>\n",
              "  </thead>\n",
              "  <tbody>\n",
              "    <tr>\n",
              "      <th>0</th>\n",
              "      <td>A00.0</td>\n",
              "    </tr>\n",
              "    <tr>\n",
              "      <th>1</th>\n",
              "      <td>A00.1</td>\n",
              "    </tr>\n",
              "    <tr>\n",
              "      <th>2</th>\n",
              "      <td>A00.9</td>\n",
              "    </tr>\n",
              "    <tr>\n",
              "      <th>3</th>\n",
              "      <td>A01.00</td>\n",
              "    </tr>\n",
              "    <tr>\n",
              "      <th>4</th>\n",
              "      <td>A01.01</td>\n",
              "    </tr>\n",
              "  </tbody>\n",
              "</table>\n",
              "</div>\n",
              "      <button class=\"colab-df-convert\" onclick=\"convertToInteractive('df-25bd9c5e-2489-46b4-8a08-b3e1c1302b2f')\"\n",
              "              title=\"Convert this dataframe to an interactive table.\"\n",
              "              style=\"display:none;\">\n",
              "        \n",
              "  <svg xmlns=\"http://www.w3.org/2000/svg\" height=\"24px\"viewBox=\"0 0 24 24\"\n",
              "       width=\"24px\">\n",
              "    <path d=\"M0 0h24v24H0V0z\" fill=\"none\"/>\n",
              "    <path d=\"M18.56 5.44l.94 2.06.94-2.06 2.06-.94-2.06-.94-.94-2.06-.94 2.06-2.06.94zm-11 1L8.5 8.5l.94-2.06 2.06-.94-2.06-.94L8.5 2.5l-.94 2.06-2.06.94zm10 10l.94 2.06.94-2.06 2.06-.94-2.06-.94-.94-2.06-.94 2.06-2.06.94z\"/><path d=\"M17.41 7.96l-1.37-1.37c-.4-.4-.92-.59-1.43-.59-.52 0-1.04.2-1.43.59L10.3 9.45l-7.72 7.72c-.78.78-.78 2.05 0 2.83L4 21.41c.39.39.9.59 1.41.59.51 0 1.02-.2 1.41-.59l7.78-7.78 2.81-2.81c.8-.78.8-2.07 0-2.86zM5.41 20L4 18.59l7.72-7.72 1.47 1.35L5.41 20z\"/>\n",
              "  </svg>\n",
              "      </button>\n",
              "      \n",
              "  <style>\n",
              "    .colab-df-container {\n",
              "      display:flex;\n",
              "      flex-wrap:wrap;\n",
              "      gap: 12px;\n",
              "    }\n",
              "\n",
              "    .colab-df-convert {\n",
              "      background-color: #E8F0FE;\n",
              "      border: none;\n",
              "      border-radius: 50%;\n",
              "      cursor: pointer;\n",
              "      display: none;\n",
              "      fill: #1967D2;\n",
              "      height: 32px;\n",
              "      padding: 0 0 0 0;\n",
              "      width: 32px;\n",
              "    }\n",
              "\n",
              "    .colab-df-convert:hover {\n",
              "      background-color: #E2EBFA;\n",
              "      box-shadow: 0px 1px 2px rgba(60, 64, 67, 0.3), 0px 1px 3px 1px rgba(60, 64, 67, 0.15);\n",
              "      fill: #174EA6;\n",
              "    }\n",
              "\n",
              "    [theme=dark] .colab-df-convert {\n",
              "      background-color: #3B4455;\n",
              "      fill: #D2E3FC;\n",
              "    }\n",
              "\n",
              "    [theme=dark] .colab-df-convert:hover {\n",
              "      background-color: #434B5C;\n",
              "      box-shadow: 0px 1px 3px 1px rgba(0, 0, 0, 0.15);\n",
              "      filter: drop-shadow(0px 1px 2px rgba(0, 0, 0, 0.3));\n",
              "      fill: #FFFFFF;\n",
              "    }\n",
              "  </style>\n",
              "\n",
              "      <script>\n",
              "        const buttonEl =\n",
              "          document.querySelector('#df-25bd9c5e-2489-46b4-8a08-b3e1c1302b2f button.colab-df-convert');\n",
              "        buttonEl.style.display =\n",
              "          google.colab.kernel.accessAllowed ? 'block' : 'none';\n",
              "\n",
              "        async function convertToInteractive(key) {\n",
              "          const element = document.querySelector('#df-25bd9c5e-2489-46b4-8a08-b3e1c1302b2f');\n",
              "          const dataTable =\n",
              "            await google.colab.kernel.invokeFunction('convertToInteractive',\n",
              "                                                     [key], {});\n",
              "          if (!dataTable) return;\n",
              "\n",
              "          const docLinkHtml = 'Like what you see? Visit the ' +\n",
              "            '<a target=\"_blank\" href=https://colab.research.google.com/notebooks/data_table.ipynb>data table notebook</a>'\n",
              "            + ' to learn more about interactive tables.';\n",
              "          element.innerHTML = '';\n",
              "          dataTable['output_type'] = 'display_data';\n",
              "          await google.colab.output.renderOutput(dataTable, element);\n",
              "          const docLink = document.createElement('div');\n",
              "          docLink.innerHTML = docLinkHtml;\n",
              "          element.appendChild(docLink);\n",
              "        }\n",
              "      </script>\n",
              "    </div>\n",
              "  </div>\n",
              "  "
            ]
          },
          "metadata": {},
          "execution_count": 11
        }
      ]
    },
    {
      "cell_type": "code",
      "source": [
        "data_code_df[\"ICD-10\"].head()"
      ],
      "metadata": {
        "id": "grJmbceU8K3U",
        "outputId": "312d57f5-cad0-4eda-e86a-18aabf2f5999",
        "colab": {
          "base_uri": "https://localhost:8080/"
        }
      },
      "execution_count": null,
      "outputs": [
        {
          "output_type": "execute_result",
          "data": {
            "text/plain": [
              "0     A00.0\n",
              "1     A00.1\n",
              "2     A00.9\n",
              "3    A01.00\n",
              "4    A01.01\n",
              "Name: ICD-10, dtype: object"
            ]
          },
          "metadata": {},
          "execution_count": 58
        }
      ]
    },
    {
      "cell_type": "code",
      "source": [
        "data_keyword_df[\"Keyword\"].head()"
      ],
      "metadata": {
        "id": "06UIvEOc8P0o",
        "outputId": "126787f9-e116-4ed2-c615-0742ba910f7a",
        "colab": {
          "base_uri": "https://localhost:8080/"
        }
      },
      "execution_count": null,
      "outputs": [
        {
          "output_type": "execute_result",
          "data": {
            "text/plain": [
              "0    Cholera due to Vibrio cholerae 01, biovar chol...\n",
              "1      Cholera due to Vibrio cholerae 01, biovar eltor\n",
              "2                                 Cholera, unspecified\n",
              "3                           Typhoid fever, unspecified\n",
              "4                                   Typhoid meningitis\n",
              "Name: Keyword, dtype: object"
            ]
          },
          "metadata": {},
          "execution_count": 59
        }
      ]
    },
    {
      "cell_type": "code",
      "source": [
        "icd_code_kerword_df = pd.DataFrame().assign(Code=data_code_df['ICD-10'], Keyword=data_keyword_df['Keyword'])\n",
        "icd_code_kerword_df.head()"
      ],
      "metadata": {
        "id": "B1oG5Eex87Px",
        "outputId": "bbab8fa1-509f-4f7b-9130-82a634b5028a",
        "colab": {
          "base_uri": "https://localhost:8080/",
          "height": 206
        }
      },
      "execution_count": null,
      "outputs": [
        {
          "output_type": "execute_result",
          "data": {
            "text/plain": [
              "     Code                                            Keyword\n",
              "0   A00.0  Cholera due to Vibrio cholerae 01, biovar chol...\n",
              "1   A00.1    Cholera due to Vibrio cholerae 01, biovar eltor\n",
              "2   A00.9                               Cholera, unspecified\n",
              "3  A01.00                         Typhoid fever, unspecified\n",
              "4  A01.01                                 Typhoid meningitis"
            ],
            "text/html": [
              "\n",
              "  <div id=\"df-3805d82c-46a4-4a29-ae7b-e12f64f2ddbc\">\n",
              "    <div class=\"colab-df-container\">\n",
              "      <div>\n",
              "<style scoped>\n",
              "    .dataframe tbody tr th:only-of-type {\n",
              "        vertical-align: middle;\n",
              "    }\n",
              "\n",
              "    .dataframe tbody tr th {\n",
              "        vertical-align: top;\n",
              "    }\n",
              "\n",
              "    .dataframe thead th {\n",
              "        text-align: right;\n",
              "    }\n",
              "</style>\n",
              "<table border=\"1\" class=\"dataframe\">\n",
              "  <thead>\n",
              "    <tr style=\"text-align: right;\">\n",
              "      <th></th>\n",
              "      <th>Code</th>\n",
              "      <th>Keyword</th>\n",
              "    </tr>\n",
              "  </thead>\n",
              "  <tbody>\n",
              "    <tr>\n",
              "      <th>0</th>\n",
              "      <td>A00.0</td>\n",
              "      <td>Cholera due to Vibrio cholerae 01, biovar chol...</td>\n",
              "    </tr>\n",
              "    <tr>\n",
              "      <th>1</th>\n",
              "      <td>A00.1</td>\n",
              "      <td>Cholera due to Vibrio cholerae 01, biovar eltor</td>\n",
              "    </tr>\n",
              "    <tr>\n",
              "      <th>2</th>\n",
              "      <td>A00.9</td>\n",
              "      <td>Cholera, unspecified</td>\n",
              "    </tr>\n",
              "    <tr>\n",
              "      <th>3</th>\n",
              "      <td>A01.00</td>\n",
              "      <td>Typhoid fever, unspecified</td>\n",
              "    </tr>\n",
              "    <tr>\n",
              "      <th>4</th>\n",
              "      <td>A01.01</td>\n",
              "      <td>Typhoid meningitis</td>\n",
              "    </tr>\n",
              "  </tbody>\n",
              "</table>\n",
              "</div>\n",
              "      <button class=\"colab-df-convert\" onclick=\"convertToInteractive('df-3805d82c-46a4-4a29-ae7b-e12f64f2ddbc')\"\n",
              "              title=\"Convert this dataframe to an interactive table.\"\n",
              "              style=\"display:none;\">\n",
              "        \n",
              "  <svg xmlns=\"http://www.w3.org/2000/svg\" height=\"24px\"viewBox=\"0 0 24 24\"\n",
              "       width=\"24px\">\n",
              "    <path d=\"M0 0h24v24H0V0z\" fill=\"none\"/>\n",
              "    <path d=\"M18.56 5.44l.94 2.06.94-2.06 2.06-.94-2.06-.94-.94-2.06-.94 2.06-2.06.94zm-11 1L8.5 8.5l.94-2.06 2.06-.94-2.06-.94L8.5 2.5l-.94 2.06-2.06.94zm10 10l.94 2.06.94-2.06 2.06-.94-2.06-.94-.94-2.06-.94 2.06-2.06.94z\"/><path d=\"M17.41 7.96l-1.37-1.37c-.4-.4-.92-.59-1.43-.59-.52 0-1.04.2-1.43.59L10.3 9.45l-7.72 7.72c-.78.78-.78 2.05 0 2.83L4 21.41c.39.39.9.59 1.41.59.51 0 1.02-.2 1.41-.59l7.78-7.78 2.81-2.81c.8-.78.8-2.07 0-2.86zM5.41 20L4 18.59l7.72-7.72 1.47 1.35L5.41 20z\"/>\n",
              "  </svg>\n",
              "      </button>\n",
              "      \n",
              "  <style>\n",
              "    .colab-df-container {\n",
              "      display:flex;\n",
              "      flex-wrap:wrap;\n",
              "      gap: 12px;\n",
              "    }\n",
              "\n",
              "    .colab-df-convert {\n",
              "      background-color: #E8F0FE;\n",
              "      border: none;\n",
              "      border-radius: 50%;\n",
              "      cursor: pointer;\n",
              "      display: none;\n",
              "      fill: #1967D2;\n",
              "      height: 32px;\n",
              "      padding: 0 0 0 0;\n",
              "      width: 32px;\n",
              "    }\n",
              "\n",
              "    .colab-df-convert:hover {\n",
              "      background-color: #E2EBFA;\n",
              "      box-shadow: 0px 1px 2px rgba(60, 64, 67, 0.3), 0px 1px 3px 1px rgba(60, 64, 67, 0.15);\n",
              "      fill: #174EA6;\n",
              "    }\n",
              "\n",
              "    [theme=dark] .colab-df-convert {\n",
              "      background-color: #3B4455;\n",
              "      fill: #D2E3FC;\n",
              "    }\n",
              "\n",
              "    [theme=dark] .colab-df-convert:hover {\n",
              "      background-color: #434B5C;\n",
              "      box-shadow: 0px 1px 3px 1px rgba(0, 0, 0, 0.15);\n",
              "      filter: drop-shadow(0px 1px 2px rgba(0, 0, 0, 0.3));\n",
              "      fill: #FFFFFF;\n",
              "    }\n",
              "  </style>\n",
              "\n",
              "      <script>\n",
              "        const buttonEl =\n",
              "          document.querySelector('#df-3805d82c-46a4-4a29-ae7b-e12f64f2ddbc button.colab-df-convert');\n",
              "        buttonEl.style.display =\n",
              "          google.colab.kernel.accessAllowed ? 'block' : 'none';\n",
              "\n",
              "        async function convertToInteractive(key) {\n",
              "          const element = document.querySelector('#df-3805d82c-46a4-4a29-ae7b-e12f64f2ddbc');\n",
              "          const dataTable =\n",
              "            await google.colab.kernel.invokeFunction('convertToInteractive',\n",
              "                                                     [key], {});\n",
              "          if (!dataTable) return;\n",
              "\n",
              "          const docLinkHtml = 'Like what you see? Visit the ' +\n",
              "            '<a target=\"_blank\" href=https://colab.research.google.com/notebooks/data_table.ipynb>data table notebook</a>'\n",
              "            + ' to learn more about interactive tables.';\n",
              "          element.innerHTML = '';\n",
              "          dataTable['output_type'] = 'display_data';\n",
              "          await google.colab.output.renderOutput(dataTable, element);\n",
              "          const docLink = document.createElement('div');\n",
              "          docLink.innerHTML = docLinkHtml;\n",
              "          element.appendChild(docLink);\n",
              "        }\n",
              "      </script>\n",
              "    </div>\n",
              "  </div>\n",
              "  "
            ]
          },
          "metadata": {},
          "execution_count": 12
        }
      ]
    },
    {
      "cell_type": "code",
      "source": [
        "icd_code_kerword_df.to_csv(\"icd_10_code_keywords.csv\", index=False)"
      ],
      "metadata": {
        "id": "HqxszJQl5VSx"
      },
      "execution_count": null,
      "outputs": []
    },
    {
      "cell_type": "code",
      "source": [
        "icd_code_kerword_df = pd.read_csv(\"icd_10_code_keywords.csv\")\n",
        "icd_code_kerword_df.head()"
      ],
      "metadata": {
        "id": "srh23ng57YkA",
        "outputId": "e63b6bb0-4196-4724-8998-bde554b07df4",
        "colab": {
          "base_uri": "https://localhost:8080/",
          "height": 206
        }
      },
      "execution_count": null,
      "outputs": [
        {
          "output_type": "execute_result",
          "data": {
            "text/plain": [
              "     Code                                            Keyword\n",
              "0   A00.0  Cholera due to Vibrio cholerae 01, biovar chol...\n",
              "1   A00.1    Cholera due to Vibrio cholerae 01, biovar eltor\n",
              "2   A00.9                               Cholera, unspecified\n",
              "3  A01.00                         Typhoid fever, unspecified\n",
              "4  A01.01                                 Typhoid meningitis"
            ],
            "text/html": [
              "\n",
              "  <div id=\"df-849edd36-9e66-42c6-a6d4-7f6158ac302a\">\n",
              "    <div class=\"colab-df-container\">\n",
              "      <div>\n",
              "<style scoped>\n",
              "    .dataframe tbody tr th:only-of-type {\n",
              "        vertical-align: middle;\n",
              "    }\n",
              "\n",
              "    .dataframe tbody tr th {\n",
              "        vertical-align: top;\n",
              "    }\n",
              "\n",
              "    .dataframe thead th {\n",
              "        text-align: right;\n",
              "    }\n",
              "</style>\n",
              "<table border=\"1\" class=\"dataframe\">\n",
              "  <thead>\n",
              "    <tr style=\"text-align: right;\">\n",
              "      <th></th>\n",
              "      <th>Code</th>\n",
              "      <th>Keyword</th>\n",
              "    </tr>\n",
              "  </thead>\n",
              "  <tbody>\n",
              "    <tr>\n",
              "      <th>0</th>\n",
              "      <td>A00.0</td>\n",
              "      <td>Cholera due to Vibrio cholerae 01, biovar chol...</td>\n",
              "    </tr>\n",
              "    <tr>\n",
              "      <th>1</th>\n",
              "      <td>A00.1</td>\n",
              "      <td>Cholera due to Vibrio cholerae 01, biovar eltor</td>\n",
              "    </tr>\n",
              "    <tr>\n",
              "      <th>2</th>\n",
              "      <td>A00.9</td>\n",
              "      <td>Cholera, unspecified</td>\n",
              "    </tr>\n",
              "    <tr>\n",
              "      <th>3</th>\n",
              "      <td>A01.00</td>\n",
              "      <td>Typhoid fever, unspecified</td>\n",
              "    </tr>\n",
              "    <tr>\n",
              "      <th>4</th>\n",
              "      <td>A01.01</td>\n",
              "      <td>Typhoid meningitis</td>\n",
              "    </tr>\n",
              "  </tbody>\n",
              "</table>\n",
              "</div>\n",
              "      <button class=\"colab-df-convert\" onclick=\"convertToInteractive('df-849edd36-9e66-42c6-a6d4-7f6158ac302a')\"\n",
              "              title=\"Convert this dataframe to an interactive table.\"\n",
              "              style=\"display:none;\">\n",
              "        \n",
              "  <svg xmlns=\"http://www.w3.org/2000/svg\" height=\"24px\"viewBox=\"0 0 24 24\"\n",
              "       width=\"24px\">\n",
              "    <path d=\"M0 0h24v24H0V0z\" fill=\"none\"/>\n",
              "    <path d=\"M18.56 5.44l.94 2.06.94-2.06 2.06-.94-2.06-.94-.94-2.06-.94 2.06-2.06.94zm-11 1L8.5 8.5l.94-2.06 2.06-.94-2.06-.94L8.5 2.5l-.94 2.06-2.06.94zm10 10l.94 2.06.94-2.06 2.06-.94-2.06-.94-.94-2.06-.94 2.06-2.06.94z\"/><path d=\"M17.41 7.96l-1.37-1.37c-.4-.4-.92-.59-1.43-.59-.52 0-1.04.2-1.43.59L10.3 9.45l-7.72 7.72c-.78.78-.78 2.05 0 2.83L4 21.41c.39.39.9.59 1.41.59.51 0 1.02-.2 1.41-.59l7.78-7.78 2.81-2.81c.8-.78.8-2.07 0-2.86zM5.41 20L4 18.59l7.72-7.72 1.47 1.35L5.41 20z\"/>\n",
              "  </svg>\n",
              "      </button>\n",
              "      \n",
              "  <style>\n",
              "    .colab-df-container {\n",
              "      display:flex;\n",
              "      flex-wrap:wrap;\n",
              "      gap: 12px;\n",
              "    }\n",
              "\n",
              "    .colab-df-convert {\n",
              "      background-color: #E8F0FE;\n",
              "      border: none;\n",
              "      border-radius: 50%;\n",
              "      cursor: pointer;\n",
              "      display: none;\n",
              "      fill: #1967D2;\n",
              "      height: 32px;\n",
              "      padding: 0 0 0 0;\n",
              "      width: 32px;\n",
              "    }\n",
              "\n",
              "    .colab-df-convert:hover {\n",
              "      background-color: #E2EBFA;\n",
              "      box-shadow: 0px 1px 2px rgba(60, 64, 67, 0.3), 0px 1px 3px 1px rgba(60, 64, 67, 0.15);\n",
              "      fill: #174EA6;\n",
              "    }\n",
              "\n",
              "    [theme=dark] .colab-df-convert {\n",
              "      background-color: #3B4455;\n",
              "      fill: #D2E3FC;\n",
              "    }\n",
              "\n",
              "    [theme=dark] .colab-df-convert:hover {\n",
              "      background-color: #434B5C;\n",
              "      box-shadow: 0px 1px 3px 1px rgba(0, 0, 0, 0.15);\n",
              "      filter: drop-shadow(0px 1px 2px rgba(0, 0, 0, 0.3));\n",
              "      fill: #FFFFFF;\n",
              "    }\n",
              "  </style>\n",
              "\n",
              "      <script>\n",
              "        const buttonEl =\n",
              "          document.querySelector('#df-849edd36-9e66-42c6-a6d4-7f6158ac302a button.colab-df-convert');\n",
              "        buttonEl.style.display =\n",
              "          google.colab.kernel.accessAllowed ? 'block' : 'none';\n",
              "\n",
              "        async function convertToInteractive(key) {\n",
              "          const element = document.querySelector('#df-849edd36-9e66-42c6-a6d4-7f6158ac302a');\n",
              "          const dataTable =\n",
              "            await google.colab.kernel.invokeFunction('convertToInteractive',\n",
              "                                                     [key], {});\n",
              "          if (!dataTable) return;\n",
              "\n",
              "          const docLinkHtml = 'Like what you see? Visit the ' +\n",
              "            '<a target=\"_blank\" href=https://colab.research.google.com/notebooks/data_table.ipynb>data table notebook</a>'\n",
              "            + ' to learn more about interactive tables.';\n",
              "          element.innerHTML = '';\n",
              "          dataTable['output_type'] = 'display_data';\n",
              "          await google.colab.output.renderOutput(dataTable, element);\n",
              "          const docLink = document.createElement('div');\n",
              "          docLink.innerHTML = docLinkHtml;\n",
              "          element.appendChild(docLink);\n",
              "        }\n",
              "      </script>\n",
              "    </div>\n",
              "  </div>\n",
              "  "
            ]
          },
          "metadata": {},
          "execution_count": 14
        }
      ]
    },
    {
      "cell_type": "markdown",
      "source": [
        "##All Steps Together"
      ],
      "metadata": {
        "id": "E3AMzWcDwfYk"
      }
    },
    {
      "cell_type": "code",
      "source": [
        "# Step-1: spliting pdf file\n",
        "pdf_file_name = \"Redacted_Sample_2.pdf\"\n",
        "pdf_list = split_pdf(pdf_file_name)\n",
        "\n",
        "# Step-2: Extracting text from pdf\n",
        "txt_list = extract_text_from_pdf(pdf_list)"
      ],
      "metadata": {
        "id": "DMQjPBMmmg6L"
      },
      "execution_count": 11,
      "outputs": []
    },
    {
      "cell_type": "code",
      "source": [
        "nlp = English()\n",
        "# Step-3: loading and updating patterns to Spacy\n",
        "nlp.add_pipe(\"entity_ruler\").from_disk(\"./icd10_code_patterns.jsonl\")"
      ],
      "metadata": {
        "colab": {
          "base_uri": "https://localhost:8080/"
        },
        "id": "6YIqjoZJFuN_",
        "outputId": "5d6d1749-ce09-42ae-e145-db4eddec3448"
      },
      "execution_count": 12,
      "outputs": [
        {
          "output_type": "execute_result",
          "data": {
            "text/plain": [
              "<spacy.pipeline.entityruler.EntityRuler at 0x7f40cf95b370>"
            ]
          },
          "metadata": {},
          "execution_count": 12
        }
      ]
    },
    {
      "cell_type": "code",
      "source": [
        "# Step-4: Searching ICD-10 code\n",
        "page_code_dict = search_icd_10_code(txt_list)"
      ],
      "metadata": {
        "id": "kesXasexFyTK"
      },
      "execution_count": 13,
      "outputs": []
    },
    {
      "cell_type": "code",
      "source": [
        "# Step-5: Creating ICD-10 keyword pattern\n",
        "nlp = spacy.load('en_core_web_sm')\n",
        "icd_code_kerword_df = pd.read_csv(\"icd_10_code_keywords.csv\")\n",
        "phrase_matcher = make_icd_10_keyword_pattern(icd_code_kerword_df)"
      ],
      "metadata": {
        "id": "04ubQxu5H-af"
      },
      "execution_count": 15,
      "outputs": []
    },
    {
      "cell_type": "code",
      "source": [
        "# Step-6: Searching ICD-10 keyword\n",
        "page_keyword_dict = search_icd_10_keyword(txt_list, phrase_matcher)"
      ],
      "metadata": {
        "colab": {
          "base_uri": "https://localhost:8080/"
        },
        "id": "pwcPyMofGq_C",
        "outputId": "200b867a-ae27-4ed0-df84-7f2c6054312e"
      },
      "execution_count": 16,
      "outputs": [
        {
          "output_type": "stream",
          "name": "stdout",
          "text": [
            "Page[page-0.txt]: ['Aphasia', 'Palpitations']\n",
            "Page[page-3.txt]: ['Palpitations', 'Palpitations', 'palpitations', 'Palpitations', 'Palpitations', 'Palpitations', 'Palpitations']\n",
            "Page[page-4.txt]: ['Aphasia', 'Overweight', 'Lower Abdominal Pain, Unspecified', 'Pain, Unspecified', 'Cervicogenic Headache', 'Tobacco Use']\n",
            "Page[page-6.txt]: ['Aphasia', 'Aphasia', 'Aphasia', 'Aphasia', 'Occipital Neuralgia', 'Multiple Sclerosis']\n",
            "Page[page-11.txt]: ['Aphasia', 'Aphasia', 'Aphasia', 'Aphasia']\n",
            "Page[page-12.txt]: ['Actinic Keratosis']\n",
            "Page[page-16.txt]: ['cyanosis']\n",
            "Page[page-18.txt]: ['weakness']\n",
            "Page[page-19.txt]: ['Migraine with aura, not intractable, without status migrainosus']\n",
            "Page[page-24.txt]: ['Cervicogenic headache']\n",
            "Page[page-26.txt]: ['cyanosis']\n",
            "Page[page-28.txt]: ['right lower quadrant pain']\n",
            "Page[page-34.txt]: ['palpitations', 'orthopnea', 'chronic cough', 'wheezing', 'anorexia', 'heartburn', 'hematemesis', 'melena', 'nausea', 'aphasia', 'weakness', 'polyphagia']\n",
            "Page[page-35.txt]: ['Tobacco Use']\n",
            "Page[page-36.txt]: ['cyanosis']\n",
            "Page[page-37.txt]: ['Migraine with aura, not intractable, without status migrainosus', 'Palpitations', 'lower abdominal pain, unspecified', 'pain, unspecified', 'lipomatosis, not elsewhere classified', 'overweight', 'overweight']\n",
            "Page[page-38.txt]: ['palpitations']\n",
            "Page[page-39.txt]: ['Migraine with aura, not intractable, without status migrainosus', 'Decreased white blood cell count, unspecified', 'Palpitations', 'Lower abdominal pain, unspecified', 'pain, unspecified', 'Lipomatosis, not elsewhere classified']\n",
            "Page[page-40.txt]: ['epistaxis', 'nasal congestion', 'palpitations', 'orthopnea', 'chronic cough', 'hemoptysis', 'wheezing', 'anorexia', 'heartburn', 'hematemesis', 'melena', 'nausea', 'dysuria', 'nocturia', 'aphasia', 'weakness', 'polydipsia', 'polyphagia']\n",
            "Page[page-42.txt]: ['Migraine with aura, not intractable, without status migrainosus', 'Decreased white blood cell count, unspecified', 'Palpitations', 'Migraine with aura, not intractable, without status migrainosus', 'Decreased white blood cell count, unspecified', 'Palpitations']\n",
            "Page[page-51.txt]: ['weakness']\n",
            "Page[page-59.txt]: ['Occipital Neuralgia']\n",
            "Page[page-60.txt]: ['aphasia', 'aphasia']\n",
            "Page[page-62.txt]: ['aphasia', 'cervicalgia']\n",
            "Page[page-65.txt]: ['weakness', 'sneezing']\n",
            "Page[page-68.txt]: ['weakness']\n",
            "Page[page-79.txt]: ['epistaxis', 'nasal congestion', 'palpitations', 'orthopnea', 'chronic cough', 'hemoptysis', 'wheezing', 'anorexia', 'heartburn', 'hematemesis', 'melena', 'nausea', 'dysuria', 'nocturia', 'aphasia', 'weakness', 'polydipsia', 'polyphagia', 'Palpitations']\n",
            "Page[page-81.txt]: ['cyanosis']\n",
            "Page[page-82.txt]: ['Palpitations', 'Dermatitis, unspecified']\n",
            "Page[page-84.txt]: ['Palpitations', 'palpitations', 'Dermatitis, unspecified', 'Encounter for general adult medical examination without abnormal findings', 'Migraine with aura, not intractable, without status migrainosus']\n",
            "Page[page-85.txt]: ['Palpitations', 'Palpitations', 'Dermatitis, unspecified', 'Unspecified contact dermatitis, unspecified cause', 'dermatitis, unspecified', 'Decreased white blood cell count, unspecified']\n",
            "Page[page-92.txt]: ['worries']\n",
            "Page[page-99.txt]: ['epistaxis', 'nasal congestion', 'palpitations', 'palpitations', 'orthopnea', 'chronic cough', 'hemoptysis', 'wheezing', 'anorexia', 'heartburn', 'hematemesis', 'melena', 'nausea', 'dysuria', 'nocturia', 'aphasia', 'polydipsia', 'polyphagia', 'Palpitations']\n",
            "Page[page-100.txt]: ['Tobacco Use']\n",
            "Page[page-101.txt]: ['cyanosis']\n",
            "Page[page-102.txt]: ['Palpitations', 'Dermatitis, unspecified']\n",
            "Page[page-104.txt]: ['Palpitations', 'palpitations', 'palpitations', 'palpitations', 'Dermatitis, unspecified']\n",
            "Page[page-105.txt]: ['Encounter for general adult medical examination without abnormal findings', 'Encounter for other general examination', 'Migraine with aura, not intractable, without status migrainosus', 'Palpitations', 'Palpitations', 'Dermatitis, unspecified', 'Unspecified contact dermatitis, unspecified cause', 'dermatitis, unspecified', 'Encounter for general adult medical examination without abnormal findings']\n",
            "Page[page-107.txt]: ['aphasia']\n",
            "Page[page-116.txt]: ['antiphospholipid syndrome']\n"
          ]
        }
      ]
    },
    {
      "cell_type": "code",
      "source": [
        "# Step-7: Highlighting ICD-10 code and keyword into pdf\n",
        "output_file_name = highlight_icd10_code_and_keyword(page_code_dict, page_keyword_dict, pdf_file_name)\n",
        "print(f\"File[{output_file_name}] is saved after highlighting ICD-10 code and keyword\")"
      ],
      "metadata": {
        "colab": {
          "base_uri": "https://localhost:8080/"
        },
        "id": "opP1NnZjG5c9",
        "outputId": "75c792d4-59f4-40ec-cb93-13b40d262f31"
      },
      "execution_count": 17,
      "outputs": [
        {
          "output_type": "stream",
          "name": "stdout",
          "text": [
            "Page-0:  Aphasia [Rect(31.346466064453125, 409.7332458496094, 60.250465393066406, 420.7252502441406)]\n",
            "Page-0:  Palpitations [Rect(31.346466064453125, 653.5383911132812, 72.37847900390625, 664.5303955078125)]\n",
            "Page-3:  Palpitations [Rect(142.4079132080078, 439.5684814453125, 183.43992614746094, 450.56048583984375), Rect(209.11190795898438, 439.5684814453125, 250.14390563964844, 450.56048583984375), Rect(255.0319061279297, 439.5684814453125, 295.49591064453125, 450.56048583984375), Rect(142.4079132080078, 464.7684631347656, 183.43992614746094, 475.7604675292969), Rect(142.4079132080078, 478.4684753417969, 183.43992614746094, 489.4604797363281), Rect(142.4079132080078, 492.1684875488281, 183.43992614746094, 503.1604919433594), Rect(142.4079132080078, 519.5684204101562, 183.43992614746094, 530.5604248046875)]\n",
            "Page-3:  Palpitations [Rect(142.4079132080078, 439.5684814453125, 183.43992614746094, 450.56048583984375), Rect(209.11190795898438, 439.5684814453125, 250.14390563964844, 450.56048583984375), Rect(255.0319061279297, 439.5684814453125, 295.49591064453125, 450.56048583984375), Rect(142.4079132080078, 464.7684631347656, 183.43992614746094, 475.7604675292969), Rect(142.4079132080078, 478.4684753417969, 183.43992614746094, 489.4604797363281), Rect(142.4079132080078, 492.1684875488281, 183.43992614746094, 503.1604919433594), Rect(142.4079132080078, 519.5684204101562, 183.43992614746094, 530.5604248046875)]\n",
            "Page-3:  Palpitations [Rect(142.4079132080078, 439.5684814453125, 183.43992614746094, 450.56048583984375), Rect(209.11190795898438, 439.5684814453125, 250.14390563964844, 450.56048583984375), Rect(255.0319061279297, 439.5684814453125, 295.49591064453125, 450.56048583984375), Rect(142.4079132080078, 464.7684631347656, 183.43992614746094, 475.7604675292969), Rect(142.4079132080078, 478.4684753417969, 183.43992614746094, 489.4604797363281), Rect(142.4079132080078, 492.1684875488281, 183.43992614746094, 503.1604919433594), Rect(142.4079132080078, 519.5684204101562, 183.43992614746094, 530.5604248046875)]\n",
            "Page-3:  Palpitations [Rect(142.4079132080078, 439.5684814453125, 183.43992614746094, 450.56048583984375), Rect(209.11190795898438, 439.5684814453125, 250.14390563964844, 450.56048583984375), Rect(255.0319061279297, 439.5684814453125, 295.49591064453125, 450.56048583984375), Rect(142.4079132080078, 464.7684631347656, 183.43992614746094, 475.7604675292969), Rect(142.4079132080078, 478.4684753417969, 183.43992614746094, 489.4604797363281), Rect(142.4079132080078, 492.1684875488281, 183.43992614746094, 503.1604919433594), Rect(142.4079132080078, 519.5684204101562, 183.43992614746094, 530.5604248046875)]\n",
            "Page-3:  Palpitations [Rect(142.4079132080078, 439.5684814453125, 183.43992614746094, 450.56048583984375), Rect(209.11190795898438, 439.5684814453125, 250.14390563964844, 450.56048583984375), Rect(255.0319061279297, 439.5684814453125, 295.49591064453125, 450.56048583984375), Rect(142.4079132080078, 464.7684631347656, 183.43992614746094, 475.7604675292969), Rect(142.4079132080078, 478.4684753417969, 183.43992614746094, 489.4604797363281), Rect(142.4079132080078, 492.1684875488281, 183.43992614746094, 503.1604919433594), Rect(142.4079132080078, 519.5684204101562, 183.43992614746094, 530.5604248046875)]\n",
            "Page-3:  Palpitations [Rect(142.4079132080078, 439.5684814453125, 183.43992614746094, 450.56048583984375), Rect(209.11190795898438, 439.5684814453125, 250.14390563964844, 450.56048583984375), Rect(255.0319061279297, 439.5684814453125, 295.49591064453125, 450.56048583984375), Rect(142.4079132080078, 464.7684631347656, 183.43992614746094, 475.7604675292969), Rect(142.4079132080078, 478.4684753417969, 183.43992614746094, 489.4604797363281), Rect(142.4079132080078, 492.1684875488281, 183.43992614746094, 503.1604919433594), Rect(142.4079132080078, 519.5684204101562, 183.43992614746094, 530.5604248046875)]\n",
            "Page-3:  Palpitations [Rect(142.4079132080078, 439.5684814453125, 183.43992614746094, 450.56048583984375), Rect(209.11190795898438, 439.5684814453125, 250.14390563964844, 450.56048583984375), Rect(255.0319061279297, 439.5684814453125, 295.49591064453125, 450.56048583984375), Rect(142.4079132080078, 464.7684631347656, 183.43992614746094, 475.7604675292969), Rect(142.4079132080078, 478.4684753417969, 183.43992614746094, 489.4604797363281), Rect(142.4079132080078, 492.1684875488281, 183.43992614746094, 503.1604919433594), Rect(142.4079132080078, 519.5684204101562, 183.43992614746094, 530.5604248046875)]\n",
            "Page-3:  Palpitations [Rect(142.4079132080078, 439.5684814453125, 183.43992614746094, 450.56048583984375), Rect(209.11190795898438, 439.5684814453125, 250.14390563964844, 450.56048583984375), Rect(255.0319061279297, 439.5684814453125, 295.49591064453125, 450.56048583984375), Rect(142.4079132080078, 464.7684631347656, 183.43992614746094, 475.7604675292969), Rect(142.4079132080078, 478.4684753417969, 183.43992614746094, 489.4604797363281), Rect(142.4079132080078, 492.1684875488281, 183.43992614746094, 503.1604919433594), Rect(142.4079132080078, 519.5684204101562, 183.43992614746094, 530.5604248046875)]\n",
            "Page-3:  Palpitations [Rect(142.4079132080078, 439.5684814453125, 183.43992614746094, 450.56048583984375), Rect(209.11190795898438, 439.5684814453125, 250.14390563964844, 450.56048583984375), Rect(255.0319061279297, 439.5684814453125, 295.49591064453125, 450.56048583984375), Rect(142.4079132080078, 464.7684631347656, 183.43992614746094, 475.7604675292969), Rect(142.4079132080078, 478.4684753417969, 183.43992614746094, 489.4604797363281), Rect(142.4079132080078, 492.1684875488281, 183.43992614746094, 503.1604919433594), Rect(142.4079132080078, 519.5684204101562, 183.43992614746094, 530.5604248046875)]\n",
            "Page-3:  Palpitations [Rect(142.4079132080078, 439.5684814453125, 183.43992614746094, 450.56048583984375), Rect(209.11190795898438, 439.5684814453125, 250.14390563964844, 450.56048583984375), Rect(255.0319061279297, 439.5684814453125, 295.49591064453125, 450.56048583984375), Rect(142.4079132080078, 464.7684631347656, 183.43992614746094, 475.7604675292969), Rect(142.4079132080078, 478.4684753417969, 183.43992614746094, 489.4604797363281), Rect(142.4079132080078, 492.1684875488281, 183.43992614746094, 503.1604919433594), Rect(142.4079132080078, 519.5684204101562, 183.43992614746094, 530.5604248046875)]\n",
            "Page-3:  Palpitations [Rect(142.4079132080078, 439.5684814453125, 183.43992614746094, 450.56048583984375), Rect(209.11190795898438, 439.5684814453125, 250.14390563964844, 450.56048583984375), Rect(255.0319061279297, 439.5684814453125, 295.49591064453125, 450.56048583984375), Rect(142.4079132080078, 464.7684631347656, 183.43992614746094, 475.7604675292969), Rect(142.4079132080078, 478.4684753417969, 183.43992614746094, 489.4604797363281), Rect(142.4079132080078, 492.1684875488281, 183.43992614746094, 503.1604919433594), Rect(142.4079132080078, 519.5684204101562, 183.43992614746094, 530.5604248046875)]\n",
            "Page-3:  Palpitations [Rect(142.4079132080078, 439.5684814453125, 183.43992614746094, 450.56048583984375), Rect(209.11190795898438, 439.5684814453125, 250.14390563964844, 450.56048583984375), Rect(255.0319061279297, 439.5684814453125, 295.49591064453125, 450.56048583984375), Rect(142.4079132080078, 464.7684631347656, 183.43992614746094, 475.7604675292969), Rect(142.4079132080078, 478.4684753417969, 183.43992614746094, 489.4604797363281), Rect(142.4079132080078, 492.1684875488281, 183.43992614746094, 503.1604919433594), Rect(142.4079132080078, 519.5684204101562, 183.43992614746094, 530.5604248046875)]\n",
            "Page-3:  Palpitations [Rect(142.4079132080078, 439.5684814453125, 183.43992614746094, 450.56048583984375), Rect(209.11190795898438, 439.5684814453125, 250.14390563964844, 450.56048583984375), Rect(255.0319061279297, 439.5684814453125, 295.49591064453125, 450.56048583984375), Rect(142.4079132080078, 464.7684631347656, 183.43992614746094, 475.7604675292969), Rect(142.4079132080078, 478.4684753417969, 183.43992614746094, 489.4604797363281), Rect(142.4079132080078, 492.1684875488281, 183.43992614746094, 503.1604919433594), Rect(142.4079132080078, 519.5684204101562, 183.43992614746094, 530.5604248046875)]\n",
            "Page-3:  Palpitations [Rect(142.4079132080078, 439.5684814453125, 183.43992614746094, 450.56048583984375), Rect(209.11190795898438, 439.5684814453125, 250.14390563964844, 450.56048583984375), Rect(255.0319061279297, 439.5684814453125, 295.49591064453125, 450.56048583984375), Rect(142.4079132080078, 464.7684631347656, 183.43992614746094, 475.7604675292969), Rect(142.4079132080078, 478.4684753417969, 183.43992614746094, 489.4604797363281), Rect(142.4079132080078, 492.1684875488281, 183.43992614746094, 503.1604919433594), Rect(142.4079132080078, 519.5684204101562, 183.43992614746094, 530.5604248046875)]\n",
            "Page-3:  palpitations [Rect(142.4079132080078, 439.5684814453125, 183.43992614746094, 450.56048583984375), Rect(209.11190795898438, 439.5684814453125, 250.14390563964844, 450.56048583984375), Rect(255.0319061279297, 439.5684814453125, 295.49591064453125, 450.56048583984375), Rect(142.4079132080078, 464.7684631347656, 183.43992614746094, 475.7604675292969), Rect(142.4079132080078, 478.4684753417969, 183.43992614746094, 489.4604797363281), Rect(142.4079132080078, 492.1684875488281, 183.43992614746094, 503.1604919433594), Rect(142.4079132080078, 519.5684204101562, 183.43992614746094, 530.5604248046875)]\n",
            "Page-3:  palpitations [Rect(142.4079132080078, 439.5684814453125, 183.43992614746094, 450.56048583984375), Rect(209.11190795898438, 439.5684814453125, 250.14390563964844, 450.56048583984375), Rect(255.0319061279297, 439.5684814453125, 295.49591064453125, 450.56048583984375), Rect(142.4079132080078, 464.7684631347656, 183.43992614746094, 475.7604675292969), Rect(142.4079132080078, 478.4684753417969, 183.43992614746094, 489.4604797363281), Rect(142.4079132080078, 492.1684875488281, 183.43992614746094, 503.1604919433594), Rect(142.4079132080078, 519.5684204101562, 183.43992614746094, 530.5604248046875)]\n",
            "Page-3:  palpitations [Rect(142.4079132080078, 439.5684814453125, 183.43992614746094, 450.56048583984375), Rect(209.11190795898438, 439.5684814453125, 250.14390563964844, 450.56048583984375), Rect(255.0319061279297, 439.5684814453125, 295.49591064453125, 450.56048583984375), Rect(142.4079132080078, 464.7684631347656, 183.43992614746094, 475.7604675292969), Rect(142.4079132080078, 478.4684753417969, 183.43992614746094, 489.4604797363281), Rect(142.4079132080078, 492.1684875488281, 183.43992614746094, 503.1604919433594), Rect(142.4079132080078, 519.5684204101562, 183.43992614746094, 530.5604248046875)]\n",
            "Page-3:  palpitations [Rect(142.4079132080078, 439.5684814453125, 183.43992614746094, 450.56048583984375), Rect(209.11190795898438, 439.5684814453125, 250.14390563964844, 450.56048583984375), Rect(255.0319061279297, 439.5684814453125, 295.49591064453125, 450.56048583984375), Rect(142.4079132080078, 464.7684631347656, 183.43992614746094, 475.7604675292969), Rect(142.4079132080078, 478.4684753417969, 183.43992614746094, 489.4604797363281), Rect(142.4079132080078, 492.1684875488281, 183.43992614746094, 503.1604919433594), Rect(142.4079132080078, 519.5684204101562, 183.43992614746094, 530.5604248046875)]\n",
            "Page-3:  palpitations [Rect(142.4079132080078, 439.5684814453125, 183.43992614746094, 450.56048583984375), Rect(209.11190795898438, 439.5684814453125, 250.14390563964844, 450.56048583984375), Rect(255.0319061279297, 439.5684814453125, 295.49591064453125, 450.56048583984375), Rect(142.4079132080078, 464.7684631347656, 183.43992614746094, 475.7604675292969), Rect(142.4079132080078, 478.4684753417969, 183.43992614746094, 489.4604797363281), Rect(142.4079132080078, 492.1684875488281, 183.43992614746094, 503.1604919433594), Rect(142.4079132080078, 519.5684204101562, 183.43992614746094, 530.5604248046875)]\n",
            "Page-3:  palpitations [Rect(142.4079132080078, 439.5684814453125, 183.43992614746094, 450.56048583984375), Rect(209.11190795898438, 439.5684814453125, 250.14390563964844, 450.56048583984375), Rect(255.0319061279297, 439.5684814453125, 295.49591064453125, 450.56048583984375), Rect(142.4079132080078, 464.7684631347656, 183.43992614746094, 475.7604675292969), Rect(142.4079132080078, 478.4684753417969, 183.43992614746094, 489.4604797363281), Rect(142.4079132080078, 492.1684875488281, 183.43992614746094, 503.1604919433594), Rect(142.4079132080078, 519.5684204101562, 183.43992614746094, 530.5604248046875)]\n",
            "Page-3:  palpitations [Rect(142.4079132080078, 439.5684814453125, 183.43992614746094, 450.56048583984375), Rect(209.11190795898438, 439.5684814453125, 250.14390563964844, 450.56048583984375), Rect(255.0319061279297, 439.5684814453125, 295.49591064453125, 450.56048583984375), Rect(142.4079132080078, 464.7684631347656, 183.43992614746094, 475.7604675292969), Rect(142.4079132080078, 478.4684753417969, 183.43992614746094, 489.4604797363281), Rect(142.4079132080078, 492.1684875488281, 183.43992614746094, 503.1604919433594), Rect(142.4079132080078, 519.5684204101562, 183.43992614746094, 530.5604248046875)]\n",
            "Page-3:  Palpitations [Rect(142.4079132080078, 439.5684814453125, 183.43992614746094, 450.56048583984375), Rect(209.11190795898438, 439.5684814453125, 250.14390563964844, 450.56048583984375), Rect(255.0319061279297, 439.5684814453125, 295.49591064453125, 450.56048583984375), Rect(142.4079132080078, 464.7684631347656, 183.43992614746094, 475.7604675292969), Rect(142.4079132080078, 478.4684753417969, 183.43992614746094, 489.4604797363281), Rect(142.4079132080078, 492.1684875488281, 183.43992614746094, 503.1604919433594), Rect(142.4079132080078, 519.5684204101562, 183.43992614746094, 530.5604248046875)]\n",
            "Page-3:  Palpitations [Rect(142.4079132080078, 439.5684814453125, 183.43992614746094, 450.56048583984375), Rect(209.11190795898438, 439.5684814453125, 250.14390563964844, 450.56048583984375), Rect(255.0319061279297, 439.5684814453125, 295.49591064453125, 450.56048583984375), Rect(142.4079132080078, 464.7684631347656, 183.43992614746094, 475.7604675292969), Rect(142.4079132080078, 478.4684753417969, 183.43992614746094, 489.4604797363281), Rect(142.4079132080078, 492.1684875488281, 183.43992614746094, 503.1604919433594), Rect(142.4079132080078, 519.5684204101562, 183.43992614746094, 530.5604248046875)]\n",
            "Page-3:  Palpitations [Rect(142.4079132080078, 439.5684814453125, 183.43992614746094, 450.56048583984375), Rect(209.11190795898438, 439.5684814453125, 250.14390563964844, 450.56048583984375), Rect(255.0319061279297, 439.5684814453125, 295.49591064453125, 450.56048583984375), Rect(142.4079132080078, 464.7684631347656, 183.43992614746094, 475.7604675292969), Rect(142.4079132080078, 478.4684753417969, 183.43992614746094, 489.4604797363281), Rect(142.4079132080078, 492.1684875488281, 183.43992614746094, 503.1604919433594), Rect(142.4079132080078, 519.5684204101562, 183.43992614746094, 530.5604248046875)]\n",
            "Page-3:  Palpitations [Rect(142.4079132080078, 439.5684814453125, 183.43992614746094, 450.56048583984375), Rect(209.11190795898438, 439.5684814453125, 250.14390563964844, 450.56048583984375), Rect(255.0319061279297, 439.5684814453125, 295.49591064453125, 450.56048583984375), Rect(142.4079132080078, 464.7684631347656, 183.43992614746094, 475.7604675292969), Rect(142.4079132080078, 478.4684753417969, 183.43992614746094, 489.4604797363281), Rect(142.4079132080078, 492.1684875488281, 183.43992614746094, 503.1604919433594), Rect(142.4079132080078, 519.5684204101562, 183.43992614746094, 530.5604248046875)]\n",
            "Page-3:  Palpitations [Rect(142.4079132080078, 439.5684814453125, 183.43992614746094, 450.56048583984375), Rect(209.11190795898438, 439.5684814453125, 250.14390563964844, 450.56048583984375), Rect(255.0319061279297, 439.5684814453125, 295.49591064453125, 450.56048583984375), Rect(142.4079132080078, 464.7684631347656, 183.43992614746094, 475.7604675292969), Rect(142.4079132080078, 478.4684753417969, 183.43992614746094, 489.4604797363281), Rect(142.4079132080078, 492.1684875488281, 183.43992614746094, 503.1604919433594), Rect(142.4079132080078, 519.5684204101562, 183.43992614746094, 530.5604248046875)]\n",
            "Page-3:  Palpitations [Rect(142.4079132080078, 439.5684814453125, 183.43992614746094, 450.56048583984375), Rect(209.11190795898438, 439.5684814453125, 250.14390563964844, 450.56048583984375), Rect(255.0319061279297, 439.5684814453125, 295.49591064453125, 450.56048583984375), Rect(142.4079132080078, 464.7684631347656, 183.43992614746094, 475.7604675292969), Rect(142.4079132080078, 478.4684753417969, 183.43992614746094, 489.4604797363281), Rect(142.4079132080078, 492.1684875488281, 183.43992614746094, 503.1604919433594), Rect(142.4079132080078, 519.5684204101562, 183.43992614746094, 530.5604248046875)]\n",
            "Page-3:  Palpitations [Rect(142.4079132080078, 439.5684814453125, 183.43992614746094, 450.56048583984375), Rect(209.11190795898438, 439.5684814453125, 250.14390563964844, 450.56048583984375), Rect(255.0319061279297, 439.5684814453125, 295.49591064453125, 450.56048583984375), Rect(142.4079132080078, 464.7684631347656, 183.43992614746094, 475.7604675292969), Rect(142.4079132080078, 478.4684753417969, 183.43992614746094, 489.4604797363281), Rect(142.4079132080078, 492.1684875488281, 183.43992614746094, 503.1604919433594), Rect(142.4079132080078, 519.5684204101562, 183.43992614746094, 530.5604248046875)]\n",
            "Page-3:  Palpitations [Rect(142.4079132080078, 439.5684814453125, 183.43992614746094, 450.56048583984375), Rect(209.11190795898438, 439.5684814453125, 250.14390563964844, 450.56048583984375), Rect(255.0319061279297, 439.5684814453125, 295.49591064453125, 450.56048583984375), Rect(142.4079132080078, 464.7684631347656, 183.43992614746094, 475.7604675292969), Rect(142.4079132080078, 478.4684753417969, 183.43992614746094, 489.4604797363281), Rect(142.4079132080078, 492.1684875488281, 183.43992614746094, 503.1604919433594), Rect(142.4079132080078, 519.5684204101562, 183.43992614746094, 530.5604248046875)]\n",
            "Page-3:  Palpitations [Rect(142.4079132080078, 439.5684814453125, 183.43992614746094, 450.56048583984375), Rect(209.11190795898438, 439.5684814453125, 250.14390563964844, 450.56048583984375), Rect(255.0319061279297, 439.5684814453125, 295.49591064453125, 450.56048583984375), Rect(142.4079132080078, 464.7684631347656, 183.43992614746094, 475.7604675292969), Rect(142.4079132080078, 478.4684753417969, 183.43992614746094, 489.4604797363281), Rect(142.4079132080078, 492.1684875488281, 183.43992614746094, 503.1604919433594), Rect(142.4079132080078, 519.5684204101562, 183.43992614746094, 530.5604248046875)]\n",
            "Page-3:  Palpitations [Rect(142.4079132080078, 439.5684814453125, 183.43992614746094, 450.56048583984375), Rect(209.11190795898438, 439.5684814453125, 250.14390563964844, 450.56048583984375), Rect(255.0319061279297, 439.5684814453125, 295.49591064453125, 450.56048583984375), Rect(142.4079132080078, 464.7684631347656, 183.43992614746094, 475.7604675292969), Rect(142.4079132080078, 478.4684753417969, 183.43992614746094, 489.4604797363281), Rect(142.4079132080078, 492.1684875488281, 183.43992614746094, 503.1604919433594), Rect(142.4079132080078, 519.5684204101562, 183.43992614746094, 530.5604248046875)]\n",
            "Page-3:  Palpitations [Rect(142.4079132080078, 439.5684814453125, 183.43992614746094, 450.56048583984375), Rect(209.11190795898438, 439.5684814453125, 250.14390563964844, 450.56048583984375), Rect(255.0319061279297, 439.5684814453125, 295.49591064453125, 450.56048583984375), Rect(142.4079132080078, 464.7684631347656, 183.43992614746094, 475.7604675292969), Rect(142.4079132080078, 478.4684753417969, 183.43992614746094, 489.4604797363281), Rect(142.4079132080078, 492.1684875488281, 183.43992614746094, 503.1604919433594), Rect(142.4079132080078, 519.5684204101562, 183.43992614746094, 530.5604248046875)]\n",
            "Page-3:  Palpitations [Rect(142.4079132080078, 439.5684814453125, 183.43992614746094, 450.56048583984375), Rect(209.11190795898438, 439.5684814453125, 250.14390563964844, 450.56048583984375), Rect(255.0319061279297, 439.5684814453125, 295.49591064453125, 450.56048583984375), Rect(142.4079132080078, 464.7684631347656, 183.43992614746094, 475.7604675292969), Rect(142.4079132080078, 478.4684753417969, 183.43992614746094, 489.4604797363281), Rect(142.4079132080078, 492.1684875488281, 183.43992614746094, 503.1604919433594), Rect(142.4079132080078, 519.5684204101562, 183.43992614746094, 530.5604248046875)]\n",
            "Page-3:  Palpitations [Rect(142.4079132080078, 439.5684814453125, 183.43992614746094, 450.56048583984375), Rect(209.11190795898438, 439.5684814453125, 250.14390563964844, 450.56048583984375), Rect(255.0319061279297, 439.5684814453125, 295.49591064453125, 450.56048583984375), Rect(142.4079132080078, 464.7684631347656, 183.43992614746094, 475.7604675292969), Rect(142.4079132080078, 478.4684753417969, 183.43992614746094, 489.4604797363281), Rect(142.4079132080078, 492.1684875488281, 183.43992614746094, 503.1604919433594), Rect(142.4079132080078, 519.5684204101562, 183.43992614746094, 530.5604248046875)]\n",
            "Page-3:  Palpitations [Rect(142.4079132080078, 439.5684814453125, 183.43992614746094, 450.56048583984375), Rect(209.11190795898438, 439.5684814453125, 250.14390563964844, 450.56048583984375), Rect(255.0319061279297, 439.5684814453125, 295.49591064453125, 450.56048583984375), Rect(142.4079132080078, 464.7684631347656, 183.43992614746094, 475.7604675292969), Rect(142.4079132080078, 478.4684753417969, 183.43992614746094, 489.4604797363281), Rect(142.4079132080078, 492.1684875488281, 183.43992614746094, 503.1604919433594), Rect(142.4079132080078, 519.5684204101562, 183.43992614746094, 530.5604248046875)]\n",
            "Page-3:  Palpitations [Rect(142.4079132080078, 439.5684814453125, 183.43992614746094, 450.56048583984375), Rect(209.11190795898438, 439.5684814453125, 250.14390563964844, 450.56048583984375), Rect(255.0319061279297, 439.5684814453125, 295.49591064453125, 450.56048583984375), Rect(142.4079132080078, 464.7684631347656, 183.43992614746094, 475.7604675292969), Rect(142.4079132080078, 478.4684753417969, 183.43992614746094, 489.4604797363281), Rect(142.4079132080078, 492.1684875488281, 183.43992614746094, 503.1604919433594), Rect(142.4079132080078, 519.5684204101562, 183.43992614746094, 530.5604248046875)]\n",
            "Page-3:  Palpitations [Rect(142.4079132080078, 439.5684814453125, 183.43992614746094, 450.56048583984375), Rect(209.11190795898438, 439.5684814453125, 250.14390563964844, 450.56048583984375), Rect(255.0319061279297, 439.5684814453125, 295.49591064453125, 450.56048583984375), Rect(142.4079132080078, 464.7684631347656, 183.43992614746094, 475.7604675292969), Rect(142.4079132080078, 478.4684753417969, 183.43992614746094, 489.4604797363281), Rect(142.4079132080078, 492.1684875488281, 183.43992614746094, 503.1604919433594), Rect(142.4079132080078, 519.5684204101562, 183.43992614746094, 530.5604248046875)]\n",
            "Page-3:  Palpitations [Rect(142.4079132080078, 439.5684814453125, 183.43992614746094, 450.56048583984375), Rect(209.11190795898438, 439.5684814453125, 250.14390563964844, 450.56048583984375), Rect(255.0319061279297, 439.5684814453125, 295.49591064453125, 450.56048583984375), Rect(142.4079132080078, 464.7684631347656, 183.43992614746094, 475.7604675292969), Rect(142.4079132080078, 478.4684753417969, 183.43992614746094, 489.4604797363281), Rect(142.4079132080078, 492.1684875488281, 183.43992614746094, 503.1604919433594), Rect(142.4079132080078, 519.5684204101562, 183.43992614746094, 530.5604248046875)]\n",
            "Page-3:  Palpitations [Rect(142.4079132080078, 439.5684814453125, 183.43992614746094, 450.56048583984375), Rect(209.11190795898438, 439.5684814453125, 250.14390563964844, 450.56048583984375), Rect(255.0319061279297, 439.5684814453125, 295.49591064453125, 450.56048583984375), Rect(142.4079132080078, 464.7684631347656, 183.43992614746094, 475.7604675292969), Rect(142.4079132080078, 478.4684753417969, 183.43992614746094, 489.4604797363281), Rect(142.4079132080078, 492.1684875488281, 183.43992614746094, 503.1604919433594), Rect(142.4079132080078, 519.5684204101562, 183.43992614746094, 530.5604248046875)]\n",
            "Page-3:  Palpitations [Rect(142.4079132080078, 439.5684814453125, 183.43992614746094, 450.56048583984375), Rect(209.11190795898438, 439.5684814453125, 250.14390563964844, 450.56048583984375), Rect(255.0319061279297, 439.5684814453125, 295.49591064453125, 450.56048583984375), Rect(142.4079132080078, 464.7684631347656, 183.43992614746094, 475.7604675292969), Rect(142.4079132080078, 478.4684753417969, 183.43992614746094, 489.4604797363281), Rect(142.4079132080078, 492.1684875488281, 183.43992614746094, 503.1604919433594), Rect(142.4079132080078, 519.5684204101562, 183.43992614746094, 530.5604248046875)]\n",
            "Page-3:  Palpitations [Rect(142.4079132080078, 439.5684814453125, 183.43992614746094, 450.56048583984375), Rect(209.11190795898438, 439.5684814453125, 250.14390563964844, 450.56048583984375), Rect(255.0319061279297, 439.5684814453125, 295.49591064453125, 450.56048583984375), Rect(142.4079132080078, 464.7684631347656, 183.43992614746094, 475.7604675292969), Rect(142.4079132080078, 478.4684753417969, 183.43992614746094, 489.4604797363281), Rect(142.4079132080078, 492.1684875488281, 183.43992614746094, 503.1604919433594), Rect(142.4079132080078, 519.5684204101562, 183.43992614746094, 530.5604248046875)]\n",
            "Page-3:  Palpitations [Rect(142.4079132080078, 439.5684814453125, 183.43992614746094, 450.56048583984375), Rect(209.11190795898438, 439.5684814453125, 250.14390563964844, 450.56048583984375), Rect(255.0319061279297, 439.5684814453125, 295.49591064453125, 450.56048583984375), Rect(142.4079132080078, 464.7684631347656, 183.43992614746094, 475.7604675292969), Rect(142.4079132080078, 478.4684753417969, 183.43992614746094, 489.4604797363281), Rect(142.4079132080078, 492.1684875488281, 183.43992614746094, 503.1604919433594), Rect(142.4079132080078, 519.5684204101562, 183.43992614746094, 530.5604248046875)]\n",
            "Page-3:  Palpitations [Rect(142.4079132080078, 439.5684814453125, 183.43992614746094, 450.56048583984375), Rect(209.11190795898438, 439.5684814453125, 250.14390563964844, 450.56048583984375), Rect(255.0319061279297, 439.5684814453125, 295.49591064453125, 450.56048583984375), Rect(142.4079132080078, 464.7684631347656, 183.43992614746094, 475.7604675292969), Rect(142.4079132080078, 478.4684753417969, 183.43992614746094, 489.4604797363281), Rect(142.4079132080078, 492.1684875488281, 183.43992614746094, 503.1604919433594), Rect(142.4079132080078, 519.5684204101562, 183.43992614746094, 530.5604248046875)]\n",
            "Page-3:  Palpitations [Rect(142.4079132080078, 439.5684814453125, 183.43992614746094, 450.56048583984375), Rect(209.11190795898438, 439.5684814453125, 250.14390563964844, 450.56048583984375), Rect(255.0319061279297, 439.5684814453125, 295.49591064453125, 450.56048583984375), Rect(142.4079132080078, 464.7684631347656, 183.43992614746094, 475.7604675292969), Rect(142.4079132080078, 478.4684753417969, 183.43992614746094, 489.4604797363281), Rect(142.4079132080078, 492.1684875488281, 183.43992614746094, 503.1604919433594), Rect(142.4079132080078, 519.5684204101562, 183.43992614746094, 530.5604248046875)]\n",
            "Page-3:  Palpitations [Rect(142.4079132080078, 439.5684814453125, 183.43992614746094, 450.56048583984375), Rect(209.11190795898438, 439.5684814453125, 250.14390563964844, 450.56048583984375), Rect(255.0319061279297, 439.5684814453125, 295.49591064453125, 450.56048583984375), Rect(142.4079132080078, 464.7684631347656, 183.43992614746094, 475.7604675292969), Rect(142.4079132080078, 478.4684753417969, 183.43992614746094, 489.4604797363281), Rect(142.4079132080078, 492.1684875488281, 183.43992614746094, 503.1604919433594), Rect(142.4079132080078, 519.5684204101562, 183.43992614746094, 530.5604248046875)]\n",
            "Page-3:  Palpitations [Rect(142.4079132080078, 439.5684814453125, 183.43992614746094, 450.56048583984375), Rect(209.11190795898438, 439.5684814453125, 250.14390563964844, 450.56048583984375), Rect(255.0319061279297, 439.5684814453125, 295.49591064453125, 450.56048583984375), Rect(142.4079132080078, 464.7684631347656, 183.43992614746094, 475.7604675292969), Rect(142.4079132080078, 478.4684753417969, 183.43992614746094, 489.4604797363281), Rect(142.4079132080078, 492.1684875488281, 183.43992614746094, 503.1604919433594), Rect(142.4079132080078, 519.5684204101562, 183.43992614746094, 530.5604248046875)]\n",
            "Page-3:  Palpitations [Rect(142.4079132080078, 439.5684814453125, 183.43992614746094, 450.56048583984375), Rect(209.11190795898438, 439.5684814453125, 250.14390563964844, 450.56048583984375), Rect(255.0319061279297, 439.5684814453125, 295.49591064453125, 450.56048583984375), Rect(142.4079132080078, 464.7684631347656, 183.43992614746094, 475.7604675292969), Rect(142.4079132080078, 478.4684753417969, 183.43992614746094, 489.4604797363281), Rect(142.4079132080078, 492.1684875488281, 183.43992614746094, 503.1604919433594), Rect(142.4079132080078, 519.5684204101562, 183.43992614746094, 530.5604248046875)]\n",
            "Page-3:  Palpitations [Rect(142.4079132080078, 439.5684814453125, 183.43992614746094, 450.56048583984375), Rect(209.11190795898438, 439.5684814453125, 250.14390563964844, 450.56048583984375), Rect(255.0319061279297, 439.5684814453125, 295.49591064453125, 450.56048583984375), Rect(142.4079132080078, 464.7684631347656, 183.43992614746094, 475.7604675292969), Rect(142.4079132080078, 478.4684753417969, 183.43992614746094, 489.4604797363281), Rect(142.4079132080078, 492.1684875488281, 183.43992614746094, 503.1604919433594), Rect(142.4079132080078, 519.5684204101562, 183.43992614746094, 530.5604248046875)]\n",
            "Page-3:  Palpitations [Rect(142.4079132080078, 439.5684814453125, 183.43992614746094, 450.56048583984375), Rect(209.11190795898438, 439.5684814453125, 250.14390563964844, 450.56048583984375), Rect(255.0319061279297, 439.5684814453125, 295.49591064453125, 450.56048583984375), Rect(142.4079132080078, 464.7684631347656, 183.43992614746094, 475.7604675292969), Rect(142.4079132080078, 478.4684753417969, 183.43992614746094, 489.4604797363281), Rect(142.4079132080078, 492.1684875488281, 183.43992614746094, 503.1604919433594), Rect(142.4079132080078, 519.5684204101562, 183.43992614746094, 530.5604248046875)]\n",
            "Page-4:  Aphasia [Rect(331.00787353515625, 303.9017639160156, 359.911865234375, 314.8937683105469)]\n",
            "Page-4:  Overweight [Rect(222.159912109375, 587.2019653320312, 262.3359069824219, 598.1939697265625)]\n",
            "Page-4:  Lower Abdominal Pain, Unspecified [Rect(205.86392211914062, 600.9019775390625, 331.6158752441406, 611.8939819335938)]\n",
            "Page-4:  Pain, Unspecified [Rect(269.6878967285156, 600.9019775390625, 331.6158752441406, 611.8939819335938)]\n",
            "Page-4:  Cervicogenic Headache [Rect(204.54391479492188, 614.6019897460938, 289.70391845703125, 625.593994140625)]\n",
            "Page-4:  Tobacco Use [Rect(142.4079132080078, 642.0020141601562, 188.57591247558594, 652.9940185546875)]\n",
            "Page-6:  Aphasia [Rect(142.40785217285156, 243.86849975585938, 171.31185913085938, 254.86050415039062), Rect(238.24786376953125, 243.86849975585938, 267.15185546875, 254.86050415039062), Rect(399.671875, 388.4684753417969, 427.6878662109375, 399.4604797363281), Rect(142.40785217285156, 427.3684997558594, 171.31185913085938, 438.3605041503906), Rect(142.40785217285156, 466.2685241699219, 171.31185913085938, 477.2605285644531), Rect(386.92779541015625, 466.2685241699219, 414.94378662109375, 477.2605285644531)]\n",
            "Page-6:  Aphasia [Rect(142.40785217285156, 243.86849975585938, 171.31185913085938, 254.86050415039062), Rect(238.24786376953125, 243.86849975585938, 267.15185546875, 254.86050415039062), Rect(399.671875, 388.4684753417969, 427.6878662109375, 399.4604797363281), Rect(142.40785217285156, 427.3684997558594, 171.31185913085938, 438.3605041503906), Rect(142.40785217285156, 466.2685241699219, 171.31185913085938, 477.2605285644531), Rect(386.92779541015625, 466.2685241699219, 414.94378662109375, 477.2605285644531)]\n",
            "Page-6:  Aphasia [Rect(142.40785217285156, 243.86849975585938, 171.31185913085938, 254.86050415039062), Rect(238.24786376953125, 243.86849975585938, 267.15185546875, 254.86050415039062), Rect(399.671875, 388.4684753417969, 427.6878662109375, 399.4604797363281), Rect(142.40785217285156, 427.3684997558594, 171.31185913085938, 438.3605041503906), Rect(142.40785217285156, 466.2685241699219, 171.31185913085938, 477.2605285644531), Rect(386.92779541015625, 466.2685241699219, 414.94378662109375, 477.2605285644531)]\n",
            "Page-6:  Aphasia [Rect(142.40785217285156, 243.86849975585938, 171.31185913085938, 254.86050415039062), Rect(238.24786376953125, 243.86849975585938, 267.15185546875, 254.86050415039062), Rect(399.671875, 388.4684753417969, 427.6878662109375, 399.4604797363281), Rect(142.40785217285156, 427.3684997558594, 171.31185913085938, 438.3605041503906), Rect(142.40785217285156, 466.2685241699219, 171.31185913085938, 477.2605285644531), Rect(386.92779541015625, 466.2685241699219, 414.94378662109375, 477.2605285644531)]\n",
            "Page-6:  Aphasia [Rect(142.40785217285156, 243.86849975585938, 171.31185913085938, 254.86050415039062), Rect(238.24786376953125, 243.86849975585938, 267.15185546875, 254.86050415039062), Rect(399.671875, 388.4684753417969, 427.6878662109375, 399.4604797363281), Rect(142.40785217285156, 427.3684997558594, 171.31185913085938, 438.3605041503906), Rect(142.40785217285156, 466.2685241699219, 171.31185913085938, 477.2605285644531), Rect(386.92779541015625, 466.2685241699219, 414.94378662109375, 477.2605285644531)]\n",
            "Page-6:  Aphasia [Rect(142.40785217285156, 243.86849975585938, 171.31185913085938, 254.86050415039062), Rect(238.24786376953125, 243.86849975585938, 267.15185546875, 254.86050415039062), Rect(399.671875, 388.4684753417969, 427.6878662109375, 399.4604797363281), Rect(142.40785217285156, 427.3684997558594, 171.31185913085938, 438.3605041503906), Rect(142.40785217285156, 466.2685241699219, 171.31185913085938, 477.2605285644531), Rect(386.92779541015625, 466.2685241699219, 414.94378662109375, 477.2605285644531)]\n",
            "Page-6:  Aphasia [Rect(142.40785217285156, 243.86849975585938, 171.31185913085938, 254.86050415039062), Rect(238.24786376953125, 243.86849975585938, 267.15185546875, 254.86050415039062), Rect(399.671875, 388.4684753417969, 427.6878662109375, 399.4604797363281), Rect(142.40785217285156, 427.3684997558594, 171.31185913085938, 438.3605041503906), Rect(142.40785217285156, 466.2685241699219, 171.31185913085938, 477.2605285644531), Rect(386.92779541015625, 466.2685241699219, 414.94378662109375, 477.2605285644531)]\n",
            "Page-6:  Aphasia [Rect(142.40785217285156, 243.86849975585938, 171.31185913085938, 254.86050415039062), Rect(238.24786376953125, 243.86849975585938, 267.15185546875, 254.86050415039062), Rect(399.671875, 388.4684753417969, 427.6878662109375, 399.4604797363281), Rect(142.40785217285156, 427.3684997558594, 171.31185913085938, 438.3605041503906), Rect(142.40785217285156, 466.2685241699219, 171.31185913085938, 477.2605285644531), Rect(386.92779541015625, 466.2685241699219, 414.94378662109375, 477.2605285644531)]\n",
            "Page-6:  Aphasia [Rect(142.40785217285156, 243.86849975585938, 171.31185913085938, 254.86050415039062), Rect(238.24786376953125, 243.86849975585938, 267.15185546875, 254.86050415039062), Rect(399.671875, 388.4684753417969, 427.6878662109375, 399.4604797363281), Rect(142.40785217285156, 427.3684997558594, 171.31185913085938, 438.3605041503906), Rect(142.40785217285156, 466.2685241699219, 171.31185913085938, 477.2605285644531), Rect(386.92779541015625, 466.2685241699219, 414.94378662109375, 477.2605285644531)]\n",
            "Page-6:  Aphasia [Rect(142.40785217285156, 243.86849975585938, 171.31185913085938, 254.86050415039062), Rect(238.24786376953125, 243.86849975585938, 267.15185546875, 254.86050415039062), Rect(399.671875, 388.4684753417969, 427.6878662109375, 399.4604797363281), Rect(142.40785217285156, 427.3684997558594, 171.31185913085938, 438.3605041503906), Rect(142.40785217285156, 466.2685241699219, 171.31185913085938, 477.2605285644531), Rect(386.92779541015625, 466.2685241699219, 414.94378662109375, 477.2605285644531)]\n",
            "Page-6:  Aphasia [Rect(142.40785217285156, 243.86849975585938, 171.31185913085938, 254.86050415039062), Rect(238.24786376953125, 243.86849975585938, 267.15185546875, 254.86050415039062), Rect(399.671875, 388.4684753417969, 427.6878662109375, 399.4604797363281), Rect(142.40785217285156, 427.3684997558594, 171.31185913085938, 438.3605041503906), Rect(142.40785217285156, 466.2685241699219, 171.31185913085938, 477.2605285644531), Rect(386.92779541015625, 466.2685241699219, 414.94378662109375, 477.2605285644531)]\n",
            "Page-6:  Aphasia [Rect(142.40785217285156, 243.86849975585938, 171.31185913085938, 254.86050415039062), Rect(238.24786376953125, 243.86849975585938, 267.15185546875, 254.86050415039062), Rect(399.671875, 388.4684753417969, 427.6878662109375, 399.4604797363281), Rect(142.40785217285156, 427.3684997558594, 171.31185913085938, 438.3605041503906), Rect(142.40785217285156, 466.2685241699219, 171.31185913085938, 477.2605285644531), Rect(386.92779541015625, 466.2685241699219, 414.94378662109375, 477.2605285644531)]\n",
            "Page-6:  Aphasia [Rect(142.40785217285156, 243.86849975585938, 171.31185913085938, 254.86050415039062), Rect(238.24786376953125, 243.86849975585938, 267.15185546875, 254.86050415039062), Rect(399.671875, 388.4684753417969, 427.6878662109375, 399.4604797363281), Rect(142.40785217285156, 427.3684997558594, 171.31185913085938, 438.3605041503906), Rect(142.40785217285156, 466.2685241699219, 171.31185913085938, 477.2605285644531), Rect(386.92779541015625, 466.2685241699219, 414.94378662109375, 477.2605285644531)]\n",
            "Page-6:  Aphasia [Rect(142.40785217285156, 243.86849975585938, 171.31185913085938, 254.86050415039062), Rect(238.24786376953125, 243.86849975585938, 267.15185546875, 254.86050415039062), Rect(399.671875, 388.4684753417969, 427.6878662109375, 399.4604797363281), Rect(142.40785217285156, 427.3684997558594, 171.31185913085938, 438.3605041503906), Rect(142.40785217285156, 466.2685241699219, 171.31185913085938, 477.2605285644531), Rect(386.92779541015625, 466.2685241699219, 414.94378662109375, 477.2605285644531)]\n",
            "Page-6:  Aphasia [Rect(142.40785217285156, 243.86849975585938, 171.31185913085938, 254.86050415039062), Rect(238.24786376953125, 243.86849975585938, 267.15185546875, 254.86050415039062), Rect(399.671875, 388.4684753417969, 427.6878662109375, 399.4604797363281), Rect(142.40785217285156, 427.3684997558594, 171.31185913085938, 438.3605041503906), Rect(142.40785217285156, 466.2685241699219, 171.31185913085938, 477.2605285644531), Rect(386.92779541015625, 466.2685241699219, 414.94378662109375, 477.2605285644531)]\n",
            "Page-6:  Aphasia [Rect(142.40785217285156, 243.86849975585938, 171.31185913085938, 254.86050415039062), Rect(238.24786376953125, 243.86849975585938, 267.15185546875, 254.86050415039062), Rect(399.671875, 388.4684753417969, 427.6878662109375, 399.4604797363281), Rect(142.40785217285156, 427.3684997558594, 171.31185913085938, 438.3605041503906), Rect(142.40785217285156, 466.2685241699219, 171.31185913085938, 477.2605285644531), Rect(386.92779541015625, 466.2685241699219, 414.94378662109375, 477.2605285644531)]\n",
            "Page-6:  Aphasia [Rect(142.40785217285156, 243.86849975585938, 171.31185913085938, 254.86050415039062), Rect(238.24786376953125, 243.86849975585938, 267.15185546875, 254.86050415039062), Rect(399.671875, 388.4684753417969, 427.6878662109375, 399.4604797363281), Rect(142.40785217285156, 427.3684997558594, 171.31185913085938, 438.3605041503906), Rect(142.40785217285156, 466.2685241699219, 171.31185913085938, 477.2605285644531), Rect(386.92779541015625, 466.2685241699219, 414.94378662109375, 477.2605285644531)]\n",
            "Page-6:  Aphasia [Rect(142.40785217285156, 243.86849975585938, 171.31185913085938, 254.86050415039062), Rect(238.24786376953125, 243.86849975585938, 267.15185546875, 254.86050415039062), Rect(399.671875, 388.4684753417969, 427.6878662109375, 399.4604797363281), Rect(142.40785217285156, 427.3684997558594, 171.31185913085938, 438.3605041503906), Rect(142.40785217285156, 466.2685241699219, 171.31185913085938, 477.2605285644531), Rect(386.92779541015625, 466.2685241699219, 414.94378662109375, 477.2605285644531)]\n",
            "Page-6:  Aphasia [Rect(142.40785217285156, 243.86849975585938, 171.31185913085938, 254.86050415039062), Rect(238.24786376953125, 243.86849975585938, 267.15185546875, 254.86050415039062), Rect(399.671875, 388.4684753417969, 427.6878662109375, 399.4604797363281), Rect(142.40785217285156, 427.3684997558594, 171.31185913085938, 438.3605041503906), Rect(142.40785217285156, 466.2685241699219, 171.31185913085938, 477.2605285644531), Rect(386.92779541015625, 466.2685241699219, 414.94378662109375, 477.2605285644531)]\n",
            "Page-6:  Aphasia [Rect(142.40785217285156, 243.86849975585938, 171.31185913085938, 254.86050415039062), Rect(238.24786376953125, 243.86849975585938, 267.15185546875, 254.86050415039062), Rect(399.671875, 388.4684753417969, 427.6878662109375, 399.4604797363281), Rect(142.40785217285156, 427.3684997558594, 171.31185913085938, 438.3605041503906), Rect(142.40785217285156, 466.2685241699219, 171.31185913085938, 477.2605285644531), Rect(386.92779541015625, 466.2685241699219, 414.94378662109375, 477.2605285644531)]\n",
            "Page-6:  Aphasia [Rect(142.40785217285156, 243.86849975585938, 171.31185913085938, 254.86050415039062), Rect(238.24786376953125, 243.86849975585938, 267.15185546875, 254.86050415039062), Rect(399.671875, 388.4684753417969, 427.6878662109375, 399.4604797363281), Rect(142.40785217285156, 427.3684997558594, 171.31185913085938, 438.3605041503906), Rect(142.40785217285156, 466.2685241699219, 171.31185913085938, 477.2605285644531), Rect(386.92779541015625, 466.2685241699219, 414.94378662109375, 477.2605285644531)]\n",
            "Page-6:  Aphasia [Rect(142.40785217285156, 243.86849975585938, 171.31185913085938, 254.86050415039062), Rect(238.24786376953125, 243.86849975585938, 267.15185546875, 254.86050415039062), Rect(399.671875, 388.4684753417969, 427.6878662109375, 399.4604797363281), Rect(142.40785217285156, 427.3684997558594, 171.31185913085938, 438.3605041503906), Rect(142.40785217285156, 466.2685241699219, 171.31185913085938, 477.2605285644531), Rect(386.92779541015625, 466.2685241699219, 414.94378662109375, 477.2605285644531)]\n",
            "Page-6:  Aphasia [Rect(142.40785217285156, 243.86849975585938, 171.31185913085938, 254.86050415039062), Rect(238.24786376953125, 243.86849975585938, 267.15185546875, 254.86050415039062), Rect(399.671875, 388.4684753417969, 427.6878662109375, 399.4604797363281), Rect(142.40785217285156, 427.3684997558594, 171.31185913085938, 438.3605041503906), Rect(142.40785217285156, 466.2685241699219, 171.31185913085938, 477.2605285644531), Rect(386.92779541015625, 466.2685241699219, 414.94378662109375, 477.2605285644531)]\n",
            "Page-6:  Aphasia [Rect(142.40785217285156, 243.86849975585938, 171.31185913085938, 254.86050415039062), Rect(238.24786376953125, 243.86849975585938, 267.15185546875, 254.86050415039062), Rect(399.671875, 388.4684753417969, 427.6878662109375, 399.4604797363281), Rect(142.40785217285156, 427.3684997558594, 171.31185913085938, 438.3605041503906), Rect(142.40785217285156, 466.2685241699219, 171.31185913085938, 477.2605285644531), Rect(386.92779541015625, 466.2685241699219, 414.94378662109375, 477.2605285644531)]\n",
            "Page-6:  Occipital Neuralgia [Rect(202.3518524169922, 555.5685424804688, 269.39984130859375, 566.560546875)]\n",
            "Page-6:  Multiple Sclerosis [Rect(47.35443878173828, 708.0686645507812, 109.58644104003906, 719.0606689453125)]\n",
            "Page-11:  Aphasia [Rect(463.8460998535156, 398.252685546875, 492.7500915527344, 409.24468994140625), Rect(403.19012451171875, 433.5196228027344, 432.0941162109375, 444.5116271972656), Rect(463.8460998535156, 468.7865295410156, 492.7500915527344, 479.7785339355469), Rect(403.19012451171875, 481.053466796875, 432.0941162109375, 492.04547119140625)]\n",
            "Page-11:  Aphasia [Rect(463.8460998535156, 398.252685546875, 492.7500915527344, 409.24468994140625), Rect(403.19012451171875, 433.5196228027344, 432.0941162109375, 444.5116271972656), Rect(463.8460998535156, 468.7865295410156, 492.7500915527344, 479.7785339355469), Rect(403.19012451171875, 481.053466796875, 432.0941162109375, 492.04547119140625)]\n",
            "Page-11:  Aphasia [Rect(463.8460998535156, 398.252685546875, 492.7500915527344, 409.24468994140625), Rect(403.19012451171875, 433.5196228027344, 432.0941162109375, 444.5116271972656), Rect(463.8460998535156, 468.7865295410156, 492.7500915527344, 479.7785339355469), Rect(403.19012451171875, 481.053466796875, 432.0941162109375, 492.04547119140625)]\n",
            "Page-11:  Aphasia [Rect(463.8460998535156, 398.252685546875, 492.7500915527344, 409.24468994140625), Rect(403.19012451171875, 433.5196228027344, 432.0941162109375, 444.5116271972656), Rect(463.8460998535156, 468.7865295410156, 492.7500915527344, 479.7785339355469), Rect(403.19012451171875, 481.053466796875, 432.0941162109375, 492.04547119140625)]\n",
            "Page-11:  Aphasia [Rect(463.8460998535156, 398.252685546875, 492.7500915527344, 409.24468994140625), Rect(403.19012451171875, 433.5196228027344, 432.0941162109375, 444.5116271972656), Rect(463.8460998535156, 468.7865295410156, 492.7500915527344, 479.7785339355469), Rect(403.19012451171875, 481.053466796875, 432.0941162109375, 492.04547119140625)]\n",
            "Page-11:  Aphasia [Rect(463.8460998535156, 398.252685546875, 492.7500915527344, 409.24468994140625), Rect(403.19012451171875, 433.5196228027344, 432.0941162109375, 444.5116271972656), Rect(463.8460998535156, 468.7865295410156, 492.7500915527344, 479.7785339355469), Rect(403.19012451171875, 481.053466796875, 432.0941162109375, 492.04547119140625)]\n",
            "Page-11:  Aphasia [Rect(463.8460998535156, 398.252685546875, 492.7500915527344, 409.24468994140625), Rect(403.19012451171875, 433.5196228027344, 432.0941162109375, 444.5116271972656), Rect(463.8460998535156, 468.7865295410156, 492.7500915527344, 479.7785339355469), Rect(403.19012451171875, 481.053466796875, 432.0941162109375, 492.04547119140625)]\n",
            "Page-11:  Aphasia [Rect(463.8460998535156, 398.252685546875, 492.7500915527344, 409.24468994140625), Rect(403.19012451171875, 433.5196228027344, 432.0941162109375, 444.5116271972656), Rect(463.8460998535156, 468.7865295410156, 492.7500915527344, 479.7785339355469), Rect(403.19012451171875, 481.053466796875, 432.0941162109375, 492.04547119140625)]\n",
            "Page-11:  Aphasia [Rect(463.8460998535156, 398.252685546875, 492.7500915527344, 409.24468994140625), Rect(403.19012451171875, 433.5196228027344, 432.0941162109375, 444.5116271972656), Rect(463.8460998535156, 468.7865295410156, 492.7500915527344, 479.7785339355469), Rect(403.19012451171875, 481.053466796875, 432.0941162109375, 492.04547119140625)]\n",
            "Page-11:  Aphasia [Rect(463.8460998535156, 398.252685546875, 492.7500915527344, 409.24468994140625), Rect(403.19012451171875, 433.5196228027344, 432.0941162109375, 444.5116271972656), Rect(463.8460998535156, 468.7865295410156, 492.7500915527344, 479.7785339355469), Rect(403.19012451171875, 481.053466796875, 432.0941162109375, 492.04547119140625)]\n",
            "Page-11:  Aphasia [Rect(463.8460998535156, 398.252685546875, 492.7500915527344, 409.24468994140625), Rect(403.19012451171875, 433.5196228027344, 432.0941162109375, 444.5116271972656), Rect(463.8460998535156, 468.7865295410156, 492.7500915527344, 479.7785339355469), Rect(403.19012451171875, 481.053466796875, 432.0941162109375, 492.04547119140625)]\n",
            "Page-11:  Aphasia [Rect(463.8460998535156, 398.252685546875, 492.7500915527344, 409.24468994140625), Rect(403.19012451171875, 433.5196228027344, 432.0941162109375, 444.5116271972656), Rect(463.8460998535156, 468.7865295410156, 492.7500915527344, 479.7785339355469), Rect(403.19012451171875, 481.053466796875, 432.0941162109375, 492.04547119140625)]\n",
            "Page-11:  Aphasia [Rect(463.8460998535156, 398.252685546875, 492.7500915527344, 409.24468994140625), Rect(403.19012451171875, 433.5196228027344, 432.0941162109375, 444.5116271972656), Rect(463.8460998535156, 468.7865295410156, 492.7500915527344, 479.7785339355469), Rect(403.19012451171875, 481.053466796875, 432.0941162109375, 492.04547119140625)]\n",
            "Page-11:  Aphasia [Rect(463.8460998535156, 398.252685546875, 492.7500915527344, 409.24468994140625), Rect(403.19012451171875, 433.5196228027344, 432.0941162109375, 444.5116271972656), Rect(463.8460998535156, 468.7865295410156, 492.7500915527344, 479.7785339355469), Rect(403.19012451171875, 481.053466796875, 432.0941162109375, 492.04547119140625)]\n",
            "Page-11:  Aphasia [Rect(463.8460998535156, 398.252685546875, 492.7500915527344, 409.24468994140625), Rect(403.19012451171875, 433.5196228027344, 432.0941162109375, 444.5116271972656), Rect(463.8460998535156, 468.7865295410156, 492.7500915527344, 479.7785339355469), Rect(403.19012451171875, 481.053466796875, 432.0941162109375, 492.04547119140625)]\n",
            "Page-11:  Aphasia [Rect(463.8460998535156, 398.252685546875, 492.7500915527344, 409.24468994140625), Rect(403.19012451171875, 433.5196228027344, 432.0941162109375, 444.5116271972656), Rect(463.8460998535156, 468.7865295410156, 492.7500915527344, 479.7785339355469), Rect(403.19012451171875, 481.053466796875, 432.0941162109375, 492.04547119140625)]\n",
            "Page-12:  Actinic Keratosis [Rect(248.10215759277344, 281.7881774902344, 306.83013916015625, 292.7801818847656)]\n",
            "Page-16:  cyanosis [Rect(349.1871337890625, 461.9075927734375, 380.8719482421875, 474.1803894042969)]\n",
            "Page-18:  M54.40 [Rect(440.89599609375, 626.5523681640625, 469.7748107910156, 638.8251953125)]\n",
            "Page-18:  weakness [Rect(444.4779968261719, 340.232421875, 479.732421875, 352.5052185058594)]\n",
            "Page-19:  G43.109 [Rect(227.2899932861328, 145.4748077392578, 256.4548034667969, 156.68040466308594)]\n",
            "Page-19:  Migraine with aura, not intractable, without status migrainosus [Rect(236.3957977294922, 134.92706298828125, 469.31427001953125, 147.33326721191406)]\n",
            "Page-24:  Cervicogenic headache [Rect(238.8015594482422, 348.71051025390625, 321.3490905761719, 360.5830993652344)]\n",
            "Page-26:  D17.1 [Rect(341.5231018066406, 284.4216003417969, 364.01824951171875, 296.5610046386719)]\n",
            "Page-26:  F43.9 [Rect(267.1199951171875, 294.4976806640625, 288.10455322265625, 306.6370849609375)]\n",
            "Page-26:  cyanosis [Rect(347.51800537109375, 210.96768188476562, 378.8583679199219, 223.10708618164062)]\n",
            "Page-28:  right lower quadrant pain [Rect(183.1202850341797, 283.7524108886719, 265.3172607421875, 293.7827453613281)]\n",
            "Page-34:  palpitations [Rect(196.32000732421875, 288.2939147949219, 240.0941162109375, 299.0346374511719)]\n",
            "Page-34:  orthopnea [Rect(146.65679931640625, 297.18121337890625, 183.58143615722656, 308.4480285644531)]\n",
            "Page-34:  chronic cough [Rect(182.8843994140625, 305.8240051269531, 233.55221557617188, 317.0908203125)]\n",
            "Page-34:  wheezing [Rect(364.57177734375, 305.8240051269531, 399.2086181640625, 317.0908203125)]\n",
            "Page-34:  anorexia [Rect(113.2806396484375, 333.66339111328125, 144.72767639160156, 344.9302062988281)]\n",
            "Page-34:  heartburn [Rect(345.3570556640625, 333.66339111328125, 380.45306396484375, 344.9302062988281)]\n",
            "Page-34:  hematemesis [Rect(385.20086669921875, 333.66339111328125, 433.9580993652344, 344.9302062988281)]\n",
            "Page-34:  melena [Rect(72.00189208984375, 343.0113830566406, 98.88968658447266, 354.2781982421875)]\n",
            "Page-34:  nausea [Rect(102.965087890625, 343.0113830566406, 129.86109924316406, 354.2781982421875)]\n",
            "Page-34:  aphasia [Rect(152.65380859375, 434.4924011230469, 183.19061279296875, 445.7837829589844)]\n",
            "Page-34:  weakness [Rect(240.47584533691406, 443.5697937011719, 276.9330749511719, 454.83660888671875)]\n",
            "Page-34:  polyphagia [Rect(162.94482421875, 479.82196044921875, 202.60006713867188, 491.0887756347656)]\n",
            "Page-35:  Tobacco Use [Rect(197.2890167236328, 335.654296875, 229.78211975097656, 346.509033203125), Rect(231.59913635253906, 335.654296875, 245.6455078125, 346.509033203125)]\n",
            "Page-35:  Tobacco Use [Rect(197.2890167236328, 335.654296875, 229.78211975097656, 346.509033203125), Rect(231.59913635253906, 335.654296875, 245.6455078125, 346.509033203125)]\n",
            "Page-36:  cyanosis [Rect(245.75457763671875, 298.70111083984375, 276.4859313964844, 309.55584716796875)]\n",
            "Page-37:  G43.109 [Rect(70.31879425048828, 212.33009338378906, 101.58966064453125, 223.45950317382812)]\n",
            "Page-37:  D72.819 [Rect(70.31879425048828, 230.57130432128906, 100.93679809570312, 241.70071411132812)]\n",
            "Page-37:  R00.2 [Rect(70.31879425048828, 239.69190979003906, 91.92959594726562, 250.82131958007812)]\n",
            "Page-37:  R10.30 [Rect(70.31879425048828, 248.33460998535156, 96.43319702148438, 259.4640197753906)]\n",
            "Page-37:  E88.2 [Rect(70.31879425048828, 257.4552307128906, 91.48410034179688, 268.5846252441406)]\n",
            "Page-37:  Migraine with aura, not intractable, without status migrainosus [Rect(107.99838256835938, 212.33009338378906, 330.7078857421875, 223.45950317382812)]\n",
            "Page-37:  Palpitations [Rect(98.39906311035156, 239.69190979003906, 140.26797485351562, 250.82131958007812)]\n",
            "Page-37:  lower abdominal pain, unspecified [Rect(102.71879577636719, 248.33460998535156, 124.32150268554688, 259.4640197753906), Rect(127.19862365722656, 248.33460998535156, 228.41868591308594, 259.4640197753906)]\n",
            "Page-37:  lower abdominal pain, unspecified [Rect(102.71879577636719, 248.33460998535156, 124.32150268554688, 259.4640197753906), Rect(127.19862365722656, 248.33460998535156, 228.41868591308594, 259.4640197753906)]\n",
            "Page-37:  pain, unspecified [Rect(167.75857543945312, 248.33460998535156, 228.41868591308594, 259.4640197753906)]\n",
            "Page-37:  lipomatosis, not elsewhere classified [Rect(97.91873931884766, 257.4552307128906, 142.93045043945312, 268.5846252441406), Rect(146.39886474609375, 257.4552307128906, 231.79559326171875, 268.5846252441406)]\n",
            "Page-37:  lipomatosis, not elsewhere classified [Rect(97.91873931884766, 257.4552307128906, 142.93045043945312, 268.5846252441406), Rect(146.39886474609375, 257.4552307128906, 231.79559326171875, 268.5846252441406)]\n",
            "Page-37:  overweight [Rect(69.59759521484375, 378.40069580078125, 108.7611083984375, 389.53009033203125), Rect(109.43340301513672, 387.5293884277344, 148.596923828125, 398.6587829589844)]\n",
            "Page-37:  overweight [Rect(69.59759521484375, 378.40069580078125, 108.7611083984375, 389.53009033203125), Rect(109.43340301513672, 387.5293884277344, 148.596923828125, 398.6587829589844)]\n",
            "Page-37:  overweight [Rect(69.59759521484375, 378.40069580078125, 108.7611083984375, 389.53009033203125), Rect(109.43340301513672, 387.5293884277344, 148.596923828125, 398.6587829589844)]\n",
            "Page-37:  overweight [Rect(69.59759521484375, 378.40069580078125, 108.7611083984375, 389.53009033203125), Rect(109.43340301513672, 387.5293884277344, 148.596923828125, 398.6587829589844)]\n",
            "Page-38:  palpitations [Rect(66.95999908447266, 496.8539123535156, 111.17095947265625, 507.5946350097656), Rect(346.327880859375, 505.58709716796875, 386.28656005859375, 516.4418334960938)]\n",
            "Page-38:  palpitations [Rect(66.95999908447266, 496.8539123535156, 111.17095947265625, 507.5946350097656), Rect(346.327880859375, 505.58709716796875, 386.28656005859375, 516.4418334960938)]\n",
            "Page-39:  G43.109 [Rect(68.39816284179688, 293.9032287597656, 98.70294952392578, 304.7579650878906)]\n",
            "Page-39:  D72.819 [Rect(69.1170654296875, 311.899658203125, 98.97944641113281, 322.75439453125)]\n",
            "Page-39:  R00.2 [Rect(69.1170654296875, 321.0163879394531, 90.19453430175781, 331.8711242675781)]\n",
            "Page-39:  R10.30 [Rect(69.1170654296875, 329.643310546875, 94.58699035644531, 340.498046875)]\n",
            "Page-39:  Migraine with aura, not intractable, without status migrainosus [Rect(104.39813232421875, 293.9032287597656, 326.0299072265625, 304.7579650878906)]\n",
            "Page-39:  Decreased white blood cell count, unspecified [Rect(103.91700744628906, 311.899658203125, 267.7160949707031, 322.75439453125)]\n",
            "Page-39:  Palpitations [Rect(95.03729248046875, 321.0163879394531, 135.87289428710938, 331.8711242675781)]\n",
            "Page-39:  Lower abdominal pain, unspecified [Rect(99.59723663330078, 329.643310546875, 223.55615234375, 340.498046875)]\n",
            "Page-39:  pain, unspecified [Rect(163.67733764648438, 329.643310546875, 223.55615234375, 340.498046875)]\n",
            "Page-39:  Lipomatosis, not elsewhere classified [Rect(94.07505798339844, 338.5309143066406, 140.6145477294922, 349.3856506347656), Rect(142.56507873535156, 338.5309143066406, 227.130126953125, 349.3856506347656)]\n",
            "Page-39:  Lipomatosis, not elsewhere classified [Rect(94.07505798339844, 338.5309143066406, 140.6145477294922, 349.3856506347656), Rect(142.56507873535156, 338.5309143066406, 227.130126953125, 349.3856506347656)]\n",
            "Page-40:  epistaxis [Rect(180.00787353515625, 286.2552185058594, 211.5168914794922, 297.3846130371094)]\n",
            "Page-40:  nasal congestion [Rect(216.49758911132812, 286.2552185058594, 277.4994812011719, 297.3846130371094)]\n",
            "Page-40:  palpitations [Rect(226.09524536132812, 304.77178955078125, 271.55242919921875, 315.92547607421875), Rect(97.2071533203125, 626.3450927734375, 139.07606506347656, 637.4744873046875)]\n",
            "Page-40:  palpitations [Rect(226.09524536132812, 304.77178955078125, 271.55242919921875, 315.92547607421875), Rect(97.2071533203125, 626.3450927734375, 139.07606506347656, 637.4744873046875)]\n",
            "Page-40:  orthopnea [Rect(214.32276916503906, 314.5727844238281, 250.7970733642578, 325.7021789550781)]\n",
            "Page-40:  chronic cough [Rect(212.16085815429688, 323.9444885253906, 262.5558166503906, 335.0738830566406)]\n",
            "Page-40:  hemoptysis [Rect(303.3611755371094, 323.9444885253906, 344.3228454589844, 335.0738830566406)]\n",
            "Page-40:  wheezing [Rect(395.041015625, 323.9444885253906, 429.2554016113281, 335.0738830566406)]\n",
            "Page-40:  anorexia [Rect(376.8005676269531, 333.3080749511719, 407.8640441894531, 344.4374694824219)]\n",
            "Page-40:  heartburn [Rect(255.36952209472656, 343.1414794921875, 290.0375061035156, 354.2708740234375)]\n",
            "Page-40:  hematemesis [Rect(295.4499206542969, 343.1414794921875, 343.6125183105469, 354.2708740234375)]\n",
            "Page-40:  melena [Rect(404.16973876953125, 343.1414794921875, 430.7296447753906, 354.2708740234375)]\n",
            "Page-40:  nausea [Rect(435.359619140625, 343.1414794921875, 461.9276123046875, 354.2708740234375)]\n",
            "Page-40:  dysuria [Rect(221.51470947265625, 361.3907775878906, 247.6210174560547, 372.5201721191406)]\n",
            "Page-40:  nocturia [Rect(428.4002380371094, 361.37249755859375, 457.2119140625, 372.50189208984375)]\n",
            "Page-40:  aphasia [Rect(113.7506103515625, 456.4476013183594, 143.91500854492188, 467.6012878417969), Rect(162.35464477539062, 456.4476013183594, 192.51904296875, 467.6012878417969)]\n",
            "Page-40:  aphasia [Rect(113.7506103515625, 456.4476013183594, 143.91500854492188, 467.6012878417969), Rect(162.35464477539062, 456.4476013183594, 192.51904296875, 467.6012878417969)]\n",
            "Page-40:  weakness [Rect(267.10955810546875, 465.77880859375, 303.12213134765625, 476.908203125)]\n",
            "Page-40:  polydipsia [Rect(203.7513427734375, 503.2251281738281, 239.7639617919922, 514.3544921875)]\n",
            "Page-40:  polyphagia [Rect(245.03057861328125, 503.2251281738281, 284.2021789550781, 514.3544921875)]\n",
            "Page-42:  G43.109 [Rect(97.20299530029297, 207.05567932128906, 128.27459716796875, 218.18508911132812), Rect(97.19490051269531, 304.7204895019531, 128.26651000976562, 315.8498840332031)]\n",
            "Page-42:  G43.109 [Rect(97.20299530029297, 207.05567932128906, 128.27459716796875, 218.18508911132812), Rect(97.19490051269531, 304.7204895019531, 128.26651000976562, 315.8498840332031)]\n",
            "Page-42:  R00.2 [Rect(97.20299530029297, 235.37330627441406, 118.81379699707031, 246.50271606445312), Rect(97.2030029296875, 333.2972717285156, 118.81380462646484, 344.4266662597656)]\n",
            "Page-42:  R00.2 [Rect(97.20299530029297, 235.37330627441406, 118.81379699707031, 246.50271606445312), Rect(97.2030029296875, 333.2972717285156, 118.81380462646484, 344.4266662597656)]\n",
            "Page-42:  G43.109 [Rect(97.20299530029297, 207.05567932128906, 128.27459716796875, 218.18508911132812), Rect(97.19490051269531, 304.7204895019531, 128.26651000976562, 315.8498840332031)]\n",
            "Page-42:  G43.109 [Rect(97.20299530029297, 207.05567932128906, 128.27459716796875, 218.18508911132812), Rect(97.19490051269531, 304.7204895019531, 128.26651000976562, 315.8498840332031)]\n",
            "Page-42:  D72.819 [Rect(97.2030029296875, 323.9336853027344, 127.82100677490234, 335.0630798339844)]\n",
            "Page-42:  R00.2 [Rect(97.20299530029297, 235.37330627441406, 118.81379699707031, 246.50271606445312), Rect(97.2030029296875, 333.2972717285156, 118.81380462646484, 344.4266662597656)]\n",
            "Page-42:  R00.2 [Rect(97.20299530029297, 235.37330627441406, 118.81379699707031, 246.50271606445312), Rect(97.2030029296875, 333.2972717285156, 118.81380462646484, 344.4266662597656)]\n",
            "Page-42:  Migraine with aura, not intractable, without status migrainosus [Rect(139.93048095703125, 207.05567932128906, 363.57952880859375, 218.18508911132812), Rect(136.08462524414062, 304.7204895019531, 359.73370361328125, 315.8498840332031)]\n",
            "Page-42:  Migraine with aura, not intractable, without status migrainosus [Rect(139.93048095703125, 207.05567932128906, 363.57952880859375, 218.18508911132812), Rect(136.08462524414062, 304.7204895019531, 359.73370361328125, 315.8498840332031)]\n",
            "Page-42:  Decreased white blood cell count, unspecified [Rect(139.2095947265625, 225.52369689941406, 304.9696350097656, 236.65310668945312), Rect(135.60267639160156, 323.9336853027344, 301.3724060058594, 335.0630798339844)]\n",
            "Page-42:  Decreased white blood cell count, unspecified [Rect(139.2095947265625, 225.52369689941406, 304.9696350097656, 236.65310668945312), Rect(135.60267639160156, 323.9336853027344, 301.3724060058594, 335.0630798339844)]\n",
            "Page-42:  Palpitations [Rect(130.0889892578125, 235.37330627441406, 171.95790100097656, 246.50271606445312), Rect(126.4828872680664, 333.2972717285156, 168.351806640625, 344.4266662597656)]\n",
            "Page-42:  Palpitations [Rect(130.0889892578125, 235.37330627441406, 171.95790100097656, 246.50271606445312), Rect(126.4828872680664, 333.2972717285156, 168.351806640625, 344.4266662597656)]\n",
            "Page-42:  Migraine with aura, not intractable, without status migrainosus [Rect(139.93048095703125, 207.05567932128906, 363.57952880859375, 218.18508911132812), Rect(136.08462524414062, 304.7204895019531, 359.73370361328125, 315.8498840332031)]\n",
            "Page-42:  Migraine with aura, not intractable, without status migrainosus [Rect(139.93048095703125, 207.05567932128906, 363.57952880859375, 218.18508911132812), Rect(136.08462524414062, 304.7204895019531, 359.73370361328125, 315.8498840332031)]\n",
            "Page-42:  Decreased white blood cell count, unspecified [Rect(139.2095947265625, 225.52369689941406, 304.9696350097656, 236.65310668945312), Rect(135.60267639160156, 323.9336853027344, 301.3724060058594, 335.0630798339844)]\n",
            "Page-42:  Decreased white blood cell count, unspecified [Rect(139.2095947265625, 225.52369689941406, 304.9696350097656, 236.65310668945312), Rect(135.60267639160156, 323.9336853027344, 301.3724060058594, 335.0630798339844)]\n",
            "Page-42:  Palpitations [Rect(130.0889892578125, 235.37330627441406, 171.95790100097656, 246.50271606445312), Rect(126.4828872680664, 333.2972717285156, 168.351806640625, 344.4266662597656)]\n",
            "Page-42:  Palpitations [Rect(130.0889892578125, 235.37330627441406, 171.95790100097656, 246.50271606445312), Rect(126.4828872680664, 333.2972717285156, 168.351806640625, 344.4266662597656)]\n",
            "Page-51:  weakness [Rect(205.21035766601562, 314.6719665527344, 240.77835083007812, 325.6639709472656)]\n",
            "Page-59:  Occipital Neuralgia [Rect(216.49171447753906, 254.3324737548828, 249.79893493652344, 265.4618835449219), Rect(251.75912475585938, 254.3324737548828, 286.41900634765625, 265.4618835449219)]\n",
            "Page-59:  Occipital Neuralgia [Rect(216.49171447753906, 254.3324737548828, 249.79893493652344, 265.4618835449219), Rect(251.75912475585938, 254.3324737548828, 286.41900634765625, 265.4618835449219)]\n",
            "Page-60:  aphasia [Rect(254.16761779785156, 510.0457458496094, 286.03582763671875, 522.5491333007812), Rect(433.2027587890625, 562.115966796875, 465.0709533691406, 574.619384765625)]\n",
            "Page-60:  aphasia [Rect(254.16761779785156, 510.0457458496094, 286.03582763671875, 522.5491333007812), Rect(433.2027587890625, 562.115966796875, 465.0709533691406, 574.619384765625)]\n",
            "Page-60:  aphasia [Rect(254.16761779785156, 510.0457458496094, 286.03582763671875, 522.5491333007812), Rect(433.2027587890625, 562.115966796875, 465.0709533691406, 574.619384765625)]\n",
            "Page-60:  aphasia [Rect(254.16761779785156, 510.0457458496094, 286.03582763671875, 522.5491333007812), Rect(433.2027587890625, 562.115966796875, 465.0709533691406, 574.619384765625)]\n",
            "Page-62:  aphasia [Rect(271.9097900390625, 142.37429809570312, 303.7779846191406, 154.87770080566406)]\n",
            "Page-62:  cervicalgia [Rect(240.24452209472656, 268.3638000488281, 283.22381591796875, 280.8671875)]\n",
            "Page-65:  weakness [Rect(227.2984619140625, 230.35887145996094, 264.2002868652344, 241.76307678222656)]\n",
            "Page-65:  sneezing [Rect(130.31988525390625, 308.60028076171875, 163.53651428222656, 320.0044860839844)]\n",
            "Page-68:  weakness [Rect(143.7595977783203, 361.3937683105469, 179.772216796875, 372.5231628417969)]\n",
            "Page-74:  M54.2 [Rect(163.2100067138672, 122.55097961425781, 184.60830688476562, 133.1538848876953)]\n",
            "Page-74:  R42 [Rect(161.75999450683594, 352.906005859375, 176.79879760742188, 364.1973876953125)]\n",
            "Page-79:  epistaxis [Rect(179.9998321533203, 304.7312927246094, 211.50885009765625, 315.8606872558594)]\n",
            "Page-79:  nasal congestion [Rect(216.4895477294922, 304.7312927246094, 277.491455078125, 315.8606872558594)]\n",
            "Page-79:  palpitations [Rect(226.08721923828125, 323.9849853515625, 271.5444030761719, 335.138671875), Rect(97.1990966796875, 635.6994018554688, 139.06800842285156, 646.8287963867188)]\n",
            "Page-79:  palpitations [Rect(226.08721923828125, 323.9849853515625, 271.5444030761719, 335.138671875), Rect(97.1990966796875, 635.6994018554688, 139.06800842285156, 646.8287963867188)]\n",
            "Page-79:  orthopnea [Rect(214.3236541748047, 333.3080749511719, 250.79795837402344, 344.4374694824219)]\n",
            "Page-79:  chronic cough [Rect(211.9316864013672, 343.1414794921875, 262.30560302734375, 354.2708740234375)]\n",
            "Page-79:  hemoptysis [Rect(303.3612365722656, 343.1414794921875, 344.3229064941406, 354.2708740234375)]\n",
            "Page-79:  wheezing [Rect(395.04107666015625, 343.1414794921875, 429.2554626464844, 354.2708740234375)]\n",
            "Page-79:  anorexia [Rect(376.8006591796875, 352.2701721191406, 407.8641357421875, 363.3995666503906)]\n",
            "Page-79:  heartburn [Rect(255.37039184570312, 361.6337585449219, 290.03839111328125, 372.7631530761719)]\n",
            "Page-79:  hematemesis [Rect(295.45001220703125, 361.6337585449219, 343.61260986328125, 372.7631530761719)]\n",
            "Page-79:  melena [Rect(403.9195251464844, 361.6337585449219, 430.47943115234375, 372.7631530761719)]\n",
            "Page-79:  nausea [Rect(435.11993408203125, 361.6337585449219, 461.68792724609375, 372.7631530761719)]\n",
            "Page-79:  dysuria [Rect(221.5147705078125, 380.8388671875, 247.62107849121094, 391.96826171875)]\n",
            "Page-79:  nocturia [Rect(429.1144714355469, 380.8388671875, 457.9261474609375, 391.96826171875)]\n",
            "Page-79:  aphasia [Rect(113.74343872070312, 474.9689636230469, 143.9078369140625, 486.1226501464844)]\n",
            "Page-79:  weakness [Rect(267.10406494140625, 484.7618713378906, 303.11663818359375, 495.8912658691406)]\n",
            "Page-79:  polydipsia [Rect(203.74420166015625, 522.2162475585938, 239.75682067871094, 533.3456420898438)]\n",
            "Page-79:  polyphagia [Rect(245.0234375, 522.2162475585938, 284.1950378417969, 533.3456420898438)]\n",
            "Page-79:  Palpitations [Rect(226.08721923828125, 323.9849853515625, 271.5444030761719, 335.138671875), Rect(97.1990966796875, 635.6994018554688, 139.06800842285156, 646.8287963867188)]\n",
            "Page-79:  Palpitations [Rect(226.08721923828125, 323.9849853515625, 271.5444030761719, 335.138671875), Rect(97.1990966796875, 635.6994018554688, 139.06800842285156, 646.8287963867188)]\n",
            "Page-81:  cyanosis [Rect(273.3599853515625, 354.2799377441406, 304.47998046875, 365.2719421386719)]\n",
            "Page-82:  G43.109 [Rect(132.73585510253906, 281.9337463378906, 163.80746459960938, 293.0631408691406)]\n",
            "Page-82:  R00.2 [Rect(128.89402770996094, 348.6534423828125, 150.5048370361328, 359.7828369140625)]\n",
            "Page-82:  L25.9 [Rect(128.6639862060547, 367.1214599609375, 148.93019104003906, 378.2508544921875)]\n",
            "Page-82:  D72.819 [Rect(133.2242889404297, 386.33465576171875, 163.84230041503906, 397.46405029296875)]\n",
            "Page-82:  Palpitations [Rect(157.69439697265625, 348.6534423828125, 199.5633087158203, 359.7828369140625)]\n",
            "Page-82:  Dermatitis, unspecified [Rect(156.50369262695312, 367.1214599609375, 239.2241668701172, 378.2508544921875)]\n",
            "Page-84:  G43.109 [Rect(122.6400146484375, 622.1119995117188, 153.3280029296875, 633.10400390625)]\n",
            "Page-84:  Palpitations [Rect(101.27999877929688, 174.89686584472656, 146.05776977539062, 185.77529907226562), Rect(97.20199584960938, 184.11795043945312, 137.66598510742188, 195.10995483398438)]\n",
            "Page-84:  Palpitations [Rect(101.27999877929688, 174.89686584472656, 146.05776977539062, 185.77529907226562), Rect(97.20199584960938, 184.11795043945312, 137.66598510742188, 195.10995483398438)]\n",
            "Page-84:  palpitations [Rect(101.27999877929688, 174.89686584472656, 146.05776977539062, 185.77529907226562), Rect(97.20199584960938, 184.11795043945312, 137.66598510742188, 195.10995483398438)]\n",
            "Page-84:  palpitations [Rect(101.27999877929688, 174.89686584472656, 146.05776977539062, 185.77529907226562), Rect(97.20199584960938, 184.11795043945312, 137.66598510742188, 195.10995483398438)]\n",
            "Page-84:  Dermatitis, unspecified [Rect(101.27999877929688, 269.4568786621094, 144.303955078125, 280.3352966308594), Rect(145.92979431152344, 269.4568786621094, 189.83067321777344, 280.3352966308594)]\n",
            "Page-84:  Dermatitis, unspecified [Rect(101.27999877929688, 269.4568786621094, 144.303955078125, 280.3352966308594), Rect(145.92979431152344, 269.4568786621094, 189.83067321777344, 280.3352966308594)]\n",
            "Page-84:  Encounter for general adult medical examination without abnormal findings [Rect(167.760009765625, 537.1600341796875, 437.48797607421875, 548.1520385742188)]\n",
            "Page-84:  Migraine with aura, not intractable, without status migrainosus [Rect(167.760009765625, 622.1119995117188, 391.1199951171875, 633.10400390625)]\n",
            "Page-85:  L25.9 [Rect(122.15640258789062, 155.82000732421875, 142.67282104492188, 167.08680725097656)]\n",
            "Page-85:  D72.819 [Rect(122.40240478515625, 174.77838134765625, 153.39842224121094, 186.04518127441406)]\n",
            "Page-85:  Palpitations [Rect(119.51602172851562, 127.7349853515625, 161.90185546875, 139.0017852783203), Rect(167.04237365722656, 136.6156005859375, 209.42822265625, 147.8824005126953)]\n",
            "Page-85:  Palpitations [Rect(119.51602172851562, 127.7349853515625, 161.90185546875, 139.0017852783203), Rect(167.04237365722656, 136.6156005859375, 209.42822265625, 147.8824005126953)]\n",
            "Page-85:  Palpitations [Rect(119.51602172851562, 127.7349853515625, 161.90185546875, 139.0017852783203), Rect(167.04237365722656, 136.6156005859375, 209.42822265625, 147.8824005126953)]\n",
            "Page-85:  Palpitations [Rect(119.51602172851562, 127.7349853515625, 161.90185546875, 139.0017852783203), Rect(167.04237365722656, 136.6156005859375, 209.42822265625, 147.8824005126953)]\n",
            "Page-85:  Dermatitis, unspecified [Rect(119.51602172851562, 146.70159912109375, 202.7616729736328, 157.96839904785156), Rect(240.7268524169922, 155.82000732421875, 322.27264404296875, 167.08680725097656)]\n",
            "Page-85:  Dermatitis, unspecified [Rect(119.51602172851562, 146.70159912109375, 202.7616729736328, 157.96839904785156), Rect(240.7268524169922, 155.82000732421875, 322.27264404296875, 167.08680725097656)]\n",
            "Page-85:  Unspecified contact dermatitis, unspecified cause [Rect(167.0366668701172, 155.82000732421875, 346.1141662597656, 167.08680725097656)]\n",
            "Page-85:  dermatitis, unspecified [Rect(119.51602172851562, 146.70159912109375, 202.7616729736328, 157.96839904785156), Rect(240.7268524169922, 155.82000732421875, 322.27264404296875, 167.08680725097656)]\n",
            "Page-85:  dermatitis, unspecified [Rect(119.51602172851562, 146.70159912109375, 202.7616729736328, 157.96839904785156), Rect(240.7268524169922, 155.82000732421875, 322.27264404296875, 167.08680725097656)]\n",
            "Page-85:  Decreased white blood cell count, unspecified [Rect(167.0424041748047, 174.77838134765625, 333.327880859375, 186.04518127441406)]\n",
            "Page-92:  worries [Rect(343.4393005371094, 352.26507568359375, 369.5374755859375, 363.39447021484375)]\n",
            "Page-99:  epistaxis [Rect(179.99984741210938, 314.5735778808594, 211.5088653564453, 325.7029724121094)]\n",
            "Page-99:  nasal congestion [Rect(216.48956298828125, 314.5735778808594, 277.74176025390625, 325.7029724121094)]\n",
            "Page-99:  palpitations [Rect(226.08721923828125, 333.349365234375, 271.5444030761719, 344.5030517578125), Rect(279.35284423828125, 333.349365234375, 324.8100280761719, 344.5030517578125), Rect(97.20809936523438, 635.6987915039062, 139.07701110839844, 646.8281860351562)]\n",
            "Page-99:  palpitations [Rect(226.08721923828125, 333.349365234375, 271.5444030761719, 344.5030517578125), Rect(279.35284423828125, 333.349365234375, 324.8100280761719, 344.5030517578125), Rect(97.20809936523438, 635.6987915039062, 139.07701110839844, 646.8281860351562)]\n",
            "Page-99:  palpitations [Rect(226.08721923828125, 333.349365234375, 271.5444030761719, 344.5030517578125), Rect(279.35284423828125, 333.349365234375, 324.8100280761719, 344.5030517578125), Rect(97.20809936523438, 635.6987915039062, 139.07701110839844, 646.8281860351562)]\n",
            "Page-99:  palpitations [Rect(226.08721923828125, 333.349365234375, 271.5444030761719, 344.5030517578125), Rect(279.35284423828125, 333.349365234375, 324.8100280761719, 344.5030517578125), Rect(97.20809936523438, 635.6987915039062, 139.07701110839844, 646.8281860351562)]\n",
            "Page-99:  palpitations [Rect(226.08721923828125, 333.349365234375, 271.5444030761719, 344.5030517578125), Rect(279.35284423828125, 333.349365234375, 324.8100280761719, 344.5030517578125), Rect(97.20809936523438, 635.6987915039062, 139.07701110839844, 646.8281860351562)]\n",
            "Page-99:  palpitations [Rect(226.08721923828125, 333.349365234375, 271.5444030761719, 344.5030517578125), Rect(279.35284423828125, 333.349365234375, 324.8100280761719, 344.5030517578125), Rect(97.20809936523438, 635.6987915039062, 139.07701110839844, 646.8281860351562)]\n",
            "Page-99:  orthopnea [Rect(390.47662353515625, 343.14227294921875, 426.950927734375, 354.27166748046875)]\n",
            "Page-99:  chronic cough [Rect(212.16091918945312, 361.6345520019531, 262.5558776855469, 372.7639465332031)]\n",
            "Page-99:  hemoptysis [Rect(303.3612365722656, 361.6345520019531, 344.3229064941406, 372.7639465332031)]\n",
            "Page-99:  wheezing [Rect(395.04107666015625, 361.6345520019531, 429.2554626464844, 372.7639465332031)]\n",
            "Page-99:  anorexia [Rect(198.48976135253906, 380.8315734863281, 229.5532684326172, 391.9609680175781)]\n",
            "Page-99:  heartburn [Rect(385.4498596191406, 380.8315734863281, 420.11785888671875, 391.9609680175781)]\n",
            "Page-99:  hematemesis [Rect(424.7996520996094, 380.8315734863281, 472.9622497558594, 391.9609680175781)]\n",
            "Page-99:  melena [Rect(152.6502227783203, 389.9521789550781, 179.2101287841797, 401.0815734863281)]\n",
            "Page-99:  nausea [Rect(184.5699005126953, 389.9521789550781, 211.13790893554688, 401.0815734863281)]\n",
            "Page-99:  dysuria [Rect(221.52291870117188, 399.7936706542969, 247.6292266845703, 410.9230651855469)]\n",
            "Page-99:  nocturia [Rect(428.4002380371094, 399.77252197265625, 457.2119140625, 410.90191650390625)]\n",
            "Page-99:  aphasia [Rect(113.74520874023438, 474.9405212402344, 143.90960693359375, 486.0942077636719)]\n",
            "Page-99:  polydipsia [Rect(203.75926208496094, 522.39990234375, 239.77188110351562, 533.529296875)]\n",
            "Page-99:  polyphagia [Rect(245.039306640625, 522.39990234375, 284.2109069824219, 533.529296875)]\n",
            "Page-99:  Palpitations [Rect(226.08721923828125, 333.349365234375, 271.5444030761719, 344.5030517578125), Rect(279.35284423828125, 333.349365234375, 324.8100280761719, 344.5030517578125), Rect(97.20809936523438, 635.6987915039062, 139.07701110839844, 646.8281860351562)]\n",
            "Page-99:  Palpitations [Rect(226.08721923828125, 333.349365234375, 271.5444030761719, 344.5030517578125), Rect(279.35284423828125, 333.349365234375, 324.8100280761719, 344.5030517578125), Rect(97.20809936523438, 635.6987915039062, 139.07701110839844, 646.8281860351562)]\n",
            "Page-99:  Palpitations [Rect(226.08721923828125, 333.349365234375, 271.5444030761719, 344.5030517578125), Rect(279.35284423828125, 333.349365234375, 324.8100280761719, 344.5030517578125), Rect(97.20809936523438, 635.6987915039062, 139.07701110839844, 646.8281860351562)]\n",
            "Page-100:  Tobacco Use [Rect(226.09046936035156, 334.97119140625, 274.80224609375, 346.1005859375)]\n",
            "Page-101:  cyanosis [Rect(273.611572265625, 325.9518737792969, 304.7315673828125, 336.9438781738281)]\n",
            "Page-102:  G43.109 [Rect(132.73793029785156, 320.32757568359375, 163.80953979492188, 331.45697021484375)]\n",
            "Page-102:  R00.2 [Rect(128.8781280517578, 366.8832092285156, 150.4889373779297, 378.0126037597656)]\n",
            "Page-102:  L25.9 [Rect(128.64808654785156, 386.32318115234375, 148.91429138183594, 397.45257568359375)]\n",
            "Page-102:  Z00.00 [Rect(129.373046875, 423.76947021484375, 154.58834838867188, 434.89886474609375)]\n",
            "Page-102:  Palpitations [Rect(157.67849731445312, 366.8832092285156, 199.5474090576172, 378.0126037597656)]\n",
            "Page-102:  Dermatitis, unspecified [Rect(156.48779296875, 386.32318115234375, 238.72793579101562, 397.45257568359375)]\n",
            "Page-104:  Palpitations [Rect(101.27999877929688, 326.2038879394531, 145.49093627929688, 336.9446105957031), Rect(239.52037048339844, 325.9499816894531, 279.9843444824219, 336.9419860839844), Rect(218.6523895263672, 335.0779724121094, 259.11639404296875, 346.0699768066406), Rect(205.68199157714844, 344.91796875, 246.14598083496094, 355.90997314453125)]\n",
            "Page-104:  Palpitations [Rect(101.27999877929688, 326.2038879394531, 145.49093627929688, 336.9446105957031), Rect(239.52037048339844, 325.9499816894531, 279.9843444824219, 336.9419860839844), Rect(218.6523895263672, 335.0779724121094, 259.11639404296875, 346.0699768066406), Rect(205.68199157714844, 344.91796875, 246.14598083496094, 355.90997314453125)]\n",
            "Page-104:  Palpitations [Rect(101.27999877929688, 326.2038879394531, 145.49093627929688, 336.9446105957031), Rect(239.52037048339844, 325.9499816894531, 279.9843444824219, 336.9419860839844), Rect(218.6523895263672, 335.0779724121094, 259.11639404296875, 346.0699768066406), Rect(205.68199157714844, 344.91796875, 246.14598083496094, 355.90997314453125)]\n",
            "Page-104:  Palpitations [Rect(101.27999877929688, 326.2038879394531, 145.49093627929688, 336.9446105957031), Rect(239.52037048339844, 325.9499816894531, 279.9843444824219, 336.9419860839844), Rect(218.6523895263672, 335.0779724121094, 259.11639404296875, 346.0699768066406), Rect(205.68199157714844, 344.91796875, 246.14598083496094, 355.90997314453125)]\n",
            "Page-104:  palpitations [Rect(101.27999877929688, 326.2038879394531, 145.49093627929688, 336.9446105957031), Rect(239.52037048339844, 325.9499816894531, 279.9843444824219, 336.9419860839844), Rect(218.6523895263672, 335.0779724121094, 259.11639404296875, 346.0699768066406), Rect(205.68199157714844, 344.91796875, 246.14598083496094, 355.90997314453125)]\n",
            "Page-104:  palpitations [Rect(101.27999877929688, 326.2038879394531, 145.49093627929688, 336.9446105957031), Rect(239.52037048339844, 325.9499816894531, 279.9843444824219, 336.9419860839844), Rect(218.6523895263672, 335.0779724121094, 259.11639404296875, 346.0699768066406), Rect(205.68199157714844, 344.91796875, 246.14598083496094, 355.90997314453125)]\n",
            "Page-104:  palpitations [Rect(101.27999877929688, 326.2038879394531, 145.49093627929688, 336.9446105957031), Rect(239.52037048339844, 325.9499816894531, 279.9843444824219, 336.9419860839844), Rect(218.6523895263672, 335.0779724121094, 259.11639404296875, 346.0699768066406), Rect(205.68199157714844, 344.91796875, 246.14598083496094, 355.90997314453125)]\n",
            "Page-104:  palpitations [Rect(101.27999877929688, 326.2038879394531, 145.49093627929688, 336.9446105957031), Rect(239.52037048339844, 325.9499816894531, 279.9843444824219, 336.9419860839844), Rect(218.6523895263672, 335.0779724121094, 259.11639404296875, 346.0699768066406), Rect(205.68199157714844, 344.91796875, 246.14598083496094, 355.90997314453125)]\n",
            "Page-104:  palpitations [Rect(101.27999877929688, 326.2038879394531, 145.49093627929688, 336.9446105957031), Rect(239.52037048339844, 325.9499816894531, 279.9843444824219, 336.9419860839844), Rect(218.6523895263672, 335.0779724121094, 259.11639404296875, 346.0699768066406), Rect(205.68199157714844, 344.91796875, 246.14598083496094, 355.90997314453125)]\n",
            "Page-104:  palpitations [Rect(101.27999877929688, 326.2038879394531, 145.49093627929688, 336.9446105957031), Rect(239.52037048339844, 325.9499816894531, 279.9843444824219, 336.9419860839844), Rect(218.6523895263672, 335.0779724121094, 259.11639404296875, 346.0699768066406), Rect(205.68199157714844, 344.91796875, 246.14598083496094, 355.90997314453125)]\n",
            "Page-104:  palpitations [Rect(101.27999877929688, 326.2038879394531, 145.49093627929688, 336.9446105957031), Rect(239.52037048339844, 325.9499816894531, 279.9843444824219, 336.9419860839844), Rect(218.6523895263672, 335.0779724121094, 259.11639404296875, 346.0699768066406), Rect(205.68199157714844, 344.91796875, 246.14598083496094, 355.90997314453125)]\n",
            "Page-104:  palpitations [Rect(101.27999877929688, 326.2038879394531, 145.49093627929688, 336.9446105957031), Rect(239.52037048339844, 325.9499816894531, 279.9843444824219, 336.9419860839844), Rect(218.6523895263672, 335.0779724121094, 259.11639404296875, 346.0699768066406), Rect(205.68199157714844, 344.91796875, 246.14598083496094, 355.90997314453125)]\n",
            "Page-104:  palpitations [Rect(101.27999877929688, 326.2038879394531, 145.49093627929688, 336.9446105957031), Rect(239.52037048339844, 325.9499816894531, 279.9843444824219, 336.9419860839844), Rect(218.6523895263672, 335.0779724121094, 259.11639404296875, 346.0699768066406), Rect(205.68199157714844, 344.91796875, 246.14598083496094, 355.90997314453125)]\n",
            "Page-104:  palpitations [Rect(101.27999877929688, 326.2038879394531, 145.49093627929688, 336.9446105957031), Rect(239.52037048339844, 325.9499816894531, 279.9843444824219, 336.9419860839844), Rect(218.6523895263672, 335.0779724121094, 259.11639404296875, 346.0699768066406), Rect(205.68199157714844, 344.91796875, 246.14598083496094, 355.90997314453125)]\n",
            "Page-104:  palpitations [Rect(101.27999877929688, 326.2038879394531, 145.49093627929688, 336.9446105957031), Rect(239.52037048339844, 325.9499816894531, 279.9843444824219, 336.9419860839844), Rect(218.6523895263672, 335.0779724121094, 259.11639404296875, 346.0699768066406), Rect(205.68199157714844, 344.91796875, 246.14598083496094, 355.90997314453125)]\n",
            "Page-104:  palpitations [Rect(101.27999877929688, 326.2038879394531, 145.49093627929688, 336.9446105957031), Rect(239.52037048339844, 325.9499816894531, 279.9843444824219, 336.9419860839844), Rect(218.6523895263672, 335.0779724121094, 259.11639404296875, 346.0699768066406), Rect(205.68199157714844, 344.91796875, 246.14598083496094, 355.90997314453125)]\n",
            "Page-104:  Dermatitis, unspecified [Rect(101.27999877929688, 448.6138916015625, 143.7593231201172, 459.3546142578125), Rect(145.93008422851562, 448.6138916015625, 189.2751922607422, 459.3546142578125)]\n",
            "Page-104:  Dermatitis, unspecified [Rect(101.27999877929688, 448.6138916015625, 143.7593231201172, 459.3546142578125), Rect(145.93008422851562, 448.6138916015625, 189.2751922607422, 459.3546142578125)]\n",
            "Page-105:  G43.109 [Rect(122.64510345458984, 329.437255859375, 153.71670532226562, 340.566650390625)]\n",
            "Page-105:  R00.2 [Rect(123.12300109863281, 357.77105712890625, 144.7338104248047, 368.90045166015625)]\n",
            "Page-105:  L25.9 [Rect(122.64510345458984, 376.96807861328125, 142.9113006591797, 388.09747314453125)]\n",
            "Page-105:  Encounter for general adult medical examination without abnormal findings [Rect(167.76210021972656, 253.6131134033203, 437.83465576171875, 264.7425231933594), Rect(167.75399780273438, 405.29376220703125, 437.8265686035156, 416.42315673828125)]\n",
            "Page-105:  Encounter for general adult medical examination without abnormal findings [Rect(167.76210021972656, 253.6131134033203, 437.83465576171875, 264.7425231933594), Rect(167.75399780273438, 405.29376220703125, 437.8265686035156, 416.42315673828125)]\n",
            "Page-105:  Encounter for other general examination [Rect(167.76211547851562, 263.6895446777344, 313.1886901855469, 274.8189392089844)]\n",
            "Page-105:  Migraine with aura, not intractable, without status migrainosus [Rect(167.76535034179688, 329.437255859375, 391.18353271484375, 340.566650390625)]\n",
            "Page-105:  Palpitations [Rect(120.24264526367188, 348.65045166015625, 162.11155700683594, 359.77984619140625), Rect(167.76292419433594, 357.77105712890625, 209.6318359375, 368.90045166015625)]\n",
            "Page-105:  Palpitations [Rect(120.24264526367188, 348.65045166015625, 162.11155700683594, 359.77984619140625), Rect(167.76292419433594, 357.77105712890625, 209.6318359375, 368.90045166015625)]\n",
            "Page-105:  Palpitations [Rect(120.24264526367188, 348.65045166015625, 162.11155700683594, 359.77984619140625), Rect(167.76292419433594, 357.77105712890625, 209.6318359375, 368.90045166015625)]\n",
            "Page-105:  Palpitations [Rect(120.24264526367188, 348.65045166015625, 162.11155700683594, 359.77984619140625), Rect(167.76292419433594, 357.77105712890625, 209.6318359375, 368.90045166015625)]\n",
            "Page-105:  Dermatitis, unspecified [Rect(120.24264526367188, 367.11846923828125, 202.73306274414062, 378.24786376953125), Rect(240.965087890625, 376.96807861328125, 322.26470947265625, 388.09747314453125)]\n",
            "Page-105:  Dermatitis, unspecified [Rect(120.24264526367188, 367.11846923828125, 202.73306274414062, 378.24786376953125), Rect(240.965087890625, 376.96807861328125, 322.26470947265625, 388.09747314453125)]\n",
            "Page-105:  Unspecified contact dermatitis, unspecified cause [Rect(167.76535034179688, 376.96807861328125, 346.3459777832031, 388.09747314453125)]\n",
            "Page-105:  dermatitis, unspecified [Rect(120.24264526367188, 367.11846923828125, 202.73306274414062, 378.24786376953125), Rect(240.965087890625, 376.96807861328125, 322.26470947265625, 388.09747314453125)]\n",
            "Page-105:  dermatitis, unspecified [Rect(120.24264526367188, 367.11846923828125, 202.73306274414062, 378.24786376953125), Rect(240.965087890625, 376.96807861328125, 322.26470947265625, 388.09747314453125)]\n",
            "Page-105:  Encounter for general adult medical examination without abnormal findings [Rect(167.76210021972656, 253.6131134033203, 437.83465576171875, 264.7425231933594), Rect(167.75399780273438, 405.29376220703125, 437.8265686035156, 416.42315673828125)]\n",
            "Page-105:  Encounter for general adult medical examination without abnormal findings [Rect(167.76210021972656, 253.6131134033203, 437.83465576171875, 264.7425231933594), Rect(167.75399780273438, 405.29376220703125, 437.8265686035156, 416.42315673828125)]\n",
            "Page-107:  aphasia [Rect(349.919189453125, 527.5786743164062, 375.4842224121094, 537.6090087890625)]\n",
            "Page-116:  antiphospholipid syndrome [Rect(114.4800033569336, 351.6973876953125, 202.60546875, 362.0025329589844)]\n",
            "File[None] is saved after highlighting ICD-10 code and keyword\n"
          ]
        }
      ]
    },
    {
      "cell_type": "code",
      "source": [],
      "metadata": {
        "id": "KSJFABSGIf34"
      },
      "execution_count": null,
      "outputs": []
    },
    {
      "cell_type": "code",
      "source": [
        "with open(f\"{txt_files_path}/page-37.txt\", \"r\") as f:\n",
        "  one_txt = f.read()\n",
        "  one_txt = one_txt.replace(\".\", \",\")\n",
        "  #print(one_txt)\n",
        "\n",
        "  doc = nlp(one_txt)\n",
        "  matches = phrase_matcher(doc)\n",
        "  for match_id, start, end in matches:\n",
        "    span = doc[start: end]\n",
        "    print(span.text)\n",
        "  #print([(ent.text, ent.label_) for ent in doc.ents])"
      ],
      "metadata": {
        "id": "TyPoHyTLjL1u",
        "outputId": "e38b1c57-215a-4d46-f0ad-81fd606467fd",
        "colab": {
          "base_uri": "https://localhost:8080/"
        }
      },
      "execution_count": null,
      "outputs": [
        {
          "output_type": "stream",
          "name": "stdout",
          "text": [
            "Migraine with aura, not intractable, without status migrainosus\n",
            "Decreased white blood cell count, unspecified\n",
            "Palpitations\n",
            "lower abdominal pain, unspecified\n",
            "pain, unspecified\n",
            "lipomatosis, not elsewhere classified\n",
            "overweight\n",
            "overweight\n"
          ]
        }
      ]
    },
    {
      "cell_type": "code",
      "source": [
        "%%time\n",
        "\n",
        "page_keyword_dict = {}\n",
        "# Step-4: Searching ICD-10 code\n",
        "for txt_file in txt_list:\n",
        "  with open(txt_file, \"r\") as f:\n",
        "    page_txt = f.read()\n",
        "    # filter the page that have line number instead of code\n",
        "    #if not re.search(\"(P[ ][0-9]+)(,\\s)(L[0-9]+)\", page_txt):\n",
        "    doc = nlp(page_txt)\n",
        "    matches = phrase_matcher(doc)\n",
        "\n",
        "    keyword_list = []\n",
        "    for match_id, start, end in matches:\n",
        "      span = doc[start: end]\n",
        "      keyword_list.append(f\"{span}\")\n",
        "\n",
        "    if len(keyword_list) != 0:\n",
        "      page_number = int(txt_file.split(\"/\")[1].split(\".\")[0].split(\"-\")[1])\n",
        "      page_keyword_dict[page_number] = keyword_list\n",
        "      print(f\"Page[{txt_file.split('/')[1]}]: {keyword_list}\")"
      ],
      "metadata": {
        "id": "_KDFL-yJrMOw",
        "outputId": "3071afbd-2c5c-4c14-ec39-90c44c827018",
        "colab": {
          "base_uri": "https://localhost:8080/"
        }
      },
      "execution_count": null,
      "outputs": [
        {
          "output_type": "stream",
          "name": "stdout",
          "text": [
            "Page[page-0.txt]: ['Aphasia', 'Palpitations']\n",
            "Page[page-3.txt]: ['Palpitations', 'Palpitations', 'palpitations', 'Palpitations', 'Palpitations', 'Palpitations', 'Palpitations']\n",
            "Page[page-4.txt]: ['Aphasia', 'Overweight', 'Lower Abdominal Pain, Unspecified', 'Pain, Unspecified', 'Cervicogenic Headache', 'Tobacco Use']\n",
            "Page[page-6.txt]: ['Aphasia', 'Aphasia', 'Aphasia', 'Aphasia', 'Occipital Neuralgia', 'Multiple Sclerosis']\n",
            "Page[page-11.txt]: ['Aphasia', 'Aphasia', 'Aphasia', 'Aphasia']\n",
            "Page[page-12.txt]: ['Actinic Keratosis']\n",
            "Page[page-16.txt]: ['cyanosis']\n",
            "Page[page-18.txt]: ['weakness']\n",
            "Page[page-19.txt]: ['Migraine with aura, not intractable, without status migrainosus']\n",
            "Page[page-24.txt]: ['Cervicogenic headache']\n",
            "Page[page-26.txt]: ['cyanosis']\n",
            "Page[page-28.txt]: ['right lower quadrant pain']\n",
            "Page[page-34.txt]: ['palpitations', 'orthopnea', 'chronic cough', 'wheezing', 'anorexia', 'heartburn', 'hematemesis', 'melena', 'nausea', 'aphasia', 'weakness', 'polyphagia']\n",
            "Page[page-35.txt]: ['Tobacco Use']\n",
            "Page[page-36.txt]: ['cyanosis']\n",
            "Page[page-37.txt]: ['Migraine with aura, not intractable, without status migrainosus', 'Palpitations', 'lower abdominal pain, unspecified', 'pain, unspecified', 'lipomatosis, not elsewhere classified', 'overweight', 'overweight']\n",
            "Page[page-38.txt]: ['palpitations']\n",
            "Page[page-39.txt]: ['Migraine with aura, not intractable, without status migrainosus', 'Decreased white blood cell count, unspecified', 'Palpitations', 'Lower abdominal pain, unspecified', 'pain, unspecified', 'Lipomatosis, not elsewhere classified']\n",
            "Page[page-40.txt]: ['epistaxis', 'nasal congestion', 'palpitations', 'orthopnea', 'chronic cough', 'hemoptysis', 'wheezing', 'anorexia', 'heartburn', 'hematemesis', 'melena', 'nausea', 'dysuria', 'nocturia', 'aphasia', 'weakness', 'polydipsia', 'polyphagia']\n",
            "Page[page-42.txt]: ['Migraine with aura, not intractable, without status migrainosus', 'Decreased white blood cell count, unspecified', 'Palpitations', 'Migraine with aura, not intractable, without status migrainosus', 'Decreased white blood cell count, unspecified', 'Palpitations']\n",
            "Page[page-51.txt]: ['weakness']\n",
            "Page[page-59.txt]: ['Occipital Neuralgia']\n",
            "Page[page-60.txt]: ['aphasia', 'aphasia']\n",
            "Page[page-62.txt]: ['aphasia', 'cervicalgia']\n",
            "Page[page-65.txt]: ['weakness', 'sneezing']\n",
            "Page[page-68.txt]: ['weakness']\n",
            "Page[page-79.txt]: ['epistaxis', 'nasal congestion', 'palpitations', 'orthopnea', 'chronic cough', 'hemoptysis', 'wheezing', 'anorexia', 'heartburn', 'hematemesis', 'melena', 'nausea', 'dysuria', 'nocturia', 'aphasia', 'weakness', 'polydipsia', 'polyphagia', 'Palpitations']\n",
            "Page[page-81.txt]: ['cyanosis']\n",
            "Page[page-82.txt]: ['Palpitations', 'Dermatitis, unspecified']\n",
            "Page[page-84.txt]: ['Palpitations', 'palpitations', 'Dermatitis, unspecified', 'Encounter for general adult medical examination without abnormal findings', 'Migraine with aura, not intractable, without status migrainosus']\n",
            "Page[page-85.txt]: ['Palpitations', 'Palpitations', 'Dermatitis, unspecified', 'Unspecified contact dermatitis, unspecified cause', 'dermatitis, unspecified', 'Decreased white blood cell count, unspecified']\n",
            "Page[page-92.txt]: ['worries']\n",
            "Page[page-99.txt]: ['epistaxis', 'nasal congestion', 'palpitations', 'palpitations', 'orthopnea', 'chronic cough', 'hemoptysis', 'wheezing', 'anorexia', 'heartburn', 'hematemesis', 'melena', 'nausea', 'dysuria', 'nocturia', 'aphasia', 'polydipsia', 'polyphagia', 'Palpitations']\n",
            "Page[page-100.txt]: ['Tobacco Use']\n",
            "Page[page-101.txt]: ['cyanosis']\n",
            "Page[page-102.txt]: ['Palpitations', 'Dermatitis, unspecified']\n",
            "Page[page-104.txt]: ['Palpitations', 'palpitations', 'palpitations', 'palpitations', 'Dermatitis, unspecified']\n",
            "Page[page-105.txt]: ['Encounter for general adult medical examination without abnormal findings', 'Encounter for other general examination', 'Migraine with aura, not intractable, without status migrainosus', 'Palpitations', 'Palpitations', 'Dermatitis, unspecified', 'Unspecified contact dermatitis, unspecified cause', 'dermatitis, unspecified', 'Encounter for general adult medical examination without abnormal findings']\n",
            "Page[page-107.txt]: ['aphasia']\n",
            "Page[page-116.txt]: ['antiphospholipid syndrome']\n",
            "CPU times: user 12.1 s, sys: 140 ms, total: 12.2 s\n",
            "Wall time: 12.3 s\n"
          ]
        }
      ]
    },
    {
      "cell_type": "code",
      "source": [
        "%%time\n",
        "\n",
        "pdf_page_dict = {}\n",
        "# Step-4: Searching ICD-10 code\n",
        "for txt_file in txt_list:\n",
        "  with open(txt_file, \"r\") as f:\n",
        "    page_txt = f.read()\n",
        "    # filter the page that have line number instead of code\n",
        "    if not re.search(\"(P[ ][0-9]+)(,\\s)(L[0-9]+)\", page_txt):\n",
        "      doc = nlp(page_txt)\n",
        "      code_list = [ent.text for ent in doc.ents]\n",
        "      if len(code_list) != 0:\n",
        "        page_number = int(txt_file.split(\"/\")[1].split(\".\")[0].split(\"-\")[1])\n",
        "        pdf_page_dict[page_number] = code_list\n",
        "        print(f\"Page[{txt_file.split('/')[1]}]: {code_list}\")"
      ],
      "metadata": {
        "id": "OW9ULIN3lDG9"
      },
      "execution_count": null,
      "outputs": []
    },
    {
      "cell_type": "markdown",
      "source": [
        "##ICD-10 code highlighting"
      ],
      "metadata": {
        "id": "bUvBLqWApIgR"
      }
    },
    {
      "cell_type": "code",
      "source": [
        "0 in pdf_page_dict"
      ],
      "metadata": {
        "colab": {
          "base_uri": "https://localhost:8080/"
        },
        "id": "YPyy8Au7qKrb",
        "outputId": "b5ce9fb4-1e29-4e11-af16-200cee375771"
      },
      "execution_count": null,
      "outputs": [
        {
          "output_type": "execute_result",
          "data": {
            "text/plain": [
              "False"
            ]
          },
          "metadata": {},
          "execution_count": 17
        }
      ]
    },
    {
      "cell_type": "code",
      "source": [
        "pdf_page_dict[2]"
      ],
      "metadata": {
        "colab": {
          "base_uri": "https://localhost:8080/"
        },
        "id": "rS9WmjZZr7w1",
        "outputId": "cd0eae88-e9fb-4b7d-93ce-5893a5a16c3b"
      },
      "execution_count": null,
      "outputs": [
        {
          "output_type": "execute_result",
          "data": {
            "text/plain": [
              "['L14', 'L14']"
            ]
          },
          "metadata": {},
          "execution_count": 18
        }
      ]
    },
    {
      "cell_type": "code",
      "source": [
        "%%time\n",
        "\n",
        "# Step-4: Highlighting ICD-10 code into pdf\n",
        "highlight_icd10_keyword(page_keyword_dict, pdf_file_name)"
      ],
      "metadata": {
        "id": "7-5lnSdLsiPc",
        "outputId": "7c6986d3-58f7-47f6-e05f-b1006760c3f0",
        "colab": {
          "base_uri": "https://localhost:8080/"
        }
      },
      "execution_count": null,
      "outputs": [
        {
          "output_type": "stream",
          "name": "stdout",
          "text": [
            "Page-37:  Migraine with aura, not intractable, without status migrainosus [Rect(107.75862121582031, 230.57130432128906, 272.81884765625, 241.70071411132812)]\n",
            "Page-37:  Palpitations [Rect(107.75862121582031, 230.57130432128906, 272.81884765625, 241.70071411132812)]\n",
            "Page-37:  lower abdominal pain, unspecified [Rect(107.75862121582031, 230.57130432128906, 272.81884765625, 241.70071411132812)]\n",
            "Page-37:  pain, unspecified [Rect(107.75862121582031, 230.57130432128906, 272.81884765625, 241.70071411132812)]\n",
            "Page-37:  lipomatosis, not elsewhere classified [Rect(107.75862121582031, 230.57130432128906, 272.81884765625, 241.70071411132812)]\n",
            "Page-37:  overweight [Rect(107.75862121582031, 230.57130432128906, 272.81884765625, 241.70071411132812)]\n",
            "Page-37:  overweight [Rect(107.75862121582031, 230.57130432128906, 272.81884765625, 241.70071411132812)]\n",
            "CPU times: user 1.56 s, sys: 33 ms, total: 1.59 s\n",
            "Wall time: 1.59 s\n"
          ]
        }
      ]
    },
    {
      "cell_type": "code",
      "source": [
        "# Step-4: Highlighting ICD-10 code and keyword into pdf\n",
        "highlight_icd10_code_and_keyword(page_keyword_dict, pdf_file_name)"
      ],
      "metadata": {
        "id": "PSWP5CG_BZUP"
      },
      "execution_count": null,
      "outputs": []
    },
    {
      "cell_type": "code",
      "source": [
        "True if re.search(\"[0-9],L\", \"3, L14\") else False"
      ],
      "metadata": {
        "colab": {
          "base_uri": "https://localhost:8080/"
        },
        "id": "PqAli6FIHLiS",
        "outputId": "b5820516-0976-41c1-9e9c-5c57262358d3"
      },
      "execution_count": null,
      "outputs": [
        {
          "output_type": "execute_result",
          "data": {
            "text/plain": [
              "False"
            ]
          },
          "metadata": {},
          "execution_count": 36
        }
      ]
    },
    {
      "cell_type": "code",
      "source": [
        "True if re.search(\"(P[ ][0-9]+)(,\\s)(L[0-9]+)\", \"P 13, L17\") else False"
      ],
      "metadata": {
        "id": "GkKlUQW7fHeM",
        "outputId": "6d51d34a-13ea-49c0-ac8f-ebfcc7e1568e",
        "colab": {
          "base_uri": "https://localhost:8080/"
        }
      },
      "execution_count": null,
      "outputs": [
        {
          "output_type": "execute_result",
          "data": {
            "text/plain": [
              "True"
            ]
          },
          "metadata": {},
          "execution_count": 38
        }
      ]
    },
    {
      "cell_type": "code",
      "source": [
        "pattern = re.compile(\"(P[ ][0-9]+)(,\\s)(L[0-9]+)\")\n",
        "\n",
        "for i, line in enumerate(open(\"txt-files/pdf-page-3.txt\")):\n",
        "  for match in re.finditer(pattern, line):\n",
        "    print('Found on line %s: %s' % (i+1, match.group()))"
      ],
      "metadata": {
        "id": "_VXtIAnOZ89O",
        "outputId": "ff2c61c7-036f-4ec1-f82a-c560874570f2",
        "colab": {
          "base_uri": "https://localhost:8080/"
        }
      },
      "execution_count": null,
      "outputs": [
        {
          "output_type": "stream",
          "name": "stdout",
          "text": [
            "Found on line 2: P 60, L23\n",
            "Found on line 3: P 61, L14\n",
            "Found on line 4: P 56, L19\n",
            "Found on line 7: P 54, L19\n",
            "Found on line 8: P 49, L5\n",
            "Found on line 9: P 39, L6\n",
            "Found on line 10: P 37, L9\n",
            "Found on line 11: P 35, L14\n",
            "Found on line 12: P 27, L24\n",
            "Found on line 13: P 21, L23\n",
            "Found on line 15: P 11, L20\n",
            "Found on line 16: P 5, L39\n",
            "Found on line 18: P 3, L24\n",
            "Found on line 22: P 77, L38\n",
            "Found on line 27: P 86, L19\n",
            "Found on line 29: P 66, L19\n",
            "Found on line 30: P 29, L19\n",
            "Found on line 31: P 21, L16\n",
            "Found on line 32: P 12, L18\n",
            "Found on line 33: P 3, L22\n",
            "Found on line 34: P 3, L22\n",
            "Found on line 38: P 3, L17\n",
            "Found on line 41: P 79, L31\n"
          ]
        }
      ]
    },
    {
      "cell_type": "code",
      "source": [
        "# Step-5: Searching ICD-10 code\n",
        "for txt_file in txt_list:\n",
        "  with open(txt_file, \"r\") as f:\n",
        "    #one_txt = f.read()\n",
        "    doc = nlp(f.read())\n",
        "    code_list = [ent.text for ent in doc.ents]\n",
        "    if len(code_list) != 0:\n",
        "      print(f\"Page[{txt_file.split('/')[1]}]: {code_list}\")\n",
        "    #print([f\"Page[{txt_file.split('/')[1]}]: {(ent.text, ent.label_)}\" for ent in doc.ents if ent is not None])"
      ],
      "metadata": {
        "colab": {
          "base_uri": "https://localhost:8080/"
        },
        "id": "tknb4-tM8ELL",
        "outputId": "13e18947-9f6b-4931-d66a-e365a1283834"
      },
      "execution_count": null,
      "outputs": [
        {
          "output_type": "stream",
          "name": "stdout",
          "text": [
            "Page[pdf-page-2.txt]: ['L14']\n",
            "Page[pdf-page-3.txt]: ['L14', 'L14', 'L22', 'L22']\n",
            "Page[pdf-page-4.txt]: ['L26', 'L26', 'L26', 'L26', 'L26', 'L22', 'L14', 'L22', 'L14']\n",
            "Page[pdf-page-6.txt]: ['L14', 'L14']\n",
            "Page[pdf-page-7.txt]: ['L14', 'L14', 'L14', 'L14']\n",
            "Page[pdf-page-8.txt]: ['L26', 'L26', 'L26']\n",
            "Page[pdf-page-9.txt]: ['L26', 'L26', 'L22', 'L26', 'L22', 'L26', 'L22', 'L22', 'L22']\n",
            "Page[pdf-page-10.txt]: ['L22', 'L26', 'L14']\n",
            "Page[pdf-page-11.txt]: ['L22', 'L22', 'L22']\n",
            "Page[pdf-page-12.txt]: ['L14']\n",
            "Page[pdf-page-18.txt]: ['M54.40']\n",
            "Page[pdf-page-19.txt]: ['G43.109']\n",
            "Page[pdf-page-26.txt]: ['D17.1', 'F43.9']\n",
            "Page[pdf-page-37.txt]: ['G43.109', 'D72.819', 'R00.2', 'R10.30', 'E88.2']\n",
            "Page[pdf-page-39.txt]: ['G43.109', 'D72.819', 'R00.2', 'R10.30']\n",
            "Page[pdf-page-42.txt]: ['G43.109', 'R00.2', 'G43.109', 'D72.819', 'R00.2']\n",
            "Page[pdf-page-74.txt]: ['M54.2', 'R42']\n",
            "Page[pdf-page-82.txt]: ['G43.109', 'R00.2', 'L25.9', 'D72.819']\n",
            "Page[pdf-page-84.txt]: ['G43.109']\n",
            "Page[pdf-page-85.txt]: ['L25.9', 'D72.819']\n",
            "Page[pdf-page-102.txt]: ['G43.109', 'R00.2', 'L25.9', 'Z00.00']\n",
            "Page[pdf-page-105.txt]: ['G43.109', 'R00.2', 'L25.9']\n"
          ]
        }
      ]
    },
    {
      "cell_type": "markdown",
      "source": [
        "##Tessrect text extraction"
      ],
      "metadata": {
        "id": "xrn1ysvSx_h0"
      }
    },
    {
      "cell_type": "code",
      "source": [
        "%%time\n",
        "\n",
        "# Step-1: spliting pdf file\n",
        "pdf_file_name = \"Redacted_Sample_2.pdf\"\n",
        "pdf_list = split_pdf(pdf_file_name)\n",
        "\n",
        "# Step-2: converting pdf to image\n",
        "img_list = pdf_to_image(pdf_list)\n",
        "\n",
        "# Step-4: Extracting text from pdf\n",
        "txt_list = extract_text_from_image(img_list)\n",
        "\n",
        "# Step-3: loading and updating patterns to Spacy\n",
        "nlp.add_pipe(\"entity_ruler\").from_disk(\"./icd10_code_patterns.jsonl\")"
      ],
      "metadata": {
        "id": "QtTEZYAEyCpc"
      },
      "execution_count": null,
      "outputs": []
    },
    {
      "cell_type": "code",
      "source": [
        "# Step-4: Extracting text from pdf\n",
        "txt_list = extract_text_from_image(img_list)\n",
        "\n",
        "# Step-3: loading and updating patterns to Spacy\n",
        "nlp.add_pipe(\"entity_ruler\").from_disk(\"./icd10_code_patterns.jsonl\")"
      ],
      "metadata": {
        "id": "J5u7LWuY2Fin",
        "outputId": "1c38b67b-96f7-4e61-d188-2862d48def9c",
        "colab": {
          "base_uri": "https://localhost:8080/"
        }
      },
      "execution_count": null,
      "outputs": [
        {
          "output_type": "execute_result",
          "data": {
            "text/plain": [
              "<spacy.pipeline.entityruler.EntityRuler at 0x7f4ac6e88af0>"
            ]
          },
          "metadata": {},
          "execution_count": 18
        }
      ]
    },
    {
      "cell_type": "code",
      "source": [
        "%%time\n",
        "\n",
        "pdf_page_dict = {}\n",
        "# Step-4: Searching ICD-10 code\n",
        "for txt_file in txt_list:\n",
        "  with open(txt_file, \"r\") as f:\n",
        "    page_txt = f.read()\n",
        "    # filter the page that have line number instead of code\n",
        "    if not re.search(\"(P[ ][0-9]+)(,\\s)(L[0-9]+)\", page_txt):\n",
        "      doc = nlp(page_txt)\n",
        "      code_list = [ent.text for ent in doc.ents]\n",
        "      if len(code_list) != 0:\n",
        "        page_number = int(txt_file.split(\"/\")[1].split(\".\")[0].split(\"-\")[1])\n",
        "        pdf_page_dict[page_number] = code_list\n",
        "        print(f\"Page[{txt_file.split('/')[1]}]: {code_list}\")"
      ],
      "metadata": {
        "id": "79Y-FMlryT0m",
        "outputId": "9a6968bd-cdbc-4c74-c24e-defa4ec3419f",
        "colab": {
          "base_uri": "https://localhost:8080/"
        }
      },
      "execution_count": null,
      "outputs": [
        {
          "output_type": "stream",
          "name": "stdout",
          "text": [
            "Page[page-17.txt]: ['R64']\n",
            "Page[page-18.txt]: ['D17.1']\n",
            "Page[page-19.txt]: ['G43.109']\n",
            "Page[page-24.txt]: ['M50.30']\n",
            "Page[page-26.txt]: ['F43.9']\n",
            "Page[page-37.txt]: ['G43.109', 'D72.819', 'R10.30', 'E88.2']\n",
            "Page[page-39.txt]: ['G43.109', 'D72.819', 'R10.30']\n",
            "Page[page-42.txt]: ['G43.109', 'D72.819']\n",
            "Page[page-74.txt]: ['M50.323', 'M46.92', 'R42']\n",
            "Page[page-82.txt]: ['G43.109', 'L25.9', 'D72.819']\n",
            "Page[page-85.txt]: ['R00.2', 'L25.9', 'D72.819']\n",
            "Page[page-102.txt]: ['G43.109', 'L25.9']\n",
            "Page[page-105.txt]: ['G43.109', 'L25.9']\n",
            "CPU times: user 676 ms, sys: 15.5 ms, total: 691 ms\n",
            "Wall time: 694 ms\n"
          ]
        }
      ]
    },
    {
      "cell_type": "code",
      "source": [
        "%%time\n",
        "\n",
        "# Step-4: Highlighting ICD-10 code into pdf\n",
        "highlight_icd10_code(pdf_page_dict, pdf_file_name)"
      ],
      "metadata": {
        "id": "rTrdHahE8HQ5",
        "outputId": "e571efe9-c92d-4b34-94a1-bc6bd3cf8c74",
        "colab": {
          "base_uri": "https://localhost:8080/"
        }
      },
      "execution_count": null,
      "outputs": [
        {
          "output_type": "stream",
          "name": "stdout",
          "text": [
            "Page dict: ['R64']\n",
            "Page dict: ['D17.1']\n",
            "Page dict: ['G43.109']\n",
            "Page-19:  G43.109 [Rect(227.2899932861328, 145.4748077392578, 256.4548034667969, 156.68040466308594)]\n",
            "Page dict: ['M50.30']\n",
            "Page dict: ['F43.9']\n",
            "Page-26:  F43.9 [Rect(267.1199951171875, 294.4976806640625, 288.10455322265625, 306.6370849609375)]\n",
            "Page dict: ['G43.109', 'D72.819', 'R10.30', 'E88.2']\n",
            "Page-37:  D72.819 [Rect(70.31879425048828, 230.57130432128906, 100.93679809570312, 241.70071411132812)]\n",
            "Page-37:  R10.30 [Rect(70.31879425048828, 248.33460998535156, 96.43319702148438, 259.4640197753906)]\n",
            "Page-37:  E88.2 [Rect(70.31879425048828, 257.4552307128906, 91.48410034179688, 268.5846252441406)]\n",
            "Page dict: ['G43.109', 'D72.819', 'R10.30']\n",
            "Page-39:  G43.109 [Rect(68.39816284179688, 293.9032287597656, 98.70294952392578, 304.7579650878906)]\n",
            "Page-39:  D72.819 [Rect(69.1170654296875, 311.899658203125, 98.97944641113281, 322.75439453125)]\n",
            "Page-39:  R10.30 [Rect(69.1170654296875, 329.643310546875, 94.58699035644531, 340.498046875)]\n",
            "Page dict: ['G43.109', 'D72.819']\n",
            "Page-42:  G43.109 [Rect(97.20299530029297, 207.05567932128906, 128.27459716796875, 218.18508911132812), Rect(97.19490051269531, 304.7204895019531, 128.26651000976562, 315.8498840332031)]\n",
            "Page-42:  G43.109 [Rect(97.20299530029297, 207.05567932128906, 128.27459716796875, 218.18508911132812), Rect(97.19490051269531, 304.7204895019531, 128.26651000976562, 315.8498840332031)]\n",
            "Page-42:  D72.819 [Rect(97.2030029296875, 323.9336853027344, 127.82100677490234, 335.0630798339844)]\n",
            "Page dict: ['M50.323', 'M46.92', 'R42']\n",
            "Page-74:  R42 [Rect(161.75999450683594, 352.906005859375, 176.79879760742188, 364.1973876953125)]\n",
            "Page dict: ['G43.109', 'L25.9', 'D72.819']\n",
            "Page-82:  G43.109 [Rect(132.73585510253906, 281.9337463378906, 163.80746459960938, 293.0631408691406)]\n",
            "Page-82:  L25.9 [Rect(128.6639862060547, 367.1214599609375, 148.93019104003906, 378.2508544921875)]\n",
            "Page-82:  D72.819 [Rect(133.2242889404297, 386.33465576171875, 163.84230041503906, 397.46405029296875)]\n",
            "Page dict: ['R00.2', 'L25.9', 'D72.819']\n",
            "Page-85:  L25.9 [Rect(122.15640258789062, 155.82000732421875, 142.67282104492188, 167.08680725097656)]\n",
            "Page-85:  D72.819 [Rect(122.40240478515625, 174.77838134765625, 153.39842224121094, 186.04518127441406)]\n",
            "Page dict: ['G43.109', 'L25.9']\n",
            "Page-102:  G43.109 [Rect(132.73793029785156, 320.32757568359375, 163.80953979492188, 331.45697021484375)]\n",
            "Page-102:  L25.9 [Rect(128.64808654785156, 386.32318115234375, 148.91429138183594, 397.45257568359375)]\n",
            "Page dict: ['G43.109', 'L25.9']\n",
            "Page-105:  G43.109 [Rect(122.64510345458984, 329.437255859375, 153.71670532226562, 340.566650390625)]\n",
            "Page-105:  L25.9 [Rect(122.64510345458984, 376.96807861328125, 142.9113006591797, 388.09747314453125)]\n",
            "CPU times: user 1.31 s, sys: 48.6 ms, total: 1.35 s\n",
            "Wall time: 1.42 s\n"
          ]
        }
      ]
    },
    {
      "cell_type": "code",
      "source": [
        "with open(f\"{txt_files_path}/page-37.txt\", \"r\") as f:\n",
        "  one_txt = f.read()\n",
        "  print(one_txt)"
      ],
      "metadata": {
        "id": "bVFCabem1f33",
        "outputId": "ffc63ab0-3c95-498c-ebfd-dd6177bd9865",
        "colab": {
          "base_uri": "https://localhost:8080/"
        }
      },
      "execution_count": null,
      "outputs": [
        {
          "output_type": "stream",
          "name": "stdout",
          "text": [
            ", Male,\n",
            "\n",
            "SF0063198200\n",
            "\n",
            "Patient Name (005 - Phone Number:\n",
            "\n",
            "7\n",
            "\n",
            "4of6\n",
            "\n",
            "Office/Outpatient Visit\n",
            "\n",
            "Visit Date: Mon, Jun 24, 2019 9:00 am\n",
            "\n",
            "Provider: Josephs, Barry, MD (Assistant: Coppage, Jasmine, )\n",
            "\n",
            "Location: Barry Josephs, M.D. LLG\n",
            "\n",
            "Electronically signed by Barry Josephs, MD on 06/24/2019 02:46:23 PM\n",
            "\n",
            "Printed on 06/24/2019 at 3:21 pm.\n",
            "\n",
            "Assessment:\n",
            "\n",
            "¥70.0 Preventive Physical Exam (Mild)\n",
            "\n",
            "434.91 Cerebrovascular accident (Severe)\n",
            "\n",
            "G43.109 Migraine with aura, not intractable, without status migrainosus\n",
            "\n",
            "722.91\n",
            "\n",
            "Cervical disc disorder (Mild)\n",
            "\n",
            "D72.819 Decreased white blood cell count, unspecified\n",
            "\n",
            "ROO.2 Palpitations\n",
            "\n",
            "R10.30 Lower abdominal pain, unspecified\n",
            "\n",
            "E88.2 Lipomatosis, not elsewhere classified\n",
            "\n",
            "Plan:\n",
            "\n",
            "Preventive Physical Exam\n",
            "\n",
            "PREVENTION & RECOMMENDATIONS:\n",
            "\n",
            "Overall Health and Lifestyle:\n",
            "\n",
            "Thank you for coming for the Wellness Program. It was a pleasure to update the history and physical as well as discuss\n",
            "\n",
            "your laboratory results\n",
            "\n",
            "Wellness anc Prevention begins with a healthy lifestyle and diet and exercise play an important role.\n",
            "\n",
            "You try to eat healthfully and exercise but with the stress an anxiety of work, you do not enjoy it as much as you did\n",
            "\n",
            "The Body Mass Index (BMI) is an estimate of body fat and is a useful and objective tool to assess whether one is\n",
            "\n",
            "overweight or obese. BMI is calculated from your height and weight. A BMI of 18-25 is considered normal weight. A BMI\n",
            "\n",
            "of 25-30 is overweight. A BM! of over 30 is considered obese.\n",
            "\n",
            "Abdominal obesity, where most of your fat is around your waist and not your hips, has also been found to increase the risk\n",
            "\n",
            "of heart disease and type 2 diabetes. A woman's risk goes up if her waist circumference is greater than 35 inches, anda\n",
            "\n",
            "man's risk goes up if his waist circumference is greater than 40 inches.\n",
            "\n",
            "Men should not consume more than 2 alcoholic drinks a day. Women should not consume more than 1 alcoholic drink a\n",
            "\n",
            "day.\n",
            "\n",
            "Good dentai hygiene includes brushing your teeth twice a day and flossing daily, There is evidence that inflammation\n",
            "\n",
            "around the gums is correlated with inflammation in the vascular system and an increased risk of heart attack and stroke.\n",
            "\n",
            "Cardiovascular Prevention:\n",
            "\n",
            "You have the following traditional cardiovascular risk factors: hyperlipidemia\n",
            "\n",
            "Your LDL is not as low as ideally but your other risk factors are well managed. | think that continued attention to diet and\n",
            "\n",
            "maintaining a regular exercise routine is the best way to go at this time.\n",
            "\n",
            "Cancer Prevention:\n",
            "\n",
            "Skin Cancer Screening: No suspicious lesions were seen today. SPF 30 (or higher) sunscreen and a brimmed hat are\n",
            "\n",
            "recommended during times of sun exposure.\n",
            "\n",
            "Prostate Cancer Screening: | did not fee! any area of concern on digital rectal examination today\n",
            "\n",
            "Advance Directives:\n",
            "\n",
            "Living wills, medical power of attorney and other advance medical directives describe your preferences regarding end-of-\n",
            "\n",
            "life care. Unexpected situations can happen at any age: therefore it is never too early to make your wishes known and to\n",
            "\n",
            "formally draw up such documents. Please send us a copy of your living will and advance directives at your earliest\n",
            "\n",
            "convenience\n",
            "\n",
            "Immunizations:\n",
            "\n",
            "Influenza causes approximately 24,000 deaths per year. The vaccine prevents a major portion of the number of cases\n",
            "\n",
            "and reduces hospitallizations and deaths. The current recommendations are for vaccinations for all adults and children >6\n",
            "\n",
            "months. | recommend that you get vaccinated annually against influenza.\n",
            "\n",
            "The Tetanus/Diphtheria/Pertussis vaccine (Tdap) is recommended once in adulthood to substitute as a Td booster\n",
            "\n",
            "PT a ng nved nademadk stn Pocan Vestal Aeneciton\n",
            "\n",
            "Patient Nene i s Number:\n",
            "\n",
            "APS Page 24 of 114\n",
            "\n",
            "APS.Extract® all Rights Reserved\n",
            "\n",
            "This document contains proprietary, confidential and personal data and is intended for viewing and use only by authorized users. This document may not be printed or distributed for any unauthorized purpose\n",
            "\n",
            "whatsoever. Copyright (c) 2020. All rights reserved. Innodata Synodex, LLC\n",
            "\f\n"
          ]
        }
      ]
    }
  ]
}