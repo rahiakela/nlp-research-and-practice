{
  "nbformat": 4,
  "nbformat_minor": 0,
  "metadata": {
    "colab": {
      "provenance": [],
      "toc_visible": true,
      "authorship_tag": "ABX9TyOgB1x6ut6xV7Z1xUOAs7kq",
      "include_colab_link": true
    },
    "kernelspec": {
      "name": "python3",
      "display_name": "Python 3"
    },
    "language_info": {
      "name": "python"
    },
    "accelerator": "GPU",
    "gpuClass": "standard"
  },
  "cells": [
    {
      "cell_type": "markdown",
      "metadata": {
        "id": "view-in-github",
        "colab_type": "text"
      },
      "source": [
        "<a href=\"https://colab.research.google.com/github/rahiakela/nlp-research-and-practice/blob/main/text-similarity-works/22_icd_code_descriptions_fine_tuning.ipynb\" target=\"_parent\"><img src=\"https://colab.research.google.com/assets/colab-badge.svg\" alt=\"Open In Colab\"/></a>"
      ]
    },
    {
      "cell_type": "markdown",
      "source": [
        "##ICD Code Descriptions Fine-Tuning"
      ],
      "metadata": {
        "id": "xMDobX2r5sEE"
      }
    },
    {
      "cell_type": "markdown",
      "source": [
        "**Reference**:\n",
        "\n",
        "https://www.pinecone.io/learn/unsupervised-training-sentence-transformers/"
      ],
      "metadata": {
        "id": "6OhwAx3-6CoK"
      }
    },
    {
      "cell_type": "markdown",
      "source": [
        "##Setup"
      ],
      "metadata": {
        "id": "ikVbeKCx5_Et"
      }
    },
    {
      "cell_type": "code",
      "source": [
        "!pip install datasets\n",
        "!pip install sentence-transformers"
      ],
      "metadata": {
        "id": "gJs5r3dd6JQV"
      },
      "execution_count": null,
      "outputs": []
    },
    {
      "cell_type": "code",
      "source": [
        "!pip install sentence-transformers"
      ],
      "metadata": {
        "id": "xIEnNK2k-Znz"
      },
      "execution_count": null,
      "outputs": []
    },
    {
      "cell_type": "code",
      "source": [
        "import datasets\n",
        "\n",
        "from sentence_transformers import SentenceTransformer, models\n",
        "from sentence_transformers.datasets import DenoisingAutoEncoderDataset\n",
        "from sentence_transformers.losses import DenoisingAutoEncoderLoss\n",
        "from sentence_transformers import InputExample\n",
        "from sentence_transformers.evaluation import EmbeddingSimilarityEvaluator\n",
        "\n",
        "import torch\n",
        "from torch.utils.data import DataLoader\n",
        "\n",
        "import re"
      ],
      "metadata": {
        "id": "rwjWvrXX6AT0"
      },
      "execution_count": null,
      "outputs": []
    },
    {
      "cell_type": "code",
      "source": [
        "import nltk\n",
        "nltk.download('punkt')"
      ],
      "metadata": {
        "colab": {
          "base_uri": "https://localhost:8080/"
        },
        "id": "rEsZ22mbCJSD",
        "outputId": "28279cbb-cce5-4ff6-e257-f26bc139fc31"
      },
      "execution_count": null,
      "outputs": [
        {
          "output_type": "stream",
          "name": "stderr",
          "text": [
            "[nltk_data] Downloading package punkt to /root/nltk_data...\n",
            "[nltk_data]   Package punkt is already up-to-date!\n"
          ]
        },
        {
          "output_type": "execute_result",
          "data": {
            "text/plain": [
              "True"
            ]
          },
          "metadata": {},
          "execution_count": 2
        }
      ]
    },
    {
      "cell_type": "markdown",
      "source": [
        "##Training Data"
      ],
      "metadata": {
        "id": "dMSUibQW57cS"
      }
    },
    {
      "cell_type": "code",
      "source": [
        "# iteratively download samples using streaming=True\n",
        "oscar = datasets.load_dataset(\"oscar\", \"unshuffled_deduplicated_en\", split=\"train\", streaming=True)"
      ],
      "metadata": {
        "id": "nTXkWVsa58QV"
      },
      "execution_count": null,
      "outputs": []
    },
    {
      "cell_type": "code",
      "source": [
        "for row in oscar:\n",
        "  break\n",
        "row"
      ],
      "metadata": {
        "id": "KW7J1C2c7rB9"
      },
      "execution_count": null,
      "outputs": []
    },
    {
      "cell_type": "code",
      "source": [
        "# split each of these into single sentences\n",
        "splitter = re.compile(r\"\\.\\s?\\n?\")\n",
        "splitter.split(row[\"text\"])[:10]"
      ],
      "metadata": {
        "id": "NL7gJXBu8J9S"
      },
      "execution_count": null,
      "outputs": []
    },
    {
      "cell_type": "code",
      "source": [
        "# create a list of 100K sentences to feed into TSDAE fine-tuning\n",
        "num_sentences = 0\n",
        "sentences = []\n",
        "for row in oscar:\n",
        "  new_sentences = splitter.split(row[\"text\"])\n",
        "  new_sentences = [line for line in new_sentences if len(line) > 10]\n",
        "  # we will need a list of sentences (remove too short ones above)\n",
        "  sentences.extend(new_sentences)\n",
        "\n",
        "  # the full OSCAR en corpus is huge, we don't need all that data\n",
        "  num_sentences += len(new_sentences)\n",
        "  if num_sentences > 50000:\n",
        "    # Sentence transformers recommends 10-100K sentences for training\n",
        "    break"
      ],
      "metadata": {
        "id": "pci1a-Ax8003"
      },
      "execution_count": null,
      "outputs": []
    },
    {
      "cell_type": "code",
      "source": [
        "sentences[:2]"
      ],
      "metadata": {
        "colab": {
          "base_uri": "https://localhost:8080/"
        },
        "id": "VcYnQclH9kzT",
        "outputId": "c538d000-fdf3-4bcb-cbcc-6e0bc05bcca1"
      },
      "execution_count": null,
      "outputs": [
        {
          "output_type": "execute_result",
          "data": {
            "text/plain": [
              "['Mtendere Village was inspired by the vision of Chief Napoleon Dzombe, which he shared with John Blanchard during his first visit to Malawi',\n",
              " 'Chief Napoleon conveyed the desperate need for a program to intervene and care for the orphans and vulnerable children (OVC) in Malawi, and John committed to help']"
            ]
          },
          "metadata": {},
          "execution_count": 7
        }
      ]
    },
    {
      "cell_type": "code",
      "source": [
        "# dataset class with noise functionality built-in\n",
        "train_data = DenoisingAutoEncoderDataset(sentences)\n",
        "\n",
        "# we use a dataloader as usual\n",
        "data_loader = DataLoader(train_data, batch_size=4, shuffle=True, drop_last=True)"
      ],
      "metadata": {
        "id": "DiXFJpIY-lQi"
      },
      "execution_count": null,
      "outputs": []
    },
    {
      "cell_type": "markdown",
      "source": [
        "##Model and Training"
      ],
      "metadata": {
        "id": "2tDxiyfA_BI3"
      }
    },
    {
      "cell_type": "code",
      "source": [
        "torch.cuda.empty_cache()"
      ],
      "metadata": {
        "id": "ScqScvH-ICVU"
      },
      "execution_count": null,
      "outputs": []
    },
    {
      "cell_type": "code",
      "source": [
        "bert_base = models.Transformer(\"bert-base-uncased\")\n",
        "pooling = models.Pooling(bert_base.get_word_embedding_dimension(), \"cls\")\n",
        "\n",
        "model = SentenceTransformer(modules=[bert_base, pooling])"
      ],
      "metadata": {
        "id": "_vG0Fr58_BuC"
      },
      "execution_count": null,
      "outputs": []
    },
    {
      "cell_type": "code",
      "source": [
        "model"
      ],
      "metadata": {
        "colab": {
          "base_uri": "https://localhost:8080/"
        },
        "id": "1LCTJlTZBFPf",
        "outputId": "50b5d77b-2646-4fe9-aa4b-329d513bd7b8"
      },
      "execution_count": null,
      "outputs": [
        {
          "output_type": "execute_result",
          "data": {
            "text/plain": [
              "SentenceTransformer(\n",
              "  (0): Transformer({'max_seq_length': 512, 'do_lower_case': False}) with Transformer model: BertModel \n",
              "  (1): Pooling({'word_embedding_dimension': 768, 'pooling_mode_cls_token': True, 'pooling_mode_mean_tokens': False, 'pooling_mode_max_tokens': False, 'pooling_mode_mean_sqrt_len_tokens': False})\n",
              ")"
            ]
          },
          "metadata": {},
          "execution_count": 10
        }
      ]
    },
    {
      "cell_type": "code",
      "source": [
        "loss = DenoisingAutoEncoderLoss(model, tie_encoder_decoder=True)"
      ],
      "metadata": {
        "id": "dXbBGEk6BTk7"
      },
      "execution_count": null,
      "outputs": []
    },
    {
      "cell_type": "code",
      "source": [
        "# now ready to begin fine-tuning\n",
        "model.fit(train_objectives=[(data_loader, loss)],\n",
        "          epochs=1,\n",
        "          weight_decay=0,\n",
        "          scheduler=\"constantlr\",\n",
        "          optimizer_params={\"lr\": 3e-5},\n",
        "          show_progress_bar=True)"
      ],
      "metadata": {
        "id": "96Yj3WdqBke4"
      },
      "execution_count": null,
      "outputs": []
    },
    {
      "cell_type": "code",
      "source": [
        "model.save(\"output/tsdae-bert-base-uncased\")"
      ],
      "metadata": {
        "id": "BPJOj-ivCANV"
      },
      "execution_count": null,
      "outputs": []
    },
    {
      "cell_type": "markdown",
      "source": [
        "##Evaluate model performance"
      ],
      "metadata": {
        "id": "884MTBqkCvwT"
      }
    },
    {
      "cell_type": "code",
      "source": [
        "sts = datasets.load_dataset(\"glue\", \"stsb\", split=\"validation\")"
      ],
      "metadata": {
        "id": "3YQnogzMCxZu"
      },
      "execution_count": null,
      "outputs": []
    },
    {
      "cell_type": "code",
      "source": [
        "sts"
      ],
      "metadata": {
        "colab": {
          "base_uri": "https://localhost:8080/"
        },
        "id": "ccb-o0rmDBf_",
        "outputId": "d212252c-c329-4f0f-de39-679440f432fc"
      },
      "execution_count": null,
      "outputs": [
        {
          "output_type": "execute_result",
          "data": {
            "text/plain": [
              "Dataset({\n",
              "    features: ['sentence1', 'sentence2', 'label', 'idx'],\n",
              "    num_rows: 1500\n",
              "})"
            ]
          },
          "metadata": {},
          "execution_count": 15
        }
      ]
    },
    {
      "cell_type": "code",
      "source": [
        "# normalize the 0 -> 5 range\n",
        "sts = sts.map(lambda x: {\"label\": x[\"label\"] / 5.0})"
      ],
      "metadata": {
        "id": "dmIks9HSDQF2"
      },
      "execution_count": null,
      "outputs": []
    },
    {
      "cell_type": "code",
      "source": [
        "samples = []\n",
        "\n",
        "for sample in sts:\n",
        "  # reformat to use InputExample\n",
        "  samples.append(InputExample(\n",
        "    texts=[sample[\"sentence1\"], sample[\"sentence2\"]],\n",
        "    label = sample[\"label\"]\n",
        "  ))"
      ],
      "metadata": {
        "id": "NuwuJOCKDbi-"
      },
      "execution_count": null,
      "outputs": []
    },
    {
      "cell_type": "code",
      "source": [
        "evaluator = EmbeddingSimilarityEvaluator.from_input_examples(samples, write_csv=False)"
      ],
      "metadata": {
        "id": "C7yuTijiD_it"
      },
      "execution_count": null,
      "outputs": []
    },
    {
      "cell_type": "code",
      "source": [
        "evaluator(model)"
      ],
      "metadata": {
        "colab": {
          "base_uri": "https://localhost:8080/"
        },
        "id": "oM6Nv5fnEJ4S",
        "outputId": "a149a956-799b-41cb-ee93-3aa10440efe2"
      },
      "execution_count": null,
      "outputs": [
        {
          "output_type": "execute_result",
          "data": {
            "text/plain": [
              "0.7607400232154499"
            ]
          },
          "metadata": {},
          "execution_count": 19
        }
      ]
    },
    {
      "cell_type": "code",
      "source": [
        "# Let’s compare it to an untrained bert-base-uncased\n",
        "bert_base2 = models.Transformer(\"bert-base-uncased\")\n",
        "pooling2 = models.Pooling(bert_base2.get_word_embedding_dimension(), \"cls\")\n",
        "\n",
        "model2 = SentenceTransformer(modules=[bert_base2, pooling2])"
      ],
      "metadata": {
        "id": "ZG3XxHpcEaWa"
      },
      "execution_count": null,
      "outputs": []
    },
    {
      "cell_type": "code",
      "source": [
        "evaluator(model2)"
      ],
      "metadata": {
        "colab": {
          "base_uri": "https://localhost:8080/"
        },
        "id": "lrbN2qJZVHHL",
        "outputId": "f15d9c10-ff25-4adc-ead8-7da7b163986c"
      },
      "execution_count": null,
      "outputs": [
        {
          "output_type": "execute_result",
          "data": {
            "text/plain": [
              "0.3173615250643977"
            ]
          },
          "metadata": {},
          "execution_count": 21
        }
      ]
    },
    {
      "cell_type": "code",
      "source": [
        "# let's compare it with original SBERT\n",
        "model3 = SentenceTransformer(\"bert-base-nli-mean-tokens\")"
      ],
      "metadata": {
        "id": "MjrWWEmNJQsp"
      },
      "execution_count": null,
      "outputs": []
    },
    {
      "cell_type": "code",
      "source": [
        "evaluator(model3)"
      ],
      "metadata": {
        "colab": {
          "base_uri": "https://localhost:8080/"
        },
        "id": "D3yOW1F3VKiJ",
        "outputId": "259de919-74a2-43f0-a842-20ba3b97866a"
      },
      "execution_count": null,
      "outputs": [
        {
          "output_type": "execute_result",
          "data": {
            "text/plain": [
              "0.807870792395701"
            ]
          },
          "metadata": {},
          "execution_count": 23
        }
      ]
    },
    {
      "cell_type": "code",
      "source": [
        "# more advanced model like MPNet\n",
        "model4 = SentenceTransformer(\"flax-sentence-embeddings/all_datasets_v3_mpnet-base\")"
      ],
      "metadata": {
        "id": "DFvbvX9FKBkA"
      },
      "execution_count": null,
      "outputs": []
    },
    {
      "cell_type": "code",
      "source": [
        "evaluator(model4)"
      ],
      "metadata": {
        "colab": {
          "base_uri": "https://localhost:8080/"
        },
        "id": "dO4bPWjCVMk_",
        "outputId": "dc9e20db-a70f-49c2-855d-ff806d0400e7"
      },
      "execution_count": null,
      "outputs": [
        {
          "output_type": "execute_result",
          "data": {
            "text/plain": [
              "0.8883451638682623"
            ]
          },
          "metadata": {},
          "execution_count": 25
        }
      ]
    }
  ]
}