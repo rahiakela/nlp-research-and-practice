{
  "nbformat": 4,
  "nbformat_minor": 0,
  "metadata": {
    "colab": {
      "provenance": [],
      "collapsed_sections": [
        "0hK4nU35JVaA",
        "N4dDTs-rJL_h",
        "TycHgKTZJ6a6"
      ],
      "authorship_tag": "ABX9TyN0GgnKlhn/u0RxueGCm39d",
      "include_colab_link": true
    },
    "kernelspec": {
      "name": "python3",
      "display_name": "Python 3"
    },
    "language_info": {
      "name": "python"
    }
  },
  "cells": [
    {
      "cell_type": "markdown",
      "metadata": {
        "id": "view-in-github",
        "colab_type": "text"
      },
      "source": [
        "<a href=\"https://colab.research.google.com/github/rahiakela/nlp-research-and-practice/blob/main/text-similarity-works/icd10-code-highlighting/13_4_icd_10_9_code_and_keyword_impairment_highlighting.ipynb\" target=\"_parent\"><img src=\"https://colab.research.google.com/assets/colab-badge.svg\" alt=\"Open In Colab\"/></a>"
      ]
    },
    {
      "cell_type": "markdown",
      "source": [
        "##Setup"
      ],
      "metadata": {
        "id": "u6vazPC0Ja4i"
      }
    },
    {
      "cell_type": "code",
      "source": [
        "%%capture\n",
        "\n",
        "!pip -q install spacy\n",
        "!python -m spacy download en_core_web_sm\n",
        "\n",
        "!pip install pillow\n",
        "\n",
        "!pip install more-itertools\n",
        "!pip install PyPDF2\n",
        "!pip install pymupdf==1.22.0\n",
        "!pip install fuzzywuzzy"
      ],
      "metadata": {
        "id": "gdwgVvXuJdz9"
      },
      "execution_count": 1,
      "outputs": []
    },
    {
      "cell_type": "code",
      "source": [
        "import fitz\n",
        "print(fitz.__doc__)"
      ],
      "metadata": {
        "id": "sQxK2S849bPW"
      },
      "execution_count": null,
      "outputs": []
    },
    {
      "cell_type": "code",
      "source": [
        "import more_itertools\n",
        "print(more_itertools.__version__)"
      ],
      "metadata": {
        "id": "HvvtcxEO-wJB",
        "outputId": "a1315598-0c21-4b6d-e8e0-7c80cc55b84f",
        "colab": {
          "base_uri": "https://localhost:8080/"
        }
      },
      "execution_count": null,
      "outputs": [
        {
          "output_type": "stream",
          "name": "stdout",
          "text": [
            "10.1.0\n"
          ]
        }
      ]
    },
    {
      "cell_type": "code",
      "source": [
        "!pip install pikepdf\n",
        "!apt install ocrmypdf"
      ],
      "metadata": {
        "id": "YBXapnZzigSO"
      },
      "execution_count": null,
      "outputs": []
    },
    {
      "cell_type": "code",
      "source": [
        "import nltk\n",
        "\n",
        "nltk.download('punkt')\n",
        "nltk.download('stopwords')"
      ],
      "metadata": {
        "id": "X7HN48uMv2O-"
      },
      "execution_count": null,
      "outputs": []
    },
    {
      "cell_type": "code",
      "source": [
        "!python --version"
      ],
      "metadata": {
        "id": "4QPcnYT5AKpj",
        "colab": {
          "base_uri": "https://localhost:8080/"
        },
        "outputId": "61655107-21f5-45fb-b387-fe77aaea5043"
      },
      "execution_count": null,
      "outputs": [
        {
          "output_type": "stream",
          "name": "stdout",
          "text": [
            "Python 3.10.12\n"
          ]
        }
      ]
    },
    {
      "cell_type": "code",
      "source": [
        "!rm -rf data\n",
        "!unzip data.zip"
      ],
      "metadata": {
        "id": "YyREdYtyqNMK"
      },
      "execution_count": null,
      "outputs": []
    },
    {
      "cell_type": "markdown",
      "source": [
        "##Import"
      ],
      "metadata": {
        "id": "L0vdWKmkdeL6"
      }
    },
    {
      "cell_type": "code",
      "source": [
        "import re\n",
        "import os\n",
        "import shutil\n",
        "import glob\n",
        "import json\n",
        "import logging\n",
        "import more_itertools\n",
        "from pathlib import Path\n",
        "\n",
        "import numpy as np\n",
        "import pandas as pd\n",
        "\n",
        "import fitz\n",
        "\n",
        "from spacy.lang.en import English\n",
        "\n",
        "from nltk.tokenize import word_tokenize\n",
        "from nltk.corpus import stopwords\n",
        "from fuzzywuzzy import fuzz\n",
        "\n",
        "from dataclasses import dataclass\n",
        "from array import *\n",
        "\n",
        "from concurrent import futures\n",
        "from highlighting import Highlighter\n",
        "from keyword_matcher import KeywordMatcher\n",
        "from sentence_extractor import SentenceExtractor\n",
        "from generic_matcher import GenericMatcher\n",
        "import config as cfg\n",
        "from utils import *"
      ],
      "metadata": {
        "id": "gKbd7WsfyYX3",
        "colab": {
          "base_uri": "https://localhost:8080/"
        },
        "outputId": "c4b2a8dd-048f-4827-b2b3-16ec89b9a0e0"
      },
      "execution_count": 1,
      "outputs": [
        {
          "output_type": "stream",
          "name": "stderr",
          "text": [
            "/usr/local/lib/python3.10/dist-packages/fuzzywuzzy/fuzz.py:11: UserWarning: Using slow pure-python SequenceMatcher. Install python-Levenshtein to remove this warning\n",
            "  warnings.warn('Using slow pure-python SequenceMatcher. Install python-Levenshtein to remove this warning')\n"
          ]
        }
      ]
    },
    {
      "cell_type": "markdown",
      "source": [
        "##PDF Highlighting"
      ],
      "metadata": {
        "id": "7s7ZxYMUBAol"
      }
    },
    {
      "cell_type": "code",
      "source": [
        "!mkdir -p /home/ocreng\n",
        "!mkdir -p /home/ocreng/ocrhigh\n",
        "!mkdir -p /home/ocreng/ocrhigh/input\n",
        "!mkdir -p /home/ocreng/ocrhigh/output\n",
        "!mkdir -p /home/ocreng/ocrhigh/processed\n",
        "!mkdir -p /home/ocreng/ocrhigh/pdf-files\n",
        "!mkdir -p /home/ocreng/ocrhigh/txt-files"
      ],
      "metadata": {
        "id": "ZWvB_40a8SNJ"
      },
      "execution_count": 2,
      "outputs": []
    },
    {
      "cell_type": "code",
      "source": [
        "def purge(file_path):\n",
        "  for f in glob.glob(file_path):\n",
        "    os.remove(f)"
      ],
      "metadata": {
        "id": "xQe5Xfp9AWLn"
      },
      "execution_count": 3,
      "outputs": []
    },
    {
      "cell_type": "code",
      "source": [
        "%%time\n",
        "# Step-0: create highlighter instance\n",
        "INPUT_PDF_FILES_PATH = cfg.file_path[\"INPUT_PATH\"]\n",
        "\n",
        "highlighter = Highlighter(match_threshold=35)\n",
        "sent_extractor = SentenceExtractor()\n",
        "generic_matcher = GenericMatcher()"
      ],
      "metadata": {
        "id": "MkoXzNA1AWu9",
        "colab": {
          "base_uri": "https://localhost:8080/"
        },
        "outputId": "c8176720-28dc-48de-f132-d7e82f2c5c47"
      },
      "execution_count": 4,
      "outputs": [
        {
          "output_type": "stream",
          "name": "stdout",
          "text": [
            "CPU times: user 1min 22s, sys: 11.3 s, total: 1min 33s\n",
            "Wall time: 1min 35s\n"
          ]
        }
      ]
    },
    {
      "cell_type": "markdown",
      "source": [
        "```log\n",
        "CPU times: user 1min 7s, sys: 6.54 s, total: 1min 14s\n",
        "Wall time: 1min 15s\n",
        "```"
      ],
      "metadata": {
        "id": "ftvHz73FCCke"
      }
    },
    {
      "cell_type": "markdown",
      "source": [
        "##Test"
      ],
      "metadata": {
        "id": "S-EA40XdAcCu"
      }
    },
    {
      "cell_type": "code",
      "source": [
        "!rm -rf /home/ocreng/ocrhigh/input\n",
        "!mkdir -p /home/ocreng/ocrhigh/input"
      ],
      "metadata": {
        "id": "wfJwndx9vcTP"
      },
      "execution_count": 21,
      "outputs": []
    },
    {
      "cell_type": "code",
      "source": [
        "!cp Practice_Copy_Test_OCR.pdf /home/ocreng/ocrhigh/input\n",
        "#!cp quinn_ian_michael_5353_1368260963_awp_30a71784-41b8-423d-9d29-8f338f050398.pdf /home/ocreng/ocrhigh/input"
      ],
      "metadata": {
        "id": "j6YcCHZ_9OMw"
      },
      "execution_count": 22,
      "outputs": []
    },
    {
      "cell_type": "code",
      "source": [
        "!rm -rf /home/ocreng/ocrhigh/output\n",
        "!mkdir -p /home/ocreng/ocrhigh/output\n",
        "!rm -rf output*.zip"
      ],
      "metadata": {
        "id": "3ArIraAD0zx3"
      },
      "execution_count": 23,
      "outputs": []
    },
    {
      "cell_type": "code",
      "source": [
        "%%time\n",
        "text_list = None\n",
        "icd10_code_dict1 = None\n",
        "icd9_code_dict1 = None\n",
        "wrong_keyword_dict = None\n",
        "for pdf_file in os.listdir(INPUT_PDF_FILES_PATH):\n",
        "    print(f\"#####################Processing File[{pdf_file}] for highlighting###########################\")\n",
        "    pdf_file_name = f\"{INPUT_PDF_FILES_PATH}/{pdf_file}\"\n",
        "\n",
        "    # Step-1: splitting pdf file\n",
        "    print(\"Step-1: Splitting pdf file............\")\n",
        "    pdf_list = split_pdf(highlighter.PDF_FILES_PATH, pdf_file_name)\n",
        "\n",
        "    # Step-2: Extracting text from pdf\n",
        "    print(\"Step-2: Extracting text from pdf............\")\n",
        "    txt_list = extract_text_from_pdf(highlighter.PDF_FILES_PATH, highlighter.TXT_FILES_PATH, pdf_list)\n",
        "    highlighter.set_text_list(txt_list)\n",
        "\n",
        "    # Step-3: Searching ICD-10 cod\n",
        "    icd10_code_dict = None\n",
        "    if cfg.load_pattern[\"icd_code10\"]:\n",
        "      print(\"Step-3: Searching ICD-10 code into text file..........\")\n",
        "      icd10_code_dict = highlighter.search_icd_code(txt_list)\n",
        "\n",
        "    # Step-4: Searching ICD-9 code\n",
        "    icd9_code_dict = None\n",
        "    if cfg.load_pattern[\"icd_code9\"]:\n",
        "        print(\"Step-4: Searching ICD-9 code into text file..........\")\n",
        "        icd9_code_dict = highlighter.search_icd_code(txt_list, code_type=\"ICD-9\")\n",
        "\n",
        "    # Step-5: Get closet match of keyword impairment\n",
        "    print(\"Step-5: Get closet match of keyword impairment..........\")\n",
        "    matched_keyword_dict = sent_extractor.get_matched_keyword_dict(txt_list)\n",
        "    highlighter.set_impairment_keyword_dict(matched_keyword_dict)\n",
        "\n",
        "    # Step-6: Get date time list from text file\n",
        "    print(\"Step-6: Get date time list from text file..........\")\n",
        "    matched_date_dict = generic_matcher.get_match_date_dict(txt_list)\n",
        "    matched_number_dict = generic_matcher.get_match_number_dict(txt_list)\n",
        "    highlighter.set_page_matched_date_dict(matched_date_dict)\n",
        "    highlighter.set_page_matched_number_dict(matched_number_dict)\n",
        "\n",
        "    # Step-7: Highlighting ICD-10 code and all keyword impairment into pdf\n",
        "    print(\"Step-7: Highlighting ICD-10 code and all keyword impairment into pdf............\")\n",
        "    pdf_output_file, json_code_output_file = highlighter.highlight_icd_code_and_keyword_impairment(icd10_code_dict, pdf_file_name=pdf_file_name)\n",
        "    print(f\"File[{pdf_output_file}] is saved after highlighting ICD-10 code and all keyword impairment \")\n",
        "    print(f\"Highlighted code and impairment coordinates are saved into [{json_code_output_file}] file.\")\n",
        "\n",
        "    # Step-8: Clean up: move the current file into processed folder\n",
        "    if Path(f\"{cfg.file_path['PROCESSED_PATH']}/{pdf_file}\").exists():\n",
        "        # take backup of existing file\n",
        "        shutil.move(f\"{cfg.file_path['PROCESSED_PATH']}/{pdf_file}\",\n",
        "                    f\"{cfg.file_path['PROCESSED_PATH']}/{pdf_file}_bkp\")\n",
        "        # then move it\n",
        "        shutil.move(pdf_file_name, cfg.file_path[\"PROCESSED_PATH\"])\n",
        "    else:\n",
        "        shutil.move(pdf_file_name, cfg.file_path[\"PROCESSED_PATH\"])\n",
        "\n",
        "    # remove all pdf and text files\n",
        "    purge(f\"{cfg.file_path['TMP_PDF_FILES_PATH']}/*.pdf\")\n",
        "    purge(f\"{cfg.file_path['TMP_TXT_FILES_PATH']}/*.txt\")\n",
        "    pdf_list = []\n",
        "    txt_list = []"
      ],
      "metadata": {
        "id": "hiOT-aTfedMT"
      },
      "execution_count": null,
      "outputs": []
    },
    {
      "cell_type": "code",
      "source": [
        "!zip output.zip /home/ocreng/ocrhigh/output/*.*"
      ],
      "metadata": {
        "colab": {
          "base_uri": "https://localhost:8080/"
        },
        "id": "o_Ev-Kf9d0oD",
        "outputId": "9329d219-0562-4f85-8721-2598a1aa19be"
      },
      "execution_count": 25,
      "outputs": [
        {
          "output_type": "stream",
          "name": "stdout",
          "text": [
            "  adding: home/ocreng/ocrhigh/output/Practice_Copy_Test_OCR_output.json (deflated 80%)\n",
            "  adding: home/ocreng/ocrhigh/output/Practice_Copy_Test_OCR_output.pdf (deflated 4%)\n"
          ]
        }
      ]
    },
    {
      "cell_type": "code",
      "source": [
        "#matched_date_dict"
      ],
      "metadata": {
        "id": "Bq9v0BAnd1K-"
      },
      "execution_count": 26,
      "outputs": []
    },
    {
      "cell_type": "code",
      "source": [
        "#matched_number_dict[0]"
      ],
      "metadata": {
        "id": "jyWfaCClj4hb"
      },
      "execution_count": 27,
      "outputs": []
    },
    {
      "cell_type": "code",
      "source": [
        "#matched_keyword_dict[0]"
      ],
      "metadata": {
        "id": "lE-licttaQKe"
      },
      "execution_count": 28,
      "outputs": []
    },
    {
      "cell_type": "markdown",
      "source": [
        "##Regex Issue"
      ],
      "metadata": {
        "id": "G1umhjpi6sNG"
      }
    },
    {
      "cell_type": "code",
      "source": [
        "found_num = \"8%\"\n",
        "term = \"%\"\n",
        "\n",
        "matches = False\n",
        "\n",
        "if term == \"%\":\n",
        "  if term == \"%\" and found_num.strip() == \"%\":\n",
        "      matches = True\n",
        "  elif found_num.strip().endswith(\"%\"):\n",
        "      matches = False\n",
        "  print(f\"matches: {matches}\")"
      ],
      "metadata": {
        "colab": {
          "base_uri": "https://localhost:8080/"
        },
        "id": "c2_sYCuU6txQ",
        "outputId": "63e2c4f5-9f89-4e20-c6fd-987e96c7af8e"
      },
      "execution_count": 30,
      "outputs": [
        {
          "output_type": "stream",
          "name": "stdout",
          "text": [
            "matches: False\n"
          ]
        }
      ]
    },
    {
      "cell_type": "code",
      "source": [
        "term = \"98%\"\n",
        "found_num = \"98%\"\n",
        "matches = len(re.findall(\n",
        "        rf\"(?<![/0-9a-zA-Z:])([><\\-.]?{re.escape(term.strip())})(?:mg|lb|lbs|kg|ml|g)?(?![/0-9a-zA-Z:])[><\\-.]?\",\n",
        "        f\"{found_num.strip()}\")) > 0\n",
        "matches"
      ],
      "metadata": {
        "colab": {
          "base_uri": "https://localhost:8080/"
        },
        "id": "dvejnWjy6uMk",
        "outputId": "46fbe32d-5c22-4ef4-fc62-55c9bcf6c924"
      },
      "execution_count": 28,
      "outputs": [
        {
          "output_type": "execute_result",
          "data": {
            "text/plain": [
              "True"
            ]
          },
          "metadata": {},
          "execution_count": 28
        }
      ]
    },
    {
      "cell_type": "markdown",
      "source": [
        "##SynId Issue"
      ],
      "metadata": {
        "id": "tp9qI4XpPces"
      }
    },
    {
      "cell_type": "code",
      "source": [
        "synid_df = highlighter.synid_df\n",
        "\n",
        "keyword_impairment = \"E-cigarette\"\n",
        "data_df = synid_df.loc[synid_df[\"Short_Description\"].str.strip() == keyword_impairment.strip()]\n",
        "if not data_df.empty and data_df[:1][\"Category_1\"].str.lower().item() == \"Abbreviations\".lower():\n",
        "  synid_list = list(data_df[\"SynId\"])\n",
        "  print(synid_list)"
      ],
      "metadata": {
        "id": "BNsTYURHOVRd"
      },
      "execution_count": null,
      "outputs": []
    },
    {
      "cell_type": "code",
      "source": [
        "data_df"
      ],
      "metadata": {
        "id": "ZO5m_xNEPV2h",
        "outputId": "510eaf2b-2e0f-49df-9191-31e914b5d79e",
        "colab": {
          "base_uri": "https://localhost:8080/",
          "height": 53
        }
      },
      "execution_count": null,
      "outputs": [
        {
          "output_type": "execute_result",
          "data": {
            "text/plain": [
              "Empty DataFrame\n",
              "Columns: [SynId, Short_Description, Category_1]\n",
              "Index: []"
            ],
            "text/html": [
              "\n",
              "  <div id=\"df-a6bd1457-9d70-44f4-b7ea-d8122aa1b704\" class=\"colab-df-container\">\n",
              "    <div>\n",
              "<style scoped>\n",
              "    .dataframe tbody tr th:only-of-type {\n",
              "        vertical-align: middle;\n",
              "    }\n",
              "\n",
              "    .dataframe tbody tr th {\n",
              "        vertical-align: top;\n",
              "    }\n",
              "\n",
              "    .dataframe thead th {\n",
              "        text-align: right;\n",
              "    }\n",
              "</style>\n",
              "<table border=\"1\" class=\"dataframe\">\n",
              "  <thead>\n",
              "    <tr style=\"text-align: right;\">\n",
              "      <th></th>\n",
              "      <th>SynId</th>\n",
              "      <th>Short_Description</th>\n",
              "      <th>Category_1</th>\n",
              "    </tr>\n",
              "  </thead>\n",
              "  <tbody>\n",
              "  </tbody>\n",
              "</table>\n",
              "</div>\n",
              "    <div class=\"colab-df-buttons\">\n",
              "\n",
              "  <div class=\"colab-df-container\">\n",
              "    <button class=\"colab-df-convert\" onclick=\"convertToInteractive('df-a6bd1457-9d70-44f4-b7ea-d8122aa1b704')\"\n",
              "            title=\"Convert this dataframe to an interactive table.\"\n",
              "            style=\"display:none;\">\n",
              "\n",
              "  <svg xmlns=\"http://www.w3.org/2000/svg\" height=\"24px\" viewBox=\"0 -960 960 960\">\n",
              "    <path d=\"M120-120v-720h720v720H120Zm60-500h600v-160H180v160Zm220 220h160v-160H400v160Zm0 220h160v-160H400v160ZM180-400h160v-160H180v160Zm440 0h160v-160H620v160ZM180-180h160v-160H180v160Zm440 0h160v-160H620v160Z\"/>\n",
              "  </svg>\n",
              "    </button>\n",
              "\n",
              "  <style>\n",
              "    .colab-df-container {\n",
              "      display:flex;\n",
              "      gap: 12px;\n",
              "    }\n",
              "\n",
              "    .colab-df-convert {\n",
              "      background-color: #E8F0FE;\n",
              "      border: none;\n",
              "      border-radius: 50%;\n",
              "      cursor: pointer;\n",
              "      display: none;\n",
              "      fill: #1967D2;\n",
              "      height: 32px;\n",
              "      padding: 0 0 0 0;\n",
              "      width: 32px;\n",
              "    }\n",
              "\n",
              "    .colab-df-convert:hover {\n",
              "      background-color: #E2EBFA;\n",
              "      box-shadow: 0px 1px 2px rgba(60, 64, 67, 0.3), 0px 1px 3px 1px rgba(60, 64, 67, 0.15);\n",
              "      fill: #174EA6;\n",
              "    }\n",
              "\n",
              "    .colab-df-buttons div {\n",
              "      margin-bottom: 4px;\n",
              "    }\n",
              "\n",
              "    [theme=dark] .colab-df-convert {\n",
              "      background-color: #3B4455;\n",
              "      fill: #D2E3FC;\n",
              "    }\n",
              "\n",
              "    [theme=dark] .colab-df-convert:hover {\n",
              "      background-color: #434B5C;\n",
              "      box-shadow: 0px 1px 3px 1px rgba(0, 0, 0, 0.15);\n",
              "      filter: drop-shadow(0px 1px 2px rgba(0, 0, 0, 0.3));\n",
              "      fill: #FFFFFF;\n",
              "    }\n",
              "  </style>\n",
              "\n",
              "    <script>\n",
              "      const buttonEl =\n",
              "        document.querySelector('#df-a6bd1457-9d70-44f4-b7ea-d8122aa1b704 button.colab-df-convert');\n",
              "      buttonEl.style.display =\n",
              "        google.colab.kernel.accessAllowed ? 'block' : 'none';\n",
              "\n",
              "      async function convertToInteractive(key) {\n",
              "        const element = document.querySelector('#df-a6bd1457-9d70-44f4-b7ea-d8122aa1b704');\n",
              "        const dataTable =\n",
              "          await google.colab.kernel.invokeFunction('convertToInteractive',\n",
              "                                                    [key], {});\n",
              "        if (!dataTable) return;\n",
              "\n",
              "        const docLinkHtml = 'Like what you see? Visit the ' +\n",
              "          '<a target=\"_blank\" href=https://colab.research.google.com/notebooks/data_table.ipynb>data table notebook</a>'\n",
              "          + ' to learn more about interactive tables.';\n",
              "        element.innerHTML = '';\n",
              "        dataTable['output_type'] = 'display_data';\n",
              "        await google.colab.output.renderOutput(dataTable, element);\n",
              "        const docLink = document.createElement('div');\n",
              "        docLink.innerHTML = docLinkHtml;\n",
              "        element.appendChild(docLink);\n",
              "      }\n",
              "    </script>\n",
              "  </div>\n",
              "\n",
              "    </div>\n",
              "  </div>\n"
            ]
          },
          "metadata": {},
          "execution_count": 9
        }
      ]
    },
    {
      "cell_type": "code",
      "source": [
        "data_df[:1][\"Category_1\"].str.lower().item()"
      ],
      "metadata": {
        "id": "LXzDvgbJPDHr",
        "outputId": "deb306e5-11c6-4d7f-de29-d9e27123993c",
        "colab": {
          "base_uri": "https://localhost:8080/",
          "height": 35
        }
      },
      "execution_count": null,
      "outputs": [
        {
          "output_type": "execute_result",
          "data": {
            "text/plain": [
              "'impairments'"
            ],
            "application/vnd.google.colaboratory.intrinsic+json": {
              "type": "string"
            }
          },
          "metadata": {},
          "execution_count": 28
        }
      ]
    },
    {
      "cell_type": "code",
      "source": [
        "if data_df.empty or data_df[:1][\"Category_1\"].str.lower().item() != \"Abbreviations\".lower():\n",
        "  synid_list = list(synid_df.loc[synid_df[\"Short_Description\"].str.lower().str.strip() == keyword_impairment.lower()][\"SynId\"])\n",
        "synid_list"
      ],
      "metadata": {
        "id": "wfInEJHoPLB9",
        "outputId": "137ce0c1-5174-469b-c735-e097c5b0b40a",
        "colab": {
          "base_uri": "https://localhost:8080/"
        }
      },
      "execution_count": null,
      "outputs": [
        {
          "output_type": "execute_result",
          "data": {
            "text/plain": [
              "['KW20880']"
            ]
          },
          "metadata": {},
          "execution_count": 13
        }
      ]
    },
    {
      "cell_type": "markdown",
      "source": [
        "##Impairment Comparihension"
      ],
      "metadata": {
        "id": "mB2GXHtraRgj"
      }
    },
    {
      "cell_type": "code",
      "source": [
        "json_arr_list = list(map(sent_extractor.get_json_array_list, text_list))\n",
        "tmp_wrong_keyword_dict = {\n",
        "    idx: set([list(element.keys())[0] for element in json_arr if json_arr is not None])\n",
        "    for idx, json_arr in enumerate(json_arr_list)\n",
        "}"
      ],
      "metadata": {
        "id": "XmDVHUwupYwF"
      },
      "execution_count": null,
      "outputs": []
    },
    {
      "cell_type": "code",
      "source": [
        "json_arr_list"
      ],
      "metadata": {
        "id": "veV0_fcKsA7_"
      },
      "execution_count": null,
      "outputs": []
    },
    {
      "cell_type": "code",
      "source": [
        "doc_keyword_dict = {\n",
        "    idx:  {{k : v for k, v in page_keyword_dict.items()} for page_keyword_dict in json_arr}\n",
        "    for idx, json_arr in enumerate(json_arr_list) if json_arr is not None\n",
        "}"
      ],
      "metadata": {
        "id": "sJrAgoAV0OpX"
      },
      "execution_count": null,
      "outputs": []
    },
    {
      "cell_type": "code",
      "source": [
        "doc_keyword_dict[5]"
      ],
      "metadata": {
        "id": "8A2iLjwK24tY",
        "outputId": "8ec456e1-f40d-4036-eb0d-412dadcfebd1",
        "colab": {
          "base_uri": "https://localhost:8080/"
        }
      },
      "execution_count": null,
      "outputs": [
        {
          "output_type": "execute_result",
          "data": {
            "text/plain": [
              "[{'O2Sat': 'O2Sat'},\n",
              " {'BP:': 'BP:'},\n",
              " {'T:': 'T:'},\n",
              " {'BMI': 'BMI'},\n",
              " {'Ht:': 'Ht:'},\n",
              " {'tdap': 'tdap'},\n",
              " {'Ht': 'Ht'},\n",
              " {'%': '%'},\n",
              " {'O2Sat:': 'O2Sat:'},\n",
              " {'DOB': 'DOB'},\n",
              " {'NKDA': 'NKDA'},\n",
              " {'BP': 'BP'},\n",
              " {'covid': 'covid'},\n",
              " {'No medications reported by patient': 'no medications reported by patient'},\n",
              " {'diopathic osteoarthritis': 'idiopathic osteoarthritis'},\n",
              " {'Sleep pattern disturbance': 'sleep pattern disturbance'},\n",
              " {'OBSTETRICS & GYNECOLOGY': 'Obstetrics & Gynecology'},\n",
              " {'No medications reported': 'no medications reported'},\n",
              " {'Primary Care Provider': 'primary care provider'},\n",
              " {'Mixed hyperlipidemia': 'mixed hyperlipidemia'},\n",
              " {'Multinodular goiter': 'multinodular goiter'},\n",
              " {'Chronic neck pain': 'chronic neck pain'},\n",
              " {'Body mass index': 'body mass index'},\n",
              " {'Physical Exam': 'physical exam'},\n",
              " {'overweight': 'overweight'},\n",
              " {'Encounter': 'encounter'},\n",
              " {'Allergies': 'allergies'},\n",
              " {'Vaccines': 'vaccines'},\n",
              " {'shingles': 'shingles'},\n",
              " {'Headache': 'headache'},\n",
              " {'Patient': 'patient'},\n",
              " {'patient': 'patient'},\n",
              " {'Female': 'female'},\n",
              " {'Pulse': 'pulse'},\n",
              " {'Name': 'Name'},\n",
              " {'Appt': 'Appt'},\n",
              " {'flu': 'flu'},\n",
              " {'Wt': 'Wt'}]"
            ]
          },
          "metadata": {},
          "execution_count": 116
        }
      ]
    },
    {
      "cell_type": "code",
      "source": [
        "doc_keyword_dict = {}\n",
        "for idx, json_arr in enumerate(json_arr_list):\n",
        "  if json_arr is not None:\n",
        "    page_keyword_dict = {}\n",
        "    for element in json_arr:\n",
        "      for k, v in element.items():\n",
        "        page_keyword_dict[k] = v\n",
        "    doc_keyword_dict[idx] = page_keyword_dict\n",
        "doc_keyword_dict[0]"
      ],
      "metadata": {
        "id": "np4A_8CmwDL5",
        "outputId": "bc395a24-f7c5-4261-fa1e-20f3a7c72b50",
        "colab": {
          "base_uri": "https://localhost:8080/"
        }
      },
      "execution_count": null,
      "outputs": [
        {
          "output_type": "execute_result",
          "data": {
            "text/plain": [
              "{'DOB': 'DOB',\n",
              " 'Policy Number': 'Policy Number',\n",
              " 'Patient': 'patient',\n",
              " 'Name': 'Name'}"
            ]
          },
          "metadata": {},
          "execution_count": 43
        }
      ]
    },
    {
      "cell_type": "code",
      "source": [
        "doc_keyword_dict[5]"
      ],
      "metadata": {
        "id": "p_3rKRy9R_fb",
        "outputId": "fb36bbd5-a208-405d-dfed-476f65a2fc05",
        "colab": {
          "base_uri": "https://localhost:8080/"
        }
      },
      "execution_count": null,
      "outputs": [
        {
          "output_type": "execute_result",
          "data": {
            "text/plain": [
              "{'BMI': 'BMI',\n",
              " 'O2Sat:': 'O2Sat:',\n",
              " 'NKDA': 'NKDA',\n",
              " 'tdap': 'tdap',\n",
              " 'Ht:': 'Ht:',\n",
              " '%': '%',\n",
              " 'BP:': 'BP:',\n",
              " 'BP': 'BP',\n",
              " 'O2Sat': 'O2Sat',\n",
              " 'T:': 'T:',\n",
              " 'Ht': 'Ht',\n",
              " 'DOB': 'DOB',\n",
              " 'covid': 'covid',\n",
              " 'No medications reported by patient': 'no medications reported by patient',\n",
              " 'diopathic osteoarthritis': 'idiopathic osteoarthritis',\n",
              " 'Sleep pattern disturbance': 'sleep pattern disturbance',\n",
              " 'OBSTETRICS & GYNECOLOGY': 'Obstetrics & Gynecology',\n",
              " 'No medications reported': 'no medications reported',\n",
              " 'Primary Care Provider': 'primary care provider',\n",
              " 'Mixed hyperlipidemia': 'mixed hyperlipidemia',\n",
              " 'Multinodular goiter': 'multinodular goiter',\n",
              " 'Chronic neck pain': 'chronic neck pain',\n",
              " 'Body mass index': 'body mass index',\n",
              " 'Physical Exam': 'physical exam',\n",
              " 'overweight': 'overweight',\n",
              " 'Encounter': 'encounter',\n",
              " 'Allergies': 'allergies',\n",
              " 'Vaccines': 'vaccines',\n",
              " 'shingles': 'shingles',\n",
              " 'Headache': 'headache',\n",
              " 'Patient': 'patient',\n",
              " 'patient': 'patient',\n",
              " 'Female': 'female',\n",
              " 'Pulse': 'pulse',\n",
              " 'Name': 'Name',\n",
              " 'Appt': 'Appt',\n",
              " 'flu': 'flu',\n",
              " 'Wt': 'Wt'}"
            ]
          },
          "metadata": {},
          "execution_count": 37
        }
      ]
    },
    {
      "cell_type": "code",
      "source": [
        "keyword_dict = doc_keyword_dict[5]\n",
        "for keyword in keyword_dict.keys():\n",
        "  print(keyword_dict[keyword])"
      ],
      "metadata": {
        "id": "5wwz20WHziIC",
        "outputId": "5496fbae-3699-4ea8-cf1d-8e0e79e1d96e",
        "colab": {
          "base_uri": "https://localhost:8080/"
        }
      },
      "execution_count": null,
      "outputs": [
        {
          "output_type": "stream",
          "name": "stdout",
          "text": [
            "BMI\n",
            "O2Sat:\n",
            "NKDA\n",
            "tdap\n",
            "Ht:\n",
            "%\n",
            "BP:\n",
            "BP\n",
            "O2Sat\n",
            "T:\n",
            "Ht\n",
            "DOB\n",
            "covid\n",
            "no medications reported by patient\n",
            "idiopathic osteoarthritis\n",
            "sleep pattern disturbance\n",
            "Obstetrics & Gynecology\n",
            "no medications reported\n",
            "primary care provider\n",
            "mixed hyperlipidemia\n",
            "multinodular goiter\n",
            "chronic neck pain\n",
            "body mass index\n",
            "physical exam\n",
            "overweight\n",
            "encounter\n",
            "allergies\n",
            "vaccines\n",
            "shingles\n",
            "headache\n",
            "patient\n",
            "patient\n",
            "female\n",
            "pulse\n",
            "Name\n",
            "Appt\n",
            "flu\n",
            "Wt\n"
          ]
        }
      ]
    },
    {
      "cell_type": "code",
      "source": [
        "doc_keyword_dict[\"BMI\"]"
      ],
      "metadata": {
        "id": "a0WYwUj8SQe_",
        "outputId": "02ed30ea-32e8-4d08-a939-663fe23f440a",
        "colab": {
          "base_uri": "https://localhost:8080/",
          "height": 35
        }
      },
      "execution_count": null,
      "outputs": [
        {
          "output_type": "execute_result",
          "data": {
            "text/plain": [
              "'BMI'"
            ],
            "application/vnd.google.colaboratory.intrinsic+json": {
              "type": "string"
            }
          },
          "metadata": {},
          "execution_count": 41
        }
      ]
    },
    {
      "cell_type": "code",
      "source": [
        "json_arr_list[:3]"
      ],
      "metadata": {
        "id": "zFd-ESdJqUMU",
        "outputId": "1527210e-b49b-41b2-e19c-977889e3efda",
        "colab": {
          "base_uri": "https://localhost:8080/"
        }
      },
      "execution_count": null,
      "outputs": [
        {
          "output_type": "execute_result",
          "data": {
            "text/plain": [
              "[[{'DOB': 'DOB'},\n",
              "  {'Policy Number': 'Policy Number'},\n",
              "  {'Patient': 'patient'},\n",
              "  {'Name': 'Name'}],\n",
              " [],\n",
              " [{'US': 'US'},\n",
              "  {'EKG': 'EKG'},\n",
              "  {'progress notes': 'progress notes'},\n",
              "  {'discharge': 'discharge'},\n",
              "  {'Patient': 'patient'},\n",
              "  {'patient': 'patient'}]]"
            ]
          },
          "metadata": {},
          "execution_count": 81
        }
      ]
    },
    {
      "cell_type": "code",
      "source": [
        "wrong_keyword_dict[5]"
      ],
      "metadata": {
        "id": "OVYxrwiid5QZ",
        "outputId": "0a8b2562-6a27-4ffc-cad4-432d67c2f4e4",
        "colab": {
          "base_uri": "https://localhost:8080/"
        }
      },
      "execution_count": null,
      "outputs": [
        {
          "output_type": "execute_result",
          "data": {
            "text/plain": [
              "{'O2Sat': 'O2Sat',\n",
              " 'BP:': 'BP:',\n",
              " 'covid': 'covid',\n",
              " 'Ht:': 'Ht:',\n",
              " 'NKDA': 'NKDA',\n",
              " 'tdap': 'tdap',\n",
              " 'T:': 'T:',\n",
              " 'BP': 'BP',\n",
              " 'O2Sat:': 'O2Sat:',\n",
              " 'Ht': 'Ht',\n",
              " 'DOB': 'DOB',\n",
              " '%': '%',\n",
              " 'BMI': 'BMI',\n",
              " 'No medications reported by patient': 'no medications reported by patient',\n",
              " 'diopathic osteoarthritis': 'idiopathic osteoarthritis',\n",
              " 'Sleep pattern disturbance': 'sleep pattern disturbance',\n",
              " 'OBSTETRICS & GYNECOLOGY': 'Obstetrics & Gynecology',\n",
              " 'No medications reported': 'no medications reported',\n",
              " 'Primary Care Provider': 'primary care provider',\n",
              " 'Mixed hyperlipidemia': 'mixed hyperlipidemia',\n",
              " 'Multinodular goiter': 'multinodular goiter',\n",
              " 'Chronic neck pain': 'chronic neck pain',\n",
              " 'Body mass index': 'body mass index',\n",
              " 'hyperlipidemia': 'hyperlipidemia',\n",
              " 'osteoarthritis': 'osteoarthritis',\n",
              " 'Physical Exam': 'physical exam',\n",
              " 'overweight': 'overweight',\n",
              " 'Encounter': 'encounter',\n",
              " 'Allergies': 'allergies',\n",
              " 'neck pain': 'neck pain',\n",
              " 'Vaccines': 'vaccines',\n",
              " 'shingles': 'shingles',\n",
              " 'Headache': 'headache',\n",
              " 'patient': 'patient',\n",
              " 'Patient': 'patient',\n",
              " 'Female': 'female',\n",
              " 'Pulse': 'pulse',\n",
              " 'Name': 'Name',\n",
              " 'Appt': 'Appt',\n",
              " 'Exam': 'exam',\n",
              " 'mass': 'mass',\n",
              " 'flu': 'flu',\n",
              " 'Wt': 'wt'}"
            ]
          },
          "metadata": {},
          "execution_count": 22
        }
      ]
    },
    {
      "cell_type": "code",
      "source": [
        "#icd9_code_dict1[19]"
      ],
      "metadata": {
        "id": "sM8BT17WGvyL"
      },
      "execution_count": null,
      "outputs": []
    },
    {
      "cell_type": "markdown",
      "source": [
        "##Split TXT/PDF"
      ],
      "metadata": {
        "id": "A0j2GTO4z99I"
      }
    },
    {
      "cell_type": "code",
      "source": [
        "!cp 5372500_input.pdf /home/ocreng/ocrhigh/input"
      ],
      "metadata": {
        "id": "zGGyUfAqthHZ"
      },
      "execution_count": null,
      "outputs": []
    },
    {
      "cell_type": "code",
      "source": [
        "INPUT_PDF_FILES_PATH = \"/home/ocreng/ocrhigh/input\"\n",
        "for pdf_file in os.listdir(INPUT_PDF_FILES_PATH):\n",
        "  pdf_file_name = f\"{INPUT_PDF_FILES_PATH}/{pdf_file}\"\n",
        "\n",
        "  # Step-1: splitting pdf file\n",
        "  print(\"Step-1: Splitting pdf file............\")\n",
        "  pdf_list = split_pdf(highlighter.PDF_FILES_PATH, pdf_file_name)\n",
        "\n",
        "  # Step-2: Extracting text from pdf\n",
        "  print(\"Step-2: Extracting text from pdf............\")\n",
        "  txt_list = extract_text_from_pdf(highlighter.PDF_FILES_PATH, highlighter.TXT_FILES_PATH, pdf_list)"
      ],
      "metadata": {
        "colab": {
          "base_uri": "https://localhost:8080/"
        },
        "id": "o2IbHJR4zqpf",
        "outputId": "4c0d6e8c-0434-46d7-ae07-3312627c9a9f"
      },
      "execution_count": null,
      "outputs": [
        {
          "output_type": "stream",
          "name": "stdout",
          "text": [
            "Step-1: Splitting pdf file............\n",
            "Step-2: Extracting text from pdf............\n"
          ]
        }
      ]
    },
    {
      "cell_type": "code",
      "source": [
        "!zip text_files.zip /home/ocreng/ocrhigh/txt-files/*.*\n",
        "!zip pdf_files.zip /home/ocreng/ocrhigh/pdf-files/*.*"
      ],
      "metadata": {
        "id": "z6rYYKDWeAZo",
        "outputId": "f4de8f4c-0a1b-4cb1-b0b5-5a47d7a7af71",
        "colab": {
          "base_uri": "https://localhost:8080/"
        }
      },
      "execution_count": null,
      "outputs": [
        {
          "output_type": "stream",
          "name": "stdout",
          "text": [
            "  adding: home/ocreng/ocrhigh/txt-files/page-0.txt (deflated 39%)\n",
            "  adding: home/ocreng/ocrhigh/pdf-files/page-0.pdf (deflated 7%)\n"
          ]
        }
      ]
    },
    {
      "cell_type": "code",
      "source": [
        "#!unzip pdf_files.zip"
      ],
      "metadata": {
        "id": "XfVJARIFvC5N"
      },
      "execution_count": null,
      "outputs": []
    },
    {
      "cell_type": "code",
      "source": [
        "#!cp /home/ocreng/ocrhigh/pdf-files/page-38.pdf ."
      ],
      "metadata": {
        "id": "gjfjb_7PvcYX"
      },
      "execution_count": null,
      "outputs": []
    },
    {
      "cell_type": "markdown",
      "source": [
        "##PDF OCRing"
      ],
      "metadata": {
        "id": "jxVd7v4y4kTc"
      }
    },
    {
      "cell_type": "code",
      "source": [
        "import pikepdf\n",
        "\n",
        "def remove_password_from_pdf(input_file, output_file, password=None):\n",
        "    pdf = pikepdf.open(input_file, password=password)\n",
        "    pdf.save(output_file)"
      ],
      "metadata": {
        "id": "JXMHrfp84nVg"
      },
      "execution_count": 5,
      "outputs": []
    },
    {
      "cell_type": "code",
      "source": [
        "remove_password_from_pdf(\"sodapdf-converted1.pdf\",\n",
        "                         \"bin1_image0.pdf\", \"synodex\")"
      ],
      "metadata": {
        "id": "a9iOS4i74qqf"
      },
      "execution_count": null,
      "outputs": []
    },
    {
      "cell_type": "code",
      "source": [
        "!ocrmypdf --skip-text TESTING_SG_1873824_RP11247368_20230909141157_4testpages_Redacted.pdf TESTING_SG_1873824_RP11247368_20230909141157_4testpages_Redacted1.pdf"
      ],
      "metadata": {
        "colab": {
          "base_uri": "https://localhost:8080/"
        },
        "id": "0hWihi2ainu8",
        "outputId": "7ff1e623-e69e-4843-bdd3-45dcfee2ba2f"
      },
      "execution_count": 21,
      "outputs": [
        {
          "output_type": "stream",
          "name": "stdout",
          "text": [
            "\rScanning contents:   0% 0/4 [00:00<?, ?page/s]\rScanning contents: 100% 4/4 [00:00<00:00, 135.20page/s]\n",
            "Start processing 2 pages concurrently\n",
            "OCR: 100% 4.0/4.0 [00:09<00:00,  2.33s/page]\n",
            "Postprocessing...\n",
            "PDF/A conversion: 100% 4/4 [00:00<00:00,  4.37page/s]\n",
            "Recompressing JPEGs: 0image [00:00, ?image/s]\n",
            "Deflating JPEGs: 100% 4/4 [00:00<00:00, 106.01image/s]\n",
            "JBIG2: 0item [00:00, ?item/s]\n",
            "Optimize ratio: 1.25 savings: 19.8%\n",
            "Output file is a PDF/A-2B (as expected)\n"
          ]
        }
      ]
    },
    {
      "cell_type": "code",
      "source": [
        "!rm -rf Keyword_Sample_File4_Redacted_Redacted_pw_removed.pdf"
      ],
      "metadata": {
        "id": "Z-Z0qdq0mPW8"
      },
      "execution_count": null,
      "outputs": []
    },
    {
      "cell_type": "markdown",
      "source": [
        "##Highlight Test"
      ],
      "metadata": {
        "id": "4HjWgUOqYgot"
      }
    },
    {
      "cell_type": "code",
      "source": [
        "pdf_file_name = \"page-30.pdf\"\n",
        "pdf_file = fitz.open(pdf_file_name)\n",
        "for page_num, page in enumerate(pdf_file):\n",
        "  for keyword_impairment in wrong_keyword_dict1[0]:\n",
        "    # print(f\"keyword_impairment11: {keyword_impairment}\")\n",
        "    highlight = page.search_for(keyword_impairment)\n",
        "    print(f\"keyword_impairment: {keyword_impairment}, coords: {highlight}\")\n",
        "    highlight = page.add_highlight_annot(highlight)\n",
        "    highlight.update()\n",
        "output_pdf_file_name = f\"{pdf_file_name.split('.')[0]}_output.pdf\"\n",
        "pdf_file.save(output_pdf_file_name, garbage=4, deflate=True, clean=True)"
      ],
      "metadata": {
        "id": "AZKQdR3oAzOx",
        "outputId": "1d508899-4a61-4ec1-ecee-953a755bfba7",
        "colab": {
          "base_uri": "https://localhost:8080/"
        }
      },
      "execution_count": null,
      "outputs": [
        {
          "output_type": "stream",
          "name": "stdout",
          "text": [
            "keyword_impairment: Urea, coords: [Rect(70.31328582763672, 435.0400390625, 83.75199890136719, 443.0439453125)]\n",
            "keyword_impairment: Comprehensive Metabolic Panel, coords: [Rect(60.47419357299805, 207.52001953125, 118.06912994384766, 215.52392578125), Rect(121.66831970214844, 207.52001953125, 156.94491577148438, 215.52392578125), Rect(159.82464599609375, 207.52001953125, 176.2230682373047, 215.52392578125), Rect(29.997119903564453, 282.8800048828125, 95.99125671386719, 290.8839111328125), Rect(99.83040618896484, 282.8800048828125, 141.58639526367188, 290.8839111328125), Rect(144.46612548828125, 282.8800048828125, 163.6642608642578, 290.8839111328125)]\n",
            "keyword_impairment: ALT, coords: [Rect(148.30589294433594, 665.4400634765625, 158.38491821289062, 673.4439697265625)]\n",
            "keyword_impairment: GFR, coords: [Rect(45.355674743652344, 477.0400390625, 57.77448272705078, 485.0439453125), Rect(45.35564422607422, 498.1600341796875, 53.8148307800293, 506.1639404296875)]\n",
            "keyword_impairment: CBC, coords: [Rect(214.13943481445312, 216.1600341796875, 225.17835998535156, 224.1639404296875), Rect(206.74017333984375, 717.280029296875, 218.61904907226562, 725.283935546875)]\n",
            "keyword_impairment: Encounter, coords: [Rect(31.916934967041016, 27.03997802734375, 74.24887084960938, 35.04388427734375)]\n",
            "keyword_impairment: Anion Gap, coords: [Rect(44.87572479248047, 393.5200500488281, 65.99369812011719, 401.5239562988281), Rect(69.83332824707031, 393.5200500488281, 81.1722412109375, 401.5239562988281)]\n",
            "keyword_impairment: Sodium, coords: [Rect(45.35564422607422, 310.0, 69.01065063476562, 318.00390625)]\n",
            "keyword_impairment: CO2, coords: [Rect(109.46951293945312, 372.6400451660156, 120.38845825195312, 380.6439514160156)]\n",
            "keyword_impairment: CMP, coords: [Rect(186.74208068847656, 207.52001953125, 198.38096618652344, 215.52392578125), Rect(174.7432098388672, 282.8800048828125, 187.82196044921875, 290.8839111328125)]\n",
            "keyword_impairment: Alkaline Phosphatase, coords: [Rect(44.875816345214844, 623.6800537109375, 74.8731689453125, 631.6839599609375), Rect(77.99263000488281, 623.6800537109375, 120.8885269165039, 631.6839599609375)]\n",
            "keyword_impairment: BUN, coords: [Rect(129.18763732910156, 435.0400390625, 140.2265625, 443.0439453125)]\n",
            "keyword_impairment: Complete Blood Count, coords: [Rect(60.47420883178711, 216.1600341796875, 95.99054718017578, 224.1639404296875), Rect(99.35047149658203, 216.1600341796875, 119.26856231689453, 224.1639404296875), Rect(123.10819244384766, 216.1600341796875, 140.70652770996094, 224.1639404296875), Rect(29.997119903564453, 717.280029296875, 70.07352447509766, 725.283935546875), Rect(73.91290283203125, 717.280029296875, 97.67060852050781, 725.283935546875), Rect(101.0302963256836, 717.280029296875, 121.4283447265625, 725.283935546875)]\n",
            "keyword_impairment: Blood Urea Nitrogen, coords: [Rect(45.59565734863281, 435.0400390625, 65.99370574951172, 443.0439453125), Rect(70.31328582763672, 435.0400390625, 87.11167907714844, 443.0439453125), Rect(90.47135162353516, 435.0400390625, 118.41556549072266, 443.0439453125)]\n",
            "keyword_impairment: Glucose, coords: [Rect(45.355674743652344, 414.4000549316406, 71.18318176269531, 422.4039611816406)]\n",
            "keyword_impairment: Lipid Panel, coords: [Rect(60.95414733886719, 223.56005859375, 77.51274108886719, 232.564453125), Rect(81.1122055053711, 223.56005859375, 97.51043701171875, 232.564453125)]\n",
            "keyword_impairment: MI, coords: [Rect(210.2085723876953, 61.5999755859375, 218.56410217285156, 69.6038818359375), Rect(90.52633666992188, 171.280029296875, 97.7038803100586, 179.283935546875), Rect(136.0669708251953, 291.52001953125, 143.2662811279297, 299.52392578125), Rect(521.4700317382812, 299.9200134277344, 526.5894775390625, 307.9239196777344), Rect(207.80300903320312, 477.0400390625, 216.27084350585938, 485.0439453125), Rect(360.8774108886719, 477.0400390625, 369.1646423339844, 485.0439453125), Rect(207.802978515625, 498.1600341796875, 216.27081298828125, 506.1639404296875), Rect(361.0693054199219, 498.1600341796875, 369.3244934082031, 506.1639404296875), Rect(60.2342529296875, 561.0400390625, 67.91350555419922, 569.0439453125), Rect(88.38217163085938, 644.56005859375, 96.2025375366211, 652.56396484375), Rect(79.72894287109375, 665.4400634765625, 87.52114868164062, 673.4439697265625), Rect(136.0669403076172, 725.6799926757812, 143.26625061035156, 733.6838989257812)]\n",
            "keyword_impairment: Albumin, coords: [Rect(44.87572479248047, 561.0400390625, 71.75313568115234, 569.0439453125)]\n",
            "keyword_impairment: Aspartate, coords: [Rect(44.87578582763672, 644.56005859375, 77.48865509033203, 652.56396484375)]\n",
            "keyword_impairment: Urea Nitrogen, coords: [Rect(70.31328582763672, 435.0400390625, 87.11167907714844, 443.0439453125), Rect(90.47135162353516, 435.0400390625, 118.41556549072266, 443.0439453125)]\n",
            "keyword_impairment: Creatinine, coords: [Rect(45.355674743652344, 456.1600341796875, 80.04353332519531, 464.1639404296875)]\n",
            "keyword_impairment: Hypertriglyceridemia, coords: [Rect(139.1866455078125, 61.5999755859375, 222.74185180664062, 69.6038818359375), Rect(29.517169952392578, 171.280029296875, 101.29265594482422, 179.283935546875), Rect(74.87284851074219, 291.52001953125, 146.86593627929688, 299.52392578125), Rect(74.87281799316406, 725.6799926757812, 146.86590576171875, 733.6838989257812)]\n",
            "keyword_impairment: Calcium, coords: [Rect(44.395713806152344, 519.0400390625, 70.8531723022461, 527.0439453125)]\n",
            "keyword_impairment: ppointment, coords: [Rect(34.07672882080078, 79.1199951171875, 70.67321014404297, 87.1239013671875)]\n",
            "keyword_impairment: Chloride, coords: [Rect(45.355674743652344, 351.52001953125, 72.8730239868164, 359.52392578125)]\n",
            "keyword_impairment: AST, coords: [Rect(156.6650390625, 644.56005859375, 167.34400939941406, 652.56396484375)]\n",
            "keyword_impairment: Potassium, coords: [Rect(45.59565734863281, 330.6400146484375, 79.2884292602539, 338.6439208984375)]\n",
            "keyword_impairment: ALP, coords: [Rect(131.42750549316406, 623.6800537109375, 141.98651123046875, 631.6839599609375)]\n",
            "keyword_impairment: Bilirubin Total, coords: [Rect(45.59574890136719, 686.56005859375, 75.59286499023438, 694.56396484375), Rect(78.95254516601562, 686.56005859375, 94.35107421875, 694.56396484375)]\n"
          ]
        }
      ]
    }
  ]
}