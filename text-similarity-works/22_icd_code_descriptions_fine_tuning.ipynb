{
  "nbformat": 4,
  "nbformat_minor": 0,
  "metadata": {
    "colab": {
      "provenance": [],
      "authorship_tag": "ABX9TyPCJtMNZgEzTAF5xK/DoKjW",
      "include_colab_link": true
    },
    "kernelspec": {
      "name": "python3",
      "display_name": "Python 3"
    },
    "language_info": {
      "name": "python"
    },
    "accelerator": "GPU",
    "gpuClass": "standard",
    "widgets": {
      "application/vnd.jupyter.widget-state+json": {
        "f5404a62a87b44599253de8439af2c19": {
          "model_module": "@jupyter-widgets/controls",
          "model_name": "HBoxModel",
          "model_module_version": "1.5.0",
          "state": {
            "_dom_classes": [],
            "_model_module": "@jupyter-widgets/controls",
            "_model_module_version": "1.5.0",
            "_model_name": "HBoxModel",
            "_view_count": null,
            "_view_module": "@jupyter-widgets/controls",
            "_view_module_version": "1.5.0",
            "_view_name": "HBoxView",
            "box_style": "",
            "children": [
              "IPY_MODEL_e291d0aaba1a44e884bb2ba34398e5e4",
              "IPY_MODEL_8e1a02840c8d4a10938658d0f4d1bc60",
              "IPY_MODEL_9b197bdb234446249698afd0c3663e89"
            ],
            "layout": "IPY_MODEL_a660ffa6f0324486a246e87b6f85d824"
          }
        },
        "e291d0aaba1a44e884bb2ba34398e5e4": {
          "model_module": "@jupyter-widgets/controls",
          "model_name": "HTMLModel",
          "model_module_version": "1.5.0",
          "state": {
            "_dom_classes": [],
            "_model_module": "@jupyter-widgets/controls",
            "_model_module_version": "1.5.0",
            "_model_name": "HTMLModel",
            "_view_count": null,
            "_view_module": "@jupyter-widgets/controls",
            "_view_module_version": "1.5.0",
            "_view_name": "HTMLView",
            "description": "",
            "description_tooltip": null,
            "layout": "IPY_MODEL_fb60a23579b94f30b0341ffed0fd8b4d",
            "placeholder": "​",
            "style": "IPY_MODEL_99613574b50b419aa76c3ed51d1ada5a",
            "value": "Epoch: 100%"
          }
        },
        "8e1a02840c8d4a10938658d0f4d1bc60": {
          "model_module": "@jupyter-widgets/controls",
          "model_name": "FloatProgressModel",
          "model_module_version": "1.5.0",
          "state": {
            "_dom_classes": [],
            "_model_module": "@jupyter-widgets/controls",
            "_model_module_version": "1.5.0",
            "_model_name": "FloatProgressModel",
            "_view_count": null,
            "_view_module": "@jupyter-widgets/controls",
            "_view_module_version": "1.5.0",
            "_view_name": "ProgressView",
            "bar_style": "success",
            "description": "",
            "description_tooltip": null,
            "layout": "IPY_MODEL_244a1b36894b43b793f943b8f0d36263",
            "max": 1,
            "min": 0,
            "orientation": "horizontal",
            "style": "IPY_MODEL_651e87fc419541b2b16c625ef07b1d03",
            "value": 1
          }
        },
        "9b197bdb234446249698afd0c3663e89": {
          "model_module": "@jupyter-widgets/controls",
          "model_name": "HTMLModel",
          "model_module_version": "1.5.0",
          "state": {
            "_dom_classes": [],
            "_model_module": "@jupyter-widgets/controls",
            "_model_module_version": "1.5.0",
            "_model_name": "HTMLModel",
            "_view_count": null,
            "_view_module": "@jupyter-widgets/controls",
            "_view_module_version": "1.5.0",
            "_view_name": "HTMLView",
            "description": "",
            "description_tooltip": null,
            "layout": "IPY_MODEL_ff8f83dbff6340b895e32d8f05b4e060",
            "placeholder": "​",
            "style": "IPY_MODEL_1f0df629a860477ebbaadc866c0ac6c2",
            "value": " 1/1 [28:27&lt;00:00, 1707.80s/it]"
          }
        },
        "a660ffa6f0324486a246e87b6f85d824": {
          "model_module": "@jupyter-widgets/base",
          "model_name": "LayoutModel",
          "model_module_version": "1.2.0",
          "state": {
            "_model_module": "@jupyter-widgets/base",
            "_model_module_version": "1.2.0",
            "_model_name": "LayoutModel",
            "_view_count": null,
            "_view_module": "@jupyter-widgets/base",
            "_view_module_version": "1.2.0",
            "_view_name": "LayoutView",
            "align_content": null,
            "align_items": null,
            "align_self": null,
            "border": null,
            "bottom": null,
            "display": null,
            "flex": null,
            "flex_flow": null,
            "grid_area": null,
            "grid_auto_columns": null,
            "grid_auto_flow": null,
            "grid_auto_rows": null,
            "grid_column": null,
            "grid_gap": null,
            "grid_row": null,
            "grid_template_areas": null,
            "grid_template_columns": null,
            "grid_template_rows": null,
            "height": null,
            "justify_content": null,
            "justify_items": null,
            "left": null,
            "margin": null,
            "max_height": null,
            "max_width": null,
            "min_height": null,
            "min_width": null,
            "object_fit": null,
            "object_position": null,
            "order": null,
            "overflow": null,
            "overflow_x": null,
            "overflow_y": null,
            "padding": null,
            "right": null,
            "top": null,
            "visibility": null,
            "width": null
          }
        },
        "fb60a23579b94f30b0341ffed0fd8b4d": {
          "model_module": "@jupyter-widgets/base",
          "model_name": "LayoutModel",
          "model_module_version": "1.2.0",
          "state": {
            "_model_module": "@jupyter-widgets/base",
            "_model_module_version": "1.2.0",
            "_model_name": "LayoutModel",
            "_view_count": null,
            "_view_module": "@jupyter-widgets/base",
            "_view_module_version": "1.2.0",
            "_view_name": "LayoutView",
            "align_content": null,
            "align_items": null,
            "align_self": null,
            "border": null,
            "bottom": null,
            "display": null,
            "flex": null,
            "flex_flow": null,
            "grid_area": null,
            "grid_auto_columns": null,
            "grid_auto_flow": null,
            "grid_auto_rows": null,
            "grid_column": null,
            "grid_gap": null,
            "grid_row": null,
            "grid_template_areas": null,
            "grid_template_columns": null,
            "grid_template_rows": null,
            "height": null,
            "justify_content": null,
            "justify_items": null,
            "left": null,
            "margin": null,
            "max_height": null,
            "max_width": null,
            "min_height": null,
            "min_width": null,
            "object_fit": null,
            "object_position": null,
            "order": null,
            "overflow": null,
            "overflow_x": null,
            "overflow_y": null,
            "padding": null,
            "right": null,
            "top": null,
            "visibility": null,
            "width": null
          }
        },
        "99613574b50b419aa76c3ed51d1ada5a": {
          "model_module": "@jupyter-widgets/controls",
          "model_name": "DescriptionStyleModel",
          "model_module_version": "1.5.0",
          "state": {
            "_model_module": "@jupyter-widgets/controls",
            "_model_module_version": "1.5.0",
            "_model_name": "DescriptionStyleModel",
            "_view_count": null,
            "_view_module": "@jupyter-widgets/base",
            "_view_module_version": "1.2.0",
            "_view_name": "StyleView",
            "description_width": ""
          }
        },
        "244a1b36894b43b793f943b8f0d36263": {
          "model_module": "@jupyter-widgets/base",
          "model_name": "LayoutModel",
          "model_module_version": "1.2.0",
          "state": {
            "_model_module": "@jupyter-widgets/base",
            "_model_module_version": "1.2.0",
            "_model_name": "LayoutModel",
            "_view_count": null,
            "_view_module": "@jupyter-widgets/base",
            "_view_module_version": "1.2.0",
            "_view_name": "LayoutView",
            "align_content": null,
            "align_items": null,
            "align_self": null,
            "border": null,
            "bottom": null,
            "display": null,
            "flex": null,
            "flex_flow": null,
            "grid_area": null,
            "grid_auto_columns": null,
            "grid_auto_flow": null,
            "grid_auto_rows": null,
            "grid_column": null,
            "grid_gap": null,
            "grid_row": null,
            "grid_template_areas": null,
            "grid_template_columns": null,
            "grid_template_rows": null,
            "height": null,
            "justify_content": null,
            "justify_items": null,
            "left": null,
            "margin": null,
            "max_height": null,
            "max_width": null,
            "min_height": null,
            "min_width": null,
            "object_fit": null,
            "object_position": null,
            "order": null,
            "overflow": null,
            "overflow_x": null,
            "overflow_y": null,
            "padding": null,
            "right": null,
            "top": null,
            "visibility": null,
            "width": null
          }
        },
        "651e87fc419541b2b16c625ef07b1d03": {
          "model_module": "@jupyter-widgets/controls",
          "model_name": "ProgressStyleModel",
          "model_module_version": "1.5.0",
          "state": {
            "_model_module": "@jupyter-widgets/controls",
            "_model_module_version": "1.5.0",
            "_model_name": "ProgressStyleModel",
            "_view_count": null,
            "_view_module": "@jupyter-widgets/base",
            "_view_module_version": "1.2.0",
            "_view_name": "StyleView",
            "bar_color": null,
            "description_width": ""
          }
        },
        "ff8f83dbff6340b895e32d8f05b4e060": {
          "model_module": "@jupyter-widgets/base",
          "model_name": "LayoutModel",
          "model_module_version": "1.2.0",
          "state": {
            "_model_module": "@jupyter-widgets/base",
            "_model_module_version": "1.2.0",
            "_model_name": "LayoutModel",
            "_view_count": null,
            "_view_module": "@jupyter-widgets/base",
            "_view_module_version": "1.2.0",
            "_view_name": "LayoutView",
            "align_content": null,
            "align_items": null,
            "align_self": null,
            "border": null,
            "bottom": null,
            "display": null,
            "flex": null,
            "flex_flow": null,
            "grid_area": null,
            "grid_auto_columns": null,
            "grid_auto_flow": null,
            "grid_auto_rows": null,
            "grid_column": null,
            "grid_gap": null,
            "grid_row": null,
            "grid_template_areas": null,
            "grid_template_columns": null,
            "grid_template_rows": null,
            "height": null,
            "justify_content": null,
            "justify_items": null,
            "left": null,
            "margin": null,
            "max_height": null,
            "max_width": null,
            "min_height": null,
            "min_width": null,
            "object_fit": null,
            "object_position": null,
            "order": null,
            "overflow": null,
            "overflow_x": null,
            "overflow_y": null,
            "padding": null,
            "right": null,
            "top": null,
            "visibility": null,
            "width": null
          }
        },
        "1f0df629a860477ebbaadc866c0ac6c2": {
          "model_module": "@jupyter-widgets/controls",
          "model_name": "DescriptionStyleModel",
          "model_module_version": "1.5.0",
          "state": {
            "_model_module": "@jupyter-widgets/controls",
            "_model_module_version": "1.5.0",
            "_model_name": "DescriptionStyleModel",
            "_view_count": null,
            "_view_module": "@jupyter-widgets/base",
            "_view_module_version": "1.2.0",
            "_view_name": "StyleView",
            "description_width": ""
          }
        },
        "00614082f9c34f0687488e64a7e01849": {
          "model_module": "@jupyter-widgets/controls",
          "model_name": "HBoxModel",
          "model_module_version": "1.5.0",
          "state": {
            "_dom_classes": [],
            "_model_module": "@jupyter-widgets/controls",
            "_model_module_version": "1.5.0",
            "_model_name": "HBoxModel",
            "_view_count": null,
            "_view_module": "@jupyter-widgets/controls",
            "_view_module_version": "1.5.0",
            "_view_name": "HBoxView",
            "box_style": "",
            "children": [
              "IPY_MODEL_fc5bdcbdf12348dbab7832965e78e17f",
              "IPY_MODEL_7a7c4ebb5ce840e0b69903f752ae6cc9",
              "IPY_MODEL_895b3f81fc4e4a94a8b830b05fb39de7"
            ],
            "layout": "IPY_MODEL_1c3d4d91aa954cc08b7af7461d068cb0"
          }
        },
        "fc5bdcbdf12348dbab7832965e78e17f": {
          "model_module": "@jupyter-widgets/controls",
          "model_name": "HTMLModel",
          "model_module_version": "1.5.0",
          "state": {
            "_dom_classes": [],
            "_model_module": "@jupyter-widgets/controls",
            "_model_module_version": "1.5.0",
            "_model_name": "HTMLModel",
            "_view_count": null,
            "_view_module": "@jupyter-widgets/controls",
            "_view_module_version": "1.5.0",
            "_view_name": "HTMLView",
            "description": "",
            "description_tooltip": null,
            "layout": "IPY_MODEL_69d15df1f52d4bfabb0fcba9d1f9e220",
            "placeholder": "​",
            "style": "IPY_MODEL_9c7a2c1ad9cb487bb77e65185bf29304",
            "value": "Iteration: 100%"
          }
        },
        "7a7c4ebb5ce840e0b69903f752ae6cc9": {
          "model_module": "@jupyter-widgets/controls",
          "model_name": "FloatProgressModel",
          "model_module_version": "1.5.0",
          "state": {
            "_dom_classes": [],
            "_model_module": "@jupyter-widgets/controls",
            "_model_module_version": "1.5.0",
            "_model_name": "FloatProgressModel",
            "_view_count": null,
            "_view_module": "@jupyter-widgets/controls",
            "_view_module_version": "1.5.0",
            "_view_name": "ProgressView",
            "bar_style": "success",
            "description": "",
            "description_tooltip": null,
            "layout": "IPY_MODEL_30fcc4524da94a689fc8bc827880937a",
            "max": 28798,
            "min": 0,
            "orientation": "horizontal",
            "style": "IPY_MODEL_9640dca2f14647e48ab4f3998c2d6141",
            "value": 28798
          }
        },
        "895b3f81fc4e4a94a8b830b05fb39de7": {
          "model_module": "@jupyter-widgets/controls",
          "model_name": "HTMLModel",
          "model_module_version": "1.5.0",
          "state": {
            "_dom_classes": [],
            "_model_module": "@jupyter-widgets/controls",
            "_model_module_version": "1.5.0",
            "_model_name": "HTMLModel",
            "_view_count": null,
            "_view_module": "@jupyter-widgets/controls",
            "_view_module_version": "1.5.0",
            "_view_name": "HTMLView",
            "description": "",
            "description_tooltip": null,
            "layout": "IPY_MODEL_d393d1b0864f4978b568c7998cf1c472",
            "placeholder": "​",
            "style": "IPY_MODEL_42a50b5b1d3c4eeba34529b6e8b8da09",
            "value": " 28798/28798 [28:27&lt;00:00, 17.44it/s]"
          }
        },
        "1c3d4d91aa954cc08b7af7461d068cb0": {
          "model_module": "@jupyter-widgets/base",
          "model_name": "LayoutModel",
          "model_module_version": "1.2.0",
          "state": {
            "_model_module": "@jupyter-widgets/base",
            "_model_module_version": "1.2.0",
            "_model_name": "LayoutModel",
            "_view_count": null,
            "_view_module": "@jupyter-widgets/base",
            "_view_module_version": "1.2.0",
            "_view_name": "LayoutView",
            "align_content": null,
            "align_items": null,
            "align_self": null,
            "border": null,
            "bottom": null,
            "display": null,
            "flex": null,
            "flex_flow": null,
            "grid_area": null,
            "grid_auto_columns": null,
            "grid_auto_flow": null,
            "grid_auto_rows": null,
            "grid_column": null,
            "grid_gap": null,
            "grid_row": null,
            "grid_template_areas": null,
            "grid_template_columns": null,
            "grid_template_rows": null,
            "height": null,
            "justify_content": null,
            "justify_items": null,
            "left": null,
            "margin": null,
            "max_height": null,
            "max_width": null,
            "min_height": null,
            "min_width": null,
            "object_fit": null,
            "object_position": null,
            "order": null,
            "overflow": null,
            "overflow_x": null,
            "overflow_y": null,
            "padding": null,
            "right": null,
            "top": null,
            "visibility": null,
            "width": null
          }
        },
        "69d15df1f52d4bfabb0fcba9d1f9e220": {
          "model_module": "@jupyter-widgets/base",
          "model_name": "LayoutModel",
          "model_module_version": "1.2.0",
          "state": {
            "_model_module": "@jupyter-widgets/base",
            "_model_module_version": "1.2.0",
            "_model_name": "LayoutModel",
            "_view_count": null,
            "_view_module": "@jupyter-widgets/base",
            "_view_module_version": "1.2.0",
            "_view_name": "LayoutView",
            "align_content": null,
            "align_items": null,
            "align_self": null,
            "border": null,
            "bottom": null,
            "display": null,
            "flex": null,
            "flex_flow": null,
            "grid_area": null,
            "grid_auto_columns": null,
            "grid_auto_flow": null,
            "grid_auto_rows": null,
            "grid_column": null,
            "grid_gap": null,
            "grid_row": null,
            "grid_template_areas": null,
            "grid_template_columns": null,
            "grid_template_rows": null,
            "height": null,
            "justify_content": null,
            "justify_items": null,
            "left": null,
            "margin": null,
            "max_height": null,
            "max_width": null,
            "min_height": null,
            "min_width": null,
            "object_fit": null,
            "object_position": null,
            "order": null,
            "overflow": null,
            "overflow_x": null,
            "overflow_y": null,
            "padding": null,
            "right": null,
            "top": null,
            "visibility": null,
            "width": null
          }
        },
        "9c7a2c1ad9cb487bb77e65185bf29304": {
          "model_module": "@jupyter-widgets/controls",
          "model_name": "DescriptionStyleModel",
          "model_module_version": "1.5.0",
          "state": {
            "_model_module": "@jupyter-widgets/controls",
            "_model_module_version": "1.5.0",
            "_model_name": "DescriptionStyleModel",
            "_view_count": null,
            "_view_module": "@jupyter-widgets/base",
            "_view_module_version": "1.2.0",
            "_view_name": "StyleView",
            "description_width": ""
          }
        },
        "30fcc4524da94a689fc8bc827880937a": {
          "model_module": "@jupyter-widgets/base",
          "model_name": "LayoutModel",
          "model_module_version": "1.2.0",
          "state": {
            "_model_module": "@jupyter-widgets/base",
            "_model_module_version": "1.2.0",
            "_model_name": "LayoutModel",
            "_view_count": null,
            "_view_module": "@jupyter-widgets/base",
            "_view_module_version": "1.2.0",
            "_view_name": "LayoutView",
            "align_content": null,
            "align_items": null,
            "align_self": null,
            "border": null,
            "bottom": null,
            "display": null,
            "flex": null,
            "flex_flow": null,
            "grid_area": null,
            "grid_auto_columns": null,
            "grid_auto_flow": null,
            "grid_auto_rows": null,
            "grid_column": null,
            "grid_gap": null,
            "grid_row": null,
            "grid_template_areas": null,
            "grid_template_columns": null,
            "grid_template_rows": null,
            "height": null,
            "justify_content": null,
            "justify_items": null,
            "left": null,
            "margin": null,
            "max_height": null,
            "max_width": null,
            "min_height": null,
            "min_width": null,
            "object_fit": null,
            "object_position": null,
            "order": null,
            "overflow": null,
            "overflow_x": null,
            "overflow_y": null,
            "padding": null,
            "right": null,
            "top": null,
            "visibility": null,
            "width": null
          }
        },
        "9640dca2f14647e48ab4f3998c2d6141": {
          "model_module": "@jupyter-widgets/controls",
          "model_name": "ProgressStyleModel",
          "model_module_version": "1.5.0",
          "state": {
            "_model_module": "@jupyter-widgets/controls",
            "_model_module_version": "1.5.0",
            "_model_name": "ProgressStyleModel",
            "_view_count": null,
            "_view_module": "@jupyter-widgets/base",
            "_view_module_version": "1.2.0",
            "_view_name": "StyleView",
            "bar_color": null,
            "description_width": ""
          }
        },
        "d393d1b0864f4978b568c7998cf1c472": {
          "model_module": "@jupyter-widgets/base",
          "model_name": "LayoutModel",
          "model_module_version": "1.2.0",
          "state": {
            "_model_module": "@jupyter-widgets/base",
            "_model_module_version": "1.2.0",
            "_model_name": "LayoutModel",
            "_view_count": null,
            "_view_module": "@jupyter-widgets/base",
            "_view_module_version": "1.2.0",
            "_view_name": "LayoutView",
            "align_content": null,
            "align_items": null,
            "align_self": null,
            "border": null,
            "bottom": null,
            "display": null,
            "flex": null,
            "flex_flow": null,
            "grid_area": null,
            "grid_auto_columns": null,
            "grid_auto_flow": null,
            "grid_auto_rows": null,
            "grid_column": null,
            "grid_gap": null,
            "grid_row": null,
            "grid_template_areas": null,
            "grid_template_columns": null,
            "grid_template_rows": null,
            "height": null,
            "justify_content": null,
            "justify_items": null,
            "left": null,
            "margin": null,
            "max_height": null,
            "max_width": null,
            "min_height": null,
            "min_width": null,
            "object_fit": null,
            "object_position": null,
            "order": null,
            "overflow": null,
            "overflow_x": null,
            "overflow_y": null,
            "padding": null,
            "right": null,
            "top": null,
            "visibility": null,
            "width": null
          }
        },
        "42a50b5b1d3c4eeba34529b6e8b8da09": {
          "model_module": "@jupyter-widgets/controls",
          "model_name": "DescriptionStyleModel",
          "model_module_version": "1.5.0",
          "state": {
            "_model_module": "@jupyter-widgets/controls",
            "_model_module_version": "1.5.0",
            "_model_name": "DescriptionStyleModel",
            "_view_count": null,
            "_view_module": "@jupyter-widgets/base",
            "_view_module_version": "1.2.0",
            "_view_name": "StyleView",
            "description_width": ""
          }
        }
      }
    }
  },
  "cells": [
    {
      "cell_type": "markdown",
      "metadata": {
        "id": "view-in-github",
        "colab_type": "text"
      },
      "source": [
        "<a href=\"https://colab.research.google.com/github/rahiakela/nlp-research-and-practice/blob/main/text-similarity-works/22_icd_code_descriptions_fine_tuning.ipynb\" target=\"_parent\"><img src=\"https://colab.research.google.com/assets/colab-badge.svg\" alt=\"Open In Colab\"/></a>"
      ]
    },
    {
      "cell_type": "markdown",
      "source": [
        "##ICD Code Descriptions Fine-Tuning"
      ],
      "metadata": {
        "id": "xMDobX2r5sEE"
      }
    },
    {
      "cell_type": "markdown",
      "source": [
        "**Reference**:\n",
        "\n",
        "https://www.pinecone.io/learn/unsupervised-training-sentence-transformers/"
      ],
      "metadata": {
        "id": "6OhwAx3-6CoK"
      }
    },
    {
      "cell_type": "markdown",
      "source": [
        "##Setup"
      ],
      "metadata": {
        "id": "ikVbeKCx5_Et"
      }
    },
    {
      "cell_type": "code",
      "source": [
        "%%capture\n",
        "\n",
        "!pip install datasets\n",
        "!pip install sentence-transformers"
      ],
      "metadata": {
        "id": "gJs5r3dd6JQV"
      },
      "execution_count": 1,
      "outputs": []
    },
    {
      "cell_type": "code",
      "source": [
        "import datasets\n",
        "\n",
        "from sentence_transformers import SentenceTransformer, models\n",
        "from sentence_transformers.datasets import DenoisingAutoEncoderDataset\n",
        "from sentence_transformers.losses import DenoisingAutoEncoderLoss\n",
        "from sentence_transformers import InputExample\n",
        "from sentence_transformers.evaluation import EmbeddingSimilarityEvaluator\n",
        "\n",
        "import torch\n",
        "from torch.utils.data import DataLoader\n",
        "\n",
        "import re\n",
        "import pandas as pd"
      ],
      "metadata": {
        "id": "rwjWvrXX6AT0"
      },
      "execution_count": 1,
      "outputs": []
    },
    {
      "cell_type": "code",
      "source": [
        "%%writefile utils.py\n",
        "def reverse_code_pattern(p_code):\n",
        "    orig_code = p_code\n",
        "\n",
        "    # check for code contains space(\" \")\n",
        "    tmp_code = orig_code.split(\" \")\n",
        "    if len(tmp_code) > 1:\n",
        "        orig_code = f\"{tmp_code[0].strip()}.{tmp_code[1].strip()}\"\n",
        "\n",
        "    # check for code contains dot(\".\")\n",
        "    tmp_code = p_code.split(\".\")\n",
        "    if len(tmp_code) > 1:\n",
        "        orig_code = f\"{tmp_code[0].strip()}.{tmp_code[1].strip()}\"\n",
        "\n",
        "    # check for code contains comma(\",\")\n",
        "    tmp_code = p_code.split(\",\")\n",
        "    if len(tmp_code) == 2:\n",
        "        orig_code = f\"{tmp_code[0].strip()}.{tmp_code[1].strip()}\"\n",
        "    elif len(tmp_code) == 2:\n",
        "        orig_code = f\"{tmp_code[0].strip()}.{tmp_code[2].strip()}\"\n",
        "\n",
        "    # handle if the first char of code is missing\n",
        "    alphabats = {\"Z\": \"2\", \"B\": \"8\", \"O\": \"0\", \"S\": \"5\", \"l\": \"1\", \"G\": \"6\", \"o\": \"9\", \"i\": \"1\"}\n",
        "    for key, val in alphabats.items():\n",
        "        # replcae char on 0 index\n",
        "        if orig_code.find(val) == 0:\n",
        "            # orig_code = orig_code.replace(val, key)\n",
        "            orig_code = replacer(orig_code, key, 0)\n",
        "        # replcae char on 1 index\n",
        "        if orig_code.find(key) == 1:\n",
        "            orig_code = replacer(orig_code, val, 1)\n",
        "            # replcae char on 2 index\n",
        "            if orig_code.find(key) == 2:\n",
        "                orig_code = replacer(orig_code, val, 2)\n",
        "            break\n",
        "\n",
        "    return orig_code\n",
        "\n",
        "def replacer(s, newstring, index, nofail=False):\n",
        "    # raise an error if index is outside of the string\n",
        "    if not nofail and index not in range(len(s)):\n",
        "        raise ValueError(\"index outside given string\")\n",
        "\n",
        "    # if not erroring, but the index is still not in the correct range..\n",
        "    if index < 0:  # add it to the beginning\n",
        "        return newstring + s\n",
        "    if index > len(s):  # add it to the end\n",
        "        return s + newstring\n",
        "\n",
        "    # insert the new string between \"slices\" of the original\n",
        "    return s[:index] + newstring + s[index + 1:]"
      ],
      "metadata": {
        "id": "1M55wLR2LU_I",
        "outputId": "10103c76-c97d-49b6-e29e-a91dd74ddffc",
        "colab": {
          "base_uri": "https://localhost:8080/"
        }
      },
      "execution_count": 6,
      "outputs": [
        {
          "output_type": "stream",
          "name": "stdout",
          "text": [
            "Writing utils.py\n"
          ]
        }
      ]
    },
    {
      "cell_type": "code",
      "source": [
        "from semantic_search import SemanticSearch\n",
        "import config as cfg"
      ],
      "metadata": {
        "id": "Lv1lfEhwQBlc"
      },
      "execution_count": 2,
      "outputs": []
    },
    {
      "cell_type": "code",
      "source": [
        "import nltk\n",
        "nltk.download('punkt')\n",
        "nltk.download('stopwords')"
      ],
      "metadata": {
        "id": "rEsZ22mbCJSD"
      },
      "execution_count": null,
      "outputs": []
    },
    {
      "cell_type": "code",
      "source": [
        "!rm -rf data\n",
        "!unzip data.zip"
      ],
      "metadata": {
        "id": "-VN67jKiP9O_"
      },
      "execution_count": null,
      "outputs": []
    },
    {
      "cell_type": "markdown",
      "source": [
        "##ICD Dataset"
      ],
      "metadata": {
        "id": "afA7_nHj3eFi"
      }
    },
    {
      "cell_type": "code",
      "source": [
        "icd_description_df = pd.read_csv(\"data/csv_files/combined_icd_code_and_description_v1.csv\")\n",
        "icd_description_df.head()"
      ],
      "metadata": {
        "colab": {
          "base_uri": "https://localhost:8080/",
          "height": 206
        },
        "id": "GDiwp5iP3kRO",
        "outputId": "ae197874-5666-4749-f4a1-2d7932f60dbd"
      },
      "execution_count": 10,
      "outputs": [
        {
          "output_type": "execute_result",
          "data": {
            "text/plain": [
              "    Code                                Keyword SynId Field_Target\n",
              "0  001.0         Cholera due to vibrio cholerae   NaN          NaN\n",
              "1  001.1  Cholera due to vibrio cholerae el tor   NaN          NaN\n",
              "2  001.9                    Cholera unspecified   NaN          NaN\n",
              "3  002.0                          Typhoid fever   NaN          NaN\n",
              "4  002.1                    Paratyphoid fever A   NaN          NaN"
            ],
            "text/html": [
              "\n",
              "  <div id=\"df-0cbe141d-7694-4b69-a054-791ce441d33b\" class=\"colab-df-container\">\n",
              "    <div>\n",
              "<style scoped>\n",
              "    .dataframe tbody tr th:only-of-type {\n",
              "        vertical-align: middle;\n",
              "    }\n",
              "\n",
              "    .dataframe tbody tr th {\n",
              "        vertical-align: top;\n",
              "    }\n",
              "\n",
              "    .dataframe thead th {\n",
              "        text-align: right;\n",
              "    }\n",
              "</style>\n",
              "<table border=\"1\" class=\"dataframe\">\n",
              "  <thead>\n",
              "    <tr style=\"text-align: right;\">\n",
              "      <th></th>\n",
              "      <th>Code</th>\n",
              "      <th>Keyword</th>\n",
              "      <th>SynId</th>\n",
              "      <th>Field_Target</th>\n",
              "    </tr>\n",
              "  </thead>\n",
              "  <tbody>\n",
              "    <tr>\n",
              "      <th>0</th>\n",
              "      <td>001.0</td>\n",
              "      <td>Cholera due to vibrio cholerae</td>\n",
              "      <td>NaN</td>\n",
              "      <td>NaN</td>\n",
              "    </tr>\n",
              "    <tr>\n",
              "      <th>1</th>\n",
              "      <td>001.1</td>\n",
              "      <td>Cholera due to vibrio cholerae el tor</td>\n",
              "      <td>NaN</td>\n",
              "      <td>NaN</td>\n",
              "    </tr>\n",
              "    <tr>\n",
              "      <th>2</th>\n",
              "      <td>001.9</td>\n",
              "      <td>Cholera unspecified</td>\n",
              "      <td>NaN</td>\n",
              "      <td>NaN</td>\n",
              "    </tr>\n",
              "    <tr>\n",
              "      <th>3</th>\n",
              "      <td>002.0</td>\n",
              "      <td>Typhoid fever</td>\n",
              "      <td>NaN</td>\n",
              "      <td>NaN</td>\n",
              "    </tr>\n",
              "    <tr>\n",
              "      <th>4</th>\n",
              "      <td>002.1</td>\n",
              "      <td>Paratyphoid fever A</td>\n",
              "      <td>NaN</td>\n",
              "      <td>NaN</td>\n",
              "    </tr>\n",
              "  </tbody>\n",
              "</table>\n",
              "</div>\n",
              "    <div class=\"colab-df-buttons\">\n",
              "\n",
              "  <div class=\"colab-df-container\">\n",
              "    <button class=\"colab-df-convert\" onclick=\"convertToInteractive('df-0cbe141d-7694-4b69-a054-791ce441d33b')\"\n",
              "            title=\"Convert this dataframe to an interactive table.\"\n",
              "            style=\"display:none;\">\n",
              "\n",
              "  <svg xmlns=\"http://www.w3.org/2000/svg\" height=\"24px\" viewBox=\"0 -960 960 960\">\n",
              "    <path d=\"M120-120v-720h720v720H120Zm60-500h600v-160H180v160Zm220 220h160v-160H400v160Zm0 220h160v-160H400v160ZM180-400h160v-160H180v160Zm440 0h160v-160H620v160ZM180-180h160v-160H180v160Zm440 0h160v-160H620v160Z\"/>\n",
              "  </svg>\n",
              "    </button>\n",
              "\n",
              "  <style>\n",
              "    .colab-df-container {\n",
              "      display:flex;\n",
              "      gap: 12px;\n",
              "    }\n",
              "\n",
              "    .colab-df-convert {\n",
              "      background-color: #E8F0FE;\n",
              "      border: none;\n",
              "      border-radius: 50%;\n",
              "      cursor: pointer;\n",
              "      display: none;\n",
              "      fill: #1967D2;\n",
              "      height: 32px;\n",
              "      padding: 0 0 0 0;\n",
              "      width: 32px;\n",
              "    }\n",
              "\n",
              "    .colab-df-convert:hover {\n",
              "      background-color: #E2EBFA;\n",
              "      box-shadow: 0px 1px 2px rgba(60, 64, 67, 0.3), 0px 1px 3px 1px rgba(60, 64, 67, 0.15);\n",
              "      fill: #174EA6;\n",
              "    }\n",
              "\n",
              "    .colab-df-buttons div {\n",
              "      margin-bottom: 4px;\n",
              "    }\n",
              "\n",
              "    [theme=dark] .colab-df-convert {\n",
              "      background-color: #3B4455;\n",
              "      fill: #D2E3FC;\n",
              "    }\n",
              "\n",
              "    [theme=dark] .colab-df-convert:hover {\n",
              "      background-color: #434B5C;\n",
              "      box-shadow: 0px 1px 3px 1px rgba(0, 0, 0, 0.15);\n",
              "      filter: drop-shadow(0px 1px 2px rgba(0, 0, 0, 0.3));\n",
              "      fill: #FFFFFF;\n",
              "    }\n",
              "  </style>\n",
              "\n",
              "    <script>\n",
              "      const buttonEl =\n",
              "        document.querySelector('#df-0cbe141d-7694-4b69-a054-791ce441d33b button.colab-df-convert');\n",
              "      buttonEl.style.display =\n",
              "        google.colab.kernel.accessAllowed ? 'block' : 'none';\n",
              "\n",
              "      async function convertToInteractive(key) {\n",
              "        const element = document.querySelector('#df-0cbe141d-7694-4b69-a054-791ce441d33b');\n",
              "        const dataTable =\n",
              "          await google.colab.kernel.invokeFunction('convertToInteractive',\n",
              "                                                    [key], {});\n",
              "        if (!dataTable) return;\n",
              "\n",
              "        const docLinkHtml = 'Like what you see? Visit the ' +\n",
              "          '<a target=\"_blank\" href=https://colab.research.google.com/notebooks/data_table.ipynb>data table notebook</a>'\n",
              "          + ' to learn more about interactive tables.';\n",
              "        element.innerHTML = '';\n",
              "        dataTable['output_type'] = 'display_data';\n",
              "        await google.colab.output.renderOutput(dataTable, element);\n",
              "        const docLink = document.createElement('div');\n",
              "        docLink.innerHTML = docLinkHtml;\n",
              "        element.appendChild(docLink);\n",
              "      }\n",
              "    </script>\n",
              "  </div>\n",
              "\n",
              "\n",
              "<div id=\"df-9b747d59-f2cd-4673-9fb6-4eef995e818f\">\n",
              "  <button class=\"colab-df-quickchart\" onclick=\"quickchart('df-9b747d59-f2cd-4673-9fb6-4eef995e818f')\"\n",
              "            title=\"Suggest charts.\"\n",
              "            style=\"display:none;\">\n",
              "\n",
              "<svg xmlns=\"http://www.w3.org/2000/svg\" height=\"24px\"viewBox=\"0 0 24 24\"\n",
              "     width=\"24px\">\n",
              "    <g>\n",
              "        <path d=\"M19 3H5c-1.1 0-2 .9-2 2v14c0 1.1.9 2 2 2h14c1.1 0 2-.9 2-2V5c0-1.1-.9-2-2-2zM9 17H7v-7h2v7zm4 0h-2V7h2v10zm4 0h-2v-4h2v4z\"/>\n",
              "    </g>\n",
              "</svg>\n",
              "  </button>\n",
              "\n",
              "<style>\n",
              "  .colab-df-quickchart {\n",
              "      --bg-color: #E8F0FE;\n",
              "      --fill-color: #1967D2;\n",
              "      --hover-bg-color: #E2EBFA;\n",
              "      --hover-fill-color: #174EA6;\n",
              "      --disabled-fill-color: #AAA;\n",
              "      --disabled-bg-color: #DDD;\n",
              "  }\n",
              "\n",
              "  [theme=dark] .colab-df-quickchart {\n",
              "      --bg-color: #3B4455;\n",
              "      --fill-color: #D2E3FC;\n",
              "      --hover-bg-color: #434B5C;\n",
              "      --hover-fill-color: #FFFFFF;\n",
              "      --disabled-bg-color: #3B4455;\n",
              "      --disabled-fill-color: #666;\n",
              "  }\n",
              "\n",
              "  .colab-df-quickchart {\n",
              "    background-color: var(--bg-color);\n",
              "    border: none;\n",
              "    border-radius: 50%;\n",
              "    cursor: pointer;\n",
              "    display: none;\n",
              "    fill: var(--fill-color);\n",
              "    height: 32px;\n",
              "    padding: 0;\n",
              "    width: 32px;\n",
              "  }\n",
              "\n",
              "  .colab-df-quickchart:hover {\n",
              "    background-color: var(--hover-bg-color);\n",
              "    box-shadow: 0 1px 2px rgba(60, 64, 67, 0.3), 0 1px 3px 1px rgba(60, 64, 67, 0.15);\n",
              "    fill: var(--button-hover-fill-color);\n",
              "  }\n",
              "\n",
              "  .colab-df-quickchart-complete:disabled,\n",
              "  .colab-df-quickchart-complete:disabled:hover {\n",
              "    background-color: var(--disabled-bg-color);\n",
              "    fill: var(--disabled-fill-color);\n",
              "    box-shadow: none;\n",
              "  }\n",
              "\n",
              "  .colab-df-spinner {\n",
              "    border: 2px solid var(--fill-color);\n",
              "    border-color: transparent;\n",
              "    border-bottom-color: var(--fill-color);\n",
              "    animation:\n",
              "      spin 1s steps(1) infinite;\n",
              "  }\n",
              "\n",
              "  @keyframes spin {\n",
              "    0% {\n",
              "      border-color: transparent;\n",
              "      border-bottom-color: var(--fill-color);\n",
              "      border-left-color: var(--fill-color);\n",
              "    }\n",
              "    20% {\n",
              "      border-color: transparent;\n",
              "      border-left-color: var(--fill-color);\n",
              "      border-top-color: var(--fill-color);\n",
              "    }\n",
              "    30% {\n",
              "      border-color: transparent;\n",
              "      border-left-color: var(--fill-color);\n",
              "      border-top-color: var(--fill-color);\n",
              "      border-right-color: var(--fill-color);\n",
              "    }\n",
              "    40% {\n",
              "      border-color: transparent;\n",
              "      border-right-color: var(--fill-color);\n",
              "      border-top-color: var(--fill-color);\n",
              "    }\n",
              "    60% {\n",
              "      border-color: transparent;\n",
              "      border-right-color: var(--fill-color);\n",
              "    }\n",
              "    80% {\n",
              "      border-color: transparent;\n",
              "      border-right-color: var(--fill-color);\n",
              "      border-bottom-color: var(--fill-color);\n",
              "    }\n",
              "    90% {\n",
              "      border-color: transparent;\n",
              "      border-bottom-color: var(--fill-color);\n",
              "    }\n",
              "  }\n",
              "</style>\n",
              "\n",
              "  <script>\n",
              "    async function quickchart(key) {\n",
              "      const quickchartButtonEl =\n",
              "        document.querySelector('#' + key + ' button');\n",
              "      quickchartButtonEl.disabled = true;  // To prevent multiple clicks.\n",
              "      quickchartButtonEl.classList.add('colab-df-spinner');\n",
              "      try {\n",
              "        const charts = await google.colab.kernel.invokeFunction(\n",
              "            'suggestCharts', [key], {});\n",
              "      } catch (error) {\n",
              "        console.error('Error during call to suggestCharts:', error);\n",
              "      }\n",
              "      quickchartButtonEl.classList.remove('colab-df-spinner');\n",
              "      quickchartButtonEl.classList.add('colab-df-quickchart-complete');\n",
              "    }\n",
              "    (() => {\n",
              "      let quickchartButtonEl =\n",
              "        document.querySelector('#df-9b747d59-f2cd-4673-9fb6-4eef995e818f button');\n",
              "      quickchartButtonEl.style.display =\n",
              "        google.colab.kernel.accessAllowed ? 'block' : 'none';\n",
              "    })();\n",
              "  </script>\n",
              "</div>\n",
              "    </div>\n",
              "  </div>\n"
            ]
          },
          "metadata": {},
          "execution_count": 10
        }
      ]
    },
    {
      "cell_type": "code",
      "source": [
        "sentences = []\n",
        "for keyword in icd_description_df[\"Keyword\"]:\n",
        "  sentences.append(keyword)\n",
        "sentences[:5]"
      ],
      "metadata": {
        "colab": {
          "base_uri": "https://localhost:8080/"
        },
        "id": "qAPE2jXq4GkI",
        "outputId": "9d478bf0-2fb0-4075-bbb9-5678768befbe"
      },
      "execution_count": 11,
      "outputs": [
        {
          "output_type": "execute_result",
          "data": {
            "text/plain": [
              "['Cholera due to vibrio cholerae',\n",
              " 'Cholera due to vibrio cholerae el tor',\n",
              " 'Cholera unspecified',\n",
              " 'Typhoid fever',\n",
              " 'Paratyphoid fever A']"
            ]
          },
          "metadata": {},
          "execution_count": 11
        }
      ]
    },
    {
      "cell_type": "code",
      "source": [
        "# dataset class with noise functionality built-in\n",
        "train_data = DenoisingAutoEncoderDataset(sentences)\n",
        "\n",
        "# we use a dataloader as usual\n",
        "data_loader = DataLoader(train_data, batch_size=4, shuffle=True, drop_last=True)"
      ],
      "metadata": {
        "id": "LV-7i8Ft3_k7"
      },
      "execution_count": 12,
      "outputs": []
    },
    {
      "cell_type": "markdown",
      "source": [
        "##Model and Training"
      ],
      "metadata": {
        "id": "2tDxiyfA_BI3"
      }
    },
    {
      "cell_type": "code",
      "source": [
        "torch.cuda.empty_cache()"
      ],
      "metadata": {
        "id": "ScqScvH-ICVU"
      },
      "execution_count": 13,
      "outputs": []
    },
    {
      "cell_type": "markdown",
      "source": [
        "###Core Model"
      ],
      "metadata": {
        "id": "489Sbj1FV9fp"
      }
    },
    {
      "cell_type": "code",
      "source": [
        "bert_base = models.Transformer(\"bert-base-uncased\")\n",
        "pooling = models.Pooling(bert_base.get_word_embedding_dimension(), \"cls\")\n",
        "\n",
        "model = SentenceTransformer(modules=[bert_base, pooling])"
      ],
      "metadata": {
        "id": "_vG0Fr58_BuC"
      },
      "execution_count": null,
      "outputs": []
    },
    {
      "cell_type": "code",
      "source": [
        "model"
      ],
      "metadata": {
        "colab": {
          "base_uri": "https://localhost:8080/"
        },
        "id": "1LCTJlTZBFPf",
        "outputId": "c693538b-81e9-42be-f805-bc18c19680c7"
      },
      "execution_count": null,
      "outputs": [
        {
          "output_type": "execute_result",
          "data": {
            "text/plain": [
              "SentenceTransformer(\n",
              "  (0): Transformer({'max_seq_length': 512, 'do_lower_case': False}) with Transformer model: BertModel \n",
              "  (1): Pooling({'word_embedding_dimension': 768, 'pooling_mode_cls_token': True, 'pooling_mode_mean_tokens': False, 'pooling_mode_max_tokens': False, 'pooling_mode_mean_sqrt_len_tokens': False})\n",
              ")"
            ]
          },
          "metadata": {},
          "execution_count": 31
        }
      ]
    },
    {
      "cell_type": "code",
      "source": [
        "loss = DenoisingAutoEncoderLoss(model, tie_encoder_decoder=True)"
      ],
      "metadata": {
        "id": "dXbBGEk6BTk7",
        "outputId": "0a1de119-bcee-4da3-b5d5-c550d46005ff",
        "colab": {
          "base_uri": "https://localhost:8080/"
        }
      },
      "execution_count": 16,
      "outputs": [
        {
          "output_type": "stream",
          "name": "stderr",
          "text": [
            "Some weights of BertLMHeadModel were not initialized from the model checkpoint at /root/.cache/torch/sentence_transformers/sentence-transformers_all-MiniLM-L6-v2/ and are newly initialized: ['cls.predictions.decoder.bias', 'encoder.layer.3.crossattention.output.LayerNorm.bias', 'encoder.layer.0.crossattention.self.query.bias', 'encoder.layer.0.crossattention.self.value.bias', 'encoder.layer.2.crossattention.output.dense.weight', 'encoder.layer.4.crossattention.output.dense.weight', 'cls.predictions.transform.dense.weight', 'cls.predictions.transform.LayerNorm.weight', 'encoder.layer.5.crossattention.output.LayerNorm.bias', 'cls.predictions.bias', 'encoder.layer.3.crossattention.self.value.weight', 'encoder.layer.1.crossattention.self.value.weight', 'encoder.layer.0.crossattention.output.LayerNorm.weight', 'encoder.layer.3.crossattention.self.key.bias', 'encoder.layer.4.crossattention.self.key.weight', 'encoder.layer.3.crossattention.output.dense.weight', 'encoder.layer.5.crossattention.self.value.bias', 'encoder.layer.5.crossattention.output.LayerNorm.weight', 'encoder.layer.0.crossattention.self.value.weight', 'encoder.layer.0.crossattention.self.query.weight', 'encoder.layer.2.crossattention.output.dense.bias', 'encoder.layer.3.crossattention.output.LayerNorm.weight', 'encoder.layer.0.crossattention.output.dense.bias', 'encoder.layer.4.crossattention.self.query.bias', 'encoder.layer.1.crossattention.self.query.weight', 'encoder.layer.1.crossattention.self.key.weight', 'encoder.layer.4.crossattention.self.query.weight', 'encoder.layer.1.crossattention.self.query.bias', 'encoder.layer.2.crossattention.self.value.weight', 'encoder.layer.4.crossattention.output.dense.bias', 'encoder.layer.2.crossattention.self.key.weight', 'encoder.layer.3.crossattention.self.value.bias', 'encoder.layer.3.crossattention.self.query.bias', 'encoder.layer.5.crossattention.self.key.bias', 'encoder.layer.2.crossattention.self.key.bias', 'encoder.layer.1.crossattention.output.LayerNorm.weight', 'encoder.layer.2.crossattention.self.query.bias', 'encoder.layer.1.crossattention.output.dense.bias', 'encoder.layer.5.crossattention.self.key.weight', 'encoder.layer.5.crossattention.self.query.weight', 'encoder.layer.5.crossattention.output.dense.weight', 'encoder.layer.0.crossattention.self.key.bias', 'encoder.layer.1.crossattention.output.LayerNorm.bias', 'encoder.layer.0.crossattention.output.dense.weight', 'encoder.layer.4.crossattention.self.key.bias', 'encoder.layer.0.crossattention.output.LayerNorm.bias', 'encoder.layer.4.crossattention.output.LayerNorm.bias', 'encoder.layer.5.crossattention.output.dense.bias', 'encoder.layer.5.crossattention.self.value.weight', 'cls.predictions.transform.LayerNorm.bias', 'encoder.layer.4.crossattention.self.value.bias', 'cls.predictions.transform.dense.bias', 'encoder.layer.3.crossattention.output.dense.bias', 'encoder.layer.5.crossattention.self.query.bias', 'encoder.layer.1.crossattention.self.key.bias', 'encoder.layer.1.crossattention.self.value.bias', 'encoder.layer.2.crossattention.output.LayerNorm.bias', 'encoder.layer.2.crossattention.output.LayerNorm.weight', 'encoder.layer.3.crossattention.self.key.weight', 'encoder.layer.0.crossattention.self.key.weight', 'encoder.layer.3.crossattention.self.query.weight', 'encoder.layer.4.crossattention.output.LayerNorm.weight', 'encoder.layer.1.crossattention.output.dense.weight', 'encoder.layer.4.crossattention.self.value.weight', 'encoder.layer.2.crossattention.self.query.weight', 'encoder.layer.2.crossattention.self.value.bias']\n",
            "You should probably TRAIN this model on a down-stream task to be able to use it for predictions and inference.\n",
            "The following encoder weights were not tied to the decoder ['bert/pooler']\n"
          ]
        }
      ]
    },
    {
      "cell_type": "code",
      "source": [
        "# now ready to begin fine-tuning\n",
        "model.fit(train_objectives=[(data_loader, loss)],\n",
        "          epochs=1,\n",
        "          weight_decay=0,\n",
        "          scheduler=\"constantlr\",\n",
        "          optimizer_params={\"lr\": 3e-5},\n",
        "          show_progress_bar=True)"
      ],
      "metadata": {
        "id": "96Yj3WdqBke4"
      },
      "execution_count": null,
      "outputs": []
    },
    {
      "cell_type": "code",
      "source": [
        "model.save(\"synodex-icd-bert-base-uncased\")"
      ],
      "metadata": {
        "id": "BPJOj-ivCANV"
      },
      "execution_count": null,
      "outputs": []
    },
    {
      "cell_type": "code",
      "source": [
        "!zip synodex-icd-bert-base-uncased.zip synodex-icd-bert-base-uncased/*"
      ],
      "metadata": {
        "colab": {
          "base_uri": "https://localhost:8080/"
        },
        "id": "_1wjux84Mp2I",
        "outputId": "0188a560-c668-4f02-f2d3-c5e9cb274192"
      },
      "execution_count": null,
      "outputs": [
        {
          "output_type": "stream",
          "name": "stdout",
          "text": [
            "  adding: synodex-icd-bert-base-uncased/1_Pooling/ (stored 0%)\n",
            "  adding: synodex-icd-bert-base-uncased/config.json (deflated 48%)\n",
            "  adding: synodex-icd-bert-base-uncased/config_sentence_transformers.json (deflated 27%)\n",
            "  adding: synodex-icd-bert-base-uncased/modules.json (deflated 53%)\n",
            "  adding: synodex-icd-bert-base-uncased/pytorch_model.bin (deflated 8%)\n",
            "  adding: synodex-icd-bert-base-uncased/README.md (deflated 58%)\n",
            "  adding: synodex-icd-bert-base-uncased/sentence_bert_config.json (deflated 4%)\n",
            "  adding: synodex-icd-bert-base-uncased/special_tokens_map.json (deflated 42%)\n",
            "  adding: synodex-icd-bert-base-uncased/tokenizer_config.json (deflated 43%)\n",
            "  adding: synodex-icd-bert-base-uncased/tokenizer.json (deflated 71%)\n",
            "  adding: synodex-icd-bert-base-uncased/vocab.txt (deflated 53%)\n"
          ]
        }
      ]
    },
    {
      "cell_type": "markdown",
      "source": [
        "###Sentence Transformers model"
      ],
      "metadata": {
        "id": "McMECoTNWHNv"
      }
    },
    {
      "cell_type": "code",
      "source": [
        "# fine-tune on an existing Sentence Transformers model\n",
        "model_id = \"sentence-transformers/all-MiniLM-L6-v2\"\n",
        "model = SentenceTransformer(model_id)"
      ],
      "metadata": {
        "id": "vwVKVAu8LF8N"
      },
      "execution_count": null,
      "outputs": []
    },
    {
      "cell_type": "code",
      "source": [
        "# now ready to begin fine-tuning\n",
        "model.fit(train_objectives=[(data_loader, loss)],\n",
        "          epochs=1,\n",
        "          weight_decay=0,\n",
        "          scheduler=\"constantlr\",\n",
        "          optimizer_params={\"lr\": 3e-5},\n",
        "          show_progress_bar=True)"
      ],
      "metadata": {
        "id": "RfOErkhLLOTK",
        "outputId": "f4183952-8563-4afa-e3e0-9e473eeee138",
        "colab": {
          "base_uri": "https://localhost:8080/",
          "height": 118,
          "referenced_widgets": [
            "f5404a62a87b44599253de8439af2c19",
            "e291d0aaba1a44e884bb2ba34398e5e4",
            "8e1a02840c8d4a10938658d0f4d1bc60",
            "9b197bdb234446249698afd0c3663e89",
            "a660ffa6f0324486a246e87b6f85d824",
            "fb60a23579b94f30b0341ffed0fd8b4d",
            "99613574b50b419aa76c3ed51d1ada5a",
            "244a1b36894b43b793f943b8f0d36263",
            "651e87fc419541b2b16c625ef07b1d03",
            "ff8f83dbff6340b895e32d8f05b4e060",
            "1f0df629a860477ebbaadc866c0ac6c2",
            "00614082f9c34f0687488e64a7e01849",
            "fc5bdcbdf12348dbab7832965e78e17f",
            "7a7c4ebb5ce840e0b69903f752ae6cc9",
            "895b3f81fc4e4a94a8b830b05fb39de7",
            "1c3d4d91aa954cc08b7af7461d068cb0",
            "69d15df1f52d4bfabb0fcba9d1f9e220",
            "9c7a2c1ad9cb487bb77e65185bf29304",
            "30fcc4524da94a689fc8bc827880937a",
            "9640dca2f14647e48ab4f3998c2d6141",
            "d393d1b0864f4978b568c7998cf1c472",
            "42a50b5b1d3c4eeba34529b6e8b8da09"
          ]
        }
      },
      "execution_count": 17,
      "outputs": [
        {
          "output_type": "display_data",
          "data": {
            "text/plain": [
              "Epoch:   0%|          | 0/1 [00:00<?, ?it/s]"
            ],
            "application/vnd.jupyter.widget-view+json": {
              "version_major": 2,
              "version_minor": 0,
              "model_id": "f5404a62a87b44599253de8439af2c19"
            }
          },
          "metadata": {}
        },
        {
          "output_type": "display_data",
          "data": {
            "text/plain": [
              "Iteration:   0%|          | 0/28798 [00:00<?, ?it/s]"
            ],
            "application/vnd.jupyter.widget-view+json": {
              "version_major": 2,
              "version_minor": 0,
              "model_id": "00614082f9c34f0687488e64a7e01849"
            }
          },
          "metadata": {}
        },
        {
          "output_type": "stream",
          "name": "stderr",
          "text": [
            "We strongly recommend passing in an `attention_mask` since your input_ids may be padded. See https://huggingface.co/docs/transformers/troubleshooting#incorrect-output-when-padding-tokens-arent-masked.\n"
          ]
        }
      ]
    },
    {
      "cell_type": "code",
      "source": [
        "model.save(\"synodex-icd-bert-base-uncased-v1\")"
      ],
      "metadata": {
        "id": "C9DNqh-dLaoC"
      },
      "execution_count": 18,
      "outputs": []
    },
    {
      "cell_type": "code",
      "source": [
        "!zip synodex-icd-bert-base-uncased-v1.zip synodex-icd-bert-base-uncased-v1/*"
      ],
      "metadata": {
        "id": "LG0PEpybLewo",
        "outputId": "e92131db-1ccf-42f6-cdc3-90c7d185921f",
        "colab": {
          "base_uri": "https://localhost:8080/"
        }
      },
      "execution_count": 19,
      "outputs": [
        {
          "output_type": "stream",
          "name": "stdout",
          "text": [
            "  adding: synodex-icd-bert-base-uncased-v1/1_Pooling/ (stored 0%)\n",
            "  adding: synodex-icd-bert-base-uncased-v1/2_Normalize/ (stored 0%)\n",
            "  adding: synodex-icd-bert-base-uncased-v1/config.json (deflated 48%)\n",
            "  adding: synodex-icd-bert-base-uncased-v1/config_sentence_transformers.json (deflated 27%)\n",
            "  adding: synodex-icd-bert-base-uncased-v1/modules.json (deflated 62%)\n",
            "  adding: synodex-icd-bert-base-uncased-v1/pytorch_model.bin (deflated 8%)\n",
            "  adding: synodex-icd-bert-base-uncased-v1/README.md (deflated 53%)\n",
            "  adding: synodex-icd-bert-base-uncased-v1/sentence_bert_config.json (deflated 4%)\n",
            "  adding: synodex-icd-bert-base-uncased-v1/special_tokens_map.json (deflated 42%)\n",
            "  adding: synodex-icd-bert-base-uncased-v1/tokenizer_config.json (deflated 51%)\n",
            "  adding: synodex-icd-bert-base-uncased-v1/tokenizer.json (deflated 71%)\n",
            "  adding: synodex-icd-bert-base-uncased-v1/vocab.txt (deflated 53%)\n"
          ]
        }
      ]
    },
    {
      "cell_type": "markdown",
      "source": [
        "##Semantic Search"
      ],
      "metadata": {
        "id": "tLPWZR8bOTn9"
      }
    },
    {
      "cell_type": "code",
      "source": [
        "!mkdir data/models\n",
        "!cp -r synodex-icd-bert-base-uncased-v1 data/models"
      ],
      "metadata": {
        "id": "rEhrnBAVVEPV"
      },
      "execution_count": 3,
      "outputs": []
    },
    {
      "cell_type": "code",
      "source": [
        "!mkdir -p /home/ocreng/ocrhigh/txt-files\n",
        "!cp page-7.txt /home/ocreng/ocrhigh/txt-files/"
      ],
      "metadata": {
        "id": "3VxXkqHsOU0F"
      },
      "execution_count": 4,
      "outputs": []
    },
    {
      "cell_type": "code",
      "source": [
        "icd10_code_list = ['Z20.822', 'R05.9', 'E78.3']"
      ],
      "metadata": {
        "id": "EzwwC41xOXFv"
      },
      "execution_count": 5,
      "outputs": []
    },
    {
      "cell_type": "code",
      "source": [
        "semantic_search = SemanticSearch()\n",
        "semantic_search.init_corpus_embedding(page_num=7)"
      ],
      "metadata": {
        "id": "QXXBkTzIOhUj"
      },
      "execution_count": 6,
      "outputs": []
    },
    {
      "cell_type": "code",
      "source": [
        "matched_dict = []\n",
        "for code in icd10_code_list:\n",
        "  matched_dict.append(semantic_search.get_similarity_score(code))\n",
        "matched_dict"
      ],
      "metadata": {
        "colab": {
          "base_uri": "https://localhost:8080/"
        },
        "id": "gtD-MK6XOj9F",
        "outputId": "83b73ef1-709e-49f8-ff8c-e11f64433d82"
      },
      "execution_count": 7,
      "outputs": [
        {
          "output_type": "execute_result",
          "data": {
            "text/plain": [
              "[{'corpus_id': 11,\n",
              "  'score': 0.7408628463745117,\n",
              "  'original_description': 'Contact with and (suspected) exposure to COVID-19',\n",
              "  'match_description': 'Diagnosis Contact with and suspected exposure COVID19'},\n",
              " {'corpus_id': 23,\n",
              "  'score': 0.636195182800293,\n",
              "  'original_description': 'Cough, unspecified',\n",
              "  'match_description': 'Diagnosis Cough'},\n",
              " {'corpus_id': 37,\n",
              "  'score': 0.6819921731948853,\n",
              "  'original_description': 'Hyperchylomicronemia',\n",
              "  'match_description': 'Diagnosis Hypertriglyceridemia sporadic'}]"
            ]
          },
          "metadata": {},
          "execution_count": 7
        }
      ]
    },
    {
      "cell_type": "markdown",
      "source": [
        "```log\n",
        "[{'corpus_id': 10,\n",
        "  'score': 0.681359052658081,\n",
        "  'original_description': 'Contact with and (suspected) exposure to COVID-19',\n",
        "  'match_description': 'Diagnosis Contact suspected exposure COVID19 Z20822'},\n",
        " {'corpus_id': 21,\n",
        "  'score': 0.5364741086959839,\n",
        "  'original_description': 'Cough, unspecified',\n",
        "  'match_description': 'Diagnosis Cough R059'},\n",
        " {'corpus_id': 13,\n",
        "  'score': 0.4869689643383026,\n",
        "  'original_description': 'Hyperchylomicronemia',\n",
        "  'match_description': 'COVID19 Rapid Test Negative Reavionied'}]\n",
        "```"
      ],
      "metadata": {
        "id": "s4YScCmITqQe"
      }
    },
    {
      "cell_type": "code",
      "source": [
        "print(len(semantic_search.sentence_list))\n",
        "semantic_search.sentence_list"
      ],
      "metadata": {
        "colab": {
          "base_uri": "https://localhost:8080/"
        },
        "id": "WS36vnoBOo-h",
        "outputId": "5a932fcb-b80f-4be2-f7c6-18cbb4055984"
      },
      "execution_count": null,
      "outputs": [
        {
          "output_type": "stream",
          "name": "stdout",
          "text": [
            "40\n"
          ]
        },
        {
          "output_type": "execute_result",
          "data": {
            "text/plain": [
              "['Patient DOB',\n",
              " 'Reviewed Tristan Guevara',\n",
              " 'Order Date',\n",
              " 'Ordered Muneer behalf',\n",
              " 'Tristan Guevara',\n",
              " 'Collected Date Site LABORATORY',\n",
              " 'Reported Date Requisition',\n",
              " 'Lab Reviewed COVID19 Rapid Test Accession',\n",
              " 'Reviewed Tristan Guevara',\n",
              " 'Notify Tristan Guevara',\n",
              " 'Diagnosis Contact suspected exposure COVID19 Z20822',\n",
              " 'Test Name Result Units Normal Range Status',\n",
              " 'Final',\n",
              " 'COVID19 Rapid Test Negative Reavionied',\n",
              " 'Patient DOB',\n",
              " 'aps Reviewed Bryonna Williams',\n",
              " 'Order Date Ordered Emily Martinbianco',\n",
              " 'Collected Date Site LABORATORY',\n",
              " 'Reported Date Requisition',\n",
              " 'Lab Reviewed COVID19 Rapid Test Accession',\n",
              " 'Reviewed Bryonna Williams',\n",
              " 'Diagnosis Cough R059',\n",
              " 'Test Name Result Units Normal Range Status',\n",
              " 'COVID19 Rapid Test Positive Abn Final',\n",
              " 'Reviewed',\n",
              " 'Patient DOB',\n",
              " 'Reviewed Tristan Guevara',\n",
              " 'Ordered Brenda Bierenga FNPBC',\n",
              " 'Order Date',\n",
              " 'behalf Tristan Guevara',\n",
              " 'Collected Date Site Silver Pine Lab',\n",
              " 'Reported Date',\n",
              " 'Lab Reviewed Comprehensive Metabolic Panel CMP',\n",
              " 'Reviewed Tristan Guevara',\n",
              " 'Notify Tristan Guevara',\n",
              " 'Diagnosis Hypertriglyceridemia sporadic E783',\n",
              " 'Result Note',\n",
              " 'Testing done Silver Pine Medical Group unless otherwise specified Schoenherr Road Suite',\n",
              " 'Sterling Heights',\n",
              " 'Tuesday June Page']"
            ]
          },
          "metadata": {},
          "execution_count": 7
        }
      ]
    }
  ]
}