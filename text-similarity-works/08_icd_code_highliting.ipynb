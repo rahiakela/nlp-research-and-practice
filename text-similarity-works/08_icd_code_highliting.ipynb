{
  "nbformat": 4,
  "nbformat_minor": 0,
  "metadata": {
    "colab": {
      "provenance": [],
      "authorship_tag": "ABX9TyNFn02otJCE3/oRNVEqHVZ4",
      "include_colab_link": true
    },
    "kernelspec": {
      "name": "python3",
      "display_name": "Python 3"
    },
    "language_info": {
      "name": "python"
    }
  },
  "cells": [
    {
      "cell_type": "markdown",
      "metadata": {
        "id": "view-in-github",
        "colab_type": "text"
      },
      "source": [
        "<a href=\"https://colab.research.google.com/github/rahiakela/natural-language-processing-research-and-practice/blob/main/text-similarity-works/08_icd_code_highliting.ipynb\" target=\"_parent\"><img src=\"https://colab.research.google.com/assets/colab-badge.svg\" alt=\"Open In Colab\"/></a>"
      ]
    },
    {
      "cell_type": "markdown",
      "source": [
        "##Setup"
      ],
      "metadata": {
        "id": "73ORkeFzaRA4"
      }
    },
    {
      "cell_type": "markdown",
      "source": [
        "Reference:\n",
        "\n",
        "[Rule-based entity recognition](https://spacy.io/usage/rule-based-matching#entityruler)\n",
        "\n",
        "[PDF-to-TEXT](https://pypi.org/project/pdftotext/)"
      ],
      "metadata": {
        "id": "nAkX90V5vVML"
      }
    },
    {
      "cell_type": "code",
      "source": [
        "!pip -q install spacy\n",
        "!python -m spacy download en_core_web_sm\n",
        "\n",
        "#!pip install pillow\n",
        "\n",
        "!sudo apt install build-essential libpoppler-cpp-dev pkg-config python3-dev\n",
        "!pip install -U pdftotext\n",
        "!pip install PyPDF2\n",
        "!pip install fitz\n",
        "!pip install PyMuPDF"
      ],
      "metadata": {
        "id": "Ti6ZynbyaR9l"
      },
      "execution_count": null,
      "outputs": []
    },
    {
      "cell_type": "markdown",
      "source": [
        "Just restart the colab environment."
      ],
      "metadata": {
        "id": "EIvuMvZfuhfY"
      }
    },
    {
      "cell_type": "code",
      "source": [
        "import pandas as pd\n",
        "import numpy as np\n",
        "import re\n",
        "import time\n",
        "import os\n",
        "\n",
        "import pdb\n",
        "\n",
        "import fitz\n",
        "import cv2 \n",
        "import pdftotext\n",
        "from PyPDF2 import PdfFileReader, PdfFileWriter\n",
        "from io import BytesIO\n",
        "from PIL import Image\n",
        "from matplotlib import pyplot as plt\n",
        "\n",
        "import spacy\n",
        "from spacy.matcher import PhraseMatcher\n",
        "from spacy.lang.en import English\n",
        "\n",
        "import nltk"
      ],
      "metadata": {
        "id": "fAcHTn0JaM2S"
      },
      "execution_count": 1,
      "outputs": []
    },
    {
      "cell_type": "code",
      "source": [
        "!mkdir pdf-files\n",
        "!mkdir txt-files"
      ],
      "metadata": {
        "id": "IsoNvC1ibb6l"
      },
      "execution_count": 2,
      "outputs": []
    },
    {
      "cell_type": "code",
      "source": [
        "pdf_files_path = \"pdf-files\"\n",
        "txt_files_path = \"txt-files\""
      ],
      "metadata": {
        "id": "YIUA8MJDbcg6"
      },
      "execution_count": 8,
      "outputs": []
    },
    {
      "cell_type": "code",
      "source": [
        "nlp = spacy.load(\"en_core_web_sm\")\n",
        "nlp = English()"
      ],
      "metadata": {
        "id": "HA55OVXibSfh"
      },
      "execution_count": 2,
      "outputs": []
    },
    {
      "cell_type": "code",
      "source": [
        "def split_pdf(pdf_path):\n",
        "  pdf_in_file = open(pdf_path, \"rb\")\n",
        "  pdf = PdfFileReader(pdf_in_file)\n",
        "  pdf_list = []\n",
        "  for page in range(pdf.numPages):\n",
        "      inputpdf = PdfFileReader(pdf_in_file)\n",
        "      output = PdfFileWriter()\n",
        "      output.addPage(inputpdf.getPage(page))\n",
        "      with open(f\"{pdf_files_path}/page-{page}.pdf\", \"wb\") as outputStream:\n",
        "          output.write(outputStream)\n",
        "          pdf_list.append(f\"page-{page}.pdf\")\n",
        "  return pdf_list"
      ],
      "metadata": {
        "id": "YfTNt1mrbwy3"
      },
      "execution_count": 3,
      "outputs": []
    },
    {
      "cell_type": "code",
      "source": [
        "def extract_text_from_pdf(pdf_list):\n",
        "  txt_file_list = []\n",
        "  i = 0\n",
        "  for pdf_file in pdf_list:\n",
        "    with open(os.path.join(pdf_files_path, pdf_file), \"rb\") as f:\n",
        "      pdf = pdftotext.PDF(f)\n",
        "    \n",
        "    # Read all the text into one string\n",
        "    pdf_text = \"\\n\\n\".join(pdf)\n",
        "\n",
        "    # write text into file\n",
        "    with open(f\"{txt_files_path}/page-{str(i)}.txt\", \"a\") as f:\n",
        "      f.write(pdf_text)\n",
        "    txt_file_list.append(f\"{txt_files_path}/page-{str(i)}.txt\")\n",
        "    i += 1\n",
        "  return txt_file_list"
      ],
      "metadata": {
        "id": "XRSuNufIbxbr"
      },
      "execution_count": 4,
      "outputs": []
    },
    {
      "cell_type": "code",
      "source": [
        "def highlight_icd10_code(pdf_page_dict, pdf_file_name):\n",
        "  pdf_file = fitz.open(pdf_file_name)\n",
        "  for page_num, page in enumerate(pdf_file):\n",
        "    if page_num in pdf_page_dict:\n",
        "      for code in pdf_page_dict[page_num]:\n",
        "        text_to_be_highlighted = code\n",
        "        highlight = page.search_for(text_to_be_highlighted)\n",
        "\n",
        "        for inst in highlight:\n",
        "          highlight = page.add_highlight_annot(inst)\n",
        "          highlight.update()\n",
        "          highlight = page.search_for(text_to_be_highlighted)\n",
        "          #print(code, highlight,end='\\n')\n",
        "  pdf_file.save(f\"{pdf_file_name.split('.')[0]}_output.pdf\", garbage=4, deflate=True, clean=True)"
      ],
      "metadata": {
        "id": "coxRG4U4e8UY"
      },
      "execution_count": 5,
      "outputs": []
    },
    {
      "cell_type": "code",
      "source": [
        "def make_icd_10_code_pattern(icd_10_code_df):\n",
        "  patterns = []\n",
        "  for _, row in icd_10_code_df.iterrows():\n",
        "\n",
        "    # add default pattern\n",
        "    patterns.append({\"label\": \"ICD-10\", \"pattern\": row[\"ICD-10\"]})\n",
        "\n",
        "    # create alternate pattern\n",
        "    code_arr = row[\"ICD-10\"].split(\".\")\n",
        "    if len(code_arr) > 1:\n",
        "      code1 = f\"{code_arr[0]}. {code_arr[1]}\"\n",
        "      code2 = f\"{code_arr[0]} .{code_arr[1]}\"\n",
        "      code3 = f\"{code_arr[0]} . {code_arr[1]}\"\n",
        "\n",
        "    for code_pattern in [code1, code2, code3]:\n",
        "      patterns.append({\"label\": \"ICD-10\", \"pattern\": code_pattern})\n",
        "  return patterns"
      ],
      "metadata": {
        "id": "O3BxOYzGdxaw"
      },
      "execution_count": 6,
      "outputs": []
    },
    {
      "cell_type": "code",
      "source": [
        "def make_icd_10_code_pattern(icd_10_code_df):\n",
        "  patterns = []\n",
        "  for _, row in icd_10_code_df.iterrows():\n",
        "    patterns.append({\"label\": \"ICD-10\", \"pattern\": row[\"ICD-10\"]})\n",
        "  return patterns"
      ],
      "metadata": {
        "id": "dEH-fEsDm11l"
      },
      "execution_count": null,
      "outputs": []
    },
    {
      "cell_type": "markdown",
      "source": [
        "##Spacy entity rule-matcher"
      ],
      "metadata": {
        "id": "kRlokPzlatON"
      }
    },
    {
      "cell_type": "code",
      "source": [
        "code = \"A00.0\"\n",
        "code_arr = code.split(\".\")\n",
        "code_arr"
      ],
      "metadata": {
        "id": "MqyooaZecPHk",
        "outputId": "f56fe85f-ea9e-411a-d862-a23b38959b37",
        "colab": {
          "base_uri": "https://localhost:8080/"
        }
      },
      "execution_count": 22,
      "outputs": [
        {
          "output_type": "execute_result",
          "data": {
            "text/plain": [
              "['A00', '0']"
            ]
          },
          "metadata": {},
          "execution_count": 22
        }
      ]
    },
    {
      "cell_type": "code",
      "source": [
        "len(code_arr)"
      ],
      "metadata": {
        "id": "qml048J1fZUb",
        "outputId": "2cfa8404-28aa-4297-fa00-393b852f0f96",
        "colab": {
          "base_uri": "https://localhost:8080/"
        }
      },
      "execution_count": 23,
      "outputs": [
        {
          "output_type": "execute_result",
          "data": {
            "text/plain": [
              "2"
            ]
          },
          "metadata": {},
          "execution_count": 23
        }
      ]
    },
    {
      "cell_type": "code",
      "source": [
        "code1 = f\"{code_arr[0]}. {code_arr[1]}\"\n",
        "code1"
      ],
      "metadata": {
        "id": "Wv1AY9xNcgMo",
        "outputId": "df5e70ca-6463-470b-b3d7-02bcb0f41368",
        "colab": {
          "base_uri": "https://localhost:8080/",
          "height": 35
        }
      },
      "execution_count": 9,
      "outputs": [
        {
          "output_type": "execute_result",
          "data": {
            "text/plain": [
              "'A00. 0'"
            ],
            "application/vnd.google.colaboratory.intrinsic+json": {
              "type": "string"
            }
          },
          "metadata": {},
          "execution_count": 9
        }
      ]
    },
    {
      "cell_type": "code",
      "source": [
        "code2 = f\"{code_arr[0]} .{code_arr[1]}\"\n",
        "code2"
      ],
      "metadata": {
        "id": "aZ9nM7g5cwJF",
        "outputId": "5288e8ca-c3ed-439e-e98a-3bc5b2ea32b0",
        "colab": {
          "base_uri": "https://localhost:8080/",
          "height": 35
        }
      },
      "execution_count": 10,
      "outputs": [
        {
          "output_type": "execute_result",
          "data": {
            "text/plain": [
              "'A00 .0'"
            ],
            "application/vnd.google.colaboratory.intrinsic+json": {
              "type": "string"
            }
          },
          "metadata": {},
          "execution_count": 10
        }
      ]
    },
    {
      "cell_type": "code",
      "source": [
        "code3 = f\"{code_arr[0]} . {code_arr[1]}\"\n",
        "code3"
      ],
      "metadata": {
        "id": "Upqvzz34c28x",
        "outputId": "35792510-5536-4660-8b19-1a90e6ae2b51",
        "colab": {
          "base_uri": "https://localhost:8080/",
          "height": 35
        }
      },
      "execution_count": 11,
      "outputs": [
        {
          "output_type": "execute_result",
          "data": {
            "text/plain": [
              "'A00 . 0'"
            ],
            "application/vnd.google.colaboratory.intrinsic+json": {
              "type": "string"
            }
          },
          "metadata": {},
          "execution_count": 11
        }
      ]
    },
    {
      "cell_type": "code",
      "source": [
        "for code in [code1, code2, code3]:\n",
        "  print(code)"
      ],
      "metadata": {
        "id": "AUAqEAvPecP-",
        "outputId": "1f98ab4a-496e-4d25-cac6-409cdc08f5d0",
        "colab": {
          "base_uri": "https://localhost:8080/"
        }
      },
      "execution_count": 15,
      "outputs": [
        {
          "output_type": "stream",
          "name": "stdout",
          "text": [
            "A00. 0\n",
            "A00 .0\n",
            "A00 . 0\n"
          ]
        }
      ]
    },
    {
      "cell_type": "code",
      "source": [
        "icd_code_df = pd.read_csv(\"icd_10_codes.csv\")\n",
        "patterns = make_icd_10_code_pattern(icd_code_df)\n",
        "\n",
        "ruler = nlp.add_pipe(\"entity_ruler\")\n",
        "ruler.add_patterns(patterns)\n",
        "# save to json file\n",
        "ruler.to_disk(\"./icd10_code_patterns.jsonl\")"
      ],
      "metadata": {
        "id": "_DO51nssazjk"
      },
      "execution_count": 21,
      "outputs": []
    },
    {
      "cell_type": "markdown",
      "source": [
        "##Text extraction"
      ],
      "metadata": {
        "id": "E3AMzWcDwfYk"
      }
    },
    {
      "cell_type": "code",
      "source": [
        "# Step-1: spliting pdf file\n",
        "pdf_file_name = \"Redacted_Sample_2.pdf\"\n",
        "pdf_list = split_pdf(pdf_file_name)\n",
        "\n",
        "# Step-2: Extracting text from pdf\n",
        "txt_list = extract_text_from_pdf(pdf_list)\n",
        "\n",
        "# Step-3: loading and updating patterns to Spacy\n",
        "nlp.add_pipe(\"entity_ruler\").from_disk(\"./icd10_code_patterns.jsonl\")"
      ],
      "metadata": {
        "id": "DMQjPBMmmg6L",
        "outputId": "1129d18e-6a06-4c00-f502-634aaf141897",
        "colab": {
          "base_uri": "https://localhost:8080/"
        }
      },
      "execution_count": 9,
      "outputs": [
        {
          "output_type": "execute_result",
          "data": {
            "text/plain": [
              "<spacy.pipeline.entityruler.EntityRuler at 0x7fe02ff2d320>"
            ]
          },
          "metadata": {},
          "execution_count": 9
        }
      ]
    },
    {
      "cell_type": "markdown",
      "source": [
        "##ICD-10 code searching"
      ],
      "metadata": {
        "id": "E0OR8sdCpAMx"
      }
    },
    {
      "cell_type": "code",
      "source": [
        "with open(f\"{txt_files_path}/page-2.txt\", \"r\") as f:\n",
        "  one_txt = f.read()\n",
        "  print(one_txt)\n",
        "  doc = nlp(one_txt)\n",
        "  print([(ent.text, ent.label_) for ent in doc.ents])"
      ],
      "metadata": {
        "id": "TyPoHyTLjL1u"
      },
      "execution_count": null,
      "outputs": []
    },
    {
      "cell_type": "code",
      "source": [
        "True if re.search(\"(P[ ][0-9]+)(,\\s)(L[0-9]+)\", one_txt) else False"
      ],
      "metadata": {
        "id": "XVRrjus-jiQx",
        "outputId": "fdb2acc3-99b8-4828-9fc2-e2d43700b482",
        "colab": {
          "base_uri": "https://localhost:8080/"
        }
      },
      "execution_count": 20,
      "outputs": [
        {
          "output_type": "execute_result",
          "data": {
            "text/plain": [
              "True"
            ]
          },
          "metadata": {},
          "execution_count": 20
        }
      ]
    },
    {
      "cell_type": "code",
      "source": [
        "%%time\n",
        "\n",
        "pdf_page_dict = {}\n",
        "# Step-4: Searching ICD-10 code\n",
        "for txt_file in txt_list:\n",
        "  with open(txt_file, \"r\") as f:\n",
        "    doc = nlp(f.read())\n",
        "    code_list = [ent.text for ent in doc.ents]\n",
        "    if len(code_list) != 0:\n",
        "      page_number = int(txt_file.split(\"/\")[1].split(\".\")[0].split(\"-\")[1])\n",
        "      pdf_page_dict[page_number] = code_list\n",
        "      print(f\"Page[{txt_file.split('/')[1]}]: {code_list}\")"
      ],
      "metadata": {
        "colab": {
          "base_uri": "https://localhost:8080/"
        },
        "id": "ikd7sNa2rPL9",
        "outputId": "738f3adb-cb6c-4422-8af7-b6d667bb7ef7"
      },
      "execution_count": 23,
      "outputs": [
        {
          "output_type": "stream",
          "name": "stdout",
          "text": [
            "Page[page-2.txt]: ['L14']\n",
            "Page[page-3.txt]: ['L14', 'L14', 'L22', 'L22']\n",
            "Page[page-4.txt]: ['L26', 'L26', 'L26', 'L26', 'L26', 'L22', 'L14', 'L22', 'L14']\n",
            "Page[page-6.txt]: ['L14', 'L14']\n",
            "Page[page-7.txt]: ['L14', 'L14', 'L14', 'L14']\n",
            "Page[page-8.txt]: ['L26', 'L26', 'L26']\n",
            "Page[page-9.txt]: ['L26', 'L26', 'L22', 'L26', 'L22', 'L26', 'L22', 'L22', 'L22']\n",
            "Page[page-10.txt]: ['L22', 'L26', 'L14']\n",
            "Page[page-11.txt]: ['L22', 'L22', 'L22']\n",
            "Page[page-12.txt]: ['L14']\n",
            "Page[page-18.txt]: ['M54.40']\n",
            "Page[page-19.txt]: ['G43.109']\n",
            "Page[page-26.txt]: ['D17.1', 'F43.9']\n",
            "Page[page-37.txt]: ['G43.109', 'D72.819', 'R00.2', 'R10.30', 'E88.2']\n",
            "Page[page-39.txt]: ['G43.109', 'D72.819', 'R00.2', 'R10.30']\n",
            "Page[page-42.txt]: ['G43.109', 'R00.2', 'G43.109', 'D72.819', 'R00.2']\n",
            "Page[page-74.txt]: ['M54.2', 'R42']\n",
            "Page[page-82.txt]: ['G43.109', 'R00.2', 'L25.9', 'D72.819']\n",
            "Page[page-84.txt]: ['G43.109']\n",
            "Page[page-85.txt]: ['L25.9', 'D72.819']\n",
            "Page[page-102.txt]: ['G43.109', 'R00.2', 'L25.9', 'Z00.00']\n",
            "Page[page-105.txt]: ['G43.109', 'R00.2', 'L25.9']\n",
            "CPU times: user 440 ms, sys: 6.54 ms, total: 446 ms\n",
            "Wall time: 446 ms\n"
          ]
        }
      ]
    },
    {
      "cell_type": "code",
      "source": [
        "%%time\n",
        "\n",
        "pdf_page_dict = {}\n",
        "# Step-4: Searching ICD-10 code\n",
        "for txt_file in txt_list:\n",
        "  with open(txt_file, \"r\") as f:\n",
        "    page_txt = f.read()\n",
        "    # filter the page that have line number instead of code\n",
        "    if not re.search(\"(P[ ][0-9]+)(,\\s)(L[0-9]+)\", page_txt):\n",
        "      doc = nlp(page_txt)\n",
        "      code_list = [ent.text for ent in doc.ents]\n",
        "      if len(code_list) != 0:\n",
        "        page_number = int(txt_file.split(\"/\")[1].split(\".\")[0].split(\"-\")[1])\n",
        "        pdf_page_dict[page_number] = code_list\n",
        "        print(f\"Page[{txt_file.split('/')[1]}]: {code_list}\")"
      ],
      "metadata": {
        "id": "OW9ULIN3lDG9",
        "outputId": "c297a927-33d7-4267-bda3-9cae7fff6565",
        "colab": {
          "base_uri": "https://localhost:8080/"
        }
      },
      "execution_count": 25,
      "outputs": [
        {
          "output_type": "stream",
          "name": "stdout",
          "text": [
            "Page[page-18.txt]: ['M54.40']\n",
            "Page[page-19.txt]: ['G43.109']\n",
            "Page[page-26.txt]: ['D17.1', 'F43.9']\n",
            "Page[page-37.txt]: ['G43.109', 'D72.819', 'R00.2', 'R10.30', 'E88.2']\n",
            "Page[page-39.txt]: ['G43.109', 'D72.819', 'R00.2', 'R10.30']\n",
            "Page[page-42.txt]: ['G43.109', 'R00.2', 'G43.109', 'D72.819', 'R00.2']\n",
            "Page[page-74.txt]: ['M54.2', 'R42']\n",
            "Page[page-82.txt]: ['G43.109', 'R00.2', 'L25.9', 'D72.819']\n",
            "Page[page-84.txt]: ['G43.109']\n",
            "Page[page-85.txt]: ['L25.9', 'D72.819']\n",
            "Page[page-102.txt]: ['G43.109', 'R00.2', 'L25.9', 'Z00.00']\n",
            "Page[page-105.txt]: ['G43.109', 'R00.2', 'L25.9']\n",
            "CPU times: user 400 ms, sys: 7.42 ms, total: 408 ms\n",
            "Wall time: 407 ms\n"
          ]
        }
      ]
    },
    {
      "cell_type": "markdown",
      "source": [
        "##ICD-10 code highlighting"
      ],
      "metadata": {
        "id": "bUvBLqWApIgR"
      }
    },
    {
      "cell_type": "code",
      "source": [
        "0 in pdf_page_dict"
      ],
      "metadata": {
        "colab": {
          "base_uri": "https://localhost:8080/"
        },
        "id": "YPyy8Au7qKrb",
        "outputId": "b5ce9fb4-1e29-4e11-af16-200cee375771"
      },
      "execution_count": null,
      "outputs": [
        {
          "output_type": "execute_result",
          "data": {
            "text/plain": [
              "False"
            ]
          },
          "metadata": {},
          "execution_count": 17
        }
      ]
    },
    {
      "cell_type": "code",
      "source": [
        "pdf_page_dict[2]"
      ],
      "metadata": {
        "colab": {
          "base_uri": "https://localhost:8080/"
        },
        "id": "rS9WmjZZr7w1",
        "outputId": "cd0eae88-e9fb-4b7d-93ce-5893a5a16c3b"
      },
      "execution_count": null,
      "outputs": [
        {
          "output_type": "execute_result",
          "data": {
            "text/plain": [
              "['L14', 'L14']"
            ]
          },
          "metadata": {},
          "execution_count": 18
        }
      ]
    },
    {
      "cell_type": "code",
      "source": [
        "%%time\n",
        "\n",
        "# Step-4: Highlighting ICD-10 code into pdf\n",
        "highlight_icd10_code(pdf_page_dict, pdf_file_name)"
      ],
      "metadata": {
        "id": "7-5lnSdLsiPc",
        "outputId": "625ecf2a-83b8-4edf-c60a-5a46fee504d2",
        "colab": {
          "base_uri": "https://localhost:8080/"
        }
      },
      "execution_count": 26,
      "outputs": [
        {
          "output_type": "stream",
          "name": "stdout",
          "text": [
            "CPU times: user 1.27 s, sys: 29.9 ms, total: 1.3 s\n",
            "Wall time: 1.29 s\n"
          ]
        }
      ]
    },
    {
      "cell_type": "code",
      "source": [
        "True if re.search(\"[0-9],L\", \"3, L14\") else False"
      ],
      "metadata": {
        "colab": {
          "base_uri": "https://localhost:8080/"
        },
        "id": "PqAli6FIHLiS",
        "outputId": "b5820516-0976-41c1-9e9c-5c57262358d3"
      },
      "execution_count": null,
      "outputs": [
        {
          "output_type": "execute_result",
          "data": {
            "text/plain": [
              "False"
            ]
          },
          "metadata": {},
          "execution_count": 36
        }
      ]
    },
    {
      "cell_type": "code",
      "source": [
        "True if re.search(\"(P[ ][0-9]+)(,\\s)(L[0-9]+)\", \"P 13, L17\") else False"
      ],
      "metadata": {
        "id": "GkKlUQW7fHeM",
        "outputId": "6d51d34a-13ea-49c0-ac8f-ebfcc7e1568e",
        "colab": {
          "base_uri": "https://localhost:8080/"
        }
      },
      "execution_count": null,
      "outputs": [
        {
          "output_type": "execute_result",
          "data": {
            "text/plain": [
              "True"
            ]
          },
          "metadata": {},
          "execution_count": 38
        }
      ]
    },
    {
      "cell_type": "code",
      "source": [
        "pattern = re.compile(\"(P[ ][0-9]+)(,\\s)(L[0-9]+)\")\n",
        "\n",
        "for i, line in enumerate(open(\"txt-files/pdf-page-3.txt\")):\n",
        "  for match in re.finditer(pattern, line):\n",
        "    print('Found on line %s: %s' % (i+1, match.group()))"
      ],
      "metadata": {
        "id": "_VXtIAnOZ89O",
        "outputId": "ff2c61c7-036f-4ec1-f82a-c560874570f2",
        "colab": {
          "base_uri": "https://localhost:8080/"
        }
      },
      "execution_count": null,
      "outputs": [
        {
          "output_type": "stream",
          "name": "stdout",
          "text": [
            "Found on line 2: P 60, L23\n",
            "Found on line 3: P 61, L14\n",
            "Found on line 4: P 56, L19\n",
            "Found on line 7: P 54, L19\n",
            "Found on line 8: P 49, L5\n",
            "Found on line 9: P 39, L6\n",
            "Found on line 10: P 37, L9\n",
            "Found on line 11: P 35, L14\n",
            "Found on line 12: P 27, L24\n",
            "Found on line 13: P 21, L23\n",
            "Found on line 15: P 11, L20\n",
            "Found on line 16: P 5, L39\n",
            "Found on line 18: P 3, L24\n",
            "Found on line 22: P 77, L38\n",
            "Found on line 27: P 86, L19\n",
            "Found on line 29: P 66, L19\n",
            "Found on line 30: P 29, L19\n",
            "Found on line 31: P 21, L16\n",
            "Found on line 32: P 12, L18\n",
            "Found on line 33: P 3, L22\n",
            "Found on line 34: P 3, L22\n",
            "Found on line 38: P 3, L17\n",
            "Found on line 41: P 79, L31\n"
          ]
        }
      ]
    },
    {
      "cell_type": "code",
      "source": [
        "# Step-5: Searching ICD-10 code\n",
        "for txt_file in txt_list:\n",
        "  with open(txt_file, \"r\") as f:\n",
        "    #one_txt = f.read()\n",
        "    doc = nlp(f.read())\n",
        "    code_list = [ent.text for ent in doc.ents]\n",
        "    if len(code_list) != 0:\n",
        "      print(f\"Page[{txt_file.split('/')[1]}]: {code_list}\")\n",
        "    #print([f\"Page[{txt_file.split('/')[1]}]: {(ent.text, ent.label_)}\" for ent in doc.ents if ent is not None])"
      ],
      "metadata": {
        "colab": {
          "base_uri": "https://localhost:8080/"
        },
        "id": "tknb4-tM8ELL",
        "outputId": "13e18947-9f6b-4931-d66a-e365a1283834"
      },
      "execution_count": null,
      "outputs": [
        {
          "output_type": "stream",
          "name": "stdout",
          "text": [
            "Page[pdf-page-2.txt]: ['L14']\n",
            "Page[pdf-page-3.txt]: ['L14', 'L14', 'L22', 'L22']\n",
            "Page[pdf-page-4.txt]: ['L26', 'L26', 'L26', 'L26', 'L26', 'L22', 'L14', 'L22', 'L14']\n",
            "Page[pdf-page-6.txt]: ['L14', 'L14']\n",
            "Page[pdf-page-7.txt]: ['L14', 'L14', 'L14', 'L14']\n",
            "Page[pdf-page-8.txt]: ['L26', 'L26', 'L26']\n",
            "Page[pdf-page-9.txt]: ['L26', 'L26', 'L22', 'L26', 'L22', 'L26', 'L22', 'L22', 'L22']\n",
            "Page[pdf-page-10.txt]: ['L22', 'L26', 'L14']\n",
            "Page[pdf-page-11.txt]: ['L22', 'L22', 'L22']\n",
            "Page[pdf-page-12.txt]: ['L14']\n",
            "Page[pdf-page-18.txt]: ['M54.40']\n",
            "Page[pdf-page-19.txt]: ['G43.109']\n",
            "Page[pdf-page-26.txt]: ['D17.1', 'F43.9']\n",
            "Page[pdf-page-37.txt]: ['G43.109', 'D72.819', 'R00.2', 'R10.30', 'E88.2']\n",
            "Page[pdf-page-39.txt]: ['G43.109', 'D72.819', 'R00.2', 'R10.30']\n",
            "Page[pdf-page-42.txt]: ['G43.109', 'R00.2', 'G43.109', 'D72.819', 'R00.2']\n",
            "Page[pdf-page-74.txt]: ['M54.2', 'R42']\n",
            "Page[pdf-page-82.txt]: ['G43.109', 'R00.2', 'L25.9', 'D72.819']\n",
            "Page[pdf-page-84.txt]: ['G43.109']\n",
            "Page[pdf-page-85.txt]: ['L25.9', 'D72.819']\n",
            "Page[pdf-page-102.txt]: ['G43.109', 'R00.2', 'L25.9', 'Z00.00']\n",
            "Page[pdf-page-105.txt]: ['G43.109', 'R00.2', 'L25.9']\n"
          ]
        }
      ]
    }
  ]
}