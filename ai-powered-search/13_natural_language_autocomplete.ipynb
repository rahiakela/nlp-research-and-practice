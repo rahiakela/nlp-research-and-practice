{
  "cells": [
    {
      "cell_type": "markdown",
      "metadata": {
        "id": "view-in-github",
        "colab_type": "text"
      },
      "source": [
        "<a href=\"https://colab.research.google.com/github/rahiakela/nlp-research-and-practice/blob/main/ai-powered-search/13_natural_language_autocomplete.ipynb\" target=\"_parent\"><img src=\"https://colab.research.google.com/assets/colab-badge.svg\" alt=\"Open In Colab\"/></a>"
      ]
    },
    {
      "cell_type": "markdown",
      "metadata": {
        "id": "51uM8gPIW0mO"
      },
      "source": [
        "## Introduction to Transformers\n",
        "\n",
        "In this notebook, we\"re going to install a transformer model, analyze the embedding output, and compare some vectors"
      ]
    },
    {
      "cell_type": "code",
      "source": [
        "#outdoors\n",
        "![ ! -d 'outdoors' ] && git clone --depth=1 https://github.com/ai-powered-search/outdoors.git\n",
        "! cd outdoors && git pull\n",
        "! cd outdoors && cat outdoors.tgz.part* > outdoors.tgz\n",
        "! cd outdoors && mkdir -p '../data/outdoors/' && tar -xvf outdoors.tgz -C '../data/outdoors/'"
      ],
      "metadata": {
        "id": "5xShS9pNXKtl"
      },
      "execution_count": null,
      "outputs": []
    },
    {
      "cell_type": "code",
      "execution_count": null,
      "metadata": {
        "id": "xA3xmRRHW0mQ"
      },
      "outputs": [],
      "source": [
        "import sys\n",
        "sys.path.append(\"../..\")\n",
        "# from aips import *\n",
        "import pandas\n",
        "import numpy\n",
        "import sentence_transformers\n",
        "from IPython.display import display, HTML"
      ]
    },
    {
      "cell_type": "markdown",
      "metadata": {
        "id": "DLxpgsxIW0mR"
      },
      "source": [
        "## Listing 13.5\n"
      ]
    },
    {
      "cell_type": "code",
      "execution_count": null,
      "metadata": {
        "id": "7ruXhtGPW0mR"
      },
      "outputs": [],
      "source": [
        "from sentence_transformers import SentenceTransformer\n",
        "transformer = SentenceTransformer(\"roberta-base-nli-stsb-mean-tokens\")"
      ]
    },
    {
      "cell_type": "markdown",
      "metadata": {
        "id": "lOivJ3IsW0mR"
      },
      "source": [
        "## Listing 13.6"
      ]
    },
    {
      "cell_type": "code",
      "execution_count": null,
      "metadata": {
        "id": "GABSXr_DW0mR",
        "outputId": "52c9b15c-97b5-4756-a5be-246bf3ba9d1c",
        "colab": {
          "base_uri": "https://localhost:8080/"
        }
      },
      "outputs": [
        {
          "output_type": "stream",
          "name": "stdout",
          "text": [
            "Number of embeddings: 4\n",
            "Dimensions per embedding: 768\n",
            "The embedding feature values of \"it's raining hard\":\n",
            "tensor(0.5095)\n"
          ]
        }
      ],
      "source": [
        "phrases = [\n",
        "    \"it's raining hard\",\n",
        "    \"it is wet outside\",\n",
        "    \"cars drive fast\",\n",
        "    \"motorcycles are loud\"\n",
        "]\n",
        "\n",
        "embeddings = transformer.encode(phrases, convert_to_tensor=True)\n",
        "print(\"Number of embeddings:\", len(embeddings))\n",
        "print(\"Dimensions per embedding:\", len(embeddings[0]))\n",
        "print(\"The embedding feature values of \\\"it's raining hard\\\":\")\n",
        "print(embeddings[0][10])"
      ]
    },
    {
      "cell_type": "markdown",
      "metadata": {
        "id": "nkqlSzo5W0mR"
      },
      "source": [
        "## Listing 13.7\n"
      ]
    },
    {
      "cell_type": "code",
      "execution_count": null,
      "metadata": {
        "id": "7wP--SMrW0mS",
        "outputId": "4157755f-31a1-4636-943e-b2fcbda0e784",
        "colab": {
          "base_uri": "https://localhost:8080/"
        }
      },
      "outputs": [
        {
          "output_type": "stream",
          "name": "stdout",
          "text": [
            "The shape of the resulting similarities: torch.Size([4, 4])\n"
          ]
        }
      ],
      "source": [
        "def normalize_embedding(embedding):\n",
        "    normalized = numpy.divide(embedding, numpy.linalg.norm(embedding))\n",
        "    return list(map(float, normalized))\n",
        "\n",
        "# Unit-normalizes embeddings for speed\n",
        "normalized_embeddings = list(map(normalize_embedding, embeddings))\n",
        "similarities = sentence_transformers.util.dot_score(normalized_embeddings,\n",
        "                                                    normalized_embeddings)\n",
        "print(\"The shape of the resulting similarities:\", similarities.shape)"
      ]
    },
    {
      "cell_type": "markdown",
      "metadata": {
        "id": "PSTXig2oW0mS"
      },
      "source": [
        "## Listing 13.8"
      ]
    },
    {
      "cell_type": "code",
      "execution_count": null,
      "metadata": {
        "id": "0KFbyiT-W0mS",
        "outputId": "30ef3bb5-95c3-4b80-c1e4-6d6c2fdbc264",
        "colab": {
          "base_uri": "https://localhost:8080/",
          "height": 238
        }
      },
      "outputs": [
        {
          "output_type": "display_data",
          "data": {
            "text/plain": [
              "<IPython.core.display.HTML object>"
            ],
            "text/html": [
              "<table border=\"1\" class=\"dataframe\">\n",
              "  <thead>\n",
              "    <tr style=\"text-align: right;\">\n",
              "      <th>idx</th>\n",
              "      <th>score</th>\n",
              "      <th>phrase a</th>\n",
              "      <th>phrase b</th>\n",
              "    </tr>\n",
              "  </thead>\n",
              "  <tbody>\n",
              "    <tr>\n",
              "      <td>0</td>\n",
              "      <td>0.669060</td>\n",
              "      <td>it's raining hard</td>\n",
              "      <td>it is wet outside</td>\n",
              "    </tr>\n",
              "    <tr>\n",
              "      <td>5</td>\n",
              "      <td>0.590783</td>\n",
              "      <td>cars drive fast</td>\n",
              "      <td>motorcycles are loud</td>\n",
              "    </tr>\n",
              "    <tr>\n",
              "      <td>1</td>\n",
              "      <td>0.281166</td>\n",
              "      <td>it's raining hard</td>\n",
              "      <td>cars drive fast</td>\n",
              "    </tr>\n",
              "    <tr>\n",
              "      <td>2</td>\n",
              "      <td>0.280800</td>\n",
              "      <td>it's raining hard</td>\n",
              "      <td>motorcycles are loud</td>\n",
              "    </tr>\n",
              "    <tr>\n",
              "      <td>4</td>\n",
              "      <td>0.204867</td>\n",
              "      <td>it is wet outside</td>\n",
              "      <td>motorcycles are loud</td>\n",
              "    </tr>\n",
              "    <tr>\n",
              "      <td>3</td>\n",
              "      <td>0.138172</td>\n",
              "      <td>it is wet outside</td>\n",
              "      <td>cars drive fast</td>\n",
              "    </tr>\n",
              "  </tbody>\n",
              "</table>"
            ]
          },
          "metadata": {}
        }
      ],
      "source": [
        "def rank_similarities(phrases, similarities):\n",
        "    a_phrases = []\n",
        "    b_phrases = []\n",
        "    scores = []\n",
        "    for a in range(len(similarities) - 1):\n",
        "        for b in range(a + 1, len(similarities)):\n",
        "            a_phrases.append(phrases[a])\n",
        "            b_phrases.append(phrases[b])\n",
        "            scores.append(float(similarities[a][b]))\n",
        "    dataframe = pandas.DataFrame({\"score\": scores,\n",
        "                                  \"phrase a\": a_phrases, \"phrase b\": b_phrases})\n",
        "    dataframe[\"idx\"] = dataframe.index\n",
        "    dataframe = dataframe.reindex(columns=[\"idx\", \"score\", \"phrase a\", \"phrase b\"])\n",
        "    return dataframe.sort_values(by=[\"score\"], ascending=False, ignore_index=True)\n",
        "\n",
        "dataframe = rank_similarities(phrases, similarities)\n",
        "display(HTML(dataframe.to_html(index=False)))"
      ]
    }
  ],
  "metadata": {
    "kernelspec": {
      "display_name": "Python 3 (ipykernel)",
      "language": "python",
      "name": "python3"
    },
    "colab": {
      "provenance": [],
      "toc_visible": true,
      "include_colab_link": true
    }
  },
  "nbformat": 4,
  "nbformat_minor": 0
}