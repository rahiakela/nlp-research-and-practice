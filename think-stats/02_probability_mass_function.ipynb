{
  "nbformat": 4,
  "nbformat_minor": 0,
  "metadata": {
    "colab": {
      "provenance": [],
      "toc_visible": true,
      "authorship_tag": "ABX9TyPzCRE18qtmBAS6VG01SUqc",
      "include_colab_link": true
    },
    "kernelspec": {
      "name": "python3",
      "display_name": "Python 3"
    },
    "language_info": {
      "name": "python"
    }
  },
  "cells": [
    {
      "cell_type": "markdown",
      "metadata": {
        "id": "view-in-github",
        "colab_type": "text"
      },
      "source": [
        "<a href=\"https://colab.research.google.com/github/rahiakela/nlp-research-and-practice/blob/main/think-stats/02_probability_mass_function.ipynb\" target=\"_parent\"><img src=\"https://colab.research.google.com/assets/colab-badge.svg\" alt=\"Open In Colab\"/></a>"
      ]
    },
    {
      "cell_type": "markdown",
      "source": [
        "##Setup"
      ],
      "metadata": {
        "id": "kUEylOWeaPXy"
      }
    },
    {
      "cell_type": "code",
      "source": [
        "import numpy as np\n",
        "from os.path import basename, exists"
      ],
      "metadata": {
        "id": "yLhKEsm4aZYh"
      },
      "execution_count": 1,
      "outputs": []
    },
    {
      "cell_type": "code",
      "source": [
        "def download(url):\n",
        "    filename = basename(url)\n",
        "    if not exists(filename):\n",
        "        from urllib.request import urlretrieve\n",
        "\n",
        "        local, _ = urlretrieve(url, filename)\n",
        "        print(\"Downloaded \" + local)"
      ],
      "metadata": {
        "id": "Y2SoqKc2ae2A"
      },
      "execution_count": 2,
      "outputs": []
    },
    {
      "cell_type": "code",
      "source": [
        "download(\"https://github.com/AllenDowney/ThinkStats2/raw/master/code/thinkstats2.py\")\n",
        "download(\"https://github.com/AllenDowney/ThinkStats2/raw/master/code/thinkplot.py\")\n",
        "download(\"https://github.com/AllenDowney/ThinkStats2/raw/master/code/nsfg.py\")\n",
        "download(\"https://github.com/AllenDowney/ThinkStats2/raw/master/code/first.py\")\n",
        "\n",
        "download(\"https://github.com/AllenDowney/ThinkStats2/raw/master/code/2002FemPreg.dct\")\n",
        "download(\"https://github.com/AllenDowney/ThinkStats2/raw/master/code/2002FemPreg.dat.gz\")"
      ],
      "metadata": {
        "colab": {
          "base_uri": "https://localhost:8080/"
        },
        "id": "0v2fHobkagxC",
        "outputId": "0fd6f57c-df1c-46c7-d0ed-a285b24418ea"
      },
      "execution_count": 3,
      "outputs": [
        {
          "output_type": "stream",
          "name": "stdout",
          "text": [
            "Downloaded thinkstats2.py\n",
            "Downloaded thinkplot.py\n",
            "Downloaded nsfg.py\n",
            "Downloaded first.py\n",
            "Downloaded 2002FemPreg.dct\n",
            "Downloaded 2002FemPreg.dat.gz\n"
          ]
        }
      ]
    },
    {
      "cell_type": "code",
      "source": [
        "from collections import Counter\n",
        "\n",
        "import numpy as np\n",
        "\n",
        "import nsfg\n",
        "import first\n",
        "import thinkstats2\n",
        "import thinkplot"
      ],
      "metadata": {
        "id": "DHW6_WCZapSz"
      },
      "execution_count": 4,
      "outputs": []
    },
    {
      "cell_type": "code",
      "source": [
        "# agian, let's select live births\n",
        "preg = nsfg.ReadFemPreg()\n",
        "live = preg[preg.outcome ==1]"
      ],
      "metadata": {
        "id": "2JMwBIwMAA9Z"
      },
      "execution_count": 5,
      "outputs": []
    },
    {
      "cell_type": "code",
      "source": [
        "# Here's the histogram of birth weights\n",
        "hist = thinkstats2.Hist(live.birthwgt_lb, label=\"birthwgt_lb\")\n",
        "thinkplot.Hist(hist)\n",
        "thinkplot.Config(xlabel=\"Birth weight (pounds)\", ylabel=\"Count\")"
      ],
      "metadata": {
        "colab": {
          "base_uri": "https://localhost:8080/",
          "height": 449
        },
        "id": "_8Xslfb3APqn",
        "outputId": "8eafd952-9de0-4764-e939-64826d3db6f2"
      },
      "execution_count": 6,
      "outputs": [
        {
          "output_type": "display_data",
          "data": {
            "text/plain": [
              "<Figure size 640x480 with 1 Axes>"
            ],
            "image/png": "[encoded data removed]"
          },
          "metadata": {}
        }
      ]
    },
    {
      "cell_type": "markdown",
      "source": [
        "##PMF"
      ],
      "metadata": {
        "id": "NL8KEnEybcJb"
      }
    },
    {
      "cell_type": "markdown",
      "source": [
        "A probability is a frequency expressed as a\n",
        "fraction of the sample size, `n`. To get from frequencies to probabilities, we divide through\n",
        "by `n`, which is called normalization.\n",
        "\n",
        "Another way to represent a distribution is a probability mass function (PMF), which\n",
        "maps from each value to its probability\n",
        "\n",
        "Given a Hist, we can make a dictionary that maps from each value to its probability:"
      ],
      "metadata": {
        "id": "g5dt7HzvbiVc"
      }
    },
    {
      "cell_type": "code",
      "source": [
        "# To normalize the disrtibution, we could divide through by the total count\n",
        "n = hist.Total()\n",
        "pmf = hist.Copy()\n",
        "for x, freq in hist.Items():\n",
        "  pmf[x] = freq / n"
      ],
      "metadata": {
        "id": "CWbKkLiZbnPK"
      },
      "execution_count": 7,
      "outputs": []
    },
    {
      "cell_type": "markdown",
      "source": [
        "The result is a Probability Mass Function (PMF)."
      ],
      "metadata": {
        "id": "gx2NyNu8b-FT"
      }
    },
    {
      "cell_type": "code",
      "source": [
        "thinkplot.Hist(pmf)\n",
        "thinkplot.Config(xlabel=\"Birth weight (pounds)\", ylabel=\"PMF\")"
      ],
      "metadata": {
        "colab": {
          "base_uri": "https://localhost:8080/",
          "height": 452
        },
        "id": "82hqIwEib0zD",
        "outputId": "96541a72-2ba5-4859-d478-afb66f249d79"
      },
      "execution_count": 8,
      "outputs": [
        {
          "output_type": "display_data",
          "data": {
            "text/plain": [
              "<Figure size 640x480 with 1 Axes>"
            ],
            "image/png": "[encoded data removed]"
          },
          "metadata": {}
        }
      ]
    },
    {
      "cell_type": "markdown",
      "source": [
        "More directly, we can create a PMF object."
      ],
      "metadata": {
        "id": "72utBtLGDbCo"
      }
    },
    {
      "cell_type": "code",
      "source": [
        "pmf = thinkstats2.Pmf([1, 2, 2, 3, 5])\n",
        "pmf"
      ],
      "metadata": {
        "colab": {
          "base_uri": "https://localhost:8080/"
        },
        "id": "p_X2PF6KDdFd",
        "outputId": "917cc6c7-71bd-4431-e16c-a67b830eb9af"
      },
      "execution_count": 9,
      "outputs": [
        {
          "output_type": "execute_result",
          "data": {
            "text/plain": [
              "Pmf({1: 0.2, 2: 0.4, 3: 0.2, 5: 0.2})"
            ]
          },
          "metadata": {},
          "execution_count": 9
        }
      ]
    },
    {
      "cell_type": "markdown",
      "source": [
        "The PMF is normalized so total probability is 1."
      ],
      "metadata": {
        "id": "5so-P-77Dpnl"
      }
    },
    {
      "cell_type": "code",
      "source": [
        "pmf.Prob(2)"
      ],
      "metadata": {
        "colab": {
          "base_uri": "https://localhost:8080/"
        },
        "id": "0BPnPIBjDsrY",
        "outputId": "e3a3d56a-0161-41c3-e958-e610d65e38c4"
      },
      "execution_count": 10,
      "outputs": [
        {
          "output_type": "execute_result",
          "data": {
            "text/plain": [
              "0.4"
            ]
          },
          "metadata": {},
          "execution_count": 10
        }
      ]
    },
    {
      "cell_type": "code",
      "source": [
        "pmf.Prob(3)"
      ],
      "metadata": {
        "colab": {
          "base_uri": "https://localhost:8080/"
        },
        "id": "CTOMLHOcDxYS",
        "outputId": "30d7f121-d839-44ed-ce3c-be6af3596338"
      },
      "execution_count": 11,
      "outputs": [
        {
          "output_type": "execute_result",
          "data": {
            "text/plain": [
              "0.2"
            ]
          },
          "metadata": {},
          "execution_count": 11
        }
      ]
    },
    {
      "cell_type": "code",
      "source": [
        "pmf[2]"
      ],
      "metadata": {
        "colab": {
          "base_uri": "https://localhost:8080/"
        },
        "id": "sRfkbJX9D2fv",
        "outputId": "13855d9f-1da6-4201-baca-2c4b9cd0e9c9"
      },
      "execution_count": 13,
      "outputs": [
        {
          "output_type": "execute_result",
          "data": {
            "text/plain": [
              "0.4"
            ]
          },
          "metadata": {},
          "execution_count": 13
        }
      ]
    },
    {
      "cell_type": "code",
      "source": [
        "pmf[3]"
      ],
      "metadata": {
        "colab": {
          "base_uri": "https://localhost:8080/"
        },
        "id": "zCLn9EFwD6np",
        "outputId": "2b250c25-9b3b-47c0-cbea-564e0a22ea3b"
      },
      "execution_count": 14,
      "outputs": [
        {
          "output_type": "execute_result",
          "data": {
            "text/plain": [
              "0.2"
            ]
          },
          "metadata": {},
          "execution_count": 14
        }
      ]
    },
    {
      "cell_type": "markdown",
      "source": [
        "The biggest difference is that a Hist maps from values to integer\n",
        "counters; a PMF maps from values to floating-point probabilities.\n",
        "\n",
        "We can modify an existing PMF by incrementing the probability associated with a value"
      ],
      "metadata": {
        "id": "SJ8Vaj6zEJqv"
      }
    },
    {
      "cell_type": "code",
      "source": [
        "pmf.Incr(2, 0.2)\n",
        "pmf[2]"
      ],
      "metadata": {
        "colab": {
          "base_uri": "https://localhost:8080/"
        },
        "id": "QWg_nfe-EVkJ",
        "outputId": "6cca4b25-c16d-4cba-bae9-12c66755bd18"
      },
      "execution_count": 15,
      "outputs": [
        {
          "output_type": "execute_result",
          "data": {
            "text/plain": [
              "0.6000000000000001"
            ]
          },
          "metadata": {},
          "execution_count": 15
        }
      ]
    },
    {
      "cell_type": "code",
      "source": [
        "pmf.Incr(3, 0.5)\n",
        "pmf[3]"
      ],
      "metadata": {
        "colab": {
          "base_uri": "https://localhost:8080/"
        },
        "id": "7VYtnPL0EhCc",
        "outputId": "1708bdd3-851a-484f-9706-c207a9605758"
      },
      "execution_count": 17,
      "outputs": [
        {
          "output_type": "execute_result",
          "data": {
            "text/plain": [
              "0.7"
            ]
          },
          "metadata": {},
          "execution_count": 17
        }
      ]
    },
    {
      "cell_type": "markdown",
      "source": [
        "Or you can multiply a probability by a factor."
      ],
      "metadata": {
        "id": "vZeiHajREo8o"
      }
    },
    {
      "cell_type": "code",
      "source": [
        "pmf.Mult(2, 0.5)\n",
        "pmf[2]"
      ],
      "metadata": {
        "colab": {
          "base_uri": "https://localhost:8080/"
        },
        "id": "VzD_Qfp6Epn5",
        "outputId": "bc9a249d-a277-425d-e8bf-837a621b7d35"
      },
      "execution_count": 18,
      "outputs": [
        {
          "output_type": "execute_result",
          "data": {
            "text/plain": [
              "0.30000000000000004"
            ]
          },
          "metadata": {},
          "execution_count": 18
        }
      ]
    },
    {
      "cell_type": "markdown",
      "source": [
        "If you modify a PMF, the result may not be normalized; that is, the probabilities may no\n",
        "longer add up to 1.\n",
        "\n",
        "Total returns the total probability (which is no longer 1, because we changed one of the probabilities)."
      ],
      "metadata": {
        "id": "4Zrz2-7TE8Gb"
      }
    },
    {
      "cell_type": "code",
      "source": [
        "pmf.Total()"
      ],
      "metadata": {
        "colab": {
          "base_uri": "https://localhost:8080/"
        },
        "id": "MhEFDBAXFAAt",
        "outputId": "6e9b9089-12ba-4f35-9039-16ef78f19b3b"
      },
      "execution_count": 19,
      "outputs": [
        {
          "output_type": "execute_result",
          "data": {
            "text/plain": [
              "1.4"
            ]
          },
          "metadata": {},
          "execution_count": 19
        }
      ]
    },
    {
      "cell_type": "markdown",
      "source": [
        "Normalize divides through by the total probability, making it 1 again."
      ],
      "metadata": {
        "id": "n4vFl0QSFI0D"
      }
    },
    {
      "cell_type": "code",
      "source": [
        "pmf.Normalize()\n",
        "pmf.Total()"
      ],
      "metadata": {
        "colab": {
          "base_uri": "https://localhost:8080/"
        },
        "id": "bVoJpUQaFJb_",
        "outputId": "fe42df52-bc1d-4a9d-ead9-16244f0be4b8"
      },
      "execution_count": 20,
      "outputs": [
        {
          "output_type": "execute_result",
          "data": {
            "text/plain": [
              "1.0"
            ]
          },
          "metadata": {},
          "execution_count": 20
        }
      ]
    },
    {
      "cell_type": "markdown",
      "source": [
        "##Plotting PMFs"
      ],
      "metadata": {
        "id": "lYJz8N2bcPP0"
      }
    },
    {
      "cell_type": "code",
      "source": [
        "hist = thinkstats2.Hist([1, 2, 2, 3, 5])\n",
        "hist"
      ],
      "metadata": {
        "colab": {
          "base_uri": "https://localhost:8080/"
        },
        "id": "RRx4TI7hcDpp",
        "outputId": "7b88b9ca-a627-49c0-bbb1-38052b83f187"
      },
      "execution_count": null,
      "outputs": [
        {
          "output_type": "execute_result",
          "data": {
            "text/plain": [
              "Hist({1: 1, 2: 2, 3: 1, 5: 1})"
            ]
          },
          "metadata": {},
          "execution_count": 8
        }
      ]
    },
    {
      "cell_type": "code",
      "source": [
        "hist.Freq(2)"
      ],
      "metadata": {
        "colab": {
          "base_uri": "https://localhost:8080/"
        },
        "id": "VbIZgV1Dcb-6",
        "outputId": "87ae80ad-aa82-4412-9a85-7fc658069739"
      },
      "execution_count": null,
      "outputs": [
        {
          "output_type": "execute_result",
          "data": {
            "text/plain": [
              "2"
            ]
          },
          "metadata": {},
          "execution_count": 9
        }
      ]
    },
    {
      "cell_type": "code",
      "source": [
        "hist[2]"
      ],
      "metadata": {
        "colab": {
          "base_uri": "https://localhost:8080/"
        },
        "id": "8HKQftLOck1t",
        "outputId": "79911846-4c3d-4404-d042-139630f4ffa5"
      },
      "execution_count": null,
      "outputs": [
        {
          "output_type": "execute_result",
          "data": {
            "text/plain": [
              "2"
            ]
          },
          "metadata": {},
          "execution_count": 10
        }
      ]
    },
    {
      "cell_type": "code",
      "source": [
        "hist[4]"
      ],
      "metadata": {
        "colab": {
          "base_uri": "https://localhost:8080/"
        },
        "id": "6SJ2QgmGcnNb",
        "outputId": "2c87e215-23d8-41ea-d2d8-e1c012c14bf1"
      },
      "execution_count": null,
      "outputs": [
        {
          "output_type": "execute_result",
          "data": {
            "text/plain": [
              "0"
            ]
          },
          "metadata": {},
          "execution_count": 11
        }
      ]
    },
    {
      "cell_type": "code",
      "source": [
        "hist.Values()"
      ],
      "metadata": {
        "colab": {
          "base_uri": "https://localhost:8080/"
        },
        "id": "mpLNpy3UcqXe",
        "outputId": "5a85926f-dcf1-42c9-eeaf-c352b215977c"
      },
      "execution_count": null,
      "outputs": [
        {
          "output_type": "execute_result",
          "data": {
            "text/plain": [
              "dict_keys([1, 2, 3, 5])"
            ]
          },
          "metadata": {},
          "execution_count": 12
        }
      ]
    },
    {
      "cell_type": "code",
      "source": [
        "for val in sorted(hist.Values()):\n",
        "  print(val, hist[val])"
      ],
      "metadata": {
        "colab": {
          "base_uri": "https://localhost:8080/"
        },
        "id": "Upyp3SCJctIp",
        "outputId": "b5644c39-4d89-4e99-9705-60538236ebe8"
      },
      "execution_count": null,
      "outputs": [
        {
          "output_type": "stream",
          "name": "stdout",
          "text": [
            "1 1\n",
            "2 2\n",
            "3 1\n",
            "5 1\n"
          ]
        }
      ]
    },
    {
      "cell_type": "code",
      "source": [
        "for val, freq in hist.Items():\n",
        "  print(val, freq)"
      ],
      "metadata": {
        "colab": {
          "base_uri": "https://localhost:8080/"
        },
        "id": "qFIq3OnYdIZO",
        "outputId": "d8b45559-a975-4abd-8d3f-a61dfcf7ff6c"
      },
      "execution_count": null,
      "outputs": [
        {
          "output_type": "stream",
          "name": "stdout",
          "text": [
            "1 1\n",
            "2 2\n",
            "3 1\n",
            "5 1\n"
          ]
        }
      ]
    },
    {
      "cell_type": "code",
      "source": [
        "# let's plot histogram\n",
        "thinkplot.Hist(hist)\n",
        "thinkplot.Config(xlabel=\"value\", ylabel=\"frequency\")"
      ],
      "metadata": {
        "colab": {
          "base_uri": "https://localhost:8080/",
          "height": 449
        },
        "id": "fANN4-u_dRHL",
        "outputId": "a7001299-2c3c-430d-a55d-01c5419f683b"
      },
      "execution_count": null,
      "outputs": [
        {
          "output_type": "display_data",
          "data": {
            "text/plain": [
              "<Figure size 640x480 with 1 Axes>"
            ],
            "image/png": "[encoded data removed]"
          },
          "metadata": {}
        }
      ]
    },
    {
      "cell_type": "markdown",
      "source": [
        "##Dataset"
      ],
      "metadata": {
        "id": "UEca3txdfJmj"
      }
    },
    {
      "cell_type": "code",
      "source": [
        "# let's start by reading the data and selecting records for live births\n",
        "preg = nsfg.ReadFemPreg()\n",
        "live = preg[preg.outcome == 1]"
      ],
      "metadata": {
        "id": "7l3fvmNYepKf"
      },
      "execution_count": null,
      "outputs": []
    },
    {
      "cell_type": "code",
      "source": [
        "# let's generate and plot the histogram of birthwgt_lb for live births\n",
        "hist = thinkstats2.Hist(live.birthwgt_lb, label=\"birthwgt_lb\")\n",
        "thinkplot.Hist(hist)\n",
        "thinkplot.Config(xlabel=\"Birth weight (pounds)\", ylabel=\"Count\")"
      ],
      "metadata": {
        "id": "L47v_0TPI_TO",
        "outputId": "75bd4750-b79e-4143-f14b-34ff7cd9b0f2",
        "colab": {
          "base_uri": "https://localhost:8080/",
          "height": 449
        }
      },
      "execution_count": null,
      "outputs": [
        {
          "output_type": "display_data",
          "data": {
            "text/plain": [
              "<Figure size 640x480 with 1 Axes>"
            ],
            "image/png": "[encoded data removed]"
          },
          "metadata": {}
        }
      ]
    },
    {
      "cell_type": "code",
      "source": [
        "# let's plot the histogram of pregnancy lengths (column prglngth).\n",
        "hist = thinkstats2.Hist(live.birthwgt_oz, label=\"birthwgt_oz\")\n",
        "thinkplot.Hist(hist)\n",
        "thinkplot.Config(xlabel=\"ounces\", ylabel=\"frequency\")"
      ],
      "metadata": {
        "id": "0GvI7rp1Jd6W",
        "outputId": "841fbac6-d33b-43c2-a318-d6f3d996cbd2",
        "colab": {
          "base_uri": "https://localhost:8080/",
          "height": 449
        }
      },
      "execution_count": null,
      "outputs": [
        {
          "output_type": "display_data",
          "data": {
            "text/plain": [
              "<Figure size 640x480 with 1 Axes>"
            ],
            "image/png": "[encoded data removed]"
          },
          "metadata": {}
        }
      ]
    },
    {
      "cell_type": "code",
      "source": [
        "# let's plot the histogram of mother’s age at end of pregnancy\n",
        "hist = thinkstats2.Hist(live.agepreg, label=\"agepreg\")\n",
        "thinkplot.Hist(hist)\n",
        "thinkplot.Config(xlabel=\"years\", ylabel=\"frequency\")"
      ],
      "metadata": {
        "id": "VPKPHuNfKwYL",
        "outputId": "9cd1aae1-097e-4732-b936-6489f711a93f",
        "colab": {
          "base_uri": "https://localhost:8080/",
          "height": 449
        }
      },
      "execution_count": null,
      "outputs": [
        {
          "output_type": "display_data",
          "data": {
            "text/plain": [
              "<Figure size 640x480 with 1 Axes>"
            ],
            "image/png": "[encoded data removed]"
          },
          "metadata": {}
        }
      ]
    },
    {
      "cell_type": "code",
      "source": [
        "# let's plot the histogram of pregnancy length in weeks\n",
        "hist = thinkstats2.Hist(live.prglngth, label=\"prglength\")\n",
        "thinkplot.Hist(hist)\n",
        "thinkplot.Config(xlabel=\"weeks\", ylabel=\"frequency\")"
      ],
      "metadata": {
        "id": "nR7XYrr6NIwa",
        "outputId": "6673900a-4999-4d7b-f6ce-0de4a633514f",
        "colab": {
          "base_uri": "https://localhost:8080/",
          "height": 449
        }
      },
      "execution_count": null,
      "outputs": [
        {
          "output_type": "display_data",
          "data": {
            "text/plain": [
              "<Figure size 640x480 with 1 Axes>"
            ],
            "image/png": "[encoded data removed]"
          },
          "metadata": {}
        }
      ]
    },
    {
      "cell_type": "markdown",
      "source": [
        "##Outliers"
      ],
      "metadata": {
        "id": "o9NmWsqpNyjR"
      }
    },
    {
      "cell_type": "code",
      "source": [
        "# Hist provides smallest, which select the lowest values and their frequencies.\n",
        "for weeks, freq in hist.Smallest(10):\n",
        "  print(weeks, freq)"
      ],
      "metadata": {
        "id": "JZZQqL-hM_ij",
        "colab": {
          "base_uri": "https://localhost:8080/"
        },
        "outputId": "e94b772d-e168-43ea-d1b0-6f0f9ed7dfea"
      },
      "execution_count": null,
      "outputs": [
        {
          "output_type": "stream",
          "name": "stdout",
          "text": [
            "0 1\n",
            "4 1\n",
            "9 1\n",
            "13 1\n",
            "17 2\n",
            "18 1\n",
            "19 1\n",
            "20 1\n",
            "21 2\n",
            "22 7\n"
          ]
        }
      ]
    },
    {
      "cell_type": "code",
      "source": [
        "# Hist provides largest, which select the largest values and their frequencies.\n",
        "for weeks, freq in hist.Largest(10):\n",
        "  print(weeks, freq)"
      ],
      "metadata": {
        "colab": {
          "base_uri": "https://localhost:8080/"
        },
        "id": "OO9v-87vvfeV",
        "outputId": "2f1c91ac-b670-434c-9e03-987c94338197"
      },
      "execution_count": null,
      "outputs": [
        {
          "output_type": "stream",
          "name": "stdout",
          "text": [
            "50 2\n",
            "48 7\n",
            "47 1\n",
            "46 1\n",
            "45 10\n",
            "44 46\n",
            "43 148\n",
            "42 328\n",
            "41 587\n",
            "40 1116\n"
          ]
        }
      ]
    },
    {
      "cell_type": "code",
      "source": [
        "# let's select first babies and others using birthord, then compute histograms of pregnancy length for the two groups\n",
        "firsts = live[live.birthord == 1]\n",
        "others = live[live.birthord != 1]\n",
        "\n",
        "first_hist = thinkstats2.Hist(firsts.prglngth, label=\"first\")\n",
        "other_hist = thinkstats2.Hist(others.prglngth, label=\"other\")"
      ],
      "metadata": {
        "id": "aWdm5aVhwVU0"
      },
      "execution_count": null,
      "outputs": []
    },
    {
      "cell_type": "code",
      "source": [
        "# We can use width and align to plot two histograms side-by-side\n",
        "width = 0.45\n",
        "thinkplot.PrePlot(2)\n",
        "\n",
        "thinkplot.Hist(first_hist, align=\"right\", width=width)\n",
        "thinkplot.Hist(other_hist, align=\"left\", width=width)\n",
        "thinkplot.Config(xlabel=\"weeks\", ylabel=\"Count\", xlim=[27, 46])"
      ],
      "metadata": {
        "colab": {
          "base_uri": "https://localhost:8080/",
          "height": 449
        },
        "id": "GDrIfOwsw4v_",
        "outputId": "53706f52-7728-405f-f623-897dfcee174e"
      },
      "execution_count": null,
      "outputs": [
        {
          "output_type": "display_data",
          "data": {
            "text/plain": [
              "<Figure size 640x480 with 1 Axes>"
            ],
            "image/png": "[encoded data removed]"
          },
          "metadata": {}
        }
      ]
    },
    {
      "cell_type": "code",
      "source": [
        "# We can use width and align to plot two histograms side-by-side\n",
        "width = 0.45\n",
        "thinkplot.PrePlot(2)\n",
        "\n",
        "thinkplot.Hist(first_hist, align=\"right\", width=width)\n",
        "thinkplot.Hist(other_hist, align=\"left\", width=width)\n",
        "thinkplot.Config(xlabel=\"weeks\", ylabel=\"Count\")"
      ],
      "metadata": {
        "colab": {
          "base_uri": "https://localhost:8080/",
          "height": 449
        },
        "id": "LMNdAFxvwznu",
        "outputId": "d36bc859-d9f8-41a9-9228-41afd8de00d6"
      },
      "execution_count": null,
      "outputs": [
        {
          "output_type": "display_data",
          "data": {
            "text/plain": [
              "<Figure size 640x480 with 1 Axes>"
            ],
            "image/png": "[encoded data removed]"
          },
          "metadata": {}
        }
      ]
    },
    {
      "cell_type": "markdown",
      "source": [
        "Histograms are useful because they make the most frequent values immediately apparent.\n",
        "But they are not the best choice for comparing two distributions.\n",
        "\n",
        "We address this problem using\n",
        "probability mass functions."
      ],
      "metadata": {
        "id": "qCOLseEo1iSA"
      }
    },
    {
      "cell_type": "markdown",
      "source": [
        "##Summarizing Distributions"
      ],
      "metadata": {
        "id": "b8pakH9O1oty"
      }
    },
    {
      "cell_type": "code",
      "source": [
        "# let's compute mean, variance and standard deviation\n",
        "mean = live.prglngth.mean()\n",
        "var = live.prglngth.var()\n",
        "std = live.prglngth.std()"
      ],
      "metadata": {
        "id": "LnCQebdA1yNI"
      },
      "execution_count": null,
      "outputs": []
    },
    {
      "cell_type": "code",
      "source": [
        "(mean, var, std)"
      ],
      "metadata": {
        "id": "GbXKmPrG5sD5",
        "outputId": "a592ff6d-8a0b-4163-f03f-e0628e03e015",
        "colab": {
          "base_uri": "https://localhost:8080/"
        }
      },
      "execution_count": null,
      "outputs": [
        {
          "output_type": "execute_result",
          "data": {
            "text/plain": [
              "(38.56055968517709, 7.302662067826817, 2.702343810070587)"
            ]
          },
          "metadata": {},
          "execution_count": 28
        }
      ]
    },
    {
      "cell_type": "code",
      "source": [
        "# let's confirm that std is the square root of var\n",
        "np.sqrt(var)"
      ],
      "metadata": {
        "id": "gf_ynwK35t4f",
        "outputId": "3447d67c-2b03-4388-8b99-c8d5d3c04943",
        "colab": {
          "base_uri": "https://localhost:8080/"
        }
      },
      "execution_count": null,
      "outputs": [
        {
          "output_type": "execute_result",
          "data": {
            "text/plain": [
              "2.702343810070587"
            ]
          },
          "metadata": {},
          "execution_count": 29
        }
      ]
    },
    {
      "cell_type": "code",
      "source": [
        "# Here's are the mean pregnancy lengths for first babies and others\n",
        "firsts.prglngth.mean(), others.prglngth.mean()"
      ],
      "metadata": {
        "id": "ZrZ_08486Peh",
        "outputId": "6143599d-87a8-4eb2-96d3-07817a3e7046",
        "colab": {
          "base_uri": "https://localhost:8080/"
        }
      },
      "execution_count": null,
      "outputs": [
        {
          "output_type": "execute_result",
          "data": {
            "text/plain": [
              "(38.60095173351461, 38.52291446673706)"
            ]
          },
          "metadata": {},
          "execution_count": 30
        }
      ]
    },
    {
      "cell_type": "code",
      "source": [
        "# And here's the difference (in weeks):\n",
        "firsts.prglngth.mean() - others.prglngth.mean()"
      ],
      "metadata": {
        "id": "SqaIKlu87kRZ",
        "outputId": "e1f28e49-f6d9-4969-9166-182e4e1e20c6",
        "colab": {
          "base_uri": "https://localhost:8080/"
        }
      },
      "execution_count": null,
      "outputs": [
        {
          "output_type": "execute_result",
          "data": {
            "text/plain": [
              "0.07803726677754952"
            ]
          },
          "metadata": {},
          "execution_count": 31
        }
      ]
    },
    {
      "cell_type": "code",
      "source": [
        "# This functon computes the Cohen effect size, which is the difference in means expressed in number of standard deviations\n",
        "def cohen_effect_size(group1, group2):\n",
        "  diff = group1.mean() - group2.mean()\n",
        "\n",
        "  var1 = group1.var()\n",
        "  var2 = group2.var()\n",
        "  n1, n2 = len(group1), len(group2)\n",
        "\n",
        "  pooled_var = (n1 * var1 + n2 * var2) / (n1 + n2)\n",
        "  d = diff / np.sqrt(pooled_var)\n",
        "  return d"
      ],
      "metadata": {
        "id": "Dx9FKm7u7nne"
      },
      "execution_count": null,
      "outputs": []
    },
    {
      "cell_type": "code",
      "source": [
        "# let's compute the Cohen effect size for the difference in pregnancy length for first babies and others\n",
        "ces = cohen_effect_size(firsts.prglngth, others.prglngth)\n",
        "ces"
      ],
      "metadata": {
        "id": "8aDH3L2I8P8w",
        "outputId": "a88eed54-d4da-4f66-f0c6-6b4865e30821",
        "colab": {
          "base_uri": "https://localhost:8080/"
        }
      },
      "execution_count": null,
      "outputs": [
        {
          "output_type": "execute_result",
          "data": {
            "text/plain": [
              "0.028879044654449834"
            ]
          },
          "metadata": {},
          "execution_count": 33
        }
      ]
    },
    {
      "cell_type": "markdown",
      "source": [
        "##Exercises"
      ],
      "metadata": {
        "id": "l7xPyKwh9NIZ"
      }
    },
    {
      "cell_type": "code",
      "source": [],
      "metadata": {
        "id": "r9--Tyd58hL8"
      },
      "execution_count": null,
      "outputs": []
    }
  ]
}