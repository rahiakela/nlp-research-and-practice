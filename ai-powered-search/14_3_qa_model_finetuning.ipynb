{
  "cells": [
    {
      "cell_type": "markdown",
      "metadata": {
        "id": "view-in-github",
        "colab_type": "text"
      },
      "source": [
        "<a href=\"https://colab.research.google.com/github/rahiakela/nlp-research-and-practice/blob/main/ai-powered-search/14_3_qa_model_finetuning.ipynb\" target=\"_parent\"><img src=\"https://colab.research.google.com/assets/colab-badge.svg\" alt=\"Open In Colab\"/></a>"
      ]
    },
    {
      "cell_type": "markdown",
      "metadata": {
        "id": "51uM8gPIW0mO"
      },
      "source": [
        "## Setup\n",
        "\n",
        "In this notebook, we\"re going to install a transformer model, analyze the embedding output, and compare some vectors"
      ]
    },
    {
      "cell_type": "code",
      "source": [
        "#outdoors\n",
        "![ ! -d 'outdoors' ] && git clone --depth=1 https://github.com/ai-powered-search/outdoors.git\n",
        "! cd outdoors && git pull\n",
        "! cd outdoors && cat outdoors.tgz.part* > outdoors.tgz\n",
        "! cd outdoors && mkdir -p '../data/outdoors/' && tar -xvf outdoors.tgz -C '../data/outdoors/'"
      ],
      "metadata": {
        "id": "5xShS9pNXKtl",
        "colab": {
          "base_uri": "https://localhost:8080/"
        },
        "outputId": "fb4eee47-03bb-4545-8e94-367320c00ef9"
      },
      "execution_count": null,
      "outputs": [
        {
          "output_type": "stream",
          "name": "stdout",
          "text": [
            "Cloning into 'outdoors'...\n",
            "remote: Enumerating objects: 25, done.\u001b[K\n",
            "remote: Counting objects: 100% (25/25), done.\u001b[K\n",
            "remote: Compressing objects: 100% (24/24), done.\u001b[K\n",
            "remote: Total 25 (delta 0), reused 22 (delta 0), pack-reused 0 (from 0)\u001b[K\n",
            "Receiving objects: 100% (25/25), 491.39 MiB | 23.89 MiB/s, done.\n",
            "Updating files: 100% (23/23), done.\n",
            "Already up to date.\n",
            "README.md\n",
            "concepts.pickle\n",
            "._guesses.csv\n",
            "guesses.csv\n",
            "._guesses_all.json\n",
            "guesses_all.json\n",
            "outdoors_concepts.pickle\n",
            "outdoors_embeddings.pickle\n",
            "._outdoors_golden_answers.csv\n",
            "outdoors_golden_answers.csv\n",
            "._outdoors_golden_answers.xlsx\n",
            "outdoors_golden_answers.xlsx\n",
            "._outdoors_golden_answers_20210130.csv\n",
            "outdoors_golden_answers_20210130.csv\n",
            "outdoors_labels.pickle\n",
            "outdoors_question_answering_contexts.json\n",
            "outdoors_questionanswering_test_set.json\n",
            "outdoors_questionanswering_train_set.json\n",
            "._posts.csv\n",
            "posts.csv\n",
            "predicates.pickle\n",
            "pull_aips_dependency.py\n",
            "._question-answer-seed-contexts.csv\n",
            "question-answer-seed-contexts.csv\n",
            "question-answer-squad2-guesses.csv\n",
            "._roberta-base-squad2-outdoors\n",
            "roberta-base-squad2-outdoors/\n",
            "roberta-base-squad2-outdoors/._tokenizer_config.json\n",
            "roberta-base-squad2-outdoors/tokenizer_config.json\n",
            "roberta-base-squad2-outdoors/._special_tokens_map.json\n",
            "roberta-base-squad2-outdoors/special_tokens_map.json\n",
            "roberta-base-squad2-outdoors/._config.json\n",
            "roberta-base-squad2-outdoors/config.json\n",
            "roberta-base-squad2-outdoors/._merges.txt\n",
            "roberta-base-squad2-outdoors/merges.txt\n",
            "roberta-base-squad2-outdoors/._training_args.bin\n",
            "roberta-base-squad2-outdoors/training_args.bin\n",
            "roberta-base-squad2-outdoors/._pytorch_model.bin\n",
            "roberta-base-squad2-outdoors/pytorch_model.bin\n",
            "roberta-base-squad2-outdoors/._vocab.json\n",
            "roberta-base-squad2-outdoors/vocab.json\n"
          ]
        }
      ]
    },
    {
      "cell_type": "code",
      "source": [
        "%%capture\n",
        "\n",
        "!pip install datasets"
      ],
      "metadata": {
        "id": "zi9wh8jke8Xl"
      },
      "execution_count": null,
      "outputs": []
    },
    {
      "cell_type": "code",
      "execution_count": 2,
      "metadata": {
        "id": "xA3xmRRHW0mQ"
      },
      "outputs": [],
      "source": [
        "import sys\n",
        "import os\n",
        "import time\n",
        "sys.path.append(\"../..\")\n",
        "import pandas as pd\n",
        "import numpy as np\n",
        "import pickle\n",
        "import json\n",
        "import tqdm\n",
        "import random\n",
        "\n",
        "import torch\n",
        "\n",
        "from transformers import pipeline\n",
        "from datasets import Dataset, DatasetDict\n",
        "\n",
        "\n",
        "from IPython.display import display,HTML"
      ]
    },
    {
      "cell_type": "code",
      "source": [
        "def get_processor_type():\n",
        "    gpu_device = torch.device(\"cuda:0\")\n",
        "    cpu_device = torch.device(\"cpu\")\n",
        "    return gpu_device or cpu_device\n",
        "\n",
        "def get_processor_device():\n",
        "    return 0 if torch.cuda.is_available() else -1"
      ],
      "metadata": {
        "id": "pZF8mvaLjRWI"
      },
      "execution_count": 3,
      "outputs": []
    },
    {
      "cell_type": "code",
      "source": [
        "print(\"Processor: \" + str(get_processor_type()))\n",
        "print(\"Device id: \" + str(get_processor_device()))"
      ],
      "metadata": {
        "colab": {
          "base_uri": "https://localhost:8080/"
        },
        "id": "3i29dbq9jSCM",
        "outputId": "c9257843-a51d-409c-d893-83b097be5429"
      },
      "execution_count": 4,
      "outputs": [
        {
          "output_type": "stream",
          "name": "stdout",
          "text": [
            "Processor: cuda:0\n",
            "Device id: 0\n"
          ]
        }
      ]
    },
    {
      "cell_type": "code",
      "execution_count": null,
      "metadata": {
        "id": "7ruXhtGPW0mR",
        "colab": {
          "base_uri": "https://localhost:8080/",
          "height": 206
        },
        "outputId": "d5aa77c7-0901-492c-e10d-ca992f9775bf"
      },
      "outputs": [
        {
          "output_type": "execute_result",
          "data": {
            "text/plain": [
              "      id                                           question  \\\n",
              "0   4410     Who places the anchors that rock climbers use?   \n",
              "1   5347  Who places the bolts on rock climbing routes, ...   \n",
              "2  20662  Who gets the bill if you activate a PLB to hel...   \n",
              "3   7623      What knot is this one? What are its purposes?   \n",
              "4  11587        What sort of crane, and what sort of snake?   \n",
              "\n",
              "                                             context  \\\n",
              "0  There are two distinct styles of free rock cli...   \n",
              "1  What you're talking about is Sport climbing. G...   \n",
              "2  Almost always the victim gets the bill, but as...   \n",
              "3  Slip knot It's undoubtably a slip knot that's ...   \n",
              "4  To answer the snake part of it, looking at som...   \n",
              "\n",
              "                                                 url  \n",
              "0  https://outdoors.stackexchange.com/questions/4410  \n",
              "1  https://outdoors.stackexchange.com/questions/5347  \n",
              "2  https://outdoors.stackexchange.com/questions/2...  \n",
              "3  https://outdoors.stackexchange.com/questions/7623  \n",
              "4  https://outdoors.stackexchange.com/questions/1...  "
            ],
            "text/html": [
              "\n",
              "  <div id=\"df-72ad3f80-c667-4c50-8a27-57a24e6c2453\" class=\"colab-df-container\">\n",
              "    <div>\n",
              "<style scoped>\n",
              "    .dataframe tbody tr th:only-of-type {\n",
              "        vertical-align: middle;\n",
              "    }\n",
              "\n",
              "    .dataframe tbody tr th {\n",
              "        vertical-align: top;\n",
              "    }\n",
              "\n",
              "    .dataframe thead th {\n",
              "        text-align: right;\n",
              "    }\n",
              "</style>\n",
              "<table border=\"1\" class=\"dataframe\">\n",
              "  <thead>\n",
              "    <tr style=\"text-align: right;\">\n",
              "      <th></th>\n",
              "      <th>id</th>\n",
              "      <th>question</th>\n",
              "      <th>context</th>\n",
              "      <th>url</th>\n",
              "    </tr>\n",
              "  </thead>\n",
              "  <tbody>\n",
              "    <tr>\n",
              "      <th>0</th>\n",
              "      <td>4410</td>\n",
              "      <td>Who places the anchors that rock climbers use?</td>\n",
              "      <td>There are two distinct styles of free rock cli...</td>\n",
              "      <td>https://outdoors.stackexchange.com/questions/4410</td>\n",
              "    </tr>\n",
              "    <tr>\n",
              "      <th>1</th>\n",
              "      <td>5347</td>\n",
              "      <td>Who places the bolts on rock climbing routes, ...</td>\n",
              "      <td>What you're talking about is Sport climbing. G...</td>\n",
              "      <td>https://outdoors.stackexchange.com/questions/5347</td>\n",
              "    </tr>\n",
              "    <tr>\n",
              "      <th>2</th>\n",
              "      <td>20662</td>\n",
              "      <td>Who gets the bill if you activate a PLB to hel...</td>\n",
              "      <td>Almost always the victim gets the bill, but as...</td>\n",
              "      <td>https://outdoors.stackexchange.com/questions/2...</td>\n",
              "    </tr>\n",
              "    <tr>\n",
              "      <th>3</th>\n",
              "      <td>7623</td>\n",
              "      <td>What knot is this one? What are its purposes?</td>\n",
              "      <td>Slip knot It's undoubtably a slip knot that's ...</td>\n",
              "      <td>https://outdoors.stackexchange.com/questions/7623</td>\n",
              "    </tr>\n",
              "    <tr>\n",
              "      <th>4</th>\n",
              "      <td>11587</td>\n",
              "      <td>What sort of crane, and what sort of snake?</td>\n",
              "      <td>To answer the snake part of it, looking at som...</td>\n",
              "      <td>https://outdoors.stackexchange.com/questions/1...</td>\n",
              "    </tr>\n",
              "  </tbody>\n",
              "</table>\n",
              "</div>\n",
              "    <div class=\"colab-df-buttons\">\n",
              "\n",
              "  <div class=\"colab-df-container\">\n",
              "    <button class=\"colab-df-convert\" onclick=\"convertToInteractive('df-72ad3f80-c667-4c50-8a27-57a24e6c2453')\"\n",
              "            title=\"Convert this dataframe to an interactive table.\"\n",
              "            style=\"display:none;\">\n",
              "\n",
              "  <svg xmlns=\"http://www.w3.org/2000/svg\" height=\"24px\" viewBox=\"0 -960 960 960\">\n",
              "    <path d=\"M120-120v-720h720v720H120Zm60-500h600v-160H180v160Zm220 220h160v-160H400v160Zm0 220h160v-160H400v160ZM180-400h160v-160H180v160Zm440 0h160v-160H620v160ZM180-180h160v-160H180v160Zm440 0h160v-160H620v160Z\"/>\n",
              "  </svg>\n",
              "    </button>\n",
              "\n",
              "  <style>\n",
              "    .colab-df-container {\n",
              "      display:flex;\n",
              "      gap: 12px;\n",
              "    }\n",
              "\n",
              "    .colab-df-convert {\n",
              "      background-color: #E8F0FE;\n",
              "      border: none;\n",
              "      border-radius: 50%;\n",
              "      cursor: pointer;\n",
              "      display: none;\n",
              "      fill: #1967D2;\n",
              "      height: 32px;\n",
              "      padding: 0 0 0 0;\n",
              "      width: 32px;\n",
              "    }\n",
              "\n",
              "    .colab-df-convert:hover {\n",
              "      background-color: #E2EBFA;\n",
              "      box-shadow: 0px 1px 2px rgba(60, 64, 67, 0.3), 0px 1px 3px 1px rgba(60, 64, 67, 0.15);\n",
              "      fill: #174EA6;\n",
              "    }\n",
              "\n",
              "    .colab-df-buttons div {\n",
              "      margin-bottom: 4px;\n",
              "    }\n",
              "\n",
              "    [theme=dark] .colab-df-convert {\n",
              "      background-color: #3B4455;\n",
              "      fill: #D2E3FC;\n",
              "    }\n",
              "\n",
              "    [theme=dark] .colab-df-convert:hover {\n",
              "      background-color: #434B5C;\n",
              "      box-shadow: 0px 1px 3px 1px rgba(0, 0, 0, 0.15);\n",
              "      filter: drop-shadow(0px 1px 2px rgba(0, 0, 0, 0.3));\n",
              "      fill: #FFFFFF;\n",
              "    }\n",
              "  </style>\n",
              "\n",
              "    <script>\n",
              "      const buttonEl =\n",
              "        document.querySelector('#df-72ad3f80-c667-4c50-8a27-57a24e6c2453 button.colab-df-convert');\n",
              "      buttonEl.style.display =\n",
              "        google.colab.kernel.accessAllowed ? 'block' : 'none';\n",
              "\n",
              "      async function convertToInteractive(key) {\n",
              "        const element = document.querySelector('#df-72ad3f80-c667-4c50-8a27-57a24e6c2453');\n",
              "        const dataTable =\n",
              "          await google.colab.kernel.invokeFunction('convertToInteractive',\n",
              "                                                    [key], {});\n",
              "        if (!dataTable) return;\n",
              "\n",
              "        const docLinkHtml = 'Like what you see? Visit the ' +\n",
              "          '<a target=\"_blank\" href=https://colab.research.google.com/notebooks/data_table.ipynb>data table notebook</a>'\n",
              "          + ' to learn more about interactive tables.';\n",
              "        element.innerHTML = '';\n",
              "        dataTable['output_type'] = 'display_data';\n",
              "        await google.colab.output.renderOutput(dataTable, element);\n",
              "        const docLink = document.createElement('div');\n",
              "        docLink.innerHTML = docLinkHtml;\n",
              "        element.appendChild(docLink);\n",
              "      }\n",
              "    </script>\n",
              "  </div>\n",
              "\n",
              "\n",
              "<div id=\"df-ac9c5b63-cd92-4a5f-8e94-05774632f8dd\">\n",
              "  <button class=\"colab-df-quickchart\" onclick=\"quickchart('df-ac9c5b63-cd92-4a5f-8e94-05774632f8dd')\"\n",
              "            title=\"Suggest charts\"\n",
              "            style=\"display:none;\">\n",
              "\n",
              "<svg xmlns=\"http://www.w3.org/2000/svg\" height=\"24px\"viewBox=\"0 0 24 24\"\n",
              "     width=\"24px\">\n",
              "    <g>\n",
              "        <path d=\"M19 3H5c-1.1 0-2 .9-2 2v14c0 1.1.9 2 2 2h14c1.1 0 2-.9 2-2V5c0-1.1-.9-2-2-2zM9 17H7v-7h2v7zm4 0h-2V7h2v10zm4 0h-2v-4h2v4z\"/>\n",
              "    </g>\n",
              "</svg>\n",
              "  </button>\n",
              "\n",
              "<style>\n",
              "  .colab-df-quickchart {\n",
              "      --bg-color: #E8F0FE;\n",
              "      --fill-color: #1967D2;\n",
              "      --hover-bg-color: #E2EBFA;\n",
              "      --hover-fill-color: #174EA6;\n",
              "      --disabled-fill-color: #AAA;\n",
              "      --disabled-bg-color: #DDD;\n",
              "  }\n",
              "\n",
              "  [theme=dark] .colab-df-quickchart {\n",
              "      --bg-color: #3B4455;\n",
              "      --fill-color: #D2E3FC;\n",
              "      --hover-bg-color: #434B5C;\n",
              "      --hover-fill-color: #FFFFFF;\n",
              "      --disabled-bg-color: #3B4455;\n",
              "      --disabled-fill-color: #666;\n",
              "  }\n",
              "\n",
              "  .colab-df-quickchart {\n",
              "    background-color: var(--bg-color);\n",
              "    border: none;\n",
              "    border-radius: 50%;\n",
              "    cursor: pointer;\n",
              "    display: none;\n",
              "    fill: var(--fill-color);\n",
              "    height: 32px;\n",
              "    padding: 0;\n",
              "    width: 32px;\n",
              "  }\n",
              "\n",
              "  .colab-df-quickchart:hover {\n",
              "    background-color: var(--hover-bg-color);\n",
              "    box-shadow: 0 1px 2px rgba(60, 64, 67, 0.3), 0 1px 3px 1px rgba(60, 64, 67, 0.15);\n",
              "    fill: var(--button-hover-fill-color);\n",
              "  }\n",
              "\n",
              "  .colab-df-quickchart-complete:disabled,\n",
              "  .colab-df-quickchart-complete:disabled:hover {\n",
              "    background-color: var(--disabled-bg-color);\n",
              "    fill: var(--disabled-fill-color);\n",
              "    box-shadow: none;\n",
              "  }\n",
              "\n",
              "  .colab-df-spinner {\n",
              "    border: 2px solid var(--fill-color);\n",
              "    border-color: transparent;\n",
              "    border-bottom-color: var(--fill-color);\n",
              "    animation:\n",
              "      spin 1s steps(1) infinite;\n",
              "  }\n",
              "\n",
              "  @keyframes spin {\n",
              "    0% {\n",
              "      border-color: transparent;\n",
              "      border-bottom-color: var(--fill-color);\n",
              "      border-left-color: var(--fill-color);\n",
              "    }\n",
              "    20% {\n",
              "      border-color: transparent;\n",
              "      border-left-color: var(--fill-color);\n",
              "      border-top-color: var(--fill-color);\n",
              "    }\n",
              "    30% {\n",
              "      border-color: transparent;\n",
              "      border-left-color: var(--fill-color);\n",
              "      border-top-color: var(--fill-color);\n",
              "      border-right-color: var(--fill-color);\n",
              "    }\n",
              "    40% {\n",
              "      border-color: transparent;\n",
              "      border-right-color: var(--fill-color);\n",
              "      border-top-color: var(--fill-color);\n",
              "    }\n",
              "    60% {\n",
              "      border-color: transparent;\n",
              "      border-right-color: var(--fill-color);\n",
              "    }\n",
              "    80% {\n",
              "      border-color: transparent;\n",
              "      border-right-color: var(--fill-color);\n",
              "      border-bottom-color: var(--fill-color);\n",
              "    }\n",
              "    90% {\n",
              "      border-color: transparent;\n",
              "      border-bottom-color: var(--fill-color);\n",
              "    }\n",
              "  }\n",
              "</style>\n",
              "\n",
              "  <script>\n",
              "    async function quickchart(key) {\n",
              "      const quickchartButtonEl =\n",
              "        document.querySelector('#' + key + ' button');\n",
              "      quickchartButtonEl.disabled = true;  // To prevent multiple clicks.\n",
              "      quickchartButtonEl.classList.add('colab-df-spinner');\n",
              "      try {\n",
              "        const charts = await google.colab.kernel.invokeFunction(\n",
              "            'suggestCharts', [key], {});\n",
              "      } catch (error) {\n",
              "        console.error('Error during call to suggestCharts:', error);\n",
              "      }\n",
              "      quickchartButtonEl.classList.remove('colab-df-spinner');\n",
              "      quickchartButtonEl.classList.add('colab-df-quickchart-complete');\n",
              "    }\n",
              "    (() => {\n",
              "      let quickchartButtonEl =\n",
              "        document.querySelector('#df-ac9c5b63-cd92-4a5f-8e94-05774632f8dd button');\n",
              "      quickchartButtonEl.style.display =\n",
              "        google.colab.kernel.accessAllowed ? 'block' : 'none';\n",
              "    })();\n",
              "  </script>\n",
              "</div>\n",
              "\n",
              "    </div>\n",
              "  </div>\n"
            ],
            "application/vnd.google.colaboratory.intrinsic+json": {
              "type": "dataframe",
              "variable_name": "contexts",
              "summary": "{\n  \"name\": \"contexts\",\n  \"rows\": 1662,\n  \"fields\": [\n    {\n      \"column\": \"id\",\n      \"properties\": {\n        \"dtype\": \"number\",\n        \"std\": 6995,\n        \"min\": 1,\n        \"max\": 25075,\n        \"num_unique_values\": 1662,\n        \"samples\": [\n          20449,\n          551,\n          14446\n        ],\n        \"semantic_type\": \"\",\n        \"description\": \"\"\n      }\n    },\n    {\n      \"column\": \"question\",\n      \"properties\": {\n        \"dtype\": \"string\",\n        \"num_unique_values\": 1662,\n        \"samples\": [\n          \"Why are long-distance hiking trails in the USA so much more famous than in Europe?\",\n          \"What fps does a bow need to hunt moose?\",\n          \"What can I do about a rock climbing ban?\"\n        ],\n        \"semantic_type\": \"\",\n        \"description\": \"\"\n      }\n    },\n    {\n      \"column\": \"context\",\n      \"properties\": {\n        \"dtype\": \"string\",\n        \"num_unique_values\": 1662,\n        \"samples\": [\n          \"In the more densely populated areas of Central Europe these long distance trails just seamlessly blend in with regional or local trails, so while the whole, say, 2690 km of the EB Eisenach - Budapest may not be well-known, e.g. its westernmost 170 km is the Rennsteig , a very famous regional trail in Germany which is moreover very old: it used to be a commercial trade route and according (no chance to be lonely there short of a November storm in the clouds) to Wikipedia has been known under this name for about 700 years. Some of the regional and even long distance trails are famous as century-old historical trade or pilgrim routes and connections between cities. Which points to a very different origin of those famous trail compared, to more or less recent recreational/dedicated hiking trails such as the Alpe-Adria or the Kungsleden on the one hand and e.g. rescue trails like the Juan de Fuca and West Coast Trails (famous, North America, regional). And in consequence, they are woven into the local network of roads and paths: Personally, being at home in that dense Central European network of hiking trails, forest paths, roads and field tracks we have in the German hills, so far I have hardly ever considered \\\"doing\\\" such a regional or long distance hiking trail - although I've been on lots of them: as we have a full network of trails and paths the way I approach this over here is that I grab a map, think from where I want to hike to where and then decide to follow this trail from here to there, then turn on that one, then... and so on. In consequence, names of these trails are very much a side note to me. In contrast, Canadian Juan de Fuca Trail had just a few access paths that one could take to get to the close by road (its original purpose was helping shipwreck survivors to get out of the forest), and Matario Trail (of local fame, I was in a group of a few people, but we did not meet anyone else) basically stretches between two access points with the only diversion being canoe portages. The bottom line is that for these trails, there decision is pretty much to hike them completely or not at all. So if you go hiking there, you do the Mantario Trail, whereas you may do the Rennsteig, or do part of the Rennsteig and then turn somewhere as you like. Remember, the original purpose of the Rennsteig was to give access to various towns. And this was achieved by the Rennsteig being a through-hiking trail along the crest of the Thuringian forest plus various side trails leading down the valleys to the towns (thus achieving the connection climbing up and down only once pretty much between any two of those towns). And nowadays regional tourism offices make that there are so many named trails that really it is easier to remember just where to go without the name. Just looked it up: on Sunday I actually crossed Limes trail while on the Luther Trail (both listed as a European long distance trails). In that sense I'd say that regional marketing in Central Europe has lead to such a proliferation of trails that the importance of the individual trails is much diluted (with the exception of maybe a very few very famous ones). I think this is good, as I'm talking about a region with > 200 inhabitants/\\u1e31m\\u00b2 which even on that vast number of trails and paths is definitively not going to be lonely on the average Sunday. Another consequence is that the old trade trails and some of the long distance trails sometimes run along major highways (or at least their original route is now a major highway) and they even cross large cities due to the historical routes they follow. But I have to admit that crossing Berlin on foot along the E11 does look like a dreary piece of work to me even though they reasonably kept to parks. For me that is certainly a reason to cherry-pick only the nice parts of a trail and not consider doing the whole thing.\",\n          \"With the bow it is not the speed of the arrow but the power it is packing. I think the general speed is around 300 fps (90 m/s). There are some compound bows that can shoot faster with thin diameter arrows. Usually 55 lbs draw is enough to kill any large game. I shoot a 65 lb take down recurve when I train. Then I switch my bow limbs for 50 when I hunt (also train with it but not as much as with the 65). If you take look at Hoyt website they have hunters taking down buffaloes with 50 lbs bows. Also a lot depends on your arrow head and the diameter for the arrow. Thinner diameter penetrates deeper. Quality arrow head will slice up the heart so the animal bleeds out in matter of seconds. Also it depends what you prefer to shoot. Some guys like longbows because of the feel and raw power. But it takes a long time to master. Most people shoot recurves because they are easy to start with and are affordable. Also the bow generally does not vibrate as much as a longbow. Then you have compound bows. I don't like them very much. Too much tech and at some point you're just better off with a rifle IMHO. To safely hunt anything you have to know your game. If you go hunting moose that is pissed off at you; well you are asking to have a meeting with the reaper.\",\n          \"Access to climbing areas is an ongoing issue in many climbing areas. In the United States for example, it is claimed that 1 in 5 climbing areas is threatened by an access issue. There are many funds , societies , and advocacy groups who work on behalf of climbers to protect public access to climbing areas, to keep them open to the public for recreational climbing. Try searching for an access group that works in your area. The issue of access is not always so simple, as there can be multiple factors to consider when it comes to certain crags. Around where I'm from, there's pretty much open access to everything , because most of the climbing areas are on crown land. There are however a lot of cliffs and boulders that are on private land, and private land owners have the right to prohibit trespassing on their property. The biggest concern with climbing on private property in some countries is liability. In North America for example, If someone gets hurt climbing a private crag, then the landowner is legally liable, and can be sued. Most land owners prefer to restrict access to their lands instead of risking the possibility of even one lawsuit. Local authorities are especially likely to restrict climbing on municipally owned lands, because they are regularly subject to a plethora of ridiculous claims (people frequently sue towns and cities because they can't be bothered to be accountable for tripping over their own feet on the sidewalks, and hurting themselves). In the USA this is especially common because in many cases suing is the only option an injured person has for paying their hospital bills. One sensitive issue with a lot of climbing areas is the presence of native art on the rocks. I know of several areas nearby that are prime climbing areas, but climbing there is somewhat controversial because it can do damage to the ancient art on the stone. Access to areas where native art is present is often restricted, and it just so happens that in most places where native art is preserved on stone, the rock is prime for climbing. If climbing has been banned at your crag \\\"for safety reasons\\\" then it sounds like a local authority issue, in which case your best chance of restoring access is to partner with a access group, and petition the local authority. If you can show the authority that an area can be responsibly climbed, then they may work with you to open access to climbing. Talk to the CAO or City Manager about presenting to your council, that should always be your first course of action when seeking change in a policy in a municipality. As far as preventing access issues, what you need to do is demonstrate that the area is being used responsibly. Leave No Trace ethics will ensure that no flags are raised about improper use of an area. I've seen crags full of garbage and covered with graffiti. There's a now-popular climbing area close to where I live that used to be closed to climbing. The Town of Frank in Alberta used to prohibit people from climbing on the millions of boulders which were the result of the worlds largest rock avalanche, that buried most of the Town early in the 20th century. I remember when signs used to be posted on the side of the road telling you that climbing on the rocks was prohibited. Today it's a renowned bouldering area with thousands of established problems, with more new problems being established almost weekly. Access was granted after it became clear to the municipality that bouldering was a huge tourist attraction, and promoting the area attracts a lot of tourism and benefits local businesses. Frank Slide (Gripped Magazine)\"\n        ],\n        \"semantic_type\": \"\",\n        \"description\": \"\"\n      }\n    },\n    {\n      \"column\": \"url\",\n      \"properties\": {\n        \"dtype\": \"string\",\n        \"num_unique_values\": 1662,\n        \"samples\": [\n          \"https://outdoors.stackexchange.com/questions/20449\",\n          \"https://outdoors.stackexchange.com/questions/551\",\n          \"https://outdoors.stackexchange.com/questions/14446\"\n        ],\n        \"semantic_type\": \"\",\n        \"description\": \"\"\n      }\n    }\n  ]\n}"
            }
          },
          "metadata": {},
          "execution_count": 5
        }
      ],
      "source": [
        "# loading a question-answering dataset\n",
        "contexts = pd.read_csv(\"data/outdoors/question-answer-seed-contexts.csv\")\n",
        "contexts.head()"
      ]
    },
    {
      "cell_type": "markdown",
      "source": [
        "## Creating silver dataset"
      ],
      "metadata": {
        "id": "KzFEJ0VxFGTK"
      }
    },
    {
      "cell_type": "code",
      "source": [
        "def get_processor_device():\n",
        "    return 0 if torch.cuda.is_available() else -1\n",
        "\n",
        "def display_guesses(guesses):\n",
        "    display(HTML(pd.DataFrame(guesses[0:10]).to_html(index=False)))"
      ],
      "metadata": {
        "id": "WipDDFrAFdsl"
      },
      "execution_count": null,
      "outputs": []
    },
    {
      "cell_type": "code",
      "source": [
        "model_name = \"deepset/roberta-base-squad2\"\n",
        "device = get_processor_device()"
      ],
      "metadata": {
        "id": "Z05FCJIODT-9"
      },
      "execution_count": null,
      "outputs": []
    },
    {
      "cell_type": "code",
      "source": [
        "def answer_questions(contexts, k=10):\n",
        "  nlp = pipeline('question-answering', model=model_name, tokenizer=model_name, device=device)\n",
        "  guesses = []\n",
        "  for _, row in tqdm.tqdm(contexts[0:k].iterrows(), total=k):\n",
        "    results = nlp({\n",
        "        'context': row['context'],\n",
        "        'question': row['question']\n",
        "    })\n",
        "    guesses.append(results)\n",
        "  return guesses"
      ],
      "metadata": {
        "id": "N4KizhOKbNwA"
      },
      "execution_count": null,
      "outputs": []
    },
    {
      "cell_type": "code",
      "source": [
        "# Automatically labeling data from a pretrained model\n",
        "guesses = answer_questions(contexts, k=len(contexts))"
      ],
      "metadata": {
        "id": "vwCE3cPzbiv6"
      },
      "execution_count": null,
      "outputs": []
    },
    {
      "cell_type": "code",
      "source": [
        "display_guesses(guesses)"
      ],
      "metadata": {
        "id": "gRgMi24rp0nH",
        "outputId": "cbe18b08-2e6c-4895-c57a-38fefca147c0",
        "colab": {
          "base_uri": "https://localhost:8080/",
          "height": 363
        }
      },
      "execution_count": null,
      "outputs": [
        {
          "output_type": "display_data",
          "data": {
            "text/plain": [
              "<IPython.core.display.HTML object>"
            ],
            "text/html": [
              "<table border=\"1\" class=\"dataframe\">\n",
              "  <thead>\n",
              "    <tr style=\"text-align: right;\">\n",
              "      <th>score</th>\n",
              "      <th>start</th>\n",
              "      <th>end</th>\n",
              "      <th>answer</th>\n",
              "    </tr>\n",
              "  </thead>\n",
              "  <tbody>\n",
              "    <tr>\n",
              "      <td>0.278927</td>\n",
              "      <td>474</td>\n",
              "      <td>516</td>\n",
              "      <td>a local enthusiast or group of enthusiasts</td>\n",
              "    </tr>\n",
              "    <tr>\n",
              "      <td>0.200848</td>\n",
              "      <td>81</td>\n",
              "      <td>117</td>\n",
              "      <td>the person who is creating the climb</td>\n",
              "    </tr>\n",
              "    <tr>\n",
              "      <td>0.018632</td>\n",
              "      <td>14</td>\n",
              "      <td>24</td>\n",
              "      <td>the victim</td>\n",
              "    </tr>\n",
              "    <tr>\n",
              "      <td>0.222317</td>\n",
              "      <td>29</td>\n",
              "      <td>38</td>\n",
              "      <td>slip knot</td>\n",
              "    </tr>\n",
              "    <tr>\n",
              "      <td>0.000551</td>\n",
              "      <td>1255</td>\n",
              "      <td>1262</td>\n",
              "      <td>aquatic</td>\n",
              "    </tr>\n",
              "    <tr>\n",
              "      <td>0.374997</td>\n",
              "      <td>15</td>\n",
              "      <td>40</td>\n",
              "      <td>a high-tech treasure hunt</td>\n",
              "    </tr>\n",
              "    <tr>\n",
              "      <td>0.563755</td>\n",
              "      <td>192</td>\n",
              "      <td>232</td>\n",
              "      <td>a tube of lightweight, stretchy material</td>\n",
              "    </tr>\n",
              "    <tr>\n",
              "      <td>0.110915</td>\n",
              "      <td>125</td>\n",
              "      <td>154</td>\n",
              "      <td>the cheapest one of the three</td>\n",
              "    </tr>\n",
              "    <tr>\n",
              "      <td>0.805174</td>\n",
              "      <td>68</td>\n",
              "      <td>76</td>\n",
              "      <td>blocking</td>\n",
              "    </tr>\n",
              "    <tr>\n",
              "      <td>0.247008</td>\n",
              "      <td>227</td>\n",
              "      <td>265</td>\n",
              "      <td>the traditional longbow made from wood</td>\n",
              "    </tr>\n",
              "  </tbody>\n",
              "</table>"
            ]
          },
          "metadata": {}
        }
      ]
    },
    {
      "cell_type": "code",
      "source": [
        "contexts[\"answers\"] = guesses\n",
        "contexts.to_csv(\"data/outdoors/qa-squad2-guesses.csv\", index=False)"
      ],
      "metadata": {
        "id": "S5SYBSZAc2f1"
      },
      "execution_count": null,
      "outputs": []
    },
    {
      "cell_type": "markdown",
      "source": [
        "##Human-in-the-loop training"
      ],
      "metadata": {
        "id": "qpvAelaAuqB8"
      }
    },
    {
      "cell_type": "code",
      "source": [
        "random.seed(0)\n",
        "\n",
        "def get_training_data(filename):\n",
        "    golden_answers = pd.read_csv(filename)\n",
        "    golden_answers = golden_answers[golden_answers[\"class\"] != None]\n",
        "    qa_data = []\n",
        "    for _, row in golden_answers.iterrows():\n",
        "        answers = row[\"gold\"].split(\"|\")\n",
        "        starts = [row[\"context\"].find(a) for a in answers]\n",
        "        missing = -1 in starts\n",
        "        if not missing:\n",
        "            row[\"title\"] = row[\"question\"]\n",
        "            row[\"answers\"] = {\"text\": answers, \"answer_start\": starts}\n",
        "            qa_data.append(row)\n",
        "    columns = [\"id\", \"url\", \"title\", \"question\", \"context\", \"answers\"]\n",
        "    df = pd.DataFrame(qa_data, columns=columns).sample(frac=1)\n",
        "    train_split = int(len(df) * 0.75)\n",
        "    eval_split = (int((len(df) - train_split) / 1.25) +\n",
        "                  train_split - 1)\n",
        "    train_dataset = Dataset.from_pandas(df[:train_split])\n",
        "    test_dataset = Dataset.from_pandas(df[train_split:eval_split])\n",
        "    validation_dataset = Dataset.from_pandas(df[eval_split:])\n",
        "    return DatasetDict({\"train\": train_dataset, \"test\": test_dataset,\"validation\": validation_dataset})"
      ],
      "metadata": {
        "id": "bgpYsB1Zc8eO"
      },
      "execution_count": null,
      "outputs": []
    },
    {
      "cell_type": "code",
      "source": [
        "#It took about 2-3 hours to label 200 question/answer rows\n",
        "#Doing so will give you a deeper appreciation for the difficulty of the NLP task.\n",
        "#I *highly* encourage you to label even more documents, and re-run the fine-tuning tasks coming up.\n",
        "datadict = get_training_data(\"data/outdoors/outdoors_golden_answers.csv\")\n",
        "model_path = \"data/question-answering/question-answering-training-set\"\n",
        "\n",
        "#datadict.save_to_disk(model_path)\n",
        "\n",
        "datadict"
      ],
      "metadata": {
        "id": "w-oU1FLGdC-8",
        "outputId": "4b0dd8c1-0a5b-4a77-82f5-f0e1b453754f",
        "colab": {
          "base_uri": "https://localhost:8080/"
        }
      },
      "execution_count": null,
      "outputs": [
        {
          "output_type": "execute_result",
          "data": {
            "text/plain": [
              "DatasetDict({\n",
              "    train: Dataset({\n",
              "        features: ['id', 'url', 'title', 'question', 'context', 'answers', '__index_level_0__'],\n",
              "        num_rows: 1243\n",
              "    })\n",
              "    test: Dataset({\n",
              "        features: ['id', 'url', 'title', 'question', 'context', 'answers', '__index_level_0__'],\n",
              "        num_rows: 331\n",
              "    })\n",
              "    validation: Dataset({\n",
              "        features: ['id', 'url', 'title', 'question', 'context', 'answers', '__index_level_0__'],\n",
              "        num_rows: 84\n",
              "    })\n",
              "})"
            ]
          },
          "metadata": {},
          "execution_count": 18
        }
      ]
    }
  ],
  "metadata": {
    "kernelspec": {
      "display_name": "Python 3",
      "name": "python3"
    },
    "colab": {
      "provenance": [],
      "gpuType": "T4",
      "toc_visible": true,
      "include_colab_link": true
    },
    "accelerator": "GPU"
  },
  "nbformat": 4,
  "nbformat_minor": 0
}