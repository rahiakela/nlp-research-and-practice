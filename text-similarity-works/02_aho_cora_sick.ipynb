{
  "nbformat": 4,
  "nbformat_minor": 0,
  "metadata": {
    "colab": {
      "provenance": [],
      "toc_visible": true,
      "authorship_tag": "ABX9TyOOt9XTaHPzsnCIuv66JbiW",
      "include_colab_link": true
    },
    "kernelspec": {
      "name": "python3",
      "display_name": "Python 3"
    },
    "language_info": {
      "name": "python"
    }
  },
  "cells": [
    {
      "cell_type": "markdown",
      "metadata": {
        "id": "view-in-github",
        "colab_type": "text"
      },
      "source": [
        "<a href=\"https://colab.research.google.com/github/rahiakela/natural-language-processing-research-and-practice/blob/main/text-similarity-works/02_aho_cora_sick.ipynb\" target=\"_parent\"><img src=\"https://colab.research.google.com/assets/colab-badge.svg\" alt=\"Open In Colab\"/></a>"
      ]
    },
    {
      "cell_type": "markdown",
      "source": [
        "##Aho-cora-sick"
      ],
      "metadata": {
        "id": "jUS_Sl3TaJwh"
      }
    },
    {
      "cell_type": "markdown",
      "source": [
        "##Setup"
      ],
      "metadata": {
        "id": "73ORkeFzaRA4"
      }
    },
    {
      "cell_type": "code",
      "source": [
        "!pip -q install pyahocorasick\n",
        "!pip -q install thefuzz"
      ],
      "metadata": {
        "id": "Ti6ZynbyaR9l",
        "outputId": "6c65f2ab-fc8c-47a3-d47c-cd9a61d8f3f8",
        "colab": {
          "base_uri": "https://localhost:8080/"
        }
      },
      "execution_count": 1,
      "outputs": [
        {
          "output_type": "stream",
          "name": "stdout",
          "text": [
            "\u001b[?25l\r\u001b[K     |███                             | 10 kB 24.2 MB/s eta 0:00:01\r\u001b[K     |██████▏                         | 20 kB 28.4 MB/s eta 0:00:01\r\u001b[K     |█████████▎                      | 30 kB 35.4 MB/s eta 0:00:01\r\u001b[K     |████████████▎                   | 40 kB 15.5 MB/s eta 0:00:01\r\u001b[K     |███████████████▍                | 51 kB 13.5 MB/s eta 0:00:01\r\u001b[K     |██████████████████▌             | 61 kB 15.2 MB/s eta 0:00:01\r\u001b[K     |█████████████████████▌          | 71 kB 13.2 MB/s eta 0:00:01\r\u001b[K     |████████████████████████▋       | 81 kB 14.4 MB/s eta 0:00:01\r\u001b[K     |███████████████████████████▊    | 92 kB 14.3 MB/s eta 0:00:01\r\u001b[K     |██████████████████████████████▊ | 102 kB 15.3 MB/s eta 0:00:01\r\u001b[K     |████████████████████████████████| 106 kB 15.3 MB/s \n",
            "\u001b[?25h"
          ]
        }
      ]
    },
    {
      "cell_type": "code",
      "source": [
        "import pandas as pd\n",
        "import numpy as np\n",
        "import re\n",
        "\n",
        "import pdb\n",
        "\n",
        "import ahocorasick as ahc\n",
        "from thefuzz import process\n",
        "from thefuzz import fuzz"
      ],
      "metadata": {
        "id": "fAcHTn0JaM2S"
      },
      "execution_count": 19,
      "outputs": []
    },
    {
      "cell_type": "markdown",
      "source": [
        "##Loading data"
      ],
      "metadata": {
        "id": "Nmvfy_yyack8"
      }
    },
    {
      "cell_type": "code",
      "source": [
        "keyword_df = pd.read_csv(\"keywords.csv\")\n",
        "keyword_df.head()"
      ],
      "metadata": {
        "colab": {
          "base_uri": "https://localhost:8080/",
          "height": 206
        },
        "id": "4AUZhG-mac-c",
        "outputId": "2119bf5d-2305-481f-ead4-83850b6afba4"
      },
      "execution_count": 3,
      "outputs": [
        {
          "output_type": "execute_result",
          "data": {
            "text/plain": [
              "  CATEGORY0    CATEGORY1 CATEGORY2             SYNID  \\\n",
              "0  Keywords  Respiratory       NaN  KW-rESPIRATORY01   \n",
              "1  Keywords      Alcohol   Alcohol     KW-ALCOHOL184   \n",
              "2  Keywords      Alcohol   Alcohol     KW-ALCOHOL185   \n",
              "3  Keywords      Alcohol   Alcohol     KW-ALCOHOL186   \n",
              "4  Keywords      Alcohol   Alcohol     KW-ALCOHOL187   \n",
              "\n",
              "                        KEYWORDS  \n",
              "0                    Respiratory  \n",
              "1        struggling with alcohol  \n",
              "2        suspected alcohol abuse  \n",
              "3  taking medication for alcohol  \n",
              "4                       tequilla  "
            ],
            "text/html": [
              "\n",
              "  <div id=\"df-ed98bf5e-a580-4500-ae4e-b80c9f05ee3c\">\n",
              "    <div class=\"colab-df-container\">\n",
              "      <div>\n",
              "<style scoped>\n",
              "    .dataframe tbody tr th:only-of-type {\n",
              "        vertical-align: middle;\n",
              "    }\n",
              "\n",
              "    .dataframe tbody tr th {\n",
              "        vertical-align: top;\n",
              "    }\n",
              "\n",
              "    .dataframe thead th {\n",
              "        text-align: right;\n",
              "    }\n",
              "</style>\n",
              "<table border=\"1\" class=\"dataframe\">\n",
              "  <thead>\n",
              "    <tr style=\"text-align: right;\">\n",
              "      <th></th>\n",
              "      <th>CATEGORY0</th>\n",
              "      <th>CATEGORY1</th>\n",
              "      <th>CATEGORY2</th>\n",
              "      <th>SYNID</th>\n",
              "      <th>KEYWORDS</th>\n",
              "    </tr>\n",
              "  </thead>\n",
              "  <tbody>\n",
              "    <tr>\n",
              "      <th>0</th>\n",
              "      <td>Keywords</td>\n",
              "      <td>Respiratory</td>\n",
              "      <td>NaN</td>\n",
              "      <td>KW-rESPIRATORY01</td>\n",
              "      <td>Respiratory</td>\n",
              "    </tr>\n",
              "    <tr>\n",
              "      <th>1</th>\n",
              "      <td>Keywords</td>\n",
              "      <td>Alcohol</td>\n",
              "      <td>Alcohol</td>\n",
              "      <td>KW-ALCOHOL184</td>\n",
              "      <td>struggling with alcohol</td>\n",
              "    </tr>\n",
              "    <tr>\n",
              "      <th>2</th>\n",
              "      <td>Keywords</td>\n",
              "      <td>Alcohol</td>\n",
              "      <td>Alcohol</td>\n",
              "      <td>KW-ALCOHOL185</td>\n",
              "      <td>suspected alcohol abuse</td>\n",
              "    </tr>\n",
              "    <tr>\n",
              "      <th>3</th>\n",
              "      <td>Keywords</td>\n",
              "      <td>Alcohol</td>\n",
              "      <td>Alcohol</td>\n",
              "      <td>KW-ALCOHOL186</td>\n",
              "      <td>taking medication for alcohol</td>\n",
              "    </tr>\n",
              "    <tr>\n",
              "      <th>4</th>\n",
              "      <td>Keywords</td>\n",
              "      <td>Alcohol</td>\n",
              "      <td>Alcohol</td>\n",
              "      <td>KW-ALCOHOL187</td>\n",
              "      <td>tequilla</td>\n",
              "    </tr>\n",
              "  </tbody>\n",
              "</table>\n",
              "</div>\n",
              "      <button class=\"colab-df-convert\" onclick=\"convertToInteractive('df-ed98bf5e-a580-4500-ae4e-b80c9f05ee3c')\"\n",
              "              title=\"Convert this dataframe to an interactive table.\"\n",
              "              style=\"display:none;\">\n",
              "        \n",
              "  <svg xmlns=\"http://www.w3.org/2000/svg\" height=\"24px\"viewBox=\"0 0 24 24\"\n",
              "       width=\"24px\">\n",
              "    <path d=\"M0 0h24v24H0V0z\" fill=\"none\"/>\n",
              "    <path d=\"M18.56 5.44l.94 2.06.94-2.06 2.06-.94-2.06-.94-.94-2.06-.94 2.06-2.06.94zm-11 1L8.5 8.5l.94-2.06 2.06-.94-2.06-.94L8.5 2.5l-.94 2.06-2.06.94zm10 10l.94 2.06.94-2.06 2.06-.94-2.06-.94-.94-2.06-.94 2.06-2.06.94z\"/><path d=\"M17.41 7.96l-1.37-1.37c-.4-.4-.92-.59-1.43-.59-.52 0-1.04.2-1.43.59L10.3 9.45l-7.72 7.72c-.78.78-.78 2.05 0 2.83L4 21.41c.39.39.9.59 1.41.59.51 0 1.02-.2 1.41-.59l7.78-7.78 2.81-2.81c.8-.78.8-2.07 0-2.86zM5.41 20L4 18.59l7.72-7.72 1.47 1.35L5.41 20z\"/>\n",
              "  </svg>\n",
              "      </button>\n",
              "      \n",
              "  <style>\n",
              "    .colab-df-container {\n",
              "      display:flex;\n",
              "      flex-wrap:wrap;\n",
              "      gap: 12px;\n",
              "    }\n",
              "\n",
              "    .colab-df-convert {\n",
              "      background-color: #E8F0FE;\n",
              "      border: none;\n",
              "      border-radius: 50%;\n",
              "      cursor: pointer;\n",
              "      display: none;\n",
              "      fill: #1967D2;\n",
              "      height: 32px;\n",
              "      padding: 0 0 0 0;\n",
              "      width: 32px;\n",
              "    }\n",
              "\n",
              "    .colab-df-convert:hover {\n",
              "      background-color: #E2EBFA;\n",
              "      box-shadow: 0px 1px 2px rgba(60, 64, 67, 0.3), 0px 1px 3px 1px rgba(60, 64, 67, 0.15);\n",
              "      fill: #174EA6;\n",
              "    }\n",
              "\n",
              "    [theme=dark] .colab-df-convert {\n",
              "      background-color: #3B4455;\n",
              "      fill: #D2E3FC;\n",
              "    }\n",
              "\n",
              "    [theme=dark] .colab-df-convert:hover {\n",
              "      background-color: #434B5C;\n",
              "      box-shadow: 0px 1px 3px 1px rgba(0, 0, 0, 0.15);\n",
              "      filter: drop-shadow(0px 1px 2px rgba(0, 0, 0, 0.3));\n",
              "      fill: #FFFFFF;\n",
              "    }\n",
              "  </style>\n",
              "\n",
              "      <script>\n",
              "        const buttonEl =\n",
              "          document.querySelector('#df-ed98bf5e-a580-4500-ae4e-b80c9f05ee3c button.colab-df-convert');\n",
              "        buttonEl.style.display =\n",
              "          google.colab.kernel.accessAllowed ? 'block' : 'none';\n",
              "\n",
              "        async function convertToInteractive(key) {\n",
              "          const element = document.querySelector('#df-ed98bf5e-a580-4500-ae4e-b80c9f05ee3c');\n",
              "          const dataTable =\n",
              "            await google.colab.kernel.invokeFunction('convertToInteractive',\n",
              "                                                     [key], {});\n",
              "          if (!dataTable) return;\n",
              "\n",
              "          const docLinkHtml = 'Like what you see? Visit the ' +\n",
              "            '<a target=\"_blank\" href=https://colab.research.google.com/notebooks/data_table.ipynb>data table notebook</a>'\n",
              "            + ' to learn more about interactive tables.';\n",
              "          element.innerHTML = '';\n",
              "          dataTable['output_type'] = 'display_data';\n",
              "          await google.colab.output.renderOutput(dataTable, element);\n",
              "          const docLink = document.createElement('div');\n",
              "          docLink.innerHTML = docLinkHtml;\n",
              "          element.appendChild(docLink);\n",
              "        }\n",
              "      </script>\n",
              "    </div>\n",
              "  </div>\n",
              "  "
            ]
          },
          "metadata": {},
          "execution_count": 3
        }
      ]
    },
    {
      "cell_type": "code",
      "source": [
        "ocr_sample = pd.read_csv(\"ocr_page.csv\", encoding=\"cp1252\")\n",
        "ocr_sample.head()"
      ],
      "metadata": {
        "colab": {
          "base_uri": "https://localhost:8080/",
          "height": 206
        },
        "id": "CT188q3PalG5",
        "outputId": "e823e451-5da2-4a7b-df26-29e12a24c45a"
      },
      "execution_count": 4,
      "outputs": [
        {
          "output_type": "execute_result",
          "data": {
            "text/plain": [
              "   PAGEID                                        OCR_CONTENT  \\\n",
              "0  104707  PACIFIC LIFE INSURANCE COMPANY\\n\\nLife Insuran...   \n",
              "1  104708   \\r\\n\\r\\nTEMPORARY INSURANCE AGREEMENT (TIA)\\r...   \n",
              "2  104709  PACIFIC LIFE INSURANCE COMPANY\\r\\n\\r\\nLife Ins...   \n",
              "3  104710   \\n\\nNON-FORFEITURE PREMIUM CESSATION OPTIONS ...   \n",
              "4  104711   \\n\\nADDITIONAL POLICYOWNER (If more than one ...   \n",
              "\n",
              "                    LOAD_TIMESTAMP  \n",
              "0  26-JAN-22 07.04.57.000000000 PM  \n",
              "1  26-JAN-22 07.04.57.000000000 PM  \n",
              "2  26-JAN-22 07.04.57.000000000 PM  \n",
              "3  26-JAN-22 07.04.57.000000000 PM  \n",
              "4  26-JAN-22 07.04.57.000000000 PM  "
            ],
            "text/html": [
              "\n",
              "  <div id=\"df-fe4c6169-dce2-4525-8c5b-e07490389930\">\n",
              "    <div class=\"colab-df-container\">\n",
              "      <div>\n",
              "<style scoped>\n",
              "    .dataframe tbody tr th:only-of-type {\n",
              "        vertical-align: middle;\n",
              "    }\n",
              "\n",
              "    .dataframe tbody tr th {\n",
              "        vertical-align: top;\n",
              "    }\n",
              "\n",
              "    .dataframe thead th {\n",
              "        text-align: right;\n",
              "    }\n",
              "</style>\n",
              "<table border=\"1\" class=\"dataframe\">\n",
              "  <thead>\n",
              "    <tr style=\"text-align: right;\">\n",
              "      <th></th>\n",
              "      <th>PAGEID</th>\n",
              "      <th>OCR_CONTENT</th>\n",
              "      <th>LOAD_TIMESTAMP</th>\n",
              "    </tr>\n",
              "  </thead>\n",
              "  <tbody>\n",
              "    <tr>\n",
              "      <th>0</th>\n",
              "      <td>104707</td>\n",
              "      <td>PACIFIC LIFE INSURANCE COMPANY\\n\\nLife Insuran...</td>\n",
              "      <td>26-JAN-22 07.04.57.000000000 PM</td>\n",
              "    </tr>\n",
              "    <tr>\n",
              "      <th>1</th>\n",
              "      <td>104708</td>\n",
              "      <td>\\r\\n\\r\\nTEMPORARY INSURANCE AGREEMENT (TIA)\\r...</td>\n",
              "      <td>26-JAN-22 07.04.57.000000000 PM</td>\n",
              "    </tr>\n",
              "    <tr>\n",
              "      <th>2</th>\n",
              "      <td>104709</td>\n",
              "      <td>PACIFIC LIFE INSURANCE COMPANY\\r\\n\\r\\nLife Ins...</td>\n",
              "      <td>26-JAN-22 07.04.57.000000000 PM</td>\n",
              "    </tr>\n",
              "    <tr>\n",
              "      <th>3</th>\n",
              "      <td>104710</td>\n",
              "      <td>\\n\\nNON-FORFEITURE PREMIUM CESSATION OPTIONS ...</td>\n",
              "      <td>26-JAN-22 07.04.57.000000000 PM</td>\n",
              "    </tr>\n",
              "    <tr>\n",
              "      <th>4</th>\n",
              "      <td>104711</td>\n",
              "      <td>\\n\\nADDITIONAL POLICYOWNER (If more than one ...</td>\n",
              "      <td>26-JAN-22 07.04.57.000000000 PM</td>\n",
              "    </tr>\n",
              "  </tbody>\n",
              "</table>\n",
              "</div>\n",
              "      <button class=\"colab-df-convert\" onclick=\"convertToInteractive('df-fe4c6169-dce2-4525-8c5b-e07490389930')\"\n",
              "              title=\"Convert this dataframe to an interactive table.\"\n",
              "              style=\"display:none;\">\n",
              "        \n",
              "  <svg xmlns=\"http://www.w3.org/2000/svg\" height=\"24px\"viewBox=\"0 0 24 24\"\n",
              "       width=\"24px\">\n",
              "    <path d=\"M0 0h24v24H0V0z\" fill=\"none\"/>\n",
              "    <path d=\"M18.56 5.44l.94 2.06.94-2.06 2.06-.94-2.06-.94-.94-2.06-.94 2.06-2.06.94zm-11 1L8.5 8.5l.94-2.06 2.06-.94-2.06-.94L8.5 2.5l-.94 2.06-2.06.94zm10 10l.94 2.06.94-2.06 2.06-.94-2.06-.94-.94-2.06-.94 2.06-2.06.94z\"/><path d=\"M17.41 7.96l-1.37-1.37c-.4-.4-.92-.59-1.43-.59-.52 0-1.04.2-1.43.59L10.3 9.45l-7.72 7.72c-.78.78-.78 2.05 0 2.83L4 21.41c.39.39.9.59 1.41.59.51 0 1.02-.2 1.41-.59l7.78-7.78 2.81-2.81c.8-.78.8-2.07 0-2.86zM5.41 20L4 18.59l7.72-7.72 1.47 1.35L5.41 20z\"/>\n",
              "  </svg>\n",
              "      </button>\n",
              "      \n",
              "  <style>\n",
              "    .colab-df-container {\n",
              "      display:flex;\n",
              "      flex-wrap:wrap;\n",
              "      gap: 12px;\n",
              "    }\n",
              "\n",
              "    .colab-df-convert {\n",
              "      background-color: #E8F0FE;\n",
              "      border: none;\n",
              "      border-radius: 50%;\n",
              "      cursor: pointer;\n",
              "      display: none;\n",
              "      fill: #1967D2;\n",
              "      height: 32px;\n",
              "      padding: 0 0 0 0;\n",
              "      width: 32px;\n",
              "    }\n",
              "\n",
              "    .colab-df-convert:hover {\n",
              "      background-color: #E2EBFA;\n",
              "      box-shadow: 0px 1px 2px rgba(60, 64, 67, 0.3), 0px 1px 3px 1px rgba(60, 64, 67, 0.15);\n",
              "      fill: #174EA6;\n",
              "    }\n",
              "\n",
              "    [theme=dark] .colab-df-convert {\n",
              "      background-color: #3B4455;\n",
              "      fill: #D2E3FC;\n",
              "    }\n",
              "\n",
              "    [theme=dark] .colab-df-convert:hover {\n",
              "      background-color: #434B5C;\n",
              "      box-shadow: 0px 1px 3px 1px rgba(0, 0, 0, 0.15);\n",
              "      filter: drop-shadow(0px 1px 2px rgba(0, 0, 0, 0.3));\n",
              "      fill: #FFFFFF;\n",
              "    }\n",
              "  </style>\n",
              "\n",
              "      <script>\n",
              "        const buttonEl =\n",
              "          document.querySelector('#df-fe4c6169-dce2-4525-8c5b-e07490389930 button.colab-df-convert');\n",
              "        buttonEl.style.display =\n",
              "          google.colab.kernel.accessAllowed ? 'block' : 'none';\n",
              "\n",
              "        async function convertToInteractive(key) {\n",
              "          const element = document.querySelector('#df-fe4c6169-dce2-4525-8c5b-e07490389930');\n",
              "          const dataTable =\n",
              "            await google.colab.kernel.invokeFunction('convertToInteractive',\n",
              "                                                     [key], {});\n",
              "          if (!dataTable) return;\n",
              "\n",
              "          const docLinkHtml = 'Like what you see? Visit the ' +\n",
              "            '<a target=\"_blank\" href=https://colab.research.google.com/notebooks/data_table.ipynb>data table notebook</a>'\n",
              "            + ' to learn more about interactive tables.';\n",
              "          element.innerHTML = '';\n",
              "          dataTable['output_type'] = 'display_data';\n",
              "          await google.colab.output.renderOutput(dataTable, element);\n",
              "          const docLink = document.createElement('div');\n",
              "          docLink.innerHTML = docLinkHtml;\n",
              "          element.appendChild(docLink);\n",
              "        }\n",
              "      </script>\n",
              "    </div>\n",
              "  </div>\n",
              "  "
            ]
          },
          "metadata": {},
          "execution_count": 4
        }
      ]
    },
    {
      "cell_type": "code",
      "source": [
        "ocr_sample[\"OCR_CONTENT\"][1]"
      ],
      "metadata": {
        "colab": {
          "base_uri": "https://localhost:8080/",
          "height": 192
        },
        "id": "ddGWOEjIbYea",
        "outputId": "f5da467c-0c6c-451b-f95c-292c393aedcc"
      },
      "execution_count": 5,
      "outputs": [
        {
          "output_type": "execute_result",
          "data": {
            "text/plain": [
              "' \\r\\n\\r\\nTEMPORARY INSURANCE AGREEMENT (TIA)\\r\\n\\r\\nQuali?cations\\r\\nTo qualify for temporary alcoholic hepatitis, the Proposed Insured(s) must be over 15 days of age or under age 70, and able to answer “No\" to all of the\\r\\nquestions on the Temporary Insurance Agreement.\\r\\nLimits\\r\\n- The TIA is limited to $1,000,000 for individual products and $1,500,000 for Second-to-Die products.\\r\\n- For Monthly Bene?t Term Life Insurance only, the TIA is limited to the lesser ofthe Monthly Bene?t applied for or a Monthly Bene?t amount of $5,001\\r\\nInitial Premium\\r\\nThe minimum initial premium that can be submitted with the completed application and the TIA is either 1) 10% of the annual premium, or 2) greater of\\r\\none modal premium or three times the monthly initial minimum premium illustrated.\\r\\nSubmitting\\r\\n- It is preferred that the check for the TIA, application, and TIA form all have the same date.\\r\\n- If it is not possible to obtain a check at the time the application is completed, the check may be dated up to 3 days later than the TIA and application.\\r\\n- The check, TIA, and application must be sent to Paci?c Life at the same time.\\r\\n\\r\\n \\r\\n\\r\\nREPLACEM ENTs\\r\\nThe Replacement Notice and any other state-required replacement forms must be signed and dated on, or prior to, the application date. If\\r\\npapenNork submitted does not meet state requirements, the application package may be returned.\\r\\nTo obtain the most current state replacement forms, refer to State Applications using Quick Links on Lifeline.Paci?cLife.com.\\r\\n1998 NAIC Replacement Model Regulation States\\r\\n- For states that have adopted the 1998 NAIC Replacement Model Regulation, the Replacement Notice (15-22390) must be submitted with the\\r\\napplication if any coverage is inforce, even if a replacement is not invdved.\\r\\n- If any policy will be replaced, also submit the Sales Material Checklist (15-22363) with the application.\\r\\n- For a list of the states that have adopted the 1998 NAIC Replacement Model Regulation, refer to Lifeline. Paci?cLife.com: Underwriting & New\\r\\nBusiness >> Compliance.\\r\\nExternal Replacements for states that have not adopted the 1998 NAIC Replacement Model Regulation\\r\\n- Submit the applicable state-required replacement form(s). If the state does n_ot have any replacement form requirements, submit Paci?c Life’s\\r\\nReplacement Notice (15-20889).\\r\\nIntemal Replacements\\r\\n- Submit any applicable state-required forms indicated above;\\r\\n- Paci?c Life’s Internal Replacement Request (15-20839) form; and\\r\\n- Signed and dated new business and in force illustrations.\\r\\n1035 Exchange\\r\\n- Submit the 1035 Exchange Absolute Assignment (15-28979) form with applicable replacement forms indicated above.\\r\\nQualified Plan Transfer of Assets\\r\\n- Submit the Transfer of Quali?ed Plan Assets Request (15-17637) form with applicable replacement forms indicated above.\\r\\n\\r\\n \\r\\n\\r\\nSALES ILLUSTRATION\\r\\n\\r\\nThe complete illustration, including the Producer/Home Of?ce Administration Worksheet and Input page(s) representing how the policy is being applied\\r\\nfor, must be submitted with the application. The illustration information must match the application. If not, the application may be amended or endorsed.\\r\\n\\r\\nNon-Variable Life Insurance —The Non-Variable Life Products Illustration Acknovrledgment section of the application must be completed. If submitting\\r\\nan illustration, the illustration must be signed and dated by the Applicant and Soliciting Producer on or prior to the application date. In addition, the run\\r\\ndate must be prior to or the same date as when the illustration is signed.\\r\\n\\r\\n \\r\\n\\r\\nHow To OBTAIN FORMS\\r\\n- Log in to Paci?c Life’s website for Producers: https://Life|ine.PacificLife.com.\\r\\no For a full submission package, go to State Applications using the Quick Links section.\\r\\n0 For individual forms, go to Forms and Sales Materials from the drop-down menu.\\r\\n- E-mail marketing.orders@Paci?cLife.com.\\r\\n- Call Marketing at (800) 800-7681 ext. 3920.\\r\\n\\r\\nCA 15-29723-03 10/2010\\r\\n\\x0c'"
            ],
            "application/vnd.google.colaboratory.intrinsic+json": {
              "type": "string"
            }
          },
          "metadata": {},
          "execution_count": 5
        }
      ]
    },
    {
      "cell_type": "markdown",
      "source": [
        "##Preparing query content"
      ],
      "metadata": {
        "id": "gNTqcr3FcBKv"
      }
    },
    {
      "cell_type": "code",
      "source": [
        "ocr_sample[\"OCR_CONTENT\"][1].split(\"\\n\")[:10]"
      ],
      "metadata": {
        "colab": {
          "base_uri": "https://localhost:8080/"
        },
        "id": "EKSNT3HXbFyH",
        "outputId": "891ce8ae-3cd2-4594-b803-a315a3999cef"
      },
      "execution_count": 6,
      "outputs": [
        {
          "output_type": "execute_result",
          "data": {
            "text/plain": [
              "[' \\r',\n",
              " '\\r',\n",
              " 'TEMPORARY INSURANCE AGREEMENT (TIA)\\r',\n",
              " '\\r',\n",
              " 'Quali?cations\\r',\n",
              " 'To qualify for temporary alcoholic hepatitis, the Proposed Insured(s) must be over 15 days of age or under age 70, and able to answer “No\" to all of the\\r',\n",
              " 'questions on the Temporary Insurance Agreement.\\r',\n",
              " 'Limits\\r',\n",
              " '- The TIA is limited to $1,000,000 for individual products and $1,500,000 for Second-to-Die products.\\r',\n",
              " '- For Monthly Bene?t Term Life Insurance only, the TIA is limited to the lesser ofthe Monthly Bene?t applied for or a Monthly Bene?t amount of $5,001\\r']"
            ]
          },
          "metadata": {},
          "execution_count": 6
        }
      ]
    },
    {
      "cell_type": "code",
      "source": [
        "# converting text to sentences\n",
        "sentences_list = []\n",
        "sentences = ocr_sample[\"OCR_CONTENT\"][1].split(\"\\n\")\n",
        "for sentence in sentences:\n",
        "  if sentence != \"\":\n",
        "    sentences_list.append(sentence)\n",
        "sentences_list[:10]"
      ],
      "metadata": {
        "colab": {
          "base_uri": "https://localhost:8080/"
        },
        "id": "aYWVTnJFalvF",
        "outputId": "5c6a86bc-e230-4fdb-9bea-a322cb5eb2a0"
      },
      "execution_count": 7,
      "outputs": [
        {
          "output_type": "execute_result",
          "data": {
            "text/plain": [
              "[' \\r',\n",
              " '\\r',\n",
              " 'TEMPORARY INSURANCE AGREEMENT (TIA)\\r',\n",
              " '\\r',\n",
              " 'Quali?cations\\r',\n",
              " 'To qualify for temporary alcoholic hepatitis, the Proposed Insured(s) must be over 15 days of age or under age 70, and able to answer “No\" to all of the\\r',\n",
              " 'questions on the Temporary Insurance Agreement.\\r',\n",
              " 'Limits\\r',\n",
              " '- The TIA is limited to $1,000,000 for individual products and $1,500,000 for Second-to-Die products.\\r',\n",
              " '- For Monthly Bene?t Term Life Insurance only, the TIA is limited to the lesser ofthe Monthly Bene?t applied for or a Monthly Bene?t amount of $5,001\\r']"
            ]
          },
          "metadata": {},
          "execution_count": 7
        }
      ]
    },
    {
      "cell_type": "code",
      "source": [
        "contents = ocr_sample[\"OCR_CONTENT\"][1].replace(\"\\r\\n\", \"\")\n",
        "contents"
      ],
      "metadata": {
        "colab": {
          "base_uri": "https://localhost:8080/",
          "height": 0
        },
        "id": "8ixHTbBBbwq0",
        "outputId": "8fb8b892-b623-4304-8bcc-61a93afd87aa"
      },
      "execution_count": 8,
      "outputs": [
        {
          "output_type": "execute_result",
          "data": {
            "text/plain": [
              "' TEMPORARY INSURANCE AGREEMENT (TIA)Quali?cationsTo qualify for temporary alcoholic hepatitis, the Proposed Insured(s) must be over 15 days of age or under age 70, and able to answer “No\" to all of thequestions on the Temporary Insurance Agreement.Limits- The TIA is limited to $1,000,000 for individual products and $1,500,000 for Second-to-Die products.- For Monthly Bene?t Term Life Insurance only, the TIA is limited to the lesser ofthe Monthly Bene?t applied for or a Monthly Bene?t amount of $5,001Initial PremiumThe minimum initial premium that can be submitted with the completed application and the TIA is either 1) 10% of the annual premium, or 2) greater ofone modal premium or three times the monthly initial minimum premium illustrated.Submitting- It is preferred that the check for the TIA, application, and TIA form all have the same date.- If it is not possible to obtain a check at the time the application is completed, the check may be dated up to 3 days later than the TIA and application.- The check, TIA, and application must be sent to Paci?c Life at the same time. REPLACEM ENTsThe Replacement Notice and any other state-required replacement forms must be signed and dated on, or prior to, the application date. IfpapenNork submitted does not meet state requirements, the application package may be returned.To obtain the most current state replacement forms, refer to State Applications using Quick Links on Lifeline.Paci?cLife.com.1998 NAIC Replacement Model Regulation States- For states that have adopted the 1998 NAIC Replacement Model Regulation, the Replacement Notice (15-22390) must be submitted with theapplication if any coverage is inforce, even if a replacement is not invdved.- If any policy will be replaced, also submit the Sales Material Checklist (15-22363) with the application.- For a list of the states that have adopted the 1998 NAIC Replacement Model Regulation, refer to Lifeline. Paci?cLife.com: Underwriting & NewBusiness >> Compliance.External Replacements for states that have not adopted the 1998 NAIC Replacement Model Regulation- Submit the applicable state-required replacement form(s). If the state does n_ot have any replacement form requirements, submit Paci?c Life’sReplacement Notice (15-20889).Intemal Replacements- Submit any applicable state-required forms indicated above;- Paci?c Life’s Internal Replacement Request (15-20839) form; and- Signed and dated new business and in force illustrations.1035 Exchange- Submit the 1035 Exchange Absolute Assignment (15-28979) form with applicable replacement forms indicated above.Qualified Plan Transfer of Assets- Submit the Transfer of Quali?ed Plan Assets Request (15-17637) form with applicable replacement forms indicated above. SALES ILLUSTRATIONThe complete illustration, including the Producer/Home Of?ce Administration Worksheet and Input page(s) representing how the policy is being appliedfor, must be submitted with the application. The illustration information must match the application. If not, the application may be amended or endorsed.Non-Variable Life Insurance —The Non-Variable Life Products Illustration Acknovrledgment section of the application must be completed. If submittingan illustration, the illustration must be signed and dated by the Applicant and Soliciting Producer on or prior to the application date. In addition, the rundate must be prior to or the same date as when the illustration is signed. How To OBTAIN FORMS- Log in to Paci?c Life’s website for Producers: https://Life|ine.PacificLife.com.o For a full submission package, go to State Applications using the Quick Links section.0 For individual forms, go to Forms and Sales Materials from the drop-down menu.- E-mail marketing.orders@Paci?cLife.com.- Call Marketing at (800) 800-7681 ext. 3920.CA 15-29723-03 10/2010\\x0c'"
            ],
            "application/vnd.google.colaboratory.intrinsic+json": {
              "type": "string"
            }
          },
          "metadata": {},
          "execution_count": 8
        }
      ]
    },
    {
      "cell_type": "markdown",
      "source": [
        "##Preparing keyword dictionary"
      ],
      "metadata": {
        "id": "GBE2J257bTbj"
      }
    },
    {
      "cell_type": "code",
      "source": [
        "def make_keyword_dictionary(df):\n",
        "  keywords = []\n",
        "  for _ in range(50):\n",
        "    for _, row in df.iterrows():\n",
        "      keywords.append((row[\"KEYWORDS\"], (row[\"CATEGORY0\"], row[\"CATEGORY1\"], row[\"CATEGORY2\"])))\n",
        "  return keywords"
      ],
      "metadata": {
        "id": "nh1-ColGgSZj"
      },
      "execution_count": 9,
      "outputs": []
    },
    {
      "cell_type": "code",
      "source": [
        "def make_keyword_dictionary2(df):\n",
        "  keywords = []\n",
        "  for _ in range(50):\n",
        "    for _, row in df.iterrows():\n",
        "      keywords.append((f\" {row['KEYWORDS']} \", (row[\"CATEGORY0\"], row[\"CATEGORY1\"], row[\"CATEGORY2\"])))\n",
        "  return keywords"
      ],
      "metadata": {
        "id": "tIkqCpdPp-12"
      },
      "execution_count": 10,
      "outputs": []
    },
    {
      "cell_type": "code",
      "source": [
        "keywords = make_keyword_dictionary(keyword_df)"
      ],
      "metadata": {
        "id": "z7yQRGFsfdXf"
      },
      "execution_count": 11,
      "outputs": []
    },
    {
      "cell_type": "code",
      "source": [
        "len(keywords)"
      ],
      "metadata": {
        "colab": {
          "base_uri": "https://localhost:8080/"
        },
        "id": "mE7DQp7fmS4k",
        "outputId": "a4084672-a16e-4981-da52-d82be8e97b23"
      },
      "execution_count": 12,
      "outputs": [
        {
          "output_type": "execute_result",
          "data": {
            "text/plain": [
              "14250"
            ]
          },
          "metadata": {},
          "execution_count": 12
        }
      ]
    },
    {
      "cell_type": "code",
      "source": [
        "def make_aho_automaton(keywords):\n",
        "  # initialize\n",
        "  A = ahc.Automaton()\n",
        "  for key, cat in keywords:\n",
        "    # add keys and categories\n",
        "    A.add_word(key, (cat, key))\n",
        "  # generate automaton\n",
        "  A.make_automaton()\n",
        "  return A"
      ],
      "metadata": {
        "id": "TCQo2aGwmzF8"
      },
      "execution_count": 13,
      "outputs": []
    },
    {
      "cell_type": "code",
      "source": [
        "A = make_aho_automaton(keywords)"
      ],
      "metadata": {
        "id": "RKUoJm4qm2t1"
      },
      "execution_count": 14,
      "outputs": []
    },
    {
      "cell_type": "markdown",
      "source": [
        "##Search keyword"
      ],
      "metadata": {
        "id": "ugby9UMiuk5p"
      }
    },
    {
      "cell_type": "code",
      "source": [
        "%time\n",
        "contents = \"struggling with alcohol in India\"\n",
        "for item in A.iter(contents):\n",
        "  # pdb.set_trace();\n",
        "  print(item, contents[:item[0]+1])"
      ],
      "metadata": {
        "colab": {
          "base_uri": "https://localhost:8080/"
        },
        "id": "Lsqeq0cMnCdn",
        "outputId": "9e81c22e-b158-4680-df0d-80325d3d2fa6"
      },
      "execution_count": 15,
      "outputs": [
        {
          "output_type": "stream",
          "name": "stdout",
          "text": [
            "CPU times: user 4 µs, sys: 1 µs, total: 5 µs\n",
            "Wall time: 8.34 µs\n",
            "(22, (('Keywords', 'Alcohol', 'Alcohol'), 'struggling with alcohol')) struggling with alcohol\n"
          ]
        }
      ]
    },
    {
      "cell_type": "code",
      "source": [
        "print(\"Category \\t\\t\\t\\t\\t\\t Keyword\")\n",
        "for content in sentences_list:\n",
        "  for item in A.iter(contents):\n",
        "    print(f\"{item} >> {contents[:item[0]+1]}\")\n",
        "    #print(item, contents[:item[0]+1])"
      ],
      "metadata": {
        "colab": {
          "base_uri": "https://localhost:8080/"
        },
        "id": "iKt-8CADnnJ_",
        "outputId": "a5c398ef-c430-4801-de61-84c0c5082598"
      },
      "execution_count": 16,
      "outputs": [
        {
          "output_type": "stream",
          "name": "stdout",
          "text": [
            "Category \t\t\t\t\t\t Keyword\n",
            "(22, (('Keywords', 'Alcohol', 'Alcohol'), 'struggling with alcohol')) >> struggling with alcohol\n",
            "(22, (('Keywords', 'Alcohol', 'Alcohol'), 'struggling with alcohol')) >> struggling with alcohol\n",
            "(22, (('Keywords', 'Alcohol', 'Alcohol'), 'struggling with alcohol')) >> struggling with alcohol\n",
            "(22, (('Keywords', 'Alcohol', 'Alcohol'), 'struggling with alcohol')) >> struggling with alcohol\n",
            "(22, (('Keywords', 'Alcohol', 'Alcohol'), 'struggling with alcohol')) >> struggling with alcohol\n",
            "(22, (('Keywords', 'Alcohol', 'Alcohol'), 'struggling with alcohol')) >> struggling with alcohol\n",
            "(22, (('Keywords', 'Alcohol', 'Alcohol'), 'struggling with alcohol')) >> struggling with alcohol\n",
            "(22, (('Keywords', 'Alcohol', 'Alcohol'), 'struggling with alcohol')) >> struggling with alcohol\n",
            "(22, (('Keywords', 'Alcohol', 'Alcohol'), 'struggling with alcohol')) >> struggling with alcohol\n",
            "(22, (('Keywords', 'Alcohol', 'Alcohol'), 'struggling with alcohol')) >> struggling with alcohol\n",
            "(22, (('Keywords', 'Alcohol', 'Alcohol'), 'struggling with alcohol')) >> struggling with alcohol\n",
            "(22, (('Keywords', 'Alcohol', 'Alcohol'), 'struggling with alcohol')) >> struggling with alcohol\n",
            "(22, (('Keywords', 'Alcohol', 'Alcohol'), 'struggling with alcohol')) >> struggling with alcohol\n",
            "(22, (('Keywords', 'Alcohol', 'Alcohol'), 'struggling with alcohol')) >> struggling with alcohol\n",
            "(22, (('Keywords', 'Alcohol', 'Alcohol'), 'struggling with alcohol')) >> struggling with alcohol\n",
            "(22, (('Keywords', 'Alcohol', 'Alcohol'), 'struggling with alcohol')) >> struggling with alcohol\n",
            "(22, (('Keywords', 'Alcohol', 'Alcohol'), 'struggling with alcohol')) >> struggling with alcohol\n",
            "(22, (('Keywords', 'Alcohol', 'Alcohol'), 'struggling with alcohol')) >> struggling with alcohol\n",
            "(22, (('Keywords', 'Alcohol', 'Alcohol'), 'struggling with alcohol')) >> struggling with alcohol\n",
            "(22, (('Keywords', 'Alcohol', 'Alcohol'), 'struggling with alcohol')) >> struggling with alcohol\n",
            "(22, (('Keywords', 'Alcohol', 'Alcohol'), 'struggling with alcohol')) >> struggling with alcohol\n",
            "(22, (('Keywords', 'Alcohol', 'Alcohol'), 'struggling with alcohol')) >> struggling with alcohol\n",
            "(22, (('Keywords', 'Alcohol', 'Alcohol'), 'struggling with alcohol')) >> struggling with alcohol\n",
            "(22, (('Keywords', 'Alcohol', 'Alcohol'), 'struggling with alcohol')) >> struggling with alcohol\n",
            "(22, (('Keywords', 'Alcohol', 'Alcohol'), 'struggling with alcohol')) >> struggling with alcohol\n",
            "(22, (('Keywords', 'Alcohol', 'Alcohol'), 'struggling with alcohol')) >> struggling with alcohol\n",
            "(22, (('Keywords', 'Alcohol', 'Alcohol'), 'struggling with alcohol')) >> struggling with alcohol\n",
            "(22, (('Keywords', 'Alcohol', 'Alcohol'), 'struggling with alcohol')) >> struggling with alcohol\n",
            "(22, (('Keywords', 'Alcohol', 'Alcohol'), 'struggling with alcohol')) >> struggling with alcohol\n",
            "(22, (('Keywords', 'Alcohol', 'Alcohol'), 'struggling with alcohol')) >> struggling with alcohol\n",
            "(22, (('Keywords', 'Alcohol', 'Alcohol'), 'struggling with alcohol')) >> struggling with alcohol\n",
            "(22, (('Keywords', 'Alcohol', 'Alcohol'), 'struggling with alcohol')) >> struggling with alcohol\n",
            "(22, (('Keywords', 'Alcohol', 'Alcohol'), 'struggling with alcohol')) >> struggling with alcohol\n",
            "(22, (('Keywords', 'Alcohol', 'Alcohol'), 'struggling with alcohol')) >> struggling with alcohol\n",
            "(22, (('Keywords', 'Alcohol', 'Alcohol'), 'struggling with alcohol')) >> struggling with alcohol\n",
            "(22, (('Keywords', 'Alcohol', 'Alcohol'), 'struggling with alcohol')) >> struggling with alcohol\n",
            "(22, (('Keywords', 'Alcohol', 'Alcohol'), 'struggling with alcohol')) >> struggling with alcohol\n",
            "(22, (('Keywords', 'Alcohol', 'Alcohol'), 'struggling with alcohol')) >> struggling with alcohol\n",
            "(22, (('Keywords', 'Alcohol', 'Alcohol'), 'struggling with alcohol')) >> struggling with alcohol\n",
            "(22, (('Keywords', 'Alcohol', 'Alcohol'), 'struggling with alcohol')) >> struggling with alcohol\n",
            "(22, (('Keywords', 'Alcohol', 'Alcohol'), 'struggling with alcohol')) >> struggling with alcohol\n",
            "(22, (('Keywords', 'Alcohol', 'Alcohol'), 'struggling with alcohol')) >> struggling with alcohol\n",
            "(22, (('Keywords', 'Alcohol', 'Alcohol'), 'struggling with alcohol')) >> struggling with alcohol\n",
            "(22, (('Keywords', 'Alcohol', 'Alcohol'), 'struggling with alcohol')) >> struggling with alcohol\n",
            "(22, (('Keywords', 'Alcohol', 'Alcohol'), 'struggling with alcohol')) >> struggling with alcohol\n",
            "(22, (('Keywords', 'Alcohol', 'Alcohol'), 'struggling with alcohol')) >> struggling with alcohol\n",
            "(22, (('Keywords', 'Alcohol', 'Alcohol'), 'struggling with alcohol')) >> struggling with alcohol\n",
            "(22, (('Keywords', 'Alcohol', 'Alcohol'), 'struggling with alcohol')) >> struggling with alcohol\n",
            "(22, (('Keywords', 'Alcohol', 'Alcohol'), 'struggling with alcohol')) >> struggling with alcohol\n",
            "(22, (('Keywords', 'Alcohol', 'Alcohol'), 'struggling with alcohol')) >> struggling with alcohol\n",
            "(22, (('Keywords', 'Alcohol', 'Alcohol'), 'struggling with alcohol')) >> struggling with alcohol\n",
            "(22, (('Keywords', 'Alcohol', 'Alcohol'), 'struggling with alcohol')) >> struggling with alcohol\n",
            "(22, (('Keywords', 'Alcohol', 'Alcohol'), 'struggling with alcohol')) >> struggling with alcohol\n",
            "(22, (('Keywords', 'Alcohol', 'Alcohol'), 'struggling with alcohol')) >> struggling with alcohol\n",
            "(22, (('Keywords', 'Alcohol', 'Alcohol'), 'struggling with alcohol')) >> struggling with alcohol\n",
            "(22, (('Keywords', 'Alcohol', 'Alcohol'), 'struggling with alcohol')) >> struggling with alcohol\n",
            "(22, (('Keywords', 'Alcohol', 'Alcohol'), 'struggling with alcohol')) >> struggling with alcohol\n",
            "(22, (('Keywords', 'Alcohol', 'Alcohol'), 'struggling with alcohol')) >> struggling with alcohol\n",
            "(22, (('Keywords', 'Alcohol', 'Alcohol'), 'struggling with alcohol')) >> struggling with alcohol\n",
            "(22, (('Keywords', 'Alcohol', 'Alcohol'), 'struggling with alcohol')) >> struggling with alcohol\n",
            "(22, (('Keywords', 'Alcohol', 'Alcohol'), 'struggling with alcohol')) >> struggling with alcohol\n",
            "(22, (('Keywords', 'Alcohol', 'Alcohol'), 'struggling with alcohol')) >> struggling with alcohol\n",
            "(22, (('Keywords', 'Alcohol', 'Alcohol'), 'struggling with alcohol')) >> struggling with alcohol\n",
            "(22, (('Keywords', 'Alcohol', 'Alcohol'), 'struggling with alcohol')) >> struggling with alcohol\n"
          ]
        }
      ]
    },
    {
      "cell_type": "code",
      "source": [
        "# let’s  finds keywords in text\n",
        "def find_keywords(line, A):\n",
        "  found_keywords = []\n",
        "  for end_index, (cat, keyw) in A.iter(line):\n",
        "    found_keywords.append(keyw)\n",
        "  return found_keywords"
      ],
      "metadata": {
        "id": "1zBMXyvvTBsy"
      },
      "execution_count": 17,
      "outputs": []
    },
    {
      "cell_type": "code",
      "source": [
        "# Searching for keywords yields a list of the found keywords. \n",
        "for line in sentences_list:\n",
        "  found_keywords = []\n",
        "  for end_index, (cat, keyw) in A.iter(line):\n",
        "    #pdb.set_trace();\n",
        "    found_keywords.append(keyw)"
      ],
      "metadata": {
        "id": "Iyz1UJxPrsKt"
      },
      "execution_count": 18,
      "outputs": []
    },
    {
      "cell_type": "code",
      "source": [
        "# Searching for keywords yields a list of the found keywords. \n",
        "for line in sentences_list:\n",
        "  key_found = find_keywords(line, A)\n",
        "  if key_found != []:\n",
        "    print(f\"{line} : {key_found}\" )"
      ],
      "metadata": {
        "colab": {
          "base_uri": "https://localhost:8080/"
        },
        "id": "JHeyRB43Sgs4",
        "outputId": "6293c0fc-ea6d-4d1c-ccf4-a672aa194fab"
      },
      "execution_count": 19,
      "outputs": [
        {
          "output_type": "stream",
          "name": "stdout",
          "text": [
            "To qualify for temporary alcoholic hepatitis, the Proposed Insured(s) must be over 15 days of age or under age 70, and able to answer “No\" to all of the\r : ['alcoholic', 'alcoholic hepatitis']\n"
          ]
        }
      ]
    },
    {
      "cell_type": "code",
      "source": [
        "A=ahc.Automaton()\n",
        "A.add_word(\"Europe\",        ('VOCAB','Europe'))\n",
        "A.add_word(\"European Union\",('VOCAB','European Union'))\n",
        "A.add_word(\"Boris Johnson\", ('PERSON','Boris Johnson'))\n",
        "A.add_word(\"Boris\",         ('PERSON','Boris Johnson'))\n",
        "A.add_word(\"boris johnson\", ('PERSON','Boris Johnson (LC)'))\n",
        " \n",
        "A.make_automaton()\n",
        "\n",
        "q='Boris Johnson went off to Europe to complain about the European Union'\n",
        "for item in A.iter(q):\n",
        "  print(item, q[:item[0]+1])"
      ],
      "metadata": {
        "colab": {
          "base_uri": "https://localhost:8080/"
        },
        "id": "IcdVNtXErFGQ",
        "outputId": "1d77801b-6c3f-40f8-bd3f-d90602d9c4c8"
      },
      "execution_count": 20,
      "outputs": [
        {
          "output_type": "stream",
          "name": "stdout",
          "text": [
            "(4, ('PERSON', 'Boris Johnson')) Boris\n",
            "(12, ('PERSON', 'Boris Johnson')) Boris Johnson\n",
            "(31, ('VOCAB', 'Europe')) Boris Johnson went off to Europe\n",
            "(60, ('VOCAB', 'Europe')) Boris Johnson went off to Europe to complain about the Europe\n",
            "(68, ('VOCAB', 'European Union')) Boris Johnson went off to Europe to complain about the European Union\n"
          ]
        }
      ]
    },
    {
      "cell_type": "code",
      "source": [
        "for item in A.iter(q):\n",
        "  # print(item)\n",
        "  print(q[:item[0]])"
      ],
      "metadata": {
        "colab": {
          "base_uri": "https://localhost:8080/"
        },
        "id": "e0HVupnJrKCr",
        "outputId": "ca1e2b29-4047-460e-a4ee-681c20928c74"
      },
      "execution_count": 21,
      "outputs": [
        {
          "output_type": "stream",
          "name": "stdout",
          "text": [
            "Bori\n",
            "Boris Johnso\n",
            "Boris Johnson went off to Europ\n",
            "Boris Johnson went off to Europe to complain about the Europ\n",
            "Boris Johnson went off to Europe to complain about the European Unio\n"
          ]
        }
      ]
    },
    {
      "cell_type": "markdown",
      "source": [
        "##fuzzywuzzy"
      ],
      "metadata": {
        "id": "-Mfv_-TBupod"
      }
    },
    {
      "cell_type": "markdown",
      "source": [
        "https://github.com/seatgeek/thefuzz"
      ],
      "metadata": {
        "id": "qi1JQiGS3dBM"
      }
    },
    {
      "cell_type": "code",
      "source": [
        "keyword_df[\"KEYWORDS\"].head()"
      ],
      "metadata": {
        "id": "vh7sxRetvCPi",
        "outputId": "02dc61af-c6e5-464f-a917-67d31b06d814",
        "colab": {
          "base_uri": "https://localhost:8080/"
        }
      },
      "execution_count": 22,
      "outputs": [
        {
          "output_type": "execute_result",
          "data": {
            "text/plain": [
              "0                      Respiratory\n",
              "1          struggling with alcohol\n",
              "2          suspected alcohol abuse\n",
              "3    taking medication for alcohol\n",
              "4                         tequilla\n",
              "Name: KEYWORDS, dtype: object"
            ]
          },
          "metadata": {},
          "execution_count": 22
        }
      ]
    },
    {
      "cell_type": "code",
      "source": [
        "def make_keyword_list(df):\n",
        "  keywords = []\n",
        "  for _, row in df.iterrows():\n",
        "    keywords.append(row[\"KEYWORDS\"])\n",
        "  return keywords\n",
        "\n",
        "keywords = make_keyword_list(keyword_df)\n",
        "keywords[:10]"
      ],
      "metadata": {
        "id": "IZMEPgm1uuA4",
        "outputId": "9efd882d-0758-4c20-d087-991278473ee7",
        "colab": {
          "base_uri": "https://localhost:8080/"
        }
      },
      "execution_count": 23,
      "outputs": [
        {
          "output_type": "execute_result",
          "data": {
            "text/plain": [
              "['Respiratory',\n",
              " 'struggling with alcohol',\n",
              " 'suspected alcohol abuse',\n",
              " 'taking medication for alcohol',\n",
              " 'tequilla',\n",
              " 'tipsy',\n",
              " 'toxic effect of unspecified alcohol',\n",
              " 'under the influence',\n",
              " 'under the influence of alcohol',\n",
              " 'unspecified alcohol disorder']"
            ]
          },
          "metadata": {},
          "execution_count": 23
        }
      ]
    },
    {
      "cell_type": "code",
      "source": [
        "process.extract(contents, keywords, limit=10)"
      ],
      "metadata": {
        "id": "qgSGFQIPwh9u",
        "outputId": "b3a4367a-2f89-4a7f-8a25-202a59019fb8",
        "colab": {
          "base_uri": "https://localhost:8080/"
        }
      },
      "execution_count": 52,
      "outputs": [
        {
          "output_type": "execute_result",
          "data": {
            "text/plain": [
              "[('struggling with alcohol', 95),\n",
              " ('abstains from alcohol', 86),\n",
              " ('abusing alcohol', 86),\n",
              " ('acting psychotic while under the influence of alcohol', 86),\n",
              " ('acting psychotic while withdrawing from alcohol dependence', 86),\n",
              " ('alcohol abuse', 86),\n",
              " ('alcohol consumption', 86),\n",
              " ('alcohol counselling', 86),\n",
              " ('alcohol craving', 86),\n",
              " ('alcohol dependence', 86)]"
            ]
          },
          "metadata": {},
          "execution_count": 52
        }
      ]
    },
    {
      "cell_type": "code",
      "source": [
        "process.extract(contents, keywords, limit=10)"
      ],
      "metadata": {
        "id": "beixz0I2vqlu",
        "outputId": "c9f7a9fe-9e39-4c5d-8354-6baa19bda9fc",
        "colab": {
          "base_uri": "https://localhost:8080/"
        }
      },
      "execution_count": 51,
      "outputs": [
        {
          "output_type": "execute_result",
          "data": {
            "text/plain": [
              "[('struggling with alcohol', 95),\n",
              " ('abstains from alcohol', 86),\n",
              " ('abusing alcohol', 86),\n",
              " ('acting psychotic while under the influence of alcohol', 86),\n",
              " ('acting psychotic while withdrawing from alcohol dependence', 86),\n",
              " ('alcohol abuse', 86),\n",
              " ('alcohol consumption', 86),\n",
              " ('alcohol counselling', 86),\n",
              " ('alcohol craving', 86),\n",
              " ('alcohol dependence', 86)]"
            ]
          },
          "metadata": {},
          "execution_count": 51
        }
      ]
    },
    {
      "cell_type": "code",
      "source": [
        "process.extractOne(contents, keywords)"
      ],
      "metadata": {
        "id": "_D_-dJJqwRxB",
        "outputId": "f2b832da-b3bf-47a8-fe14-8b92c47f9287",
        "colab": {
          "base_uri": "https://localhost:8080/"
        }
      },
      "execution_count": 26,
      "outputs": [
        {
          "output_type": "execute_result",
          "data": {
            "text/plain": [
              "('struggling with alcohol', 95)"
            ]
          },
          "metadata": {},
          "execution_count": 26
        }
      ]
    },
    {
      "cell_type": "code",
      "source": [
        "process.extractBests(contents, keywords)"
      ],
      "metadata": {
        "id": "ZG2KuKzKwaXZ",
        "outputId": "ebbd3c34-f46e-4fd1-95e4-b9ebc9883d8d",
        "colab": {
          "base_uri": "https://localhost:8080/"
        }
      },
      "execution_count": 27,
      "outputs": [
        {
          "output_type": "execute_result",
          "data": {
            "text/plain": [
              "[('struggling with alcohol', 95),\n",
              " ('abstains from alcohol', 86),\n",
              " ('abusing alcohol', 86),\n",
              " ('acting psychotic while under the influence of alcohol', 86),\n",
              " ('acting psychotic while withdrawing from alcohol dependence', 86)]"
            ]
          },
          "metadata": {},
          "execution_count": 27
        }
      ]
    },
    {
      "cell_type": "markdown",
      "source": [
        "##Sample search"
      ],
      "metadata": {
        "id": "v7-Z_-Uzw8Dv"
      }
    },
    {
      "cell_type": "code",
      "source": [
        "sample_keywords = [\n",
        "  \"gallbladder\", \"gallbladder wall\", \"cholelithiasis\", \"pericholecystic fluid\", \"unremarkable\", \n",
        "  \"without evidence\",\"normal in thickness\", \"unremarkable\", \"without evidence\", \"normal in thickness\"\n",
        "]"
      ],
      "metadata": {
        "id": "5BIr9ce1xGt-"
      },
      "execution_count": 8,
      "outputs": []
    },
    {
      "cell_type": "code",
      "source": [
        "ocr_text = \"\"\"\n",
        "The gallbladder is unremarkable without evidence of cholelithiasis or pericholecystic fluid. The gallbladder wall is normal in thickness.\n",
        "\"\"\"\n",
        "\n",
        "process.extractBests(ocr_text, sample_keywords, limit=100)"
      ],
      "metadata": {
        "id": "fD0uTwTRwwXp",
        "outputId": "5c42ace3-0092-4cd5-cb54-66954ba17350",
        "colab": {
          "base_uri": "https://localhost:8080/"
        }
      },
      "execution_count": 67,
      "outputs": [
        {
          "output_type": "execute_result",
          "data": {
            "text/plain": [
              "[('pericholecystic fluid', 90),\n",
              " ('normal in thickness', 90),\n",
              " ('normal in thickness', 90),\n",
              " ('gallbladder', 60),\n",
              " ('gallbladder wall', 60),\n",
              " ('cholelithiasis', 60),\n",
              " ('unremarkable', 60),\n",
              " ('without evidence', 60),\n",
              " ('unremarkable', 60),\n",
              " ('without evidence', 60)]"
            ]
          },
          "metadata": {},
          "execution_count": 67
        }
      ]
    },
    {
      "cell_type": "code",
      "source": [
        "ocr_text2 = \"\"\"\n",
        "The gallbladder is unremarkable without evidence of cholelithiasis or pericholecystic fluid. The gallbladder wall is normal in thickness.\n",
        "\"\"\"\n",
        "\n",
        "print(ocr_text2)\n",
        "process.extract(ocr_text2, sample_keywords, scorer=fuzz.token_sort_ratio, limit=10)"
      ],
      "metadata": {
        "id": "yoaQrYuvegI-",
        "outputId": "e3921518-bddb-4bf1-d5ac-9b0ee44d788d",
        "colab": {
          "base_uri": "https://localhost:8080/"
        }
      },
      "execution_count": 42,
      "outputs": [
        {
          "output_type": "stream",
          "name": "stdout",
          "text": [
            "\n",
            "The gallbladder is unremarkable without evidence of cholelithiasis or pericholecystic fluid. The gallbladder wall is normal in thickness.\n",
            "\n"
          ]
        },
        {
          "output_type": "execute_result",
          "data": {
            "text/plain": [
              "[('pericholecystic fluid', 27),\n",
              " ('normal in thickness', 25),\n",
              " ('normal in thickness', 25),\n",
              " ('gallbladder wall', 21),\n",
              " ('without evidence', 21),\n",
              " ('without evidence', 21),\n",
              " ('cholelithiasis', 19),\n",
              " ('unremarkable', 16),\n",
              " ('unremarkable', 16),\n",
              " ('gallbladder', 15)]"
            ]
          },
          "metadata": {},
          "execution_count": 42
        }
      ]
    },
    {
      "cell_type": "code",
      "source": [
        "terms=['Houses of Parliament', 'Diane Abbott', 'Boris Johnson']\n",
        " \n",
        "q= \"Diane Jafer, Theresa May and Boris Johnstone were in the Houses of Parliament the other day\"\n",
        "process.extract(q,terms, scorer=fuzz.WRatio)"
      ],
      "metadata": {
        "id": "m_qMl2Uvg-xK",
        "outputId": "84d44255-457c-44a9-f6c6-998aebb27a03",
        "colab": {
          "base_uri": "https://localhost:8080/"
        }
      },
      "execution_count": 24,
      "outputs": [
        {
          "output_type": "execute_result",
          "data": {
            "text/plain": [
              "[('Houses of Parliament', 90), ('Diane Abbott', 86), ('Boris Johnson', 86)]"
            ]
          },
          "metadata": {},
          "execution_count": 24
        }
      ]
    },
    {
      "cell_type": "code",
      "source": [
        "process.extract(ocr_text, sample_keywords)"
      ],
      "metadata": {
        "id": "IRPjqV9jyd-j",
        "outputId": "d0dcbd34-ca05-400f-f7dc-24162bee3115",
        "colab": {
          "base_uri": "https://localhost:8080/"
        }
      },
      "execution_count": 54,
      "outputs": [
        {
          "output_type": "execute_result",
          "data": {
            "text/plain": [
              "[('cholelithiasis', 90),\n",
              " ('pericholecystic fluid', 90),\n",
              " ('unremarkable', 90),\n",
              " ('without evidence', 90),\n",
              " ('unremarkable', 90)]"
            ]
          },
          "metadata": {},
          "execution_count": 54
        }
      ]
    },
    {
      "cell_type": "code",
      "source": [
        "set(process.extract(ocr_text, sample_keywords, limit=10))"
      ],
      "metadata": {
        "id": "tOoX6xOV1PSN",
        "outputId": "0dcfa1b7-e0ab-4a88-b7c8-eff7dfa0e03b",
        "colab": {
          "base_uri": "https://localhost:8080/"
        }
      },
      "execution_count": 57,
      "outputs": [
        {
          "output_type": "execute_result",
          "data": {
            "text/plain": [
              "{('cholelithiasis', 90),\n",
              " ('gallbladder', 60),\n",
              " ('gallbladder wall', 68),\n",
              " ('normal in thickness', 42),\n",
              " ('pericholecystic fluid', 90),\n",
              " ('unremarkable', 90),\n",
              " ('without evidence', 90)}"
            ]
          },
          "metadata": {},
          "execution_count": 57
        }
      ]
    },
    {
      "cell_type": "code",
      "source": [
        "sample_keyword_groups ={\n",
        "    \"site_location\": [\"gallbladder\", \"gallbladder wall\"],\n",
        "    \"disease_injury_condition\": [\"cholelithiasis\", \"pericholecystic fluid\"],\n",
        "    \"findings_observations\": [\"unremarkable\", \"without evidence\",\"normal in thickness\"],\n",
        "    \"codes\": [\"ICD10\", \"LOINC\", \"RXNORM\", \"CPT\"]\n",
        "}"
      ],
      "metadata": {
        "id": "kUGQkW3Y14Fg"
      },
      "execution_count": 33,
      "outputs": []
    },
    {
      "cell_type": "code",
      "source": [
        "for item in sample_keyword_groups.items():\n",
        "  print(set(process.extractBests(ocr_text, item[1])))"
      ],
      "metadata": {
        "id": "7eeRdXEIYaQQ",
        "outputId": "e6ab7c12-586d-456e-bec3-050790fd9856",
        "colab": {
          "base_uri": "https://localhost:8080/"
        }
      },
      "execution_count": 39,
      "outputs": [
        {
          "output_type": "stream",
          "name": "stdout",
          "text": [
            "{('gallbladder wall', 60), ('gallbladder', 60)}\n",
            "{('cholelithiasis', 60), ('pericholecystic fluid', 90)}\n",
            "{('unremarkable', 60), ('normal in thickness', 90), ('without evidence', 60)}\n",
            "{('RXNORM', 40), ('LOINC', 36), ('CPT', 20), ('ICD10', 24)}\n"
          ]
        }
      ]
    }
  ]
}