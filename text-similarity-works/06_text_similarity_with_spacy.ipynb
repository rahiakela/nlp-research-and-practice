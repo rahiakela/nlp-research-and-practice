{
  "nbformat": 4,
  "nbformat_minor": 0,
  "metadata": {
    "colab": {
      "provenance": [],
      "toc_visible": true,
      "authorship_tag": "ABX9TyNHkDuedKZd3/IvFsqHVow1",
      "include_colab_link": true
    },
    "kernelspec": {
      "name": "python3",
      "display_name": "Python 3"
    },
    "language_info": {
      "name": "python"
    },
    "accelerator": "GPU"
  },
  "cells": [
    {
      "cell_type": "markdown",
      "metadata": {
        "id": "view-in-github",
        "colab_type": "text"
      },
      "source": [
        "<a href=\"https://colab.research.google.com/github/rahiakela/natural-language-processing-research-and-practice/blob/main/text-similarity-works/06_text_similarity_with_spacy.ipynb\" target=\"_parent\"><img src=\"https://colab.research.google.com/assets/colab-badge.svg\" alt=\"Open In Colab\"/></a>"
      ]
    },
    {
      "cell_type": "markdown",
      "source": [
        "##Setup"
      ],
      "metadata": {
        "id": "73ORkeFzaRA4"
      }
    },
    {
      "cell_type": "code",
      "source": [
        "!pip -q install spacy\n",
        "!python -m spacy download en_core_web_sm"
      ],
      "metadata": {
        "id": "Ti6ZynbyaR9l"
      },
      "execution_count": null,
      "outputs": []
    },
    {
      "cell_type": "code",
      "source": [
        "!pip -q install beautifulsoup4"
      ],
      "metadata": {
        "id": "QSugFzUlXQZ2"
      },
      "execution_count": null,
      "outputs": []
    },
    {
      "cell_type": "code",
      "source": [
        "import pandas as pd\n",
        "import numpy as np\n",
        "import re\n",
        "import time\n",
        "import os\n",
        "\n",
        "import pdb\n",
        "\n",
        "import spacy\n",
        "from spacy.matcher import PhraseMatcher\n",
        "\n",
        "import bs4 as bs  \n",
        "import urllib.request \n",
        "import nltk"
      ],
      "metadata": {
        "id": "fAcHTn0JaM2S"
      },
      "execution_count": 3,
      "outputs": []
    },
    {
      "cell_type": "markdown",
      "source": [
        "##Spacy phrase matcher"
      ],
      "metadata": {
        "id": "JDPjyEajYcLI"
      }
    },
    {
      "cell_type": "markdown",
      "source": [
        "Reference:\n",
        "\n",
        "https://stackabuse.com/python-for-nlp-vocabulary-and-phrase-matching-with-spacy/"
      ],
      "metadata": {
        "id": "R6AuvuA0Yjfw"
      }
    },
    {
      "cell_type": "markdown",
      "source": [
        "###Scraping data"
      ],
      "metadata": {
        "id": "azaGTBdNv2c-"
      }
    },
    {
      "cell_type": "code",
      "source": [
        "scrapped_data = urllib.request.urlopen('https://en.wikipedia.org/wiki/Artificial_intelligence')  \n",
        "article = scrapped_data.read()\n",
        "\n",
        "parsed_article = bs.BeautifulSoup(article,'lxml')\n",
        "\n",
        "paragraphs = parsed_article.find_all('p')\n",
        "\n",
        "article_text = \"\"\n",
        "\n",
        "for p in paragraphs:  \n",
        "  article_text += p.text\n",
        "    \n",
        "processed_article = article_text.lower()  \n",
        "processed_article = re.sub('[^a-zA-Z]', ' ', processed_article )  \n",
        "processed_article = re.sub(r'\\s+', ' ', processed_article)"
      ],
      "metadata": {
        "id": "rumWt5nFXpta"
      },
      "execution_count": 4,
      "outputs": []
    },
    {
      "cell_type": "code",
      "source": [
        "processed_article"
      ],
      "metadata": {
        "colab": {
          "base_uri": "https://localhost:8080/",
          "height": 192
        },
        "id": "EuMLFwUXX8mW",
        "outputId": "f0d73dc6-d882-4ddc-c57b-7e843334f36a"
      },
      "execution_count": 5,
      "outputs": [
        {
          "output_type": "execute_result",
          "data": {
            "text/plain": [
              "' artificial intelligence ai is intelligence demonstrated by machines as opposed to the natural intelligence displayed by animals and humans ai research has been defined as the field of study of intelligent agents which refers to any system that perceives its environment and takes actions that maximize its chance of achieving its goals a the term artificial intelligence had previously been used to describe machines that mimic and display human cognitive skills that are associated with the human mind such as learning and problem solving this definition has since been rejected by major ai researchers who now describe ai in terms of rationality and acting rationally which does not limit how intelligence can be articulated b ai applications include advanced web search engines e g google recommendation systems used by youtube amazon and netflix understanding human speech such as siri and alexa self driving cars e g tesla automated decision making and competing at the highest level in strategic game systems such as chess and go as machines become increasingly capable tasks considered to require intelligence are often removed from the definition of ai a phenomenon known as the ai effect for instance optical character recognition is frequently excluded from things considered to be ai having become a routine technology artificial intelligence was founded as an academic discipline in and in the years since has experienced several waves of optimism followed by disappointment and the loss of funding known as an ai winter followed by new approaches success and renewed funding ai research has tried and discarded many different approaches since its founding including simulating the brain modeling human problem solving formal logic large databases of knowledge and imitating animal behavior in the first decades of the st century highly mathematical statistical machine learning has dominated the field and this technique has proved highly successful helping to solve many challenging problems throughout industry and academia the various sub fields of ai research are centered around particular goals and the use of particular tools the traditional goals of ai research include reasoning knowledge representation planning learning natural language processing perception and the ability to move and manipulate objects c general intelligence the ability to solve an arbitrary problem is among the field s long term goals to solve these problems ai researchers have adapted and integrated a wide range of problem solving techniques including search and mathematical optimization formal logic artificial neural networks and methods based on statistics probability and economics ai also draws upon computer science psychology linguistics philosophy and many other fields the field was founded on the assumption that human intelligence can be so precisely described that a machine can be made to simulate it d this raised philosophical arguments about the mind and the ethical consequences of creating artificial beings endowed with human like intelligence these issues have previously been explored by myth fiction and philosophy since antiquity computer scientists and philosophers have since suggested that ai may become an existential risk to humanity if its rational capacities are not steered towards beneficial goals e artificial beings with intelligence appeared as storytelling devices in antiquity and have been common in fiction as in mary shelley s frankenstein or karel apek s r u r these characters and their fates raised many of the same issues now discussed in the ethics of artificial intelligence the study of mechanical or formal reasoning began with philosophers and mathematicians in antiquity the study of mathematical logic led directly to alan turing s theory of computation which suggested that a machine by shuffling symbols as simple as and could simulate any conceivable act of mathematical deduction this insight that digital computers can simulate any process of formal reasoning is known as the church turing thesis this along with concurrent discoveries in neurobiology information theory and cybernetics led researchers to consider the possibility of building an electronic brain the first work that is now generally recognized as ai was mccullouch and pitts formal design for turing complete artificial neurons by the s two visions for how to achieve machine intelligence emerged one vision known as symbolic ai or gofai was to use computers to create a symbolic representation of the world and systems that could reason about the world proponents included allen newell herbert a simon and marvin minsky closely associated with this approach was the heuristic search approach which likened intelligence to a problem of exploring a space of possibilities for answers the second vision known as the connectionist approach sought to achieve intelligence through learning proponents of this approach most prominently frank rosenblatt sought to connect perceptron in ways inspired by connections of neurons james manyika and others have compared the two approaches to the mind symbolic ai and the brain connectionist manyika argues that symbolic approaches dominated the push for artificial intelligence in this period due in part to its connection to intellectual traditions of descarte boole gottlob frege bertrand russell and others connectionist approaches based on cybernetics or artificial neural networks were pushed to the background but have gained new prominence in recent decades the field of ai research was born at a workshop at dartmouth college in f the attendees became the founders and leaders of ai research g they and their students produced programs that the press described as astonishing h computers were learning checkers strategies solving word problems in algebra proving logical theorems and speaking english i by the middle of the s research in the u s was heavily funded by the department of defense and laboratories had been established around the world researchers in the s and the s were convinced that symbolic approaches would eventually succeed in creating a machine with artificial general intelligence and considered this the goal of their field herbert simon predicted machines will be capable within twenty years of doing any work a man can do marvin minsky agreed writing within a generation the problem of creating artificial intelligence will substantially be solved they had failed to recognize the difficulty of some of the remaining tasks progress slowed and in in response to the criticism of sir james lighthill and ongoing pressure from the us congress to fund more productive projects both the u s and british governments cut off exploratory research in ai the next few years would later be called an ai winter a period when obtaining funding for ai projects was difficult in the early s ai research was revived by the commercial success of expert systems a form of ai program that simulated the knowledge and analytical skills of human experts by the market for ai had reached over a billion dollars at the same time japan s fifth generation computer project inspired the u s and british governments to restore funding for academic research however beginning with the collapse of the lisp machine market in ai once again fell into disrepute and a second longer lasting winter began many researchers began to doubt that the symbolic approach would be able to imitate all the processes of human cognition especially perception robotics learning and pattern recognition a number of researchers began to look into sub symbolic approaches to specific ai problems robotics researchers such as rodney brooks rejected symbolic ai and focused on the basic engineering problems that would allow robots to move survive and learn their environment j interest in neural networks and connectionism was revived by geoffrey hinton david rumelhart and others in the middle of the s soft computing tools were developed in the s such as neural networks fuzzy systems grey system theory evolutionary computation and many tools drawn from statistics or mathematical optimization ai gradually restored its reputation in the late s and early st century by finding specific solutions to specific problems the narrow focus allowed researchers to produce verifiable results exploit more mathematical methods and collaborate with other fields such as statistics economics and mathematics by solutions developed by ai researchers were being widely used although in the s they were rarely described as artificial intelligence faster computers algorithmic improvements and access to large amounts of data enabled advances in machine learning and perception data hungry deep learning methods started to dominate accuracy benchmarks around according to bloomberg s jack clark was a landmark year for artificial intelligence with the number of software projects that use ai within google increased from a sporadic usage in to more than projects k he attributes this to an increase in affordable neural networks due to a rise in cloud computing infrastructure and to an increase in research tools and datasets in a survey one in five companies reported they had incorporated ai in some offerings or processes the amount of research into ai measured by total publications increased by in the years numerous academic researchers became concerned that ai was no longer pursuing the original goal of creating versatile fully intelligent machines much of current research involves statistical ai which is overwhelmingly used to solve specific problems even highly successful techniques such as deep learning this concern has led to the subfield of artificial general intelligence or agi which had several well funded institutions by the s the general problem of simulating or creating intelligence has been broken down into sub problems these consist of particular traits or capabilities that researchers expect an intelligent system to display the traits described below have received the most attention c early researchers developed algorithms that imitated step by step reasoning that humans use when they solve puzzles or make logical deductions by the late s and s ai research had developed methods for dealing with uncertain or incomplete information employing concepts from probability and economics many of these algorithms proved to be insufficient for solving large reasoning problems because they experienced a combinatorial explosion they became exponentially slower as the problems grew larger even humans rarely use the step by step deduction that early ai research could model they solve most of their problems using fast intuitive judgments knowledge representation and knowledge engineering allow ai programs to answer questions intelligently and make deductions about real world facts a representation of what exists is an ontology the set of objects relations concepts and properties formally described so that software agents can interpret them the most general ontologies are called upper ontologies which attempt to provide a foundation for all other knowledge and act as mediators between domain ontologies that cover specific knowledge about a particular knowledge domain field of interest or area of concern a truly intelligent program would also need access to commonsense knowledge the set of facts that an average person knows the semantics of an ontology is typically represented in description logic such as the web ontology language ai research has developed tools to represent specific domains such as objects properties categories and relations between objects situations events states and time causes and effects knowledge about knowledge what we know about what other people know default reasoning things that humans assume are true until they are told differently and will remain true even when other facts are changing as well as other domains among the most difficult problems in ai are the breadth of commonsense knowledge the number of atomic facts that the average person knows is enormous and the sub symbolic form of most commonsense knowledge much of what people know is not represented as facts or statements that they could express verbally formal knowledge representations are used in content based indexing and retrieval scene interpretation clinical decision support knowledge discovery mining interesting and actionable inferences from large databases and other areas an intelligent agent that can plan makes a representation of the state of the world makes predictions about how their actions will change it and make choices that maximize the utility or value of the available choices in classical planning problems the agent can assume that it is the only system acting in the world allowing the agent to be certain of the consequences of its actions however if the agent is not the only actor then it requires that the agent reason under uncertainty and continuously re assess its environment and adapt multi agent planning uses the cooperation and competition of many agents to achieve a given goal emergent behavior such as this is used by evolutionary algorithms and swarm intelligence machine learning ml a fundamental concept of ai research since the field s inception l is the study of computer algorithms that improve automatically through experience m unsupervised learning finds patterns in a stream of input supervised learning requires a human to label the input data first and comes in two main varieties classification and numerical regression classification is used to determine what category something belongs in the program sees a number of examples of things from several categories and will learn to classify new inputs regression is the attempt to produce a function that describes the relationship between inputs and outputs and predicts how the outputs should change as the inputs change both classifiers and regression learners can be viewed as function approximators trying to learn an unknown possibly implicit function for example a spam classifier can be viewed as learning a function that maps from the text of an email to one of two categories spam or not spam in reinforcement learning the agent is rewarded for good responses and punished for bad ones the agent classifies its responses to form a strategy for operating in its problem space transfer learning is when the knowledge gained from one problem is applied to a new problem computational learning theory can assess learners by computational complexity by sample complexity how much data is required or by other notions of optimization natural language processing nlp allows machines to read and understand human language a sufficiently powerful natural language processing system would enable natural language user interfaces and the acquisition of knowledge directly from human written sources such as newswire texts some straightforward applications of nlp include information retrieval question answering and machine translation symbolic ai used formal syntax to translate the deep structure of sentences into logic this failed to produce useful applications due to the intractability of logic and the breadth of commonsense knowledge modern statistical techniques include co occurrence frequencies how often one word appears near another keyword spotting searching for a particular word to retrieve information transformer based deep learning which finds patterns in text and others they have achieved acceptable accuracy at the page or paragraph level and by could generate coherent text machine perception is the ability to use input from sensors such as cameras microphones wireless signals and active lidar sonar radar and tactile sensors to deduce aspects of the world applications include speech recognition facial recognition and object recognition computer vision is the ability to analyze visual input ai is heavily used in robotics localization is how a robot knows its location and maps its environment when given a small static and visible environment this is easy however dynamic environments such as in endoscopy the interior of a patient s breathing body pose a greater challenge motion planning is the process of breaking down a movement task into primitives such as individual joint movements such movement often involves compliant motion a process where movement requires maintaining physical contact with an object robots can learn from experience how to move efficiently despite the presence of friction and gear slippage affective computing is an interdisciplinary umbrella that comprises systems that recognize interpret process or simulate human feeling emotion and mood for example some virtual assistants are programmed to speak conversationally or even to banter humorously it makes them appear more sensitive to the emotional dynamics of human interaction or to otherwise facilitate human computer interaction however this tends to give na ve users an unrealistic conception of how intelligent existing computer agents actually are moderate successes related to affective computing include textual sentiment analysis and more recently multimodal sentiment analysis wherein ai classifies the affects displayed by a videotaped subject a machine with general intelligence can solve a wide variety of problems with breadth and versatility similar to human intelligence there are several competing ideas about how to develop artificial general intelligence hans moravec and marvin minsky argue that work in different individual domains can be incorporated into an advanced multi agent system or cognitive architecture with general intelligence pedro domingos hopes that there is a conceptually straightforward but mathematically difficult master algorithm that could lead to agi others believe that anthropomorphic features like an artificial brain or simulated child development n will someday reach a critical point where general intelligence emerges many problems in ai can be solved theoretically by intelligently searching through many possible solutions reasoning can be reduced to performing a search for example logical proof can be viewed as searching for a path that leads from premises to conclusions where each step is the application of an inference rule planning algorithms search through trees of goals and subgoals attempting to find a path to a target goal a process called means ends analysis robotics algorithms for moving limbs and grasping objects use local searches in configuration space simple exhaustive searches are rarely sufficient for most real world problems the search space the number of places to search quickly grows to astronomical numbers the result is a search that is too slow or never completes the solution for many problems is to use heuristics or rules of thumb that prioritize choices in favor of those more likely to reach a goal and to do so in a shorter number of steps in some search methodologies heuristics can also serve to eliminate some choices unlikely to lead to a goal called pruning the search tree heuristics supply the program with a best guess for the path on which the solution lies heuristics limit the search for solutions into a smaller sample size a very different kind of search came to prominence in the s based on the mathematical theory of optimization for many problems it is possible to begin the search with some form of a guess and then refine the guess incrementally until no more refinements can be made these algorithms can be visualized as blind hill climbing we begin the search at a random point on the landscape and then by jumps or steps we keep moving our guess uphill until we reach the top other related optimization algorithms include random optimization beam search and metaheuristics like simulated annealing evolutionary computation uses a form of optimization search for example they may begin with a population of organisms the guesses and then allow them to mutate and recombine selecting only the fittest to survive each generation refining the guesses classic evolutionary algorithms include genetic algorithms gene expression programming and genetic programming alternatively distributed search processes can coordinate via swarm intelligence algorithms two popular swarm algorithms used in search are particle swarm optimization inspired by bird flocking and ant colony optimization inspired by ant trails logic is used for knowledge representation and problem solving but it can be applied to other problems as well for example the satplan algorithm uses logic for planning and inductive logic programming is a method for learning several different forms of logic are used in ai research propositional logic involves truth functions such as or and not first order logic adds quantifiers and predicates and can express facts about objects their properties and their relations with each other fuzzy logic assigns a degree of truth between and to vague statements such as alice is old or rich or tall or hungry that are too linguistically imprecise to be completely true or false default logics non monotonic logics and circumscription are forms of logic designed to help with default reasoning and the qualification problem several extensions of logic have been designed to handle specific domains of knowledge such as description logics situation calculus event calculus and fluent calculus for representing events and time causal calculus belief calculus belief revision and modal logics logics to model contradictory or inconsistent statements arising in multi agent systems have also been designed such as paraconsistent logics many problems in ai including in reasoning planning learning perception and robotics require the agent to operate with incomplete or uncertain information ai researchers have devised a number of tools to solve these problems using methods from probability theory and economics bayesian networks are a very general tool that can be used for various problems including reasoning using the bayesian inference algorithm o learning using the expectation maximization algorithm p planning using decision networks and perception using dynamic bayesian networks probabilistic algorithms can also be used for filtering prediction smoothing and finding explanations for streams of data helping perception systems to analyze processes that occur over time e g hidden markov models or kalman filters a key concept from the science of economics is utility a measure of how valuable something is to an intelligent agent precise mathematical tools have been developed that analyze how an agent can make choices and plan using decision theory decision analysis and information value theory these tools include models such as markov decision processes dynamic decision networks game theory and mechanism design the simplest ai applications can be divided into two types classifiers if shiny then diamond and controllers if diamond then pick up controllers do however also classify conditions before inferring actions and therefore classification forms a central part of many ai systems classifiers are functions that use pattern matching to determine the closest match they can be tuned according to examples making them very attractive for use in ai these examples are known as observations or patterns in supervised learning each pattern belongs to a certain predefined class a class is a decision that has to be made all the observations combined with their class labels are known as a data set when a new observation is received that observation is classified based on previous experience a classifier can be trained in various ways there are many statistical and machine learning approaches the decision tree is the simplest and most widely used symbolic machine learning algorithm k nearest neighbor algorithm was the most widely used analogical ai until the mid s kernel methods such as the support vector machine svm displaced k nearest neighbor in the s the naive bayes classifier is reportedly the most widely used learner at google due in part to its scalability neural networks are also used for classification classifier performance depends greatly on the characteristics of the data to be classified such as the dataset size distribution of samples across classes dimensionality and the level of noise model based classifiers perform well if the assumed model is an extremely good fit for the actual data otherwise if no matching model is available and if accuracy rather than speed or scalability is the sole concern conventional wisdom is that discriminative classifiers especially svm tend to be more accurate than model based classifiers such as naive bayes on most practical data sets neural networks were inspired by the architecture of neurons in the human brain a simple neuron n accepts input from other neurons each of which when activated or fired casts a weighted vote for or against whether neuron n should itself activate learning requires an algorithm to adjust these weights based on the training data one simple algorithm dubbed fire together wire together is to increase the weight between two connected neurons when the activation of one triggers the successful activation of another neurons have a continuous spectrum of activation in addition neurons can process inputs in a nonlinear way rather than weighing straightforward votes modern neural networks model complex relationships between inputs and outputs and find patterns in data they can learn continuous functions and even digital logical operations neural networks can be viewed as a type of mathematical optimization they perform gradient descent on a multi dimensional topology that was created by training the network the most common training technique is the backpropagation algorithm other learning techniques for neural networks are hebbian learning fire together wire together gmdh or competitive learning the main categories of networks are acyclic or feedforward neural networks where the signal passes in only one direction and recurrent neural networks which allow feedback and short term memories of previous input events among the most popular feedforward networks are perceptrons multi layer perceptrons and radial basis networks deep learning uses several layers of neurons between the network s inputs and outputs the multiple layers can progressively extract higher level features from the raw input for example in image processing lower layers may identify edges while higher layers may identify the concepts relevant to a human such as digits or letters or faces deep learning has drastically improved the performance of programs in many important subfields of artificial intelligence including computer vision speech recognition image classification and others deep learning often uses convolutional neural networks for many or all of its layers in a convolutional layer each neuron receives input from only a restricted area of the previous layer called the neuron s receptive field this can substantially reduce the number of weighted connections between neurons and creates a hierarchy similar to the organization of the animal visual cortex in a recurrent neural network rnn the signal will propagate through a layer more than once thus an rnn is an example of deep learning rnns can be trained by gradient descent however long term gradients which are back propagated can vanish that is they can tend to zero or explode that is they can tend to infinity known as the vanishing gradient problem the long short term memory lstm technique can prevent this in most cases specialized languages for artificial intelligence have been developed such as lisp prolog tensorflow and many others hardware developed for ai includes ai accelerators and neuromorphic computing ai is relevant to any intellectual task modern artificial intelligence techniques are pervasive and are too numerous to list here frequently when a technique reaches mainstream use it is no longer considered artificial intelligence this phenomenon is described as the ai effect in the s ai applications were at the heart of the most commercially successful areas of computing and have become a ubiquitous feature of daily life ai is used in search engines such as google search targeting online advertisements recommendation systems offered by netflix youtube or amazon driving internet traffic targeted advertising adsense facebook virtual assistants such as siri or alexa autonomous vehicles including drones and self driving cars automatic language translation microsoft translator google translate facial recognition apple s face id or microsoft s deepface image labeling used by facebook apple s iphoto and tiktok and spam filtering there are also thousands of successful ai applications used to solve problems for specific industries or institutions a few examples are energy storage deepfakes medical diagnosis military logistics or supply chain management game playing has been a test of ai s strength since the s deep blue became the first computer chess playing system to beat a reigning world chess champion garry kasparov on may in in a jeopardy quiz show exhibition match ibm s question answering system watson defeated the two greatest jeopardy champions brad rutter and ken jennings by a significant margin in march alphago won out of games of go in a match with go champion lee sedol becoming the first computer go playing system to beat a professional go player without handicaps other programs handle imperfect information games such as for poker at a superhuman level pluribus q and cepheus deepmind in the s developed a generalized artificial intelligence that could learn many diverse atari games on its own by natural language processing systems such as the enormous gpt then by far the largest artificial neural network were matching human performance on pre existing benchmarks albeit without the system attaining a commonsense understanding of the contents of the benchmarks deepmind s alphafold demonstrated the ability to approximate in hours rather than months the d structure of a protein other applications predict the result of judicial decisions create art such as poetry or painting and prove mathematical theorems in wipo reported that ai was the most prolific emerging technology in terms of number of patent applications and granted patents the internet of things was estimated to be the largest in terms of market size it was followed again in market size by big data technologies robotics ai d printing and the fifth generation of mobile services g since ai emerged in the s ai related patent applications were filed by innovators and million scientific papers have been published by researchers with the majority of all ai related patent filings published since companies represent out of the top ai patent applicants with universities or public research organizations accounting for the remaining four the ratio of scientific papers to inventions has significantly decreased from in to in which is attributed to be indicative of a shift from theoretical research to the use of ai technologies in commercial products and services machine learning is the dominant ai technique disclosed in patents and is included in more than one third of all identified inventions machine learning patents filed for a total of ai patents filed in with computer vision being the most popular functional application ai related patents not only disclose ai techniques and applications they often also refer to an application field or industry twenty application fields were identified in and included in order of magnitude telecommunications percent transportation percent life and medical sciences percent and personal devices computing and human computer interaction percent other sectors included banking entertainment security industry and manufacturing agriculture and networks including social networks smart cities and the internet of things ibm has the largest portfolio of ai patents with patent applications followed by microsoft with patent applications alan turing wrote in i propose to consider the question can machines think he advised changing the question from whether a machine thinks to whether or not it is possible for machinery to show intelligent behaviour he devised the turing test which measures the ability of a machine to simulate human conversation the only thing visible is the behavior of the machine so it does not matter if the machine is conscious or has a mind or whether the intelligence is merely a simulation and not the real thing r russell and norvig are critical of the turing test if it used as the definition of artificial intelligence aeronautical engineering texts they wrote do not define the goal of their field as making machines that fly so exactly like pigeons that they can fool other pigeons ai founder john mccarthy agreed writing that artificial intelligence is not by definition simulation of human intelligence s the intelligent agent paradigm defines intelligent behavior in general without reference to human beings an intelligent agent is a system that perceives its environment and takes actions that maximize its chances of success any system that has goal directed behavior can be analyzed as an intelligent agent something as simple as a thermostat as complex as a human being as well as large systems such as firms biomes or nations the intelligent agent paradigm became widely accepted during the s and currently serves as the definition of the field a the intelligent agent paradigm has other advantages for ai it provides a reliable and scientific way to test programs researchers can directly compare or even combine different approaches to isolated problems by asking which agent is best at maximizing a given goal function it also gives them a common language to communicate with other fields such as mathematical optimization which is defined in terms of goals or economics which uses the same definition of a rational agent no established unifying theory or paradigm has guided ai research for most of its history t the unprecedented success of statistical machine learning in the s eclipsed all other approaches so much so that some sources especially in the business world use the term artificial intelligence to mean machine learning with neural networks this approach is mostly sub symbolic neat soft and narrow see below critics argue that these questions may have to be revisited by future generations of ai researchers symbolic ai or gofai simulated the high level conscious reasoning that people use when they solve puzzles express legal reasoning and do mathematics they were highly successful at intelligent tasks such as algebra or iq tests in the s newell and simon proposed the physical symbol systems hypothesis a physical symbol system has the necessary and sufficient means of general intelligent action however the symbolic approach failed dismally on many tasks that humans solve easily such as learning recognizing an object or commonsense reasoning moravec s paradox is the discovery that high level intelligent tasks were easy for ai but low level instinctive tasks were extremely difficult philosopher hubert dreyfus had argued since the s that human expertise depends on unconscious instinct rather than conscious symbol manipulation and on having a feel for the situation rather than explicit symbolic knowledge although his arguments had been ridiculed and ignored when they were first presented eventually ai research came to agree u the issue is not resolved sub symbolic reasoning can make many of the same inscrutable mistakes that human intuition does such as algorithmic bias critics such as noam chomsky argue continuing research into symbolic ai will still be necessary to attain general intelligence in part because sub symbolic ai is a move away from explainable ai it can be difficult or impossible to understand why a modern statistical ai program made a particular decision the emerging field of neurosymbolic artificial intelligence attempts to bridge the two approaches neats hope that intelligent behavior is described using simple elegant principles such as logic optimization or neural networks scruffies expect that it necessarily requires solving a large number of unrelated problems especially in areas like common sense reasoning this issue was actively discussed in the s and s but in the s mathematical methods and solid scientific standards became the norm a transition that russell and norvig termed the victory of the neats finding a provably correct or optimal solution is intractable for many important problems soft computing is a set of techniques including genetic algorithms fuzzy logic and neural networks that are tolerant of imprecision uncertainty partial truth and approximation soft computing was introduced in the late s and most successful ai programs in the st century are examples of soft computing with neural networks ai researchers are divided as to whether to pursue the goals of artificial general intelligence and superintelligence general ai directly or to solve as many specific problems as possible narrow ai in hopes these solutions will lead indirectly to the field s long term goals general intelligence is difficult to define and difficult to measure and modern ai has had more verifiable successes by focussing on specific problems with specific solutions the experimental sub field of artificial general intelligence studies this area exclusively the philosophy of mind does not know whether a machine can have a mind consciousness and mental states in the same sense that human beings do this issue considers the internal experiences of the machine rather than its external behavior mainstream ai research considers this issue irrelevant because it does not affect the goals of the field stuart russell and peter norvig observe that most ai researchers don t care about the philosophy of ai as long as the program works they don t care whether you call it a simulation of intelligence or real intelligence however the question has become central to the philosophy of mind it is also typically the central question at issue in artificial intelligence in fiction david chalmers identified two problems in understanding the mind which he named the hard and easy problems of consciousness the easy problem is understanding how the brain processes signals makes plans and controls behavior the hard problem is explaining how this feels or why it should feel like anything at all human information processing is easy to explain however human subjective experience is difficult to explain for example it is easy to imagine a color blind person who has learned to identify which objects in their field of view are red but it is not clear what would be required for the person to know what red looks like computationalism is the position in the philosophy of mind that the human mind is an information processing system and that thinking is a form of computing computationalism argues that the relationship between mind and body is similar or identical to the relationship between software and hardware and thus may be a solution to the mind body problem this philosophical position was inspired by the work of ai researchers and cognitive scientists in the s and was originally proposed by philosophers jerry fodor and hilary putnam philosopher john searle characterized this position as strong ai the appropriately programmed computer with the right inputs and outputs would thereby have a mind in exactly the same sense human beings have minds v searle counters this assertion with his chinese room argument which attempts to show that even if a machine perfectly simulates human behavior there is still no reason to suppose it also has a mind if a machine has a mind and subjective experience then it may also have sentience the ability to feel and if so then it could also suffer and thus it would be entitled to certain rights any hypothetical robot rights would lie on a spectrum with animal rights and human rights this issue has been considered in fiction for centuries and is now being considered by for example california s institute for the future however critics argue that the discussion is premature a superintelligence hyperintelligence or superhuman intelligence is a hypothetical agent that would possess intelligence far surpassing that of the brightest and most gifted human mind superintelligence may also refer to the form or degree of intelligence possessed by such an agent if research into artificial general intelligence produced sufficiently intelligent software it might be able to reprogram and improve itself the improved software would be even better at improving itself leading to recursive self improvement its intelligence would increase exponentially in an intelligence explosion and could dramatically surpass humans science fiction writer vernor vinge named this scenario the singularity because it is difficult or impossible to know the limits of intelligence or the capabilities of superintelligent machines the technological singularity is an occurrence beyond which events are unpredictable or even unfathomable robot designer hans moravec cyberneticist kevin warwick and inventor ray kurzweil have predicted that humans and machines will merge in the future into cyborgs that are more capable and powerful than either this idea called transhumanism has roots in aldous huxley and robert ettinger edward fredkin argues that artificial intelligence is the next stage in evolution an idea first proposed by samuel butler s darwin among the machines as far back as and expanded upon by george dyson in his book of the same name in in the past technology has tended to increase rather than reduce total employment but economists acknowledge that we re in uncharted territory with ai a survey of economists showed disagreement about whether the increasing use of robots and ai will cause a substantial increase in long term unemployment but they generally agree that it could be a net benefit if productivity gains are redistributed subjective estimates of the risk vary widely for example michael osborne and carl benedikt frey estimate of u s jobs are at high risk of potential automation while an oecd report classifies only of u s jobs as high risk w unlike previous waves of automation many middle class jobs may be eliminated by artificial intelligence the economist states that the worry that ai could do to white collar jobs what steam power did to blue collar ones during the industrial revolution is worth taking seriously jobs at extreme risk range from paralegals to fast food cooks while job demand is likely to increase for care related professions ranging from personal healthcare to the clergy ai provides a number of tools that are particularly useful for authoritarian governments smart spyware face recognition and voice recognition allow widespread surveillance such surveillance allows machine learning to classify potential enemies of the state and can prevent them from hiding recommendation systems can precisely target propaganda and misinformation for maximum effect deepfakes aid in producing misinformation advanced ai can make centralized decision making more competitive with liberal and decentralized systems such as markets terrorists criminals and rogue states may use other forms of weaponized ai such as advanced digital warfare and lethal autonomous weapons by over fifty countries were reported to be researching battlefield robots machine learning ai is also able to design tens of thousands of toxic molecules in a matter of hours ai programs can become biased after learning from real world data it is not typically introduced by the system designers but is learned by the program and thus the programmers are often unaware that the bias exists bias can be inadvertently introduced by the way training data is selected it can also emerge from correlations ai is used to classify individuals into groups and then make predictions assuming that the individual will resemble other members of the group in some cases this assumption may be unfair an example of this is compas a commercial program widely used by u s courts to assess the likelihood of a defendant becoming a recidivist propublica claims that the compas assigned recidivism risk level of black defendants is far more likely to be overestimated than that of white defendants despite the fact that the program was not told the races of the defendants other examples where algorithmic bias can lead to unfair outcomes are when ai is used for credit rating or hiring at its conference on fairness accountability and transparency acm facct the association for computing machinery in seoul south korea presented and published findings recommending that until ai and robotics systems are demonstrated to be free of bias mistakes they are unsafe and the use of self learning neural networks trained on vast unregulated sources of flawed internet data should be curtailed superintelligent ai may be able to improve itself to the point that humans could not control it this could as physicist stephen hawking puts it spell the end of the human race philosopher nick bostrom argues that sufficiently intelligent ai if it chooses actions based on achieving some goal will exhibit convergent behavior such as acquiring resources or protecting itself from being shut down if this ai s goals do not fully reflect humanity s it might need to harm humanity to acquire more resources or prevent itself from being shut down ultimately to better achieve its goal he concludes that ai poses a risk to mankind however humble or friendly its stated goals might be political scientist charles t rubin argues that any sufficiently advanced benevolence may be indistinguishable from malevolence humans should not assume machines or robots would treat us favorably because there is no a priori reason to believe that they would share our system of morality the opinion of experts and industry insiders is mixed with sizable fractions both concerned and unconcerned by risk from eventual superhumanly capable ai stephen hawking microsoft founder bill gates history professor yuval noah harari and spacex founder elon musk have all expressed serious misgivings about the future of ai prominent tech titans including peter thiel amazon web services and musk have committed more than billion to nonprofit companies that champion responsible ai development such as openai and the future of life institute mark zuckerberg ceo facebook has said that artificial intelligence is helpful in its current form and will continue to assist humans other experts argue is that the risks are far enough in the future to not be worth researching or that humans will be valuable from the perspective of a superintelligent machine rodney brooks in particular has said that malevolent ai is still centuries away x ai s decisions making abilities raises the questions of legal responsibility and copyright status of created works this issues are being refined in various jurisdictions friendly ai are machines that have been designed from the beginning to minimize risks and to make choices that benefit humans eliezer yudkowsky who coined the term argues that developing friendly ai should be a higher research priority it may require a large investment and it must be completed before ai becomes an existential risk machines with intelligence have the potential to use their intelligence to make ethical decisions the field of machine ethics provides machines with ethical principles and procedures for resolving ethical dilemmas machine ethics is also called machine morality computational ethics or computational morality and was founded at an aaai symposium in other approaches include wendell wallach s artificial moral agents and stuart j russell s three principles for developing provably beneficial machines the regulation of artificial intelligence is the development of public sector policies and laws for promoting and regulating artificial intelligence ai it is therefore related to the broader regulation of algorithms the regulatory and policy landscape for ai is an emerging issue in jurisdictions globally between and more than countries adopted dedicated strategies for ai most eu member states had released national ai strategies as had canada china india japan mauritius the russian federation saudi arabia united arab emirates us and vietnam others were in the process of elaborating their own ai strategy including bangladesh malaysia and tunisia the global partnership on artificial intelligence was launched in june stating a need for ai to be developed in accordance with human rights and democratic values to ensure public confidence and trust in the technology henry kissinger eric schmidt and daniel huttenlocher published a joint statement in november calling for a government commission to regulate ai thought capable artificial beings have appeared as storytelling devices since antiquity and have been a persistent theme in science fiction a common trope in these works began with mary shelley s frankenstein where a human creation becomes a threat to its masters this includes such works as arthur c clarke s and stanley kubrick s a space odyssey both with hal the murderous computer in charge of the discovery one spaceship as well as the terminator and the matrix in contrast the rare loyal robots such as gort from the day the earth stood still and bishop from aliens are less prominent in popular culture isaac asimov introduced the three laws of robotics in many books and stories most notably the multivac series about a super intelligent computer of the same name asimov s laws are often brought up during lay discussions of machine ethics while almost all artificial intelligence researchers are familiar with asimov s laws through popular culture they generally consider the laws useless for many reasons one of which is their ambiguity transhumanism the merging of humans and machines is explored in the manga ghost in the shell and the science fiction series dune several works use ai to force us to confront the fundamental question of what makes us human showing us artificial beings that have the ability to feel and thus to suffer this appears in karel apek s r u r the films a i artificial intelligence and ex machina as well as the novel do androids dream of electric sheep by philip k dick dick considers the idea that our understanding of human subjectivity is altered by technology created with artificial intelligence as technology and research evolve and the world enters the third revolution of warfare following gunpowder and nuclear weapons the artificial intelligence arms race ensues between the united states china and russia three countries with the world s top five highest military budgets intentions of being a world leader in ai research by have been declared by china s leader xi jinping and president putin of russia has stated that whoever becomes the leader in this sphere will become the ruler of the world if russia were to become the leader in ai research president putin has stated russia s intent to share some of their research with the world so as to not monopolize the field similar to their current sharing of nuclear technologies maintaining science diplomacy relations the united states china and russia are some examples of countries that have taken their stances toward military artificial intelligence since as early as having established military programs to develop cyber weapons control lethal autonomous weapons and drones that can be used for surveillance president putin announced that artificial intelligence is the future for all mankind and recognizes the power and opportunities that the development and deployment of lethal autonomous weapons ai technology can hold in warfare and homeland security as well as its threats president putin s prediction that future wars will be fought using ai has started to come to fruition to an extent after russia invaded ukraine on february the ukrainian military is making use of the turkish bayraktar tb drones that still require human operation to deploy laser guided bombs but can take off land and cruise autonomously ukraine has also been using switchblade drones supplied by the us and receiving information gathering by the united states s own surveillance operations regarding battlefield intelligence and national security about russia similarly russia can use ai to help analyze battlefield data from surveillance footage taken by drones reports and images show that russia s military has deployed kub bla suicide drones into ukraine with speculations of intentions to assassinate ukrainian president volodymyr zelenskyy as research in the ai realm progresses there is pushback about the use of ai from the campaign to stop killer robots and world technology leaders have sent a petition to the united nations calling for new regulations on the development and use of ai technologies in including a ban on the use of lethal autonomous weapons due to ethical concerns for innocent civilian populations with the ever evolving cyber attacks and generation of devices ai can be used for threat detection and more effective response by risk prioritization with this tool some challenges are also presented such as privacy informed consent and responsible use according to cisa the cyberspace is difficult to secure for the following factors the ability of malicious actors to operate from anywhere in the world the linkages between cyberspace and physical systems and the difficulty of reducing vulnerabilities and consequences in complex cyber networks with the increased technological advances of the world the risk for wide scale consequential events rises paradoxically the ability to protect information and create a line of communication between the scientific and diplomatic community thrives the role of cybersecurity in diplomacy has become increasingly relevant creating the term of cyber diplomacy which is not uniformly defined and not synonymous with cyber defence many nations have developed unique approaches to scientific diplomacy in cyberspace dating back to when the czech national security authority nsa was appointed as the national authority for the cyber agenda the role of cyber diplomacy strengthened in when the czech ministry of foreign affairs mfa detected a serious cyber campaign directed against its own computer networks in three cyber diplomats were deployed to washington d c brussels and tel aviv with the goal of establishing active international cooperation focused on engagement with the eu and nato the main agenda for these scientific diplomacy efforts is to bolster research on artificial intelligence and how it can be utilized in cybersecurity research development and overall consumer trust czechinvest is a key stakeholder in scientific diplomacy and cybersecurity for example in september they organized a mission to canada in september with a special focus on artificial intelligence the main goal of this particular mission was a promotional effort on behalf of prague attempting to establish it as a future knowledge hub for the industry for interested canadian firms cybersecurity is recognized as a governmental task dividing into three ministries of responsibility the federal ministry of the interior the federal ministry of defence and the federal foreign office these distinctions promoted the creation of various institutions such as the german national office for information security the national cyberdefence centre the german national cyber security council and the cyber and information domain service in a new strategy for artificial intelligence was established by the german government with the creation of a german french virtual research and innovation network holding opportunity for research expansion into cybersecurity the adoption of the cybersecurity strategy of the european union an open safe and secure cyberspace document in by the european commission pushed forth cybersecurity efforts integrated with scientific diplomacy and artificial intelligence efforts are strong as the eu funds various programs and institutions in the effort to bring science to diplomacy and bring diplomacy to science some examples are the cyber security programme competence research innovation concordia which brings together member states and cybersecurity for europe cse which brings together partners involving member states in addition the european network of cybersecurity centres and competence hub for innovation and operations echo gathers partners with member states and sparta gathers partners involving member states these efforts reflect the overall goals of the eu to innovate cybersecurity for defense and protection establish a highly integrated cyberspace among many nations and further contribute to the security of artificial intelligence with the invasion of ukraine there has been a rise in malicious cyber activity against the united states ukraine and russia a prominent and rare documented use of artificial intelligence in conflict is on behalf of ukraine using facial recognition software to uncover russian assailants and identify ukrainians killed in the ongoing war though these governmental figures are not primarily focused on scientific and cyber diplomacy other institutions are commenting on the use of artificial intelligence in cybersecurity with that focus for example georgetown university s center for security and emerging technology cset has the cyber ai project with one goal being to attract policymakers attention to the growing body of academic research whichexposes the exploitive consequences of ai and machine learning ml algorithms this vulnerability can be a plausible explanation as to why russia is not engaging in the use of ai in conflict per andrew lohn a senior fellow at cset in addition to use on the battlefield ai is being used by the pentagon to analyze data from the war analyzing to strengthen cybersecurity and warfare intelligence for the united states as artificial intelligence grows and the overwhelming amount of news portrayed through cyberspace expands it is becoming extremely overwhelming for a voter to know what to believe there are many intelligent codes referred to as bots written to portray people on social media with the goal of spreading miss information the us election is a victim of such actions during the hillary clinton and donald trump campaign artificial intelligent bots from russia were spreading misinformation about the candidates in order to help the trump campaign analysts concluded that approximately of twitter tweets centered around the election were detected to come from bots youtube in recent years has been used to spread political information as well although there is no proof that the platform attempts to manipulate its viewers opinions youtubes ai algorithm recommends videos of similar variety if a person begins to research right wing political podcasts then youtube s algorithm will recommend more right wing videos the uprising in a program called deepfake a software used to replicate someone s face and words has also shown its potential threat in a deepfake video of barack obama was released saying words he claims to have never said while in a national election a deepfake will quickly be debunked the software has the capability to heavily sway a smaller local election this tool holds a lot of potential for spreading misinformation and is monitored with great attention although it may be seen as a tool used for harm ai can help enhance election campaigns as well ai bots can be programed to target articles with known misinformation the bots can then indicate what is being misinformed to help shine light on the truth ai can also be used to inform a person where each parts stands on a certain topic such as healthcare or climate change the political leaders of a nation have heavy sway on international affairs thus a political leader with a lack of interest for international collaborative scientific advancement can have a negative impact in the scientific diplomacy of that nation the use of artificial intelligence ai has subtly grown to become part of everyday life it is used every day in facial recognition software it is the first measure of security for many companies in the form of a biometric authentication this means of authentication allows even the most official organizations such as the united states internal revenue service to verify a person s identity via a database generated from machine learning as of the year the united states irs requires those who do not undergo a live interview with an agent to complete a biometric verification of their identity via id me s facial recognition tool in japan and south korea artificial intelligence software is used in the instruction of english language via the company riiid riiid is a korean education company working alongside japan to give students the means to learn and use their english communication skills via engaging with artificial intelligence in a live chat riid is not the only company to do this american company duolingo is well known for their automated teaching of languages babbel a german language learning program also uses artificial intelligence in its teaching automation allowing for european students to learn vital communication skills needed in social economic and diplomatic settings artificial intelligence will also automate the routine tasks that teachers need to do such as grading taking attendance and handling routine student inquiries this enables the teacher to carry on with the complexities of teaching that an automated machine cannot handle these include creating exams explaining complex material in a way that will benefit students individually and handling unique questions from students unlike the human brain which possess generalized intelligence the specialized intelligence of ai can serve as a means of support to physicians internationally the medical field has a diverse and profound amount of data in which ai can employ to generate a predictive diagnosis researchers at an oxford hospital have developed artificial intelligence that can diagnose heart scans for heart disease and cancer this artificial intelligence can pick up diminutive details in the scans that doctors may miss as such artificial intelligence in medicine will better the industry giving doctors the means to precisely diagnose their patients using the tools available the artificial intelligence algorithms will also be used to further improve diagnosis over time via an application of machine learning called precision medicine furthermore the narrow application of artificial intelligence can use deep learning in order to improve medical image analysis in radiology imaging ai uses deep learning algorithms to identify potentially cancerous lesions which is an important process assisting in early diagnosis data analysis is a fundamental property of artificial intelligence that enables it to be used in every facet of life from search results to the way people buy product according to newvantage partners over of top businesses have ongoing investments in artificial intelligence according to ibm one of the world s leaders in technology of respondents from companies with over employees have adopted ai recent data shows that the business market for artificial intelligence during the year was valued at billion the business market for artificial intelligence is projected to be over billion by the year to prevent harm ai deploying organizations need to play a central role in creating and deploying trustworthy ai in line with the principles of trustworthy ai and take accountability to mitigate the risks with the exponential surge of artificial technology and communication the distribution of one s ideals and values has been evident in daily life digital information is spread via communication apps such as whatsapp facebook meta snapchat instagram and twitter however it is known that these sites relay specific information corresponding to data analysis if a right winged individual were to do a google search google s algorithms would target that individual and relay data pertinent to that target audience us president bill clinton noted in in the new century liberty will spread by cell phone and cable modem we know how much the internet has changed america and we are already an open society however when the private sector uses artificial intelligence to gather data a shift in power from the state to the private sector may be seen this shift in power specifically in large technological corporations could profoundly change how diplomacy functions in society the rise in digital technology and usage of artificial technology enabled the private sector to gather immense data on the public which is then further categorized by race location age gender etc the new york times calculates that the ten largest tech firms which have become gatekeepers in commerce finance entertainment and communications now have a combined market capitalization of more than trillion in gross domestic product terms that would rank them as the world s third largest economy beyond the general lobbying of congressmen congresswomen companies such as facebook meta or google use collected data in order to reach their intended audiences with targeted information multiple nations around the globe employ artificial intelligence to assist with their foreign policy decisions the chinese department of external security affairs under the ministry of foreign affairs uses ai to review almost all its foreign investment projects for risk mitigation the government of china plans to utilize artificial intelligence in its billion global infrastructure development plan called the belt and road initiative for political economic and environmental risk alleviation over applications of artificial intelligence are being used by over united nations agencies in sectors ranging from health care dealing with issues such as combating covid to smart agriculture to assist the un in political and diplomatic relations one example is the use of ai by the un global pulse program to model the effect of the spread of covid on internally displaced people idp and refugee settlements to assist them in creating an appropriate global health policy novel ai tools such as remote sensing can also be employed by diplomats for collecting and analyzing data and near real time tracking of objects such as troop or refugee movements along borders in violent conflict zones artificial intelligence can be used to mitigate vital cross national diplomatic talks to prevent translation errors caused by human translators a major example is the anchorage meetings held between us and china aimed at stabilizing foreign relations only for it to have the opposite effect increasing tension and aggressiveness between the two nations due to translation errors caused by human translators in the meeting when united states national security advisor to president joe biden jacob jeremiah sullivan stated we do not seek conflict but we welcome stiff competition and we will always stand up for our principles for our people and for our friends it was mistranslated into chinese as we will face competition between us and will present our stance in a very clear manner adding an aggressive tone to the speech ai s ability for fast and efficient natural language processing and real time translation and transliteration makes it an important tool for foreign policy communication between nations and prevents unintended mistranslation these were the four the most widely used ai textbooks in later editions the two most widely used textbooks in open syllabus explorer see also logic machines in fiction and list of fictional computers '"
            ],
            "application/vnd.google.colaboratory.intrinsic+json": {
              "type": "string"
            }
          },
          "metadata": {},
          "execution_count": 5
        }
      ]
    },
    {
      "cell_type": "markdown",
      "source": [
        "###Creating Phrase Matcher"
      ],
      "metadata": {
        "id": "llgdn27gYAaJ"
      }
    },
    {
      "cell_type": "code",
      "source": [
        "nlp = spacy.load(\"en_core_web_sm\")\n",
        "phrase_matcher = PhraseMatcher(nlp.vocab)"
      ],
      "metadata": {
        "id": "baGiT3SrYB4y"
      },
      "execution_count": 6,
      "outputs": []
    },
    {
      "cell_type": "markdown",
      "source": [
        "###Creating Phrase List"
      ],
      "metadata": {
        "id": "sqQRuU2XYU2N"
      }
    },
    {
      "cell_type": "code",
      "source": [
        "phrases = [\n",
        "  \"machine learning\", \"robots\", \"intelligent agents\"\n",
        "]\n",
        "\n",
        "patterns = [nlp(text) for text in phrases]"
      ],
      "metadata": {
        "id": "qUXUKxU1YXf3"
      },
      "execution_count": 7,
      "outputs": []
    },
    {
      "cell_type": "code",
      "source": [
        "# let's add new phrase into list\n",
        "phrase_matcher.add(\"AI\", None, *patterns)"
      ],
      "metadata": {
        "id": "tguozuyWY3IM"
      },
      "execution_count": 8,
      "outputs": []
    },
    {
      "cell_type": "markdown",
      "source": [
        "###Applying Matcher to Document"
      ],
      "metadata": {
        "id": "ePqAfwVNZJUg"
      }
    },
    {
      "cell_type": "code",
      "source": [
        "# convert article into spacy document format\n",
        "sentence = nlp(processed_article)\n",
        "\n",
        "matched_phrases = phrase_matcher(sentence)"
      ],
      "metadata": {
        "id": "Fytvv1UTZK2O"
      },
      "execution_count": 9,
      "outputs": []
    },
    {
      "cell_type": "code",
      "source": [
        "# see the string value of the matched phrases\n",
        "for match_id, start, end in matched_phrases:\n",
        "  string_id = nlp.vocab.strings[match_id]\n",
        "  span = sentence[start: end]\n",
        "  print(match_id, string_id, start, end, span.text)"
      ],
      "metadata": {
        "colab": {
          "base_uri": "https://localhost:8080/"
        },
        "id": "2-gzu5dYZ2gq",
        "outputId": "fe3e4c85-4c2f-4495-ad9c-4d04119b5950"
      },
      "execution_count": 10,
      "outputs": [
        {
          "output_type": "stream",
          "name": "stdout",
          "text": [
            "5530044837203964789 AI 31 33 intelligent agents\n",
            "5530044837203964789 AI 292 294 machine learning\n",
            "5530044837203964789 AI 1215 1216 robots\n",
            "5530044837203964789 AI 1352 1354 machine learning\n",
            "5530044837203964789 AI 2053 2055 machine learning\n",
            "5530044837203964789 AI 2550 2551 robots\n",
            "5530044837203964789 AI 3672 3674 machine learning\n",
            "5530044837203964789 AI 3686 3688 machine learning\n",
            "5530044837203964789 AI 4847 4849 machine learning\n",
            "5530044837203964789 AI 4869 4871 machine learning\n",
            "5530044837203964789 AI 5321 5323 machine learning\n",
            "5530044837203964789 AI 5348 5350 machine learning\n",
            "5530044837203964789 AI 6565 6566 robots\n",
            "5530044837203964789 AI 6734 6736 machine learning\n",
            "5530044837203964789 AI 6813 6814 robots\n",
            "5530044837203964789 AI 6814 6816 machine learning\n",
            "5530044837203964789 AI 7201 7202 robots\n",
            "5530044837203964789 AI 7760 7761 robots\n",
            "5530044837203964789 AI 8320 8321 robots\n",
            "5530044837203964789 AI 9047 9049 machine learning\n",
            "5530044837203964789 AI 9524 9526 machine learning\n",
            "5530044837203964789 AI 9846 9848 machine learning\n"
          ]
        }
      ]
    },
    {
      "cell_type": "markdown",
      "source": [
        "##Loading data"
      ],
      "metadata": {
        "id": "Qqt9ykNTXrz4"
      }
    },
    {
      "cell_type": "code",
      "source": [
        "keyword_df = pd.read_csv(\"keywords.csv\")\n",
        "keyword_df.head()"
      ],
      "metadata": {
        "id": "kuInj-e8v9kC",
        "colab": {
          "base_uri": "https://localhost:8080/",
          "height": 206
        },
        "outputId": "25d40f0b-810c-4651-881a-1929ddddcd5d"
      },
      "execution_count": null,
      "outputs": [
        {
          "output_type": "execute_result",
          "data": {
            "text/plain": [
              "  CATEGORY0    CATEGORY1 CATEGORY2             SYNID  \\\n",
              "0  Keywords  Respiratory       NaN  KW-rESPIRATORY01   \n",
              "1  Keywords      Alcohol   Alcohol     KW-ALCOHOL184   \n",
              "2  Keywords      Alcohol   Alcohol     KW-ALCOHOL185   \n",
              "3  Keywords      Alcohol   Alcohol     KW-ALCOHOL186   \n",
              "4  Keywords      Alcohol   Alcohol     KW-ALCOHOL187   \n",
              "\n",
              "                        KEYWORDS  \n",
              "0                    Respiratory  \n",
              "1        struggling with alcohol  \n",
              "2        suspected alcohol abuse  \n",
              "3  taking medication for alcohol  \n",
              "4                       tequilla  "
            ],
            "text/html": [
              "\n",
              "  <div id=\"df-e2c115a3-7c9e-47ef-bb40-453aea9259d6\">\n",
              "    <div class=\"colab-df-container\">\n",
              "      <div>\n",
              "<style scoped>\n",
              "    .dataframe tbody tr th:only-of-type {\n",
              "        vertical-align: middle;\n",
              "    }\n",
              "\n",
              "    .dataframe tbody tr th {\n",
              "        vertical-align: top;\n",
              "    }\n",
              "\n",
              "    .dataframe thead th {\n",
              "        text-align: right;\n",
              "    }\n",
              "</style>\n",
              "<table border=\"1\" class=\"dataframe\">\n",
              "  <thead>\n",
              "    <tr style=\"text-align: right;\">\n",
              "      <th></th>\n",
              "      <th>CATEGORY0</th>\n",
              "      <th>CATEGORY1</th>\n",
              "      <th>CATEGORY2</th>\n",
              "      <th>SYNID</th>\n",
              "      <th>KEYWORDS</th>\n",
              "    </tr>\n",
              "  </thead>\n",
              "  <tbody>\n",
              "    <tr>\n",
              "      <th>0</th>\n",
              "      <td>Keywords</td>\n",
              "      <td>Respiratory</td>\n",
              "      <td>NaN</td>\n",
              "      <td>KW-rESPIRATORY01</td>\n",
              "      <td>Respiratory</td>\n",
              "    </tr>\n",
              "    <tr>\n",
              "      <th>1</th>\n",
              "      <td>Keywords</td>\n",
              "      <td>Alcohol</td>\n",
              "      <td>Alcohol</td>\n",
              "      <td>KW-ALCOHOL184</td>\n",
              "      <td>struggling with alcohol</td>\n",
              "    </tr>\n",
              "    <tr>\n",
              "      <th>2</th>\n",
              "      <td>Keywords</td>\n",
              "      <td>Alcohol</td>\n",
              "      <td>Alcohol</td>\n",
              "      <td>KW-ALCOHOL185</td>\n",
              "      <td>suspected alcohol abuse</td>\n",
              "    </tr>\n",
              "    <tr>\n",
              "      <th>3</th>\n",
              "      <td>Keywords</td>\n",
              "      <td>Alcohol</td>\n",
              "      <td>Alcohol</td>\n",
              "      <td>KW-ALCOHOL186</td>\n",
              "      <td>taking medication for alcohol</td>\n",
              "    </tr>\n",
              "    <tr>\n",
              "      <th>4</th>\n",
              "      <td>Keywords</td>\n",
              "      <td>Alcohol</td>\n",
              "      <td>Alcohol</td>\n",
              "      <td>KW-ALCOHOL187</td>\n",
              "      <td>tequilla</td>\n",
              "    </tr>\n",
              "  </tbody>\n",
              "</table>\n",
              "</div>\n",
              "      <button class=\"colab-df-convert\" onclick=\"convertToInteractive('df-e2c115a3-7c9e-47ef-bb40-453aea9259d6')\"\n",
              "              title=\"Convert this dataframe to an interactive table.\"\n",
              "              style=\"display:none;\">\n",
              "        \n",
              "  <svg xmlns=\"http://www.w3.org/2000/svg\" height=\"24px\"viewBox=\"0 0 24 24\"\n",
              "       width=\"24px\">\n",
              "    <path d=\"M0 0h24v24H0V0z\" fill=\"none\"/>\n",
              "    <path d=\"M18.56 5.44l.94 2.06.94-2.06 2.06-.94-2.06-.94-.94-2.06-.94 2.06-2.06.94zm-11 1L8.5 8.5l.94-2.06 2.06-.94-2.06-.94L8.5 2.5l-.94 2.06-2.06.94zm10 10l.94 2.06.94-2.06 2.06-.94-2.06-.94-.94-2.06-.94 2.06-2.06.94z\"/><path d=\"M17.41 7.96l-1.37-1.37c-.4-.4-.92-.59-1.43-.59-.52 0-1.04.2-1.43.59L10.3 9.45l-7.72 7.72c-.78.78-.78 2.05 0 2.83L4 21.41c.39.39.9.59 1.41.59.51 0 1.02-.2 1.41-.59l7.78-7.78 2.81-2.81c.8-.78.8-2.07 0-2.86zM5.41 20L4 18.59l7.72-7.72 1.47 1.35L5.41 20z\"/>\n",
              "  </svg>\n",
              "      </button>\n",
              "      \n",
              "  <style>\n",
              "    .colab-df-container {\n",
              "      display:flex;\n",
              "      flex-wrap:wrap;\n",
              "      gap: 12px;\n",
              "    }\n",
              "\n",
              "    .colab-df-convert {\n",
              "      background-color: #E8F0FE;\n",
              "      border: none;\n",
              "      border-radius: 50%;\n",
              "      cursor: pointer;\n",
              "      display: none;\n",
              "      fill: #1967D2;\n",
              "      height: 32px;\n",
              "      padding: 0 0 0 0;\n",
              "      width: 32px;\n",
              "    }\n",
              "\n",
              "    .colab-df-convert:hover {\n",
              "      background-color: #E2EBFA;\n",
              "      box-shadow: 0px 1px 2px rgba(60, 64, 67, 0.3), 0px 1px 3px 1px rgba(60, 64, 67, 0.15);\n",
              "      fill: #174EA6;\n",
              "    }\n",
              "\n",
              "    [theme=dark] .colab-df-convert {\n",
              "      background-color: #3B4455;\n",
              "      fill: #D2E3FC;\n",
              "    }\n",
              "\n",
              "    [theme=dark] .colab-df-convert:hover {\n",
              "      background-color: #434B5C;\n",
              "      box-shadow: 0px 1px 3px 1px rgba(0, 0, 0, 0.15);\n",
              "      filter: drop-shadow(0px 1px 2px rgba(0, 0, 0, 0.3));\n",
              "      fill: #FFFFFF;\n",
              "    }\n",
              "  </style>\n",
              "\n",
              "      <script>\n",
              "        const buttonEl =\n",
              "          document.querySelector('#df-e2c115a3-7c9e-47ef-bb40-453aea9259d6 button.colab-df-convert');\n",
              "        buttonEl.style.display =\n",
              "          google.colab.kernel.accessAllowed ? 'block' : 'none';\n",
              "\n",
              "        async function convertToInteractive(key) {\n",
              "          const element = document.querySelector('#df-e2c115a3-7c9e-47ef-bb40-453aea9259d6');\n",
              "          const dataTable =\n",
              "            await google.colab.kernel.invokeFunction('convertToInteractive',\n",
              "                                                     [key], {});\n",
              "          if (!dataTable) return;\n",
              "\n",
              "          const docLinkHtml = 'Like what you see? Visit the ' +\n",
              "            '<a target=\"_blank\" href=https://colab.research.google.com/notebooks/data_table.ipynb>data table notebook</a>'\n",
              "            + ' to learn more about interactive tables.';\n",
              "          element.innerHTML = '';\n",
              "          dataTable['output_type'] = 'display_data';\n",
              "          await google.colab.output.renderOutput(dataTable, element);\n",
              "          const docLink = document.createElement('div');\n",
              "          docLink.innerHTML = docLinkHtml;\n",
              "          element.appendChild(docLink);\n",
              "        }\n",
              "      </script>\n",
              "    </div>\n",
              "  </div>\n",
              "  "
            ]
          },
          "metadata": {},
          "execution_count": 5
        }
      ]
    },
    {
      "cell_type": "code",
      "source": [
        "len(set(keyword_df[\"KEYWORDS\"].to_list()))"
      ],
      "metadata": {
        "colab": {
          "base_uri": "https://localhost:8080/"
        },
        "id": "xYlHAm4FwqLF",
        "outputId": "8143207d-b6b6-4704-98b2-18ef8498da51"
      },
      "execution_count": null,
      "outputs": [
        {
          "output_type": "execute_result",
          "data": {
            "text/plain": [
              "284"
            ]
          },
          "metadata": {},
          "execution_count": 10
        }
      ]
    },
    {
      "cell_type": "code",
      "source": [
        "# remove duplicates and NaN\n",
        "keywords = [word for word in list(set(keyword_df[\"KEYWORDS\"].to_list())) if type(word) is str]"
      ],
      "metadata": {
        "id": "-WCQHOYOxI2X"
      },
      "execution_count": null,
      "outputs": []
    },
    {
      "cell_type": "code",
      "source": [
        "ocr_sample = pd.read_csv(\"ocr_page.csv\", encoding=\"cp1252\")\n",
        "ocr_sample.head()"
      ],
      "metadata": {
        "colab": {
          "base_uri": "https://localhost:8080/",
          "height": 206
        },
        "id": "5kBmKug3yJMI",
        "outputId": "4b9c1277-74e5-4e28-e950-362ae18a109e"
      },
      "execution_count": null,
      "outputs": [
        {
          "output_type": "execute_result",
          "data": {
            "text/plain": [
              "   PAGEID                                        OCR_CONTENT  \\\n",
              "0  104707  PACIFIC LIFE INSURANCE COMPANY\\n\\nLife Insuran...   \n",
              "1  104708   \\r\\n\\r\\nTEMPORARY INSURANCE AGREEMENT (TIA)\\r...   \n",
              "2  104709  PACIFIC LIFE INSURANCE COMPANY\\r\\n\\r\\nLife Ins...   \n",
              "3  104710   \\n\\nNON-FORFEITURE PREMIUM CESSATION OPTIONS ...   \n",
              "4  104711   \\n\\nADDITIONAL POLICYOWNER (If more than one ...   \n",
              "\n",
              "                    LOAD_TIMESTAMP  \n",
              "0  26-JAN-22 07.04.57.000000000 PM  \n",
              "1  26-JAN-22 07.04.57.000000000 PM  \n",
              "2  26-JAN-22 07.04.57.000000000 PM  \n",
              "3  26-JAN-22 07.04.57.000000000 PM  \n",
              "4  26-JAN-22 07.04.57.000000000 PM  "
            ],
            "text/html": [
              "\n",
              "  <div id=\"df-69d43397-6a75-41d9-b704-c91abf3ddf18\">\n",
              "    <div class=\"colab-df-container\">\n",
              "      <div>\n",
              "<style scoped>\n",
              "    .dataframe tbody tr th:only-of-type {\n",
              "        vertical-align: middle;\n",
              "    }\n",
              "\n",
              "    .dataframe tbody tr th {\n",
              "        vertical-align: top;\n",
              "    }\n",
              "\n",
              "    .dataframe thead th {\n",
              "        text-align: right;\n",
              "    }\n",
              "</style>\n",
              "<table border=\"1\" class=\"dataframe\">\n",
              "  <thead>\n",
              "    <tr style=\"text-align: right;\">\n",
              "      <th></th>\n",
              "      <th>PAGEID</th>\n",
              "      <th>OCR_CONTENT</th>\n",
              "      <th>LOAD_TIMESTAMP</th>\n",
              "    </tr>\n",
              "  </thead>\n",
              "  <tbody>\n",
              "    <tr>\n",
              "      <th>0</th>\n",
              "      <td>104707</td>\n",
              "      <td>PACIFIC LIFE INSURANCE COMPANY\\n\\nLife Insuran...</td>\n",
              "      <td>26-JAN-22 07.04.57.000000000 PM</td>\n",
              "    </tr>\n",
              "    <tr>\n",
              "      <th>1</th>\n",
              "      <td>104708</td>\n",
              "      <td>\\r\\n\\r\\nTEMPORARY INSURANCE AGREEMENT (TIA)\\r...</td>\n",
              "      <td>26-JAN-22 07.04.57.000000000 PM</td>\n",
              "    </tr>\n",
              "    <tr>\n",
              "      <th>2</th>\n",
              "      <td>104709</td>\n",
              "      <td>PACIFIC LIFE INSURANCE COMPANY\\r\\n\\r\\nLife Ins...</td>\n",
              "      <td>26-JAN-22 07.04.57.000000000 PM</td>\n",
              "    </tr>\n",
              "    <tr>\n",
              "      <th>3</th>\n",
              "      <td>104710</td>\n",
              "      <td>\\n\\nNON-FORFEITURE PREMIUM CESSATION OPTIONS ...</td>\n",
              "      <td>26-JAN-22 07.04.57.000000000 PM</td>\n",
              "    </tr>\n",
              "    <tr>\n",
              "      <th>4</th>\n",
              "      <td>104711</td>\n",
              "      <td>\\n\\nADDITIONAL POLICYOWNER (If more than one ...</td>\n",
              "      <td>26-JAN-22 07.04.57.000000000 PM</td>\n",
              "    </tr>\n",
              "  </tbody>\n",
              "</table>\n",
              "</div>\n",
              "      <button class=\"colab-df-convert\" onclick=\"convertToInteractive('df-69d43397-6a75-41d9-b704-c91abf3ddf18')\"\n",
              "              title=\"Convert this dataframe to an interactive table.\"\n",
              "              style=\"display:none;\">\n",
              "        \n",
              "  <svg xmlns=\"http://www.w3.org/2000/svg\" height=\"24px\"viewBox=\"0 0 24 24\"\n",
              "       width=\"24px\">\n",
              "    <path d=\"M0 0h24v24H0V0z\" fill=\"none\"/>\n",
              "    <path d=\"M18.56 5.44l.94 2.06.94-2.06 2.06-.94-2.06-.94-.94-2.06-.94 2.06-2.06.94zm-11 1L8.5 8.5l.94-2.06 2.06-.94-2.06-.94L8.5 2.5l-.94 2.06-2.06.94zm10 10l.94 2.06.94-2.06 2.06-.94-2.06-.94-.94-2.06-.94 2.06-2.06.94z\"/><path d=\"M17.41 7.96l-1.37-1.37c-.4-.4-.92-.59-1.43-.59-.52 0-1.04.2-1.43.59L10.3 9.45l-7.72 7.72c-.78.78-.78 2.05 0 2.83L4 21.41c.39.39.9.59 1.41.59.51 0 1.02-.2 1.41-.59l7.78-7.78 2.81-2.81c.8-.78.8-2.07 0-2.86zM5.41 20L4 18.59l7.72-7.72 1.47 1.35L5.41 20z\"/>\n",
              "  </svg>\n",
              "      </button>\n",
              "      \n",
              "  <style>\n",
              "    .colab-df-container {\n",
              "      display:flex;\n",
              "      flex-wrap:wrap;\n",
              "      gap: 12px;\n",
              "    }\n",
              "\n",
              "    .colab-df-convert {\n",
              "      background-color: #E8F0FE;\n",
              "      border: none;\n",
              "      border-radius: 50%;\n",
              "      cursor: pointer;\n",
              "      display: none;\n",
              "      fill: #1967D2;\n",
              "      height: 32px;\n",
              "      padding: 0 0 0 0;\n",
              "      width: 32px;\n",
              "    }\n",
              "\n",
              "    .colab-df-convert:hover {\n",
              "      background-color: #E2EBFA;\n",
              "      box-shadow: 0px 1px 2px rgba(60, 64, 67, 0.3), 0px 1px 3px 1px rgba(60, 64, 67, 0.15);\n",
              "      fill: #174EA6;\n",
              "    }\n",
              "\n",
              "    [theme=dark] .colab-df-convert {\n",
              "      background-color: #3B4455;\n",
              "      fill: #D2E3FC;\n",
              "    }\n",
              "\n",
              "    [theme=dark] .colab-df-convert:hover {\n",
              "      background-color: #434B5C;\n",
              "      box-shadow: 0px 1px 3px 1px rgba(0, 0, 0, 0.15);\n",
              "      filter: drop-shadow(0px 1px 2px rgba(0, 0, 0, 0.3));\n",
              "      fill: #FFFFFF;\n",
              "    }\n",
              "  </style>\n",
              "\n",
              "      <script>\n",
              "        const buttonEl =\n",
              "          document.querySelector('#df-69d43397-6a75-41d9-b704-c91abf3ddf18 button.colab-df-convert');\n",
              "        buttonEl.style.display =\n",
              "          google.colab.kernel.accessAllowed ? 'block' : 'none';\n",
              "\n",
              "        async function convertToInteractive(key) {\n",
              "          const element = document.querySelector('#df-69d43397-6a75-41d9-b704-c91abf3ddf18');\n",
              "          const dataTable =\n",
              "            await google.colab.kernel.invokeFunction('convertToInteractive',\n",
              "                                                     [key], {});\n",
              "          if (!dataTable) return;\n",
              "\n",
              "          const docLinkHtml = 'Like what you see? Visit the ' +\n",
              "            '<a target=\"_blank\" href=https://colab.research.google.com/notebooks/data_table.ipynb>data table notebook</a>'\n",
              "            + ' to learn more about interactive tables.';\n",
              "          element.innerHTML = '';\n",
              "          dataTable['output_type'] = 'display_data';\n",
              "          await google.colab.output.renderOutput(dataTable, element);\n",
              "          const docLink = document.createElement('div');\n",
              "          docLink.innerHTML = docLinkHtml;\n",
              "          element.appendChild(docLink);\n",
              "        }\n",
              "      </script>\n",
              "    </div>\n",
              "  </div>\n",
              "  "
            ]
          },
          "metadata": {},
          "execution_count": 6
        }
      ]
    },
    {
      "cell_type": "markdown",
      "source": [
        "##Preparing query content"
      ],
      "metadata": {
        "id": "XxdjpFFrwSJy"
      }
    },
    {
      "cell_type": "code",
      "source": [
        "ocr_sample[\"OCR_CONTENT\"][1].split(\"\\n\")[:10]"
      ],
      "metadata": {
        "id": "DaMG9zI5BQy8",
        "outputId": "9817ec15-8d5a-486f-f5bc-32d9e77a582f",
        "colab": {
          "base_uri": "https://localhost:8080/"
        }
      },
      "execution_count": null,
      "outputs": [
        {
          "output_type": "execute_result",
          "data": {
            "text/plain": [
              "[' \\r',\n",
              " '\\r',\n",
              " 'TEMPORARY INSURANCE AGREEMENT (TIA)\\r',\n",
              " '\\r',\n",
              " 'Quali?cations\\r',\n",
              " 'To qualify for temporary alcoholic hepatitis, the Proposed Insured(s) must be over 15 days of age or under age 70, and able to answer “No\" to all of the\\r',\n",
              " 'questions on the Temporary Insurance Agreement.\\r',\n",
              " 'Limits\\r',\n",
              " '- The TIA is limited to $1,000,000 for individual products and $1,500,000 for Second-to-Die products.\\r',\n",
              " '- For Monthly Bene?t Term Life Insurance only, the TIA is limited to the lesser ofthe Monthly Bene?t applied for or a Monthly Bene?t amount of $5,001\\r']"
            ]
          },
          "metadata": {},
          "execution_count": 7
        }
      ]
    },
    {
      "cell_type": "code",
      "source": [
        "# converting text to sentences\n",
        "sentences_list = []\n",
        "sentences = ocr_sample[\"OCR_CONTENT\"][1].split(\"\\n\")\n",
        "for sentence in sentences:\n",
        "  if sentence != \"\":\n",
        "    sentences_list.append(sentence)\n",
        "sentences_list[:10]"
      ],
      "metadata": {
        "id": "5knJVV4WDo23",
        "outputId": "46d04232-8250-49c2-cefe-9bbcc8a9be94",
        "colab": {
          "base_uri": "https://localhost:8080/"
        }
      },
      "execution_count": null,
      "outputs": [
        {
          "output_type": "execute_result",
          "data": {
            "text/plain": [
              "[' \\r',\n",
              " '\\r',\n",
              " 'TEMPORARY INSURANCE AGREEMENT (TIA)\\r',\n",
              " '\\r',\n",
              " 'Quali?cations\\r',\n",
              " 'To qualify for temporary alcoholic hepatitis, the Proposed Insured(s) must be over 15 days of age or under age 70, and able to answer “No\" to all of the\\r',\n",
              " 'questions on the Temporary Insurance Agreement.\\r',\n",
              " 'Limits\\r',\n",
              " '- The TIA is limited to $1,000,000 for individual products and $1,500,000 for Second-to-Die products.\\r',\n",
              " '- For Monthly Bene?t Term Life Insurance only, the TIA is limited to the lesser ofthe Monthly Bene?t applied for or a Monthly Bene?t amount of $5,001\\r']"
            ]
          },
          "metadata": {},
          "execution_count": 75
        }
      ]
    },
    {
      "cell_type": "code",
      "source": [
        "contents = ocr_sample[\"OCR_CONTENT\"][1].replace(\"\\r\\n\", \"\").split(\".\")\n",
        "contents"
      ],
      "metadata": {
        "colab": {
          "base_uri": "https://localhost:8080/"
        },
        "id": "RpoRshkXwbrI",
        "outputId": "093337f3-1280-4ec3-b361-0dc4b802fad4"
      },
      "execution_count": null,
      "outputs": [
        {
          "output_type": "execute_result",
          "data": {
            "text/plain": [
              "[' TEMPORARY INSURANCE AGREEMENT (TIA)Quali?cationsTo qualify for temporary alcoholic hepatitis, the Proposed Insured(s) must be over 15 days of age or under age 70, and able to answer “No\" to all of thequestions on the Temporary Insurance Agreement',\n",
              " 'Limits- The TIA is limited to $1,000,000 for individual products and $1,500,000 for Second-to-Die products',\n",
              " '- For Monthly Bene?t Term Life Insurance only, the TIA is limited to the lesser ofthe Monthly Bene?t applied for or a Monthly Bene?t amount of $5,001Initial PremiumThe minimum initial premium that can be submitted with the completed application and the TIA is either 1) 10% of the annual premium, or 2) greater ofone modal premium or three times the monthly initial minimum premium illustrated',\n",
              " 'Submitting- It is preferred that the check for the TIA, application, and TIA form all have the same date',\n",
              " '- If it is not possible to obtain a check at the time the application is completed, the check may be dated up to 3 days later than the TIA and application',\n",
              " '- The check, TIA, and application must be sent to Paci?c Life at the same time',\n",
              " ' REPLACEM ENTsThe Replacement Notice and any other state-required replacement forms must be signed and dated on, or prior to, the application date',\n",
              " ' IfpapenNork submitted does not meet state requirements, the application package may be returned',\n",
              " 'To obtain the most current state replacement forms, refer to State Applications using Quick Links on Lifeline',\n",
              " 'Paci?cLife',\n",
              " 'com',\n",
              " '1998 NAIC Replacement Model Regulation States- For states that have adopted the 1998 NAIC Replacement Model Regulation, the Replacement Notice (15-22390) must be submitted with theapplication if any coverage is inforce, even if a replacement is not invdved',\n",
              " '- If any policy will be replaced, also submit the Sales Material Checklist (15-22363) with the application',\n",
              " '- For a list of the states that have adopted the 1998 NAIC Replacement Model Regulation, refer to Lifeline',\n",
              " ' Paci?cLife',\n",
              " 'com: Underwriting & NewBusiness >> Compliance',\n",
              " 'External Replacements for states that have not adopted the 1998 NAIC Replacement Model Regulation- Submit the applicable state-required replacement form(s)',\n",
              " ' If the state does n_ot have any replacement form requirements, submit Paci?c Life’sReplacement Notice (15-20889)',\n",
              " 'Intemal Replacements- Submit any applicable state-required forms indicated above;- Paci?c Life’s Internal Replacement Request (15-20839) form; and- Signed and dated new business and in force illustrations',\n",
              " '1035 Exchange- Submit the 1035 Exchange Absolute Assignment (15-28979) form with applicable replacement forms indicated above',\n",
              " 'Qualified Plan Transfer of Assets- Submit the Transfer of Quali?ed Plan Assets Request (15-17637) form with applicable replacement forms indicated above',\n",
              " ' SALES ILLUSTRATIONThe complete illustration, including the Producer/Home Of?ce Administration Worksheet and Input page(s) representing how the policy is being appliedfor, must be submitted with the application',\n",
              " ' The illustration information must match the application',\n",
              " ' If not, the application may be amended or endorsed',\n",
              " 'Non-Variable Life Insurance —The Non-Variable Life Products Illustration Acknovrledgment section of the application must be completed',\n",
              " ' If submittingan illustration, the illustration must be signed and dated by the Applicant and Soliciting Producer on or prior to the application date',\n",
              " ' In addition, the rundate must be prior to or the same date as when the illustration is signed',\n",
              " ' How To OBTAIN FORMS- Log in to Paci?c Life’s website for Producers: https://Life|ine',\n",
              " 'PacificLife',\n",
              " 'com',\n",
              " 'o For a full submission package, go to State Applications using the Quick Links section',\n",
              " '0 For individual forms, go to Forms and Sales Materials from the drop-down menu',\n",
              " '- E-mail marketing',\n",
              " 'orders@Paci?cLife',\n",
              " 'com',\n",
              " '- Call Marketing at (800) 800-7681 ext',\n",
              " ' 3920',\n",
              " 'CA 15-29723-03 10/2010\\x0c']"
            ]
          },
          "metadata": {},
          "execution_count": 82
        }
      ]
    },
    {
      "cell_type": "markdown",
      "source": [
        "##Encoding keywords"
      ],
      "metadata": {
        "id": "DgdzdmEWxs0r"
      }
    },
    {
      "cell_type": "code",
      "source": [
        "# Loading the pre-trained model \n",
        "model = SentenceTransformer('distilbert-base-nli-mean-tokens')"
      ],
      "metadata": {
        "id": "BNGk8PABwCxf"
      },
      "execution_count": null,
      "outputs": []
    },
    {
      "cell_type": "code",
      "source": [
        "# create keywords embeddings\n",
        "keyword_embeddings = model.encode(keywords)"
      ],
      "metadata": {
        "id": "J9m5jCaGAWtf"
      },
      "execution_count": null,
      "outputs": []
    },
    {
      "cell_type": "code",
      "source": [
        "keyword_embeddings.shape"
      ],
      "metadata": {
        "colab": {
          "base_uri": "https://localhost:8080/"
        },
        "id": "efdJo9aTx_K9",
        "outputId": "744f8fff-edb5-437f-d15c-a8b8b4b8ae05"
      },
      "execution_count": null,
      "outputs": [
        {
          "output_type": "execute_result",
          "data": {
            "text/plain": [
              "(284, 768)"
            ]
          },
          "metadata": {},
          "execution_count": 15
        }
      ]
    },
    {
      "cell_type": "code",
      "source": [
        "len(keyword_embeddings[0])"
      ],
      "metadata": {
        "colab": {
          "base_uri": "https://localhost:8080/"
        },
        "id": "j_jaNTcXAk91",
        "outputId": "a90fcf02-d5b2-4f9c-d5bf-1fa7ab147fa5"
      },
      "execution_count": null,
      "outputs": [
        {
          "output_type": "execute_result",
          "data": {
            "text/plain": [
              "768"
            ]
          },
          "metadata": {},
          "execution_count": 55
        }
      ]
    },
    {
      "cell_type": "markdown",
      "source": [
        "##Create FAISS index"
      ],
      "metadata": {
        "id": "qMLyvI19yfMq"
      }
    },
    {
      "cell_type": "code",
      "source": [
        "d = keyword_embeddings.shape[1]\n",
        "d"
      ],
      "metadata": {
        "colab": {
          "base_uri": "https://localhost:8080/"
        },
        "id": "Eekj_1-ByVN_",
        "outputId": "f2be0c32-2814-4a90-b78b-b8015c381ca4"
      },
      "execution_count": null,
      "outputs": [
        {
          "output_type": "execute_result",
          "data": {
            "text/plain": [
              "768"
            ]
          },
          "metadata": {},
          "execution_count": 30
        }
      ]
    },
    {
      "cell_type": "code",
      "source": [
        "# Let's define the index and add keywords to it\n",
        "index = faiss.IndexFlatL2(d)\n",
        "index.is_trained"
      ],
      "metadata": {
        "id": "jABsLqEXwLIi",
        "colab": {
          "base_uri": "https://localhost:8080/"
        },
        "outputId": "a875a69b-1af8-4e27-f66e-edd58767d263"
      },
      "execution_count": null,
      "outputs": [
        {
          "output_type": "execute_result",
          "data": {
            "text/plain": [
              "True"
            ]
          },
          "metadata": {},
          "execution_count": 31
        }
      ]
    },
    {
      "cell_type": "code",
      "source": [
        "index.add(keyword_embeddings)"
      ],
      "metadata": {
        "id": "lM_g562Cy8iu"
      },
      "execution_count": null,
      "outputs": []
    },
    {
      "cell_type": "code",
      "source": [
        "index.ntotal"
      ],
      "metadata": {
        "colab": {
          "base_uri": "https://localhost:8080/"
        },
        "id": "vfbfahvK0H7y",
        "outputId": "c46c9bcd-5bbf-4f65-9f0b-4fcbb8f9e6b4"
      },
      "execution_count": null,
      "outputs": [
        {
          "output_type": "execute_result",
          "data": {
            "text/plain": [
              "284"
            ]
          },
          "metadata": {},
          "execution_count": 33
        }
      ]
    },
    {
      "cell_type": "markdown",
      "source": [
        "##Search keyword"
      ],
      "metadata": {
        "id": "z03wOYtJ34Kr"
      }
    },
    {
      "cell_type": "markdown",
      "source": [
        "Then search given a query and number of nearest neigbors to return k."
      ],
      "metadata": {
        "id": "3Zviyg5H0X6C"
      }
    },
    {
      "cell_type": "code",
      "source": [
        "k = 10\n",
        "xq = model.encode([\"taking medication for alcohol\"])"
      ],
      "metadata": {
        "id": "WAU4_Z620d9y"
      },
      "execution_count": null,
      "outputs": []
    },
    {
      "cell_type": "code",
      "source": [
        "%%time\n",
        "D, I = index.search(xq, k)  # search\n",
        "print(I)"
      ],
      "metadata": {
        "colab": {
          "base_uri": "https://localhost:8080/"
        },
        "id": "xrGBJl8_0ii4",
        "outputId": "5d585948-6cc7-4ae3-bb01-e32beb7e476a"
      },
      "execution_count": null,
      "outputs": [
        {
          "output_type": "stream",
          "name": "stdout",
          "text": [
            "[[262 144 177  54  32 158 166 140 226 259]]\n",
            "CPU times: user 823 µs, sys: 804 µs, total: 1.63 ms\n",
            "Wall time: 1.11 ms\n"
          ]
        }
      ]
    },
    {
      "cell_type": "code",
      "source": [
        "I.tolist()[0]"
      ],
      "metadata": {
        "colab": {
          "base_uri": "https://localhost:8080/"
        },
        "id": "jEDoshEG6yZf",
        "outputId": "f1fff7fa-4aa6-4d75-9026-2a2ac39f7cfd"
      },
      "execution_count": null,
      "outputs": [
        {
          "output_type": "execute_result",
          "data": {
            "text/plain": [
              "[262, 144, 177, 54, 32, 158, 166, 140, 226, 259]"
            ]
          },
          "metadata": {},
          "execution_count": 46
        }
      ]
    },
    {
      "cell_type": "code",
      "source": [
        "keyword_df[\"KEYWORDS\"].iloc[I.tolist()[0]]"
      ],
      "metadata": {
        "colab": {
          "base_uri": "https://localhost:8080/"
        },
        "id": "LVwFV4OM0jBQ",
        "outputId": "463cf6a1-9574-4fbc-b511-a9cb8e34f13d"
      },
      "execution_count": null,
      "outputs": [
        {
          "output_type": "execute_result",
          "data": {
            "text/plain": [
              "262                                    no use of alcohol\n",
              "144                                    excessive alcohol\n",
              "177                                    hairline fracture\n",
              "54     acting psychotic while under the influence of ...\n",
              "32                                         4 binges/year\n",
              "158                                          broken ribs\n",
              "166                                  disclocated sholder\n",
              "140                                                  DUI\n",
              "226                                          pain relief\n",
              "259                              no alcohol restrictions\n",
              "Name: KEYWORDS, dtype: object"
            ]
          },
          "metadata": {},
          "execution_count": 47
        }
      ]
    },
    {
      "cell_type": "markdown",
      "source": [
        "Now, if we’d rather extract the numerical vectors from Faiss, we can do that too."
      ],
      "metadata": {
        "id": "onWmRis63tGQ"
      }
    },
    {
      "cell_type": "code",
      "source": [
        "# we have k vectors to return (k) - so we initialize a zero array to hold them\n",
        "vectors = np.zeros((k, d))\n",
        "for i, val in enumerate(I[0].tolist()):\n",
        "  vectors[i, :] = index.reconstruct(val)\n",
        "\n",
        "vectors.shape"
      ],
      "metadata": {
        "colab": {
          "base_uri": "https://localhost:8080/"
        },
        "id": "h2slJa2I3tlb",
        "outputId": "1d079ad0-5f16-4b78-ae1b-0d287f6b4bba"
      },
      "execution_count": null,
      "outputs": [
        {
          "output_type": "execute_result",
          "data": {
            "text/plain": [
              "(10, 768)"
            ]
          },
          "metadata": {},
          "execution_count": 38
        }
      ]
    },
    {
      "cell_type": "code",
      "source": [
        "I.tolist()"
      ],
      "metadata": {
        "colab": {
          "base_uri": "https://localhost:8080/"
        },
        "id": "Ex6MRUJs6U6I",
        "outputId": "bf02eef0-84bd-4570-b123-3a8a05d190b6"
      },
      "execution_count": null,
      "outputs": [
        {
          "output_type": "execute_result",
          "data": {
            "text/plain": [
              "[[262, 144, 177, 54, 32, 158, 166, 140, 226, 259]]"
            ]
          },
          "metadata": {},
          "execution_count": 42
        }
      ]
    },
    {
      "cell_type": "markdown",
      "source": [
        "##Generic keyword search"
      ],
      "metadata": {
        "id": "-Mfv_-TBupod"
      }
    },
    {
      "cell_type": "markdown",
      "source": [
        "https://www.pinecone.io/learn/faiss-tutorial/"
      ],
      "metadata": {
        "id": "qi1JQiGS3dBM"
      }
    },
    {
      "cell_type": "code",
      "source": [
        "def make_keyword_index(keyword_embeddings):\n",
        "  d = keyword_embeddings.shape[1]\n",
        "\n",
        "  # Let's define the index and add keywords to it\n",
        "  index = faiss.IndexFlatL2(d)\n",
        "  index.add(keyword_embeddings)\n",
        "\n",
        "  return index\n",
        "\n",
        "keyword_index = make_keyword_index(keyword_embeddings)"
      ],
      "metadata": {
        "id": "IZMEPgm1uuA4"
      },
      "execution_count": null,
      "outputs": []
    },
    {
      "cell_type": "code",
      "source": [
        "def search(query, keyword_index):\n",
        "  t=time.time()\n",
        "  query_vector = model.encode([query])\n",
        "  k = 2\n",
        "  D, I = keyword_index.search(query_vector, k)\n",
        "  #print('totaltime: {}'.format(time.time()-t))\n",
        "  return I.tolist()[0]"
      ],
      "metadata": {
        "id": "Fb068QPxG1cP"
      },
      "execution_count": null,
      "outputs": []
    },
    {
      "cell_type": "code",
      "source": [
        "len(ocr_sample[\"OCR_CONTENT\"][0])"
      ],
      "metadata": {
        "colab": {
          "base_uri": "https://localhost:8080/"
        },
        "id": "aVk66GkS-DiW",
        "outputId": "5b74803f-5d73-476c-a4e4-99b1881ab4a5"
      },
      "execution_count": null,
      "outputs": [
        {
          "output_type": "execute_result",
          "data": {
            "text/plain": [
              "3696"
            ]
          },
          "metadata": {},
          "execution_count": 53
        }
      ]
    },
    {
      "cell_type": "code",
      "source": [
        "sentences_list[:10]"
      ],
      "metadata": {
        "colab": {
          "base_uri": "https://localhost:8080/"
        },
        "id": "gkIsiaJyEIrm",
        "outputId": "7cbc529c-6beb-46de-b022-5348d0f59188"
      },
      "execution_count": null,
      "outputs": [
        {
          "output_type": "execute_result",
          "data": {
            "text/plain": [
              "[' \\r',\n",
              " '\\r',\n",
              " 'TEMPORARY INSURANCE AGREEMENT (TIA)\\r',\n",
              " '\\r',\n",
              " 'Quali?cations\\r',\n",
              " 'To qualify for temporary alcoholic hepatitis, the Proposed Insured(s) must be over 15 days of age or under age 70, and able to answer “No\" to all of the\\r',\n",
              " 'questions on the Temporary Insurance Agreement.\\r',\n",
              " 'Limits\\r',\n",
              " '- The TIA is limited to $1,000,000 for individual products and $1,500,000 for Second-to-Die products.\\r',\n",
              " '- For Monthly Bene?t Term Life Insurance only, the TIA is limited to the lesser ofthe Monthly Bene?t applied for or a Monthly Bene?t amount of $5,001\\r']"
            ]
          },
          "metadata": {},
          "execution_count": 72
        }
      ]
    },
    {
      "cell_type": "code",
      "source": [
        "# performing the search\n",
        "result_list = []\n",
        "content_list = []\n",
        "for sentence in contents:\n",
        "  if  sentence not in [\"\\r\", \" \\r\"]: \n",
        "    print(f\"sentence: {sentence}\")\n",
        "    results=search(sentence, keyword_index)\n",
        "    print(f'results :')\n",
        "    for result in keyword_df[\"KEYWORDS\"].iloc[results]:\n",
        "      print('\\t', result)\n",
        "      result_list.append(result)\n",
        "    content_list.append(sentence)"
      ],
      "metadata": {
        "colab": {
          "base_uri": "https://localhost:8080/"
        },
        "id": "Hh2qRMCh9rb3",
        "outputId": "4692e8c2-a1f7-4aa1-acd4-e9b824f29d6e"
      },
      "execution_count": null,
      "outputs": [
        {
          "output_type": "stream",
          "name": "stdout",
          "text": [
            "sentence:  TEMPORARY INSURANCE AGREEMENT (TIA)Quali?cationsTo qualify for temporary alcoholic hepatitis, the Proposed Insured(s) must be over 15 days of age or under age 70, and able to answer “No\" to all of thequestions on the Temporary Insurance Agreement\n",
            "results :\n",
            "\t Blood\n",
            "\t social use of alcohol\n",
            "sentence: Limits- The TIA is limited to $1,000,000 for individual products and $1,500,000 for Second-to-Die products\n",
            "results :\n",
            "\t advised to limit alcohol consumption\n",
            "\t under the influence\n",
            "sentence: - For Monthly Bene?t Term Life Insurance only, the TIA is limited to the lesser ofthe Monthly Bene?t applied for or a Monthly Bene?t amount of $5,001Initial PremiumThe minimum initial premium that can be submitted with the completed application and the TIA is either 1) 10% of the annual premium, or 2) greater ofone modal premium or three times the monthly initial minimum premium illustrated\n",
            "results :\n",
            "\t Blood\n",
            "\t should not drink\n",
            "sentence: Submitting- It is preferred that the check for the TIA, application, and TIA form all have the same date\n",
            "results :\n",
            "\t excessive alcohol use\n",
            "\t alcohol dependence\n",
            "sentence: - If it is not possible to obtain a check at the time the application is completed, the check may be dated up to 3 days later than the TIA and application\n",
            "results :\n",
            "\t knee replacement\n",
            "\t binge\n",
            "sentence: - The check, TIA, and application must be sent to Paci?c Life at the same time\n",
            "results :\n",
            "\t Activities of Daily Living\n",
            "\t broken ribs\n",
            "sentence:  REPLACEM ENTsThe Replacement Notice and any other state-required replacement forms must be signed and dated on, or prior to, the application date\n",
            "results :\n",
            "\t 8 drinks/day\n",
            "\t broken ribs\n",
            "sentence:  IfpapenNork submitted does not meet state requirements, the application package may be returned\n",
            "results :\n",
            "\t broken ribs\n",
            "\t linear fracture\n",
            "sentence: To obtain the most current state replacement forms, refer to State Applications using Quick Links on Lifeline\n",
            "results :\n",
            "\t knee replacement\n",
            "\t NA program\n",
            "sentence: Paci?cLife\n",
            "results :\n",
            "\t sober living program\n",
            "\t closed fracture\n",
            "sentence: com\n",
            "results :\n",
            "\t nondependent alcohol abuse\n",
            "\t advised to seek treatment for alcohol use\n",
            "sentence: 1998 NAIC Replacement Model Regulation States- For states that have adopted the 1998 NAIC Replacement Model Regulation, the Replacement Notice (15-22390) must be submitted with theapplication if any coverage is inforce, even if a replacement is not invdved\n",
            "results :\n",
            "\t 8 drinks/day\n",
            "\t broken ribs\n",
            "sentence: - If any policy will be replaced, also submit the Sales Material Checklist (15-22363) with the application\n",
            "results :\n",
            "\t broken ribs\n",
            "\t social use of alcohol\n",
            "sentence: - For a list of the states that have adopted the 1998 NAIC Replacement Model Regulation, refer to Lifeline\n",
            "results :\n",
            "\t scotch\n",
            "\t social use of alcohol\n",
            "sentence:  Paci?cLife\n",
            "results :\n",
            "\t sober living program\n",
            "\t closed fracture\n",
            "sentence: com: Underwriting & NewBusiness >> Compliance\n",
            "results :\n",
            "\t excessive alcohol use\n",
            "\t arthroplasty\n",
            "sentence: External Replacements for states that have not adopted the 1998 NAIC Replacement Model Regulation- Submit the applicable state-required replacement form(s)\n",
            "results :\n",
            "\t occasional use of alcohol\n",
            "\t low alcohol use\n",
            "sentence:  If the state does n_ot have any replacement form requirements, submit Paci?c Life’sReplacement Notice (15-20889)\n",
            "results :\n",
            "\t broken ribs\n",
            "\t anterior cervical discectomy\n",
            "sentence: Intemal Replacements- Submit any applicable state-required forms indicated above;- Paci?c Life’s Internal Replacement Request (15-20839) form; and- Signed and dated new business and in force illustrations\n",
            "results :\n",
            "\t broken ribs\n",
            "\t social use of alcohol\n",
            "sentence: 1035 Exchange- Submit the 1035 Exchange Absolute Assignment (15-28979) form with applicable replacement forms indicated above\n",
            "results :\n",
            "\t Activities of Daily Living\n",
            "\t drinks per week\n",
            "sentence: Qualified Plan Transfer of Assets- Submit the Transfer of Quali?ed Plan Assets Request (15-17637) form with applicable replacement forms indicated above\n",
            "results :\n",
            "\t broken ribs\n",
            "\t social use of alcohol\n",
            "sentence:  SALES ILLUSTRATIONThe complete illustration, including the Producer/Home Of?ce Administration Worksheet and Input page(s) representing how the policy is being appliedfor, must be submitted with the application\n",
            "results :\n",
            "\t excessive alcohol use\n",
            "\t broken ribs\n",
            "sentence:  The illustration information must match the application\n",
            "results :\n",
            "\t broken ribs\n",
            "\t pathologic fracture\n",
            "sentence:  If not, the application may be amended or endorsed\n",
            "results :\n",
            "\t skull fracture\n",
            "\t broken ribs\n",
            "sentence: Non-Variable Life Insurance —The Non-Variable Life Products Illustration Acknovrledgment section of the application must be completed\n",
            "results :\n",
            "\t 8 drinks/day\n",
            "\t excessive alcohol use\n",
            "sentence:  If submittingan illustration, the illustration must be signed and dated by the Applicant and Soliciting Producer on or prior to the application date\n",
            "results :\n",
            "\t broken ribs\n",
            "\t 8 drinks/day\n",
            "sentence:  In addition, the rundate must be prior to or the same date as when the illustration is signed\n",
            "results :\n",
            "\t Activities of Daily Living\n",
            "\t booze\n",
            "sentence:  How To OBTAIN FORMS- Log in to Paci?c Life’s website for Producers: https://Life|ine\n",
            "results :\n",
            "\t under the influence of alcohol\n",
            "\t social use of alcohol\n",
            "sentence: PacificLife\n",
            "results :\n",
            "\t ankle replacement\n",
            "\t inebriation\n",
            "sentence: com\n",
            "results :\n",
            "\t nondependent alcohol abuse\n",
            "\t advised to seek treatment for alcohol use\n",
            "sentence: o For a full submission package, go to State Applications using the Quick Links section\n",
            "results :\n",
            "\t social use of alcohol\n",
            "\t knee replacement\n",
            "sentence: 0 For individual forms, go to Forms and Sales Materials from the drop-down menu\n",
            "results :\n",
            "\t linear fracture\n",
            "\t social use of alcohol\n",
            "sentence: - E-mail marketing\n",
            "results :\n",
            "\t 12-Step facilitation\n",
            "\t advised to seek treatment for alcohol use\n",
            "sentence: orders@Paci?cLife\n",
            "results :\n",
            "\t open fracture\n",
            "\t closed fracture\n",
            "sentence: com\n",
            "results :\n",
            "\t nondependent alcohol abuse\n",
            "\t advised to seek treatment for alcohol use\n",
            "sentence: - Call Marketing at (800) 800-7681 ext\n",
            "results :\n",
            "\t prior alcoholic\n",
            "\t transverse fracture\n",
            "sentence:  3920\n",
            "results :\n",
            "\t nondependent alcohol abuse\n",
            "\t inebriation\n",
            "sentence: CA 15-29723-03 10/2010\f\n",
            "results :\n",
            "\t continuous drinking behavior\n",
            "\t under the influence\n"
          ]
        }
      ]
    },
    {
      "cell_type": "code",
      "source": [
        "content_list[:10]"
      ],
      "metadata": {
        "colab": {
          "base_uri": "https://localhost:8080/"
        },
        "id": "GyoWyx0bDrmz",
        "outputId": "a272d652-ee5c-4715-feae-282b613dd116"
      },
      "execution_count": null,
      "outputs": [
        {
          "output_type": "execute_result",
          "data": {
            "text/plain": [
              "['TEMPORARY INSURANCE AGREEMENT (TIA)\\r',\n",
              " 'Quali?cations\\r',\n",
              " 'To qualify for temporary alcoholic hepatitis, the Proposed Insured(s) must be over 15 days of age or under age 70, and able to answer “No\" to all of the\\r',\n",
              " 'questions on the Temporary Insurance Agreement.\\r',\n",
              " 'Limits\\r',\n",
              " '- The TIA is limited to $1,000,000 for individual products and $1,500,000 for Second-to-Die products.\\r',\n",
              " '- For Monthly Bene?t Term Life Insurance only, the TIA is limited to the lesser ofthe Monthly Bene?t applied for or a Monthly Bene?t amount of $5,001\\r',\n",
              " 'Initial Premium\\r',\n",
              " 'The minimum initial premium that can be submitted with the completed application and the TIA is either 1) 10% of the annual premium, or 2) greater of\\r',\n",
              " 'one modal premium or three times the monthly initial minimum premium illustrated.\\r']"
            ]
          },
          "metadata": {},
          "execution_count": 81
        }
      ]
    },
    {
      "cell_type": "code",
      "source": [
        "# performing the search\n",
        "results=search(ocr_sample[\"OCR_CONTENT\"][0])\n",
        "print('results :')\n",
        "for result in results:\n",
        "   print('\\t', result)"
      ],
      "metadata": {
        "id": "qgSGFQIPwh9u",
        "outputId": "a90acbbf-a804-4e59-a6e4-fed2f6916ace",
        "colab": {
          "base_uri": "https://localhost:8080/"
        }
      },
      "execution_count": null,
      "outputs": [
        {
          "output_type": "stream",
          "name": "stdout",
          "text": [
            "totaltime: 0.019058704376220703\n",
            "results :\n",
            "\t beckham leads as man u cut down depleted juve\n",
            "\t flight attendant action wont affect bundaberg\n",
            "\t french expedition site to be heritage protected\n",
            "\t opposition urged to help protect recherche bay\n",
            "\t canegrowers hope for late summer rain\n"
          ]
        }
      ]
    },
    {
      "cell_type": "code",
      "source": [
        "results=search(ocr_sample[\"OCR_CONTENT\"][1])\n",
        "print('results :')\n",
        "for result in results:\n",
        "   print('\\t', result)"
      ],
      "metadata": {
        "colab": {
          "base_uri": "https://localhost:8080/"
        },
        "id": "p0W3E8U74ZZt",
        "outputId": "9c8e7128-2795-49ff-d80e-680a48cbdb4e"
      },
      "execution_count": null,
      "outputs": [
        {
          "output_type": "stream",
          "name": "stdout",
          "text": [
            "totaltime: 0.017243385314941406\n",
            "results :\n",
            "\t opposition urged to help protect recherche bay\n",
            "\t orientation begins for uni students\n",
            "\t onesteel to invest 80m in whyalla steelworks\n",
            "\t brigadier dismisses reports troops harassed in\n",
            "\t flight attendant action wont affect bundaberg\n"
          ]
        }
      ]
    },
    {
      "cell_type": "code",
      "source": [
        "results=search(ocr_sample[\"OCR_CONTENT\"][2])\n",
        "print('results :')\n",
        "for result in results:\n",
        "   print('\\t', result)"
      ],
      "metadata": {
        "id": "beixz0I2vqlu",
        "outputId": "563da045-78e4-4a7e-e849-aa3ead30ef4a",
        "colab": {
          "base_uri": "https://localhost:8080/"
        }
      },
      "execution_count": null,
      "outputs": [
        {
          "output_type": "stream",
          "name": "stdout",
          "text": [
            "totaltime: 0.017183780670166016\n",
            "results :\n",
            "\t opposition urged to help protect recherche bay\n",
            "\t beckham leads as man u cut down depleted juve\n",
            "\t orientation begins for uni students\n",
            "\t mp rejects ambulance levy claims\n",
            "\t last minute call hands alinghi big lead\n"
          ]
        }
      ]
    },
    {
      "cell_type": "code",
      "source": [
        "results=search(ocr_sample[\"OCR_CONTENT\"][3])\n",
        "print('results :')\n",
        "for result in results:\n",
        "   print('\\t', result)"
      ],
      "metadata": {
        "colab": {
          "base_uri": "https://localhost:8080/"
        },
        "id": "jqNeNpxb3_XJ",
        "outputId": "efa47d46-1149-47d3-e72f-5324b18abf86"
      },
      "execution_count": null,
      "outputs": [
        {
          "output_type": "stream",
          "name": "stdout",
          "text": [
            "totaltime: 0.021990537643432617\n",
            "results :\n",
            "\t flight attendant action wont affect bundaberg\n",
            "\t last minute call hands alinghi big lead\n",
            "\t french expedition site to be heritage protected\n",
            "\t health minister backs organ and tissue storage\n",
            "\t blizzard buries united states in bills\n"
          ]
        }
      ]
    },
    {
      "cell_type": "code",
      "source": [
        "results=search(ocr_sample[\"OCR_CONTENT\"][4])\n",
        "print('results :')\n",
        "for result in results:\n",
        "   print('\\t', result)"
      ],
      "metadata": {
        "id": "_D_-dJJqwRxB",
        "outputId": "31c92073-bf97-4cd1-90a1-d5e864892e55",
        "colab": {
          "base_uri": "https://localhost:8080/"
        }
      },
      "execution_count": null,
      "outputs": [
        {
          "output_type": "stream",
          "name": "stdout",
          "text": [
            "totaltime: 0.020436525344848633\n",
            "results :\n",
            "\t martin to lobby against losing nt seat in fed\n",
            "\t flight attendant action wont affect bundaberg\n",
            "\t blizzard buries united states in bills\n",
            "\t french expedition site to be heritage protected\n",
            "\t last minute call hands alinghi big lead\n"
          ]
        }
      ]
    },
    {
      "cell_type": "code",
      "source": [
        "query = \"American celebrity public speech\"\n",
        "results=search(\"Each sentence is converted\")\n",
        "print('results :')\n",
        "for result in results:\n",
        "   print('\\t', result)"
      ],
      "metadata": {
        "id": "H2VLkQEELEOe",
        "outputId": "e1028bb9-1073-4746-a5e6-49db1193c044",
        "colab": {
          "base_uri": "https://localhost:8080/"
        }
      },
      "execution_count": null,
      "outputs": [
        {
          "output_type": "stream",
          "name": "stdout",
          "text": [
            "totaltime: 0.013369321823120117\n",
            "results :\n",
            "\t reading go third in first division\n",
            "\t aussie qualifier stosur wastes four memphis match\n",
            "\t police defend aboriginal tent embassy raid\n",
            "\t refshauge wins defamation court case\n",
            "\t code of conduct toughens organ donation regulations\n"
          ]
        }
      ]
    }
  ]
}