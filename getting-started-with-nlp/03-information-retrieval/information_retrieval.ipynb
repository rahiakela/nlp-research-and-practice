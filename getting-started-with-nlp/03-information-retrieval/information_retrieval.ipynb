{
  "nbformat": 4,
  "nbformat_minor": 0,
  "metadata": {
    "colab": {
      "provenance": [],
      "toc_visible": true,
      "authorship_tag": "ABX9TyPXuBa7JejUJW+6n9atR6Z2",
      "include_colab_link": true
    },
    "kernelspec": {
      "name": "python3",
      "display_name": "Python 3"
    },
    "language_info": {
      "name": "python"
    }
  },
  "cells": [
    {
      "cell_type": "markdown",
      "metadata": {
        "id": "view-in-github",
        "colab_type": "text"
      },
      "source": [
        "<a href=\"https://colab.research.google.com/github/rahiakela/nlp-research-and-practice/blob/main/getting-started-with-nlp/03-information-retrieval/information_retrieval.ipynb\" target=\"_parent\"><img src=\"https://colab.research.google.com/assets/colab-badge.svg\" alt=\"Open In Colab\"/></a>"
      ]
    },
    {
      "cell_type": "markdown",
      "source": [
        "##Information Retrieval"
      ],
      "metadata": {
        "id": "pPnk7t1ZVcoL"
      }
    },
    {
      "cell_type": "markdown",
      "source": [
        "You might have come across the term information retrieval in the context of\n",
        "search engines; for example, Google famously started its business by providing a\n",
        "powerful search algorithm that kept improving over time. The search for information,\n",
        "however, is a basic need that you may face beyond searching online.\n",
        "\n",
        "For\n",
        "instance, every time you search for the files on your computer, you are performing\n",
        "a sort of information retrieval.\n",
        "\n",
        "Information search is based on\n",
        "the idea that the content of a document or set of documents is relevant given the content\n",
        "of a particular query, so a documents data structure should keep the contents of\n",
        "all available documents for the algorithm to select from.\n",
        "\n"
      ],
      "metadata": {
        "id": "agOlcZQuVdZj"
      }
    },
    {
      "cell_type": "markdown",
      "source": [
        "##Setup"
      ],
      "metadata": {
        "id": "yDE2FJXVX9OY"
      }
    },
    {
      "cell_type": "code",
      "source": [
        "import math\n",
        "import string\n",
        "import nltk\n",
        "from nltk import word_tokenize\n",
        "from nltk.corpus import stopwords\n",
        "from nltk import word_tokenize, WordNetLemmatizer, pos_tag\n",
        "from nltk.corpus import stopwords\n",
        "from nltk.stem.lancaster import LancasterStemmer\n",
        "from operator import itemgetter"
      ],
      "metadata": {
        "id": "tP1a1ShAX-iq"
      },
      "execution_count": null,
      "outputs": []
    },
    {
      "cell_type": "markdown",
      "source": [
        "##Dataset"
      ],
      "metadata": {
        "id": "tUyrhVHiX-0W"
      }
    },
    {
      "cell_type": "markdown",
      "source": [
        "There are three components to this data:\n",
        "\n",
        "* documents with their ids and content-there are 1460 of those to be precise\n",
        "* questions/queries with their ids and content- there are 112 of those;\n",
        "* mapping between the queries and relevant documents\n",
        "\n",
        "First, let's read in documents from the `CISI.ALL` file and store the result in `documents` data structure- set of tuples of document ids matched with contents:"
      ],
      "metadata": {
        "id": "TwIKGc9CYAOr"
      }
    },
    {
      "cell_type": "code",
      "source": [
        "# populate the documents dictionary"
      ],
      "metadata": {
        "id": "Of7iARpdbmzQ"
      },
      "execution_count": null,
      "outputs": []
    }
  ]
}